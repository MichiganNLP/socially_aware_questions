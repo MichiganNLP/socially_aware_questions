{
 "cells": [
  {
   "cell_type": "markdown",
   "metadata": {},
   "source": [
    "# Test model on reader-specific questions\n",
    "We have previously determined that the reader-aware model does (slightly) better on divisive posts.\n",
    "\n",
    "How well does the model do on questions that are highly associated with a specific reader group? E.g. if P(reader == EXPERT) is high (based on classification model or reader traits), does the generation model catch those questions better?"
   ]
  },
  {
   "cell_type": "code",
   "execution_count": 12,
   "metadata": {},
   "outputs": [
    {
     "name": "stdout",
     "output_type": "stream",
     "text": [
      "(53080, 17)\n"
     ]
    }
   ],
   "source": [
    "## load data\n",
    "import torch\n",
    "test_data = torch.load('../../data/reddit_data/combined_data_test_data.pt').data.to_pandas()\n",
    "test_data.rename(columns={'source_text' : 'post', 'target_text' : 'question'}, inplace=True)\n",
    "print(test_data.shape)"
   ]
  },
  {
   "cell_type": "code",
   "execution_count": 5,
   "metadata": {},
   "outputs": [],
   "source": [
    "## load data cleaning PCA models\n",
    "import pickle\n",
    "PCA_post_embed_model = pickle.load(open('../../data/reddit_data/group_classification_model/PCA_model_embed=post_encoded.pkl', 'rb'))\n",
    "PCA_question_embed_model = pickle.load(open('../../data/reddit_data/group_classification_model/PCA_model_embed=question_encoded.pkl', 'rb'))"
   ]
  },
  {
   "cell_type": "code",
   "execution_count": 6,
   "metadata": {},
   "outputs": [],
   "source": [
    "## load classification models\n",
    "import os\n",
    "reader_groups = ['relative_time_bin', 'expert_pct_bin', 'location_region']\n",
    "reader_group_default_class = {\n",
    "    'relative_time_bin' : '0.0',\n",
    "    'expert_pct_bin' : '0.0',\n",
    "    'location_region' : 'NONUS',\n",
    "}\n",
    "reader_group_models = {}\n",
    "model_dir = '../../data/reddit_data/group_classification_model/question_post_data/'\n",
    "for reader_group_i in reader_groups:\n",
    "    default_class_i = reader_group_default_class[reader_group_i]\n",
    "    model_file_i = os.path.join(model_dir, f'MLP_prediction_group={reader_group_i}_class1={default_class_i}.pkl')\n",
    "    reader_group_models[reader_group_i] = pickle.load(open(model_file_i, 'rb'))"
   ]
  },
  {
   "cell_type": "code",
   "execution_count": 18,
   "metadata": {
    "scrolled": true
   },
   "outputs": [
    {
     "data": {
      "application/vnd.jupyter.widget-view+json": {
       "model_id": "93c37bbeb2054be8b1c30e4d43ebbd9c",
       "version_major": 2,
       "version_minor": 0
      },
      "text/plain": [
       "Batches:   0%|          | 0/3318 [00:00<?, ?it/s]"
      ]
     },
     "metadata": {},
     "output_type": "display_data"
    },
    {
     "data": {
      "application/vnd.jupyter.widget-view+json": {
       "model_id": "99fe29f0b6f44fa0a8dd769caef11574",
       "version_major": 2,
       "version_minor": 0
      },
      "text/plain": [
       "Batches:   0%|          | 0/3318 [00:00<?, ?it/s]"
      ]
     },
     "metadata": {},
     "output_type": "display_data"
    }
   ],
   "source": [
    "## load embedding model\n",
    "from importlib import reload\n",
    "import model_helpers\n",
    "reload(model_helpers)\n",
    "from model_helpers import load_sentence_embed_model\n",
    "sentence_embed_model = load_sentence_embed_model()\n",
    "# encode data\n",
    "import torch\n",
    "embed_vars = ['question', 'post']\n",
    "for embed_var_i in embed_vars:\n",
    "    encode_var_i = f'{embed_var_i}_encoded'\n",
    "    encoding_i = sentence_embed_model.encode(test_data.loc[:, embed_var_i].values, batch_size=16, device=torch.cuda.current_device(), show_progress_bar=True)\n",
    "    test_data = test_data.assign(**{\n",
    "        encode_var_i : [encoding_i[i, :] for i in range(encoding_i.shape[0])],\n",
    "    })"
   ]
  },
  {
   "cell_type": "code",
   "execution_count": 76,
   "metadata": {},
   "outputs": [],
   "source": [
    "## use PCA to compress data\n",
    "import numpy as np\n",
    "PCA_models = [PCA_question_embed_model, PCA_post_embed_model]\n",
    "for embed_var_i, PCA_model_i in zip(embed_vars, PCA_models):\n",
    "    encode_var_i = f'{embed_var_i}_encoded'\n",
    "    mat_i = np.vstack(test_data.loc[:, encode_var_i].values)\n",
    "    reduce_mat_i = PCA_model_i.fit_transform(mat_i)\n",
    "    test_data = test_data.assign(**{\n",
    "        f'PCA_{encode_var_i}': [reduce_mat_i[i, :] for i in range(reduce_mat_i.shape[0])]\n",
    "    })"
   ]
  },
  {
   "cell_type": "code",
   "execution_count": 74,
   "metadata": {
    "scrolled": true
   },
   "outputs": [],
   "source": [
    "## assign labels\n",
    "reader_group_category_lookup = {\n",
    "    'expert_pct_bin' : ['<EXPERT_PCT_0_AUTHOR>', '<EXPERT_PCT_1_AUTHOR>'],\n",
    "    'relative_time_bin' : ['<RESPONSE_TIME_0_AUTHOR>', '<RESPONSE_TIME_1_AUTHOR>'],\n",
    "    'location_region' : ['<NONUS_AUTHOR>', '<US_AUTHOR>'],\n",
    "    'UNK' : ['UNK']\n",
    "}\n",
    "reader_group_category_lookup = {\n",
    "    v1 : k for k, v in reader_group_category_lookup.items() for v1 in v\n",
    "}\n",
    "test_data = test_data.assign(**{\n",
    "    'reader_group' : test_data.loc[:, 'reader_token_str'].apply(lambda x: reader_group_category_lookup[x])\n",
    "})\n",
    "reader_group_default_class_str = {\n",
    "    'relative_time_bin' : '<RESPONSE_TIME_0_AUTHOR>',\n",
    "    'expert_pct_bin' : '<EXPERT_PCT_0_AUTHOR>',\n",
    "    'location_region' : '<NONUS_AUTHOR>',\n",
    "    'UNK' : 'UNK'\n",
    "}\n",
    "test_data = test_data.assign(**{\n",
    "    'reader_group_class' : test_data.apply(lambda x: int(x.loc['reader_token_str']==reader_group_default_class_str[x.loc['reader_group']]), axis=1)\n",
    "})"
   ]
  },
  {
   "cell_type": "code",
   "execution_count": 77,
   "metadata": {},
   "outputs": [],
   "source": [
    "## predict class for all reader groups\n",
    "import pandas as pd\n",
    "reader_groups = ['relative_time_bin', 'expert_pct_bin', 'location_region']\n",
    "pred_test_data = []\n",
    "for reader_group_i in reader_groups:\n",
    "    # clean data etc.\n",
    "    test_data_i = test_data[test_data.loc[:, 'reader_group']==reader_group_i]\n",
    "    question_post_text_i = np.hstack([np.vstack(test_data_i.loc[:, 'PCA_question_encoded'].values), np.vstack(test_data_i.loc[:, 'PCA_post_encoded'].values)])\n",
    "    # do prediction!!\n",
    "    reader_group_model_i = reader_group_models[reader_group_i]\n",
    "    pred_prob_i = reader_group_model_i.predict_proba(question_post_text_i)\n",
    "    test_data_i = test_data_i.assign(**{\n",
    "        'reader_group_class_pred' : np.argmax(pred_prob_i, axis=1)\n",
    "    })\n",
    "    test_data_i = test_data_i.assign(**{\n",
    "        'reader_group_class_pred_prob' : np.max(pred_prob_i, axis=1)\n",
    "    })\n",
    "    pred_test_data.append(test_data_i)\n",
    "pred_test_data = pd.concat(pred_test_data, axis=0)"
   ]
  },
  {
   "cell_type": "code",
   "execution_count": 78,
   "metadata": {
    "scrolled": true
   },
   "outputs": [
    {
     "name": "stdout",
     "output_type": "stream",
     "text": [
      "label dist =\n",
      "1    10070\n",
      "0     4254\n",
      "Name: reader_group_class, dtype: int64\n",
      "pred dist =\n",
      "0    8242\n",
      "1    6082\n",
      "Name: reader_group_class_pred, dtype: int64\n",
      "reader group = expert_pct_bin has F1=0.463\n",
      "label dist =\n",
      "0    1459\n",
      "1    1189\n",
      "Name: reader_group_class, dtype: int64\n",
      "pred dist =\n",
      "0    1377\n",
      "1    1271\n",
      "Name: reader_group_class_pred, dtype: int64\n",
      "reader group = location_region has F1=0.504\n",
      "label dist =\n",
      "0    8245\n",
      "1    6079\n",
      "Name: reader_group_class, dtype: int64\n",
      "pred dist =\n",
      "0    13338\n",
      "1      986\n",
      "Name: reader_group_class_pred, dtype: int64\n",
      "reader group = relative_time_bin has F1=0.412\n"
     ]
    }
   ],
   "source": [
    "## let's check out accuracy\n",
    "from sklearn.metrics import f1_score\n",
    "for reader_group_i, data_i in pred_test_data.groupby('reader_group'):\n",
    "    print(f'label dist =\\n{data_i.loc[:, \"reader_group_class\"].value_counts()}')\n",
    "    print(f'pred dist =\\n{data_i.loc[:, \"reader_group_class_pred\"].value_counts()}')\n",
    "    f1_i = f1_score(data_i.loc[:, 'reader_group_class'].values, data_i.loc[:, 'reader_group_class_pred'].values, average='macro')\n",
    "    print(f'reader group = {reader_group_i} has F1={\"{:.3f}\".format(f1_i)}')"
   ]
  },
  {
   "cell_type": "markdown",
   "metadata": {},
   "source": [
    "This is bad! Maybe there's an issue with data shift?\n",
    "\n",
    "Let's retrain and test the model on balanced data."
   ]
  },
  {
   "cell_type": "code",
   "execution_count": 126,
   "metadata": {
    "scrolled": true
   },
   "outputs": [],
   "source": [
    "## get train data, re-clean etc, combine with test data\n",
    "train_data = torch.load('../../data/reddit_data/combined_data_train_data.pt').data.to_pandas()\n",
    "train_data.rename(columns={'source_text' : 'post', 'target_text' : 'question'}, inplace=True)\n",
    "## assign labels\n",
    "reader_group_category_lookup = {\n",
    "    'expert_pct_bin' : ['<EXPERT_PCT_0_AUTHOR>', '<EXPERT_PCT_1_AUTHOR>'],\n",
    "    'relative_time_bin' : ['<RESPONSE_TIME_0_AUTHOR>', '<RESPONSE_TIME_1_AUTHOR>'],\n",
    "    'location_region' : ['<NONUS_AUTHOR>', '<US_AUTHOR>'],\n",
    "    'UNK' : ['UNK']\n",
    "}\n",
    "reader_group_category_lookup = {\n",
    "    v1 : k for k, v in reader_group_category_lookup.items() for v1 in v\n",
    "}\n",
    "train_data = train_data.assign(**{\n",
    "    'reader_group' : train_data.loc[:, 'reader_token_str'].apply(lambda x: reader_group_category_lookup[x])\n",
    "})\n",
    "reader_group_default_class_str = {\n",
    "    'relative_time_bin' : '<RESPONSE_TIME_0_AUTHOR>',\n",
    "    'expert_pct_bin' : '<EXPERT_PCT_0_AUTHOR>',\n",
    "    'location_region' : '<NONUS_AUTHOR>',\n",
    "    'UNK' : 'UNK'\n",
    "}\n",
    "train_data = train_data.assign(**{\n",
    "    'reader_group_class' : train_data.apply(lambda x: int(x.loc['reader_token_str']==reader_group_default_class_str[x.loc['reader_group']]), axis=1)\n",
    "})\n",
    "train_test_data = pd.concat([train_data, test_data], axis=0)\n",
    "## add subreddit data for later sampling\n",
    "import pandas as pd\n",
    "post_data = pd.read_csv('../../data/reddit_data/subreddit_submissions_2018-01_2019-12.gz', sep='\\t', compression='gzip', usecols=['id', 'subreddit'])\n",
    "post_data.rename(columns={'id' : 'article_id'}, inplace=True)\n",
    "train_test_data = pd.merge(train_test_data, post_data, on='article_id', how='left')"
   ]
  },
  {
   "cell_type": "code",
   "execution_count": 128,
   "metadata": {
    "scrolled": true
   },
   "outputs": [
    {
     "data": {
      "application/vnd.jupyter.widget-view+json": {
       "model_id": "0d27c581fdfd40d8861a19305150269f",
       "version_major": 2,
       "version_minor": 0
      },
      "text/plain": [
       "Batches:   0%|          | 0/8133 [00:00<?, ?it/s]"
      ]
     },
     "metadata": {},
     "output_type": "display_data"
    },
    {
     "data": {
      "application/vnd.jupyter.widget-view+json": {
       "model_id": "342ff00871634b66b0f222e54b2448e8",
       "version_major": 2,
       "version_minor": 0
      },
      "text/plain": [
       "Batches:   0%|          | 0/8133 [00:00<?, ?it/s]"
      ]
     },
     "metadata": {},
     "output_type": "display_data"
    },
    {
     "name": "stderr",
     "output_type": "stream",
     "text": [
      "IOPub message rate exceeded.\n",
      "The notebook server will temporarily stop sending output\n",
      "to the client in order to avoid crashing it.\n",
      "To change this limit, set the config variable\n",
      "`--NotebookApp.iopub_msg_rate_limit`.\n",
      "\n",
      "Current values:\n",
      "NotebookApp.iopub_msg_rate_limit=1000.0 (msgs/sec)\n",
      "NotebookApp.rate_limit_window=3.0 (secs)\n",
      "\n"
     ]
    }
   ],
   "source": [
    "## recompute PCA etc.\n",
    "trained_PCA_models = []\n",
    "sentence_embed_model = load_sentence_embed_model()\n",
    "# encode data\n",
    "import torch\n",
    "from sklearn.decomposition import PCA\n",
    "embed_vars = ['question', 'post']\n",
    "PCA_dim = 100\n",
    "for embed_var_i in embed_vars:\n",
    "    encode_var_i = f'{embed_var_i}_encoded'\n",
    "    encoding_i = sentence_embed_model.encode(train_test_data.loc[:, embed_var_i].values, batch_size=32, device=torch.cuda.current_device(), show_progress_bar=True)\n",
    "    train_test_data = train_test_data.assign(**{\n",
    "        encode_var_i : [encoding_i[i, :] for i in range(encoding_i.shape[0])],\n",
    "    })\n",
    "    # PCA transform\n",
    "    PCA_model_i = PCA(n_components=PCA_dim, random_state=123)\n",
    "    PCA_embed_i = PCA_model_i.fit_transform(np.vstack(train_test_data.loc[:, encode_var_i].values))\n",
    "    train_test_data = train_test_data.assign(**{\n",
    "        f'PCA_{encode_var_i}' : [PCA_embed_i[j, :] for j in range(PCA_embed_i.shape[0])]\n",
    "    })"
   ]
  },
  {
   "cell_type": "code",
   "execution_count": 121,
   "metadata": {
    "scrolled": true
   },
   "outputs": [
    {
     "name": "stdout",
     "output_type": "stream",
     "text": [
      "I'm just confused why she even knows what your documents are?\n"
     ]
    },
    {
     "data": {
      "text/plain": [
       "174807    I'm just confused why she even knows what your...\n",
       "134572    Does she have *any* documents with her real ag...\n",
       "164758    Is there somewhere her father kept most of his...\n",
       "136346    Is there somewhere her father kept most of his...\n",
       "157111                     Do you not have those documents?\n",
       "191358                     Do you not have those documents?\n",
       "105907    Is she just forgetful and/or lazy, or is she t...\n",
       "11449     Though she isn't curious where your entire che...\n",
       "44601     Though she isn't curious where your entire che...\n",
       "117364                 Sp have you actually read her stuff?\n",
       "Name: question, dtype: object"
      ]
     },
     "metadata": {},
     "output_type": "display_data"
    }
   ],
   "source": [
    "# check question nearest neighbors\n",
    "sample_data = train_test_data.iloc[200, :]\n",
    "print(sample_data.loc['question'])\n",
    "sample_question_embed = sample_data.loc['PCA_question_encoded']\n",
    "from sklearn.metrics.pairwise import cosine_similarity\n",
    "sample_question_embed_sim = cosine_similarity(sample_question_embed.reshape(1,-1), np.vstack(train_test_data.loc[:, 'PCA_question_encoded'].values))\n",
    "top_k = 10\n",
    "top_k_sim_data = train_test_data.iloc[np.argsort(sample_question_embed_sim[0])[::-1][1:(top_k+1)], :]\n",
    "display(top_k_sim_data.loc[:, 'question'])"
   ]
  },
  {
   "cell_type": "markdown",
   "metadata": {},
   "source": [
    "OK! These representations are actually meaningful."
   ]
  },
  {
   "cell_type": "code",
   "execution_count": 135,
   "metadata": {},
   "outputs": [
    {
     "name": "stderr",
     "output_type": "stream",
     "text": [
      "1it [02:03, 123.01s/it]"
     ]
    },
    {
     "name": "stdout",
     "output_type": "stream",
     "text": [
      "iter 0 has acc=0.523 F1=0.447\n"
     ]
    },
    {
     "name": "stderr",
     "output_type": "stream",
     "text": [
      "\r",
      "2it [03:50, 114.13s/it]"
     ]
    },
    {
     "name": "stdout",
     "output_type": "stream",
     "text": [
      "iter 1 has acc=0.540 F1=0.464\n"
     ]
    },
    {
     "name": "stderr",
     "output_type": "stream",
     "text": [
      "\r",
      "3it [05:39, 111.68s/it]"
     ]
    },
    {
     "name": "stdout",
     "output_type": "stream",
     "text": [
      "iter 2 has acc=0.512 F1=0.438\n"
     ]
    },
    {
     "name": "stderr",
     "output_type": "stream",
     "text": [
      "\r",
      "4it [07:21, 107.94s/it]"
     ]
    },
    {
     "name": "stdout",
     "output_type": "stream",
     "text": [
      "iter 3 has acc=0.528 F1=0.444\n"
     ]
    },
    {
     "name": "stderr",
     "output_type": "stream",
     "text": [
      "4it [07:48, 117.17s/it]\n"
     ]
    },
    {
     "ename": "KeyboardInterrupt",
     "evalue": "",
     "output_type": "error",
     "traceback": [
      "\u001b[0;31m---------------------------------------------------------------------------\u001b[0m",
      "\u001b[0;31mKeyboardInterrupt\u001b[0m                         Traceback (most recent call last)",
      "\u001b[0;32m<ipython-input-135-f5e247a01a6f>\u001b[0m in \u001b[0;36m<module>\u001b[0;34m\u001b[0m\n\u001b[1;32m     21\u001b[0m         \u001b[0mY_train\u001b[0m\u001b[0;34m,\u001b[0m \u001b[0mY_test\u001b[0m \u001b[0;34m=\u001b[0m \u001b[0mY\u001b[0m\u001b[0;34m[\u001b[0m\u001b[0mtrain_idx\u001b[0m\u001b[0;34m]\u001b[0m\u001b[0;34m,\u001b[0m \u001b[0mY\u001b[0m\u001b[0;34m[\u001b[0m\u001b[0mtest_idx\u001b[0m\u001b[0;34m]\u001b[0m\u001b[0;34m\u001b[0m\u001b[0;34m\u001b[0m\u001b[0m\n\u001b[1;32m     22\u001b[0m         \u001b[0mmodel\u001b[0m \u001b[0;34m=\u001b[0m \u001b[0mMLPClassifier\u001b[0m\u001b[0;34m(\u001b[0m\u001b[0mhidden_layer_sizes\u001b[0m\u001b[0;34m=\u001b[0m\u001b[0;34m[\u001b[0m\u001b[0mlayer_size\u001b[0m\u001b[0;34m,\u001b[0m\u001b[0;34m]\u001b[0m\u001b[0;34m,\u001b[0m \u001b[0mactivation\u001b[0m\u001b[0;34m=\u001b[0m\u001b[0;34m'relu'\u001b[0m\u001b[0;34m,\u001b[0m \u001b[0msolver\u001b[0m\u001b[0;34m=\u001b[0m\u001b[0;34m'lbfgs'\u001b[0m\u001b[0;34m,\u001b[0m \u001b[0mmax_iter\u001b[0m\u001b[0;34m=\u001b[0m\u001b[0;36m1000\u001b[0m\u001b[0;34m,\u001b[0m \u001b[0mrandom_state\u001b[0m\u001b[0;34m=\u001b[0m\u001b[0;36m123\u001b[0m\u001b[0;34m)\u001b[0m\u001b[0;34m\u001b[0m\u001b[0;34m\u001b[0m\u001b[0m\n\u001b[0;32m---> 23\u001b[0;31m         \u001b[0mmodel\u001b[0m\u001b[0;34m.\u001b[0m\u001b[0mfit\u001b[0m\u001b[0;34m(\u001b[0m\u001b[0mX_train\u001b[0m\u001b[0;34m,\u001b[0m \u001b[0mY_train\u001b[0m\u001b[0;34m)\u001b[0m\u001b[0;34m\u001b[0m\u001b[0;34m\u001b[0m\u001b[0m\n\u001b[0m\u001b[1;32m     24\u001b[0m         \u001b[0mY_pred\u001b[0m \u001b[0;34m=\u001b[0m \u001b[0mmodel\u001b[0m\u001b[0;34m.\u001b[0m\u001b[0mpredict\u001b[0m\u001b[0;34m(\u001b[0m\u001b[0mX_test\u001b[0m\u001b[0;34m)\u001b[0m\u001b[0;34m\u001b[0m\u001b[0;34m\u001b[0m\u001b[0m\n\u001b[1;32m     25\u001b[0m         \u001b[0macc_score_j\u001b[0m \u001b[0;34m=\u001b[0m \u001b[0;34m(\u001b[0m\u001b[0mY_pred\u001b[0m\u001b[0;34m==\u001b[0m\u001b[0mY_test\u001b[0m\u001b[0;34m)\u001b[0m\u001b[0;34m.\u001b[0m\u001b[0msum\u001b[0m\u001b[0;34m(\u001b[0m\u001b[0;34m)\u001b[0m \u001b[0;34m/\u001b[0m \u001b[0mlen\u001b[0m\u001b[0;34m(\u001b[0m\u001b[0mY_test\u001b[0m\u001b[0;34m)\u001b[0m\u001b[0;34m\u001b[0m\u001b[0;34m\u001b[0m\u001b[0m\n",
      "\u001b[0;32m~/miniconda3/envs/py3/lib/python3.8/site-packages/sklearn/neural_network/_multilayer_perceptron.py\u001b[0m in \u001b[0;36mfit\u001b[0;34m(self, X, y)\u001b[0m\n\u001b[1;32m    992\u001b[0m         \u001b[0mself\u001b[0m \u001b[0;34m:\u001b[0m \u001b[0mreturns\u001b[0m \u001b[0ma\u001b[0m \u001b[0mtrained\u001b[0m \u001b[0mMLP\u001b[0m \u001b[0mmodel\u001b[0m\u001b[0;34m.\u001b[0m\u001b[0;34m\u001b[0m\u001b[0;34m\u001b[0m\u001b[0m\n\u001b[1;32m    993\u001b[0m         \"\"\"\n\u001b[0;32m--> 994\u001b[0;31m         return self._fit(X, y, incremental=(self.warm_start and\n\u001b[0m\u001b[1;32m    995\u001b[0m                                             hasattr(self, \"classes_\")))\n\u001b[1;32m    996\u001b[0m \u001b[0;34m\u001b[0m\u001b[0m\n",
      "\u001b[0;32m~/miniconda3/envs/py3/lib/python3.8/site-packages/sklearn/neural_network/_multilayer_perceptron.py\u001b[0m in \u001b[0;36m_fit\u001b[0;34m(self, X, y, incremental)\u001b[0m\n\u001b[1;32m    372\u001b[0m         \u001b[0;31m# Run the LBFGS solver\u001b[0m\u001b[0;34m\u001b[0m\u001b[0;34m\u001b[0m\u001b[0;34m\u001b[0m\u001b[0m\n\u001b[1;32m    373\u001b[0m         \u001b[0;32melif\u001b[0m \u001b[0mself\u001b[0m\u001b[0;34m.\u001b[0m\u001b[0msolver\u001b[0m \u001b[0;34m==\u001b[0m \u001b[0;34m'lbfgs'\u001b[0m\u001b[0;34m:\u001b[0m\u001b[0;34m\u001b[0m\u001b[0;34m\u001b[0m\u001b[0m\n\u001b[0;32m--> 374\u001b[0;31m             self._fit_lbfgs(X, y, activations, deltas, coef_grads,\n\u001b[0m\u001b[1;32m    375\u001b[0m                             intercept_grads, layer_units)\n\u001b[1;32m    376\u001b[0m         \u001b[0;32mreturn\u001b[0m \u001b[0mself\u001b[0m\u001b[0;34m\u001b[0m\u001b[0;34m\u001b[0m\u001b[0m\n",
      "\u001b[0;32m~/miniconda3/envs/py3/lib/python3.8/site-packages/sklearn/neural_network/_multilayer_perceptron.py\u001b[0m in \u001b[0;36m_fit_lbfgs\u001b[0;34m(self, X, y, activations, deltas, coef_grads, intercept_grads, layer_units)\u001b[0m\n\u001b[1;32m    458\u001b[0m             \u001b[0miprint\u001b[0m \u001b[0;34m=\u001b[0m \u001b[0;34m-\u001b[0m\u001b[0;36m1\u001b[0m\u001b[0;34m\u001b[0m\u001b[0;34m\u001b[0m\u001b[0m\n\u001b[1;32m    459\u001b[0m \u001b[0;34m\u001b[0m\u001b[0m\n\u001b[0;32m--> 460\u001b[0;31m         opt_res = scipy.optimize.minimize(\n\u001b[0m\u001b[1;32m    461\u001b[0m                 \u001b[0mself\u001b[0m\u001b[0;34m.\u001b[0m\u001b[0m_loss_grad_lbfgs\u001b[0m\u001b[0;34m,\u001b[0m \u001b[0mpacked_coef_inter\u001b[0m\u001b[0;34m,\u001b[0m\u001b[0;34m\u001b[0m\u001b[0;34m\u001b[0m\u001b[0m\n\u001b[1;32m    462\u001b[0m                 \u001b[0mmethod\u001b[0m\u001b[0;34m=\u001b[0m\u001b[0;34m\"L-BFGS-B\"\u001b[0m\u001b[0;34m,\u001b[0m \u001b[0mjac\u001b[0m\u001b[0;34m=\u001b[0m\u001b[0;32mTrue\u001b[0m\u001b[0;34m,\u001b[0m\u001b[0;34m\u001b[0m\u001b[0;34m\u001b[0m\u001b[0m\n",
      "\u001b[0;32m~/miniconda3/envs/py3/lib/python3.8/site-packages/scipy/optimize/_minimize.py\u001b[0m in \u001b[0;36mminimize\u001b[0;34m(fun, x0, args, method, jac, hess, hessp, bounds, constraints, tol, callback, options)\u001b[0m\n\u001b[1;32m    615\u001b[0m                                   **options)\n\u001b[1;32m    616\u001b[0m     \u001b[0;32melif\u001b[0m \u001b[0mmeth\u001b[0m \u001b[0;34m==\u001b[0m \u001b[0;34m'l-bfgs-b'\u001b[0m\u001b[0;34m:\u001b[0m\u001b[0;34m\u001b[0m\u001b[0;34m\u001b[0m\u001b[0m\n\u001b[0;32m--> 617\u001b[0;31m         return _minimize_lbfgsb(fun, x0, args, jac, bounds,\n\u001b[0m\u001b[1;32m    618\u001b[0m                                 callback=callback, **options)\n\u001b[1;32m    619\u001b[0m     \u001b[0;32melif\u001b[0m \u001b[0mmeth\u001b[0m \u001b[0;34m==\u001b[0m \u001b[0;34m'tnc'\u001b[0m\u001b[0;34m:\u001b[0m\u001b[0;34m\u001b[0m\u001b[0;34m\u001b[0m\u001b[0m\n",
      "\u001b[0;32m~/miniconda3/envs/py3/lib/python3.8/site-packages/scipy/optimize/lbfgsb.py\u001b[0m in \u001b[0;36m_minimize_lbfgsb\u001b[0;34m(fun, x0, args, jac, bounds, disp, maxcor, ftol, gtol, eps, maxfun, maxiter, iprint, callback, maxls, finite_diff_rel_step, **unknown_options)\u001b[0m\n\u001b[1;32m    358\u001b[0m             \u001b[0;31m# until the completion of the current minimization iteration.\u001b[0m\u001b[0;34m\u001b[0m\u001b[0;34m\u001b[0m\u001b[0;34m\u001b[0m\u001b[0m\n\u001b[1;32m    359\u001b[0m             \u001b[0;31m# Overwrite f and g:\u001b[0m\u001b[0;34m\u001b[0m\u001b[0;34m\u001b[0m\u001b[0;34m\u001b[0m\u001b[0m\n\u001b[0;32m--> 360\u001b[0;31m             \u001b[0mf\u001b[0m\u001b[0;34m,\u001b[0m \u001b[0mg\u001b[0m \u001b[0;34m=\u001b[0m \u001b[0mfunc_and_grad\u001b[0m\u001b[0;34m(\u001b[0m\u001b[0mx\u001b[0m\u001b[0;34m)\u001b[0m\u001b[0;34m\u001b[0m\u001b[0;34m\u001b[0m\u001b[0m\n\u001b[0m\u001b[1;32m    361\u001b[0m         \u001b[0;32melif\u001b[0m \u001b[0mtask_str\u001b[0m\u001b[0;34m.\u001b[0m\u001b[0mstartswith\u001b[0m\u001b[0;34m(\u001b[0m\u001b[0;34mb'NEW_X'\u001b[0m\u001b[0;34m)\u001b[0m\u001b[0;34m:\u001b[0m\u001b[0;34m\u001b[0m\u001b[0;34m\u001b[0m\u001b[0m\n\u001b[1;32m    362\u001b[0m             \u001b[0;31m# new iteration\u001b[0m\u001b[0;34m\u001b[0m\u001b[0;34m\u001b[0m\u001b[0;34m\u001b[0m\u001b[0m\n",
      "\u001b[0;32m~/miniconda3/envs/py3/lib/python3.8/site-packages/scipy/optimize/_differentiable_functions.py\u001b[0m in \u001b[0;36mfun_and_grad\u001b[0;34m(self, x)\u001b[0m\n\u001b[1;32m    198\u001b[0m         \u001b[0;32mif\u001b[0m \u001b[0;32mnot\u001b[0m \u001b[0mnp\u001b[0m\u001b[0;34m.\u001b[0m\u001b[0marray_equal\u001b[0m\u001b[0;34m(\u001b[0m\u001b[0mx\u001b[0m\u001b[0;34m,\u001b[0m \u001b[0mself\u001b[0m\u001b[0;34m.\u001b[0m\u001b[0mx\u001b[0m\u001b[0;34m)\u001b[0m\u001b[0;34m:\u001b[0m\u001b[0;34m\u001b[0m\u001b[0;34m\u001b[0m\u001b[0m\n\u001b[1;32m    199\u001b[0m             \u001b[0mself\u001b[0m\u001b[0;34m.\u001b[0m\u001b[0m_update_x_impl\u001b[0m\u001b[0;34m(\u001b[0m\u001b[0mx\u001b[0m\u001b[0;34m)\u001b[0m\u001b[0;34m\u001b[0m\u001b[0;34m\u001b[0m\u001b[0m\n\u001b[0;32m--> 200\u001b[0;31m         \u001b[0mself\u001b[0m\u001b[0;34m.\u001b[0m\u001b[0m_update_fun\u001b[0m\u001b[0;34m(\u001b[0m\u001b[0;34m)\u001b[0m\u001b[0;34m\u001b[0m\u001b[0;34m\u001b[0m\u001b[0m\n\u001b[0m\u001b[1;32m    201\u001b[0m         \u001b[0mself\u001b[0m\u001b[0;34m.\u001b[0m\u001b[0m_update_grad\u001b[0m\u001b[0;34m(\u001b[0m\u001b[0;34m)\u001b[0m\u001b[0;34m\u001b[0m\u001b[0;34m\u001b[0m\u001b[0m\n\u001b[1;32m    202\u001b[0m         \u001b[0;32mreturn\u001b[0m \u001b[0mself\u001b[0m\u001b[0;34m.\u001b[0m\u001b[0mf\u001b[0m\u001b[0;34m,\u001b[0m \u001b[0mself\u001b[0m\u001b[0;34m.\u001b[0m\u001b[0mg\u001b[0m\u001b[0;34m\u001b[0m\u001b[0;34m\u001b[0m\u001b[0m\n",
      "\u001b[0;32m~/miniconda3/envs/py3/lib/python3.8/site-packages/scipy/optimize/_differentiable_functions.py\u001b[0m in \u001b[0;36m_update_fun\u001b[0;34m(self)\u001b[0m\n\u001b[1;32m    164\u001b[0m     \u001b[0;32mdef\u001b[0m \u001b[0m_update_fun\u001b[0m\u001b[0;34m(\u001b[0m\u001b[0mself\u001b[0m\u001b[0;34m)\u001b[0m\u001b[0;34m:\u001b[0m\u001b[0;34m\u001b[0m\u001b[0;34m\u001b[0m\u001b[0m\n\u001b[1;32m    165\u001b[0m         \u001b[0;32mif\u001b[0m \u001b[0;32mnot\u001b[0m \u001b[0mself\u001b[0m\u001b[0;34m.\u001b[0m\u001b[0mf_updated\u001b[0m\u001b[0;34m:\u001b[0m\u001b[0;34m\u001b[0m\u001b[0;34m\u001b[0m\u001b[0m\n\u001b[0;32m--> 166\u001b[0;31m             \u001b[0mself\u001b[0m\u001b[0;34m.\u001b[0m\u001b[0m_update_fun_impl\u001b[0m\u001b[0;34m(\u001b[0m\u001b[0;34m)\u001b[0m\u001b[0;34m\u001b[0m\u001b[0;34m\u001b[0m\u001b[0m\n\u001b[0m\u001b[1;32m    167\u001b[0m             \u001b[0mself\u001b[0m\u001b[0;34m.\u001b[0m\u001b[0mf_updated\u001b[0m \u001b[0;34m=\u001b[0m \u001b[0;32mTrue\u001b[0m\u001b[0;34m\u001b[0m\u001b[0;34m\u001b[0m\u001b[0m\n\u001b[1;32m    168\u001b[0m \u001b[0;34m\u001b[0m\u001b[0m\n",
      "\u001b[0;32m~/miniconda3/envs/py3/lib/python3.8/site-packages/scipy/optimize/_differentiable_functions.py\u001b[0m in \u001b[0;36mupdate_fun\u001b[0;34m()\u001b[0m\n\u001b[1;32m     71\u001b[0m \u001b[0;34m\u001b[0m\u001b[0m\n\u001b[1;32m     72\u001b[0m         \u001b[0;32mdef\u001b[0m \u001b[0mupdate_fun\u001b[0m\u001b[0;34m(\u001b[0m\u001b[0;34m)\u001b[0m\u001b[0;34m:\u001b[0m\u001b[0;34m\u001b[0m\u001b[0;34m\u001b[0m\u001b[0m\n\u001b[0;32m---> 73\u001b[0;31m             \u001b[0mself\u001b[0m\u001b[0;34m.\u001b[0m\u001b[0mf\u001b[0m \u001b[0;34m=\u001b[0m \u001b[0mfun_wrapped\u001b[0m\u001b[0;34m(\u001b[0m\u001b[0mself\u001b[0m\u001b[0;34m.\u001b[0m\u001b[0mx\u001b[0m\u001b[0;34m)\u001b[0m\u001b[0;34m\u001b[0m\u001b[0;34m\u001b[0m\u001b[0m\n\u001b[0m\u001b[1;32m     74\u001b[0m \u001b[0;34m\u001b[0m\u001b[0m\n\u001b[1;32m     75\u001b[0m         \u001b[0mself\u001b[0m\u001b[0;34m.\u001b[0m\u001b[0m_update_fun_impl\u001b[0m \u001b[0;34m=\u001b[0m \u001b[0mupdate_fun\u001b[0m\u001b[0;34m\u001b[0m\u001b[0;34m\u001b[0m\u001b[0m\n",
      "\u001b[0;32m~/miniconda3/envs/py3/lib/python3.8/site-packages/scipy/optimize/_differentiable_functions.py\u001b[0m in \u001b[0;36mfun_wrapped\u001b[0;34m(x)\u001b[0m\n\u001b[1;32m     68\u001b[0m         \u001b[0;32mdef\u001b[0m \u001b[0mfun_wrapped\u001b[0m\u001b[0;34m(\u001b[0m\u001b[0mx\u001b[0m\u001b[0;34m)\u001b[0m\u001b[0;34m:\u001b[0m\u001b[0;34m\u001b[0m\u001b[0;34m\u001b[0m\u001b[0m\n\u001b[1;32m     69\u001b[0m             \u001b[0mself\u001b[0m\u001b[0;34m.\u001b[0m\u001b[0mnfev\u001b[0m \u001b[0;34m+=\u001b[0m \u001b[0;36m1\u001b[0m\u001b[0;34m\u001b[0m\u001b[0;34m\u001b[0m\u001b[0m\n\u001b[0;32m---> 70\u001b[0;31m             \u001b[0;32mreturn\u001b[0m \u001b[0mfun\u001b[0m\u001b[0;34m(\u001b[0m\u001b[0mx\u001b[0m\u001b[0;34m,\u001b[0m \u001b[0;34m*\u001b[0m\u001b[0margs\u001b[0m\u001b[0;34m)\u001b[0m\u001b[0;34m\u001b[0m\u001b[0;34m\u001b[0m\u001b[0m\n\u001b[0m\u001b[1;32m     71\u001b[0m \u001b[0;34m\u001b[0m\u001b[0m\n\u001b[1;32m     72\u001b[0m         \u001b[0;32mdef\u001b[0m \u001b[0mupdate_fun\u001b[0m\u001b[0;34m(\u001b[0m\u001b[0;34m)\u001b[0m\u001b[0;34m:\u001b[0m\u001b[0;34m\u001b[0m\u001b[0;34m\u001b[0m\u001b[0m\n",
      "\u001b[0;32m~/miniconda3/envs/py3/lib/python3.8/site-packages/scipy/optimize/optimize.py\u001b[0m in \u001b[0;36m__call__\u001b[0;34m(self, x, *args)\u001b[0m\n\u001b[1;32m     72\u001b[0m     \u001b[0;32mdef\u001b[0m \u001b[0m__call__\u001b[0m\u001b[0;34m(\u001b[0m\u001b[0mself\u001b[0m\u001b[0;34m,\u001b[0m \u001b[0mx\u001b[0m\u001b[0;34m,\u001b[0m \u001b[0;34m*\u001b[0m\u001b[0margs\u001b[0m\u001b[0;34m)\u001b[0m\u001b[0;34m:\u001b[0m\u001b[0;34m\u001b[0m\u001b[0;34m\u001b[0m\u001b[0m\n\u001b[1;32m     73\u001b[0m         \u001b[0;34m\"\"\" returns the the function value \"\"\"\u001b[0m\u001b[0;34m\u001b[0m\u001b[0;34m\u001b[0m\u001b[0m\n\u001b[0;32m---> 74\u001b[0;31m         \u001b[0mself\u001b[0m\u001b[0;34m.\u001b[0m\u001b[0m_compute_if_needed\u001b[0m\u001b[0;34m(\u001b[0m\u001b[0mx\u001b[0m\u001b[0;34m,\u001b[0m \u001b[0;34m*\u001b[0m\u001b[0margs\u001b[0m\u001b[0;34m)\u001b[0m\u001b[0;34m\u001b[0m\u001b[0;34m\u001b[0m\u001b[0m\n\u001b[0m\u001b[1;32m     75\u001b[0m         \u001b[0;32mreturn\u001b[0m \u001b[0mself\u001b[0m\u001b[0;34m.\u001b[0m\u001b[0m_value\u001b[0m\u001b[0;34m\u001b[0m\u001b[0;34m\u001b[0m\u001b[0m\n\u001b[1;32m     76\u001b[0m \u001b[0;34m\u001b[0m\u001b[0m\n",
      "\u001b[0;32m~/miniconda3/envs/py3/lib/python3.8/site-packages/scipy/optimize/optimize.py\u001b[0m in \u001b[0;36m_compute_if_needed\u001b[0;34m(self, x, *args)\u001b[0m\n\u001b[1;32m     66\u001b[0m         \u001b[0;32mif\u001b[0m \u001b[0;32mnot\u001b[0m \u001b[0mnp\u001b[0m\u001b[0;34m.\u001b[0m\u001b[0mall\u001b[0m\u001b[0;34m(\u001b[0m\u001b[0mx\u001b[0m \u001b[0;34m==\u001b[0m \u001b[0mself\u001b[0m\u001b[0;34m.\u001b[0m\u001b[0mx\u001b[0m\u001b[0;34m)\u001b[0m \u001b[0;32mor\u001b[0m \u001b[0mself\u001b[0m\u001b[0;34m.\u001b[0m\u001b[0m_value\u001b[0m \u001b[0;32mis\u001b[0m \u001b[0;32mNone\u001b[0m \u001b[0;32mor\u001b[0m \u001b[0mself\u001b[0m\u001b[0;34m.\u001b[0m\u001b[0mjac\u001b[0m \u001b[0;32mis\u001b[0m \u001b[0;32mNone\u001b[0m\u001b[0;34m:\u001b[0m\u001b[0;34m\u001b[0m\u001b[0;34m\u001b[0m\u001b[0m\n\u001b[1;32m     67\u001b[0m             \u001b[0mself\u001b[0m\u001b[0;34m.\u001b[0m\u001b[0mx\u001b[0m \u001b[0;34m=\u001b[0m \u001b[0mnp\u001b[0m\u001b[0;34m.\u001b[0m\u001b[0masarray\u001b[0m\u001b[0;34m(\u001b[0m\u001b[0mx\u001b[0m\u001b[0;34m)\u001b[0m\u001b[0;34m.\u001b[0m\u001b[0mcopy\u001b[0m\u001b[0;34m(\u001b[0m\u001b[0;34m)\u001b[0m\u001b[0;34m\u001b[0m\u001b[0;34m\u001b[0m\u001b[0m\n\u001b[0;32m---> 68\u001b[0;31m             \u001b[0mfg\u001b[0m \u001b[0;34m=\u001b[0m \u001b[0mself\u001b[0m\u001b[0;34m.\u001b[0m\u001b[0mfun\u001b[0m\u001b[0;34m(\u001b[0m\u001b[0mx\u001b[0m\u001b[0;34m,\u001b[0m \u001b[0;34m*\u001b[0m\u001b[0margs\u001b[0m\u001b[0;34m)\u001b[0m\u001b[0;34m\u001b[0m\u001b[0;34m\u001b[0m\u001b[0m\n\u001b[0m\u001b[1;32m     69\u001b[0m             \u001b[0mself\u001b[0m\u001b[0;34m.\u001b[0m\u001b[0mjac\u001b[0m \u001b[0;34m=\u001b[0m \u001b[0mfg\u001b[0m\u001b[0;34m[\u001b[0m\u001b[0;36m1\u001b[0m\u001b[0;34m]\u001b[0m\u001b[0;34m\u001b[0m\u001b[0;34m\u001b[0m\u001b[0m\n\u001b[1;32m     70\u001b[0m             \u001b[0mself\u001b[0m\u001b[0;34m.\u001b[0m\u001b[0m_value\u001b[0m \u001b[0;34m=\u001b[0m \u001b[0mfg\u001b[0m\u001b[0;34m[\u001b[0m\u001b[0;36m0\u001b[0m\u001b[0;34m]\u001b[0m\u001b[0;34m\u001b[0m\u001b[0;34m\u001b[0m\u001b[0m\n",
      "\u001b[0;32m~/miniconda3/envs/py3/lib/python3.8/site-packages/sklearn/neural_network/_multilayer_perceptron.py\u001b[0m in \u001b[0;36m_loss_grad_lbfgs\u001b[0;34m(self, packed_coef_inter, X, y, activations, deltas, coef_grads, intercept_grads)\u001b[0m\n\u001b[1;32m    174\u001b[0m         \"\"\"\n\u001b[1;32m    175\u001b[0m         \u001b[0mself\u001b[0m\u001b[0;34m.\u001b[0m\u001b[0m_unpack\u001b[0m\u001b[0;34m(\u001b[0m\u001b[0mpacked_coef_inter\u001b[0m\u001b[0;34m)\u001b[0m\u001b[0;34m\u001b[0m\u001b[0;34m\u001b[0m\u001b[0m\n\u001b[0;32m--> 176\u001b[0;31m         loss, coef_grads, intercept_grads = self._backprop(\n\u001b[0m\u001b[1;32m    177\u001b[0m             X, y, activations, deltas, coef_grads, intercept_grads)\n\u001b[1;32m    178\u001b[0m         \u001b[0mgrad\u001b[0m \u001b[0;34m=\u001b[0m \u001b[0m_pack\u001b[0m\u001b[0;34m(\u001b[0m\u001b[0mcoef_grads\u001b[0m\u001b[0;34m,\u001b[0m \u001b[0mintercept_grads\u001b[0m\u001b[0;34m)\u001b[0m\u001b[0;34m\u001b[0m\u001b[0;34m\u001b[0m\u001b[0m\n",
      "\u001b[0;32m~/miniconda3/envs/py3/lib/python3.8/site-packages/sklearn/neural_network/_multilayer_perceptron.py\u001b[0m in \u001b[0;36m_backprop\u001b[0;34m(self, X, y, activations, deltas, coef_grads, intercept_grads)\u001b[0m\n\u001b[1;32m    250\u001b[0m             \u001b[0minplace_derivative\u001b[0m\u001b[0;34m(\u001b[0m\u001b[0mactivations\u001b[0m\u001b[0;34m[\u001b[0m\u001b[0mi\u001b[0m\u001b[0;34m]\u001b[0m\u001b[0;34m,\u001b[0m \u001b[0mdeltas\u001b[0m\u001b[0;34m[\u001b[0m\u001b[0mi\u001b[0m \u001b[0;34m-\u001b[0m \u001b[0;36m1\u001b[0m\u001b[0;34m]\u001b[0m\u001b[0;34m)\u001b[0m\u001b[0;34m\u001b[0m\u001b[0;34m\u001b[0m\u001b[0m\n\u001b[1;32m    251\u001b[0m \u001b[0;34m\u001b[0m\u001b[0m\n\u001b[0;32m--> 252\u001b[0;31m             coef_grads, intercept_grads = self._compute_loss_grad(\n\u001b[0m\u001b[1;32m    253\u001b[0m                 \u001b[0mi\u001b[0m \u001b[0;34m-\u001b[0m \u001b[0;36m1\u001b[0m\u001b[0;34m,\u001b[0m \u001b[0mn_samples\u001b[0m\u001b[0;34m,\u001b[0m \u001b[0mactivations\u001b[0m\u001b[0;34m,\u001b[0m \u001b[0mdeltas\u001b[0m\u001b[0;34m,\u001b[0m \u001b[0mcoef_grads\u001b[0m\u001b[0;34m,\u001b[0m\u001b[0;34m\u001b[0m\u001b[0;34m\u001b[0m\u001b[0m\n\u001b[1;32m    254\u001b[0m                 intercept_grads)\n",
      "\u001b[0;32m~/miniconda3/envs/py3/lib/python3.8/site-packages/sklearn/neural_network/_multilayer_perceptron.py\u001b[0m in \u001b[0;36m_compute_loss_grad\u001b[0;34m(self, layer, n_samples, activations, deltas, coef_grads, intercept_grads)\u001b[0m\n\u001b[1;32m    122\u001b[0m         \u001b[0mThis\u001b[0m \u001b[0mfunction\u001b[0m \u001b[0mdoes\u001b[0m \u001b[0mbackpropagation\u001b[0m \u001b[0;32mfor\u001b[0m \u001b[0mthe\u001b[0m \u001b[0mspecified\u001b[0m \u001b[0mone\u001b[0m \u001b[0mlayer\u001b[0m\u001b[0;34m.\u001b[0m\u001b[0;34m\u001b[0m\u001b[0;34m\u001b[0m\u001b[0m\n\u001b[1;32m    123\u001b[0m         \"\"\"\n\u001b[0;32m--> 124\u001b[0;31m         coef_grads[layer] = safe_sparse_dot(activations[layer].T,\n\u001b[0m\u001b[1;32m    125\u001b[0m                                             deltas[layer])\n\u001b[1;32m    126\u001b[0m         \u001b[0mcoef_grads\u001b[0m\u001b[0;34m[\u001b[0m\u001b[0mlayer\u001b[0m\u001b[0;34m]\u001b[0m \u001b[0;34m+=\u001b[0m \u001b[0;34m(\u001b[0m\u001b[0mself\u001b[0m\u001b[0;34m.\u001b[0m\u001b[0malpha\u001b[0m \u001b[0;34m*\u001b[0m \u001b[0mself\u001b[0m\u001b[0;34m.\u001b[0m\u001b[0mcoefs_\u001b[0m\u001b[0;34m[\u001b[0m\u001b[0mlayer\u001b[0m\u001b[0;34m]\u001b[0m\u001b[0;34m)\u001b[0m\u001b[0;34m\u001b[0m\u001b[0;34m\u001b[0m\u001b[0m\n",
      "\u001b[0;32m~/miniconda3/envs/py3/lib/python3.8/site-packages/sklearn/utils/extmath.py\u001b[0m in \u001b[0;36msafe_sparse_dot\u001b[0;34m(a, b, dense_output)\u001b[0m\n\u001b[1;32m    149\u001b[0m             \u001b[0mret\u001b[0m \u001b[0;34m=\u001b[0m \u001b[0mnp\u001b[0m\u001b[0;34m.\u001b[0m\u001b[0mdot\u001b[0m\u001b[0;34m(\u001b[0m\u001b[0ma\u001b[0m\u001b[0;34m,\u001b[0m \u001b[0mb\u001b[0m\u001b[0;34m)\u001b[0m\u001b[0;34m\u001b[0m\u001b[0;34m\u001b[0m\u001b[0m\n\u001b[1;32m    150\u001b[0m     \u001b[0;32melse\u001b[0m\u001b[0;34m:\u001b[0m\u001b[0;34m\u001b[0m\u001b[0;34m\u001b[0m\u001b[0m\n\u001b[0;32m--> 151\u001b[0;31m         \u001b[0mret\u001b[0m \u001b[0;34m=\u001b[0m \u001b[0ma\u001b[0m \u001b[0;34m@\u001b[0m \u001b[0mb\u001b[0m\u001b[0;34m\u001b[0m\u001b[0;34m\u001b[0m\u001b[0m\n\u001b[0m\u001b[1;32m    152\u001b[0m \u001b[0;34m\u001b[0m\u001b[0m\n\u001b[1;32m    153\u001b[0m     if (sparse.issparse(a) and sparse.issparse(b)\n",
      "\u001b[0;31mKeyboardInterrupt\u001b[0m: "
     ]
    }
   ],
   "source": [
    "from sklearn.model_selection import StratifiedKFold\n",
    "from sklearn.neural_network import MLPClassifier\n",
    "from tqdm import tqdm\n",
    "reader_groups = ['relative_time_bin', 'expert_pct_bin', 'location_region']\n",
    "k_folds = StratifiedKFold(n_splits=10, random_state=123, shuffle=True)\n",
    "layer_size = PCA_dim * 2\n",
    "sample_size = 10000\n",
    "for reader_group_i in reader_groups:\n",
    "    data_i = train_test_data[train_test_data.loc[:, 'reader_group']==reader_group_i]\n",
    "    # tmp debug\n",
    "#     sample_size_i = min(sample_size, data_i.shape[0])\n",
    "#     data_i = data_i.sample(sample_size_i, replace=False, random_state=123)\n",
    "    # sample by subreddit\n",
    "    subreddit_sample_size_i = data_i.loc[:, 'subreddit'].value_counts().min()\n",
    "    sample_data_i = data_i.groupby('subreddit').apply(lambda x: x.sample(subreddit_sample_size_i, replace=False, random_state=123)).reset_index(drop=True)\n",
    "    X = np.hstack([np.vstack(sample_data_i.loc[:, 'PCA_question_encoded'].values), np.vstack(sample_data_i.loc[:, 'PCA_post_encoded'].values)])\n",
    "    Y = sample_data_i.loc[:, 'reader_group_class'].values\n",
    "    acc_scores_i = []\n",
    "    for j, (train_idx, test_idx) in tqdm(enumerate(k_folds.split(X, Y))):\n",
    "        X_train, X_test = X[train_idx, :], X[test_idx, :]\n",
    "        Y_train, Y_test = Y[train_idx], Y[test_idx]\n",
    "        model = MLPClassifier(hidden_layer_sizes=[layer_size,], activation='relu', solver='lbfgs', max_iter=1000, random_state=123)\n",
    "        model.fit(X_train, Y_train)\n",
    "        Y_pred = model.predict(X_test)\n",
    "        acc_score_j = (Y_pred==Y_test).sum() / len(Y_test)\n",
    "        f1_score_j = f1_score(Y_test, Y_pred)\n",
    "        print(f'iter {j} has acc={\"{:.3f}\".format(acc_score_j)} F1={\"{:.3f}\".format(f1_score_j)}')\n",
    "        acc_scores_i.append([acc_score_j, f1_score_j])\n",
    "    acc_scores_i = pd.DataFrame(acc_scores_i, columns=['acc', 'f1'])\n",
    "    print(f'reader group {reader_group_i} has mean acc = {acc_scores_i.loc[:, \"acc\"].mean()}; F1={acc_scores_i.loc[:, \"f1\"].mean()}')"
   ]
  },
  {
   "cell_type": "markdown",
   "metadata": {},
   "source": [
    "This \"train-from-scratch\" approach isn't working out.\n",
    "\n",
    "Why don't we just use the data that we used in the group classification model results? We balanced the data to have at least one question from each reader group per post."
   ]
  },
  {
   "cell_type": "code",
   "execution_count": 1,
   "metadata": {
    "scrolled": true
   },
   "outputs": [
    {
     "name": "stderr",
     "output_type": "stream",
     "text": [
      "/home/ianbstew/miniconda3/envs/py3/lib/python3.8/site-packages/IPython/core/interactiveshell.py:3418: DtypeWarning: Columns (9) have mixed types.Specify dtype option on import or set low_memory=False.\n",
      "  exec(code_obj, self.user_global_ns, self.user_ns)\n"
     ]
    },
    {
     "name": "stdout",
     "output_type": "stream",
     "text": [
      "41132/209884\n"
     ]
    }
   ],
   "source": [
    "# load sample data\n",
    "import pandas as pd\n",
    "import re\n",
    "import numpy as np\n",
    "arr_matcher = re.compile('[\\[\\]\\n]')\n",
    "embed_vars = ['question', 'post']\n",
    "embed_var_converters = {\n",
    "    f'PCA_{embed_var}_encoded': lambda x: np.fromstring(arr_matcher.sub('', x).strip(), sep=' ', dtype=float)\n",
    "    for embed_var in embed_vars\n",
    "}\n",
    "post_question_data_file = '../../data/reddit_data/group_classification_model/sample_type=paired_post_question_data.gz'\n",
    "post_question_data = pd.read_csv(post_question_data_file, sep='\\t', compression='gzip', index_col=False,\n",
    "                                 converters=embed_var_converters)\n",
    "# fix author group\n",
    "post_question_data = post_question_data.assign(**{\n",
    "    'author_group' : post_question_data.loc[:, 'author_group'].apply(lambda x: str(x) if type(x) is not str else x)\n",
    "})\n",
    "# limit to test data\n",
    "import torch\n",
    "test_data = torch.load('../../data/reddit_data/combined_data_test_data.pt').data.to_pandas()\n",
    "test_data.rename(columns={'article_id' : 'parent_id'}, inplace=True)\n",
    "test_post_question_data = post_question_data[post_question_data.loc[:, 'parent_id'].isin(test_data.loc[:, 'parent_id'].unique())]\n",
    "print(f'{test_post_question_data.shape[0]}/{post_question_data.shape[0]}')"
   ]
  },
  {
   "cell_type": "code",
   "execution_count": 47,
   "metadata": {
    "scrolled": true
   },
   "outputs": [
    {
     "name": "stderr",
     "output_type": "stream",
     "text": [
      "100%|██████████| 5/5 [01:45<00:00, 21.14s/it]\n"
     ]
    },
    {
     "name": "stdout",
     "output_type": "stream",
     "text": [
      "reader group expert_pct_bin\n",
      "mean scores = model_acc                   0.499844\n",
      "F1_macro                    0.450310\n",
      "model_acc_subreddit_mean    0.555706\n",
      "dtype: float64\n"
     ]
    },
    {
     "name": "stderr",
     "output_type": "stream",
     "text": [
      "100%|██████████| 5/5 [00:18<00:00,  3.76s/it]\n"
     ]
    },
    {
     "name": "stdout",
     "output_type": "stream",
     "text": [
      "reader group location_region\n",
      "mean scores = model_acc                   0.516916\n",
      "F1_macro                    0.503253\n",
      "model_acc_subreddit_mean    0.526617\n",
      "dtype: float64\n"
     ]
    },
    {
     "name": "stderr",
     "output_type": "stream",
     "text": [
      "100%|██████████| 5/5 [02:14<00:00, 26.96s/it]"
     ]
    },
    {
     "name": "stdout",
     "output_type": "stream",
     "text": [
      "reader group relative_time_bin\n",
      "mean scores = model_acc                   0.506726\n",
      "F1_macro                    0.502529\n",
      "model_acc_subreddit_mean    0.505719\n",
      "dtype: float64\n"
     ]
    },
    {
     "name": "stderr",
     "output_type": "stream",
     "text": [
      "\n"
     ]
    }
   ],
   "source": [
    "from tqdm import tqdm\n",
    "from sklearn.model_selection import StratifiedKFold\n",
    "from sklearn.neural_network import MLPClassifier\n",
    "from sklearn.metrics import f1_score, roc_auc_score\n",
    "import numpy as np\n",
    "def resample_by_class(data, class_var='author_group', class_count='min'):\n",
    "    data_class_counts = data.loc[:, class_var].value_counts()\n",
    "#     print(f'data class counts = {data_class_counts}')\n",
    "    if(class_count == 'min'):\n",
    "        data_class_count_base = data_class_counts.min()\n",
    "        data_class = data_class_counts.sort_values(ascending=True).index[0]\n",
    "    elif(class_count == 'max'):\n",
    "        data_class_count_base = data_class_counts.max()\n",
    "        data_class = data_class_counts.sort_values(ascending=False).index[0]\n",
    "#     print(f'min class = {data_min_class}')\n",
    "    data = pd.concat(\n",
    "        [data[data.loc[:, class_var]==data_class], \n",
    "         data[data.loc[:, class_var]!=data_class].sample(data_class_count_base, replace=(class_count=='max'), random_state=123)],\n",
    "    axis=0)\n",
    "#     print(f'post-stratify data class counts = {data.loc[:, class_var].value_counts()}')\n",
    "    return data\n",
    "np.random.seed(123)\n",
    "text_var = 'PCA_question_encoded'\n",
    "post_var = 'PCA_post_encoded'\n",
    "reader_group_default_class = {\n",
    "    'relative_time_bin' : '0.0',\n",
    "    'expert_pct_bin' : '0.0',\n",
    "    'location_region' : 'NONUS',\n",
    "}\n",
    "n_folds = 5\n",
    "reader_group_model_scores = []\n",
    "train_pct = 0.8\n",
    "for group_category_i, data_i in test_post_question_data.groupby('group_category'):\n",
    "    Y = data_i.loc[:, 'author_group'].values\n",
    "    default_class_i = reader_group_default_class[group_category_i]\n",
    "    non_default_class_i = list(set(Y) - {default_class_i})[0]\n",
    "    X = np.hstack([np.vstack(data_i.loc[:, text_var].values), np.vstack(data_i.loc[:, post_var].values)])\n",
    "#     X = np.vstack(data_i.loc[:, text_var].values)\n",
    "    layer_size = X.shape[1]\n",
    "    # convert to binary\n",
    "    Y = (Y==default_class_i).astype(int)\n",
    "    # fit models across all folds\n",
    "    model_scores = []\n",
    "    k_folds = StratifiedKFold(n_splits=n_folds, random_state=123, shuffle=True)\n",
    "    subreddits = data_i.loc[:, 'subreddit'].unique()\n",
    "    data_i = data_i.assign(**{'idx' : list(range(data_i.shape[0]))})\n",
    "    parent_id_i = data_i.loc[:, 'parent_id'].unique()\n",
    "    train_N_i = int(len(parent_id_i) * train_pct)\n",
    "    # split by parent ID\n",
    "    for j in tqdm(range(n_folds)):\n",
    "        train_id_j = set(np.random.choice(parent_id_i, train_N_i, replace=False))\n",
    "        test_id_j = list(set(parent_id_i) - train_id_j)\n",
    "        train_idx = np.where(data_i.loc[:, 'parent_id'].isin(train_id_j))[0]\n",
    "        test_idx = np.where(data_i.loc[:, 'parent_id'].isin(test_id_j))[0]\n",
    "    # k-fold splitting => need to prevent shared info from shared posts\n",
    "#     for j, (train_idx, test_idx) in tqdm(enumerate(k_folds.split(X, Y))):\n",
    "        # remove shared posts from test data\n",
    "#         train_id_j = set(data_i.iloc[train_idx, :].loc[:, 'parent_id'].unique())\n",
    "#         test_idx = list(set(test_idx) - set(np.where(data_i.loc[:, 'parent_id'].isin(train_id_j))[0]))\n",
    "#         print(len(test_idx))\n",
    "        # resample data to avoid class distribution imbalance\n",
    "        train_data_i = data_i.iloc[train_idx, :]\n",
    "        train_data_i = resample_by_class(train_data_i, class_var='author_group', class_count='max')\n",
    "        train_idx = train_data_i.loc[:, 'idx'].values\n",
    "        test_data_i = data_i.iloc[test_idx, :]\n",
    "        test_data_i = resample_by_class(test_data_i, class_var='author_group', class_count='max')\n",
    "        test_idx = test_data_i.loc[:, 'idx'].values\n",
    "#         X_train = np.hstack([np.vstack(train_data_i.loc[:, text_var].values), np.vstack(train_data_i.loc[:, post_var].values)])\n",
    "#         X_test = np.hstack([np.vstack(test_data_i.loc[:, text_var].values), np.vstack(test_data_i.loc[:, post_var].values)])\n",
    "#         Y_train = (train_data_i.loc[:, 'author_group'].values==default_class_i).astype(int)\n",
    "#         Y_test = (test_data_i.loc[:, 'author_group'].values==default_class_i).astype(int)\n",
    "#         print(train_data_i.loc[:, 'author_group'].value_counts())\n",
    "#         print(test_data_i.loc[:, 'author_group'].value_counts())\n",
    "#         break\n",
    "#         train_data_i_class_counts = train_data_i.loc[:, 'author_group'].value_counts()\n",
    "#         train_data_i_min_class = train_data_i_class_counts.sort_values().index[0]\n",
    "#         train_data_i = pd.concat(\n",
    "#             [train_data_i[train_data_i.loc[:, 'author_group']==train_data_i_min_class], \n",
    "#              train_data_i[train_data_i.loc[:, 'author_group']!=train_data_i_min_class].sample(train_data_i_class_counts.min(), replace=False, seed=123)]\n",
    "#         )\n",
    "#         train_idx = train_data_i.loc[:, 'idx'].values\n",
    "        X_train, X_test = X[train_idx, :], X[test_idx, :]\n",
    "        Y_train, Y_test = Y[train_idx], Y[test_idx]\n",
    "#         print(X_test.shape)\n",
    "        \n",
    "        # fit model\n",
    "        model = MLPClassifier(hidden_layer_sizes=[layer_size,], activation='relu', max_iter=5000, random_state=123)\n",
    "        model.fit(X_train, Y_train)\n",
    "        Y_pred = model.predict(X_test)\n",
    "        Y_prob = model.predict_proba(X_test)\n",
    "        model_acc = (Y_pred==Y_test).sum() / len(Y_test)\n",
    "        # get F1 for both classes...there must be a better way to do this\n",
    "        model_f1_class_1 = f1_score(Y_pred, Y_test)\n",
    "        model_f1_class_0 = f1_score((1-Y_pred), (1-Y_test))\n",
    "        model_f1_macro = f1_score(Y_pred, Y_test, average='macro')\n",
    "        model_auc = roc_auc_score(Y_test, Y_prob[:, 1])\n",
    "        model_scores_j = {\n",
    "            'model_acc' : model_acc, \n",
    "            f'F1_{default_class_i}' : model_f1_class_1, \n",
    "            f'F1_{non_default_class_i}' : model_f1_class_0, \n",
    "            'F1_macro' : model_f1_macro,\n",
    "            'AUC' : model_auc,\n",
    "            'fold' : j}\n",
    "        ## get scores per subreddit!!\n",
    "        for subreddit_k in subreddits:\n",
    "            idx_k = list(set(np.where(data_i.loc[:, 'subreddit']==subreddit_k)[0]) & set(test_idx))\n",
    "            if(len(idx_k) > 0):\n",
    "                Y_pred_k = model.predict(X[idx_k, :])\n",
    "                model_acc_k = (Y[idx_k]==Y_pred_k).sum() / len(Y_pred_k)\n",
    "                model_scores_j[f'model_acc_{subreddit_k}'] = model_acc_k\n",
    "        model_scores_j['model_acc_subreddit_mean'] = np.mean([model_scores_j[f'model_acc_{subreddit_k}'] for subreddit_k in subreddits])\n",
    "#         print(f'model scores = {model_scores_j}')\n",
    "        model_scores.append(model_scores_j)\n",
    "    model_scores = pd.DataFrame(model_scores)\n",
    "    model_scores = model_scores.assign(**{'group_category' : group_category_i})\n",
    "    print(f'reader group {group_category_i}')\n",
    "    print(f'mean scores = {model_scores.loc[:, [\"model_acc\", \"F1_macro\", \"model_acc_subreddit_mean\"]].mean(axis=0)}')\n",
    "    reader_group_model_scores.append(model_scores)\n",
    "reader_group_model_scores = pd.concat(reader_group_model_scores, axis=0)"
   ]
  },
  {
   "cell_type": "markdown",
   "metadata": {},
   "source": [
    "### Label with trained models\n",
    "Let's assume that the models are (slightly) more accurate for high-probability predictions. We will reload the trained models, recompute the representations for posts and questions, assign a reader group based on the model's prediction.\n",
    "\n",
    "We will then cross-reference with the generated text from text-only and reader-aware models, and look at performance for the questions that were highly associated with a particular reader group."
   ]
  },
  {
   "cell_type": "code",
   "execution_count": 1,
   "metadata": {},
   "outputs": [
    {
     "name": "stdout",
     "output_type": "stream",
     "text": [
      "(53080, 17)\n"
     ]
    }
   ],
   "source": [
    "## load data\n",
    "import torch\n",
    "test_data = torch.load('../../data/reddit_data/combined_data_test_data.pt').data.to_pandas()\n",
    "test_data.rename(columns={'source_text' : 'post', 'target_text' : 'question'}, inplace=True)\n",
    "print(test_data.shape)"
   ]
  },
  {
   "cell_type": "code",
   "execution_count": 19,
   "metadata": {
    "scrolled": true
   },
   "outputs": [
    {
     "data": {
      "application/vnd.jupyter.widget-view+json": {
       "model_id": "",
       "version_major": 2,
       "version_minor": 0
      },
      "text/plain": [
       "Batches:   0%|          | 0/3318 [00:00<?, ?it/s]"
      ]
     },
     "metadata": {},
     "output_type": "display_data"
    },
    {
     "data": {
      "application/vnd.jupyter.widget-view+json": {
       "model_id": "",
       "version_major": 2,
       "version_minor": 0
      },
      "text/plain": [
       "Batches:   0%|          | 0/3318 [00:00<?, ?it/s]"
      ]
     },
     "metadata": {},
     "output_type": "display_data"
    }
   ],
   "source": [
    "## load data cleaning PCA models\n",
    "import pickle\n",
    "PCA_post_embed_model = pickle.load(open('../../data/reddit_data/group_classification_model/PCA_model_embed=post_encoded.pkl', 'rb'))\n",
    "PCA_question_embed_model = pickle.load(open('../../data/reddit_data/group_classification_model/PCA_model_embed=question_encoded.pkl', 'rb'))\n",
    "## load classification models\n",
    "import os\n",
    "reader_groups = ['relative_time_bin', 'expert_pct_bin', 'location_region']\n",
    "reader_group_default_class = {\n",
    "    'relative_time_bin' : '0.0',\n",
    "    'expert_pct_bin' : '0.0',\n",
    "    'location_region' : 'NONUS',\n",
    "}\n",
    "reader_group_models = {}\n",
    "model_dir = '../../data/reddit_data/group_classification_model/question_post_data/'\n",
    "for reader_group_i in reader_groups:\n",
    "    default_class_i = reader_group_default_class[reader_group_i]\n",
    "    model_file_i = os.path.join(model_dir, f'MLP_prediction_group={reader_group_i}_class1={default_class_i}.pkl')\n",
    "    reader_group_models[reader_group_i] = pickle.load(open(model_file_i, 'rb'))\n",
    "## load embedding model\n",
    "from importlib import reload\n",
    "import model_helpers\n",
    "reload(model_helpers)\n",
    "from model_helpers import load_sentence_embed_model\n",
    "sentence_embed_model = load_sentence_embed_model()\n",
    "# encode data\n",
    "import torch\n",
    "embed_vars = ['question', 'post']\n",
    "for embed_var_i in embed_vars:\n",
    "    encode_var_i = f'{embed_var_i}_encoded'\n",
    "    encoding_i = sentence_embed_model.encode(test_data.loc[:, embed_var_i].values, batch_size=16, device=torch.cuda.current_device(), show_progress_bar=True)\n",
    "    test_data = test_data.assign(**{\n",
    "        encode_var_i : [encoding_i[i, :] for i in range(encoding_i.shape[0])],\n",
    "    })\n",
    "## use PCA to compress data\n",
    "import numpy as np\n",
    "PCA_models = [PCA_question_embed_model, PCA_post_embed_model]\n",
    "for embed_var_i, PCA_model_i in zip(embed_vars, PCA_models):\n",
    "    encode_var_i = f'{embed_var_i}_encoded'\n",
    "    mat_i = np.vstack(test_data.loc[:, encode_var_i].values)\n",
    "    reduce_mat_i = PCA_model_i.fit_transform(mat_i)\n",
    "    test_data = test_data.assign(**{\n",
    "        f'PCA_{encode_var_i}': [reduce_mat_i[i, :] for i in range(reduce_mat_i.shape[0])]\n",
    "    })\n",
    "## assign labels\n",
    "category_reader_group_lookup = {\n",
    "    'expert_pct_bin' : ['<EXPERT_PCT_0_AUTHOR>', '<EXPERT_PCT_1_AUTHOR>'],\n",
    "    'relative_time_bin' : ['<RESPONSE_TIME_0_AUTHOR>', '<RESPONSE_TIME_1_AUTHOR>'],\n",
    "    'location_region' : ['<NONUS_AUTHOR>', '<US_AUTHOR>'],\n",
    "    'UNK' : ['UNK']\n",
    "}\n",
    "reader_group_category_lookup = {\n",
    "    v1 : k for k, v in category_reader_group_lookup.items() for v1 in v\n",
    "}\n",
    "test_data = test_data.assign(**{\n",
    "    'reader_group' : test_data.loc[:, 'reader_token_str'].apply(lambda x: reader_group_category_lookup[x])\n",
    "})\n",
    "reader_group_default_class_str = {\n",
    "    'relative_time_bin' : '<RESPONSE_TIME_0_AUTHOR>',\n",
    "    'expert_pct_bin' : '<EXPERT_PCT_0_AUTHOR>',\n",
    "    'location_region' : '<NONUS_AUTHOR>',\n",
    "    'UNK' : 'UNK'\n",
    "}\n",
    "pred_val_reader_group_lookup = {\n",
    "    'relative_time_bin' : {\n",
    "        0 : '<RESPONSE_TIME_1_AUTHOR>',\n",
    "        1 : '<RESPONSE_TIME_0_AUTHOR>',\n",
    "    },\n",
    "    'expert_pct_bin' : {\n",
    "        0 : '<EXPERT_PCT_1_AUTHOR>',\n",
    "        1 : '<EXPERT_PCT_0_AUTHOR>',\n",
    "    },\n",
    "    'location_region' : {\n",
    "        0 : '<US_AUTHOR>',\n",
    "        1 : '<NONUS_AUTHOR>',\n",
    "    },\n",
    "}\n",
    "test_data = test_data.assign(**{\n",
    "    'reader_group_class' : test_data.apply(lambda x: int(x.loc['reader_token_str']==reader_group_default_class_str[x.loc['reader_group']]), axis=1)\n",
    "})\n",
    "## predict class for all reader groups\n",
    "import pandas as pd\n",
    "reader_groups = ['relative_time_bin', 'expert_pct_bin', 'location_region']\n",
    "pred_test_data = []\n",
    "for reader_group_i in reader_groups:\n",
    "    # clean data etc.\n",
    "    test_data_i = test_data[test_data.loc[:, 'reader_group']==reader_group_i]\n",
    "    question_post_text_i = np.hstack([np.vstack(test_data_i.loc[:, 'PCA_question_encoded'].values), np.vstack(test_data_i.loc[:, 'PCA_post_encoded'].values)])\n",
    "    # do prediction!!\n",
    "    reader_group_model_i = reader_group_models[reader_group_i]\n",
    "    pred_prob_i = reader_group_model_i.predict_proba(question_post_text_i)\n",
    "    test_data_i = test_data_i.assign(**{\n",
    "        'reader_group_class_pred' : np.argmax(pred_prob_i, axis=1)\n",
    "    })\n",
    "    test_data_i = test_data_i.assign(**{\n",
    "        'reader_group_class_pred_prob' : np.max(pred_prob_i, axis=1)\n",
    "    })\n",
    "    # convert to class str\n",
    "    pred_val_lookup_i = pred_val_reader_group_lookup[reader_group_i]\n",
    "    test_data_i = test_data_i.assign(**{\n",
    "        'reader_group_class_pred_str' : test_data_i.loc[:, 'reader_group_class_pred'].apply(pred_val_lookup_i.get)\n",
    "    })\n",
    "    pred_test_data.append(test_data_i)\n",
    "pred_test_data = pd.concat(pred_test_data, axis=0)"
   ]
  },
  {
   "cell_type": "code",
   "execution_count": 20,
   "metadata": {
    "scrolled": true
   },
   "outputs": [
    {
     "data": {
      "image/png": "[encoded data removed]",
      "text/plain": [
       "<Figure size 432x288 with 1 Axes>"
      ]
     },
     "metadata": {
      "needs_background": "light"
     },
     "output_type": "display_data"
    },
    {
     "data": {
      "image/png": "[encoded data removed]",
      "text/plain": [
       "<Figure size 432x288 with 1 Axes>"
      ]
     },
     "metadata": {
      "needs_background": "light"
     },
     "output_type": "display_data"
    },
    {
     "data": {
      "image/png": "[encoded data removed]",
      "text/plain": [
       "<Figure size 432x288 with 1 Axes>"
      ]
     },
     "metadata": {
      "needs_background": "light"
     },
     "output_type": "display_data"
    }
   ],
   "source": [
    "# show distribution of probability\n",
    "# flatten data\n",
    "import matplotlib\n",
    "%matplotlib inline\n",
    "import matplotlib.pyplot as plt\n",
    "import seaborn as sns\n",
    "for reader_group_i in reader_groups:\n",
    "    data_i = pred_test_data[pred_test_data.loc[:, 'reader_group']==reader_group_i]\n",
    "    sns.violinplot(data=data_i, x='reader_group_class_pred_str', y='reader_group_class_pred_prob')\n",
    "    plt.title(f'Group = {reader_group_i}')\n",
    "    plt.show()"
   ]
  },
  {
   "cell_type": "markdown",
   "metadata": {},
   "source": [
    "Based on the skewed distributions, let's take the predictions with $P>=0.99$ and use those to filter the data."
   ]
  },
  {
   "cell_type": "code",
   "execution_count": 23,
   "metadata": {},
   "outputs": [
    {
     "data": {
      "text/plain": [
       "(31296, 26)"
      ]
     },
     "execution_count": 23,
     "metadata": {},
     "output_type": "execute_result"
    }
   ],
   "source": [
    "pred_test_data.shape"
   ]
  },
  {
   "cell_type": "code",
   "execution_count": 24,
   "metadata": {},
   "outputs": [
    {
     "name": "stdout",
     "output_type": "stream",
     "text": [
      "25101/31296 data retained\n"
     ]
    }
   ],
   "source": [
    "prob_cutoff = 0.99\n",
    "cutoff_test_data = pred_test_data[pred_test_data.loc[:, 'reader_group_class_pred_prob']>= prob_cutoff]\n",
    "print(f'{cutoff_test_data.shape[0]}/{pred_test_data.shape[0]} data retained')"
   ]
  },
  {
   "cell_type": "markdown",
   "metadata": {},
   "source": [
    "Will this data actually have different generation results, as compared to the full data? We will see!!"
   ]
  },
  {
   "cell_type": "code",
   "execution_count": 53,
   "metadata": {},
   "outputs": [
    {
     "name": "stdout",
     "output_type": "stream",
     "text": [
      "(25101, 29)\n"
     ]
    }
   ],
   "source": [
    "## load generated text data\n",
    "import gzip\n",
    "text_only_model_output = list(map(lambda x: x.strip(), gzip.open('../../data/reddit_data/text_only_model/test_data_output_text.gz', 'rt')))\n",
    "reader_token_model_output = list(map(lambda x: x.strip(), gzip.open('../../data/reddit_data/author_text_data/test_data_output_text.gz', 'rt')))\n",
    "reader_attention_model_output = list(map(lambda x: x.strip(), gzip.open('../../data/reddit_data/author_text_data/author_attention_data/author_attention_layer=5_location=encoder_config=attnconcat/test_data_output_text.gz', 'rt')))\n",
    "test_data = test_data.assign(**{\n",
    "    'text_only_model' : text_only_model_output,\n",
    "    'reader_token_model' : reader_token_model_output,\n",
    "    'reader_attn_model' : reader_attention_model_output,\n",
    "})\n",
    "# add to cutoff data\n",
    "pred_text_data = pd.concat([cutoff_test_data, test_data.loc[cutoff_test_data.index, ['text_only_model', 'reader_token_model', 'reader_attn_model']]], axis=1)\n",
    "print(pred_text_data.shape)"
   ]
  },
  {
   "cell_type": "code",
   "execution_count": 66,
   "metadata": {
    "scrolled": true
   },
   "outputs": [],
   "source": [
    "## compute overlap metrics etc.\n",
    "from test_question_generation import STOP_WORDS, test_question_overlap\n",
    "# suppress BLEU error message\n",
    "import warnings\n",
    "warnings.filterwarnings('ignore')\n",
    "word_embed_file = '../../data/embeddings/wiki-news-300d-1M.vec.gz'\n",
    "model_output_types = [\n",
    "    'text_only_model',\n",
    "    'reader_token_model',\n",
    "    'reader_attn_model'\n",
    "]\n",
    "from nlp.arrow_dataset import Dataset\n",
    "pred_text_data_torch = Dataset.from_pandas(pred_text_data)\n",
    "pred_text_data_torch.rename_column_('question', 'target_text')\n",
    "text_overlap_score_data = []\n",
    "for model_output_type_i in model_output_types:\n",
    "    print(f'model={model_output_type_i}')\n",
    "    overlap_score_data_i = test_question_overlap(\n",
    "        pred_text_data.loc[:, model_output_type_i].values,\n",
    "        pred_text_data_torch,\n",
    "        word_embed_file=word_embed_file,\n",
    "        stop_words=STOP_WORDS,\n",
    "    )\n",
    "    # fix column names\n",
    "    overlap_score_data_i.rename(columns={\n",
    "        c : f'{c}_model={model_output_type_i.replace(\"_model\",\"\")}'\n",
    "        for c in overlap_score_data_i.columns\n",
    "    }, inplace=True)\n",
    "    text_overlap_score_data.append(overlap_score_data_i)\n",
    "text_overlap_score_data = pd.concat(text_overlap_score_data, axis=1)"
   ]
  },
  {
   "cell_type": "markdown",
   "metadata": {},
   "source": [
    "What is the overall distribution of scores for the different model types?"
   ]
  },
  {
   "cell_type": "code",
   "execution_count": 83,
   "metadata": {
    "scrolled": true
   },
   "outputs": [
    {
     "data": {
      "text/plain": [
       "BLEU-1_model=text_only              0.163296\n",
       "ROUGE-L_model=text_only             0.130945\n",
       "sentence_dist_model=text_only       0.725070\n",
       "WMD_model=text_only                 0.235829\n",
       "BLEU-1_model=reader_token           0.162543\n",
       "ROUGE-L_model=reader_token          0.131450\n",
       "sentence_dist_model=reader_token    0.728466\n",
       "WMD_model=reader_token              0.236606\n",
       "BLEU-1_model=reader_attn            0.159031\n",
       "ROUGE-L_model=reader_attn           0.128210\n",
       "sentence_dist_model=reader_attn     0.751031\n",
       "WMD_model=reader_attn               0.245252\n",
       "dtype: float64"
      ]
     },
     "metadata": {},
     "output_type": "display_data"
    },
    {
     "data": {
      "text/html": [
       "<div>\n",
       "<style scoped>\n",
       "    .dataframe tbody tr th:only-of-type {\n",
       "        vertical-align: middle;\n",
       "    }\n",
       "\n",
       "    .dataframe tbody tr th {\n",
       "        vertical-align: top;\n",
       "    }\n",
       "\n",
       "    .dataframe thead th {\n",
       "        text-align: right;\n",
       "    }\n",
       "</style>\n",
       "<table border=\"1\" class=\"dataframe\">\n",
       "  <thead>\n",
       "    <tr style=\"text-align: right;\">\n",
       "      <th></th>\n",
       "      <th>score_type</th>\n",
       "      <th>score</th>\n",
       "      <th>model_type</th>\n",
       "    </tr>\n",
       "  </thead>\n",
       "  <tbody>\n",
       "    <tr>\n",
       "      <th>0</th>\n",
       "      <td>BLEU-1</td>\n",
       "      <td>0.104834</td>\n",
       "      <td>text_only</td>\n",
       "    </tr>\n",
       "    <tr>\n",
       "      <th>1</th>\n",
       "      <td>BLEU-1</td>\n",
       "      <td>0.133009</td>\n",
       "      <td>text_only</td>\n",
       "    </tr>\n",
       "    <tr>\n",
       "      <th>2</th>\n",
       "      <td>BLEU-1</td>\n",
       "      <td>0.210756</td>\n",
       "      <td>text_only</td>\n",
       "    </tr>\n",
       "    <tr>\n",
       "      <th>3</th>\n",
       "      <td>BLEU-1</td>\n",
       "      <td>0.105108</td>\n",
       "      <td>text_only</td>\n",
       "    </tr>\n",
       "    <tr>\n",
       "      <th>4</th>\n",
       "      <td>BLEU-1</td>\n",
       "      <td>0.242022</td>\n",
       "      <td>text_only</td>\n",
       "    </tr>\n",
       "  </tbody>\n",
       "</table>\n",
       "</div>"
      ],
      "text/plain": [
       "  score_type     score model_type\n",
       "0     BLEU-1  0.104834  text_only\n",
       "1     BLEU-1  0.133009  text_only\n",
       "2     BLEU-1  0.210756  text_only\n",
       "3     BLEU-1  0.105108  text_only\n",
       "4     BLEU-1  0.242022  text_only"
      ]
     },
     "metadata": {},
     "output_type": "display_data"
    },
    {
     "data": {
      "image/png": "[encoded data removed]",
      "text/plain": [
       "<Figure size 432x288 with 1 Axes>"
      ]
     },
     "metadata": {
      "needs_background": "light"
     },
     "output_type": "display_data"
    }
   ],
   "source": [
    "## print aggregate median vals\n",
    "display(text_overlap_score_data.mean(axis=0))\n",
    "## display distributions\n",
    "import matplotlib\n",
    "%matplotlib inline\n",
    "import matplotlib.pyplot as plt\n",
    "import seaborn as sns\n",
    "flat_text_overlap_score_data = pd.melt(text_overlap_score_data, value_vars=text_overlap_score_data.columns, var_name='score_type', value_name='score')\n",
    "flat_text_overlap_score_data = flat_text_overlap_score_data.assign(**{\n",
    "    'model_type' : flat_text_overlap_score_data.loc[:, 'score_type'].apply(lambda x: x.split('=')[-1]),\n",
    "    'score_type' : flat_text_overlap_score_data.loc[:, 'score_type'].apply(lambda x: x.split('_')[0]),\n",
    "})\n",
    "display(flat_text_overlap_score_data.head())\n",
    "sns.violinplot(data=flat_text_overlap_score_data, x='score_type', y='score', hue='model_type')\n",
    "plt.show()"
   ]
  },
  {
   "cell_type": "markdown",
   "metadata": {},
   "source": [
    "Not great! What does this look like for different reader groups?"
   ]
  },
  {
   "cell_type": "code",
   "execution_count": 82,
   "metadata": {
    "scrolled": true
   },
   "outputs": [
    {
     "data": {
      "image/png": "[encoded data removed]",
      "text/plain": [
       "<Figure size 432x288 with 1 Axes>"
      ]
     },
     "metadata": {
      "needs_background": "light"
     },
     "output_type": "display_data"
    },
    {
     "data": {
      "image/png": "[encoded data removed]",
      "text/plain": [
       "<Figure size 432x288 with 1 Axes>"
      ]
     },
     "metadata": {
      "needs_background": "light"
     },
     "output_type": "display_data"
    },
    {
     "data": {
      "image/png": "[encoded data removed]",
      "text/plain": [
       "<Figure size 432x288 with 1 Axes>"
      ]
     },
     "metadata": {
      "needs_background": "light"
     },
     "output_type": "display_data"
    }
   ],
   "source": [
    "text_overlap_score_data.index = pred_text_data.index\n",
    "pred_score_text_data = pd.concat([pred_text_data, text_overlap_score_data], axis=1)\n",
    "## flatten etc\n",
    "flat_pred_score_text_data = pd.melt(pred_score_text_data, id_vars=['reader_group'], value_vars=text_overlap_score_data.columns, var_name='score_type', value_name='score')\n",
    "flat_pred_score_text_data = flat_pred_score_text_data.assign(**{\n",
    "    'model_type' : flat_pred_score_text_data.loc[:, 'score_type'].apply(lambda x: x.split('=')[-1]),\n",
    "    'score_type' : flat_pred_score_text_data.loc[:, 'score_type'].apply(lambda x: x.split('_')[0]),\n",
    "})\n",
    "# display(flat_pred_score_text_data.head())\n",
    "for group_i, data_i in flat_pred_score_text_data.groupby('reader_group'):\n",
    "    sns.violinplot(data=data_i, x='score_type', y='score', hue='model_type')\n",
    "    plt.title(f'group={group_i}')\n",
    "    plt.show()"
   ]
  },
  {
   "cell_type": "markdown",
   "metadata": {},
   "source": [
    "### Train reader prediction model: per-subreddit\n",
    "An \"expert\" user may look very different in one subreddit versus another. Let's try to address this by training a separate model for each reader group for each subreddit. $G*S=15$ models total...fun."
   ]
  },
  {
   "cell_type": "code",
   "execution_count": 4,
   "metadata": {},
   "outputs": [
    {
     "name": "stdout",
     "output_type": "stream",
     "text": [
      "(53080, 17)\n",
      "AmItheAsshole      22531\n",
      "personalfinance    11798\n",
      "legaladvice         7424\n",
      "Advice              7215\n",
      "pcmasterrace        4112\n",
      "Name: subreddit, dtype: int64\n"
     ]
    }
   ],
   "source": [
    "## load data\n",
    "import torch\n",
    "test_data = torch.load('../../data/reddit_data/combined_data_test_data.pt').data.to_pandas()\n",
    "test_data.rename(columns={'source_text' : 'post', 'target_text' : 'question'}, inplace=True)\n",
    "print(test_data.shape)\n",
    "## add subreddit info\n",
    "import pandas as pd\n",
    "post_data = pd.read_csv('../../data/reddit_data/subreddit_submissions_2018-01_2019-12.gz', sep='\\t', compression='gzip', usecols=['id', 'subreddit']).rename(columns={'id' : 'article_id'})\n",
    "test_data = pd.merge(test_data, post_data, on='article_id')\n",
    "print(test_data.loc[:, 'subreddit'].value_counts())"
   ]
  },
  {
   "cell_type": "code",
   "execution_count": 22,
   "metadata": {
    "scrolled": true
   },
   "outputs": [
    {
     "data": {
      "application/vnd.jupyter.widget-view+json": {
       "model_id": "4b1fe458037649338fa58a6a35bc195a",
       "version_major": 2,
       "version_minor": 0
      },
      "text/plain": [
       "Batches:   0%|          | 0/3318 [00:00<?, ?it/s]"
      ]
     },
     "metadata": {},
     "output_type": "display_data"
    },
    {
     "data": {
      "application/vnd.jupyter.widget-view+json": {
       "model_id": "1df09cd9384541438f527e6a681ea8e0",
       "version_major": 2,
       "version_minor": 0
      },
      "text/plain": [
       "Batches:   0%|          | 0/3318 [00:00<?, ?it/s]"
      ]
     },
     "metadata": {},
     "output_type": "display_data"
    }
   ],
   "source": [
    "## load data cleaning PCA models\n",
    "import pickle\n",
    "PCA_post_embed_model = pickle.load(open('../../data/reddit_data/group_classification_model/PCA_model_embed=post_encoded.pkl', 'rb'))\n",
    "PCA_question_embed_model = pickle.load(open('../../data/reddit_data/group_classification_model/PCA_model_embed=question_encoded.pkl', 'rb'))\n",
    "## load classification models\n",
    "import os\n",
    "reader_groups = ['relative_time_bin', 'expert_pct_bin', 'location_region']\n",
    "reader_group_default_class = {\n",
    "    'relative_time_bin' : '0.0',\n",
    "    'expert_pct_bin' : '0.0',\n",
    "    'location_region' : 'NONUS',\n",
    "}\n",
    "reader_group_models = {}\n",
    "model_dir = '../../data/reddit_data/group_classification_model/question_post_data/'\n",
    "for reader_group_i in reader_groups:\n",
    "    default_class_i = reader_group_default_class[reader_group_i]\n",
    "    model_file_i = os.path.join(model_dir, f'MLP_prediction_group={reader_group_i}_class1={default_class_i}.pkl')\n",
    "    reader_group_models[reader_group_i] = pickle.load(open(model_file_i, 'rb'))\n",
    "## load embedding model\n",
    "from importlib import reload\n",
    "import model_helpers\n",
    "reload(model_helpers)\n",
    "from model_helpers import load_sentence_embed_model\n",
    "sentence_embed_model = load_sentence_embed_model()\n",
    "# encode data\n",
    "import torch\n",
    "embed_vars = ['question', 'post']\n",
    "for embed_var_i in embed_vars:\n",
    "    encode_var_i = f'{embed_var_i}_encoded'\n",
    "    encoding_i = sentence_embed_model.encode(test_data.loc[:, embed_var_i].values, batch_size=16, device=torch.cuda.current_device(), show_progress_bar=True)\n",
    "    test_data = test_data.assign(**{\n",
    "        encode_var_i : [encoding_i[i, :] for i in range(encoding_i.shape[0])],\n",
    "    })\n",
    "## use PCA to compress data\n",
    "import numpy as np\n",
    "PCA_models = [PCA_question_embed_model, PCA_post_embed_model]\n",
    "for embed_var_i, PCA_model_i in zip(embed_vars, PCA_models):\n",
    "    encode_var_i = f'{embed_var_i}_encoded'\n",
    "    mat_i = np.vstack(test_data.loc[:, encode_var_i].values)\n",
    "    reduce_mat_i = PCA_model_i.transform(mat_i)\n",
    "    test_data = test_data.assign(**{\n",
    "        f'PCA_{encode_var_i}': [reduce_mat_i[i, :] for i in range(reduce_mat_i.shape[0])]\n",
    "    })\n",
    "## assign labels\n",
    "category_reader_group_lookup = {\n",
    "    'expert_pct_bin' : ['<EXPERT_PCT_0_AUTHOR>', '<EXPERT_PCT_1_AUTHOR>'],\n",
    "    'relative_time_bin' : ['<RESPONSE_TIME_0_AUTHOR>', '<RESPONSE_TIME_1_AUTHOR>'],\n",
    "    'location_region' : ['<NONUS_AUTHOR>', '<US_AUTHOR>'],\n",
    "    'UNK' : ['UNK']\n",
    "}\n",
    "reader_group_category_lookup = {\n",
    "    v1 : k for k, v in category_reader_group_lookup.items() for v1 in v\n",
    "}\n",
    "test_data = test_data.assign(**{\n",
    "    'reader_group' : test_data.loc[:, 'reader_token_str'].apply(lambda x: reader_group_category_lookup[x])\n",
    "})\n",
    "reader_group_default_class_str = {\n",
    "    'relative_time_bin' : '<RESPONSE_TIME_0_AUTHOR>',\n",
    "    'expert_pct_bin' : '<EXPERT_PCT_0_AUTHOR>',\n",
    "    'location_region' : '<NONUS_AUTHOR>',\n",
    "    'UNK' : 'UNK'\n",
    "}\n",
    "pred_val_reader_group_lookup = {\n",
    "    'relative_time_bin' : {\n",
    "        0 : '<RESPONSE_TIME_1_AUTHOR>',\n",
    "        1 : '<RESPONSE_TIME_0_AUTHOR>',\n",
    "    },\n",
    "    'expert_pct_bin' : {\n",
    "        0 : '<EXPERT_PCT_1_AUTHOR>',\n",
    "        1 : '<EXPERT_PCT_0_AUTHOR>',\n",
    "    },\n",
    "    'location_region' : {\n",
    "        0 : '<US_AUTHOR>',\n",
    "        1 : '<NONUS_AUTHOR>',\n",
    "    },\n",
    "}\n",
    "# test_data = test_data.assign(**{\n",
    "#     'reader_group_class' : test_data.apply(lambda x: int(x.loc['reader_token_str']==reader_group_default_class_str[x.loc['reader_group']]), axis=1)\n",
    "# })\n",
    "# fix reader var name\n",
    "test_data.rename(columns={'reader_token_str' : 'author_group', 'article_id' : 'parent_id'}, inplace=True)\n",
    "# fix reader var values\n",
    "test_data = test_data.assign(**{'author_group' : })"
   ]
  },
  {
   "cell_type": "code",
   "execution_count": 33,
   "metadata": {
    "scrolled": true
   },
   "outputs": [
    {
     "name": "stdout",
     "output_type": "stream",
     "text": [
      "testing subreddit = Advice\n",
      "testing reader group = expert_pct_bin\n"
     ]
    },
    {
     "name": "stderr",
     "output_type": "stream",
     "text": [
      "100%|██████████| 10/10 [01:17<00:00,  7.72s/it]\n"
     ]
    },
    {
     "name": "stdout",
     "output_type": "stream",
     "text": [
      "testing reader group = location_region\n"
     ]
    },
    {
     "name": "stderr",
     "output_type": "stream",
     "text": [
      "100%|██████████| 10/10 [00:18<00:00,  1.84s/it]\n"
     ]
    },
    {
     "name": "stdout",
     "output_type": "stream",
     "text": [
      "testing reader group = relative_time_bin\n"
     ]
    },
    {
     "name": "stderr",
     "output_type": "stream",
     "text": [
      "100%|██████████| 10/10 [01:19<00:00,  7.92s/it]\n"
     ]
    },
    {
     "name": "stdout",
     "output_type": "stream",
     "text": [
      "testing subreddit = AmItheAsshole\n",
      "testing reader group = expert_pct_bin\n"
     ]
    },
    {
     "name": "stderr",
     "output_type": "stream",
     "text": [
      "100%|██████████| 10/10 [02:58<00:00, 17.88s/it]\n"
     ]
    },
    {
     "name": "stdout",
     "output_type": "stream",
     "text": [
      "testing reader group = location_region\n"
     ]
    },
    {
     "name": "stderr",
     "output_type": "stream",
     "text": [
      "100%|██████████| 10/10 [00:29<00:00,  2.91s/it]\n"
     ]
    },
    {
     "name": "stdout",
     "output_type": "stream",
     "text": [
      "testing reader group = relative_time_bin\n"
     ]
    },
    {
     "name": "stderr",
     "output_type": "stream",
     "text": [
      "100%|██████████| 10/10 [02:17<00:00, 13.71s/it]\n"
     ]
    },
    {
     "name": "stdout",
     "output_type": "stream",
     "text": [
      "testing subreddit = legaladvice\n",
      "testing reader group = expert_pct_bin\n"
     ]
    },
    {
     "name": "stderr",
     "output_type": "stream",
     "text": [
      "100%|██████████| 10/10 [01:45<00:00, 10.51s/it]\n"
     ]
    },
    {
     "name": "stdout",
     "output_type": "stream",
     "text": [
      "testing reader group = location_region\n"
     ]
    },
    {
     "name": "stderr",
     "output_type": "stream",
     "text": [
      "100%|██████████| 10/10 [00:34<00:00,  3.44s/it]\n"
     ]
    },
    {
     "name": "stdout",
     "output_type": "stream",
     "text": [
      "testing reader group = relative_time_bin\n"
     ]
    },
    {
     "name": "stderr",
     "output_type": "stream",
     "text": [
      "100%|██████████| 10/10 [01:26<00:00,  8.67s/it]\n"
     ]
    },
    {
     "name": "stdout",
     "output_type": "stream",
     "text": [
      "testing subreddit = pcmasterrace\n",
      "testing reader group = expert_pct_bin\n"
     ]
    },
    {
     "name": "stderr",
     "output_type": "stream",
     "text": [
      "100%|██████████| 10/10 [00:53<00:00,  5.36s/it]\n"
     ]
    },
    {
     "name": "stdout",
     "output_type": "stream",
     "text": [
      "testing reader group = location_region\n"
     ]
    },
    {
     "name": "stderr",
     "output_type": "stream",
     "text": [
      "100%|██████████| 10/10 [00:14<00:00,  1.50s/it]\n"
     ]
    },
    {
     "name": "stdout",
     "output_type": "stream",
     "text": [
      "testing reader group = relative_time_bin\n"
     ]
    },
    {
     "name": "stderr",
     "output_type": "stream",
     "text": [
      "100%|██████████| 10/10 [00:57<00:00,  5.78s/it]\n"
     ]
    },
    {
     "name": "stdout",
     "output_type": "stream",
     "text": [
      "testing subreddit = personalfinance\n",
      "testing reader group = expert_pct_bin\n"
     ]
    },
    {
     "name": "stderr",
     "output_type": "stream",
     "text": [
      "100%|██████████| 10/10 [01:19<00:00,  7.94s/it]\n"
     ]
    },
    {
     "name": "stdout",
     "output_type": "stream",
     "text": [
      "testing reader group = location_region\n"
     ]
    },
    {
     "name": "stderr",
     "output_type": "stream",
     "text": [
      "100%|██████████| 10/10 [00:26<00:00,  2.65s/it]\n"
     ]
    },
    {
     "name": "stdout",
     "output_type": "stream",
     "text": [
      "testing reader group = relative_time_bin\n"
     ]
    },
    {
     "name": "stderr",
     "output_type": "stream",
     "text": [
      "100%|██████████| 10/10 [01:29<00:00,  8.95s/it]\n"
     ]
    }
   ],
   "source": [
    "from sklearn.model_selection import StratifiedKFold\n",
    "from sklearn.neural_network import MLPClassifier\n",
    "from importlib import reload\n",
    "import model_helpers\n",
    "reload(model_helpers)\n",
    "from model_helpers import train_test_reader_group_classification\n",
    "np.random.seed(123)\n",
    "question_data_combined_model_scores = []\n",
    "reader_group_default_class = {\n",
    "    'relative_time_bin' : '0.0',\n",
    "    'expert_pct_bin' : '0.0',\n",
    "    'location_region' : 'NONUS',\n",
    "}\n",
    "text_var = 'PCA_question_encoded'\n",
    "post_var = 'PCA_post_encoded'\n",
    "reader_groups = set(test_data.loc[:, 'reader_group'].unique()) - {'UNK'}\n",
    "reader_group_test_data = test_data[test_data.loc[:, 'reader_group'].isin(reader_groups)]\n",
    "for subreddit_i, data_i in reader_group_test_data.groupby('subreddit'):\n",
    "    print(f'testing subreddit = {subreddit_i}')\n",
    "    for reader_group_j, data_j in data_i.groupby('reader_group'):\n",
    "        print(f'testing reader group = {reader_group_j}')\n",
    "        default_group_class_j = reader_group_default_class[reader_group_j]\n",
    "        model_scores_j = train_test_reader_group_classification(data_j, text_var=text_var, post_var=post_var)\n",
    "        model_scores_j = model_scores_j.assign(**{\n",
    "            'reader_group' : reader_group_j,\n",
    "            'subreddit' : subreddit_i,\n",
    "        })\n",
    "        combined_model_scores.append(model_scores_j)\n",
    "combined_model_scores = pd.concat(combined_model_scores, axis=0)"
   ]
  },
  {
   "cell_type": "code",
   "execution_count": 36,
   "metadata": {
    "scrolled": true
   },
   "outputs": [
    {
     "data": {
      "text/html": [
       "<div>\n",
       "<style scoped>\n",
       "    .dataframe tbody tr th:only-of-type {\n",
       "        vertical-align: middle;\n",
       "    }\n",
       "\n",
       "    .dataframe tbody tr th {\n",
       "        vertical-align: top;\n",
       "    }\n",
       "\n",
       "    .dataframe thead th {\n",
       "        text-align: right;\n",
       "    }\n",
       "</style>\n",
       "<table border=\"1\" class=\"dataframe\">\n",
       "  <thead>\n",
       "    <tr style=\"text-align: right;\">\n",
       "      <th></th>\n",
       "      <th>reader_group</th>\n",
       "      <th>subreddit</th>\n",
       "      <th>model_acc</th>\n",
       "      <th>F1_class=1</th>\n",
       "      <th>F1_class=0</th>\n",
       "      <th>F1_macro</th>\n",
       "      <th>AUC</th>\n",
       "    </tr>\n",
       "  </thead>\n",
       "  <tbody>\n",
       "    <tr>\n",
       "      <th>0</th>\n",
       "      <td>expert_pct_bin</td>\n",
       "      <td>Advice</td>\n",
       "      <td>0.498092</td>\n",
       "      <td>0.628729</td>\n",
       "      <td>0.224563</td>\n",
       "      <td>0.426646</td>\n",
       "      <td>0.502582</td>\n",
       "    </tr>\n",
       "    <tr>\n",
       "      <th>1</th>\n",
       "      <td>expert_pct_bin</td>\n",
       "      <td>AmItheAsshole</td>\n",
       "      <td>0.507100</td>\n",
       "      <td>0.620284</td>\n",
       "      <td>0.296443</td>\n",
       "      <td>0.458363</td>\n",
       "      <td>0.509524</td>\n",
       "    </tr>\n",
       "    <tr>\n",
       "      <th>2</th>\n",
       "      <td>expert_pct_bin</td>\n",
       "      <td>legaladvice</td>\n",
       "      <td>0.495956</td>\n",
       "      <td>0.602346</td>\n",
       "      <td>0.310876</td>\n",
       "      <td>0.456611</td>\n",
       "      <td>0.504757</td>\n",
       "    </tr>\n",
       "    <tr>\n",
       "      <th>3</th>\n",
       "      <td>expert_pct_bin</td>\n",
       "      <td>pcmasterrace</td>\n",
       "      <td>0.547577</td>\n",
       "      <td>0.631915</td>\n",
       "      <td>0.411572</td>\n",
       "      <td>0.521743</td>\n",
       "      <td>0.558143</td>\n",
       "    </tr>\n",
       "    <tr>\n",
       "      <th>4</th>\n",
       "      <td>expert_pct_bin</td>\n",
       "      <td>personalfinance</td>\n",
       "      <td>0.507897</td>\n",
       "      <td>0.626955</td>\n",
       "      <td>0.275558</td>\n",
       "      <td>0.451256</td>\n",
       "      <td>0.523585</td>\n",
       "    </tr>\n",
       "    <tr>\n",
       "      <th>5</th>\n",
       "      <td>location_region</td>\n",
       "      <td>Advice</td>\n",
       "      <td>0.498292</td>\n",
       "      <td>0.567337</td>\n",
       "      <td>0.396329</td>\n",
       "      <td>0.481833</td>\n",
       "      <td>0.500927</td>\n",
       "    </tr>\n",
       "    <tr>\n",
       "      <th>6</th>\n",
       "      <td>location_region</td>\n",
       "      <td>AmItheAsshole</td>\n",
       "      <td>0.510898</td>\n",
       "      <td>0.540417</td>\n",
       "      <td>0.459347</td>\n",
       "      <td>0.499882</td>\n",
       "      <td>0.506991</td>\n",
       "    </tr>\n",
       "    <tr>\n",
       "      <th>7</th>\n",
       "      <td>location_region</td>\n",
       "      <td>legaladvice</td>\n",
       "      <td>0.537581</td>\n",
       "      <td>0.393540</td>\n",
       "      <td>0.624653</td>\n",
       "      <td>0.509097</td>\n",
       "      <td>0.541916</td>\n",
       "    </tr>\n",
       "    <tr>\n",
       "      <th>8</th>\n",
       "      <td>location_region</td>\n",
       "      <td>pcmasterrace</td>\n",
       "      <td>0.532260</td>\n",
       "      <td>0.656421</td>\n",
       "      <td>0.260376</td>\n",
       "      <td>0.458399</td>\n",
       "      <td>0.749610</td>\n",
       "    </tr>\n",
       "    <tr>\n",
       "      <th>9</th>\n",
       "      <td>location_region</td>\n",
       "      <td>personalfinance</td>\n",
       "      <td>0.528611</td>\n",
       "      <td>0.303534</td>\n",
       "      <td>0.642648</td>\n",
       "      <td>0.473091</td>\n",
       "      <td>0.552832</td>\n",
       "    </tr>\n",
       "    <tr>\n",
       "      <th>10</th>\n",
       "      <td>relative_time_bin</td>\n",
       "      <td>Advice</td>\n",
       "      <td>0.478110</td>\n",
       "      <td>0.304975</td>\n",
       "      <td>0.581956</td>\n",
       "      <td>0.443465</td>\n",
       "      <td>0.468801</td>\n",
       "    </tr>\n",
       "    <tr>\n",
       "      <th>11</th>\n",
       "      <td>relative_time_bin</td>\n",
       "      <td>AmItheAsshole</td>\n",
       "      <td>0.500883</td>\n",
       "      <td>0.403134</td>\n",
       "      <td>0.570459</td>\n",
       "      <td>0.486796</td>\n",
       "      <td>0.502319</td>\n",
       "    </tr>\n",
       "    <tr>\n",
       "      <th>12</th>\n",
       "      <td>relative_time_bin</td>\n",
       "      <td>legaladvice</td>\n",
       "      <td>0.521096</td>\n",
       "      <td>0.425780</td>\n",
       "      <td>0.588837</td>\n",
       "      <td>0.507309</td>\n",
       "      <td>0.537959</td>\n",
       "    </tr>\n",
       "    <tr>\n",
       "      <th>13</th>\n",
       "      <td>relative_time_bin</td>\n",
       "      <td>pcmasterrace</td>\n",
       "      <td>0.542259</td>\n",
       "      <td>0.469812</td>\n",
       "      <td>0.594006</td>\n",
       "      <td>0.531909</td>\n",
       "      <td>0.568205</td>\n",
       "    </tr>\n",
       "    <tr>\n",
       "      <th>14</th>\n",
       "      <td>relative_time_bin</td>\n",
       "      <td>personalfinance</td>\n",
       "      <td>0.499198</td>\n",
       "      <td>0.359396</td>\n",
       "      <td>0.588575</td>\n",
       "      <td>0.473986</td>\n",
       "      <td>0.498242</td>\n",
       "    </tr>\n",
       "  </tbody>\n",
       "</table>\n",
       "</div>"
      ],
      "text/plain": [
       "         reader_group        subreddit  model_acc  F1_class=1  F1_class=0  \\\n",
       "0      expert_pct_bin           Advice   0.498092    0.628729    0.224563   \n",
       "1      expert_pct_bin    AmItheAsshole   0.507100    0.620284    0.296443   \n",
       "2      expert_pct_bin      legaladvice   0.495956    0.602346    0.310876   \n",
       "3      expert_pct_bin     pcmasterrace   0.547577    0.631915    0.411572   \n",
       "4      expert_pct_bin  personalfinance   0.507897    0.626955    0.275558   \n",
       "5     location_region           Advice   0.498292    0.567337    0.396329   \n",
       "6     location_region    AmItheAsshole   0.510898    0.540417    0.459347   \n",
       "7     location_region      legaladvice   0.537581    0.393540    0.624653   \n",
       "8     location_region     pcmasterrace   0.532260    0.656421    0.260376   \n",
       "9     location_region  personalfinance   0.528611    0.303534    0.642648   \n",
       "10  relative_time_bin           Advice   0.478110    0.304975    0.581956   \n",
       "11  relative_time_bin    AmItheAsshole   0.500883    0.403134    0.570459   \n",
       "12  relative_time_bin      legaladvice   0.521096    0.425780    0.588837   \n",
       "13  relative_time_bin     pcmasterrace   0.542259    0.469812    0.594006   \n",
       "14  relative_time_bin  personalfinance   0.499198    0.359396    0.588575   \n",
       "\n",
       "    F1_macro       AUC  \n",
       "0   0.426646  0.502582  \n",
       "1   0.458363  0.509524  \n",
       "2   0.456611  0.504757  \n",
       "3   0.521743  0.558143  \n",
       "4   0.451256  0.523585  \n",
       "5   0.481833  0.500927  \n",
       "6   0.499882  0.506991  \n",
       "7   0.509097  0.541916  \n",
       "8   0.458399  0.749610  \n",
       "9   0.473091  0.552832  \n",
       "10  0.443465  0.468801  \n",
       "11  0.486796  0.502319  \n",
       "12  0.507309  0.537959  \n",
       "13  0.531909  0.568205  \n",
       "14  0.473986  0.498242  "
      ]
     },
     "metadata": {},
     "output_type": "display_data"
    },
    {
     "data": {
      "text/html": [
       "<div>\n",
       "<style scoped>\n",
       "    .dataframe tbody tr th:only-of-type {\n",
       "        vertical-align: middle;\n",
       "    }\n",
       "\n",
       "    .dataframe tbody tr th {\n",
       "        vertical-align: top;\n",
       "    }\n",
       "\n",
       "    .dataframe thead th {\n",
       "        text-align: right;\n",
       "    }\n",
       "</style>\n",
       "<table border=\"1\" class=\"dataframe\">\n",
       "  <thead>\n",
       "    <tr style=\"text-align: right;\">\n",
       "      <th></th>\n",
       "      <th>reader_group</th>\n",
       "      <th>model_acc</th>\n",
       "      <th>F1_class=1</th>\n",
       "      <th>F1_class=0</th>\n",
       "      <th>F1_macro</th>\n",
       "      <th>AUC</th>\n",
       "    </tr>\n",
       "  </thead>\n",
       "  <tbody>\n",
       "    <tr>\n",
       "      <th>0</th>\n",
       "      <td>expert_pct_bin</td>\n",
       "      <td>0.511324</td>\n",
       "      <td>0.622046</td>\n",
       "      <td>0.303802</td>\n",
       "      <td>0.462924</td>\n",
       "      <td>0.519718</td>\n",
       "    </tr>\n",
       "    <tr>\n",
       "      <th>1</th>\n",
       "      <td>location_region</td>\n",
       "      <td>0.521528</td>\n",
       "      <td>0.492250</td>\n",
       "      <td>0.476671</td>\n",
       "      <td>0.484460</td>\n",
       "      <td>0.570455</td>\n",
       "    </tr>\n",
       "    <tr>\n",
       "      <th>2</th>\n",
       "      <td>relative_time_bin</td>\n",
       "      <td>0.508309</td>\n",
       "      <td>0.392619</td>\n",
       "      <td>0.584767</td>\n",
       "      <td>0.488693</td>\n",
       "      <td>0.515105</td>\n",
       "    </tr>\n",
       "  </tbody>\n",
       "</table>\n",
       "</div>"
      ],
      "text/plain": [
       "        reader_group  model_acc  F1_class=1  F1_class=0  F1_macro       AUC\n",
       "0     expert_pct_bin   0.511324    0.622046    0.303802  0.462924  0.519718\n",
       "1    location_region   0.521528    0.492250    0.476671  0.484460  0.570455\n",
       "2  relative_time_bin   0.508309    0.392619    0.584767  0.488693  0.515105"
      ]
     },
     "metadata": {},
     "output_type": "display_data"
    }
   ],
   "source": [
    "score_vars = ['model_acc', 'F1_class=1', 'F1_class=0', 'F1_macro', 'AUC']\n",
    "per_subreddit_mean_combined_model_scores = combined_model_scores.groupby(['reader_group', 'subreddit']).apply(lambda x: x.loc[:, score_vars].mean(axis=0)).reset_index()\n",
    "display(per_subreddit_mean_combined_model_scores)\n",
    "# mean on all subreddits\n",
    "mean_combined_model_scores = combined_model_scores.groupby('reader_group').apply(lambda x: x.loc[:, score_vars].mean(axis=0)).reset_index()\n",
    "display(mean_combined_model_scores)"
   ]
  },
  {
   "cell_type": "markdown",
   "metadata": {},
   "source": [
    "Let's compare this with question-only prediction."
   ]
  },
  {
   "cell_type": "code",
   "execution_count": 37,
   "metadata": {
    "scrolled": true
   },
   "outputs": [
    {
     "name": "stdout",
     "output_type": "stream",
     "text": [
      "testing subreddit = Advice\n",
      "testing reader group = expert_pct_bin\n"
     ]
    },
    {
     "name": "stderr",
     "output_type": "stream",
     "text": [
      "100%|██████████| 10/10 [03:51<00:00, 23.10s/it]\n"
     ]
    },
    {
     "name": "stdout",
     "output_type": "stream",
     "text": [
      "testing reader group = location_region\n"
     ]
    },
    {
     "name": "stderr",
     "output_type": "stream",
     "text": [
      "100%|██████████| 10/10 [00:40<00:00,  4.05s/it]\n"
     ]
    },
    {
     "name": "stdout",
     "output_type": "stream",
     "text": [
      "testing reader group = relative_time_bin\n"
     ]
    },
    {
     "name": "stderr",
     "output_type": "stream",
     "text": [
      "100%|██████████| 10/10 [03:38<00:00, 21.82s/it]\n"
     ]
    },
    {
     "name": "stdout",
     "output_type": "stream",
     "text": [
      "testing subreddit = AmItheAsshole\n",
      "testing reader group = expert_pct_bin\n"
     ]
    },
    {
     "name": "stderr",
     "output_type": "stream",
     "text": [
      "100%|██████████| 10/10 [06:00<00:00, 36.03s/it]\n"
     ]
    },
    {
     "name": "stdout",
     "output_type": "stream",
     "text": [
      "testing reader group = location_region\n"
     ]
    },
    {
     "name": "stderr",
     "output_type": "stream",
     "text": [
      "100%|██████████| 10/10 [01:22<00:00,  8.23s/it]\n"
     ]
    },
    {
     "name": "stdout",
     "output_type": "stream",
     "text": [
      "testing reader group = relative_time_bin\n"
     ]
    },
    {
     "name": "stderr",
     "output_type": "stream",
     "text": [
      "100%|██████████| 10/10 [06:55<00:00, 41.51s/it]\n"
     ]
    },
    {
     "name": "stdout",
     "output_type": "stream",
     "text": [
      "testing subreddit = legaladvice\n",
      "testing reader group = expert_pct_bin\n"
     ]
    },
    {
     "name": "stderr",
     "output_type": "stream",
     "text": [
      "100%|██████████| 10/10 [03:51<00:00, 23.12s/it]\n"
     ]
    },
    {
     "name": "stdout",
     "output_type": "stream",
     "text": [
      "testing reader group = location_region\n"
     ]
    },
    {
     "name": "stderr",
     "output_type": "stream",
     "text": [
      "100%|██████████| 10/10 [00:49<00:00,  4.91s/it]\n"
     ]
    },
    {
     "name": "stdout",
     "output_type": "stream",
     "text": [
      "testing reader group = relative_time_bin\n"
     ]
    },
    {
     "name": "stderr",
     "output_type": "stream",
     "text": [
      "100%|██████████| 10/10 [03:46<00:00, 22.62s/it]\n"
     ]
    },
    {
     "name": "stdout",
     "output_type": "stream",
     "text": [
      "testing subreddit = pcmasterrace\n",
      "testing reader group = expert_pct_bin\n"
     ]
    },
    {
     "name": "stderr",
     "output_type": "stream",
     "text": [
      "100%|██████████| 10/10 [03:08<00:00, 18.87s/it]\n"
     ]
    },
    {
     "name": "stdout",
     "output_type": "stream",
     "text": [
      "testing reader group = location_region\n"
     ]
    },
    {
     "name": "stderr",
     "output_type": "stream",
     "text": [
      "100%|██████████| 10/10 [00:29<00:00,  2.90s/it]\n"
     ]
    },
    {
     "name": "stdout",
     "output_type": "stream",
     "text": [
      "testing reader group = relative_time_bin\n"
     ]
    },
    {
     "name": "stderr",
     "output_type": "stream",
     "text": [
      "100%|██████████| 10/10 [02:44<00:00, 16.46s/it]\n"
     ]
    },
    {
     "name": "stdout",
     "output_type": "stream",
     "text": [
      "testing subreddit = personalfinance\n",
      "testing reader group = expert_pct_bin\n"
     ]
    },
    {
     "name": "stderr",
     "output_type": "stream",
     "text": [
      "100%|██████████| 10/10 [04:31<00:00, 27.12s/it]\n"
     ]
    },
    {
     "name": "stdout",
     "output_type": "stream",
     "text": [
      "testing reader group = location_region\n"
     ]
    },
    {
     "name": "stderr",
     "output_type": "stream",
     "text": [
      "100%|██████████| 10/10 [01:12<00:00,  7.28s/it]\n"
     ]
    },
    {
     "name": "stdout",
     "output_type": "stream",
     "text": [
      "testing reader group = relative_time_bin\n"
     ]
    },
    {
     "name": "stderr",
     "output_type": "stream",
     "text": [
      "100%|██████████| 10/10 [04:28<00:00, 26.81s/it]\n"
     ]
    }
   ],
   "source": [
    "question_data_combined_model_scores = []\n",
    "for subreddit_i, data_i in reader_group_test_data.groupby('subreddit'):\n",
    "    print(f'testing subreddit = {subreddit_i}')\n",
    "    for reader_group_j, data_j in data_i.groupby('reader_group'):\n",
    "        print(f'testing reader group = {reader_group_j}')\n",
    "        default_group_class_j = reader_group_default_class[reader_group_j]\n",
    "        model_scores_j = train_test_reader_group_classification(data_j, text_var=text_var, post_var=None)\n",
    "        model_scores_j = model_scores_j.assign(**{\n",
    "            'reader_group' : reader_group_j,\n",
    "            'subreddit' : subreddit_i,\n",
    "        })\n",
    "        question_data_combined_model_scores.append(model_scores_j)\n",
    "question_data_combined_model_scores = pd.concat(question_data_combined_model_scores, axis=0)"
   ]
  },
  {
   "cell_type": "code",
   "execution_count": 38,
   "metadata": {
    "scrolled": true
   },
   "outputs": [
    {
     "data": {
      "text/html": [
       "<div>\n",
       "<style scoped>\n",
       "    .dataframe tbody tr th:only-of-type {\n",
       "        vertical-align: middle;\n",
       "    }\n",
       "\n",
       "    .dataframe tbody tr th {\n",
       "        vertical-align: top;\n",
       "    }\n",
       "\n",
       "    .dataframe thead th {\n",
       "        text-align: right;\n",
       "    }\n",
       "</style>\n",
       "<table border=\"1\" class=\"dataframe\">\n",
       "  <thead>\n",
       "    <tr style=\"text-align: right;\">\n",
       "      <th></th>\n",
       "      <th>reader_group</th>\n",
       "      <th>subreddit</th>\n",
       "      <th>model_acc</th>\n",
       "      <th>F1_class=1</th>\n",
       "      <th>F1_class=0</th>\n",
       "      <th>F1_macro</th>\n",
       "      <th>AUC</th>\n",
       "    </tr>\n",
       "  </thead>\n",
       "  <tbody>\n",
       "    <tr>\n",
       "      <th>0</th>\n",
       "      <td>expert_pct_bin</td>\n",
       "      <td>Advice</td>\n",
       "      <td>0.502788</td>\n",
       "      <td>0.619986</td>\n",
       "      <td>0.279057</td>\n",
       "      <td>0.449521</td>\n",
       "      <td>0.499977</td>\n",
       "    </tr>\n",
       "    <tr>\n",
       "      <th>1</th>\n",
       "      <td>expert_pct_bin</td>\n",
       "      <td>AmItheAsshole</td>\n",
       "      <td>0.516033</td>\n",
       "      <td>0.620268</td>\n",
       "      <td>0.331692</td>\n",
       "      <td>0.475980</td>\n",
       "      <td>0.523996</td>\n",
       "    </tr>\n",
       "    <tr>\n",
       "      <th>2</th>\n",
       "      <td>expert_pct_bin</td>\n",
       "      <td>legaladvice</td>\n",
       "      <td>0.507368</td>\n",
       "      <td>0.600827</td>\n",
       "      <td>0.354950</td>\n",
       "      <td>0.477888</td>\n",
       "      <td>0.523969</td>\n",
       "    </tr>\n",
       "    <tr>\n",
       "      <th>3</th>\n",
       "      <td>expert_pct_bin</td>\n",
       "      <td>pcmasterrace</td>\n",
       "      <td>0.579136</td>\n",
       "      <td>0.651391</td>\n",
       "      <td>0.468271</td>\n",
       "      <td>0.559831</td>\n",
       "      <td>0.589624</td>\n",
       "    </tr>\n",
       "    <tr>\n",
       "      <th>4</th>\n",
       "      <td>expert_pct_bin</td>\n",
       "      <td>personalfinance</td>\n",
       "      <td>0.502795</td>\n",
       "      <td>0.605367</td>\n",
       "      <td>0.327679</td>\n",
       "      <td>0.466523</td>\n",
       "      <td>0.510674</td>\n",
       "    </tr>\n",
       "    <tr>\n",
       "      <th>5</th>\n",
       "      <td>location_region</td>\n",
       "      <td>Advice</td>\n",
       "      <td>0.518171</td>\n",
       "      <td>0.587308</td>\n",
       "      <td>0.414926</td>\n",
       "      <td>0.501117</td>\n",
       "      <td>0.512395</td>\n",
       "    </tr>\n",
       "    <tr>\n",
       "      <th>6</th>\n",
       "      <td>location_region</td>\n",
       "      <td>AmItheAsshole</td>\n",
       "      <td>0.532392</td>\n",
       "      <td>0.577740</td>\n",
       "      <td>0.465840</td>\n",
       "      <td>0.521790</td>\n",
       "      <td>0.536454</td>\n",
       "    </tr>\n",
       "    <tr>\n",
       "      <th>7</th>\n",
       "      <td>location_region</td>\n",
       "      <td>legaladvice</td>\n",
       "      <td>0.523686</td>\n",
       "      <td>0.404276</td>\n",
       "      <td>0.600232</td>\n",
       "      <td>0.502254</td>\n",
       "      <td>0.511205</td>\n",
       "    </tr>\n",
       "    <tr>\n",
       "      <th>8</th>\n",
       "      <td>location_region</td>\n",
       "      <td>pcmasterrace</td>\n",
       "      <td>0.566329</td>\n",
       "      <td>0.682255</td>\n",
       "      <td>0.306767</td>\n",
       "      <td>0.494511</td>\n",
       "      <td>0.750971</td>\n",
       "    </tr>\n",
       "    <tr>\n",
       "      <th>9</th>\n",
       "      <td>location_region</td>\n",
       "      <td>personalfinance</td>\n",
       "      <td>0.529801</td>\n",
       "      <td>0.334111</td>\n",
       "      <td>0.634924</td>\n",
       "      <td>0.484518</td>\n",
       "      <td>0.561600</td>\n",
       "    </tr>\n",
       "    <tr>\n",
       "      <th>10</th>\n",
       "      <td>relative_time_bin</td>\n",
       "      <td>Advice</td>\n",
       "      <td>0.499798</td>\n",
       "      <td>0.376955</td>\n",
       "      <td>0.581788</td>\n",
       "      <td>0.479371</td>\n",
       "      <td>0.498544</td>\n",
       "    </tr>\n",
       "    <tr>\n",
       "      <th>11</th>\n",
       "      <td>relative_time_bin</td>\n",
       "      <td>AmItheAsshole</td>\n",
       "      <td>0.506846</td>\n",
       "      <td>0.400242</td>\n",
       "      <td>0.581091</td>\n",
       "      <td>0.490666</td>\n",
       "      <td>0.508981</td>\n",
       "    </tr>\n",
       "    <tr>\n",
       "      <th>12</th>\n",
       "      <td>relative_time_bin</td>\n",
       "      <td>legaladvice</td>\n",
       "      <td>0.501519</td>\n",
       "      <td>0.429121</td>\n",
       "      <td>0.556925</td>\n",
       "      <td>0.493023</td>\n",
       "      <td>0.514487</td>\n",
       "    </tr>\n",
       "    <tr>\n",
       "      <th>13</th>\n",
       "      <td>relative_time_bin</td>\n",
       "      <td>pcmasterrace</td>\n",
       "      <td>0.532096</td>\n",
       "      <td>0.509127</td>\n",
       "      <td>0.537273</td>\n",
       "      <td>0.523200</td>\n",
       "      <td>0.541461</td>\n",
       "    </tr>\n",
       "    <tr>\n",
       "      <th>14</th>\n",
       "      <td>relative_time_bin</td>\n",
       "      <td>personalfinance</td>\n",
       "      <td>0.507244</td>\n",
       "      <td>0.412031</td>\n",
       "      <td>0.575440</td>\n",
       "      <td>0.493735</td>\n",
       "      <td>0.506606</td>\n",
       "    </tr>\n",
       "  </tbody>\n",
       "</table>\n",
       "</div>"
      ],
      "text/plain": [
       "         reader_group        subreddit  model_acc  F1_class=1  F1_class=0  \\\n",
       "0      expert_pct_bin           Advice   0.502788    0.619986    0.279057   \n",
       "1      expert_pct_bin    AmItheAsshole   0.516033    0.620268    0.331692   \n",
       "2      expert_pct_bin      legaladvice   0.507368    0.600827    0.354950   \n",
       "3      expert_pct_bin     pcmasterrace   0.579136    0.651391    0.468271   \n",
       "4      expert_pct_bin  personalfinance   0.502795    0.605367    0.327679   \n",
       "5     location_region           Advice   0.518171    0.587308    0.414926   \n",
       "6     location_region    AmItheAsshole   0.532392    0.577740    0.465840   \n",
       "7     location_region      legaladvice   0.523686    0.404276    0.600232   \n",
       "8     location_region     pcmasterrace   0.566329    0.682255    0.306767   \n",
       "9     location_region  personalfinance   0.529801    0.334111    0.634924   \n",
       "10  relative_time_bin           Advice   0.499798    0.376955    0.581788   \n",
       "11  relative_time_bin    AmItheAsshole   0.506846    0.400242    0.581091   \n",
       "12  relative_time_bin      legaladvice   0.501519    0.429121    0.556925   \n",
       "13  relative_time_bin     pcmasterrace   0.532096    0.509127    0.537273   \n",
       "14  relative_time_bin  personalfinance   0.507244    0.412031    0.575440   \n",
       "\n",
       "    F1_macro       AUC  \n",
       "0   0.449521  0.499977  \n",
       "1   0.475980  0.523996  \n",
       "2   0.477888  0.523969  \n",
       "3   0.559831  0.589624  \n",
       "4   0.466523  0.510674  \n",
       "5   0.501117  0.512395  \n",
       "6   0.521790  0.536454  \n",
       "7   0.502254  0.511205  \n",
       "8   0.494511  0.750971  \n",
       "9   0.484518  0.561600  \n",
       "10  0.479371  0.498544  \n",
       "11  0.490666  0.508981  \n",
       "12  0.493023  0.514487  \n",
       "13  0.523200  0.541461  \n",
       "14  0.493735  0.506606  "
      ]
     },
     "metadata": {},
     "output_type": "display_data"
    },
    {
     "data": {
      "text/html": [
       "<div>\n",
       "<style scoped>\n",
       "    .dataframe tbody tr th:only-of-type {\n",
       "        vertical-align: middle;\n",
       "    }\n",
       "\n",
       "    .dataframe tbody tr th {\n",
       "        vertical-align: top;\n",
       "    }\n",
       "\n",
       "    .dataframe thead th {\n",
       "        text-align: right;\n",
       "    }\n",
       "</style>\n",
       "<table border=\"1\" class=\"dataframe\">\n",
       "  <thead>\n",
       "    <tr style=\"text-align: right;\">\n",
       "      <th></th>\n",
       "      <th>reader_group</th>\n",
       "      <th>model_acc</th>\n",
       "      <th>F1_class=1</th>\n",
       "      <th>F1_class=0</th>\n",
       "      <th>F1_macro</th>\n",
       "      <th>AUC</th>\n",
       "    </tr>\n",
       "  </thead>\n",
       "  <tbody>\n",
       "    <tr>\n",
       "      <th>0</th>\n",
       "      <td>expert_pct_bin</td>\n",
       "      <td>0.521624</td>\n",
       "      <td>0.619568</td>\n",
       "      <td>0.352330</td>\n",
       "      <td>0.485949</td>\n",
       "      <td>0.529648</td>\n",
       "    </tr>\n",
       "    <tr>\n",
       "      <th>1</th>\n",
       "      <td>location_region</td>\n",
       "      <td>0.534076</td>\n",
       "      <td>0.517138</td>\n",
       "      <td>0.484538</td>\n",
       "      <td>0.500838</td>\n",
       "      <td>0.574525</td>\n",
       "    </tr>\n",
       "    <tr>\n",
       "      <th>2</th>\n",
       "      <td>relative_time_bin</td>\n",
       "      <td>0.509501</td>\n",
       "      <td>0.425495</td>\n",
       "      <td>0.566503</td>\n",
       "      <td>0.495999</td>\n",
       "      <td>0.514016</td>\n",
       "    </tr>\n",
       "  </tbody>\n",
       "</table>\n",
       "</div>"
      ],
      "text/plain": [
       "        reader_group  model_acc  F1_class=1  F1_class=0  F1_macro       AUC\n",
       "0     expert_pct_bin   0.521624    0.619568    0.352330  0.485949  0.529648\n",
       "1    location_region   0.534076    0.517138    0.484538  0.500838  0.574525\n",
       "2  relative_time_bin   0.509501    0.425495    0.566503  0.495999  0.514016"
      ]
     },
     "metadata": {},
     "output_type": "display_data"
    }
   ],
   "source": [
    "score_vars = ['model_acc', 'F1_class=1', 'F1_class=0', 'F1_macro', 'AUC']\n",
    "per_subreddit_mean_question_model_scores = question_data_combined_model_scores.groupby(['reader_group', 'subreddit']).apply(lambda x: x.loc[:, score_vars].mean(axis=0)).reset_index()\n",
    "display(per_subreddit_mean_question_model_scores)\n",
    "# mean on all subreddits\n",
    "mean_question_model_scores = question_data_combined_model_scores.groupby('reader_group').apply(lambda x: x.loc[:, score_vars].mean(axis=0)).reset_index()\n",
    "display(mean_question_model_scores)"
   ]
  },
  {
   "cell_type": "markdown",
   "metadata": {},
   "source": [
    "The scores for the question-only model are slightly higher than the scores for the question + post model...this could indicate overfitting for the question + post model."
   ]
  },
  {
   "cell_type": "code",
   "execution_count": null,
   "metadata": {},
   "outputs": [],
   "source": [
    "## TODO: test model on different thresholds for \"expert\" vs. \"novice\", \"fast\" vs. \"slow\" readers"
   ]
  },
  {
   "cell_type": "markdown",
   "metadata": {},
   "source": [
    "### Test model on \"extreme\" readers\n",
    "We previously defined \"experts\" and \"novices\" based on a binary cutoff at 75% per-subreddit, and \"fast\" and \"slow\" responses at 50% per-subreddit. What if we restrict these categories to the most extreme members and look at the remaining questions? E.g. only look at \"extreme\" experts and novices."
   ]
  },
  {
   "cell_type": "code",
   "execution_count": 1,
   "metadata": {},
   "outputs": [
    {
     "name": "stderr",
     "output_type": "stream",
     "text": [
      "/home/ianbstew/miniconda3/envs/py3/lib/python3.8/site-packages/IPython/core/interactiveshell.py:3418: DtypeWarning: Columns (2,8,9,10,11) have mixed types.Specify dtype option on import or set low_memory=False.\n",
      "  exec(code_obj, self.user_global_ns, self.user_ns)\n"
     ]
    },
    {
     "data": {
      "text/html": [
       "<div>\n",
       "<style scoped>\n",
       "    .dataframe tbody tr th:only-of-type {\n",
       "        vertical-align: middle;\n",
       "    }\n",
       "\n",
       "    .dataframe tbody tr th {\n",
       "        vertical-align: top;\n",
       "    }\n",
       "\n",
       "    .dataframe thead th {\n",
       "        text-align: right;\n",
       "    }\n",
       "</style>\n",
       "<table border=\"1\" class=\"dataframe\">\n",
       "  <thead>\n",
       "    <tr style=\"text-align: right;\">\n",
       "      <th></th>\n",
       "      <th>author</th>\n",
       "      <th>date_day</th>\n",
       "      <th>subreddit</th>\n",
       "      <th>expert_pct</th>\n",
       "      <th>relative_time</th>\n",
       "      <th>expert_pct_bin</th>\n",
       "      <th>relative_time_bin</th>\n",
       "      <th>age</th>\n",
       "      <th>location_self_id</th>\n",
       "      <th>location</th>\n",
       "      <th>location_region</th>\n",
       "      <th>subreddit_country</th>\n",
       "      <th>date_day_bin</th>\n",
       "      <th>text_embed</th>\n",
       "      <th>subreddit_embed</th>\n",
       "    </tr>\n",
       "  </thead>\n",
       "  <tbody>\n",
       "    <tr>\n",
       "      <th>0</th>\n",
       "      <td>talosguideu</td>\n",
       "      <td>2019-06-05</td>\n",
       "      <td>Advice</td>\n",
       "      <td>0.010000</td>\n",
       "      <td>6.247118</td>\n",
       "      <td>0.0</td>\n",
       "      <td>0.0</td>\n",
       "      <td>-1.0</td>\n",
       "      <td>us</td>\n",
       "      <td>us</td>\n",
       "      <td>US</td>\n",
       "      <td>UNK</td>\n",
       "      <td>2019-01-01</td>\n",
       "      <td>[0.22358277440071106, 0.28246960043907166, -0....</td>\n",
       "      <td>[16.383529609746823, 11.534988324393423, 4.245...</td>\n",
       "    </tr>\n",
       "    <tr>\n",
       "      <th>1</th>\n",
       "      <td>talosguideu</td>\n",
       "      <td>2019-03-02</td>\n",
       "      <td>Advice</td>\n",
       "      <td>0.010101</td>\n",
       "      <td>6.265348</td>\n",
       "      <td>0.0</td>\n",
       "      <td>0.0</td>\n",
       "      <td>-1.0</td>\n",
       "      <td>us</td>\n",
       "      <td>us</td>\n",
       "      <td>US</td>\n",
       "      <td>UNK</td>\n",
       "      <td>2019-01-01</td>\n",
       "      <td>[0.22358277440071106, 0.28246960043907166, -0....</td>\n",
       "      <td>[16.383529609746823, 11.534988324393423, 4.245...</td>\n",
       "    </tr>\n",
       "    <tr>\n",
       "      <th>2</th>\n",
       "      <td>talosguideu</td>\n",
       "      <td>2019-03-30</td>\n",
       "      <td>Advice</td>\n",
       "      <td>0.010000</td>\n",
       "      <td>6.247118</td>\n",
       "      <td>0.0</td>\n",
       "      <td>0.0</td>\n",
       "      <td>-1.0</td>\n",
       "      <td>us</td>\n",
       "      <td>us</td>\n",
       "      <td>US</td>\n",
       "      <td>UNK</td>\n",
       "      <td>2019-01-01</td>\n",
       "      <td>[0.22358277440071106, 0.28246960043907166, -0....</td>\n",
       "      <td>[16.383529609746823, 11.534988324393423, 4.245...</td>\n",
       "    </tr>\n",
       "    <tr>\n",
       "      <th>3</th>\n",
       "      <td>talosguideu</td>\n",
       "      <td>2019-05-18</td>\n",
       "      <td>Advice</td>\n",
       "      <td>0.010000</td>\n",
       "      <td>6.247118</td>\n",
       "      <td>0.0</td>\n",
       "      <td>0.0</td>\n",
       "      <td>-1.0</td>\n",
       "      <td>us</td>\n",
       "      <td>us</td>\n",
       "      <td>US</td>\n",
       "      <td>UNK</td>\n",
       "      <td>2019-01-01</td>\n",
       "      <td>[0.22358277440071106, 0.28246960043907166, -0....</td>\n",
       "      <td>[16.383529609746823, 11.534988324393423, 4.245...</td>\n",
       "    </tr>\n",
       "    <tr>\n",
       "      <th>4</th>\n",
       "      <td>talosguideu</td>\n",
       "      <td>2019-05-24</td>\n",
       "      <td>Advice</td>\n",
       "      <td>0.010000</td>\n",
       "      <td>6.247118</td>\n",
       "      <td>0.0</td>\n",
       "      <td>0.0</td>\n",
       "      <td>-1.0</td>\n",
       "      <td>us</td>\n",
       "      <td>us</td>\n",
       "      <td>US</td>\n",
       "      <td>UNK</td>\n",
       "      <td>2019-01-01</td>\n",
       "      <td>[0.22358277440071106, 0.28246960043907166, -0....</td>\n",
       "      <td>[16.383529609746823, 11.534988324393423, 4.245...</td>\n",
       "    </tr>\n",
       "  </tbody>\n",
       "</table>\n",
       "</div>"
      ],
      "text/plain": [
       "        author   date_day subreddit  expert_pct  relative_time  \\\n",
       "0  talosguideu 2019-06-05    Advice    0.010000       6.247118   \n",
       "1  talosguideu 2019-03-02    Advice    0.010101       6.265348   \n",
       "2  talosguideu 2019-03-30    Advice    0.010000       6.247118   \n",
       "3  talosguideu 2019-05-18    Advice    0.010000       6.247118   \n",
       "4  talosguideu 2019-05-24    Advice    0.010000       6.247118   \n",
       "\n",
       "   expert_pct_bin  relative_time_bin  age location_self_id location  \\\n",
       "0             0.0                0.0 -1.0               us       us   \n",
       "1             0.0                0.0 -1.0               us       us   \n",
       "2             0.0                0.0 -1.0               us       us   \n",
       "3             0.0                0.0 -1.0               us       us   \n",
       "4             0.0                0.0 -1.0               us       us   \n",
       "\n",
       "  location_region subreddit_country date_day_bin  \\\n",
       "0              US               UNK   2019-01-01   \n",
       "1              US               UNK   2019-01-01   \n",
       "2              US               UNK   2019-01-01   \n",
       "3              US               UNK   2019-01-01   \n",
       "4              US               UNK   2019-01-01   \n",
       "\n",
       "                                          text_embed  \\\n",
       "0  [0.22358277440071106, 0.28246960043907166, -0....   \n",
       "1  [0.22358277440071106, 0.28246960043907166, -0....   \n",
       "2  [0.22358277440071106, 0.28246960043907166, -0....   \n",
       "3  [0.22358277440071106, 0.28246960043907166, -0....   \n",
       "4  [0.22358277440071106, 0.28246960043907166, -0....   \n",
       "\n",
       "                                     subreddit_embed  \n",
       "0  [16.383529609746823, 11.534988324393423, 4.245...  \n",
       "1  [16.383529609746823, 11.534988324393423, 4.245...  \n",
       "2  [16.383529609746823, 11.534988324393423, 4.245...  \n",
       "3  [16.383529609746823, 11.534988324393423, 4.245...  \n",
       "4  [16.383529609746823, 11.534988324393423, 4.245...  "
      ]
     },
     "metadata": {},
     "output_type": "display_data"
    },
    {
     "name": "stdout",
     "output_type": "stream",
     "text": [
      "325229\n"
     ]
    }
   ],
   "source": [
    "## load original author data\n",
    "import pandas as pd\n",
    "from datetime import datetime\n",
    "author_data = pd.read_csv('../../data/reddit_data/author_data/combined_author_prior_comment_data.gz', sep='\\t', compression='gzip', converters={'date_day' : lambda x: datetime.strptime(x, '%Y-%m-%d') if x!='' else None})\n",
    "display(author_data.head())\n",
    "print(author_data.shape[0])"
   ]
  },
  {
   "cell_type": "markdown",
   "metadata": {},
   "source": [
    "Combine with question and post data, which we will use for classification."
   ]
  },
  {
   "cell_type": "code",
   "execution_count": 12,
   "metadata": {},
   "outputs": [
    {
     "name": "stderr",
     "output_type": "stream",
     "text": [
      "/home/ianbstew/miniconda3/envs/py3/lib/python3.8/site-packages/IPython/core/interactiveshell.py:3418: DtypeWarning: Columns (2,11) have mixed types.Specify dtype option on import or set low_memory=False.\n",
      "  exec(code_obj, self.user_global_ns, self.user_ns)\n"
     ]
    },
    {
     "name": "stdout",
     "output_type": "stream",
     "text": [
      "(144445, 22)\n"
     ]
    }
   ],
   "source": [
    "## load question + post data\n",
    "from datetime import datetime\n",
    "question_data = pd.read_csv('../../data/reddit_data/combined_data_clean_question_data.gz', sep='\\t', compression='gzip')\n",
    "comment_data = pd.read_csv('../../data/reddit_data/advice_subreddit_filter_comment_question_data.gz', sep='\\t', usecols=['id', 'created_utc'], converters={'created_utc' : lambda x: datetime.fromtimestamp(int(x))}).drop_duplicates('id')\n",
    "post_data = pd.read_csv('../../data/reddit_data/subreddit_submissions_2018-01_2019-12.gz', sep='\\t', compression='gzip').rename(columns={'id' : 'article_id'})\n",
    "question_data = pd.merge(question_data, comment_data, on='id', how='left')\n",
    "question_post_data = pd.merge(question_data, post_data.loc[:, ['article_id', 'selftext']], on='article_id').rename(columns={'selftext' : 'post'})\n",
    "## convert question date => day\n",
    "import sys\n",
    "if('..' not in sys.path):\n",
    "    sys.path.append('..')\n",
    "from data_processing.data_helpers import round_date_to_day\n",
    "question_post_data = question_post_data.assign(**{\n",
    "    'date_day' : question_post_data.loc[:, 'created_utc'].apply(lambda x: round_date_to_day(int(x.timestamp())))\n",
    "})\n",
    "## join with author data\n",
    "question_author_data = pd.merge(question_post_data, \n",
    "                                author_data.loc[:, ['author', 'subreddit', 'date_day', 'expert_pct', 'relative_time']],\n",
    "                                on=['author', 'subreddit', 'date_day'])\n",
    "print(question_author_data.shape)\n",
    "# fix column names\n",
    "question_author_data.rename(columns={'source_text' : 'post', 'target_text' : 'question', 'article_id' : 'parent_id'}, inplace=True)"
   ]
  },
  {
   "cell_type": "code",
   "execution_count": 14,
   "metadata": {
    "scrolled": true
   },
   "outputs": [
    {
     "data": {
      "application/vnd.jupyter.widget-view+json": {
       "model_id": "609980290e684d4e85b369a750daed0d",
       "version_major": 2,
       "version_minor": 0
      },
      "text/plain": [
       "Batches:   0%|          | 0/9028 [00:00<?, ?it/s]"
      ]
     },
     "metadata": {},
     "output_type": "display_data"
    },
    {
     "data": {
      "application/vnd.jupyter.widget-view+json": {
       "model_id": "a84bf6a4cb66447eb02d88b7be05c608",
       "version_major": 2,
       "version_minor": 0
      },
      "text/plain": [
       "Batches:   0%|          | 0/9028 [00:00<?, ?it/s]"
      ]
     },
     "metadata": {},
     "output_type": "display_data"
    }
   ],
   "source": [
    "## compute sentence representations for post + question\n",
    "from model_helpers import load_sentence_embed_model\n",
    "from sklearn.decomposition import PCA\n",
    "import numpy as np\n",
    "import torch\n",
    "sentence_embed_model = load_sentence_embed_model()\n",
    "text_vars = ['question', 'post']\n",
    "dim = 100\n",
    "for text_var in text_vars:\n",
    "    encoding_i = sentence_embed_model.encode(question_author_data.loc[:, text_var].values, batch_size=16, device=torch.cuda.current_device(), show_progress_bar=True)\n",
    "    question_author_data = question_author_data.assign(**{\n",
    "        f'{text_var}_encoded' : [encoding_i[i, :] for i in range(encoding_i.shape[0])] \n",
    "    })\n",
    "    ## compress via PCA\n",
    "    PCA_model = PCA(n_components=dim)\n",
    "    PCA_encoding_i = PCA_model.fit_transform(np.vstack(question_author_data.loc[:, f'{text_var}_encoded'].values))\n",
    "    question_author_data = question_author_data.assign(**{\n",
    "        f'PCA_{text_var}_encoded' : [PCA_encoding_i[i, :] for i in range(PCA_encoding_i.shape[0])]\n",
    "    })"
   ]
  },
  {
   "cell_type": "code",
   "execution_count": 16,
   "metadata": {},
   "outputs": [
    {
     "name": "stderr",
     "output_type": "stream",
     "text": [
      "100%|██████████| 144445/144445 [00:31<00:00, 4569.39it/s]\n"
     ]
    }
   ],
   "source": [
    "## combine encodings for prediction later\n",
    "from tqdm import tqdm\n",
    "tqdm.pandas()\n",
    "question_author_data = question_author_data.assign(**{\n",
    "    'PCA_question_post_encoded' : question_author_data.progress_apply(lambda x: np.hstack([x.loc['PCA_question_encoded'], x.loc['PCA_post_encoded']]), axis=1)\n",
    "})"
   ]
  },
  {
   "cell_type": "code",
   "execution_count": 17,
   "metadata": {
    "scrolled": true
   },
   "outputs": [
    {
     "data": {
      "image/png": "[encoded data removed]",
      "text/plain": [
       "<Figure size 432x288 with 1 Axes>"
      ]
     },
     "metadata": {
      "needs_background": "light"
     },
     "output_type": "display_data"
    },
    {
     "data": {
      "image/png": "[encoded data removed]",
      "text/plain": [
       "<Figure size 432x288 with 1 Axes>"
      ]
     },
     "metadata": {
      "needs_background": "light"
     },
     "output_type": "display_data"
    }
   ],
   "source": [
    "## look at data distributions for expert_pct and relative_time\n",
    "import matplotlib\n",
    "%matplotlib inline\n",
    "import matplotlib.pyplot as plt\n",
    "import seaborn as sns\n",
    "author_vars = ['expert_pct', 'relative_time']\n",
    "for author_var_i in author_vars:\n",
    "    sns.histplot(data=question_author_data, x=author_var_i, stat='probability', bins=20, kde=True)\n",
    "    plt.title(f'Distribution of {author_var_i}')\n",
    "    plt.show()"
   ]
  },
  {
   "cell_type": "markdown",
   "metadata": {},
   "source": [
    "Let's experiment with some different cutoff values to determine how to identify groups with maximally different questions."
   ]
  },
  {
   "cell_type": "code",
   "execution_count": 68,
   "metadata": {
    "scrolled": true
   },
   "outputs": [],
   "source": [
    "import numpy as np\n",
    "pct_cutoffs = [10, 25, 50, 75, 90]\n",
    "author_var_cutoff_data = []\n",
    "for subreddit_i, data_i in question_author_data.groupby('subreddit'):\n",
    "    for pct_cutoff_j in pct_cutoffs:\n",
    "        for author_var_k in author_vars:\n",
    "            cutoff_k = np.percentile(data_i.loc[:, author_var_k], pct_cutoff_j)\n",
    "            cutoff_var_name_k = f'{author_var_k}>{pct_cutoff_j}'\n",
    "            data_i = data_i.assign(**{\n",
    "                cutoff_var_name_k : np.digitize(data_i.loc[:, author_var_k].values, [cutoff_k])\n",
    "            })\n",
    "    author_var_cutoff_data.append(data_i)\n",
    "author_var_cutoff_data = pd.concat(author_var_cutoff_data, axis=0)"
   ]
  },
  {
   "cell_type": "code",
   "execution_count": 81,
   "metadata": {},
   "outputs": [],
   "source": [
    "## save data to reboot GPU\n",
    "author_var_cutoff_data.to_csv('../../data/reddit_data/group_classification_model/author_var_cutoff_data.gz', sep='\\t', compression='gzip', index=False)"
   ]
  },
  {
   "cell_type": "code",
   "execution_count": 82,
   "metadata": {},
   "outputs": [
    {
     "name": "stdout",
     "output_type": "stream",
     "text": [
      "-rw-rw-r-- 1 ianbstew ianbstew 1.9G Oct 20 23:25 ../../data/reddit_data/group_classification_model/author_var_cutoff_data.gz\r\n"
     ]
    }
   ],
   "source": [
    "!ls -halt ../../data/reddit_data/group_classification_model/author_var_cutoff_data.gz"
   ]
  },
  {
   "cell_type": "markdown",
   "metadata": {},
   "source": [
    "How easily can a classifier differentiate the author groups for the different groups?\n",
    "\n",
    "We'll try an aggregate approach first and then per-subreddit if that doesn't work."
   ]
  },
  {
   "cell_type": "code",
   "execution_count": 2,
   "metadata": {},
   "outputs": [],
   "source": [
    "# reload data\n",
    "import pandas as pd\n",
    "author_var_cutoff_data = pd.read_csv('../../data/reddit_data/group_classification_model/author_var_cutoff_data.gz', sep='\\t', compression='gzip')"
   ]
  },
  {
   "cell_type": "code",
   "execution_count": 51,
   "metadata": {
    "scrolled": true
   },
   "outputs": [
    {
     "name": "stdout",
     "output_type": "stream",
     "text": [
      "testing author var = expert_pct\n",
      "testing cutoff var = expert_pct>10\n"
     ]
    },
    {
     "name": "stderr",
     "output_type": "stream",
     "text": [
      "100%|██████████| 10/10 [12:34<00:00, 75.44s/it]\n"
     ]
    },
    {
     "name": "stdout",
     "output_type": "stream",
     "text": [
      "testing cutoff var = expert_pct>25\n"
     ]
    },
    {
     "name": "stderr",
     "output_type": "stream",
     "text": [
      "100%|██████████| 10/10 [35:49<00:00, 214.93s/it]\n"
     ]
    },
    {
     "name": "stdout",
     "output_type": "stream",
     "text": [
      "testing cutoff var = expert_pct>50\n"
     ]
    },
    {
     "name": "stderr",
     "output_type": "stream",
     "text": [
      "100%|██████████| 10/10 [1:02:27<00:00, 374.75s/it]\n"
     ]
    },
    {
     "name": "stdout",
     "output_type": "stream",
     "text": [
      "testing author var = relative_time\n",
      "testing cutoff var = relative_time>10\n"
     ]
    },
    {
     "name": "stderr",
     "output_type": "stream",
     "text": [
      "100%|██████████| 10/10 [1:04:28<00:00, 386.83s/it]\n"
     ]
    },
    {
     "name": "stdout",
     "output_type": "stream",
     "text": [
      "testing cutoff var = relative_time>25\n"
     ]
    },
    {
     "name": "stderr",
     "output_type": "stream",
     "text": [
      "100%|██████████| 10/10 [1:04:11<00:00, 385.14s/it]\n"
     ]
    },
    {
     "name": "stdout",
     "output_type": "stream",
     "text": [
      "testing cutoff var = relative_time>50\n"
     ]
    },
    {
     "name": "stderr",
     "output_type": "stream",
     "text": [
      "100%|██████████| 10/10 [1:09:52<00:00, 419.24s/it]\n"
     ]
    },
    {
     "data": {
      "text/html": [
       "<div>\n",
       "<style scoped>\n",
       "    .dataframe tbody tr th:only-of-type {\n",
       "        vertical-align: middle;\n",
       "    }\n",
       "\n",
       "    .dataframe tbody tr th {\n",
       "        vertical-align: top;\n",
       "    }\n",
       "\n",
       "    .dataframe thead th {\n",
       "        text-align: right;\n",
       "    }\n",
       "</style>\n",
       "<table border=\"1\" class=\"dataframe\">\n",
       "  <thead>\n",
       "    <tr style=\"text-align: right;\">\n",
       "      <th></th>\n",
       "      <th>model_acc</th>\n",
       "      <th>F1_macro</th>\n",
       "      <th>AUC</th>\n",
       "      <th>author_var_cutoff</th>\n",
       "      <th>author_var</th>\n",
       "    </tr>\n",
       "  </thead>\n",
       "  <tbody>\n",
       "    <tr>\n",
       "      <th>0</th>\n",
       "      <td>0.540275</td>\n",
       "      <td>0.419688</td>\n",
       "      <td>0.933436</td>\n",
       "      <td>expert_pct&gt;10</td>\n",
       "      <td>expert_pct</td>\n",
       "    </tr>\n",
       "    <tr>\n",
       "      <th>1</th>\n",
       "      <td>0.535432</td>\n",
       "      <td>0.485231</td>\n",
       "      <td>0.602746</td>\n",
       "      <td>expert_pct&gt;25</td>\n",
       "      <td>expert_pct</td>\n",
       "    </tr>\n",
       "    <tr>\n",
       "      <th>2</th>\n",
       "      <td>0.509309</td>\n",
       "      <td>0.508313</td>\n",
       "      <td>0.51421</td>\n",
       "      <td>expert_pct&gt;50</td>\n",
       "      <td>expert_pct</td>\n",
       "    </tr>\n",
       "    <tr>\n",
       "      <th>3</th>\n",
       "      <td>0.508455</td>\n",
       "      <td>0.481266</td>\n",
       "      <td>0.514149</td>\n",
       "      <td>relative_time&gt;10</td>\n",
       "      <td>relative_time</td>\n",
       "    </tr>\n",
       "    <tr>\n",
       "      <th>4</th>\n",
       "      <td>0.505772</td>\n",
       "      <td>0.478452</td>\n",
       "      <td>0.510212</td>\n",
       "      <td>relative_time&gt;25</td>\n",
       "      <td>relative_time</td>\n",
       "    </tr>\n",
       "    <tr>\n",
       "      <th>5</th>\n",
       "      <td>0.505752</td>\n",
       "      <td>0.478838</td>\n",
       "      <td>0.512573</td>\n",
       "      <td>relative_time&gt;50</td>\n",
       "      <td>relative_time</td>\n",
       "    </tr>\n",
       "  </tbody>\n",
       "</table>\n",
       "</div>"
      ],
      "text/plain": [
       "  model_acc  F1_macro       AUC author_var_cutoff     author_var\n",
       "0  0.540275  0.419688  0.933436     expert_pct>10     expert_pct\n",
       "1  0.535432  0.485231  0.602746     expert_pct>25     expert_pct\n",
       "2  0.509309  0.508313   0.51421     expert_pct>50     expert_pct\n",
       "3  0.508455  0.481266  0.514149  relative_time>10  relative_time\n",
       "4  0.505772  0.478452  0.510212  relative_time>25  relative_time\n",
       "5  0.505752  0.478838  0.512573  relative_time>50  relative_time"
      ]
     },
     "metadata": {},
     "output_type": "display_data"
    }
   ],
   "source": [
    "## train, test\n",
    "from importlib import reload\n",
    "import model_helpers\n",
    "reload(model_helpers)\n",
    "from model_helpers import train_test_reader_group_classification\n",
    "combined_text_var = 'PCA_question_post_encoded'\n",
    "author_vars = ['expert_pct', 'relative_time']\n",
    "cutoff_var_scores = []\n",
    "acc_score_vars = ['model_acc', 'F1_macro', 'AUC']\n",
    "for author_var_i in author_vars:\n",
    "    print(f'testing author var = {author_var_i}')\n",
    "    pct_cutoff_vars_i = list(filter(lambda x: x.startswith(author_var_i+'>'), author_var_cutoff_data.columns))\n",
    "    for pct_cutoff_var_j in pct_cutoff_vars_i:\n",
    "        ## train/test classifier\n",
    "        print(f'testing cutoff var = {pct_cutoff_var_j}')\n",
    "        cutoff_var_scores_j = train_test_reader_group_classification(author_var_cutoff_data, class_var=pct_cutoff_var_j,\n",
    "                                                                     text_var=combined_text_var, post_var=None,\n",
    "                                                                     subgroup_var=None)\n",
    "        # compute means\n",
    "        mean_cutoff_var_scores_j = cutoff_var_scores_j.loc[:, acc_score_vars].mean(axis=0)\n",
    "        mean_cutoff_var_scores_j.loc['author_var_cutoff'] = pct_cutoff_var_j\n",
    "        mean_cutoff_var_scores_j.loc['author_var'] = author_var_i\n",
    "        cutoff_var_scores.append(mean_cutoff_var_scores_j)\n",
    "cutoff_var_scores = pd.concat(cutoff_var_scores, axis=1).transpose()\n",
    "display(cutoff_var_scores)"
   ]
  },
  {
   "cell_type": "code",
   "execution_count": 64,
   "metadata": {
    "scrolled": true
   },
   "outputs": [
    {
     "name": "stdout",
     "output_type": "stream",
     "text": [
      "testing subreddit = Advice\n",
      "testing author var = expert_pct\n",
      "testing cutoff var = expert_pct>25\n"
     ]
    },
    {
     "name": "stderr",
     "output_type": "stream",
     "text": [
      "100%|██████████| 10/10 [05:22<00:00, 32.28s/it]\n"
     ]
    },
    {
     "name": "stdout",
     "output_type": "stream",
     "text": [
      "testing cutoff var = expert_pct>50\n"
     ]
    },
    {
     "name": "stderr",
     "output_type": "stream",
     "text": [
      "100%|██████████| 10/10 [04:12<00:00, 25.26s/it]\n"
     ]
    },
    {
     "name": "stdout",
     "output_type": "stream",
     "text": [
      "testing author var = relative_time\n",
      "testing cutoff var = relative_time>10\n"
     ]
    },
    {
     "name": "stderr",
     "output_type": "stream",
     "text": [
      "100%|██████████| 10/10 [04:29<00:00, 26.96s/it]\n"
     ]
    },
    {
     "name": "stdout",
     "output_type": "stream",
     "text": [
      "testing cutoff var = relative_time>25\n"
     ]
    },
    {
     "name": "stderr",
     "output_type": "stream",
     "text": [
      "100%|██████████| 10/10 [04:40<00:00, 28.03s/it]\n"
     ]
    },
    {
     "name": "stdout",
     "output_type": "stream",
     "text": [
      "testing cutoff var = relative_time>50\n"
     ]
    },
    {
     "name": "stderr",
     "output_type": "stream",
     "text": [
      "100%|██████████| 10/10 [04:36<00:00, 27.63s/it]\n"
     ]
    },
    {
     "name": "stdout",
     "output_type": "stream",
     "text": [
      "testing subreddit = AmItheAsshole\n",
      "testing author var = expert_pct\n",
      "testing cutoff var = expert_pct>50\n"
     ]
    },
    {
     "name": "stderr",
     "output_type": "stream",
     "text": [
      "100%|██████████| 10/10 [10:27<00:00, 62.71s/it]\n"
     ]
    },
    {
     "name": "stdout",
     "output_type": "stream",
     "text": [
      "testing author var = relative_time\n",
      "testing cutoff var = relative_time>10\n"
     ]
    },
    {
     "name": "stderr",
     "output_type": "stream",
     "text": [
      "100%|██████████| 10/10 [10:22<00:00, 62.30s/it]\n"
     ]
    },
    {
     "name": "stdout",
     "output_type": "stream",
     "text": [
      "testing cutoff var = relative_time>25\n"
     ]
    },
    {
     "name": "stderr",
     "output_type": "stream",
     "text": [
      "100%|██████████| 10/10 [09:52<00:00, 59.30s/it]\n"
     ]
    },
    {
     "name": "stdout",
     "output_type": "stream",
     "text": [
      "testing cutoff var = relative_time>50\n"
     ]
    },
    {
     "name": "stderr",
     "output_type": "stream",
     "text": [
      "100%|██████████| 10/10 [10:12<00:00, 61.26s/it]\n"
     ]
    },
    {
     "name": "stdout",
     "output_type": "stream",
     "text": [
      "testing subreddit = legaladvice\n",
      "testing author var = expert_pct\n",
      "testing cutoff var = expert_pct>25\n"
     ]
    },
    {
     "name": "stderr",
     "output_type": "stream",
     "text": [
      "100%|██████████| 10/10 [05:17<00:00, 31.78s/it]\n"
     ]
    },
    {
     "name": "stdout",
     "output_type": "stream",
     "text": [
      "testing cutoff var = expert_pct>50\n"
     ]
    },
    {
     "name": "stderr",
     "output_type": "stream",
     "text": [
      "100%|██████████| 10/10 [04:54<00:00, 29.47s/it]\n"
     ]
    },
    {
     "name": "stdout",
     "output_type": "stream",
     "text": [
      "testing author var = relative_time\n",
      "testing cutoff var = relative_time>10\n"
     ]
    },
    {
     "name": "stderr",
     "output_type": "stream",
     "text": [
      "100%|██████████| 10/10 [04:50<00:00, 29.02s/it]\n"
     ]
    },
    {
     "name": "stdout",
     "output_type": "stream",
     "text": [
      "testing cutoff var = relative_time>25\n"
     ]
    },
    {
     "name": "stderr",
     "output_type": "stream",
     "text": [
      "100%|██████████| 10/10 [04:47<00:00, 28.76s/it]\n"
     ]
    },
    {
     "name": "stdout",
     "output_type": "stream",
     "text": [
      "testing cutoff var = relative_time>50\n"
     ]
    },
    {
     "name": "stderr",
     "output_type": "stream",
     "text": [
      "100%|██████████| 10/10 [04:47<00:00, 28.74s/it]\n"
     ]
    },
    {
     "name": "stdout",
     "output_type": "stream",
     "text": [
      "testing subreddit = pcmasterrace\n",
      "testing author var = expert_pct\n",
      "testing cutoff var = expert_pct>10\n"
     ]
    },
    {
     "name": "stderr",
     "output_type": "stream",
     "text": [
      "100%|██████████| 10/10 [02:33<00:00, 15.31s/it]\n"
     ]
    },
    {
     "name": "stdout",
     "output_type": "stream",
     "text": [
      "testing cutoff var = expert_pct>25\n"
     ]
    },
    {
     "name": "stderr",
     "output_type": "stream",
     "text": [
      "100%|██████████| 10/10 [02:59<00:00, 17.94s/it]\n"
     ]
    },
    {
     "name": "stdout",
     "output_type": "stream",
     "text": [
      "testing cutoff var = expert_pct>50\n"
     ]
    },
    {
     "name": "stderr",
     "output_type": "stream",
     "text": [
      "100%|██████████| 10/10 [02:44<00:00, 16.48s/it]\n"
     ]
    },
    {
     "name": "stdout",
     "output_type": "stream",
     "text": [
      "testing author var = relative_time\n",
      "testing cutoff var = relative_time>10\n"
     ]
    },
    {
     "name": "stderr",
     "output_type": "stream",
     "text": [
      "100%|██████████| 10/10 [02:46<00:00, 16.64s/it]\n"
     ]
    },
    {
     "name": "stdout",
     "output_type": "stream",
     "text": [
      "testing cutoff var = relative_time>25\n"
     ]
    },
    {
     "name": "stderr",
     "output_type": "stream",
     "text": [
      "100%|██████████| 10/10 [02:42<00:00, 16.28s/it]\n"
     ]
    },
    {
     "name": "stdout",
     "output_type": "stream",
     "text": [
      "testing cutoff var = relative_time>50\n"
     ]
    },
    {
     "name": "stderr",
     "output_type": "stream",
     "text": [
      "100%|██████████| 10/10 [02:45<00:00, 16.50s/it]\n"
     ]
    },
    {
     "name": "stdout",
     "output_type": "stream",
     "text": [
      "testing subreddit = personalfinance\n",
      "testing author var = expert_pct\n",
      "testing cutoff var = expert_pct>25\n"
     ]
    },
    {
     "name": "stderr",
     "output_type": "stream",
     "text": [
      "100%|██████████| 10/10 [05:17<00:00, 31.78s/it]\n"
     ]
    },
    {
     "name": "stdout",
     "output_type": "stream",
     "text": [
      "testing cutoff var = expert_pct>50\n"
     ]
    },
    {
     "name": "stderr",
     "output_type": "stream",
     "text": [
      "100%|██████████| 10/10 [05:16<00:00, 31.63s/it]\n"
     ]
    },
    {
     "name": "stdout",
     "output_type": "stream",
     "text": [
      "testing author var = relative_time\n",
      "testing cutoff var = relative_time>10\n"
     ]
    },
    {
     "name": "stderr",
     "output_type": "stream",
     "text": [
      "100%|██████████| 10/10 [05:28<00:00, 32.80s/it]\n"
     ]
    },
    {
     "name": "stdout",
     "output_type": "stream",
     "text": [
      "testing cutoff var = relative_time>25\n"
     ]
    },
    {
     "name": "stderr",
     "output_type": "stream",
     "text": [
      "100%|██████████| 10/10 [05:28<00:00, 32.90s/it]\n"
     ]
    },
    {
     "name": "stdout",
     "output_type": "stream",
     "text": [
      "testing cutoff var = relative_time>50\n"
     ]
    },
    {
     "name": "stderr",
     "output_type": "stream",
     "text": [
      "100%|██████████| 10/10 [05:30<00:00, 33.01s/it]\n"
     ]
    }
   ],
   "source": [
    "## train/test per subreddit\n",
    "min_class_cutoff = 1000\n",
    "subreddit_pred_scores = []\n",
    "for subreddit_i, data_i in author_var_cutoff_data.groupby('subreddit'):\n",
    "    print(f'testing subreddit = {subreddit_i}')\n",
    "    for author_var_j in author_vars:\n",
    "        print(f'testing author var = {author_var_j}')\n",
    "        pct_cutoff_vars_j = list(filter(lambda x: x.startswith(author_var_j+'>'), data_i.columns))\n",
    "        for pct_cutoff_var_k in pct_cutoff_vars_j:\n",
    "            ## train/test classifier\n",
    "            if(data_i.loc[:, pct_cutoff_var_k].nunique() > 1 and data_i.loc[:, pct_cutoff_var_k].value_counts().min() > min_class_cutoff):\n",
    "                print(f'testing cutoff var = {pct_cutoff_var_k}')\n",
    "                cutoff_var_scores_k = train_test_reader_group_classification(data_i, class_var=pct_cutoff_var_k,\n",
    "                                                                             text_var=combined_text_var, post_var=None,\n",
    "                                                                             subgroup_var=None)\n",
    "                # compute means\n",
    "                mean_cutoff_var_scores_k = cutoff_var_scores_k.loc[:, acc_score_vars].mean(axis=0)\n",
    "                mean_cutoff_var_scores_k.loc['author_var_cutoff'] = pct_cutoff_var_k\n",
    "                mean_cutoff_var_scores_k.loc['author_var'] = author_var_j\n",
    "                mean_cutoff_var_scores_k.loc['subreddit'] = subreddit_i\n",
    "                subreddit_pred_scores.append(mean_cutoff_var_scores_k)\n",
    "subreddit_pred_scores = pd.concat(subreddit_pred_scores, axis=1).transpose()"
   ]
  },
  {
   "cell_type": "code",
   "execution_count": 65,
   "metadata": {
    "scrolled": true
   },
   "outputs": [
    {
     "data": {
      "text/html": [
       "<div>\n",
       "<style scoped>\n",
       "    .dataframe tbody tr th:only-of-type {\n",
       "        vertical-align: middle;\n",
       "    }\n",
       "\n",
       "    .dataframe tbody tr th {\n",
       "        vertical-align: top;\n",
       "    }\n",
       "\n",
       "    .dataframe thead th {\n",
       "        text-align: right;\n",
       "    }\n",
       "</style>\n",
       "<table border=\"1\" class=\"dataframe\">\n",
       "  <thead>\n",
       "    <tr style=\"text-align: right;\">\n",
       "      <th></th>\n",
       "      <th>model_acc</th>\n",
       "      <th>F1_macro</th>\n",
       "      <th>AUC</th>\n",
       "      <th>author_var_cutoff</th>\n",
       "      <th>author_var</th>\n",
       "      <th>subreddit</th>\n",
       "    </tr>\n",
       "  </thead>\n",
       "  <tbody>\n",
       "    <tr>\n",
       "      <th>0</th>\n",
       "      <td>0.499739</td>\n",
       "      <td>0.443067</td>\n",
       "      <td>0.497541</td>\n",
       "      <td>expert_pct&gt;25</td>\n",
       "      <td>expert_pct</td>\n",
       "      <td>Advice</td>\n",
       "    </tr>\n",
       "    <tr>\n",
       "      <th>1</th>\n",
       "      <td>0.518798</td>\n",
       "      <td>0.517028</td>\n",
       "      <td>0.524537</td>\n",
       "      <td>expert_pct&gt;50</td>\n",
       "      <td>expert_pct</td>\n",
       "      <td>Advice</td>\n",
       "    </tr>\n",
       "    <tr>\n",
       "      <th>2</th>\n",
       "      <td>0.503592</td>\n",
       "      <td>0.452851</td>\n",
       "      <td>0.506605</td>\n",
       "      <td>relative_time&gt;10</td>\n",
       "      <td>relative_time</td>\n",
       "      <td>Advice</td>\n",
       "    </tr>\n",
       "    <tr>\n",
       "      <th>3</th>\n",
       "      <td>0.498933</td>\n",
       "      <td>0.446414</td>\n",
       "      <td>0.50712</td>\n",
       "      <td>relative_time&gt;25</td>\n",
       "      <td>relative_time</td>\n",
       "      <td>Advice</td>\n",
       "    </tr>\n",
       "    <tr>\n",
       "      <th>4</th>\n",
       "      <td>0.504838</td>\n",
       "      <td>0.454001</td>\n",
       "      <td>0.508914</td>\n",
       "      <td>relative_time&gt;50</td>\n",
       "      <td>relative_time</td>\n",
       "      <td>Advice</td>\n",
       "    </tr>\n",
       "    <tr>\n",
       "      <th>5</th>\n",
       "      <td>0.504051</td>\n",
       "      <td>0.501617</td>\n",
       "      <td>0.505157</td>\n",
       "      <td>expert_pct&gt;50</td>\n",
       "      <td>expert_pct</td>\n",
       "      <td>AmItheAsshole</td>\n",
       "    </tr>\n",
       "    <tr>\n",
       "      <th>6</th>\n",
       "      <td>0.496346</td>\n",
       "      <td>0.469584</td>\n",
       "      <td>0.490269</td>\n",
       "      <td>relative_time&gt;10</td>\n",
       "      <td>relative_time</td>\n",
       "      <td>AmItheAsshole</td>\n",
       "    </tr>\n",
       "    <tr>\n",
       "      <th>7</th>\n",
       "      <td>0.494976</td>\n",
       "      <td>0.468008</td>\n",
       "      <td>0.493963</td>\n",
       "      <td>relative_time&gt;25</td>\n",
       "      <td>relative_time</td>\n",
       "      <td>AmItheAsshole</td>\n",
       "    </tr>\n",
       "    <tr>\n",
       "      <th>8</th>\n",
       "      <td>0.496742</td>\n",
       "      <td>0.466796</td>\n",
       "      <td>0.49276</td>\n",
       "      <td>relative_time&gt;50</td>\n",
       "      <td>relative_time</td>\n",
       "      <td>AmItheAsshole</td>\n",
       "    </tr>\n",
       "    <tr>\n",
       "      <th>9</th>\n",
       "      <td>0.51189</td>\n",
       "      <td>0.462141</td>\n",
       "      <td>0.523749</td>\n",
       "      <td>expert_pct&gt;25</td>\n",
       "      <td>expert_pct</td>\n",
       "      <td>legaladvice</td>\n",
       "    </tr>\n",
       "    <tr>\n",
       "      <th>10</th>\n",
       "      <td>0.525932</td>\n",
       "      <td>0.524252</td>\n",
       "      <td>0.534594</td>\n",
       "      <td>expert_pct&gt;50</td>\n",
       "      <td>expert_pct</td>\n",
       "      <td>legaladvice</td>\n",
       "    </tr>\n",
       "    <tr>\n",
       "      <th>11</th>\n",
       "      <td>0.49748</td>\n",
       "      <td>0.420495</td>\n",
       "      <td>0.486925</td>\n",
       "      <td>relative_time&gt;10</td>\n",
       "      <td>relative_time</td>\n",
       "      <td>legaladvice</td>\n",
       "    </tr>\n",
       "    <tr>\n",
       "      <th>12</th>\n",
       "      <td>0.495231</td>\n",
       "      <td>0.416159</td>\n",
       "      <td>0.480067</td>\n",
       "      <td>relative_time&gt;25</td>\n",
       "      <td>relative_time</td>\n",
       "      <td>legaladvice</td>\n",
       "    </tr>\n",
       "    <tr>\n",
       "      <th>13</th>\n",
       "      <td>0.493838</td>\n",
       "      <td>0.413603</td>\n",
       "      <td>0.486159</td>\n",
       "      <td>relative_time&gt;50</td>\n",
       "      <td>relative_time</td>\n",
       "      <td>legaladvice</td>\n",
       "    </tr>\n",
       "    <tr>\n",
       "      <th>14</th>\n",
       "      <td>0.506327</td>\n",
       "      <td>0.37129</td>\n",
       "      <td>0.557703</td>\n",
       "      <td>expert_pct&gt;10</td>\n",
       "      <td>expert_pct</td>\n",
       "      <td>pcmasterrace</td>\n",
       "    </tr>\n",
       "    <tr>\n",
       "      <th>15</th>\n",
       "      <td>0.528367</td>\n",
       "      <td>0.478573</td>\n",
       "      <td>0.568276</td>\n",
       "      <td>expert_pct&gt;25</td>\n",
       "      <td>expert_pct</td>\n",
       "      <td>pcmasterrace</td>\n",
       "    </tr>\n",
       "    <tr>\n",
       "      <th>16</th>\n",
       "      <td>0.560357</td>\n",
       "      <td>0.559565</td>\n",
       "      <td>0.596801</td>\n",
       "      <td>expert_pct&gt;50</td>\n",
       "      <td>expert_pct</td>\n",
       "      <td>pcmasterrace</td>\n",
       "    </tr>\n",
       "    <tr>\n",
       "      <th>17</th>\n",
       "      <td>0.506267</td>\n",
       "      <td>0.388846</td>\n",
       "      <td>0.553005</td>\n",
       "      <td>relative_time&gt;10</td>\n",
       "      <td>relative_time</td>\n",
       "      <td>pcmasterrace</td>\n",
       "    </tr>\n",
       "    <tr>\n",
       "      <th>18</th>\n",
       "      <td>0.504938</td>\n",
       "      <td>0.387282</td>\n",
       "      <td>0.556688</td>\n",
       "      <td>relative_time&gt;25</td>\n",
       "      <td>relative_time</td>\n",
       "      <td>pcmasterrace</td>\n",
       "    </tr>\n",
       "    <tr>\n",
       "      <th>19</th>\n",
       "      <td>0.501289</td>\n",
       "      <td>0.379102</td>\n",
       "      <td>0.554788</td>\n",
       "      <td>relative_time&gt;50</td>\n",
       "      <td>relative_time</td>\n",
       "      <td>pcmasterrace</td>\n",
       "    </tr>\n",
       "    <tr>\n",
       "      <th>20</th>\n",
       "      <td>0.510494</td>\n",
       "      <td>0.451778</td>\n",
       "      <td>0.52698</td>\n",
       "      <td>expert_pct&gt;25</td>\n",
       "      <td>expert_pct</td>\n",
       "      <td>personalfinance</td>\n",
       "    </tr>\n",
       "    <tr>\n",
       "      <th>21</th>\n",
       "      <td>0.51755</td>\n",
       "      <td>0.515991</td>\n",
       "      <td>0.525797</td>\n",
       "      <td>expert_pct&gt;50</td>\n",
       "      <td>expert_pct</td>\n",
       "      <td>personalfinance</td>\n",
       "    </tr>\n",
       "    <tr>\n",
       "      <th>22</th>\n",
       "      <td>0.508241</td>\n",
       "      <td>0.472771</td>\n",
       "      <td>0.507143</td>\n",
       "      <td>relative_time&gt;10</td>\n",
       "      <td>relative_time</td>\n",
       "      <td>personalfinance</td>\n",
       "    </tr>\n",
       "    <tr>\n",
       "      <th>23</th>\n",
       "      <td>0.507481</td>\n",
       "      <td>0.471292</td>\n",
       "      <td>0.509069</td>\n",
       "      <td>relative_time&gt;25</td>\n",
       "      <td>relative_time</td>\n",
       "      <td>personalfinance</td>\n",
       "    </tr>\n",
       "    <tr>\n",
       "      <th>24</th>\n",
       "      <td>0.504526</td>\n",
       "      <td>0.46861</td>\n",
       "      <td>0.504969</td>\n",
       "      <td>relative_time&gt;50</td>\n",
       "      <td>relative_time</td>\n",
       "      <td>personalfinance</td>\n",
       "    </tr>\n",
       "  </tbody>\n",
       "</table>\n",
       "</div>"
      ],
      "text/plain": [
       "   model_acc  F1_macro       AUC author_var_cutoff     author_var  \\\n",
       "0   0.499739  0.443067  0.497541     expert_pct>25     expert_pct   \n",
       "1   0.518798  0.517028  0.524537     expert_pct>50     expert_pct   \n",
       "2   0.503592  0.452851  0.506605  relative_time>10  relative_time   \n",
       "3   0.498933  0.446414   0.50712  relative_time>25  relative_time   \n",
       "4   0.504838  0.454001  0.508914  relative_time>50  relative_time   \n",
       "5   0.504051  0.501617  0.505157     expert_pct>50     expert_pct   \n",
       "6   0.496346  0.469584  0.490269  relative_time>10  relative_time   \n",
       "7   0.494976  0.468008  0.493963  relative_time>25  relative_time   \n",
       "8   0.496742  0.466796   0.49276  relative_time>50  relative_time   \n",
       "9    0.51189  0.462141  0.523749     expert_pct>25     expert_pct   \n",
       "10  0.525932  0.524252  0.534594     expert_pct>50     expert_pct   \n",
       "11   0.49748  0.420495  0.486925  relative_time>10  relative_time   \n",
       "12  0.495231  0.416159  0.480067  relative_time>25  relative_time   \n",
       "13  0.493838  0.413603  0.486159  relative_time>50  relative_time   \n",
       "14  0.506327   0.37129  0.557703     expert_pct>10     expert_pct   \n",
       "15  0.528367  0.478573  0.568276     expert_pct>25     expert_pct   \n",
       "16  0.560357  0.559565  0.596801     expert_pct>50     expert_pct   \n",
       "17  0.506267  0.388846  0.553005  relative_time>10  relative_time   \n",
       "18  0.504938  0.387282  0.556688  relative_time>25  relative_time   \n",
       "19  0.501289  0.379102  0.554788  relative_time>50  relative_time   \n",
       "20  0.510494  0.451778   0.52698     expert_pct>25     expert_pct   \n",
       "21   0.51755  0.515991  0.525797     expert_pct>50     expert_pct   \n",
       "22  0.508241  0.472771  0.507143  relative_time>10  relative_time   \n",
       "23  0.507481  0.471292  0.509069  relative_time>25  relative_time   \n",
       "24  0.504526   0.46861  0.504969  relative_time>50  relative_time   \n",
       "\n",
       "          subreddit  \n",
       "0            Advice  \n",
       "1            Advice  \n",
       "2            Advice  \n",
       "3            Advice  \n",
       "4            Advice  \n",
       "5     AmItheAsshole  \n",
       "6     AmItheAsshole  \n",
       "7     AmItheAsshole  \n",
       "8     AmItheAsshole  \n",
       "9       legaladvice  \n",
       "10      legaladvice  \n",
       "11      legaladvice  \n",
       "12      legaladvice  \n",
       "13      legaladvice  \n",
       "14     pcmasterrace  \n",
       "15     pcmasterrace  \n",
       "16     pcmasterrace  \n",
       "17     pcmasterrace  \n",
       "18     pcmasterrace  \n",
       "19     pcmasterrace  \n",
       "20  personalfinance  \n",
       "21  personalfinance  \n",
       "22  personalfinance  \n",
       "23  personalfinance  \n",
       "24  personalfinance  "
      ]
     },
     "metadata": {},
     "output_type": "display_data"
    }
   ],
   "source": [
    "display(subreddit_pred_scores)"
   ]
  },
  {
   "cell_type": "code",
   "execution_count": 66,
   "metadata": {
    "scrolled": true
   },
   "outputs": [
    {
     "name": "stdout",
     "output_type": "stream",
     "text": [
      "testing subreddit = Advice\n",
      "testing author var = expert_pct\n",
      "testing cutoff var = expert_pct>25\n"
     ]
    },
    {
     "name": "stderr",
     "output_type": "stream",
     "text": [
      "100%|██████████| 10/10 [08:39<00:00, 51.98s/it]\n"
     ]
    },
    {
     "name": "stdout",
     "output_type": "stream",
     "text": [
      "testing cutoff var = expert_pct>50\n"
     ]
    },
    {
     "name": "stderr",
     "output_type": "stream",
     "text": [
      "100%|██████████| 10/10 [08:36<00:00, 51.64s/it]\n"
     ]
    },
    {
     "name": "stdout",
     "output_type": "stream",
     "text": [
      "testing author var = relative_time\n",
      "testing cutoff var = relative_time>10\n"
     ]
    },
    {
     "name": "stderr",
     "output_type": "stream",
     "text": [
      "100%|██████████| 10/10 [08:48<00:00, 52.85s/it]\n"
     ]
    },
    {
     "name": "stdout",
     "output_type": "stream",
     "text": [
      "testing cutoff var = relative_time>25\n"
     ]
    },
    {
     "name": "stderr",
     "output_type": "stream",
     "text": [
      "100%|██████████| 10/10 [09:02<00:00, 54.21s/it]\n"
     ]
    },
    {
     "name": "stdout",
     "output_type": "stream",
     "text": [
      "testing cutoff var = relative_time>50\n"
     ]
    },
    {
     "name": "stderr",
     "output_type": "stream",
     "text": [
      "100%|██████████| 10/10 [09:02<00:00, 54.29s/it]\n"
     ]
    },
    {
     "name": "stdout",
     "output_type": "stream",
     "text": [
      "testing subreddit = AmItheAsshole\n",
      "testing author var = expert_pct\n",
      "testing cutoff var = expert_pct>50\n"
     ]
    },
    {
     "name": "stderr",
     "output_type": "stream",
     "text": [
      "100%|██████████| 10/10 [41:08<00:00, 246.84s/it]\n"
     ]
    },
    {
     "name": "stdout",
     "output_type": "stream",
     "text": [
      "testing author var = relative_time\n",
      "testing cutoff var = relative_time>10\n"
     ]
    },
    {
     "name": "stderr",
     "output_type": "stream",
     "text": [
      "100%|██████████| 10/10 [41:58<00:00, 251.81s/it]\n"
     ]
    },
    {
     "name": "stdout",
     "output_type": "stream",
     "text": [
      "testing cutoff var = relative_time>25\n"
     ]
    },
    {
     "name": "stderr",
     "output_type": "stream",
     "text": [
      "100%|██████████| 10/10 [42:30<00:00, 255.06s/it]\n"
     ]
    },
    {
     "name": "stdout",
     "output_type": "stream",
     "text": [
      "testing cutoff var = relative_time>50\n"
     ]
    },
    {
     "name": "stderr",
     "output_type": "stream",
     "text": [
      "100%|██████████| 10/10 [42:06<00:00, 252.66s/it]\n"
     ]
    },
    {
     "name": "stdout",
     "output_type": "stream",
     "text": [
      "testing subreddit = legaladvice\n",
      "testing author var = expert_pct\n",
      "testing cutoff var = expert_pct>25\n"
     ]
    },
    {
     "name": "stderr",
     "output_type": "stream",
     "text": [
      "100%|██████████| 10/10 [10:17<00:00, 61.75s/it]\n"
     ]
    },
    {
     "name": "stdout",
     "output_type": "stream",
     "text": [
      "testing cutoff var = expert_pct>50\n"
     ]
    },
    {
     "name": "stderr",
     "output_type": "stream",
     "text": [
      "100%|██████████| 10/10 [09:33<00:00, 57.36s/it]\n"
     ]
    },
    {
     "name": "stdout",
     "output_type": "stream",
     "text": [
      "testing author var = relative_time\n",
      "testing cutoff var = relative_time>10\n"
     ]
    },
    {
     "name": "stderr",
     "output_type": "stream",
     "text": [
      "100%|██████████| 10/10 [09:01<00:00, 54.17s/it]\n"
     ]
    },
    {
     "name": "stdout",
     "output_type": "stream",
     "text": [
      "testing cutoff var = relative_time>25\n"
     ]
    },
    {
     "name": "stderr",
     "output_type": "stream",
     "text": [
      "100%|██████████| 10/10 [09:05<00:00, 54.53s/it]\n"
     ]
    },
    {
     "name": "stdout",
     "output_type": "stream",
     "text": [
      "testing cutoff var = relative_time>50\n"
     ]
    },
    {
     "name": "stderr",
     "output_type": "stream",
     "text": [
      "100%|██████████| 10/10 [10:17<00:00, 61.80s/it]\n"
     ]
    },
    {
     "name": "stdout",
     "output_type": "stream",
     "text": [
      "testing subreddit = pcmasterrace\n",
      "testing author var = expert_pct\n",
      "testing cutoff var = expert_pct>10\n"
     ]
    },
    {
     "name": "stderr",
     "output_type": "stream",
     "text": [
      "100%|██████████| 10/10 [03:40<00:00, 22.07s/it]\n"
     ]
    },
    {
     "name": "stdout",
     "output_type": "stream",
     "text": [
      "testing cutoff var = expert_pct>25\n"
     ]
    },
    {
     "name": "stderr",
     "output_type": "stream",
     "text": [
      "100%|██████████| 10/10 [05:03<00:00, 30.38s/it]\n"
     ]
    },
    {
     "name": "stdout",
     "output_type": "stream",
     "text": [
      "testing cutoff var = expert_pct>50\n"
     ]
    },
    {
     "name": "stderr",
     "output_type": "stream",
     "text": [
      "100%|██████████| 10/10 [04:53<00:00, 29.38s/it]\n"
     ]
    },
    {
     "name": "stdout",
     "output_type": "stream",
     "text": [
      "testing author var = relative_time\n",
      "testing cutoff var = relative_time>10\n"
     ]
    },
    {
     "name": "stderr",
     "output_type": "stream",
     "text": [
      "100%|██████████| 10/10 [04:20<00:00, 26.07s/it]\n"
     ]
    },
    {
     "name": "stdout",
     "output_type": "stream",
     "text": [
      "testing cutoff var = relative_time>25\n"
     ]
    },
    {
     "name": "stderr",
     "output_type": "stream",
     "text": [
      "100%|██████████| 10/10 [04:43<00:00, 28.31s/it]\n"
     ]
    },
    {
     "name": "stdout",
     "output_type": "stream",
     "text": [
      "testing cutoff var = relative_time>50\n"
     ]
    },
    {
     "name": "stderr",
     "output_type": "stream",
     "text": [
      "100%|██████████| 10/10 [04:34<00:00, 27.41s/it]\n"
     ]
    },
    {
     "name": "stdout",
     "output_type": "stream",
     "text": [
      "testing subreddit = personalfinance\n",
      "testing author var = expert_pct\n",
      "testing cutoff var = expert_pct>25\n"
     ]
    },
    {
     "name": "stderr",
     "output_type": "stream",
     "text": [
      "100%|██████████| 10/10 [12:05<00:00, 72.56s/it]\n"
     ]
    },
    {
     "name": "stdout",
     "output_type": "stream",
     "text": [
      "testing cutoff var = expert_pct>50\n"
     ]
    },
    {
     "name": "stderr",
     "output_type": "stream",
     "text": [
      "100%|██████████| 10/10 [12:29<00:00, 74.91s/it]\n"
     ]
    },
    {
     "name": "stdout",
     "output_type": "stream",
     "text": [
      "testing author var = relative_time\n",
      "testing cutoff var = relative_time>10\n"
     ]
    },
    {
     "name": "stderr",
     "output_type": "stream",
     "text": [
      "100%|██████████| 10/10 [13:45<00:00, 82.57s/it]\n"
     ]
    },
    {
     "name": "stdout",
     "output_type": "stream",
     "text": [
      "testing cutoff var = relative_time>25\n"
     ]
    },
    {
     "name": "stderr",
     "output_type": "stream",
     "text": [
      "100%|██████████| 10/10 [13:25<00:00, 80.55s/it]\n"
     ]
    },
    {
     "name": "stdout",
     "output_type": "stream",
     "text": [
      "testing cutoff var = relative_time>50\n"
     ]
    },
    {
     "name": "stderr",
     "output_type": "stream",
     "text": [
      "100%|██████████| 10/10 [13:16<00:00, 79.61s/it]\n"
     ]
    }
   ],
   "source": [
    "## just questions\n",
    "## TODO: rerun with [75, 90]\n",
    "min_class_cutoff = 1000\n",
    "question_text_var = 'PCA_question_encoded'\n",
    "subreddit_question_pred_scores = []\n",
    "for subreddit_i, data_i in author_var_cutoff_data.groupby('subreddit'):\n",
    "    print(f'testing subreddit = {subreddit_i}')\n",
    "    for author_var_j in author_vars:\n",
    "        print(f'testing author var = {author_var_j}')\n",
    "        pct_cutoff_vars_j = list(filter(lambda x: x.startswith(author_var_j+'>'), data_i.columns))\n",
    "        for pct_cutoff_var_k in pct_cutoff_vars_j:\n",
    "            ## train/test classifier\n",
    "            if(data_i.loc[:, pct_cutoff_var_k].nunique() > 1 and data_i.loc[:, pct_cutoff_var_k].value_counts().min() > min_class_cutoff):\n",
    "                print(f'testing cutoff var = {pct_cutoff_var_k}')\n",
    "                cutoff_var_scores_k = train_test_reader_group_classification(data_i, class_var=pct_cutoff_var_k,\n",
    "                                                                             text_var=question_text_var, post_var=None,\n",
    "                                                                             subgroup_var=None)\n",
    "                # compute means\n",
    "                mean_cutoff_var_scores_k = cutoff_var_scores_k.loc[:, acc_score_vars].mean(axis=0)\n",
    "                mean_cutoff_var_scores_k.loc['author_var_cutoff'] = pct_cutoff_var_k\n",
    "                mean_cutoff_var_scores_k.loc['author_var'] = author_var_j\n",
    "                mean_cutoff_var_scores_k.loc['subreddit'] = subreddit_i\n",
    "                subreddit_question_pred_scores.append(mean_cutoff_var_scores_k)\n",
    "subreddit_question_pred_scores = pd.concat(subreddit_question_pred_scores, axis=1).transpose()"
   ]
  },
  {
   "cell_type": "code",
   "execution_count": 67,
   "metadata": {
    "scrolled": true
   },
   "outputs": [
    {
     "data": {
      "text/html": [
       "<div>\n",
       "<style scoped>\n",
       "    .dataframe tbody tr th:only-of-type {\n",
       "        vertical-align: middle;\n",
       "    }\n",
       "\n",
       "    .dataframe tbody tr th {\n",
       "        vertical-align: top;\n",
       "    }\n",
       "\n",
       "    .dataframe thead th {\n",
       "        text-align: right;\n",
       "    }\n",
       "</style>\n",
       "<table border=\"1\" class=\"dataframe\">\n",
       "  <thead>\n",
       "    <tr style=\"text-align: right;\">\n",
       "      <th></th>\n",
       "      <th>model_acc</th>\n",
       "      <th>F1_macro</th>\n",
       "      <th>AUC</th>\n",
       "      <th>author_var_cutoff</th>\n",
       "      <th>author_var</th>\n",
       "      <th>subreddit</th>\n",
       "    </tr>\n",
       "  </thead>\n",
       "  <tbody>\n",
       "    <tr>\n",
       "      <th>0</th>\n",
       "      <td>0.498153</td>\n",
       "      <td>0.466133</td>\n",
       "      <td>0.499057</td>\n",
       "      <td>expert_pct&gt;25</td>\n",
       "      <td>expert_pct</td>\n",
       "      <td>Advice</td>\n",
       "    </tr>\n",
       "    <tr>\n",
       "      <th>1</th>\n",
       "      <td>0.511217</td>\n",
       "      <td>0.509677</td>\n",
       "      <td>0.517154</td>\n",
       "      <td>expert_pct&gt;50</td>\n",
       "      <td>expert_pct</td>\n",
       "      <td>Advice</td>\n",
       "    </tr>\n",
       "    <tr>\n",
       "      <th>2</th>\n",
       "      <td>0.504475</td>\n",
       "      <td>0.476548</td>\n",
       "      <td>0.497513</td>\n",
       "      <td>relative_time&gt;10</td>\n",
       "      <td>relative_time</td>\n",
       "      <td>Advice</td>\n",
       "    </tr>\n",
       "    <tr>\n",
       "      <th>3</th>\n",
       "      <td>0.500024</td>\n",
       "      <td>0.471722</td>\n",
       "      <td>0.49854</td>\n",
       "      <td>relative_time&gt;25</td>\n",
       "      <td>relative_time</td>\n",
       "      <td>Advice</td>\n",
       "    </tr>\n",
       "    <tr>\n",
       "      <th>4</th>\n",
       "      <td>0.501922</td>\n",
       "      <td>0.47312</td>\n",
       "      <td>0.498504</td>\n",
       "      <td>relative_time&gt;50</td>\n",
       "      <td>relative_time</td>\n",
       "      <td>Advice</td>\n",
       "    </tr>\n",
       "    <tr>\n",
       "      <th>5</th>\n",
       "      <td>0.502294</td>\n",
       "      <td>0.501711</td>\n",
       "      <td>0.502501</td>\n",
       "      <td>expert_pct&gt;50</td>\n",
       "      <td>expert_pct</td>\n",
       "      <td>AmItheAsshole</td>\n",
       "    </tr>\n",
       "    <tr>\n",
       "      <th>6</th>\n",
       "      <td>0.495032</td>\n",
       "      <td>0.477975</td>\n",
       "      <td>0.490585</td>\n",
       "      <td>relative_time&gt;10</td>\n",
       "      <td>relative_time</td>\n",
       "      <td>AmItheAsshole</td>\n",
       "    </tr>\n",
       "    <tr>\n",
       "      <th>7</th>\n",
       "      <td>0.494389</td>\n",
       "      <td>0.476841</td>\n",
       "      <td>0.492198</td>\n",
       "      <td>relative_time&gt;25</td>\n",
       "      <td>relative_time</td>\n",
       "      <td>AmItheAsshole</td>\n",
       "    </tr>\n",
       "    <tr>\n",
       "      <th>8</th>\n",
       "      <td>0.497816</td>\n",
       "      <td>0.480937</td>\n",
       "      <td>0.495301</td>\n",
       "      <td>relative_time&gt;50</td>\n",
       "      <td>relative_time</td>\n",
       "      <td>AmItheAsshole</td>\n",
       "    </tr>\n",
       "    <tr>\n",
       "      <th>9</th>\n",
       "      <td>0.512524</td>\n",
       "      <td>0.483496</td>\n",
       "      <td>0.518569</td>\n",
       "      <td>expert_pct&gt;25</td>\n",
       "      <td>expert_pct</td>\n",
       "      <td>legaladvice</td>\n",
       "    </tr>\n",
       "    <tr>\n",
       "      <th>10</th>\n",
       "      <td>0.520721</td>\n",
       "      <td>0.519679</td>\n",
       "      <td>0.529569</td>\n",
       "      <td>expert_pct&gt;50</td>\n",
       "      <td>expert_pct</td>\n",
       "      <td>legaladvice</td>\n",
       "    </tr>\n",
       "    <tr>\n",
       "      <th>11</th>\n",
       "      <td>0.501757</td>\n",
       "      <td>0.457765</td>\n",
       "      <td>0.494615</td>\n",
       "      <td>relative_time&gt;10</td>\n",
       "      <td>relative_time</td>\n",
       "      <td>legaladvice</td>\n",
       "    </tr>\n",
       "    <tr>\n",
       "      <th>12</th>\n",
       "      <td>0.506882</td>\n",
       "      <td>0.465547</td>\n",
       "      <td>0.504311</td>\n",
       "      <td>relative_time&gt;25</td>\n",
       "      <td>relative_time</td>\n",
       "      <td>legaladvice</td>\n",
       "    </tr>\n",
       "    <tr>\n",
       "      <th>13</th>\n",
       "      <td>0.497543</td>\n",
       "      <td>0.452795</td>\n",
       "      <td>0.497372</td>\n",
       "      <td>relative_time&gt;50</td>\n",
       "      <td>relative_time</td>\n",
       "      <td>legaladvice</td>\n",
       "    </tr>\n",
       "    <tr>\n",
       "      <th>14</th>\n",
       "      <td>0.518288</td>\n",
       "      <td>0.423265</td>\n",
       "      <td>0.559219</td>\n",
       "      <td>expert_pct&gt;10</td>\n",
       "      <td>expert_pct</td>\n",
       "      <td>pcmasterrace</td>\n",
       "    </tr>\n",
       "    <tr>\n",
       "      <th>15</th>\n",
       "      <td>0.5293</td>\n",
       "      <td>0.498382</td>\n",
       "      <td>0.552819</td>\n",
       "      <td>expert_pct&gt;25</td>\n",
       "      <td>expert_pct</td>\n",
       "      <td>pcmasterrace</td>\n",
       "    </tr>\n",
       "    <tr>\n",
       "      <th>16</th>\n",
       "      <td>0.564338</td>\n",
       "      <td>0.563518</td>\n",
       "      <td>0.588199</td>\n",
       "      <td>expert_pct&gt;50</td>\n",
       "      <td>expert_pct</td>\n",
       "      <td>pcmasterrace</td>\n",
       "    </tr>\n",
       "    <tr>\n",
       "      <th>17</th>\n",
       "      <td>0.526324</td>\n",
       "      <td>0.4528</td>\n",
       "      <td>0.556919</td>\n",
       "      <td>relative_time&gt;10</td>\n",
       "      <td>relative_time</td>\n",
       "      <td>pcmasterrace</td>\n",
       "    </tr>\n",
       "    <tr>\n",
       "      <th>18</th>\n",
       "      <td>0.5184</td>\n",
       "      <td>0.441513</td>\n",
       "      <td>0.547287</td>\n",
       "      <td>relative_time&gt;25</td>\n",
       "      <td>relative_time</td>\n",
       "      <td>pcmasterrace</td>\n",
       "    </tr>\n",
       "    <tr>\n",
       "      <th>19</th>\n",
       "      <td>0.51677</td>\n",
       "      <td>0.441415</td>\n",
       "      <td>0.538046</td>\n",
       "      <td>relative_time&gt;50</td>\n",
       "      <td>relative_time</td>\n",
       "      <td>pcmasterrace</td>\n",
       "    </tr>\n",
       "    <tr>\n",
       "      <th>20</th>\n",
       "      <td>0.511973</td>\n",
       "      <td>0.478899</td>\n",
       "      <td>0.517146</td>\n",
       "      <td>expert_pct&gt;25</td>\n",
       "      <td>expert_pct</td>\n",
       "      <td>personalfinance</td>\n",
       "    </tr>\n",
       "    <tr>\n",
       "      <th>21</th>\n",
       "      <td>0.521799</td>\n",
       "      <td>0.520648</td>\n",
       "      <td>0.528075</td>\n",
       "      <td>expert_pct&gt;50</td>\n",
       "      <td>expert_pct</td>\n",
       "      <td>personalfinance</td>\n",
       "    </tr>\n",
       "    <tr>\n",
       "      <th>22</th>\n",
       "      <td>0.510285</td>\n",
       "      <td>0.490975</td>\n",
       "      <td>0.511756</td>\n",
       "      <td>relative_time&gt;10</td>\n",
       "      <td>relative_time</td>\n",
       "      <td>personalfinance</td>\n",
       "    </tr>\n",
       "    <tr>\n",
       "      <th>23</th>\n",
       "      <td>0.506058</td>\n",
       "      <td>0.486822</td>\n",
       "      <td>0.509526</td>\n",
       "      <td>relative_time&gt;25</td>\n",
       "      <td>relative_time</td>\n",
       "      <td>personalfinance</td>\n",
       "    </tr>\n",
       "    <tr>\n",
       "      <th>24</th>\n",
       "      <td>0.510909</td>\n",
       "      <td>0.492517</td>\n",
       "      <td>0.512351</td>\n",
       "      <td>relative_time&gt;50</td>\n",
       "      <td>relative_time</td>\n",
       "      <td>personalfinance</td>\n",
       "    </tr>\n",
       "  </tbody>\n",
       "</table>\n",
       "</div>"
      ],
      "text/plain": [
       "   model_acc  F1_macro       AUC author_var_cutoff     author_var  \\\n",
       "0   0.498153  0.466133  0.499057     expert_pct>25     expert_pct   \n",
       "1   0.511217  0.509677  0.517154     expert_pct>50     expert_pct   \n",
       "2   0.504475  0.476548  0.497513  relative_time>10  relative_time   \n",
       "3   0.500024  0.471722   0.49854  relative_time>25  relative_time   \n",
       "4   0.501922   0.47312  0.498504  relative_time>50  relative_time   \n",
       "5   0.502294  0.501711  0.502501     expert_pct>50     expert_pct   \n",
       "6   0.495032  0.477975  0.490585  relative_time>10  relative_time   \n",
       "7   0.494389  0.476841  0.492198  relative_time>25  relative_time   \n",
       "8   0.497816  0.480937  0.495301  relative_time>50  relative_time   \n",
       "9   0.512524  0.483496  0.518569     expert_pct>25     expert_pct   \n",
       "10  0.520721  0.519679  0.529569     expert_pct>50     expert_pct   \n",
       "11  0.501757  0.457765  0.494615  relative_time>10  relative_time   \n",
       "12  0.506882  0.465547  0.504311  relative_time>25  relative_time   \n",
       "13  0.497543  0.452795  0.497372  relative_time>50  relative_time   \n",
       "14  0.518288  0.423265  0.559219     expert_pct>10     expert_pct   \n",
       "15    0.5293  0.498382  0.552819     expert_pct>25     expert_pct   \n",
       "16  0.564338  0.563518  0.588199     expert_pct>50     expert_pct   \n",
       "17  0.526324    0.4528  0.556919  relative_time>10  relative_time   \n",
       "18    0.5184  0.441513  0.547287  relative_time>25  relative_time   \n",
       "19   0.51677  0.441415  0.538046  relative_time>50  relative_time   \n",
       "20  0.511973  0.478899  0.517146     expert_pct>25     expert_pct   \n",
       "21  0.521799  0.520648  0.528075     expert_pct>50     expert_pct   \n",
       "22  0.510285  0.490975  0.511756  relative_time>10  relative_time   \n",
       "23  0.506058  0.486822  0.509526  relative_time>25  relative_time   \n",
       "24  0.510909  0.492517  0.512351  relative_time>50  relative_time   \n",
       "\n",
       "          subreddit  \n",
       "0            Advice  \n",
       "1            Advice  \n",
       "2            Advice  \n",
       "3            Advice  \n",
       "4            Advice  \n",
       "5     AmItheAsshole  \n",
       "6     AmItheAsshole  \n",
       "7     AmItheAsshole  \n",
       "8     AmItheAsshole  \n",
       "9       legaladvice  \n",
       "10      legaladvice  \n",
       "11      legaladvice  \n",
       "12      legaladvice  \n",
       "13      legaladvice  \n",
       "14     pcmasterrace  \n",
       "15     pcmasterrace  \n",
       "16     pcmasterrace  \n",
       "17     pcmasterrace  \n",
       "18     pcmasterrace  \n",
       "19     pcmasterrace  \n",
       "20  personalfinance  \n",
       "21  personalfinance  \n",
       "22  personalfinance  \n",
       "23  personalfinance  \n",
       "24  personalfinance  "
      ]
     },
     "metadata": {},
     "output_type": "display_data"
    }
   ],
   "source": [
    "display(subreddit_question_pred_scores)"
   ]
  },
  {
   "cell_type": "markdown",
   "metadata": {},
   "source": [
    "These scores are pretty low! Let's try using a regular BOW representation to see if we can get stronger signals from the training data."
   ]
  },
  {
   "cell_type": "code",
   "execution_count": 4,
   "metadata": {},
   "outputs": [],
   "source": [
    "## TODO: use BoW + SVM\n",
    "from sklearn.feature_extraction.text import CountVectorizer\n",
    "from nltk.tokenize import WordPunctTokenizer\n",
    "from stop_words import get_stop_words\n",
    "from sklearn.svm import SVC\n",
    "from sklearn.model_selection import StratifiedKFold\n",
    "from sklearn.metrics import f1_score, roc_auc_score\n",
    "def train_test_BOW_model(data, text_var, class_var):\n",
    "    tokenizer = WordPunctTokenizer()\n",
    "    en_stops = get_stop_words('en')\n",
    "    cv = CountVectorizer(min_df=0.001, max_df=0.5, stop_words=en_stops, tokenizer=tokenizer.tokenize)\n",
    "    dtm = cv.fit_transform(data.loc[:, text_var].values)\n",
    "    vocab = list(sorted(cv.vocabulary_, key=cv.vocabulary_.get))\n",
    "    n_folds = 10\n",
    "    k_fold = StratifiedKFold(n_folds)\n",
    "    Y = data.loc[:, class_var].values\n",
    "    model_scores = []\n",
    "    for train_idx, test_idx in k_fold.split(dtm, Y):\n",
    "        X_train, X_test = dtm[train_idx, :], dtm[test_idx, :]\n",
    "        Y_train, Y_test = Y[train_idx], Y[test_idx]\n",
    "        model = SVC(C=1., kernel='rbf', probability=True)\n",
    "        model.fit(X_train, Y_train)\n",
    "        Y_pred = model.predict(X_test)\n",
    "        Y_prob = model.predict_proba(X_test)\n",
    "        acc = (Y_test==Y_pred).sum() / len(Y_test)\n",
    "        f1 = f1_score(Y_test, Y_pred, average='macro')\n",
    "        auc = roc_auc_score(Y_test, Y_prob[:, 1])\n",
    "        model_scores.append([acc, f1, auc])\n",
    "    model_scores = pd.DataFrame(model_scores, columns=['acc', 'F1', 'AUC'])\n",
    "    mean_model_scores = model_scores.mean(axis=0)\n",
    "    return mean_model_scores"
   ]
  },
  {
   "cell_type": "code",
   "execution_count": 10,
   "metadata": {
    "scrolled": true
   },
   "outputs": [
    {
     "name": "stdout",
     "output_type": "stream",
     "text": [
      "subreddit = Advice\n",
      "testing author var = expert_pct\n",
      "cutoff = expert_pct>25\n"
     ]
    },
    {
     "name": "stderr",
     "output_type": "stream",
     "text": [
      "/home/ianbstew/miniconda3/envs/py3/lib/python3.8/site-packages/sklearn/feature_extraction/text.py:382: UserWarning: Your stop_words may be inconsistent with your preprocessing. Tokenizing the stop words generated tokens [\"'\", 'aren', 'can', 'couldn', 'd', 'didn', 'doesn', 'don', 'hadn', 'hasn', 'haven', 'isn', 'let', 'll', 'm', 'mustn', 're', 's', 'shan', 'shouldn', 't', 've', 'wasn', 'weren', 'won', 'wouldn'] not in stop_words.\n",
      "  warnings.warn('Your stop_words may be inconsistent with '\n"
     ]
    },
    {
     "name": "stdout",
     "output_type": "stream",
     "text": [
      "acc                       0.744441\n",
      "F1                        0.433846\n",
      "AUC                       0.505892\n",
      "subreddit                   Advice\n",
      "author_var_cutoff    expert_pct>25\n",
      "author_var              expert_pct\n",
      "dtype: object\n",
      "cutoff = expert_pct>50\n"
     ]
    },
    {
     "name": "stderr",
     "output_type": "stream",
     "text": [
      "/home/ianbstew/miniconda3/envs/py3/lib/python3.8/site-packages/sklearn/feature_extraction/text.py:382: UserWarning: Your stop_words may be inconsistent with your preprocessing. Tokenizing the stop words generated tokens [\"'\", 'aren', 'can', 'couldn', 'd', 'didn', 'doesn', 'don', 'hadn', 'hasn', 'haven', 'isn', 'let', 'll', 'm', 'mustn', 're', 's', 'shan', 'shouldn', 't', 've', 'wasn', 'weren', 'won', 'wouldn'] not in stop_words.\n",
      "  warnings.warn('Your stop_words may be inconsistent with '\n"
     ]
    },
    {
     "name": "stdout",
     "output_type": "stream",
     "text": [
      "acc                       0.509929\n",
      "F1                        0.504267\n",
      "AUC                       0.517511\n",
      "subreddit                   Advice\n",
      "author_var_cutoff    expert_pct>50\n",
      "author_var              expert_pct\n",
      "dtype: object\n",
      "cutoff = expert_pct>75\n"
     ]
    },
    {
     "name": "stderr",
     "output_type": "stream",
     "text": [
      "/home/ianbstew/miniconda3/envs/py3/lib/python3.8/site-packages/sklearn/feature_extraction/text.py:382: UserWarning: Your stop_words may be inconsistent with your preprocessing. Tokenizing the stop words generated tokens [\"'\", 'aren', 'can', 'couldn', 'd', 'didn', 'doesn', 'don', 'hadn', 'hasn', 'haven', 'isn', 'let', 'll', 'm', 'mustn', 're', 's', 'shan', 'shouldn', 't', 've', 'wasn', 'weren', 'won', 'wouldn'] not in stop_words.\n",
      "  warnings.warn('Your stop_words may be inconsistent with '\n"
     ]
    },
    {
     "name": "stdout",
     "output_type": "stream",
     "text": [
      "acc                       0.748494\n",
      "F1                        0.454521\n",
      "AUC                       0.524711\n",
      "subreddit                   Advice\n",
      "author_var_cutoff    expert_pct>75\n",
      "author_var              expert_pct\n",
      "dtype: object\n",
      "cutoff = expert_pct>90\n"
     ]
    },
    {
     "name": "stderr",
     "output_type": "stream",
     "text": [
      "/home/ianbstew/miniconda3/envs/py3/lib/python3.8/site-packages/sklearn/feature_extraction/text.py:382: UserWarning: Your stop_words may be inconsistent with your preprocessing. Tokenizing the stop words generated tokens [\"'\", 'aren', 'can', 'couldn', 'd', 'didn', 'doesn', 'don', 'hadn', 'hasn', 'haven', 'isn', 'let', 'll', 'm', 'mustn', 're', 's', 'shan', 'shouldn', 't', 've', 'wasn', 'weren', 'won', 'wouldn'] not in stop_words.\n",
      "  warnings.warn('Your stop_words may be inconsistent with '\n"
     ]
    },
    {
     "name": "stdout",
     "output_type": "stream",
     "text": [
      "acc                          0.744155\n",
      "F1                           0.433137\n",
      "AUC                          0.504682\n",
      "subreddit                      Advice\n",
      "author_var_cutoff    relative_time>10\n",
      "author_var              relative_time\n",
      "dtype: object\n",
      "cutoff = relative_time>25\n"
     ]
    },
    {
     "name": "stderr",
     "output_type": "stream",
     "text": [
      "/home/ianbstew/miniconda3/envs/py3/lib/python3.8/site-packages/sklearn/feature_extraction/text.py:382: UserWarning: Your stop_words may be inconsistent with your preprocessing. Tokenizing the stop words generated tokens [\"'\", 'aren', 'can', 'couldn', 'd', 'didn', 'doesn', 'don', 'hadn', 'hasn', 'haven', 'isn', 'let', 'll', 'm', 'mustn', 're', 's', 'shan', 'shouldn', 't', 've', 'wasn', 'weren', 'won', 'wouldn'] not in stop_words.\n",
      "  warnings.warn('Your stop_words may be inconsistent with '\n"
     ]
    },
    {
     "name": "stdout",
     "output_type": "stream",
     "text": [
      "acc                          0.744155\n",
      "F1                           0.433137\n",
      "AUC                          0.504686\n",
      "subreddit                      Advice\n",
      "author_var_cutoff    relative_time>25\n",
      "author_var              relative_time\n",
      "dtype: object\n",
      "cutoff = relative_time>50\n"
     ]
    },
    {
     "name": "stderr",
     "output_type": "stream",
     "text": [
      "/home/ianbstew/miniconda3/envs/py3/lib/python3.8/site-packages/sklearn/feature_extraction/text.py:382: UserWarning: Your stop_words may be inconsistent with your preprocessing. Tokenizing the stop words generated tokens [\"'\", 'aren', 'can', 'couldn', 'd', 'didn', 'doesn', 'don', 'hadn', 'hasn', 'haven', 'isn', 'let', 'll', 'm', 'mustn', 're', 's', 'shan', 'shouldn', 't', 've', 'wasn', 'weren', 'won', 'wouldn'] not in stop_words.\n",
      "  warnings.warn('Your stop_words may be inconsistent with '\n"
     ]
    },
    {
     "name": "stdout",
     "output_type": "stream",
     "text": [
      "acc                          0.744155\n",
      "F1                           0.433137\n",
      "AUC                          0.504688\n",
      "subreddit                      Advice\n",
      "author_var_cutoff    relative_time>50\n",
      "author_var              relative_time\n",
      "dtype: object\n",
      "cutoff = relative_time>75\n"
     ]
    },
    {
     "name": "stderr",
     "output_type": "stream",
     "text": [
      "/home/ianbstew/miniconda3/envs/py3/lib/python3.8/site-packages/sklearn/feature_extraction/text.py:382: UserWarning: Your stop_words may be inconsistent with your preprocessing. Tokenizing the stop words generated tokens [\"'\", 'aren', 'can', 'couldn', 'd', 'didn', 'doesn', 'don', 'hadn', 'hasn', 'haven', 'isn', 'let', 'll', 'm', 'mustn', 're', 's', 'shan', 'shouldn', 't', 've', 'wasn', 'weren', 'won', 'wouldn'] not in stop_words.\n",
      "  warnings.warn('Your stop_words may be inconsistent with '\n"
     ]
    },
    {
     "name": "stdout",
     "output_type": "stream",
     "text": [
      "acc                          0.744155\n",
      "F1                           0.433137\n",
      "AUC                          0.504686\n",
      "subreddit                      Advice\n",
      "author_var_cutoff    relative_time>75\n",
      "author_var              relative_time\n",
      "dtype: object\n",
      "cutoff = relative_time>90\n"
     ]
    },
    {
     "name": "stderr",
     "output_type": "stream",
     "text": [
      "/home/ianbstew/miniconda3/envs/py3/lib/python3.8/site-packages/sklearn/feature_extraction/text.py:382: UserWarning: Your stop_words may be inconsistent with your preprocessing. Tokenizing the stop words generated tokens [\"'\", 'aren', 'can', 'couldn', 'd', 'didn', 'doesn', 'don', 'hadn', 'hasn', 'haven', 'isn', 'let', 'll', 'm', 'mustn', 're', 's', 'shan', 'shouldn', 't', 've', 'wasn', 'weren', 'won', 'wouldn'] not in stop_words.\n",
      "  warnings.warn('Your stop_words may be inconsistent with '\n"
     ]
    },
    {
     "ename": "KeyboardInterrupt",
     "evalue": "",
     "output_type": "error",
     "traceback": [
      "\u001b[0;31m---------------------------------------------------------------------------\u001b[0m",
      "\u001b[0;31mKeyboardInterrupt\u001b[0m                         Traceback (most recent call last)",
      "\u001b[0;32m<ipython-input-10-8b6375d86262>\u001b[0m in \u001b[0;36m<module>\u001b[0;34m\u001b[0m\n\u001b[1;32m     11\u001b[0m             \u001b[0;32mif\u001b[0m\u001b[0;34m(\u001b[0m\u001b[0mdata_i\u001b[0m\u001b[0;34m.\u001b[0m\u001b[0mloc\u001b[0m\u001b[0;34m[\u001b[0m\u001b[0;34m:\u001b[0m\u001b[0;34m,\u001b[0m \u001b[0mpct_cutoff_var_k\u001b[0m\u001b[0;34m]\u001b[0m\u001b[0;34m.\u001b[0m\u001b[0mnunique\u001b[0m\u001b[0;34m(\u001b[0m\u001b[0;34m)\u001b[0m \u001b[0;34m>\u001b[0m \u001b[0;36m1\u001b[0m \u001b[0;32mand\u001b[0m \u001b[0mdata_i\u001b[0m\u001b[0;34m.\u001b[0m\u001b[0mloc\u001b[0m\u001b[0;34m[\u001b[0m\u001b[0;34m:\u001b[0m\u001b[0;34m,\u001b[0m \u001b[0mpct_cutoff_var_k\u001b[0m\u001b[0;34m]\u001b[0m\u001b[0;34m.\u001b[0m\u001b[0mvalue_counts\u001b[0m\u001b[0;34m(\u001b[0m\u001b[0;34m)\u001b[0m\u001b[0;34m.\u001b[0m\u001b[0mmin\u001b[0m\u001b[0;34m(\u001b[0m\u001b[0;34m)\u001b[0m \u001b[0;34m>\u001b[0m \u001b[0mmin_class_cutoff\u001b[0m\u001b[0;34m)\u001b[0m\u001b[0;34m:\u001b[0m\u001b[0;34m\u001b[0m\u001b[0;34m\u001b[0m\u001b[0m\n\u001b[1;32m     12\u001b[0m                 \u001b[0mprint\u001b[0m\u001b[0;34m(\u001b[0m\u001b[0;34mf'cutoff = {pct_cutoff_var_k}'\u001b[0m\u001b[0;34m)\u001b[0m\u001b[0;34m\u001b[0m\u001b[0;34m\u001b[0m\u001b[0m\n\u001b[0;32m---> 13\u001b[0;31m                 \u001b[0mmodel_scores_i\u001b[0m \u001b[0;34m=\u001b[0m \u001b[0mtrain_test_BOW_model\u001b[0m\u001b[0;34m(\u001b[0m\u001b[0mdata_i\u001b[0m\u001b[0;34m,\u001b[0m \u001b[0mtext_var\u001b[0m\u001b[0;34m,\u001b[0m \u001b[0mpct_cutoff_var_k\u001b[0m\u001b[0;34m)\u001b[0m\u001b[0;34m\u001b[0m\u001b[0;34m\u001b[0m\u001b[0m\n\u001b[0m\u001b[1;32m     14\u001b[0m                 \u001b[0mmodel_scores_i\u001b[0m\u001b[0;34m.\u001b[0m\u001b[0mloc\u001b[0m\u001b[0;34m[\u001b[0m\u001b[0;34m'subreddit'\u001b[0m\u001b[0;34m]\u001b[0m \u001b[0;34m=\u001b[0m \u001b[0msubreddit_i\u001b[0m\u001b[0;34m\u001b[0m\u001b[0;34m\u001b[0m\u001b[0m\n\u001b[1;32m     15\u001b[0m                 \u001b[0mmodel_scores_i\u001b[0m\u001b[0;34m.\u001b[0m\u001b[0mloc\u001b[0m\u001b[0;34m[\u001b[0m\u001b[0;34m'author_var_cutoff'\u001b[0m\u001b[0;34m]\u001b[0m \u001b[0;34m=\u001b[0m \u001b[0mpct_cutoff_var_k\u001b[0m\u001b[0;34m\u001b[0m\u001b[0;34m\u001b[0m\u001b[0m\n",
      "\u001b[0;32m<ipython-input-4-2660cb450363>\u001b[0m in \u001b[0;36mtrain_test_BOW_model\u001b[0;34m(data, text_var, class_var)\u001b[0m\n\u001b[1;32m     20\u001b[0m         \u001b[0mY_train\u001b[0m\u001b[0;34m,\u001b[0m \u001b[0mY_test\u001b[0m \u001b[0;34m=\u001b[0m \u001b[0mY\u001b[0m\u001b[0;34m[\u001b[0m\u001b[0mtrain_idx\u001b[0m\u001b[0;34m]\u001b[0m\u001b[0;34m,\u001b[0m \u001b[0mY\u001b[0m\u001b[0;34m[\u001b[0m\u001b[0mtest_idx\u001b[0m\u001b[0;34m]\u001b[0m\u001b[0;34m\u001b[0m\u001b[0;34m\u001b[0m\u001b[0m\n\u001b[1;32m     21\u001b[0m         \u001b[0mmodel\u001b[0m \u001b[0;34m=\u001b[0m \u001b[0mSVC\u001b[0m\u001b[0;34m(\u001b[0m\u001b[0mC\u001b[0m\u001b[0;34m=\u001b[0m\u001b[0;36m1.\u001b[0m\u001b[0;34m,\u001b[0m \u001b[0mkernel\u001b[0m\u001b[0;34m=\u001b[0m\u001b[0;34m'rbf'\u001b[0m\u001b[0;34m,\u001b[0m \u001b[0mprobability\u001b[0m\u001b[0;34m=\u001b[0m\u001b[0;32mTrue\u001b[0m\u001b[0;34m)\u001b[0m\u001b[0;34m\u001b[0m\u001b[0;34m\u001b[0m\u001b[0m\n\u001b[0;32m---> 22\u001b[0;31m         \u001b[0mmodel\u001b[0m\u001b[0;34m.\u001b[0m\u001b[0mfit\u001b[0m\u001b[0;34m(\u001b[0m\u001b[0mX_train\u001b[0m\u001b[0;34m,\u001b[0m \u001b[0mY_train\u001b[0m\u001b[0;34m)\u001b[0m\u001b[0;34m\u001b[0m\u001b[0;34m\u001b[0m\u001b[0m\n\u001b[0m\u001b[1;32m     23\u001b[0m         \u001b[0mY_pred\u001b[0m \u001b[0;34m=\u001b[0m \u001b[0mmodel\u001b[0m\u001b[0;34m.\u001b[0m\u001b[0mpredict\u001b[0m\u001b[0;34m(\u001b[0m\u001b[0mX_test\u001b[0m\u001b[0;34m)\u001b[0m\u001b[0;34m\u001b[0m\u001b[0;34m\u001b[0m\u001b[0m\n\u001b[1;32m     24\u001b[0m         \u001b[0mY_prob\u001b[0m \u001b[0;34m=\u001b[0m \u001b[0mmodel\u001b[0m\u001b[0;34m.\u001b[0m\u001b[0mpredict_proba\u001b[0m\u001b[0;34m(\u001b[0m\u001b[0mX_test\u001b[0m\u001b[0;34m)\u001b[0m\u001b[0;34m\u001b[0m\u001b[0;34m\u001b[0m\u001b[0m\n",
      "\u001b[0;32m~/miniconda3/envs/py3/lib/python3.8/site-packages/sklearn/svm/_base.py\u001b[0m in \u001b[0;36mfit\u001b[0;34m(self, X, y, sample_weight)\u001b[0m\n\u001b[1;32m    197\u001b[0m \u001b[0;34m\u001b[0m\u001b[0m\n\u001b[1;32m    198\u001b[0m         \u001b[0mseed\u001b[0m \u001b[0;34m=\u001b[0m \u001b[0mrnd\u001b[0m\u001b[0;34m.\u001b[0m\u001b[0mrandint\u001b[0m\u001b[0;34m(\u001b[0m\u001b[0mnp\u001b[0m\u001b[0;34m.\u001b[0m\u001b[0miinfo\u001b[0m\u001b[0;34m(\u001b[0m\u001b[0;34m'i'\u001b[0m\u001b[0;34m)\u001b[0m\u001b[0;34m.\u001b[0m\u001b[0mmax\u001b[0m\u001b[0;34m)\u001b[0m\u001b[0;34m\u001b[0m\u001b[0;34m\u001b[0m\u001b[0m\n\u001b[0;32m--> 199\u001b[0;31m         \u001b[0mfit\u001b[0m\u001b[0;34m(\u001b[0m\u001b[0mX\u001b[0m\u001b[0;34m,\u001b[0m \u001b[0my\u001b[0m\u001b[0;34m,\u001b[0m \u001b[0msample_weight\u001b[0m\u001b[0;34m,\u001b[0m \u001b[0msolver_type\u001b[0m\u001b[0;34m,\u001b[0m \u001b[0mkernel\u001b[0m\u001b[0;34m,\u001b[0m \u001b[0mrandom_seed\u001b[0m\u001b[0;34m=\u001b[0m\u001b[0mseed\u001b[0m\u001b[0;34m)\u001b[0m\u001b[0;34m\u001b[0m\u001b[0;34m\u001b[0m\u001b[0m\n\u001b[0m\u001b[1;32m    200\u001b[0m         \u001b[0;31m# see comment on the other call to np.iinfo in this file\u001b[0m\u001b[0;34m\u001b[0m\u001b[0;34m\u001b[0m\u001b[0;34m\u001b[0m\u001b[0m\n\u001b[1;32m    201\u001b[0m \u001b[0;34m\u001b[0m\u001b[0m\n",
      "\u001b[0;32m~/miniconda3/envs/py3/lib/python3.8/site-packages/sklearn/svm/_base.py\u001b[0m in \u001b[0;36m_sparse_fit\u001b[0;34m(self, X, y, sample_weight, solver_type, kernel, random_seed)\u001b[0m\n\u001b[1;32m    272\u001b[0m             \u001b[0mself\u001b[0m\u001b[0;34m.\u001b[0m\u001b[0mintercept_\u001b[0m\u001b[0;34m,\u001b[0m \u001b[0mself\u001b[0m\u001b[0;34m.\u001b[0m\u001b[0m_n_support\u001b[0m\u001b[0;34m,\u001b[0m\u001b[0;31m \u001b[0m\u001b[0;31m\\\u001b[0m\u001b[0;34m\u001b[0m\u001b[0;34m\u001b[0m\u001b[0m\n\u001b[1;32m    273\u001b[0m             \u001b[0mself\u001b[0m\u001b[0;34m.\u001b[0m\u001b[0mprobA_\u001b[0m\u001b[0;34m,\u001b[0m \u001b[0mself\u001b[0m\u001b[0;34m.\u001b[0m\u001b[0mprobB_\u001b[0m\u001b[0;34m,\u001b[0m \u001b[0mself\u001b[0m\u001b[0;34m.\u001b[0m\u001b[0mfit_status_\u001b[0m \u001b[0;34m=\u001b[0m\u001b[0;31m \u001b[0m\u001b[0;31m\\\u001b[0m\u001b[0;34m\u001b[0m\u001b[0;34m\u001b[0m\u001b[0m\n\u001b[0;32m--> 274\u001b[0;31m             libsvm_sparse.libsvm_sparse_train(\n\u001b[0m\u001b[1;32m    275\u001b[0m                 \u001b[0mX\u001b[0m\u001b[0;34m.\u001b[0m\u001b[0mshape\u001b[0m\u001b[0;34m[\u001b[0m\u001b[0;36m1\u001b[0m\u001b[0;34m]\u001b[0m\u001b[0;34m,\u001b[0m \u001b[0mX\u001b[0m\u001b[0;34m.\u001b[0m\u001b[0mdata\u001b[0m\u001b[0;34m,\u001b[0m \u001b[0mX\u001b[0m\u001b[0;34m.\u001b[0m\u001b[0mindices\u001b[0m\u001b[0;34m,\u001b[0m \u001b[0mX\u001b[0m\u001b[0;34m.\u001b[0m\u001b[0mindptr\u001b[0m\u001b[0;34m,\u001b[0m \u001b[0my\u001b[0m\u001b[0;34m,\u001b[0m \u001b[0msolver_type\u001b[0m\u001b[0;34m,\u001b[0m\u001b[0;34m\u001b[0m\u001b[0;34m\u001b[0m\u001b[0m\n\u001b[1;32m    276\u001b[0m                 \u001b[0mkernel_type\u001b[0m\u001b[0;34m,\u001b[0m \u001b[0mself\u001b[0m\u001b[0;34m.\u001b[0m\u001b[0mdegree\u001b[0m\u001b[0;34m,\u001b[0m \u001b[0mself\u001b[0m\u001b[0;34m.\u001b[0m\u001b[0m_gamma\u001b[0m\u001b[0;34m,\u001b[0m \u001b[0mself\u001b[0m\u001b[0;34m.\u001b[0m\u001b[0mcoef0\u001b[0m\u001b[0;34m,\u001b[0m \u001b[0mself\u001b[0m\u001b[0;34m.\u001b[0m\u001b[0mtol\u001b[0m\u001b[0;34m,\u001b[0m\u001b[0;34m\u001b[0m\u001b[0;34m\u001b[0m\u001b[0m\n",
      "\u001b[0;32msklearn/svm/_libsvm_sparse.pyx\u001b[0m in \u001b[0;36msklearn.svm._libsvm_sparse.libsvm_sparse_train\u001b[0;34m()\u001b[0m\n",
      "\u001b[0;32m~/miniconda3/envs/py3/lib/python3.8/site-packages/scipy/sparse/compressed.py\u001b[0m in \u001b[0;36m__init__\u001b[0;34m(self, arg1, shape, dtype, copy)\u001b[0m\n\u001b[1;32m     25\u001b[0m     \u001b[0;34m\"\"\"base matrix class for compressed row- and column-oriented matrices\"\"\"\u001b[0m\u001b[0;34m\u001b[0m\u001b[0;34m\u001b[0m\u001b[0m\n\u001b[1;32m     26\u001b[0m \u001b[0;34m\u001b[0m\u001b[0m\n\u001b[0;32m---> 27\u001b[0;31m     \u001b[0;32mdef\u001b[0m \u001b[0m__init__\u001b[0m\u001b[0;34m(\u001b[0m\u001b[0mself\u001b[0m\u001b[0;34m,\u001b[0m \u001b[0marg1\u001b[0m\u001b[0;34m,\u001b[0m \u001b[0mshape\u001b[0m\u001b[0;34m=\u001b[0m\u001b[0;32mNone\u001b[0m\u001b[0;34m,\u001b[0m \u001b[0mdtype\u001b[0m\u001b[0;34m=\u001b[0m\u001b[0;32mNone\u001b[0m\u001b[0;34m,\u001b[0m \u001b[0mcopy\u001b[0m\u001b[0;34m=\u001b[0m\u001b[0;32mFalse\u001b[0m\u001b[0;34m)\u001b[0m\u001b[0;34m:\u001b[0m\u001b[0;34m\u001b[0m\u001b[0;34m\u001b[0m\u001b[0m\n\u001b[0m\u001b[1;32m     28\u001b[0m         \u001b[0m_data_matrix\u001b[0m\u001b[0;34m.\u001b[0m\u001b[0m__init__\u001b[0m\u001b[0;34m(\u001b[0m\u001b[0mself\u001b[0m\u001b[0;34m)\u001b[0m\u001b[0;34m\u001b[0m\u001b[0;34m\u001b[0m\u001b[0m\n\u001b[1;32m     29\u001b[0m \u001b[0;34m\u001b[0m\u001b[0m\n",
      "\u001b[0;31mKeyboardInterrupt\u001b[0m: "
     ]
    }
   ],
   "source": [
    "text_var = 'question'\n",
    "per_subreddit_bow_model_scores = []\n",
    "author_vars = ['expert_pct', 'relative_time']\n",
    "min_class_cutoff = 1000\n",
    "for subreddit_i, data_i in author_var_cutoff_data.groupby('subreddit'):\n",
    "    print(f'subreddit = {subreddit_i}')\n",
    "    for author_var_j in author_vars:\n",
    "        print(f'testing author var = {author_var_j}')\n",
    "        pct_cutoff_vars_j = list(filter(lambda x: x.startswith(author_var_j+'>'), data_i.columns))\n",
    "        for pct_cutoff_var_k in pct_cutoff_vars_j:\n",
    "            if(data_i.loc[:, pct_cutoff_var_k].nunique() > 1 and data_i.loc[:, pct_cutoff_var_k].value_counts().min() > min_class_cutoff):\n",
    "                print(f'cutoff = {pct_cutoff_var_k}')\n",
    "                model_scores_i = train_test_BOW_model(data_i, text_var, pct_cutoff_var_k)\n",
    "                model_scores_i.loc['subreddit'] = subreddit_i\n",
    "                model_scores_i.loc['author_var_cutoff'] = pct_cutoff_var_k\n",
    "                model_scores_i.loc['author_var'] = author_var_j\n",
    "                print(model_scores_i)\n",
    "                per_subreddit_bow_model_scores.append(model_scores_i)\n",
    "per_subreddit_bow_model_scores = pd.concat(per_subreddit_bow_model_scores, axis=1).transpose()"
   ]
  },
  {
   "cell_type": "code",
   "execution_count": 79,
   "metadata": {},
   "outputs": [
    {
     "name": "stdout",
     "output_type": "stream",
     "text": [
      "acc    0.898407\n",
      "F1     0.480710\n",
      "AUC    0.509580\n",
      "dtype: float64\n",
      "Advice\n"
     ]
    }
   ],
   "source": [
    "display(per_subreddit_bow_model_scores)"
   ]
  },
  {
   "cell_type": "code",
   "execution_count": null,
   "metadata": {},
   "outputs": [],
   "source": [
    "## TODO: use buffers e.g. expert_pct < 50-10 => \"novice\" and expert_pct > 50+10 => \"expert\""
   ]
  },
  {
   "cell_type": "code",
   "execution_count": null,
   "metadata": {},
   "outputs": [],
   "source": [
    "## TODO: increase min post count for inferring expert, relative time info"
   ]
  },
  {
   "cell_type": "markdown",
   "metadata": {},
   "source": [
    "### Test models on reader-specific questions: per-subreddit models\n",
    "We have updated the reader group classification task to generate a separate model for every subreddit.\n",
    "\n",
    "Let's see if these models do a better job at identifying questions with high likelihood of being written by specific reader groups!\n",
    "\n",
    "Note: we will have to load $M$ subreddits * $G$ reader groups = $15$ models to get this to work. Yikes!!"
   ]
  },
  {
   "cell_type": "code",
   "execution_count": 41,
   "metadata": {
    "scrolled": true
   },
   "outputs": [
    {
     "name": "stdout",
     "output_type": "stream",
     "text": [
      "AmItheAsshole      22531\n",
      "personalfinance    11798\n",
      "legaladvice         7424\n",
      "Advice              7215\n",
      "pcmasterrace        4112\n",
      "Name: subreddit, dtype: int64\n",
      "subreddit        group_category   \n",
      "Advice           UNK                   1625\n",
      "                 expert_pct_bin        2583\n",
      "                 location_region        424\n",
      "                 relative_time_bin     2583\n",
      "AmItheAsshole    UNK                  12072\n",
      "                 expert_pct_bin        4747\n",
      "                 location_region        965\n",
      "                 relative_time_bin     4747\n",
      "legaladvice      UNK                   1789\n",
      "                 expert_pct_bin        2597\n",
      "                 location_region        441\n",
      "                 relative_time_bin     2597\n",
      "pcmasterrace     UNK                    833\n",
      "                 expert_pct_bin        1516\n",
      "                 location_region        247\n",
      "                 relative_time_bin     1516\n",
      "personalfinance  UNK                   5465\n",
      "                 expert_pct_bin        2881\n",
      "                 location_region        571\n",
      "                 relative_time_bin     2881\n",
      "dtype: int64\n"
     ]
    }
   ],
   "source": [
    "## load test data, subreddits, etc.\n",
    "import torch\n",
    "import pandas as pd\n",
    "test_data = torch.load('../../data/reddit_data/combined_data_test_data.pt').data.to_pandas().drop(['source_ids', 'target_ids', 'attention_mask', 'subreddit_embed', 'text_embed', 'source_ids_reader_token', 'source_text_reader_token'], axis=1)\n",
    "post_data = pd.read_csv('../../data/reddit_data/subreddit_submissions_2018-01_2019-12.gz', sep='\\t', compression='gzip', usecols=['id', 'subreddit']).rename(columns={'id' : 'article_id'})\n",
    "test_data = pd.merge(test_data, post_data, on='article_id')\n",
    "## add reader group categories\n",
    "reader_group_category_lookup = {\n",
    "    'expert_pct_bin' : ['<EXPERT_PCT_0_AUTHOR>', '<EXPERT_PCT_1_AUTHOR>'],\n",
    "    'relative_time_bin' : ['<RESPONSE_TIME_0_AUTHOR>', '<RESPONSE_TIME_1_AUTHOR>'],\n",
    "    'location_region' : ['<NONUS_AUTHOR>', '<US_AUTHOR>'],\n",
    "    'UNK' : ['UNK']\n",
    "}\n",
    "reader_group_category_lookup = {\n",
    "    v1 : k for k, v in reader_group_category_lookup.items() for v1 in v\n",
    "}\n",
    "# fix column names\n",
    "test_data.rename(columns={'reader_token_str' : 'reader_group', 'source_text' : 'post', 'target_text' : 'question'}, inplace=True)\n",
    "test_data = test_data.assign(**{\n",
    "    'group_category' : test_data.loc[:, 'reader_group'].apply(reader_group_category_lookup.get)\n",
    "})\n",
    "print(test_data.loc[:, 'subreddit'].value_counts())\n",
    "print(test_data.loc[:, ['subreddit', 'group_category']].value_counts().sort_index())"
   ]
  },
  {
   "cell_type": "code",
   "execution_count": 44,
   "metadata": {},
   "outputs": [],
   "source": [
    "## compute sentence embeddings, compress via PCA, etc.\n",
    "from model_helpers import load_sentence_embed_model\n",
    "sentence_embed_model = load_sentence_embed_model()\n",
    "# encode data\n",
    "import torch\n",
    "embed_vars = ['question', 'post']\n",
    "for embed_var_i in embed_vars:\n",
    "    encode_var_i = f'{embed_var_i}_encoded'\n",
    "    encoding_i = sentence_embed_model.encode(test_data.loc[:, embed_var_i].values, batch_size=16, device=torch.cuda.current_device(), show_progress_bar=True)\n",
    "    test_data = test_data.assign(**{\n",
    "        encode_var_i : [encoding_i[i, :] for i in range(encoding_i.shape[0])],\n",
    "    })\n",
    "## use PCA to compress data\n",
    "import numpy as np\n",
    "model_home_dir = '../../data/reddit_data/group_classification_model/'\n",
    "PCA_question_embed_model = pickle.load(open(os.path.join(model_home_dir, 'PCA_model_embed=question_encoded.pkl'), 'rb'))\n",
    "PCA_post_embed_model = pickle.load(open(os.path.join(model_home_dir, 'PCA_model_embed=post_encoded.pkl'), 'rb'))\n",
    "PCA_models = [PCA_question_embed_model, PCA_post_embed_model]\n",
    "for embed_var_i, PCA_model_i in zip(embed_vars, PCA_models):\n",
    "    encode_var_i = f'{embed_var_i}_encoded'\n",
    "    mat_i = np.vstack(test_data.loc[:, encode_var_i].values)\n",
    "    reduce_mat_i = PCA_model_i.transform(mat_i)\n",
    "    test_data = test_data.assign(**{\n",
    "        f'PCA_{encode_var_i}': [reduce_mat_i[i, :] for i in range(reduce_mat_i.shape[0])]\n",
    "    })\n",
    "# combine representations\n",
    "import numpy as np\n",
    "test_data = test_data.assign(**{\n",
    "    'PCA_question_post_encoded' : test_data.apply(lambda x: np.hstack([x.loc['PCA_question_encoded'], x.loc['PCA_post_encoded']]), axis=1)\n",
    "})"
   ]
  },
  {
   "cell_type": "code",
   "execution_count": 50,
   "metadata": {},
   "outputs": [],
   "source": [
    "## save data, reboot notebook, reload\n",
    "test_data.to_csv('../../data/reddit_data/combined_data_test_data_encoding.gz', sep='\\t', compression='gzip', index=False)"
   ]
  },
  {
   "cell_type": "code",
   "execution_count": 29,
   "metadata": {},
   "outputs": [
    {
     "name": "stdout",
     "output_type": "stream",
     "text": [
      "group_category     reader_group_class\n",
      "UNK                UNK                   21784\n",
      "expert_pct_bin     0                     10070\n",
      "                   1                      4254\n",
      "location_region    NONUS                  1189\n",
      "                   US                     1459\n",
      "relative_time_bin  0                      6079\n",
      "                   1                      8245\n",
      "dtype: int64\n"
     ]
    }
   ],
   "source": [
    "##\n",
    "import pandas as pd\n",
    "test_data = pd.read_csv('../../data/reddit_data/combined_data_test_data_encoding.gz', sep='\\t', compression='gzip')\n",
    "# fix format for post/question encoding\n",
    "import numpy as np\n",
    "from ast import literal_eval\n",
    "import re\n",
    "def str2array(s):\n",
    "    # Remove space after [\n",
    "    s=re.sub('\\[ +', '[', s.strip())\n",
    "    # Replace commas and spaces\n",
    "    s=re.sub('[,\\s]+', ', ', s)\n",
    "    return np.array(literal_eval(s))\n",
    "text_encode_var = 'PCA_question_post_encoded'\n",
    "test_data = test_data.assign(**{\n",
    "    text_encode_var : test_data.loc[:, text_encode_var].apply(str2array)\n",
    "})\n",
    "# fix class name for classification UGH\n",
    "reader_group_category_class_lookup = {\n",
    "    'expert_pct_bin' : {\n",
    "        '<EXPERT_PCT_0_AUTHOR>' : 0,\n",
    "        '<EXPERT_PCT_1_AUTHOR>' : 1,\n",
    "    },\n",
    "    'relative_time_bin' : {\n",
    "        '<RESPONSE_TIME_0_AUTHOR>' : 0,\n",
    "        '<RESPONSE_TIME_1_AUTHOR>' : 1,\n",
    "    },\n",
    "    'location_region' : {\n",
    "        '<NONUS_AUTHOR>' : 'NONUS',\n",
    "        '<US_AUTHOR>' : 'US',\n",
    "    },\n",
    "    'UNK' : {\n",
    "        'UNK' : 'UNK'\n",
    "    }\n",
    "}\n",
    "test_data = test_data.assign(**{\n",
    "    'reader_group_class' : test_data.apply(lambda x: reader_group_category_class_lookup[x.loc['group_category']][x.loc['reader_group']], axis=1)\n",
    "})\n",
    "print(test_data.loc[:, ['group_category', 'reader_group_class']].value_counts().sort_index())"
   ]
  },
  {
   "cell_type": "code",
   "execution_count": 21,
   "metadata": {
    "scrolled": true
   },
   "outputs": [],
   "source": [
    "import os\n",
    "import re\n",
    "import pickle\n",
    "from ast import literal_eval\n",
    "model_dir = '../../data/reddit_data/group_classification_model/question_post_data/'\n",
    "subreddits = test_data.loc[:, 'subreddit'].unique()\n",
    "group_vars = list(set(test_data.loc[:, 'group_category'].unique()) - {'UNK'})\n",
    "subreddit_group_model_lookup = {}\n",
    "default_class_matcher = re.compile('(?<=class1\\=).*(?=\\.pkl)')\n",
    "for subreddit_i in subreddits:\n",
    "    model_dir_i = os.path.join(model_dir, subreddit_i)\n",
    "    # load model\n",
    "    for group_var_j in group_vars:\n",
    "        model_file_matcher_i = re.compile(f'.*group={group_var_j}.*\\.pkl')\n",
    "        model_file_i = list(filter(lambda x: model_file_matcher_i.match(x) is not None, os.listdir(model_dir_i)))\n",
    "        if(len(model_file_i) > 0):\n",
    "            model_file_i = model_file_i[0]\n",
    "            model_file_i = os.path.join(model_dir_i, model_file_i)\n",
    "            # get default class\n",
    "            default_class_i = default_class_matcher.search(model_file_i).group(0)\n",
    "            if(default_class_i.isdigit()):\n",
    "                default_class_i = literal_eval(default_class_i)\n",
    "            model_i = pickle.load(open(model_file_i, 'rb'))\n",
    "            subreddit_group_model_lookup[f'{subreddit_i};{group_var_j}'] = (model_i, default_class_i)"
   ]
  },
  {
   "cell_type": "markdown",
   "metadata": {},
   "source": [
    "Now that we've loaded the data, for each question/answer pair written by reader group $G$ let's get (1) the highest-predicted category in $G$; (2) the probability $p$ of that prediction."
   ]
  },
  {
   "cell_type": "code",
   "execution_count": 52,
   "metadata": {
    "scrolled": true
   },
   "outputs": [],
   "source": [
    "from itertools import product\n",
    "reader_group_other_class_lookup = test_data.groupby('group_category').apply(lambda x: dict([(z[0], z[1]) for z in product(x.loc[:, 'reader_group_class'].unique(), x.loc[:, 'reader_group_class'].unique()) if z[0]!=z[1]]))\n",
    "def get_model_class_prob(data, model_lookup, pred_var='PCA_question_post_encoded'):\n",
    "    subreddit = data.loc[\"subreddit\"]\n",
    "    group_category = data.loc[\"group_category\"]\n",
    "    model, default_class = model_lookup[f'{subreddit};{group_category}']\n",
    "    model_prob = model.predict_proba(data.loc[pred_var].reshape(1,-1))[0, :]\n",
    "    max_class_idx = model_prob.argmax()\n",
    "    max_class_prob = model_prob.max()\n",
    "    if(max_class_idx == 1):\n",
    "        max_class = default_class\n",
    "    else:\n",
    "        max_class = reader_group_other_class_lookup.loc[group_category][default_class]\n",
    "    return max_class, max_class_prob"
   ]
  },
  {
   "cell_type": "code",
   "execution_count": 49,
   "metadata": {},
   "outputs": [
    {
     "name": "stdout",
     "output_type": "stream",
     "text": [
      "31296\n"
     ]
    }
   ],
   "source": [
    "reader_group_test_data = test_data[test_data.loc[:, 'group_category']!='UNK']\n",
    "print(reader_group_test_data.shape[0])"
   ]
  },
  {
   "cell_type": "code",
   "execution_count": 58,
   "metadata": {},
   "outputs": [
    {
     "data": {
      "text/plain": [
       "(1, 0.9997098025185109)"
      ]
     },
     "execution_count": 58,
     "metadata": {},
     "output_type": "execute_result"
    }
   ],
   "source": [
    "get_model_class_prob(reader_group_test_data.iloc[2500, :], subreddit_group_model_lookup, pred_var='PCA_question_post_encoded')"
   ]
  },
  {
   "cell_type": "code",
   "execution_count": 61,
   "metadata": {
    "scrolled": true
   },
   "outputs": [
    {
     "name": "stderr",
     "output_type": "stream",
     "text": [
      "100%|██████████| 31296/31296 [00:11<00:00, 2837.25it/s]\n"
     ]
    }
   ],
   "source": [
    "from tqdm import tqdm\n",
    "tqdm.pandas()\n",
    "pred_var = 'PCA_question_post_encoded'\n",
    "pred_class_prob_data = reader_group_test_data.progress_apply(lambda x: get_model_class_prob(x, subreddit_group_model_lookup, pred_var=pred_var), axis=1)\n",
    "# fix variables etc.\n",
    "reader_group_test_data = reader_group_test_data.assign(**{\n",
    "    'pred_class' : list(map(lambda x: x[0], pred_class_prob_data)),\n",
    "    'pred_class_prob' : list(map(lambda x: x[1], pred_class_prob_data)),\n",
    "})"
   ]
  },
  {
   "cell_type": "markdown",
   "metadata": {},
   "source": [
    "Are the models' predictions generally accurate? I sure hope so!"
   ]
  },
  {
   "cell_type": "code",
   "execution_count": 88,
   "metadata": {
    "scrolled": true
   },
   "outputs": [
    {
     "name": "stdout",
     "output_type": "stream",
     "text": [
      "pred acc = 0.604\n"
     ]
    },
    {
     "data": {
      "text/html": [
       "<div>\n",
       "<style scoped>\n",
       "    .dataframe tbody tr th:only-of-type {\n",
       "        vertical-align: middle;\n",
       "    }\n",
       "\n",
       "    .dataframe tbody tr th {\n",
       "        vertical-align: top;\n",
       "    }\n",
       "\n",
       "    .dataframe thead th {\n",
       "        text-align: right;\n",
       "    }\n",
       "</style>\n",
       "<table border=\"1\" class=\"dataframe\">\n",
       "  <thead>\n",
       "    <tr style=\"text-align: right;\">\n",
       "      <th></th>\n",
       "      <th>subreddit</th>\n",
       "      <th>group_category</th>\n",
       "      <th>F1</th>\n",
       "    </tr>\n",
       "  </thead>\n",
       "  <tbody>\n",
       "    <tr>\n",
       "      <th>0</th>\n",
       "      <td>Advice</td>\n",
       "      <td>expert_pct_bin</td>\n",
       "      <td>0.527481</td>\n",
       "    </tr>\n",
       "    <tr>\n",
       "      <th>1</th>\n",
       "      <td>Advice</td>\n",
       "      <td>location_region</td>\n",
       "      <td>0.564684</td>\n",
       "    </tr>\n",
       "    <tr>\n",
       "      <th>2</th>\n",
       "      <td>Advice</td>\n",
       "      <td>relative_time_bin</td>\n",
       "      <td>0.513941</td>\n",
       "    </tr>\n",
       "    <tr>\n",
       "      <th>3</th>\n",
       "      <td>AmItheAsshole</td>\n",
       "      <td>expert_pct_bin</td>\n",
       "      <td>0.619168</td>\n",
       "    </tr>\n",
       "    <tr>\n",
       "      <th>4</th>\n",
       "      <td>AmItheAsshole</td>\n",
       "      <td>location_region</td>\n",
       "      <td>0.607193</td>\n",
       "    </tr>\n",
       "    <tr>\n",
       "      <th>5</th>\n",
       "      <td>AmItheAsshole</td>\n",
       "      <td>relative_time_bin</td>\n",
       "      <td>0.658012</td>\n",
       "    </tr>\n",
       "    <tr>\n",
       "      <th>6</th>\n",
       "      <td>legaladvice</td>\n",
       "      <td>expert_pct_bin</td>\n",
       "      <td>0.533633</td>\n",
       "    </tr>\n",
       "    <tr>\n",
       "      <th>7</th>\n",
       "      <td>legaladvice</td>\n",
       "      <td>location_region</td>\n",
       "      <td>0.460410</td>\n",
       "    </tr>\n",
       "    <tr>\n",
       "      <th>8</th>\n",
       "      <td>legaladvice</td>\n",
       "      <td>relative_time_bin</td>\n",
       "      <td>0.517634</td>\n",
       "    </tr>\n",
       "    <tr>\n",
       "      <th>9</th>\n",
       "      <td>pcmasterrace</td>\n",
       "      <td>expert_pct_bin</td>\n",
       "      <td>0.564523</td>\n",
       "    </tr>\n",
       "    <tr>\n",
       "      <th>10</th>\n",
       "      <td>pcmasterrace</td>\n",
       "      <td>location_region</td>\n",
       "      <td>0.434370</td>\n",
       "    </tr>\n",
       "    <tr>\n",
       "      <th>11</th>\n",
       "      <td>pcmasterrace</td>\n",
       "      <td>relative_time_bin</td>\n",
       "      <td>0.526792</td>\n",
       "    </tr>\n",
       "    <tr>\n",
       "      <th>12</th>\n",
       "      <td>personalfinance</td>\n",
       "      <td>expert_pct_bin</td>\n",
       "      <td>0.553457</td>\n",
       "    </tr>\n",
       "    <tr>\n",
       "      <th>13</th>\n",
       "      <td>personalfinance</td>\n",
       "      <td>location_region</td>\n",
       "      <td>0.438833</td>\n",
       "    </tr>\n",
       "    <tr>\n",
       "      <th>14</th>\n",
       "      <td>personalfinance</td>\n",
       "      <td>relative_time_bin</td>\n",
       "      <td>0.533570</td>\n",
       "    </tr>\n",
       "  </tbody>\n",
       "</table>\n",
       "</div>"
      ],
      "text/plain": [
       "          subreddit     group_category        F1\n",
       "0            Advice     expert_pct_bin  0.527481\n",
       "1            Advice    location_region  0.564684\n",
       "2            Advice  relative_time_bin  0.513941\n",
       "3     AmItheAsshole     expert_pct_bin  0.619168\n",
       "4     AmItheAsshole    location_region  0.607193\n",
       "5     AmItheAsshole  relative_time_bin  0.658012\n",
       "6       legaladvice     expert_pct_bin  0.533633\n",
       "7       legaladvice    location_region  0.460410\n",
       "8       legaladvice  relative_time_bin  0.517634\n",
       "9      pcmasterrace     expert_pct_bin  0.564523\n",
       "10     pcmasterrace    location_region  0.434370\n",
       "11     pcmasterrace  relative_time_bin  0.526792\n",
       "12  personalfinance     expert_pct_bin  0.553457\n",
       "13  personalfinance    location_region  0.438833\n",
       "14  personalfinance  relative_time_bin  0.533570"
      ]
     },
     "metadata": {},
     "output_type": "display_data"
    },
    {
     "data": {
      "text/plain": [
       "group_category\n",
       "expert_pct_bin       0.559652\n",
       "location_region      0.501098\n",
       "relative_time_bin    0.549990\n",
       "dtype: float64"
      ]
     },
     "metadata": {},
     "output_type": "display_data"
    }
   ],
   "source": [
    "from sklearn.metrics import f1_score\n",
    "reader_group_pred_acc = (reader_group_test_data.loc[:, 'reader_group_class']==reader_group_test_data.loc[:, 'pred_class']).sum() / reader_group_test_data.shape[0]\n",
    "print(f'pred acc = {reader_group_pred_acc:.3f}')\n",
    "# check per-subreddit, per-group\n",
    "subreddit_group_pred_acc = []\n",
    "for (subreddit_i, group_i), data_i in reader_group_test_data.groupby(['subreddit', 'group_category']):\n",
    "    class_vals_i = data_i.loc[:, 'reader_group_class'].values\n",
    "    pred_vals_i = data_i.loc[:, 'pred_class'].values\n",
    "    if(type(class_vals_i[0]) is int):\n",
    "        class_vals_i = class_vals_i.astype(int)\n",
    "        pred_vals_i = pred_vals_i.astype(int)\n",
    "    f1_i = f1_score(class_vals_i, pred_vals_i, average='macro')\n",
    "    subreddit_group_pred_acc.append([subreddit_i, group_i, f1_i])\n",
    "subreddit_group_pred_acc = pd.DataFrame(subreddit_group_pred_acc, columns=['subreddit', 'group_category', 'F1'])\n",
    "display(subreddit_group_pred_acc)\n",
    "display(subreddit_group_pred_acc.groupby('group_category').apply(lambda x: x.loc[:, 'F1'].mean()))"
   ]
  },
  {
   "cell_type": "markdown",
   "metadata": {},
   "source": [
    "OK! Some of these results are worse than chance but that is likely due to data sparsity in training data, e.g. with `location_region` where location is not always a factor in questions on `pcmasterrace`."
   ]
  },
  {
   "cell_type": "markdown",
   "metadata": {},
   "source": [
    "What is the distribution of probabilities associated with the predictions, and can we restrict our data to questions with high probability of a reader class?"
   ]
  },
  {
   "cell_type": "code",
   "execution_count": 110,
   "metadata": {
    "scrolled": true
   },
   "outputs": [
    {
     "data": {
      "image/png": "[encoded data removed]",
      "text/plain": [
       "<Figure size 432x288 with 1 Axes>"
      ]
     },
     "metadata": {
      "needs_background": "light"
     },
     "output_type": "display_data"
    },
    {
     "data": {
      "image/png": "[encoded data removed]",
      "text/plain": [
       "<Figure size 432x288 with 1 Axes>"
      ]
     },
     "metadata": {
      "needs_background": "light"
     },
     "output_type": "display_data"
    },
    {
     "data": {
      "image/png": "[encoded data removed]",
      "text/plain": [
       "<Figure size 432x288 with 1 Axes>"
      ]
     },
     "metadata": {
      "needs_background": "light"
     },
     "output_type": "display_data"
    }
   ],
   "source": [
    "import matplotlib\n",
    "%matplotlib inline\n",
    "import matplotlib.pyplot as plt\n",
    "import seaborn as sns\n",
    "for group_i, data_i in reader_group_test_data.groupby('group_category'):\n",
    "    sns.histplot(data=data_i, x='pred_class_prob', stat='probability', bins=20)\n",
    "    plt.title(group_i)\n",
    "    # plt.xlim([0.9, 1.0])\n",
    "    plt.show()"
   ]
  },
  {
   "cell_type": "markdown",
   "metadata": {},
   "source": [
    "Let's restrict to $p>0.95$ for each subgroup and see how the question generation models do on this subset of questions! Probably won't make a big difference."
   ]
  },
  {
   "cell_type": "code",
   "execution_count": 127,
   "metadata": {},
   "outputs": [],
   "source": [
    "import torch\n",
    "full_test_data = torch.load('../../data/reddit_data/combined_data_test_data.pt').data.to_pandas().drop(['source_ids', 'target_ids', 'attention_mask', 'subreddit_embed', 'text_embed', 'source_ids_reader_token', 'source_text_reader_token'], axis=1)\n",
    "full_test_data.rename(columns={'reader_token_str' : 'reader_group', 'source_text' : 'post', 'target_text' : 'question'}, inplace=True)\n",
    "## add reader group categories\n",
    "reader_group_category_lookup = {\n",
    "    'expert_pct_bin' : ['<EXPERT_PCT_0_AUTHOR>', '<EXPERT_PCT_1_AUTHOR>'],\n",
    "    'relative_time_bin' : ['<RESPONSE_TIME_0_AUTHOR>', '<RESPONSE_TIME_1_AUTHOR>'],\n",
    "    'location_region' : ['<NONUS_AUTHOR>', '<US_AUTHOR>'],\n",
    "    'UNK' : ['UNK']\n",
    "}\n",
    "reader_group_category_lookup = {\n",
    "    v1 : k for k, v in reader_group_category_lookup.items() for v1 in v\n",
    "}\n",
    "full_test_data = full_test_data.assign(**{\n",
    "    'group_category' : full_test_data.loc[:, 'reader_group'].apply(reader_group_category_lookup.get)\n",
    "})"
   ]
  },
  {
   "cell_type": "code",
   "execution_count": 128,
   "metadata": {},
   "outputs": [],
   "source": [
    "## load generated text data\n",
    "import gzip\n",
    "text_only_output = list(map(lambda x: x.strip(), gzip.open('../../data/reddit_data/text_only_model/test_data_output_text.gz', 'rb')))\n",
    "reader_token_output = list(map(lambda x: x.strip(), gzip.open('../../data/reddit_data/author_text_data/test_data_output_text.gz', 'rb')))\n",
    "reader_attn_output = list(map(lambda x: x.strip(), gzip.open('../../data/reddit_data/author_text_data/author_attention_data/author_attention_layer=5_location=encoder_config=attnconcat/test_data_output_text.gz', 'rb')))\n",
    "model_output_types = ['text_only_model', 'reader_token_model', 'reader_attn_model']\n",
    "model_output_data = [text_only_output, reader_token_output, reader_attn_output]\n",
    "full_test_data = full_test_data.assign(**{\n",
    "    x : y\n",
    "    for x,y in zip(model_output_types, model_output_data)\n",
    "})\n",
    "reader_full_test_data = full_test_data[full_test_data.loc[:, 'reader_group']!='UNK']"
   ]
  },
  {
   "cell_type": "code",
   "execution_count": 125,
   "metadata": {
    "scrolled": true
   },
   "outputs": [
    {
     "data": {
      "text/plain": [
       "31296"
      ]
     },
     "execution_count": 125,
     "metadata": {},
     "output_type": "execute_result"
    }
   ],
   "source": [
    "reader_group_test_data.loc[:, ['author', 'id', 'group_category', 'question_id']].drop_duplicates(['author', 'id', 'group_category', 'question_id']).shape[0]"
   ]
  },
  {
   "cell_type": "code",
   "execution_count": 130,
   "metadata": {
    "scrolled": true
   },
   "outputs": [
    {
     "name": "stdout",
     "output_type": "stream",
     "text": [
      "(31296, 21)\n"
     ]
    }
   ],
   "source": [
    "# rejoin data\n",
    "author_id_vars = ['author', 'id', 'group_category', 'question_id']\n",
    "reader_pred_test_data = pd.merge(\n",
    "    reader_group_test_data, \n",
    "    reader_full_test_data.loc[:, author_id_vars + model_output_types],\n",
    "    on=author_id_vars,\n",
    "    how='inner',\n",
    ")\n",
    "print(reader_pred_test_data.shape)"
   ]
  },
  {
   "cell_type": "code",
   "execution_count": null,
   "metadata": {
    "scrolled": true
   },
   "outputs": [
    {
     "name": "stdout",
     "output_type": "stream",
     "text": [
      "model=text_only_model\n"
     ]
    }
   ],
   "source": [
    "## compute overlap scores UGH\n",
    "from importlib import reload\n",
    "import model_helpers\n",
    "reload(model_helpers)\n",
    "from model_helpers import test_question_overlap\n",
    "from test_question_generation import STOP_WORDS\n",
    "# suppress BLEU error message\n",
    "import warnings\n",
    "warnings.filterwarnings('ignore')\n",
    "word_embed_file = '../../data/embeddings/wiki-news-300d-1M.vec.gz'\n",
    "model_output_types = [\n",
    "    'text_only_model',\n",
    "    'reader_token_model',\n",
    "    'reader_attn_model'\n",
    "]\n",
    "from nlp.arrow_dataset import Dataset\n",
    "extra_test_cols = ['reader_group_class', 'pred_class']\n",
    "reader_pred_test_data_torch = Dataset.from_pandas(reader_pred_test_data.drop(extra_test_cols, axis=1))\n",
    "reader_pred_test_data_torch.rename_column_('question', 'target_text')\n",
    "text_overlap_score_data = []\n",
    "for model_output_type_i in model_output_types:\n",
    "    print(f'model={model_output_type_i}')\n",
    "    overlap_score_data_i = test_question_overlap(\n",
    "        reader_pred_test_data.loc[:, model_output_type_i].values,\n",
    "        reader_pred_test_data_torch,\n",
    "        word_embed_file=word_embed_file,\n",
    "        stop_words=STOP_WORDS,\n",
    "    )\n",
    "    # fix column names\n",
    "    overlap_score_data_i.rename(columns={\n",
    "        c : f'{c}_model={model_output_type_i.replace(\"_model\",\"\")}'\n",
    "        for c in overlap_score_data_i.columns\n",
    "    }, inplace=True)\n",
    "    text_overlap_score_data.append(overlap_score_data_i)\n",
    "text_overlap_score_data = pd.concat(text_overlap_score_data, axis=1)"
   ]
  },
  {
   "cell_type": "code",
   "execution_count": null,
   "metadata": {},
   "outputs": [],
   "source": []
  }
 ],
 "metadata": {
  "kernelspec": {
   "display_name": "Python [conda env:py3] *",
   "language": "python",
   "name": "conda-env-py3-py"
  },
  "language_info": {
   "codemirror_mode": {
    "name": "ipython",
    "version": 3
   },
   "file_extension": ".py",
   "mimetype": "text/x-python",
   "name": "python",
   "nbconvert_exporter": "python",
   "pygments_lexer": "ipython3",
   "version": "3.8.5"
  }
 },
 "nbformat": 4,
 "nbformat_minor": 4
}
