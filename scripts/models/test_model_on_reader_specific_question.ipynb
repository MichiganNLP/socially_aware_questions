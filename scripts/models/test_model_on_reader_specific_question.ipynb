{
 "cells": [
  {
   "cell_type": "markdown",
   "metadata": {},
   "source": [
    "# Test model on reader-specific questions\n",
    "We have previously determined that the reader-aware model does (slightly) better on divisive posts.\n",
    "\n",
    "How well does the model do on questions that are highly associated with a specific reader group? E.g. if P(reader == EXPERT) is high (based on classification model or reader traits), does the generation model catch those questions better?"
   ]
  },
  {
   "cell_type": "code",
   "execution_count": 12,
   "metadata": {},
   "outputs": [
    {
     "name": "stdout",
     "output_type": "stream",
     "text": [
      "(53080, 17)\n"
     ]
    }
   ],
   "source": [
    "## load data\n",
    "import torch\n",
    "test_data = torch.load('../../data/reddit_data/combined_data_test_data.pt').data.to_pandas()\n",
    "test_data.rename(columns={'source_text' : 'post', 'target_text' : 'question'}, inplace=True)\n",
    "print(test_data.shape)"
   ]
  },
  {
   "cell_type": "code",
   "execution_count": 5,
   "metadata": {},
   "outputs": [],
   "source": [
    "## load data cleaning PCA models\n",
    "import pickle\n",
    "PCA_post_embed_model = pickle.load(open('../../data/reddit_data/group_classification_model/PCA_model_embed=post_encoded.pkl', 'rb'))\n",
    "PCA_question_embed_model = pickle.load(open('../../data/reddit_data/group_classification_model/PCA_model_embed=question_encoded.pkl', 'rb'))"
   ]
  },
  {
   "cell_type": "code",
   "execution_count": 6,
   "metadata": {},
   "outputs": [],
   "source": [
    "## load classification models\n",
    "import os\n",
    "reader_groups = ['relative_time_bin', 'expert_pct_bin', 'location_region']\n",
    "reader_group_default_class = {\n",
    "    'relative_time_bin' : '0.0',\n",
    "    'expert_pct_bin' : '0.0',\n",
    "    'location_region' : 'NONUS',\n",
    "}\n",
    "reader_group_models = {}\n",
    "model_dir = '../../data/reddit_data/group_classification_model/question_post_data/'\n",
    "for reader_group_i in reader_groups:\n",
    "    default_class_i = reader_group_default_class[reader_group_i]\n",
    "    model_file_i = os.path.join(model_dir, f'MLP_prediction_group={reader_group_i}_class1={default_class_i}.pkl')\n",
    "    reader_group_models[reader_group_i] = pickle.load(open(model_file_i, 'rb'))"
   ]
  },
  {
   "cell_type": "code",
   "execution_count": 18,
   "metadata": {
    "scrolled": true
   },
   "outputs": [
    {
     "data": {
      "application/vnd.jupyter.widget-view+json": {
       "model_id": "93c37bbeb2054be8b1c30e4d43ebbd9c",
       "version_major": 2,
       "version_minor": 0
      },
      "text/plain": [
       "Batches:   0%|          | 0/3318 [00:00<?, ?it/s]"
      ]
     },
     "metadata": {},
     "output_type": "display_data"
    },
    {
     "data": {
      "application/vnd.jupyter.widget-view+json": {
       "model_id": "99fe29f0b6f44fa0a8dd769caef11574",
       "version_major": 2,
       "version_minor": 0
      },
      "text/plain": [
       "Batches:   0%|          | 0/3318 [00:00<?, ?it/s]"
      ]
     },
     "metadata": {},
     "output_type": "display_data"
    }
   ],
   "source": [
    "## load embedding model\n",
    "from importlib import reload\n",
    "import model_helpers\n",
    "reload(model_helpers)\n",
    "from model_helpers import load_sentence_embed_model\n",
    "sentence_embed_model = load_sentence_embed_model()\n",
    "# encode data\n",
    "import torch\n",
    "embed_vars = ['question', 'post']\n",
    "for embed_var_i in embed_vars:\n",
    "    encode_var_i = f'{embed_var_i}_encoded'\n",
    "    encoding_i = sentence_embed_model.encode(test_data.loc[:, embed_var_i].values, batch_size=16, device=torch.cuda.current_device(), show_progress_bar=True)\n",
    "    test_data = test_data.assign(**{\n",
    "        encode_var_i : [encoding_i[i, :] for i in range(encoding_i.shape[0])],\n",
    "    })"
   ]
  },
  {
   "cell_type": "code",
   "execution_count": 76,
   "metadata": {},
   "outputs": [],
   "source": [
    "## use PCA to compress data\n",
    "import numpy as np\n",
    "PCA_models = [PCA_question_embed_model, PCA_post_embed_model]\n",
    "for embed_var_i, PCA_model_i in zip(embed_vars, PCA_models):\n",
    "    encode_var_i = f'{embed_var_i}_encoded'\n",
    "    mat_i = np.vstack(test_data.loc[:, encode_var_i].values)\n",
    "    reduce_mat_i = PCA_model_i.fit_transform(mat_i)\n",
    "    test_data = test_data.assign(**{\n",
    "        f'PCA_{encode_var_i}': [reduce_mat_i[i, :] for i in range(reduce_mat_i.shape[0])]\n",
    "    })"
   ]
  },
  {
   "cell_type": "code",
   "execution_count": 74,
   "metadata": {
    "scrolled": true
   },
   "outputs": [],
   "source": [
    "## assign labels\n",
    "reader_group_category_lookup = {\n",
    "    'expert_pct_bin' : ['<EXPERT_PCT_0_AUTHOR>', '<EXPERT_PCT_1_AUTHOR>'],\n",
    "    'relative_time_bin' : ['<RESPONSE_TIME_0_AUTHOR>', '<RESPONSE_TIME_1_AUTHOR>'],\n",
    "    'location_region' : ['<NONUS_AUTHOR>', '<US_AUTHOR>'],\n",
    "    'UNK' : ['UNK']\n",
    "}\n",
    "reader_group_category_lookup = {\n",
    "    v1 : k for k, v in reader_group_category_lookup.items() for v1 in v\n",
    "}\n",
    "test_data = test_data.assign(**{\n",
    "    'reader_group' : test_data.loc[:, 'reader_token_str'].apply(lambda x: reader_group_category_lookup[x])\n",
    "})\n",
    "reader_group_default_class_str = {\n",
    "    'relative_time_bin' : '<RESPONSE_TIME_0_AUTHOR>',\n",
    "    'expert_pct_bin' : '<EXPERT_PCT_0_AUTHOR>',\n",
    "    'location_region' : '<NONUS_AUTHOR>',\n",
    "    'UNK' : 'UNK'\n",
    "}\n",
    "test_data = test_data.assign(**{\n",
    "    'reader_group_class' : test_data.apply(lambda x: int(x.loc['reader_token_str']==reader_group_default_class_str[x.loc['reader_group']]), axis=1)\n",
    "})"
   ]
  },
  {
   "cell_type": "code",
   "execution_count": 77,
   "metadata": {},
   "outputs": [],
   "source": [
    "## predict class for all reader groups\n",
    "import pandas as pd\n",
    "reader_groups = ['relative_time_bin', 'expert_pct_bin', 'location_region']\n",
    "pred_test_data = []\n",
    "for reader_group_i in reader_groups:\n",
    "    # clean data etc.\n",
    "    test_data_i = test_data[test_data.loc[:, 'reader_group']==reader_group_i]\n",
    "    question_post_text_i = np.hstack([np.vstack(test_data_i.loc[:, 'PCA_question_encoded'].values), np.vstack(test_data_i.loc[:, 'PCA_post_encoded'].values)])\n",
    "    # do prediction!!\n",
    "    reader_group_model_i = reader_group_models[reader_group_i]\n",
    "    pred_prob_i = reader_group_model_i.predict_proba(question_post_text_i)\n",
    "    test_data_i = test_data_i.assign(**{\n",
    "        'reader_group_class_pred' : np.argmax(pred_prob_i, axis=1)\n",
    "    })\n",
    "    test_data_i = test_data_i.assign(**{\n",
    "        'reader_group_class_pred_prob' : np.max(pred_prob_i, axis=1)\n",
    "    })\n",
    "    pred_test_data.append(test_data_i)\n",
    "pred_test_data = pd.concat(pred_test_data, axis=0)"
   ]
  },
  {
   "cell_type": "code",
   "execution_count": 78,
   "metadata": {
    "scrolled": true
   },
   "outputs": [
    {
     "name": "stdout",
     "output_type": "stream",
     "text": [
      "label dist =\n",
      "1    10070\n",
      "0     4254\n",
      "Name: reader_group_class, dtype: int64\n",
      "pred dist =\n",
      "0    8242\n",
      "1    6082\n",
      "Name: reader_group_class_pred, dtype: int64\n",
      "reader group = expert_pct_bin has F1=0.463\n",
      "label dist =\n",
      "0    1459\n",
      "1    1189\n",
      "Name: reader_group_class, dtype: int64\n",
      "pred dist =\n",
      "0    1377\n",
      "1    1271\n",
      "Name: reader_group_class_pred, dtype: int64\n",
      "reader group = location_region has F1=0.504\n",
      "label dist =\n",
      "0    8245\n",
      "1    6079\n",
      "Name: reader_group_class, dtype: int64\n",
      "pred dist =\n",
      "0    13338\n",
      "1      986\n",
      "Name: reader_group_class_pred, dtype: int64\n",
      "reader group = relative_time_bin has F1=0.412\n"
     ]
    }
   ],
   "source": [
    "## let's check out accuracy\n",
    "from sklearn.metrics import f1_score\n",
    "for reader_group_i, data_i in pred_test_data.groupby('reader_group'):\n",
    "    print(f'label dist =\\n{data_i.loc[:, \"reader_group_class\"].value_counts()}')\n",
    "    print(f'pred dist =\\n{data_i.loc[:, \"reader_group_class_pred\"].value_counts()}')\n",
    "    f1_i = f1_score(data_i.loc[:, 'reader_group_class'].values, data_i.loc[:, 'reader_group_class_pred'].values, average='macro')\n",
    "    print(f'reader group = {reader_group_i} has F1={\"{:.3f}\".format(f1_i)}')"
   ]
  },
  {
   "cell_type": "markdown",
   "metadata": {},
   "source": [
    "This is bad! Maybe there's an issue with data shift?\n",
    "\n",
    "Let's retrain and test the model on balanced data."
   ]
  },
  {
   "cell_type": "code",
   "execution_count": 126,
   "metadata": {
    "scrolled": true
   },
   "outputs": [],
   "source": [
    "## get train data, re-clean etc, combine with test data\n",
    "train_data = torch.load('../../data/reddit_data/combined_data_train_data.pt').data.to_pandas()\n",
    "train_data.rename(columns={'source_text' : 'post', 'target_text' : 'question'}, inplace=True)\n",
    "## assign labels\n",
    "reader_group_category_lookup = {\n",
    "    'expert_pct_bin' : ['<EXPERT_PCT_0_AUTHOR>', '<EXPERT_PCT_1_AUTHOR>'],\n",
    "    'relative_time_bin' : ['<RESPONSE_TIME_0_AUTHOR>', '<RESPONSE_TIME_1_AUTHOR>'],\n",
    "    'location_region' : ['<NONUS_AUTHOR>', '<US_AUTHOR>'],\n",
    "    'UNK' : ['UNK']\n",
    "}\n",
    "reader_group_category_lookup = {\n",
    "    v1 : k for k, v in reader_group_category_lookup.items() for v1 in v\n",
    "}\n",
    "train_data = train_data.assign(**{\n",
    "    'reader_group' : train_data.loc[:, 'reader_token_str'].apply(lambda x: reader_group_category_lookup[x])\n",
    "})\n",
    "reader_group_default_class_str = {\n",
    "    'relative_time_bin' : '<RESPONSE_TIME_0_AUTHOR>',\n",
    "    'expert_pct_bin' : '<EXPERT_PCT_0_AUTHOR>',\n",
    "    'location_region' : '<NONUS_AUTHOR>',\n",
    "    'UNK' : 'UNK'\n",
    "}\n",
    "train_data = train_data.assign(**{\n",
    "    'reader_group_class' : train_data.apply(lambda x: int(x.loc['reader_token_str']==reader_group_default_class_str[x.loc['reader_group']]), axis=1)\n",
    "})\n",
    "train_test_data = pd.concat([train_data, test_data], axis=0)\n",
    "## add subreddit data for later sampling\n",
    "import pandas as pd\n",
    "post_data = pd.read_csv('../../data/reddit_data/subreddit_submissions_2018-01_2019-12.gz', sep='\\t', compression='gzip', usecols=['id', 'subreddit'])\n",
    "post_data.rename(columns={'id' : 'article_id'}, inplace=True)\n",
    "train_test_data = pd.merge(train_test_data, post_data, on='article_id', how='left')"
   ]
  },
  {
   "cell_type": "code",
   "execution_count": 128,
   "metadata": {
    "scrolled": true
   },
   "outputs": [
    {
     "data": {
      "application/vnd.jupyter.widget-view+json": {
       "model_id": "0d27c581fdfd40d8861a19305150269f",
       "version_major": 2,
       "version_minor": 0
      },
      "text/plain": [
       "Batches:   0%|          | 0/8133 [00:00<?, ?it/s]"
      ]
     },
     "metadata": {},
     "output_type": "display_data"
    },
    {
     "data": {
      "application/vnd.jupyter.widget-view+json": {
       "model_id": "342ff00871634b66b0f222e54b2448e8",
       "version_major": 2,
       "version_minor": 0
      },
      "text/plain": [
       "Batches:   0%|          | 0/8133 [00:00<?, ?it/s]"
      ]
     },
     "metadata": {},
     "output_type": "display_data"
    },
    {
     "name": "stderr",
     "output_type": "stream",
     "text": [
      "IOPub message rate exceeded.\n",
      "The notebook server will temporarily stop sending output\n",
      "to the client in order to avoid crashing it.\n",
      "To change this limit, set the config variable\n",
      "`--NotebookApp.iopub_msg_rate_limit`.\n",
      "\n",
      "Current values:\n",
      "NotebookApp.iopub_msg_rate_limit=1000.0 (msgs/sec)\n",
      "NotebookApp.rate_limit_window=3.0 (secs)\n",
      "\n"
     ]
    }
   ],
   "source": [
    "## recompute PCA etc.\n",
    "trained_PCA_models = []\n",
    "sentence_embed_model = load_sentence_embed_model()\n",
    "# encode data\n",
    "import torch\n",
    "from sklearn.decomposition import PCA\n",
    "embed_vars = ['question', 'post']\n",
    "PCA_dim = 100\n",
    "for embed_var_i in embed_vars:\n",
    "    encode_var_i = f'{embed_var_i}_encoded'\n",
    "    encoding_i = sentence_embed_model.encode(train_test_data.loc[:, embed_var_i].values, batch_size=32, device=torch.cuda.current_device(), show_progress_bar=True)\n",
    "    train_test_data = train_test_data.assign(**{\n",
    "        encode_var_i : [encoding_i[i, :] for i in range(encoding_i.shape[0])],\n",
    "    })\n",
    "    # PCA transform\n",
    "    PCA_model_i = PCA(n_components=PCA_dim, random_state=123)\n",
    "    PCA_embed_i = PCA_model_i.fit_transform(np.vstack(train_test_data.loc[:, encode_var_i].values))\n",
    "    train_test_data = train_test_data.assign(**{\n",
    "        f'PCA_{encode_var_i}' : [PCA_embed_i[j, :] for j in range(PCA_embed_i.shape[0])]\n",
    "    })"
   ]
  },
  {
   "cell_type": "code",
   "execution_count": 121,
   "metadata": {
    "scrolled": true
   },
   "outputs": [
    {
     "name": "stdout",
     "output_type": "stream",
     "text": [
      "I'm just confused why she even knows what your documents are?\n"
     ]
    },
    {
     "data": {
      "text/plain": [
       "174807    I'm just confused why she even knows what your...\n",
       "134572    Does she have *any* documents with her real ag...\n",
       "164758    Is there somewhere her father kept most of his...\n",
       "136346    Is there somewhere her father kept most of his...\n",
       "157111                     Do you not have those documents?\n",
       "191358                     Do you not have those documents?\n",
       "105907    Is she just forgetful and/or lazy, or is she t...\n",
       "11449     Though she isn't curious where your entire che...\n",
       "44601     Though she isn't curious where your entire che...\n",
       "117364                 Sp have you actually read her stuff?\n",
       "Name: question, dtype: object"
      ]
     },
     "metadata": {},
     "output_type": "display_data"
    }
   ],
   "source": [
    "# check question nearest neighbors\n",
    "sample_data = train_test_data.iloc[200, :]\n",
    "print(sample_data.loc['question'])\n",
    "sample_question_embed = sample_data.loc['PCA_question_encoded']\n",
    "from sklearn.metrics.pairwise import cosine_similarity\n",
    "sample_question_embed_sim = cosine_similarity(sample_question_embed.reshape(1,-1), np.vstack(train_test_data.loc[:, 'PCA_question_encoded'].values))\n",
    "top_k = 10\n",
    "top_k_sim_data = train_test_data.iloc[np.argsort(sample_question_embed_sim[0])[::-1][1:(top_k+1)], :]\n",
    "display(top_k_sim_data.loc[:, 'question'])"
   ]
  },
  {
   "cell_type": "markdown",
   "metadata": {},
   "source": [
    "OK! These representations are actually meaningful."
   ]
  },
  {
   "cell_type": "code",
   "execution_count": 135,
   "metadata": {},
   "outputs": [
    {
     "name": "stderr",
     "output_type": "stream",
     "text": [
      "1it [02:03, 123.01s/it]"
     ]
    },
    {
     "name": "stdout",
     "output_type": "stream",
     "text": [
      "iter 0 has acc=0.523 F1=0.447\n"
     ]
    },
    {
     "name": "stderr",
     "output_type": "stream",
     "text": [
      "\r",
      "2it [03:50, 114.13s/it]"
     ]
    },
    {
     "name": "stdout",
     "output_type": "stream",
     "text": [
      "iter 1 has acc=0.540 F1=0.464\n"
     ]
    },
    {
     "name": "stderr",
     "output_type": "stream",
     "text": [
      "\r",
      "3it [05:39, 111.68s/it]"
     ]
    },
    {
     "name": "stdout",
     "output_type": "stream",
     "text": [
      "iter 2 has acc=0.512 F1=0.438\n"
     ]
    },
    {
     "name": "stderr",
     "output_type": "stream",
     "text": [
      "\r",
      "4it [07:21, 107.94s/it]"
     ]
    },
    {
     "name": "stdout",
     "output_type": "stream",
     "text": [
      "iter 3 has acc=0.528 F1=0.444\n"
     ]
    },
    {
     "name": "stderr",
     "output_type": "stream",
     "text": [
      "4it [07:48, 117.17s/it]\n"
     ]
    },
    {
     "ename": "KeyboardInterrupt",
     "evalue": "",
     "output_type": "error",
     "traceback": [
      "\u001b[0;31m---------------------------------------------------------------------------\u001b[0m",
      "\u001b[0;31mKeyboardInterrupt\u001b[0m                         Traceback (most recent call last)",
      "\u001b[0;32m<ipython-input-135-f5e247a01a6f>\u001b[0m in \u001b[0;36m<module>\u001b[0;34m\u001b[0m\n\u001b[1;32m     21\u001b[0m         \u001b[0mY_train\u001b[0m\u001b[0;34m,\u001b[0m \u001b[0mY_test\u001b[0m \u001b[0;34m=\u001b[0m \u001b[0mY\u001b[0m\u001b[0;34m[\u001b[0m\u001b[0mtrain_idx\u001b[0m\u001b[0;34m]\u001b[0m\u001b[0;34m,\u001b[0m \u001b[0mY\u001b[0m\u001b[0;34m[\u001b[0m\u001b[0mtest_idx\u001b[0m\u001b[0;34m]\u001b[0m\u001b[0;34m\u001b[0m\u001b[0;34m\u001b[0m\u001b[0m\n\u001b[1;32m     22\u001b[0m         \u001b[0mmodel\u001b[0m \u001b[0;34m=\u001b[0m \u001b[0mMLPClassifier\u001b[0m\u001b[0;34m(\u001b[0m\u001b[0mhidden_layer_sizes\u001b[0m\u001b[0;34m=\u001b[0m\u001b[0;34m[\u001b[0m\u001b[0mlayer_size\u001b[0m\u001b[0;34m,\u001b[0m\u001b[0;34m]\u001b[0m\u001b[0;34m,\u001b[0m \u001b[0mactivation\u001b[0m\u001b[0;34m=\u001b[0m\u001b[0;34m'relu'\u001b[0m\u001b[0;34m,\u001b[0m \u001b[0msolver\u001b[0m\u001b[0;34m=\u001b[0m\u001b[0;34m'lbfgs'\u001b[0m\u001b[0;34m,\u001b[0m \u001b[0mmax_iter\u001b[0m\u001b[0;34m=\u001b[0m\u001b[0;36m1000\u001b[0m\u001b[0;34m,\u001b[0m \u001b[0mrandom_state\u001b[0m\u001b[0;34m=\u001b[0m\u001b[0;36m123\u001b[0m\u001b[0;34m)\u001b[0m\u001b[0;34m\u001b[0m\u001b[0;34m\u001b[0m\u001b[0m\n\u001b[0;32m---> 23\u001b[0;31m         \u001b[0mmodel\u001b[0m\u001b[0;34m.\u001b[0m\u001b[0mfit\u001b[0m\u001b[0;34m(\u001b[0m\u001b[0mX_train\u001b[0m\u001b[0;34m,\u001b[0m \u001b[0mY_train\u001b[0m\u001b[0;34m)\u001b[0m\u001b[0;34m\u001b[0m\u001b[0;34m\u001b[0m\u001b[0m\n\u001b[0m\u001b[1;32m     24\u001b[0m         \u001b[0mY_pred\u001b[0m \u001b[0;34m=\u001b[0m \u001b[0mmodel\u001b[0m\u001b[0;34m.\u001b[0m\u001b[0mpredict\u001b[0m\u001b[0;34m(\u001b[0m\u001b[0mX_test\u001b[0m\u001b[0;34m)\u001b[0m\u001b[0;34m\u001b[0m\u001b[0;34m\u001b[0m\u001b[0m\n\u001b[1;32m     25\u001b[0m         \u001b[0macc_score_j\u001b[0m \u001b[0;34m=\u001b[0m \u001b[0;34m(\u001b[0m\u001b[0mY_pred\u001b[0m\u001b[0;34m==\u001b[0m\u001b[0mY_test\u001b[0m\u001b[0;34m)\u001b[0m\u001b[0;34m.\u001b[0m\u001b[0msum\u001b[0m\u001b[0;34m(\u001b[0m\u001b[0;34m)\u001b[0m \u001b[0;34m/\u001b[0m \u001b[0mlen\u001b[0m\u001b[0;34m(\u001b[0m\u001b[0mY_test\u001b[0m\u001b[0;34m)\u001b[0m\u001b[0;34m\u001b[0m\u001b[0;34m\u001b[0m\u001b[0m\n",
      "\u001b[0;32m~/miniconda3/envs/py3/lib/python3.8/site-packages/sklearn/neural_network/_multilayer_perceptron.py\u001b[0m in \u001b[0;36mfit\u001b[0;34m(self, X, y)\u001b[0m\n\u001b[1;32m    992\u001b[0m         \u001b[0mself\u001b[0m \u001b[0;34m:\u001b[0m \u001b[0mreturns\u001b[0m \u001b[0ma\u001b[0m \u001b[0mtrained\u001b[0m \u001b[0mMLP\u001b[0m \u001b[0mmodel\u001b[0m\u001b[0;34m.\u001b[0m\u001b[0;34m\u001b[0m\u001b[0;34m\u001b[0m\u001b[0m\n\u001b[1;32m    993\u001b[0m         \"\"\"\n\u001b[0;32m--> 994\u001b[0;31m         return self._fit(X, y, incremental=(self.warm_start and\n\u001b[0m\u001b[1;32m    995\u001b[0m                                             hasattr(self, \"classes_\")))\n\u001b[1;32m    996\u001b[0m \u001b[0;34m\u001b[0m\u001b[0m\n",
      "\u001b[0;32m~/miniconda3/envs/py3/lib/python3.8/site-packages/sklearn/neural_network/_multilayer_perceptron.py\u001b[0m in \u001b[0;36m_fit\u001b[0;34m(self, X, y, incremental)\u001b[0m\n\u001b[1;32m    372\u001b[0m         \u001b[0;31m# Run the LBFGS solver\u001b[0m\u001b[0;34m\u001b[0m\u001b[0;34m\u001b[0m\u001b[0;34m\u001b[0m\u001b[0m\n\u001b[1;32m    373\u001b[0m         \u001b[0;32melif\u001b[0m \u001b[0mself\u001b[0m\u001b[0;34m.\u001b[0m\u001b[0msolver\u001b[0m \u001b[0;34m==\u001b[0m \u001b[0;34m'lbfgs'\u001b[0m\u001b[0;34m:\u001b[0m\u001b[0;34m\u001b[0m\u001b[0;34m\u001b[0m\u001b[0m\n\u001b[0;32m--> 374\u001b[0;31m             self._fit_lbfgs(X, y, activations, deltas, coef_grads,\n\u001b[0m\u001b[1;32m    375\u001b[0m                             intercept_grads, layer_units)\n\u001b[1;32m    376\u001b[0m         \u001b[0;32mreturn\u001b[0m \u001b[0mself\u001b[0m\u001b[0;34m\u001b[0m\u001b[0;34m\u001b[0m\u001b[0m\n",
      "\u001b[0;32m~/miniconda3/envs/py3/lib/python3.8/site-packages/sklearn/neural_network/_multilayer_perceptron.py\u001b[0m in \u001b[0;36m_fit_lbfgs\u001b[0;34m(self, X, y, activations, deltas, coef_grads, intercept_grads, layer_units)\u001b[0m\n\u001b[1;32m    458\u001b[0m             \u001b[0miprint\u001b[0m \u001b[0;34m=\u001b[0m \u001b[0;34m-\u001b[0m\u001b[0;36m1\u001b[0m\u001b[0;34m\u001b[0m\u001b[0;34m\u001b[0m\u001b[0m\n\u001b[1;32m    459\u001b[0m \u001b[0;34m\u001b[0m\u001b[0m\n\u001b[0;32m--> 460\u001b[0;31m         opt_res = scipy.optimize.minimize(\n\u001b[0m\u001b[1;32m    461\u001b[0m                 \u001b[0mself\u001b[0m\u001b[0;34m.\u001b[0m\u001b[0m_loss_grad_lbfgs\u001b[0m\u001b[0;34m,\u001b[0m \u001b[0mpacked_coef_inter\u001b[0m\u001b[0;34m,\u001b[0m\u001b[0;34m\u001b[0m\u001b[0;34m\u001b[0m\u001b[0m\n\u001b[1;32m    462\u001b[0m                 \u001b[0mmethod\u001b[0m\u001b[0;34m=\u001b[0m\u001b[0;34m\"L-BFGS-B\"\u001b[0m\u001b[0;34m,\u001b[0m \u001b[0mjac\u001b[0m\u001b[0;34m=\u001b[0m\u001b[0;32mTrue\u001b[0m\u001b[0;34m,\u001b[0m\u001b[0;34m\u001b[0m\u001b[0;34m\u001b[0m\u001b[0m\n",
      "\u001b[0;32m~/miniconda3/envs/py3/lib/python3.8/site-packages/scipy/optimize/_minimize.py\u001b[0m in \u001b[0;36mminimize\u001b[0;34m(fun, x0, args, method, jac, hess, hessp, bounds, constraints, tol, callback, options)\u001b[0m\n\u001b[1;32m    615\u001b[0m                                   **options)\n\u001b[1;32m    616\u001b[0m     \u001b[0;32melif\u001b[0m \u001b[0mmeth\u001b[0m \u001b[0;34m==\u001b[0m \u001b[0;34m'l-bfgs-b'\u001b[0m\u001b[0;34m:\u001b[0m\u001b[0;34m\u001b[0m\u001b[0;34m\u001b[0m\u001b[0m\n\u001b[0;32m--> 617\u001b[0;31m         return _minimize_lbfgsb(fun, x0, args, jac, bounds,\n\u001b[0m\u001b[1;32m    618\u001b[0m                                 callback=callback, **options)\n\u001b[1;32m    619\u001b[0m     \u001b[0;32melif\u001b[0m \u001b[0mmeth\u001b[0m \u001b[0;34m==\u001b[0m \u001b[0;34m'tnc'\u001b[0m\u001b[0;34m:\u001b[0m\u001b[0;34m\u001b[0m\u001b[0;34m\u001b[0m\u001b[0m\n",
      "\u001b[0;32m~/miniconda3/envs/py3/lib/python3.8/site-packages/scipy/optimize/lbfgsb.py\u001b[0m in \u001b[0;36m_minimize_lbfgsb\u001b[0;34m(fun, x0, args, jac, bounds, disp, maxcor, ftol, gtol, eps, maxfun, maxiter, iprint, callback, maxls, finite_diff_rel_step, **unknown_options)\u001b[0m\n\u001b[1;32m    358\u001b[0m             \u001b[0;31m# until the completion of the current minimization iteration.\u001b[0m\u001b[0;34m\u001b[0m\u001b[0;34m\u001b[0m\u001b[0;34m\u001b[0m\u001b[0m\n\u001b[1;32m    359\u001b[0m             \u001b[0;31m# Overwrite f and g:\u001b[0m\u001b[0;34m\u001b[0m\u001b[0;34m\u001b[0m\u001b[0;34m\u001b[0m\u001b[0m\n\u001b[0;32m--> 360\u001b[0;31m             \u001b[0mf\u001b[0m\u001b[0;34m,\u001b[0m \u001b[0mg\u001b[0m \u001b[0;34m=\u001b[0m \u001b[0mfunc_and_grad\u001b[0m\u001b[0;34m(\u001b[0m\u001b[0mx\u001b[0m\u001b[0;34m)\u001b[0m\u001b[0;34m\u001b[0m\u001b[0;34m\u001b[0m\u001b[0m\n\u001b[0m\u001b[1;32m    361\u001b[0m         \u001b[0;32melif\u001b[0m \u001b[0mtask_str\u001b[0m\u001b[0;34m.\u001b[0m\u001b[0mstartswith\u001b[0m\u001b[0;34m(\u001b[0m\u001b[0;34mb'NEW_X'\u001b[0m\u001b[0;34m)\u001b[0m\u001b[0;34m:\u001b[0m\u001b[0;34m\u001b[0m\u001b[0;34m\u001b[0m\u001b[0m\n\u001b[1;32m    362\u001b[0m             \u001b[0;31m# new iteration\u001b[0m\u001b[0;34m\u001b[0m\u001b[0;34m\u001b[0m\u001b[0;34m\u001b[0m\u001b[0m\n",
      "\u001b[0;32m~/miniconda3/envs/py3/lib/python3.8/site-packages/scipy/optimize/_differentiable_functions.py\u001b[0m in \u001b[0;36mfun_and_grad\u001b[0;34m(self, x)\u001b[0m\n\u001b[1;32m    198\u001b[0m         \u001b[0;32mif\u001b[0m \u001b[0;32mnot\u001b[0m \u001b[0mnp\u001b[0m\u001b[0;34m.\u001b[0m\u001b[0marray_equal\u001b[0m\u001b[0;34m(\u001b[0m\u001b[0mx\u001b[0m\u001b[0;34m,\u001b[0m \u001b[0mself\u001b[0m\u001b[0;34m.\u001b[0m\u001b[0mx\u001b[0m\u001b[0;34m)\u001b[0m\u001b[0;34m:\u001b[0m\u001b[0;34m\u001b[0m\u001b[0;34m\u001b[0m\u001b[0m\n\u001b[1;32m    199\u001b[0m             \u001b[0mself\u001b[0m\u001b[0;34m.\u001b[0m\u001b[0m_update_x_impl\u001b[0m\u001b[0;34m(\u001b[0m\u001b[0mx\u001b[0m\u001b[0;34m)\u001b[0m\u001b[0;34m\u001b[0m\u001b[0;34m\u001b[0m\u001b[0m\n\u001b[0;32m--> 200\u001b[0;31m         \u001b[0mself\u001b[0m\u001b[0;34m.\u001b[0m\u001b[0m_update_fun\u001b[0m\u001b[0;34m(\u001b[0m\u001b[0;34m)\u001b[0m\u001b[0;34m\u001b[0m\u001b[0;34m\u001b[0m\u001b[0m\n\u001b[0m\u001b[1;32m    201\u001b[0m         \u001b[0mself\u001b[0m\u001b[0;34m.\u001b[0m\u001b[0m_update_grad\u001b[0m\u001b[0;34m(\u001b[0m\u001b[0;34m)\u001b[0m\u001b[0;34m\u001b[0m\u001b[0;34m\u001b[0m\u001b[0m\n\u001b[1;32m    202\u001b[0m         \u001b[0;32mreturn\u001b[0m \u001b[0mself\u001b[0m\u001b[0;34m.\u001b[0m\u001b[0mf\u001b[0m\u001b[0;34m,\u001b[0m \u001b[0mself\u001b[0m\u001b[0;34m.\u001b[0m\u001b[0mg\u001b[0m\u001b[0;34m\u001b[0m\u001b[0;34m\u001b[0m\u001b[0m\n",
      "\u001b[0;32m~/miniconda3/envs/py3/lib/python3.8/site-packages/scipy/optimize/_differentiable_functions.py\u001b[0m in \u001b[0;36m_update_fun\u001b[0;34m(self)\u001b[0m\n\u001b[1;32m    164\u001b[0m     \u001b[0;32mdef\u001b[0m \u001b[0m_update_fun\u001b[0m\u001b[0;34m(\u001b[0m\u001b[0mself\u001b[0m\u001b[0;34m)\u001b[0m\u001b[0;34m:\u001b[0m\u001b[0;34m\u001b[0m\u001b[0;34m\u001b[0m\u001b[0m\n\u001b[1;32m    165\u001b[0m         \u001b[0;32mif\u001b[0m \u001b[0;32mnot\u001b[0m \u001b[0mself\u001b[0m\u001b[0;34m.\u001b[0m\u001b[0mf_updated\u001b[0m\u001b[0;34m:\u001b[0m\u001b[0;34m\u001b[0m\u001b[0;34m\u001b[0m\u001b[0m\n\u001b[0;32m--> 166\u001b[0;31m             \u001b[0mself\u001b[0m\u001b[0;34m.\u001b[0m\u001b[0m_update_fun_impl\u001b[0m\u001b[0;34m(\u001b[0m\u001b[0;34m)\u001b[0m\u001b[0;34m\u001b[0m\u001b[0;34m\u001b[0m\u001b[0m\n\u001b[0m\u001b[1;32m    167\u001b[0m             \u001b[0mself\u001b[0m\u001b[0;34m.\u001b[0m\u001b[0mf_updated\u001b[0m \u001b[0;34m=\u001b[0m \u001b[0;32mTrue\u001b[0m\u001b[0;34m\u001b[0m\u001b[0;34m\u001b[0m\u001b[0m\n\u001b[1;32m    168\u001b[0m \u001b[0;34m\u001b[0m\u001b[0m\n",
      "\u001b[0;32m~/miniconda3/envs/py3/lib/python3.8/site-packages/scipy/optimize/_differentiable_functions.py\u001b[0m in \u001b[0;36mupdate_fun\u001b[0;34m()\u001b[0m\n\u001b[1;32m     71\u001b[0m \u001b[0;34m\u001b[0m\u001b[0m\n\u001b[1;32m     72\u001b[0m         \u001b[0;32mdef\u001b[0m \u001b[0mupdate_fun\u001b[0m\u001b[0;34m(\u001b[0m\u001b[0;34m)\u001b[0m\u001b[0;34m:\u001b[0m\u001b[0;34m\u001b[0m\u001b[0;34m\u001b[0m\u001b[0m\n\u001b[0;32m---> 73\u001b[0;31m             \u001b[0mself\u001b[0m\u001b[0;34m.\u001b[0m\u001b[0mf\u001b[0m \u001b[0;34m=\u001b[0m \u001b[0mfun_wrapped\u001b[0m\u001b[0;34m(\u001b[0m\u001b[0mself\u001b[0m\u001b[0;34m.\u001b[0m\u001b[0mx\u001b[0m\u001b[0;34m)\u001b[0m\u001b[0;34m\u001b[0m\u001b[0;34m\u001b[0m\u001b[0m\n\u001b[0m\u001b[1;32m     74\u001b[0m \u001b[0;34m\u001b[0m\u001b[0m\n\u001b[1;32m     75\u001b[0m         \u001b[0mself\u001b[0m\u001b[0;34m.\u001b[0m\u001b[0m_update_fun_impl\u001b[0m \u001b[0;34m=\u001b[0m \u001b[0mupdate_fun\u001b[0m\u001b[0;34m\u001b[0m\u001b[0;34m\u001b[0m\u001b[0m\n",
      "\u001b[0;32m~/miniconda3/envs/py3/lib/python3.8/site-packages/scipy/optimize/_differentiable_functions.py\u001b[0m in \u001b[0;36mfun_wrapped\u001b[0;34m(x)\u001b[0m\n\u001b[1;32m     68\u001b[0m         \u001b[0;32mdef\u001b[0m \u001b[0mfun_wrapped\u001b[0m\u001b[0;34m(\u001b[0m\u001b[0mx\u001b[0m\u001b[0;34m)\u001b[0m\u001b[0;34m:\u001b[0m\u001b[0;34m\u001b[0m\u001b[0;34m\u001b[0m\u001b[0m\n\u001b[1;32m     69\u001b[0m             \u001b[0mself\u001b[0m\u001b[0;34m.\u001b[0m\u001b[0mnfev\u001b[0m \u001b[0;34m+=\u001b[0m \u001b[0;36m1\u001b[0m\u001b[0;34m\u001b[0m\u001b[0;34m\u001b[0m\u001b[0m\n\u001b[0;32m---> 70\u001b[0;31m             \u001b[0;32mreturn\u001b[0m \u001b[0mfun\u001b[0m\u001b[0;34m(\u001b[0m\u001b[0mx\u001b[0m\u001b[0;34m,\u001b[0m \u001b[0;34m*\u001b[0m\u001b[0margs\u001b[0m\u001b[0;34m)\u001b[0m\u001b[0;34m\u001b[0m\u001b[0;34m\u001b[0m\u001b[0m\n\u001b[0m\u001b[1;32m     71\u001b[0m \u001b[0;34m\u001b[0m\u001b[0m\n\u001b[1;32m     72\u001b[0m         \u001b[0;32mdef\u001b[0m \u001b[0mupdate_fun\u001b[0m\u001b[0;34m(\u001b[0m\u001b[0;34m)\u001b[0m\u001b[0;34m:\u001b[0m\u001b[0;34m\u001b[0m\u001b[0;34m\u001b[0m\u001b[0m\n",
      "\u001b[0;32m~/miniconda3/envs/py3/lib/python3.8/site-packages/scipy/optimize/optimize.py\u001b[0m in \u001b[0;36m__call__\u001b[0;34m(self, x, *args)\u001b[0m\n\u001b[1;32m     72\u001b[0m     \u001b[0;32mdef\u001b[0m \u001b[0m__call__\u001b[0m\u001b[0;34m(\u001b[0m\u001b[0mself\u001b[0m\u001b[0;34m,\u001b[0m \u001b[0mx\u001b[0m\u001b[0;34m,\u001b[0m \u001b[0;34m*\u001b[0m\u001b[0margs\u001b[0m\u001b[0;34m)\u001b[0m\u001b[0;34m:\u001b[0m\u001b[0;34m\u001b[0m\u001b[0;34m\u001b[0m\u001b[0m\n\u001b[1;32m     73\u001b[0m         \u001b[0;34m\"\"\" returns the the function value \"\"\"\u001b[0m\u001b[0;34m\u001b[0m\u001b[0;34m\u001b[0m\u001b[0m\n\u001b[0;32m---> 74\u001b[0;31m         \u001b[0mself\u001b[0m\u001b[0;34m.\u001b[0m\u001b[0m_compute_if_needed\u001b[0m\u001b[0;34m(\u001b[0m\u001b[0mx\u001b[0m\u001b[0;34m,\u001b[0m \u001b[0;34m*\u001b[0m\u001b[0margs\u001b[0m\u001b[0;34m)\u001b[0m\u001b[0;34m\u001b[0m\u001b[0;34m\u001b[0m\u001b[0m\n\u001b[0m\u001b[1;32m     75\u001b[0m         \u001b[0;32mreturn\u001b[0m \u001b[0mself\u001b[0m\u001b[0;34m.\u001b[0m\u001b[0m_value\u001b[0m\u001b[0;34m\u001b[0m\u001b[0;34m\u001b[0m\u001b[0m\n\u001b[1;32m     76\u001b[0m \u001b[0;34m\u001b[0m\u001b[0m\n",
      "\u001b[0;32m~/miniconda3/envs/py3/lib/python3.8/site-packages/scipy/optimize/optimize.py\u001b[0m in \u001b[0;36m_compute_if_needed\u001b[0;34m(self, x, *args)\u001b[0m\n\u001b[1;32m     66\u001b[0m         \u001b[0;32mif\u001b[0m \u001b[0;32mnot\u001b[0m \u001b[0mnp\u001b[0m\u001b[0;34m.\u001b[0m\u001b[0mall\u001b[0m\u001b[0;34m(\u001b[0m\u001b[0mx\u001b[0m \u001b[0;34m==\u001b[0m \u001b[0mself\u001b[0m\u001b[0;34m.\u001b[0m\u001b[0mx\u001b[0m\u001b[0;34m)\u001b[0m \u001b[0;32mor\u001b[0m \u001b[0mself\u001b[0m\u001b[0;34m.\u001b[0m\u001b[0m_value\u001b[0m \u001b[0;32mis\u001b[0m \u001b[0;32mNone\u001b[0m \u001b[0;32mor\u001b[0m \u001b[0mself\u001b[0m\u001b[0;34m.\u001b[0m\u001b[0mjac\u001b[0m \u001b[0;32mis\u001b[0m \u001b[0;32mNone\u001b[0m\u001b[0;34m:\u001b[0m\u001b[0;34m\u001b[0m\u001b[0;34m\u001b[0m\u001b[0m\n\u001b[1;32m     67\u001b[0m             \u001b[0mself\u001b[0m\u001b[0;34m.\u001b[0m\u001b[0mx\u001b[0m \u001b[0;34m=\u001b[0m \u001b[0mnp\u001b[0m\u001b[0;34m.\u001b[0m\u001b[0masarray\u001b[0m\u001b[0;34m(\u001b[0m\u001b[0mx\u001b[0m\u001b[0;34m)\u001b[0m\u001b[0;34m.\u001b[0m\u001b[0mcopy\u001b[0m\u001b[0;34m(\u001b[0m\u001b[0;34m)\u001b[0m\u001b[0;34m\u001b[0m\u001b[0;34m\u001b[0m\u001b[0m\n\u001b[0;32m---> 68\u001b[0;31m             \u001b[0mfg\u001b[0m \u001b[0;34m=\u001b[0m \u001b[0mself\u001b[0m\u001b[0;34m.\u001b[0m\u001b[0mfun\u001b[0m\u001b[0;34m(\u001b[0m\u001b[0mx\u001b[0m\u001b[0;34m,\u001b[0m \u001b[0;34m*\u001b[0m\u001b[0margs\u001b[0m\u001b[0;34m)\u001b[0m\u001b[0;34m\u001b[0m\u001b[0;34m\u001b[0m\u001b[0m\n\u001b[0m\u001b[1;32m     69\u001b[0m             \u001b[0mself\u001b[0m\u001b[0;34m.\u001b[0m\u001b[0mjac\u001b[0m \u001b[0;34m=\u001b[0m \u001b[0mfg\u001b[0m\u001b[0;34m[\u001b[0m\u001b[0;36m1\u001b[0m\u001b[0;34m]\u001b[0m\u001b[0;34m\u001b[0m\u001b[0;34m\u001b[0m\u001b[0m\n\u001b[1;32m     70\u001b[0m             \u001b[0mself\u001b[0m\u001b[0;34m.\u001b[0m\u001b[0m_value\u001b[0m \u001b[0;34m=\u001b[0m \u001b[0mfg\u001b[0m\u001b[0;34m[\u001b[0m\u001b[0;36m0\u001b[0m\u001b[0;34m]\u001b[0m\u001b[0;34m\u001b[0m\u001b[0;34m\u001b[0m\u001b[0m\n",
      "\u001b[0;32m~/miniconda3/envs/py3/lib/python3.8/site-packages/sklearn/neural_network/_multilayer_perceptron.py\u001b[0m in \u001b[0;36m_loss_grad_lbfgs\u001b[0;34m(self, packed_coef_inter, X, y, activations, deltas, coef_grads, intercept_grads)\u001b[0m\n\u001b[1;32m    174\u001b[0m         \"\"\"\n\u001b[1;32m    175\u001b[0m         \u001b[0mself\u001b[0m\u001b[0;34m.\u001b[0m\u001b[0m_unpack\u001b[0m\u001b[0;34m(\u001b[0m\u001b[0mpacked_coef_inter\u001b[0m\u001b[0;34m)\u001b[0m\u001b[0;34m\u001b[0m\u001b[0;34m\u001b[0m\u001b[0m\n\u001b[0;32m--> 176\u001b[0;31m         loss, coef_grads, intercept_grads = self._backprop(\n\u001b[0m\u001b[1;32m    177\u001b[0m             X, y, activations, deltas, coef_grads, intercept_grads)\n\u001b[1;32m    178\u001b[0m         \u001b[0mgrad\u001b[0m \u001b[0;34m=\u001b[0m \u001b[0m_pack\u001b[0m\u001b[0;34m(\u001b[0m\u001b[0mcoef_grads\u001b[0m\u001b[0;34m,\u001b[0m \u001b[0mintercept_grads\u001b[0m\u001b[0;34m)\u001b[0m\u001b[0;34m\u001b[0m\u001b[0;34m\u001b[0m\u001b[0m\n",
      "\u001b[0;32m~/miniconda3/envs/py3/lib/python3.8/site-packages/sklearn/neural_network/_multilayer_perceptron.py\u001b[0m in \u001b[0;36m_backprop\u001b[0;34m(self, X, y, activations, deltas, coef_grads, intercept_grads)\u001b[0m\n\u001b[1;32m    250\u001b[0m             \u001b[0minplace_derivative\u001b[0m\u001b[0;34m(\u001b[0m\u001b[0mactivations\u001b[0m\u001b[0;34m[\u001b[0m\u001b[0mi\u001b[0m\u001b[0;34m]\u001b[0m\u001b[0;34m,\u001b[0m \u001b[0mdeltas\u001b[0m\u001b[0;34m[\u001b[0m\u001b[0mi\u001b[0m \u001b[0;34m-\u001b[0m \u001b[0;36m1\u001b[0m\u001b[0;34m]\u001b[0m\u001b[0;34m)\u001b[0m\u001b[0;34m\u001b[0m\u001b[0;34m\u001b[0m\u001b[0m\n\u001b[1;32m    251\u001b[0m \u001b[0;34m\u001b[0m\u001b[0m\n\u001b[0;32m--> 252\u001b[0;31m             coef_grads, intercept_grads = self._compute_loss_grad(\n\u001b[0m\u001b[1;32m    253\u001b[0m                 \u001b[0mi\u001b[0m \u001b[0;34m-\u001b[0m \u001b[0;36m1\u001b[0m\u001b[0;34m,\u001b[0m \u001b[0mn_samples\u001b[0m\u001b[0;34m,\u001b[0m \u001b[0mactivations\u001b[0m\u001b[0;34m,\u001b[0m \u001b[0mdeltas\u001b[0m\u001b[0;34m,\u001b[0m \u001b[0mcoef_grads\u001b[0m\u001b[0;34m,\u001b[0m\u001b[0;34m\u001b[0m\u001b[0;34m\u001b[0m\u001b[0m\n\u001b[1;32m    254\u001b[0m                 intercept_grads)\n",
      "\u001b[0;32m~/miniconda3/envs/py3/lib/python3.8/site-packages/sklearn/neural_network/_multilayer_perceptron.py\u001b[0m in \u001b[0;36m_compute_loss_grad\u001b[0;34m(self, layer, n_samples, activations, deltas, coef_grads, intercept_grads)\u001b[0m\n\u001b[1;32m    122\u001b[0m         \u001b[0mThis\u001b[0m \u001b[0mfunction\u001b[0m \u001b[0mdoes\u001b[0m \u001b[0mbackpropagation\u001b[0m \u001b[0;32mfor\u001b[0m \u001b[0mthe\u001b[0m \u001b[0mspecified\u001b[0m \u001b[0mone\u001b[0m \u001b[0mlayer\u001b[0m\u001b[0;34m.\u001b[0m\u001b[0;34m\u001b[0m\u001b[0;34m\u001b[0m\u001b[0m\n\u001b[1;32m    123\u001b[0m         \"\"\"\n\u001b[0;32m--> 124\u001b[0;31m         coef_grads[layer] = safe_sparse_dot(activations[layer].T,\n\u001b[0m\u001b[1;32m    125\u001b[0m                                             deltas[layer])\n\u001b[1;32m    126\u001b[0m         \u001b[0mcoef_grads\u001b[0m\u001b[0;34m[\u001b[0m\u001b[0mlayer\u001b[0m\u001b[0;34m]\u001b[0m \u001b[0;34m+=\u001b[0m \u001b[0;34m(\u001b[0m\u001b[0mself\u001b[0m\u001b[0;34m.\u001b[0m\u001b[0malpha\u001b[0m \u001b[0;34m*\u001b[0m \u001b[0mself\u001b[0m\u001b[0;34m.\u001b[0m\u001b[0mcoefs_\u001b[0m\u001b[0;34m[\u001b[0m\u001b[0mlayer\u001b[0m\u001b[0;34m]\u001b[0m\u001b[0;34m)\u001b[0m\u001b[0;34m\u001b[0m\u001b[0;34m\u001b[0m\u001b[0m\n",
      "\u001b[0;32m~/miniconda3/envs/py3/lib/python3.8/site-packages/sklearn/utils/extmath.py\u001b[0m in \u001b[0;36msafe_sparse_dot\u001b[0;34m(a, b, dense_output)\u001b[0m\n\u001b[1;32m    149\u001b[0m             \u001b[0mret\u001b[0m \u001b[0;34m=\u001b[0m \u001b[0mnp\u001b[0m\u001b[0;34m.\u001b[0m\u001b[0mdot\u001b[0m\u001b[0;34m(\u001b[0m\u001b[0ma\u001b[0m\u001b[0;34m,\u001b[0m \u001b[0mb\u001b[0m\u001b[0;34m)\u001b[0m\u001b[0;34m\u001b[0m\u001b[0;34m\u001b[0m\u001b[0m\n\u001b[1;32m    150\u001b[0m     \u001b[0;32melse\u001b[0m\u001b[0;34m:\u001b[0m\u001b[0;34m\u001b[0m\u001b[0;34m\u001b[0m\u001b[0m\n\u001b[0;32m--> 151\u001b[0;31m         \u001b[0mret\u001b[0m \u001b[0;34m=\u001b[0m \u001b[0ma\u001b[0m \u001b[0;34m@\u001b[0m \u001b[0mb\u001b[0m\u001b[0;34m\u001b[0m\u001b[0;34m\u001b[0m\u001b[0m\n\u001b[0m\u001b[1;32m    152\u001b[0m \u001b[0;34m\u001b[0m\u001b[0m\n\u001b[1;32m    153\u001b[0m     if (sparse.issparse(a) and sparse.issparse(b)\n",
      "\u001b[0;31mKeyboardInterrupt\u001b[0m: "
     ]
    }
   ],
   "source": [
    "from sklearn.model_selection import StratifiedKFold\n",
    "from sklearn.neural_network import MLPClassifier\n",
    "from tqdm import tqdm\n",
    "reader_groups = ['relative_time_bin', 'expert_pct_bin', 'location_region']\n",
    "k_folds = StratifiedKFold(n_splits=10, random_state=123, shuffle=True)\n",
    "layer_size = PCA_dim * 2\n",
    "sample_size = 10000\n",
    "for reader_group_i in reader_groups:\n",
    "    data_i = train_test_data[train_test_data.loc[:, 'reader_group']==reader_group_i]\n",
    "    # tmp debug\n",
    "#     sample_size_i = min(sample_size, data_i.shape[0])\n",
    "#     data_i = data_i.sample(sample_size_i, replace=False, random_state=123)\n",
    "    # sample by subreddit\n",
    "    subreddit_sample_size_i = data_i.loc[:, 'subreddit'].value_counts().min()\n",
    "    sample_data_i = data_i.groupby('subreddit').apply(lambda x: x.sample(subreddit_sample_size_i, replace=False, random_state=123)).reset_index(drop=True)\n",
    "    X = np.hstack([np.vstack(sample_data_i.loc[:, 'PCA_question_encoded'].values), np.vstack(sample_data_i.loc[:, 'PCA_post_encoded'].values)])\n",
    "    Y = sample_data_i.loc[:, 'reader_group_class'].values\n",
    "    acc_scores_i = []\n",
    "    for j, (train_idx, test_idx) in tqdm(enumerate(k_folds.split(X, Y))):\n",
    "        X_train, X_test = X[train_idx, :], X[test_idx, :]\n",
    "        Y_train, Y_test = Y[train_idx], Y[test_idx]\n",
    "        model = MLPClassifier(hidden_layer_sizes=[layer_size,], activation='relu', solver='lbfgs', max_iter=1000, random_state=123)\n",
    "        model.fit(X_train, Y_train)\n",
    "        Y_pred = model.predict(X_test)\n",
    "        acc_score_j = (Y_pred==Y_test).sum() / len(Y_test)\n",
    "        f1_score_j = f1_score(Y_test, Y_pred)\n",
    "        print(f'iter {j} has acc={\"{:.3f}\".format(acc_score_j)} F1={\"{:.3f}\".format(f1_score_j)}')\n",
    "        acc_scores_i.append([acc_score_j, f1_score_j])\n",
    "    acc_scores_i = pd.DataFrame(acc_scores_i, columns=['acc', 'f1'])\n",
    "    print(f'reader group {reader_group_i} has mean acc = {acc_scores_i.loc[:, \"acc\"].mean()}; F1={acc_scores_i.loc[:, \"f1\"].mean()}')"
   ]
  },
  {
   "cell_type": "markdown",
   "metadata": {},
   "source": [
    "This \"train-from-scratch\" approach isn't working out.\n",
    "\n",
    "Why don't we just use the data that we used in the group classification model results? We balanced the data to have at least one question from each reader group per post."
   ]
  },
  {
   "cell_type": "code",
   "execution_count": 1,
   "metadata": {
    "scrolled": true
   },
   "outputs": [
    {
     "name": "stderr",
     "output_type": "stream",
     "text": [
      "/home/ianbstew/miniconda3/envs/py3/lib/python3.8/site-packages/IPython/core/interactiveshell.py:3418: DtypeWarning: Columns (9) have mixed types.Specify dtype option on import or set low_memory=False.\n",
      "  exec(code_obj, self.user_global_ns, self.user_ns)\n"
     ]
    },
    {
     "name": "stdout",
     "output_type": "stream",
     "text": [
      "41132/209884\n"
     ]
    }
   ],
   "source": [
    "# load sample data\n",
    "import pandas as pd\n",
    "import re\n",
    "import numpy as np\n",
    "arr_matcher = re.compile('[\\[\\]\\n]')\n",
    "embed_vars = ['question', 'post']\n",
    "embed_var_converters = {\n",
    "    f'PCA_{embed_var}_encoded': lambda x: np.fromstring(arr_matcher.sub('', x).strip(), sep=' ', dtype=float)\n",
    "    for embed_var in embed_vars\n",
    "}\n",
    "post_question_data_file = '../../data/reddit_data/group_classification_model/sample_type=paired_post_question_data.gz'\n",
    "post_question_data = pd.read_csv(post_question_data_file, sep='\\t', compression='gzip', index_col=False,\n",
    "                                 converters=embed_var_converters)\n",
    "# fix author group\n",
    "post_question_data = post_question_data.assign(**{\n",
    "    'author_group' : post_question_data.loc[:, 'author_group'].apply(lambda x: str(x) if type(x) is not str else x)\n",
    "})\n",
    "# limit to test data\n",
    "import torch\n",
    "test_data = torch.load('../../data/reddit_data/combined_data_test_data.pt').data.to_pandas()\n",
    "test_data.rename(columns={'article_id' : 'parent_id'}, inplace=True)\n",
    "test_post_question_data = post_question_data[post_question_data.loc[:, 'parent_id'].isin(test_data.loc[:, 'parent_id'].unique())]\n",
    "print(f'{test_post_question_data.shape[0]}/{post_question_data.shape[0]}')"
   ]
  },
  {
   "cell_type": "code",
   "execution_count": 47,
   "metadata": {
    "scrolled": true
   },
   "outputs": [
    {
     "name": "stderr",
     "output_type": "stream",
     "text": [
      "100%|██████████| 5/5 [01:45<00:00, 21.14s/it]\n"
     ]
    },
    {
     "name": "stdout",
     "output_type": "stream",
     "text": [
      "reader group expert_pct_bin\n",
      "mean scores = model_acc                   0.499844\n",
      "F1_macro                    0.450310\n",
      "model_acc_subreddit_mean    0.555706\n",
      "dtype: float64\n"
     ]
    },
    {
     "name": "stderr",
     "output_type": "stream",
     "text": [
      "100%|██████████| 5/5 [00:18<00:00,  3.76s/it]\n"
     ]
    },
    {
     "name": "stdout",
     "output_type": "stream",
     "text": [
      "reader group location_region\n",
      "mean scores = model_acc                   0.516916\n",
      "F1_macro                    0.503253\n",
      "model_acc_subreddit_mean    0.526617\n",
      "dtype: float64\n"
     ]
    },
    {
     "name": "stderr",
     "output_type": "stream",
     "text": [
      "100%|██████████| 5/5 [02:14<00:00, 26.96s/it]"
     ]
    },
    {
     "name": "stdout",
     "output_type": "stream",
     "text": [
      "reader group relative_time_bin\n",
      "mean scores = model_acc                   0.506726\n",
      "F1_macro                    0.502529\n",
      "model_acc_subreddit_mean    0.505719\n",
      "dtype: float64\n"
     ]
    },
    {
     "name": "stderr",
     "output_type": "stream",
     "text": [
      "\n"
     ]
    }
   ],
   "source": [
    "from tqdm import tqdm\n",
    "from sklearn.model_selection import StratifiedKFold\n",
    "from sklearn.neural_network import MLPClassifier\n",
    "from sklearn.metrics import f1_score, roc_auc_score\n",
    "import numpy as np\n",
    "def resample_by_class(data, class_var='author_group', class_count='min'):\n",
    "    data_class_counts = data.loc[:, class_var].value_counts()\n",
    "#     print(f'data class counts = {data_class_counts}')\n",
    "    if(class_count == 'min'):\n",
    "        data_class_count_base = data_class_counts.min()\n",
    "        data_class = data_class_counts.sort_values(ascending=True).index[0]\n",
    "    elif(class_count == 'max'):\n",
    "        data_class_count_base = data_class_counts.max()\n",
    "        data_class = data_class_counts.sort_values(ascending=False).index[0]\n",
    "#     print(f'min class = {data_min_class}')\n",
    "    data = pd.concat(\n",
    "        [data[data.loc[:, class_var]==data_class], \n",
    "         data[data.loc[:, class_var]!=data_class].sample(data_class_count_base, replace=(class_count=='max'), random_state=123)],\n",
    "    axis=0)\n",
    "#     print(f'post-stratify data class counts = {data.loc[:, class_var].value_counts()}')\n",
    "    return data\n",
    "np.random.seed(123)\n",
    "text_var = 'PCA_question_encoded'\n",
    "post_var = 'PCA_post_encoded'\n",
    "reader_group_default_class = {\n",
    "    'relative_time_bin' : '0.0',\n",
    "    'expert_pct_bin' : '0.0',\n",
    "    'location_region' : 'NONUS',\n",
    "}\n",
    "n_folds = 5\n",
    "reader_group_model_scores = []\n",
    "train_pct = 0.8\n",
    "for group_category_i, data_i in test_post_question_data.groupby('group_category'):\n",
    "    X = np.hstack([np.vstack(data_i.loc[:, text_var].values), np.vstack(data_i.loc[:, post_var].values)])\n",
    "#     X = np.vstack(data_i.loc[:, text_var].values)\n",
    "    layer_size = X.shape[1]\n",
    "    Y = data_i.loc[:, 'author_group'].values\n",
    "    # convert to binary\n",
    "    default_class_i = reader_group_default_class[group_category_i]\n",
    "    non_default_class_i = list(set(Y) - {default_class_i})[0]\n",
    "    Y = (Y==default_class_i).astype(int)\n",
    "    # fit models across all folds\n",
    "    model_scores = []\n",
    "    k_folds = StratifiedKFold(n_splits=n_folds, random_state=123, shuffle=True)\n",
    "    subreddits = data_i.loc[:, 'subreddit'].unique()\n",
    "    data_i = data_i.assign(**{'idx' : list(range(data_i.shape[0]))})\n",
    "    parent_id_i = data_i.loc[:, 'parent_id'].unique()\n",
    "    train_N_i = int(len(parent_id_i) * train_pct)\n",
    "    # split by parent ID\n",
    "    for j in tqdm(range(n_folds)):\n",
    "        train_id_j = set(np.random.choice(parent_id_i, train_N_i, replace=False))\n",
    "        test_id_j = list(set(parent_id_i) - train_id_j)\n",
    "        train_idx = np.where(data_i.loc[:, 'parent_id'].isin(train_id_j))[0]\n",
    "        test_idx = np.where(data_i.loc[:, 'parent_id'].isin(test_id_j))[0]\n",
    "    # k-fold splitting => need to prevent shared info from shared posts\n",
    "#     for j, (train_idx, test_idx) in tqdm(enumerate(k_folds.split(X, Y))):\n",
    "        # remove shared posts from test data\n",
    "#         train_id_j = set(data_i.iloc[train_idx, :].loc[:, 'parent_id'].unique())\n",
    "#         test_idx = list(set(test_idx) - set(np.where(data_i.loc[:, 'parent_id'].isin(train_id_j))[0]))\n",
    "#         print(len(test_idx))\n",
    "        # resample data to avoid class distribution imbalance\n",
    "        train_data_i = data_i.iloc[train_idx, :]\n",
    "        train_data_i = resample_by_class(train_data_i, class_var='author_group', class_count='max')\n",
    "        train_idx = train_data_i.loc[:, 'idx'].values\n",
    "        test_data_i = data_i.iloc[test_idx, :]\n",
    "        test_data_i = resample_by_class(test_data_i, class_var='author_group', class_count='max')\n",
    "        test_idx = test_data_i.loc[:, 'idx'].values\n",
    "#         X_train = np.hstack([np.vstack(train_data_i.loc[:, text_var].values), np.vstack(train_data_i.loc[:, post_var].values)])\n",
    "#         X_test = np.hstack([np.vstack(test_data_i.loc[:, text_var].values), np.vstack(test_data_i.loc[:, post_var].values)])\n",
    "#         Y_train = (train_data_i.loc[:, 'author_group'].values==default_class_i).astype(int)\n",
    "#         Y_test = (test_data_i.loc[:, 'author_group'].values==default_class_i).astype(int)\n",
    "#         print(train_data_i.loc[:, 'author_group'].value_counts())\n",
    "#         print(test_data_i.loc[:, 'author_group'].value_counts())\n",
    "#         break\n",
    "#         train_data_i_class_counts = train_data_i.loc[:, 'author_group'].value_counts()\n",
    "#         train_data_i_min_class = train_data_i_class_counts.sort_values().index[0]\n",
    "#         train_data_i = pd.concat(\n",
    "#             [train_data_i[train_data_i.loc[:, 'author_group']==train_data_i_min_class], \n",
    "#              train_data_i[train_data_i.loc[:, 'author_group']!=train_data_i_min_class].sample(train_data_i_class_counts.min(), replace=False, seed=123)]\n",
    "#         )\n",
    "#         train_idx = train_data_i.loc[:, 'idx'].values\n",
    "        X_train, X_test = X[train_idx, :], X[test_idx, :]\n",
    "        Y_train, Y_test = Y[train_idx], Y[test_idx]\n",
    "#         print(X_test.shape)\n",
    "        \n",
    "        # fit model\n",
    "        model = MLPClassifier(hidden_layer_sizes=[layer_size,], activation='relu', max_iter=5000, random_state=123)\n",
    "        model.fit(X_train, Y_train)\n",
    "        Y_pred = model.predict(X_test)\n",
    "        Y_prob = model.predict_proba(X_test)\n",
    "        model_acc = (Y_pred==Y_test).sum() / len(Y_test)\n",
    "        # get F1 for both classes...there must be a better way to do this\n",
    "        model_f1_class_1 = f1_score(Y_pred, Y_test)\n",
    "        model_f1_class_0 = f1_score((1-Y_pred), (1-Y_test))\n",
    "        model_f1_macro = f1_score(Y_pred, Y_test, average='macro')\n",
    "        model_auc = roc_auc_score(Y_test, Y_prob[:, 1])\n",
    "        model_scores_j = {\n",
    "            'model_acc' : model_acc, \n",
    "            f'F1_{default_class_i}' : model_f1_class_1, \n",
    "            f'F1_{non_default_class_i}' : model_f1_class_0, \n",
    "            'F1_macro' : model_f1_macro,\n",
    "            'AUC' : model_auc,\n",
    "            'fold' : j}\n",
    "        ## get scores per subreddit!!\n",
    "        for subreddit_k in subreddits:\n",
    "            idx_k = list(set(np.where(data_i.loc[:, 'subreddit']==subreddit_k)[0]) & set(test_idx))\n",
    "            if(len(idx_k) > 0):\n",
    "                Y_pred_k = model.predict(X[idx_k, :])\n",
    "                model_acc_k = (Y[idx_k]==Y_pred_k).sum() / len(Y_pred_k)\n",
    "                model_scores_j[f'model_acc_{subreddit_k}'] = model_acc_k\n",
    "        model_scores_j['model_acc_subreddit_mean'] = np.mean([model_scores_j[f'model_acc_{subreddit_k}'] for subreddit_k in subreddits])\n",
    "#         print(f'model scores = {model_scores_j}')\n",
    "        model_scores.append(model_scores_j)\n",
    "    model_scores = pd.DataFrame(model_scores)\n",
    "    model_scores = model_scores.assign(**{'group_category' : group_category_i})\n",
    "    print(f'reader group {group_category_i}')\n",
    "    print(f'mean scores = {model_scores.loc[:, [\"model_acc\", \"F1_macro\", \"model_acc_subreddit_mean\"]].mean(axis=0)}')\n",
    "    reader_group_model_scores.append(model_scores)\n",
    "reader_group_model_scores = pd.concat(reader_group_model_scores, axis=0)"
   ]
  },
  {
   "cell_type": "markdown",
   "metadata": {},
   "source": [
    "### Label with trained models\n",
    "Let's assume that the models are (slightly) more accurate for high-probability predictions. We will reload the trained models, recompute the representations for posts and questions, assign a reader group based on the model's prediction.\n",
    "\n",
    "We will then cross-reference with the generated text from text-only and reader-aware models, and look at performance for the questions that were highly associated with a particular reader group."
   ]
  },
  {
   "cell_type": "code",
   "execution_count": 1,
   "metadata": {},
   "outputs": [
    {
     "name": "stdout",
     "output_type": "stream",
     "text": [
      "(53080, 17)\n"
     ]
    }
   ],
   "source": [
    "## load data\n",
    "import torch\n",
    "test_data = torch.load('../../data/reddit_data/combined_data_test_data.pt').data.to_pandas()\n",
    "test_data.rename(columns={'source_text' : 'post', 'target_text' : 'question'}, inplace=True)\n",
    "print(test_data.shape)"
   ]
  },
  {
   "cell_type": "code",
   "execution_count": 19,
   "metadata": {
    "scrolled": true
   },
   "outputs": [
    {
     "data": {
      "application/vnd.jupyter.widget-view+json": {
       "model_id": "15a7ef1835e449fba81f60a270fe489e",
       "version_major": 2,
       "version_minor": 0
      },
      "text/plain": [
       "Batches:   0%|          | 0/3318 [00:00<?, ?it/s]"
      ]
     },
     "metadata": {},
     "output_type": "display_data"
    },
    {
     "data": {
      "application/vnd.jupyter.widget-view+json": {
       "model_id": "3a737eccc4c54f88a58b6c7d6be2d7bf",
       "version_major": 2,
       "version_minor": 0
      },
      "text/plain": [
       "Batches:   0%|          | 0/3318 [00:00<?, ?it/s]"
      ]
     },
     "metadata": {},
     "output_type": "display_data"
    }
   ],
   "source": [
    "## load data cleaning PCA models\n",
    "import pickle\n",
    "PCA_post_embed_model = pickle.load(open('../../data/reddit_data/group_classification_model/PCA_model_embed=post_encoded.pkl', 'rb'))\n",
    "PCA_question_embed_model = pickle.load(open('../../data/reddit_data/group_classification_model/PCA_model_embed=question_encoded.pkl', 'rb'))\n",
    "## load classification models\n",
    "import os\n",
    "reader_groups = ['relative_time_bin', 'expert_pct_bin', 'location_region']\n",
    "reader_group_default_class = {\n",
    "    'relative_time_bin' : '0.0',\n",
    "    'expert_pct_bin' : '0.0',\n",
    "    'location_region' : 'NONUS',\n",
    "}\n",
    "reader_group_models = {}\n",
    "model_dir = '../../data/reddit_data/group_classification_model/question_post_data/'\n",
    "for reader_group_i in reader_groups:\n",
    "    default_class_i = reader_group_default_class[reader_group_i]\n",
    "    model_file_i = os.path.join(model_dir, f'MLP_prediction_group={reader_group_i}_class1={default_class_i}.pkl')\n",
    "    reader_group_models[reader_group_i] = pickle.load(open(model_file_i, 'rb'))\n",
    "## load embedding model\n",
    "from importlib import reload\n",
    "import model_helpers\n",
    "reload(model_helpers)\n",
    "from model_helpers import load_sentence_embed_model\n",
    "sentence_embed_model = load_sentence_embed_model()\n",
    "# encode data\n",
    "import torch\n",
    "embed_vars = ['question', 'post']\n",
    "for embed_var_i in embed_vars:\n",
    "    encode_var_i = f'{embed_var_i}_encoded'\n",
    "    encoding_i = sentence_embed_model.encode(test_data.loc[:, embed_var_i].values, batch_size=16, device=torch.cuda.current_device(), show_progress_bar=True)\n",
    "    test_data = test_data.assign(**{\n",
    "        encode_var_i : [encoding_i[i, :] for i in range(encoding_i.shape[0])],\n",
    "    })\n",
    "## use PCA to compress data\n",
    "import numpy as np\n",
    "PCA_models = [PCA_question_embed_model, PCA_post_embed_model]\n",
    "for embed_var_i, PCA_model_i in zip(embed_vars, PCA_models):\n",
    "    encode_var_i = f'{embed_var_i}_encoded'\n",
    "    mat_i = np.vstack(test_data.loc[:, encode_var_i].values)\n",
    "    reduce_mat_i = PCA_model_i.fit_transform(mat_i)\n",
    "    test_data = test_data.assign(**{\n",
    "        f'PCA_{encode_var_i}': [reduce_mat_i[i, :] for i in range(reduce_mat_i.shape[0])]\n",
    "    })\n",
    "## assign labels\n",
    "category_reader_group_lookup = {\n",
    "    'expert_pct_bin' : ['<EXPERT_PCT_0_AUTHOR>', '<EXPERT_PCT_1_AUTHOR>'],\n",
    "    'relative_time_bin' : ['<RESPONSE_TIME_0_AUTHOR>', '<RESPONSE_TIME_1_AUTHOR>'],\n",
    "    'location_region' : ['<NONUS_AUTHOR>', '<US_AUTHOR>'],\n",
    "    'UNK' : ['UNK']\n",
    "}\n",
    "reader_group_category_lookup = {\n",
    "    v1 : k for k, v in category_reader_group_lookup.items() for v1 in v\n",
    "}\n",
    "test_data = test_data.assign(**{\n",
    "    'reader_group' : test_data.loc[:, 'reader_token_str'].apply(lambda x: reader_group_category_lookup[x])\n",
    "})\n",
    "reader_group_default_class_str = {\n",
    "    'relative_time_bin' : '<RESPONSE_TIME_0_AUTHOR>',\n",
    "    'expert_pct_bin' : '<EXPERT_PCT_0_AUTHOR>',\n",
    "    'location_region' : '<NONUS_AUTHOR>',\n",
    "    'UNK' : 'UNK'\n",
    "}\n",
    "pred_val_reader_group_lookup = {\n",
    "    'relative_time_bin' : {\n",
    "        0 : '<RESPONSE_TIME_1_AUTHOR>',\n",
    "        1 : '<RESPONSE_TIME_0_AUTHOR>',\n",
    "    },\n",
    "    'expert_pct_bin' : {\n",
    "        0 : '<EXPERT_PCT_1_AUTHOR>',\n",
    "        1 : '<EXPERT_PCT_0_AUTHOR>',\n",
    "    },\n",
    "    'location_region' : {\n",
    "        0 : '<US_AUTHOR>',\n",
    "        1 : '<NONUS_AUTHOR>',\n",
    "    },\n",
    "}\n",
    "test_data = test_data.assign(**{\n",
    "    'reader_group_class' : test_data.apply(lambda x: int(x.loc['reader_token_str']==reader_group_default_class_str[x.loc['reader_group']]), axis=1)\n",
    "})\n",
    "## predict class for all reader groups\n",
    "import pandas as pd\n",
    "reader_groups = ['relative_time_bin', 'expert_pct_bin', 'location_region']\n",
    "pred_test_data = []\n",
    "for reader_group_i in reader_groups:\n",
    "    # clean data etc.\n",
    "    test_data_i = test_data[test_data.loc[:, 'reader_group']==reader_group_i]\n",
    "    question_post_text_i = np.hstack([np.vstack(test_data_i.loc[:, 'PCA_question_encoded'].values), np.vstack(test_data_i.loc[:, 'PCA_post_encoded'].values)])\n",
    "    # do prediction!!\n",
    "    reader_group_model_i = reader_group_models[reader_group_i]\n",
    "    pred_prob_i = reader_group_model_i.predict_proba(question_post_text_i)\n",
    "    test_data_i = test_data_i.assign(**{\n",
    "        'reader_group_class_pred' : np.argmax(pred_prob_i, axis=1)\n",
    "    })\n",
    "    test_data_i = test_data_i.assign(**{\n",
    "        'reader_group_class_pred_prob' : np.max(pred_prob_i, axis=1)\n",
    "    })\n",
    "    # convert to class str\n",
    "    pred_val_lookup_i = pred_val_reader_group_lookup[reader_group_i]\n",
    "    test_data_i = test_data_i.assign(**{\n",
    "        'reader_group_class_pred_str' : test_data_i.loc[:, 'reader_group_class_pred'].apply(pred_val_lookup_i.get)\n",
    "    })\n",
    "    pred_test_data.append(test_data_i)\n",
    "pred_test_data = pd.concat(pred_test_data, axis=0)"
   ]
  },
  {
   "cell_type": "code",
   "execution_count": 20,
   "metadata": {
    "scrolled": true
   },
   "outputs": [
    {
     "data": {
      "image/png": "[encoded data removed]",
      "text/plain": [
       "<Figure size 432x288 with 1 Axes>"
      ]
     },
     "metadata": {
      "needs_background": "light"
     },
     "output_type": "display_data"
    },
    {
     "data": {
      "image/png": "[encoded data removed]",
      "text/plain": [
       "<Figure size 432x288 with 1 Axes>"
      ]
     },
     "metadata": {
      "needs_background": "light"
     },
     "output_type": "display_data"
    },
    {
     "data": {
      "image/png": "[encoded data removed]",
      "text/plain": [
       "<Figure size 432x288 with 1 Axes>"
      ]
     },
     "metadata": {
      "needs_background": "light"
     },
     "output_type": "display_data"
    }
   ],
   "source": [
    "# show distribution of probability\n",
    "# flatten data\n",
    "import matplotlib\n",
    "%matplotlib inline\n",
    "import matplotlib.pyplot as plt\n",
    "import seaborn as sns\n",
    "for reader_group_i in reader_groups:\n",
    "    data_i = pred_test_data[pred_test_data.loc[:, 'reader_group']==reader_group_i]\n",
    "    sns.violinplot(data=data_i, x='reader_group_class_pred_str', y='reader_group_class_pred_prob')\n",
    "    plt.title(f'Group = {reader_group_i}')\n",
    "    plt.show()"
   ]
  },
  {
   "cell_type": "markdown",
   "metadata": {},
   "source": [
    "Based on the skewed distributions, let's take the predictions with $P>=0.99$ and use those to filter the data."
   ]
  },
  {
   "cell_type": "code",
   "execution_count": 23,
   "metadata": {},
   "outputs": [
    {
     "data": {
      "text/plain": [
       "(31296, 26)"
      ]
     },
     "execution_count": 23,
     "metadata": {},
     "output_type": "execute_result"
    }
   ],
   "source": [
    "pred_test_data.shape"
   ]
  },
  {
   "cell_type": "code",
   "execution_count": 24,
   "metadata": {},
   "outputs": [
    {
     "name": "stdout",
     "output_type": "stream",
     "text": [
      "25101/31296 data retained\n"
     ]
    }
   ],
   "source": [
    "prob_cutoff = 0.99\n",
    "cutoff_test_data = pred_test_data[pred_test_data.loc[:, 'reader_group_class_pred_prob']>= prob_cutoff]\n",
    "print(f'{cutoff_test_data.shape[0]}/{pred_test_data.shape[0]} data retained')"
   ]
  },
  {
   "cell_type": "markdown",
   "metadata": {},
   "source": [
    "Will this data actually have different generation results, as compared to the full data? We will see!!"
   ]
  },
  {
   "cell_type": "code",
   "execution_count": 53,
   "metadata": {},
   "outputs": [
    {
     "name": "stdout",
     "output_type": "stream",
     "text": [
      "(25101, 29)\n"
     ]
    }
   ],
   "source": [
    "## load generated text data\n",
    "import gzip\n",
    "text_only_model_output = list(map(lambda x: x.strip(), gzip.open('../../data/reddit_data/text_only_model/test_data_output_text.gz', 'rt')))\n",
    "reader_token_model_output = list(map(lambda x: x.strip(), gzip.open('../../data/reddit_data/author_text_data/test_data_output_text.gz', 'rt')))\n",
    "reader_attention_model_output = list(map(lambda x: x.strip(), gzip.open('../../data/reddit_data/author_text_data/author_attention_data/author_attention_layer=5_location=encoder_config=attnconcat/test_data_output_text.gz', 'rt')))\n",
    "test_data = test_data.assign(**{\n",
    "    'text_only_model' : text_only_model_output,\n",
    "    'reader_token_model' : reader_token_model_output,\n",
    "    'reader_attn_model' : reader_attention_model_output,\n",
    "})\n",
    "# add to cutoff data\n",
    "pred_text_data = pd.concat([cutoff_test_data, test_data.loc[cutoff_test_data.index, ['text_only_model', 'reader_token_model', 'reader_attn_model']]], axis=1)\n",
    "print(pred_text_data.shape)"
   ]
  },
  {
   "cell_type": "code",
   "execution_count": null,
   "metadata": {},
   "outputs": [
    {
     "name": "stdout",
     "output_type": "stream",
     "text": [
      "model=text_only_model\n"
     ]
    },
    {
     "name": "stderr",
     "output_type": "stream",
     "text": [
      "3516it [01:19, 41.84it/s]"
     ]
    }
   ],
   "source": [
    "## compute overlap metrics etc.\n",
    "from test_question_generation import STOP_WORDS, test_question_overlap\n",
    "# suppress BLEU error message\n",
    "import warnings\n",
    "warnings.filterwarnings('ignore')\n",
    "word_embed_file = '../../data/embeddings/wiki-news-300d-1M.vec.gz'\n",
    "model_output_types = [\n",
    "    'text_only_model',\n",
    "    'reader_token_model',\n",
    "    'reader_attn_model'\n",
    "]\n",
    "from nlp.arrow_dataset import Dataset\n",
    "pred_text_data_torch = Dataset.from_pandas(pred_text_data)\n",
    "pred_text_data_torch.rename_column_('question', 'target_text')\n",
    "text_overlap_score_data = []\n",
    "for model_output_type_i in model_output_types:\n",
    "    print(f'model={model_output_type_i}')\n",
    "    overlap_score_data_i = test_question_overlap(\n",
    "        pred_text_data.loc[:, model_output_type_i].values,\n",
    "        pred_text_data_torch,\n",
    "        word_embed_file=word_embed_file,\n",
    "        stop_words=STOP_WORDS,\n",
    "    )\n",
    "    # fix column names\n",
    "    overlap_score_data_i.rename(columns={\n",
    "        c : f'{c}_model={model_output_type_i.replace(\"_model\",\"\")}'\n",
    "        for c in overlap_score_data_i.columns\n",
    "    }, inplace=True)\n",
    "    text_overlap_score_data.append(overlap_score_data_i)\n",
    "text_overlap_score_data = pd.concat(overlap_score_data_i, axis=1)"
   ]
  },
  {
   "cell_type": "code",
   "execution_count": null,
   "metadata": {},
   "outputs": [],
   "source": []
  }
 ],
 "metadata": {
  "kernelspec": {
   "display_name": "Python [conda env:py3] *",
   "language": "python",
   "name": "conda-env-py3-py"
  },
  "language_info": {
   "codemirror_mode": {
    "name": "ipython",
    "version": 3
   },
   "file_extension": ".py",
   "mimetype": "text/x-python",
   "name": "python",
   "nbconvert_exporter": "python",
   "pygments_lexer": "ipython3",
   "version": "3.8.5"
  }
 },
 "nbformat": 4,
 "nbformat_minor": 4
}
