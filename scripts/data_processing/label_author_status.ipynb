{
 "cells": [
  {
   "cell_type": "markdown",
   "metadata": {},
   "source": [
    "# Label author status\n",
    "Label author status according to (1) prior comment count (\\~ experience); (2) location; (3) prior comment length (\\~ engagement)."
   ]
  },
  {
   "cell_type": "code",
   "execution_count": 1,
   "metadata": {},
   "outputs": [
    {
     "name": "stderr",
     "output_type": "stream",
     "text": [
      "<ipython-input-1-29bceb687512>:24: FutureWarning: Sorting because non-concatenation axis is not aligned. A future version\n",
      "of pandas will change to not sort by default.\n",
      "\n",
      "To accept the future behavior, pass 'sort=False'.\n",
      "\n",
      "To retain the current behavior and silence the warning, pass 'sort=True'.\n",
      "\n",
      "  comment_data = pd.concat(comment_data, axis=0)\n"
     ]
    }
   ],
   "source": [
    "# load comments\n",
    "comment_data_dir = '../../data/nyt_comments/'\n",
    "month_year_pairs = [\n",
    "    ('Jan', '2017'), \n",
    "    ('Feb', '2017'),\n",
    "    ('March', '2017'),\n",
    "    ('April', '2017'),\n",
    "    ('Jan', '2018'), \n",
    "    ('Feb', '2018'),\n",
    "    ('March', '2018'),\n",
    "    ('April', '2018'),\n",
    "]\n",
    "import os\n",
    "import pandas as pd\n",
    "comment_data = []\n",
    "comment_data_cols = ['articleID', 'commentBody', 'commentID', 'commentType', 'createDate', \n",
    "                     'depth', 'parentID', 'recommendedFlag', \n",
    "                     'reportAbuseFlag', 'sectionName', \n",
    "                     'userID', 'userDisplayName', 'userLocation']\n",
    "for month_i, year_i in month_year_pairs:\n",
    "    comment_data_file_i = os.path.join(comment_data_dir, f'Comments{month_i}{year_i}.csv')\n",
    "    comment_data_i = pd.read_csv(comment_data_file_i, sep=',', index_col=False, usecols=comment_data_cols)\n",
    "    comment_data.append(comment_data_i)\n",
    "comment_data = pd.concat(comment_data, axis=0)"
   ]
  },
  {
   "cell_type": "code",
   "execution_count": 2,
   "metadata": {},
   "outputs": [
    {
     "data": {
      "text/html": [
       "<div>\n",
       "<style scoped>\n",
       "    .dataframe tbody tr th:only-of-type {\n",
       "        vertical-align: middle;\n",
       "    }\n",
       "\n",
       "    .dataframe tbody tr th {\n",
       "        vertical-align: top;\n",
       "    }\n",
       "\n",
       "    .dataframe thead th {\n",
       "        text-align: right;\n",
       "    }\n",
       "</style>\n",
       "<table border=\"1\" class=\"dataframe\">\n",
       "  <thead>\n",
       "    <tr style=\"text-align: right;\">\n",
       "      <th></th>\n",
       "      <th>articleID</th>\n",
       "      <th>commentBody</th>\n",
       "      <th>commentID</th>\n",
       "      <th>commentType</th>\n",
       "      <th>createDate</th>\n",
       "      <th>depth</th>\n",
       "      <th>parentID</th>\n",
       "      <th>recommendedFlag</th>\n",
       "      <th>reportAbuseFlag</th>\n",
       "      <th>sectionName</th>\n",
       "      <th>userDisplayName</th>\n",
       "      <th>userID</th>\n",
       "      <th>userLocation</th>\n",
       "      <th>date_day</th>\n",
       "    </tr>\n",
       "  </thead>\n",
       "  <tbody>\n",
       "    <tr>\n",
       "      <th>0</th>\n",
       "      <td>58691a5795d0e039260788b9</td>\n",
       "      <td>For all you Americans out there --- still rejo...</td>\n",
       "      <td>20969730.0</td>\n",
       "      <td>comment</td>\n",
       "      <td>1.483426e+09</td>\n",
       "      <td>1.0</td>\n",
       "      <td>0.0</td>\n",
       "      <td>NaN</td>\n",
       "      <td>NaN</td>\n",
       "      <td>Politics</td>\n",
       "      <td>N. Smith</td>\n",
       "      <td>64679318.0</td>\n",
       "      <td>New York City</td>\n",
       "      <td>2017-01-03</td>\n",
       "    </tr>\n",
       "    <tr>\n",
       "      <th>1</th>\n",
       "      <td>58691a5795d0e039260788b9</td>\n",
       "      <td>Obamas policies may prove to be the least of t...</td>\n",
       "      <td>20969325.0</td>\n",
       "      <td>comment</td>\n",
       "      <td>1.483417e+09</td>\n",
       "      <td>1.0</td>\n",
       "      <td>0.0</td>\n",
       "      <td>NaN</td>\n",
       "      <td>NaN</td>\n",
       "      <td>Politics</td>\n",
       "      <td>Kilocharlie</td>\n",
       "      <td>69254188.0</td>\n",
       "      <td>Phoenix</td>\n",
       "      <td>2017-01-02</td>\n",
       "    </tr>\n",
       "    <tr>\n",
       "      <th>2</th>\n",
       "      <td>58691a5795d0e039260788b9</td>\n",
       "      <td>Democrats are comprised of malcontents who gen...</td>\n",
       "      <td>20969855.0</td>\n",
       "      <td>comment</td>\n",
       "      <td>1.483431e+09</td>\n",
       "      <td>1.0</td>\n",
       "      <td>0.0</td>\n",
       "      <td>NaN</td>\n",
       "      <td>NaN</td>\n",
       "      <td>Politics</td>\n",
       "      <td>Frank Fryer</td>\n",
       "      <td>76788711.0</td>\n",
       "      <td>Florida</td>\n",
       "      <td>2017-01-03</td>\n",
       "    </tr>\n",
       "    <tr>\n",
       "      <th>3</th>\n",
       "      <td>58691a5795d0e039260788b9</td>\n",
       "      <td>The picture in this article is the face of con...</td>\n",
       "      <td>20969407.0</td>\n",
       "      <td>comment</td>\n",
       "      <td>1.483419e+09</td>\n",
       "      <td>1.0</td>\n",
       "      <td>0.0</td>\n",
       "      <td>NaN</td>\n",
       "      <td>NaN</td>\n",
       "      <td>Politics</td>\n",
       "      <td>James Young</td>\n",
       "      <td>72718862.0</td>\n",
       "      <td>Seattle</td>\n",
       "      <td>2017-01-02</td>\n",
       "    </tr>\n",
       "    <tr>\n",
       "      <th>4</th>\n",
       "      <td>58691a5795d0e039260788b9</td>\n",
       "      <td>Elections have consequences.</td>\n",
       "      <td>20969274.0</td>\n",
       "      <td>comment</td>\n",
       "      <td>1.483417e+09</td>\n",
       "      <td>1.0</td>\n",
       "      <td>0.0</td>\n",
       "      <td>NaN</td>\n",
       "      <td>NaN</td>\n",
       "      <td>Politics</td>\n",
       "      <td>M.</td>\n",
       "      <td>7529267.0</td>\n",
       "      <td>Seattle</td>\n",
       "      <td>2017-01-02</td>\n",
       "    </tr>\n",
       "  </tbody>\n",
       "</table>\n",
       "</div>"
      ],
      "text/plain": [
       "                  articleID  \\\n",
       "0  58691a5795d0e039260788b9   \n",
       "1  58691a5795d0e039260788b9   \n",
       "2  58691a5795d0e039260788b9   \n",
       "3  58691a5795d0e039260788b9   \n",
       "4  58691a5795d0e039260788b9   \n",
       "\n",
       "                                         commentBody   commentID commentType  \\\n",
       "0  For all you Americans out there --- still rejo...  20969730.0     comment   \n",
       "1  Obamas policies may prove to be the least of t...  20969325.0     comment   \n",
       "2  Democrats are comprised of malcontents who gen...  20969855.0     comment   \n",
       "3  The picture in this article is the face of con...  20969407.0     comment   \n",
       "4                       Elections have consequences.  20969274.0     comment   \n",
       "\n",
       "     createDate  depth  parentID  recommendedFlag  reportAbuseFlag  \\\n",
       "0  1.483426e+09    1.0       0.0              NaN              NaN   \n",
       "1  1.483417e+09    1.0       0.0              NaN              NaN   \n",
       "2  1.483431e+09    1.0       0.0              NaN              NaN   \n",
       "3  1.483419e+09    1.0       0.0              NaN              NaN   \n",
       "4  1.483417e+09    1.0       0.0              NaN              NaN   \n",
       "\n",
       "  sectionName userDisplayName      userID   userLocation   date_day  \n",
       "0    Politics        N. Smith  64679318.0  New York City 2017-01-03  \n",
       "1    Politics     Kilocharlie  69254188.0        Phoenix 2017-01-02  \n",
       "2    Politics     Frank Fryer  76788711.0        Florida 2017-01-03  \n",
       "3    Politics     James Young  72718862.0        Seattle 2017-01-02  \n",
       "4    Politics              M.   7529267.0        Seattle 2017-01-02  "
      ]
     },
     "metadata": {},
     "output_type": "display_data"
    }
   ],
   "source": [
    "## add simplified date value\n",
    "from datetime import datetime\n",
    "def round_date_to_day(time_stamp):\n",
    "    raw_date = datetime.fromtimestamp(time_stamp)\n",
    "    round_date = datetime(year=raw_date.year, month=raw_date.month, day=raw_date.day)\n",
    "    return round_date\n",
    "comment_data = comment_data.assign(**{\n",
    "    'date_day' : comment_data.loc[:, 'createDate'].apply(lambda x: round_date_to_day(x))\n",
    "})\n",
    "# print(datetime.fromtimestamp(comment_data.loc[:, 'createDate'].iloc[0]))\n",
    "display(comment_data.head())"
   ]
  },
  {
   "cell_type": "code",
   "execution_count": 3,
   "metadata": {},
   "outputs": [],
   "source": [
    "def compute_prior_comment_count(full_data, date_var='date_day', author_var='userID'):\n",
    "    \"\"\"\n",
    "    Compute prior number of comments/day per author.\n",
    "    \"\"\"\n",
    "    comment_count_per_author = []\n",
    "    for (author_i, date_i), data_i in full_data.groupby([author_var, date_var]):\n",
    "        prior_data_i = full_data[(full_data.loc[:, 'userID']==author_i) & \n",
    "                                 (full_data.loc[:, date_var] <= date_i)]\n",
    "        date_range_i = (prior_data_i.loc[:, date_var].max() - prior_data_i.loc[:, date_var].min()).days + 1 # \"smooth\" to avoid div-by-0\n",
    "        comment_count_i = prior_data_i.shape[0] / date_range_i\n",
    "        comment_count_per_author.append([author_i, date_i, comment_count_i])\n",
    "    comment_count_per_author = pd.DataFrame(comment_count_per_author, columns=[author_var, date_var, 'prior_comment_count'])\n",
    "    return comment_count_per_author\n",
    "def compute_prior_comment_length(full_data, tokenizer, text_var='commentBody', date_var='date_day', author_var='userID'):\n",
    "    \"\"\"\n",
    "    Compute prior length of comment per author.\n",
    "    \"\"\"\n",
    "    comment_len_per_author = []\n",
    "    # get tokens\n",
    "    full_data = full_data.assign(**{\n",
    "        'comment_tokens' : full_data.loc[:, 'commentBody'].apply(tokenizer.tokenize)\n",
    "    })\n",
    "    for (author_i, date_i), data_i in full_data.groupby([author_var, date_var]):\n",
    "        prior_data_i = full_data[(full_data.loc[:, 'userID']==author_i) & \n",
    "                                 (full_data.loc[:, date_var] <= date_i)]\n",
    "        comment_len_i = prior_data_i.loc[:, 'comment_tokens'].apply(lambda x: len(x))\n",
    "        mean_comment_len_i = comment_len_i.mean()\n",
    "        comment_len_per_author.append([author_i, date_i, mean_comment_len_i])\n",
    "    comment_len_per_author = pd.DataFrame(comment_len_per_author, columns=[author_var, date_var, 'prior_comment_len'])\n",
    "    return comment_len_per_author"
   ]
  },
  {
   "cell_type": "code",
   "execution_count": 4,
   "metadata": {},
   "outputs": [],
   "source": [
    "# comment count\n",
    "date_var = 'date_day'\n",
    "author_var = 'userID'\n",
    "comment_count_per_author = compute_prior_comment_count(comment_data, date_var=date_var, author_var=author_var)"
   ]
  },
  {
   "cell_type": "code",
   "execution_count": null,
   "metadata": {},
   "outputs": [],
   "source": [
    "# comment length\n",
    "from nltk.tokenize import WordPunctTokenizer\n",
    "from importlib import reload\n",
    "import data_helpers\n",
    "reload(data_helpers)\n",
    "from data_helpers import clean_text_matchers\n",
    "import re\n",
    "# clean HTML`\n",
    "text_var = 'commentBody'\n",
    "matcher_pairs = [\n",
    "    (re.compile('<.+>'), ' '), #HTML\n",
    "]\n",
    "word_tokenizer = WordPunctTokenizer()\n",
    "comment_data = comment_data.assign(**{\n",
    "    text_var : comment_data.loc[:, text_var].apply(lambda x: clean_text_matchers(x, word_tokenizer, matcher_pairs))\n",
    "})\n",
    "comment_len_per_author = compute_prior_comment_length(comment_data, word_tokenizer, \n",
    "                                                      text_var=text_var, date_var=date_var,\n",
    "                                                      author_var=author_var)"
   ]
  },
  {
   "cell_type": "code",
   "execution_count": null,
   "metadata": {},
   "outputs": [],
   "source": [
    "## save to file\n",
    "author_var = 'userID'\n",
    "combined_comment_author_data = pd.merge(comment_count_per_author, comment_len_per_author, on=author_var)\n",
    "combined_comment_author_data_file = '../../data/nyt_comments/author_comment_stats.tsv'\n",
    "combined_comment_data.to_csv(combined_comment_author_data_file, sep='\\t', index=False)"
   ]
  },
  {
   "cell_type": "code",
   "execution_count": 30,
   "metadata": {},
   "outputs": [
    {
     "data": {
      "image/png": "[encoded data removed]",
      "text/plain": [
       "<Figure size 432x288 with 1 Axes>"
      ]
     },
     "metadata": {
      "needs_background": "light"
     },
     "output_type": "display_data"
    },
    {
     "data": {
      "image/png": "[encoded data removed]",
      "text/plain": [
       "<Figure size 432x288 with 1 Axes>"
      ]
     },
     "metadata": {
      "needs_background": "light"
     },
     "output_type": "display_data"
    }
   ],
   "source": [
    "## display distribution of comment stats\n",
    "import matplotlib\n",
    "%matplotlib inline\n",
    "import matplotlib.pyplot as plt\n",
    "# comment count\n",
    "plt.hist(comment_count_per_author.loc[:, 'prior_comment_count'])\n",
    "plt.yscale('log')\n",
    "plt.xlabel('Prior comment count')\n",
    "plt.show()\n",
    "# comment length\n",
    "plt.hist(comment_len_per_author.loc[:, 'prior_comment_len'])\n",
    "plt.yscale('log')\n",
    "plt.xlabel('Prior comment length')\n",
    "plt.show()"
   ]
  },
  {
   "cell_type": "markdown",
   "metadata": {},
   "source": [
    "Now let's label authors by location: US vs. non-US."
   ]
  },
  {
   "cell_type": "code",
   "execution_count": 42,
   "metadata": {},
   "outputs": [],
   "source": [
    "## let's do some geocoding\n",
    "import geocoder\n",
    "def geocode_country(text):\n",
    "    text_loc_country = 'UNK'\n",
    "    try:\n",
    "        text_loc = geocoder.osm(text, method='geocode')\n",
    "        text_loc_data = text_loc.response.json()\n",
    "        if(len(text_loc_data) > 0):\n",
    "            text_loc_country = text_loc_data[0]['address']['country_code']\n",
    "    except Exception as e:\n",
    "        print(f'geocoding error {e}')\n",
    "    return text_loc_country\n",
    "\n",
    "author_locations = pd.Series(comment_data.loc[:, 'userLocation'].unique())\n",
    "print(author_locations)\n",
    "# DO NOT use parallel w/ too many workers => rate limit\n",
    "from pandarallel import pandarallel\n",
    "num_workers = 2\n",
    "pandarallel.initialize(progress_bar=True, nb_workers=num_workers)\n",
    "# from tqdm import tqdm\n",
    "# tqdm.pandas()\n",
    "author_location_countries = author_locations.parallel_apply(geocode_country)\n",
    "# simple label: US vs. non-US\n",
    "## convert country to region\n",
    "# author_location_data = pd.DataFrame([unique_locations, unique_location_countries], index=['userLocation', 'user_country']).transpose()\n",
    "# print(author_location_data)\n",
    "# if('user_country' not in nyt_article_question_data.columns):\n",
    "#     nyt_article_question_data = pd.merge(nyt_article_question_data, author_location_data, on='userLocation')\n",
    "# from collections import defaultdict\n",
    "# location_region_lookup = defaultdict(lambda : 'UNK')\n",
    "# # country-region codes\n",
    "# location_region_lookup.update(\n",
    "#     {'ad': 'europe', 'ae': 'asia', 'af': 'asia', 'ag': 'north_america', 'ai': 'north_america', 'al': 'europe', 'am': 'asia', 'an': 'north_america', 'ao': 'africa', 'ap': 'asia', 'aq': 'antarctica', 'ar': 'south_america', 'as': 'oceania', 'at': 'europe', 'au': 'oceania', 'aw': 'north_america', 'ax': 'europe', 'az': 'asia', 'ba': 'europe', 'bb': 'north_america', 'bd': 'asia', 'be': 'europe', 'bf': 'africa', 'bg': 'europe', 'bh': 'asia', 'bi': 'africa', 'bj': 'africa', 'bl': 'north_america', 'bm': 'north_america', 'bn': 'asia', 'bo': 'south_america', 'br': 'south_america', 'bs': 'north_america', 'bt': 'asia', 'bv': 'antarctica', 'bw': 'africa', 'by': 'europe', 'bz': 'north_america', 'ca': 'north_america', 'cc': 'asia', 'cd': 'africa', 'cf': 'africa', 'cg': 'africa', 'ch': 'europe', 'ci': 'africa', 'ck': 'oceania', 'cl': 'south_america', 'cm': 'africa', 'cn': 'asia', 'co': 'south_america', 'cr': 'north_america', 'cu': 'north_america', 'cv': 'africa', 'cx': 'asia', 'cy': 'asia', 'cz': 'europe', 'de': 'europe', 'dj': 'africa', 'dk': 'europe', 'dm': 'north_america', 'do': 'north_america', 'dz': 'africa', 'ec': 'south_america', 'ee': 'europe', 'eg': 'africa', 'eh': 'africa', 'er': 'africa', 'es': 'europe', 'et': 'africa', 'eu': 'europe', 'fi': 'europe', 'fj': 'oceania', 'fk': 'south_america', 'fm': 'oceania', 'fo': 'europe', 'fr': 'europe', 'fx': 'europe', 'ga': 'africa', 'gb': 'europe', 'gd': 'north_america', 'ge': 'asia', 'gf': 'south_america', 'gg': 'europe', 'gh': 'africa', 'gi': 'europe', 'gl': 'north_america', 'gm': 'africa', 'gn': 'africa', 'gp': 'north_america', 'gq': 'africa', 'gr': 'europe', 'gs': 'antarctica', 'gt': 'north_america', 'gu': 'oceania', 'gw': 'africa', 'gy': 'south_america', 'hk': 'asia', 'hm': 'antarctica', 'hn': 'north_america', 'hr': 'europe', 'ht': 'north_america', 'hu': 'europe', 'id': 'asia', 'ie': 'europe', 'il': 'asia', 'im': 'europe', 'in': 'asia', 'io': 'asia', 'iq': 'asia', 'ir': 'asia', 'is': 'europe', 'it': 'europe', 'je': 'europe', 'jm': 'north_america', 'jo': 'asia', 'jp': 'asia', 'ke': 'africa', 'kg': 'asia', 'kh': 'asia', 'ki': 'oceania', 'km': 'africa', 'kn': 'north_america', 'kp': 'asia', 'kr': 'asia', 'kw': 'asia', 'ky': 'north_america', 'kz': 'asia', 'la': 'asia', 'lb': 'asia', 'lc': 'north_america', 'li': 'europe', 'lk': 'asia', 'lr': 'africa', 'ls': 'africa', 'lt': 'europe', 'lu': 'europe', 'lv': 'europe', 'ly': 'africa', 'ma': 'africa', 'mc': 'europe', 'md': 'europe', 'me': 'europe', 'mf': 'north_america', 'mg': 'africa', 'mh': 'oceania', 'mk': 'europe', 'ml': 'africa', 'mm': 'asia', 'mn': 'asia', 'mo': 'asia', 'mp': 'oceania', 'mq': 'north_america', 'mr': 'africa', 'ms': 'north_america', 'mt': 'europe', 'mu': 'africa', 'mv': 'asia', 'mw': 'africa', 'mx': 'north_america', 'my': 'asia', 'mz': 'africa', 'na': 'africa', 'nc': 'oceania', 'ne': 'africa', 'nf': 'oceania', 'ng': 'africa', 'ni': 'north_america', 'nl': 'europe', 'no': 'europe', 'np': 'asia', 'nr': 'oceania', 'nu': 'oceania', 'nz': 'oceania', 'om': 'asia', 'pa': 'north_america', 'pe': 'south_america', 'pf': 'oceania', 'pg': 'oceania', 'ph': 'asia', 'pk': 'asia', 'pl': 'europe', 'pm': 'north_america', 'pn': 'oceania', 'pr': 'north_america', 'ps': 'asia', 'pt': 'europe', 'pw': 'oceania', 'py': 'south_america', 'qa': 'asia', 're': 'africa', 'ro': 'europe', 'rs': 'europe', 'ru': 'europe', 'rw': 'africa', 'sa': 'asia', 'sb': 'oceania', 'sc': 'africa', 'sd': 'africa', 'se': 'europe', 'sg': 'asia', 'sh': 'africa', 'si': 'europe', 'sj': 'europe', 'sk': 'europe', 'sl': 'africa', 'sm': 'europe', 'sn': 'africa', 'so': 'africa', 'sr': 'south_america', 'st': 'africa', 'sv': 'north_america', 'sy': 'asia', 'sz': 'africa', 'tc': 'north_america', 'td': 'africa', 'tf': 'antarctica', 'tg': 'africa', 'th': 'asia', 'tj': 'asia', 'tk': 'oceania', 'tl': 'asia', 'tm': 'asia', 'tn': 'africa', 'to': 'oceania', 'tr': 'europe', 'tt': 'north_america', 'tv': 'oceania', 'tw': 'asia', 'tz': 'africa', 'ua': 'europe', 'ug': 'africa', 'um': 'oceania', 'us': 'north_america', 'uy': 'south_america', 'uz': 'asia', 'va': 'europe', 'vc': 'north_america', 've': 'south_america', 'vg': 'north_america', 'vi': 'north_america', 'vn': 'asia', 'vu': 'oceania', 'wf': 'oceania', 'ws': 'oceania', 'ye': 'asia', 'yt': 'africa', 'za': 'africa', 'zm': 'africa', 'zw': 'africa', 'UNK' : 'UNK'}\n",
    "# )\n",
    "# nyt_article_question_data = nyt_article_question_data.assign(**{\n",
    "#     'user_region' : nyt_article_question_data.loc[:, 'user_country'].apply(lambda x: location_region_lookup[x])\n",
    "# })\n",
    "# print(nyt_article_question_data.loc[:, 'user_country'].value_counts().head(10))\n",
    "# print(nyt_article_question_data.loc[:, 'user_region'].value_counts().head(10))\n",
    "# test = 'Chicago'\n",
    "# test_country = geocode_country(test)\n",
    "# print(test_country)"
   ]
  },
  {
   "cell_type": "markdown",
   "metadata": {},
   "source": [
    "### Test classification by author type"
   ]
  },
  {
   "cell_type": "markdown",
   "metadata": {},
   "source": [
    "Before we use these features to blindly generate text, let's see how well we can classify the author status based on the comment text, i.e. weak version of authorship attribution.\n",
    "\n",
    "We'll combine the representation of the article text and the comment text as a single input representation to predict the output (author \"class\")."
   ]
  },
  {
   "cell_type": "code",
   "execution_count": null,
   "metadata": {},
   "outputs": [],
   "source": [
    "## convert continuous variables into binary categories\n",
    "import numpy as np\n",
    "comment_count_cutoff_pct = [25]\n",
    "comment_len_cutoff_pct = [50]\n",
    "combined_comment_author_data = pd.read_csv('../../data/nyt_comments/comment_author_stats.tsv', sep='\\t', index_col=False)\n"
   ]
  }
 ],
 "metadata": {
  "kernelspec": {
   "display_name": "Python [conda env:py3] *",
   "language": "python",
   "name": "conda-env-py3-py"
  },
  "language_info": {
   "codemirror_mode": {
    "name": "ipython",
    "version": 3
   },
   "file_extension": ".py",
   "mimetype": "text/x-python",
   "name": "python",
   "nbconvert_exporter": "python",
   "pygments_lexer": "ipython3",
   "version": "3.8.5"
  }
 },
 "nbformat": 4,
 "nbformat_minor": 4
}
