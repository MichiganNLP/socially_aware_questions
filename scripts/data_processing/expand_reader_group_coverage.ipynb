{
 "cells": [
  {
   "cell_type": "markdown",
   "metadata": {},
   "source": [
    "# Expand reader group coverage\n",
    "In prior analysis, we have seen that some reader groups have poor coverage, specifically expertise and demographics.\n",
    "\n",
    "Let's use the prior author data to expand this coverage."
   ]
  },
  {
   "cell_type": "markdown",
   "metadata": {},
   "source": [
    "### Load data"
   ]
  },
  {
   "cell_type": "code",
   "execution_count": 1,
   "metadata": {},
   "outputs": [
    {
     "name": "stderr",
     "output_type": "stream",
     "text": [
      "  3%|▎         | 7043/204619 [03:55<41:21, 79.64it/s]   "
     ]
    },
    {
     "name": "stdout",
     "output_type": "stream",
     "text": [
      "skipping file ../../data/reddit_data/author_data/OJnToothpaste_comments.gz because error Error tokenizing data. C error: Buffer overflow caught - possible malformed input file.\n",
      "\n"
     ]
    },
    {
     "name": "stderr",
     "output_type": "stream",
     "text": [
      " 13%|█▎        | 26710/204619 [23:49<1:04:26, 46.02it/s] "
     ]
    },
    {
     "name": "stdout",
     "output_type": "stream",
     "text": [
      "skipping file ../../data/reddit_data/author_data/papercut_eyelid_comments.gz because error Error tokenizing data. C error: Buffer overflow caught - possible malformed input file.\n",
      "\n"
     ]
    },
    {
     "name": "stderr",
     "output_type": "stream",
     "text": [
      " 17%|█▋        | 34126/204619 [30:48<3:44:05, 12.68it/s] IOPub message rate exceeded.\n",
      "The notebook server will temporarily stop sending output\n",
      "to the client in order to avoid crashing it.\n",
      "To change this limit, set the config variable\n",
      "`--NotebookApp.iopub_msg_rate_limit`.\n",
      "\n",
      "Current values:\n",
      "NotebookApp.iopub_msg_rate_limit=1000.0 (msgs/sec)\n",
      "NotebookApp.rate_limit_window=3.0 (secs)\n",
      "\n",
      " 28%|██▊       | 56942/204619 [52:19<4:53:10,  8.40it/s] IOPub message rate exceeded.\n",
      "The notebook server will temporarily stop sending output\n",
      "to the client in order to avoid crashing it.\n",
      "To change this limit, set the config variable\n",
      "`--NotebookApp.iopub_msg_rate_limit`.\n",
      "\n",
      "Current values:\n",
      "NotebookApp.iopub_msg_rate_limit=1000.0 (msgs/sec)\n",
      "NotebookApp.rate_limit_window=3.0 (secs)\n",
      "\n",
      " 42%|████▏     | 86740/204619 [1:13:33<1:11:55, 27.31it/s] IOPub message rate exceeded.\n",
      "The notebook server will temporarily stop sending output\n",
      "to the client in order to avoid crashing it.\n",
      "To change this limit, set the config variable\n",
      "`--NotebookApp.iopub_msg_rate_limit`.\n",
      "\n",
      "Current values:\n",
      "NotebookApp.iopub_msg_rate_limit=1000.0 (msgs/sec)\n",
      "NotebookApp.rate_limit_window=3.0 (secs)\n",
      "\n",
      " 67%|██████▋   | 136917/204619 [1:28:59<15:58, 70.61it/s]   IOPub message rate exceeded.\n",
      "The notebook server will temporarily stop sending output\n",
      "to the client in order to avoid crashing it.\n",
      "To change this limit, set the config variable\n",
      "`--NotebookApp.iopub_msg_rate_limit`.\n",
      "\n",
      "Current values:\n",
      "NotebookApp.iopub_msg_rate_limit=1000.0 (msgs/sec)\n",
      "NotebookApp.rate_limit_window=3.0 (secs)\n",
      "\n",
      " 90%|█████████ | 184170/204619 [1:44:15<07:32, 45.19it/s]  IOPub message rate exceeded.\n",
      "The notebook server will temporarily stop sending output\n",
      "to the client in order to avoid crashing it.\n",
      "To change this limit, set the config variable\n",
      "`--NotebookApp.iopub_msg_rate_limit`.\n",
      "\n",
      "Current values:\n",
      "NotebookApp.iopub_msg_rate_limit=1000.0 (msgs/sec)\n",
      "NotebookApp.rate_limit_window=3.0 (secs)\n",
      "\n"
     ]
    }
   ],
   "source": [
    "import pandas as pd\n",
    "from importlib import reload\n",
    "import data_helpers\n",
    "reload(data_helpers)\n",
    "from data_helpers import load_all_author_data\n",
    "author_data_dir = '../../data/reddit_data/author_data/'\n",
    "usecols = ['author', 'subreddit', 'created_utc', 'id']\n",
    "author_data = load_all_author_data(author_data_dir, usecols=usecols)\n",
    "print(author_data.loc[:, 'author'].nunique())"
   ]
  },
  {
   "cell_type": "code",
   "execution_count": 2,
   "metadata": {},
   "outputs": [],
   "source": [
    "## limit to actual question askers\n",
    "question_comment_data = pd.read_csv('../../data/reddit_data/advice_subreddit_no_filter_comment_question_data.gz', sep='\\t', compression='gzip', usecols=['author', 'parent_id', 'subreddit', 'created_utc'])"
   ]
  },
  {
   "cell_type": "code",
   "execution_count": 22,
   "metadata": {
    "scrolled": true
   },
   "outputs": [],
   "source": [
    "## get date info\n",
    "from datetime import datetime, timedelta\n",
    "from monthdelta import monthdelta\n",
    "import re\n",
    "# num_matcher = re.compile('\\d+\\.\\d')\n",
    "# author_data = author_data.assign(**{\n",
    "#     'date' : author_data.loc[:, 'created_utc'].apply(lambda x: datetime.fromtimestamp(int(float(x))) if (type(x) is str and num_matcher.match(x) is not None) else x),\n",
    "# })\n",
    "# question_comment_data = question_comment_data.assign(**{\n",
    "#     'date' : question_comment_data.loc[:, 'created_utc'].apply(lambda x: datetime.fromtimestamp(int(float(x)))),\n",
    "# })\n",
    "## convert to date-day bins\n",
    "from math import ceil\n",
    "import numpy as np\n",
    "start_year, end_year = 2018, 2019\n",
    "start_month, end_month = 1, 12\n",
    "bin_month_width = 6\n",
    "months_per_year = 12\n",
    "date_bin_count = int(ceil(((end_year - start_year + 1) * months_per_year) / bin_month_width))\n",
    "start_date = datetime(year=start_year, month=1, day=1)\n",
    "date_bins = [start_date + monthdelta(bin_month_width*i) for i in range(date_bin_count)]\n",
    "date_bins = np.array(list(map(lambda x: x.timestamp(), date_bins)))\n",
    "from data_helpers import assign_date_bin\n",
    "author_data = author_data.assign(**{\n",
    "    'date_day_bin' : author_data.loc[:, 'date'].apply(lambda x: assign_date_bin(x, date_bins) if (type(x) is float and not np.isnan(x)) else None),\n",
    "})\n",
    "question_comment_data = question_comment_data.assign(**{\n",
    "    'date_day_bin' : question_comment_data.loc[:, 'date'].apply(lambda x: assign_date_bin(x.timestamp(), date_bins))\n",
    "})"
   ]
  },
  {
   "cell_type": "code",
   "execution_count": 23,
   "metadata": {},
   "outputs": [
    {
     "data": {
      "text/plain": [
       "array([datetime.datetime(2019, 7, 1, 0, 0),\n",
       "       datetime.datetime(2019, 1, 1, 0, 0),\n",
       "       datetime.datetime(2018, 7, 1, 0, 0),\n",
       "       datetime.datetime(2018, 1, 1, 0, 0), -1, None], dtype=object)"
      ]
     },
     "execution_count": 23,
     "metadata": {},
     "output_type": "execute_result"
    }
   ],
   "source": [
    "author_data.loc[:, 'date_day_bin'].unique()"
   ]
  },
  {
   "cell_type": "markdown",
   "metadata": {},
   "source": [
    "## Expand expertise\n",
    "Let's expand the definition of \"expert\" by counting the prior posts in topic-relevant subreddits.\n",
    "\n",
    "Author $a$ posts a question in subreddit $s$.\n",
    "1. $a$ is an \"expert\" if at least 90% of their prior posts are in subreddit $s$.\n",
    "2. $a$ is an \"expert\" if at least 90% of their prior posts are in subreddits $\\mathcal{S}_{t}$, i.e. $s$ or one of its top-k neighbors at time $t$."
   ]
  },
  {
   "cell_type": "code",
   "execution_count": 53,
   "metadata": {},
   "outputs": [],
   "source": [
    "## connect authors with original question time + subreddit info\n",
    "question_comment_data.rename(columns={'subreddit' : 'question_subreddit', 'date_day_bin' : 'question_date_day_bin'}, inplace=True)\n",
    "author_question_data = pd.merge(author_data, question_comment_data.loc[:, ['author', 'question_subreddit', 'question_date_day_bin']], on='author', how='right')\n",
    "# fix data type\n",
    "author_question_data = author_question_data.assign(**{\n",
    "    'question_date_day_bin' : pd.Series(author_question_data.loc[:, 'question_date_day_bin'].values, dtype='object')\n",
    "})\n",
    "# remove null data\n",
    "author_question_data = author_question_data[author_question_data.loc[:, 'date_day_bin'].apply(lambda x: type(x) is datetime)]"
   ]
  },
  {
   "cell_type": "code",
   "execution_count": 39,
   "metadata": {},
   "outputs": [
    {
     "name": "stdout",
     "output_type": "stream",
     "text": [
      "69616031\n"
     ]
    },
    {
     "data": {
      "text/html": [
       "<div>\n",
       "<style scoped>\n",
       "    .dataframe tbody tr th:only-of-type {\n",
       "        vertical-align: middle;\n",
       "    }\n",
       "\n",
       "    .dataframe tbody tr th {\n",
       "        vertical-align: top;\n",
       "    }\n",
       "\n",
       "    .dataframe thead th {\n",
       "        text-align: right;\n",
       "    }\n",
       "</style>\n",
       "<table border=\"1\" class=\"dataframe\">\n",
       "  <thead>\n",
       "    <tr style=\"text-align: right;\">\n",
       "      <th></th>\n",
       "      <th>author</th>\n",
       "      <th>subreddit</th>\n",
       "      <th>created_utc</th>\n",
       "      <th>id</th>\n",
       "      <th>date</th>\n",
       "      <th>date_day_bin</th>\n",
       "      <th>question_subreddit</th>\n",
       "      <th>question_date_day_bin</th>\n",
       "    </tr>\n",
       "  </thead>\n",
       "  <tbody>\n",
       "    <tr>\n",
       "      <th>0</th>\n",
       "      <td>DaveAlot</td>\n",
       "      <td>ultrawidemasterrace</td>\n",
       "      <td>1617058469.0</td>\n",
       "      <td>gsqofc7</td>\n",
       "      <td>1617058469.0</td>\n",
       "      <td>2019-07-01 00:00:00</td>\n",
       "      <td>personalfinance</td>\n",
       "      <td>2018-01-01 00:00:00</td>\n",
       "    </tr>\n",
       "    <tr>\n",
       "      <th>1</th>\n",
       "      <td>DaveAlot</td>\n",
       "      <td>ultrawidemasterrace</td>\n",
       "      <td>1615528553.0</td>\n",
       "      <td>gqnvkp0</td>\n",
       "      <td>1615528553.0</td>\n",
       "      <td>2019-07-01 00:00:00</td>\n",
       "      <td>personalfinance</td>\n",
       "      <td>2018-01-01 00:00:00</td>\n",
       "    </tr>\n",
       "    <tr>\n",
       "      <th>2</th>\n",
       "      <td>DaveAlot</td>\n",
       "      <td>ultrawidemasterrace</td>\n",
       "      <td>1614292110.0</td>\n",
       "      <td>gorg61l</td>\n",
       "      <td>1614292110.0</td>\n",
       "      <td>2019-07-01 00:00:00</td>\n",
       "      <td>personalfinance</td>\n",
       "      <td>2018-01-01 00:00:00</td>\n",
       "    </tr>\n",
       "    <tr>\n",
       "      <th>3</th>\n",
       "      <td>DaveAlot</td>\n",
       "      <td>ultrawidemasterrace</td>\n",
       "      <td>1614219096.0</td>\n",
       "      <td>gonosj2</td>\n",
       "      <td>1614219096.0</td>\n",
       "      <td>2019-07-01 00:00:00</td>\n",
       "      <td>personalfinance</td>\n",
       "      <td>2018-01-01 00:00:00</td>\n",
       "    </tr>\n",
       "    <tr>\n",
       "      <th>4</th>\n",
       "      <td>DaveAlot</td>\n",
       "      <td>tax</td>\n",
       "      <td>1612253656.0</td>\n",
       "      <td>glpizlx</td>\n",
       "      <td>1612253656.0</td>\n",
       "      <td>2019-07-01 00:00:00</td>\n",
       "      <td>personalfinance</td>\n",
       "      <td>2018-01-01 00:00:00</td>\n",
       "    </tr>\n",
       "  </tbody>\n",
       "</table>\n",
       "</div>"
      ],
      "text/plain": [
       "     author            subreddit   created_utc       id          date         date_day_bin question_subreddit question_date_day_bin\n",
       "0  DaveAlot  ultrawidemasterrace  1617058469.0  gsqofc7  1617058469.0  2019-07-01 00:00:00    personalfinance   2018-01-01 00:00:00\n",
       "1  DaveAlot  ultrawidemasterrace  1615528553.0  gqnvkp0  1615528553.0  2019-07-01 00:00:00    personalfinance   2018-01-01 00:00:00\n",
       "2  DaveAlot  ultrawidemasterrace  1614292110.0  gorg61l  1614292110.0  2019-07-01 00:00:00    personalfinance   2018-01-01 00:00:00\n",
       "3  DaveAlot  ultrawidemasterrace  1614219096.0  gonosj2  1614219096.0  2019-07-01 00:00:00    personalfinance   2018-01-01 00:00:00\n",
       "4  DaveAlot                  tax  1612253656.0  glpizlx  1612253656.0  2019-07-01 00:00:00    personalfinance   2018-01-01 00:00:00"
      ]
     },
     "metadata": {},
     "output_type": "display_data"
    }
   ],
   "source": [
    "print(author_question_data.shape[0])\n",
    "display(author_question_data.head())"
   ]
  },
  {
   "cell_type": "code",
   "execution_count": 112,
   "metadata": {},
   "outputs": [],
   "source": [
    "## get \"expert\" distribution\n",
    "# get all posts written before question date\n",
    "# compute % posted in question subreddit UGH\n",
    "from tqdm import tqdm\n",
    "tqdm.pandas()\n",
    "def get_subreddit_pct_per_author_per_date(data, start_date):\n",
    "#     print(f'data = \\n{data.head()}')\n",
    "#     print(f'N = {data.shape[0]}')\n",
    "#     print(f'subreddit counts {data.loc[:, \"subreddit\"].value_counts()}')\n",
    "    data.drop_duplicates('id', inplace=True)\n",
    "    valid_data = data[data.loc[:, 'date_day_bin'] <= start_date]\n",
    "    subreddit = data.loc[:, 'question_subreddit'].iloc[0]\n",
    "    subreddit_pct = (data.loc[:, 'subreddit']==subreddit).sum() / data.shape[0]\n",
    "    return subreddit_pct"
   ]
  },
  {
   "cell_type": "code",
   "execution_count": 133,
   "metadata": {
    "scrolled": true
   },
   "outputs": [
    {
     "name": "stdout",
     "output_type": "stream",
     "text": [
      "**** processing data from subreddit=Advice ****\n"
     ]
    },
    {
     "name": "stderr",
     "output_type": "stream",
     "text": [
      "100%|██████████| 27868/27868 [01:26<00:00, 321.49it/s]\n"
     ]
    },
    {
     "name": "stdout",
     "output_type": "stream",
     "text": [
      "**** processing data from subreddit=AmItheAsshole ****\n"
     ]
    },
    {
     "name": "stderr",
     "output_type": "stream",
     "text": [
      "100%|██████████| 62629/62629 [03:15<00:00, 320.11it/s]\n"
     ]
    },
    {
     "name": "stdout",
     "output_type": "stream",
     "text": [
      "**** processing data from subreddit=legaladvice ****\n"
     ]
    },
    {
     "name": "stderr",
     "output_type": "stream",
     "text": [
      "100%|██████████| 22512/22512 [01:10<00:00, 320.58it/s]\n"
     ]
    },
    {
     "name": "stdout",
     "output_type": "stream",
     "text": [
      "**** processing data from subreddit=pcmasterrace ****\n"
     ]
    },
    {
     "name": "stderr",
     "output_type": "stream",
     "text": [
      "100%|██████████| 17462/17462 [00:53<00:00, 324.49it/s]\n"
     ]
    },
    {
     "name": "stdout",
     "output_type": "stream",
     "text": [
      "**** processing data from subreddit=personalfinance ****\n"
     ]
    },
    {
     "name": "stderr",
     "output_type": "stream",
     "text": [
      "100%|██████████| 37266/37266 [01:56<00:00, 319.06it/s]\n"
     ]
    }
   ],
   "source": [
    "from tqdm import tqdm\n",
    "author_subreddit_counts = []\n",
    "for subreddit_i, data_i in author_question_data.groupby(['question_subreddit']):\n",
    "    print(f'**** processing data from subreddit={subreddit_i} ****')\n",
    "    author_subreddit_counts_i = []\n",
    "    for (author_j, date_j), data_j in tqdm(data_i.groupby(['author', 'question_date_day_bin'])):\n",
    "        author_subreddit_counts_j = get_subreddit_pct_per_author_per_date(data_j, data_j.loc[:, 'question_date_day_bin'].iloc[0])\n",
    "        author_subreddit_counts_i.append([author_j, date_j, author_subreddit_counts_j])\n",
    "    author_subreddit_counts_i = pd.DataFrame(author_subreddit_counts_i, columns=['author', 'date', 'subreddit_pct'])\n",
    "    author_subreddit_counts_i = author_subreddit_counts_i.assign(**{'subreddit' : subreddit_i})\n",
    "    author_subreddit_counts.append(author_subreddit_counts_i)\n",
    "author_subreddit_counts = pd.concat(author_subreddit_counts, axis=0)"
   ]
  },
  {
   "cell_type": "code",
   "execution_count": 148,
   "metadata": {
    "scrolled": true
   },
   "outputs": [
    {
     "data": {
      "image/png": "[encoded data removed]",
      "text/plain": [
       "<Figure size 432x288 with 1 Axes>"
      ]
     },
     "metadata": {
      "needs_background": "light"
     },
     "output_type": "display_data"
    },
    {
     "name": "stdout",
     "output_type": "stream",
     "text": [
      "subreddit=Advice\n",
      "value counts = \n",
      "0.0    20600\n",
      "0.1     2688\n",
      "0.2     1273\n",
      "0.3      765\n",
      "0.4      526\n",
      "0.5      502\n",
      "0.6      301\n",
      "0.7      245\n",
      "0.8      226\n",
      "0.9      742\n",
      "dtype: int64\n",
      "value cutoff = 0.103; percentiles =\n",
      "0    20888\n",
      "1     6980\n",
      "dtype: int64\n"
     ]
    },
    {
     "data": {
      "image/png": "[encoded data removed]",
      "text/plain": [
       "<Figure size 432x288 with 1 Axes>"
      ]
     },
     "metadata": {
      "needs_background": "light"
     },
     "output_type": "display_data"
    },
    {
     "name": "stdout",
     "output_type": "stream",
     "text": [
      "subreddit=AmItheAsshole\n",
      "value counts = \n",
      "0.0    42257\n",
      "0.1     7190\n",
      "0.2     3876\n",
      "0.3     2345\n",
      "0.4     1752\n",
      "0.5     1441\n",
      "0.6      974\n",
      "0.7      788\n",
      "0.8      731\n",
      "0.9     1275\n",
      "dtype: int64\n",
      "value cutoff = 0.155; percentiles =\n",
      "0    46952\n",
      "1    15677\n",
      "dtype: int64\n"
     ]
    },
    {
     "data": {
      "image/png": "[encoded data removed]",
      "text/plain": [
       "<Figure size 432x288 with 1 Axes>"
      ]
     },
     "metadata": {
      "needs_background": "light"
     },
     "output_type": "display_data"
    },
    {
     "name": "stdout",
     "output_type": "stream",
     "text": [
      "subreddit=legaladvice\n",
      "value counts = \n",
      "0.0    18286\n",
      "0.1     1441\n",
      "0.2      733\n",
      "0.3      432\n",
      "0.4      293\n",
      "0.5      269\n",
      "0.6      206\n",
      "0.7      202\n",
      "0.8      210\n",
      "0.9      440\n",
      "dtype: int64\n",
      "value cutoff = 0.052; percentiles =\n",
      "0    16871\n",
      "1     5641\n",
      "dtype: int64\n"
     ]
    },
    {
     "data": {
      "image/png": "[encoded data removed]",
      "text/plain": [
       "<Figure size 432x288 with 1 Axes>"
      ]
     },
     "metadata": {
      "needs_background": "light"
     },
     "output_type": "display_data"
    },
    {
     "name": "stdout",
     "output_type": "stream",
     "text": [
      "subreddit=pcmasterrace\n",
      "value counts = \n",
      "0.0    11770\n",
      "0.1     2173\n",
      "0.2     1199\n",
      "0.3      672\n",
      "0.4      471\n",
      "0.5      394\n",
      "0.6      266\n",
      "0.7      180\n",
      "0.8      127\n",
      "0.9      210\n",
      "dtype: int64\n",
      "value cutoff = 0.150; percentiles =\n",
      "0    13023\n",
      "1     4439\n",
      "dtype: int64\n"
     ]
    },
    {
     "data": {
      "image/png": "[encoded data removed]",
      "text/plain": [
       "<Figure size 432x288 with 1 Axes>"
      ]
     },
     "metadata": {
      "needs_background": "light"
     },
     "output_type": "display_data"
    },
    {
     "name": "stdout",
     "output_type": "stream",
     "text": [
      "subreddit=personalfinance\n",
      "value counts = \n",
      "0.0    29992\n",
      "0.1     2769\n",
      "0.2     1349\n",
      "0.3      774\n",
      "0.4      506\n",
      "0.5      494\n",
      "0.6      358\n",
      "0.7      246\n",
      "0.8      220\n",
      "0.9      558\n",
      "dtype: int64\n",
      "value cutoff = 0.062; percentiles =\n",
      "0    27947\n",
      "1     9319\n",
      "dtype: int64\n"
     ]
    }
   ],
   "source": [
    "import matplotlib\n",
    "%matplotlib inline\n",
    "import matplotlib.pyplot as plt\n",
    "import numpy as np\n",
    "bins = 10\n",
    "percentile_cutoff = 75\n",
    "for subreddit_i, data_i in author_subreddit_counts.groupby('subreddit'):\n",
    "    plt.hist(data_i.loc[:, 'subreddit_pct'].values)\n",
    "    plt.title(f'% posts in subreddit={subreddit_i}')\n",
    "    plt.show()\n",
    "    # also show counts\n",
    "    print(f'subreddit={subreddit_i}')\n",
    "    subreddit_pct_counts = np.histogram(data_i.loc[:, 'subreddit_pct'].values, bins=bins)\n",
    "    subreddit_pct_counts = pd.Series(subreddit_pct_counts[0], index=subreddit_pct_counts[1][:-1])\n",
    "    print(f'value counts = \\n{subreddit_pct_counts}')\n",
    "    # compute percentiles\n",
    "    subreddit_cutoff_pct = np.percentile(data_i.loc[:, 'subreddit_pct'].values, percentile_cutoff)\n",
    "    subreddit_cutoff_pct_val_counts = pd.Series(np.digitize(data_i.loc[:, 'subreddit_pct'].values, [subreddit_cutoff_pct])).value_counts()\n",
    "    print(f'value cutoff = {\"{:.3f}\".format(subreddit_cutoff_pct)}; percentiles =\\n{subreddit_cutoff_pct_val_counts}')"
   ]
  },
  {
   "cell_type": "markdown",
   "metadata": {},
   "source": [
    "We see that the \"expert\" category is very sparse; can we expand this with nearest-neighbor subreddits?"
   ]
  },
  {
   "cell_type": "code",
   "execution_count": 100,
   "metadata": {
    "scrolled": true
   },
   "outputs": [],
   "source": [
    "import re\n",
    "import os\n",
    "from sklearn.metrics.pairwise import cosine_similarity\n",
    "from datetime import datetime\n",
    "embed_data_dir = '../../data/reddit_data/author_data/'\n",
    "subreddit_embed_file_matcher = re.compile('subreddit_embeddings_.*gz')\n",
    "subreddit_embed_files = list(filter(lambda x: subreddit_embed_file_matcher.match(x) is not None, os.listdir(embed_data_dir)))\n",
    "subreddit_embed_files = list(map(lambda x: os.path.join(embed_data_dir, x), subreddit_embed_files))\n",
    "subreddit_nearest_neighbors = []\n",
    "subreddits_to_query = author_question_data.loc[:, 'question_subreddit'].unique()\n",
    "top_k = 10\n",
    "date_fmt = '%Y-%m-%d'\n",
    "for subreddit_embed_file_i in subreddit_embed_files:\n",
    "    subreddit_embed_date_i = os.path.basename(subreddit_embed_file_i).split('.')[0].split('_')[-1]\n",
    "    subreddit_embed_date_i = datetime.strptime(subreddit_embed_date_i, date_fmt)\n",
    "    subreddit_embed_i = pd.read_csv(subreddit_embed_file_i, sep='\\t', compression='gzip', index_col=0)\n",
    "    for subreddit_j in subreddits_to_query:\n",
    "        # find nearest neighbors\n",
    "        if(subreddit_j in subreddit_embed_i.index):\n",
    "            embed_sim_j = cosine_similarity(subreddit_embed_i.loc[[subreddit_j], :].values,\n",
    "                                            Y=subreddit_embed_i.values)[0, :]\n",
    "            embed_sim_j = pd.Series(embed_sim_j, index=subreddit_embed_i.index).sort_values(ascending=False, inplace=False)\n",
    "            top_k_neighbors_j = embed_sim_j.index.tolist()[1:(top_k+1)]\n",
    "            subreddit_nearest_neighbors.append([subreddit_j, subreddit_embed_date_i, top_k_neighbors_j])\n",
    "subreddit_nearest_neighbors = pd.DataFrame(subreddit_nearest_neighbors, columns=['subreddit', 'date', 'neighbors'])"
   ]
  },
  {
   "cell_type": "code",
   "execution_count": 101,
   "metadata": {
    "scrolled": true
   },
   "outputs": [
    {
     "data": {
      "text/html": [
       "<div>\n",
       "<style scoped>\n",
       "    .dataframe tbody tr th:only-of-type {\n",
       "        vertical-align: middle;\n",
       "    }\n",
       "\n",
       "    .dataframe tbody tr th {\n",
       "        vertical-align: top;\n",
       "    }\n",
       "\n",
       "    .dataframe thead th {\n",
       "        text-align: right;\n",
       "    }\n",
       "</style>\n",
       "<table border=\"1\" class=\"dataframe\">\n",
       "  <thead>\n",
       "    <tr style=\"text-align: right;\">\n",
       "      <th></th>\n",
       "      <th>subreddit</th>\n",
       "      <th>date</th>\n",
       "      <th>neighbors</th>\n",
       "    </tr>\n",
       "  </thead>\n",
       "  <tbody>\n",
       "    <tr>\n",
       "      <th>3</th>\n",
       "      <td>Advice</td>\n",
       "      <td>2019-01-01</td>\n",
       "      <td>[Needafriend, Psychic, needadvice, SuicideWatch, mentalhealth, getdisciplined, Rateme, amiugly, Anxiety, rant]</td>\n",
       "    </tr>\n",
       "    <tr>\n",
       "      <th>8</th>\n",
       "      <td>Advice</td>\n",
       "      <td>2018-01-01</td>\n",
       "      <td>[dating_advice, socialskills, NoFap, AskDocs, Aquariums, SuicideWatch, Austin, confession, runescape, tipofmytongue]</td>\n",
       "    </tr>\n",
       "    <tr>\n",
       "      <th>17</th>\n",
       "      <td>Advice</td>\n",
       "      <td>2019-07-01</td>\n",
       "      <td>[answers, Needafriend, MakeNewFriendsHere, lawofattraction, Instagram, NoFap, amiugly, SuicideWatch, medical, ask]</td>\n",
       "    </tr>\n",
       "    <tr>\n",
       "      <th>12</th>\n",
       "      <td>Advice</td>\n",
       "      <td>2018-07-01</td>\n",
       "      <td>[MakeNewFriendsHere, SuicideWatch, rant, socialskills, Marriage, ApplyingToCollege, amiugly, Anxiety, solotravel, stopdrinking]</td>\n",
       "    </tr>\n",
       "    <tr>\n",
       "      <th>18</th>\n",
       "      <td>AmItheAsshole</td>\n",
       "      <td>2019-07-01</td>\n",
       "      <td>[PurplePillDebate, survivor, 6thForm, EntitledBitch, kpop, discgolf, pettyrevenge, BravoRealHousewives, notliketheothergirls, blackladies]</td>\n",
       "    </tr>\n",
       "    <tr>\n",
       "      <th>4</th>\n",
       "      <td>AmItheAsshole</td>\n",
       "      <td>2019-01-01</td>\n",
       "      <td>[IsItBullshit, asktransgender, ftm, bisexual, newzealand, pettyrevenge, LetsNotMeet, melbourne, astrology, britishproblems]</td>\n",
       "    </tr>\n",
       "    <tr>\n",
       "      <th>13</th>\n",
       "      <td>AmItheAsshole</td>\n",
       "      <td>2018-07-01</td>\n",
       "      <td>[unpopularopinion, TooAfraidToAsk, TrueOffMyChest, offmychest, AMA, rant, AskDocs, TalesFromYourServer, casualiama, changemyview]</td>\n",
       "    </tr>\n",
       "    <tr>\n",
       "      <th>2</th>\n",
       "      <td>legaladvice</td>\n",
       "      <td>2019-01-01</td>\n",
       "      <td>[Insurance, legaladviceofftopic, bestoflegaladvice, LawSchool, sanfrancisco, Scams, LegalAdviceUK, ProtectAndServe, Divorce, chicago]</td>\n",
       "    </tr>\n",
       "    <tr>\n",
       "      <th>16</th>\n",
       "      <td>legaladvice</td>\n",
       "      <td>2019-07-01</td>\n",
       "      <td>[legaladvicecanada, Insurance, legaladviceofftopic, LawSchool, lawschooladmissions, polyamory, Landlord, AskHR, Veterans, bestoflegaladvice]</td>\n",
       "    </tr>\n",
       "    <tr>\n",
       "      <th>7</th>\n",
       "      <td>legaladvice</td>\n",
       "      <td>2018-01-01</td>\n",
       "      <td>[bestoflegaladvice, LawSchool, Aquariums, askcarsales, Accounting, JUSTNOMIL, exmormon, Austin, Seattle, bicycling]</td>\n",
       "    </tr>\n",
       "    <tr>\n",
       "      <th>11</th>\n",
       "      <td>legaladvice</td>\n",
       "      <td>2018-07-01</td>\n",
       "      <td>[bestoflegaladvice, Insurance, Roadcam, sanfrancisco, homeowners, LawSchool, PersonalFinanceCanada, magicTCG, canada, washingtondc]</td>\n",
       "    </tr>\n",
       "    <tr>\n",
       "      <th>1</th>\n",
       "      <td>pcmasterrace</td>\n",
       "      <td>2019-01-01</td>\n",
       "      <td>[watercooling, BulletBarry, overclocking, bapcsalescanada, linuxmasterrace, WorldOfWarships, oculus, Monitors, SuggestALaptop, EliteDangerous]</td>\n",
       "    </tr>\n",
       "    <tr>\n",
       "      <th>6</th>\n",
       "      <td>pcmasterrace</td>\n",
       "      <td>2018-01-01</td>\n",
       "      <td>[Vive, witcher, nvidia, ultrawidemasterrace, Twitch, totalwar, pcgaming, ClashRoyale, WorldofTanks, KerbalSpaceProgram]</td>\n",
       "    </tr>\n",
       "    <tr>\n",
       "      <th>10</th>\n",
       "      <td>pcmasterrace</td>\n",
       "      <td>2018-07-01</td>\n",
       "      <td>[watercooling, steam_giveaway, EliteDangerous, nvidia, headphones, Steam, playrust, starcitizen, EscapefromTarkov, Battlefield]</td>\n",
       "    </tr>\n",
       "    <tr>\n",
       "      <th>15</th>\n",
       "      <td>pcmasterrace</td>\n",
       "      <td>2019-07-01</td>\n",
       "      <td>[Corsair, buildmeapc, overclocking, watercooling, LogitechG, razer, SatisfactoryGame, simracing, csgo, PUBATTLEGROUNDS]</td>\n",
       "    </tr>\n",
       "    <tr>\n",
       "      <th>0</th>\n",
       "      <td>personalfinance</td>\n",
       "      <td>2019-01-01</td>\n",
       "      <td>[StudentLoans, CreditCards, churning, tax, whatcarshouldIbuy, DaveRamsey, ynab, AskNYC, Austin, askcarsales]</td>\n",
       "    </tr>\n",
       "    <tr>\n",
       "      <th>5</th>\n",
       "      <td>personalfinance</td>\n",
       "      <td>2018-01-01</td>\n",
       "      <td>[ynab, askcarsales, Accounting, RealEstate, financialindependence, churning, washingtondc, investing, Portland, running]</td>\n",
       "    </tr>\n",
       "    <tr>\n",
       "      <th>14</th>\n",
       "      <td>personalfinance</td>\n",
       "      <td>2019-07-01</td>\n",
       "      <td>[DaveRamsey, churning, CreditCards, StudentLoans, FinancialPlanning, sales, tax, whatcarshouldIbuy, tmobile, ynab]</td>\n",
       "    </tr>\n",
       "    <tr>\n",
       "      <th>9</th>\n",
       "      <td>personalfinance</td>\n",
       "      <td>2018-07-01</td>\n",
       "      <td>[tax, churning, washingtondc, ynab, Insurance, smallbusiness, investing, writing, boston, sanfrancisco]</td>\n",
       "    </tr>\n",
       "  </tbody>\n",
       "</table>\n",
       "</div>"
      ],
      "text/plain": [
       "          subreddit       date                                                                                                                                       neighbors\n",
       "3            Advice 2019-01-01                                  [Needafriend, Psychic, needadvice, SuicideWatch, mentalhealth, getdisciplined, Rateme, amiugly, Anxiety, rant]\n",
       "8            Advice 2018-01-01                            [dating_advice, socialskills, NoFap, AskDocs, Aquariums, SuicideWatch, Austin, confession, runescape, tipofmytongue]\n",
       "17           Advice 2019-07-01                              [answers, Needafriend, MakeNewFriendsHere, lawofattraction, Instagram, NoFap, amiugly, SuicideWatch, medical, ask]\n",
       "12           Advice 2018-07-01                 [MakeNewFriendsHere, SuicideWatch, rant, socialskills, Marriage, ApplyingToCollege, amiugly, Anxiety, solotravel, stopdrinking]\n",
       "18    AmItheAsshole 2019-07-01      [PurplePillDebate, survivor, 6thForm, EntitledBitch, kpop, discgolf, pettyrevenge, BravoRealHousewives, notliketheothergirls, blackladies]\n",
       "4     AmItheAsshole 2019-01-01                     [IsItBullshit, asktransgender, ftm, bisexual, newzealand, pettyrevenge, LetsNotMeet, melbourne, astrology, britishproblems]\n",
       "13    AmItheAsshole 2018-07-01               [unpopularopinion, TooAfraidToAsk, TrueOffMyChest, offmychest, AMA, rant, AskDocs, TalesFromYourServer, casualiama, changemyview]\n",
       "2       legaladvice 2019-01-01           [Insurance, legaladviceofftopic, bestoflegaladvice, LawSchool, sanfrancisco, Scams, LegalAdviceUK, ProtectAndServe, Divorce, chicago]\n",
       "16      legaladvice 2019-07-01    [legaladvicecanada, Insurance, legaladviceofftopic, LawSchool, lawschooladmissions, polyamory, Landlord, AskHR, Veterans, bestoflegaladvice]\n",
       "7       legaladvice 2018-01-01                             [bestoflegaladvice, LawSchool, Aquariums, askcarsales, Accounting, JUSTNOMIL, exmormon, Austin, Seattle, bicycling]\n",
       "11      legaladvice 2018-07-01             [bestoflegaladvice, Insurance, Roadcam, sanfrancisco, homeowners, LawSchool, PersonalFinanceCanada, magicTCG, canada, washingtondc]\n",
       "1      pcmasterrace 2019-01-01  [watercooling, BulletBarry, overclocking, bapcsalescanada, linuxmasterrace, WorldOfWarships, oculus, Monitors, SuggestALaptop, EliteDangerous]\n",
       "6      pcmasterrace 2018-01-01                         [Vive, witcher, nvidia, ultrawidemasterrace, Twitch, totalwar, pcgaming, ClashRoyale, WorldofTanks, KerbalSpaceProgram]\n",
       "10     pcmasterrace 2018-07-01                 [watercooling, steam_giveaway, EliteDangerous, nvidia, headphones, Steam, playrust, starcitizen, EscapefromTarkov, Battlefield]\n",
       "15     pcmasterrace 2019-07-01                         [Corsair, buildmeapc, overclocking, watercooling, LogitechG, razer, SatisfactoryGame, simracing, csgo, PUBATTLEGROUNDS]\n",
       "0   personalfinance 2019-01-01                                    [StudentLoans, CreditCards, churning, tax, whatcarshouldIbuy, DaveRamsey, ynab, AskNYC, Austin, askcarsales]\n",
       "5   personalfinance 2018-01-01                        [ynab, askcarsales, Accounting, RealEstate, financialindependence, churning, washingtondc, investing, Portland, running]\n",
       "14  personalfinance 2019-07-01                              [DaveRamsey, churning, CreditCards, StudentLoans, FinancialPlanning, sales, tax, whatcarshouldIbuy, tmobile, ynab]\n",
       "9   personalfinance 2018-07-01                                         [tax, churning, washingtondc, ynab, Insurance, smallbusiness, investing, writing, boston, sanfrancisco]"
      ]
     },
     "metadata": {},
     "output_type": "display_data"
    }
   ],
   "source": [
    "pd.set_option('display.max_colwidth', 500)\n",
    "subreddit_nearest_neighbors.sort_values('subreddit', inplace=True)\n",
    "display(subreddit_nearest_neighbors)"
   ]
  },
  {
   "cell_type": "code",
   "execution_count": 108,
   "metadata": {
    "scrolled": true
   },
   "outputs": [
    {
     "name": "stdout",
     "output_type": "stream",
     "text": [
      "{'Advice': {'socialskills', 'mentalhealth', 'needadvice', 'ask', 'answers', 'tipofmytongue', 'getdisciplined', 'AskDocs', 'dating_advice'}, 'AmItheAsshole': {'IsItBullshit', 'AskDocs', 'TooAfraidToAsk'}, 'legaladvice': {'AskHR', 'LawSchool', 'LegalAdviceUK', 'Insurance', 'bestoflegaladvice', 'Scams', 'Landlord'}, 'pcmasterrace': {'SuggestALaptop', 'buildmeapc', 'overclocking', 'watercooling', 'linuxmasterrace', 'pcgaming', 'Monitors', 'bapcsalescanada'}, 'personalfinance': {'smallbusiness', 'askcarsales', 'ynab', 'FinancialPlanning', 'churning', 'RealEstate', 'whatcarshouldIbuy', 'StudentLoans', 'CreditCards', 'investing', 'financialindependence', 'Accounting', 'tax'}}\n"
     ]
    }
   ],
   "source": [
    "## filtered data\n",
    "valid_subreddits = {\n",
    "    'Advice' : {'needadvice', 'mentalhealth', 'getdisciplined', 'dating_advice', 'socialskills', 'AskDocs', 'tipofmytongue', 'answers', 'ask'},\n",
    "    'AmItheAsshole' : {'IsItBullshit', 'TooAfraidToAsk', 'AskDocs'},\n",
    "    'legaladvice' : {'Insurance', 'bestoflegaladvice', 'LawSchool', 'Scams', 'LegalAdviceUK', 'Landlord', 'AskHR'},\n",
    "    'pcmasterrace' : {'watercooling', 'overclocking', 'bapcsalescanada', 'linuxmasterrace', 'Monitors', 'SuggestALaptop', 'pcgaming', 'buildmeapc'},\n",
    "    'personalfinance' : {'StudentLoans', 'CreditCards', 'churning', 'tax', 'whatcarshouldIbuy', 'ynab', 'askcarsales', 'Accounting', 'RealEstate', 'financialindependence', 'investing', 'FinancialPlanning', 'smallbusiness'},\n",
    "}\n",
    "from functools import reduce\n",
    "subreddit_nearest_neighbors = subreddit_nearest_neighbors.assign(**{\n",
    "    'valid_neighbors' : subreddit_nearest_neighbors.apply(lambda x: set(x.loc['neighbors']) & valid_subreddits[x.loc['subreddit']], axis=1)\n",
    "})\n",
    "## combine into one set per subreddit\n",
    "subreddit_combined_neighbors = subreddit_nearest_neighbors.groupby('subreddit').apply(lambda x: set(reduce(lambda a,b: a|b, x.loc[:, 'valid_neighbors'].values))).to_dict()\n",
    "print(subreddit_combined_neighbors)"
   ]
  },
  {
   "cell_type": "code",
   "execution_count": 249,
   "metadata": {
    "scrolled": true
   },
   "outputs": [
    {
     "data": {
      "text/html": [
       "<div>\n",
       "<style scoped>\n",
       "    .dataframe tbody tr th:only-of-type {\n",
       "        vertical-align: middle;\n",
       "    }\n",
       "\n",
       "    .dataframe tbody tr th {\n",
       "        vertical-align: top;\n",
       "    }\n",
       "\n",
       "    .dataframe thead th {\n",
       "        text-align: right;\n",
       "    }\n",
       "</style>\n",
       "<table border=\"1\" class=\"dataframe\">\n",
       "  <thead>\n",
       "    <tr style=\"text-align: right;\">\n",
       "      <th></th>\n",
       "      <th>subreddit</th>\n",
       "      <th>neighbors</th>\n",
       "    </tr>\n",
       "  </thead>\n",
       "  <tbody>\n",
       "    <tr>\n",
       "      <th>0</th>\n",
       "      <td>Advice</td>\n",
       "      <td>{getdisciplined, mentalhealth, AskDocs, social...</td>\n",
       "    </tr>\n",
       "    <tr>\n",
       "      <th>1</th>\n",
       "      <td>AmItheAsshole</td>\n",
       "      <td>{IsItBullshit, TooAfraidToAsk, AskDocs}</td>\n",
       "    </tr>\n",
       "    <tr>\n",
       "      <th>2</th>\n",
       "      <td>legaladvice</td>\n",
       "      <td>{LawSchool, Insurance, bestoflegaladvice, Lega...</td>\n",
       "    </tr>\n",
       "    <tr>\n",
       "      <th>3</th>\n",
       "      <td>pcmasterrace</td>\n",
       "      <td>{pcgaming, Monitors, linuxmasterrace, SuggestA...</td>\n",
       "    </tr>\n",
       "    <tr>\n",
       "      <th>4</th>\n",
       "      <td>personalfinance</td>\n",
       "      <td>{whatcarshouldIbuy, Accounting, askcarsales, c...</td>\n",
       "    </tr>\n",
       "  </tbody>\n",
       "</table>\n",
       "</div>"
      ],
      "text/plain": [
       "         subreddit                                          neighbors\n",
       "0           Advice  {getdisciplined, mentalhealth, AskDocs, social...\n",
       "1    AmItheAsshole            {IsItBullshit, TooAfraidToAsk, AskDocs}\n",
       "2      legaladvice  {LawSchool, Insurance, bestoflegaladvice, Lega...\n",
       "3     pcmasterrace  {pcgaming, Monitors, linuxmasterrace, SuggestA...\n",
       "4  personalfinance  {whatcarshouldIbuy, Accounting, askcarsales, c..."
      ]
     },
     "metadata": {},
     "output_type": "display_data"
    }
   ],
   "source": [
    "## write to file for later\n",
    "clean_subreddit_neighbor_data = pd.DataFrame(pd.Series({'Advice': {'socialskills', 'mentalhealth', 'needadvice', 'ask', 'answers', 'tipofmytongue', 'getdisciplined', 'AskDocs', 'dating_advice'}, 'AmItheAsshole': {'IsItBullshit', 'AskDocs', 'TooAfraidToAsk'}, 'legaladvice': {'AskHR', 'LawSchool', 'LegalAdviceUK', 'Insurance', 'bestoflegaladvice', 'Scams', 'Landlord'}, 'pcmasterrace': {'SuggestALaptop', 'buildmeapc', 'overclocking', 'watercooling', 'linuxmasterrace', 'pcgaming', 'Monitors', 'bapcsalescanada'}, 'personalfinance': {'smallbusiness', 'askcarsales', 'ynab', 'FinancialPlanning', 'churning', 'RealEstate', 'whatcarshouldIbuy', 'StudentLoans', 'CreditCards', 'investing', 'financialindependence', 'Accounting', 'tax'}}))\n",
    "clean_subreddit_neighbor_data = clean_subreddit_neighbor_data.reset_index(inplace=False).rename(columns={'index' : 'subreddit', 0 : 'neighbors'})\n",
    "display(clean_subreddit_neighbor_data.head())\n",
    "clean_subreddit_neighbor_data.to_csv('../../data/reddit_data/author_data/advice_subreddit_neighbors.tsv', sep='\\t', index=False)"
   ]
  },
  {
   "cell_type": "markdown",
   "metadata": {},
   "source": [
    "Now that we have the nearest neighbors, let's re-run the \"expert\" tests."
   ]
  },
  {
   "cell_type": "code",
   "execution_count": 116,
   "metadata": {},
   "outputs": [],
   "source": [
    "def get_subreddit_neighbors_pct_per_author_per_date(data, start_date, neighbors):\n",
    "    data.drop_duplicates('id', inplace=True)\n",
    "    valid_data = data[data.loc[:, 'date_day_bin'] <= start_date]\n",
    "    subreddit = data.loc[:, 'question_subreddit'].iloc[0]\n",
    "    subreddit_neighbors = neighbors[subreddit]\n",
    "    subreddit_pct = (data.loc[:, 'subreddit'].apply(lambda x: x==subreddit or x in subreddit_neighbors)).sum() / data.shape[0]\n",
    "    return subreddit_pct"
   ]
  },
  {
   "cell_type": "code",
   "execution_count": 117,
   "metadata": {},
   "outputs": [
    {
     "name": "stdout",
     "output_type": "stream",
     "text": [
      "**** processing data from subreddit=Advice ****\n"
     ]
    },
    {
     "name": "stderr",
     "output_type": "stream",
     "text": [
      "100%|██████████| 27868/27868 [01:28<00:00, 314.34it/s]\n"
     ]
    },
    {
     "name": "stdout",
     "output_type": "stream",
     "text": [
      "**** processing data from subreddit=AmItheAsshole ****\n"
     ]
    },
    {
     "name": "stderr",
     "output_type": "stream",
     "text": [
      "100%|██████████| 62629/62629 [03:20<00:00, 312.28it/s]\n"
     ]
    },
    {
     "name": "stdout",
     "output_type": "stream",
     "text": [
      "**** processing data from subreddit=legaladvice ****\n"
     ]
    },
    {
     "name": "stderr",
     "output_type": "stream",
     "text": [
      "100%|██████████| 22512/22512 [01:12<00:00, 310.70it/s]\n"
     ]
    },
    {
     "name": "stdout",
     "output_type": "stream",
     "text": [
      "**** processing data from subreddit=pcmasterrace ****\n"
     ]
    },
    {
     "name": "stderr",
     "output_type": "stream",
     "text": [
      "100%|██████████| 17462/17462 [00:55<00:00, 316.34it/s]\n"
     ]
    },
    {
     "name": "stdout",
     "output_type": "stream",
     "text": [
      "**** processing data from subreddit=personalfinance ****\n"
     ]
    },
    {
     "name": "stderr",
     "output_type": "stream",
     "text": [
      "100%|██████████| 37266/37266 [01:59<00:00, 311.35it/s]\n"
     ]
    }
   ],
   "source": [
    "from tqdm import tqdm\n",
    "author_neighbor_subreddit_counts = []\n",
    "for subreddit_i, data_i in author_question_data.groupby(['question_subreddit']):\n",
    "    print(f'**** processing data from subreddit={subreddit_i} ****')\n",
    "    author_neighbor_subreddit_counts_i = []\n",
    "    for (author_j, date_j), data_j in tqdm(data_i.groupby(['author', 'question_date_day_bin'])):\n",
    "        author_neighbor_subreddit_counts_j = get_subreddit_neighbors_pct_per_author_per_date(data_j, data_j.loc[:, 'question_date_day_bin'].iloc[0], subreddit_combined_neighbors)\n",
    "        author_neighbor_subreddit_counts_i.append([author_j, date_j, author_neighbor_subreddit_counts_j])\n",
    "    author_neighbor_subreddit_counts_i = pd.DataFrame(author_neighbor_subreddit_counts_i, columns=['author', 'date', 'subreddit_pct'])\n",
    "    author_neighbor_subreddit_counts_i = author_neighbor_subreddit_counts_i.assign(**{'subreddit' : subreddit_i})\n",
    "    author_neighbor_subreddit_counts.append(author_neighbor_subreddit_counts_i)\n",
    "author_neighbor_subreddit_counts = pd.concat(author_neighbor_subreddit_counts, axis=0)"
   ]
  },
  {
   "cell_type": "code",
   "execution_count": 147,
   "metadata": {
    "scrolled": true
   },
   "outputs": [
    {
     "data": {
      "image/png": "[encoded data removed]",
      "text/plain": [
       "<Figure size 432x288 with 1 Axes>"
      ]
     },
     "metadata": {
      "needs_background": "light"
     },
     "output_type": "display_data"
    },
    {
     "name": "stdout",
     "output_type": "stream",
     "text": [
      "subreddit=Advice\n",
      "value counts = \n",
      "0.0    19818\n",
      "0.1     3073\n",
      "0.2     1414\n",
      "0.3      846\n",
      "0.4      574\n",
      "0.5      524\n",
      "0.6      336\n",
      "0.7      262\n",
      "0.8      240\n",
      "0.9      781\n",
      "dtype: int64\n",
      "value cutoff = 0.121; percentiles =\n",
      "0    20827\n",
      "1     7041\n",
      "dtype: int64\n"
     ]
    },
    {
     "data": {
      "image/png": "[encoded data removed]",
      "text/plain": [
       "<Figure size 432x288 with 1 Axes>"
      ]
     },
     "metadata": {
      "needs_background": "light"
     },
     "output_type": "display_data"
    },
    {
     "name": "stdout",
     "output_type": "stream",
     "text": [
      "subreddit=AmItheAsshole\n",
      "value counts = \n",
      "0.0    41490\n",
      "0.1     7612\n",
      "0.2     4026\n",
      "0.3     2416\n",
      "0.4     1782\n",
      "0.5     1487\n",
      "0.6      991\n",
      "0.7      805\n",
      "0.8      735\n",
      "0.9     1285\n",
      "dtype: int64\n",
      "value cutoff = 0.162; percentiles =\n",
      "0    46933\n",
      "1    15696\n",
      "dtype: int64\n"
     ]
    },
    {
     "data": {
      "image/png": "[encoded data removed]",
      "text/plain": [
       "<Figure size 432x288 with 1 Axes>"
      ]
     },
     "metadata": {
      "needs_background": "light"
     },
     "output_type": "display_data"
    },
    {
     "name": "stdout",
     "output_type": "stream",
     "text": [
      "subreddit=legaladvice\n",
      "value counts = \n",
      "0.0    17406\n",
      "0.1     1781\n",
      "0.2      918\n",
      "0.3      502\n",
      "0.4      334\n",
      "0.5      333\n",
      "0.6      232\n",
      "0.7      219\n",
      "0.8      250\n",
      "0.9      537\n",
      "dtype: int64\n",
      "value cutoff = 0.081; percentiles =\n",
      "0    16863\n",
      "1     5649\n",
      "dtype: int64\n"
     ]
    },
    {
     "data": {
      "image/png": "[encoded data removed]",
      "text/plain": [
       "<Figure size 432x288 with 1 Axes>"
      ]
     },
     "metadata": {
      "needs_background": "light"
     },
     "output_type": "display_data"
    },
    {
     "name": "stdout",
     "output_type": "stream",
     "text": [
      "subreddit=pcmasterrace\n",
      "value counts = \n",
      "0.0    10939\n",
      "0.1     2413\n",
      "0.2     1402\n",
      "0.3      814\n",
      "0.4      542\n",
      "0.5      446\n",
      "0.6      303\n",
      "0.7      216\n",
      "0.8      145\n",
      "0.9      242\n",
      "dtype: int64\n",
      "value cutoff = 0.184; percentiles =\n",
      "0    13089\n",
      "1     4373\n",
      "dtype: int64\n"
     ]
    },
    {
     "data": {
      "image/png": "[encoded data removed]",
      "text/plain": [
       "<Figure size 432x288 with 1 Axes>"
      ]
     },
     "metadata": {
      "needs_background": "light"
     },
     "output_type": "display_data"
    },
    {
     "name": "stdout",
     "output_type": "stream",
     "text": [
      "subreddit=personalfinance\n",
      "value counts = \n",
      "0.0    26991\n",
      "0.1     3634\n",
      "0.2     1810\n",
      "0.3     1141\n",
      "0.4      774\n",
      "0.5      743\n",
      "0.6      533\n",
      "0.7      411\n",
      "0.8      405\n",
      "0.9      824\n",
      "dtype: int64\n",
      "value cutoff = 0.112; percentiles =\n",
      "0    27898\n",
      "1     9368\n",
      "dtype: int64\n"
     ]
    }
   ],
   "source": [
    "import matplotlib\n",
    "%matplotlib inline\n",
    "import matplotlib.pyplot as plt\n",
    "bins = 10\n",
    "percentile_cutoff = 75\n",
    "for subreddit_i, data_i in author_subreddit_neighbor_counts.groupby('subreddit'):\n",
    "    plt.hist(data_i.loc[:, 'subreddit_pct'].values, bins=bins)\n",
    "    plt.title(f'% posts in subreddit={subreddit_i}')\n",
    "    plt.show()\n",
    "    # also show counts\n",
    "    print(f'subreddit={subreddit_i}')\n",
    "    subreddit_pct_counts = np.histogram(data_i.loc[:, 'subreddit_pct'].values, bins=bins)\n",
    "    subreddit_pct_counts = pd.Series(subreddit_pct_counts[0], index=subreddit_pct_counts[1][:-1])\n",
    "    print(f'value counts = \\n{subreddit_pct_counts}')\n",
    "    # compute percentiles\n",
    "    subreddit_cutoff_pct = np.percentile(data_i.loc[:, 'subreddit_pct'].values, percentile_cutoff)\n",
    "    subreddit_cutoff_pct_val_counts = pd.Series(np.digitize(data_i.loc[:, 'subreddit_pct'].values, [subreddit_cutoff_pct])).value_counts()\n",
    "    print(f'value cutoff = {\"{:.3f}\".format(subreddit_cutoff_pct)}; percentiles =\\n{subreddit_cutoff_pct_val_counts}')"
   ]
  },
  {
   "cell_type": "markdown",
   "metadata": {},
   "source": [
    "OK! We don't see a huge change in the distributions overall, except for maybe a few hundred authors in each subreddit."
   ]
  },
  {
   "cell_type": "markdown",
   "metadata": {},
   "source": [
    "## Expand location\n",
    "We have previously identified an author's location based on whether they disclose their location in prior comments (\"I live in ___\").\n",
    "\n",
    "Let's expand this by looking at location-specific subreddits."
   ]
  },
  {
   "cell_type": "code",
   "execution_count": 5,
   "metadata": {},
   "outputs": [
    {
     "name": "stdout",
     "output_type": "stream",
     "text": [
      "86676\n"
     ]
    }
   ],
   "source": [
    "author_subreddits = author_data.loc[:, 'subreddit'].unique()\n",
    "print(len(author_subreddits))"
   ]
  },
  {
   "cell_type": "code",
   "execution_count": 7,
   "metadata": {},
   "outputs": [
    {
     "data": {
      "text/plain": [
       "True"
      ]
     },
     "execution_count": 7,
     "metadata": {},
     "output_type": "execute_result"
    }
   ],
   "source": [
    "'nyc' in author_subreddits"
   ]
  },
  {
   "cell_type": "code",
   "execution_count": 9,
   "metadata": {},
   "outputs": [
    {
     "data": {
      "text/plain": [
       "AskReddit              1095276\n",
       "AmItheAsshole           686828\n",
       "pcmasterrace            263390\n",
       "Advice                  210694\n",
       "politics                209760\n",
       "personalfinance         204087\n",
       "relationship_advice     176220\n",
       "wallstreetbets          154976\n",
       "legaladvice             139826\n",
       "unpopularopinion        135142\n",
       "Name: subreddit, dtype: int64"
      ]
     },
     "metadata": {},
     "output_type": "display_data"
    }
   ],
   "source": [
    "## get top subreddits for location? will save time\n",
    "subreddit_counts = author_data.loc[:, 'subreddit'].value_counts()\n",
    "display(subreddit_counts.head(10))"
   ]
  },
  {
   "cell_type": "code",
   "execution_count": 14,
   "metadata": {},
   "outputs": [
    {
     "data": {
      "text/plain": [
       "germany    2344\n",
       "Name: subreddit, dtype: int64"
      ]
     },
     "execution_count": 14,
     "metadata": {},
     "output_type": "execute_result"
    }
   ],
   "source": [
    "subreddit_counts[subreddit_counts.index == 'germany']"
   ]
  },
  {
   "cell_type": "code",
   "execution_count": 29,
   "metadata": {},
   "outputs": [
    {
     "data": {
      "text/plain": [
       "LosAngeles    8743\n",
       "Name: subreddit, dtype: int64"
      ]
     },
     "execution_count": 29,
     "metadata": {},
     "output_type": "execute_result"
    }
   ],
   "source": [
    "subreddit_counts[subreddit_counts.index == 'LosAngeles']"
   ]
  },
  {
   "cell_type": "code",
   "execution_count": 26,
   "metadata": {},
   "outputs": [
    {
     "name": "stdout",
     "output_type": "stream",
     "text": [
      "466.3000000000029\n",
      "4334\n"
     ]
    }
   ],
   "source": [
    "import numpy as np\n",
    "min_subreddit_count_pct = 95\n",
    "min_subreddit_count = np.percentile(subreddit_counts, min_subreddit_count_pct)\n",
    "print(min_subreddit_count)\n",
    "cutoff_subreddit_counts = subreddit_counts[subreddit_counts >= min_subreddit_count]\n",
    "print(len(cutoff_subreddit_counts))"
   ]
  },
  {
   "cell_type": "code",
   "execution_count": 74,
   "metadata": {},
   "outputs": [
    {
     "name": "stdout",
     "output_type": "stream",
     "text": [
      "<[OK] Osm - Geocode [Michigan, United States]>\n"
     ]
    }
   ],
   "source": [
    "## naive approach: identify all possible locations in subreddit names by geolocation lol\n",
    "import geocoder\n",
    "test_location = 'Michigan'\n",
    "test_location_estimate = geocoder.osm(test_location)\n",
    "print(test_location_estimate)"
   ]
  },
  {
   "cell_type": "code",
   "execution_count": 76,
   "metadata": {
    "scrolled": false
   },
   "outputs": [
    {
     "name": "stdout",
     "output_type": "stream",
     "text": [
      "Test Sub Name\n"
     ]
    }
   ],
   "source": [
    "from tqdm import tqdm\n",
    "# first split camel cases\n",
    "import re\n",
    "CAMEL_CASE_MATCHER = re.compile('([a-z])(?=[A-Z])')\n",
    "def split_subreddit_name(name):\n",
    "    split_name = name\n",
    "    # add spaces from the end of word\n",
    "    for match in reversed(list(CAMEL_CASE_MATCHER.finditer(name))):\n",
    "        span_start, span_end = match.span()\n",
    "        split_name = split_name[:span_start+1] + ' ' + split_name[span_end:]\n",
    "    # also fix underscores\n",
    "    split_name = split_name.replace('_', ' ')\n",
    "    return split_name\n",
    "test_location = 'TestSubName'\n",
    "print(split_subreddit_name(test_location))"
   ]
  },
  {
   "cell_type": "code",
   "execution_count": 77,
   "metadata": {},
   "outputs": [
    {
     "name": "stdout",
     "output_type": "stream",
     "text": [
      "['Ask Reddit', 'Am Ithe Asshole', 'pcmasterrace', 'Advice', 'politics', 'personalfinance', 'relationship advice', 'wallstreetbets', 'legaladvice', 'unpopularopinion']\n"
     ]
    }
   ],
   "source": [
    "clean_subreddit_names = cutoff_subreddit_counts.index.tolist()\n",
    "clean_subreddit_names = list(map(split_subreddit_name, clean_subreddit_names))\n",
    "print(clean_subreddit_names[:10])"
   ]
  },
  {
   "cell_type": "code",
   "execution_count": 79,
   "metadata": {
    "scrolled": false
   },
   "outputs": [
    {
     "name": "stdout",
     "output_type": "stream",
     "text": [
      "['Ask Reddit', 'Am Ithe Asshole', 'relationship advice', 'Public Freakout', 'No Stupid Questions', 'Ask Men', 'Reddit Sessions', 'Ask Ouija', 'White People Twitter', 'Roast Me', 'Life Pro Tips', 'Ask Women', 'Too Afraid To Ask', 'True Off My Chest', 'Two XChromosomes', 'Escapefrom Tarkov', 'Idiots In Cars', 'Political Humor', 'Choosing Beggars', 'Destiny The Game']\n"
     ]
    }
   ],
   "source": [
    "# sample reddits with split names\n",
    "print(list(filter(lambda x: ' ' in x, clean_subreddit_names))[:20])"
   ]
  },
  {
   "cell_type": "code",
   "execution_count": 80,
   "metadata": {},
   "outputs": [
    {
     "name": "stderr",
     "output_type": "stream",
     "text": [
      " 93%|█████████▎| 4046/4334 [33:46<02:30,  1.92it/s]Status code Unknown from https://nominatim.openstreetmap.org/search: ERROR - HTTPSConnectionPool(host='nominatim.openstreetmap.org', port=443): Max retries exceeded with url: /search?q=Maladaptive+Dreaming&format=jsonv2&addressdetails=1&limit=1 (Caused by SSLError(OSError(24, 'Too many open files')))\n",
      "Status code Unknown from https://nominatim.openstreetmap.org/search: ERROR - HTTPSConnectionPool(host='nominatim.openstreetmap.org', port=443): Max retries exceeded with url: /search?q=mealtimevideos&format=jsonv2&addressdetails=1&limit=1 (Caused by SSLError(OSError(24, 'Too many open files')))\n",
      " 93%|█████████▎| 4048/4334 [33:46<01:28,  3.24it/s]Status code Unknown from https://nominatim.openstreetmap.org/search: ERROR - HTTPSConnectionPool(host='nominatim.openstreetmap.org', port=443): Max retries exceeded with url: /search?q=tinytower&format=jsonv2&addressdetails=1&limit=1 (Caused by SSLError(OSError(24, 'Too many open files')))\n",
      "Status code Unknown from https://nominatim.openstreetmap.org/search: ERROR - HTTPSConnectionPool(host='nominatim.openstreetmap.org', port=443): Max retries exceeded with url: /search?q=subredditcancer&format=jsonv2&addressdetails=1&limit=1 (Caused by SSLError(OSError(24, 'Too many open files')))\n",
      " 93%|█████████▎| 4050/4334 [33:46<00:59,  4.77it/s]Status code Unknown from https://nominatim.openstreetmap.org/search: ERROR - HTTPSConnectionPool(host='nominatim.openstreetmap.org', port=443): Max retries exceeded with url: /search?q=Puerto+Rico&format=jsonv2&addressdetails=1&limit=1 (Caused by SSLError(OSError(24, 'Too many open files')))\n",
      "Status code Unknown from https://nominatim.openstreetmap.org/search: ERROR - HTTPSConnectionPool(host='nominatim.openstreetmap.org', port=443): Max retries exceeded with url: /search?q=dryalcoholics&format=jsonv2&addressdetails=1&limit=1 (Caused by SSLError(OSError(24, 'Too many open files')))\n",
      " 93%|█████████▎| 4052/4334 [33:46<00:43,  6.44it/s]Status code Unknown from https://nominatim.openstreetmap.org/search: ERROR - HTTPSConnectionPool(host='nominatim.openstreetmap.org', port=443): Max retries exceeded with url: /search?q=xxketo4u2&format=jsonv2&addressdetails=1&limit=1 (Caused by SSLError(OSError(24, 'Too many open files')))\n",
      "Status code Unknown from https://nominatim.openstreetmap.org/search: ERROR - HTTPSConnectionPool(host='nominatim.openstreetmap.org', port=443): Max retries exceeded with url: /search?q=Pink+Omega&format=jsonv2&addressdetails=1&limit=1 (Caused by SSLError(OSError(24, 'Too many open files')))\n",
      " 94%|█████████▎| 4054/4334 [33:46<00:34,  8.16it/s]Status code Unknown from https://nominatim.openstreetmap.org/search: ERROR - HTTPSConnectionPool(host='nominatim.openstreetmap.org', port=443): Max retries exceeded with url: /search?q=Pro+Create&format=jsonv2&addressdetails=1&limit=1 (Caused by SSLError(OSError(24, 'Too many open files')))\n",
      "Status code Unknown from https://nominatim.openstreetmap.org/search: ERROR - HTTPSConnectionPool(host='nominatim.openstreetmap.org', port=443): Max retries exceeded with url: /search?q=Why+Women+Live+Longer&format=jsonv2&addressdetails=1&limit=1 (Caused by SSLError(OSError(24, 'Too many open files')))\n",
      " 94%|█████████▎| 4056/4334 [33:46<00:28,  9.80it/s]Status code Unknown from https://nominatim.openstreetmap.org/search: ERROR - HTTPSConnectionPool(host='nominatim.openstreetmap.org', port=443): Max retries exceeded with url: /search?q=Roku&format=jsonv2&addressdetails=1&limit=1 (Caused by SSLError(OSError(24, 'Too many open files')))\n",
      "Status code Unknown from https://nominatim.openstreetmap.org/search: ERROR - HTTPSConnectionPool(host='nominatim.openstreetmap.org', port=443): Max retries exceeded with url: /search?q=kdramarecommends&format=jsonv2&addressdetails=1&limit=1 (Caused by SSLError(OSError(24, 'Too many open files')))\n",
      " 94%|█████████▎| 4058/4334 [33:46<00:24, 11.29it/s]Status code Unknown from https://nominatim.openstreetmap.org/search: ERROR - HTTPSConnectionPool(host='nominatim.openstreetmap.org', port=443): Max retries exceeded with url: /search?q=Libraries&format=jsonv2&addressdetails=1&limit=1 (Caused by SSLError(OSError(24, 'Too many open files')))\n",
      "Status code Unknown from https://nominatim.openstreetmap.org/search: ERROR - HTTPSConnectionPool(host='nominatim.openstreetmap.org', port=443): Max retries exceeded with url: /search?q=Anxietyhelp&format=jsonv2&addressdetails=1&limit=1 (Caused by SSLError(OSError(24, 'Too many open files')))\n",
      " 94%|█████████▎| 4060/4334 [33:47<00:21, 12.54it/s]Status code Unknown from https://nominatim.openstreetmap.org/search: ERROR - HTTPSConnectionPool(host='nominatim.openstreetmap.org', port=443): Max retries exceeded with url: /search?q=angelsbaseball&format=jsonv2&addressdetails=1&limit=1 (Caused by SSLError(OSError(24, 'Too many open files')))\n",
      "Status code Unknown from https://nominatim.openstreetmap.org/search: ERROR - HTTPSConnectionPool(host='nominatim.openstreetmap.org', port=443): Max retries exceeded with url: /search?q=Ask+AGerman&format=jsonv2&addressdetails=1&limit=1 (Caused by SSLError(OSError(24, 'Too many open files')))\n",
      " 94%|█████████▎| 4062/4334 [33:47<00:19, 13.61it/s]Status code Unknown from https://nominatim.openstreetmap.org/search: ERROR - HTTPSConnectionPool(host='nominatim.openstreetmap.org', port=443): Max retries exceeded with url: /search?q=reddeadfashion&format=jsonv2&addressdetails=1&limit=1 (Caused by SSLError(OSError(24, 'Too many open files')))\n",
      "Status code Unknown from https://nominatim.openstreetmap.org/search: ERROR - HTTPSConnectionPool(host='nominatim.openstreetmap.org', port=443): Max retries exceeded with url: /search?q=bookscirclejerk&format=jsonv2&addressdetails=1&limit=1 (Caused by SSLError(OSError(24, 'Too many open files')))\n",
      " 94%|█████████▍| 4064/4334 [33:48<01:00,  4.49it/s]Status code Unknown from https://nominatim.openstreetmap.org/search: ERROR - HTTPSConnectionPool(host='nominatim.openstreetmap.org', port=443): Max retries exceeded with url: /search?q=Tri+Cities+WA&format=jsonv2&addressdetails=1&limit=1 (Caused by SSLError(OSError(24, 'Too many open files')))\n",
      "Status code Unknown from https://nominatim.openstreetmap.org/search: ERROR - HTTPSConnectionPool(host='nominatim.openstreetmap.org', port=443): Max retries exceeded with url: /search?q=bookshelf&format=jsonv2&addressdetails=1&limit=1 (Caused by SSLError(OSError(24, 'Too many open files')))\n",
      " 94%|█████████▍| 4066/4334 [33:49<01:27,  3.07it/s]Status code Unknown from https://nominatim.openstreetmap.org/search: ERROR - HTTPSConnectionPool(host='nominatim.openstreetmap.org', port=443): Max retries exceeded with url: /search?q=Final+Fantasy+VII&format=jsonv2&addressdetails=1&limit=1 (Caused by SSLError(OSError(24, 'Too many open files')))\n",
      " 94%|█████████▍| 4067/4334 [33:50<02:01,  2.19it/s]Status code Unknown from https://nominatim.openstreetmap.org/search: ERROR - HTTPSConnectionPool(host='nominatim.openstreetmap.org', port=443): Max retries exceeded with url: /search?q=gallifrey&format=jsonv2&addressdetails=1&limit=1 (Caused by SSLError(OSError(24, 'Too many open files')))\n",
      "Status code Unknown from https://nominatim.openstreetmap.org/search: ERROR - HTTPSConnectionPool(host='nominatim.openstreetmap.org', port=443): Max retries exceeded with url: /search?q=goldenknights&format=jsonv2&addressdetails=1&limit=1 (Caused by SSLError(OSError(24, 'Too many open files')))\n",
      " 94%|█████████▍| 4069/4334 [33:50<01:25,  3.10it/s]Status code Unknown from https://nominatim.openstreetmap.org/search: ERROR - HTTPSConnectionPool(host='nominatim.openstreetmap.org', port=443): Max retries exceeded with url: /search?q=Formula+Feeders&format=jsonv2&addressdetails=1&limit=1 (Caused by SSLError(OSError(24, 'Too many open files')))\n",
      " 94%|█████████▍| 4070/4334 [33:51<02:03,  2.14it/s]Status code Unknown from https://nominatim.openstreetmap.org/search: ERROR - HTTPSConnectionPool(host='nominatim.openstreetmap.org', port=443): Max retries exceeded with url: /search?q=Coachella&format=jsonv2&addressdetails=1&limit=1 (Caused by SSLError(OSError(24, 'Too many open files')))\n",
      "Status code Unknown from https://nominatim.openstreetmap.org/search: ERROR - HTTPSConnectionPool(host='nominatim.openstreetmap.org', port=443): Max retries exceeded with url: /search?q=Retro+Pie&format=jsonv2&addressdetails=1&limit=1 (Caused by SSLError(OSError(24, 'Too many open files')))\n"
     ]
    },
    {
     "name": "stderr",
     "output_type": "stream",
     "text": [
      " 94%|█████████▍| 4072/4334 [33:52<02:11,  2.00it/s]Status code Unknown from https://nominatim.openstreetmap.org/search: ERROR - HTTPSConnectionPool(host='nominatim.openstreetmap.org', port=443): Max retries exceeded with url: /search?q=Wilmington&format=jsonv2&addressdetails=1&limit=1 (Caused by SSLError(OSError(24, 'Too many open files')))\n",
      "Status code Unknown from https://nominatim.openstreetmap.org/search: ERROR - HTTPSConnectionPool(host='nominatim.openstreetmap.org', port=443): Max retries exceeded with url: /search?q=Piercing+Advice&format=jsonv2&addressdetails=1&limit=1 (Caused by SSLError(OSError(24, 'Too many open files')))\n",
      " 94%|█████████▍| 4074/4334 [33:53<02:16,  1.90it/s]Status code Unknown from https://nominatim.openstreetmap.org/search: ERROR - HTTPSConnectionPool(host='nominatim.openstreetmap.org', port=443): Max retries exceeded with url: /search?q=serialpodcast&format=jsonv2&addressdetails=1&limit=1 (Caused by SSLError(OSError(24, 'Too many open files')))\n",
      "Status code Unknown from https://nominatim.openstreetmap.org/search: ERROR - HTTPSConnectionPool(host='nominatim.openstreetmap.org', port=443): Max retries exceeded with url: /search?q=Golf+R&format=jsonv2&addressdetails=1&limit=1 (Caused by SSLError(OSError(24, 'Too many open files')))\n",
      " 94%|█████████▍| 4076/4334 [33:54<01:36,  2.67it/s]Status code Unknown from https://nominatim.openstreetmap.org/search: ERROR - HTTPSConnectionPool(host='nominatim.openstreetmap.org', port=443): Max retries exceeded with url: /search?q=poland&format=jsonv2&addressdetails=1&limit=1 (Caused by SSLError(OSError(24, 'Too many open files')))\n",
      " 94%|█████████▍| 4077/4334 [33:55<02:09,  1.98it/s]Status code Unknown from https://nominatim.openstreetmap.org/search: ERROR - HTTPSConnectionPool(host='nominatim.openstreetmap.org', port=443): Max retries exceeded with url: /search?q=Otome+Isekai&format=jsonv2&addressdetails=1&limit=1 (Caused by SSLError(OSError(24, 'Too many open files')))\n",
      "Status code Unknown from https://nominatim.openstreetmap.org/search: ERROR - HTTPSConnectionPool(host='nominatim.openstreetmap.org', port=443): Max retries exceeded with url: /search?q=Targeted+Shirts&format=jsonv2&addressdetails=1&limit=1 (Caused by SSLError(OSError(24, 'Too many open files')))\n",
      " 94%|█████████▍| 4079/4334 [33:56<02:13,  1.91it/s]Status code Unknown from https://nominatim.openstreetmap.org/search: ERROR - HTTPSConnectionPool(host='nominatim.openstreetmap.org', port=443): Max retries exceeded with url: /search?q=ratemyboobs&format=jsonv2&addressdetails=1&limit=1 (Caused by SSLError(OSError(24, 'Too many open files')))\n",
      "Status code Unknown from https://nominatim.openstreetmap.org/search: ERROR - HTTPSConnectionPool(host='nominatim.openstreetmap.org', port=443): Max retries exceeded with url: /search?q=freemagic&format=jsonv2&addressdetails=1&limit=1 (Caused by SSLError(OSError(24, 'Too many open files')))\n",
      " 94%|█████████▍| 4081/4334 [33:57<02:15,  1.87it/s]Status code Unknown from https://nominatim.openstreetmap.org/search: ERROR - HTTPSConnectionPool(host='nominatim.openstreetmap.org', port=443): Max retries exceeded with url: /search?q=gorillaz&format=jsonv2&addressdetails=1&limit=1 (Caused by SSLError(OSError(24, 'Too many open files')))\n",
      "Status code Unknown from https://nominatim.openstreetmap.org/search: ERROR - HTTPSConnectionPool(host='nominatim.openstreetmap.org', port=443): Max retries exceeded with url: /search?q=Light+Novels&format=jsonv2&addressdetails=1&limit=1 (Caused by SSLError(OSError(24, 'Too many open files')))\n",
      " 94%|█████████▍| 4083/4334 [33:58<02:16,  1.84it/s]Status code Unknown from https://nominatim.openstreetmap.org/search: ERROR - HTTPSConnectionPool(host='nominatim.openstreetmap.org', port=443): Max retries exceeded with url: /search?q=magicthecirclejerking&format=jsonv2&addressdetails=1&limit=1 (Caused by SSLError(OSError(24, 'Too many open files')))\n",
      "Status code Unknown from https://nominatim.openstreetmap.org/search: ERROR - HTTPSConnectionPool(host='nominatim.openstreetmap.org', port=443): Max retries exceeded with url: /search?q=nonprofit&format=jsonv2&addressdetails=1&limit=1 (Caused by SSLError(OSError(24, 'Too many open files')))\n",
      " 94%|█████████▍| 4085/4334 [33:58<01:37,  2.56it/s]Status code Unknown from https://nominatim.openstreetmap.org/search: ERROR - HTTPSConnectionPool(host='nominatim.openstreetmap.org', port=443): Max retries exceeded with url: /search?q=aviationmaintenance&format=jsonv2&addressdetails=1&limit=1 (Caused by SSLError(OSError(24, 'Too many open files')))\n",
      " 94%|█████████▍| 4086/4334 [33:59<02:07,  1.94it/s]Status code Unknown from https://nominatim.openstreetmap.org/search: ERROR - HTTPSConnectionPool(host='nominatim.openstreetmap.org', port=443): Max retries exceeded with url: /search?q=MWLoadouts&format=jsonv2&addressdetails=1&limit=1 (Caused by SSLError(OSError(24, 'Too many open files')))\n",
      "Status code Unknown from https://nominatim.openstreetmap.org/search: ERROR - HTTPSConnectionPool(host='nominatim.openstreetmap.org', port=443): Max retries exceeded with url: /search?q=Brunei&format=jsonv2&addressdetails=1&limit=1 (Caused by SSLError(OSError(24, 'Too many open files')))\n",
      " 94%|█████████▍| 4088/4334 [34:00<02:11,  1.87it/s]Status code Unknown from https://nominatim.openstreetmap.org/search: ERROR - HTTPSConnectionPool(host='nominatim.openstreetmap.org', port=443): Max retries exceeded with url: /search?q=Steam+VR&format=jsonv2&addressdetails=1&limit=1 (Caused by SSLError(OSError(24, 'Too many open files')))\n",
      "Status code Unknown from https://nominatim.openstreetmap.org/search: ERROR - HTTPSConnectionPool(host='nominatim.openstreetmap.org', port=443): Max retries exceeded with url: /search?q=Wetshaving&format=jsonv2&addressdetails=1&limit=1 (Caused by SSLError(OSError(24, 'Too many open files')))\n",
      " 94%|█████████▍| 4090/4334 [34:01<02:12,  1.84it/s]Status code Unknown from https://nominatim.openstreetmap.org/search: ERROR - HTTPSConnectionPool(host='nominatim.openstreetmap.org', port=443): Max retries exceeded with url: /search?q=cursedvideos&format=jsonv2&addressdetails=1&limit=1 (Caused by SSLError(OSError(24, 'Too many open files')))\n",
      "Status code Unknown from https://nominatim.openstreetmap.org/search: ERROR - HTTPSConnectionPool(host='nominatim.openstreetmap.org', port=443): Max retries exceeded with url: /search?q=dontstarve&format=jsonv2&addressdetails=1&limit=1 (Caused by SSLError(OSError(24, 'Too many open files')))\n",
      " 94%|█████████▍| 4092/4334 [34:02<01:33,  2.57it/s]Status code Unknown from https://nominatim.openstreetmap.org/search: ERROR - HTTPSConnectionPool(host='nominatim.openstreetmap.org', port=443): Max retries exceeded with url: /search?q=Parents+Are+Fucking+Dumb&format=jsonv2&addressdetails=1&limit=1 (Caused by SSLError(OSError(24, 'Too many open files')))\n",
      " 94%|█████████▍| 4093/4334 [34:03<02:04,  1.94it/s]Status code Unknown from https://nominatim.openstreetmap.org/search: ERROR - HTTPSConnectionPool(host='nominatim.openstreetmap.org', port=443): Max retries exceeded with url: /search?q=truscum&format=jsonv2&addressdetails=1&limit=1 (Caused by SSLError(OSError(24, 'Too many open files')))\n",
      "Status code Unknown from https://nominatim.openstreetmap.org/search: ERROR - HTTPSConnectionPool(host='nominatim.openstreetmap.org', port=443): Max retries exceeded with url: /search?q=hysterectomy&format=jsonv2&addressdetails=1&limit=1 (Caused by SSLError(OSError(24, 'Too many open files')))\n",
      " 94%|█████████▍| 4095/4334 [34:04<02:06,  1.88it/s]Status code Unknown from https://nominatim.openstreetmap.org/search: ERROR - HTTPSConnectionPool(host='nominatim.openstreetmap.org', port=443): Max retries exceeded with url: /search?q=Psychosis&format=jsonv2&addressdetails=1&limit=1 (Caused by SSLError(OSError(24, 'Too many open files')))\n",
      "Status code Unknown from https://nominatim.openstreetmap.org/search: ERROR - HTTPSConnectionPool(host='nominatim.openstreetmap.org', port=443): Max retries exceeded with url: /search?q=crossdressing&format=jsonv2&addressdetails=1&limit=1 (Caused by SSLError(OSError(24, 'Too many open files')))\n",
      " 95%|█████████▍| 4097/4334 [34:05<02:08,  1.85it/s]Status code Unknown from https://nominatim.openstreetmap.org/search: ERROR - HTTPSConnectionPool(host='nominatim.openstreetmap.org', port=443): Max retries exceeded with url: /search?q=hsp&format=jsonv2&addressdetails=1&limit=1 (Caused by SSLError(OSError(24, 'Too many open files')))\n"
     ]
    },
    {
     "name": "stderr",
     "output_type": "stream",
     "text": [
      "Status code Unknown from https://nominatim.openstreetmap.org/search: ERROR - HTTPSConnectionPool(host='nominatim.openstreetmap.org', port=443): Max retries exceeded with url: /search?q=Konosuba&format=jsonv2&addressdetails=1&limit=1 (Caused by SSLError(OSError(24, 'Too many open files')))\n",
      " 95%|█████████▍| 4099/4334 [34:06<02:08,  1.83it/s]Status code Unknown from https://nominatim.openstreetmap.org/search: ERROR - HTTPSConnectionPool(host='nominatim.openstreetmap.org', port=443): Max retries exceeded with url: /search?q=cpp&format=jsonv2&addressdetails=1&limit=1 (Caused by SSLError(OSError(24, 'Too many open files')))\n",
      "Status code Unknown from https://nominatim.openstreetmap.org/search: ERROR - HTTPSConnectionPool(host='nominatim.openstreetmap.org', port=443): Max retries exceeded with url: /search?q=March+Against+Nazis&format=jsonv2&addressdetails=1&limit=1 (Caused by SSLError(OSError(24, 'Too many open files')))\n",
      " 95%|█████████▍| 4101/4334 [34:06<01:31,  2.54it/s]Status code Unknown from https://nominatim.openstreetmap.org/search: ERROR - HTTPSConnectionPool(host='nominatim.openstreetmap.org', port=443): Max retries exceeded with url: /search?q=kia&format=jsonv2&addressdetails=1&limit=1 (Caused by SSLError(OSError(24, 'Too many open files')))\n",
      " 95%|█████████▍| 4102/4334 [34:07<01:59,  1.94it/s]Status code Unknown from https://nominatim.openstreetmap.org/search: ERROR - HTTPSConnectionPool(host='nominatim.openstreetmap.org', port=443): Max retries exceeded with url: /search?q=cemu&format=jsonv2&addressdetails=1&limit=1 (Caused by SSLError(OSError(24, 'Too many open files')))\n",
      "Status code Unknown from https://nominatim.openstreetmap.org/search: ERROR - HTTPSConnectionPool(host='nominatim.openstreetmap.org', port=443): Max retries exceeded with url: /search?q=Not+Another+Dn+DPodcast&format=jsonv2&addressdetails=1&limit=1 (Caused by SSLError(OSError(24, 'Too many open files')))\n",
      " 95%|█████████▍| 4104/4334 [34:08<02:02,  1.88it/s]Status code Unknown from https://nominatim.openstreetmap.org/search: ERROR - HTTPSConnectionPool(host='nominatim.openstreetmap.org', port=443): Max retries exceeded with url: /search?q=doggrooming&format=jsonv2&addressdetails=1&limit=1 (Caused by SSLError(OSError(24, 'Too many open files')))\n",
      "Status code Unknown from https://nominatim.openstreetmap.org/search: ERROR - HTTPSConnectionPool(host='nominatim.openstreetmap.org', port=443): Max retries exceeded with url: /search?q=Volumeeating&format=jsonv2&addressdetails=1&limit=1 (Caused by SSLError(OSError(24, 'Too many open files')))\n",
      " 95%|█████████▍| 4106/4334 [34:09<02:03,  1.85it/s]Status code Unknown from https://nominatim.openstreetmap.org/search: ERROR - HTTPSConnectionPool(host='nominatim.openstreetmap.org', port=443): Max retries exceeded with url: /search?q=UBreddit&format=jsonv2&addressdetails=1&limit=1 (Caused by SSLError(OSError(24, 'Too many open files')))\n",
      "Status code Unknown from https://nominatim.openstreetmap.org/search: ERROR - HTTPSConnectionPool(host='nominatim.openstreetmap.org', port=443): Max retries exceeded with url: /search?q=churningreferrals&format=jsonv2&addressdetails=1&limit=1 (Caused by SSLError(OSError(24, 'Too many open files')))\n",
      " 95%|█████████▍| 4108/4334 [34:09<01:27,  2.59it/s]Status code Unknown from https://nominatim.openstreetmap.org/search: ERROR - HTTPSConnectionPool(host='nominatim.openstreetmap.org', port=443): Max retries exceeded with url: /search?q=nycmeetups&format=jsonv2&addressdetails=1&limit=1 (Caused by SSLError(OSError(24, 'Too many open files')))\n",
      " 95%|█████████▍| 4109/4334 [34:11<01:55,  1.95it/s]Status code Unknown from https://nominatim.openstreetmap.org/search: ERROR - HTTPSConnectionPool(host='nominatim.openstreetmap.org', port=443): Max retries exceeded with url: /search?q=writingcirclejerk&format=jsonv2&addressdetails=1&limit=1 (Caused by SSLError(OSError(24, 'Too many open files')))\n",
      "Status code Unknown from https://nominatim.openstreetmap.org/search: ERROR - HTTPSConnectionPool(host='nominatim.openstreetmap.org', port=443): Max retries exceeded with url: /search?q=Goldfish&format=jsonv2&addressdetails=1&limit=1 (Caused by SSLError(OSError(24, 'Too many open files')))\n",
      " 95%|█████████▍| 4111/4334 [34:12<01:58,  1.89it/s]Status code Unknown from https://nominatim.openstreetmap.org/search: ERROR - HTTPSConnectionPool(host='nominatim.openstreetmap.org', port=443): Max retries exceeded with url: /search?q=Act+Like+You+Belong&format=jsonv2&addressdetails=1&limit=1 (Caused by SSLError(OSError(24, 'Too many open files')))\n",
      "Status code Unknown from https://nominatim.openstreetmap.org/search: ERROR - HTTPSConnectionPool(host='nominatim.openstreetmap.org', port=443): Max retries exceeded with url: /search?q=Insane+Parler&format=jsonv2&addressdetails=1&limit=1 (Caused by SSLError(OSError(24, 'Too many open files')))\n",
      " 95%|█████████▍| 4113/4334 [34:13<01:59,  1.85it/s]Status code Unknown from https://nominatim.openstreetmap.org/search: ERROR - HTTPSConnectionPool(host='nominatim.openstreetmap.org', port=443): Max retries exceeded with url: /search?q=Rover+Pet+Sitting&format=jsonv2&addressdetails=1&limit=1 (Caused by SSLError(OSError(24, 'Too many open files')))\n",
      "Status code Unknown from https://nominatim.openstreetmap.org/search: ERROR - HTTPSConnectionPool(host='nominatim.openstreetmap.org', port=443): Max retries exceeded with url: /search?q=absolutelynotme+irl&format=jsonv2&addressdetails=1&limit=1 (Caused by SSLError(OSError(24, 'Too many open files')))\n",
      " 95%|█████████▍| 4115/4334 [34:14<01:59,  1.83it/s]Status code Unknown from https://nominatim.openstreetmap.org/search: ERROR - HTTPSConnectionPool(host='nominatim.openstreetmap.org', port=443): Max retries exceeded with url: /search?q=trollingforababy&format=jsonv2&addressdetails=1&limit=1 (Caused by SSLError(OSError(24, 'Too many open files')))\n",
      "Status code Unknown from https://nominatim.openstreetmap.org/search: ERROR - HTTPSConnectionPool(host='nominatim.openstreetmap.org', port=443): Max retries exceeded with url: /search?q=Tau40K&format=jsonv2&addressdetails=1&limit=1 (Caused by SSLError(OSError(24, 'Too many open files')))\n",
      " 95%|█████████▍| 4117/4334 [34:14<01:25,  2.55it/s]Status code Unknown from https://nominatim.openstreetmap.org/search: ERROR - HTTPSConnectionPool(host='nominatim.openstreetmap.org', port=443): Max retries exceeded with url: /search?q=windsorontario&format=jsonv2&addressdetails=1&limit=1 (Caused by SSLError(OSError(24, 'Too many open files')))\n",
      " 95%|█████████▌| 4118/4334 [34:15<01:51,  1.94it/s]Status code Unknown from https://nominatim.openstreetmap.org/search: ERROR - HTTPSConnectionPool(host='nominatim.openstreetmap.org', port=443): Max retries exceeded with url: /search?q=quotes&format=jsonv2&addressdetails=1&limit=1 (Caused by SSLError(OSError(24, 'Too many open files')))\n",
      "Status code Unknown from https://nominatim.openstreetmap.org/search: ERROR - HTTPSConnectionPool(host='nominatim.openstreetmap.org', port=443): Max retries exceeded with url: /search?q=ffxi&format=jsonv2&addressdetails=1&limit=1 (Caused by SSLError(OSError(24, 'Too many open files')))\n",
      " 95%|█████████▌| 4120/4334 [34:16<01:53,  1.88it/s]Status code Unknown from https://nominatim.openstreetmap.org/search: ERROR - HTTPSConnectionPool(host='nominatim.openstreetmap.org', port=443): Max retries exceeded with url: /search?q=milf&format=jsonv2&addressdetails=1&limit=1 (Caused by SSLError(OSError(24, 'Too many open files')))\n",
      "Status code Unknown from https://nominatim.openstreetmap.org/search: ERROR - HTTPSConnectionPool(host='nominatim.openstreetmap.org', port=443): Max retries exceeded with url: /search?q=Child+Support&format=jsonv2&addressdetails=1&limit=1 (Caused by SSLError(OSError(24, 'Too many open files')))\n",
      " 95%|█████████▌| 4122/4334 [34:17<01:54,  1.85it/s]Status code Unknown from https://nominatim.openstreetmap.org/search: ERROR - HTTPSConnectionPool(host='nominatim.openstreetmap.org', port=443): Max retries exceeded with url: /search?q=commandandconquer&format=jsonv2&addressdetails=1&limit=1 (Caused by SSLError(OSError(24, 'Too many open files')))\n",
      "Status code Unknown from https://nominatim.openstreetmap.org/search: ERROR - HTTPSConnectionPool(host='nominatim.openstreetmap.org', port=443): Max retries exceeded with url: /search?q=intuitiveeating&format=jsonv2&addressdetails=1&limit=1 (Caused by SSLError(OSError(24, 'Too many open files')))\n"
     ]
    },
    {
     "name": "stderr",
     "output_type": "stream",
     "text": [
      " 95%|█████████▌| 4124/4334 [34:18<01:54,  1.83it/s]Status code Unknown from https://nominatim.openstreetmap.org/search: ERROR - HTTPSConnectionPool(host='nominatim.openstreetmap.org', port=443): Max retries exceeded with url: /search?q=adhd+anxiety&format=jsonv2&addressdetails=1&limit=1 (Caused by SSLError(OSError(24, 'Too many open files')))\n",
      "Status code Unknown from https://nominatim.openstreetmap.org/search: ERROR - HTTPSConnectionPool(host='nominatim.openstreetmap.org', port=443): Max retries exceeded with url: /search?q=guitarcirclejerk&format=jsonv2&addressdetails=1&limit=1 (Caused by SSLError(OSError(24, 'Too many open files')))\n",
      " 95%|█████████▌| 4126/4334 [34:19<01:21,  2.54it/s]Status code Unknown from https://nominatim.openstreetmap.org/search: ERROR - HTTPSConnectionPool(host='nominatim.openstreetmap.org', port=443): Max retries exceeded with url: /search?q=Waxpen&format=jsonv2&addressdetails=1&limit=1 (Caused by SSLError(OSError(24, 'Too many open files')))\n",
      " 95%|█████████▌| 4127/4334 [34:20<01:47,  1.93it/s]Status code Unknown from https://nominatim.openstreetmap.org/search: ERROR - HTTPSConnectionPool(host='nominatim.openstreetmap.org', port=443): Max retries exceeded with url: /search?q=askcarguys&format=jsonv2&addressdetails=1&limit=1 (Caused by SSLError(OSError(24, 'Too many open files')))\n",
      "Status code Unknown from https://nominatim.openstreetmap.org/search: ERROR - HTTPSConnectionPool(host='nominatim.openstreetmap.org', port=443): Max retries exceeded with url: /search?q=storyofseasons&format=jsonv2&addressdetails=1&limit=1 (Caused by SSLError(OSError(24, 'Too many open files')))\n",
      " 95%|█████████▌| 4129/4334 [34:21<01:49,  1.88it/s]Status code Unknown from https://nominatim.openstreetmap.org/search: ERROR - HTTPSConnectionPool(host='nominatim.openstreetmap.org', port=443): Max retries exceeded with url: /search?q=The+Crown+Netflix&format=jsonv2&addressdetails=1&limit=1 (Caused by SSLError(OSError(24, 'Too many open files')))\n",
      "Status code Unknown from https://nominatim.openstreetmap.org/search: ERROR - HTTPSConnectionPool(host='nominatim.openstreetmap.org', port=443): Max retries exceeded with url: /search?q=gigabyte&format=jsonv2&addressdetails=1&limit=1 (Caused by SSLError(OSError(24, 'Too many open files')))\n",
      " 95%|█████████▌| 4131/4334 [34:22<01:49,  1.85it/s]Status code Unknown from https://nominatim.openstreetmap.org/search: ERROR - HTTPSConnectionPool(host='nominatim.openstreetmap.org', port=443): Max retries exceeded with url: /search?q=mysticmessenger&format=jsonv2&addressdetails=1&limit=1 (Caused by SSLError(OSError(24, 'Too many open files')))\n",
      "Status code Unknown from https://nominatim.openstreetmap.org/search: ERROR - HTTPSConnectionPool(host='nominatim.openstreetmap.org', port=443): Max retries exceeded with url: /search?q=Celebs&format=jsonv2&addressdetails=1&limit=1 (Caused by SSLError(OSError(24, 'Too many open files')))\n",
      " 95%|█████████▌| 4133/4334 [34:22<01:17,  2.59it/s]Status code Unknown from https://nominatim.openstreetmap.org/search: ERROR - HTTPSConnectionPool(host='nominatim.openstreetmap.org', port=443): Max retries exceeded with url: /search?q=CFP&format=jsonv2&addressdetails=1&limit=1 (Caused by SSLError(OSError(24, 'Too many open files')))\n",
      " 95%|█████████▌| 4134/4334 [34:23<01:42,  1.95it/s]Status code Unknown from https://nominatim.openstreetmap.org/search: ERROR - HTTPSConnectionPool(host='nominatim.openstreetmap.org', port=443): Max retries exceeded with url: /search?q=sailormoon&format=jsonv2&addressdetails=1&limit=1 (Caused by SSLError(OSError(24, 'Too many open files')))\n",
      "Status code Unknown from https://nominatim.openstreetmap.org/search: ERROR - HTTPSConnectionPool(host='nominatim.openstreetmap.org', port=443): Max retries exceeded with url: /search?q=nocontextpics&format=jsonv2&addressdetails=1&limit=1 (Caused by SSLError(OSError(24, 'Too many open files')))\n",
      " 95%|█████████▌| 4136/4334 [34:24<01:45,  1.87it/s]Status code Unknown from https://nominatim.openstreetmap.org/search: ERROR - HTTPSConnectionPool(host='nominatim.openstreetmap.org', port=443): Max retries exceeded with url: /search?q=True+Film&format=jsonv2&addressdetails=1&limit=1 (Caused by SSLError(OSError(24, 'Too many open files')))\n",
      "Status code Unknown from https://nominatim.openstreetmap.org/search: ERROR - HTTPSConnectionPool(host='nominatim.openstreetmap.org', port=443): Max retries exceeded with url: /search?q=composting&format=jsonv2&addressdetails=1&limit=1 (Caused by SSLError(OSError(24, 'Too many open files')))\n",
      " 95%|█████████▌| 4138/4334 [34:25<01:46,  1.84it/s]Status code Unknown from https://nominatim.openstreetmap.org/search: ERROR - HTTPSConnectionPool(host='nominatim.openstreetmap.org', port=443): Max retries exceeded with url: /search?q=bingingwithbabish&format=jsonv2&addressdetails=1&limit=1 (Caused by SSLError(OSError(24, 'Too many open files')))\n",
      "Status code Unknown from https://nominatim.openstreetmap.org/search: ERROR - HTTPSConnectionPool(host='nominatim.openstreetmap.org', port=443): Max retries exceeded with url: /search?q=Debate+Vaccines&format=jsonv2&addressdetails=1&limit=1 (Caused by SSLError(OSError(24, 'Too many open files')))\n",
      " 96%|█████████▌| 4140/4334 [34:26<01:46,  1.82it/s]Status code Unknown from https://nominatim.openstreetmap.org/search: ERROR - HTTPSConnectionPool(host='nominatim.openstreetmap.org', port=443): Max retries exceeded with url: /search?q=discworld&format=jsonv2&addressdetails=1&limit=1 (Caused by SSLError(OSError(24, 'Too many open files')))\n",
      "Status code Unknown from https://nominatim.openstreetmap.org/search: ERROR - HTTPSConnectionPool(host='nominatim.openstreetmap.org', port=443): Max retries exceeded with url: /search?q=Stories+About+Kevin&format=jsonv2&addressdetails=1&limit=1 (Caused by SSLError(OSError(24, 'Too many open files')))\n",
      " 96%|█████████▌| 4142/4334 [34:27<01:15,  2.53it/s]Status code Unknown from https://nominatim.openstreetmap.org/search: ERROR - HTTPSConnectionPool(host='nominatim.openstreetmap.org', port=443): Max retries exceeded with url: /search?q=Board+Kings&format=jsonv2&addressdetails=1&limit=1 (Caused by SSLError(OSError(24, 'Too many open files')))\n",
      " 96%|█████████▌| 4143/4334 [34:28<01:38,  1.93it/s]Status code Unknown from https://nominatim.openstreetmap.org/search: ERROR - HTTPSConnectionPool(host='nominatim.openstreetmap.org', port=443): Max retries exceeded with url: /search?q=Keanu+Being+Awesome&format=jsonv2&addressdetails=1&limit=1 (Caused by SSLError(OSError(24, 'Too many open files')))\n",
      "Status code Unknown from https://nominatim.openstreetmap.org/search: ERROR - HTTPSConnectionPool(host='nominatim.openstreetmap.org', port=443): Max retries exceeded with url: /search?q=projectors&format=jsonv2&addressdetails=1&limit=1 (Caused by SSLError(OSError(24, 'Too many open files')))\n",
      " 96%|█████████▌| 4145/4334 [34:29<01:41,  1.86it/s]Status code Unknown from https://nominatim.openstreetmap.org/search: ERROR - HTTPSConnectionPool(host='nominatim.openstreetmap.org', port=443): Max retries exceeded with url: /search?q=pinkfloyd&format=jsonv2&addressdetails=1&limit=1 (Caused by SSLError(OSError(24, 'Too many open files')))\n",
      "Status code Unknown from https://nominatim.openstreetmap.org/search: ERROR - HTTPSConnectionPool(host='nominatim.openstreetmap.org', port=443): Max retries exceeded with url: /search?q=showerbeer&format=jsonv2&addressdetails=1&limit=1 (Caused by SSLError(OSError(24, 'Too many open files')))\n",
      " 96%|█████████▌| 4147/4334 [34:30<01:42,  1.82it/s]Status code Unknown from https://nominatim.openstreetmap.org/search: ERROR - HTTPSConnectionPool(host='nominatim.openstreetmap.org', port=443): Max retries exceeded with url: /search?q=dfsports&format=jsonv2&addressdetails=1&limit=1 (Caused by SSLError(OSError(24, 'Too many open files')))\n",
      "Status code Unknown from https://nominatim.openstreetmap.org/search: ERROR - HTTPSConnectionPool(host='nominatim.openstreetmap.org', port=443): Max retries exceeded with url: /search?q=beagle&format=jsonv2&addressdetails=1&limit=1 (Caused by SSLError(OSError(24, 'Too many open files')))\n",
      " 96%|█████████▌| 4149/4334 [34:30<01:12,  2.54it/s]Status code Unknown from https://nominatim.openstreetmap.org/search: ERROR - HTTPSConnectionPool(host='nominatim.openstreetmap.org', port=443): Max retries exceeded with url: /search?q=Bakersfield&format=jsonv2&addressdetails=1&limit=1 (Caused by SSLError(OSError(24, 'Too many open files')))\n"
     ]
    },
    {
     "name": "stderr",
     "output_type": "stream",
     "text": [
      " 96%|█████████▌| 4150/4334 [34:31<01:35,  1.93it/s]Status code Unknown from https://nominatim.openstreetmap.org/search: ERROR - HTTPSConnectionPool(host='nominatim.openstreetmap.org', port=443): Max retries exceeded with url: /search?q=Dermatology&format=jsonv2&addressdetails=1&limit=1 (Caused by SSLError(OSError(24, 'Too many open files')))\n",
      "Status code Unknown from https://nominatim.openstreetmap.org/search: ERROR - HTTPSConnectionPool(host='nominatim.openstreetmap.org', port=443): Max retries exceeded with url: /search?q=misophonia&format=jsonv2&addressdetails=1&limit=1 (Caused by SSLError(OSError(24, 'Too many open files')))\n",
      " 96%|█████████▌| 4152/4334 [34:32<01:37,  1.86it/s]Status code Unknown from https://nominatim.openstreetmap.org/search: ERROR - HTTPSConnectionPool(host='nominatim.openstreetmap.org', port=443): Max retries exceeded with url: /search?q=tuckedinkitties&format=jsonv2&addressdetails=1&limit=1 (Caused by SSLError(OSError(24, 'Too many open files')))\n",
      "Status code Unknown from https://nominatim.openstreetmap.org/search: ERROR - HTTPSConnectionPool(host='nominatim.openstreetmap.org', port=443): Max retries exceeded with url: /search?q=Sky+Diving&format=jsonv2&addressdetails=1&limit=1 (Caused by SSLError(OSError(24, 'Too many open files')))\n",
      " 96%|█████████▌| 4154/4334 [34:33<01:38,  1.83it/s]Status code Unknown from https://nominatim.openstreetmap.org/search: ERROR - HTTPSConnectionPool(host='nominatim.openstreetmap.org', port=443): Max retries exceeded with url: /search?q=Emo&format=jsonv2&addressdetails=1&limit=1 (Caused by SSLError(OSError(24, 'Too many open files')))\n",
      "Status code Unknown from https://nominatim.openstreetmap.org/search: ERROR - HTTPSConnectionPool(host='nominatim.openstreetmap.org', port=443): Max retries exceeded with url: /search?q=Tall+Girls&format=jsonv2&addressdetails=1&limit=1 (Caused by SSLError(OSError(24, 'Too many open files')))\n",
      " 96%|█████████▌| 4156/4334 [34:34<01:09,  2.57it/s]Status code Unknown from https://nominatim.openstreetmap.org/search: ERROR - HTTPSConnectionPool(host='nominatim.openstreetmap.org', port=443): Max retries exceeded with url: /search?q=thanksihateit&format=jsonv2&addressdetails=1&limit=1 (Caused by SSLError(OSError(24, 'Too many open files')))\n",
      " 96%|█████████▌| 4157/4334 [34:35<01:31,  1.94it/s]Status code Unknown from https://nominatim.openstreetmap.org/search: ERROR - HTTPSConnectionPool(host='nominatim.openstreetmap.org', port=443): Max retries exceeded with url: /search?q=learnspanish&format=jsonv2&addressdetails=1&limit=1 (Caused by SSLError(OSError(24, 'Too many open files')))\n",
      "Status code Unknown from https://nominatim.openstreetmap.org/search: ERROR - HTTPSConnectionPool(host='nominatim.openstreetmap.org', port=443): Max retries exceeded with url: /search?q=randomdice&format=jsonv2&addressdetails=1&limit=1 (Caused by SSLError(OSError(24, 'Too many open files')))\n",
      " 96%|█████████▌| 4159/4334 [34:36<01:32,  1.88it/s]Status code Unknown from https://nominatim.openstreetmap.org/search: ERROR - HTTPSConnectionPool(host='nominatim.openstreetmap.org', port=443): Max retries exceeded with url: /search?q=Dream+Was+Taken2&format=jsonv2&addressdetails=1&limit=1 (Caused by SSLError(OSError(24, 'Too many open files')))\n",
      "Status code Unknown from https://nominatim.openstreetmap.org/search: ERROR - HTTPSConnectionPool(host='nominatim.openstreetmap.org', port=443): Max retries exceeded with url: /search?q=organization&format=jsonv2&addressdetails=1&limit=1 (Caused by SSLError(OSError(24, 'Too many open files')))\n",
      " 96%|█████████▌| 4161/4334 [34:37<01:33,  1.85it/s]Status code Unknown from https://nominatim.openstreetmap.org/search: ERROR - HTTPSConnectionPool(host='nominatim.openstreetmap.org', port=443): Max retries exceeded with url: /search?q=polandball&format=jsonv2&addressdetails=1&limit=1 (Caused by SSLError(OSError(24, 'Too many open files')))\n",
      "Status code Unknown from https://nominatim.openstreetmap.org/search: ERROR - HTTPSConnectionPool(host='nominatim.openstreetmap.org', port=443): Max retries exceeded with url: /search?q=Pathfinder+Kingmaker&format=jsonv2&addressdetails=1&limit=1 (Caused by SSLError(OSError(24, 'Too many open files')))\n",
      " 96%|█████████▌| 4163/4334 [34:38<01:33,  1.83it/s]Status code Unknown from https://nominatim.openstreetmap.org/search: ERROR - HTTPSConnectionPool(host='nominatim.openstreetmap.org', port=443): Max retries exceeded with url: /search?q=swordartonline&format=jsonv2&addressdetails=1&limit=1 (Caused by SSLError(OSError(24, 'Too many open files')))\n",
      "Status code Unknown from https://nominatim.openstreetmap.org/search: ERROR - HTTPSConnectionPool(host='nominatim.openstreetmap.org', port=443): Max retries exceeded with url: /search?q=embedded&format=jsonv2&addressdetails=1&limit=1 (Caused by SSLError(OSError(24, 'Too many open files')))\n",
      " 96%|█████████▌| 4165/4334 [34:38<01:06,  2.54it/s]Status code Unknown from https://nominatim.openstreetmap.org/search: ERROR - HTTPSConnectionPool(host='nominatim.openstreetmap.org', port=443): Max retries exceeded with url: /search?q=ZReviews&format=jsonv2&addressdetails=1&limit=1 (Caused by SSLError(OSError(24, 'Too many open files')))\n",
      " 96%|█████████▌| 4166/4334 [34:39<01:26,  1.93it/s]Status code Unknown from https://nominatim.openstreetmap.org/search: ERROR - HTTPSConnectionPool(host='nominatim.openstreetmap.org', port=443): Max retries exceeded with url: /search?q=rap&format=jsonv2&addressdetails=1&limit=1 (Caused by SSLError(OSError(24, 'Too many open files')))\n",
      "Status code Unknown from https://nominatim.openstreetmap.org/search: ERROR - HTTPSConnectionPool(host='nominatim.openstreetmap.org', port=443): Max retries exceeded with url: /search?q=PFJerk&format=jsonv2&addressdetails=1&limit=1 (Caused by SSLError(OSError(24, 'Too many open files')))\n",
      " 96%|█████████▌| 4168/4334 [34:40<01:28,  1.88it/s]Status code Unknown from https://nominatim.openstreetmap.org/search: ERROR - HTTPSConnectionPool(host='nominatim.openstreetmap.org', port=443): Max retries exceeded with url: /search?q=node&format=jsonv2&addressdetails=1&limit=1 (Caused by SSLError(OSError(24, 'Too many open files')))\n",
      "Status code Unknown from https://nominatim.openstreetmap.org/search: ERROR - HTTPSConnectionPool(host='nominatim.openstreetmap.org', port=443): Max retries exceeded with url: /search?q=beatles&format=jsonv2&addressdetails=1&limit=1 (Caused by SSLError(OSError(24, 'Too many open files')))\n",
      " 96%|█████████▌| 4170/4334 [34:41<01:29,  1.83it/s]Status code Unknown from https://nominatim.openstreetmap.org/search: ERROR - HTTPSConnectionPool(host='nominatim.openstreetmap.org', port=443): Max retries exceeded with url: /search?q=Halo+Story&format=jsonv2&addressdetails=1&limit=1 (Caused by SSLError(OSError(24, 'Too many open files')))\n",
      "Status code Unknown from https://nominatim.openstreetmap.org/search: ERROR - HTTPSConnectionPool(host='nominatim.openstreetmap.org', port=443): Max retries exceeded with url: /search?q=Comcast&format=jsonv2&addressdetails=1&limit=1 (Caused by SSLError(OSError(24, 'Too many open files')))\n",
      " 96%|█████████▋| 4172/4334 [34:42<01:03,  2.56it/s]Status code Unknown from https://nominatim.openstreetmap.org/search: ERROR - HTTPSConnectionPool(host='nominatim.openstreetmap.org', port=443): Max retries exceeded with url: /search?q=untrustworthypoptarts&format=jsonv2&addressdetails=1&limit=1 (Caused by SSLError(OSError(24, 'Too many open files')))\n",
      " 96%|█████████▋| 4173/4334 [34:43<01:23,  1.94it/s]Status code Unknown from https://nominatim.openstreetmap.org/search: ERROR - HTTPSConnectionPool(host='nominatim.openstreetmap.org', port=443): Max retries exceeded with url: /search?q=Colombia&format=jsonv2&addressdetails=1&limit=1 (Caused by SSLError(OSError(24, 'Too many open files')))\n",
      "Status code Unknown from https://nominatim.openstreetmap.org/search: ERROR - HTTPSConnectionPool(host='nominatim.openstreetmap.org', port=443): Max retries exceeded with url: /search?q=Play+Godfall&format=jsonv2&addressdetails=1&limit=1 (Caused by SSLError(OSError(24, 'Too many open files')))\n",
      " 96%|█████████▋| 4175/4334 [34:44<01:24,  1.88it/s]Status code Unknown from https://nominatim.openstreetmap.org/search: ERROR - HTTPSConnectionPool(host='nominatim.openstreetmap.org', port=443): Max retries exceeded with url: /search?q=Mechanical+Engineering&format=jsonv2&addressdetails=1&limit=1 (Caused by SSLError(OSError(24, 'Too many open files')))\n"
     ]
    },
    {
     "name": "stderr",
     "output_type": "stream",
     "text": [
      "Status code Unknown from https://nominatim.openstreetmap.org/search: ERROR - HTTPSConnectionPool(host='nominatim.openstreetmap.org', port=443): Max retries exceeded with url: /search?q=NYCbike&format=jsonv2&addressdetails=1&limit=1 (Caused by SSLError(OSError(24, 'Too many open files')))\n",
      " 96%|█████████▋| 4177/4334 [34:45<01:24,  1.85it/s]Status code Unknown from https://nominatim.openstreetmap.org/search: ERROR - HTTPSConnectionPool(host='nominatim.openstreetmap.org', port=443): Max retries exceeded with url: /search?q=Batman+Arkham&format=jsonv2&addressdetails=1&limit=1 (Caused by SSLError(OSError(24, 'Too many open files')))\n",
      "Status code Unknown from https://nominatim.openstreetmap.org/search: ERROR - HTTPSConnectionPool(host='nominatim.openstreetmap.org', port=443): Max retries exceeded with url: /search?q=driving&format=jsonv2&addressdetails=1&limit=1 (Caused by SSLError(OSError(24, 'Too many open files')))\n",
      " 96%|█████████▋| 4179/4334 [34:46<01:24,  1.83it/s]Status code Unknown from https://nominatim.openstreetmap.org/search: ERROR - HTTPSConnectionPool(host='nominatim.openstreetmap.org', port=443): Max retries exceeded with url: /search?q=South+Jersey&format=jsonv2&addressdetails=1&limit=1 (Caused by SSLError(OSError(24, 'Too many open files')))\n",
      "Status code Unknown from https://nominatim.openstreetmap.org/search: ERROR - HTTPSConnectionPool(host='nominatim.openstreetmap.org', port=443): Max retries exceeded with url: /search?q=facebook&format=jsonv2&addressdetails=1&limit=1 (Caused by SSLError(OSError(24, 'Too many open files')))\n",
      " 96%|█████████▋| 4181/4334 [34:46<01:00,  2.54it/s]Status code Unknown from https://nominatim.openstreetmap.org/search: ERROR - HTTPSConnectionPool(host='nominatim.openstreetmap.org', port=443): Max retries exceeded with url: /search?q=mathmemes&format=jsonv2&addressdetails=1&limit=1 (Caused by SSLError(OSError(24, 'Too many open files')))\n",
      " 96%|█████████▋| 4182/4334 [34:47<01:18,  1.93it/s]Status code Unknown from https://nominatim.openstreetmap.org/search: ERROR - HTTPSConnectionPool(host='nominatim.openstreetmap.org', port=443): Max retries exceeded with url: /search?q=Fidelity&format=jsonv2&addressdetails=1&limit=1 (Caused by SSLError(OSError(24, 'Too many open files')))\n",
      "Status code Unknown from https://nominatim.openstreetmap.org/search: ERROR - HTTPSConnectionPool(host='nominatim.openstreetmap.org', port=443): Max retries exceeded with url: /search?q=geegees&format=jsonv2&addressdetails=1&limit=1 (Caused by SSLError(OSError(24, 'Too many open files')))\n",
      " 97%|█████████▋| 4184/4334 [34:48<01:19,  1.88it/s]Status code Unknown from https://nominatim.openstreetmap.org/search: ERROR - HTTPSConnectionPool(host='nominatim.openstreetmap.org', port=443): Max retries exceeded with url: /search?q=turning&format=jsonv2&addressdetails=1&limit=1 (Caused by SSLError(OSError(24, 'Too many open files')))\n",
      "Status code Unknown from https://nominatim.openstreetmap.org/search: ERROR - HTTPSConnectionPool(host='nominatim.openstreetmap.org', port=443): Max retries exceeded with url: /search?q=Ask+Doctor+Smeeee&format=jsonv2&addressdetails=1&limit=1 (Caused by SSLError(OSError(24, 'Too many open files')))\n",
      " 97%|█████████▋| 4186/4334 [34:49<01:20,  1.85it/s]Status code Unknown from https://nominatim.openstreetmap.org/search: ERROR - HTTPSConnectionPool(host='nominatim.openstreetmap.org', port=443): Max retries exceeded with url: /search?q=Black+Clover&format=jsonv2&addressdetails=1&limit=1 (Caused by SSLError(OSError(24, 'Too many open files')))\n",
      "Status code Unknown from https://nominatim.openstreetmap.org/search: ERROR - HTTPSConnectionPool(host='nominatim.openstreetmap.org', port=443): Max retries exceeded with url: /search?q=Resin+Casting&format=jsonv2&addressdetails=1&limit=1 (Caused by SSLError(OSError(24, 'Too many open files')))\n",
      " 97%|█████████▋| 4188/4334 [34:49<00:56,  2.59it/s]Status code Unknown from https://nominatim.openstreetmap.org/search: ERROR - HTTPSConnectionPool(host='nominatim.openstreetmap.org', port=443): Max retries exceeded with url: /search?q=vintageaudio&format=jsonv2&addressdetails=1&limit=1 (Caused by SSLError(OSError(24, 'Too many open files')))\n",
      " 97%|█████████▋| 4189/4334 [34:51<01:14,  1.95it/s]Status code Unknown from https://nominatim.openstreetmap.org/search: ERROR - HTTPSConnectionPool(host='nominatim.openstreetmap.org', port=443): Max retries exceeded with url: /search?q=Gangstalking&format=jsonv2&addressdetails=1&limit=1 (Caused by SSLError(OSError(24, 'Too many open files')))\n",
      "Status code Unknown from https://nominatim.openstreetmap.org/search: ERROR - HTTPSConnectionPool(host='nominatim.openstreetmap.org', port=443): Max retries exceeded with url: /search?q=Air+Force+Recruits&format=jsonv2&addressdetails=1&limit=1 (Caused by SSLError(OSError(24, 'Too many open files')))\n",
      " 97%|█████████▋| 4191/4334 [34:52<01:15,  1.89it/s]Status code Unknown from https://nominatim.openstreetmap.org/search: ERROR - HTTPSConnectionPool(host='nominatim.openstreetmap.org', port=443): Max retries exceeded with url: /search?q=probation&format=jsonv2&addressdetails=1&limit=1 (Caused by SSLError(OSError(24, 'Too many open files')))\n",
      "Status code Unknown from https://nominatim.openstreetmap.org/search: ERROR - HTTPSConnectionPool(host='nominatim.openstreetmap.org', port=443): Max retries exceeded with url: /search?q=Darling+In+The+Franxx&format=jsonv2&addressdetails=1&limit=1 (Caused by SSLError(OSError(24, 'Too many open files')))\n",
      " 97%|█████████▋| 4193/4334 [34:53<01:16,  1.85it/s]Status code Unknown from https://nominatim.openstreetmap.org/search: ERROR - HTTPSConnectionPool(host='nominatim.openstreetmap.org', port=443): Max retries exceeded with url: /search?q=scottthewoz&format=jsonv2&addressdetails=1&limit=1 (Caused by SSLError(OSError(24, 'Too many open files')))\n",
      "Status code Unknown from https://nominatim.openstreetmap.org/search: ERROR - HTTPSConnectionPool(host='nominatim.openstreetmap.org', port=443): Max retries exceeded with url: /search?q=Free+Speech&format=jsonv2&addressdetails=1&limit=1 (Caused by SSLError(OSError(24, 'Too many open files')))\n",
      " 97%|█████████▋| 4195/4334 [34:54<01:15,  1.83it/s]Status code Unknown from https://nominatim.openstreetmap.org/search: ERROR - HTTPSConnectionPool(host='nominatim.openstreetmap.org', port=443): Max retries exceeded with url: /search?q=In+Stock+Ammo&format=jsonv2&addressdetails=1&limit=1 (Caused by SSLError(OSError(24, 'Too many open files')))\n",
      "Status code Unknown from https://nominatim.openstreetmap.org/search: ERROR - HTTPSConnectionPool(host='nominatim.openstreetmap.org', port=443): Max retries exceeded with url: /search?q=Makeup+Lounge&format=jsonv2&addressdetails=1&limit=1 (Caused by SSLError(OSError(24, 'Too many open files')))\n",
      " 97%|█████████▋| 4197/4334 [34:54<00:53,  2.54it/s]Status code Unknown from https://nominatim.openstreetmap.org/search: ERROR - HTTPSConnectionPool(host='nominatim.openstreetmap.org', port=443): Max retries exceeded with url: /search?q=Dunkin+Donuts&format=jsonv2&addressdetails=1&limit=1 (Caused by SSLError(OSError(24, 'Too many open files')))\n",
      " 97%|█████████▋| 4198/4334 [34:55<01:10,  1.94it/s]Status code Unknown from https://nominatim.openstreetmap.org/search: ERROR - HTTPSConnectionPool(host='nominatim.openstreetmap.org', port=443): Max retries exceeded with url: /search?q=cirkeltrek&format=jsonv2&addressdetails=1&limit=1 (Caused by SSLError(OSError(24, 'Too many open files')))\n",
      "Status code Unknown from https://nominatim.openstreetmap.org/search: ERROR - HTTPSConnectionPool(host='nominatim.openstreetmap.org', port=443): Max retries exceeded with url: /search?q=gambling&format=jsonv2&addressdetails=1&limit=1 (Caused by SSLError(OSError(24, 'Too many open files')))\n",
      " 97%|█████████▋| 4200/4334 [34:56<01:11,  1.86it/s]Status code Unknown from https://nominatim.openstreetmap.org/search: ERROR - HTTPSConnectionPool(host='nominatim.openstreetmap.org', port=443): Max retries exceeded with url: /search?q=Wolcen&format=jsonv2&addressdetails=1&limit=1 (Caused by SSLError(OSError(24, 'Too many open files')))\n",
      "Status code Unknown from https://nominatim.openstreetmap.org/search: ERROR - HTTPSConnectionPool(host='nominatim.openstreetmap.org', port=443): Max retries exceeded with url: /search?q=Ravencoin&format=jsonv2&addressdetails=1&limit=1 (Caused by SSLError(OSError(24, 'Too many open files')))\n"
     ]
    },
    {
     "name": "stderr",
     "output_type": "stream",
     "text": [
      " 97%|█████████▋| 4202/4334 [34:57<01:11,  1.84it/s]Status code Unknown from https://nominatim.openstreetmap.org/search: ERROR - HTTPSConnectionPool(host='nominatim.openstreetmap.org', port=443): Max retries exceeded with url: /search?q=Trump+Criticizes+Trump&format=jsonv2&addressdetails=1&limit=1 (Caused by SSLError(OSError(24, 'Too many open files')))\n",
      "Status code Unknown from https://nominatim.openstreetmap.org/search: ERROR - HTTPSConnectionPool(host='nominatim.openstreetmap.org', port=443): Max retries exceeded with url: /search?q=kindafunny&format=jsonv2&addressdetails=1&limit=1 (Caused by SSLError(OSError(24, 'Too many open files')))\n",
      " 97%|█████████▋| 4204/4334 [34:57<00:50,  2.57it/s]Status code Unknown from https://nominatim.openstreetmap.org/search: ERROR - HTTPSConnectionPool(host='nominatim.openstreetmap.org', port=443): Max retries exceeded with url: /search?q=Friendship+Advice&format=jsonv2&addressdetails=1&limit=1 (Caused by SSLError(OSError(24, 'Too many open files')))\n",
      " 97%|█████████▋| 4205/4334 [34:59<01:06,  1.94it/s]Status code Unknown from https://nominatim.openstreetmap.org/search: ERROR - HTTPSConnectionPool(host='nominatim.openstreetmap.org', port=443): Max retries exceeded with url: /search?q=laravel&format=jsonv2&addressdetails=1&limit=1 (Caused by SSLError(OSError(24, 'Too many open files')))\n",
      "Status code Unknown from https://nominatim.openstreetmap.org/search: ERROR - HTTPSConnectionPool(host='nominatim.openstreetmap.org', port=443): Max retries exceeded with url: /search?q=WOACB&format=jsonv2&addressdetails=1&limit=1 (Caused by SSLError(OSError(24, 'Too many open files')))\n",
      " 97%|█████████▋| 4207/4334 [35:00<01:08,  1.86it/s]Status code Unknown from https://nominatim.openstreetmap.org/search: ERROR - HTTPSConnectionPool(host='nominatim.openstreetmap.org', port=443): Max retries exceeded with url: /search?q=cheatatmathhomework&format=jsonv2&addressdetails=1&limit=1 (Caused by SSLError(OSError(24, 'Too many open files')))\n",
      "Status code Unknown from https://nominatim.openstreetmap.org/search: ERROR - HTTPSConnectionPool(host='nominatim.openstreetmap.org', port=443): Max retries exceeded with url: /search?q=freelance+Writers&format=jsonv2&addressdetails=1&limit=1 (Caused by SSLError(OSError(24, 'Too many open files')))\n",
      " 97%|█████████▋| 4209/4334 [35:01<01:08,  1.82it/s]Status code Unknown from https://nominatim.openstreetmap.org/search: ERROR - HTTPSConnectionPool(host='nominatim.openstreetmap.org', port=443): Max retries exceeded with url: /search?q=advertising&format=jsonv2&addressdetails=1&limit=1 (Caused by SSLError(OSError(24, 'Too many open files')))\n",
      "Status code Unknown from https://nominatim.openstreetmap.org/search: ERROR - HTTPSConnectionPool(host='nominatim.openstreetmap.org', port=443): Max retries exceeded with url: /search?q=Mc+Master&format=jsonv2&addressdetails=1&limit=1 (Caused by SSLError(OSError(24, 'Too many open files')))\n",
      " 97%|█████████▋| 4211/4334 [35:02<01:07,  1.81it/s]Status code Unknown from https://nominatim.openstreetmap.org/search: ERROR - HTTPSConnectionPool(host='nominatim.openstreetmap.org', port=443): Max retries exceeded with url: /search?q=Dublin&format=jsonv2&addressdetails=1&limit=1 (Caused by SSLError(OSError(24, 'Too many open files')))\n",
      "Status code Unknown from https://nominatim.openstreetmap.org/search: ERROR - HTTPSConnectionPool(host='nominatim.openstreetmap.org', port=443): Max retries exceeded with url: /search?q=Human+For+Scale&format=jsonv2&addressdetails=1&limit=1 (Caused by SSLError(OSError(24, 'Too many open files')))\n",
      " 97%|█████████▋| 4213/4334 [35:02<00:49,  2.45it/s]Status code Unknown from https://nominatim.openstreetmap.org/search: ERROR - HTTPSConnectionPool(host='nominatim.openstreetmap.org', port=443): Max retries exceeded with url: /search?q=Apple+Card&format=jsonv2&addressdetails=1&limit=1 (Caused by SSLError(OSError(24, 'Too many open files')))\n",
      " 97%|█████████▋| 4214/4334 [35:03<01:03,  1.89it/s]Status code Unknown from https://nominatim.openstreetmap.org/search: ERROR - HTTPSConnectionPool(host='nominatim.openstreetmap.org', port=443): Max retries exceeded with url: /search?q=conspiracy+NOPOL&format=jsonv2&addressdetails=1&limit=1 (Caused by SSLError(OSError(24, 'Too many open files')))\n",
      "Status code Unknown from https://nominatim.openstreetmap.org/search: ERROR - HTTPSConnectionPool(host='nominatim.openstreetmap.org', port=443): Max retries exceeded with url: /search?q=nanotrade&format=jsonv2&addressdetails=1&limit=1 (Caused by SSLError(OSError(24, 'Too many open files')))\n",
      " 97%|█████████▋| 4216/4334 [35:04<01:04,  1.84it/s]Status code Unknown from https://nominatim.openstreetmap.org/search: ERROR - HTTPSConnectionPool(host='nominatim.openstreetmap.org', port=443): Max retries exceeded with url: /search?q=CPAP&format=jsonv2&addressdetails=1&limit=1 (Caused by SSLError(OSError(24, 'Too many open files')))\n",
      "Status code Unknown from https://nominatim.openstreetmap.org/search: ERROR - HTTPSConnectionPool(host='nominatim.openstreetmap.org', port=443): Max retries exceeded with url: /search?q=Universal+Orlando&format=jsonv2&addressdetails=1&limit=1 (Caused by SSLError(OSError(24, 'Too many open files')))\n",
      " 97%|█████████▋| 4218/4334 [35:04<00:44,  2.60it/s]Status code Unknown from https://nominatim.openstreetmap.org/search: ERROR - HTTPSConnectionPool(host='nominatim.openstreetmap.org', port=443): Max retries exceeded with url: /search?q=Galaxy+S20&format=jsonv2&addressdetails=1&limit=1 (Caused by SSLError(OSError(24, 'Too many open files')))\n",
      " 97%|█████████▋| 4219/4334 [35:06<00:59,  1.94it/s]Status code Unknown from https://nominatim.openstreetmap.org/search: ERROR - HTTPSConnectionPool(host='nominatim.openstreetmap.org', port=443): Max retries exceeded with url: /search?q=Narco+Footage&format=jsonv2&addressdetails=1&limit=1 (Caused by SSLError(OSError(24, 'Too many open files')))\n",
      "Status code Unknown from https://nominatim.openstreetmap.org/search: ERROR - HTTPSConnectionPool(host='nominatim.openstreetmap.org', port=443): Max retries exceeded with url: /search?q=orthotropics&format=jsonv2&addressdetails=1&limit=1 (Caused by SSLError(OSError(24, 'Too many open files')))\n",
      " 97%|█████████▋| 4221/4334 [35:07<00:59,  1.89it/s]Status code Unknown from https://nominatim.openstreetmap.org/search: ERROR - HTTPSConnectionPool(host='nominatim.openstreetmap.org', port=443): Max retries exceeded with url: /search?q=LGBTeens+Gone+Mild&format=jsonv2&addressdetails=1&limit=1 (Caused by SSLError(OSError(24, 'Too many open files')))\n",
      "Status code Unknown from https://nominatim.openstreetmap.org/search: ERROR - HTTPSConnectionPool(host='nominatim.openstreetmap.org', port=443): Max retries exceeded with url: /search?q=Wizards+Unite&format=jsonv2&addressdetails=1&limit=1 (Caused by SSLError(OSError(24, 'Too many open files')))\n",
      " 97%|█████████▋| 4223/4334 [35:08<00:59,  1.85it/s]Status code Unknown from https://nominatim.openstreetmap.org/search: ERROR - HTTPSConnectionPool(host='nominatim.openstreetmap.org', port=443): Max retries exceeded with url: /search?q=touhou&format=jsonv2&addressdetails=1&limit=1 (Caused by SSLError(OSError(24, 'Too many open files')))\n",
      "Status code Unknown from https://nominatim.openstreetmap.org/search: ERROR - HTTPSConnectionPool(host='nominatim.openstreetmap.org', port=443): Max retries exceeded with url: /search?q=Ashesof+Creation&format=jsonv2&addressdetails=1&limit=1 (Caused by SSLError(OSError(24, 'Too many open files')))\n",
      " 97%|█████████▋| 4225/4334 [35:09<01:00,  1.81it/s]Status code Unknown from https://nominatim.openstreetmap.org/search: ERROR - HTTPSConnectionPool(host='nominatim.openstreetmap.org', port=443): Max retries exceeded with url: /search?q=Ifyouhadtopickone&format=jsonv2&addressdetails=1&limit=1 (Caused by SSLError(OSError(24, 'Too many open files')))\n",
      "Status code Unknown from https://nominatim.openstreetmap.org/search: ERROR - HTTPSConnectionPool(host='nominatim.openstreetmap.org', port=443): Max retries exceeded with url: /search?q=Iowa+City&format=jsonv2&addressdetails=1&limit=1 (Caused by SSLError(OSError(24, 'Too many open files')))\n",
      " 98%|█████████▊| 4227/4334 [35:09<00:42,  2.52it/s]Status code Unknown from https://nominatim.openstreetmap.org/search: ERROR - HTTPSConnectionPool(host='nominatim.openstreetmap.org', port=443): Max retries exceeded with url: /search?q=Dokkan+Battle+Community&format=jsonv2&addressdetails=1&limit=1 (Caused by SSLError(OSError(24, 'Too many open files')))\n"
     ]
    },
    {
     "name": "stderr",
     "output_type": "stream",
     "text": [
      " 98%|█████████▊| 4228/4334 [35:10<00:55,  1.93it/s]Status code Unknown from https://nominatim.openstreetmap.org/search: ERROR - HTTPSConnectionPool(host='nominatim.openstreetmap.org', port=443): Max retries exceeded with url: /search?q=Fire+Emblem+Three+Houses&format=jsonv2&addressdetails=1&limit=1 (Caused by SSLError(OSError(24, 'Too many open files')))\n",
      "Status code Unknown from https://nominatim.openstreetmap.org/search: ERROR - HTTPSConnectionPool(host='nominatim.openstreetmap.org', port=443): Max retries exceeded with url: /search?q=csgomarketforum&format=jsonv2&addressdetails=1&limit=1 (Caused by SSLError(OSError(24, 'Too many open files')))\n",
      " 98%|█████████▊| 4230/4334 [35:11<00:55,  1.87it/s]Status code Unknown from https://nominatim.openstreetmap.org/search: ERROR - HTTPSConnectionPool(host='nominatim.openstreetmap.org', port=443): Max retries exceeded with url: /search?q=shiba&format=jsonv2&addressdetails=1&limit=1 (Caused by SSLError(OSError(24, 'Too many open files')))\n",
      "Status code Unknown from https://nominatim.openstreetmap.org/search: ERROR - HTTPSConnectionPool(host='nominatim.openstreetmap.org', port=443): Max retries exceeded with url: /search?q=EIDL&format=jsonv2&addressdetails=1&limit=1 (Caused by SSLError(OSError(24, 'Too many open files')))\n",
      " 98%|█████████▊| 4232/4334 [35:12<00:55,  1.83it/s]Status code Unknown from https://nominatim.openstreetmap.org/search: ERROR - HTTPSConnectionPool(host='nominatim.openstreetmap.org', port=443): Max retries exceeded with url: /search?q=Lubbock&format=jsonv2&addressdetails=1&limit=1 (Caused by SSLError(OSError(24, 'Too many open files')))\n",
      "Status code Unknown from https://nominatim.openstreetmap.org/search: ERROR - HTTPSConnectionPool(host='nominatim.openstreetmap.org', port=443): Max retries exceeded with url: /search?q=Gun+Memes&format=jsonv2&addressdetails=1&limit=1 (Caused by SSLError(OSError(24, 'Too many open files')))\n",
      " 98%|█████████▊| 4234/4334 [35:13<00:39,  2.56it/s]Status code Unknown from https://nominatim.openstreetmap.org/search: ERROR - HTTPSConnectionPool(host='nominatim.openstreetmap.org', port=443): Max retries exceeded with url: /search?q=Huawei&format=jsonv2&addressdetails=1&limit=1 (Caused by SSLError(OSError(24, 'Too many open files')))\n",
      " 98%|█████████▊| 4235/4334 [35:14<00:51,  1.94it/s]Status code Unknown from https://nominatim.openstreetmap.org/search: ERROR - HTTPSConnectionPool(host='nominatim.openstreetmap.org', port=443): Max retries exceeded with url: /search?q=cpp+questions&format=jsonv2&addressdetails=1&limit=1 (Caused by SSLError(OSError(24, 'Too many open files')))\n",
      "Status code Unknown from https://nominatim.openstreetmap.org/search: ERROR - HTTPSConnectionPool(host='nominatim.openstreetmap.org', port=443): Max retries exceeded with url: /search?q=AMDLaptops&format=jsonv2&addressdetails=1&limit=1 (Caused by SSLError(OSError(24, 'Too many open files')))\n",
      " 98%|█████████▊| 4237/4334 [35:15<00:52,  1.86it/s]Status code Unknown from https://nominatim.openstreetmap.org/search: ERROR - HTTPSConnectionPool(host='nominatim.openstreetmap.org', port=443): Max retries exceeded with url: /search?q=Ask+Balkans&format=jsonv2&addressdetails=1&limit=1 (Caused by SSLError(OSError(24, 'Too many open files')))\n",
      "Status code Unknown from https://nominatim.openstreetmap.org/search: ERROR - HTTPSConnectionPool(host='nominatim.openstreetmap.org', port=443): Max retries exceeded with url: /search?q=fortwayne&format=jsonv2&addressdetails=1&limit=1 (Caused by SSLError(OSError(24, 'Too many open files')))\n",
      " 98%|█████████▊| 4239/4334 [35:16<00:52,  1.82it/s]Status code Unknown from https://nominatim.openstreetmap.org/search: ERROR - HTTPSConnectionPool(host='nominatim.openstreetmap.org', port=443): Max retries exceeded with url: /search?q=skoolies&format=jsonv2&addressdetails=1&limit=1 (Caused by SSLError(OSError(24, 'Too many open files')))\n",
      "Status code Unknown from https://nominatim.openstreetmap.org/search: ERROR - HTTPSConnectionPool(host='nominatim.openstreetmap.org', port=443): Max retries exceeded with url: /search?q=Fighters&format=jsonv2&addressdetails=1&limit=1 (Caused by SSLError(OSError(24, 'Too many open files')))\n",
      " 98%|█████████▊| 4241/4334 [35:16<00:36,  2.55it/s]Status code Unknown from https://nominatim.openstreetmap.org/search: ERROR - HTTPSConnectionPool(host='nominatim.openstreetmap.org', port=443): Max retries exceeded with url: /search?q=Marvel+Legends&format=jsonv2&addressdetails=1&limit=1 (Caused by SSLError(OSError(24, 'Too many open files')))\n",
      " 98%|█████████▊| 4242/4334 [35:17<00:47,  1.93it/s]Status code Unknown from https://nominatim.openstreetmap.org/search: ERROR - HTTPSConnectionPool(host='nominatim.openstreetmap.org', port=443): Max retries exceeded with url: /search?q=Oculus+Quest2&format=jsonv2&addressdetails=1&limit=1 (Caused by SSLError(OSError(24, 'Too many open files')))\n",
      "Status code Unknown from https://nominatim.openstreetmap.org/search: ERROR - HTTPSConnectionPool(host='nominatim.openstreetmap.org', port=443): Max retries exceeded with url: /search?q=Miniswap&format=jsonv2&addressdetails=1&limit=1 (Caused by SSLError(OSError(24, 'Too many open files')))\n",
      " 98%|█████████▊| 4244/4334 [35:18<00:48,  1.86it/s]Status code Unknown from https://nominatim.openstreetmap.org/search: ERROR - HTTPSConnectionPool(host='nominatim.openstreetmap.org', port=443): Max retries exceeded with url: /search?q=Comedy+Necrophilia&format=jsonv2&addressdetails=1&limit=1 (Caused by SSLError(OSError(24, 'Too many open files')))\n",
      "Status code Unknown from https://nominatim.openstreetmap.org/search: ERROR - HTTPSConnectionPool(host='nominatim.openstreetmap.org', port=443): Max retries exceeded with url: /search?q=Battletechgame&format=jsonv2&addressdetails=1&limit=1 (Caused by SSLError(OSError(24, 'Too many open files')))\n",
      " 98%|█████████▊| 4246/4334 [35:19<00:48,  1.82it/s]Status code Unknown from https://nominatim.openstreetmap.org/search: ERROR - HTTPSConnectionPool(host='nominatim.openstreetmap.org', port=443): Max retries exceeded with url: /search?q=911dispatchers&format=jsonv2&addressdetails=1&limit=1 (Caused by SSLError(OSError(24, 'Too many open files')))\n",
      "Status code Unknown from https://nominatim.openstreetmap.org/search: ERROR - HTTPSConnectionPool(host='nominatim.openstreetmap.org', port=443): Max retries exceeded with url: /search?q=Enough+Commie+Spam&format=jsonv2&addressdetails=1&limit=1 (Caused by SSLError(OSError(24, 'Too many open files')))\n",
      " 98%|█████████▊| 4248/4334 [35:19<00:33,  2.54it/s]Status code Unknown from https://nominatim.openstreetmap.org/search: ERROR - HTTPSConnectionPool(host='nominatim.openstreetmap.org', port=443): Max retries exceeded with url: /search?q=pacers&format=jsonv2&addressdetails=1&limit=1 (Caused by SSLError(OSError(24, 'Too many open files')))\n",
      " 98%|█████████▊| 4249/4334 [35:21<00:44,  1.93it/s]Status code Unknown from https://nominatim.openstreetmap.org/search: ERROR - HTTPSConnectionPool(host='nominatim.openstreetmap.org', port=443): Max retries exceeded with url: /search?q=premiere&format=jsonv2&addressdetails=1&limit=1 (Caused by SSLError(OSError(24, 'Too many open files')))\n",
      "Status code Unknown from https://nominatim.openstreetmap.org/search: ERROR - HTTPSConnectionPool(host='nominatim.openstreetmap.org', port=443): Max retries exceeded with url: /search?q=gopro&format=jsonv2&addressdetails=1&limit=1 (Caused by SSLError(OSError(24, 'Too many open files')))\n",
      " 98%|█████████▊| 4251/4334 [35:22<00:44,  1.86it/s]Status code Unknown from https://nominatim.openstreetmap.org/search: ERROR - HTTPSConnectionPool(host='nominatim.openstreetmap.org', port=443): Max retries exceeded with url: /search?q=druggardening&format=jsonv2&addressdetails=1&limit=1 (Caused by SSLError(OSError(24, 'Too many open files')))\n",
      "Status code Unknown from https://nominatim.openstreetmap.org/search: ERROR - HTTPSConnectionPool(host='nominatim.openstreetmap.org', port=443): Max retries exceeded with url: /search?q=esports&format=jsonv2&addressdetails=1&limit=1 (Caused by SSLError(OSError(24, 'Too many open files')))\n",
      " 98%|█████████▊| 4253/4334 [35:23<00:44,  1.82it/s]Status code Unknown from https://nominatim.openstreetmap.org/search: ERROR - HTTPSConnectionPool(host='nominatim.openstreetmap.org', port=443): Max retries exceeded with url: /search?q=antifastonetoss&format=jsonv2&addressdetails=1&limit=1 (Caused by SSLError(OSError(24, 'Too many open files')))\n"
     ]
    },
    {
     "name": "stderr",
     "output_type": "stream",
     "text": [
      "Status code Unknown from https://nominatim.openstreetmap.org/search: ERROR - HTTPSConnectionPool(host='nominatim.openstreetmap.org', port=443): Max retries exceeded with url: /search?q=STD&format=jsonv2&addressdetails=1&limit=1 (Caused by SSLError(OSError(24, 'Too many open files')))\n",
      " 98%|█████████▊| 4255/4334 [35:23<00:31,  2.55it/s]Status code Unknown from https://nominatim.openstreetmap.org/search: ERROR - HTTPSConnectionPool(host='nominatim.openstreetmap.org', port=443): Max retries exceeded with url: /search?q=weezer&format=jsonv2&addressdetails=1&limit=1 (Caused by SSLError(OSError(24, 'Too many open files')))\n",
      " 98%|█████████▊| 4256/4334 [35:24<00:40,  1.93it/s]Status code Unknown from https://nominatim.openstreetmap.org/search: ERROR - HTTPSConnectionPool(host='nominatim.openstreetmap.org', port=443): Max retries exceeded with url: /search?q=Mariners&format=jsonv2&addressdetails=1&limit=1 (Caused by SSLError(OSError(24, 'Too many open files')))\n",
      "Status code Unknown from https://nominatim.openstreetmap.org/search: ERROR - HTTPSConnectionPool(host='nominatim.openstreetmap.org', port=443): Max retries exceeded with url: /search?q=Snus&format=jsonv2&addressdetails=1&limit=1 (Caused by SSLError(OSError(24, 'Too many open files')))\n",
      " 98%|█████████▊| 4258/4334 [35:25<00:40,  1.88it/s]Status code Unknown from https://nominatim.openstreetmap.org/search: ERROR - HTTPSConnectionPool(host='nominatim.openstreetmap.org', port=443): Max retries exceeded with url: /search?q=arresteddevelopment&format=jsonv2&addressdetails=1&limit=1 (Caused by SSLError(OSError(24, 'Too many open files')))\n",
      "Status code Unknown from https://nominatim.openstreetmap.org/search: ERROR - HTTPSConnectionPool(host='nominatim.openstreetmap.org', port=443): Max retries exceeded with url: /search?q=nihilism&format=jsonv2&addressdetails=1&limit=1 (Caused by SSLError(OSError(24, 'Too many open files')))\n",
      " 98%|█████████▊| 4260/4334 [35:26<00:40,  1.85it/s]Status code Unknown from https://nominatim.openstreetmap.org/search: ERROR - HTTPSConnectionPool(host='nominatim.openstreetmap.org', port=443): Max retries exceeded with url: /search?q=Design&format=jsonv2&addressdetails=1&limit=1 (Caused by SSLError(OSError(24, 'Too many open files')))\n",
      "Status code Unknown from https://nominatim.openstreetmap.org/search: ERROR - HTTPSConnectionPool(host='nominatim.openstreetmap.org', port=443): Max retries exceeded with url: /search?q=Avatar+Memes&format=jsonv2&addressdetails=1&limit=1 (Caused by SSLError(OSError(24, 'Too many open files')))\n",
      " 98%|█████████▊| 4262/4334 [35:27<00:39,  1.81it/s]Status code Unknown from https://nominatim.openstreetmap.org/search: ERROR - HTTPSConnectionPool(host='nominatim.openstreetmap.org', port=443): Max retries exceeded with url: /search?q=FPSAim+Trainer&format=jsonv2&addressdetails=1&limit=1 (Caused by SSLError(OSError(24, 'Too many open files')))\n",
      "Status code Unknown from https://nominatim.openstreetmap.org/search: ERROR - HTTPSConnectionPool(host='nominatim.openstreetmap.org', port=443): Max retries exceeded with url: /search?q=Louisvuitton&format=jsonv2&addressdetails=1&limit=1 (Caused by SSLError(OSError(24, 'Too many open files')))\n",
      " 98%|█████████▊| 4264/4334 [35:28<00:27,  2.52it/s]Status code Unknown from https://nominatim.openstreetmap.org/search: ERROR - HTTPSConnectionPool(host='nominatim.openstreetmap.org', port=443): Max retries exceeded with url: /search?q=prettyaltgirls&format=jsonv2&addressdetails=1&limit=1 (Caused by SSLError(OSError(24, 'Too many open files')))\n",
      " 98%|█████████▊| 4265/4334 [35:29<00:35,  1.92it/s]Status code Unknown from https://nominatim.openstreetmap.org/search: ERROR - HTTPSConnectionPool(host='nominatim.openstreetmap.org', port=443): Max retries exceeded with url: /search?q=Deuxmoi&format=jsonv2&addressdetails=1&limit=1 (Caused by SSLError(OSError(24, 'Too many open files')))\n",
      "Status code Unknown from https://nominatim.openstreetmap.org/search: ERROR - HTTPSConnectionPool(host='nominatim.openstreetmap.org', port=443): Max retries exceeded with url: /search?q=G502Master+Race&format=jsonv2&addressdetails=1&limit=1 (Caused by SSLError(OSError(24, 'Too many open files')))\n",
      " 98%|█████████▊| 4267/4334 [35:30<00:36,  1.85it/s]Status code Unknown from https://nominatim.openstreetmap.org/search: ERROR - HTTPSConnectionPool(host='nominatim.openstreetmap.org', port=443): Max retries exceeded with url: /search?q=i+OSthemes&format=jsonv2&addressdetails=1&limit=1 (Caused by SSLError(OSError(24, 'Too many open files')))\n",
      "Status code Unknown from https://nominatim.openstreetmap.org/search: ERROR - HTTPSConnectionPool(host='nominatim.openstreetmap.org', port=443): Max retries exceeded with url: /search?q=MHRise&format=jsonv2&addressdetails=1&limit=1 (Caused by SSLError(OSError(24, 'Too many open files')))\n",
      " 99%|█████████▊| 4269/4334 [35:31<00:35,  1.83it/s]Status code Unknown from https://nominatim.openstreetmap.org/search: ERROR - HTTPSConnectionPool(host='nominatim.openstreetmap.org', port=443): Max retries exceeded with url: /search?q=nameaserver&format=jsonv2&addressdetails=1&limit=1 (Caused by SSLError(OSError(24, 'Too many open files')))\n",
      "Status code Unknown from https://nominatim.openstreetmap.org/search: ERROR - HTTPSConnectionPool(host='nominatim.openstreetmap.org', port=443): Max retries exceeded with url: /search?q=Scrubs&format=jsonv2&addressdetails=1&limit=1 (Caused by SSLError(OSError(24, 'Too many open files')))\n",
      " 99%|█████████▊| 4271/4334 [35:31<00:24,  2.56it/s]Status code Unknown from https://nominatim.openstreetmap.org/search: ERROR - HTTPSConnectionPool(host='nominatim.openstreetmap.org', port=443): Max retries exceeded with url: /search?q=energy+work&format=jsonv2&addressdetails=1&limit=1 (Caused by SSLError(OSError(24, 'Too many open files')))\n",
      " 99%|█████████▊| 4272/4334 [35:32<00:31,  1.94it/s]Status code Unknown from https://nominatim.openstreetmap.org/search: ERROR - HTTPSConnectionPool(host='nominatim.openstreetmap.org', port=443): Max retries exceeded with url: /search?q=sushi&format=jsonv2&addressdetails=1&limit=1 (Caused by SSLError(OSError(24, 'Too many open files')))\n",
      "Status code Unknown from https://nominatim.openstreetmap.org/search: ERROR - HTTPSConnectionPool(host='nominatim.openstreetmap.org', port=443): Max retries exceeded with url: /search?q=Hiphopcirclejerk&format=jsonv2&addressdetails=1&limit=1 (Caused by SSLError(OSError(24, 'Too many open files')))\n",
      " 99%|█████████▊| 4274/4334 [35:33<00:32,  1.86it/s]Status code Unknown from https://nominatim.openstreetmap.org/search: ERROR - HTTPSConnectionPool(host='nominatim.openstreetmap.org', port=443): Max retries exceeded with url: /search?q=eero&format=jsonv2&addressdetails=1&limit=1 (Caused by SSLError(OSError(24, 'Too many open files')))\n",
      "Status code Unknown from https://nominatim.openstreetmap.org/search: ERROR - HTTPSConnectionPool(host='nominatim.openstreetmap.org', port=443): Max retries exceeded with url: /search?q=freenas&format=jsonv2&addressdetails=1&limit=1 (Caused by SSLError(OSError(24, 'Too many open files')))\n",
      " 99%|█████████▊| 4276/4334 [35:34<00:31,  1.84it/s]Status code Unknown from https://nominatim.openstreetmap.org/search: ERROR - HTTPSConnectionPool(host='nominatim.openstreetmap.org', port=443): Max retries exceeded with url: /search?q=darkestdungeon&format=jsonv2&addressdetails=1&limit=1 (Caused by SSLError(OSError(24, 'Too many open files')))\n",
      "Status code Unknown from https://nominatim.openstreetmap.org/search: ERROR - HTTPSConnectionPool(host='nominatim.openstreetmap.org', port=443): Max retries exceeded with url: /search?q=COents&format=jsonv2&addressdetails=1&limit=1 (Caused by SSLError(OSError(24, 'Too many open files')))\n",
      " 99%|█████████▊| 4278/4334 [35:35<00:30,  1.82it/s]Status code Unknown from https://nominatim.openstreetmap.org/search: ERROR - HTTPSConnectionPool(host='nominatim.openstreetmap.org', port=443): Max retries exceeded with url: /search?q=canes&format=jsonv2&addressdetails=1&limit=1 (Caused by SSLError(OSError(24, 'Too many open files')))\n",
      "Status code Unknown from https://nominatim.openstreetmap.org/search: ERROR - HTTPSConnectionPool(host='nominatim.openstreetmap.org', port=443): Max retries exceeded with url: /search?q=trailrunning&format=jsonv2&addressdetails=1&limit=1 (Caused by SSLError(OSError(24, 'Too many open files')))\n"
     ]
    },
    {
     "name": "stderr",
     "output_type": "stream",
     "text": [
      " 99%|█████████▉| 4280/4334 [35:36<00:21,  2.53it/s]Status code Unknown from https://nominatim.openstreetmap.org/search: ERROR - HTTPSConnectionPool(host='nominatim.openstreetmap.org', port=443): Max retries exceeded with url: /search?q=Hazbin+Hotel&format=jsonv2&addressdetails=1&limit=1 (Caused by SSLError(OSError(24, 'Too many open files')))\n",
      " 99%|█████████▉| 4281/4334 [35:37<00:27,  1.93it/s]Status code Unknown from https://nominatim.openstreetmap.org/search: ERROR - HTTPSConnectionPool(host='nominatim.openstreetmap.org', port=443): Max retries exceeded with url: /search?q=Lineage+OS&format=jsonv2&addressdetails=1&limit=1 (Caused by SSLError(OSError(24, 'Too many open files')))\n",
      "Status code Unknown from https://nominatim.openstreetmap.org/search: ERROR - HTTPSConnectionPool(host='nominatim.openstreetmap.org', port=443): Max retries exceeded with url: /search?q=Bushcraft&format=jsonv2&addressdetails=1&limit=1 (Caused by SSLError(OSError(24, 'Too many open files')))\n",
      " 99%|█████████▉| 4283/4334 [35:38<00:27,  1.86it/s]Status code Unknown from https://nominatim.openstreetmap.org/search: ERROR - HTTPSConnectionPool(host='nominatim.openstreetmap.org', port=443): Max retries exceeded with url: /search?q=homesecurity&format=jsonv2&addressdetails=1&limit=1 (Caused by SSLError(OSError(24, 'Too many open files')))\n",
      "Status code Unknown from https://nominatim.openstreetmap.org/search: ERROR - HTTPSConnectionPool(host='nominatim.openstreetmap.org', port=443): Max retries exceeded with url: /search?q=axolotls&format=jsonv2&addressdetails=1&limit=1 (Caused by SSLError(OSError(24, 'Too many open files')))\n",
      " 99%|█████████▉| 4285/4334 [35:38<00:18,  2.63it/s]Status code Unknown from https://nominatim.openstreetmap.org/search: ERROR - HTTPSConnectionPool(host='nominatim.openstreetmap.org', port=443): Max retries exceeded with url: /search?q=Korean+Food&format=jsonv2&addressdetails=1&limit=1 (Caused by SSLError(OSError(24, 'Too many open files')))\n",
      "Status code Unknown from https://nominatim.openstreetmap.org/search: ERROR - HTTPSConnectionPool(host='nominatim.openstreetmap.org', port=443): Max retries exceeded with url: /search?q=Hidradenitis&format=jsonv2&addressdetails=1&limit=1 (Caused by SSLError(OSError(24, 'Too many open files')))\n",
      " 99%|█████████▉| 4287/4334 [35:38<00:13,  3.60it/s]Status code Unknown from https://nominatim.openstreetmap.org/search: ERROR - HTTPSConnectionPool(host='nominatim.openstreetmap.org', port=443): Max retries exceeded with url: /search?q=ECE&format=jsonv2&addressdetails=1&limit=1 (Caused by SSLError(OSError(24, 'Too many open files')))\n",
      "Status code Unknown from https://nominatim.openstreetmap.org/search: ERROR - HTTPSConnectionPool(host='nominatim.openstreetmap.org', port=443): Max retries exceeded with url: /search?q=sabaton&format=jsonv2&addressdetails=1&limit=1 (Caused by SSLError(OSError(24, 'Too many open files')))\n",
      " 99%|█████████▉| 4289/4334 [35:38<00:09,  4.78it/s]Status code Unknown from https://nominatim.openstreetmap.org/search: ERROR - HTTPSConnectionPool(host='nominatim.openstreetmap.org', port=443): Max retries exceeded with url: /search?q=pathofdiablo&format=jsonv2&addressdetails=1&limit=1 (Caused by SSLError(OSError(24, 'Too many open files')))\n",
      "Status code Unknown from https://nominatim.openstreetmap.org/search: ERROR - HTTPSConnectionPool(host='nominatim.openstreetmap.org', port=443): Max retries exceeded with url: /search?q=FTMMen&format=jsonv2&addressdetails=1&limit=1 (Caused by SSLError(OSError(24, 'Too many open files')))\n",
      " 99%|█████████▉| 4291/4334 [35:38<00:07,  6.13it/s]Status code Unknown from https://nominatim.openstreetmap.org/search: ERROR - HTTPSConnectionPool(host='nominatim.openstreetmap.org', port=443): Max retries exceeded with url: /search?q=behindthebastards&format=jsonv2&addressdetails=1&limit=1 (Caused by SSLError(OSError(24, 'Too many open files')))\n",
      "Status code Unknown from https://nominatim.openstreetmap.org/search: ERROR - HTTPSConnectionPool(host='nominatim.openstreetmap.org', port=443): Max retries exceeded with url: /search?q=petsmart&format=jsonv2&addressdetails=1&limit=1 (Caused by SSLError(OSError(24, 'Too many open files')))\n",
      " 99%|█████████▉| 4293/4334 [35:38<00:05,  7.59it/s]Status code Unknown from https://nominatim.openstreetmap.org/search: ERROR - HTTPSConnectionPool(host='nominatim.openstreetmap.org', port=443): Max retries exceeded with url: /search?q=Bible&format=jsonv2&addressdetails=1&limit=1 (Caused by SSLError(OSError(24, 'Too many open files')))\n",
      "Status code Unknown from https://nominatim.openstreetmap.org/search: ERROR - HTTPSConnectionPool(host='nominatim.openstreetmap.org', port=443): Max retries exceeded with url: /search?q=Mobile+Legends+Game&format=jsonv2&addressdetails=1&limit=1 (Caused by SSLError(OSError(24, 'Too many open files')))\n",
      " 99%|█████████▉| 4295/4334 [35:39<00:04,  9.10it/s]Status code Unknown from https://nominatim.openstreetmap.org/search: ERROR - HTTPSConnectionPool(host='nominatim.openstreetmap.org', port=443): Max retries exceeded with url: /search?q=Australian+Teachers&format=jsonv2&addressdetails=1&limit=1 (Caused by SSLError(OSError(24, 'Too many open files')))\n",
      "Status code Unknown from https://nominatim.openstreetmap.org/search: ERROR - HTTPSConnectionPool(host='nominatim.openstreetmap.org', port=443): Max retries exceeded with url: /search?q=electronicmusic&format=jsonv2&addressdetails=1&limit=1 (Caused by SSLError(OSError(24, 'Too many open files')))\n",
      " 99%|█████████▉| 4297/4334 [35:39<00:03, 10.52it/s]Status code Unknown from https://nominatim.openstreetmap.org/search: ERROR - HTTPSConnectionPool(host='nominatim.openstreetmap.org', port=443): Max retries exceeded with url: /search?q=Elite+Miners&format=jsonv2&addressdetails=1&limit=1 (Caused by SSLError(OSError(24, 'Too many open files')))\n",
      "Status code Unknown from https://nominatim.openstreetmap.org/search: ERROR - HTTPSConnectionPool(host='nominatim.openstreetmap.org', port=443): Max retries exceeded with url: /search?q=leaf&format=jsonv2&addressdetails=1&limit=1 (Caused by SSLError(OSError(24, 'Too many open files')))\n",
      " 99%|█████████▉| 4299/4334 [35:40<00:08,  4.19it/s]Status code Unknown from https://nominatim.openstreetmap.org/search: ERROR - HTTPSConnectionPool(host='nominatim.openstreetmap.org', port=443): Max retries exceeded with url: /search?q=Life+Advice&format=jsonv2&addressdetails=1&limit=1 (Caused by SSLError(OSError(24, 'Too many open files')))\n",
      "Status code Unknown from https://nominatim.openstreetmap.org/search: ERROR - HTTPSConnectionPool(host='nominatim.openstreetmap.org', port=443): Max retries exceeded with url: /search?q=Workers+Comp&format=jsonv2&addressdetails=1&limit=1 (Caused by SSLError(OSError(24, 'Too many open files')))\n",
      " 99%|█████████▉| 4301/4334 [35:40<00:06,  5.41it/s]Status code Unknown from https://nominatim.openstreetmap.org/search: ERROR - HTTPSConnectionPool(host='nominatim.openstreetmap.org', port=443): Max retries exceeded with url: /search?q=mattcolville&format=jsonv2&addressdetails=1&limit=1 (Caused by SSLError(OSError(24, 'Too many open files')))\n",
      "Status code Unknown from https://nominatim.openstreetmap.org/search: ERROR - HTTPSConnectionPool(host='nominatim.openstreetmap.org', port=443): Max retries exceeded with url: /search?q=Pandemic+Preps&format=jsonv2&addressdetails=1&limit=1 (Caused by SSLError(OSError(24, 'Too many open files')))\n",
      " 99%|█████████▉| 4303/4334 [35:41<00:09,  3.35it/s]Status code Unknown from https://nominatim.openstreetmap.org/search: ERROR - HTTPSConnectionPool(host='nominatim.openstreetmap.org', port=443): Max retries exceeded with url: /search?q=Ask+History&format=jsonv2&addressdetails=1&limit=1 (Caused by SSLError(OSError(24, 'Too many open files')))\n",
      " 99%|█████████▉| 4304/4334 [35:42<00:13,  2.28it/s]Status code Unknown from https://nominatim.openstreetmap.org/search: ERROR - HTTPSConnectionPool(host='nominatim.openstreetmap.org', port=443): Max retries exceeded with url: /search?q=Kingston+Ontario&format=jsonv2&addressdetails=1&limit=1 (Caused by SSLError(OSError(24, 'Too many open files')))\n",
      "Status code Unknown from https://nominatim.openstreetmap.org/search: ERROR - HTTPSConnectionPool(host='nominatim.openstreetmap.org', port=443): Max retries exceeded with url: /search?q=orks&format=jsonv2&addressdetails=1&limit=1 (Caused by SSLError(OSError(24, 'Too many open files')))\n"
     ]
    },
    {
     "name": "stderr",
     "output_type": "stream",
     "text": [
      " 99%|█████████▉| 4306/4334 [35:43<00:13,  2.06it/s]Status code Unknown from https://nominatim.openstreetmap.org/search: ERROR - HTTPSConnectionPool(host='nominatim.openstreetmap.org', port=443): Max retries exceeded with url: /search?q=For+All+Mankind+TV&format=jsonv2&addressdetails=1&limit=1 (Caused by SSLError(OSError(24, 'Too many open files')))\n",
      "Status code Unknown from https://nominatim.openstreetmap.org/search: ERROR - HTTPSConnectionPool(host='nominatim.openstreetmap.org', port=443): Max retries exceeded with url: /search?q=phinvest&format=jsonv2&addressdetails=1&limit=1 (Caused by SSLError(OSError(24, 'Too many open files')))\n",
      " 99%|█████████▉| 4308/4334 [35:43<00:09,  2.88it/s]Status code Unknown from https://nominatim.openstreetmap.org/search: ERROR - HTTPSConnectionPool(host='nominatim.openstreetmap.org', port=443): Max retries exceeded with url: /search?q=idlechampions&format=jsonv2&addressdetails=1&limit=1 (Caused by SSLError(OSError(24, 'Too many open files')))\n",
      " 99%|█████████▉| 4309/4334 [35:44<00:12,  2.08it/s]Status code Unknown from https://nominatim.openstreetmap.org/search: ERROR - HTTPSConnectionPool(host='nominatim.openstreetmap.org', port=443): Max retries exceeded with url: /search?q=Detroit+Become+Human&format=jsonv2&addressdetails=1&limit=1 (Caused by SSLError(OSError(24, 'Too many open files')))\n",
      "Status code Unknown from https://nominatim.openstreetmap.org/search: ERROR - HTTPSConnectionPool(host='nominatim.openstreetmap.org', port=443): Max retries exceeded with url: /search?q=Beastars&format=jsonv2&addressdetails=1&limit=1 (Caused by SSLError(OSError(24, 'Too many open files')))\n",
      " 99%|█████████▉| 4311/4334 [35:46<00:11,  1.94it/s]Status code Unknown from https://nominatim.openstreetmap.org/search: ERROR - HTTPSConnectionPool(host='nominatim.openstreetmap.org', port=443): Max retries exceeded with url: /search?q=frogs&format=jsonv2&addressdetails=1&limit=1 (Caused by SSLError(OSError(24, 'Too many open files')))\n",
      "Status code Unknown from https://nominatim.openstreetmap.org/search: ERROR - HTTPSConnectionPool(host='nominatim.openstreetmap.org', port=443): Max retries exceeded with url: /search?q=silenthill&format=jsonv2&addressdetails=1&limit=1 (Caused by SSLError(OSError(24, 'Too many open files')))\n",
      "100%|█████████▉| 4313/4334 [35:47<00:11,  1.87it/s]Status code Unknown from https://nominatim.openstreetmap.org/search: ERROR - HTTPSConnectionPool(host='nominatim.openstreetmap.org', port=443): Max retries exceeded with url: /search?q=tylerthecreator&format=jsonv2&addressdetails=1&limit=1 (Caused by SSLError(OSError(24, 'Too many open files')))\n",
      "Status code Unknown from https://nominatim.openstreetmap.org/search: ERROR - HTTPSConnectionPool(host='nominatim.openstreetmap.org', port=443): Max retries exceeded with url: /search?q=Office+Depot&format=jsonv2&addressdetails=1&limit=1 (Caused by SSLError(OSError(24, 'Too many open files')))\n",
      "100%|█████████▉| 4315/4334 [35:47<00:07,  2.62it/s]Status code Unknown from https://nominatim.openstreetmap.org/search: ERROR - HTTPSConnectionPool(host='nominatim.openstreetmap.org', port=443): Max retries exceeded with url: /search?q=biotech&format=jsonv2&addressdetails=1&limit=1 (Caused by SSLError(OSError(24, 'Too many open files')))\n",
      "100%|█████████▉| 4316/4334 [35:48<00:09,  1.96it/s]Status code Unknown from https://nominatim.openstreetmap.org/search: ERROR - HTTPSConnectionPool(host='nominatim.openstreetmap.org', port=443): Max retries exceeded with url: /search?q=Interstitialcystitis&format=jsonv2&addressdetails=1&limit=1 (Caused by SSLError(OSError(24, 'Too many open files')))\n",
      "Status code Unknown from https://nominatim.openstreetmap.org/search: ERROR - HTTPSConnectionPool(host='nominatim.openstreetmap.org', port=443): Max retries exceeded with url: /search?q=yeezys&format=jsonv2&addressdetails=1&limit=1 (Caused by SSLError(OSError(24, 'Too many open files')))\n",
      "100%|█████████▉| 4318/4334 [35:49<00:08,  1.88it/s]Status code Unknown from https://nominatim.openstreetmap.org/search: ERROR - HTTPSConnectionPool(host='nominatim.openstreetmap.org', port=443): Max retries exceeded with url: /search?q=Empire+Did+Nothing+Wrong&format=jsonv2&addressdetails=1&limit=1 (Caused by SSLError(OSError(24, 'Too many open files')))\n",
      "Status code Unknown from https://nominatim.openstreetmap.org/search: ERROR - HTTPSConnectionPool(host='nominatim.openstreetmap.org', port=443): Max retries exceeded with url: /search?q=Battle+Jackets&format=jsonv2&addressdetails=1&limit=1 (Caused by SSLError(OSError(24, 'Too many open files')))\n",
      "100%|█████████▉| 4320/4334 [35:49<00:05,  2.66it/s]Status code Unknown from https://nominatim.openstreetmap.org/search: ERROR - HTTPSConnectionPool(host='nominatim.openstreetmap.org', port=443): Max retries exceeded with url: /search?q=Body+Dysmorphia&format=jsonv2&addressdetails=1&limit=1 (Caused by SSLError(OSError(24, 'Too many open files')))\n",
      "Status code Unknown from https://nominatim.openstreetmap.org/search: ERROR - HTTPSConnectionPool(host='nominatim.openstreetmap.org', port=443): Max retries exceeded with url: /search?q=virgin&format=jsonv2&addressdetails=1&limit=1 (Caused by SSLError(OSError(24, 'Too many open files')))\n",
      "100%|█████████▉| 4322/4334 [35:49<00:03,  3.65it/s]Status code Unknown from https://nominatim.openstreetmap.org/search: ERROR - HTTPSConnectionPool(host='nominatim.openstreetmap.org', port=443): Max retries exceeded with url: /search?q=fordfusion&format=jsonv2&addressdetails=1&limit=1 (Caused by SSLError(OSError(24, 'Too many open files')))\n",
      "Status code Unknown from https://nominatim.openstreetmap.org/search: ERROR - HTTPSConnectionPool(host='nominatim.openstreetmap.org', port=443): Max retries exceeded with url: /search?q=Grand+Theft+Auto+V&format=jsonv2&addressdetails=1&limit=1 (Caused by SSLError(OSError(24, 'Too many open files')))\n",
      "100%|█████████▉| 4324/4334 [35:49<00:02,  4.84it/s]Status code Unknown from https://nominatim.openstreetmap.org/search: ERROR - HTTPSConnectionPool(host='nominatim.openstreetmap.org', port=443): Max retries exceeded with url: /search?q=Blep&format=jsonv2&addressdetails=1&limit=1 (Caused by SSLError(OSError(24, 'Too many open files')))\n",
      "Status code Unknown from https://nominatim.openstreetmap.org/search: ERROR - HTTPSConnectionPool(host='nominatim.openstreetmap.org', port=443): Max retries exceeded with url: /search?q=Ask+Computer+Science&format=jsonv2&addressdetails=1&limit=1 (Caused by SSLError(OSError(24, 'Too many open files')))\n",
      "100%|█████████▉| 4326/4334 [35:50<00:01,  6.20it/s]Status code Unknown from https://nominatim.openstreetmap.org/search: ERROR - HTTPSConnectionPool(host='nominatim.openstreetmap.org', port=443): Max retries exceeded with url: /search?q=everquest&format=jsonv2&addressdetails=1&limit=1 (Caused by SSLError(OSError(24, 'Too many open files')))\n",
      "Status code Unknown from https://nominatim.openstreetmap.org/search: ERROR - HTTPSConnectionPool(host='nominatim.openstreetmap.org', port=443): Max retries exceeded with url: /search?q=Santa+Barbara&format=jsonv2&addressdetails=1&limit=1 (Caused by SSLError(OSError(24, 'Too many open files')))\n",
      "100%|█████████▉| 4328/4334 [35:50<00:00,  7.68it/s]Status code Unknown from https://nominatim.openstreetmap.org/search: ERROR - HTTPSConnectionPool(host='nominatim.openstreetmap.org', port=443): Max retries exceeded with url: /search?q=grindr&format=jsonv2&addressdetails=1&limit=1 (Caused by SSLError(OSError(24, 'Too many open files')))\n",
      "Status code Unknown from https://nominatim.openstreetmap.org/search: ERROR - HTTPSConnectionPool(host='nominatim.openstreetmap.org', port=443): Max retries exceeded with url: /search?q=Debate+AChristian&format=jsonv2&addressdetails=1&limit=1 (Caused by SSLError(OSError(24, 'Too many open files')))\n",
      "100%|█████████▉| 4330/4334 [35:50<00:00,  9.19it/s]Status code Unknown from https://nominatim.openstreetmap.org/search: ERROR - HTTPSConnectionPool(host='nominatim.openstreetmap.org', port=443): Max retries exceeded with url: /search?q=Rants+From+Retail&format=jsonv2&addressdetails=1&limit=1 (Caused by SSLError(OSError(24, 'Too many open files')))\n",
      "Status code Unknown from https://nominatim.openstreetmap.org/search: ERROR - HTTPSConnectionPool(host='nominatim.openstreetmap.org', port=443): Max retries exceeded with url: /search?q=ACMilan&format=jsonv2&addressdetails=1&limit=1 (Caused by SSLError(OSError(24, 'Too many open files')))\n"
     ]
    },
    {
     "name": "stderr",
     "output_type": "stream",
     "text": [
      "100%|█████████▉| 4332/4334 [35:50<00:00, 10.62it/s]Status code Unknown from https://nominatim.openstreetmap.org/search: ERROR - HTTPSConnectionPool(host='nominatim.openstreetmap.org', port=443): Max retries exceeded with url: /search?q=mobilerepair&format=jsonv2&addressdetails=1&limit=1 (Caused by SSLError(OSError(24, 'Too many open files')))\n",
      "Status code Unknown from https://nominatim.openstreetmap.org/search: ERROR - HTTPSConnectionPool(host='nominatim.openstreetmap.org', port=443): Max retries exceeded with url: /search?q=Reds&format=jsonv2&addressdetails=1&limit=1 (Caused by SSLError(OSError(24, 'Too many open files')))\n",
      "100%|██████████| 4334/4334 [35:51<00:00,  2.01it/s]\n"
     ]
    }
   ],
   "source": [
    "import geocoder\n",
    "clean_subreddit_locations = list(map(lambda x: geocoder.osm(x), tqdm(clean_subreddit_names)))"
   ]
  },
  {
   "cell_type": "code",
   "execution_count": 109,
   "metadata": {
    "scrolled": true
   },
   "outputs": [
    {
     "name": "stdout",
     "output_type": "stream",
     "text": [
      "{'type': 'FeatureCollection', 'features': [{'type': 'Feature', 'properties': {'accuracy': 0.8008028207926616, 'address': 'Atlanta, Fulton County, Georgia, United States', 'bbox': [-84.551068, 33.647808, -84.28956, 33.886823], 'city': 'Atlanta', 'confidence': 1, 'country': 'United States', 'country_code': 'us', 'county': 'Fulton County', 'icon': 'https://nominatim.openstreetmap.org/ui/mapicons//poi_boundary_administrative.p.20.png', 'importance': 0.8008028207926616, 'lat': 33.7489924, 'lng': -84.3902644, 'ok': True, 'osm_id': 119557, 'osm_type': 'relation', 'place_id': 257814846, 'place_rank': 16, 'quality': 'administrative', 'raw': {'place_id': 257814846, 'licence': 'Data © OpenStreetMap contributors, ODbL 1.0. https://osm.org/copyright', 'osm_type': 'relation', 'osm_id': 119557, 'boundingbox': ['33.647808', '33.886823', '-84.551068', '-84.28956'], 'lat': '33.7489924', 'lon': '-84.3902644', 'display_name': 'Atlanta, Fulton County, Georgia, United States', 'place_rank': 16, 'category': 'boundary', 'type': 'administrative', 'importance': 0.8008028207926616, 'icon': 'https://nominatim.openstreetmap.org/ui/mapicons//poi_boundary_administrative.p.20.png', 'address': {'city': 'Atlanta', 'county': 'Fulton County', 'state': 'Georgia', 'country': 'United States', 'country_code': 'us'}}, 'region': 'Georgia', 'state': 'Georgia', 'status': 'OK', 'type': 'administrative'}, 'bbox': [-84.551068, 33.647808, -84.28956, 33.886823], 'geometry': {'type': 'Point', 'coordinates': [-84.3902644, 33.7489924]}}]}\n",
      "0.8008028207926616\n"
     ]
    }
   ],
   "source": [
    "test_name = 'Atlanta'\n",
    "test_name_location = clean_subreddit_locations[np.where(np.array(clean_subreddit_names)==test_name)[0][0]]\n",
    "print(test_name_location.geojson)\n",
    "print(test_name_location.geojson['features'][0]['properties']['accuracy'])"
   ]
  },
  {
   "cell_type": "code",
   "execution_count": 146,
   "metadata": {
    "scrolled": true
   },
   "outputs": [
    {
     "data": {
      "text/html": [
       "<div>\n",
       "<style scoped>\n",
       "    .dataframe tbody tr th:only-of-type {\n",
       "        vertical-align: middle;\n",
       "    }\n",
       "\n",
       "    .dataframe tbody tr th {\n",
       "        vertical-align: top;\n",
       "    }\n",
       "\n",
       "    .dataframe thead th {\n",
       "        text-align: right;\n",
       "    }\n",
       "</style>\n",
       "<table border=\"1\" class=\"dataframe\">\n",
       "  <thead>\n",
       "    <tr style=\"text-align: right;\">\n",
       "      <th></th>\n",
       "      <th>subreddit</th>\n",
       "      <th>clean_subreddit</th>\n",
       "      <th>location_data</th>\n",
       "      <th>accuracy</th>\n",
       "    </tr>\n",
       "  </thead>\n",
       "  <tbody>\n",
       "    <tr>\n",
       "      <th>3</th>\n",
       "      <td>Advice</td>\n",
       "      <td>Advice</td>\n",
       "      <td>{'type': 'FeatureCollection', 'features': [{'t...</td>\n",
       "      <td>0.111</td>\n",
       "    </tr>\n",
       "    <tr>\n",
       "      <th>4</th>\n",
       "      <td>politics</td>\n",
       "      <td>politics</td>\n",
       "      <td>{'type': 'FeatureCollection', 'features': [{'t...</td>\n",
       "      <td>0.101</td>\n",
       "    </tr>\n",
       "    <tr>\n",
       "      <th>10</th>\n",
       "      <td>news</td>\n",
       "      <td>news</td>\n",
       "      <td>{'type': 'FeatureCollection', 'features': [{'t...</td>\n",
       "      <td>0.300</td>\n",
       "    </tr>\n",
       "    <tr>\n",
       "      <th>11</th>\n",
       "      <td>pics</td>\n",
       "      <td>pics</td>\n",
       "      <td>{'type': 'FeatureCollection', 'features': [{'t...</td>\n",
       "      <td>0.225</td>\n",
       "    </tr>\n",
       "    <tr>\n",
       "      <th>12</th>\n",
       "      <td>funny</td>\n",
       "      <td>funny</td>\n",
       "      <td>{'type': 'FeatureCollection', 'features': [{'t...</td>\n",
       "      <td>0.101</td>\n",
       "    </tr>\n",
       "  </tbody>\n",
       "</table>\n",
       "</div>"
      ],
      "text/plain": [
       "   subreddit clean_subreddit  \\\n",
       "3     Advice          Advice   \n",
       "4   politics        politics   \n",
       "10      news            news   \n",
       "11      pics            pics   \n",
       "12     funny           funny   \n",
       "\n",
       "                                        location_data  accuracy  \n",
       "3   {'type': 'FeatureCollection', 'features': [{'t...     0.111  \n",
       "4   {'type': 'FeatureCollection', 'features': [{'t...     0.101  \n",
       "10  {'type': 'FeatureCollection', 'features': [{'t...     0.300  \n",
       "11  {'type': 'FeatureCollection', 'features': [{'t...     0.225  \n",
       "12  {'type': 'FeatureCollection', 'features': [{'t...     0.101  "
      ]
     },
     "metadata": {},
     "output_type": "display_data"
    },
    {
     "data": {
      "text/html": [
       "<div>\n",
       "<style scoped>\n",
       "    .dataframe tbody tr th:only-of-type {\n",
       "        vertical-align: middle;\n",
       "    }\n",
       "\n",
       "    .dataframe tbody tr th {\n",
       "        vertical-align: top;\n",
       "    }\n",
       "\n",
       "    .dataframe thead th {\n",
       "        text-align: right;\n",
       "    }\n",
       "</style>\n",
       "<table border=\"1\" class=\"dataframe\">\n",
       "  <thead>\n",
       "    <tr style=\"text-align: right;\">\n",
       "      <th></th>\n",
       "      <th>subreddit</th>\n",
       "      <th>clean_subreddit</th>\n",
       "      <th>location_data</th>\n",
       "      <th>accuracy</th>\n",
       "    </tr>\n",
       "  </thead>\n",
       "  <tbody>\n",
       "    <tr>\n",
       "      <th>147</th>\n",
       "      <td>canada</td>\n",
       "      <td>canada</td>\n",
       "      <td>{'type': 'FeatureCollection', 'features': [{'t...</td>\n",
       "      <td>0.966126</td>\n",
       "    </tr>\n",
       "    <tr>\n",
       "      <th>171</th>\n",
       "      <td>europe</td>\n",
       "      <td>europe</td>\n",
       "      <td>{'type': 'FeatureCollection', 'features': [{'t...</td>\n",
       "      <td>0.820707</td>\n",
       "    </tr>\n",
       "    <tr>\n",
       "      <th>174</th>\n",
       "      <td>de</td>\n",
       "      <td>de</td>\n",
       "      <td>{'type': 'FeatureCollection', 'features': [{'t...</td>\n",
       "      <td>0.989681</td>\n",
       "    </tr>\n",
       "    <tr>\n",
       "      <th>183</th>\n",
       "      <td>australia</td>\n",
       "      <td>australia</td>\n",
       "      <td>{'type': 'FeatureCollection', 'features': [{'t...</td>\n",
       "      <td>0.952135</td>\n",
       "    </tr>\n",
       "    <tr>\n",
       "      <th>243</th>\n",
       "      <td>ireland</td>\n",
       "      <td>ireland</td>\n",
       "      <td>{'type': 'FeatureCollection', 'features': [{'t...</td>\n",
       "      <td>0.873846</td>\n",
       "    </tr>\n",
       "    <tr>\n",
       "      <th>268</th>\n",
       "      <td>nyc</td>\n",
       "      <td>nyc</td>\n",
       "      <td>{'type': 'FeatureCollection', 'features': [{'t...</td>\n",
       "      <td>0.817577</td>\n",
       "    </tr>\n",
       "    <tr>\n",
       "      <th>278</th>\n",
       "      <td>ontario</td>\n",
       "      <td>ontario</td>\n",
       "      <td>{'type': 'FeatureCollection', 'features': [{'t...</td>\n",
       "      <td>0.835597</td>\n",
       "    </tr>\n",
       "    <tr>\n",
       "      <th>280</th>\n",
       "      <td>LosAngeles</td>\n",
       "      <td>Los Angeles</td>\n",
       "      <td>{'type': 'FeatureCollection', 'features': [{'t...</td>\n",
       "      <td>0.973805</td>\n",
       "    </tr>\n",
       "    <tr>\n",
       "      <th>281</th>\n",
       "      <td>chicago</td>\n",
       "      <td>chicago</td>\n",
       "      <td>{'type': 'FeatureCollection', 'features': [{'t...</td>\n",
       "      <td>0.851530</td>\n",
       "    </tr>\n",
       "    <tr>\n",
       "      <th>348</th>\n",
       "      <td>SeattleWA</td>\n",
       "      <td>Seattle WA</td>\n",
       "      <td>{'type': 'FeatureCollection', 'features': [{'t...</td>\n",
       "      <td>0.882979</td>\n",
       "    </tr>\n",
       "    <tr>\n",
       "      <th>349</th>\n",
       "      <td>philadelphia</td>\n",
       "      <td>philadelphia</td>\n",
       "      <td>{'type': 'FeatureCollection', 'features': [{'t...</td>\n",
       "      <td>0.813797</td>\n",
       "    </tr>\n",
       "    <tr>\n",
       "      <th>356</th>\n",
       "      <td>boston</td>\n",
       "      <td>boston</td>\n",
       "      <td>{'type': 'FeatureCollection', 'features': [{'t...</td>\n",
       "      <td>0.810251</td>\n",
       "    </tr>\n",
       "    <tr>\n",
       "      <th>397</th>\n",
       "      <td>melbourne</td>\n",
       "      <td>melbourne</td>\n",
       "      <td>{'type': 'FeatureCollection', 'features': [{'t...</td>\n",
       "      <td>0.804513</td>\n",
       "    </tr>\n",
       "    <tr>\n",
       "      <th>429</th>\n",
       "      <td>toronto</td>\n",
       "      <td>toronto</td>\n",
       "      <td>{'type': 'FeatureCollection', 'features': [{'t...</td>\n",
       "      <td>0.813015</td>\n",
       "    </tr>\n",
       "    <tr>\n",
       "      <th>445</th>\n",
       "      <td>ottawa</td>\n",
       "      <td>ottawa</td>\n",
       "      <td>{'type': 'FeatureCollection', 'features': [{'t...</td>\n",
       "      <td>0.871920</td>\n",
       "    </tr>\n",
       "    <tr>\n",
       "      <th>449</th>\n",
       "      <td>singapore</td>\n",
       "      <td>singapore</td>\n",
       "      <td>{'type': 'FeatureCollection', 'features': [{'t...</td>\n",
       "      <td>0.843277</td>\n",
       "    </tr>\n",
       "    <tr>\n",
       "      <th>486</th>\n",
       "      <td>france</td>\n",
       "      <td>france</td>\n",
       "      <td>{'type': 'FeatureCollection', 'features': [{'t...</td>\n",
       "      <td>1.013326</td>\n",
       "    </tr>\n",
       "    <tr>\n",
       "      <th>524</th>\n",
       "      <td>texas</td>\n",
       "      <td>texas</td>\n",
       "      <td>{'type': 'FeatureCollection', 'features': [{'t...</td>\n",
       "      <td>0.858052</td>\n",
       "    </tr>\n",
       "    <tr>\n",
       "      <th>537</th>\n",
       "      <td>india</td>\n",
       "      <td>india</td>\n",
       "      <td>{'type': 'FeatureCollection', 'features': [{'t...</td>\n",
       "      <td>0.947689</td>\n",
       "    </tr>\n",
       "    <tr>\n",
       "      <th>581</th>\n",
       "      <td>Atlanta</td>\n",
       "      <td>Atlanta</td>\n",
       "      <td>{'type': 'FeatureCollection', 'features': [{'t...</td>\n",
       "      <td>0.800803</td>\n",
       "    </tr>\n",
       "  </tbody>\n",
       "</table>\n",
       "</div>"
      ],
      "text/plain": [
       "        subreddit clean_subreddit  \\\n",
       "147        canada          canada   \n",
       "171        europe          europe   \n",
       "174            de              de   \n",
       "183     australia       australia   \n",
       "243       ireland         ireland   \n",
       "268           nyc             nyc   \n",
       "278       ontario         ontario   \n",
       "280    LosAngeles     Los Angeles   \n",
       "281       chicago         chicago   \n",
       "348     SeattleWA      Seattle WA   \n",
       "349  philadelphia    philadelphia   \n",
       "356        boston          boston   \n",
       "397     melbourne       melbourne   \n",
       "429       toronto         toronto   \n",
       "445        ottawa          ottawa   \n",
       "449     singapore       singapore   \n",
       "486        france          france   \n",
       "524         texas           texas   \n",
       "537         india           india   \n",
       "581       Atlanta         Atlanta   \n",
       "\n",
       "                                         location_data  accuracy  \n",
       "147  {'type': 'FeatureCollection', 'features': [{'t...  0.966126  \n",
       "171  {'type': 'FeatureCollection', 'features': [{'t...  0.820707  \n",
       "174  {'type': 'FeatureCollection', 'features': [{'t...  0.989681  \n",
       "183  {'type': 'FeatureCollection', 'features': [{'t...  0.952135  \n",
       "243  {'type': 'FeatureCollection', 'features': [{'t...  0.873846  \n",
       "268  {'type': 'FeatureCollection', 'features': [{'t...  0.817577  \n",
       "278  {'type': 'FeatureCollection', 'features': [{'t...  0.835597  \n",
       "280  {'type': 'FeatureCollection', 'features': [{'t...  0.973805  \n",
       "281  {'type': 'FeatureCollection', 'features': [{'t...  0.851530  \n",
       "348  {'type': 'FeatureCollection', 'features': [{'t...  0.882979  \n",
       "349  {'type': 'FeatureCollection', 'features': [{'t...  0.813797  \n",
       "356  {'type': 'FeatureCollection', 'features': [{'t...  0.810251  \n",
       "397  {'type': 'FeatureCollection', 'features': [{'t...  0.804513  \n",
       "429  {'type': 'FeatureCollection', 'features': [{'t...  0.813015  \n",
       "445  {'type': 'FeatureCollection', 'features': [{'t...  0.871920  \n",
       "449  {'type': 'FeatureCollection', 'features': [{'t...  0.843277  \n",
       "486  {'type': 'FeatureCollection', 'features': [{'t...  1.013326  \n",
       "524  {'type': 'FeatureCollection', 'features': [{'t...  0.858052  \n",
       "537  {'type': 'FeatureCollection', 'features': [{'t...  0.947689  \n",
       "581  {'type': 'FeatureCollection', 'features': [{'t...  0.800803  "
      ]
     },
     "metadata": {},
     "output_type": "display_data"
    }
   ],
   "source": [
    "import numpy as np\n",
    "clean_subreddit_location_data = pd.DataFrame(\n",
    "    [cutoff_subreddit_counts.index.tolist(), clean_subreddit_names], index=['subreddit', 'clean_subreddit']\n",
    ").transpose()\n",
    "clean_subreddit_location_data = clean_subreddit_location_data.assign(**{\n",
    "    'location_data' : list(map(lambda x: x.geojson if x.ok else np.nan, clean_subreddit_locations))\n",
    "})\n",
    "clean_subreddit_location_data.dropna(how='any', axis=0, inplace=True)\n",
    "# clean_subreddit_location_data = clean_subreddit_location_data.assign(**{})\n",
    "clean_subreddit_location_data = clean_subreddit_location_data.assign(**{\n",
    "    'accuracy' : clean_subreddit_location_data.loc[:, 'location_data'].apply(lambda x: x['features'][0]['properties']['accuracy'])\n",
    "})\n",
    "display(clean_subreddit_location_data.head())\n",
    "# define cutoff based on min accuracy of test locations\n",
    "location_accuracy_cutoff = 0.80\n",
    "high_accuracy_subreddit_location_data = clean_subreddit_location_data[clean_subreddit_location_data.loc[:, 'accuracy']>=location_accuracy_cutoff]\n",
    "display(high_accuracy_subreddit_location_data.head(20))"
   ]
  },
  {
   "cell_type": "markdown",
   "metadata": {},
   "source": [
    "What is the distribution of countries?"
   ]
  },
  {
   "cell_type": "code",
   "execution_count": 151,
   "metadata": {
    "scrolled": true
   },
   "outputs": [
    {
     "name": "stdout",
     "output_type": "stream",
     "text": [
      "us    56\n",
      "ca     4\n",
      "au     3\n",
      "cn     3\n",
      "de     3\n",
      "hu     2\n",
      "nl     2\n",
      "gb     2\n",
      "no     2\n",
      "pl     1\n",
      "ar     1\n",
      "in     1\n",
      "kr     1\n",
      "fr     1\n",
      "ch     1\n",
      "jp     1\n",
      "pt     1\n",
      "ro     1\n",
      "tr     1\n",
      "dk     1\n",
      "Name: country, dtype: int64\n",
      "US        56\n",
      "non_US    50\n",
      "Name: country_region, dtype: int64\n"
     ]
    }
   ],
   "source": [
    "high_accuracy_subreddit_location_data = high_accuracy_subreddit_location_data.assign(**{\n",
    "    'country' : high_accuracy_subreddit_location_data.loc[:, 'location_data'].apply(lambda x: x['features'][0]['properties'].get('country_code'))\n",
    "})\n",
    "# for all locations that don't have country\n",
    "country_matches = {\n",
    "    'europe' : 'eur',\n",
    "}\n",
    "high_accuracy_subreddit_location_data = high_accuracy_subreddit_location_data.assign(**{\n",
    "    'country' : high_accuracy_subreddit_location_data.apply(lambda x: country_matches[x.loc['subreddit']] if x.loc['subreddit'] in country_matches else x.loc['country'], axis=1)\n",
    "})\n",
    "## get country regions\n",
    "country_regions = {\n",
    "    'us' : 'US'\n",
    "}\n",
    "country_regions.update({\n",
    "    x : 'non_US' for x in high_accuracy_subreddit_location_data.loc[:, 'country'].unique() if x != 'us'\n",
    "})\n",
    "high_accuracy_subreddit_location_data = high_accuracy_subreddit_location_data.assign(**{\n",
    "    'country_region' : high_accuracy_subreddit_location_data.loc[:, 'country'].apply(lambda x: country_regions[x] if x in country_regions else 'UNK')\n",
    "})\n",
    "print(high_accuracy_subreddit_location_data.loc[:, 'country'].value_counts().head(20))\n",
    "print(high_accuracy_subreddit_location_data.loc[:, 'country_region'].value_counts())"
   ]
  },
  {
   "cell_type": "markdown",
   "metadata": {},
   "source": [
    "Obviously very skewed toward US."
   ]
  },
  {
   "cell_type": "markdown",
   "metadata": {},
   "source": [
    "What is the location distribution among authors?"
   ]
  },
  {
   "cell_type": "code",
   "execution_count": 170,
   "metadata": {
    "scrolled": true
   },
   "outputs": [
    {
     "name": "stdout",
     "output_type": "stream",
     "text": [
      "us     112677\n",
      "ca      29486\n",
      "au      18099\n",
      "de      14321\n",
      "eur     11181\n",
      "ie       8247\n",
      "sg       5023\n",
      "fr       4700\n",
      "gb       4166\n",
      "cn       3829\n",
      "ro       3760\n",
      "ph       3751\n",
      "in       3720\n",
      "dk       3675\n",
      "se       3615\n",
      "it       3229\n",
      "ar       3215\n",
      "pt       3094\n",
      "br       2751\n",
      "mx       2715\n",
      "Name: country, dtype: int64\n",
      "non_US    158276\n",
      "US        112677\n",
      "Name: country_region, dtype: int64\n"
     ]
    }
   ],
   "source": [
    "# ## join with author data\n",
    "location_author_data = pd.merge(\n",
    "    author_data, \n",
    "    high_accuracy_subreddit_location_data.loc[:, ['subreddit', 'country', 'country_region']], \n",
    "    on='subreddit', how='left',\n",
    ")\n",
    "# drop bad authors??\n",
    "location_author_data.dropna(subset=['author'], inplace=True)\n",
    "location_author_data = location_author_data[location_author_data.loc[:, 'author'].apply(lambda x: type(x) is str)]\n",
    "# display(location_author_data.head())\n",
    "print(location_author_data.loc[:, 'country'].value_counts().head(20))\n",
    "print(location_author_data.loc[:, 'country_region'].value_counts().head(20))"
   ]
  },
  {
   "cell_type": "markdown",
   "metadata": {},
   "source": [
    "This distribution is less bad than I thought!\n",
    "\n",
    "Let's see the distribution per-author."
   ]
  },
  {
   "cell_type": "code",
   "execution_count": 171,
   "metadata": {
    "scrolled": true
   },
   "outputs": [
    {
     "name": "stderr",
     "output_type": "stream",
     "text": [
      "100%|██████████| 188921/188921 [08:16<00:00, 380.48it/s]\n"
     ]
    },
    {
     "data": {
      "text/html": [
       "<div>\n",
       "<style scoped>\n",
       "    .dataframe tbody tr th:only-of-type {\n",
       "        vertical-align: middle;\n",
       "    }\n",
       "\n",
       "    .dataframe tbody tr th {\n",
       "        vertical-align: top;\n",
       "    }\n",
       "\n",
       "    .dataframe thead th {\n",
       "        text-align: right;\n",
       "    }\n",
       "</style>\n",
       "<table border=\"1\" class=\"dataframe\">\n",
       "  <thead>\n",
       "    <tr style=\"text-align: right;\">\n",
       "      <th></th>\n",
       "      <th>index</th>\n",
       "      <th>country_region</th>\n",
       "      <th>author</th>\n",
       "    </tr>\n",
       "  </thead>\n",
       "  <tbody>\n",
       "    <tr>\n",
       "      <th>0</th>\n",
       "      <td>non_US</td>\n",
       "      <td>1</td>\n",
       "      <td>--Isaac--</td>\n",
       "    </tr>\n",
       "    <tr>\n",
       "      <th>0</th>\n",
       "      <td>US</td>\n",
       "      <td>2</td>\n",
       "      <td>--MJL</td>\n",
       "    </tr>\n",
       "    <tr>\n",
       "      <th>0</th>\n",
       "      <td>US</td>\n",
       "      <td>1</td>\n",
       "      <td>--NiNjA--</td>\n",
       "    </tr>\n",
       "    <tr>\n",
       "      <th>0</th>\n",
       "      <td>non_US</td>\n",
       "      <td>6</td>\n",
       "      <td>--SharkBoy--</td>\n",
       "    </tr>\n",
       "    <tr>\n",
       "      <th>0</th>\n",
       "      <td>non_US</td>\n",
       "      <td>8</td>\n",
       "      <td>--_T_T_--</td>\n",
       "    </tr>\n",
       "  </tbody>\n",
       "</table>\n",
       "</div>"
      ],
      "text/plain": [
       "    index  country_region        author\n",
       "0  non_US               1     --Isaac--\n",
       "0      US               2         --MJL\n",
       "0      US               1     --NiNjA--\n",
       "0  non_US               6  --SharkBoy--\n",
       "0  non_US               8     --_T_T_--"
      ]
     },
     "metadata": {},
     "output_type": "display_data"
    }
   ],
   "source": [
    "from tqdm import tqdm\n",
    "tqdm.pandas()\n",
    "author_loc_counts = []\n",
    "for author_i, data_i in tqdm(location_author_data.groupby('author')):\n",
    "    author_loc_counts_i = data_i.loc[:, 'country_region'].value_counts().reset_index(name='count').rename(columns={'index' : 'country_region'})\n",
    "    author_loc_counts_i = author_loc_counts_i.assign(**{'author' : author_i})\n",
    "    author_loc_counts.append(author_loc_counts_i)\n",
    "author_loc_counts = pd.concat(author_loc_counts, axis=0)\n",
    "display(author_loc_counts.head())\n",
    "# per_author_location_counts = location_author_data.groupby('author').progress_apply(lambda x: x.)\n",
    "# display(per_author_location_counts.head())"
   ]
  },
  {
   "cell_type": "code",
   "execution_count": 202,
   "metadata": {
    "scrolled": true
   },
   "outputs": [
    {
     "data": {
      "text/html": [
       "<div>\n",
       "<style scoped>\n",
       "    .dataframe tbody tr th:only-of-type {\n",
       "        vertical-align: middle;\n",
       "    }\n",
       "\n",
       "    .dataframe tbody tr th {\n",
       "        vertical-align: top;\n",
       "    }\n",
       "\n",
       "    .dataframe thead th {\n",
       "        text-align: right;\n",
       "    }\n",
       "</style>\n",
       "<table border=\"1\" class=\"dataframe\">\n",
       "  <thead>\n",
       "    <tr style=\"text-align: right;\">\n",
       "      <th></th>\n",
       "      <th>country_region</th>\n",
       "      <th>count</th>\n",
       "      <th>author</th>\n",
       "    </tr>\n",
       "  </thead>\n",
       "  <tbody>\n",
       "    <tr>\n",
       "      <th>0</th>\n",
       "      <td>non_US</td>\n",
       "      <td>1</td>\n",
       "      <td>--Isaac--</td>\n",
       "    </tr>\n",
       "    <tr>\n",
       "      <th>0</th>\n",
       "      <td>US</td>\n",
       "      <td>2</td>\n",
       "      <td>--MJL</td>\n",
       "    </tr>\n",
       "    <tr>\n",
       "      <th>0</th>\n",
       "      <td>US</td>\n",
       "      <td>1</td>\n",
       "      <td>--NiNjA--</td>\n",
       "    </tr>\n",
       "    <tr>\n",
       "      <th>0</th>\n",
       "      <td>non_US</td>\n",
       "      <td>6</td>\n",
       "      <td>--SharkBoy--</td>\n",
       "    </tr>\n",
       "    <tr>\n",
       "      <th>0</th>\n",
       "      <td>non_US</td>\n",
       "      <td>8</td>\n",
       "      <td>--_T_T_--</td>\n",
       "    </tr>\n",
       "  </tbody>\n",
       "</table>\n",
       "</div>"
      ],
      "text/plain": [
       "  country_region  count        author\n",
       "0         non_US      1     --Isaac--\n",
       "0             US      2         --MJL\n",
       "0             US      1     --NiNjA--\n",
       "0         non_US      6  --SharkBoy--\n",
       "0         non_US      8     --_T_T_--"
      ]
     },
     "metadata": {},
     "output_type": "display_data"
    },
    {
     "data": {
      "text/html": [
       "<div>\n",
       "<style scoped>\n",
       "    .dataframe tbody tr th:only-of-type {\n",
       "        vertical-align: middle;\n",
       "    }\n",
       "\n",
       "    .dataframe tbody tr th {\n",
       "        vertical-align: top;\n",
       "    }\n",
       "\n",
       "    .dataframe thead th {\n",
       "        text-align: right;\n",
       "    }\n",
       "</style>\n",
       "<table border=\"1\" class=\"dataframe\">\n",
       "  <thead>\n",
       "    <tr style=\"text-align: right;\">\n",
       "      <th>country_region</th>\n",
       "      <th>author</th>\n",
       "      <th>US</th>\n",
       "      <th>non_US</th>\n",
       "      <th>all_locations</th>\n",
       "    </tr>\n",
       "  </thead>\n",
       "  <tbody>\n",
       "    <tr>\n",
       "      <th>0</th>\n",
       "      <td>--Isaac--</td>\n",
       "      <td>0.0</td>\n",
       "      <td>1.0</td>\n",
       "      <td>1.0</td>\n",
       "    </tr>\n",
       "    <tr>\n",
       "      <th>1</th>\n",
       "      <td>--MJL</td>\n",
       "      <td>2.0</td>\n",
       "      <td>0.0</td>\n",
       "      <td>2.0</td>\n",
       "    </tr>\n",
       "    <tr>\n",
       "      <th>2</th>\n",
       "      <td>--NiNjA--</td>\n",
       "      <td>1.0</td>\n",
       "      <td>0.0</td>\n",
       "      <td>1.0</td>\n",
       "    </tr>\n",
       "    <tr>\n",
       "      <th>3</th>\n",
       "      <td>--SharkBoy--</td>\n",
       "      <td>0.0</td>\n",
       "      <td>6.0</td>\n",
       "      <td>6.0</td>\n",
       "    </tr>\n",
       "    <tr>\n",
       "      <th>4</th>\n",
       "      <td>--_T_T_--</td>\n",
       "      <td>0.0</td>\n",
       "      <td>8.0</td>\n",
       "      <td>8.0</td>\n",
       "    </tr>\n",
       "  </tbody>\n",
       "</table>\n",
       "</div>"
      ],
      "text/plain": [
       "country_region        author   US  non_US  all_locations\n",
       "0                  --Isaac--  0.0     1.0            1.0\n",
       "1                      --MJL  2.0     0.0            2.0\n",
       "2                  --NiNjA--  1.0     0.0            1.0\n",
       "3               --SharkBoy--  0.0     6.0            6.0\n",
       "4                  --_T_T_--  0.0     8.0            8.0"
      ]
     },
     "metadata": {},
     "output_type": "display_data"
    }
   ],
   "source": [
    "display(author_loc_counts.head())\n",
    "# # un-melt data => author | US | non-US | all\n",
    "flat_author_loc_counts = author_loc_counts.pivot(columns='country_region', values='count', index='author').fillna(0., inplace=False).reset_index()\n",
    "flat_author_loc_counts = flat_author_loc_counts.assign(**{\n",
    "    'all_locations' : flat_author_loc_counts.loc[:, ['US', 'non_US']].sum(axis=1)\n",
    "})\n",
    "display(flat_author_loc_counts.head())"
   ]
  },
  {
   "cell_type": "code",
   "execution_count": 203,
   "metadata": {},
   "outputs": [
    {
     "name": "stdout",
     "output_type": "stream",
     "text": [
      "7218 authors who meet country criterion\n"
     ]
    }
   ],
   "source": [
    "min_location_count = 10\n",
    "print(f'{flat_author_loc_counts[flat_author_loc_counts.loc[:, \"all_locations\"] >= min_location_count].loc[:, \"author\"].nunique()} authors who meet country criterion')"
   ]
  },
  {
   "cell_type": "markdown",
   "metadata": {},
   "source": [
    "Let's assign locations to these authors, and see how many of these agree/conflict with the previously assigned locations."
   ]
  },
  {
   "cell_type": "code",
   "execution_count": 213,
   "metadata": {
    "scrolled": true
   },
   "outputs": [],
   "source": [
    "def assign_label_by_count(data):\n",
    "    max_count = data.max()\n",
    "    if(all(data == max_count)):\n",
    "        return 'UNK'\n",
    "    else:\n",
    "        return data.index[np.where(data == max_count)[0][0]]\n",
    "country_regions = ['US', 'non_US']\n",
    "flat_author_loc_counts = flat_author_loc_counts.assign(**{\n",
    "    'country_region' : flat_author_loc_counts.apply(lambda x: assign_label_by_count(x.loc[country_regions]), axis=1)\n",
    "})"
   ]
  },
  {
   "cell_type": "code",
   "execution_count": 219,
   "metadata": {},
   "outputs": [
    {
     "data": {
      "text/html": [
       "<div>\n",
       "<style scoped>\n",
       "    .dataframe tbody tr th:only-of-type {\n",
       "        vertical-align: middle;\n",
       "    }\n",
       "\n",
       "    .dataframe tbody tr th {\n",
       "        vertical-align: top;\n",
       "    }\n",
       "\n",
       "    .dataframe thead th {\n",
       "        text-align: right;\n",
       "    }\n",
       "</style>\n",
       "<table border=\"1\" class=\"dataframe\">\n",
       "  <thead>\n",
       "    <tr style=\"text-align: right;\">\n",
       "      <th>country_region</th>\n",
       "      <th>author</th>\n",
       "      <th>country_region</th>\n",
       "    </tr>\n",
       "  </thead>\n",
       "  <tbody>\n",
       "    <tr>\n",
       "      <th>22</th>\n",
       "      <td>-CoffeeSprocket-</td>\n",
       "      <td>US</td>\n",
       "    </tr>\n",
       "    <tr>\n",
       "      <th>25</th>\n",
       "      <td>-DIL-</td>\n",
       "      <td>US</td>\n",
       "    </tr>\n",
       "    <tr>\n",
       "      <th>30</th>\n",
       "      <td>-DotDotDot</td>\n",
       "      <td>non_US</td>\n",
       "    </tr>\n",
       "    <tr>\n",
       "      <th>33</th>\n",
       "      <td>-Gabria</td>\n",
       "      <td>non_US</td>\n",
       "    </tr>\n",
       "    <tr>\n",
       "      <th>34</th>\n",
       "      <td>-Gh0st96-</td>\n",
       "      <td>non_US</td>\n",
       "    </tr>\n",
       "  </tbody>\n",
       "</table>\n",
       "</div>"
      ],
      "text/plain": [
       "country_region            author country_region\n",
       "22              -CoffeeSprocket-             US\n",
       "25                         -DIL-             US\n",
       "30                    -DotDotDot         non_US\n",
       "33                       -Gabria         non_US\n",
       "34                     -Gh0st96-         non_US"
      ]
     },
     "metadata": {},
     "output_type": "display_data"
    }
   ],
   "source": [
    "min_location_count = 10\n",
    "author_location_subreddit_data = flat_author_loc_counts[flat_author_loc_counts.loc[:, 'all_locations']>=min_location_count].loc[:, ['author', 'country_region']]\n",
    "display(author_location_subreddit_data.head())"
   ]
  },
  {
   "cell_type": "code",
   "execution_count": 224,
   "metadata": {
    "scrolled": true
   },
   "outputs": [
    {
     "name": "stdout",
     "output_type": "stream",
     "text": [
      "14191 authors with valid self-reported location\n"
     ]
    },
    {
     "data": {
      "text/html": [
       "<div>\n",
       "<style scoped>\n",
       "    .dataframe tbody tr th:only-of-type {\n",
       "        vertical-align: middle;\n",
       "    }\n",
       "\n",
       "    .dataframe tbody tr th {\n",
       "        vertical-align: top;\n",
       "    }\n",
       "\n",
       "    .dataframe thead th {\n",
       "        text-align: right;\n",
       "    }\n",
       "</style>\n",
       "<table border=\"1\" class=\"dataframe\">\n",
       "  <thead>\n",
       "    <tr style=\"text-align: right;\">\n",
       "      <th></th>\n",
       "      <th>author</th>\n",
       "      <th>location</th>\n",
       "      <th>self_report_location_region</th>\n",
       "    </tr>\n",
       "  </thead>\n",
       "  <tbody>\n",
       "    <tr>\n",
       "      <th>7</th>\n",
       "      <td>tboyacending</td>\n",
       "      <td>in</td>\n",
       "      <td>non_US</td>\n",
       "    </tr>\n",
       "    <tr>\n",
       "      <th>9</th>\n",
       "      <td>delta390</td>\n",
       "      <td>us</td>\n",
       "      <td>US</td>\n",
       "    </tr>\n",
       "    <tr>\n",
       "      <th>40</th>\n",
       "      <td>AgathaAgate</td>\n",
       "      <td>mt</td>\n",
       "      <td>non_US</td>\n",
       "    </tr>\n",
       "    <tr>\n",
       "      <th>63</th>\n",
       "      <td>pianoboy1422</td>\n",
       "      <td>us</td>\n",
       "      <td>US</td>\n",
       "    </tr>\n",
       "    <tr>\n",
       "      <th>66</th>\n",
       "      <td>HB3234</td>\n",
       "      <td>us</td>\n",
       "      <td>US</td>\n",
       "    </tr>\n",
       "  </tbody>\n",
       "</table>\n",
       "</div>"
      ],
      "text/plain": [
       "          author location self_report_location_region\n",
       "7   tboyacending       in                      non_US\n",
       "9       delta390       us                          US\n",
       "40   AgathaAgate       mt                      non_US\n",
       "63  pianoboy1422       us                          US\n",
       "66        HB3234       us                          US"
      ]
     },
     "metadata": {},
     "output_type": "display_data"
    }
   ],
   "source": [
    "author_self_reported_location_data = pd.read_csv('../../data/reddit_data/author_data/author_static_prior_comment_data.gz', sep='\\t', compression='gzip', usecols=['author', 'location'])\n",
    "author_self_reported_location_data = author_self_reported_location_data[author_self_reported_location_data.loc[:, 'location']!='UNK']\n",
    "# add location region FML\n",
    "from collections import defaultdict\n",
    "location_region_lookup = defaultdict(lambda : 'non_US')\n",
    "location_region_lookup['us'] = 'US'\n",
    "author_self_reported_location_data = author_self_reported_location_data.assign(**{\n",
    "    'location_region' : author_self_reported_location_data.loc[:, 'location'].apply(lambda x: location_region_lookup[x])\n",
    "})\n",
    "print(f'{author_self_reported_location_data.shape[0]} authors with valid self-reported location')\n",
    "author_self_reported_location_data.rename(columns={'location_region' : 'self_report_location_region'}, inplace=True)\n",
    "display(author_self_reported_location_data.head())"
   ]
  },
  {
   "cell_type": "code",
   "execution_count": 232,
   "metadata": {
    "scrolled": true
   },
   "outputs": [
    {
     "name": "stdout",
     "output_type": "stream",
     "text": [
      "710 authors with both subreddit and self-reported locations\n"
     ]
    },
    {
     "data": {
      "text/html": [
       "<div>\n",
       "<style scoped>\n",
       "    .dataframe tbody tr th:only-of-type {\n",
       "        vertical-align: middle;\n",
       "    }\n",
       "\n",
       "    .dataframe tbody tr th {\n",
       "        vertical-align: top;\n",
       "    }\n",
       "\n",
       "    .dataframe thead th {\n",
       "        text-align: right;\n",
       "    }\n",
       "</style>\n",
       "<table border=\"1\" class=\"dataframe\">\n",
       "  <thead>\n",
       "    <tr style=\"text-align: right;\">\n",
       "      <th></th>\n",
       "      <th>author</th>\n",
       "      <th>country_region</th>\n",
       "      <th>self_report_location_region</th>\n",
       "    </tr>\n",
       "  </thead>\n",
       "  <tbody>\n",
       "    <tr>\n",
       "      <th>0</th>\n",
       "      <td>-CoffeeSprocket-</td>\n",
       "      <td>US</td>\n",
       "      <td>US</td>\n",
       "    </tr>\n",
       "    <tr>\n",
       "      <th>1</th>\n",
       "      <td>-Jim-Lahey</td>\n",
       "      <td>US</td>\n",
       "      <td>US</td>\n",
       "    </tr>\n",
       "    <tr>\n",
       "      <th>2</th>\n",
       "      <td>-Johnny-</td>\n",
       "      <td>US</td>\n",
       "      <td>non_US</td>\n",
       "    </tr>\n",
       "    <tr>\n",
       "      <th>3</th>\n",
       "      <td>123cats-</td>\n",
       "      <td>US</td>\n",
       "      <td>US</td>\n",
       "    </tr>\n",
       "    <tr>\n",
       "      <th>4</th>\n",
       "      <td>13159daysold</td>\n",
       "      <td>non_US</td>\n",
       "      <td>non_US</td>\n",
       "    </tr>\n",
       "  </tbody>\n",
       "</table>\n",
       "</div>"
      ],
      "text/plain": [
       "             author country_region self_report_location_region\n",
       "0  -CoffeeSprocket-             US                          US\n",
       "1        -Jim-Lahey             US                          US\n",
       "2          -Johnny-             US                      non_US\n",
       "3          123cats-             US                          US\n",
       "4      13159daysold         non_US                      non_US"
      ]
     },
     "metadata": {},
     "output_type": "display_data"
    }
   ],
   "source": [
    "author_combined_location_data = pd.merge(author_location_subreddit_data, author_self_reported_location_data.loc[:, ['author', 'self_report_location_region']], on='author', how='inner')\n",
    "author_combined_location_data = author_combined_location_data[author_combined_location_data.loc[:, 'country_region']!='UNK']\n",
    "print(f'{author_combined_location_data.shape[0]} authors with both subreddit and self-reported locations')\n",
    "display(author_combined_location_data.head())"
   ]
  },
  {
   "cell_type": "code",
   "execution_count": 237,
   "metadata": {
    "scrolled": true
   },
   "outputs": [
    {
     "name": "stdout",
     "output_type": "stream",
     "text": [
      "87.74647887323944% agreement in locations\n",
      "chi2=0.40927841860967834 (p=0.5223359789283297)\n",
      "0.7528112369442554 agreement\n"
     ]
    }
   ],
   "source": [
    "location_agreement = (author_combined_location_data.loc[:, 'country_region']==author_combined_location_data.loc[:, 'self_report_location_region']).sum()\n",
    "print(f'{location_agreement / author_combined_location_data.shape[0]*100}% agreement in locations')\n",
    "## better than random?\n",
    "from scipy.stats import chi2_contingency\n",
    "location_count_table = pd.concat([\n",
    "    author_combined_location_data.loc[:, 'country_region'].value_counts(),\n",
    "    author_combined_location_data.loc[:, 'self_report_location_region'].value_counts(),\n",
    "], axis=1)\n",
    "chi_2, p_val, _, _ = chi2_contingency(location_count_table)\n",
    "print(f'chi2={chi_2} (p={p_val})')\n",
    "from sklearn.metrics import cohen_kappa_score\n",
    "agreement_stat = cohen_kappa_score(author_combined_location_data.loc[:, 'country_region'].values, author_combined_location_data.loc[:, 'self_report_location_region'].values)\n",
    "print(f'{agreement_stat} agreement')"
   ]
  },
  {
   "cell_type": "markdown",
   "metadata": {},
   "source": [
    "OK! So the proportions of US and non-US are roughly the same and we have high agreement."
   ]
  },
  {
   "cell_type": "markdown",
   "metadata": {},
   "source": [
    "We will therefore use the location subreddit counts to boost our location coverage."
   ]
  },
  {
   "cell_type": "markdown",
   "metadata": {},
   "source": [
    "How much of an increase do we get by including the subreddit-location data?"
   ]
  },
  {
   "cell_type": "code",
   "execution_count": 240,
   "metadata": {},
   "outputs": [
    {
     "name": "stdout",
     "output_type": "stream",
     "text": [
      "14191 authors with self-reported location\n",
      "6506 authors with only subreddit-reported location\n"
     ]
    }
   ],
   "source": [
    "self_report_location_authors = author_self_reported_location_data.loc[:, 'author'].unique()\n",
    "extra_location_authors = set(author_location_subreddit_data.loc[:, 'author'].unique()) - set(self_report_location_authors)\n",
    "print(f'{len(self_report_location_authors)} authors with self-reported location')\n",
    "print(f'{len(extra_location_authors)} authors with only subreddit-reported location')"
   ]
  },
  {
   "cell_type": "markdown",
   "metadata": {},
   "source": [
    "Great! We can increase the sample by almost 50%."
   ]
  },
  {
   "cell_type": "code",
   "execution_count": null,
   "metadata": {},
   "outputs": [],
   "source": []
  }
 ],
 "metadata": {
  "kernelspec": {
   "display_name": "Python [conda env:py3] *",
   "language": "python",
   "name": "conda-env-py3-py"
  },
  "language_info": {
   "codemirror_mode": {
    "name": "ipython",
    "version": 3
   },
   "file_extension": ".py",
   "mimetype": "text/x-python",
   "name": "python",
   "nbconvert_exporter": "python",
   "pygments_lexer": "ipython3",
   "version": "3.8.5"
  }
 },
 "nbformat": 4,
 "nbformat_minor": 4
}
