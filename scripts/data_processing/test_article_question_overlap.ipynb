{
 "cells": [
  {
   "cell_type": "markdown",
   "metadata": {},
   "source": [
    "# Test article question overlap\n",
    "Having scraped some sample news articles, let's see how well the text of the article overlaps with the questions asked. We'll do this in aggregate (CNN + NYT) and for different audiences (demographics, experience)."
   ]
  },
  {
   "cell_type": "markdown",
   "metadata": {},
   "source": [
    "### Load data\n",
    "Let's load the data from the news articles and from the comments."
   ]
  },
  {
   "cell_type": "code",
   "execution_count": 1,
   "metadata": {
    "scrolled": true
   },
   "outputs": [
    {
     "data": {
      "text/html": [
       "<div>\n",
       "<style scoped>\n",
       "    .dataframe tbody tr th:only-of-type {\n",
       "        vertical-align: middle;\n",
       "    }\n",
       "\n",
       "    .dataframe tbody tr th {\n",
       "        vertical-align: top;\n",
       "    }\n",
       "\n",
       "    .dataframe thead th {\n",
       "        text-align: right;\n",
       "    }\n",
       "</style>\n",
       "<table border=\"1\" class=\"dataframe\">\n",
       "  <thead>\n",
       "    <tr style=\"text-align: right;\">\n",
       "      <th></th>\n",
       "      <th>approveDate</th>\n",
       "      <th>article_id</th>\n",
       "      <th>commentBody</th>\n",
       "      <th>commentType</th>\n",
       "      <th>parentID</th>\n",
       "      <th>userID</th>\n",
       "      <th>userLocation</th>\n",
       "      <th>userDisplayName</th>\n",
       "      <th>comment_question</th>\n",
       "    </tr>\n",
       "  </thead>\n",
       "  <tbody>\n",
       "    <tr>\n",
       "      <th>0</th>\n",
       "      <td>1524594282</td>\n",
       "      <td>5adf6684068401528a2aa69b</td>\n",
       "      <td>How could the league possibly refuse this offe...</td>\n",
       "      <td>comment</td>\n",
       "      <td>0</td>\n",
       "      <td>4.65667e+07</td>\n",
       "      <td>San Francisco</td>\n",
       "      <td>Christopher Rillo</td>\n",
       "      <td>How could the league possibly refuse this offer?</td>\n",
       "    </tr>\n",
       "    <tr>\n",
       "      <th>1</th>\n",
       "      <td>1524593431</td>\n",
       "      <td>5adf6684068401528a2aa69b</td>\n",
       "      <td>Could the cheerleaders join the Actors' Equity...</td>\n",
       "      <td>comment</td>\n",
       "      <td>0</td>\n",
       "      <td>8.19396e+07</td>\n",
       "      <td>Phoenix, AZ</td>\n",
       "      <td>Stephen</td>\n",
       "      <td>Could the cheerleaders join the Actors' Equity...</td>\n",
       "    </tr>\n",
       "    <tr>\n",
       "      <th>2</th>\n",
       "      <td>1524583914</td>\n",
       "      <td>5adf4626068401528a2aa628</td>\n",
       "      <td>Did this remind me of Joyce? &lt;br/&gt;&lt;br/&gt;Yes.&lt;br...</td>\n",
       "      <td>comment</td>\n",
       "      <td>0</td>\n",
       "      <td>3.8909e+07</td>\n",
       "      <td>BK, NY</td>\n",
       "      <td>Dustin R.</td>\n",
       "      <td>Did this remind me of Joyce?</td>\n",
       "    </tr>\n",
       "    <tr>\n",
       "      <th>3</th>\n",
       "      <td>1524592934</td>\n",
       "      <td>5adf40d2068401528a2aa619</td>\n",
       "      <td>The Iran nuclear deal does nothing but postpon...</td>\n",
       "      <td>comment</td>\n",
       "      <td>0</td>\n",
       "      <td>4.54286e+07</td>\n",
       "      <td>Rural Tennessee Rural America</td>\n",
       "      <td>Southern Boy</td>\n",
       "      <td>Than what?</td>\n",
       "    </tr>\n",
       "    <tr>\n",
       "      <th>4</th>\n",
       "      <td>1524592934</td>\n",
       "      <td>5adf40d2068401528a2aa619</td>\n",
       "      <td>The Iran nuclear deal does nothing but postpon...</td>\n",
       "      <td>comment</td>\n",
       "      <td>0</td>\n",
       "      <td>4.54286e+07</td>\n",
       "      <td>Rural Tennessee Rural America</td>\n",
       "      <td>Southern Boy</td>\n",
       "      <td>Negotiate a new pact?</td>\n",
       "    </tr>\n",
       "  </tbody>\n",
       "</table>\n",
       "</div>"
      ],
      "text/plain": [
       "  approveDate                article_id  \\\n",
       "0  1524594282  5adf6684068401528a2aa69b   \n",
       "1  1524593431  5adf6684068401528a2aa69b   \n",
       "2  1524583914  5adf4626068401528a2aa628   \n",
       "3  1524592934  5adf40d2068401528a2aa619   \n",
       "4  1524592934  5adf40d2068401528a2aa619   \n",
       "\n",
       "                                         commentBody commentType parentID  \\\n",
       "0  How could the league possibly refuse this offe...     comment        0   \n",
       "1  Could the cheerleaders join the Actors' Equity...     comment        0   \n",
       "2  Did this remind me of Joyce? <br/><br/>Yes.<br...     comment        0   \n",
       "3  The Iran nuclear deal does nothing but postpon...     comment        0   \n",
       "4  The Iran nuclear deal does nothing but postpon...     comment        0   \n",
       "\n",
       "        userID                   userLocation    userDisplayName  \\\n",
       "0  4.65667e+07                  San Francisco  Christopher Rillo   \n",
       "1  8.19396e+07                    Phoenix, AZ            Stephen   \n",
       "2   3.8909e+07                         BK, NY          Dustin R.   \n",
       "3  4.54286e+07  Rural Tennessee Rural America       Southern Boy   \n",
       "4  4.54286e+07  Rural Tennessee Rural America       Southern Boy   \n",
       "\n",
       "                                    comment_question  \n",
       "0   How could the league possibly refuse this offer?  \n",
       "1  Could the cheerleaders join the Actors' Equity...  \n",
       "2                       Did this remind me of Joyce?  \n",
       "3                                         Than what?  \n",
       "4                              Negotiate a new pact?  "
      ]
     },
     "metadata": {},
     "output_type": "display_data"
    }
   ],
   "source": [
    "import pandas as pd\n",
    "import os\n",
    "import re\n",
    "## load articles\n",
    "nyt_article_dir = '../../data/NYT_scrape/'\n",
    "nyt_article_files = list(map(lambda x: os.path.join(nyt_article_dir, x), os.listdir(nyt_article_dir)))\n",
    "nyt_article_data = pd.concat(list(map(lambda x: pd.read_csv(x, sep='\\t', index_col=False), nyt_article_files)), axis=0)\n",
    "article_id_matcher = re.compile('(?<=article_)[0-9a-zA-Z]+(?=\\.tsv)')\n",
    "nyt_article_ids = list(map(lambda x: article_id_matcher.search(x).group(0), nyt_article_files))\n",
    "nyt_article_data = nyt_article_data.assign(**{\n",
    "    'article_id' : nyt_article_ids\n",
    "})\n",
    "## load comments\n",
    "nyt_comment_data = pd.read_csv('../../data/nyt_comments/CommentsApril2018.csv', sep=',', index_col=False, usecols=['articleID', 'approveDate', 'commentBody', 'commentType', 'parentID', 'userLocation', 'userID', 'userDisplayName'])\n",
    "# find questions\n",
    "from nltk.tokenize import sent_tokenize\n",
    "question_matcher = re.compile('\\?$')\n",
    "nyt_comment_data = nyt_comment_data.assign(**{\n",
    "    'comment_questions' : nyt_comment_data.loc[:, 'commentBody'].apply(lambda x: list(filter(lambda y: question_matcher.search(y) is not None, sent_tokenize(x))))\n",
    "})\n",
    "# display(nyt_comment_data.head())\n",
    "# convert to flat question data\n",
    "nyt_question_data = []\n",
    "question_cols = ['approveDate', 'articleID', 'commentBody', 'commentType', 'parentID', 'userID', 'userLocation', 'userDisplayName']\n",
    "for idx_i, data_i in nyt_comment_data.iterrows():\n",
    "    for question_j in data_i.loc['comment_questions']:\n",
    "        nyt_question_data.append(pd.Series(data_i.loc[question_cols].append(pd.Series([question_j], index=['comment_question']))))\n",
    "nyt_question_data = pd.concat(nyt_question_data, axis=1).transpose()\n",
    "nyt_question_data.rename(columns={'articleID':'article_id'}, inplace=True)\n",
    "display(nyt_question_data.head())"
   ]
  },
  {
   "cell_type": "code",
   "execution_count": 2,
   "metadata": {},
   "outputs": [
    {
     "data": {
      "text/html": [
       "<div>\n",
       "<style scoped>\n",
       "    .dataframe tbody tr th:only-of-type {\n",
       "        vertical-align: middle;\n",
       "    }\n",
       "\n",
       "    .dataframe tbody tr th {\n",
       "        vertical-align: top;\n",
       "    }\n",
       "\n",
       "    .dataframe thead th {\n",
       "        text-align: right;\n",
       "    }\n",
       "</style>\n",
       "<table border=\"1\" class=\"dataframe\">\n",
       "  <thead>\n",
       "    <tr style=\"text-align: right;\">\n",
       "      <th></th>\n",
       "      <th>article_text</th>\n",
       "      <th>article_id</th>\n",
       "    </tr>\n",
       "  </thead>\n",
       "  <tbody>\n",
       "    <tr>\n",
       "      <th>0</th>\n",
       "      <td>(CNN) -- It's been a busy few days in the worl...</td>\n",
       "      <td>23f7ab281ef416e1cdcd9c6fc359278a40a6ba34</td>\n",
       "    </tr>\n",
       "    <tr>\n",
       "      <th>1</th>\n",
       "      <td>Ten loveable mutts rescued from the streets of...</td>\n",
       "      <td>a8ac73078f8774a5addac799a22d0634278e79d1</td>\n",
       "    </tr>\n",
       "    <tr>\n",
       "      <th>2</th>\n",
       "      <td>Ken Henggeler poured his grief into the thing ...</td>\n",
       "      <td>022713fd20ac0ffd0ddccec6d9389beedd681893</td>\n",
       "    </tr>\n",
       "    <tr>\n",
       "      <th>3</th>\n",
       "      <td>Tokyo (CNN) -- Japan's prime minister vowed to...</td>\n",
       "      <td>d62d6364625d1522c55024486ec25851687935e3</td>\n",
       "    </tr>\n",
       "    <tr>\n",
       "      <th>4</th>\n",
       "      <td>(CNN) -- The leadership of North Korea appeare...</td>\n",
       "      <td>911597eecfe5d00d39de94f17c2a8400fcb4b994</td>\n",
       "    </tr>\n",
       "  </tbody>\n",
       "</table>\n",
       "</div>"
      ],
      "text/plain": [
       "                                        article_text  \\\n",
       "0  (CNN) -- It's been a busy few days in the worl...   \n",
       "1  Ten loveable mutts rescued from the streets of...   \n",
       "2  Ken Henggeler poured his grief into the thing ...   \n",
       "3  Tokyo (CNN) -- Japan's prime minister vowed to...   \n",
       "4  (CNN) -- The leadership of North Korea appeare...   \n",
       "\n",
       "                                 article_id  \n",
       "0  23f7ab281ef416e1cdcd9c6fc359278a40a6ba34  \n",
       "1  a8ac73078f8774a5addac799a22d0634278e79d1  \n",
       "2  022713fd20ac0ffd0ddccec6d9389beedd681893  \n",
       "3  d62d6364625d1522c55024486ec25851687935e3  \n",
       "4  911597eecfe5d00d39de94f17c2a8400fcb4b994  "
      ]
     },
     "metadata": {},
     "output_type": "display_data"
    }
   ],
   "source": [
    "## CNN articles\n",
    "cnn_article_dir = '../../data/CNN_articles/cnn/stories/'\n",
    "cnn_article_files = list(map(lambda x: os.path.join(cnn_article_dir, x), os.listdir(cnn_article_dir)))\n",
    "cnn_article_data = pd.DataFrame(list(map(lambda x: ' '.join(list(map(lambda x: x.strip(), open(x, 'r').readlines()))), cnn_article_files)),\n",
    "                                columns=['article_text'])\n",
    "article_id_matcher = re.compile('[a-z0-9]+(?=\\.story)')\n",
    "cnn_article_ids = list(map(lambda x: article_id_matcher.search(x).group(0), cnn_article_files))\n",
    "cnn_article_data = cnn_article_data.assign(**{\n",
    "    'article_id' : cnn_article_ids\n",
    "})\n",
    "display(cnn_article_data.head())"
   ]
  },
  {
   "cell_type": "code",
   "execution_count": 3,
   "metadata": {},
   "outputs": [
    {
     "data": {
      "text/html": [
       "<div>\n",
       "<style scoped>\n",
       "    .dataframe tbody tr th:only-of-type {\n",
       "        vertical-align: middle;\n",
       "    }\n",
       "\n",
       "    .dataframe tbody tr th {\n",
       "        vertical-align: top;\n",
       "    }\n",
       "\n",
       "    .dataframe thead th {\n",
       "        text-align: right;\n",
       "    }\n",
       "</style>\n",
       "<table border=\"1\" class=\"dataframe\">\n",
       "  <thead>\n",
       "    <tr style=\"text-align: right;\">\n",
       "      <th></th>\n",
       "      <th>article_id</th>\n",
       "      <th>question</th>\n",
       "      <th>is_answer_absent</th>\n",
       "      <th>is_question_bad</th>\n",
       "    </tr>\n",
       "  </thead>\n",
       "  <tbody>\n",
       "    <tr>\n",
       "      <th>0</th>\n",
       "      <td>42d01e187213e86f5fe617fe32e716ff7fa3afc4</td>\n",
       "      <td>What was the amount of children murdered?</td>\n",
       "      <td>0.0</td>\n",
       "      <td>0.0</td>\n",
       "    </tr>\n",
       "    <tr>\n",
       "      <th>1</th>\n",
       "      <td>c48228a52f26aca65c31fad273e66164f047f292</td>\n",
       "      <td>Where was one employee killed?</td>\n",
       "      <td>0.0</td>\n",
       "      <td>0.0</td>\n",
       "    </tr>\n",
       "    <tr>\n",
       "      <th>2</th>\n",
       "      <td>c65ed85800e4535f4bbbfa2c34d7d9630358d303</td>\n",
       "      <td>who did say South Africa did not issue a visa ...</td>\n",
       "      <td>0.0</td>\n",
       "      <td>0.0</td>\n",
       "    </tr>\n",
       "    <tr>\n",
       "      <th>3</th>\n",
       "      <td>0cf66b646e9b32076513c050edf32a799200c3c2</td>\n",
       "      <td>How many years old was the businessman?</td>\n",
       "      <td>0.0</td>\n",
       "      <td>0.0</td>\n",
       "    </tr>\n",
       "    <tr>\n",
       "      <th>4</th>\n",
       "      <td>13012604e3203c18df09289dfedd14cde67cf40b</td>\n",
       "      <td>What frightened the families?</td>\n",
       "      <td>0.0</td>\n",
       "      <td>0.0</td>\n",
       "    </tr>\n",
       "  </tbody>\n",
       "</table>\n",
       "</div>"
      ],
      "text/plain": [
       "                                 article_id  \\\n",
       "0  42d01e187213e86f5fe617fe32e716ff7fa3afc4   \n",
       "1  c48228a52f26aca65c31fad273e66164f047f292   \n",
       "2  c65ed85800e4535f4bbbfa2c34d7d9630358d303   \n",
       "3  0cf66b646e9b32076513c050edf32a799200c3c2   \n",
       "4  13012604e3203c18df09289dfedd14cde67cf40b   \n",
       "\n",
       "                                            question  is_answer_absent  \\\n",
       "0          What was the amount of children murdered?               0.0   \n",
       "1                     Where was one employee killed?               0.0   \n",
       "2  who did say South Africa did not issue a visa ...               0.0   \n",
       "3            How many years old was the businessman?               0.0   \n",
       "4                      What frightened the families?               0.0   \n",
       "\n",
       "   is_question_bad  \n",
       "0              0.0  \n",
       "1              0.0  \n",
       "2              0.0  \n",
       "3              0.0  \n",
       "4              0.0  "
      ]
     },
     "metadata": {},
     "output_type": "display_data"
    }
   ],
   "source": [
    "## load questions\n",
    "import pandas as pd\n",
    "import re\n",
    "cnn_question_file = '../../data/CNN_articles/cnn/newsqa-data-v1/newsqa-data-v1.csv'\n",
    "full_cnn_question_data = pd.read_csv(cnn_question_file, sep=',', index_col=False, usecols=['story_id', 'question', 'is_answer_absent', 'is_question_bad'])\n",
    "full_cnn_question_data.rename(columns={'story_id' : 'article_id'}, inplace=True)\n",
    "# get article IDs\n",
    "cnn_article_id_matcher = re.compile('[0-9a-zA-Z]+(?=\\.story)')\n",
    "full_cnn_question_data = full_cnn_question_data.assign(**{\n",
    "    'article_id' : full_cnn_question_data.loc[:, 'article_id'].apply(lambda x: cnn_article_id_matcher.search(x).group(0))\n",
    "})\n",
    "# get rid of unclear questions\n",
    "# NOTE: we may need the different \"bad\" ratings later when testing word overlap\n",
    "full_cnn_question_data = full_cnn_question_data[full_cnn_question_data.loc[:, 'is_question_bad']!='?']\n",
    "full_cnn_question_data = full_cnn_question_data.assign(**{'is_question_bad' : full_cnn_question_data.loc[:, 'is_question_bad'].astype(float)})\n",
    "# remove bad questions\n",
    "cnn_question_data = full_cnn_question_data[(full_cnn_question_data.loc[:, 'is_answer_absent']==0.) &\n",
    "                                           (full_cnn_question_data.loc[:, 'is_question_bad']==0.)]\n",
    "display(cnn_question_data.head())"
   ]
  },
  {
   "cell_type": "markdown",
   "metadata": {},
   "source": [
    "Combine article, question data."
   ]
  },
  {
   "cell_type": "code",
   "execution_count": 4,
   "metadata": {
    "scrolled": true
   },
   "outputs": [
    {
     "name": "stdout",
     "output_type": "stream",
     "text": [
      "NYT data: 396 unique articles, 35374 questions\n",
      "CNN data: 11852 unique articles, 63672 questions\n"
     ]
    }
   ],
   "source": [
    "import numpy as np\n",
    "# combine data, remove null articles\n",
    "## NYT data\n",
    "nyt_article_question_data = pd.merge(nyt_article_data, nyt_question_data, on='article_id')\n",
    "nyt_article_question_data = nyt_article_question_data[~nyt_article_question_data.loc[:, 'text'].apply(lambda x: type(x) is float and np.isnan(x))]\n",
    "print(f'NYT data: {nyt_article_question_data.loc[:, \"article_id\"].nunique()} unique articles, {nyt_article_question_data.shape[0]} questions')\n",
    "# display(nyt_article_question_data.head())\n",
    "## CNN data\n",
    "cnn_article_question_data = pd.merge(cnn_question_data, cnn_article_data, on='article_id')\n",
    "cnn_article_question_data = cnn_article_question_data[~cnn_article_question_data.loc[:, 'article_text'].apply(lambda x: type(x) is float and np.isnan(x))]\n",
    "print(f'CNN data: {cnn_article_question_data.loc[:, \"article_id\"].nunique()} unique articles, {cnn_article_question_data.shape[0]} questions')\n",
    "# display(nyt_article_question_data.head())"
   ]
  },
  {
   "cell_type": "code",
   "execution_count": 8,
   "metadata": {},
   "outputs": [
    {
     "name": "stdout",
     "output_type": "stream",
     "text": [
      "NYT: 31440 clean questions\n",
      "CNN: 60401 clean questions\n"
     ]
    }
   ],
   "source": [
    "## clean question data\n",
    "from nltk.tokenize import WordPunctTokenizer\n",
    "tokenizer = WordPunctTokenizer()\n",
    "nyt_article_question_data = nyt_article_question_data.assign(**{\n",
    "    'question_tokens' : nyt_article_question_data.loc[:, 'comment_question'].apply(lambda x: tokenizer.tokenize(x))\n",
    "})\n",
    "cnn_article_question_data = cnn_article_question_data.assign(**{\n",
    "    'question_tokens' : cnn_article_question_data.loc[:, 'question'].apply(lambda x: tokenizer.tokenize(x))\n",
    "})\n",
    "min_question_len = 5\n",
    "nyt_article_question_data = nyt_article_question_data[nyt_article_question_data.loc[:, 'question_tokens'].apply(lambda x: len(x) >= min_question_len)]\n",
    "cnn_article_question_data = cnn_article_question_data[cnn_article_question_data.loc[:, 'question_tokens'].apply(lambda x: len(x) >= min_question_len)]\n",
    "print(f'NYT: {nyt_article_question_data.shape[0]} clean questions')\n",
    "print(f'CNN: {cnn_article_question_data.shape[0]} clean questions')\n",
    "## clean article data\n",
    "nyt_article_question_data = nyt_article_question_data.assign(**{\n",
    "    'article_tokens' : nyt_article_question_data.loc[:, 'text'].apply(lambda x: tokenizer.tokenize(x))\n",
    "})\n",
    "cnn_article_question_data = cnn_article_question_data.assign(**{\n",
    "    'article_tokens' : cnn_article_question_data.loc[:, 'article_text'].apply(lambda x: tokenizer.tokenize(x))\n",
    "})\n",
    "nyt_article_question_data = nyt_article_question_data.assign(**{\n",
    "    'publisher' : 'NYT'\n",
    "})\n",
    "cnn_article_question_data = cnn_article_question_data.assign(**{\n",
    "    'publisher' : 'CNN'\n",
    "})\n",
    "nyt_article_question_data = nyt_article_question_data.assign(**{\n",
    "    'dummy_comment_id' : list(range(nyt_article_question_data.shape[0]))\n",
    "})\n",
    "cnn_article_question_data = cnn_article_question_data.assign(**{\n",
    "    'dummy_comment_id' : list(range(cnn_article_question_data.shape[0]))\n",
    "})\n",
    "## save for easier handling\n",
    "nyt_article_question_data.to_csv('../../data/nyt_comments/April2018_article_question_data.tsv', sep='\\t', index=False)\n",
    "cnn_article_question_data.to_csv('../../data/CNN_articles/cnn/article_question_data.tsv', sep='\\t', index=False)"
   ]
  },
  {
   "cell_type": "markdown",
   "metadata": {},
   "source": [
    "### Test overlap: aggregate\n",
    "In aggregate, how much do the questions overlap with the article content? \n",
    "\n",
    "We'll start simple and compute BLEU scores, i.e. n-gram overlap."
   ]
  },
  {
   "cell_type": "code",
   "execution_count": 6,
   "metadata": {
    "scrolled": true
   },
   "outputs": [
    {
     "name": "stdout",
     "output_type": "stream",
     "text": [
      "sent = <is this cheese fresh ?>\n",
      "0.36363636363636365\n",
      "sent = <is this salad fresh at all ? >\n",
      "0.2727272727272727\n"
     ]
    },
    {
     "name": "stderr",
     "output_type": "stream",
     "text": [
      "/home/ianbstew/miniconda3/envs/py3/lib/python3.8/site-packages/nltk/translate/bleu_score.py:516: UserWarning: \n",
      "The hypothesis contains 0 counts of 3-gram overlaps.\n",
      "Therefore the BLEU score evaluates to 0, independently of\n",
      "how many N-gram overlaps of lower order it contains.\n",
      "Consider using lower n-gram order or use SmoothingFunction()\n",
      "  warnings.warn(_msg)\n",
      "/home/ianbstew/miniconda3/envs/py3/lib/python3.8/site-packages/nltk/translate/bleu_score.py:516: UserWarning: \n",
      "The hypothesis contains 0 counts of 4-gram overlaps.\n",
      "Therefore the BLEU score evaluates to 0, independently of\n",
      "how many N-gram overlaps of lower order it contains.\n",
      "Consider using lower n-gram order or use SmoothingFunction()\n",
      "  warnings.warn(_msg)\n",
      "/home/ianbstew/miniconda3/envs/py3/lib/python3.8/site-packages/nltk/translate/bleu_score.py:516: UserWarning: \n",
      "The hypothesis contains 0 counts of 2-gram overlaps.\n",
      "Therefore the BLEU score evaluates to 0, independently of\n",
      "how many N-gram overlaps of lower order it contains.\n",
      "Consider using lower n-gram order or use SmoothingFunction()\n",
      "  warnings.warn(_msg)\n"
     ]
    }
   ],
   "source": [
    "## testing BLEU score with unigrams\n",
    "from nltk.translate.bleu_score import sentence_bleu\n",
    "test_sents_1 = ['is this cheese fresh ?'.split(' '), 'is this salad fresh at all ? '.split(' ')]\n",
    "test_sent_2 = 'this cheese is the most fresh . it is delicious .'.split(' ')\n",
    "# only weight 1-grams\n",
    "bleu_weights = [1.0, 0., 0., 0.]\n",
    "for test_sent in test_sents_1:\n",
    "    print(f'sent = <{\" \".join(test_sent)}>')\n",
    "    test_score = sentence_bleu([test_sent], test_sent_2, weights=bleu_weights)\n",
    "    print(test_score)"
   ]
  },
  {
   "cell_type": "markdown",
   "metadata": {},
   "source": [
    "Let's test the BLEU-1 scores for both question sets."
   ]
  },
  {
   "cell_type": "code",
   "execution_count": 7,
   "metadata": {
    "scrolled": true
   },
   "outputs": [
    {
     "name": "stdout",
     "output_type": "stream",
     "text": [
      "INFO: Pandarallel will run on 10 workers.\n",
      "INFO: Pandarallel will use Memory file system to transfer data between the main process and workers.\n"
     ]
    }
   ],
   "source": [
    "from nltk.translate.bleu_score import sentence_bleu\n",
    "from pandarallel import pandarallel\n",
    "JOBS=10\n",
    "pandarallel.initialize(nb_workers=JOBS)\n",
    "# bleu_weight_list = [[1.0, 0., 0., 0.], [0.5, 0.5, 0., 0.]]\n",
    "# bleu_score_names = ['article_question_bleu_1', 'article_question_bleu_2']\n",
    "bleu_weights = [1.0, 0., 0., 0.]\n",
    "def compute_text_bleu(txt_1, txt_2, bleu_weights):\n",
    "    score = sentence_bleu([txt_1], txt_2, weights=bleu_weights)\n",
    "    return score\n",
    "nyt_article_question_data = nyt_article_question_data.assign(**{\n",
    "    'article_question_bleu' : nyt_article_question_data.parallel_apply(lambda x: compute_text_bleu(x.loc['question_tokens'], x.loc['article_tokens'], bleu_weights=bleu_weights), axis=1)\n",
    "})\n",
    "cnn_article_question_data = cnn_article_question_data.assign(**{\n",
    "    'article_question_bleu' : cnn_article_question_data.parallel_apply(lambda x: compute_text_bleu(x.loc['question_tokens'], x.loc['article_tokens'], bleu_weights=bleu_weights), axis=1)\n",
    "})"
   ]
  },
  {
   "cell_type": "markdown",
   "metadata": {},
   "source": [
    "How different are the distributions of question overlap between user-generated questions (NYT) and \"clean\" questions (CNN)?"
   ]
  },
  {
   "cell_type": "code",
   "execution_count": 9,
   "metadata": {
    "scrolled": true
   },
   "outputs": [
    {
     "data": {
      "image/png": "[encoded data removed]",
      "text/plain": [
       "<Figure size 432x288 with 1 Axes>"
      ]
     },
     "metadata": {
      "needs_background": "light"
     },
     "output_type": "display_data"
    },
    {
     "name": "stdout",
     "output_type": "stream",
     "text": [
      "NYT median score = 5.579E-03\n",
      "CNN median score = 7.102E-03\n",
      "test stat = 776786017.500 (p=0.000E+00)\n"
     ]
    }
   ],
   "source": [
    "import matplotlib\n",
    "%matplotlib inline\n",
    "import matplotlib.pyplot as plt\n",
    "import seaborn as sns\n",
    "plot_question_data = pd.concat(\n",
    "    [\n",
    "        nyt_article_question_data.loc[:, ['article_id', 'article_question_bleu', 'dummy_comment_id', 'publisher']],\n",
    "        cnn_article_question_data.loc[:, ['article_id', 'article_question_bleu', 'dummy_comment_id', 'publisher']],\n",
    "    ], axis=0\n",
    ")\n",
    "sns.boxplot(x='publisher', y='article_question_bleu', data=plot_question_data)\n",
    "plt.xlabel('publisher', fontsize=18)\n",
    "plt.ylabel('BLEU-1 score', fontsize=18)\n",
    "plt.yscale('log')\n",
    "plt.show()\n",
    "## is difference significant?\n",
    "print('NYT median score = %.3E'%(nyt_article_question_data.loc[:, 'article_question_bleu'].median()))\n",
    "print('CNN median score = %.3E'%(cnn_article_question_data.loc[:, 'article_question_bleu'].median()))\n",
    "from scipy.stats import mannwhitneyu\n",
    "test_stat, p_val = mannwhitneyu(nyt_article_question_data.loc[:, 'article_question_bleu'].values,\n",
    "                                cnn_article_question_data.loc[:, 'article_question_bleu'].values)\n",
    "print('test stat = %.3f (p=%.3E)'%(test_stat, p_val))"
   ]
  },
  {
   "cell_type": "markdown",
   "metadata": {},
   "source": [
    "No surprise here: the questions from CNN have more overlap with the articles.\n",
    "\n",
    "Let's see the questions with the most overlap."
   ]
  },
  {
   "cell_type": "code",
   "execution_count": 10,
   "metadata": {
    "scrolled": true
   },
   "outputs": [
    {
     "name": "stdout",
     "output_type": "stream",
     "text": [
      "*~*~*~* NYT *~*~*~*\n",
      "idx=28597\n",
      "BLEU score = 0.171\n",
      "text = “We don’t completely blame Facebook. The germs are ours, but Facebook is the wind, you know?” HARINDRA DISSANAYAKE , a presidential adviser in Sri Lanka.  ...\n",
      "question = Lots of people are blaming Facebook (and other platforms) when really all it did was hold a mirror up, what's your feed, groups and comments say about you?\n",
      "idx=12950\n",
      "BLEU score = 0.115\n",
      "text = “This is the nightmare scenario. Everybody figured he’d just hang in there till after the election.” THOMAS M. DAVIS III , a former Republican representative from Virginia, on the fallout from the surprise announcement by Speaker Paul D. Ryan that he won’t seek re-election to Congress this fall.  ...\n",
      "question = Won't Ryan will get a taxpayer-paid pension—some $70,00 per year—for his disservice to the country?\n",
      "idx=19092\n",
      "BLEU score = 0.087\n",
      "text = What is the most interesting topic you have learned about in school? Why did it appeal to you? In “ Pop-Ups Offer Classes on Today’s Hot Topics ,” Abby Ellin writes: Students: Read the entire article, then tell us: — What do you think of the idea of “pop-up” classes? Would you choose to go to class ...\n",
      "question = If I could tech one, it would have to be on origami because so many people really enjoy the models I make and ask \"how did you do that?\n",
      "idx=32171\n",
      "BLEU score = 0.075\n",
      "text = The queasy truth at the heart of Facebook’s Cambridge Analytica scandal, which is so far the company’s defining disgrace of 2018, is that its genesis became scandalous only in retrospect. The series of events that now implicate Facebook began in 2014, in plain view, with a listing on Amazon’s Mechan...\n",
      "question = Since this story broke afew weeks ago - the Times has been very proactive in publishing front-page articles on its website about the dangers, risks and criminal behavior regarding how Facebook has treated - and continues to treat - its users --<br/><br/>And yet - on the upper-right hand side of every article on the Times website, there are a number of icons providing links with opportunities to share the article with other people we know who might be interested --<br/><br/>Guess which icon appears first -- ?<br/><br/>That's right - a link to Facebook -<br/><br/>Sorry New York Times - you can't have it both ways --<br/><br/>If you want us - your readers - to take your articles exposing Facebook's bad behavior, invasion of privacy, and apparent priority in using it as a revenue stream seriously - then you need to take down - at least temporarily - that Facebook sharing link from all articles --<br/><br/>Or - is your business model so intractably soldered to Facebook now that you're not willing to risk the revenue stream it also provides to your corporation -- ?\n",
      "idx=26665\n",
      "BLEU score = 0.073\n",
      "text = Front pages continue, understandably, to be dominated by the roughly 130,000 scandals currently afflicting the Trump administration. But polls suggest that the reek of corruption, intense as it is, isn’t likely to dominate the midterm elections. The biggest issue on voters’ minds appears, instead, t...\n",
      "question = Yes, it would have been a bridge too far for Obama to have tried to push Obamacare through as Medicare for all.<br/><br/>But if Obama had not caved to Max \"PhRMA's Best Friend\" Baucus and Kent \"Great Plains Co-ops Forever\" Conrad on Senate Finance -- Blanche Lincoln cast the 3rd turncoat vote in Senate Finance -- the Public Option would have been in place and there would have been enough time between 2010 and 2017 for the private sector to have largely shaken out of the mix and for Obamacare to have become bulletproof against even the worst sociopathic depredations of Trump and Tom Price.<br/><br/>Now we need the miracle of a Blue Wave in the mid-terms to keep the hounds at bay and hope for ... hope for ... hope for ?\n",
      "*~*~*~* CNN *~*~*~*\n",
      "idx=29928\n",
      "BLEU score = 0.091\n",
      "text = Washington (CNN)  -- Investigators are reviewing the flight data recorder from American Airlines Flight 331, the plane that overran a runway this week near Kingston, Jamaica, and crashed into a fence.  A National Transportation Safety Board spokesman said Thursday that the recorder arrived in the ag...\n",
      "question = What was the flight number of the American Airlines plane that overran the runway and crashed into a fence near Kingston, Jamaica?\n",
      "idx=61196\n",
      "BLEU score = 0.072\n",
      "text = LONDON, England (CNN) -- The 2002 World Cup tournament was the first one held in Asia and was instrumental in bringing the world's attention to the continent's footballing talents.  Michael Chopra was the first player of Indian parentage to play and score in the English Premier League.  It was seen ...\n",
      "question = trashall stars of the future Players aged 12 to 14 will be put through their paces by Chelsea FC staff English football currently boasts very few players of Asian descent Q1:\n",
      "idx=39931\n",
      "BLEU score = 0.068\n",
      "text = (CNN) -- A spray-painted anti-Muslim message was discovered Thursday morning on the front of the Al-Farooq Islamic Center in downtown Nashville, Tennessee, according to police. A written note disparaging Islam also was left at the mosque, police said.  Video from the scene showed \"Muslims go home,\" ...\n",
      "question = What was found sprayed on the Al-Farooq Islamic Center?\n",
      "idx=60826\n",
      "BLEU score = 0.068\n",
      "text = (CNN) -- Living Golf's resident pro Adam Scott shows the tricks of the trade that have helped him conquer some of the world's toughest courses.  Whether it is acheiving a better drive, improving approach shots to the green or tackling testing bunkers, Scott has the tips to help your game.  Improve y...\n",
      "question = What does Australia's Adam Scott tell Living Golf?\n",
      "idx=46216\n",
      "BLEU score = 0.067\n",
      "text = LOS ANGELES, California (CNN)  -- Brazilian model Gisele Bundchen married National Football League star Tom Brady Thursday in an \"intimate\" sunset ceremony, US Weekly magazine reported on its Web site.  Tom Brady and Gisele Bundchen attend a Metropolitan Museum of Art gala May 5, 2008, in New York C...\n",
      "question = what Couple weds at a Catholic church in Santa Monica, California, US Weekly reports?\n"
     ]
    }
   ],
   "source": [
    "print('*~*~*~* NYT *~*~*~*')\n",
    "max_text_print_len = 300\n",
    "for idx_i, data_i in nyt_article_question_data.drop_duplicates('article_id').sort_values('article_question_bleu', inplace=False, ascending=False).head(5).iterrows():\n",
    "    print(f'idx={idx_i}')\n",
    "    print('BLEU score = %.3f'%(data_i.loc[\"article_question_bleu\"]))\n",
    "    print(f'text = {data_i.loc[\"text\"][:max_text_print_len]}...')\n",
    "    print(f'question = {data_i.loc[\"comment_question\"]}')\n",
    "print('*~*~*~* CNN *~*~*~*')\n",
    "for idx_i, data_i in cnn_article_question_data.drop_duplicates('article_id').sort_values('article_question_bleu', inplace=False, ascending=False).head(5).iterrows():\n",
    "    print(f'idx={idx_i}')\n",
    "    print('BLEU score = %.3f'%(data_i.loc[\"article_question_bleu\"]))\n",
    "    print(f'text = {data_i.loc[\"article_text\"][:max_text_print_len]}...')\n",
    "    print(f'question = {data_i.loc[\"question\"]}')\n",
    "# display(nyt_article_question_data.sort_values('article_question_bleu', inplace=False, ascending=False).head(5).loc[:, ['text', 'comment_question', 'article_question_bleu']])\n",
    "# display(cnn_article_question_data.sort_values('article_question_bleu', inplace=False, ascending=False).head(5).loc[:, ['article_text', 'question', 'article_question_bleu']])"
   ]
  },
  {
   "cell_type": "markdown",
   "metadata": {},
   "source": [
    "The high-overlap comments often contain names (`Facebook`), specific wording from the article (`sprayed`) and direct quotes (`<br/>`)."
   ]
  },
  {
   "cell_type": "markdown",
   "metadata": {},
   "source": [
    "### Extract commenter metadata\n",
    "Let's now extract important background information from the commenters and determine whether certain demographics tend to ask more/less relevant questions, based on overlap."
   ]
  },
  {
   "cell_type": "code",
   "execution_count": 11,
   "metadata": {},
   "outputs": [
    {
     "name": "stderr",
     "output_type": "stream",
     "text": [
      "/home/ianbstew/audience_aware_NLP/scripts/data_processing/data_helpers.py:18: SettingWithCopyWarning: \n",
      "A value is trying to be set on a copy of a slice from a DataFrame\n",
      "\n",
      "See the caveats in the documentation: http://pandas.pydata.org/pandas-docs/stable/user_guide/indexing.html#returning-a-view-versus-a-copy\n",
      "  data.sort_values('count_pct', inplace=True, ascending=False)\n"
     ]
    }
   ],
   "source": [
    "import data_helpers\n",
    "from importlib import reload\n",
    "reload(data_helpers)\n",
    "from data_helpers import load_name_gender_data\n",
    "name_data_dir = '../../data/meta_data/baby_names/'\n",
    "name_gender_label_data = load_name_gender_data(name_data_dir)\n",
    "name_gender_label_data.rename(columns={'name' : 'user_first_name'}, inplace=True)\n",
    "# remove names with only two letters!! no ambiguity\n",
    "min_name_len = 3\n",
    "name_gender_label_data = name_gender_label_data[name_gender_label_data.loc[:, 'user_first_name'].apply(len) >= min_name_len]"
   ]
  },
  {
   "cell_type": "code",
   "execution_count": 12,
   "metadata": {},
   "outputs": [],
   "source": [
    "nyt_article_question_data = pd.read_csv('../../data/nyt_comments/April2018_article_question_data.tsv', sep='\\t', index_col=False)\n",
    "cnn_article_question_data = pd.read_csv('../../data/CNN_articles/cnn/article_question_data.tsv', sep='\\t', index_col=False)"
   ]
  },
  {
   "cell_type": "code",
   "execution_count": 13,
   "metadata": {
    "scrolled": true
   },
   "outputs": [
    {
     "name": "stdout",
     "output_type": "stream",
     "text": [
      "top names for label=F\n",
      "susan        164\n",
      "lisa          91\n",
      "mary          89\n",
      "karen         85\n",
      "ana           85\n",
      "elizabeth     71\n",
      "linda         66\n",
      "ann           58\n",
      "azalea        56\n",
      "barbara       55\n",
      "Name: user_first_name, dtype: int64\n",
      "top names for label=M\n",
      "john       561\n",
      "david      335\n",
      "mark       294\n",
      "tom        280\n",
      "robert     272\n",
      "michael    261\n",
      "mike       232\n",
      "jim        219\n",
      "steve      214\n",
      "paul       213\n",
      "Name: user_first_name, dtype: int64\n",
      "top names for label=UNK\n",
      "ed              100\n",
      "j                85\n",
      "mythreecents     83\n",
      "concerned        65\n",
      "c                63\n",
      "me               60\n",
      "a                56\n",
      "vts              56\n",
      "boregard         55\n",
      "bmusnsoil        54\n",
      "Name: user_first_name, dtype: int64\n"
     ]
    }
   ],
   "source": [
    "## combine with comment data\n",
    "# extract first names from comment user names\n",
    "import re\n",
    "from data_helpers import extract_name\n",
    "def add_labels_to_names(data, name_label_data, label_var='gender'):\n",
    "    camel_matcher = re.compile('[a-z]+(?=[A-Z])')\n",
    "    data = data.assign(**{\n",
    "        'user_first_name' : data.loc[:, 'userDisplayName'].apply(lambda x: extract_name(str(x), camel_matcher))\n",
    "    })\n",
    "    # add gender lol\n",
    "    if(label_var in data.columns):\n",
    "        data.drop(label_var, axis=1, inplace=True)\n",
    "    data = pd.merge(data, name_label_data, on='user_first_name', how='left')\n",
    "    data.fillna(value={label_var : 'UNK'}, inplace=True)\n",
    "    # display(comment_article_data.loc[:, ['user_first_name', 'gender']])\n",
    "    return data\n",
    "nyt_article_question_data = add_labels_to_names(nyt_article_question_data, name_gender_label_data, label_var='gender')\n",
    "# get top names per gender\n",
    "for label_i, data_i in nyt_article_question_data.groupby('gender'):\n",
    "    print(f'top names for label={label_i}')\n",
    "    print(data_i.loc[:, 'user_first_name'].value_counts().iloc[:10])"
   ]
  },
  {
   "cell_type": "markdown",
   "metadata": {},
   "source": [
    "Great! Now let's do geography."
   ]
  },
  {
   "cell_type": "code",
   "execution_count": 14,
   "metadata": {},
   "outputs": [
    {
     "name": "stdout",
     "output_type": "stream",
     "text": [
      "NYC              1125\n",
      "New York          843\n",
      "California        527\n",
      "Chicago           506\n",
      "NY                408\n",
      "San Francisco     365\n",
      "Los Angeles       362\n",
      "Seattle           340\n",
      "Boston            325\n",
      "USA               324\n",
      "Name: userLocation, dtype: int64\n"
     ]
    }
   ],
   "source": [
    "print(nyt_article_question_data.loc[:, 'userLocation'].value_counts().head(10))\n",
    "unique_locations = nyt_article_question_data.loc[:, 'userLocation'].unique()\n",
    "ambig_locations = set(['CA', 'NE'])\n",
    "unique_locations = pd.Series(list(set(unique_locations) - ambig_locations))"
   ]
  },
  {
   "cell_type": "code",
   "execution_count": 15,
   "metadata": {
    "scrolled": true
   },
   "outputs": [
    {
     "name": "stdout",
     "output_type": "stream",
     "text": [
      "us\n"
     ]
    }
   ],
   "source": [
    "## let's do some geocoding\n",
    "import geocoder\n",
    "def geocode_country(text):\n",
    "    text_loc_country = 'UNK'\n",
    "    try:\n",
    "        text_loc = geocoder.osm(text, method='geocode')\n",
    "        text_loc_data = text_loc.response.json()\n",
    "        if(len(text_loc_data) > 0):\n",
    "            text_loc_country = text_loc_data[0]['address']['country_code']\n",
    "    except Exception as e:\n",
    "        print(f'geocoding error {e}')\n",
    "    return text_loc_country\n",
    "test = 'Chicago'\n",
    "test_country = geocode_country(test)\n",
    "print(test_country)"
   ]
  },
  {
   "cell_type": "code",
   "execution_count": 16,
   "metadata": {},
   "outputs": [
    {
     "name": "stderr",
     "output_type": "stream",
     "text": [
      "/home/ianbstew/miniconda3/envs/py3/lib/python3.8/site-packages/tqdm/std.py:706: FutureWarning: The Panel class is removed from pandas. Accessing it from the top-level namespace will also be removed in the next version\n",
      "  from pandas import Panel\n",
      "  4%|▍         | 186/4438 [01:33<35:32,  1.99it/s]"
     ]
    },
    {
     "name": "stdout",
     "output_type": "stream",
     "text": [
      "geocoding error 'country_code'\n"
     ]
    },
    {
     "name": "stderr",
     "output_type": "stream",
     "text": [
      "  4%|▍         | 195/4438 [01:37<35:23,  2.00it/s]"
     ]
    },
    {
     "name": "stdout",
     "output_type": "stream",
     "text": [
      "geocoding error 'country_code'\n"
     ]
    },
    {
     "name": "stderr",
     "output_type": "stream",
     "text": [
      " 10%|▉         | 434/4438 [03:41<34:04,  1.96it/s]"
     ]
    },
    {
     "name": "stdout",
     "output_type": "stream",
     "text": [
      "geocoding error 'country_code'\n"
     ]
    },
    {
     "name": "stderr",
     "output_type": "stream",
     "text": [
      " 39%|███▉      | 1724/4438 [14:43<23:13,  1.95it/s]"
     ]
    },
    {
     "name": "stdout",
     "output_type": "stream",
     "text": [
      "geocoding error Coords are not within the world's geographical boundary\n"
     ]
    },
    {
     "name": "stderr",
     "output_type": "stream",
     "text": [
      " 46%|████▌     | 2032/4438 [17:20<19:36,  2.04it/s]"
     ]
    },
    {
     "name": "stdout",
     "output_type": "stream",
     "text": [
      "geocoding error 'country_code'\n"
     ]
    },
    {
     "name": "stderr",
     "output_type": "stream",
     "text": [
      " 48%|████▊     | 2124/4438 [18:06<19:40,  1.96it/s]"
     ]
    },
    {
     "name": "stdout",
     "output_type": "stream",
     "text": [
      "geocoding error 'country_code'\n"
     ]
    },
    {
     "name": "stderr",
     "output_type": "stream",
     "text": [
      " 94%|█████████▍| 4186/4438 [35:48<02:05,  2.01it/s]"
     ]
    },
    {
     "name": "stdout",
     "output_type": "stream",
     "text": [
      "geocoding error 'country_code'\n"
     ]
    },
    {
     "name": "stderr",
     "output_type": "stream",
     "text": [
      "100%|██████████| 4438/4438 [37:57<00:00,  1.95it/s]\n"
     ]
    }
   ],
   "source": [
    "from tqdm import tqdm\n",
    "tqdm.pandas()\n",
    "unique_location_countries = unique_locations.progress_apply(geocode_country)"
   ]
  },
  {
   "cell_type": "code",
   "execution_count": 17,
   "metadata": {},
   "outputs": [
    {
     "name": "stdout",
     "output_type": "stream",
     "text": [
      "us     3180\n",
      "UNK     276\n",
      "ca      141\n",
      "gb      130\n",
      "fr       69\n",
      "au       48\n",
      "de       38\n",
      "it       30\n",
      "co       26\n",
      "in       24\n",
      "dtype: int64\n"
     ]
    }
   ],
   "source": [
    "## which countries had the most coverage?\n",
    "print(unique_location_countries.value_counts().head(10))"
   ]
  },
  {
   "cell_type": "code",
   "execution_count": 18,
   "metadata": {
    "scrolled": true
   },
   "outputs": [
    {
     "name": "stdout",
     "output_type": "stream",
     "text": [
      "          userLocation user_country\n",
      "0                  NaN           it\n",
      "1     Spring Green, WI           us\n",
      "2      Colorado Trails           us\n",
      "3       Coldstream, BC           ca\n",
      "4       Harrisburg, PA           us\n",
      "...                ...          ...\n",
      "4433        urbana, il           us\n",
      "4434         The Coast           gb\n",
      "4435         Pasco, WA           us\n",
      "4436             D. C.           us\n",
      "4437      Williamsburg           us\n",
      "\n",
      "[4438 rows x 2 columns]\n",
      "us     25423\n",
      "UNK     1015\n",
      "ca       959\n",
      "gb       583\n",
      "fr       396\n",
      "au       276\n",
      "co       231\n",
      "it       219\n",
      "de       171\n",
      "be       130\n",
      "Name: user_country, dtype: int64\n",
      "north_america    26645\n",
      "europe            2138\n",
      "UNK               1017\n",
      "asia               543\n",
      "south_america      397\n",
      "oceania            338\n",
      "africa             206\n",
      "Name: user_region, dtype: int64\n"
     ]
    }
   ],
   "source": [
    "## label each author by region\n",
    "author_location_data = pd.DataFrame([unique_locations, unique_location_countries], index=['userLocation', 'user_country']).transpose()\n",
    "print(author_location_data)\n",
    "if('user_country' not in nyt_article_question_data.columns):\n",
    "    nyt_article_question_data = pd.merge(nyt_article_question_data, author_location_data, on='userLocation')\n",
    "from collections import defaultdict\n",
    "location_region_lookup = defaultdict(lambda : 'UNK')\n",
    "# country-region codes\n",
    "location_region_lookup.update(\n",
    "    {'ad': 'europe', 'ae': 'asia', 'af': 'asia', 'ag': 'north_america', 'ai': 'north_america', 'al': 'europe', 'am': 'asia', 'an': 'north_america', 'ao': 'africa', 'ap': 'asia', 'aq': 'antarctica', 'ar': 'south_america', 'as': 'oceania', 'at': 'europe', 'au': 'oceania', 'aw': 'north_america', 'ax': 'europe', 'az': 'asia', 'ba': 'europe', 'bb': 'north_america', 'bd': 'asia', 'be': 'europe', 'bf': 'africa', 'bg': 'europe', 'bh': 'asia', 'bi': 'africa', 'bj': 'africa', 'bl': 'north_america', 'bm': 'north_america', 'bn': 'asia', 'bo': 'south_america', 'br': 'south_america', 'bs': 'north_america', 'bt': 'asia', 'bv': 'antarctica', 'bw': 'africa', 'by': 'europe', 'bz': 'north_america', 'ca': 'north_america', 'cc': 'asia', 'cd': 'africa', 'cf': 'africa', 'cg': 'africa', 'ch': 'europe', 'ci': 'africa', 'ck': 'oceania', 'cl': 'south_america', 'cm': 'africa', 'cn': 'asia', 'co': 'south_america', 'cr': 'north_america', 'cu': 'north_america', 'cv': 'africa', 'cx': 'asia', 'cy': 'asia', 'cz': 'europe', 'de': 'europe', 'dj': 'africa', 'dk': 'europe', 'dm': 'north_america', 'do': 'north_america', 'dz': 'africa', 'ec': 'south_america', 'ee': 'europe', 'eg': 'africa', 'eh': 'africa', 'er': 'africa', 'es': 'europe', 'et': 'africa', 'eu': 'europe', 'fi': 'europe', 'fj': 'oceania', 'fk': 'south_america', 'fm': 'oceania', 'fo': 'europe', 'fr': 'europe', 'fx': 'europe', 'ga': 'africa', 'gb': 'europe', 'gd': 'north_america', 'ge': 'asia', 'gf': 'south_america', 'gg': 'europe', 'gh': 'africa', 'gi': 'europe', 'gl': 'north_america', 'gm': 'africa', 'gn': 'africa', 'gp': 'north_america', 'gq': 'africa', 'gr': 'europe', 'gs': 'antarctica', 'gt': 'north_america', 'gu': 'oceania', 'gw': 'africa', 'gy': 'south_america', 'hk': 'asia', 'hm': 'antarctica', 'hn': 'north_america', 'hr': 'europe', 'ht': 'north_america', 'hu': 'europe', 'id': 'asia', 'ie': 'europe', 'il': 'asia', 'im': 'europe', 'in': 'asia', 'io': 'asia', 'iq': 'asia', 'ir': 'asia', 'is': 'europe', 'it': 'europe', 'je': 'europe', 'jm': 'north_america', 'jo': 'asia', 'jp': 'asia', 'ke': 'africa', 'kg': 'asia', 'kh': 'asia', 'ki': 'oceania', 'km': 'africa', 'kn': 'north_america', 'kp': 'asia', 'kr': 'asia', 'kw': 'asia', 'ky': 'north_america', 'kz': 'asia', 'la': 'asia', 'lb': 'asia', 'lc': 'north_america', 'li': 'europe', 'lk': 'asia', 'lr': 'africa', 'ls': 'africa', 'lt': 'europe', 'lu': 'europe', 'lv': 'europe', 'ly': 'africa', 'ma': 'africa', 'mc': 'europe', 'md': 'europe', 'me': 'europe', 'mf': 'north_america', 'mg': 'africa', 'mh': 'oceania', 'mk': 'europe', 'ml': 'africa', 'mm': 'asia', 'mn': 'asia', 'mo': 'asia', 'mp': 'oceania', 'mq': 'north_america', 'mr': 'africa', 'ms': 'north_america', 'mt': 'europe', 'mu': 'africa', 'mv': 'asia', 'mw': 'africa', 'mx': 'north_america', 'my': 'asia', 'mz': 'africa', 'na': 'africa', 'nc': 'oceania', 'ne': 'africa', 'nf': 'oceania', 'ng': 'africa', 'ni': 'north_america', 'nl': 'europe', 'no': 'europe', 'np': 'asia', 'nr': 'oceania', 'nu': 'oceania', 'nz': 'oceania', 'om': 'asia', 'pa': 'north_america', 'pe': 'south_america', 'pf': 'oceania', 'pg': 'oceania', 'ph': 'asia', 'pk': 'asia', 'pl': 'europe', 'pm': 'north_america', 'pn': 'oceania', 'pr': 'north_america', 'ps': 'asia', 'pt': 'europe', 'pw': 'oceania', 'py': 'south_america', 'qa': 'asia', 're': 'africa', 'ro': 'europe', 'rs': 'europe', 'ru': 'europe', 'rw': 'africa', 'sa': 'asia', 'sb': 'oceania', 'sc': 'africa', 'sd': 'africa', 'se': 'europe', 'sg': 'asia', 'sh': 'africa', 'si': 'europe', 'sj': 'europe', 'sk': 'europe', 'sl': 'africa', 'sm': 'europe', 'sn': 'africa', 'so': 'africa', 'sr': 'south_america', 'st': 'africa', 'sv': 'north_america', 'sy': 'asia', 'sz': 'africa', 'tc': 'north_america', 'td': 'africa', 'tf': 'antarctica', 'tg': 'africa', 'th': 'asia', 'tj': 'asia', 'tk': 'oceania', 'tl': 'asia', 'tm': 'asia', 'tn': 'africa', 'to': 'oceania', 'tr': 'europe', 'tt': 'north_america', 'tv': 'oceania', 'tw': 'asia', 'tz': 'africa', 'ua': 'europe', 'ug': 'africa', 'um': 'oceania', 'us': 'north_america', 'uy': 'south_america', 'uz': 'asia', 'va': 'europe', 'vc': 'north_america', 've': 'south_america', 'vg': 'north_america', 'vi': 'north_america', 'vn': 'asia', 'vu': 'oceania', 'wf': 'oceania', 'ws': 'oceania', 'ye': 'asia', 'yt': 'africa', 'za': 'africa', 'zm': 'africa', 'zw': 'africa', 'UNK' : 'UNK'}\n",
    ")\n",
    "nyt_article_question_data = nyt_article_question_data.assign(**{\n",
    "    'user_region' : nyt_article_question_data.loc[:, 'user_country'].apply(lambda x: location_region_lookup[x])\n",
    "})\n",
    "print(nyt_article_question_data.loc[:, 'user_country'].value_counts().head(10))\n",
    "print(nyt_article_question_data.loc[:, 'user_region'].value_counts().head(10))"
   ]
  },
  {
   "cell_type": "markdown",
   "metadata": {},
   "source": [
    "Let's get the last useful audience cue, i.e. experience."
   ]
  },
  {
   "cell_type": "code",
   "execution_count": 19,
   "metadata": {},
   "outputs": [
    {
     "name": "stderr",
     "output_type": "stream",
     "text": [
      "<ipython-input-19-4ecd11e1196e>:23: FutureWarning: Sorting because non-concatenation axis is not aligned. A future version\n",
      "of pandas will change to not sort by default.\n",
      "\n",
      "To accept the future behavior, pass 'sort=False'.\n",
      "\n",
      "To retain the current behavior and silence the warning, pass 'sort=True'.\n",
      "\n",
      "  combined_comment_data = pd.concat(combined_comment_data, axis=0)\n"
     ]
    },
    {
     "name": "stdout",
     "output_type": "stream",
     "text": [
      "2171181\n"
     ]
    },
    {
     "data": {
      "text/html": [
       "<div>\n",
       "<style scoped>\n",
       "    .dataframe tbody tr th:only-of-type {\n",
       "        vertical-align: middle;\n",
       "    }\n",
       "\n",
       "    .dataframe tbody tr th {\n",
       "        vertical-align: top;\n",
       "    }\n",
       "\n",
       "    .dataframe thead th {\n",
       "        text-align: right;\n",
       "    }\n",
       "</style>\n",
       "<table border=\"1\" class=\"dataframe\">\n",
       "  <thead>\n",
       "    <tr style=\"text-align: right;\">\n",
       "      <th></th>\n",
       "      <th>approveDate</th>\n",
       "      <th>articleID</th>\n",
       "      <th>commentBody</th>\n",
       "      <th>commentID</th>\n",
       "      <th>commentType</th>\n",
       "      <th>comment_time_period</th>\n",
       "      <th>sectionName</th>\n",
       "      <th>userDisplayName</th>\n",
       "      <th>userID</th>\n",
       "      <th>headline</th>\n",
       "      <th>pubDate</th>\n",
       "      <th>snippet</th>\n",
       "    </tr>\n",
       "  </thead>\n",
       "  <tbody>\n",
       "    <tr>\n",
       "      <th>0</th>\n",
       "      <td>2017-02-02 15:02:21</td>\n",
       "      <td>58927e0495d0e0392607e1b3</td>\n",
       "      <td>ANY anti Trump propaganda from Gaga and my TV ...</td>\n",
       "      <td>21332974</td>\n",
       "      <td>comment</td>\n",
       "      <td>2017-02-01</td>\n",
       "      <td>Pro Football</td>\n",
       "      <td>vilonia</td>\n",
       "      <td>68372461</td>\n",
       "      <td>N.F.L. vs. Politics Has Been Battle All Season...</td>\n",
       "      <td>2017-02-02 00:26:16</td>\n",
       "      <td>Despite the national tumult over immigration s...</td>\n",
       "    </tr>\n",
       "    <tr>\n",
       "      <th>1</th>\n",
       "      <td>2017-02-02 15:02:21</td>\n",
       "      <td>58927e0495d0e0392607e1b3</td>\n",
       "      <td>ANY anti Trump propaganda from Gaga and my TV ...</td>\n",
       "      <td>21332974</td>\n",
       "      <td>comment</td>\n",
       "      <td>2017-02-01</td>\n",
       "      <td>Pro Football</td>\n",
       "      <td>vilonia</td>\n",
       "      <td>68372461</td>\n",
       "      <td>N.F.L. vs. Politics Has Been Battle All Season...</td>\n",
       "      <td>2017-02-02 00:26:16</td>\n",
       "      <td>Despite the national tumult over immigration s...</td>\n",
       "    </tr>\n",
       "    <tr>\n",
       "      <th>2</th>\n",
       "      <td>2017-02-02 12:07:51</td>\n",
       "      <td>58927e0495d0e0392607e1b3</td>\n",
       "      <td>I'll not watch the SB, nor the grammys or osca...</td>\n",
       "      <td>21332861</td>\n",
       "      <td>comment</td>\n",
       "      <td>2017-02-01</td>\n",
       "      <td>Pro Football</td>\n",
       "      <td>Joe Schultz</td>\n",
       "      <td>73635333</td>\n",
       "      <td>N.F.L. vs. Politics Has Been Battle All Season...</td>\n",
       "      <td>2017-02-02 00:26:16</td>\n",
       "      <td>Despite the national tumult over immigration s...</td>\n",
       "    </tr>\n",
       "    <tr>\n",
       "      <th>3</th>\n",
       "      <td>2017-02-02 12:07:51</td>\n",
       "      <td>58927e0495d0e0392607e1b3</td>\n",
       "      <td>I'll not watch the SB, nor the grammys or osca...</td>\n",
       "      <td>21332861</td>\n",
       "      <td>comment</td>\n",
       "      <td>2017-02-01</td>\n",
       "      <td>Pro Football</td>\n",
       "      <td>Joe Schultz</td>\n",
       "      <td>73635333</td>\n",
       "      <td>N.F.L. vs. Politics Has Been Battle All Season...</td>\n",
       "      <td>2017-02-02 00:26:16</td>\n",
       "      <td>Despite the national tumult over immigration s...</td>\n",
       "    </tr>\n",
       "    <tr>\n",
       "      <th>4</th>\n",
       "      <td>2017-02-02 12:07:20</td>\n",
       "      <td>58927e0495d0e0392607e1b3</td>\n",
       "      <td>NFL's going to do another \"in-your-face, Ameri...</td>\n",
       "      <td>21332686</td>\n",
       "      <td>comment</td>\n",
       "      <td>2017-02-01</td>\n",
       "      <td>Pro Football</td>\n",
       "      <td>WilliamPenn2</td>\n",
       "      <td>61340508</td>\n",
       "      <td>N.F.L. vs. Politics Has Been Battle All Season...</td>\n",
       "      <td>2017-02-02 00:26:16</td>\n",
       "      <td>Despite the national tumult over immigration s...</td>\n",
       "    </tr>\n",
       "  </tbody>\n",
       "</table>\n",
       "</div>"
      ],
      "text/plain": [
       "          approveDate                 articleID  \\\n",
       "0 2017-02-02 15:02:21  58927e0495d0e0392607e1b3   \n",
       "1 2017-02-02 15:02:21  58927e0495d0e0392607e1b3   \n",
       "2 2017-02-02 12:07:51  58927e0495d0e0392607e1b3   \n",
       "3 2017-02-02 12:07:51  58927e0495d0e0392607e1b3   \n",
       "4 2017-02-02 12:07:20  58927e0495d0e0392607e1b3   \n",
       "\n",
       "                                         commentBody  commentID commentType  \\\n",
       "0  ANY anti Trump propaganda from Gaga and my TV ...   21332974     comment   \n",
       "1  ANY anti Trump propaganda from Gaga and my TV ...   21332974     comment   \n",
       "2  I'll not watch the SB, nor the grammys or osca...   21332861     comment   \n",
       "3  I'll not watch the SB, nor the grammys or osca...   21332861     comment   \n",
       "4  NFL's going to do another \"in-your-face, Ameri...   21332686     comment   \n",
       "\n",
       "  comment_time_period   sectionName userDisplayName    userID  \\\n",
       "0          2017-02-01  Pro Football         vilonia  68372461   \n",
       "1          2017-02-01  Pro Football         vilonia  68372461   \n",
       "2          2017-02-01  Pro Football     Joe Schultz  73635333   \n",
       "3          2017-02-01  Pro Football     Joe Schultz  73635333   \n",
       "4          2017-02-01  Pro Football    WilliamPenn2  61340508   \n",
       "\n",
       "                                            headline             pubDate  \\\n",
       "0  N.F.L. vs. Politics Has Been Battle All Season... 2017-02-02 00:26:16   \n",
       "1  N.F.L. vs. Politics Has Been Battle All Season... 2017-02-02 00:26:16   \n",
       "2  N.F.L. vs. Politics Has Been Battle All Season... 2017-02-02 00:26:16   \n",
       "3  N.F.L. vs. Politics Has Been Battle All Season... 2017-02-02 00:26:16   \n",
       "4  N.F.L. vs. Politics Has Been Battle All Season... 2017-02-02 00:26:16   \n",
       "\n",
       "                                             snippet  \n",
       "0  Despite the national tumult over immigration s...  \n",
       "1  Despite the national tumult over immigration s...  \n",
       "2  Despite the national tumult over immigration s...  \n",
       "3  Despite the national tumult over immigration s...  \n",
       "4  Despite the national tumult over immigration s...  "
      ]
     },
     "metadata": {},
     "output_type": "display_data"
    }
   ],
   "source": [
    "## load combined comment data\n",
    "import pandas as pd\n",
    "import re\n",
    "import os\n",
    "from datetime import datetime\n",
    "comment_data_file_matcher = re.compile('Comments.*csv')\n",
    "data_dir = '../../data/nyt_comments/'\n",
    "comment_data_files = list(filter(lambda x: comment_data_file_matcher.search(x) is not None, os.listdir(data_dir)))\n",
    "comment_data_files = list(map(lambda x: os.path.join(data_dir, x), comment_data_files))\n",
    "# print(comment_data_files)\n",
    "# load, combine commeant data\n",
    "month_matcher = re.compile('[A-Z][a-z]+(?=[0-9])')\n",
    "year_matcher = re.compile('[0-9]{4}')\n",
    "months = ['Jan', 'Feb', 'March', 'April', 'May', 'June', 'July', 'Aug', 'Sep', 'Oct', 'Nov', 'Dec']\n",
    "month_lookup = dict(zip(months, range(1,len(months)+1)))\n",
    "combined_comment_data = []\n",
    "for comment_data_file_i in comment_data_files:\n",
    "    comment_data_i = pd.read_csv(comment_data_file_i, sep=',', index_col=False, usecols=['approveDate', 'commentBody', 'commentID', 'commentType', 'userDisplayName', 'userID', 'sectionName', 'articleID'])\n",
    "    comment_data_date_i = [month_lookup[month_matcher.search(comment_data_file_i).group(0)], int(year_matcher.search(comment_data_file_i).group(0))]\n",
    "    comment_data_date_i = datetime(day=1, month=comment_data_date_i[0], year=comment_data_date_i[1])\n",
    "    comment_data_i = comment_data_i.assign(**{'comment_time_period' : comment_data_date_i})\n",
    "    combined_comment_data.append(comment_data_i)\n",
    "combined_comment_data = pd.concat(combined_comment_data, axis=0)\n",
    "# add article data lol\n",
    "article_data_file_matcher = re.compile('Articles.*csv')\n",
    "article_data_files = list(filter(lambda x: article_data_file_matcher.search(x) is not None, os.listdir(data_dir)))\n",
    "article_data_files = list(map(lambda x: os.path.join(data_dir, x), article_data_files))\n",
    "article_data = pd.concat(list(map(lambda x: pd.read_csv(x, sep=',', index_col=False, usecols=['articleID', 'headline', 'snippet', 'pubDate']), article_data_files)))\n",
    "combined_comment_data = pd.merge(combined_comment_data, article_data, on='articleID')\n",
    "# fix data types\n",
    "# article_date_format = '2018-04-21 18:30:10'\n",
    "article_date_format = '%Y-%m-%d %H:%M:%S'\n",
    "combined_comment_data = combined_comment_data.assign(**{\n",
    "    'userID' : combined_comment_data.loc[:, 'userID'].astype(int),\n",
    "    'commentID' : combined_comment_data.loc[:, 'commentID'].astype(int),\n",
    "    'approveDate': combined_comment_data.loc[:, 'approveDate'].apply(lambda x: datetime.fromtimestamp(x)),\n",
    "    'pubDate': combined_comment_data.loc[:, 'pubDate'].apply(lambda x: datetime.strptime(x, article_date_format)),\n",
    "})\n",
    "print(combined_comment_data.shape[0])\n",
    "display(combined_comment_data.head())"
   ]
  },
  {
   "cell_type": "code",
   "execution_count": 20,
   "metadata": {
    "scrolled": true
   },
   "outputs": [
    {
     "name": "stdout",
     "output_type": "stream",
     "text": [
      "authors with >=exp(2.5649493574615367) posts are experienced\n"
     ]
    },
    {
     "data": {
      "text/html": [
       "<div>\n",
       "<style scoped>\n",
       "    .dataframe tbody tr th:only-of-type {\n",
       "        vertical-align: middle;\n",
       "    }\n",
       "\n",
       "    .dataframe tbody tr th {\n",
       "        vertical-align: top;\n",
       "    }\n",
       "\n",
       "    .dataframe thead th {\n",
       "        text-align: right;\n",
       "    }\n",
       "</style>\n",
       "<table border=\"1\" class=\"dataframe\">\n",
       "  <thead>\n",
       "    <tr style=\"text-align: right;\">\n",
       "      <th></th>\n",
       "      <th>userID</th>\n",
       "      <th>comment_count</th>\n",
       "      <th>author_experienced</th>\n",
       "    </tr>\n",
       "  </thead>\n",
       "  <tbody>\n",
       "    <tr>\n",
       "      <th>0</th>\n",
       "      <td>67892453</td>\n",
       "      <td>8.670601</td>\n",
       "      <td>1</td>\n",
       "    </tr>\n",
       "    <tr>\n",
       "      <th>1</th>\n",
       "      <td>11228992</td>\n",
       "      <td>8.188411</td>\n",
       "      <td>1</td>\n",
       "    </tr>\n",
       "    <tr>\n",
       "      <th>2</th>\n",
       "      <td>61986282</td>\n",
       "      <td>8.062118</td>\n",
       "      <td>1</td>\n",
       "    </tr>\n",
       "    <tr>\n",
       "      <th>3</th>\n",
       "      <td>64679318</td>\n",
       "      <td>7.945555</td>\n",
       "      <td>1</td>\n",
       "    </tr>\n",
       "    <tr>\n",
       "      <th>4</th>\n",
       "      <td>37475504</td>\n",
       "      <td>7.757479</td>\n",
       "      <td>1</td>\n",
       "    </tr>\n",
       "  </tbody>\n",
       "</table>\n",
       "</div>"
      ],
      "text/plain": [
       "     userID  comment_count  author_experienced\n",
       "0  67892453       8.670601                   1\n",
       "1  11228992       8.188411                   1\n",
       "2  61986282       8.062118                   1\n",
       "3  64679318       7.945555                   1\n",
       "4  37475504       7.757479                   1"
      ]
     },
     "metadata": {},
     "output_type": "display_data"
    },
    {
     "name": "stdout",
     "output_type": "stream",
     "text": [
      "0    200841\n",
      "1     23147\n",
      "Name: author_experienced, dtype: int64\n"
     ]
    }
   ],
   "source": [
    "## define date cutoff\n",
    "from datetime import datetime\n",
    "data_year_cutoff = 2018\n",
    "data_month_cutoff = 4\n",
    "data_day_cutoff = 1\n",
    "comment_date_cutoff = datetime(year=data_year_cutoff, month=data_month_cutoff, day=data_day_cutoff)\n",
    "cutoff_combined_comment_data = combined_comment_data[combined_comment_data.loc[:, 'approveDate'] < comment_date_cutoff]\n",
    "## define cutoff for experienced users\n",
    "import numpy as np\n",
    "experienced_author_cutoff_pct = 90\n",
    "author_comment_counts = np.log(cutoff_combined_comment_data.loc[:, 'userID'].value_counts())\n",
    "experienced_author_cutoff = np.percentile(author_comment_counts, experienced_author_cutoff_pct)\n",
    "print(f'authors with >=exp({experienced_author_cutoff}) posts are experienced')\n",
    "author_experience_data = author_comment_counts.reset_index(name='comment_count').rename(columns={'index':'userID'})\n",
    "experience_bins = [experienced_author_cutoff]\n",
    "author_experience_data = author_experience_data.assign(**{\n",
    "    'author_experienced' : np.digitize(author_experience_data.loc[:, 'comment_count'], bins=experience_bins)\n",
    "})\n",
    "display(author_experience_data.head())\n",
    "print(author_experience_data.loc[:, 'author_experienced'].value_counts())"
   ]
  },
  {
   "cell_type": "code",
   "execution_count": 21,
   "metadata": {
    "scrolled": true
   },
   "outputs": [
    {
     "name": "stdout",
     "output_type": "stream",
     "text": [
      "1    22945\n",
      "0     6053\n",
      "Name: author_experienced, dtype: int64\n"
     ]
    }
   ],
   "source": [
    "## add to existing data\n",
    "# if('author_experienced' not in nyt_article_question_data.columns):\n",
    "if('author_experienced' in nyt_article_question_data.columns):\n",
    "    nyt_article_question_data.drop(['author_experienced', 'comment_count'], axis=1, inplace=True)\n",
    "nyt_article_question_data = pd.merge(nyt_article_question_data, author_experience_data, on='userID')\n",
    "print(nyt_article_question_data.loc[:, 'author_experienced'].value_counts())"
   ]
  },
  {
   "cell_type": "markdown",
   "metadata": {},
   "source": [
    "### Compare question-answer overlap for different reader groups\n",
    "Let's see whether certain audiences tend to pose questions that overlap more with the article content."
   ]
  },
  {
   "cell_type": "code",
   "execution_count": 22,
   "metadata": {},
   "outputs": [],
   "source": [
    "import matplotlib\n",
    "%matplotlib inline\n",
    "import matplotlib.pyplot as plt\n",
    "import seaborn as sns\n",
    "from scipy.stats import mannwhitneyu\n",
    "from itertools import product\n",
    "def test_median_diff_label_combos(data, label_var, test_var):\n",
    "    labels = data.loc[:, label_var].unique()\n",
    "    label_combos = [(label_i, label_j) for i, label_i in enumerate(labels) for j, label_j in enumerate(labels[(i+1):])]\n",
    "    for label_i, label_j in label_combos:\n",
    "        print(f'testing {label_i} vs. {label_j}')\n",
    "        label_vals_i = data[data.loc[:, label_var]==label_i].loc[:, test_var].values\n",
    "        label_vals_j = data[data.loc[:, label_var]==label_j].loc[:, test_var].values\n",
    "        median_diff_i_j = np.median(label_vals_i) - np.median(label_vals_j)\n",
    "        test_stat, p_val = mannwhitneyu(label_vals_i, label_vals_j)\n",
    "        print(f'{label_i} vs. {label_j} has median difference {median_diff_i_j} with test stat = %.3f (p=%.3E)'%(test_stat, p_val))"
   ]
  },
  {
   "cell_type": "code",
   "execution_count": 23,
   "metadata": {
    "scrolled": true
   },
   "outputs": [
    {
     "name": "stdout",
     "output_type": "stream",
     "text": [
      "testing M vs. F\n",
      "M vs. F has median difference 5.262438041649629e-06 with test stat = 25480363.000 (p=2.604E-01)\n",
      "testing M vs. UNK\n",
      "M vs. UNK has median difference 0.000115768307061794 with test stat = 72211899.500 (p=1.455E-01)\n",
      "testing F vs. UNK\n",
      "F vs. UNK has median difference 0.00011050586902014436 with test stat = 31701386.000 (p=4.405E-01)\n"
     ]
    },
    {
     "data": {
      "image/png": "[encoded data removed]",
      "text/plain": [
       "<Figure size 720x360 with 1 Axes>"
      ]
     },
     "metadata": {
      "needs_background": "light"
     },
     "output_type": "display_data"
    }
   ],
   "source": [
    "## gender\n",
    "test_median_diff_label_combos(nyt_article_question_data, 'gender', 'article_question_bleu')\n",
    "plt.figure(figsize=(10,5))\n",
    "sns.boxplot(x='gender', y='article_question_bleu', data=nyt_article_question_data)\n",
    "plt.yscale('log')\n",
    "plt.show()"
   ]
  },
  {
   "cell_type": "code",
   "execution_count": 24,
   "metadata": {
    "scrolled": true
   },
   "outputs": [
    {
     "name": "stdout",
     "output_type": "stream",
     "text": [
      "testing north_america vs. europe\n",
      "north_america vs. europe has median difference 0.0002915769781172044 with test stat = 23562114.000 (p=1.263E-01)\n",
      "testing north_america vs. UNK\n",
      "north_america vs. UNK has median difference 0.00034259154158562764 with test stat = 11111978.000 (p=1.130E-02)\n",
      "testing north_america vs. oceania\n",
      "north_america vs. oceania has median difference 0.00037500430841346834 with test stat = 3651732.500 (p=3.796E-02)\n",
      "testing north_america vs. asia\n",
      "north_america vs. asia has median difference 0.0003054750346336973 with test stat = 5786391.500 (p=1.067E-01)\n",
      "testing north_america vs. africa\n",
      "north_america vs. africa has median difference 0.0007549485959797439 with test stat = 2099555.000 (p=2.440E-02)\n",
      "testing north_america vs. south_america\n",
      "north_america vs. south_america has median difference -8.397061028640306e-05 with test stat = 4456055.500 (p=2.021E-01)\n",
      "testing europe vs. UNK\n",
      "europe vs. UNK has median difference 5.101456346842323e-05 with test stat = 881031.500 (p=1.142E-01)\n",
      "testing europe vs. oceania\n",
      "europe vs. oceania has median difference 8.342733029626393e-05 with test stat = 289718.500 (p=1.174E-01)\n",
      "testing europe vs. asia\n",
      "europe vs. asia has median difference 1.389805651649291e-05 with test stat = 457792.500 (p=2.608E-01)\n",
      "testing europe vs. africa\n",
      "europe vs. africa has median difference 0.0004633716178625395 with test stat = 166868.000 (p=6.800E-02)\n",
      "testing europe vs. south_america\n",
      "europe vs. south_america has median difference -0.00037554758840360747 with test stat = 342126.500 (p=1.103E-01)\n",
      "testing UNK vs. oceania\n",
      "UNK vs. oceania has median difference 3.24127668278407e-05 with test stat = 144654.500 (p=3.494E-01)\n",
      "testing UNK vs. asia\n",
      "UNK vs. asia has median difference -3.711650695193032e-05 with test stat = 224578.000 (p=3.951E-01)\n",
      "testing UNK vs. africa\n",
      "UNK vs. africa has median difference 0.0004123570543941163 with test stat = 83557.000 (p=2.131E-01)\n",
      "testing UNK vs. south_america\n",
      "UNK vs. south_america has median difference -0.0004265621518720307 with test stat = 161167.000 (p=2.641E-02)\n",
      "testing oceania vs. asia\n",
      "oceania vs. asia has median difference -6.952927377977102e-05 with test stat = 73889.500 (p=2.959E-01)\n",
      "testing oceania vs. africa\n",
      "oceania vs. africa has median difference 0.0003799442875662756 with test stat = 28346.000 (p=3.481E-01)\n",
      "testing oceania vs. south_america\n",
      "oceania vs. south_america has median difference -0.0004589749186998714 with test stat = 52961.500 (p=3.096E-02)\n",
      "testing asia vs. africa\n",
      "asia vs. africa has median difference 0.0004494735613460466 with test stat = 42778.500 (p=1.975E-01)\n",
      "testing asia vs. south_america\n",
      "asia vs. south_america has median difference -0.0003894456449201004 with test stat = 84089.000 (p=7.905E-02)\n",
      "testing africa vs. south_america\n",
      "africa vs. south_america has median difference -0.000838919206266147 with test stat = 30402.500 (p=1.791E-02)\n"
     ]
    },
    {
     "data": {
      "image/png": "[encoded data removed]",
      "text/plain": [
       "<Figure size 720x360 with 1 Axes>"
      ]
     },
     "metadata": {
      "needs_background": "light"
     },
     "output_type": "display_data"
    }
   ],
   "source": [
    "# geography\n",
    "test_median_diff_label_combos(nyt_article_question_data, 'user_region', 'article_question_bleu')\n",
    "plt.figure(figsize=(10,5))\n",
    "sns.boxplot(x='user_region', y='article_question_bleu', data=nyt_article_question_data)\n",
    "plt.yscale('log')\n",
    "plt.show()"
   ]
  },
  {
   "cell_type": "code",
   "execution_count": 26,
   "metadata": {
    "scrolled": true
   },
   "outputs": [
    {
     "name": "stdout",
     "output_type": "stream",
     "text": [
      "testing 1 vs. 0\n",
      "1 vs. 0 has median difference 0.00020685817334080685 with test stat = 68305403.500 (p=2.478E-02)\n"
     ]
    },
    {
     "data": {
      "image/png": "[encoded data removed]",
      "text/plain": [
       "<Figure size 720x360 with 1 Axes>"
      ]
     },
     "metadata": {
      "needs_background": "light"
     },
     "output_type": "display_data"
    },
    {
     "name": "stdout",
     "output_type": "stream",
     "text": [
      "correlation between comments, question overlap = 0.016 (p=6.319E-03)\n"
     ]
    },
    {
     "data": {
      "image/png": "[encoded data removed]",
      "text/plain": [
       "<Figure size 432x288 with 1 Axes>"
      ]
     },
     "metadata": {
      "needs_background": "light"
     },
     "output_type": "display_data"
    }
   ],
   "source": [
    "# experience\n",
    "test_median_diff_label_combos(nyt_article_question_data, 'author_experienced', 'article_question_bleu')\n",
    "plt.figure(figsize=(10,5))\n",
    "sns.boxplot(x='author_experienced', y='article_question_bleu', data=nyt_article_question_data)\n",
    "plt.yscale('log')\n",
    "plt.show()\n",
    "## curiosity: any correlation between integer value for experience\n",
    "from scipy.stats import spearmanr\n",
    "correl, p_val = spearmanr(nyt_article_question_data.loc[:, 'comment_count'], \n",
    "                          nyt_article_question_data.loc[:, 'article_question_bleu'])\n",
    "print('correlation between comments, question overlap = %.3f (p=%.3E)'%(correl, p_val))\n",
    "sns.regplot(x='comment_count', y='article_question_bleu', data=nyt_article_question_data)\n",
    "plt.yscale('log')\n",
    "plt.show()"
   ]
  },
  {
   "cell_type": "markdown",
   "metadata": {},
   "source": [
    "OK! So overall we've learned:\n",
    "\n",
    "- no gender differences\n",
    "- mild location differences (US has slightly higher overlap than UNK, possibly more attention to detail by local people?)\n",
    "- mild experience differences (high-experience authors have weakly higher overlap than low-experience authors; we may need per-section experience)"
   ]
  },
  {
   "cell_type": "code",
   "execution_count": null,
   "metadata": {},
   "outputs": [],
   "source": []
  }
 ],
 "metadata": {
  "kernelspec": {
   "display_name": "Python [conda env:py3] *",
   "language": "python",
   "name": "conda-env-py3-py"
  },
  "language_info": {
   "codemirror_mode": {
    "name": "ipython",
    "version": 3
   },
   "file_extension": ".py",
   "mimetype": "text/x-python",
   "name": "python",
   "nbconvert_exporter": "python",
   "pygments_lexer": "ipython3",
   "version": "3.8.5"
  }
 },
 "nbformat": 4,
 "nbformat_minor": 4
}
