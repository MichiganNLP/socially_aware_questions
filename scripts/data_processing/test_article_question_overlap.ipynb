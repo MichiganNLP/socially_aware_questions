{
 "cells": [
  {
   "cell_type": "markdown",
   "metadata": {},
   "source": [
    "# Test article question overlap\n",
    "Having scraped some sample news articles, let's see how well the text of the article overlaps with the questions asked. We'll do this in aggregate (CNN + NYT) and for different audiences (demographics, experience)."
   ]
  },
  {
   "cell_type": "code",
   "execution_count": 2,
   "metadata": {},
   "outputs": [
    {
     "data": {
      "text/html": [
       "<div>\n",
       "<style scoped>\n",
       "    .dataframe tbody tr th:only-of-type {\n",
       "        vertical-align: middle;\n",
       "    }\n",
       "\n",
       "    .dataframe tbody tr th {\n",
       "        vertical-align: top;\n",
       "    }\n",
       "\n",
       "    .dataframe thead th {\n",
       "        text-align: right;\n",
       "    }\n",
       "</style>\n",
       "<table border=\"1\" class=\"dataframe\">\n",
       "  <thead>\n",
       "    <tr style=\"text-align: right;\">\n",
       "      <th></th>\n",
       "      <th>id</th>\n",
       "      <th>title</th>\n",
       "      <th>authors</th>\n",
       "      <th>text</th>\n",
       "    </tr>\n",
       "  </thead>\n",
       "  <tbody>\n",
       "    <tr>\n",
       "      <th>0</th>\n",
       "      <td>4412CDA3DAFD46ECPQ</td>\n",
       "      <td>What the Heck Is That?: UTNE</td>\n",
       "      <td>['Amlen, Deb']</td>\n",
       "      <td>SPECIAL POST — To pronounce the entry that stu...</td>\n",
       "    </tr>\n",
       "    <tr>\n",
       "      <th>0</th>\n",
       "      <td>F65F0E7254114971PQ</td>\n",
       "      <td>It’s Westworld. What’s Wrong With Cruelty to R...</td>\n",
       "      <td>['Bloom, Paul', 'Harris, Sam']</td>\n",
       "      <td>Suppose we had robots perfectly identical to m...</td>\n",
       "    </tr>\n",
       "    <tr>\n",
       "      <th>0</th>\n",
       "      <td>C5E9C7C947CC4037PQ</td>\n",
       "      <td>A Survival Bid By Rosenstein May Be Costly: [N...</td>\n",
       "      <td>['Benner, Katie', 'Lafraniere, Sharon', 'Fando...</td>\n",
       "      <td>WASHINGTON -- He has a reputation as a princip...</td>\n",
       "    </tr>\n",
       "    <tr>\n",
       "      <th>0</th>\n",
       "      <td>8067C34EA2824FA1PQ</td>\n",
       "      <td>The Equal Rights Amendment Returns: [Editorial]</td>\n",
       "      <td>[]</td>\n",
       "      <td>Having a sexist in the Oval Office who curries...</td>\n",
       "    </tr>\n",
       "    <tr>\n",
       "      <th>0</th>\n",
       "      <td>FBE2D76C5E19422FPQ</td>\n",
       "      <td>We Don’t Need No Education</td>\n",
       "      <td>['Krugman, Paul']</td>\n",
       "      <td>Matt Bevin, the conservative Republican govern...</td>\n",
       "    </tr>\n",
       "  </tbody>\n",
       "</table>\n",
       "</div>"
      ],
      "text/plain": [
       "                   id                                              title  \\\n",
       "0  4412CDA3DAFD46ECPQ                       What the Heck Is That?: UTNE   \n",
       "0  F65F0E7254114971PQ  It’s Westworld. What’s Wrong With Cruelty to R...   \n",
       "0  C5E9C7C947CC4037PQ  A Survival Bid By Rosenstein May Be Costly: [N...   \n",
       "0  8067C34EA2824FA1PQ    The Equal Rights Amendment Returns: [Editorial]   \n",
       "0  FBE2D76C5E19422FPQ                         We Don’t Need No Education   \n",
       "\n",
       "                                             authors  \\\n",
       "0                                     ['Amlen, Deb']   \n",
       "0                     ['Bloom, Paul', 'Harris, Sam']   \n",
       "0  ['Benner, Katie', 'Lafraniere, Sharon', 'Fando...   \n",
       "0                                                 []   \n",
       "0                                  ['Krugman, Paul']   \n",
       "\n",
       "                                                text  \n",
       "0  SPECIAL POST — To pronounce the entry that stu...  \n",
       "0  Suppose we had robots perfectly identical to m...  \n",
       "0  WASHINGTON -- He has a reputation as a princip...  \n",
       "0  Having a sexist in the Oval Office who curries...  \n",
       "0  Matt Bevin, the conservative Republican govern...  "
      ]
     },
     "metadata": {},
     "output_type": "display_data"
    }
   ],
   "source": [
    "import pandas as pd\n",
    "import os\n",
    "nyt_article_dir = '../../data/NYT_scrape/'\n",
    "nyt_article_files = list(map(lambda x: os.path.join(nyt_article_dir, x), os.listdir(nyt_article_dir)))\n",
    "nyt_article_data = pd.concat(list(map(lambda x: pd.read_csv(x, sep='\\t', index_col=False), nyt_article_files)), axis=0)\n",
    "display(nyt_article_data.head())"
   ]
  }
 ],
 "metadata": {
  "kernelspec": {
   "display_name": "Python [conda env:py3] *",
   "language": "python",
   "name": "conda-env-py3-py"
  },
  "language_info": {
   "codemirror_mode": {
    "name": "ipython",
    "version": 3
   },
   "file_extension": ".py",
   "mimetype": "text/x-python",
   "name": "python",
   "nbconvert_exporter": "python",
   "pygments_lexer": "ipython3",
   "version": "3.7.7"
  }
 },
 "nbformat": 4,
 "nbformat_minor": 4
}
