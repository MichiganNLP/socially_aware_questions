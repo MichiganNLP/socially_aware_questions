{
 "cells": [
  {
   "cell_type": "markdown",
   "metadata": {},
   "source": [
    "# Question generation tests\n",
    "Let's test how well we can generate questions for the \"clean\" CNN data with crowdsourced questions and the noisy NYT data with user-generated questions."
   ]
  },
  {
   "cell_type": "code",
   "execution_count": 1,
   "metadata": {},
   "outputs": [
    {
     "data": {
      "text/html": [
       "<div>\n",
       "<style scoped>\n",
       "    .dataframe tbody tr th:only-of-type {\n",
       "        vertical-align: middle;\n",
       "    }\n",
       "\n",
       "    .dataframe tbody tr th {\n",
       "        vertical-align: top;\n",
       "    }\n",
       "\n",
       "    .dataframe thead th {\n",
       "        text-align: right;\n",
       "    }\n",
       "</style>\n",
       "<table border=\"1\" class=\"dataframe\">\n",
       "  <thead>\n",
       "    <tr style=\"text-align: right;\">\n",
       "      <th></th>\n",
       "      <th>article_text</th>\n",
       "      <th>article_id</th>\n",
       "    </tr>\n",
       "  </thead>\n",
       "  <tbody>\n",
       "    <tr>\n",
       "      <th>0</th>\n",
       "      <td>(CNN) -- It's been a busy few days in the worl...</td>\n",
       "      <td>23f7ab281ef416e1cdcd9c6fc359278a40a6ba34</td>\n",
       "    </tr>\n",
       "    <tr>\n",
       "      <th>1</th>\n",
       "      <td>Ten loveable mutts rescued from the streets of...</td>\n",
       "      <td>a8ac73078f8774a5addac799a22d0634278e79d1</td>\n",
       "    </tr>\n",
       "    <tr>\n",
       "      <th>2</th>\n",
       "      <td>Ken Henggeler poured his grief into the thing ...</td>\n",
       "      <td>022713fd20ac0ffd0ddccec6d9389beedd681893</td>\n",
       "    </tr>\n",
       "    <tr>\n",
       "      <th>3</th>\n",
       "      <td>Tokyo (CNN) -- Japan's prime minister vowed to...</td>\n",
       "      <td>d62d6364625d1522c55024486ec25851687935e3</td>\n",
       "    </tr>\n",
       "    <tr>\n",
       "      <th>4</th>\n",
       "      <td>(CNN) -- The leadership of North Korea appeare...</td>\n",
       "      <td>911597eecfe5d00d39de94f17c2a8400fcb4b994</td>\n",
       "    </tr>\n",
       "  </tbody>\n",
       "</table>\n",
       "</div>"
      ],
      "text/plain": [
       "                                        article_text  \\\n",
       "0  (CNN) -- It's been a busy few days in the worl...   \n",
       "1  Ten loveable mutts rescued from the streets of...   \n",
       "2  Ken Henggeler poured his grief into the thing ...   \n",
       "3  Tokyo (CNN) -- Japan's prime minister vowed to...   \n",
       "4  (CNN) -- The leadership of North Korea appeare...   \n",
       "\n",
       "                                 article_id  \n",
       "0  23f7ab281ef416e1cdcd9c6fc359278a40a6ba34  \n",
       "1  a8ac73078f8774a5addac799a22d0634278e79d1  \n",
       "2  022713fd20ac0ffd0ddccec6d9389beedd681893  \n",
       "3  d62d6364625d1522c55024486ec25851687935e3  \n",
       "4  911597eecfe5d00d39de94f17c2a8400fcb4b994  "
      ]
     },
     "metadata": {},
     "output_type": "display_data"
    }
   ],
   "source": [
    "## load data\n",
    "import pandas as pd\n",
    "import os\n",
    "import re\n",
    "cnn_article_dir = '../../data/CNN_articles/cnn/stories/'\n",
    "cnn_article_files = list(map(lambda x: os.path.join(cnn_article_dir, x), os.listdir(cnn_article_dir)))\n",
    "cnn_article_data = pd.DataFrame(list(map(lambda x: ' '.join(list(map(lambda x: x.strip(), open(x, 'r').readlines()))), cnn_article_files)),\n",
    "                                columns=['article_text'])\n",
    "article_id_matcher = re.compile('[a-z0-9]+(?=\\.story)')\n",
    "cnn_article_ids = list(map(lambda x: article_id_matcher.search(x).group(0), cnn_article_files))\n",
    "cnn_article_data = cnn_article_data.assign(**{\n",
    "    'article_id' : cnn_article_ids\n",
    "})\n",
    "display(cnn_article_data.head())"
   ]
  },
  {
   "cell_type": "code",
   "execution_count": 34,
   "metadata": {
    "scrolled": true
   },
   "outputs": [
    {
     "data": {
      "text/html": [
       "<div>\n",
       "<style scoped>\n",
       "    .dataframe tbody tr th:only-of-type {\n",
       "        vertical-align: middle;\n",
       "    }\n",
       "\n",
       "    .dataframe tbody tr th {\n",
       "        vertical-align: top;\n",
       "    }\n",
       "\n",
       "    .dataframe thead th {\n",
       "        text-align: right;\n",
       "    }\n",
       "</style>\n",
       "<table border=\"1\" class=\"dataframe\">\n",
       "  <thead>\n",
       "    <tr style=\"text-align: right;\">\n",
       "      <th></th>\n",
       "      <th>article_id</th>\n",
       "      <th>question</th>\n",
       "      <th>answer_char_ranges</th>\n",
       "      <th>is_answer_absent</th>\n",
       "      <th>is_question_bad</th>\n",
       "      <th>clean_answer_char_ranges</th>\n",
       "    </tr>\n",
       "  </thead>\n",
       "  <tbody>\n",
       "    <tr>\n",
       "      <th>0</th>\n",
       "      <td>42d01e187213e86f5fe617fe32e716ff7fa3afc4</td>\n",
       "      <td>What was the amount of children murdered?</td>\n",
       "      <td>[294:297]</td>\n",
       "      <td>0.0</td>\n",
       "      <td>0.0</td>\n",
       "      <td>[[294, 297]]</td>\n",
       "    </tr>\n",
       "    <tr>\n",
       "      <th>1</th>\n",
       "      <td>c48228a52f26aca65c31fad273e66164f047f292</td>\n",
       "      <td>Where was one employee killed?</td>\n",
       "      <td>[34:60, 1610:1618, 34:60]</td>\n",
       "      <td>0.0</td>\n",
       "      <td>0.0</td>\n",
       "      <td>[[34, 60], [1610, 1618], [34, 60]]</td>\n",
       "    </tr>\n",
       "    <tr>\n",
       "      <th>2</th>\n",
       "      <td>c65ed85800e4535f4bbbfa2c34d7d9630358d303</td>\n",
       "      <td>who did say South Africa did not issue a visa ...</td>\n",
       "      <td>[103:127, 114:127, 839:853]</td>\n",
       "      <td>0.0</td>\n",
       "      <td>0.0</td>\n",
       "      <td>[[103, 127], [114, 127], [839, 853]]</td>\n",
       "    </tr>\n",
       "    <tr>\n",
       "      <th>3</th>\n",
       "      <td>0cf66b646e9b32076513c050edf32a799200c3c2</td>\n",
       "      <td>How many years old was the businessman?</td>\n",
       "      <td>[538:550, 538:550]</td>\n",
       "      <td>0.0</td>\n",
       "      <td>0.0</td>\n",
       "      <td>[[538, 550], [538, 550]]</td>\n",
       "    </tr>\n",
       "    <tr>\n",
       "      <th>4</th>\n",
       "      <td>13012604e3203c18df09289dfedd14cde67cf40b</td>\n",
       "      <td>What frightened the families?</td>\n",
       "      <td>[690:742, 688:791, 630:646]</td>\n",
       "      <td>0.0</td>\n",
       "      <td>0.0</td>\n",
       "      <td>[[690, 742], [688, 791], [630, 646]]</td>\n",
       "    </tr>\n",
       "  </tbody>\n",
       "</table>\n",
       "</div>"
      ],
      "text/plain": [
       "                                 article_id  \\\n",
       "0  42d01e187213e86f5fe617fe32e716ff7fa3afc4   \n",
       "1  c48228a52f26aca65c31fad273e66164f047f292   \n",
       "2  c65ed85800e4535f4bbbfa2c34d7d9630358d303   \n",
       "3  0cf66b646e9b32076513c050edf32a799200c3c2   \n",
       "4  13012604e3203c18df09289dfedd14cde67cf40b   \n",
       "\n",
       "                                            question  \\\n",
       "0          What was the amount of children murdered?   \n",
       "1                     Where was one employee killed?   \n",
       "2  who did say South Africa did not issue a visa ...   \n",
       "3            How many years old was the businessman?   \n",
       "4                      What frightened the families?   \n",
       "\n",
       "            answer_char_ranges  is_answer_absent  is_question_bad  \\\n",
       "0                    [294:297]               0.0              0.0   \n",
       "1    [34:60, 1610:1618, 34:60]               0.0              0.0   \n",
       "2  [103:127, 114:127, 839:853]               0.0              0.0   \n",
       "3           [538:550, 538:550]               0.0              0.0   \n",
       "4  [690:742, 688:791, 630:646]               0.0              0.0   \n",
       "\n",
       "               clean_answer_char_ranges  \n",
       "0                          [[294, 297]]  \n",
       "1    [[34, 60], [1610, 1618], [34, 60]]  \n",
       "2  [[103, 127], [114, 127], [839, 853]]  \n",
       "3              [[538, 550], [538, 550]]  \n",
       "4  [[690, 742], [688, 791], [630, 646]]  "
      ]
     },
     "metadata": {},
     "output_type": "display_data"
    }
   ],
   "source": [
    "cnn_question_file = '../../data/CNN_articles/cnn/newsqa-data-v1/newsqa-data-v1.csv'\n",
    "full_cnn_question_data = pd.read_csv(cnn_question_file, sep=',', index_col=False, usecols=['story_id', 'question', 'is_answer_absent', 'is_question_bad', 'answer_char_ranges'])\n",
    "full_cnn_question_data.rename(columns={'story_id' : 'article_id'}, inplace=True)\n",
    "# get article IDs\n",
    "cnn_article_id_matcher = re.compile('[0-9a-zA-Z]+(?=\\.story)')\n",
    "full_cnn_question_data = full_cnn_question_data.assign(**{\n",
    "    'article_id' : full_cnn_question_data.loc[:, 'article_id'].apply(lambda x: cnn_article_id_matcher.search(x).group(0))\n",
    "})\n",
    "# clean answers\n",
    "full_cnn_question_data = full_cnn_question_data.assign(**{\n",
    "    'answer_char_ranges' : full_cnn_question_data.loc[:, 'answer_char_ranges'].apply(lambda x: list(filter(lambda x: x!='None', x.split('|')))),\n",
    "})\n",
    "\n",
    "def extract_char_range(txt):\n",
    "    txt_splits = txt.split(',')\n",
    "    char_range = list(map(lambda x: list(map(lambda y: int(y), x.split(':'))), txt_splits))\n",
    "    return char_range\n",
    "def extract_all_char_ranges(txt):\n",
    "    char_ranges = list(map(lambda y: extract_char_range(y), txt))\n",
    "    # flatten lol\n",
    "    flat_char_ranges = []\n",
    "    for char_range_i in char_ranges:\n",
    "        flat_char_ranges += char_range_i\n",
    "    return flat_char_ranges\n",
    "full_cnn_question_data = full_cnn_question_data.assign(**{\n",
    "    'clean_answer_char_ranges' : full_cnn_question_data.loc[:, 'answer_char_ranges'].apply(lambda x: extract_all_char_ranges(x)),\n",
    "})\n",
    "# get rid of unclear questions\n",
    "# NOTE: we may need the different \"bad\" ratings later when testing word overlap\n",
    "full_cnn_question_data = full_cnn_question_data[full_cnn_question_data.loc[:, 'is_question_bad']!='?']\n",
    "full_cnn_question_data = full_cnn_question_data.assign(**{'is_question_bad' : full_cnn_question_data.loc[:, 'is_question_bad'].astype(float)})\n",
    "# remove bad questions\n",
    "cnn_question_data = full_cnn_question_data[(full_cnn_question_data.loc[:, 'is_answer_absent']==0.) &\n",
    "                                           (full_cnn_question_data.loc[:, 'is_question_bad']==0.)]\n",
    "display(cnn_question_data.head())\n"
   ]
  },
  {
   "cell_type": "code",
   "execution_count": 35,
   "metadata": {},
   "outputs": [],
   "source": [
    "## combine article/comment\n",
    "cnn_article_question_data = pd.merge(cnn_question_data, cnn_article_data, on='article_id')\n",
    "cnn_article_question_data = cnn_article_question_data[~cnn_article_question_data.loc[:, 'article_text'].apply(lambda x: type(x) is float and np.isnan(x))]\n",
    "## get answers to validate questions\n",
    "cnn_article_question_data = cnn_article_question_data.assign(**{\n",
    "    \n",
    "})\n",
    "cnn_article_question_data = cnn_article_question_data.assign(**{\n",
    "    'clean_answers' : cnn_article_question_data.apply(lambda x: list(map(lambda y: x.loc['article_text'][y[0]:y[1]], x.loc['clean_answer_char_ranges'])), axis=1)\n",
    "})"
   ]
  },
  {
   "cell_type": "code",
   "execution_count": 36,
   "metadata": {},
   "outputs": [
    {
     "name": "stdout",
     "output_type": "stream",
     "text": [
      "63672 questions\n"
     ]
    }
   ],
   "source": [
    "print(f'{cnn_article_question_data.shape[0]} questions')"
   ]
  },
  {
   "cell_type": "code",
   "execution_count": 39,
   "metadata": {},
   "outputs": [
    {
     "data": {
      "text/html": [
       "<div>\n",
       "<style scoped>\n",
       "    .dataframe tbody tr th:only-of-type {\n",
       "        vertical-align: middle;\n",
       "    }\n",
       "\n",
       "    .dataframe tbody tr th {\n",
       "        vertical-align: top;\n",
       "    }\n",
       "\n",
       "    .dataframe thead th {\n",
       "        text-align: right;\n",
       "    }\n",
       "</style>\n",
       "<table border=\"1\" class=\"dataframe\">\n",
       "  <thead>\n",
       "    <tr style=\"text-align: right;\">\n",
       "      <th></th>\n",
       "      <th>article_id</th>\n",
       "      <th>question</th>\n",
       "      <th>answer_char_ranges</th>\n",
       "      <th>is_answer_absent</th>\n",
       "      <th>is_question_bad</th>\n",
       "      <th>clean_answer_char_ranges</th>\n",
       "      <th>article_text</th>\n",
       "      <th>clean_answers</th>\n",
       "    </tr>\n",
       "  </thead>\n",
       "  <tbody>\n",
       "    <tr>\n",
       "      <th>0</th>\n",
       "      <td>42d01e187213e86f5fe617fe32e716ff7fa3afc4</td>\n",
       "      <td>What was the amount of children murdered?</td>\n",
       "      <td>[294:297]</td>\n",
       "      <td>0.0</td>\n",
       "      <td>0.0</td>\n",
       "      <td>[[294, 297]]</td>\n",
       "      <td>NEW DELHI, India (CNN) -- A high court in nort...</td>\n",
       "      <td>[ict]</td>\n",
       "    </tr>\n",
       "    <tr>\n",
       "      <th>1</th>\n",
       "      <td>42d01e187213e86f5fe617fe32e716ff7fa3afc4</td>\n",
       "      <td>When was Pandher sentenced to death?</td>\n",
       "      <td>[261:271, 258:271, 261:271]</td>\n",
       "      <td>0.0</td>\n",
       "      <td>0.0</td>\n",
       "      <td>[[261, 271], [258, 271], [261, 271]]</td>\n",
       "      <td>NEW DELHI, India (CNN) -- A high court in nort...</td>\n",
       "      <td>[bruary.  T,  February.  T, bruary.  T]</td>\n",
       "    </tr>\n",
       "    <tr>\n",
       "      <th>2</th>\n",
       "      <td>42d01e187213e86f5fe617fe32e716ff7fa3afc4</td>\n",
       "      <td>The court aquitted Moninder Singh Pandher of w...</td>\n",
       "      <td>[26:33, 624:640]</td>\n",
       "      <td>0.0</td>\n",
       "      <td>0.0</td>\n",
       "      <td>[[26, 33], [624, 640]]</td>\n",
       "      <td>NEW DELHI, India (CNN) -- A high court in nort...</td>\n",
       "      <td>[A high ,  murder of the 1]</td>\n",
       "    </tr>\n",
       "    <tr>\n",
       "      <th>3</th>\n",
       "      <td>42d01e187213e86f5fe617fe32e716ff7fa3afc4</td>\n",
       "      <td>who was acquitted</td>\n",
       "      <td>[195:218, 195:218]</td>\n",
       "      <td>0.0</td>\n",
       "      <td>0.0</td>\n",
       "      <td>[[195, 218], [195, 218]]</td>\n",
       "      <td>NEW DELHI, India (CNN) -- A high court in nort...</td>\n",
       "      <td>[ninder Singh Pandher wa, ninder Singh Pandher...</td>\n",
       "    </tr>\n",
       "    <tr>\n",
       "      <th>4</th>\n",
       "      <td>42d01e187213e86f5fe617fe32e716ff7fa3afc4</td>\n",
       "      <td>What was Moninder Singh Pandher acquitted for?</td>\n",
       "      <td>[129:192, 129:151, 133:151]</td>\n",
       "      <td>0.0</td>\n",
       "      <td>0.0</td>\n",
       "      <td>[[129, 192], [129, 151], [133, 151]]</td>\n",
       "      <td>NEW DELHI, India (CNN) -- A high court in nort...</td>\n",
       "      <td>[the killing of a teen in a case dubbed \"the h...</td>\n",
       "    </tr>\n",
       "  </tbody>\n",
       "</table>\n",
       "</div>"
      ],
      "text/plain": [
       "                                 article_id  \\\n",
       "0  42d01e187213e86f5fe617fe32e716ff7fa3afc4   \n",
       "1  42d01e187213e86f5fe617fe32e716ff7fa3afc4   \n",
       "2  42d01e187213e86f5fe617fe32e716ff7fa3afc4   \n",
       "3  42d01e187213e86f5fe617fe32e716ff7fa3afc4   \n",
       "4  42d01e187213e86f5fe617fe32e716ff7fa3afc4   \n",
       "\n",
       "                                            question  \\\n",
       "0          What was the amount of children murdered?   \n",
       "1               When was Pandher sentenced to death?   \n",
       "2  The court aquitted Moninder Singh Pandher of w...   \n",
       "3                                  who was acquitted   \n",
       "4     What was Moninder Singh Pandher acquitted for?   \n",
       "\n",
       "            answer_char_ranges  is_answer_absent  is_question_bad  \\\n",
       "0                    [294:297]               0.0              0.0   \n",
       "1  [261:271, 258:271, 261:271]               0.0              0.0   \n",
       "2             [26:33, 624:640]               0.0              0.0   \n",
       "3           [195:218, 195:218]               0.0              0.0   \n",
       "4  [129:192, 129:151, 133:151]               0.0              0.0   \n",
       "\n",
       "               clean_answer_char_ranges  \\\n",
       "0                          [[294, 297]]   \n",
       "1  [[261, 271], [258, 271], [261, 271]]   \n",
       "2                [[26, 33], [624, 640]]   \n",
       "3              [[195, 218], [195, 218]]   \n",
       "4  [[129, 192], [129, 151], [133, 151]]   \n",
       "\n",
       "                                        article_text  \\\n",
       "0  NEW DELHI, India (CNN) -- A high court in nort...   \n",
       "1  NEW DELHI, India (CNN) -- A high court in nort...   \n",
       "2  NEW DELHI, India (CNN) -- A high court in nort...   \n",
       "3  NEW DELHI, India (CNN) -- A high court in nort...   \n",
       "4  NEW DELHI, India (CNN) -- A high court in nort...   \n",
       "\n",
       "                                       clean_answers  \n",
       "0                                              [ict]  \n",
       "1            [bruary.  T,  February.  T, bruary.  T]  \n",
       "2                        [A high ,  murder of the 1]  \n",
       "3  [ninder Singh Pandher wa, ninder Singh Pandher...  \n",
       "4  [the killing of a teen in a case dubbed \"the h...  "
      ]
     },
     "metadata": {},
     "output_type": "display_data"
    }
   ],
   "source": [
    "display(cnn_article_question_data.head(5))"
   ]
  },
  {
   "cell_type": "markdown",
   "metadata": {},
   "source": [
    "### Train model\n",
    "Let's try an actual trained QA model with all the bells/whistles first, downloaded from [here](https://github.com/patil-suraj/question_generation.git)."
   ]
  },
  {
   "cell_type": "code",
   "execution_count": null,
   "metadata": {},
   "outputs": [],
   "source": [
    "import sys\n",
    "if('question_generation/' not in sys.path):\n",
    "    sys.path.append('question_generation/')\n",
    "## NOTE need to run pipeline once to download (expensive!!) models\n",
    "from pipelines import pipeline\n",
    "question_pipeline = pipeline('question-generation')"
   ]
  },
  {
   "cell_type": "code",
   "execution_count": 6,
   "metadata": {
    "scrolled": true
   },
   "outputs": [
    {
     "data": {
      "application/vnd.jupyter.widget-view+json": {
       "model_id": "36c463e786924d9390b7adccb3f0e528",
       "version_major": 2,
       "version_minor": 0
      },
      "text/plain": [
       "HBox(children=(HTML(value='Downloading'), FloatProgress(value=0.0, max=627.0), HTML(value='')))"
      ]
     },
     "metadata": {},
     "output_type": "display_data"
    },
    {
     "name": "stdout",
     "output_type": "stream",
     "text": [
      "\n"
     ]
    },
    {
     "data": {
      "application/vnd.jupyter.widget-view+json": {
       "model_id": "14306890e6ee40889e04778b0207c280",
       "version_major": 2,
       "version_minor": 0
      },
      "text/plain": [
       "HBox(children=(HTML(value='Downloading'), FloatProgress(value=0.0, max=791656.0), HTML(value='')))"
      ]
     },
     "metadata": {},
     "output_type": "display_data"
    },
    {
     "name": "stdout",
     "output_type": "stream",
     "text": [
      "\n"
     ]
    },
    {
     "data": {
      "application/vnd.jupyter.widget-view+json": {
       "model_id": "5b72cc21bb0945849d3b34cb49b5d174",
       "version_major": 2,
       "version_minor": 0
      },
      "text/plain": [
       "HBox(children=(HTML(value='Downloading'), FloatProgress(value=0.0, max=31.0), HTML(value='')))"
      ]
     },
     "metadata": {},
     "output_type": "display_data"
    },
    {
     "name": "stdout",
     "output_type": "stream",
     "text": [
      "\n"
     ]
    },
    {
     "data": {
      "application/vnd.jupyter.widget-view+json": {
       "model_id": "9d46236cf1d5449fa864dec27f10bcec",
       "version_major": 2,
       "version_minor": 0
      },
      "text/plain": [
       "HBox(children=(HTML(value='Downloading'), FloatProgress(value=0.0, max=65.0), HTML(value='')))"
      ]
     },
     "metadata": {},
     "output_type": "display_data"
    },
    {
     "name": "stdout",
     "output_type": "stream",
     "text": [
      "\n"
     ]
    },
    {
     "data": {
      "application/vnd.jupyter.widget-view+json": {
       "model_id": "f7aa6540c8f748c0a1bea7a685299080",
       "version_major": 2,
       "version_minor": 0
      },
      "text/plain": [
       "HBox(children=(HTML(value='Downloading'), FloatProgress(value=0.0, max=90.0), HTML(value='')))"
      ]
     },
     "metadata": {},
     "output_type": "display_data"
    },
    {
     "name": "stdout",
     "output_type": "stream",
     "text": [
      "\n"
     ]
    },
    {
     "data": {
      "application/vnd.jupyter.widget-view+json": {
       "model_id": "fddac25afc924651bc9a45f3ac7eda63",
       "version_major": 2,
       "version_minor": 0
      },
      "text/plain": [
       "HBox(children=(HTML(value='Downloading'), FloatProgress(value=0.0, max=242013444.0), HTML(value='')))"
      ]
     },
     "metadata": {},
     "output_type": "display_data"
    },
    {
     "name": "stdout",
     "output_type": "stream",
     "text": [
      "\n"
     ]
    },
    {
     "data": {
      "application/vnd.jupyter.widget-view+json": {
       "model_id": "43a1b729631b4c8d8d3e286d65fa893d",
       "version_major": 2,
       "version_minor": 0
      },
      "text/plain": [
       "HBox(children=(HTML(value='Downloading'), FloatProgress(value=0.0, max=656.0), HTML(value='')))"
      ]
     },
     "metadata": {},
     "output_type": "display_data"
    },
    {
     "name": "stdout",
     "output_type": "stream",
     "text": [
      "\n"
     ]
    },
    {
     "data": {
      "application/vnd.jupyter.widget-view+json": {
       "model_id": "3c94e94d6d3842a09d89ed22035e527e",
       "version_major": 2,
       "version_minor": 0
      },
      "text/plain": [
       "HBox(children=(HTML(value='Downloading'), FloatProgress(value=0.0, max=791656.0), HTML(value='')))"
      ]
     },
     "metadata": {},
     "output_type": "display_data"
    },
    {
     "name": "stdout",
     "output_type": "stream",
     "text": [
      "\n"
     ]
    },
    {
     "data": {
      "application/vnd.jupyter.widget-view+json": {
       "model_id": "2436897ba55643759ccafd82e851d640",
       "version_major": 2,
       "version_minor": 0
      },
      "text/plain": [
       "HBox(children=(HTML(value='Downloading'), FloatProgress(value=0.0, max=31.0), HTML(value='')))"
      ]
     },
     "metadata": {},
     "output_type": "display_data"
    },
    {
     "name": "stdout",
     "output_type": "stream",
     "text": [
      "\n"
     ]
    },
    {
     "data": {
      "application/vnd.jupyter.widget-view+json": {
       "model_id": "53a85fb2163c4f87a756433f6a9acf01",
       "version_major": 2,
       "version_minor": 0
      },
      "text/plain": [
       "HBox(children=(HTML(value='Downloading'), FloatProgress(value=0.0, max=65.0), HTML(value='')))"
      ]
     },
     "metadata": {},
     "output_type": "display_data"
    },
    {
     "name": "stdout",
     "output_type": "stream",
     "text": [
      "\n"
     ]
    },
    {
     "data": {
      "application/vnd.jupyter.widget-view+json": {
       "model_id": "813e59329c2d46caacf8ac162151f654",
       "version_major": 2,
       "version_minor": 0
      },
      "text/plain": [
       "HBox(children=(HTML(value='Downloading'), FloatProgress(value=0.0, max=90.0), HTML(value='')))"
      ]
     },
     "metadata": {},
     "output_type": "display_data"
    },
    {
     "name": "stdout",
     "output_type": "stream",
     "text": [
      "\n"
     ]
    },
    {
     "data": {
      "application/vnd.jupyter.widget-view+json": {
       "model_id": "ac33afca2dfd4029be5364ac92b74dbb",
       "version_major": 2,
       "version_minor": 0
      },
      "text/plain": [
       "HBox(children=(HTML(value='Downloading'), FloatProgress(value=0.0, max=242013376.0), HTML(value='')))"
      ]
     },
     "metadata": {},
     "output_type": "display_data"
    },
    {
     "name": "stdout",
     "output_type": "stream",
     "text": [
      "\n"
     ]
    },
    {
     "name": "stderr",
     "output_type": "stream",
     "text": [
      "/home/ianbstew/miniconda3/envs/py3/lib/python3.8/site-packages/transformers/tokenization_t5.py:183: UserWarning: This sequence already has </s>. In future versions this behavior may lead to duplicated eos tokens being added.\n",
      "  warnings.warn(\n"
     ]
    },
    {
     "name": "stdout",
     "output_type": "stream",
     "text": [
      "[{'answer': 'Python', 'question': 'What is an interpreted, high-level, general-purpose programming language?'}, {'answer': 'Guido van Rossum', 'question': 'Who created Python?'}]\n"
     ]
    }
   ],
   "source": [
    "## test short text\n",
    "text = \"Python is an interpreted, high-level, general-purpose programming language. Created by Guido van Rossum \\\n",
    "and first released in 1991, Python's design philosophy emphasizes code \\\n",
    "readability with its notable use of significant whitespace.\"\n",
    "text_question = question_pipeline(text)\n",
    "print(text_question)"
   ]
  },
  {
   "cell_type": "code",
   "execution_count": 40,
   "metadata": {
    "scrolled": false
   },
   "outputs": [
    {
     "name": "stdout",
     "output_type": "stream",
     "text": [
      "NEW DELHI, India (CNN) -- A high court in northern India on Friday acquitted a wealthy businessman facing the death sentence for the killing of a teen in a case dubbed \"the house of horrors.\"  Moninder Singh Pandher was sentenced to death by a lower court in February.  The teen was one of 19 victims...\n"
     ]
    },
    {
     "name": "stderr",
     "output_type": "stream",
     "text": [
      "/home/ianbstew/miniconda3/envs/py3/lib/python3.8/site-packages/transformers/tokenization_t5.py:183: UserWarning: This sequence already has </s>. In future versions this behavior may lead to duplicated eos tokens being added.\n",
      "  warnings.warn(\n"
     ]
    },
    {
     "name": "stdout",
     "output_type": "stream",
     "text": [
      "generated questions = [{'answer': 'the house of horrors', 'question': 'What was the name of the case that was acquitted by a high court in northern India?'}, {'answer': 'February', 'question': 'When was Moninder Singh Pandher sentenced to death?'}, {'answer': '19', 'question': 'How many victims did Moninder Singh Pandher have?'}, {'answer': 'Sikandar B. Kochar', 'question': \"Who was Moninder Singh Pandher's lawyer?\"}, {'answer': 'Surinder Koli', 'question': \"Who was Pandher's domestic employee?\"}, {'answer': 'Koli', 'question': \"Who's death sentence was upheld by the high court?\"}, {'answer': 'Noida', 'question': \"Where was Pandher's home found?\"}, {'answer': 'house of horrors', 'question': 'What was the home of Moninder Singh Pandher called by the Indian media?'}, {'answer': 'co-accused', 'question': 'What was Pandher summoned during the trial?'}, {'answer': 'Australia', 'question': 'In what country was the teen raped and killed?'}, {'answer': '18', 'question': 'How many killings did Moninder Singh Pandher face?'}, {'answer': '19', 'question': 'How many children and young women were acquitted in the killings of Moninder Singh Pandher?'}]\n",
      "gold question = What was the amount of children murdered?\n"
     ]
    }
   ],
   "source": [
    "test_cnn_article_question_data = cnn_article_question_data.iloc[0, :]\n",
    "test_article = test_cnn_article_question_data.loc['article_text']\n",
    "test_gold_question = test_cnn_article_question_data.loc['question']\n",
    "print(f'{test_article[:300]}...')\n",
    "test_article_questions = question_pipeline(test_article)\n",
    "print(f'generated questions = {test_article_questions}')\n",
    "print(f'gold question = {test_gold_question}')"
   ]
  },
  {
   "cell_type": "markdown",
   "metadata": {},
   "source": [
    "Even though the wording is different, we see that the gold question is captured in at least one of the generated questions (`How many victims...`)."
   ]
  },
  {
   "cell_type": "markdown",
   "metadata": {},
   "source": [
    "### Generate, evalute questions for articles"
   ]
  },
  {
   "cell_type": "markdown",
   "metadata": {},
   "source": [
    "TODO: Let's try generating questions for all the articles and see how potentially useful they would be. They may be restricted to within-sentence reasoning and therefore not too complicated."
   ]
  },
  {
   "cell_type": "code",
   "execution_count": null,
   "metadata": {},
   "outputs": [],
   "source": []
  }
 ],
 "metadata": {
  "kernelspec": {
   "display_name": "Python [conda env:py3] *",
   "language": "python",
   "name": "conda-env-py3-py"
  },
  "language_info": {
   "codemirror_mode": {
    "name": "ipython",
    "version": 3
   },
   "file_extension": ".py",
   "mimetype": "text/x-python",
   "name": "python",
   "nbconvert_exporter": "python",
   "pygments_lexer": "ipython3",
   "version": "3.8.5"
  }
 },
 "nbformat": 4,
 "nbformat_minor": 4
}
