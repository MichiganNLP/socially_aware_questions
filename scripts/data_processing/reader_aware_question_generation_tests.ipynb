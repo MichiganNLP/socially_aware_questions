{
 "cells": [
  {
   "cell_type": "markdown",
   "metadata": {},
   "source": [
    "# Reader-aware question generation tests\n",
    "We've taken a first stab at reader-aware question generation by adding a reader-type token (e.g. `US` reader) to the input text.\n",
    "\n",
    "Let's see how well this model does with prediction, and how well it adapts to different reader groups."
   ]
  },
  {
   "cell_type": "code",
   "execution_count": 10,
   "metadata": {},
   "outputs": [
    {
     "data": {
      "text/plain": [
       "50271"
      ]
     },
     "execution_count": 10,
     "metadata": {},
     "output_type": "execute_result"
    }
   ],
   "source": [
    "len(tokenizer)"
   ]
  },
  {
   "cell_type": "code",
   "execution_count": 14,
   "metadata": {},
   "outputs": [
    {
     "data": {
      "text/plain": [
       "<All keys matched successfully>"
      ]
     },
     "execution_count": 14,
     "metadata": {},
     "output_type": "execute_result"
    }
   ],
   "source": [
    "## load model\n",
    "import torch\n",
    "from transformers import AutoModelForSeq2SeqLM, BartTokenizer\n",
    "cache_dir = '../../data/nyt_comments/author_data_model/model_cache/'\n",
    "generation_model = AutoModelForSeq2SeqLM.from_pretrained('facebook/bart-base', cache_dir=cache_dir)\n",
    "tokenizer = torch.load('../../data/nyt_comments/author_data_model/BART_tokenizer.pt')\n",
    "# fix vocab size\n",
    "generation_model.resize_token_embeddings(len(tokenizer))\n",
    "# generation_model = AutoModelForSeq2SeqLM.from_pretrained('facebook/bart-base')\n",
    "trained_model_state_dict_file = '../../data/nyt_comments/author_data_model/question_generation_model/checkpoint-72000/pytorch_model.bin' # latest checkpoint model\n",
    "trained_model_state_dict = torch.load(trained_model_state_dict_file)\n",
    "generation_model.load_state_dict(trained_model_state_dict)"
   ]
  },
  {
   "cell_type": "code",
   "execution_count": 16,
   "metadata": {},
   "outputs": [
    {
     "name": "stdout",
     "output_type": "stream",
     "text": [
      "Dataset(features: {'article_id': Value(dtype='string', id=None), 'location_region': Value(dtype='string', id=None), 'prior_comment_count_bin': Value(dtype='int64', id=None), 'prior_comment_len_bin': Value(dtype='int64', id=None), 'source_text': Value(dtype='string', id=None), 'target_text': Value(dtype='string', id=None), 'source_ids': Sequence(feature=Value(dtype='int64', id=None), length=-1, id=None), 'target_ids': Sequence(feature=Value(dtype='int64', id=None), length=-1, id=None), 'attention_mask': Sequence(feature=Value(dtype='int64', id=None), length=-1, id=None)}, num_rows: 7209)\n"
     ]
    }
   ],
   "source": [
    "## load validation data\n",
    "val_data = torch.load('../../data/nyt_comments/author_data_model/author_type_NYT_question_data_val_data.pt')\n",
    "val_data = val_data['train']\n",
    "print(val_data)"
   ]
  },
  {
   "cell_type": "code",
   "execution_count": 65,
   "metadata": {},
   "outputs": [
    {
     "name": "stdout",
     "output_type": "stream",
     "text": [
      "Help on method add_tokens in module transformers.tokenization_utils_base:\n",
      "\n",
      "add_tokens(new_tokens: Union[str, tokenizers.AddedToken, List[Union[str, tokenizers.AddedToken]]], special_tokens: bool = False) -> int method of transformers.tokenization_bart.BartTokenizer instance\n",
      "    Add a list of new tokens to the tokenizer class. If the new tokens are not in the vocabulary, they are added to\n",
      "    it with indices starting from length of the current vocabulary.\n",
      "    \n",
      "    Args:\n",
      "        new_tokens (:obj:`str`, :obj:`tokenizers.AddedToken` or a list of `str` or :obj:`tokenizers.AddedToken`):\n",
      "            Tokens are only added if they are not already in the vocabulary. :obj:`tokenizers.AddedToken` wraps a\n",
      "            string token to let you personalize its behavior: whether this token should only match against a single\n",
      "            word, whether this token should strip all potential whitespaces on the left side, whether this token\n",
      "            should strip all potential whitespaces on the right side, etc.\n",
      "        special_tokens (:obj:`bool`, `optional`, defaults to :obj:`False`):\n",
      "            Can be used to specify if the token is a special token. This mostly change the normalization behavior\n",
      "            (special tokens like CLS or [MASK] are usually not lower-cased for instance).\n",
      "    \n",
      "            See details for :obj:`tokenizers.AddedToken` in HuggingFace tokenizers library.\n",
      "    \n",
      "    Returns:\n",
      "        :obj:`int`: Number of tokens added to the vocabulary.\n",
      "    \n",
      "    Examples::\n",
      "    \n",
      "        # Let's see how to increase the vocabulary of Bert model and tokenizer\n",
      "        tokenizer = BertTokenizerFast.from_pretrained('bert-base-uncased')\n",
      "        model = BertModel.from_pretrained('bert-base-uncased')\n",
      "    \n",
      "        num_added_toks = tokenizer.add_tokens(['new_tok1', 'my_new-tok2'])\n",
      "        print('We have added', num_added_toks, 'tokens')\n",
      "         # Notice: resize_token_embeddings expect to receive the full size of the new vocabulary, i.e., the length of the tokenizer.\n",
      "        model.resize_token_embeddings(len(tokenizer))\n",
      "\n"
     ]
    }
   ],
   "source": [
    "help(tokenizer.add_tokens)"
   ]
  },
  {
   "cell_type": "code",
   "execution_count": 62,
   "metadata": {},
   "outputs": [
    {
     "name": "stdout",
     "output_type": "stream",
     "text": [
      "[50270  5762   480 ...    14     5     2]\n",
      "WASHINGTON -- President Trump rejected, for now at least, a fresh round of sanctions set to be imposed against Russia on Monday, a course change that underscored the schism between the president and his national security team. The president's ambassador to the United Nations, Nikki R. Haley, had announced on Sunday that the administration would place sanctions on Russian companies found to be assisting Syria's chemical weapons program. The sanctions were listed on a menu of further government options after an American-led airstrike on Syria, retaliating against a suspected gas attack that killed dozens a week earlier. But the White House contradicted her on Monday, saying that Mr. Trump had not approved additional measures.\" We are considering additional sanctions on Russia and a decision will be made in the near future,\" Sarah Huckabee Sanders, the White House press secretary, said in a statement. Speaking later with reporters aboard Air Force One as Mr. Trump headed to Florida, Ms. Sanders added that\" the president has been clear that he's going to be tough on Russia, but at the same time he'd still like to have a good relationship with them.\" Another White House official, who spoke on condition of anonymity to describe internal deliberations, said Mr. Trump had decided not to go forward with the sanctions. Mr. Trump concluded that they were unnecessary because Moscow's response to the airstrike was mainly bluster, the official said. Russia analysts said the whipsaw policy shift once again highlighted an administration struggling to find a coherent and consistent voice in dealing with Russia, which in the past four years has annexed Crimea, intervened in eastern Ukraine, sought to influence the American election in 2016, allegedly poisoned a former Russian spy living in Britain and propped up the murderous government of President Bashar al-Assad in Syria. Mr. Trump has mostly spoken hopefully of his efforts to forge a friendship with President Vladimir V. Putin of Russia, including congratulating him on a re-election widely denounced as a sham and even suggesting a White House meeting. At the same time, the Trump administration has imposed two rounds of sanctions against Russia in the last month, expelled 60 of Moscow's diplomats and closed a consulate in retaliation for the poisoning attack in Britain.\" Trump seems to think that if he accepts what his advisers recommend on even days of the month and rejects their recommendations on odd days, the result will be a strategy,\" said Stephen Sestanovich, a scholar at the Council on Foreign Relations and Columbia University who served as ambassador to former Soviet states in the 1990s.\" By and large, other governments don't know whether to laugh or cry at all this,\" Mr. Sestanovich said.\" But in Russia, laughter is getting the upper hand.\" Mr. Trump was annoyed with Ms. Haley for getting out in front of the policy, the administration official said, and the president's decision to reject sanctions left her hanging in public with her credibility on the line. Ms. Haley has been one of the strongest critics in the administration of Russia's behavior around the world, often speaking far more harshly than Mr. Trump would, but she has rarely been reined in publicly this way. She made no comment on Monday. Administration officials said new sanctions could still be imposed at some point if Russia takes further action justifying them. But absent such a scenario, the officials could not explain how Mr. Trump would make Russia pay a\" big price\" for enabling Syria's use of chemical weapons, as he promised to do last week after a suspected gas attack killed more than 40 people and sickened scores more outside Damascus on April 7. The strike against Syria that Mr. Trump announced late Friday in Washington was limited to a single night and to three targets linked to chemical weapons facilities. It sought to punish President Bashar al-Assad of Syria for the suspected gas attack but avoid provoking Russia into a response. Russian forces stationed in Syria have helped Mr. Assad gain the upper hand in the country's seven-year civil war. Russia responded harshly to the news of sanctions before learning that Mr. Trump had canceled them.\" The sanctions drive against Russia is becoming an obsession,\" Dmitri S. Peskov, the Kremlin spokesman, told reporters at his daily briefing in Moscow.\" We're convinced that any economist can see open attempts to squeeze Russian companies out of global markets.\" Critics said the president's decision not to follow through on Ms. Haley's announcement would sap American authority around the world.\" I am outraged that President Trump pulled back sanctions on Russia for its support of the Assad regime,\" said Representative Eliot L. Engel of New York, the senior Democrat on the House Foreign Affairs Committee.\" This sends a message to governments around the world that they can support brutal, criminal behavior without serious consequences.\" President Trump is out of step with the American people, American values -- and as this situation has made clear, his own administration,\" Mr. Engel said. The about-face on sanctions came a day after ABC News broadcast an interview with James B. Comey, the former F. B. I. director fired by Mr. Trump last year, in which he said he thought\" it's possible\" that the president<US_AUTHOR>\n"
     ]
    }
   ],
   "source": [
    "print(val_data['source_ids'][20])\n",
    "print(val_data['source_text'][20])"
   ]
  },
  {
   "cell_type": "code",
   "execution_count": 60,
   "metadata": {},
   "outputs": [],
   "source": [
    "## TODO: why did special author token get added to start of all source/target IDs??\n",
    "for x in val_data['source_ids']:\n",
    "    if(x[0] != 50270):\n",
    "        print(x)\n",
    "        break"
   ]
  },
  {
   "cell_type": "code",
   "execution_count": 55,
   "metadata": {},
   "outputs": [
    {
     "data": {
      "text/plain": [
       "[50270, 9226, 354, 102, 21959, 2]"
      ]
     },
     "execution_count": 55,
     "metadata": {},
     "output_type": "execute_result"
    }
   ],
   "source": [
    "tokenizer.encode(['this', 'is', 'a', 'test'], add_special_tokens=True)"
   ]
  },
  {
   "cell_type": "code",
   "execution_count": 52,
   "metadata": {},
   "outputs": [
    {
     "name": "stdout",
     "output_type": "stream",
     "text": [
      "\n",
      "[50270  6785 24224    53    16    24   678    14  1774   782     5    86\n",
      "     7  3886     7   422    25    10  1984    13     5  2760  1939   729\n",
      "   116     2     1     1     1     1     1     1     1     1     1     1\n",
      "     1     1     1     1     1     1     1     1     1     1     1     1\n",
      "     1     1     1     1     1     1     1     1     1     1     1     1\n",
      "     1     1     1     1]\n",
      "<COMMENT_LEN_1_AUTHOR> Just guessing but is it possible that Ryan needs the time to prepare to run as a candidate for the 2020 presidential election?</s><pad><pad><pad><pad><pad><pad><pad><pad><pad><pad><pad><pad><pad><pad><pad><pad><pad><pad><pad><pad><pad><pad><pad><pad><pad><pad><pad><pad><pad><pad><pad><pad><pad><pad><pad><pad><pad><pad>\n"
     ]
    },
    {
     "ename": "ValueError",
     "evalue": "invalid literal for int() with base 10: 'Just'",
     "output_type": "error",
     "traceback": [
      "\u001b[0;31m---------------------------------------------------------------------------\u001b[0m",
      "\u001b[0;31mValueError\u001b[0m                                Traceback (most recent call last)",
      "\u001b[0;32m<ipython-input-52-1ed4a6dba1c5>\u001b[0m in \u001b[0;36m<module>\u001b[0;34m\u001b[0m\n\u001b[1;32m      3\u001b[0m \u001b[0mprint\u001b[0m\u001b[0;34m(\u001b[0m\u001b[0mval_data\u001b[0m\u001b[0;34m[\u001b[0m\u001b[0;34m'target_ids'\u001b[0m\u001b[0;34m]\u001b[0m\u001b[0;34m[\u001b[0m\u001b[0;36m0\u001b[0m\u001b[0;34m]\u001b[0m\u001b[0;34m)\u001b[0m\u001b[0;34m\u001b[0m\u001b[0;34m\u001b[0m\u001b[0m\n\u001b[1;32m      4\u001b[0m \u001b[0mprint\u001b[0m\u001b[0;34m(\u001b[0m\u001b[0mtokenizer\u001b[0m\u001b[0;34m.\u001b[0m\u001b[0mdecode\u001b[0m\u001b[0;34m(\u001b[0m\u001b[0mval_data\u001b[0m\u001b[0;34m[\u001b[0m\u001b[0;34m'target_ids'\u001b[0m\u001b[0;34m]\u001b[0m\u001b[0;34m[\u001b[0m\u001b[0;36m0\u001b[0m\u001b[0;34m]\u001b[0m\u001b[0;34m,\u001b[0m \u001b[0mskip_special_tokens\u001b[0m\u001b[0;34m=\u001b[0m\u001b[0;32mFalse\u001b[0m\u001b[0;34m)\u001b[0m\u001b[0;34m)\u001b[0m\u001b[0;34m\u001b[0m\u001b[0;34m\u001b[0m\u001b[0m\n\u001b[0;32m----> 5\u001b[0;31m \u001b[0mprint\u001b[0m\u001b[0;34m(\u001b[0m\u001b[0mtokenizer\u001b[0m\u001b[0;34m.\u001b[0m\u001b[0mdecode\u001b[0m\u001b[0;34m(\u001b[0m\u001b[0mtokenizer\u001b[0m\u001b[0;34m.\u001b[0m\u001b[0mtokenize\u001b[0m\u001b[0;34m(\u001b[0m\u001b[0mtxt\u001b[0m\u001b[0;34m)\u001b[0m\u001b[0;34m)\u001b[0m\u001b[0;34m)\u001b[0m\u001b[0;34m\u001b[0m\u001b[0;34m\u001b[0m\u001b[0m\n\u001b[0m",
      "\u001b[0;32m~/miniconda3/envs/py3/lib/python3.8/site-packages/transformers/tokenization_utils_base.py\u001b[0m in \u001b[0;36mdecode\u001b[0;34m(self, token_ids, skip_special_tokens, clean_up_tokenization_spaces, **kwargs)\u001b[0m\n\u001b[1;32m   2996\u001b[0m         \u001b[0mtoken_ids\u001b[0m \u001b[0;34m=\u001b[0m \u001b[0mto_py_obj\u001b[0m\u001b[0;34m(\u001b[0m\u001b[0mtoken_ids\u001b[0m\u001b[0;34m)\u001b[0m\u001b[0;34m\u001b[0m\u001b[0;34m\u001b[0m\u001b[0m\n\u001b[1;32m   2997\u001b[0m \u001b[0;34m\u001b[0m\u001b[0m\n\u001b[0;32m-> 2998\u001b[0;31m         return self._decode(\n\u001b[0m\u001b[1;32m   2999\u001b[0m             \u001b[0mtoken_ids\u001b[0m\u001b[0;34m=\u001b[0m\u001b[0mtoken_ids\u001b[0m\u001b[0;34m,\u001b[0m\u001b[0;34m\u001b[0m\u001b[0;34m\u001b[0m\u001b[0m\n\u001b[1;32m   3000\u001b[0m             \u001b[0mskip_special_tokens\u001b[0m\u001b[0;34m=\u001b[0m\u001b[0mskip_special_tokens\u001b[0m\u001b[0;34m,\u001b[0m\u001b[0;34m\u001b[0m\u001b[0;34m\u001b[0m\u001b[0m\n",
      "\u001b[0;32m~/miniconda3/envs/py3/lib/python3.8/site-packages/transformers/tokenization_utils.py\u001b[0m in \u001b[0;36m_decode\u001b[0;34m(self, token_ids, skip_special_tokens, clean_up_tokenization_spaces, spaces_between_special_tokens)\u001b[0m\n\u001b[1;32m    730\u001b[0m         \u001b[0mspaces_between_special_tokens\u001b[0m\u001b[0;34m:\u001b[0m \u001b[0mbool\u001b[0m \u001b[0;34m=\u001b[0m \u001b[0;32mTrue\u001b[0m\u001b[0;34m,\u001b[0m\u001b[0;34m\u001b[0m\u001b[0;34m\u001b[0m\u001b[0m\n\u001b[1;32m    731\u001b[0m     ) -> str:\n\u001b[0;32m--> 732\u001b[0;31m         \u001b[0mfiltered_tokens\u001b[0m \u001b[0;34m=\u001b[0m \u001b[0mself\u001b[0m\u001b[0;34m.\u001b[0m\u001b[0mconvert_ids_to_tokens\u001b[0m\u001b[0;34m(\u001b[0m\u001b[0mtoken_ids\u001b[0m\u001b[0;34m,\u001b[0m \u001b[0mskip_special_tokens\u001b[0m\u001b[0;34m=\u001b[0m\u001b[0mskip_special_tokens\u001b[0m\u001b[0;34m)\u001b[0m\u001b[0;34m\u001b[0m\u001b[0;34m\u001b[0m\u001b[0m\n\u001b[0m\u001b[1;32m    733\u001b[0m \u001b[0;34m\u001b[0m\u001b[0m\n\u001b[1;32m    734\u001b[0m         \u001b[0;31m# To avoid mixing byte-level and unicode for byte-level BPT\u001b[0m\u001b[0;34m\u001b[0m\u001b[0;34m\u001b[0m\u001b[0;34m\u001b[0m\u001b[0m\n",
      "\u001b[0;32m~/miniconda3/envs/py3/lib/python3.8/site-packages/transformers/tokenization_utils.py\u001b[0m in \u001b[0;36mconvert_ids_to_tokens\u001b[0;34m(self, ids, skip_special_tokens)\u001b[0m\n\u001b[1;32m    708\u001b[0m         \u001b[0mtokens\u001b[0m \u001b[0;34m=\u001b[0m \u001b[0;34m[\u001b[0m\u001b[0;34m]\u001b[0m\u001b[0;34m\u001b[0m\u001b[0;34m\u001b[0m\u001b[0m\n\u001b[1;32m    709\u001b[0m         \u001b[0;32mfor\u001b[0m \u001b[0mindex\u001b[0m \u001b[0;32min\u001b[0m \u001b[0mids\u001b[0m\u001b[0;34m:\u001b[0m\u001b[0;34m\u001b[0m\u001b[0;34m\u001b[0m\u001b[0m\n\u001b[0;32m--> 710\u001b[0;31m             \u001b[0mindex\u001b[0m \u001b[0;34m=\u001b[0m \u001b[0mint\u001b[0m\u001b[0;34m(\u001b[0m\u001b[0mindex\u001b[0m\u001b[0;34m)\u001b[0m\u001b[0;34m\u001b[0m\u001b[0;34m\u001b[0m\u001b[0m\n\u001b[0m\u001b[1;32m    711\u001b[0m             \u001b[0;32mif\u001b[0m \u001b[0mskip_special_tokens\u001b[0m \u001b[0;32mand\u001b[0m \u001b[0mindex\u001b[0m \u001b[0;32min\u001b[0m \u001b[0mself\u001b[0m\u001b[0;34m.\u001b[0m\u001b[0mall_special_ids\u001b[0m\u001b[0;34m:\u001b[0m\u001b[0;34m\u001b[0m\u001b[0;34m\u001b[0m\u001b[0m\n\u001b[1;32m    712\u001b[0m                 \u001b[0;32mcontinue\u001b[0m\u001b[0;34m\u001b[0m\u001b[0;34m\u001b[0m\u001b[0m\n",
      "\u001b[0;31mValueError\u001b[0m: invalid literal for int() with base 10: 'Just'"
     ]
    }
   ],
   "source": [
    "txt = val_data['target_text'][0]\n",
    "print()\n",
    "print(val_data['target_ids'][0])\n",
    "print(tokenizer.decode(val_data['target_ids'][0], skip_special_tokens=False))\n",
    "print(tokenizer.decode(tokenizer.tokenize(txt)))"
   ]
  },
  {
   "cell_type": "code",
   "execution_count": 17,
   "metadata": {},
   "outputs": [
    {
     "name": "stderr",
     "output_type": "stream",
     "text": [
      "  0%|          | 0/7209 [00:00<?, ?it/s]/home/ianbstew/miniconda3/envs/py3/lib/python3.8/site-packages/nlp/utils/py_utils.py:191: UserWarning: The given NumPy array is not writeable, and PyTorch does not support non-writeable tensors. This means you can write to the underlying (supposedly non-writeable) NumPy array using the tensor. You may want to copy the array to protect its data or make it writeable before converting it to a tensor. This type of warning will be suppressed for the rest of this program. (Triggered internally at  /pytorch/torch/csrc/utils/tensor_numpy.cpp:141.)\n",
      "  return function(data_struct)\n",
      " 55%|█████▍    | 3957/7209 [10:45<09:02,  5.99it/s]IOPub message rate exceeded.\n",
      "The notebook server will temporarily stop sending output\n",
      "to the client in order to avoid crashing it.\n",
      "To change this limit, set the config variable\n",
      "`--NotebookApp.iopub_msg_rate_limit`.\n",
      "\n",
      "Current values:\n",
      "NotebookApp.iopub_msg_rate_limit=1000.0 (msgs/sec)\n",
      "NotebookApp.rate_limit_window=3.0 (secs)\n",
      "\n"
     ]
    }
   ],
   "source": [
    "from data_helpers import generate_predictions\n",
    "device_name = 'cuda:0'\n",
    "pred_text = generate_predictions(generation_model, val_data, tokenizer, device_name)"
   ]
  },
  {
   "cell_type": "code",
   "execution_count": 32,
   "metadata": {},
   "outputs": [
    {
     "data": {
      "text/plain": [
       "'<US_AUTHOR>'"
      ]
     },
     "execution_count": 32,
     "metadata": {},
     "output_type": "execute_result"
    }
   ],
   "source": [
    "tokenizer.decode([len(tokenizer)-6])"
   ]
  },
  {
   "cell_type": "code",
   "execution_count": 20,
   "metadata": {},
   "outputs": [
    {
     "data": {
      "application/vnd.jupyter.widget-view+json": {
       "model_id": "76ae149f76264a59a639fdc25e0626f2",
       "version_major": 2,
       "version_minor": 0
      },
      "text/plain": [
       "HBox(children=(HTML(value=''), FloatProgress(value=0.0, max=1.0), HTML(value='')))"
      ]
     },
     "metadata": {},
     "output_type": "display_data"
    },
    {
     "name": "stdout",
     "output_type": "stream",
     "text": [
      "\n",
      "*~*~*~*~*~*\n",
      "source text = <COMMENT_LEN_1_AUTHOR> WASHINGTON  --  Paul  D .  Ryan  took  the  helm  of  the  House  two  and  a  half  years  ago ,  not  because  he  wanted  it ,  but  because  he  was  seen  as  the  only  lawmaker  who  could  keep  Republicans  from  dev ouring  themselves .  They  had  shut  down  the  g...\n",
      "target text = <COMMENT_LEN_1_AUTHOR> Just  guessing  but  is  it  possible  that  Ryan  needs  the  time  to  prepare  to  run  as  a  candidate  for  the  2020  presidential  election ?\n",
      "pred text = Why would someone like Ryan run for public office in the first place?\n",
      "*~*~*~*~*~*\n",
      "source text = <COMMENT_LEN_1_AUTHOR> WASHINGTON  --  Defense  Department  officials  said  on  Saturday  that  American - led  strikes  against  Syria  had  taken  out  the \"  heart \"  of  President  Bashar  al - Assad 's  chemical  weapons  program ,  but  acknowledged  that  the  Syrian  government  most  likel...\n",
      "target text = <COMMENT_LEN_1_AUTHOR> Why  waste  trillions  of  dollars  fighting  energy  wars  when  we  can  get  unlimited  barrels  for  free  after  we  build  a  few  trillion  dollars  of  PV ?\n",
      "pred text = How hard could it possibly be to find Assad's compound?\n",
      "*~*~*~*~*~*\n",
      "source text = <COMMENT_LEN_1_AUTHOR> Matt  Be vin ,  the  conservative  Republican  governor  of  Kentucky ,  lost  it  a  few  days  ago .  Thousands  of  his  state  � �  s  teachers  had  walked  off  their  jobs ,  forcing  many  schools  to  close  for  a  day ,  to  protest  his  opposition  to  increased  ...\n",
      "target text = <COMMENT_LEN_1_AUTHOR> My  question  always  is  for  what ?\n",
      "pred text = What cliff has this country jumped off?\n",
      "*~*~*~*~*~*\n",
      "source text = <COMMENT_LEN_1_AUTHOR> These  days  almost  everyone  has  the  ( just ified )  sense  that  America  is  coming  apart  at  the  seams .  But  this  isn  � �  t  a  new  story ,  or  just  about  politics .  Things  have  been  falling  apart  on  multiple  fronts  since  the  1970 s  :  Political ...\n",
      "target text = <COMMENT_LEN_1_AUTHOR> Or  line  their  own  pockets  with  outrageous  salaries  and  bonuses ?\n",
      "pred text = How do you ready the people who are middle aged, established in their lives, and not above average?\n",
      "*~*~*~*~*~*\n",
      "source text = <COMMENT_LEN_1_AUTHOR> WASHINGTON  --  James  B .  Comey 's  se aring  tell - all  book  was  met  with  an  aggressive  counter attack  on  his  character  by  President  Trump  and  his  allies  on  Friday ,  even  as  many  Democrats  struggled  with  conflicted  feelings  about  the  man  they  ...\n",
      "target text = <COMMENT_LEN_1_AUTHOR> Are  we  tired  of  winning  yet ?\n",
      "pred text = Is there ANY GOVERNING being done?\n",
      "*~*~*~*~*~*\n",
      "source text = <COMMENT_LEN_1_AUTHOR> It  was  an  ambitious  idea  by  Mayor  Bill  de  Blasio  and  the  focus  of  his  2016  State  of  the  City  speech  :  a  sparkling  streetcar  running  along  the  waterfront  in  Brooklyn  and  Queens .  But  two  years  later ,  there  has  been  little  progress  on  ...\n",
      "target text = <COMMENT_LEN_1_AUTHOR> When  will  the  full  2 nd  Avenue  subway  line  be  completed ?\n",
      "pred text = 5 billion for a street car leisure route?\n",
      "*~*~*~*~*~*\n",
      "source text = <COMMENT_LEN_1_AUTHOR> The  Trump  administration  is  expected  to  launch  an  effort  in  coming  days  to  weaken  greenhouse  gas  emissions  and  fuel  economy  standards  for  automobiles ,  handing  a  victory  to  car  manufacturers  and  giving  them  ammunition  to  potentially  roll  bac...\n",
      "target text = <COMMENT_LEN_1_AUTHOR> Why  can 't  everyone  buy  cars  that  are  fuel  efficient  or  electric  so  that  our  planet  isn 't  endangered ?\n",
      "pred text = Do we really want American cars to be the worst in the world?\n",
      "*~*~*~*~*~*\n",
      "source text = <COMMENT_LEN_1_AUTHOR> In  1994 ,  Newt  Gingrich ,  brand ishing  his  Contract  with  America ,  led  a  Republican  revolution  that  swept  aside  Democratic  majorities  in  the  House  and  the  Senate ,  initiating  an  epoch  of  conservative  ascend ancy  that  ling ers  on .  Don  S ipple ...\n",
      "target text = <COMMENT_LEN_1_AUTHOR> But  what  about  the  people  behind  the  curtain ,  the  wealthy  donors  who  use  their  money  in  an  effort  to  drive  public  policy  in  one  direction  or  the  other ?\n",
      "pred text = Why repeat claims like this without regard for their veracity?\n",
      "*~*~*~*~*~*\n",
      "source text = <COMMENT_LEN_1_AUTHOR> WASHINGTON  --  The  conservative  Christian  coalition  that  helped  usher  President  Trump  into  power  in  2016  is  planning  its  largest  midterm  election  mobilization  ever ,  with  volunteers  fan ning  out  from  the  church  p ews  to  the  streets  to  register...\n",
      "target text = <COMMENT_LEN_1_AUTHOR> Did  these  Christians  notice  when  President  Trump  mocked  the  phrase \"  God  bless  you  and  God  bless  the  United  States  of  America \"  at  the  March ,  2018  rally  for  Rick  S acc one ?\n",
      "pred text = I'm curious, has the number of people who call themselves evangelicals decreased in the past 2 years?\n",
      "*~*~*~*~*~*\n",
      "source text = <COMMENT_LEN_1_AUTHOR> WASHINGTON  --  Defense  Department  officials  said  on  Saturday  that  American - led  strikes  against  Syria  had  taken  out  the \"  heart \"  of  President  Bashar  al - Assad 's  chemical  weapons  program ,  but  acknowledged  that  the  Syrian  government  most  likel...\n",
      "target text = <COMMENT_LEN_1_AUTHOR> How  many  more  innocent  people  have  died  to  a venge  the  death  of  other  innocent  people ?\n",
      "pred text = How hard could it possibly be to find Assad's compound?\n",
      "*~*~*~*~*~*\n",
      "source text = <COMMENT_LEN_1_AUTHOR> John  F .  Kelly ,  the  White  House  chief  of  staff ,  told  President  Trump  last  week  that  Scott  Pruitt ,  the  embattled  administrator  of  the  Environmental  Protection  Agency ,  needed  to  go  following  damaging  allegations  about  ethical  inf ractions  an...\n",
      "target text = <COMMENT_LEN_1_AUTHOR> P ru itt  is  doing  his  job  spectacular ly  well  so  why  would  Trump  consider  firing  him ?\n",
      "pred text = Billionaire owners of Oklahoma gas and oil companies?\n",
      "*~*~*~*~*~*\n",
      "source text = <COMMENT_LEN_1_AUTHOR> WASHINGTON  --  President  Trump  has  begun  a  new  push  for  legislation  to  crack  down  on  illegal  immigration  and  make  it  more  difficult  to  obtain  refuge  in  the  United  States ,  White  House  officials  said  Monday ,  arguing  that  lax  laws  have  draw...\n",
      "target text = <COMMENT_LEN_1_AUTHOR> How  does  bringing  in  more  of  the  same  advance  the  security  and  prosperity  of  the  American  people ?\n",
      "pred text = What kind of fair system is that?\n",
      "*~*~*~*~*~*\n",
      "source text = <COMMENT_LEN_1_AUTHOR> Donald  Trump  has  a  boat load  of  problems .  Ann  Coulter ,  the  author  of  a  2016  book  titled \"  In  Trump  We  Trust ,\"  is  now  one  of  them .  A  week  ago ,  when  he  signed  a  $  1 .  3  trillion  spending  bill  with  nothing  for  his  promised  border  w...\n",
      "target text = <COMMENT_LEN_1_AUTHOR> What  horrific  fate  does  she  imagine  the  wall  will \"  protect \"  us  from ?\n",
      "pred text = I'm just a simple minded Canadian, but what exactly does she think building a wall will accomplish?\n",
      "*~*~*~*~*~*\n",
      "source text = <COMMENT_LEN_1_AUTHOR> If  you  wanted  to  get  control  of  your  household  spending ,  you  � �  d  set  a  budget  and  spend  no  more  than  it  allowed .  You  might  wonder  why  we  don  � �  t  just  do  the  same  for  spending  on  American  health  care .  Though  government  budgets  ...\n",
      "target text = <COMMENT_LEN_1_AUTHOR> That  include  ex - pres idents  who  speak  at  M .  D .  conventions  for  $  400 ,  000 ?\n",
      "pred text = Drug addicts may be easier to determine but what if the addiction is reasonably beyond the individual's control?\n",
      "*~*~*~*~*~*\n",
      "source text = <COMMENT_LEN_1_AUTHOR> WASHINGTON  --  As  Republican  leaders  scramble  to  st ave  off  a  Democratic  wave  or  at  least  mitigate  their  party 's  losses  in  November ,  a  strategy  is  emerging  on  the  right  for  how  to  energ ize  conservatives  and  drive  a  wedge  between  the  ant...\n",
      "target text = <COMMENT_LEN_1_AUTHOR> What  it  comes  down  to  is ,  how  did  the  GOP  become  what  it  is  now ,  and  why  do  formerly  rational  and  honorable  people  follow  in  lock - step ?\n",
      "pred text = What fence has he got to hide behind?\n",
      "*~*~*~*~*~*\n",
      "source text = <COMMENT_LEN_1_AUTHOR> WASHINGTON  --  Amazon ,  you 're  not  alone .  President  Trump  once  accused  Verizon  of  making \"  a  ST UP ID  deal \"  for  AOL .  He  ridiculed  Coca - Cola  as \"  garbage \"  --  but  said  he  would  keep  drinking  it .  He  called  both  H  &  R  Block  and  Nord st...\n",
      "target text = <COMMENT_LEN_1_AUTHOR> Is  Melania  still  pursuing  her  anti - bull ying  campaign ?\n",
      "pred text = Can one have an inferiority\" complete\" if one is truly inferior?\n",
      "*~*~*~*~*~*\n",
      "source text = <COMMENT_LEN_1_AUTHOR> C ASS EL TON ,  N .  D .  --  Here  in  the  largest  soy bean - producing  county  in  the  country ,  a  snowy  winter  has  left  North  Dakota  farmers  like  Robert  Run ck  with  time  on  their  hands  before  spring  planting  --  time  they  have  spent  stew ing  ove...\n",
      "target text = <COMMENT_LEN_1_AUTHOR> Where 's  the  morality  in  this  toxic  man ?\n",
      "pred text = Will they have learned their lesson, not to believe Trump or his surrogates?\n"
     ]
    },
    {
     "name": "stdout",
     "output_type": "stream",
     "text": [
      "*~*~*~*~*~*\n",
      "source text = <COMMENT_LEN_1_AUTHOR> H EL ENA ,  Mont .  --  It  has  been  an  iron  rule  for  candidates  in  rural  areas  and  red  states  for  decades  :  Do  not  antagon ize  the  National  Rifle  Association .  But  that  was  before  the  massacre  at  a  high  school  in  Park land ,  Fla .,  galvan i...\n",
      "target text = <COMMENT_LEN_1_AUTHOR> Now ,  just  why  would \"  Russia \"  give  money  to  an  organization  that  wants  Americans  armed ?\n",
      "pred text = Alan-Could you please educate us all and explain why banning assault weapons and requiring thorough background checks and gun safety training would result in\" total confiscation\"?\n",
      "*~*~*~*~*~*\n",
      "source text = <COMMENT_LEN_1_AUTHOR> We  are  now  in  the  midst  of  an  epic  clash  between  Donald  Trump  and  fired  F .  B .  I .  Director  James  Comey ,  neither  of  whom  I  hold  in  high  esteem ,  both  men  with  raging  eg os  and  questionable  motives .  The  depth  of  my  contempt  differs  ...\n",
      "target text = <COMMENT_LEN_1_AUTHOR> Where  is  McMaster 's  Book ?\n",
      "pred text = How would you have handled any of those situations?\n",
      "*~*~*~*~*~*\n",
      "source text = <COMMENT_LEN_1_AUTHOR> WASHINGTON  --  The  White  House  said  Tuesday  night  that  President  Trump  planned  to  deploy  the  National  Guard  to  the  southern  border  to  confront  what  it  called  a  growing  threat  of  illegal  immigrants ,  drugs  and  crime  from  Central  America  afte...\n",
      "target text = <COMMENT_LEN_1_AUTHOR> Can  we  not  stop  this  obsessive  and  ju vin ile  behavior  that  our  w ann abe  pres d ient  exhibits  daily ,  this  being  the  most  harmful  of  late ?\n",
      "pred text = What will happen to American troops who encounter drug traffickers at the border?\n",
      "*~*~*~*~*~*\n",
      "source text = <COMMENT_LEN_1_AUTHOR> WASHINGTON  --  President  Trump  rejected ,  for  now  at  least ,  a  fresh  round  of  sanctions  set  to  be  imposed  against  Russia  on  Monday ,  a  course  change  that  undersc ored  the  sch ism  between  the  president  and  his  national  security  team .  The  pr...\n",
      "target text = <COMMENT_LEN_1_AUTHOR> Why  the  shifting  Syrian  and  Russian  policies  from  Trump ,  to  say  nothing  of  all  the  others ?\n",
      "pred text = How can Nikki live with herself?\n",
      "*~*~*~*~*~*\n",
      "source text = <COMMENT_LEN_1_AUTHOR> R ud olph  W .  Giuliani ,  the  former  New  York  City  mayor  and  longtime  friend  of  President  Trump ,  will  join  the  president 's  legal  team  in  an  effort  to \"  quickly \"  resolve  the  special  counsel  investigation  into  Russian  election  interference  an...\n",
      "target text = <COMMENT_LEN_1_AUTHOR> Will  Chris  Christie  also  be  on  this  legal  team ?\n",
      "pred text = Mr. Sneering October Surprise Giuliani?\n",
      "*~*~*~*~*~*\n",
      "source text = <COMMENT_LEN_1_AUTHOR> R ac ially  speaking ,  the  United  States  is  zero  percent  Hispanic .  This  is  confusing  —  especially  for  America  � �  s  nearly  58  million  Hispanics .  The  United  States  census  breaks  our  country  into  six  general  racial  categories  :  White  ;  Black...\n",
      "target text = <COMMENT_LEN_1_AUTHOR> Why  should  I  worry  about  how  tight  the  definition  of  Hispanic  is ?\n",
      "pred text = Certainly we should want to know how many people cheat on their taxes, right?\n",
      "*~*~*~*~*~*\n",
      "source text = <COMMENT_LEN_1_AUTHOR> Most  bail  bond  agents  make  it  their  business  to  get  their  clients  to  court .  But  when  Ronald  E gan a  showed  up  at  the  criminal  courthouse  in  New  Orleans ,  he  was  surprised  to  find  that  his  bonds man  wanted  to  stop  him .  A  bounty  hunter ...\n",
      "target text = <COMMENT_LEN_1_AUTHOR> Hey ,  we  use  the  salad  fork  first ,  what  more  do  you  want ?\n",
      "pred text = When did it become allowable to take advantage of someone who is willing to build skills?\n",
      "*~*~*~*~*~*\n",
      "source text = <COMMENT_LEN_1_AUTHOR> R ud olph  W .  Giuliani ,  the  former  New  York  City  mayor  and  longtime  friend  of  President  Trump ,  will  join  the  president 's  legal  team  in  an  effort  to \"  quickly \"  resolve  the  special  counsel  investigation  into  Russian  election  interference  an...\n",
      "target text = <COMMENT_LEN_1_AUTHOR> And  how  do  you  know  all  this  supposed  behind - the - scenes  between  Trump  and  Comey ?\n",
      "pred text = Mr. Sneering October Surprise Giuliani?\n",
      "*~*~*~*~*~*\n",
      "source text = <COMMENT_LEN_1_AUTHOR> WASHINGTON  --  If  there  was  any  chance  that  President  Trump  and  James  B .  Comey  could  have  avoided  all - out  war ,  it  ended  Sunday  night .  That  was  when  ABC  News  aired  an  interview  with  Mr .  Comey ,  the  president 's  fired  F .  B .  I .  dire...\n",
      "target text = <COMMENT_LEN_1_AUTHOR> Does  it  strike  anyone  else  that  Trump  has  had  a  lot  more  bad  things  to  say  about  Comey  than  about  Assad ?\n",
      "pred text = How can 60 + million vote for this?\n",
      "*~*~*~*~*~*\n",
      "source text = <COMMENT_LEN_1_AUTHOR> Many  athletes  and  gym - goers  are  turning  to  a  popular  but  potentially  dangerous  new  pill  to  help  them  build  muscle  and  gain  strength  :  a  steroid  alternative  known  as  SAR Ms .  The  pills  are  widely  marketed  online  as  � �  legal  steroids  � �...\n",
      "target text = <COMMENT_LEN_1_AUTHOR> Maybe  it  makes  more  sense  to  take  a  different  direction  with  your  life ?\n",
      "pred text = Tell me, did the drug shave his chest too?\n",
      "*~*~*~*~*~*\n",
      "source text = <COMMENT_LEN_1_AUTHOR> OK LA H OM A  CITY  --  The  anxiety  and  se et hing  anger  that  followed  the  disappearance  of  middle - income  jobs  in  factory  towns  has  helped  resh ape  the  American  political  map  and  topple  longstanding  policies  on  tariffs  and  immigration .  But  glo...\n",
      "target text = <COMMENT_LEN_1_AUTHOR> Who  are  you  talking  about ?\n",
      "pred text = When did we get elevated to middle class?\n",
      "*~*~*~*~*~*\n",
      "source text = <COMMENT_LEN_1_AUTHOR> R ud olph  W .  Giuliani ,  the  former  New  York  City  mayor  and  longtime  friend  of  President  Trump ,  will  join  the  president 's  legal  team  in  an  effort  to \"  quickly \"  resolve  the  special  counsel  investigation  into  Russian  election  interference  an...\n",
      "target text = <COMMENT_LEN_1_AUTHOR> Is  there  any  fresh  thinking  going  on  here ,  or  is  the  whole  crew  fueled  by  policies  and  ethics  ( or  the  absence  of  same )  that  cur d led  and  went  sour  decades  ago ?\n",
      "pred text = Mr. Sneering October Surprise Giuliani?\n",
      "*~*~*~*~*~*\n",
      "source text = <COMMENT_LEN_1_AUTHOR> Tr agically ,  predictably ,  infuri ating ly ,  we  � �  re  again  mourning  a  shooting  —  this  time  at  You  Tube  � �  s  headquarters  —  even  as  the  drive  for  gun  safety  legislation  has  stalled  in  Washington .  Poll s  show  that  nine  out  of  10  Americ...\n",
      "target text = <COMMENT_LEN_1_AUTHOR> and  that  what  Americans  lack  in  number  of  murderers  in  the  population ,  we  more  than  excel  at  with  firepower ?\n",
      "pred text = How to win an argument about guns?\n",
      "*~*~*~*~*~*\n",
      "source text = <COMMENT_LEN_1_AUTHOR> Why  did  Paul  Ryan  choose  not  to  run  for  re - election ?  What  will  be  the  consequences ?  Your  guess  is  as  good  as  mine  --  literally .  I  can  speculate  based  on  what  I  read  in  the  papers ,  but  so  can  you .  On  the  other  hand ,  I  do  have...\n",
      "target text = <COMMENT_LEN_1_AUTHOR> Are  you  seriously  arguing  that  the  exception ,  which  we 'll  grant  you  for  the  sake  of  argument ,  materially  undermines  the  correctness  of  the  policy ?\n",
      "pred text = Q : How many NYT comments bellyache about trump but have no concrete idea of what to do?\n",
      "*~*~*~*~*~*\n",
      "source text = <COMMENT_LEN_1_AUTHOR> Students  awoke  to  what  they  thought  was  the  mur mur  of  children  playing .  They  awoke  to  what  they  assumed  was  a  pesky  classmate  banging  on  the  door  to  borrow  a  textbook .  They  awoke  from  a  lif el ike  dream  that  they  were  at  a  barbecue ,...\n",
      "target text = <COMMENT_LEN_1_AUTHOR> A cknow ledge  that  something  went  wrong  on  campus ?\n",
      "pred text = So was his use of that dead 17 year old's identity legal or??\n",
      "*~*~*~*~*~*\n",
      "source text = <COMMENT_LEN_1_AUTHOR> CI UD AD  J U � � RE Z ,  Mexico  --  On  a  sun - sc or ched  prison  patio  in  this  sprawling  border  town ,  a  23 - year - old  inmate  calmly  explained  to  me  how  he  traff icked  hundreds  of  guns  a  year  from  the  United  States  to  Mexico .  He  never  both...\n",
      "target text = <COMMENT_LEN_1_AUTHOR> So ,  you  were  saying ?\n",
      "pred text = So why are we fighting the war on drugs?\n"
     ]
    },
    {
     "name": "stdout",
     "output_type": "stream",
     "text": [
      "*~*~*~*~*~*\n",
      "source text = <COMMENT_LEN_1_AUTHOR> WASHINGTON  --  The  White  House  said  Tuesday  night  that  President  Trump  planned  to  deploy  the  National  Guard  to  the  southern  border  to  confront  what  it  called  a  growing  threat  of  illegal  immigrants ,  drugs  and  crime  from  Central  America  afte...\n",
      "target text = <COMMENT_LEN_1_AUTHOR> What  do  you  do  when  you  have  an  Im bec ile  in  the  White house  making  crazy  proclamation  without  any  awareness  or  knowledge ,  just  stupid  off  the  cuff  pronounce ments ?\n",
      "pred text = What will happen to American troops who encounter drug traffickers at the border?\n",
      "*~*~*~*~*~*\n",
      "source text = <COMMENT_LEN_1_AUTHOR> The  Trump  administration  is  expected  to  launch  an  effort  in  coming  days  to  weaken  greenhouse  gas  emissions  and  fuel  economy  standards  for  automobiles ,  handing  a  victory  to  car  manufacturers  and  giving  them  ammunition  to  potentially  roll  bac...\n",
      "target text = <COMMENT_LEN_1_AUTHOR> Who  cares  about  actually  dealing  with  pollution ,  climate  change ,  the  deficit ,  the  cost  of  health  care ,  mass  shootings ,  safety  regulations  for  mines  and  pesticides ?\n",
      "pred text = Do we really want American cars to be the worst in the world?\n",
      "*~*~*~*~*~*\n",
      "source text = <COMMENT_LEN_1_AUTHOR> WASHINGTON  --  If  there  was  any  chance  that  President  Trump  and  James  B .  Comey  could  have  avoided  all - out  war ,  it  ended  Sunday  night .  That  was  when  ABC  News  aired  an  interview  with  Mr .  Comey ,  the  president 's  fired  F .  B .  I .  dire...\n",
      "target text = <COMMENT_LEN_1_AUTHOR> Is  this  what  America  has  come  down  to  and  what  Americans  want  to  hear  from  their  president ,  making  fun  of  American \"  losers , � �  whatever  that  means ?\n",
      "pred text = How can 60 + million vote for this?\n",
      "*~*~*~*~*~*\n",
      "source text = <COMMENT_LEN_1_AUTHOR> Tr agically ,  predictably ,  infuri ating ly ,  we  � �  re  again  mourning  a  shooting  —  this  time  at  You  Tube  � �  s  headquarters  —  even  as  the  drive  for  gun  safety  legislation  has  stalled  in  Washington .  Poll s  show  that  nine  out  of  10  Americ...\n",
      "target text = <COMMENT_LEN_1_AUTHOR> Mem o  to  :  Bloomberg  and  Sandy  Hook  Promise  ;    Please  initiate  a  � �  50  State  Lic ence  Plate  � �  campaign  to  end  GUN  violence  in  this  country ?\n",
      "pred text = How to win an argument about guns?\n",
      "*~*~*~*~*~*\n",
      "source text = <COMMENT_LEN_1_AUTHOR> Chem ical  weapons  are  again  suspected  to  have  been  used  in  Syria ,  apparently  by  government  forces ,  circumst ant ial  evidence  suggests .  Again ,  many  Americans ,  particularly  in  Washington ,  have  responded  with  calls  to  do  something .  And ,  aga...\n",
      "target text = <COMMENT_LEN_1_AUTHOR> Would  that  regime  turn  out  worse  than  Assad ?\n",
      "pred text = How do we know that it was Assad not the other players?\n",
      "*~*~*~*~*~*\n",
      "source text = <COMMENT_LEN_1_AUTHOR> WASHINGTON  --  The  F .  B .  I .  raided  the  Rockefeller  Center  office  and  Park  Avenue  hotel  room  of  President  Trump 's  longtime  personal  lawyer ,  Michael  D .  Cohen ,  on  Monday  morning ,  seizing  business  records ,  emails  and  documents  related  to ...\n",
      "target text = <COMMENT_LEN_1_AUTHOR> A  seemingly  broad  accusation  which  can  be  used  to  t aint  someone  with  perhaps  weak  evidence ?\n",
      "pred text = What is so difficult to understand about that?\n",
      "*~*~*~*~*~*\n",
      "source text = <COMMENT_LEN_1_AUTHOR> Why  don  � �  t  we  take  a  step  back  and  contemplate  what  Americans ,  and  the  world ,  are  witnessing ?  Early  Monday  morning ,  F .  B .  I .  agents  raided  the  New  York  office ,  home  and  hotel  room  of  the  personal  lawyer  for  the  president  of  ...\n",
      "target text = <COMMENT_LEN_1_AUTHOR> Did  the  Times  really  say  that !?\n",
      "pred text = Why do you think Manafort offered to work for the campaign for free?\n",
      "*~*~*~*~*~*\n",
      "source text = <COMMENT_LEN_1_AUTHOR> Bro ken  laptops ,  books  held  together  with  duct  tape ,  an  art  teacher  who  makes  water col ors  by  soaking  old  markers .  Teacher  protests  have  spread  rapidly  from  West  Virginia  to  Oklahoma ,  Kentucky  and  Arizona  in  recent  months .  We  invited  A...\n",
      "target text = <COMMENT_LEN_1_AUTHOR> They  can  � �  t  even  get  chairs  and  books ,  how  do  you  expect  them  to  get  iPads ?\n",
      "pred text = And yet guns will be provided to safeguard the kids, really?\n",
      "*~*~*~*~*~*\n",
      "source text = <COMMENT_LEN_1_AUTHOR> It  was  the  fall  of  2004 ,  and  I  was  touring  a  film  set  at  the  studio  that  was  adapting  my  war  memoir ,  � �  Jar head . � �  The  screen writer  walked  me  onto  a  sound stage  that  was  supposed  to  look  like  my  Marine  Corps  boot - camp  barracks...\n",
      "target text = <COMMENT_LEN_1_AUTHOR> To  have  a  panic  attack  in  the  cockpit  and  crash  the  plane ?\n",
      "pred text = To have a panic attack in the cockpit and crash the plane?\n",
      "*~*~*~*~*~*\n",
      "source text = <COMMENT_LEN_1_AUTHOR> PH IL AD EL PH IA  --  The  video  of  the  police  arresting  two  black  men  in  a  Starbucks ,  viewed  more  than  10  million  times  online ,  quickly  prompted  a  full - blown  crisis  :  accusations  of  racism ,  protests  both  in  and  around  the  cafe ,  and  a ...\n",
      "target text = <COMMENT_LEN_1_AUTHOR> Why  didn 't  these  guys  just  buy  something  or  leave ?\n",
      "pred text = Why didn't they leave when they were asked?\n",
      "*~*~*~*~*~*\n",
      "source text = <COMMENT_LEN_1_AUTHOR> SAN  AN TON IO  --  Long  before  a  98 - year - old  nun  became  the  biggest  star  of  the  2018  N .  C .  A .  A .  men 's  basketball  tournament ,  Imm ac ul ata ,  a  small  Catholic  college  outside  Philadelphia ,  won  the  first  three  de  facto  national  women...\n",
      "target text = <COMMENT_LEN_1_AUTHOR> But  what \"  Holy  Ho ops \"  would  prevail  in  a  L oy ola  /  Vill anova  Final ?! ?\n",
      "pred text = And how much do these athletes that switch from public schools pay that go there?\n",
      "*~*~*~*~*~*\n",
      "source text = <COMMENT_LEN_1_AUTHOR> HA V ANA  --  As  soon  as  Cuba  and  the  Obama  administration  decided  to  restore  diplomatic  relations ,  decades  of  bitter  stagnation  began  to  give  way .  Emb assies  were  being  reopened .  Americans  streamed  to  the  island .  The  curtain  was  suddenly  ...\n",
      "target text = <COMMENT_LEN_1_AUTHOR> Don  `  t  you  think  that  at  least  partially  the  USA  `  s  sanctions  turned  life  there  a  nightmare ?\n",
      "pred text = What makes you so sure that\" Cuba's people (who) need more, not less contact with and investment from the U. S.\"?\n",
      "*~*~*~*~*~*\n",
      "source text = <COMMENT_LEN_1_AUTHOR> Senator  Edward  Kennedy ,  one  of  the  most  famous  members  of  America 's  most  famous  family ,  understood  that  he  belonged  as  much  to  popular  culture  as  to  political  culture .  Now ,  nine  years  after  his  death ,  comes  a  movie  about  the  event  t...\n",
      "target text = <COMMENT_LEN_1_AUTHOR> Which  conservatives  bank rolled  this  movie ?\n",
      "pred text = Sen. Kennedy did some good things?\n",
      "*~*~*~*~*~*\n",
      "source text = <COMMENT_LEN_1_AUTHOR> When  a  child  has  attention  deficit  hyper activity  disorder ,  it  affects  everybody  in  the  family ,  said  Dr .  Mark  Bert in ,  a  developmental  pediatric ian  in  Pleasant ville ,  N .  Y .  Parents  need  to  understand  the  nature  of  A .  D .  H .  D .,  he...\n",
      "target text = <COMMENT_LEN_1_AUTHOR> Do  you  still  believe  vaccines  cause  autism  and  intelligent  design  over  evolution ?\n",
      "pred text = Were there food additives that were the culprit?\n",
      "*~*~*~*~*~*\n",
      "source text = <COMMENT_LEN_1_AUTHOR> Che er leaders  for  the  Carolina  Panthers ,  known  as  the  Top C ats ,  must  arrive  at  the  stadium  on  game  days  at  least  five  hours  before  kickoff .  Body  pier c ings  and  tattoos  must  be  removed  or  covered .  Water  breaks  can  be  taken  only  when ...\n",
      "target text = <COMMENT_LEN_1_AUTHOR> Why  are  they  paid  so  well ?\n",
      "pred text = Why not follow the Buffalo Bills lead and simply not have cheerleaders?\n",
      "*~*~*~*~*~*\n",
      "source text = <COMMENT_LEN_1_AUTHOR> WASHINGTON  --  President  Trump  put  Syria  and  Russia  on  notice  Wednesday  morning  in  a  Twitter  post ,  promising  that  missiles  fired  at  Syria \"  will  be  coming ,  nice  and  new  and 's mart !\" ' and  telling  the  Kremlin  that  it  should  not  partner  wi...\n",
      "target text = <COMMENT_LEN_1_AUTHOR> But  who  cares  about  facts  these  days ?\n",
      "pred text = What happened to Trump's claim that he won't share his attack plans with the enemy?\n"
     ]
    },
    {
     "name": "stdout",
     "output_type": "stream",
     "text": [
      "*~*~*~*~*~*\n",
      "source text = <COMMENT_LEN_1_AUTHOR> From  his  Fox  News  pul pit ,  Sean  Hannity  has  been  one  of  the  most  ardent  supporters  of  President  Trump ,  cheering  his  agenda  and  exc ori ating  his  enemies .  He  has  gone  from  giving  advice  on  messaging  and  strategy  to  Mr .  Trump  and  his  a...\n",
      "target text = <COMMENT_LEN_1_AUTHOR> Another  right - wing  David  D enn ison ?\n",
      "pred text = Why would Sean Hannity need a fixer like Cohen?\n",
      "*~*~*~*~*~*\n",
      "source text = <COMMENT_LEN_1_AUTHOR> MI AMI  --  Gov .  Rick  Scott  made  official  on  Monday  what  Flor id ians  have  suspected  for  months  :  He  is  running  for  the  United  States  Senate  against  Bill  Nelson ,  the  incumbent  Democrat ,  in  a  premier  race  that  will  return  the  nation 's  la...\n",
      "target text = <COMMENT_LEN_1_AUTHOR> Why  shouldn 't  Florida  do  all  in  its  political  power  to  wipe  out  Miami ,  Palm  Beach ,  Naples ,  and  the  rest ?\n",
      "pred text = Have his Democratic opponents been that weak that they can't crush this guy over the largest fraud in Medicare history?\n",
      "*~*~*~*~*~*\n",
      "source text = <COMMENT_LEN_1_AUTHOR> OK LA H OM A  CITY  --  The  anxiety  and  se et hing  anger  that  followed  the  disappearance  of  middle - income  jobs  in  factory  towns  has  helped  resh ape  the  American  political  map  and  topple  longstanding  policies  on  tariffs  and  immigration .  But  glo...\n",
      "target text = <COMMENT_LEN_1_AUTHOR> b k ly nt ee ch - How  much  tax  is  enough  for  those  who  use  public  roads ,  police ,  fire ,\"  public  utilities \"  etc .?\n",
      "pred text = When did we get elevated to middle class?\n",
      "*~*~*~*~*~*\n",
      "source text = <COMMENT_LEN_1_AUTHOR> K athy  Ryan ,  director  of  photography  :  � �  La T oya  Ruby  Frazier ,  renowned  for  her  work  documenting  her  own  family  as  well  as  families  in  Flint ,  Mich .,  chose  to  portray  Simone  Land rum  cr ad ling  her  son  Kingston  because  she  wanted  to  ...\n",
      "target text = <COMMENT_LEN_1_AUTHOR> Do  the  white  women  tend  to  use  birth  control  and  hold  off  on  baby  making  until  married ?\n",
      "pred text = What are the life chances of this child?\n",
      "*~*~*~*~*~*\n",
      "source text = <COMMENT_LEN_1_AUTHOR> Mom ents  after  that  terrible  Valentine 's  Day ,  the  thought  crept  into  the  minds  of  the  Aer ie  year book  staff  at  Mar j ory  St on eman  Douglas  High  School .  They  would  have  to  memorial ize  this  tragedy  in  their  pages .  Somehow .  At  first ,  s...\n",
      "target text = <COMMENT_LEN_1_AUTHOR> Is  there  a  future  Pulitzer  prize  winner  working  in  that  room ?\n",
      "pred text = How many of them will become journalists?\n",
      "*~*~*~*~*~*\n",
      "source text = <COMMENT_LEN_1_AUTHOR> Step hon  Clark ,  the  unarmed  black  man  who  was  fatally  shot  last  week  by  Sacramento  police  officers ,  was  struck  eight  times ,  mostly  in  his  back ,  according  to  an  independent  autopsy  released  Friday ,  raising  significant  questions  about  the ...\n",
      "target text = <COMMENT_LEN_1_AUTHOR> And  why  did  they  let  him  bleed  out  and  not  render  care  for  several  crucial  minutes  when  he  clearly  wasn 't  moving  a  muscle ?\n",
      "pred text = The justification is what, protecting that neighborhood from people stealing yard items?\n",
      "*~*~*~*~*~*\n",
      "source text = <COMMENT_LEN_1_AUTHOR> K athy  Ryan ,  director  of  photography  :  � �  La T oya  Ruby  Frazier ,  renowned  for  her  work  documenting  her  own  family  as  well  as  families  in  Flint ,  Mich .,  chose  to  portray  Simone  Land rum  cr ad ling  her  son  Kingston  because  she  wanted  to  ...\n",
      "target text = <COMMENT_LEN_1_AUTHOR> What  hook  is  the  mother  being  let  off  exactly ?\n",
      "pred text = Why didn't Obama fix these problems during his 8 years of tenure?\n",
      "*~*~*~*~*~*\n",
      "source text = <COMMENT_LEN_1_AUTHOR> WASHINGTON  --  A  spreading  crisis  has  threatened  to  engulf  Scott  Pruitt ,  the  chief  of  the  Environmental  Protection  Agency ,  who  until  recently  ranked  among  the  stars  of  the  Trump  administration .  Now ,  he  is  m ired  in  a  series  of  ethical  q...\n",
      "target text = <COMMENT_LEN_1_AUTHOR> Do  you  boys  use  and  enjoy  your  $  30 ,  000  desks  more  than  I  do ?\n",
      "pred text = will Mr. Pruitt be the next person to be fired by tweet?\n",
      "*~*~*~*~*~*\n",
      "source text = <COMMENT_LEN_1_AUTHOR> It  was  the  fall  of  2004 ,  and  I  was  touring  a  film  set  at  the  studio  that  was  adapting  my  war  memoir ,  � �  Jar head . � �  The  screen writer  walked  me  onto  a  sound stage  that  was  supposed  to  look  like  my  Marine  Corps  boot - camp  barracks...\n",
      "target text = <COMMENT_LEN_1_AUTHOR> The  question  is  what  enabled  the  Marines  to  conduct  themselves  as  they  did ?\n",
      "pred text = To have a panic attack in the cockpit and crash the plane?\n",
      "*~*~*~*~*~*\n",
      "source text = <COMMENT_LEN_1_AUTHOR> WASHINGTON  --  If  there  was  any  chance  that  President  Trump  and  James  B .  Comey  could  have  avoided  all - out  war ,  it  ended  Sunday  night .  That  was  when  ABC  News  aired  an  interview  with  Mr .  Comey ,  the  president 's  fired  F .  B .  I .  dire...\n",
      "target text = <COMMENT_LEN_1_AUTHOR> Who  is  more  fearsome  than  Trump ?\n",
      "pred text = How can 60 + million vote for this?\n",
      "*~*~*~*~*~*\n",
      "source text = <COMMENT_LEN_1_AUTHOR> Students  awoke  to  what  they  thought  was  the  mur mur  of  children  playing .  They  awoke  to  what  they  assumed  was  a  pesky  classmate  banging  on  the  door  to  borrow  a  textbook .  They  awoke  from  a  lif el ike  dream  that  they  were  at  a  barbecue ,...\n",
      "target text = <COMMENT_LEN_1_AUTHOR> Is  this  the  same  property  that  was  part  of  Jesuit  sem inary  that  became  K rip al u ?\n",
      "pred text = So was his use of that dead 17 year old's identity legal or??\n",
      "*~*~*~*~*~*\n",
      "source text = <COMMENT_LEN_1_AUTHOR> WASHINGTON  --  President  Trump  said  Monday  that  he  might  seek  to  hold  accountable  not  just  Syria  but  its  patrons  in  Russia  and  Iran  for  a  chemical  weapons  attack  that  killed  dozens  of  people  outside  Damascus  over  the  weekend ,  a  move  that...\n",
      "target text = <COMMENT_LEN_1_AUTHOR> You  feel  he  should  have  kept  supporting  ISIS ?\n",
      "pred text = We're talking about humanity\", says the racist\" birther\"?\n",
      "*~*~*~*~*~*\n",
      "source text = <COMMENT_LEN_1_AUTHOR> WASHINGTON  --  Central  Intelligence  Agency  operatives  have  long  run  covert  influence  campaigns  overseas .  Now ,  the  agency  is  mounting  an  unusually  active ,  not  very  secret  campaign  in  Washington .  The  C .  I .  A .  is  trying  to  ensure  its  depu...\n",
      "target text = <COMMENT_LEN_1_AUTHOR> How  does  NYT  get  a  whiff  of  that ?\n",
      "pred text = At what point after a possible crime would you begin to apply judgment?\n",
      "*~*~*~*~*~*\n",
      "source text = <COMMENT_LEN_1_AUTHOR> WASHINGTON  --  If  there  was  any  chance  that  President  Trump  and  James  B .  Comey  could  have  avoided  all - out  war ,  it  ended  Sunday  night .  That  was  when  ABC  News  aired  an  interview  with  Mr .  Comey ,  the  president 's  fired  F .  B .  I .  dire...\n",
      "target text = <COMMENT_LEN_1_AUTHOR> Why  does  Comey  think  this  was  such  a  big  surprise  to  Cheney ?\n",
      "pred text = How can 60 + million vote for this?\n",
      "*~*~*~*~*~*\n",
      "source text = <COMMENT_LEN_1_AUTHOR> WASHINGTON  --  The  F .  B .  I .  agents  who  raided  the  office  of  President  Trump 's  personal  lawyer  on  Monday  were  looking  for  records  about  payments  to  two  women  who  claim  they  had  affairs  with  Mr .  Trump  as  well  as  information  related  to ...\n",
      "target text = <COMMENT_LEN_1_AUTHOR> All  I  want  to  know  is  how  many  women ,  and  who  were  they ?\n",
      "pred text = What more use do you have for Mr. Trump?\n",
      "*~*~*~*~*~*\n",
      "source text = <COMMENT_LEN_1_AUTHOR> Updated  :  April  26 ,  2018  Students  1 .  After  looking  closely  at  the  image  above  ( or  at  the  full - size  image ),  think  about  these  three  questions  :  •  What  is  going  on  in  this  picture ?  •  What  do  you  see  that  makes  you  say  that ?  •  W...\n",
      "target text = <COMMENT_LEN_1_AUTHOR> What  more  can  you  find ?\n",
      "pred text = What more can you find?\n"
     ]
    },
    {
     "name": "stdout",
     "output_type": "stream",
     "text": [
      "*~*~*~*~*~*\n",
      "source text = <COMMENT_LEN_1_AUTHOR> P AL M  BE ACH ,  Fla .  --  President  Trump  declared  on  Wednesday  that  he  would  scrap  a  planned  summit  meeting  with  North  Korea 's  leader ,  Kim  Jong - un ,  or  even  walk  out  of  the  session  while  it  was  underway ,  if  his  diplomatic  overt ure  wa...\n",
      "target text = <COMMENT_LEN_1_AUTHOR> After  calling  Kim \"  Little  Rocket  Man ,\"  what  in  the  world  Trump  talk  about ?\n",
      "pred text = Why is he taking such a political risk?\n",
      "*~*~*~*~*~*\n",
      "source text = <COMMENT_LEN_1_AUTHOR> The  tabloid  news  company  American  Media  Inc .  agreed  to  let  a  former  Playboy  model  out  of  a  contract  that  had  kept  her  from  talking  freely  about  an  alleged  affair  with  Donald  J .  Trump .  The  settlement  agreement ,  reached  on  Wednesday ,  e...\n",
      "target text = <COMMENT_LEN_1_AUTHOR> Has  it  been  explained  yet  why  at  least  one  of  these \"  paid  for  silence  re  dj t \"  contracts  mentions \"  paternity \"?\n",
      "pred text = Seriously, you're bringing up # MeToo???\n",
      "*~*~*~*~*~*\n",
      "source text = <COMMENT_LEN_1_AUTHOR> Why  don  � �  t  we  take  a  step  back  and  contemplate  what  Americans ,  and  the  world ,  are  witnessing ?  Early  Monday  morning ,  F .  B .  I .  agents  raided  the  New  York  office ,  home  and  hotel  room  of  the  personal  lawyer  for  the  president  of  ...\n",
      "target text = <COMMENT_LEN_1_AUTHOR> Reading  this  article  I  have  just  one  small  question ,  Where  were  all  of  you  newspapers  and  TV  journalist  when  all  this  was  brewing ?\n",
      "pred text = Why do you think Manafort offered to work for the campaign for free?\n",
      "*~*~*~*~*~*\n",
      "source text = <COMMENT_LEN_1_AUTHOR> Two  black  men  whose  arrests  at  a  Starbucks  in  Philadelphia  led  to  protests  and  plans  for  bias  training  at  thousands  of  the  chain 's  locations  spoke  about  the  ordeal  for  the  first  time  on  Thursday ,  saying  they  were  not  told  by  the  polic...\n",
      "target text = <COMMENT_LEN_1_AUTHOR> If  I 'm  eng ross ed  in  a  conversation  for  hours  and  the  cup  of  coffee  gets  cold  and  is  no  longer  desirable ,  am  I  expected  to  buy  another  cup ?\n",
      "pred text = Starbucks WHAT repercussions did this employee face?\n",
      "*~*~*~*~*~*\n",
      "source text = <COMMENT_LEN_1_AUTHOR> WASHINGTON  --  President  Trump  denied  on  Thursday  knowing  of  a  $  130 ,  000  payment  his  lawyer  made  to  a  pornographic  film  actress  who  claims  to  have  had  a  sexual  encounter  with  him ,  an  assertion  that  threatened  to  complicate  his  legal  ba...\n",
      "target text = <COMMENT_LEN_1_AUTHOR> Or  did  we  ever  really  say  it ?\n",
      "pred text = How did Mr. Cohen classify this on his taxes?\n",
      "*~*~*~*~*~*\n",
      "source text = <COMMENT_LEN_1_AUTHOR> WASHINGTON  --  The  United  States  and  European  allies  launched  airstrikes  on  Friday  night  against  Syrian  research ,  storage  and  military  targets  as  President  Trump  sought  to  punish  President  Bashar  al - Assad  for  a  suspected  chemical  attack  near...\n",
      "target text = <COMMENT_LEN_1_AUTHOR> After  all ,  who  really  believes  either  the  French  or  the  Brit s  know  what  they 're  doing ?\n",
      "pred text = Is it just me or is that just ridiculous?\n",
      "*~*~*~*~*~*\n",
      "source text = <COMMENT_LEN_1_AUTHOR> WASHINGTON  --  President  Trump  denied  on  Thursday  knowing  of  a  $  130 ,  000  payment  his  lawyer  made  to  a  pornographic  film  actress  who  claims  to  have  had  a  sexual  encounter  with  him ,  an  assertion  that  threatened  to  complicate  his  legal  ba...\n",
      "target text = <COMMENT_LEN_1_AUTHOR> And  for  Trump  not  to  know  of  this ?\n",
      "pred text = How is it possible that more than one-third of the country still support him?\n",
      "*~*~*~*~*~*\n",
      "source text = <COMMENT_LEN_1_AUTHOR> WASHINGTON  --  The  United  States  and  European  allies  launched  airstrikes  on  Friday  night  against  Syrian  research ,  storage  and  military  targets  as  President  Trump  sought  to  punish  President  Bashar  al - Assad  for  a  suspected  chemical  attack  near...\n",
      "target text = <COMMENT_LEN_1_AUTHOR> BT W ,  where  is  our  genius  Peace  C zar ,  Jared  Kushner ,  who  was  going  to  bring  peace  to  the  Middle  East ?\n",
      "pred text = Is it just me or is that just ridiculous?\n",
      "*~*~*~*~*~*\n",
      "source text = <COMMENT_LEN_1_AUTHOR> WASHINGTON  --  As  Republican  leaders  scramble  to  st ave  off  a  Democratic  wave  or  at  least  mitigate  their  party 's  losses  in  November ,  a  strategy  is  emerging  on  the  right  for  how  to  energ ize  conservatives  and  drive  a  wedge  between  the  ant...\n",
      "target text = <COMMENT_LEN_1_AUTHOR> Does  anyone  remember  that  impeachment  of  President  Trump  leaves  us  with  President  Pence ?\n",
      "pred text = What fence has he got to hide behind?\n",
      "*~*~*~*~*~*\n",
      "source text = <COMMENT_LEN_1_AUTHOR> My  sister - in - law  was  married  to  a  man  who  looked  good  on  paper  and  who  was  very  charming .  She  found  out  after  they  were  married  that  he  lied  to  her  about  his  employment  history  and  history  of  drug  and  alcohol  abuse ,  as  well  as  a...\n",
      "target text = <COMMENT_LEN_1_AUTHOR> New  York  Times ,  please  watch  Adam  Grant 's  TED  Talk  :  Are  You  a  G iver  or  a  T aker ?\n",
      "pred text = Over 75 Plus-501 c3 are under federal criminal law enforcement investigations   Oh New York, You just never seen to learn, now do Ya???\n",
      "*~*~*~*~*~*\n",
      "source text = <COMMENT_LEN_1_AUTHOR> � �  When  I  tell  colleagues  from  other  states ,  they  are  just  shocked  that  we  have  a  bridge  that  is  so  expensive .  They  ask ,  � �  What  � �  s  on  Staten  Island ?  Are  they  giving  away  gold  on  the  streets ?  Or  is  it  some  kind  of  ut opia ?...\n",
      "target text = <COMMENT_LEN_1_AUTHOR> Isn  � �  t  the  toll  on  the  Port  Authority  bridges  used  to  supplement  fees  on  airlines  at  the  airports ?\n",
      "pred text = being 3 times more expensive in NYC?\n",
      "*~*~*~*~*~*\n",
      "source text = <COMMENT_LEN_1_AUTHOR> From  his  Fox  News  pul pit ,  Sean  Hannity  has  been  one  of  the  most  ardent  supporters  of  President  Trump ,  cheering  his  agenda  and  exc ori ating  his  enemies .  He  has  gone  from  giving  advice  on  messaging  and  strategy  to  Mr .  Trump  and  his  a...\n",
      "target text = <COMMENT_LEN_1_AUTHOR> is  this  that  Deep  State  I  about  which  I  keep  hearing ?\n",
      "pred text = Why would Sean Hannity need a fixer like Cohen?\n",
      "*~*~*~*~*~*\n",
      "source text = <COMMENT_LEN_1_AUTHOR> The  Environmental  Protection  Agency  on  Monday  took  steps  to  challenge  California 's  decades - old  right  to  set  its  own  air  pollution  rules ,  setting  up  a  showdown  between  the  federal  government  and  a  state  that  has  emerged  as  a  bul wark  aga...\n",
      "target text = <COMMENT_LEN_1_AUTHOR> Have  we  gone  mad  in  this  country ?\n",
      "pred text = Who gave the auto and petroleum industries the right to pollute our air?\n",
      "*~*~*~*~*~*\n",
      "source text = <COMMENT_LEN_1_AUTHOR> It  was  sweet  redemption  for  Charles  Kushner  last  year  when  his  son  Jared  was  named  senior  White  House  adviser .  A  dozen  years  earlier ,  a  s ord id  scandal  stemming  partly  from  a  family  falling - out  had  reduced  the  senior  Mr .  Kushner  from...\n",
      "target text = <COMMENT_LEN_1_AUTHOR> Do  these  people  not  read  the  law  or  have  legal  counsel  to  advise  company  plans ?\n",
      "pred text = Am I supposed to feel sorry for the Kushners?\n",
      "*~*~*~*~*~*\n",
      "source text = <COMMENT_LEN_1_AUTHOR> BO A  VIS TA ,  Brazil  --  Brazil 's  top  court  ruled  early  Thursday  that  former  President  Lu iz  In á c io  L ula  da  Silva  can  be  sent  to  prison  while  he  continues  to  appeal  his  corruption  conviction  --  an  explosive  decision  that  up ends  the  na...\n",
      "target text = <COMMENT_LEN_1_AUTHOR> Brazil ian  President  Michel  Tem er  is  corrupt  and  guess  what ?\n",
      "pred text = To Emerson : Lula had a small minority demonstration?\n",
      "*~*~*~*~*~*\n",
      "source text = <COMMENT_LEN_1_AUTHOR> WASHINGTON  --  Jake  T apper  doesn 't  seem  to  get  rattled  easily .  He 's  got  a  TV  anchor 's  unfl app able  po ise  and  imm ovable  hair ,  and  radi ates  an  almost  eerie  calm  when  a  dozen  explosive  stories  break  during  his  daily  CNN  show .  He 's  ...\n",
      "target text = <COMMENT_LEN_1_AUTHOR> Jake  T apper  :  Care  to  disclose  your  political  connections ?\n",
      "pred text = Why is Jake Tapper working as a journalist if he hates politics so much?\n",
      "*~*~*~*~*~*\n",
      "source text = <COMMENT_LEN_1_AUTHOR> J ER US AL EM  --  Tens  of  thousands  of  Palestinians  gathered  along  Gaza 's  border  with  Israel  on  Friday  to  vent  their  pent - up  frustration  in  a  protest  that  quickly  turned  violent ,  with  Israeli  forces  killing  15  at  the  border  fence .  As  ma...\n",
      "target text = <COMMENT_LEN_1_AUTHOR> Can 't  they  see  that  Israeli  government ,  gets \"  embarrassed \"  when \"  people \"  notice  such  killings ?\n",
      "pred text = How many hundreds of millions have been'diverted'to Swiss bank accounts by various ruling parties?\n",
      "*~*~*~*~*~*\n",
      "source text = <COMMENT_LEN_1_AUTHOR> Times  Insider  delivers  behind - the - scenes  insights  into  how  news ,  features  and  opinion  come  together  at  The  New  York  Times .  Earl  Caldwell  wrote  history  on  the  night  of  April  4 ,  1968 ,  when  he  reported  firsthand  on  the  assassination  of ...\n",
      "target text = <COMMENT_LEN_1_AUTHOR> any  other  tampering  with  the  crime  scene ?\n",
      "pred text = Are you sure that is Arthur Gelb in your picture?\n"
     ]
    },
    {
     "name": "stdout",
     "output_type": "stream",
     "text": [
      "*~*~*~*~*~*\n",
      "source text = <COMMENT_LEN_1_AUTHOR> I  used  to  want  to  leave  you .  I  loved  you .  But  I  couldn  � �  t  stay .  I  wanted  to  live  in  a  city ,  with  access  to  hiking  trails ,  and  coffee  shops  and  book stores  that  I  could  walk  to .  Not  our  Florida  suburb  full  of  palm  trees  and...\n",
      "target text = <COMMENT_LEN_1_AUTHOR> How  did  she  give  up  her  dream  and  why ?\n",
      "pred text = Do you see the tenfold disparity there?\n",
      "*~*~*~*~*~*\n",
      "source text = <COMMENT_LEN_1_AUTHOR> WASHINGTON  --  Paul  D .  Ryan  took  the  helm  of  the  House  two  and  a  half  years  ago ,  not  because  he  wanted  it ,  but  because  he  was  seen  as  the  only  lawmaker  who  could  keep  Republicans  from  dev ouring  themselves .  They  had  shut  down  the  g...\n",
      "target text = <COMMENT_LEN_1_AUTHOR> es ign ,  rather  than  stand  up ?\n",
      "pred text = Why would someone like Ryan run for public office in the first place?\n",
      "*~*~*~*~*~*\n",
      "source text = <COMMENT_LEN_1_AUTHOR> J ER US AL EM  --  Tens  of  thousands  of  Palestinians  gathered  along  Gaza 's  border  with  Israel  on  Friday  to  vent  their  pent - up  frustration  in  a  protest  that  quickly  turned  violent ,  with  Israeli  forces  killing  15  at  the  border  fence .  As  ma...\n",
      "target text = <COMMENT_LEN_1_AUTHOR> Since  when  has  anything  associated  with  Hamas  been  peaceful ?\n",
      "pred text = How many hundreds of millions have been'diverted'to Swiss bank accounts by various ruling parties?\n",
      "*~*~*~*~*~*\n",
      "source text = <COMMENT_LEN_1_AUTHOR> Peter  Thiel ,  Facebook  investor  and  Donald  Trump  supporter ,  is  by  all  accounts  a  terrible  person .  He  did ,  however ,  come  up  with  one  classic  line  about  the  disappoint ments  of  modern  technology  :  � �  We  wanted  flying  cars ,  instead  we  g...\n",
      "target text = <COMMENT_LEN_1_AUTHOR> Are  there  business  leaders  that  are  ready  to  answer  the  call ?\n",
      "pred text = Why begin a column with petty ad hominem against Thiel?\n",
      "*~*~*~*~*~*\n",
      "source text = <COMMENT_LEN_1_AUTHOR> PH IL AD EL PH IA  --  The  video  of  the  police  arresting  two  black  men  in  a  Starbucks ,  viewed  more  than  10  million  times  online ,  quickly  prompted  a  full - blown  crisis  :  accusations  of  racism ,  protests  both  in  and  around  the  cafe ,  and  a ...\n",
      "target text = <COMMENT_LEN_1_AUTHOR> Why  didn 't  these  guys  just  buy  something  or  leave ?\n",
      "pred text = Why didn't they leave when they were asked?\n",
      "*~*~*~*~*~*\n",
      "source text = <COMMENT_LEN_1_AUTHOR> The  Environmental  Protection  Agency  on  Monday  took  steps  to  challenge  California 's  decades - old  right  to  set  its  own  air  pollution  rules ,  setting  up  a  showdown  between  the  federal  government  and  a  state  that  has  emerged  as  a  bul wark  aga...\n",
      "target text = <COMMENT_LEN_1_AUTHOR> So  you  � �  re  saying  the  federal  government  should  control  policies  for  every  individual  state ?\n",
      "pred text = Who gave the auto and petroleum industries the right to pollute our air?\n",
      "*~*~*~*~*~*\n",
      "source text = <COMMENT_LEN_1_AUTHOR> BO STON  --  Desire e  Lind en  thought  about  dropping  out  of  the  Boston  Marathon  on  Monday .  She  wasn 't  drinking  enough  fluids  and  was  afraid  of  getting  cr amps  in  her  legs .  Te eming  rain ,  strong  winds  and  the  cold est  temperatures  in  30  y...\n",
      "target text = <COMMENT_LEN_1_AUTHOR> @  Ricardo  salv ador  : \"  How  soft  we 've  become \"?\n",
      "pred text = What's your point?\n",
      "*~*~*~*~*~*\n",
      "source text = <COMMENT_LEN_1_AUTHOR> Dear  Kevin ,  You  had  the  right  to  remain  silent .  Now  every  word  you 've  ever  uttered ,  and  every  one  you  ever  will ,  can  and  will  be  held  against  you .  I 'm  sorry  to  have  to  write  you ,  for  two  reasons .  Sorry ,  first ,  that  you  have ...\n",
      "target text = <COMMENT_LEN_1_AUTHOR> Or  hasn 't  the  columnist  been  paying  any  attention  to  our  twe eter - in - chief  over  the  last  14  months ?\n",
      "pred text = We're letting him into the discourse why?\n",
      "*~*~*~*~*~*\n",
      "source text = <COMMENT_LEN_1_AUTHOR> OK LA H OM A  CITY  --  The  anxiety  and  se et hing  anger  that  followed  the  disappearance  of  middle - income  jobs  in  factory  towns  has  helped  resh ape  the  American  political  map  and  topple  longstanding  policies  on  tariffs  and  immigration .  But  glo...\n",
      "target text = <COMMENT_LEN_1_AUTHOR> What  happened  to  Obama 's  stimulus  package ?\n",
      "pred text = When did we get elevated to middle class?\n",
      "*~*~*~*~*~*\n",
      "source text = <COMMENT_LEN_1_AUTHOR> R ud olph  W .  Giuliani ,  the  former  New  York  City  mayor  and  longtime  friend  of  President  Trump ,  will  join  the  president 's  legal  team  in  an  effort  to \"  quickly \"  resolve  the  special  counsel  investigation  into  Russian  election  interference  an...\n",
      "target text = <COMMENT_LEN_1_AUTHOR> Will  Chris  Christie  also  be  on  this  legal  team ?\n",
      "pred text = Mr. Sneering October Surprise Giuliani?\n",
      "*~*~*~*~*~*\n",
      "source text = <COMMENT_LEN_1_AUTHOR> WASHINGTON  --  President  Trump  has  begun  a  new  push  for  legislation  to  crack  down  on  illegal  immigration  and  make  it  more  difficult  to  obtain  refuge  in  the  United  States ,  White  House  officials  said  Monday ,  arguing  that  lax  laws  have  draw...\n",
      "target text = <COMMENT_LEN_1_AUTHOR> How  can  legal  or  even  illegal  aliens  not  be  deported  after  even  several  du i  arrests ?\n",
      "pred text = What kind of fair system is that?\n",
      "*~*~*~*~*~*\n",
      "source text = <COMMENT_LEN_1_AUTHOR> President  Trump  escalated  his  verbal  f us ill ade  against  immigrants  this  week  by  announcing  a  foolish  plan  to  deploy  troops  along  the  Mexican  border .  Such  a  move  has  at  best  a  ten uous  basis  in  law  and  none  in  logic ,  and  it  will  burn ...\n",
      "target text = <COMMENT_LEN_1_AUTHOR> What  does  school  integration  have  to  do  with  illegal  immigration ?\n",
      "pred text = Why would anyone want to come to this country?\n",
      "*~*~*~*~*~*\n",
      "source text = <COMMENT_LEN_1_AUTHOR> Step hon  Clark ,  the  unarmed  black  man  who  was  fatally  shot  last  week  by  Sacramento  police  officers ,  was  struck  eight  times ,  mostly  in  his  back ,  according  to  an  independent  autopsy  released  Friday ,  raising  significant  questions  about  the ...\n",
      "target text = <COMMENT_LEN_1_AUTHOR> Why  has  that  been  buried ?\n",
      "pred text = The justification is what, protecting that neighborhood from people stealing yard items?\n",
      "*~*~*~*~*~*\n",
      "source text = <COMMENT_LEN_1_AUTHOR> WASHINGTON  --  If  there  was  any  chance  that  President  Trump  and  James  B .  Comey  could  have  avoided  all - out  war ,  it  ended  Sunday  night .  That  was  when  ABC  News  aired  an  interview  with  Mr .  Comey ,  the  president 's  fired  F .  B .  I .  dire...\n",
      "target text = <COMMENT_LEN_1_AUTHOR> How  do  any  of  Donald  Trump  � �  s  supporters ,  who  so  vil ified  Barack  Obama ,  feel  any  pride  in  the  leadership  of  a  man  so  bere ft  of  character  and  decency ?\n",
      "pred text = How can 60 + million vote for this?\n",
      "*~*~*~*~*~*\n",
      "source text = <COMMENT_LEN_1_AUTHOR> M IL AN  --  There  was  a  buzz  as  some  two  dozen  concert goers  in  silk  scar ves  and  sparkling  jewels  arrived  with  the  help  of  wheel chairs ,  walk ers  and  can es ,  and  took  their  seats  in  the  orn ate ,  hard wood - floor  concert  hall  of  Milan 's...\n",
      "target text = <COMMENT_LEN_1_AUTHOR> Is  the  writer  familiar  with  it ?\n",
      "pred text = Is the writer familiar with it?\n",
      "*~*~*~*~*~*\n",
      "source text = <COMMENT_LEN_1_AUTHOR> As  the  nation  prepares  to  commemorate  the  50 th  anniversary  of  the  assassination  of  the  Rev .  Dr .  Martin  Luther  King  Jr .,  we  should  dwell  not  merely  on  how  Dr .  King  died  but  also  on  how  he  lived .  He  mobilized  mass  action  to  win  a  ...\n",
      "target text = <COMMENT_LEN_1_AUTHOR> Also ,  what  was  his  real  thesis ?\n",
      "pred text = @ hammond-what is the definition of a saint?\n",
      "*~*~*~*~*~*\n",
      "source text = <COMMENT_LEN_1_AUTHOR> Despite  stiff  competition ,  Scott  Pruitt ,  the  administrator  of  the  Environmental  Protection  Agency ,  is  by  common  consensus  the  worst  of  the  ide olog ues  and  medi oc rities  President  Trump  chose  to  populate  his  cabinet .  Policies  aside  --  and ...\n",
      "target text = <COMMENT_LEN_1_AUTHOR> What  do  you  think  McConnell  and  Ryan  would  have  said  if  a  Obama  cabinet  member  had  done  even  one  of  these  things ?\n",
      "pred text = If the President won't do anything, can't Congress?\n"
     ]
    }
   ],
   "source": [
    "## evaluate sample of text\n",
    "sample_size = 100\n",
    "mini_val_data = val_data.select(list(range(sample_size)))\n",
    "mini_pred_text = pred_text[:sample_size]\n",
    "from data_helpers import compare_pred_text_with_target\n",
    "compare_pred_text_with_target(mini_val_data, mini_pred_text, tokenizer)"
   ]
  },
  {
   "cell_type": "code",
   "execution_count": null,
   "metadata": {},
   "outputs": [],
   "source": []
  }
 ],
 "metadata": {
  "kernelspec": {
   "display_name": "Python [conda env:py3] *",
   "language": "python",
   "name": "conda-env-py3-py"
  },
  "language_info": {
   "codemirror_mode": {
    "name": "ipython",
    "version": 3
   },
   "file_extension": ".py",
   "mimetype": "text/x-python",
   "name": "python",
   "nbconvert_exporter": "python",
   "pygments_lexer": "ipython3",
   "version": "3.8.5"
  }
 },
 "nbformat": 4,
 "nbformat_minor": 4
}
