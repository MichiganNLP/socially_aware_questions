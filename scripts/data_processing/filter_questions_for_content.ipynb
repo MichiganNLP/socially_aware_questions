{
 "cells": [
  {
   "cell_type": "markdown",
   "metadata": {},
   "source": [
    "# Filter questions for content\n",
    "Let's take the NYT questions and filter them to only include questions that have at least one NE overlap with the article text.\n",
    "\n",
    "This is really what we are interested in learning to generate: can we predict a person's inquiry into a person/place/organization mentioned by the article?"
   ]
  },
  {
   "cell_type": "code",
   "execution_count": 1,
   "metadata": {},
   "outputs": [
    {
     "name": "stdout",
     "output_type": "stream",
     "text": [
      "22455 questions\n"
     ]
    },
    {
     "data": {
      "text/html": [
       "<div>\n",
       "<style scoped>\n",
       "    .dataframe tbody tr th:only-of-type {\n",
       "        vertical-align: middle;\n",
       "    }\n",
       "\n",
       "    .dataframe tbody tr th {\n",
       "        vertical-align: top;\n",
       "    }\n",
       "\n",
       "    .dataframe thead th {\n",
       "        text-align: right;\n",
       "    }\n",
       "</style>\n",
       "<table border=\"1\" class=\"dataframe\">\n",
       "  <thead>\n",
       "    <tr style=\"text-align: right;\">\n",
       "      <th></th>\n",
       "      <th>id</th>\n",
       "      <th>title</th>\n",
       "      <th>authors</th>\n",
       "      <th>text</th>\n",
       "      <th>article_id</th>\n",
       "      <th>approveDate</th>\n",
       "      <th>commentBody</th>\n",
       "      <th>commentType</th>\n",
       "      <th>parentID</th>\n",
       "      <th>userID</th>\n",
       "      <th>userLocation</th>\n",
       "      <th>userDisplayName</th>\n",
       "      <th>comment_question</th>\n",
       "      <th>question_tokens</th>\n",
       "      <th>article_tokens</th>\n",
       "      <th>publisher</th>\n",
       "      <th>dummy_comment_id</th>\n",
       "      <th>article_question_bleu</th>\n",
       "    </tr>\n",
       "  </thead>\n",
       "  <tbody>\n",
       "    <tr>\n",
       "      <th>0</th>\n",
       "      <td>E12122A8E40142EDPQ</td>\n",
       "      <td>Scrutiny for Trump's Allies As Trail of Money ...</td>\n",
       "      <td>['Apuzzo, Matt']</td>\n",
       "      <td>WASHINGTON -- The F.B.I. raided the Rockefelle...</td>\n",
       "      <td>5acbc4e2068401528a2a5a2c</td>\n",
       "      <td>1523409493</td>\n",
       "      <td>If he fires him. People take to the streets. Y...</td>\n",
       "      <td>comment</td>\n",
       "      <td>0.0</td>\n",
       "      <td>84914731.0</td>\n",
       "      <td>Huntsville Al</td>\n",
       "      <td>Sean</td>\n",
       "      <td>You think you got chaos now?</td>\n",
       "      <td>['You', 'think', 'you', 'got', 'chaos', 'now',...</td>\n",
       "      <td>['WASHINGTON', '--', 'The', 'F', '.', 'B', '.'...</td>\n",
       "      <td>NYT</td>\n",
       "      <td>0</td>\n",
       "      <td>0.001756</td>\n",
       "    </tr>\n",
       "    <tr>\n",
       "      <th>1</th>\n",
       "      <td>E12122A8E40142EDPQ</td>\n",
       "      <td>Scrutiny for Trump's Allies As Trail of Money ...</td>\n",
       "      <td>['Apuzzo, Matt']</td>\n",
       "      <td>WASHINGTON -- The F.B.I. raided the Rockefelle...</td>\n",
       "      <td>5acbc4e2068401528a2a5a2c</td>\n",
       "      <td>1523409425</td>\n",
       "      <td>I've noticed comments stating that somehow thi...</td>\n",
       "      <td>comment</td>\n",
       "      <td>0.0</td>\n",
       "      <td>40747629.0</td>\n",
       "      <td>Aspen</td>\n",
       "      <td>Mark</td>\n",
       "      <td>&lt;br/&gt;&lt;br/&gt;If trump were innocent, in any case,...</td>\n",
       "      <td>['&lt;', 'br', '/&gt;&lt;', 'br', '/&gt;', 'If', 'trump', ...</td>\n",
       "      <td>['WASHINGTON', '--', 'The', 'F', '.', 'B', '.'...</td>\n",
       "      <td>NYT</td>\n",
       "      <td>1</td>\n",
       "      <td>0.004098</td>\n",
       "    </tr>\n",
       "    <tr>\n",
       "      <th>2</th>\n",
       "      <td>E12122A8E40142EDPQ</td>\n",
       "      <td>Scrutiny for Trump's Allies As Trail of Money ...</td>\n",
       "      <td>['Apuzzo, Matt']</td>\n",
       "      <td>WASHINGTON -- The F.B.I. raided the Rockefelle...</td>\n",
       "      <td>5acbc4e2068401528a2a5a2c</td>\n",
       "      <td>1523409397</td>\n",
       "      <td>Why have we never seen Trump's tax returns? Fi...</td>\n",
       "      <td>comment</td>\n",
       "      <td>0.0</td>\n",
       "      <td>68845522.0</td>\n",
       "      <td>Austin, TX</td>\n",
       "      <td>Allison</td>\n",
       "      <td>Why have we never seen Trump's tax returns?</td>\n",
       "      <td>['Why', 'have', 'we', 'never', 'seen', 'Trump'...</td>\n",
       "      <td>['WASHINGTON', '--', 'The', 'F', '.', 'B', '.'...</td>\n",
       "      <td>NYT</td>\n",
       "      <td>2</td>\n",
       "      <td>0.003513</td>\n",
       "    </tr>\n",
       "    <tr>\n",
       "      <th>4</th>\n",
       "      <td>E12122A8E40142EDPQ</td>\n",
       "      <td>Scrutiny for Trump's Allies As Trail of Money ...</td>\n",
       "      <td>['Apuzzo, Matt']</td>\n",
       "      <td>WASHINGTON -- The F.B.I. raided the Rockefelle...</td>\n",
       "      <td>5acbc4e2068401528a2a5a2c</td>\n",
       "      <td>1523409394</td>\n",
       "      <td>In the Vanity Fair 2017 interview, Mr. Cohen p...</td>\n",
       "      <td>comment</td>\n",
       "      <td>0.0</td>\n",
       "      <td>79106752.0</td>\n",
       "      <td>TX</td>\n",
       "      <td>Ada</td>\n",
       "      <td>How does anyone with this much skeleton in bot...</td>\n",
       "      <td>['How', 'does', 'anyone', 'with', 'this', 'muc...</td>\n",
       "      <td>['WASHINGTON', '--', 'The', 'F', '.', 'B', '.'...</td>\n",
       "      <td>NYT</td>\n",
       "      <td>4</td>\n",
       "      <td>0.007026</td>\n",
       "    </tr>\n",
       "    <tr>\n",
       "      <th>5</th>\n",
       "      <td>E12122A8E40142EDPQ</td>\n",
       "      <td>Scrutiny for Trump's Allies As Trail of Money ...</td>\n",
       "      <td>['Apuzzo, Matt']</td>\n",
       "      <td>WASHINGTON -- The F.B.I. raided the Rockefelle...</td>\n",
       "      <td>5acbc4e2068401528a2a5a2c</td>\n",
       "      <td>1523407457</td>\n",
       "      <td>Did any of the Trump/Cohen apologists actually...</td>\n",
       "      <td>comment</td>\n",
       "      <td>0.0</td>\n",
       "      <td>24038912.0</td>\n",
       "      <td>Narnia</td>\n",
       "      <td>Maxie</td>\n",
       "      <td>Did any of the Trump/Cohen apologists actually...</td>\n",
       "      <td>['Did', 'any', 'of', 'the', 'Trump', '/', 'Coh...</td>\n",
       "      <td>['WASHINGTON', '--', 'The', 'F', '.', 'B', '.'...</td>\n",
       "      <td>NYT</td>\n",
       "      <td>5</td>\n",
       "      <td>0.002927</td>\n",
       "    </tr>\n",
       "  </tbody>\n",
       "</table>\n",
       "</div>"
      ],
      "text/plain": [
       "                   id                                              title  \\\n",
       "0  E12122A8E40142EDPQ  Scrutiny for Trump's Allies As Trail of Money ...   \n",
       "1  E12122A8E40142EDPQ  Scrutiny for Trump's Allies As Trail of Money ...   \n",
       "2  E12122A8E40142EDPQ  Scrutiny for Trump's Allies As Trail of Money ...   \n",
       "4  E12122A8E40142EDPQ  Scrutiny for Trump's Allies As Trail of Money ...   \n",
       "5  E12122A8E40142EDPQ  Scrutiny for Trump's Allies As Trail of Money ...   \n",
       "\n",
       "            authors                                               text  \\\n",
       "0  ['Apuzzo, Matt']  WASHINGTON -- The F.B.I. raided the Rockefelle...   \n",
       "1  ['Apuzzo, Matt']  WASHINGTON -- The F.B.I. raided the Rockefelle...   \n",
       "2  ['Apuzzo, Matt']  WASHINGTON -- The F.B.I. raided the Rockefelle...   \n",
       "4  ['Apuzzo, Matt']  WASHINGTON -- The F.B.I. raided the Rockefelle...   \n",
       "5  ['Apuzzo, Matt']  WASHINGTON -- The F.B.I. raided the Rockefelle...   \n",
       "\n",
       "                 article_id  approveDate  \\\n",
       "0  5acbc4e2068401528a2a5a2c   1523409493   \n",
       "1  5acbc4e2068401528a2a5a2c   1523409425   \n",
       "2  5acbc4e2068401528a2a5a2c   1523409397   \n",
       "4  5acbc4e2068401528a2a5a2c   1523409394   \n",
       "5  5acbc4e2068401528a2a5a2c   1523407457   \n",
       "\n",
       "                                         commentBody commentType  parentID  \\\n",
       "0  If he fires him. People take to the streets. Y...     comment       0.0   \n",
       "1  I've noticed comments stating that somehow thi...     comment       0.0   \n",
       "2  Why have we never seen Trump's tax returns? Fi...     comment       0.0   \n",
       "4  In the Vanity Fair 2017 interview, Mr. Cohen p...     comment       0.0   \n",
       "5  Did any of the Trump/Cohen apologists actually...     comment       0.0   \n",
       "\n",
       "       userID   userLocation userDisplayName  \\\n",
       "0  84914731.0  Huntsville Al            Sean   \n",
       "1  40747629.0          Aspen            Mark   \n",
       "2  68845522.0     Austin, TX         Allison   \n",
       "4  79106752.0             TX             Ada   \n",
       "5  24038912.0         Narnia           Maxie   \n",
       "\n",
       "                                    comment_question  \\\n",
       "0                       You think you got chaos now?   \n",
       "1  <br/><br/>If trump were innocent, in any case,...   \n",
       "2        Why have we never seen Trump's tax returns?   \n",
       "4  How does anyone with this much skeleton in bot...   \n",
       "5  Did any of the Trump/Cohen apologists actually...   \n",
       "\n",
       "                                     question_tokens  \\\n",
       "0  ['You', 'think', 'you', 'got', 'chaos', 'now',...   \n",
       "1  ['<', 'br', '/><', 'br', '/>', 'If', 'trump', ...   \n",
       "2  ['Why', 'have', 'we', 'never', 'seen', 'Trump'...   \n",
       "4  ['How', 'does', 'anyone', 'with', 'this', 'muc...   \n",
       "5  ['Did', 'any', 'of', 'the', 'Trump', '/', 'Coh...   \n",
       "\n",
       "                                      article_tokens publisher  \\\n",
       "0  ['WASHINGTON', '--', 'The', 'F', '.', 'B', '.'...       NYT   \n",
       "1  ['WASHINGTON', '--', 'The', 'F', '.', 'B', '.'...       NYT   \n",
       "2  ['WASHINGTON', '--', 'The', 'F', '.', 'B', '.'...       NYT   \n",
       "4  ['WASHINGTON', '--', 'The', 'F', '.', 'B', '.'...       NYT   \n",
       "5  ['WASHINGTON', '--', 'The', 'F', '.', 'B', '.'...       NYT   \n",
       "\n",
       "   dummy_comment_id  article_question_bleu  \n",
       "0                 0               0.001756  \n",
       "1                 1               0.004098  \n",
       "2                 2               0.003513  \n",
       "4                 4               0.007026  \n",
       "5                 5               0.002927  "
      ]
     },
     "metadata": {},
     "output_type": "display_data"
    }
   ],
   "source": [
    "## load sample of data\n",
    "import pandas as pd\n",
    "article_question_data = pd.read_csv('../../data/nyt_comments/April2018_article_question_data.tsv', sep='\\t', index_col=False)\n",
    "article_question_data.drop_duplicates(['article_id', 'commentBody', 'userID'], inplace=True)\n",
    "print(f'{article_question_data.shape[0]} questions')\n",
    "display(article_question_data.head())"
   ]
  },
  {
   "cell_type": "code",
   "execution_count": 2,
   "metadata": {},
   "outputs": [
    {
     "name": "stdout",
     "output_type": "stream",
     "text": [
      "396 unique articles to parse\n"
     ]
    }
   ],
   "source": [
    "unique_article_data = article_question_data.loc[:, ['text', 'article_id']].drop_duplicates('article_id')\n",
    "print('%d unique articles to parse'%(unique_article_data.shape[0]))"
   ]
  },
  {
   "cell_type": "code",
   "execution_count": 4,
   "metadata": {
    "scrolled": true
   },
   "outputs": [
    {
     "name": "stderr",
     "output_type": "stream",
     "text": [
      "2021-01-25 15:45:17 INFO: Loading these models for language: en (English):\n",
      "=========================\n",
      "| Processor | Package   |\n",
      "-------------------------\n",
      "| tokenize  | ewt       |\n",
      "| ner       | ontonotes |\n",
      "=========================\n",
      "\n",
      "2021-01-25 15:45:17 INFO: Use device: gpu\n",
      "2021-01-25 15:45:17 INFO: Loading: tokenize\n",
      "2021-01-25 15:45:22 INFO: Loading: ner\n",
      "2021-01-25 15:45:23 INFO: Done loading processors!\n"
     ]
    },
    {
     "name": "stdout",
     "output_type": "stream",
     "text": [
      "[\n",
      "  [\n",
      "    {\n",
      "      \"id\": 1,\n",
      "      \"text\": \"I\",\n",
      "      \"misc\": \"start_char=0|end_char=1\",\n",
      "      \"ner\": \"O\"\n",
      "    },\n",
      "    {\n",
      "      \"id\": 2,\n",
      "      \"text\": \"voted\",\n",
      "      \"misc\": \"start_char=2|end_char=7\",\n",
      "      \"ner\": \"O\"\n",
      "    },\n",
      "    {\n",
      "      \"id\": 3,\n",
      "      \"text\": \"for\",\n",
      "      \"misc\": \"start_char=8|end_char=11\",\n",
      "      \"ner\": \"O\"\n",
      "    },\n",
      "    {\n",
      "      \"id\": 4,\n",
      "      \"text\": \"Donald\",\n",
      "      \"misc\": \"start_char=12|end_char=18\",\n",
      "      \"ner\": \"B-PERSON\"\n",
      "    },\n",
      "    {\n",
      "      \"id\": 5,\n",
      "      \"text\": \"Trump\",\n",
      "      \"misc\": \"start_char=19|end_char=24\",\n",
      "      \"ner\": \"E-PERSON\"\n",
      "    },\n",
      "    {\n",
      "      \"id\": 6,\n",
      "      \"text\": \"this\",\n",
      "      \"misc\": \"start_char=25|end_char=29\",\n",
      "      \"ner\": \"B-DATE\"\n",
      "    },\n",
      "    {\n",
      "      \"id\": 7,\n",
      "      \"text\": \"year\",\n",
      "      \"misc\": \"start_char=30|end_char=34\",\n",
      "      \"ner\": \"E-DATE\"\n",
      "    },\n",
      "    {\n",
      "      \"id\": 8,\n",
      "      \"text\": \".\",\n",
      "      \"misc\": \"start_char=34|end_char=35\",\n",
      "      \"ner\": \"O\"\n",
      "    }\n",
      "  ]\n",
      "]\n"
     ]
    }
   ],
   "source": [
    "## specify GPU\n",
    "import os\n",
    "os.environ['CUDA_VISIBLE_DEVICES'] = '2'\n",
    "import stanza\n",
    "nlp_pipeline = stanza.Pipeline(lang='en', processors='tokenize,ner', use_gpu=True)\n",
    "test_sent = 'I voted for Donald Trump this year.'\n",
    "test_output = nlp_pipeline(test_sent)\n",
    "print(test_output)"
   ]
  },
  {
   "cell_type": "code",
   "execution_count": 5,
   "metadata": {},
   "outputs": [],
   "source": [
    "def extract_all_named_entities(text, pipeline, valid_NE_types=['PERSON', 'GPE', 'ORG', 'EVENT']):\n",
    "    text_doc = pipeline(text)\n",
    "    named_entities = []\n",
    "    for text_sent_i in text_doc.sentences:\n",
    "        NE_tokens_i = []\n",
    "        for token_j in text_sent_i.tokens:\n",
    "            token_j_NE = token_j.ner\n",
    "            token_j_NE_type = token_j_NE.split('-')[-1]\n",
    "            if(token_j_NE != 'O' and token_j_NE_type in valid_NE_types):\n",
    "                token_j_text = token_j.text\n",
    "                # \"END\" or \"SINGLE\" token => pop from queue\n",
    "                if(token_j_NE.startswith('E') or token_j_NE.startswith('S')):\n",
    "                    NE_tokens_i.append(token_j_text)\n",
    "                    NE_final = '_'.join(NE_tokens_i)\n",
    "                    named_entities.append(NE_final)\n",
    "                    NE_tokens_i = []\n",
    "                else:\n",
    "                    NE_tokens_i.append(token_j_text)\n",
    "    return named_entities"
   ]
  },
  {
   "cell_type": "code",
   "execution_count": 6,
   "metadata": {},
   "outputs": [
    {
     "name": "stdout",
     "output_type": "stream",
     "text": [
      "['Trump']\n"
     ]
    }
   ],
   "source": [
    "test_sent = 'I voted for Trump this year.'\n",
    "test_NEs = extract_all_named_entities(test_sent, nlp_pipeline)\n",
    "print(test_NEs)"
   ]
  },
  {
   "cell_type": "code",
   "execution_count": 7,
   "metadata": {},
   "outputs": [
    {
     "name": "stderr",
     "output_type": "stream",
     "text": [
      "/home/ianbstew/miniconda3/envs/py3/lib/python3.8/site-packages/tqdm/std.py:706: FutureWarning: The Panel class is removed from pandas. Accessing it from the top-level namespace will also be removed in the next version\n",
      "  from pandas import Panel\n",
      "100%|██████████| 396/396 [05:19<00:00,  1.24it/s]\n"
     ]
    }
   ],
   "source": [
    "from tqdm import tqdm\n",
    "tqdm.pandas()\n",
    "valid_NE_types = {'PERSON', 'GPE', 'ORG', 'EVENT'}\n",
    "unique_article_data = unique_article_data.assign(**{\n",
    "    'text_NE' : unique_article_data.loc[:, 'text'].progress_apply(lambda x: extract_all_named_entities(x, nlp_pipeline, valid_NE_types=valid_NE_types))\n",
    "})"
   ]
  },
  {
   "cell_type": "code",
   "execution_count": 8,
   "metadata": {
    "scrolled": true
   },
   "outputs": [
    {
     "data": {
      "text/plain": [
       "Trump                1406\n",
       "Facebook              412\n",
       "the_United_States     282\n",
       "Russia                265\n",
       "Syria                 261\n",
       "Pruitt                254\n",
       "Comey                 246\n",
       "China                 185\n",
       "Cohen                 166\n",
       "New_York              161\n",
       "dtype: int64"
      ]
     },
     "metadata": {},
     "output_type": "display_data"
    }
   ],
   "source": [
    "## get most frequent NEs\n",
    "unique_article_NE_counts = pd.Series([y for x in unique_article_data.loc[:, 'text_NE'].values for y in x]).value_counts()\n",
    "display(unique_article_NE_counts.head(10))"
   ]
  },
  {
   "cell_type": "markdown",
   "metadata": {},
   "source": [
    "Great! These NEs make sense given the context of the news (April 2018)."
   ]
  },
  {
   "cell_type": "code",
   "execution_count": 12,
   "metadata": {
    "scrolled": true
   },
   "outputs": [
    {
     "name": "stderr",
     "output_type": "stream",
     "text": [
      "2021-01-25 17:33:55 INFO: Loading these models for language: en (English):\n",
      "=========================\n",
      "| Processor | Package   |\n",
      "-------------------------\n",
      "| tokenize  | ewt       |\n",
      "| ner       | ontonotes |\n",
      "=========================\n",
      "\n",
      "2021-01-25 17:33:55 INFO: Use device: gpu\n",
      "2021-01-25 17:33:55 INFO: Loading: tokenize\n",
      "2021-01-25 17:33:55 INFO: Loading: ner\n",
      "2021-01-25 17:33:56 INFO: Done loading processors!\n",
      "100%|██████████| 22455/22455 [10:33<00:00, 35.45it/s]\n"
     ]
    }
   ],
   "source": [
    "## comment NEs\n",
    "# use GPU because runtime\n",
    "import os\n",
    "os.environ['CUDA_VISIBLE_DEVICES'] = '2'\n",
    "# reload pipeline\n",
    "import stanza\n",
    "nlp_pipeline = stanza.Pipeline(lang='en', processors='tokenize,ner', use_gpu=True)\n",
    "valid_NE_types = {'PERSON', 'GPE', 'ORG', 'EVENT'}\n",
    "article_question_data = article_question_data.assign(**{\n",
    "    'question_NE' : article_question_data.loc[:, 'comment_question'].progress_apply(lambda x: extract_all_named_entities(x, nlp_pipeline, valid_NE_types=valid_NE_types))\n",
    "})"
   ]
  },
  {
   "cell_type": "code",
   "execution_count": 13,
   "metadata": {
    "scrolled": true
   },
   "outputs": [
    {
     "data": {
      "text/plain": [
       "Trump           2538\n",
       "Comey            426\n",
       "US               367\n",
       "Cohen            326\n",
       "Syria            312\n",
       "Mueller          287\n",
       "Russia           265\n",
       "FBI              232\n",
       "Assad            217\n",
       "America          215\n",
       "Ryan             213\n",
       "Obama            208\n",
       "GOP              191\n",
       "Congress         190\n",
       "Clinton          148\n",
       "Putin            139\n",
       "Facebook         137\n",
       "Hillary          129\n",
       "Donald_Trump     128\n",
       "Pruitt           125\n",
       "dtype: int64"
      ]
     },
     "metadata": {},
     "output_type": "display_data"
    }
   ],
   "source": [
    "## get most frequent NEs\n",
    "unique_question_NE_counts = pd.Series([y for x in article_question_data.loc[:, 'question_NE'].values for y in x]).value_counts()\n",
    "display(unique_question_NE_counts.head(20))"
   ]
  },
  {
   "cell_type": "markdown",
   "metadata": {},
   "source": [
    "Great! These NEs are not completely disjoint from the NEs that we saw before."
   ]
  },
  {
   "cell_type": "markdown",
   "metadata": {},
   "source": [
    "How many comments share at least one NE with the article in question?"
   ]
  },
  {
   "cell_type": "code",
   "execution_count": 15,
   "metadata": {},
   "outputs": [
    {
     "name": "stdout",
     "output_type": "stream",
     "text": [
      "22455\n"
     ]
    },
    {
     "data": {
      "text/html": [
       "<div>\n",
       "<style scoped>\n",
       "    .dataframe tbody tr th:only-of-type {\n",
       "        vertical-align: middle;\n",
       "    }\n",
       "\n",
       "    .dataframe tbody tr th {\n",
       "        vertical-align: top;\n",
       "    }\n",
       "\n",
       "    .dataframe thead th {\n",
       "        text-align: right;\n",
       "    }\n",
       "</style>\n",
       "<table border=\"1\" class=\"dataframe\">\n",
       "  <thead>\n",
       "    <tr style=\"text-align: right;\">\n",
       "      <th></th>\n",
       "      <th>article_id</th>\n",
       "      <th>text_NE</th>\n",
       "      <th>question_NE</th>\n",
       "      <th>commentType</th>\n",
       "      <th>userID</th>\n",
       "      <th>text_question_NE</th>\n",
       "    </tr>\n",
       "  </thead>\n",
       "  <tbody>\n",
       "    <tr>\n",
       "      <th>0</th>\n",
       "      <td>5acbc4e2068401528a2a5a2c</td>\n",
       "      <td>[WASHINGTON, F.B.I., Rockefeller_Center, Trump...</td>\n",
       "      <td>[]</td>\n",
       "      <td>comment</td>\n",
       "      <td>84914731.0</td>\n",
       "      <td>{}</td>\n",
       "    </tr>\n",
       "    <tr>\n",
       "      <th>1</th>\n",
       "      <td>5acbc4e2068401528a2a5a2c</td>\n",
       "      <td>[WASHINGTON, F.B.I., Rockefeller_Center, Trump...</td>\n",
       "      <td>[]</td>\n",
       "      <td>comment</td>\n",
       "      <td>40747629.0</td>\n",
       "      <td>{}</td>\n",
       "    </tr>\n",
       "    <tr>\n",
       "      <th>2</th>\n",
       "      <td>5acbc4e2068401528a2a5a2c</td>\n",
       "      <td>[WASHINGTON, F.B.I., Rockefeller_Center, Trump...</td>\n",
       "      <td>[Trump]</td>\n",
       "      <td>comment</td>\n",
       "      <td>68845522.0</td>\n",
       "      <td>{Trump}</td>\n",
       "    </tr>\n",
       "    <tr>\n",
       "      <th>3</th>\n",
       "      <td>5acbc4e2068401528a2a5a2c</td>\n",
       "      <td>[WASHINGTON, F.B.I., Rockefeller_Center, Trump...</td>\n",
       "      <td>[]</td>\n",
       "      <td>comment</td>\n",
       "      <td>79106752.0</td>\n",
       "      <td>{}</td>\n",
       "    </tr>\n",
       "    <tr>\n",
       "      <th>4</th>\n",
       "      <td>5acbc4e2068401528a2a5a2c</td>\n",
       "      <td>[WASHINGTON, F.B.I., Rockefeller_Center, Trump...</td>\n",
       "      <td>[Trump, Cohen]</td>\n",
       "      <td>comment</td>\n",
       "      <td>24038912.0</td>\n",
       "      <td>{Cohen, Trump}</td>\n",
       "    </tr>\n",
       "  </tbody>\n",
       "</table>\n",
       "</div>"
      ],
      "text/plain": [
       "                 article_id  \\\n",
       "0  5acbc4e2068401528a2a5a2c   \n",
       "1  5acbc4e2068401528a2a5a2c   \n",
       "2  5acbc4e2068401528a2a5a2c   \n",
       "3  5acbc4e2068401528a2a5a2c   \n",
       "4  5acbc4e2068401528a2a5a2c   \n",
       "\n",
       "                                             text_NE     question_NE  \\\n",
       "0  [WASHINGTON, F.B.I., Rockefeller_Center, Trump...              []   \n",
       "1  [WASHINGTON, F.B.I., Rockefeller_Center, Trump...              []   \n",
       "2  [WASHINGTON, F.B.I., Rockefeller_Center, Trump...         [Trump]   \n",
       "3  [WASHINGTON, F.B.I., Rockefeller_Center, Trump...              []   \n",
       "4  [WASHINGTON, F.B.I., Rockefeller_Center, Trump...  [Trump, Cohen]   \n",
       "\n",
       "  commentType      userID text_question_NE  \n",
       "0     comment  84914731.0               {}  \n",
       "1     comment  40747629.0               {}  \n",
       "2     comment  68845522.0          {Trump}  \n",
       "3     comment  79106752.0               {}  \n",
       "4     comment  24038912.0   {Cohen, Trump}  "
      ]
     },
     "metadata": {},
     "output_type": "display_data"
    }
   ],
   "source": [
    "article_NE_data = pd.merge(unique_article_data.loc[:, ['article_id', 'text_NE']], article_question_data.loc[:, ['question_NE', 'article_id', 'commentType', 'userID']], how='inner')\n",
    "print(article_NE_data.shape[0])\n",
    "# compute overlap\n",
    "article_NE_data = article_NE_data.assign(**{\n",
    "    'text_question_NE' : article_NE_data.apply(lambda x: set(x.loc['text_NE']) & set(x.loc['question_NE']), axis=1)\n",
    "})\n",
    "display(article_NE_data.head())"
   ]
  },
  {
   "cell_type": "code",
   "execution_count": 20,
   "metadata": {},
   "outputs": [
    {
     "name": "stdout",
     "output_type": "stream",
     "text": [
      "23.522600757069696% of questions (5282/22455) mention a relevant NE\n"
     ]
    }
   ],
   "source": [
    "NE_overlap_question_count = (article_NE_data.loc[:, \"text_question_NE\"].apply(lambda x: len(x) > 0)).sum()\n",
    "print(f'{NE_overlap_question_count / article_NE_data.shape[0] * 100}% of questions ({NE_overlap_question_count}/{article_NE_data.shape[0]}) mention a relevant NE')"
   ]
  },
  {
   "cell_type": "markdown",
   "metadata": {},
   "source": [
    "Great! About 1/4 of questions mention a relevant NE.\n",
    "\n",
    "What are the overlap entities?"
   ]
  },
  {
   "cell_type": "code",
   "execution_count": 21,
   "metadata": {
    "scrolled": true
   },
   "outputs": [
    {
     "data": {
      "text/plain": [
       "Trump                2183\n",
       "Comey                 369\n",
       "Syria                 262\n",
       "Cohen                 214\n",
       "Mueller               214\n",
       "Russia                202\n",
       "Assad                 179\n",
       "Ryan                  129\n",
       "Facebook              119\n",
       "Pruitt                108\n",
       "America                99\n",
       "Congress               92\n",
       "Israel                 77\n",
       "Giuliani               72\n",
       "Iran                   71\n",
       "Obama                  68\n",
       "Clinton                65\n",
       "Putin                  62\n",
       "China                  56\n",
       "the_United_States      54\n",
       "dtype: int64"
      ]
     },
     "metadata": {},
     "output_type": "display_data"
    }
   ],
   "source": [
    "overlap_NE_counts = pd.Series([y for x in article_NE_data.loc[:, 'text_question_NE'].values for y in x]).value_counts()\n",
    "display(overlap_NE_counts.head(20))"
   ]
  },
  {
   "cell_type": "markdown",
   "metadata": {},
   "source": [
    "Not surprisingly, most of the questions address important politicians and geopolitical entities (including \"Facebook\")."
   ]
  },
  {
   "cell_type": "markdown",
   "metadata": {},
   "source": [
    "Is the distribution of \"relevant questions\" skewed toward particular articles?"
   ]
  },
  {
   "cell_type": "code",
   "execution_count": 24,
   "metadata": {},
   "outputs": [
    {
     "data": {
      "image/png": "[encoded data removed]",
      "text/plain": [
       "<Figure size 432x288 with 1 Axes>"
      ]
     },
     "metadata": {
      "needs_background": "light"
     },
     "output_type": "display_data"
    }
   ],
   "source": [
    "NE_overlap_pct_per_article = article_NE_data.groupby('article_id').apply(lambda x: x[x.loc[:, 'text_question_NE'].apply(lambda y: len(y)) > 0].shape[0] / x.shape[0])\n",
    "import matplotlib\n",
    "%matplotlib inline\n",
    "import matplotlib.pyplot as plt\n",
    "plt.hist(NE_overlap_pct_per_article, bins=20)\n",
    "plt.xlabel('% questions with at least one NE overlap')\n",
    "plt.ylabel('Article count')\n",
    "plt.show()"
   ]
  },
  {
   "cell_type": "markdown",
   "metadata": {},
   "source": [
    "Skewed distribution! About half the articles have few/no questions with relevant NEs."
   ]
  },
  {
   "cell_type": "markdown",
   "metadata": {},
   "source": [
    "After re-training the model on just questions with NE overlap, how do the generated questions look?"
   ]
  },
  {
   "cell_type": "code",
   "execution_count": 32,
   "metadata": {},
   "outputs": [
    {
     "data": {
      "text/plain": [
       "<All keys matched successfully>"
      ]
     },
     "execution_count": 32,
     "metadata": {},
     "output_type": "execute_result"
    }
   ],
   "source": [
    "## load model\n",
    "from transformers import AutoModelForSeq2SeqLM, BartTokenizer\n",
    "import torch\n",
    "# model = AutoModelForSeq2SeqLM.from_pretrained('allenai/led-base-16384', cache_dir='../../data/longformer_cache/')\n",
    "tokenizer = torch.load('../../data/nyt_comments/LongFormer_tokenizer.pt')\n",
    "model.resize_token_embeddings(len(tokenizer))\n",
    "model_file = '../../data/nyt_comments/NE_overlap/longformer_model/question_generation_model/checkpoint-27500/pytorch_model.bin'\n",
    "model_state = torch.load(model_file)\n",
    "model.load_state_dict(model_state)"
   ]
  },
  {
   "cell_type": "code",
   "execution_count": 33,
   "metadata": {},
   "outputs": [
    {
     "name": "stdout",
     "output_type": "stream",
     "text": [
      "6342\n"
     ]
    }
   ],
   "source": [
    "NE_overlap_test_data_file = '../../data/nyt_comments/author_type_NE_overlap_NYT_long_input_val_data.pt'\n",
    "NE_overlap_test_data = torch.load(NE_overlap_test_data_file)['train']\n",
    "print(len(NE_overlap_test_data))"
   ]
  },
  {
   "cell_type": "code",
   "execution_count": 72,
   "metadata": {
    "scrolled": true
   },
   "outputs": [
    {
     "name": "stderr",
     "output_type": "stream",
     "text": [
      "100%|██████████| 100/100 [08:16<00:00,  4.97s/it]\n"
     ]
    }
   ],
   "source": [
    "## generate questions for example input\n",
    "# first: sample equal number of questions per article: 10 articles, 10 questions\n",
    "import numpy as np\n",
    "np.random.seed(123)\n",
    "sample_size = 100\n",
    "article_sample_size = 10\n",
    "questions_per_article = int(sample_size / article_sample_size)\n",
    "NE_overlap_test_data_article_ids = np.array(NE_overlap_test_data['article_id'])\n",
    "sample_article_ids = np.random.choice(NE_overlap_test_data_article_ids, article_sample_size, replace=False)\n",
    "NE_overlap_test_data_idx = list(range(len(NE_overlap_test_data)))\n",
    "sample_question_idx = []\n",
    "for article_id_i in sample_article_ids:\n",
    "    question_idx_i = np.where(NE_overlap_test_data_article_ids==article_id_i)[0]\n",
    "    sample_question_idx_i = np.random.choice(question_idx_i, questions_per_article, replace=False)\n",
    "    sample_question_idx += list(sample_question_idx_i)\n",
    "sample_NE_overlap_test_data = NE_overlap_test_data.select(sample_question_idx)\n",
    "from tqdm import tqdm\n",
    "num_beams = 8\n",
    "temperature = 1.0\n",
    "sample_size = 100\n",
    "NE_overlap_test_data_output = []\n",
    "max_target_length = 64\n",
    "for i in tqdm(range(sample_size)):\n",
    "    output_i = model.generate(input_ids=torch.LongTensor(sample_NE_overlap_test_data['source_ids'][i]).reshape(1,-1), \n",
    "                              attention_mask=torch.LongTensor(sample_NE_overlap_test_data['attention_mask'][i]).reshape(1,-1),\n",
    "                              num_beams=num_beams, temperature=temperature, max_length=max_target_length)\n",
    "    NE_overlap_test_data_output.append(output_i)"
   ]
  },
  {
   "cell_type": "code",
   "execution_count": 73,
   "metadata": {},
   "outputs": [
    {
     "name": "stdout",
     "output_type": "stream",
     "text": [
      "question 0\n",
      "source text =  -- The United States and European allies launched airstrikes on Friday night against Syrian research, storage and military targets as President Trump sought to punish President Bashar al-Assad for a suspected chemical attack near Damascus last weekend that killed more than 40 people. Britain and Fr...<COMMENT_LEN_1_AUTHOR>\n",
      "\ttarget question = Recall the Senate vote on whether the US should attack Iraq?\n",
      "\tpredicted question = Why does the US have the right to get involved in another country ’ s politics?\n",
      "question 1\n",
      "source text =  -- The United States and European allies launched airstrikes on Friday night against Syrian research, storage and military targets as President Trump sought to punish President Bashar al-Assad for a suspected chemical attack near Damascus last weekend that killed more than 40 people. Britain and Fr...<NONUS_AUTHOR>\n",
      "\ttarget question = Hundreds of thousands have died and suddenly one attack is enough to provoke airstrikes by the US?\n",
      "\tpredicted question = Why does the US have the right to get involved in another country ’ s politics?\n",
      "question 2\n",
      "source text =  -- The United States and European allies launched airstrikes on Friday night against Syrian research, storage and military targets as President Trump sought to punish President Bashar al-Assad for a suspected chemical attack near Damascus last weekend that killed more than 40 people. Britain and Fr...<COMMENT_LEN_0_AUTHOR>\n",
      "\ttarget question = Sudan Government is the real enemy, China, Saudi Kingdom, Others had done more than what Assad had done-the real enemy is the theory of the forged book from David Songs?\n",
      "\tpredicted question = Why does the US have the right to get involved in another country ’ s politics?\n",
      "question 3\n",
      "source text =  -- The United States and European allies launched airstrikes on Friday night against Syrian research, storage and military targets as President Trump sought to punish President Bashar al-Assad for a suspected chemical attack near Damascus last weekend that killed more than 40 people. Britain and Fr...<COMMENT_COUNT_0_AUTHOR>\n",
      "\ttarget question = It also, given the timing of the attack, seems to have been Assad deliberately thumbing his nose at the U. S. Why would he do that?\n",
      "\tpredicted question = Why does the US have the right to get involved in another country ’ s politics?\n",
      "question 4\n",
      "source text =  -- The United States and European allies launched airstrikes on Friday night against Syrian research, storage and military targets as President Trump sought to punish President Bashar al-Assad for a suspected chemical attack near Damascus last weekend that killed more than 40 people. Britain and Fr...<COMMENT_COUNT_0_AUTHOR>\n",
      "\ttarget question = It supplies arms to Saudi Arabia, which has slaughtered many civilians in Yemen, supports SIsi in Egypt and has allowed Iraq to use chemical weapons against Iran, nuked Japan and now it claims outrage in Syria?\n",
      "\tpredicted question = Why does the US have the right to get involved in another country ’ s politics?\n",
      "question 5\n",
      "source text =  -- The United States and European allies launched airstrikes on Friday night against Syrian research, storage and military targets as President Trump sought to punish President Bashar al-Assad for a suspected chemical attack near Damascus last weekend that killed more than 40 people. Britain and Fr...<US_AUTHOR>\n",
      "\ttarget question = Golly-didn't trump go after President Obama for telegraphing a possible attack?\n",
      "\tpredicted question = Why does the US have the right to get involved in another country ’ s politics?\n",
      "question 6\n",
      "source text =  -- The United States and European allies launched airstrikes on Friday night against Syrian research, storage and military targets as President Trump sought to punish President Bashar al-Assad for a suspected chemical attack near Damascus last weekend that killed more than 40 people. Britain and Fr...<COMMENT_LEN_1_AUTHOR>\n",
      "\ttarget question = Whyever would Putin do that?\n",
      "\tpredicted question = Why does the US have the right to get involved in another country ’ s politics?\n",
      "question 7\n",
      "source text =  -- The United States and European allies launched airstrikes on Friday night against Syrian research, storage and military targets as President Trump sought to punish President Bashar al-Assad for a suspected chemical attack near Damascus last weekend that killed more than 40 people. Britain and Fr...<COMMENT_COUNT_1_AUTHOR>\n",
      "\ttarget question = How will Congress and specifically the GOP members respond to this illegal act by Trump?\n",
      "\tpredicted question = Why does the US have the right to get involved in another country ’ s politics?\n",
      "question 8\n",
      "source text =  -- The United States and European allies launched airstrikes on Friday night against Syrian research, storage and military targets as President Trump sought to punish President Bashar al-Assad for a suspected chemical attack near Damascus last weekend that killed more than 40 people. Britain and Fr...<COMMENT_LEN_1_AUTHOR>\n",
      "\ttarget question = Trump says, “ We are prepared to sustain this response,” but his Defense Secretary says it's a one night operation?\n",
      "\tpredicted question = Why does the US have the right to get involved in another country ’ s politics?\n",
      "question 9\n",
      "source text =  -- The United States and European allies launched airstrikes on Friday night against Syrian research, storage and military targets as President Trump sought to punish President Bashar al-Assad for a suspected chemical attack near Damascus last weekend that killed more than 40 people. Britain and Fr...<COMMENT_COUNT_0_AUTHOR>\n",
      "\ttarget question = Does anyone seriously believe that Trump is standing up for\" moral values\" in which he believes?\n",
      "\tpredicted question = Why does the US have the right to get involved in another country ’ s politics?\n",
      "question 10\n",
      "source text =  -- Paul D. Ryan took the helm of the House two and a half years ago, not because he wanted it, but because he was seen as the only lawmaker who could keep Republicans from devouring themselves. They had shut down the government, nearly precipitated a debt crisis and toppled a speaker, John A. Boehn...<COMMENT_LEN_0_AUTHOR>\n",
      "\ttarget question = Gee, I wonder if he's going to haul off and tell Trump what he really thinks because He's Not Afraid Anymore?\n",
      "\tpredicted question = The\" courage and tenacity of Devin Nunes\"?\n",
      "question 11\n",
      "source text =  -- Paul D. Ryan took the helm of the House two and a half years ago, not because he wanted it, but because he was seen as the only lawmaker who could keep Republicans from devouring themselves. They had shut down the government, nearly precipitated a debt crisis and toppled a speaker, John A. Boehn...<US_AUTHOR>\n",
      "\ttarget question = Maybe that secretary he gleefully publicized who paid for her Costco membership with Ryan's enormous tax cuts will want to run for his seat?\n",
      "\tpredicted question = The\" courage and tenacity of Devin Nunes\"?\n",
      "question 12\n",
      "source text =  -- Paul D. Ryan took the helm of the House two and a half years ago, not because he wanted it, but because he was seen as the only lawmaker who could keep Republicans from devouring themselves. They had shut down the government, nearly precipitated a debt crisis and toppled a speaker, John A. Boehn...<COMMENT_LEN_0_AUTHOR>\n",
      "\ttarget question = Could it be that Trump has dirt of many of these folks?\n",
      "\tpredicted question = The\" courage and tenacity of Devin Nunes\"?\n",
      "question 13\n",
      "source text =  -- Paul D. Ryan took the helm of the House two and a half years ago, not because he wanted it, but because he was seen as the only lawmaker who could keep Republicans from devouring themselves. They had shut down the government, nearly precipitated a debt crisis and toppled a speaker, John A. Boehn...<US_AUTHOR>\n",
      "\ttarget question = And did he stand up to Trump's assaults on our democracy?\n",
      "\tpredicted question = The\" courage and tenacity of Devin Nunes\"?\n",
      "question 14\n",
      "source text =  -- Paul D. Ryan took the helm of the House two and a half years ago, not because he wanted it, but because he was seen as the only lawmaker who could keep Republicans from devouring themselves. They had shut down the government, nearly precipitated a debt crisis and toppled a speaker, John A. Boehn...<COMMENT_LEN_0_AUTHOR>\n",
      "\ttarget question = How about he's had to deal with Trump's family for a year and a half?\n",
      "\tpredicted question = The\" courage and tenacity of Devin Nunes\"?\n"
     ]
    },
    {
     "name": "stdout",
     "output_type": "stream",
     "text": [
      "question 15\n",
      "source text =  -- Paul D. Ryan took the helm of the House two and a half years ago, not because he wanted it, but because he was seen as the only lawmaker who could keep Republicans from devouring themselves. They had shut down the government, nearly precipitated a debt crisis and toppled a speaker, John A. Boehn...<COMMENT_COUNT_0_AUTHOR>\n",
      "\ttarget question = Not in all the hateful speech and all the lies and all the corruption he's passively accepted from Trump?\n",
      "\tpredicted question = The\" courage and tenacity of Devin Nunes\"?\n",
      "question 16\n",
      "source text =  -- Paul D. Ryan took the helm of the House two and a half years ago, not because he wanted it, but because he was seen as the only lawmaker who could keep Republicans from devouring themselves. They had shut down the government, nearly precipitated a debt crisis and toppled a speaker, John A. Boehn...<COMMENT_LEN_0_AUTHOR>\n",
      "\ttarget question = Does anybody think that Ryan could be preparing to challenge Trump for the party's nomination in 2020?\n",
      "\tpredicted question = The\" courage and tenacity of Devin Nunes\"?\n",
      "question 17\n",
      "source text =  -- Paul D. Ryan took the helm of the House two and a half years ago, not because he wanted it, but because he was seen as the only lawmaker who could keep Republicans from devouring themselves. They had shut down the government, nearly precipitated a debt crisis and toppled a speaker, John A. Boehn...<COMMENT_COUNT_1_AUTHOR>\n",
      "\ttarget question = Will Ryan renounce his lifetime pension benefits and health insurance, as he sought to deny Social Security and Medicare to the rest of us?\n",
      "\tpredicted question = Is there any voter that still thinks Donald Trump is sane?\n",
      "question 18\n",
      "source text =  -- Paul D. Ryan took the helm of the House two and a half years ago, not because he wanted it, but because he was seen as the only lawmaker who could keep Republicans from devouring themselves. They had shut down the government, nearly precipitated a debt crisis and toppled a speaker, John A. Boehn...<COMMENT_COUNT_0_AUTHOR>\n",
      "\ttarget question = Pelosi commends Ryan for his “ commitment to our country,” really?\n",
      "\tpredicted question = The\" courage and tenacity of Devin Nunes\"?\n",
      "question 19\n",
      "source text =  -- Paul D. Ryan took the helm of the House two and a half years ago, not because he wanted it, but because he was seen as the only lawmaker who could keep Republicans from devouring themselves. They had shut down the government, nearly precipitated a debt crisis and toppled a speaker, John A. Boehn...<COMMENT_LEN_1_AUTHOR>\n",
      "\ttarget question = How do you look yourself in the mirror, Mr. Ryan?\n",
      "\tpredicted question = Is there any voter that still thinks Donald Trump is sane?\n",
      "question 20\n",
      "source text =  Trump has a boatload of problems. Ann Coulter, the author of a 2016 book titled\" In Trump We Trust,\" is now one of them. A week ago, when he signed a $ 1. 3 trillion spending bill with nothing for his promised border wall, her frustrations with him, expressed frequently in her syndicated columns, t...<US_AUTHOR>\n",
      "\ttarget question = With dozens of conservative think tanks out there, Ann Coulter is the best Columbia University (or perhaps its College Republicans club) can do?\n",
      "\tpredicted question = If Bruni is such a great judge of character then how does he explain Andrew McCabe?\n",
      "question 21\n",
      "source text =  Trump has a boatload of problems. Ann Coulter, the author of a 2016 book titled\" In Trump We Trust,\" is now one of them. A week ago, when he signed a $ 1. 3 trillion spending bill with nothing for his promised border wall, her frustrations with him, expressed frequently in her syndicated columns, t...<COMMENT_COUNT_0_AUTHOR>\n",
      "\ttarget question = Why does the media continue pandering to these trifling and self-entitled individuals who behave as though they alone deserve to be called Americans albeit while hiding under the moniker of Trump's GOP?\n",
      "\tpredicted question = If Bruni is such a great judge of character then how does he explain Andrew McCabe?\n",
      "question 22\n",
      "source text =  Trump has a boatload of problems. Ann Coulter, the author of a 2016 book titled\" In Trump We Trust,\" is now one of them. A week ago, when he signed a $ 1. 3 trillion spending bill with nothing for his promised border wall, her frustrations with him, expressed frequently in her syndicated columns, t...<COMMENT_COUNT_0_AUTHOR>\n",
      "\ttarget question = What motivates Ms. Coulter?\n",
      "\tpredicted question = If Bruni is such a great judge of character then how does he explain Andrew McCabe?\n",
      "question 23\n",
      "source text =  Trump has a boatload of problems. Ann Coulter, the author of a 2016 book titled\" In Trump We Trust,\" is now one of them. A week ago, when he signed a $ 1. 3 trillion spending bill with nothing for his promised border wall, her frustrations with him, expressed frequently in her syndicated columns, t...<COMMENT_COUNT_0_AUTHOR>\n",
      "\ttarget question = Should we be thankful that trump has shattered the dreams of an overt racist whose main priority is keeping America white?\n",
      "\tpredicted question = If Bruni is such a great judge of character then how does he explain Andrew McCabe?\n",
      "question 24\n",
      "source text =  Trump has a boatload of problems. Ann Coulter, the author of a 2016 book titled\" In Trump We Trust,\" is now one of them. A week ago, when he signed a $ 1. 3 trillion spending bill with nothing for his promised border wall, her frustrations with him, expressed frequently in her syndicated columns, t...<COMMENT_COUNT_0_AUTHOR>\n",
      "\ttarget question = Why is Ann Coulter still relevant?\n",
      "\tpredicted question = If Bruni is such a great judge of character then how does he explain Andrew McCabe?\n",
      "question 25\n",
      "source text =  Trump has a boatload of problems. Ann Coulter, the author of a 2016 book titled\" In Trump We Trust,\" is now one of them. A week ago, when he signed a $ 1. 3 trillion spending bill with nothing for his promised border wall, her frustrations with him, expressed frequently in her syndicated columns, t...<COMMENT_COUNT_0_AUTHOR>\n",
      "\ttarget question = If, like most reasonable individuals, the people who make editorial decisions at the Times and at other thoughtful media outlets view Ann Coulter as the hateful crank that she so obviously is, why is she given so much ink and airtime?\n",
      "\tpredicted question = If Bruni is such a great judge of character then how does he explain Andrew McCabe?\n",
      "question 26\n",
      "source text =  Trump has a boatload of problems. Ann Coulter, the author of a 2016 book titled\" In Trump We Trust,\" is now one of them. A week ago, when he signed a $ 1. 3 trillion spending bill with nothing for his promised border wall, her frustrations with him, expressed frequently in her syndicated columns, t...<COMMENT_LEN_1_AUTHOR>\n",
      "\ttarget question = Who are the Boogeymen that Trump and Coulter want to be protected from?\n",
      "\tpredicted question = If Bruni is such a great judge of character then how does he explain Andrew McCabe?\n",
      "question 27\n",
      "source text =  Trump has a boatload of problems. Ann Coulter, the author of a 2016 book titled\" In Trump We Trust,\" is now one of them. A week ago, when he signed a $ 1. 3 trillion spending bill with nothing for his promised border wall, her frustrations with him, expressed frequently in her syndicated columns, t...<COMMENT_LEN_1_AUTHOR>\n",
      "\ttarget question = So AC thinks as long as he builds the wall, and we pay for it, Trump voters will forgive his lying, corruption, cronyism, sexism, racism, nepotism, opportunism and flagrant disregard for the law?\n",
      "\tpredicted question = If Bruni is such a great judge of character then how does he explain Andrew McCabe?\n",
      "question 28\n",
      "source text =  Trump has a boatload of problems. Ann Coulter, the author of a 2016 book titled\" In Trump We Trust,\" is now one of them. A week ago, when he signed a $ 1. 3 trillion spending bill with nothing for his promised border wall, her frustrations with him, expressed frequently in her syndicated columns, t...<US_AUTHOR>\n",
      "\ttarget question = Did Trump supporters really know and not care that Mexico would never pay for the wall?\n",
      "\tpredicted question = If Bruni is such a great judge of character then how does he explain Andrew McCabe?\n",
      "question 29\n",
      "source text =  Trump has a boatload of problems. Ann Coulter, the author of a 2016 book titled\" In Trump We Trust,\" is now one of them. A week ago, when he signed a $ 1. 3 trillion spending bill with nothing for his promised border wall, her frustrations with him, expressed frequently in her syndicated columns, t...<US_AUTHOR>\n",
      "\ttarget question = If Trump had told his supporters out in places like rural Pennsylvania that he was going to build a wall using their tax dollars, not money from Mexico, they'd be just as happy?\n",
      "\tpredicted question = If Bruni is such a great judge of character then how does he explain Andrew McCabe?\n",
      "question 30\n",
      "source text =  Comey is about to be ubiquitous. His book will be published next week, and parts may leak this week. Starting Sunday, he will begin an epic publicity tour, including interviews with Stephen Colbert, David Remnick, Rachel Maddow, Mike Allen, George Stephanopoulos and\" The View.\" All of which will ra...<COMMENT_LEN_1_AUTHOR>\n",
      "\ttarget question = Why did Clinton fight so hard to disarm Sanders by her cheating and illegal trickery all along the primary path?\n",
      "\tpredicted question = Does he not see the jaw-dropping irony that concealing Hillary's emails might delegitimize her, but not concealing the investigation of Russian interference to elect Trump?\n"
     ]
    },
    {
     "name": "stdout",
     "output_type": "stream",
     "text": [
      "question 31\n",
      "source text =  Comey is about to be ubiquitous. His book will be published next week, and parts may leak this week. Starting Sunday, he will begin an epic publicity tour, including interviews with Stephen Colbert, David Remnick, Rachel Maddow, Mike Allen, George Stephanopoulos and\" The View.\" All of which will ra...<US_AUTHOR>\n",
      "\ttarget question = How could a principled public servant in the run-up to the election go public with Clinton's email issues while staying silent about Trumps' Russian connections?\n",
      "\tpredicted question = Does he not see the jaw-dropping irony that concealing Hillary's emails might delegitimize her, but not concealing the investigation of Russian interference to elect Trump?\n",
      "question 32\n",
      "source text =  Comey is about to be ubiquitous. His book will be published next week, and parts may leak this week. Starting Sunday, he will begin an epic publicity tour, including interviews with Stephen Colbert, David Remnick, Rachel Maddow, Mike Allen, George Stephanopoulos and\" The View.\" All of which will ra...<COMMENT_LEN_1_AUTHOR>\n",
      "\ttarget question = And Clinton losing is Comey's fault?\n",
      "\tpredicted question = Does he not see the jaw-dropping irony that concealing Hillary's emails might delegitimize her, but not concealing the investigation of Russian interference to elect Trump?\n",
      "question 33\n",
      "source text =  Comey is about to be ubiquitous. His book will be published next week, and parts may leak this week. Starting Sunday, he will begin an epic publicity tour, including interviews with Stephen Colbert, David Remnick, Rachel Maddow, Mike Allen, George Stephanopoulos and\" The View.\" All of which will ra...<US_AUTHOR>\n",
      "\ttarget question = Who, we may ask, was more influential in the election of Trump?\n",
      "\tpredicted question = Does he not see the jaw-dropping irony that concealing Hillary's emails might delegitimize her, but not concealing the investigation of Russian interference to elect Trump?\n",
      "question 34\n",
      "source text =  Comey is about to be ubiquitous. His book will be published next week, and parts may leak this week. Starting Sunday, he will begin an epic publicity tour, including interviews with Stephen Colbert, David Remnick, Rachel Maddow, Mike Allen, George Stephanopoulos and\" The View.\" All of which will ra...<US_AUTHOR>\n",
      "\ttarget question = Where was he in regards to Wikileaks, the Russian hacks, the Republicans and the Clinton emails, and the voting scandals?\n",
      "\tpredicted question = Does he not see the jaw-dropping irony that concealing Hillary's emails might delegitimize her, but not concealing the investigation of Russian interference to elect Trump?\n",
      "question 35\n",
      "source text =  Comey is about to be ubiquitous. His book will be published next week, and parts may leak this week. Starting Sunday, he will begin an epic publicity tour, including interviews with Stephen Colbert, David Remnick, Rachel Maddow, Mike Allen, George Stephanopoulos and\" The View.\" All of which will ra...<US_AUTHOR>\n",
      "\ttarget question = Comey helped defeat Hillary Clinton?\n",
      "\tpredicted question = Does he not see the jaw-dropping irony that concealing Hillary's emails might delegitimize her, but not concealing the investigation of Russian interference to elect Trump?\n",
      "question 36\n",
      "source text =  Comey is about to be ubiquitous. His book will be published next week, and parts may leak this week. Starting Sunday, he will begin an epic publicity tour, including interviews with Stephen Colbert, David Remnick, Rachel Maddow, Mike Allen, George Stephanopoulos and\" The View.\" All of which will ra...<NONUS_AUTHOR>\n",
      "\ttarget question = Why does Comey think it is appropriate to capitalize on the current Special Council Investigation and use it as a chance for such shameless self promotion?\n",
      "\tpredicted question = Does he not see the jaw-dropping irony that concealing Hillary's emails might delegitimize her, but not concealing the investigation of Russian interference to elect Trump?\n",
      "question 37\n",
      "source text =  Comey is about to be ubiquitous. His book will be published next week, and parts may leak this week. Starting Sunday, he will begin an epic publicity tour, including interviews with Stephen Colbert, David Remnick, Rachel Maddow, Mike Allen, George Stephanopoulos and\" The View.\" All of which will ra...<COMMENT_LEN_0_AUTHOR>\n",
      "\ttarget question = Why did Comey reveal status of Clinton investigation but say nothing about Trump campaign which was itself under investigation at the time for its dealings with the Russians?\n",
      "\tpredicted question = Does he not see the jaw-dropping irony that concealing Hillary's emails might delegitimize her, but not concealing the investigation of Russian interference to elect Trump?\n",
      "question 38\n",
      "source text =  Comey is about to be ubiquitous. His book will be published next week, and parts may leak this week. Starting Sunday, he will begin an epic publicity tour, including interviews with Stephen Colbert, David Remnick, Rachel Maddow, Mike Allen, George Stephanopoulos and\" The View.\" All of which will ra...<COMMENT_COUNT_0_AUTHOR>\n",
      "\ttarget question = So why did Comey go public to exonerate her?\n",
      "\tpredicted question = Does he not see the jaw-dropping irony that concealing Hillary's emails might delegitimize her, but not concealing the investigation of Russian interference to elect Trump?\n",
      "question 39\n",
      "source text =  Comey is about to be ubiquitous. His book will be published next week, and parts may leak this week. Starting Sunday, he will begin an epic publicity tour, including interviews with Stephen Colbert, David Remnick, Rachel Maddow, Mike Allen, George Stephanopoulos and\" The View.\" All of which will ra...<COMMENT_COUNT_0_AUTHOR>\n",
      "\ttarget question = Was it sexism that caused him to come forward with his big Clinton nothing in the most damaging way?\n",
      "\tpredicted question = Does he not see the jaw-dropping irony that concealing Hillary's emails might delegitimize her, but not concealing the investigation of Russian interference to elect Trump?\n",
      "question 40\n",
      "source text =  -- The United States and European allies launched airstrikes on Friday night against Syrian research, storage and military targets as President Trump sought to punish President Bashar al-Assad for a suspected chemical attack near Damascus last weekend that killed more than 40 people. Britain and Fr...<NONUS_AUTHOR>\n",
      "\ttarget question = How will Congress and specifically the GOP members respond to this illegal act by Trump?\n",
      "\tpredicted question = Why does the US have the right to get involved in another country ’ s politics?\n",
      "question 41\n",
      "source text =  -- The United States and European allies launched airstrikes on Friday night against Syrian research, storage and military targets as President Trump sought to punish President Bashar al-Assad for a suspected chemical attack near Damascus last weekend that killed more than 40 people. Britain and Fr...<NONUS_AUTHOR>\n",
      "\ttarget question = How are US missile strikes against Syria anything but an act of war against a sovereign nation?\n",
      "\tpredicted question = Why does the US have the right to get involved in another country ’ s politics?\n",
      "question 42\n",
      "source text =  -- The United States and European allies launched airstrikes on Friday night against Syrian research, storage and military targets as President Trump sought to punish President Bashar al-Assad for a suspected chemical attack near Damascus last weekend that killed more than 40 people. Britain and Fr...<COMMENT_LEN_1_AUTHOR>\n",
      "\ttarget question = Hundreds of thousands have died and suddenly one attack is enough to provoke airstrikes by the US?\n",
      "\tpredicted question = Why does the US have the right to get involved in another country ’ s politics?\n",
      "question 43\n",
      "source text =  -- The United States and European allies launched airstrikes on Friday night against Syrian research, storage and military targets as President Trump sought to punish President Bashar al-Assad for a suspected chemical attack near Damascus last weekend that killed more than 40 people. Britain and Fr...<COMMENT_LEN_0_AUTHOR>\n",
      "\ttarget question = Are we saving Syria or protecting Israel?\n",
      "\tpredicted question = Why does the US have the right to get involved in another country ’ s politics?\n",
      "question 44\n",
      "source text =  -- The United States and European allies launched airstrikes on Friday night against Syrian research, storage and military targets as President Trump sought to punish President Bashar al-Assad for a suspected chemical attack near Damascus last weekend that killed more than 40 people. Britain and Fr...<US_AUTHOR>\n",
      "\ttarget question = Ever notice how the Pentagon always, always says its first strikes are successful?\n",
      "\tpredicted question = Why does the US have the right to get involved in another country ’ s politics?\n",
      "question 45\n",
      "source text =  -- The United States and European allies launched airstrikes on Friday night against Syrian research, storage and military targets as President Trump sought to punish President Bashar al-Assad for a suspected chemical attack near Damascus last weekend that killed more than 40 people. Britain and Fr...<COMMENT_COUNT_1_AUTHOR>\n",
      "\ttarget question = Did Trump jest tweet “ mission accomplished “?\n",
      "\tpredicted question = Why does the US have the right to get involved in another country ’ s politics?\n",
      "question 46\n",
      "source text =  -- The United States and European allies launched airstrikes on Friday night against Syrian research, storage and military targets as President Trump sought to punish President Bashar al-Assad for a suspected chemical attack near Damascus last weekend that killed more than 40 people. Britain and Fr...<COMMENT_LEN_0_AUTHOR>\n",
      "\ttarget question = Why did Congress refuse to allow Obama to strike Syria?\n",
      "\tpredicted question = Why does the US have the right to get involved in another country ’ s politics?\n"
     ]
    },
    {
     "name": "stdout",
     "output_type": "stream",
     "text": [
      "question 47\n",
      "source text =  -- The United States and European allies launched airstrikes on Friday night against Syrian research, storage and military targets as President Trump sought to punish President Bashar al-Assad for a suspected chemical attack near Damascus last weekend that killed more than 40 people. Britain and Fr...<COMMENT_COUNT_1_AUTHOR>\n",
      "\ttarget question = Question to ponder : What if Assad had used Chemical Weapons on ISIS?\n",
      "\tpredicted question = Why does the US have the right to get involved in another country ’ s politics?\n",
      "question 48\n",
      "source text =  -- The United States and European allies launched airstrikes on Friday night against Syrian research, storage and military targets as President Trump sought to punish President Bashar al-Assad for a suspected chemical attack near Damascus last weekend that killed more than 40 people. Britain and Fr...<US_AUTHOR>\n",
      "\ttarget question = Did he absolutely wink, wink, nod, nod, make sure Putin knew where, when, how the attack was coming?\n",
      "\tpredicted question = Why does the US have the right to get involved in another country ’ s politics?\n",
      "question 49\n",
      "source text =  -- The United States and European allies launched airstrikes on Friday night against Syrian research, storage and military targets as President Trump sought to punish President Bashar al-Assad for a suspected chemical attack near Damascus last weekend that killed more than 40 people. Britain and Fr...<COMMENT_LEN_1_AUTHOR>\n",
      "\ttarget question = This chemical attack allegedly took place against the last holdout of Syrian rebels and it had already been agreed these people would be moved out : seriously, what sense was there in Assad launching a chemical weapons attack on them, at the end of the war, during surrender, and risk the world's condemnation?\n",
      "\tpredicted question = Why does the US have the right to get involved in another country ’ s politics?\n",
      "question 50\n",
      "source text =  -- President Trump was watching television on Sunday when he saw Nikki R. Haley, his ambassador to the United Nations, announce that he would impose fresh sanctions on Russia. The president grew angry, according to an official informed about the moment. As far as he was concerned, he had decided no...<NONUS_AUTHOR>\n",
      "\ttarget question = Is there open warfare in the State Department?\n",
      "\tpredicted question = Why is it that Trump does not do business with a US bank?\n",
      "question 51\n",
      "source text =  -- President Trump was watching television on Sunday when he saw Nikki R. Haley, his ambassador to the United Nations, announce that he would impose fresh sanctions on Russia. The president grew angry, according to an official informed about the moment. As far as he was concerned, he had decided no...<COMMENT_LEN_0_AUTHOR>\n",
      "\ttarget question = To Trump voters and supporters throughout America, is this the kind of Federal government you wanted?\n",
      "\tpredicted question = Why is it that Trump does not do business with a US bank?\n",
      "question 52\n",
      "source text =  -- President Trump was watching television on Sunday when he saw Nikki R. Haley, his ambassador to the United Nations, announce that he would impose fresh sanctions on Russia. The president grew angry, according to an official informed about the moment. As far as he was concerned, he had decided no...<COMMENT_COUNT_0_AUTHOR>\n",
      "\ttarget question = It is no fun being a recipient of flakiness, is it Ms. Haley?\n",
      "\tpredicted question = Why is it that Trump does not do business with a US bank?\n",
      "question 53\n",
      "source text =  -- President Trump was watching television on Sunday when he saw Nikki R. Haley, his ambassador to the United Nations, announce that he would impose fresh sanctions on Russia. The president grew angry, according to an official informed about the moment. As far as he was concerned, he had decided no...<COMMENT_COUNT_1_AUTHOR>\n",
      "\ttarget question = What is going on with White House communications?\n",
      "\tpredicted question = Why is it that Trump does not do business with a US bank?\n",
      "question 54\n",
      "source text =  -- President Trump was watching television on Sunday when he saw Nikki R. Haley, his ambassador to the United Nations, announce that he would impose fresh sanctions on Russia. The president grew angry, according to an official informed about the moment. As far as he was concerned, he had decided no...<COMMENT_COUNT_0_AUTHOR>\n",
      "\ttarget question = Is it to be defined by last hour's tweet from Trump?\n",
      "\tpredicted question = Why is it that Trump does not do business with a US bank?\n",
      "question 55\n",
      "source text =  -- President Trump was watching television on Sunday when he saw Nikki R. Haley, his ambassador to the United Nations, announce that he would impose fresh sanctions on Russia. The president grew angry, according to an official informed about the moment. As far as he was concerned, he had decided no...<COMMENT_LEN_1_AUTHOR>\n",
      "\ttarget question = When will Ms. Haley climb off of the out of control merry-go-round operated by the Golden One and join the others whose reputations have been soiled by associating with him?\n",
      "\tpredicted question = Why is it that Trump does not do business with a US bank?\n",
      "question 56\n",
      "source text =  -- President Trump was watching television on Sunday when he saw Nikki R. Haley, his ambassador to the United Nations, announce that he would impose fresh sanctions on Russia. The president grew angry, according to an official informed about the moment. As far as he was concerned, he had decided no...<COMMENT_LEN_0_AUTHOR>\n",
      "\ttarget question = Did Putin tell Trump where to do the air strikes?\n",
      "\tpredicted question = Why is it that Trump does not do business with a US bank?\n",
      "question 57\n",
      "source text =  -- President Trump was watching television on Sunday when he saw Nikki R. Haley, his ambassador to the United Nations, announce that he would impose fresh sanctions on Russia. The president grew angry, according to an official informed about the moment. As far as he was concerned, he had decided no...<NONUS_AUTHOR>\n",
      "\ttarget question = Haley, are you waiting for someone to shed light on the strings Putin pulls to make Trump dance?\n",
      "\tpredicted question = Why is it that Trump does not do business with a US bank?\n",
      "question 58\n",
      "source text =  -- President Trump was watching television on Sunday when he saw Nikki R. Haley, his ambassador to the United Nations, announce that he would impose fresh sanctions on Russia. The president grew angry, according to an official informed about the moment. As far as he was concerned, he had decided no...<COMMENT_COUNT_0_AUTHOR>\n",
      "\ttarget question = Is she the best person in the Trump administration?\n",
      "\tpredicted question = Why is it that Trump does not do business with a US bank?\n",
      "question 59\n",
      "source text =  -- President Trump was watching television on Sunday when he saw Nikki R. Haley, his ambassador to the United Nations, announce that he would impose fresh sanctions on Russia. The president grew angry, according to an official informed about the moment. As far as he was concerned, he had decided no...<US_AUTHOR>\n",
      "\ttarget question = The question is : Why did Trump reverse course and decide not to punish the Russians?\n",
      "\tpredicted question = Why is it that Trump does not do business with a US bank?\n",
      "question 60\n",
      "source text =  wife's ultrasound turned up something abnormal in the baby's heart -- an otherwise innocuous feature that correlates with genetic conditions such as Down syndrome. A series of tests confirmed that our son indeed had Down syndrome. We were given the option of abortion, but my wife, Jan, already rega...<COMMENT_LEN_1_AUTHOR>\n",
      "\ttarget question = Does not the child with Down's have an unalienable right to life?\n",
      "\tpredicted question = And what, pray tell, shall we label the children who have Down syndrome?\n",
      "question 61\n",
      "source text =  wife's ultrasound turned up something abnormal in the baby's heart -- an otherwise innocuous feature that correlates with genetic conditions such as Down syndrome. A series of tests confirmed that our son indeed had Down syndrome. We were given the option of abortion, but my wife, Jan, already rega...<US_AUTHOR>\n",
      "\ttarget question = What does Chris Kaposy plan to do when his 20 year adult son with Down's Syndrome still can't take care of his basic needs without help?\n",
      "\tpredicted question = And what, pray tell, shall we label the children who have Down syndrome?\n",
      "question 62\n",
      "source text =  wife's ultrasound turned up something abnormal in the baby's heart -- an otherwise innocuous feature that correlates with genetic conditions such as Down syndrome. A series of tests confirmed that our son indeed had Down syndrome. We were given the option of abortion, but my wife, Jan, already rega...<COMMENT_COUNT_0_AUTHOR>\n",
      "\ttarget question = I'm all for adults with Down syndrome working and even geting married, but starting a family of their own one day?\n",
      "\tpredicted question = And what, pray tell, shall we label the children who have Down syndrome?\n"
     ]
    },
    {
     "name": "stdout",
     "output_type": "stream",
     "text": [
      "question 63\n",
      "source text =  wife's ultrasound turned up something abnormal in the baby's heart -- an otherwise innocuous feature that correlates with genetic conditions such as Down syndrome. A series of tests confirmed that our son indeed had Down syndrome. We were given the option of abortion, but my wife, Jan, already rega...<US_AUTHOR>\n",
      "\ttarget question = What happens to children with Down syndrome when their parents pass away, either when the children are young or when they are adults?\n",
      "\tpredicted question = And what, pray tell, shall we label the children who have Down syndrome?\n",
      "question 64\n",
      "source text =  wife's ultrasound turned up something abnormal in the baby's heart -- an otherwise innocuous feature that correlates with genetic conditions such as Down syndrome. A series of tests confirmed that our son indeed had Down syndrome. We were given the option of abortion, but my wife, Jan, already rega...<COMMENT_LEN_1_AUTHOR>\n",
      "\ttarget question = What happens to children with Down syndrome when their parents pass away, either when the children are young or when they are adults?\n",
      "\tpredicted question = And what, pray tell, shall we label the children who have Down syndrome?\n",
      "question 65\n",
      "source text =  wife's ultrasound turned up something abnormal in the baby's heart -- an otherwise innocuous feature that correlates with genetic conditions such as Down syndrome. A series of tests confirmed that our son indeed had Down syndrome. We were given the option of abortion, but my wife, Jan, already rega...<US_AUTHOR>\n",
      "\ttarget question = I wonder if it is easier to imagine bringing a child into the world with a disability-whether Down ’ s Syndrome or another disability-in a country that has nationalized healthcare and other educational and social supports like Canada?\n",
      "\tpredicted question = And what, pray tell, shall we label the children who have Down syndrome?\n",
      "question 66\n",
      "source text =  wife's ultrasound turned up something abnormal in the baby's heart -- an otherwise innocuous feature that correlates with genetic conditions such as Down syndrome. A series of tests confirmed that our son indeed had Down syndrome. We were given the option of abortion, but my wife, Jan, already rega...<NONUS_AUTHOR>\n",
      "\ttarget question = Does not the child with Down's have an unalienable right to life?\n",
      "\tpredicted question = And what, pray tell, shall we label the children who have Down syndrome?\n",
      "question 67\n",
      "source text =  wife's ultrasound turned up something abnormal in the baby's heart -- an otherwise innocuous feature that correlates with genetic conditions such as Down syndrome. A series of tests confirmed that our son indeed had Down syndrome. We were given the option of abortion, but my wife, Jan, already rega...<US_AUTHOR>\n",
      "\ttarget question = You say your son is normal, but carries that DNA --- would his twin brother have had Down syndrom then, but he would not have?\n",
      "\tpredicted question = And what, pray tell, shall we label the children who have Down syndrome?\n",
      "question 68\n",
      "source text =  wife's ultrasound turned up something abnormal in the baby's heart -- an otherwise innocuous feature that correlates with genetic conditions such as Down syndrome. A series of tests confirmed that our son indeed had Down syndrome. We were given the option of abortion, but my wife, Jan, already rega...<COMMENT_COUNT_0_AUTHOR>\n",
      "\ttarget question = You say your son is normal, but carries that DNA --- would his twin brother have had Down syndrom then, but he would not have?\n",
      "\tpredicted question = And what, pray tell, shall we label the children who have Down syndrome?\n",
      "question 69\n",
      "source text =  wife's ultrasound turned up something abnormal in the baby's heart -- an otherwise innocuous feature that correlates with genetic conditions such as Down syndrome. A series of tests confirmed that our son indeed had Down syndrome. We were given the option of abortion, but my wife, Jan, already rega...<US_AUTHOR>\n",
      "\ttarget question = I'm all for adults with Down syndrome working and even geting married, but starting a family of their own one day?\n",
      "\tpredicted question = And what, pray tell, shall we label the children who have Down syndrome?\n",
      "question 70\n",
      "source text =  long after she joined Richard Meier's architecture firm in 1989, Karin Bruckner was working at the office one Sunday, she said, when Mr. Meier came up beside her at a copy machine and started rubbing his body up and down against hers.\" I just stood there and froze,\" Ms. Bruckner said.\"' This is not...<US_AUTHOR>\n",
      "\ttarget question = What do you think Eisler could have done that would have changed the situation?\n",
      "\tpredicted question = What does Meier have to lose?\n",
      "question 71\n",
      "source text =  long after she joined Richard Meier's architecture firm in 1989, Karin Bruckner was working at the office one Sunday, she said, when Mr. Meier came up beside her at a copy machine and started rubbing his body up and down against hers.\" I just stood there and froze,\" Ms. Bruckner said.\"' This is not...<COMMENT_COUNT_1_AUTHOR>\n",
      "\ttarget question = They say that Richard Meier behavior does not reflect the ethos of the office?\n",
      "\tpredicted question = What does Meier have to lose?\n",
      "question 72\n",
      "source text =  long after she joined Richard Meier's architecture firm in 1989, Karin Bruckner was working at the office one Sunday, she said, when Mr. Meier came up beside her at a copy machine and started rubbing his body up and down against hers.\" I just stood there and froze,\" Ms. Bruckner said.\"' This is not...<COMMENT_COUNT_0_AUTHOR>\n",
      "\ttarget question = If Mr. Eisler had spoken up, might things have changed?\n",
      "\tpredicted question = What does Meier have to lose?\n",
      "question 73\n",
      "source text =  long after she joined Richard Meier's architecture firm in 1989, Karin Bruckner was working at the office one Sunday, she said, when Mr. Meier came up beside her at a copy machine and started rubbing his body up and down against hers.\" I just stood there and froze,\" Ms. Bruckner said.\"' This is not...<COMMENT_COUNT_0_AUTHOR>\n",
      "\ttarget question = And do you think it all of a sudden makes a person who is acting in this perverse way (like Mr Meier) change?\n",
      "\tpredicted question = What does Meier have to lose?\n",
      "question 74\n",
      "source text =  long after she joined Richard Meier's architecture firm in 1989, Karin Bruckner was working at the office one Sunday, she said, when Mr. Meier came up beside her at a copy machine and started rubbing his body up and down against hers.\" I just stood there and froze,\" Ms. Bruckner said.\"' This is not...<COMMENT_COUNT_0_AUTHOR>\n",
      "\ttarget question = Do you realistically think that no one in the firm in the know ever had an opportunity to engineer Meier being caught in flangrante delicto?\n",
      "\tpredicted question = What does Meier have to lose?\n",
      "question 75\n",
      "source text =  long after she joined Richard Meier's architecture firm in 1989, Karin Bruckner was working at the office one Sunday, she said, when Mr. Meier came up beside her at a copy machine and started rubbing his body up and down against hers.\" I just stood there and froze,\" Ms. Bruckner said.\"' This is not...<COMMENT_LEN_0_AUTHOR>\n",
      "\ttarget question = How does Mr. Eisler walk without having a spine?\n",
      "\tpredicted question = What does Meier have to lose?\n",
      "question 76\n",
      "source text =  long after she joined Richard Meier's architecture firm in 1989, Karin Bruckner was working at the office one Sunday, she said, when Mr. Meier came up beside her at a copy machine and started rubbing his body up and down against hers.\" I just stood there and froze,\" Ms. Bruckner said.\"' This is not...<US_AUTHOR>\n",
      "\ttarget question = How does Mr. Eisler walk without having a spine?\n",
      "\tpredicted question = What does Meier have to lose?\n",
      "question 77\n",
      "source text =  long after she joined Richard Meier's architecture firm in 1989, Karin Bruckner was working at the office one Sunday, she said, when Mr. Meier came up beside her at a copy machine and started rubbing his body up and down against hers.\" I just stood there and froze,\" Ms. Bruckner said.\"' This is not...<COMMENT_COUNT_0_AUTHOR>\n",
      "\ttarget question = “ Um, Richard, I have heard that you are acting inappropriately with women and I want you to stop it.”?\n",
      "\tpredicted question = What does Meier have to lose?\n",
      "question 78\n",
      "source text =  long after she joined Richard Meier's architecture firm in 1989, Karin Bruckner was working at the office one Sunday, she said, when Mr. Meier came up beside her at a copy machine and started rubbing his body up and down against hers.\" I just stood there and froze,\" Ms. Bruckner said.\"' This is not...<COMMENT_LEN_1_AUTHOR>\n",
      "\ttarget question = If Mr. Eisler had spoken up, might things have changed?\n",
      "\tpredicted question = What does Meier have to lose?\n"
     ]
    },
    {
     "name": "stdout",
     "output_type": "stream",
     "text": [
      "question 79\n",
      "source text =  long after she joined Richard Meier's architecture firm in 1989, Karin Bruckner was working at the office one Sunday, she said, when Mr. Meier came up beside her at a copy machine and started rubbing his body up and down against hers.\" I just stood there and froze,\" Ms. Bruckner said.\"' This is not...<COMMENT_COUNT_0_AUTHOR>\n",
      "\ttarget question = Yes, he voiced regrets for not speaking up, but realistically, what was he supposed to say to his boss, Richard Meier?\n",
      "\tpredicted question = What does Meier have to lose?\n",
      "question 80\n",
      "source text =  -- If there was any chance that President Trump and James B. Comey could have avoided all-out war, it ended Sunday night. That was when ABC News aired an interview with Mr. Comey, the president's fired F. B. I. director, as he uses a publicity blitz for his searing tell-all memoir,\" A Higher Loyalt...<US_AUTHOR>\n",
      "\ttarget question = What about the Trump ’ s 15 month assault against our Constitution, rule of law, citizens, allies, values, etc?\n",
      "\tpredicted question = Did ABC News ask Comey to explain why he refused to investigate HRC regarding her illicit, unapproved, unsecure email server?\n",
      "question 81\n",
      "source text =  -- If there was any chance that President Trump and James B. Comey could have avoided all-out war, it ended Sunday night. That was when ABC News aired an interview with Mr. Comey, the president's fired F. B. I. director, as he uses a publicity blitz for his searing tell-all memoir,\" A Higher Loyalt...<US_AUTHOR>\n",
      "\ttarget question = If Trump is in an\" all-out war\" with Comey, how many soldiers have been mobilized?\n",
      "\tpredicted question = Did ABC News ask Comey to explain why he refused to investigate HRC regarding her illicit, unapproved, unsecure email server?\n",
      "question 82\n",
      "source text =  -- If there was any chance that President Trump and James B. Comey could have avoided all-out war, it ended Sunday night. That was when ABC News aired an interview with Mr. Comey, the president's fired F. B. I. director, as he uses a publicity blitz for his searing tell-all memoir,\" A Higher Loyalt...<COMMENT_LEN_1_AUTHOR>\n",
      "\ttarget question = Some of his defenders argue that Trump didn't know protocols : but, wouldn't a half aware chief executive find out?\n",
      "\tpredicted question = Did ABC News ask Comey to explain why he refused to investigate HRC regarding her illicit, unapproved, unsecure email server?\n",
      "question 83\n",
      "source text =  -- If there was any chance that President Trump and James B. Comey could have avoided all-out war, it ended Sunday night. That was when ABC News aired an interview with Mr. Comey, the president's fired F. B. I. director, as he uses a publicity blitz for his searing tell-all memoir,\" A Higher Loyalt...<US_AUTHOR>\n",
      "\ttarget question = Comey claims he may have\" unconsciously assumed\" Hillary would win?\n",
      "\tpredicted question = Did ABC News ask Comey to explain why he refused to investigate HRC regarding her illicit, unapproved, unsecure email server?\n",
      "question 84\n",
      "source text =  -- If there was any chance that President Trump and James B. Comey could have avoided all-out war, it ended Sunday night. That was when ABC News aired an interview with Mr. Comey, the president's fired F. B. I. director, as he uses a publicity blitz for his searing tell-all memoir,\" A Higher Loyalt...<COMMENT_LEN_0_AUTHOR>\n",
      "\ttarget question = I wanted to hear Comey explain why on June 27, 2016 when Bill Clinton had his\" chance meeting\" on the tarmac of an airport in Arizona with Attorney General Loretta Lynch the press, in total violation of its Constitutional freedom of the press, was prohibited by Comey's FBI from photographing Bill going to and leaving Lynch's plane?\n",
      "\tpredicted question = Did ABC News ask Comey to explain why he refused to investigate HRC regarding her illicit, unapproved, unsecure email server?\n",
      "question 85\n",
      "source text =  -- If there was any chance that President Trump and James B. Comey could have avoided all-out war, it ended Sunday night. That was when ABC News aired an interview with Mr. Comey, the president's fired F. B. I. director, as he uses a publicity blitz for his searing tell-all memoir,\" A Higher Loyalt...<COMMENT_LEN_1_AUTHOR>\n",
      "\ttarget question = On what basis can Comey claim the moral high ground when he is no better than Trump in this respect?\n",
      "\tpredicted question = Did ABC News ask Comey to explain why he refused to investigate HRC regarding her illicit, unapproved, unsecure email server?\n",
      "question 86\n",
      "source text =  -- If there was any chance that President Trump and James B. Comey could have avoided all-out war, it ended Sunday night. That was when ABC News aired an interview with Mr. Comey, the president's fired F. B. I. director, as he uses a publicity blitz for his searing tell-all memoir,\" A Higher Loyalt...<COMMENT_LEN_1_AUTHOR>\n",
      "\ttarget question = played with prostitutes in Moscow, or that Trump actually has any sign of\" character\" that Comey could question in the first place?\n",
      "\tpredicted question = Did ABC News ask Comey to explain why he refused to investigate HRC regarding her illicit, unapproved, unsecure email server?\n",
      "question 87\n",
      "source text =  -- If there was any chance that President Trump and James B. Comey could have avoided all-out war, it ended Sunday night. That was when ABC News aired an interview with Mr. Comey, the president's fired F. B. I. director, as he uses a publicity blitz for his searing tell-all memoir,\" A Higher Loyalt...<US_AUTHOR>\n",
      "\ttarget question = Dear Mr. Comey,  Were Clinton, W. Bush and Nixon morally fit to be the president of this country?\n",
      "\tpredicted question = Did ABC News ask Comey to explain why he refused to investigate HRC regarding her illicit, unapproved, unsecure email server?\n",
      "question 88\n",
      "source text =  -- If there was any chance that President Trump and James B. Comey could have avoided all-out war, it ended Sunday night. That was when ABC News aired an interview with Mr. Comey, the president's fired F. B. I. director, as he uses a publicity blitz for his searing tell-all memoir,\" A Higher Loyalt...<COMMENT_LEN_0_AUTHOR>\n",
      "\ttarget question = Who is more credible, Trump or Comey?\n",
      "\tpredicted question = Did ABC News ask Comey to explain why he refused to investigate HRC regarding her illicit, unapproved, unsecure email server?\n",
      "question 89\n",
      "source text =  -- If there was any chance that President Trump and James B. Comey could have avoided all-out war, it ended Sunday night. That was when ABC News aired an interview with Mr. Comey, the president's fired F. B. I. director, as he uses a publicity blitz for his searing tell-all memoir,\" A Higher Loyalt...<US_AUTHOR>\n",
      "\ttarget question = How about a Republican run for President in the 2020 primary, Mr. Comey?\n",
      "\tpredicted question = Did ABC News ask Comey to explain why he refused to investigate HRC regarding her illicit, unapproved, unsecure email server?\n",
      "question 90\n",
      "source text =  federal judge in Manhattan indicated on Monday that she was not prepared to grant President Trump exclusive first access to documents seized in F. B. I. raids on the office of his personal lawyer, and said that she was considering appointing an independent lawyer to assist in reviewing the seized m...<COMMENT_COUNT_0_AUTHOR>\n",
      "\ttarget question = If Hannity just slipped Cohen ten bucks for real estate advice why oh why was he so anxious to keep this from his loyal viewers?\n",
      "\tpredicted question = How is it that we as a people have allowed an organization like Fox to be able to become the US version of Pravda?\n",
      "question 91\n",
      "source text =  federal judge in Manhattan indicated on Monday that she was not prepared to grant President Trump exclusive first access to documents seized in F. B. I. raids on the office of his personal lawyer, and said that she was considering appointing an independent lawyer to assist in reviewing the seized m...<COMMENT_LEN_1_AUTHOR>\n",
      "\ttarget question = What if there is evidence of malfeasance that interactions between Trump and his attorney might reveal — other payoffs, money laundering, whatever — would the special master then decide whether it may or may not be used?\n",
      "\tpredicted question = How is it that we as a people have allowed an organization like Fox to be able to become the US version of Pravda?\n",
      "question 92\n",
      "source text =  federal judge in Manhattan indicated on Monday that she was not prepared to grant President Trump exclusive first access to documents seized in F. B. I. raids on the office of his personal lawyer, and said that she was considering appointing an independent lawyer to assist in reviewing the seized m...<COMMENT_LEN_1_AUTHOR>\n",
      "\ttarget question = Is it possible, even likely, that Mr. Cohen suddenly threw out the Hannity name because he did not want to reveal his actual client?\n",
      "\tpredicted question = How is it that we as a people have allowed an organization like Fox to be able to become the US version of Pravda?\n",
      "question 93\n",
      "source text =  federal judge in Manhattan indicated on Monday that she was not prepared to grant President Trump exclusive first access to documents seized in F. B. I. raids on the office of his personal lawyer, and said that she was considering appointing an independent lawyer to assist in reviewing the seized m...<COMMENT_COUNT_0_AUTHOR>\n",
      "\ttarget question = What is Trump so afraid they will find something?\n",
      "\tpredicted question = How is it that we as a people have allowed an organization like Fox to be able to become the US version of Pravda?\n"
     ]
    },
    {
     "name": "stdout",
     "output_type": "stream",
     "text": [
      "question 94\n",
      "source text =  federal judge in Manhattan indicated on Monday that she was not prepared to grant President Trump exclusive first access to documents seized in F. B. I. raids on the office of his personal lawyer, and said that she was considering appointing an independent lawyer to assist in reviewing the seized m...<COMMENT_COUNT_0_AUTHOR>\n",
      "\ttarget question = How will their determination of privilege be any different from what Trump's lawyers would claim?\n",
      "\tpredicted question = How is it that we as a people have allowed an organization like Fox to be able to become the US version of Pravda?\n",
      "question 95\n",
      "source text =  federal judge in Manhattan indicated on Monday that she was not prepared to grant President Trump exclusive first access to documents seized in F. B. I. raids on the office of his personal lawyer, and said that she was considering appointing an independent lawyer to assist in reviewing the seized m...<COMMENT_COUNT_1_AUTHOR>\n",
      "\ttarget question = Why do we care about Trump ’ s personal affairs?\n",
      "\tpredicted question = How is it that we as a people have allowed an organization like Fox to be able to become the US version of Pravda?\n",
      "question 96\n",
      "source text =  federal judge in Manhattan indicated on Monday that she was not prepared to grant President Trump exclusive first access to documents seized in F. B. I. raids on the office of his personal lawyer, and said that she was considering appointing an independent lawyer to assist in reviewing the seized m...<US_AUTHOR>\n",
      "\ttarget question = Now when ’ s the Trump wing at Leavenworth going to be completed?\n",
      "\tpredicted question = How is it that we as a people have allowed an organization like Fox to be able to become the US version of Pravda?\n",
      "question 97\n",
      "source text =  federal judge in Manhattan indicated on Monday that she was not prepared to grant President Trump exclusive first access to documents seized in F. B. I. raids on the office of his personal lawyer, and said that she was considering appointing an independent lawyer to assist in reviewing the seized m...<COMMENT_LEN_1_AUTHOR>\n",
      "\ttarget question = Does paying Stormy Daniels $ 130, 000 so she won't talk about her night with Trump right before the election constitute a type of fraud cognizable by the mail fraud or wire fraud statutes?\n",
      "\tpredicted question = How is it that we as a people have allowed an organization like Fox to be able to become the US version of Pravda?\n",
      "question 98\n",
      "source text =  federal judge in Manhattan indicated on Monday that she was not prepared to grant President Trump exclusive first access to documents seized in F. B. I. raids on the office of his personal lawyer, and said that she was considering appointing an independent lawyer to assist in reviewing the seized m...<COMMENT_COUNT_0_AUTHOR>\n",
      "\ttarget question = He is a US citizen, isn't he?\n",
      "\tpredicted question = How is it that we as a people have allowed an organization like Fox to be able to become the US version of Pravda?\n",
      "question 99\n",
      "source text =  federal judge in Manhattan indicated on Monday that she was not prepared to grant President Trump exclusive first access to documents seized in F. B. I. raids on the office of his personal lawyer, and said that she was considering appointing an independent lawyer to assist in reviewing the seized m...<COMMENT_COUNT_0_AUTHOR>\n",
      "\ttarget question = Then why special treatment for Trump?\n",
      "\tpredicted question = How is it that we as a people have allowed an organization like Fox to be able to become the US version of Pravda?\n"
     ]
    }
   ],
   "source": [
    "import re\n",
    "author_token_matcher = re.compile('<[A-Z_0-9]+>$')\n",
    "for i, (test_data_i, output_i) in enumerate(zip(sample_NE_overlap_test_data, NE_overlap_test_data_output)):\n",
    "    input_text_i = tokenizer.decode(test_data_i['source_ids'], skip_special_tokens=True)\n",
    "    target_text_i = tokenizer.decode(test_data_i['target_ids'], skip_special_tokens=True)\n",
    "    output_text_i = tokenizer.decode(output_i.tolist()[0], skip_special_tokens=True)\n",
    "    author_token_i = 'N/A'\n",
    "    author_token_match_i = author_token_matcher.search(input_text_i)\n",
    "    if(author_token_match_i is not None):\n",
    "        author_token_i = author_token_match_i.group(0)\n",
    "    print(f'question {i}')\n",
    "    print(f'source text = {input_text_i[:300]}...{author_token_i}')\n",
    "    print(f'\\ttarget question = {target_text_i}')\n",
    "    print(f'\\tpredicted question = {output_text_i}')"
   ]
  },
  {
   "cell_type": "markdown",
   "metadata": {},
   "source": [
    "### Find block quotes\n",
    "Another way for people to engage with the article is to use quotes.\n",
    "\n",
    "How many comments use such quotes?"
   ]
  },
  {
   "cell_type": "code",
   "execution_count": 1,
   "metadata": {},
   "outputs": [
    {
     "name": "stdout",
     "output_type": "stream",
     "text": [
      "22455 questions\n"
     ]
    },
    {
     "data": {
      "text/html": [
       "<div>\n",
       "<style scoped>\n",
       "    .dataframe tbody tr th:only-of-type {\n",
       "        vertical-align: middle;\n",
       "    }\n",
       "\n",
       "    .dataframe tbody tr th {\n",
       "        vertical-align: top;\n",
       "    }\n",
       "\n",
       "    .dataframe thead th {\n",
       "        text-align: right;\n",
       "    }\n",
       "</style>\n",
       "<table border=\"1\" class=\"dataframe\">\n",
       "  <thead>\n",
       "    <tr style=\"text-align: right;\">\n",
       "      <th></th>\n",
       "      <th>id</th>\n",
       "      <th>title</th>\n",
       "      <th>authors</th>\n",
       "      <th>text</th>\n",
       "      <th>article_id</th>\n",
       "      <th>approveDate</th>\n",
       "      <th>commentBody</th>\n",
       "      <th>commentType</th>\n",
       "      <th>parentID</th>\n",
       "      <th>userID</th>\n",
       "      <th>userLocation</th>\n",
       "      <th>userDisplayName</th>\n",
       "      <th>comment_question</th>\n",
       "      <th>question_tokens</th>\n",
       "      <th>article_tokens</th>\n",
       "      <th>publisher</th>\n",
       "      <th>dummy_comment_id</th>\n",
       "      <th>article_question_bleu</th>\n",
       "    </tr>\n",
       "  </thead>\n",
       "  <tbody>\n",
       "    <tr>\n",
       "      <th>0</th>\n",
       "      <td>E12122A8E40142EDPQ</td>\n",
       "      <td>Scrutiny for Trump's Allies As Trail of Money ...</td>\n",
       "      <td>['Apuzzo, Matt']</td>\n",
       "      <td>WASHINGTON -- The F.B.I. raided the Rockefelle...</td>\n",
       "      <td>5acbc4e2068401528a2a5a2c</td>\n",
       "      <td>1523409493</td>\n",
       "      <td>If he fires him. People take to the streets. Y...</td>\n",
       "      <td>comment</td>\n",
       "      <td>0.0</td>\n",
       "      <td>84914731.0</td>\n",
       "      <td>Huntsville Al</td>\n",
       "      <td>Sean</td>\n",
       "      <td>You think you got chaos now?</td>\n",
       "      <td>['You', 'think', 'you', 'got', 'chaos', 'now',...</td>\n",
       "      <td>['WASHINGTON', '--', 'The', 'F', '.', 'B', '.'...</td>\n",
       "      <td>NYT</td>\n",
       "      <td>0</td>\n",
       "      <td>0.001756</td>\n",
       "    </tr>\n",
       "    <tr>\n",
       "      <th>1</th>\n",
       "      <td>E12122A8E40142EDPQ</td>\n",
       "      <td>Scrutiny for Trump's Allies As Trail of Money ...</td>\n",
       "      <td>['Apuzzo, Matt']</td>\n",
       "      <td>WASHINGTON -- The F.B.I. raided the Rockefelle...</td>\n",
       "      <td>5acbc4e2068401528a2a5a2c</td>\n",
       "      <td>1523409425</td>\n",
       "      <td>I've noticed comments stating that somehow thi...</td>\n",
       "      <td>comment</td>\n",
       "      <td>0.0</td>\n",
       "      <td>40747629.0</td>\n",
       "      <td>Aspen</td>\n",
       "      <td>Mark</td>\n",
       "      <td>&lt;br/&gt;&lt;br/&gt;If trump were innocent, in any case,...</td>\n",
       "      <td>['&lt;', 'br', '/&gt;&lt;', 'br', '/&gt;', 'If', 'trump', ...</td>\n",
       "      <td>['WASHINGTON', '--', 'The', 'F', '.', 'B', '.'...</td>\n",
       "      <td>NYT</td>\n",
       "      <td>1</td>\n",
       "      <td>0.004098</td>\n",
       "    </tr>\n",
       "    <tr>\n",
       "      <th>2</th>\n",
       "      <td>E12122A8E40142EDPQ</td>\n",
       "      <td>Scrutiny for Trump's Allies As Trail of Money ...</td>\n",
       "      <td>['Apuzzo, Matt']</td>\n",
       "      <td>WASHINGTON -- The F.B.I. raided the Rockefelle...</td>\n",
       "      <td>5acbc4e2068401528a2a5a2c</td>\n",
       "      <td>1523409397</td>\n",
       "      <td>Why have we never seen Trump's tax returns? Fi...</td>\n",
       "      <td>comment</td>\n",
       "      <td>0.0</td>\n",
       "      <td>68845522.0</td>\n",
       "      <td>Austin, TX</td>\n",
       "      <td>Allison</td>\n",
       "      <td>Why have we never seen Trump's tax returns?</td>\n",
       "      <td>['Why', 'have', 'we', 'never', 'seen', 'Trump'...</td>\n",
       "      <td>['WASHINGTON', '--', 'The', 'F', '.', 'B', '.'...</td>\n",
       "      <td>NYT</td>\n",
       "      <td>2</td>\n",
       "      <td>0.003513</td>\n",
       "    </tr>\n",
       "    <tr>\n",
       "      <th>4</th>\n",
       "      <td>E12122A8E40142EDPQ</td>\n",
       "      <td>Scrutiny for Trump's Allies As Trail of Money ...</td>\n",
       "      <td>['Apuzzo, Matt']</td>\n",
       "      <td>WASHINGTON -- The F.B.I. raided the Rockefelle...</td>\n",
       "      <td>5acbc4e2068401528a2a5a2c</td>\n",
       "      <td>1523409394</td>\n",
       "      <td>In the Vanity Fair 2017 interview, Mr. Cohen p...</td>\n",
       "      <td>comment</td>\n",
       "      <td>0.0</td>\n",
       "      <td>79106752.0</td>\n",
       "      <td>TX</td>\n",
       "      <td>Ada</td>\n",
       "      <td>How does anyone with this much skeleton in bot...</td>\n",
       "      <td>['How', 'does', 'anyone', 'with', 'this', 'muc...</td>\n",
       "      <td>['WASHINGTON', '--', 'The', 'F', '.', 'B', '.'...</td>\n",
       "      <td>NYT</td>\n",
       "      <td>4</td>\n",
       "      <td>0.007026</td>\n",
       "    </tr>\n",
       "    <tr>\n",
       "      <th>5</th>\n",
       "      <td>E12122A8E40142EDPQ</td>\n",
       "      <td>Scrutiny for Trump's Allies As Trail of Money ...</td>\n",
       "      <td>['Apuzzo, Matt']</td>\n",
       "      <td>WASHINGTON -- The F.B.I. raided the Rockefelle...</td>\n",
       "      <td>5acbc4e2068401528a2a5a2c</td>\n",
       "      <td>1523407457</td>\n",
       "      <td>Did any of the Trump/Cohen apologists actually...</td>\n",
       "      <td>comment</td>\n",
       "      <td>0.0</td>\n",
       "      <td>24038912.0</td>\n",
       "      <td>Narnia</td>\n",
       "      <td>Maxie</td>\n",
       "      <td>Did any of the Trump/Cohen apologists actually...</td>\n",
       "      <td>['Did', 'any', 'of', 'the', 'Trump', '/', 'Coh...</td>\n",
       "      <td>['WASHINGTON', '--', 'The', 'F', '.', 'B', '.'...</td>\n",
       "      <td>NYT</td>\n",
       "      <td>5</td>\n",
       "      <td>0.002927</td>\n",
       "    </tr>\n",
       "  </tbody>\n",
       "</table>\n",
       "</div>"
      ],
      "text/plain": [
       "                   id                                              title  \\\n",
       "0  E12122A8E40142EDPQ  Scrutiny for Trump's Allies As Trail of Money ...   \n",
       "1  E12122A8E40142EDPQ  Scrutiny for Trump's Allies As Trail of Money ...   \n",
       "2  E12122A8E40142EDPQ  Scrutiny for Trump's Allies As Trail of Money ...   \n",
       "4  E12122A8E40142EDPQ  Scrutiny for Trump's Allies As Trail of Money ...   \n",
       "5  E12122A8E40142EDPQ  Scrutiny for Trump's Allies As Trail of Money ...   \n",
       "\n",
       "            authors                                               text  \\\n",
       "0  ['Apuzzo, Matt']  WASHINGTON -- The F.B.I. raided the Rockefelle...   \n",
       "1  ['Apuzzo, Matt']  WASHINGTON -- The F.B.I. raided the Rockefelle...   \n",
       "2  ['Apuzzo, Matt']  WASHINGTON -- The F.B.I. raided the Rockefelle...   \n",
       "4  ['Apuzzo, Matt']  WASHINGTON -- The F.B.I. raided the Rockefelle...   \n",
       "5  ['Apuzzo, Matt']  WASHINGTON -- The F.B.I. raided the Rockefelle...   \n",
       "\n",
       "                 article_id  approveDate  \\\n",
       "0  5acbc4e2068401528a2a5a2c   1523409493   \n",
       "1  5acbc4e2068401528a2a5a2c   1523409425   \n",
       "2  5acbc4e2068401528a2a5a2c   1523409397   \n",
       "4  5acbc4e2068401528a2a5a2c   1523409394   \n",
       "5  5acbc4e2068401528a2a5a2c   1523407457   \n",
       "\n",
       "                                         commentBody commentType  parentID  \\\n",
       "0  If he fires him. People take to the streets. Y...     comment       0.0   \n",
       "1  I've noticed comments stating that somehow thi...     comment       0.0   \n",
       "2  Why have we never seen Trump's tax returns? Fi...     comment       0.0   \n",
       "4  In the Vanity Fair 2017 interview, Mr. Cohen p...     comment       0.0   \n",
       "5  Did any of the Trump/Cohen apologists actually...     comment       0.0   \n",
       "\n",
       "       userID   userLocation userDisplayName  \\\n",
       "0  84914731.0  Huntsville Al            Sean   \n",
       "1  40747629.0          Aspen            Mark   \n",
       "2  68845522.0     Austin, TX         Allison   \n",
       "4  79106752.0             TX             Ada   \n",
       "5  24038912.0         Narnia           Maxie   \n",
       "\n",
       "                                    comment_question  \\\n",
       "0                       You think you got chaos now?   \n",
       "1  <br/><br/>If trump were innocent, in any case,...   \n",
       "2        Why have we never seen Trump's tax returns?   \n",
       "4  How does anyone with this much skeleton in bot...   \n",
       "5  Did any of the Trump/Cohen apologists actually...   \n",
       "\n",
       "                                     question_tokens  \\\n",
       "0  ['You', 'think', 'you', 'got', 'chaos', 'now',...   \n",
       "1  ['<', 'br', '/><', 'br', '/>', 'If', 'trump', ...   \n",
       "2  ['Why', 'have', 'we', 'never', 'seen', 'Trump'...   \n",
       "4  ['How', 'does', 'anyone', 'with', 'this', 'muc...   \n",
       "5  ['Did', 'any', 'of', 'the', 'Trump', '/', 'Coh...   \n",
       "\n",
       "                                      article_tokens publisher  \\\n",
       "0  ['WASHINGTON', '--', 'The', 'F', '.', 'B', '.'...       NYT   \n",
       "1  ['WASHINGTON', '--', 'The', 'F', '.', 'B', '.'...       NYT   \n",
       "2  ['WASHINGTON', '--', 'The', 'F', '.', 'B', '.'...       NYT   \n",
       "4  ['WASHINGTON', '--', 'The', 'F', '.', 'B', '.'...       NYT   \n",
       "5  ['WASHINGTON', '--', 'The', 'F', '.', 'B', '.'...       NYT   \n",
       "\n",
       "   dummy_comment_id  article_question_bleu  \n",
       "0                 0               0.001756  \n",
       "1                 1               0.004098  \n",
       "2                 2               0.003513  \n",
       "4                 4               0.007026  \n",
       "5                 5               0.002927  "
      ]
     },
     "metadata": {},
     "output_type": "display_data"
    }
   ],
   "source": [
    "## load sample of data\n",
    "import pandas as pd\n",
    "article_question_data = pd.read_csv('../../data/nyt_comments/April2018_article_question_data.tsv', sep='\\t', index_col=False)\n",
    "article_question_data.drop_duplicates(['article_id', 'commentBody', 'userID'], inplace=True)\n",
    "print(f'{article_question_data.shape[0]} questions')\n",
    "display(article_question_data.head())"
   ]
  },
  {
   "cell_type": "code",
   "execution_count": 12,
   "metadata": {},
   "outputs": [
    {
     "name": "stdout",
     "output_type": "stream",
     "text": [
      "8630/22455 questions with HTML\n"
     ]
    }
   ],
   "source": [
    "import re\n",
    "html_matcher = re.compile('<[^>]+>')\n",
    "article_question_data = article_question_data.assign(**{\n",
    "    'contains_HTML' : article_question_data.loc[:, 'commentBody'].apply(lambda x: html_matcher.search(x) is not None)\n",
    "})\n",
    "HTML_data = article_question_data[article_question_data.loc[:, 'contains_HTML']]\n",
    "print('%d/%d questions with HTML'%(HTML_data.shape[0], article_question_data.shape[0]))"
   ]
  },
  {
   "cell_type": "code",
   "execution_count": 13,
   "metadata": {},
   "outputs": [
    {
     "name": "stdout",
     "output_type": "stream",
     "text": [
      "['Disrespect for the rule of law has been encouraged by Fox News for years now.  The result is apparent in several of the comments posted here.  <br/><br/>In a death\\'s-door interview with Melvyn Bragg some twenty-four years ago, Dennis Potter, the great British television dramatist, said, while sipping from a flask of liquid morphine to soothe the pain of pancreatic cancer, that if there was one person he\\'d like to kill before he died, it would Rupert Murdoch.  He said that Murdoch had done more to pollute civic discourse in Britain than any other person and that British media and society in general had suffered immeasurably as the result of his depredations.  This was shortly before Murdoch jumped the pond and began to befoul the United States with his lucrative brand of nativist nonsense.  <br/><br/>But it\\'s worse than nonsense.  Fox\\'s hate-mongering is extremely dangerous.  What Murdoch and Ailes have wrought is anathema to the democratic experiment that is America.  You think I\\'m being hyperbolic?  Talk to the guy who shot up the pizza parlor in D. C.  There is nothing Fox News won\\'t do to get and keep eyeballs.  This includes fomenting insurrection on the part of the ignorant that cling to the notion that they and they alone are the True America.  <br/><br/>You cannot, by law, yell \"Fire\" in a crowded theater when there is none.  Murdoch, that insidious opportunist, should not be allowed to ply the trash that he does.  A man\\'s judgment is only as good as the information upon which it is based.   '\n",
      " \"I don't understand how this could happen to two fine upstanding pillars of the community. <br/><br/>Over the years, Mr. Trump and Mr. Cohen have selflessly devoted their time and energy to support their fellow human beings, encourage their well-being and generally promote good will to those they have come in contact with. Their compassion and kindness to others is legendary and inspirational.<br/><br/>I don't get it. Am I missing something...?\"\n",
      " 'FBI is OUT OF FREAKING CONTROL!!!!<br/>Under what authority are they entitled to do this?<br/>Where is the probable cause??'\n",
      " '\". . . in a true sense . . . We\\'ll see what may happen . . . Many people have said . . .\"<br/>\". . . angry . . . lashed out . . . accused . . . tirade . . . railed against . . . biased . . . unfairness . . . witch hunt . . .\"<br/><br/>Won\\'t somebody puh-LEEZ put this dolt out of his misery?  '\n",
      " '\" Mr. Cohen began his career as a personal injury lawyer and taxi fleet manager.\"<br/><br/>How did I know this already without already knowing This? '\n",
      " 'At 9:00AM EDT there are over 4000 comments to this news story. Says something about Americans and what we think about this tragic decline of our culture. Are we now being punished for the horrible wrongs our government has done during the first 200 years of our history? (Think slavery, the treatment of Native Americans, more recently Vietnam, Iraq) <br/><br/>Trump has cried \"Disgraceful\" and he is right. His behavior before his election was indeed DISGRACEFUL. His behavior after the election has been much worse. No longer is his behavior just \"tabloid fodder\". As the American president his behavior has been treasonous. Yes, treasonous for the way he has destroyed the moral leadership of America in the eyes of a majority of Americans as well as most of the world. May his reputation persist for future generations as the worst human to have ever entered the Oval Office. '\n",
      " 'President Trump’s lawyers office contained thousands of protected client secrets unrelated to any payment for non-disclosure or even the president. Law enforcement now has access to all those unrelated attorney-client documents. <br/><br/>Search warrant or not, it is an affront to the 6th Amendment. Why not simply issue a grand jury subpoena compelling Cohen to produce the documents and make it a crime of obstruction to destroy them? A lawyers office is not above the law, but it is one of the few places protected by the constitution, just like a newspaper office. As liberals glory in this attack on the Bill of Rights, remember the slippery slope we have started down.'\n",
      " 'trump never did release his tax returns. If there is nothing to hide, why wouldn\\'t trump come clean and show the US public his tax returns for the sake of public trust? If you are hiding one thing, you are likely hiding others.<br/><br/>As a private real estate developer, trump was bound by the rules of law regarding fair housing, building codes, etc. If he wanted to conduct business adhering to the letter of the law and not the spirit of the law resulting in a constant stream of lawsuits, that was his private business. But to transfer such a mentality to the office of POTUS smacks of the highest level of personal arrogance I can imagine - the United States should be governed with the highest standard of integrity, not like some sleazy company where contractors are not paid, high rise buildings don\\'t have sprinklers above a certain floor because \"the law\" doesn\\'t require them, etc. <br/><br/>All this stuff is unfortunately related to a president who is in it for himself and his personal enrichment, not for the Citizens of the US. I mean, just continually calling out any negative reporting \"fake news\" by the \"dishonest media\" is in itself against the interest of being accountable to the public he is supposedly there to serve...<br/><br/>Attacking the character of Robert Mueller, a patriotic hero is the last straw...'\n",
      " 'Not to mention how sweet Cohen was to contact Donald Shields in the Trump Tower, a 42nd floor resident, and told him to get out during the fire. <br/><br/>Aren’t they sweet?  Lobby against building sprinklers, pay off porn stars, pal with Russians, and so much more.<br/><br/>Go FBI.  Go Robert Mueller. '\n",
      " \"To all those complaining that Mueller has overstepped his bounds... let's suppose this is 2014 and Robert Mueller is investigating Barack Obama. Let's say in the course of his investigation he comes across evidence of a possible crime committed by one of Obama's associates.<br/><br/>Now let's say he does nothing with the information. Doesn't act on it himself, doesn't forward it to the US Attorney, just buries it. What do we suppose the Republican response would be to this?<br/><br/>Here's the inconvenient truth (inconvenient mostly because a judge was convinced there was enough evidence to justify a search warrant): ANYTHING Robert Mueller comes across that is evidence of a possible crime he absolutely MUST act upon, whether it has anything to do with the scope of his Russia investigation or not. If the evidence is directly related to his investigation, he acts on it himself. If it's related to possible criminal activity outside his jurisdiction, he refers the matter to the appropriate authorities.<br/><br/>This is not some arbitrary decision he makes, and it is never him overstepping... it is required by the law. Imagine the uproar from the White House if Robert Mueller were to discover that Hillary Clinton used her private email server in a criminal fashion when she was Secretary of State, but decided not to say anything because it didn't have anything to do with the Russia investigation?<br/><br/>Think they'd be complaining that he wasn't doing his job?\"\n",
      " 'Very scary, though hardly surprising, that Trump called this an \"attack on our country in the true sense.\"  No, it is an attack on a lawyer, a lawyer who sometimes represents private citizen Trump, and not in any way an attack on our country.<br/><br/>The White House, not surprisingly, tried to clarify Trump\\'s remark saying he was referring to the sanctity of client-attorney privilege.  But both Trump and Cohen agree that the payment was made by Cohen and the agreement written by Cohen without Trump\\'s knowledge, so Cohen can not be said to have been acting as Trump\\'s attorney.  Unless, as most people assume, Trump and Cohen are both lying.<br/><br/>And for everyone saying this is overreach by Muller, what is he supposed to do when he sees evidence of possible crimes?  Does Trump and his team get a free pass, only those crimes committed that directly involve collusion with Russia get investigated, evidence of other possible criminal activity discovered along the way is swept under the rug? Trump and Cohen haven\\'t been indicted, much less convicted, for anything so let\\'s give the prosecutors a chance to do their job.  '\n",
      " '\"The searches open a new front for the Justice Department in its scrutiny of Mr. Trump and his associates: His longtime lawyer is being investigated in Manhattan; his son-in-law, Jared Kushner, is facing scrutiny by prosecutors in Brooklyn; his former campaign chairman is under indictment; his former national security adviser has pleaded guilty to lying; and a pair of former campaign aides are cooperating with Mr. Mueller.\"<br/><br/>All this and Mr Trump (sorry can\\'t bring myself to call him President) claims that  Washington that is a swamp.  It that is true, then Trump and company are a step beyond that - dare I say \"Cesspool\"?'\n",
      " 'Perhaps Team Mueller and the US Attorney for the Southern District were fearful that Cohen was about to engage BleachBit to wipe his servers and hard drives, or on the verge of taking a hammer to his cell phones, or both. <br/><br/>What would have been the reaction in Progressive Land had the Bureau raided the offices of David Kendall at Williams &amp; Connolly based on concerns about his role in the destruction of the 30,000 deleted emails?   <br/><br/>#NeutralPrinciples?'\n",
      " 'He is not a King. He is not above the law. It is not an attack on the nation. It is an investigation of a most unusual political campaign’s ties to a foreign power. <br/><br/>When his personal lawyer has admitted to being involved in paying hush money during the campaign, how is it surprising that investigators want to collect and preserve evidence? '\n",
      " '“an attack on our country in a true sense”<br/>If not concerned that he is directly threatened by the FBI raid on the office of his personal lawyer, why would Trump consider this move an attack on the country? '\n",
      " 'Any reasonable person would not be surprised by this turn of events if she/he were dumb enough to do what Michael D. Cohen had admittedly done.<br/>Trump is simply not accustomed to being held accountable for even extremely grievous actions.<br/>Why, for example, hasn’t a special prosecutor been appointed to investigate the multitude of claims of sexual abuse against Trump? As a billionaire, he’s protected, privileged, and above most laws.'\n",
      " \"When. It's just a matter of when the President will fire Mueller. I'd love to be wrong. But he has a largely spineless party (looking at you, Paul Ryan) that has let him run amok, the General can barely contain him anymore and he has now officially lost it. Seriously, he's an overindulged toddler. <br/><br/>Why wouldn't he?  \"\n",
      " \"I am amazed to see that there are people that feel this was overstepping.  If you were being investigated by the police and they found evidence of more illegal activity there than they were looking for, do you think they would just ignore the other criminal activity?  If a vice squad was looking for porn payments and found doctored tax returns, they would call in the IRS and financial forensic investigators.  The investigatee does not get to say, oh yeah you have a justifiable cause and a search warrant, but don't look under the bed.  <br/><br/>If there were nothing to hide, Trump wouldn't be acting so paranoid and scared.  Trump is like a wool sweater, pull on the dangling thread and what do you know, it all unravels.  This is an old story, but some people never learn. \"\n",
      " \"Did this Cohen news break BEFORE 330pm when the market went way down?<br/><br/>I can't find a time anywhere, but MOST articles  suggest around 4pam<br/><br/>Trump said in his ridiculous diatribe that the news caused the market to lose it's gain today.<br/><br/>Can anyone comment? NY Times?\"\n",
      " '\"Unfair\" cries the guy who stiffed everybody, even his own attorneys. This is the same guy who defrauded average people by pretending to have a real estate \"university\" that offered nothing as advertised. \"Unfair\" from the guy who ridiculed every Republican candidate during the primaries because he could not debate the issues on their merits. <br/><br/>\"Unfair\" is the cry of the child, the schoolroom bully, who finally gets his nose bloodied after picking a fight with someone he was sure he could beat. He is so immature he hasn\\'t figured out yet that actions have consequences and he is responsible for his own. \"Unfair\" that life has failed to give him the golden pass that this golden boy expects from everyone no matter how egregious his own behavior. <br/><br/>No, Dumb Donnie, \"Unfair\" is what this country and the world are experiencing with him in office! Never forget that he got that office through unfair means. Sinclair and Fox and the National Enquirer all helped him with reporting featuring lies and distortions. The Republicans helped him with gerrymandering and voter suppression. The plutocrats helped him with unlimited campaign spending. The Russians helped him with social media bots and stolen emails. Was all of that \"fair\"? And Cohen helped him with threats and hush money for the women who spoke out about his sexual antics. <br/><br/>Life is not fair, but if we are very, very lucky it might be just. Keep digging Mr. Mueller. There is a ton of rot to be exposed and we need it to see it.'\n",
      " 'Every day, every week there is another drama in the Trump administration, though it should be obvious to everyone that this administration is the most corrupt administration possibly in the entire history of the U.S.<br/><br/>Meanwhile as most of us hold out hope that Mueller will be \"our savior\".<br/> I can\\'t help thinking of \"Emanuel Goldstein\" in \"Nineteen eighty Four\". Is Mueller our Emanuel Goldstein? What if Mueller finds no collusion, no criminal activity relate to Trump?<br/><br/>As this soap opera plays out, as we\\'re fed bits of hope, yet Trump by executive orders is rolling back our protections and rights (civil and constitutional). His cabinet of DeVos\\'s, Carsons, Pruitts, Mnuchins etc etc are doing the same. Little by little, they are transferring our wealth to the pockets of their friends and cronies and turning us into a \"Third World Nation\".<br/><br/>In summary, it would appear that the U.S. government has been overthrown by a sophisticated organized crime group, with international connections to Asia. <br/><br/>In retrospect, The initial steps of this Coup were put into place a generation ago. We should have had the alarms go off in our heads during Obama\\'s administration when the congress refused to hold hearings on Judge Garland.<br/>Is it too late? I really don\\'t know, but I have no reason to be optimistic at this point.'\n",
      " 'The President is Fuming!<br/>No matter what source, the story began with “the president is fuming” this morning.<br/>Cool, what I want to know is exactly when will he burst into flames and disappear in a plume of fetid smoke which dissipates until not even the smell remains?'\n",
      " 'Question for partners at white shoe firms:<br/><br/>Does stuff like this make it less likely that people associated with the admin, who might normally be plum hires, are now viewed as undesirable ?'\n",
      " \"Better Call Saul!<br/><br/>Oh...It was Saul's office that was raided. That doesn't sound good for business, does it?\"\n",
      " 'Why does Trump allege that this would be a witch hunt??<br/>To investigate against a lawyer, who paid a porn star a lot of hush money and is tied into russian connections, seems to me quite concrete and dangerous – and it\\'s good for the country to \"drawn that swamp\". (Wasn\\'t that one promise of DT himself?)<br/>If Trump has nothing to hide, he should instead ask himself, why he has worked with a lawyer, who is paying huge amounts of money to a porn star.<br/>Furthermore he should apologize to bring such dangerous people so close to the government.<br/>And last not least: If Trump complains, that his team already handed over a million pages, the question is here of course which pages were hidden away by this lawyer.<br/>At this moment I can\\'t see a clear connection to Mueller\\'s investigation, because this is all about a dubious lawyer and also Stormy Daniels, who sues him for libel. That\\'s her fundamental right.']\n"
     ]
    }
   ],
   "source": [
    "print(HTML_data.loc[:, 'commentBody'].values[50:75])"
   ]
  },
  {
   "cell_type": "markdown",
   "metadata": {},
   "source": [
    "OK! It seems like most of the fHTML use is just for page-breaks, rather than quoting."
   ]
  },
  {
   "cell_type": "code",
   "execution_count": 14,
   "metadata": {
    "scrolled": true
   },
   "outputs": [
    {
     "data": {
      "text/plain": [
       "<br/>                                                                                                                                                                                                                                                                                                                                               37360\n",
       "</a>                                                                                                                                                                                                                                                                                                                                                  308\n",
       "<a href=\"https://tinyurl.com/yb86pcpg\" title=\"https://tinyurl.com/yb86pcpg\" target=\"_blank\">                                                                                                                                                                                                                                                            3\n",
       "<a href=\"http://StatinVictims.com\" title=\"StatinVictims.com\" target=\"_blank\">                                                                                                                                                                                                                                                                           3\n",
       "<a href=\"https://saraacarter.com/robert-mueller-andrew-weissmann-the-fbi-and-the-mob/\" title=\"https://saraacarter.com/robert-mueller-andrew-weissmann-the-fbi-and-the-mob/\" target=\"_blank\">                                                                                                                                                            3\n",
       "<a href=\"https://www.rimaregas.com/2018/01/07/politicos-running-list-of-what-trump-did-while-you-werent-looking-2018-blog42/\" title=\"https://www.rimaregas.com/2018/01/07/politicos-running-list-of-what-trump-did-while-you-werent-looking-2018-blog42/\" target=\"_blank\">                                                                              3\n",
       "<a href=\"https://tinyurl.com/lcdltjc\" title=\"https://tinyurl.com/lcdltjc\" target=\"_blank\">                                                                                                                                                                                                                                                              3\n",
       "<a href=\"http://Only-NeverInSweden.blogspot.com\" title=\"Only-NeverInSweden.blogspot.com\" target=\"_blank\">                                                                                                                                                                                                                                               3\n",
       "<a href=\"https://www.google.com/search?q=General+Data+Protection+Rules+(GDPR)\" title=\"https://www.google.com/search?q=General+Data+Protection+Rules+(GDPR)\" target=\"_blank\">                                                                                                                                                                            2\n",
       "<a href=\"https://www.engadget.com/2018/04/12/facebook-eu-gdpr/\" title=\"https://www.engadget.com/2018/04/12/facebook-eu-gdpr/\" target=\"_blank\">                                                                                                                                                                                                          2\n",
       "<a href=\"https://www.youtube.com/watch?v=2rdTBmCRSB4\" title=\"https://www.youtube.com/watch?v=2rdTBmCRSB4\" target=\"_blank\">                                                                                                                                                                                                                              2\n",
       "<a href=\"https://www.cnn.com/2017/11/09/middleeast/yemen-famine-saudi-arabia/index.html\" title=\"https://www.cnn.com/2017/11/09/middleeast/yemen-famine-saudi-arabia/index.html\" target=\"_blank\">                                                                                                                                                        2\n",
       "<a href=\"https://www.philosophyontap.org/single-post/2017/02/01/Biology-of-Love)\" title=\"https://www.philosophyontap.org/single-post/2017/02/01/Biology-of-Love)\" target=\"_blank\">                                                                                                                                                                      2\n",
       "<a href=\"https://www.youtube.com/watch?v=deGg41IiWwU\" title=\"https://www.youtube.com/watch?v=deGg41IiWwU\" target=\"_blank\">                                                                                                                                                                                                                              2\n",
       "<a href=\"https://www.amazon.com/Truth-About-Gregory-James-Mundy/dp/1986670600/ref=sr_1_3?ie=UTF8&amp;qid=1523214266&amp;sr=8-3&amp;keywords=the+truth+about+911\" title=\"https://www.amazon.com/Truth-About-Gregory-James-Mundy/dp/1986670600/ref=sr_1_3?ie=UTF8&amp;qid=1523214266&amp;sr=8-3&amp;keywords=the+truth+about+911\" target=\"_blank\">        2\n",
       "<a href=\"https://projects.fivethirtyeight.com/trump-approval-ratings/\" title=\"https://projects.fivethirtyeight.com/trump-approval-ratings/\" target=\"_blank\">                                                                                                                                                                                            2\n",
       "<a href=\"https://www.nytimes.com/2018/04/14/business/pension-finance-oregon.html\" title=\"https://www.nytimes.com/2018/04/14/business/pension-finance-oregon.html\" target=\"_blank\">                                                                                                                                                                      2\n",
       "<a href=\"https://m.youtube.com/watch?v=NxXKr2hKCz0\" title=\"https://m.youtube.com/watch?v=NxXKr2hKCz0\" target=\"_blank\">                                                                                                                                                                                                                                  2\n",
       "<a href=\"https://tinyurl.com/ybdbjjvr\" title=\"https://tinyurl.com/ybdbjjvr\" target=\"_blank\">                                                                                                                                                                                                                                                            1\n",
       "<a href=\"https://www.ncbi.nlm.nih.gov/pmc/articles/PMC5646858/\" title=\"https://www.ncbi.nlm.nih.gov/pmc/articles/PMC5646858/\" target=\"_blank\">                                                                                                                                                                                                          1\n",
       "dtype: int64"
      ]
     },
     "metadata": {},
     "output_type": "display_data"
    }
   ],
   "source": [
    "HTML_tags = HTML_data.loc[:, 'commentBody'].apply(lambda x: html_matcher.findall(x))\n",
    "HTML_tag_counts = pd.Series([y for x in HTML_tags.values for y in x]).value_counts()\n",
    "display(HTML_tag_counts.head(20))"
   ]
  },
  {
   "cell_type": "code",
   "execution_count": 18,
   "metadata": {},
   "outputs": [
    {
     "name": "stdout",
     "output_type": "stream",
     "text": [
      "6230/22455 questions have at least one quote\n"
     ]
    }
   ],
   "source": [
    "quote_matcher = re.compile('(?<=\")[^\"]+(?=\")')\n",
    "article_question_data = article_question_data.assign(**{\n",
    "    'contains_quote' : article_question_data.loc[:, 'commentBody'].apply(lambda x: quote_matcher.search(x) is not None)\n",
    "})\n",
    "quote_data = article_question_data[article_question_data.loc[:, 'contains_quote']]\n",
    "print(f'{quote_data.shape[0]}/{article_question_data.shape[0]} questions have at least one quote')"
   ]
  },
  {
   "cell_type": "code",
   "execution_count": 19,
   "metadata": {},
   "outputs": [
    {
     "data": {
      "text/plain": [
       "array([list(['witch hunt']), list(['none of [our] business.']),\n",
       "       list(['attorney-client privilege']),\n",
       "       list(['politically motivated attempt to undermine the legitimacy of my presidency']),\n",
       "       list(['crime/fraud']),\n",
       "       list(['this is an attack on the country', ' - is how awful a POV, and real knowledge he has on the actual role of President. That he must have always believed, religious-like, that the President has no rules/laws to play by. That POTUS can act with impunity, can ignore any and all ethical rules and actual laws. Shall be adored and worshiped with devotion by any appointees, staff, and the populace in general. That everyone takes an oath to him and not the the US Constitution. Its astounding...spectacularly delusional...<br/><br/>Yesterdays claim that the ', 'country is under attack']),\n",
       "       list([\"Mueller's desperation for evidence is getting way out of control.  It is important to remember, that the Mueller investigation has not been a search for evidence - it is a search for a crime, which is a very different thing.  Watergate started with a palpable, real world crime, a break-in. The Mueller investigation is a search for a presumed crime. None, committed by Trump, has been found....  When the Liberal Press \", 'cheer leads', ' excessive prosecution, our Democracy is in big trouble.']),\n",
       "       list(['If you see something, say something']),\n",
       "       list(['witch hunt']),\n",
       "       list(['...Mr. Sessions appointed the United States attorney for the Southern District, Geoffrey S. Berman, only in January. Mr. Berman is a former law partner of Rudolph W. Giuliani, a former New York mayor and a supporter of Mr. Trump...<br/><br/>As omissions go, this one likely a genuine lagging awareness on your part...<br/><br/><a href=', 'http://thehill.com/homenews/administration/382477-abc-trump-appointed-us-attorney-recused-himself-from-cohen-probe', ' title=', 'http://thehill.com/homenews/administration/382477-abc-trump-appointed-us-attorney-recused-himself-from-cohen-probe', ' target=', '_blank']),\n",
       "       list(['investigating']),\n",
       "       list(['We have WORLDLY issues at stake and our Washington bureaucrats are pre-occupied with taking down a president over this affair that happened 12 years ago? Mueller and team have gone TOO FAR.']),\n",
       "       list(['self hugging']),\n",
       "       list(['uncovering human remains', \" was not within the contract I made with the backhoe operator? If, in the course of investigating Russian interference in our elections and possible collusion with U.S. citizens, Mueller discovers evidence of unrelated criminal activity by one or more individuals, wouldn't it be a crime for him to ignore or cover up that evidence? The news media need to make it clear that Mueller's referral of evidence against Cohen is his duty as a law enforcement officer, not part of a \", 'witch hunt']),\n",
       "       list(['witch hunt']),\n",
       "       list([\"Trump would be fully justified in dismissing Mueller but I suspect that that it is Mueller's specific goal provoke and goad Trump to do that.\", \"<br/><br/>Mueller's indictments of Manafort and Gates obviously have nothing whatsoever to do with collusion. He could and should have turned over whatever he found to \", 'regular', \" DOJ prosecutors. The same is true for the 13 Russians indicted by Mueller -- not even an allegation of collusion. The same is true for the indictments of Flynn and Papadopoulos. Both are accused of lying to the FBI, but neither is accused of colluding with the Russian government.<br/><br/>Don't take my or anyone else's word for anything. Reread the Rod Rosenstein letter, which granted Mueller's authority. Do you think he's gone beyond that?<br/><br/>Whatever Mueller has done, Trump can't fire him, and Mueller knows that. He's exploiting that. One might think of his duties as temporary, but he looks at it as a lifetime job. <br/><br/>As Stalin's secret-police chief famously said: \", \"You show me the man, and I'll show you the crime.\"]),\n",
       "       list(['He attracted attention in the Russia investigation after emails showed that a business associate of Mr. Trump, Felix Sater, pitched Mr. Cohen on a lucrative real estate deal in Russia.']),\n",
       "       list(['a house divided against itself cannot stand.']),\n",
       "       list(['breaking in', \" to Mr. Cohen's offices. According to reports, the FBI used a \", 'no-knock', \" warrant, so he's right, isn't he?<br/><br/>That the \", 'no knock']),\n",
       "       list(['attack on our country in a true sense.', ' And we know what he means by ', 'our', \" even if he doesn't. Contracts, documents, letters of intent, constitutions...what's the difference? When you own it, it's yours to do with as you please. And he does understand the word \", 'own'])],\n",
       "      dtype=object)"
      ]
     },
     "metadata": {},
     "output_type": "display_data"
    }
   ],
   "source": [
    "# identify quotes that \n",
    "quote_data = quote_data.assign(**{\n",
    "    'quotes' : quote_data.loc[:, 'commentBody'].apply(lambda x: quote_matcher.findall(x))\n",
    "})\n",
    "display(quote_data.loc[:, 'quotes'].head(20).values)"
   ]
  },
  {
   "cell_type": "markdown",
   "metadata": {},
   "source": [
    "How many of these quotes appear in the article?"
   ]
  },
  {
   "cell_type": "code",
   "execution_count": 23,
   "metadata": {},
   "outputs": [
    {
     "name": "stdout",
     "output_type": "stream",
     "text": [
      "335 / 22455 questions with at least one valid quote\n"
     ]
    }
   ],
   "source": [
    "from nltk.tokenize import WordPunctTokenizer\n",
    "min_quote_len = 8\n",
    "tokenizer = WordPunctTokenizer()\n",
    "quote_data = quote_data.assign(**{\n",
    "    'article_quotes' : quote_data.apply(lambda x: list(filter(lambda y: len(tokenizer.tokenize(y)) >= min_quote_len and y.lower() in x.loc['text'].lower(), x.loc['quotes'])), axis=1)\n",
    "})\n",
    "valid_quote_data = quote_data[quote_data.loc[:, 'article_quotes'].apply(lambda x: len(x) > 0)]\n",
    "print(f'{valid_quote_data.shape[0]} / {article_question_data.shape[0]} questions with at least one valid quote')"
   ]
  },
  {
   "cell_type": "markdown",
   "metadata": {},
   "source": [
    "Not great! Only about 1% of questions actually seem to quote from the article text."
   ]
  },
  {
   "cell_type": "code",
   "execution_count": null,
   "metadata": {},
   "outputs": [],
   "source": []
  }
 ],
 "metadata": {
  "kernelspec": {
   "display_name": "Python [conda env:py3] *",
   "language": "python",
   "name": "conda-env-py3-py"
  },
  "language_info": {
   "codemirror_mode": {
    "name": "ipython",
    "version": 3
   },
   "file_extension": ".py",
   "mimetype": "text/x-python",
   "name": "python",
   "nbconvert_exporter": "python",
   "pygments_lexer": "ipython3",
   "version": "3.8.5"
  }
 },
 "nbformat": 4,
 "nbformat_minor": 4
}
