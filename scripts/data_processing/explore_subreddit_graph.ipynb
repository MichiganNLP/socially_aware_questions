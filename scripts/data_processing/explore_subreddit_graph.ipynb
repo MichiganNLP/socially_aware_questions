{
 "cells": [
  {
   "cell_type": "markdown",
   "id": "waiting-setup",
   "metadata": {},
   "source": [
    "# Explore subreddit graph\n",
    "Let's look at the graph of subreddits that we collected from comment cross-posting."
   ]
  },
  {
   "cell_type": "code",
   "execution_count": 1,
   "id": "exclusive-prize",
   "metadata": {},
   "outputs": [
    {
     "name": "stdout",
     "output_type": "stream",
     "text": [
      "(28527789, 3)\n"
     ]
    },
    {
     "data": {
      "text/html": [
       "<div>\n",
       "<style scoped>\n",
       "    .dataframe tbody tr th:only-of-type {\n",
       "        vertical-align: middle;\n",
       "    }\n",
       "\n",
       "    .dataframe tbody tr th {\n",
       "        vertical-align: top;\n",
       "    }\n",
       "\n",
       "    .dataframe thead th {\n",
       "        text-align: right;\n",
       "    }\n",
       "</style>\n",
       "<table border=\"1\" class=\"dataframe\">\n",
       "  <thead>\n",
       "    <tr style=\"text-align: right;\">\n",
       "      <th></th>\n",
       "      <th>subreddit_i</th>\n",
       "      <th>subreddit_j</th>\n",
       "      <th>count</th>\n",
       "    </tr>\n",
       "  </thead>\n",
       "  <tbody>\n",
       "    <tr>\n",
       "      <th>0</th>\n",
       "      <td>AskDocs</td>\n",
       "      <td>TooAfraidToAsk</td>\n",
       "      <td>0.003774</td>\n",
       "    </tr>\n",
       "    <tr>\n",
       "      <th>1</th>\n",
       "      <td>EverspaceGame</td>\n",
       "      <td>Minecraft</td>\n",
       "      <td>0.000624</td>\n",
       "    </tr>\n",
       "    <tr>\n",
       "      <th>2</th>\n",
       "      <td>EverspaceGame</td>\n",
       "      <td>MinecraftSwitch</td>\n",
       "      <td>0.035714</td>\n",
       "    </tr>\n",
       "    <tr>\n",
       "      <th>3</th>\n",
       "      <td>EverspaceGame</td>\n",
       "      <td>NintendoSwitch</td>\n",
       "      <td>0.000656</td>\n",
       "    </tr>\n",
       "    <tr>\n",
       "      <th>4</th>\n",
       "      <td>EverspaceGame</td>\n",
       "      <td>OXENFREE</td>\n",
       "      <td>0.028571</td>\n",
       "    </tr>\n",
       "  </tbody>\n",
       "</table>\n",
       "</div>"
      ],
      "text/plain": [
       "     subreddit_i      subreddit_j     count\n",
       "0        AskDocs   TooAfraidToAsk  0.003774\n",
       "1  EverspaceGame        Minecraft  0.000624\n",
       "2  EverspaceGame  MinecraftSwitch  0.035714\n",
       "3  EverspaceGame   NintendoSwitch  0.000656\n",
       "4  EverspaceGame         OXENFREE  0.028571"
      ]
     },
     "metadata": {},
     "output_type": "display_data"
    }
   ],
   "source": [
    "import pandas as pd\n",
    "subreddit_comment_graph = pd.read_csv('../../data/reddit_data/comment_2019-01_cross_posting.gz', sep='\\t', compression='gzip', index_col=False)\n",
    "subreddit_comment_graph.drop('Unnamed: 0', axis=1, inplace=True)\n",
    "print(subreddit_comment_graph.shape)\n",
    "display(subreddit_comment_graph.head())"
   ]
  },
  {
   "cell_type": "code",
   "execution_count": 2,
   "id": "fixed-refrigerator",
   "metadata": {},
   "outputs": [
    {
     "data": {
      "text/html": [
       "<div>\n",
       "<style scoped>\n",
       "    .dataframe tbody tr th:only-of-type {\n",
       "        vertical-align: middle;\n",
       "    }\n",
       "\n",
       "    .dataframe tbody tr th {\n",
       "        vertical-align: top;\n",
       "    }\n",
       "\n",
       "    .dataframe thead th {\n",
       "        text-align: right;\n",
       "    }\n",
       "</style>\n",
       "<table border=\"1\" class=\"dataframe\">\n",
       "  <thead>\n",
       "    <tr style=\"text-align: right;\">\n",
       "      <th></th>\n",
       "      <th>subreddit_i</th>\n",
       "      <th>subreddit_j</th>\n",
       "      <th>count</th>\n",
       "    </tr>\n",
       "  </thead>\n",
       "  <tbody>\n",
       "    <tr>\n",
       "      <th>15498417</th>\n",
       "      <td>MusicalWritingPrompts</td>\n",
       "      <td>VerseBattles</td>\n",
       "      <td>1.0</td>\n",
       "    </tr>\n",
       "    <tr>\n",
       "      <th>7394202</th>\n",
       "      <td>DearBabby</td>\n",
       "      <td>iamamiwhoami</td>\n",
       "      <td>1.0</td>\n",
       "    </tr>\n",
       "    <tr>\n",
       "      <th>19073178</th>\n",
       "      <td>ShroomIdentify</td>\n",
       "      <td>sissypics</td>\n",
       "      <td>1.0</td>\n",
       "    </tr>\n",
       "    <tr>\n",
       "      <th>17963926</th>\n",
       "      <td>RandomAndNew</td>\n",
       "      <td>corinnakopf</td>\n",
       "      <td>1.0</td>\n",
       "    </tr>\n",
       "    <tr>\n",
       "      <th>17043156</th>\n",
       "      <td>PersonalAdvice</td>\n",
       "      <td>openbroke</td>\n",
       "      <td>1.0</td>\n",
       "    </tr>\n",
       "  </tbody>\n",
       "</table>\n",
       "</div>"
      ],
      "text/plain": [
       "                    subreddit_i   subreddit_j  count\n",
       "15498417  MusicalWritingPrompts  VerseBattles    1.0\n",
       "7394202               DearBabby  iamamiwhoami    1.0\n",
       "19073178         ShroomIdentify     sissypics    1.0\n",
       "17963926           RandomAndNew   corinnakopf    1.0\n",
       "17043156         PersonalAdvice     openbroke    1.0"
      ]
     },
     "metadata": {},
     "output_type": "display_data"
    }
   ],
   "source": [
    "display(subreddit_comment_graph.sort_values('count', inplace=False, ascending=False).head())"
   ]
  },
  {
   "cell_type": "code",
   "execution_count": 3,
   "id": "distinct-bones",
   "metadata": {},
   "outputs": [],
   "source": [
    "## convert to weighted undirected network\n",
    "from networkx import Graph\n",
    "subreddit_graph = Graph()\n",
    "edge_data = subreddit_comment_graph.apply(lambda x: (x.loc['subreddit_i'], x.loc['subreddit_j'], {'weight':x.loc['count']}), axis=1).values\n",
    "subreddit_graph.add_edges_from(edge_data)\n",
    "# for idx_i, data_i in subreddit_comment_graph.iterrows():\n",
    "#     subreddit_graph.add_edge((data_i))"
   ]
  },
  {
   "cell_type": "code",
   "execution_count": 4,
   "id": "drawn-plenty",
   "metadata": {},
   "outputs": [
    {
     "data": {
      "text/plain": [
       "59071"
      ]
     },
     "execution_count": 4,
     "metadata": {},
     "output_type": "execute_result"
    }
   ],
   "source": [
    "len(subreddit_graph)"
   ]
  },
  {
   "cell_type": "code",
   "execution_count": 5,
   "id": "stone-error",
   "metadata": {
    "scrolled": true
   },
   "outputs": [
    {
     "name": "stdout",
     "output_type": "stream",
     "text": [
      "['cardistry', 'magicTCG', 'yugioh', 'HaveWeMet', 'TwoSentenceHorror', 'answers', 'dadjokes', 'findareddit', 'fireemblem', 'tipofmytongue']\n"
     ]
    }
   ],
   "source": [
    "test_node = 'AmItheAsshole'\n",
    "test_edges = list(subreddit_graph.neighbors(test_node))\n",
    "print(test_edges[:10])"
   ]
  },
  {
   "cell_type": "markdown",
   "id": "brutal-unknown",
   "metadata": {},
   "source": [
    "### Get nearest neighbors\n",
    "Let's start by looking for top-K neighbors for each advice subreddit."
   ]
  },
  {
   "cell_type": "code",
   "execution_count": 9,
   "id": "filled-portable",
   "metadata": {},
   "outputs": [
    {
     "data": {
      "text/plain": [
       "0"
      ]
     },
     "execution_count": 9,
     "metadata": {},
     "output_type": "execute_result"
    }
   ],
   "source": [
    "import numpy as np\n",
    "len(list(filter(lambda x: type(x) is float and np.isnan(x), subreddit_graph.nodes())))"
   ]
  },
  {
   "cell_type": "code",
   "execution_count": 11,
   "id": "lesbian-shield",
   "metadata": {
    "scrolled": true
   },
   "outputs": [
    {
     "name": "stdout",
     "output_type": "stream",
     "text": [
      "**** subreddit = Advice ****\n"
     ]
    },
    {
     "data": {
      "text/html": [
       "<div>\n",
       "<style scoped>\n",
       "    .dataframe tbody tr th:only-of-type {\n",
       "        vertical-align: middle;\n",
       "    }\n",
       "\n",
       "    .dataframe tbody tr th {\n",
       "        vertical-align: top;\n",
       "    }\n",
       "\n",
       "    .dataframe thead th {\n",
       "        text-align: right;\n",
       "    }\n",
       "</style>\n",
       "<table border=\"1\" class=\"dataframe\">\n",
       "  <thead>\n",
       "    <tr style=\"text-align: right;\">\n",
       "      <th></th>\n",
       "      <th>neighbor</th>\n",
       "      <th>weight</th>\n",
       "    </tr>\n",
       "  </thead>\n",
       "  <tbody>\n",
       "    <tr>\n",
       "      <th>29</th>\n",
       "      <td>relationship_advice</td>\n",
       "      <td>0.015419</td>\n",
       "    </tr>\n",
       "    <tr>\n",
       "      <th>27</th>\n",
       "      <td>offmychest</td>\n",
       "      <td>0.012571</td>\n",
       "    </tr>\n",
       "    <tr>\n",
       "      <th>44</th>\n",
       "      <td>depression</td>\n",
       "      <td>0.01025</td>\n",
       "    </tr>\n",
       "    <tr>\n",
       "      <th>61</th>\n",
       "      <td>dating_advice</td>\n",
       "      <td>0.009391</td>\n",
       "    </tr>\n",
       "    <tr>\n",
       "      <th>17</th>\n",
       "      <td>NoStupidQuestions</td>\n",
       "      <td>0.00904</td>\n",
       "    </tr>\n",
       "    <tr>\n",
       "      <th>25</th>\n",
       "      <td>unpopularopinion</td>\n",
       "      <td>0.008972</td>\n",
       "    </tr>\n",
       "    <tr>\n",
       "      <th>146</th>\n",
       "      <td>AmItheAsshole</td>\n",
       "      <td>0.008605</td>\n",
       "    </tr>\n",
       "    <tr>\n",
       "      <th>4</th>\n",
       "      <td>legaladvice</td>\n",
       "      <td>0.008489</td>\n",
       "    </tr>\n",
       "    <tr>\n",
       "      <th>62</th>\n",
       "      <td>relationships</td>\n",
       "      <td>0.008075</td>\n",
       "    </tr>\n",
       "    <tr>\n",
       "      <th>144</th>\n",
       "      <td>rant</td>\n",
       "      <td>0.007669</td>\n",
       "    </tr>\n",
       "  </tbody>\n",
       "</table>\n",
       "</div>"
      ],
      "text/plain": [
       "                neighbor    weight\n",
       "29   relationship_advice  0.015419\n",
       "27            offmychest  0.012571\n",
       "44            depression   0.01025\n",
       "61         dating_advice  0.009391\n",
       "17     NoStupidQuestions   0.00904\n",
       "25      unpopularopinion  0.008972\n",
       "146        AmItheAsshole  0.008605\n",
       "4            legaladvice  0.008489\n",
       "62         relationships  0.008075\n",
       "144                 rant  0.007669"
      ]
     },
     "metadata": {},
     "output_type": "display_data"
    },
    {
     "name": "stdout",
     "output_type": "stream",
     "text": [
      "**** subreddit = AmItheAsshole ****\n"
     ]
    },
    {
     "data": {
      "text/html": [
       "<div>\n",
       "<style scoped>\n",
       "    .dataframe tbody tr th:only-of-type {\n",
       "        vertical-align: middle;\n",
       "    }\n",
       "\n",
       "    .dataframe tbody tr th {\n",
       "        vertical-align: top;\n",
       "    }\n",
       "\n",
       "    .dataframe thead th {\n",
       "        text-align: right;\n",
       "    }\n",
       "</style>\n",
       "<table border=\"1\" class=\"dataframe\">\n",
       "  <thead>\n",
       "    <tr style=\"text-align: right;\">\n",
       "      <th></th>\n",
       "      <th>neighbor</th>\n",
       "      <th>weight</th>\n",
       "    </tr>\n",
       "  </thead>\n",
       "  <tbody>\n",
       "    <tr>\n",
       "      <th>11</th>\n",
       "      <td>unpopularopinion</td>\n",
       "      <td>0.011298</td>\n",
       "    </tr>\n",
       "    <tr>\n",
       "      <th>66</th>\n",
       "      <td>relationship_advice</td>\n",
       "      <td>0.009141</td>\n",
       "    </tr>\n",
       "    <tr>\n",
       "      <th>73</th>\n",
       "      <td>Advice</td>\n",
       "      <td>0.008605</td>\n",
       "    </tr>\n",
       "    <tr>\n",
       "      <th>51</th>\n",
       "      <td>NoStupidQuestions</td>\n",
       "      <td>0.008415</td>\n",
       "    </tr>\n",
       "    <tr>\n",
       "      <th>179</th>\n",
       "      <td>TooAfraidToAsk</td>\n",
       "      <td>0.005994</td>\n",
       "    </tr>\n",
       "    <tr>\n",
       "      <th>79</th>\n",
       "      <td>rant</td>\n",
       "      <td>0.005797</td>\n",
       "    </tr>\n",
       "    <tr>\n",
       "      <th>35</th>\n",
       "      <td>TrueOffMyChest</td>\n",
       "      <td>0.005644</td>\n",
       "    </tr>\n",
       "    <tr>\n",
       "      <th>115</th>\n",
       "      <td>offmychest</td>\n",
       "      <td>0.005363</td>\n",
       "    </tr>\n",
       "    <tr>\n",
       "      <th>161</th>\n",
       "      <td>legaladvice</td>\n",
       "      <td>0.005104</td>\n",
       "    </tr>\n",
       "    <tr>\n",
       "      <th>257</th>\n",
       "      <td>confessions</td>\n",
       "      <td>0.004592</td>\n",
       "    </tr>\n",
       "  </tbody>\n",
       "</table>\n",
       "</div>"
      ],
      "text/plain": [
       "                neighbor    weight\n",
       "11      unpopularopinion  0.011298\n",
       "66   relationship_advice  0.009141\n",
       "73                Advice  0.008605\n",
       "51     NoStupidQuestions  0.008415\n",
       "179       TooAfraidToAsk  0.005994\n",
       "79                  rant  0.005797\n",
       "35        TrueOffMyChest  0.005644\n",
       "115           offmychest  0.005363\n",
       "161          legaladvice  0.005104\n",
       "257          confessions  0.004592"
      ]
     },
     "metadata": {},
     "output_type": "display_data"
    },
    {
     "name": "stdout",
     "output_type": "stream",
     "text": [
      "**** subreddit = pcmasterrace ****\n"
     ]
    },
    {
     "data": {
      "text/html": [
       "<div>\n",
       "<style scoped>\n",
       "    .dataframe tbody tr th:only-of-type {\n",
       "        vertical-align: middle;\n",
       "    }\n",
       "\n",
       "    .dataframe tbody tr th {\n",
       "        vertical-align: top;\n",
       "    }\n",
       "\n",
       "    .dataframe thead th {\n",
       "        text-align: right;\n",
       "    }\n",
       "</style>\n",
       "<table border=\"1\" class=\"dataframe\">\n",
       "  <thead>\n",
       "    <tr style=\"text-align: right;\">\n",
       "      <th></th>\n",
       "      <th>neighbor</th>\n",
       "      <th>weight</th>\n",
       "    </tr>\n",
       "  </thead>\n",
       "  <tbody>\n",
       "    <tr>\n",
       "      <th>18</th>\n",
       "      <td>buildapc</td>\n",
       "      <td>0.032952</td>\n",
       "    </tr>\n",
       "    <tr>\n",
       "      <th>34</th>\n",
       "      <td>techsupport</td>\n",
       "      <td>0.015459</td>\n",
       "    </tr>\n",
       "    <tr>\n",
       "      <th>244</th>\n",
       "      <td>Amd</td>\n",
       "      <td>0.012332</td>\n",
       "    </tr>\n",
       "    <tr>\n",
       "      <th>167</th>\n",
       "      <td>Monitors</td>\n",
       "      <td>0.010835</td>\n",
       "    </tr>\n",
       "    <tr>\n",
       "      <th>139</th>\n",
       "      <td>MechanicalKeyboards</td>\n",
       "      <td>0.009976</td>\n",
       "    </tr>\n",
       "    <tr>\n",
       "      <th>58</th>\n",
       "      <td>gaming</td>\n",
       "      <td>0.009952</td>\n",
       "    </tr>\n",
       "    <tr>\n",
       "      <th>59</th>\n",
       "      <td>nvidia</td>\n",
       "      <td>0.008893</td>\n",
       "    </tr>\n",
       "    <tr>\n",
       "      <th>273</th>\n",
       "      <td>overclocking</td>\n",
       "      <td>0.00828</td>\n",
       "    </tr>\n",
       "    <tr>\n",
       "      <th>30</th>\n",
       "      <td>buildmeapc</td>\n",
       "      <td>0.007428</td>\n",
       "    </tr>\n",
       "    <tr>\n",
       "      <th>97</th>\n",
       "      <td>hardwareswap</td>\n",
       "      <td>0.007359</td>\n",
       "    </tr>\n",
       "  </tbody>\n",
       "</table>\n",
       "</div>"
      ],
      "text/plain": [
       "                neighbor    weight\n",
       "18              buildapc  0.032952\n",
       "34           techsupport  0.015459\n",
       "244                  Amd  0.012332\n",
       "167             Monitors  0.010835\n",
       "139  MechanicalKeyboards  0.009976\n",
       "58                gaming  0.009952\n",
       "59                nvidia  0.008893\n",
       "273         overclocking   0.00828\n",
       "30            buildmeapc  0.007428\n",
       "97          hardwareswap  0.007359"
      ]
     },
     "metadata": {},
     "output_type": "display_data"
    },
    {
     "name": "stdout",
     "output_type": "stream",
     "text": [
      "**** subreddit = legaladvice ****\n"
     ]
    },
    {
     "data": {
      "text/html": [
       "<div>\n",
       "<style scoped>\n",
       "    .dataframe tbody tr th:only-of-type {\n",
       "        vertical-align: middle;\n",
       "    }\n",
       "\n",
       "    .dataframe tbody tr th {\n",
       "        vertical-align: top;\n",
       "    }\n",
       "\n",
       "    .dataframe thead th {\n",
       "        text-align: right;\n",
       "    }\n",
       "</style>\n",
       "<table border=\"1\" class=\"dataframe\">\n",
       "  <thead>\n",
       "    <tr style=\"text-align: right;\">\n",
       "      <th></th>\n",
       "      <th>neighbor</th>\n",
       "      <th>weight</th>\n",
       "    </tr>\n",
       "  </thead>\n",
       "  <tbody>\n",
       "    <tr>\n",
       "      <th>8</th>\n",
       "      <td>LegalAdviceUK</td>\n",
       "      <td>0.011506</td>\n",
       "    </tr>\n",
       "    <tr>\n",
       "      <th>33</th>\n",
       "      <td>personalfinance</td>\n",
       "      <td>0.010983</td>\n",
       "    </tr>\n",
       "    <tr>\n",
       "      <th>5</th>\n",
       "      <td>Advice</td>\n",
       "      <td>0.008489</td>\n",
       "    </tr>\n",
       "    <tr>\n",
       "      <th>45</th>\n",
       "      <td>NoStupidQuestions</td>\n",
       "      <td>0.006366</td>\n",
       "    </tr>\n",
       "    <tr>\n",
       "      <th>251</th>\n",
       "      <td>AmItheAsshole</td>\n",
       "      <td>0.005104</td>\n",
       "    </tr>\n",
       "    <tr>\n",
       "      <th>67</th>\n",
       "      <td>unpopularopinion</td>\n",
       "      <td>0.004556</td>\n",
       "    </tr>\n",
       "    <tr>\n",
       "      <th>35</th>\n",
       "      <td>AskDocs</td>\n",
       "      <td>0.00442</td>\n",
       "    </tr>\n",
       "    <tr>\n",
       "      <th>119</th>\n",
       "      <td>relationship_advice</td>\n",
       "      <td>0.003989</td>\n",
       "    </tr>\n",
       "    <tr>\n",
       "      <th>68</th>\n",
       "      <td>offmychest</td>\n",
       "      <td>0.003528</td>\n",
       "    </tr>\n",
       "    <tr>\n",
       "      <th>360</th>\n",
       "      <td>legaladviceofftopic</td>\n",
       "      <td>0.003355</td>\n",
       "    </tr>\n",
       "  </tbody>\n",
       "</table>\n",
       "</div>"
      ],
      "text/plain": [
       "                neighbor    weight\n",
       "8          LegalAdviceUK  0.011506\n",
       "33       personalfinance  0.010983\n",
       "5                 Advice  0.008489\n",
       "45     NoStupidQuestions  0.006366\n",
       "251        AmItheAsshole  0.005104\n",
       "67      unpopularopinion  0.004556\n",
       "35               AskDocs   0.00442\n",
       "119  relationship_advice  0.003989\n",
       "68            offmychest  0.003528\n",
       "360  legaladviceofftopic  0.003355"
      ]
     },
     "metadata": {},
     "output_type": "display_data"
    },
    {
     "name": "stdout",
     "output_type": "stream",
     "text": [
      "**** subreddit = personalfinance ****\n"
     ]
    },
    {
     "data": {
      "text/html": [
       "<div>\n",
       "<style scoped>\n",
       "    .dataframe tbody tr th:only-of-type {\n",
       "        vertical-align: middle;\n",
       "    }\n",
       "\n",
       "    .dataframe tbody tr th {\n",
       "        vertical-align: top;\n",
       "    }\n",
       "\n",
       "    .dataframe thead th {\n",
       "        text-align: right;\n",
       "    }\n",
       "</style>\n",
       "<table border=\"1\" class=\"dataframe\">\n",
       "  <thead>\n",
       "    <tr style=\"text-align: right;\">\n",
       "      <th></th>\n",
       "      <th>neighbor</th>\n",
       "      <th>weight</th>\n",
       "    </tr>\n",
       "  </thead>\n",
       "  <tbody>\n",
       "    <tr>\n",
       "      <th>73</th>\n",
       "      <td>legaladvice</td>\n",
       "      <td>0.010983</td>\n",
       "    </tr>\n",
       "    <tr>\n",
       "      <th>86</th>\n",
       "      <td>tax</td>\n",
       "      <td>0.010244</td>\n",
       "    </tr>\n",
       "    <tr>\n",
       "      <th>222</th>\n",
       "      <td>investing</td>\n",
       "      <td>0.007689</td>\n",
       "    </tr>\n",
       "    <tr>\n",
       "      <th>53</th>\n",
       "      <td>HomeImprovement</td>\n",
       "      <td>0.006899</td>\n",
       "    </tr>\n",
       "    <tr>\n",
       "      <th>106</th>\n",
       "      <td>jobs</td>\n",
       "      <td>0.005829</td>\n",
       "    </tr>\n",
       "    <tr>\n",
       "      <th>45</th>\n",
       "      <td>RealEstate</td>\n",
       "      <td>0.005463</td>\n",
       "    </tr>\n",
       "    <tr>\n",
       "      <th>7</th>\n",
       "      <td>CreditCards</td>\n",
       "      <td>0.005436</td>\n",
       "    </tr>\n",
       "    <tr>\n",
       "      <th>66</th>\n",
       "      <td>NoStupidQuestions</td>\n",
       "      <td>0.005387</td>\n",
       "    </tr>\n",
       "    <tr>\n",
       "      <th>91</th>\n",
       "      <td>Advice</td>\n",
       "      <td>0.004732</td>\n",
       "    </tr>\n",
       "    <tr>\n",
       "      <th>55</th>\n",
       "      <td>careerguidance</td>\n",
       "      <td>0.004564</td>\n",
       "    </tr>\n",
       "  </tbody>\n",
       "</table>\n",
       "</div>"
      ],
      "text/plain": [
       "              neighbor    weight\n",
       "73         legaladvice  0.010983\n",
       "86                 tax  0.010244\n",
       "222          investing  0.007689\n",
       "53     HomeImprovement  0.006899\n",
       "106               jobs  0.005829\n",
       "45          RealEstate  0.005463\n",
       "7          CreditCards  0.005436\n",
       "66   NoStupidQuestions  0.005387\n",
       "91              Advice  0.004732\n",
       "55      careerguidance  0.004564"
      ]
     },
     "metadata": {},
     "output_type": "display_data"
    }
   ],
   "source": [
    "advice_subreddits = ['Advice', 'AmItheAsshole', 'pcmasterrace', 'legaladvice', 'personalfinance']\n",
    "top_k = 10\n",
    "advice_subreddit_neighbor_data = []\n",
    "for node_i in advice_subreddits:\n",
    "    print(f'**** subreddit = {node_i} ****')\n",
    "    neighbors_i = list(subreddit_graph.neighbors(node_i))\n",
    "    neighbors_i = pd.DataFrame([\n",
    "        neighbors_i,\n",
    "        list(map(lambda x: subreddit_graph.get_edge_data(node_i, x)['weight'], neighbors_i))\n",
    "    ], index=['neighbor', 'weight']).transpose()\n",
    "    neighbors_i.sort_values('weight', inplace=True, ascending=False)\n",
    "    top_k_neighbors_i = neighbors_i.head(top_k)\n",
    "    display(top_k_neighbors_i)\n",
    "    top_k_neighbor_data_i = neighbors_i.loc[:, ['neighbor']].assign(**{'subreddit' : node_i})\n",
    "    advice_subreddit_neighbor_data.append(top_k_neighbor_data_i)\n",
    "advice_subreddit_neighbor_data = pd.concat(advice_subreddit_neighbor_data, axis=0)"
   ]
  },
  {
   "cell_type": "markdown",
   "id": "outer-gasoline",
   "metadata": {},
   "source": [
    "Great! These subreddits identify different areas of expertise that could inform how questions are generated. \n",
    "\n",
    "Ex. for a comment in `legaladvice`, if someone has posted in `jobs` and `careerguidance` then they likely have more experience in answering legal questions."
   ]
  },
  {
   "cell_type": "markdown",
   "id": "appreciated-screw",
   "metadata": {},
   "source": [
    "### Test subreddit coverage in prior posts\n",
    "Let's use the related subreddits and test the coverage among prior posts for the comment authors."
   ]
  },
  {
   "cell_type": "code",
   "execution_count": 32,
   "id": "flying-champagne",
   "metadata": {
    "scrolled": true
   },
   "outputs": [
    {
     "name": "stdout",
     "output_type": "stream",
     "text": [
      "4660479\n"
     ]
    },
    {
     "data": {
      "text/html": [
       "<div>\n",
       "<style scoped>\n",
       "    .dataframe tbody tr th:only-of-type {\n",
       "        vertical-align: middle;\n",
       "    }\n",
       "\n",
       "    .dataframe tbody tr th {\n",
       "        vertical-align: top;\n",
       "    }\n",
       "\n",
       "    .dataframe thead th {\n",
       "        text-align: right;\n",
       "    }\n",
       "</style>\n",
       "<table border=\"1\" class=\"dataframe\">\n",
       "  <thead>\n",
       "    <tr style=\"text-align: right;\">\n",
       "      <th></th>\n",
       "      <th>author</th>\n",
       "      <th>created_utc</th>\n",
       "      <th>subreddit</th>\n",
       "      <th>questions</th>\n",
       "      <th>date</th>\n",
       "    </tr>\n",
       "  </thead>\n",
       "  <tbody>\n",
       "    <tr>\n",
       "      <th>0</th>\n",
       "      <td>grumpypantsoldman</td>\n",
       "      <td>1541030405</td>\n",
       "      <td>AmItheAsshole</td>\n",
       "      <td>[Who needs a crazy person in their lives?]</td>\n",
       "      <td>2018-11-01 00:00:05</td>\n",
       "    </tr>\n",
       "    <tr>\n",
       "      <th>1</th>\n",
       "      <td>unknown_salmon</td>\n",
       "      <td>1541030426</td>\n",
       "      <td>Advice</td>\n",
       "      <td>[Do you think you could be bothered to have a ...</td>\n",
       "      <td>2018-11-01 00:00:26</td>\n",
       "    </tr>\n",
       "    <tr>\n",
       "      <th>2</th>\n",
       "      <td>vld-s</td>\n",
       "      <td>1541030467</td>\n",
       "      <td>AmItheAsshole</td>\n",
       "      <td>[]</td>\n",
       "      <td>2018-11-01 00:01:07</td>\n",
       "    </tr>\n",
       "    <tr>\n",
       "      <th>3</th>\n",
       "      <td>Prepperpoints2Ponder</td>\n",
       "      <td>1541030470</td>\n",
       "      <td>personalfinance</td>\n",
       "      <td>[]</td>\n",
       "      <td>2018-11-01 00:01:10</td>\n",
       "    </tr>\n",
       "    <tr>\n",
       "      <th>4</th>\n",
       "      <td>juliej891</td>\n",
       "      <td>1541030493</td>\n",
       "      <td>Advice</td>\n",
       "      <td>[If it was me, I’d just let him do his thing w...</td>\n",
       "      <td>2018-11-01 00:01:33</td>\n",
       "    </tr>\n",
       "  </tbody>\n",
       "</table>\n",
       "</div>"
      ],
      "text/plain": [
       "                 author created_utc        subreddit  \\\n",
       "0     grumpypantsoldman  1541030405    AmItheAsshole   \n",
       "1        unknown_salmon  1541030426           Advice   \n",
       "2                 vld-s  1541030467    AmItheAsshole   \n",
       "3  Prepperpoints2Ponder  1541030470  personalfinance   \n",
       "4             juliej891  1541030493           Advice   \n",
       "\n",
       "                                           questions                date  \n",
       "0         [Who needs a crazy person in their lives?] 2018-11-01 00:00:05  \n",
       "1  [Do you think you could be bothered to have a ... 2018-11-01 00:00:26  \n",
       "2                                                 [] 2018-11-01 00:01:07  \n",
       "3                                                 [] 2018-11-01 00:01:10  \n",
       "4  [If it was me, I’d just let him do his thing w... 2018-11-01 00:01:33  "
      ]
     },
     "metadata": {},
     "output_type": "display_data"
    }
   ],
   "source": [
    "## load question data\n",
    "from ast import literal_eval\n",
    "from datetime import datetime\n",
    "comment_data = pd.read_csv('../../data/reddit_data/subreddit_combined_comment_question_data.gz', sep='\\t', compression='gzip', usecols=['subreddit', 'author', 'questions', 'created_utc'])\n",
    "comment_data = comment_data[comment_data.loc[:, 'created_utc'].apply(lambda x: type(x) is int)]\n",
    "comment_data = comment_data.assign(**{\n",
    "    'questions' : comment_data.loc[:, 'questions'].apply(lambda x: literal_eval(x) if type(x) is str else ''),\n",
    "    'date' : comment_data.loc[:, 'created_utc'].apply(lambda x: datetime.fromtimestamp(x))\n",
    "})\n",
    "print(comment_data.shape[0])\n",
    "display(comment_data.head())\n",
    "# cutoff data to match comment graph time: one month after comment graph\n",
    "start_time = datetime(year=2019, month=2, day=1)\n",
    "end_time = datetime(year=2019, month=3, day=1)\n",
    "valid_comment_data = comment_data[(comment_data.loc[:, 'date'] >= start_time) & \n",
    "                                  (comment_data.loc[:, 'date'] <= end_time)]\n",
    "# must include >= 1 question\n",
    "question_comment_data = valid_comment_data[valid_comment_data.loc[:, 'questions'].apply(lambda x: len(x) > 0)]\n",
    "## sample authors who ask questions\n",
    "import numpy as np\n",
    "np.random.seed(123)\n",
    "subreddit_sample_size = 100\n",
    "subreddit_sample_author_data = []\n",
    "for subreddit_i, data_i in question_comment_data.groupby('subreddit'):\n",
    "    sample_authors_i = np.random.choice(data_i.loc[:, 'author'].unique(), subreddit_sample_size, replace=False)\n",
    "    sample_data_i = data_i[data_i.loc[:, 'author'].isin(sample_authors_i)].loc[:, ['subreddit', 'author']].drop_duplicates('author')\n",
    "    subreddit_sample_author_data.append(sample_data_i)\n",
    "subreddit_sample_author_data = pd.concat(subreddit_sample_author_data, axis=0)"
   ]
  },
  {
   "cell_type": "code",
   "execution_count": 33,
   "id": "funky-ensemble",
   "metadata": {},
   "outputs": [
    {
     "name": "stdout",
     "output_type": "stream",
     "text": [
      "500\n"
     ]
    }
   ],
   "source": [
    "print(subreddit_sample_author_data.shape[0])"
   ]
  },
  {
   "cell_type": "code",
   "execution_count": null,
   "id": "indonesian-calibration",
   "metadata": {},
   "outputs": [
    {
     "name": "stderr",
     "output_type": "stream",
     "text": [
      "14416901it [20:59, 11496.02it/s]"
     ]
    }
   ],
   "source": [
    "## collect data from comment file\n",
    "from data_helpers import FileReader\n",
    "import json\n",
    "comment_file = '/local2/lbiester/pushshift/comments/RC_2018-12.zst'\n",
    "sample_author_prior_comments = []\n",
    "sample_author_prior_comment_count = 100\n",
    "subreddit_sample_authors = subreddit_sample_author_data.loc[:, 'author'].unique()\n",
    "# keep track of comments collected per author\n",
    "# end collection when we get enough comments for everyone\n",
    "subreddit_sample_author_counts = np.zeros(len(subreddit_sample_authors))\n",
    "subreddit_sample_author_idx = dict(zip(subreddit_sample_authors, range(len(subreddit_sample_authors))))\n",
    "for l in tqdm(FileReader(comment_file)):\n",
    "    try:\n",
    "        l_data = json.loads(l.strip())\n",
    "        if(l_data['author'] in subreddit_sample_authors):\n",
    "            author_idx = subreddit_sample_author_idx[l_data['author']]\n",
    "            if(subreddit_sample_author_counts[author_idx] < sample_author_prior_comment_count):\n",
    "                sample_author_prior_comments.append([l_data['author'], l_data['subreddit']])\n",
    "                subreddit_sample_author_counts[author_idx] += 1\n",
    "        if(all(subreddit_sample_author_counts >= sample_author_prior_comment_count)):\n",
    "            break\n",
    "#         ctr += 1\n",
    "#         if(ctr % 1000000 == 0):\n",
    "#             print(f'processed {ctr} comments')\n",
    "    except Exception as e:\n",
    "        print(e)\n",
    "        break"
   ]
  },
  {
   "cell_type": "code",
   "execution_count": 20,
   "id": "included-investment",
   "metadata": {},
   "outputs": [],
   "source": [
    "## TODO: get 1000 prior comments from all authors, test % coverage among related subreddits\n",
    "from importlib import reload\n",
    "import data_helpers\n",
    "reload(data_helpers)\n",
    "from data_helpers import load_reddit_api\n",
    "reddit_auth_file = '../../data/auth_data/reddit_auth.csv'\n",
    "reddit_api, pushshift_reddit_api = load_reddit_api(reddit_auth_file)"
   ]
  },
  {
   "cell_type": "code",
   "execution_count": 43,
   "id": "endangered-specific",
   "metadata": {
    "scrolled": true
   },
   "outputs": [
    {
     "name": "stderr",
     "output_type": "stream",
     "text": [
      "  0%|          | 0/500 [06:39<?, ?it/s]\n"
     ]
    },
    {
     "ename": "Exception",
     "evalue": "Unable to connect to pushshift.io. Max retries exceeded.",
     "output_type": "error",
     "traceback": [
      "\u001b[0;31m---------------------------------------------------------------------------\u001b[0m",
      "\u001b[0;31mException\u001b[0m                                 Traceback (most recent call last)",
      "\u001b[0;32m<ipython-input-43-286260c10994>\u001b[0m in \u001b[0;36m<module>\u001b[0;34m\u001b[0m\n\u001b[1;32m     11\u001b[0m         \u001b[0mlimit\u001b[0m\u001b[0;34m=\u001b[0m\u001b[0mauthor_comment_sample_count\u001b[0m\u001b[0;34m,\u001b[0m\u001b[0;34m\u001b[0m\u001b[0;34m\u001b[0m\u001b[0m\n\u001b[1;32m     12\u001b[0m     )\n\u001b[0;32m---> 13\u001b[0;31m     \u001b[0msample_author_posts\u001b[0m\u001b[0;34m.\u001b[0m\u001b[0mextend\u001b[0m\u001b[0;34m(\u001b[0m\u001b[0mlist\u001b[0m\u001b[0;34m(\u001b[0m\u001b[0mmap\u001b[0m\u001b[0;34m(\u001b[0m\u001b[0;32mlambda\u001b[0m \u001b[0mx\u001b[0m\u001b[0;34m:\u001b[0m \u001b[0mx\u001b[0m\u001b[0;34m.\u001b[0m\u001b[0m__dict__\u001b[0m\u001b[0;34m(\u001b[0m\u001b[0;34m)\u001b[0m\u001b[0;34m,\u001b[0m \u001b[0mauthor_comments_i\u001b[0m\u001b[0;34m)\u001b[0m\u001b[0;34m)\u001b[0m\u001b[0;34m)\u001b[0m\u001b[0;34m\u001b[0m\u001b[0;34m\u001b[0m\u001b[0m\n\u001b[0m\u001b[1;32m     14\u001b[0m \u001b[0msample_author_posts\u001b[0m \u001b[0;34m=\u001b[0m \u001b[0mpd\u001b[0m\u001b[0;34m.\u001b[0m\u001b[0mDataFrame\u001b[0m\u001b[0;34m(\u001b[0m\u001b[0msample_author_posts\u001b[0m\u001b[0;34m)\u001b[0m\u001b[0;34m\u001b[0m\u001b[0;34m\u001b[0m\u001b[0m\n",
      "\u001b[0;32m~/miniconda3/envs/py3/lib/python3.8/site-packages/psaw/PushshiftAPI.py\u001b[0m in \u001b[0;36m_praw_search\u001b[0;34m(self, **kwargs)\u001b[0m\n\u001b[1;32m    372\u001b[0m             \u001b[0mgen\u001b[0m \u001b[0;34m=\u001b[0m \u001b[0;34m[\u001b[0m\u001b[0mself\u001b[0m\u001b[0;34m.\u001b[0m\u001b[0m_get_submission_comment_ids\u001b[0m\u001b[0;34m(\u001b[0m\u001b[0;34m**\u001b[0m\u001b[0mkwargs\u001b[0m\u001b[0;34m)\u001b[0m\u001b[0;34m]\u001b[0m\u001b[0;34m\u001b[0m\u001b[0;34m\u001b[0m\u001b[0m\n\u001b[1;32m    373\u001b[0m \u001b[0;34m\u001b[0m\u001b[0m\n\u001b[0;32m--> 374\u001b[0;31m         \u001b[0;32mfor\u001b[0m \u001b[0mbatch\u001b[0m \u001b[0;32min\u001b[0m \u001b[0mgen\u001b[0m\u001b[0;34m:\u001b[0m\u001b[0;34m\u001b[0m\u001b[0;34m\u001b[0m\u001b[0m\n\u001b[0m\u001b[1;32m    375\u001b[0m             \u001b[0;32mif\u001b[0m \u001b[0;32mnot\u001b[0m \u001b[0mbatch\u001b[0m\u001b[0;34m:\u001b[0m\u001b[0;34m\u001b[0m\u001b[0;34m\u001b[0m\u001b[0m\n\u001b[1;32m    376\u001b[0m                 \u001b[0;32mreturn\u001b[0m\u001b[0;34m\u001b[0m\u001b[0;34m\u001b[0m\u001b[0m\n",
      "\u001b[0;32m~/miniconda3/envs/py3/lib/python3.8/site-packages/psaw/PushshiftAPI.py\u001b[0m in \u001b[0;36m_search\u001b[0;34m(self, kind, stop_condition, return_batch, dataset, **kwargs)\u001b[0m\n\u001b[1;32m    236\u001b[0m         \u001b[0mendpoint\u001b[0m \u001b[0;34m=\u001b[0m \u001b[0;34m'{dataset}/{kind}/search'\u001b[0m\u001b[0;34m.\u001b[0m\u001b[0mformat\u001b[0m\u001b[0;34m(\u001b[0m\u001b[0mdataset\u001b[0m\u001b[0;34m=\u001b[0m\u001b[0mdataset\u001b[0m\u001b[0;34m,\u001b[0m \u001b[0mkind\u001b[0m\u001b[0;34m=\u001b[0m\u001b[0mkind\u001b[0m\u001b[0;34m)\u001b[0m\u001b[0;34m\u001b[0m\u001b[0;34m\u001b[0m\u001b[0m\n\u001b[1;32m    237\u001b[0m         \u001b[0murl\u001b[0m \u001b[0;34m=\u001b[0m \u001b[0mself\u001b[0m\u001b[0;34m.\u001b[0m\u001b[0mbase_url\u001b[0m\u001b[0;34m.\u001b[0m\u001b[0mformat\u001b[0m\u001b[0;34m(\u001b[0m\u001b[0mendpoint\u001b[0m\u001b[0;34m=\u001b[0m\u001b[0mendpoint\u001b[0m\u001b[0;34m)\u001b[0m\u001b[0;34m\u001b[0m\u001b[0;34m\u001b[0m\u001b[0m\n\u001b[0;32m--> 238\u001b[0;31m         \u001b[0;32mfor\u001b[0m \u001b[0mresponse\u001b[0m \u001b[0;32min\u001b[0m \u001b[0mself\u001b[0m\u001b[0;34m.\u001b[0m\u001b[0m_handle_paging\u001b[0m\u001b[0;34m(\u001b[0m\u001b[0murl\u001b[0m\u001b[0;34m)\u001b[0m\u001b[0;34m:\u001b[0m\u001b[0;34m\u001b[0m\u001b[0;34m\u001b[0m\u001b[0m\n\u001b[0m\u001b[1;32m    239\u001b[0m             \u001b[0;32mif\u001b[0m \u001b[0;34m'aggs'\u001b[0m \u001b[0;32min\u001b[0m \u001b[0mresponse\u001b[0m\u001b[0;34m:\u001b[0m\u001b[0;34m\u001b[0m\u001b[0;34m\u001b[0m\u001b[0m\n\u001b[1;32m    240\u001b[0m                 \u001b[0;32myield\u001b[0m \u001b[0mresponse\u001b[0m\u001b[0;34m[\u001b[0m\u001b[0;34m'aggs'\u001b[0m\u001b[0;34m]\u001b[0m\u001b[0;34m\u001b[0m\u001b[0;34m\u001b[0m\u001b[0m\n",
      "\u001b[0;32m~/miniconda3/envs/py3/lib/python3.8/site-packages/psaw/PushshiftAPI.py\u001b[0m in \u001b[0;36m_handle_paging\u001b[0;34m(self, url)\u001b[0m\n\u001b[1;32m    213\u001b[0m             \u001b[0mself\u001b[0m\u001b[0;34m.\u001b[0m\u001b[0m_add_nec_args\u001b[0m\u001b[0;34m(\u001b[0m\u001b[0mself\u001b[0m\u001b[0;34m.\u001b[0m\u001b[0mpayload\u001b[0m\u001b[0;34m)\u001b[0m\u001b[0;34m\u001b[0m\u001b[0;34m\u001b[0m\u001b[0m\n\u001b[1;32m    214\u001b[0m \u001b[0;34m\u001b[0m\u001b[0m\n\u001b[0;32m--> 215\u001b[0;31m             \u001b[0mdata\u001b[0m \u001b[0;34m=\u001b[0m \u001b[0mself\u001b[0m\u001b[0;34m.\u001b[0m\u001b[0m_get\u001b[0m\u001b[0;34m(\u001b[0m\u001b[0murl\u001b[0m\u001b[0;34m,\u001b[0m \u001b[0mself\u001b[0m\u001b[0;34m.\u001b[0m\u001b[0mpayload\u001b[0m\u001b[0;34m)\u001b[0m\u001b[0;34m\u001b[0m\u001b[0;34m\u001b[0m\u001b[0m\n\u001b[0m\u001b[1;32m    216\u001b[0m             \u001b[0;32myield\u001b[0m \u001b[0mdata\u001b[0m\u001b[0;34m\u001b[0m\u001b[0;34m\u001b[0m\u001b[0m\n\u001b[1;32m    217\u001b[0m             \u001b[0;32mif\u001b[0m \u001b[0mlimit\u001b[0m \u001b[0;32mis\u001b[0m \u001b[0;32mnot\u001b[0m \u001b[0;32mNone\u001b[0m\u001b[0;34m:\u001b[0m\u001b[0;34m\u001b[0m\u001b[0;34m\u001b[0m\u001b[0m\n",
      "\u001b[0;32m~/miniconda3/envs/py3/lib/python3.8/site-packages/psaw/PushshiftAPI.py\u001b[0m in \u001b[0;36m_get\u001b[0;34m(self, url, payload)\u001b[0m\n\u001b[1;32m    192\u001b[0m                 \u001b[0mwarnings\u001b[0m\u001b[0;34m.\u001b[0m\u001b[0mwarn\u001b[0m\u001b[0;34m(\u001b[0m\u001b[0;34m\"Got non 200 code %s\"\u001b[0m \u001b[0;34m%\u001b[0m \u001b[0mresponse\u001b[0m\u001b[0;34m.\u001b[0m\u001b[0mstatus_code\u001b[0m\u001b[0;34m)\u001b[0m\u001b[0;34m\u001b[0m\u001b[0;34m\u001b[0m\u001b[0m\n\u001b[1;32m    193\u001b[0m         \u001b[0;32mif\u001b[0m \u001b[0;32mnot\u001b[0m \u001b[0msuccess\u001b[0m\u001b[0;34m:\u001b[0m\u001b[0;34m\u001b[0m\u001b[0;34m\u001b[0m\u001b[0m\n\u001b[0;32m--> 194\u001b[0;31m             \u001b[0;32mraise\u001b[0m \u001b[0mException\u001b[0m\u001b[0;34m(\u001b[0m\u001b[0;34m\"Unable to connect to pushshift.io. Max retries exceeded.\"\u001b[0m\u001b[0;34m)\u001b[0m\u001b[0;34m\u001b[0m\u001b[0;34m\u001b[0m\u001b[0m\n\u001b[0m\u001b[1;32m    195\u001b[0m         \u001b[0;32mreturn\u001b[0m \u001b[0mjson\u001b[0m\u001b[0;34m.\u001b[0m\u001b[0mloads\u001b[0m\u001b[0;34m(\u001b[0m\u001b[0mresponse\u001b[0m\u001b[0;34m.\u001b[0m\u001b[0mtext\u001b[0m\u001b[0;34m)\u001b[0m\u001b[0;34m\u001b[0m\u001b[0;34m\u001b[0m\u001b[0m\n\u001b[1;32m    196\u001b[0m \u001b[0;34m\u001b[0m\u001b[0m\n",
      "\u001b[0;31mException\u001b[0m: Unable to connect to pushshift.io. Max retries exceeded."
     ]
    }
   ],
   "source": [
    "from tqdm import tqdm\n",
    "author_comment_sample_count = 100\n",
    "start_time = datetime(year=2019, month=2, day=1).timestamp()\n",
    "end_time = datetime(year=2019, month=3, day=1).timestamp()\n",
    "sample_author_posts = []\n",
    "for sample_author_i in tqdm(subreddit_sample_author_data.loc[:, 'author'].unique()):\n",
    "    author_comments_i = pushshift_reddit_api.search_comments(\n",
    "        author=sample_author_i,\n",
    "        after=start_time,\n",
    "        before=end_time,\n",
    "        limit=author_comment_sample_count,\n",
    "    )\n",
    "    sample_author_posts.extend(list(map(lambda x: x.__dict__(), author_comments_i)))\n",
    "sample_author_posts = pd.DataFrame(sample_author_posts)"
   ]
  },
  {
   "cell_type": "markdown",
   "id": "classical-circulation",
   "metadata": {},
   "source": [
    "### Old code"
   ]
  },
  {
   "cell_type": "markdown",
   "id": "executive-brother",
   "metadata": {},
   "source": [
    "### Find communities\n",
    "Let's look for consistent communities in the graph."
   ]
  },
  {
   "cell_type": "code",
   "execution_count": 24,
   "id": "hourly-particular",
   "metadata": {},
   "outputs": [
    {
     "data": {
      "image/png": "[encoded data removed]",
      "text/plain": [
       "<Figure size 432x288 with 1 Axes>"
      ]
     },
     "metadata": {
      "needs_background": "light"
     },
     "output_type": "display_data"
    }
   ],
   "source": [
    "## plot edge weight distribution\n",
    "import matplotlib\n",
    "%matplotlib inline\n",
    "import matplotlib.pyplot as plt\n",
    "import numpy as np\n",
    "subreddit_graph_edges = np.array(subreddit_graph.edges())\n",
    "subreddit_graph_edge_weights = np.array([subreddit_graph.get_edge_data(*e)['weight'] for e in subreddit_graph_edges])\n",
    "plt.hist(subreddit_graph_edge_weights, bins=20)\n",
    "plt.yscale('log')\n",
    "plt.show()"
   ]
  },
  {
   "cell_type": "markdown",
   "id": "interracial-business",
   "metadata": {},
   "source": [
    "Most subreddits have weak connections. Let's try to prune those!"
   ]
  },
  {
   "cell_type": "code",
   "execution_count": 69,
   "id": "variable-friend",
   "metadata": {
    "scrolled": true
   },
   "outputs": [
    {
     "name": "stdout",
     "output_type": "stream",
     "text": [
      "edge weight cutoff = 5.0\n",
      "24737/28527789 edges retained after pruning\n"
     ]
    }
   ],
   "source": [
    "edge_weight_cutoff_pct = 99.9\n",
    "edge_weight_cutoff = np.percentile(subreddit_graph_edge_weights, edge_weight_cutoff_pct)\n",
    "print(f'edge weight cutoff = {edge_weight_cutoff}')\n",
    "subreddit_graph_edges_cutoff = subreddit_graph_edges[np.where(subreddit_graph_edge_weights > edge_weight_cutoff)[0]]\n",
    "print(f'{len(subreddit_graph_edges_cutoff)}/{len(subreddit_graph_edges)} edges retained after pruning')\n",
    "prune_subreddit_graph = Graph()\n",
    "for edge_i in subreddit_graph_edges_cutoff:\n",
    "    weight_i = subreddit_graph.get_edge_data(*edge_i)['weight']\n",
    "    prune_subreddit_graph.add_edge(*edge_i, weight=weight_i)"
   ]
  },
  {
   "cell_type": "code",
   "execution_count": 50,
   "id": "satisfactory-hearing",
   "metadata": {
    "scrolled": true
   },
   "outputs": [
    {
     "name": "stdout",
     "output_type": "stream",
     "text": [
      "4941\n"
     ]
    }
   ],
   "source": [
    "print(len(prune_subreddit_graph))"
   ]
  },
  {
   "cell_type": "code",
   "execution_count": 51,
   "id": "surprising-rally",
   "metadata": {},
   "outputs": [],
   "source": [
    "## identify giant component\n",
    "from networkx import connected_components\n",
    "subreddit_connected_components = connected_components(prune_subreddit_graph)\n",
    "subreddit_giant_component = list(sorted(subreddit_connected_components, key=len, reverse=True))[0]\n",
    "subreddit_main_graph = subreddit_graph.subgraph(subreddit_giant_component)"
   ]
  },
  {
   "cell_type": "code",
   "execution_count": 52,
   "id": "compliant-battery",
   "metadata": {},
   "outputs": [
    {
     "name": "stdout",
     "output_type": "stream",
     "text": [
      "1242\n",
      "4645\n"
     ]
    }
   ],
   "source": [
    "print(len(list(connected_components(subreddit_graph))))\n",
    "print(len(subreddit_main_graph))"
   ]
  },
  {
   "cell_type": "code",
   "execution_count": 53,
   "id": "another-mambo",
   "metadata": {},
   "outputs": [],
   "source": [
    "import community # Louvain takes ~ 10 mins\n",
    "# from networkx.algorithms.community.modularity_max import greedy_modularity_communities\n",
    "# subreddit_graph_partition = list(greedy_modularity_communities(subreddit_graph))\n",
    "subreddit_graph_partition = community.best_partition(subreddit_main_graph, weight='weight')"
   ]
  },
  {
   "cell_type": "code",
   "execution_count": 54,
   "id": "productive-article",
   "metadata": {},
   "outputs": [
    {
     "name": "stdout",
     "output_type": "stream",
     "text": [
      "4645\n"
     ]
    }
   ],
   "source": [
    "print(len(subreddit_graph_partition))"
   ]
  },
  {
   "cell_type": "code",
   "execution_count": 55,
   "id": "adjacent-synthetic",
   "metadata": {},
   "outputs": [],
   "source": [
    "# convert to community sets\n",
    "from collections import defaultdict\n",
    "subreddit_communities = defaultdict(set)\n",
    "for subreddit_i, id_i in subreddit_graph_partition.items():\n",
    "    subreddit_communities[id_i].add(subreddit_i)"
   ]
  },
  {
   "cell_type": "code",
   "execution_count": 56,
   "id": "blond-thesaurus",
   "metadata": {},
   "outputs": [
    {
     "name": "stdout",
     "output_type": "stream",
     "text": [
      "2433\n"
     ]
    }
   ],
   "source": [
    "subreddit_communities_by_size = list(sorted(subreddit_communities.keys(), key=lambda x: len(subreddit_communities.get(x)), reverse=True))\n",
    "print(len(subreddit_communities[subreddit_communities_by_size[0]]))\n",
    "# print(list(sorted(subreddit_communities[subreddit_communities_by_size[0]])))"
   ]
  },
  {
   "cell_type": "code",
   "execution_count": 57,
   "id": "naughty-guarantee",
   "metadata": {},
   "outputs": [
    {
     "name": "stdout",
     "output_type": "stream",
     "text": [
      "6\n",
      "6\n",
      "3\n",
      "6\n",
      "6\n"
     ]
    }
   ],
   "source": [
    "advice_subreddits = ['Advice', 'AmItheAsshole', 'pcmasterrace', 'legaladvice', 'personalfinance']\n",
    "for advice_subreddit in advice_subreddits:\n",
    "    print(subreddit_graph_partition[advice_subreddit])"
   ]
  },
  {
   "cell_type": "markdown",
   "id": "coral-helping",
   "metadata": {},
   "source": [
    "Most of the advice subreddits end up in the same community."
   ]
  },
  {
   "cell_type": "markdown",
   "id": "fleet-excess",
   "metadata": {},
   "source": [
    "### Normalize weights\n",
    "Let's normalize the edge weights by what % of each subreddit's out-degree.\n",
    "\n",
    "- A-B have 100 users\n",
    "- A-C have 30 users\n",
    "- B-C have 10 users\n",
    "\n",
    "- A-B normalized =  1/2*(100/130 + 100/110) = 84%\n",
    "- A-C normalized = 1/2*(30/130 + 30/40) = 49%\n",
    "- B-C normalized = 1/2*(30/130 + 30/40) = 17%"
   ]
  },
  {
   "cell_type": "code",
   "execution_count": 74,
   "id": "expensive-coordinator",
   "metadata": {
    "scrolled": true
   },
   "outputs": [
    {
     "name": "stdout",
     "output_type": "stream",
     "text": [
      "8343\n"
     ]
    }
   ],
   "source": [
    "# get combined weights\n",
    "subreddit_combined_weights = {n : sum([prune_subreddit_graph.get_edge_data(n, n1)['weight'] for n1 in prune_subreddit_graph.neighbors(n)]) for n in prune_subreddit_graph.nodes()}\n",
    "print(subreddit_combined_weights['Advice'])\n",
    "# normalize lol\n",
    "def compute_norm_edge_weight(n1, n2, weight, combined_weights):\n",
    "    norm_weight = 0.5 * (weight / combined_weights[n1] + weight / combined_weights[n2])\n",
    "    return norm_weight\n",
    "subreddit_norm_edge_data = [(n1, n2, {'weight' : compute_norm_edge_weight(n1, n2, prune_subreddit_graph.get_edge_data(n1, n2)['weight'], subreddit_combined_weights)}) for n1, n2 in prune_subreddit_graph.edges()]\n",
    "import networkx\n",
    "norm_weight_subreddit_graph = networkx.from_edgelist(subreddit_norm_edge_data)"
   ]
  },
  {
   "cell_type": "code",
   "execution_count": 78,
   "id": "quiet-singer",
   "metadata": {},
   "outputs": [
    {
     "data": {
      "image/png": "[encoded data removed]",
      "text/plain": [
       "<Figure size 432x288 with 1 Axes>"
      ]
     },
     "metadata": {
      "needs_background": "light"
     },
     "output_type": "display_data"
    }
   ],
   "source": [
    "import matplotlib\n",
    "%matplotlib inline\n",
    "import matplotlib.pyplot as plt\n",
    "norm_weights = [norm_weight_subreddit_graph.get_edge_data(*e)['weight'] for e in norm_weight_subreddit_graph.edges()]\n",
    "plt.hist(norm_weights, bins=20)\n",
    "plt.show()"
   ]
  },
  {
   "cell_type": "markdown",
   "id": "tight-europe",
   "metadata": {},
   "source": [
    "Most subreddits have weak cross-posting connections. We also have a bump around 0.5, suggesting that some subreddits with low degree have strong connections with half of their neighbors."
   ]
  },
  {
   "cell_type": "markdown",
   "id": "wooden-removal",
   "metadata": {},
   "source": [
    "Next step: let's look for the top-K neighbors for each of the subreddits of interest."
   ]
  },
  {
   "cell_type": "code",
   "execution_count": 81,
   "id": "central-inside",
   "metadata": {
    "scrolled": true
   },
   "outputs": [
    {
     "name": "stdout",
     "output_type": "stream",
     "text": [
      "subreddit=Advice, neighbors=[('helpme', 0.500659235287067), ('MMFB', 0.5004195133644972), ('domesticviolence', 0.5004195133644972), ('Adulting', 0.5004195133644972), ('LifeAdvice', 0.36459525132664294), ('work', 0.32577909624835194), ('PlasticSurgery', 0.2817893743257821), ('education', 0.2504195133644972), ('MadeMeSmile', 0.25035958288385474), ('CleaningTips', 0.23112881365308552)]\n",
      "subreddit=AmItheAsshole, neighbors=[('pettyrevenge', 0.13075757033217555), ('skiing', 0.11635142170108333), ('MaliciousCompliance', 0.10655223298336075), ('badroommates', 0.0914502094747019), ('entitledparents', 0.06441483308190142), ('Herpes', 0.04444506718603315), ('TalesFromYourServer', 0.041289075088623915), ('vancouver', 0.04045378339917514), ('relationship_advice', 0.039799374560282694), ('omad', 0.0394283447780064)]\n",
      "subreddit=personalfinance, neighbors=[('Birmingham', 0.5007266385699753), ('consulting', 0.5005813108559802), ('Dashcam', 0.5005813108559802), ('nashville', 0.5005086469989827), ('tulsa', 0.5004359831419852), ('portfolios', 0.5004359831419852), ('investing_discussion', 0.5004359831419852), ('PFJerk', 0.5004359831419852), ('venmo', 0.5004359831419852), ('FinancialPlanning', 0.37080050296026235)]\n",
      "subreddit=legaladvice, neighbors=[('AusLegal', 0.5030761556368474), ('legal', 0.5025773195876289), ('LegalAdviceEU', 0.5009976720984369), ('CaliforniaTicketHelp', 0.5005819753907549), ('SingleParents', 0.5004988360492185), ('Mattress', 0.5004988360492185), ('Nanny', 0.5004988360492185), ('Truckers', 0.5004988360492185), ('Charlotte', 0.5004988360492185), ('renting', 0.5004988360492185)]\n",
      "subreddit=pcmasterrace, neighbors=[('BulletBarry', 0.5008524488530688), ('LinusTechTips', 0.5007749535027899), ('gmod', 0.5005424674519529), ('origin', 0.28633424851651756), ('spaceengineers', 0.2504649721016739), ('nier', 0.23123420287090468), ('PcMasterRaceBuilds', 0.19636187682397593), ('Rainmeter', 0.1824381446204137), ('gigabytegaming', 0.16061996280223187), ('EVGA', 0.13591008863792498)]\n"
     ]
    }
   ],
   "source": [
    "advice_subreddits = ['Advice', 'AmItheAsshole', 'personalfinance', 'legaladvice', 'pcmasterrace']\n",
    "top_k = 10\n",
    "for subreddit_i in advice_subreddits:\n",
    "    neighbors_i = norm_weight_subreddit_graph.neighbors(subreddit_i)\n",
    "    neighbor_weights_i = [(n_j, norm_weight_subreddit_graph.get_edge_data(subreddit_i, n_j)['weight']) for n_j in neighbors_i]\n",
    "    neighbor_weights_i = list(sorted(neighbor_weights_i, key=lambda x: x[1], reverse=True))\n",
    "    print(f'subreddit={subreddit_i}, neighbors={neighbor_weights_i[:top_k]}')"
   ]
  },
  {
   "cell_type": "markdown",
   "id": "logical-answer",
   "metadata": {},
   "source": [
    "Most of the top-K neighbors are relevant, but some of them are definitely off the mark:\n",
    "- `Advice`: `Adulting` relevant, `PlasticSurgery` irrelevant\n",
    "- `AmItheAsshole`: `pettyrevenge` relevant, `skiing` irrelevant\n",
    "- `personalfinance`: `consulting` relevant, `Birmingham` irrelevant\n",
    "- `legaladvice`: `AusLegal` relevant, `Charlotte` irrelevant\n",
    "- `pcmasterrace`: `LinusTechTips` relevant, `nier` irrelevant"
   ]
  },
  {
   "cell_type": "code",
   "execution_count": null,
   "id": "powerful-carrier",
   "metadata": {},
   "outputs": [],
   "source": []
  }
 ],
 "metadata": {
  "kernelspec": {
   "display_name": "Python [conda env:py3] *",
   "language": "python",
   "name": "conda-env-py3-py"
  },
  "language_info": {
   "codemirror_mode": {
    "name": "ipython",
    "version": 3
   },
   "file_extension": ".py",
   "mimetype": "text/x-python",
   "name": "python",
   "nbconvert_exporter": "python",
   "pygments_lexer": "ipython3",
   "version": "3.8.5"
  }
 },
 "nbformat": 4,
 "nbformat_minor": 5
}
