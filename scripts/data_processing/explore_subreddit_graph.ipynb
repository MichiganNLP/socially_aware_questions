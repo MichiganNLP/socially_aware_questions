{
 "cells": [
  {
   "cell_type": "markdown",
   "id": "european-mexican",
   "metadata": {},
   "source": [
    "# Explore subreddit graph\n",
    "Let's look at the graph of subreddits that we collected from comment cross-posting."
   ]
  },
  {
   "cell_type": "code",
   "execution_count": 6,
   "id": "reduced-feature",
   "metadata": {},
   "outputs": [
    {
     "name": "stdout",
     "output_type": "stream",
     "text": [
      "(28527789, 3)\n"
     ]
    },
    {
     "data": {
      "text/html": [
       "<div>\n",
       "<style scoped>\n",
       "    .dataframe tbody tr th:only-of-type {\n",
       "        vertical-align: middle;\n",
       "    }\n",
       "\n",
       "    .dataframe tbody tr th {\n",
       "        vertical-align: top;\n",
       "    }\n",
       "\n",
       "    .dataframe thead th {\n",
       "        text-align: right;\n",
       "    }\n",
       "</style>\n",
       "<table border=\"1\" class=\"dataframe\">\n",
       "  <thead>\n",
       "    <tr style=\"text-align: right;\">\n",
       "      <th></th>\n",
       "      <th>subreddit_i</th>\n",
       "      <th>subreddit_j</th>\n",
       "      <th>count</th>\n",
       "    </tr>\n",
       "  </thead>\n",
       "  <tbody>\n",
       "    <tr>\n",
       "      <th>0</th>\n",
       "      <td>AskDocs</td>\n",
       "      <td>TooAfraidToAsk</td>\n",
       "      <td>140.5</td>\n",
       "    </tr>\n",
       "    <tr>\n",
       "      <th>1</th>\n",
       "      <td>EverspaceGame</td>\n",
       "      <td>Minecraft</td>\n",
       "      <td>2.5</td>\n",
       "    </tr>\n",
       "    <tr>\n",
       "      <th>2</th>\n",
       "      <td>EverspaceGame</td>\n",
       "      <td>MinecraftSwitch</td>\n",
       "      <td>2.0</td>\n",
       "    </tr>\n",
       "    <tr>\n",
       "      <th>3</th>\n",
       "      <td>EverspaceGame</td>\n",
       "      <td>NintendoSwitch</td>\n",
       "      <td>2.5</td>\n",
       "    </tr>\n",
       "    <tr>\n",
       "      <th>4</th>\n",
       "      <td>EverspaceGame</td>\n",
       "      <td>OXENFREE</td>\n",
       "      <td>1.5</td>\n",
       "    </tr>\n",
       "  </tbody>\n",
       "</table>\n",
       "</div>"
      ],
      "text/plain": [
       "     subreddit_i      subreddit_j  count\n",
       "0        AskDocs   TooAfraidToAsk  140.5\n",
       "1  EverspaceGame        Minecraft    2.5\n",
       "2  EverspaceGame  MinecraftSwitch    2.0\n",
       "3  EverspaceGame   NintendoSwitch    2.5\n",
       "4  EverspaceGame         OXENFREE    1.5"
      ]
     },
     "metadata": {},
     "output_type": "display_data"
    }
   ],
   "source": [
    "import pandas as pd\n",
    "subreddit_comment_graph = pd.read_csv('../../data/reddit_data/comment_2019-01_cross_posting.gz', sep='\\t', compression='gzip', index_col=False)\n",
    "subreddit_comment_graph.drop('Unnamed: 0', axis=1, inplace=True)\n",
    "print(subreddit_comment_graph.shape)\n",
    "display(subreddit_comment_graph.head())"
   ]
  },
  {
   "cell_type": "code",
   "execution_count": 11,
   "id": "unlike-attraction",
   "metadata": {},
   "outputs": [
    {
     "data": {
      "text/html": [
       "<div>\n",
       "<style scoped>\n",
       "    .dataframe tbody tr th:only-of-type {\n",
       "        vertical-align: middle;\n",
       "    }\n",
       "\n",
       "    .dataframe tbody tr th {\n",
       "        vertical-align: top;\n",
       "    }\n",
       "\n",
       "    .dataframe thead th {\n",
       "        text-align: right;\n",
       "    }\n",
       "</style>\n",
       "<table border=\"1\" class=\"dataframe\">\n",
       "  <thead>\n",
       "    <tr style=\"text-align: right;\">\n",
       "      <th></th>\n",
       "      <th>subreddit_i</th>\n",
       "      <th>subreddit_j</th>\n",
       "      <th>count</th>\n",
       "    </tr>\n",
       "  </thead>\n",
       "  <tbody>\n",
       "    <tr>\n",
       "      <th>879</th>\n",
       "      <td>Market76</td>\n",
       "      <td>fo76</td>\n",
       "      <td>7390.0</td>\n",
       "    </tr>\n",
       "    <tr>\n",
       "      <th>2009</th>\n",
       "      <td>AgeplayPenPals</td>\n",
       "      <td>dirtypenpals</td>\n",
       "      <td>7065.5</td>\n",
       "    </tr>\n",
       "    <tr>\n",
       "      <th>548</th>\n",
       "      <td>Market76</td>\n",
       "      <td>fo76bazaar</td>\n",
       "      <td>5878.0</td>\n",
       "    </tr>\n",
       "    <tr>\n",
       "      <th>2010</th>\n",
       "      <td>dirtykikpals</td>\n",
       "      <td>dirtypenpals</td>\n",
       "      <td>4268.5</td>\n",
       "    </tr>\n",
       "    <tr>\n",
       "      <th>43679</th>\n",
       "      <td>teenagers</td>\n",
       "      <td>teenagersnew</td>\n",
       "      <td>3642.0</td>\n",
       "    </tr>\n",
       "  </tbody>\n",
       "</table>\n",
       "</div>"
      ],
      "text/plain": [
       "          subreddit_i   subreddit_j   count\n",
       "879          Market76          fo76  7390.0\n",
       "2009   AgeplayPenPals  dirtypenpals  7065.5\n",
       "548          Market76    fo76bazaar  5878.0\n",
       "2010     dirtykikpals  dirtypenpals  4268.5\n",
       "43679       teenagers  teenagersnew  3642.0"
      ]
     },
     "metadata": {},
     "output_type": "display_data"
    }
   ],
   "source": [
    "## convert to weighted undirected network\n",
    "display(subreddit_comment_graph.sort_values('count', inplace=False, ascending=False).head())"
   ]
  },
  {
   "cell_type": "code",
   "execution_count": 9,
   "id": "decreased-malawi",
   "metadata": {},
   "outputs": [
    {
     "data": {
      "text/html": [
       "<div>\n",
       "<style scoped>\n",
       "    .dataframe tbody tr th:only-of-type {\n",
       "        vertical-align: middle;\n",
       "    }\n",
       "\n",
       "    .dataframe tbody tr th {\n",
       "        vertical-align: top;\n",
       "    }\n",
       "\n",
       "    .dataframe thead th {\n",
       "        text-align: right;\n",
       "    }\n",
       "</style>\n",
       "<table border=\"1\" class=\"dataframe\">\n",
       "  <thead>\n",
       "    <tr style=\"text-align: right;\">\n",
       "      <th></th>\n",
       "      <th>subreddit_i</th>\n",
       "      <th>subreddit_j</th>\n",
       "      <th>count</th>\n",
       "    </tr>\n",
       "  </thead>\n",
       "  <tbody>\n",
       "  </tbody>\n",
       "</table>\n",
       "</div>"
      ],
      "text/plain": [
       "Empty DataFrame\n",
       "Columns: [subreddit_i, subreddit_j, count]\n",
       "Index: []"
      ]
     },
     "execution_count": 9,
     "metadata": {},
     "output_type": "execute_result"
    }
   ],
   "source": [
    "subreddit_comment_graph[(subreddit_comment_graph.loc[:, 'subreddit_j']=='AskDocs') & \n",
    "                        (subreddit_comment_graph.loc[:, 'subreddit_i']=='TooAfraidToAsk')]"
   ]
  },
  {
   "cell_type": "code",
   "execution_count": null,
   "id": "constitutional-compatibility",
   "metadata": {},
   "outputs": [],
   "source": []
  }
 ],
 "metadata": {
  "kernelspec": {
   "display_name": "Python [conda env:py3] *",
   "language": "python",
   "name": "conda-env-py3-py"
  },
  "language_info": {
   "codemirror_mode": {
    "name": "ipython",
    "version": 3
   },
   "file_extension": ".py",
   "mimetype": "text/x-python",
   "name": "python",
   "nbconvert_exporter": "python",
   "pygments_lexer": "ipython3",
   "version": "3.8.5"
  }
 },
 "nbformat": 4,
 "nbformat_minor": 5
}
