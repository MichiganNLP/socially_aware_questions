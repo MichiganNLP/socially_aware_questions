{
 "cells": [
  {
   "cell_type": "markdown",
   "id": "macro-bonus",
   "metadata": {},
   "source": [
    "# Explore subreddit graph\n",
    "Let's look at the graph of subreddits that we collected from comment cross-posting."
   ]
  },
  {
   "cell_type": "code",
   "execution_count": 1,
   "id": "cutting-quantity",
   "metadata": {},
   "outputs": [
    {
     "name": "stdout",
     "output_type": "stream",
     "text": [
      "(28527789, 3)\n"
     ]
    },
    {
     "data": {
      "text/html": [
       "<div>\n",
       "<style scoped>\n",
       "    .dataframe tbody tr th:only-of-type {\n",
       "        vertical-align: middle;\n",
       "    }\n",
       "\n",
       "    .dataframe tbody tr th {\n",
       "        vertical-align: top;\n",
       "    }\n",
       "\n",
       "    .dataframe thead th {\n",
       "        text-align: right;\n",
       "    }\n",
       "</style>\n",
       "<table border=\"1\" class=\"dataframe\">\n",
       "  <thead>\n",
       "    <tr style=\"text-align: right;\">\n",
       "      <th></th>\n",
       "      <th>subreddit_i</th>\n",
       "      <th>subreddit_j</th>\n",
       "      <th>count</th>\n",
       "    </tr>\n",
       "  </thead>\n",
       "  <tbody>\n",
       "    <tr>\n",
       "      <th>0</th>\n",
       "      <td>AskDocs</td>\n",
       "      <td>TooAfraidToAsk</td>\n",
       "      <td>33</td>\n",
       "    </tr>\n",
       "    <tr>\n",
       "      <th>1</th>\n",
       "      <td>EverspaceGame</td>\n",
       "      <td>Minecraft</td>\n",
       "      <td>2</td>\n",
       "    </tr>\n",
       "    <tr>\n",
       "      <th>2</th>\n",
       "      <td>EverspaceGame</td>\n",
       "      <td>MinecraftSwitch</td>\n",
       "      <td>1</td>\n",
       "    </tr>\n",
       "    <tr>\n",
       "      <th>3</th>\n",
       "      <td>EverspaceGame</td>\n",
       "      <td>NintendoSwitch</td>\n",
       "      <td>1</td>\n",
       "    </tr>\n",
       "    <tr>\n",
       "      <th>4</th>\n",
       "      <td>EverspaceGame</td>\n",
       "      <td>OXENFREE</td>\n",
       "      <td>1</td>\n",
       "    </tr>\n",
       "  </tbody>\n",
       "</table>\n",
       "</div>"
      ],
      "text/plain": [
       "     subreddit_i      subreddit_j  count\n",
       "0        AskDocs   TooAfraidToAsk     33\n",
       "1  EverspaceGame        Minecraft      2\n",
       "2  EverspaceGame  MinecraftSwitch      1\n",
       "3  EverspaceGame   NintendoSwitch      1\n",
       "4  EverspaceGame         OXENFREE      1"
      ]
     },
     "metadata": {},
     "output_type": "display_data"
    }
   ],
   "source": [
    "import pandas as pd\n",
    "subreddit_comment_graph = pd.read_csv('../../data/reddit_data/comment_2019-01_cross_posting.gz', sep='\\t', compression='gzip', index_col=False)\n",
    "subreddit_comment_graph.drop('Unnamed: 0', axis=1, inplace=True)\n",
    "print(subreddit_comment_graph.shape)\n",
    "display(subreddit_comment_graph.head())"
   ]
  },
  {
   "cell_type": "code",
   "execution_count": 2,
   "id": "prime-community",
   "metadata": {},
   "outputs": [
    {
     "data": {
      "text/html": [
       "<div>\n",
       "<style scoped>\n",
       "    .dataframe tbody tr th:only-of-type {\n",
       "        vertical-align: middle;\n",
       "    }\n",
       "\n",
       "    .dataframe tbody tr th {\n",
       "        vertical-align: top;\n",
       "    }\n",
       "\n",
       "    .dataframe thead th {\n",
       "        text-align: right;\n",
       "    }\n",
       "</style>\n",
       "<table border=\"1\" class=\"dataframe\">\n",
       "  <thead>\n",
       "    <tr style=\"text-align: right;\">\n",
       "      <th></th>\n",
       "      <th>subreddit_i</th>\n",
       "      <th>subreddit_j</th>\n",
       "      <th>count</th>\n",
       "    </tr>\n",
       "  </thead>\n",
       "  <tbody>\n",
       "    <tr>\n",
       "      <th>879</th>\n",
       "      <td>Market76</td>\n",
       "      <td>fo76</td>\n",
       "      <td>1194</td>\n",
       "    </tr>\n",
       "    <tr>\n",
       "      <th>2009</th>\n",
       "      <td>AgeplayPenPals</td>\n",
       "      <td>dirtypenpals</td>\n",
       "      <td>1103</td>\n",
       "    </tr>\n",
       "    <tr>\n",
       "      <th>548</th>\n",
       "      <td>Market76</td>\n",
       "      <td>fo76bazaar</td>\n",
       "      <td>807</td>\n",
       "    </tr>\n",
       "    <tr>\n",
       "      <th>1000</th>\n",
       "      <td>fo76</td>\n",
       "      <td>fo76bazaar</td>\n",
       "      <td>699</td>\n",
       "    </tr>\n",
       "    <tr>\n",
       "      <th>475</th>\n",
       "      <td>NoStupidQuestions</td>\n",
       "      <td>unpopularopinion</td>\n",
       "      <td>690</td>\n",
       "    </tr>\n",
       "  </tbody>\n",
       "</table>\n",
       "</div>"
      ],
      "text/plain": [
       "            subreddit_i       subreddit_j  count\n",
       "879            Market76              fo76   1194\n",
       "2009     AgeplayPenPals      dirtypenpals   1103\n",
       "548            Market76        fo76bazaar    807\n",
       "1000               fo76        fo76bazaar    699\n",
       "475   NoStupidQuestions  unpopularopinion    690"
      ]
     },
     "metadata": {},
     "output_type": "display_data"
    }
   ],
   "source": [
    "display(subreddit_comment_graph.sort_values('count', inplace=False, ascending=False).head())"
   ]
  },
  {
   "cell_type": "code",
   "execution_count": 3,
   "id": "married-macro",
   "metadata": {},
   "outputs": [],
   "source": [
    "## convert to weighted undirected network\n",
    "from networkx import Graph\n",
    "subreddit_graph = Graph()\n",
    "edge_data = subreddit_comment_graph.apply(lambda x: (x.loc['subreddit_i'], x.loc['subreddit_j'], {'weight':x.loc['count']}), axis=1).values\n",
    "subreddit_graph.add_edges_from(edge_data)\n",
    "# for idx_i, data_i in subreddit_comment_graph.iterrows():\n",
    "#     subreddit_graph.add_edge((data_i))"
   ]
  },
  {
   "cell_type": "code",
   "execution_count": 4,
   "id": "weird-kingdom",
   "metadata": {},
   "outputs": [
    {
     "data": {
      "text/plain": [
       "59071"
      ]
     },
     "execution_count": 4,
     "metadata": {},
     "output_type": "execute_result"
    }
   ],
   "source": [
    "len(subreddit_graph)"
   ]
  },
  {
   "cell_type": "code",
   "execution_count": 5,
   "id": "animated-services",
   "metadata": {
    "scrolled": true
   },
   "outputs": [
    {
     "name": "stdout",
     "output_type": "stream",
     "text": [
      "['cardistry', 'magicTCG', 'yugioh', 'HaveWeMet', 'TwoSentenceHorror', 'answers', 'dadjokes', 'findareddit', 'fireemblem', 'tipofmytongue']\n"
     ]
    }
   ],
   "source": [
    "test_node = 'AmItheAsshole'\n",
    "test_edges = list(subreddit_graph.neighbors(test_node))\n",
    "print(test_edges[:10])"
   ]
  },
  {
   "cell_type": "markdown",
   "id": "convertible-yield",
   "metadata": {},
   "source": [
    "### Find communities\n",
    "Let's look for consistent communities in the graph."
   ]
  },
  {
   "cell_type": "code",
   "execution_count": 24,
   "id": "improved-tonight",
   "metadata": {},
   "outputs": [
    {
     "data": {
      "image/png": "[encoded data removed]",
      "text/plain": [
       "<Figure size 432x288 with 1 Axes>"
      ]
     },
     "metadata": {
      "needs_background": "light"
     },
     "output_type": "display_data"
    }
   ],
   "source": [
    "## plot edge weight distribution\n",
    "import matplotlib\n",
    "%matplotlib inline\n",
    "import matplotlib.pyplot as plt\n",
    "import numpy as np\n",
    "subreddit_graph_edges = np.array(subreddit_graph.edges())\n",
    "subreddit_graph_edge_weights = np.array([subreddit_graph.get_edge_data(*e)['weight'] for e in subreddit_graph_edges])\n",
    "plt.hist(subreddit_graph_edge_weights, bins=20)\n",
    "plt.yscale('log')\n",
    "plt.show()"
   ]
  },
  {
   "cell_type": "markdown",
   "id": "metric-mailman",
   "metadata": {},
   "source": [
    "Most subreddits have weak connections. Let's try to prune those!"
   ]
  },
  {
   "cell_type": "code",
   "execution_count": 69,
   "id": "divided-sugar",
   "metadata": {
    "scrolled": true
   },
   "outputs": [
    {
     "name": "stdout",
     "output_type": "stream",
     "text": [
      "edge weight cutoff = 5.0\n",
      "24737/28527789 edges retained after pruning\n"
     ]
    }
   ],
   "source": [
    "edge_weight_cutoff_pct = 99.9\n",
    "edge_weight_cutoff = np.percentile(subreddit_graph_edge_weights, edge_weight_cutoff_pct)\n",
    "print(f'edge weight cutoff = {edge_weight_cutoff}')\n",
    "subreddit_graph_edges_cutoff = subreddit_graph_edges[np.where(subreddit_graph_edge_weights > edge_weight_cutoff)[0]]\n",
    "print(f'{len(subreddit_graph_edges_cutoff)}/{len(subreddit_graph_edges)} edges retained after pruning')\n",
    "prune_subreddit_graph = Graph()\n",
    "for edge_i in subreddit_graph_edges_cutoff:\n",
    "    weight_i = subreddit_graph.get_edge_data(*edge_i)['weight']\n",
    "    prune_subreddit_graph.add_edge(*edge_i, weight=weight_i)"
   ]
  },
  {
   "cell_type": "code",
   "execution_count": 50,
   "id": "unlikely-argentina",
   "metadata": {
    "scrolled": true
   },
   "outputs": [
    {
     "name": "stdout",
     "output_type": "stream",
     "text": [
      "4941\n"
     ]
    }
   ],
   "source": [
    "print(len(prune_subreddit_graph))"
   ]
  },
  {
   "cell_type": "code",
   "execution_count": 51,
   "id": "another-pharmacy",
   "metadata": {},
   "outputs": [],
   "source": [
    "## identify giant component\n",
    "from networkx import connected_components\n",
    "subreddit_connected_components = connected_components(prune_subreddit_graph)\n",
    "subreddit_giant_component = list(sorted(subreddit_connected_components, key=len, reverse=True))[0]\n",
    "subreddit_main_graph = subreddit_graph.subgraph(subreddit_giant_component)"
   ]
  },
  {
   "cell_type": "code",
   "execution_count": 52,
   "id": "hearing-freedom",
   "metadata": {},
   "outputs": [
    {
     "name": "stdout",
     "output_type": "stream",
     "text": [
      "1242\n",
      "4645\n"
     ]
    }
   ],
   "source": [
    "print(len(list(connected_components(subreddit_graph))))\n",
    "print(len(subreddit_main_graph))"
   ]
  },
  {
   "cell_type": "code",
   "execution_count": 53,
   "id": "filled-intent",
   "metadata": {},
   "outputs": [],
   "source": [
    "import community # Louvain takes ~ 10 mins\n",
    "# from networkx.algorithms.community.modularity_max import greedy_modularity_communities\n",
    "# subreddit_graph_partition = list(greedy_modularity_communities(subreddit_graph))\n",
    "subreddit_graph_partition = community.best_partition(subreddit_main_graph, weight='weight')"
   ]
  },
  {
   "cell_type": "code",
   "execution_count": 54,
   "id": "attempted-direction",
   "metadata": {},
   "outputs": [
    {
     "name": "stdout",
     "output_type": "stream",
     "text": [
      "4645\n"
     ]
    }
   ],
   "source": [
    "print(len(subreddit_graph_partition))"
   ]
  },
  {
   "cell_type": "code",
   "execution_count": 55,
   "id": "dependent-offense",
   "metadata": {},
   "outputs": [],
   "source": [
    "# convert to community sets\n",
    "from collections import defaultdict\n",
    "subreddit_communities = defaultdict(set)\n",
    "for subreddit_i, id_i in subreddit_graph_partition.items():\n",
    "    subreddit_communities[id_i].add(subreddit_i)"
   ]
  },
  {
   "cell_type": "code",
   "execution_count": 56,
   "id": "wireless-county",
   "metadata": {},
   "outputs": [
    {
     "name": "stdout",
     "output_type": "stream",
     "text": [
      "2433\n"
     ]
    }
   ],
   "source": [
    "subreddit_communities_by_size = list(sorted(subreddit_communities.keys(), key=lambda x: len(subreddit_communities.get(x)), reverse=True))\n",
    "print(len(subreddit_communities[subreddit_communities_by_size[0]]))\n",
    "# print(list(sorted(subreddit_communities[subreddit_communities_by_size[0]])))"
   ]
  },
  {
   "cell_type": "code",
   "execution_count": 57,
   "id": "spare-analysis",
   "metadata": {},
   "outputs": [
    {
     "name": "stdout",
     "output_type": "stream",
     "text": [
      "6\n",
      "6\n",
      "3\n",
      "6\n",
      "6\n"
     ]
    }
   ],
   "source": [
    "advice_subreddits = ['Advice', 'AmItheAsshole', 'pcmasterrace', 'legaladvice', 'personalfinance']\n",
    "for advice_subreddit in advice_subreddits:\n",
    "    print(subreddit_graph_partition[advice_subreddit])"
   ]
  },
  {
   "cell_type": "markdown",
   "id": "fancy-station",
   "metadata": {},
   "source": [
    "Most of the advice subreddits end up in the same community."
   ]
  },
  {
   "cell_type": "markdown",
   "id": "electrical-macro",
   "metadata": {},
   "source": [
    "### Normalize weights\n",
    "Let's normalize the edge weights by what % of each subreddit's out-degree.\n",
    "\n",
    "- A-B have 100 users\n",
    "- A-C have 30 users\n",
    "- B-C have 10 users\n",
    "\n",
    "- A-B normalized =  1/2*(100/130 + 100/110) = 84%\n",
    "- A-C normalized = 1/2*(30/130 + 30/40) = 49%\n",
    "- B-C normalized = 1/2*(30/130 + 30/40) = 17%"
   ]
  },
  {
   "cell_type": "code",
   "execution_count": 74,
   "id": "superb-remark",
   "metadata": {
    "scrolled": true
   },
   "outputs": [
    {
     "name": "stdout",
     "output_type": "stream",
     "text": [
      "8343\n"
     ]
    }
   ],
   "source": [
    "# get combined weights\n",
    "subreddit_combined_weights = {n : sum([prune_subreddit_graph.get_edge_data(n, n1)['weight'] for n1 in prune_subreddit_graph.neighbors(n)]) for n in prune_subreddit_graph.nodes()}\n",
    "print(subreddit_combined_weights['Advice'])\n",
    "# normalize lol\n",
    "def compute_norm_edge_weight(n1, n2, weight, combined_weights):\n",
    "    norm_weight = 0.5 * (weight / combined_weights[n1] + weight / combined_weights[n2])\n",
    "    return norm_weight\n",
    "subreddit_norm_edge_data = [(n1, n2, {'weight' : compute_norm_edge_weight(n1, n2, prune_subreddit_graph.get_edge_data(n1, n2)['weight'], subreddit_combined_weights)}) for n1, n2 in prune_subreddit_graph.edges()]\n",
    "import networkx\n",
    "norm_weight_subreddit_graph = networkx.from_edgelist(subreddit_norm_edge_data)"
   ]
  },
  {
   "cell_type": "code",
   "execution_count": 78,
   "id": "decimal-mentor",
   "metadata": {},
   "outputs": [
    {
     "data": {
      "image/png": "[encoded data removed]",
      "text/plain": [
       "<Figure size 432x288 with 1 Axes>"
      ]
     },
     "metadata": {
      "needs_background": "light"
     },
     "output_type": "display_data"
    }
   ],
   "source": [
    "import matplotlib\n",
    "%matplotlib inline\n",
    "import matplotlib.pyplot as plt\n",
    "norm_weights = [norm_weight_subreddit_graph.get_edge_data(*e)['weight'] for e in norm_weight_subreddit_graph.edges()]\n",
    "plt.hist(norm_weights, bins=20)\n",
    "plt.show()"
   ]
  },
  {
   "cell_type": "markdown",
   "id": "extra-marine",
   "metadata": {},
   "source": [
    "Most subreddits have weak cross-posting connections. We also have a bump around 0.5, suggesting that some subreddits with low degree have strong connections with half of their neighbors."
   ]
  },
  {
   "cell_type": "markdown",
   "id": "sublime-compromise",
   "metadata": {},
   "source": [
    "Next step: let's look for the top-K neighbors for each of the subreddits of interest."
   ]
  },
  {
   "cell_type": "code",
   "execution_count": 81,
   "id": "bound-chile",
   "metadata": {
    "scrolled": true
   },
   "outputs": [
    {
     "name": "stdout",
     "output_type": "stream",
     "text": [
      "subreddit=Advice, neighbors=[('helpme', 0.500659235287067), ('MMFB', 0.5004195133644972), ('domesticviolence', 0.5004195133644972), ('Adulting', 0.5004195133644972), ('LifeAdvice', 0.36459525132664294), ('work', 0.32577909624835194), ('PlasticSurgery', 0.2817893743257821), ('education', 0.2504195133644972), ('MadeMeSmile', 0.25035958288385474), ('CleaningTips', 0.23112881365308552)]\n",
      "subreddit=AmItheAsshole, neighbors=[('pettyrevenge', 0.13075757033217555), ('skiing', 0.11635142170108333), ('MaliciousCompliance', 0.10655223298336075), ('badroommates', 0.0914502094747019), ('entitledparents', 0.06441483308190142), ('Herpes', 0.04444506718603315), ('TalesFromYourServer', 0.041289075088623915), ('vancouver', 0.04045378339917514), ('relationship_advice', 0.039799374560282694), ('omad', 0.0394283447780064)]\n",
      "subreddit=personalfinance, neighbors=[('Birmingham', 0.5007266385699753), ('consulting', 0.5005813108559802), ('Dashcam', 0.5005813108559802), ('nashville', 0.5005086469989827), ('tulsa', 0.5004359831419852), ('portfolios', 0.5004359831419852), ('investing_discussion', 0.5004359831419852), ('PFJerk', 0.5004359831419852), ('venmo', 0.5004359831419852), ('FinancialPlanning', 0.37080050296026235)]\n",
      "subreddit=legaladvice, neighbors=[('AusLegal', 0.5030761556368474), ('legal', 0.5025773195876289), ('LegalAdviceEU', 0.5009976720984369), ('CaliforniaTicketHelp', 0.5005819753907549), ('SingleParents', 0.5004988360492185), ('Mattress', 0.5004988360492185), ('Nanny', 0.5004988360492185), ('Truckers', 0.5004988360492185), ('Charlotte', 0.5004988360492185), ('renting', 0.5004988360492185)]\n",
      "subreddit=pcmasterrace, neighbors=[('BulletBarry', 0.5008524488530688), ('LinusTechTips', 0.5007749535027899), ('gmod', 0.5005424674519529), ('origin', 0.28633424851651756), ('spaceengineers', 0.2504649721016739), ('nier', 0.23123420287090468), ('PcMasterRaceBuilds', 0.19636187682397593), ('Rainmeter', 0.1824381446204137), ('gigabytegaming', 0.16061996280223187), ('EVGA', 0.13591008863792498)]\n"
     ]
    }
   ],
   "source": [
    "advice_subreddits = ['Advice', 'AmItheAsshole', 'personalfinance', 'legaladvice', 'pcmasterrace']\n",
    "top_k = 10\n",
    "for subreddit_i in advice_subreddits:\n",
    "    neighbors_i = norm_weight_subreddit_graph.neighbors(subreddit_i)\n",
    "    neighbor_weights_i = [(n_j, norm_weight_subreddit_graph.get_edge_data(subreddit_i, n_j)['weight']) for n_j in neighbors_i]\n",
    "    neighbor_weights_i = list(sorted(neighbor_weights_i, key=lambda x: x[1], reverse=True))\n",
    "    print(f'subreddit={subreddit_i}, neighbors={neighbor_weights_i[:top_k]}')"
   ]
  },
  {
   "cell_type": "markdown",
   "id": "typical-apparatus",
   "metadata": {},
   "source": [
    "Most of the top-K neighbors are relevant, but some of them are definitely off the mark:\n",
    "- `Advice`: `Adulting` relevant, `PlasticSurgery` irrelevant\n",
    "- `AmItheAsshole`: `pettyrevenge` relevant, `skiing` irrelevant\n",
    "- `personalfinance`: `consulting` relevant, `Birmingham` irrelevant\n",
    "- `legaladvice`: `AusLegal` relevant, `Charlotte` irrelevant\n",
    "- `pcmasterrace`: `LinusTechTips` relevant, `nier` irrelevant"
   ]
  }
 ],
 "metadata": {
  "kernelspec": {
   "display_name": "Python [conda env:py3] *",
   "language": "python",
   "name": "conda-env-py3-py"
  },
  "language_info": {
   "codemirror_mode": {
    "name": "ipython",
    "version": 3
   },
   "file_extension": ".py",
   "mimetype": "text/x-python",
   "name": "python",
   "nbconvert_exporter": "python",
   "pygments_lexer": "ipython3",
   "version": "3.8.5"
  }
 },
 "nbformat": 4,
 "nbformat_minor": 5
}
