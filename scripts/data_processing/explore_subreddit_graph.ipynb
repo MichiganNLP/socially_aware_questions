{
 "cells": [
  {
   "cell_type": "markdown",
   "id": "hairy-commons",
   "metadata": {},
   "source": [
    "# Explore subreddit graph\n",
    "Let's look at the graph of subreddits that we collected from comment cross-posting."
   ]
  },
  {
   "cell_type": "code",
   "execution_count": null,
   "id": "macro-healthcare",
   "metadata": {},
   "outputs": [],
   "source": [
    "import pandas as pd\n"
   ]
  }
 ],
 "metadata": {
  "kernelspec": {
   "display_name": "Python [conda env:py3] *",
   "language": "python",
   "name": "conda-env-py3-py"
  },
  "language_info": {
   "codemirror_mode": {
    "name": "ipython",
    "version": 3
   },
   "file_extension": ".py",
   "mimetype": "text/x-python",
   "name": "python",
   "nbconvert_exporter": "python",
   "pygments_lexer": "ipython3",
   "version": "3.8.5"
  }
 },
 "nbformat": 4,
 "nbformat_minor": 5
}
