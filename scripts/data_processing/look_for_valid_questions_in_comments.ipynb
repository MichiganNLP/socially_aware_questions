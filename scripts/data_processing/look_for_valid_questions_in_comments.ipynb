{
 "cells": [
  {
   "cell_type": "markdown",
   "id": "streaming-number",
   "metadata": {},
   "source": [
    "# Look for valid questions in comments\n",
    "We've looked in prior work for valid questions in comment data based on \"standalone\" questions ([here](sample_label_comment_questions.ipynb)) but the data sparsity is pretty bad, i.e. about 15000/940000 $\\sim$ 2% of comments have a valid question.\n",
    "\n",
    "Let's expand our search and get all questions that:\n",
    "\n",
    "1. occur at the beginning of a comment\n",
    "2. receive at least one reply from the OP or from another commenter"
   ]
  },
  {
   "cell_type": "markdown",
   "id": "patent-cambridge",
   "metadata": {},
   "source": [
    "## Load data"
   ]
  },
  {
   "cell_type": "code",
   "execution_count": 1,
   "id": "handed-deployment",
   "metadata": {},
   "outputs": [
    {
     "name": "stdout",
     "output_type": "stream",
     "text": [
      "ending data collection early because error Compressed file ended before the end-of-stream marker was reached\n",
      "ending data collection early because error Compressed file ended before the end-of-stream marker was reached\n",
      "ending data collection early because error Compressed file ended before the end-of-stream marker was reached\n",
      "ending data collection early because error Compressed file ended before the end-of-stream marker was reached\n",
      "ending data collection early because error Compressed file ended before the end-of-stream marker was reached\n"
     ]
    },
    {
     "data": {
      "text/html": [
       "<div>\n",
       "<style scoped>\n",
       "    .dataframe tbody tr th:only-of-type {\n",
       "        vertical-align: middle;\n",
       "    }\n",
       "\n",
       "    .dataframe tbody tr th {\n",
       "        vertical-align: top;\n",
       "    }\n",
       "\n",
       "    .dataframe thead th {\n",
       "        text-align: right;\n",
       "    }\n",
       "</style>\n",
       "<table border=\"1\" class=\"dataframe\">\n",
       "  <thead>\n",
       "    <tr style=\"text-align: right;\">\n",
       "      <th></th>\n",
       "      <th>author</th>\n",
       "      <th>author_flair_text</th>\n",
       "      <th>author_fullname</th>\n",
       "      <th>body</th>\n",
       "      <th>created_utc</th>\n",
       "      <th>edited</th>\n",
       "      <th>id</th>\n",
       "      <th>parent_id</th>\n",
       "      <th>score</th>\n",
       "      <th>subreddit</th>\n",
       "    </tr>\n",
       "  </thead>\n",
       "  <tbody>\n",
       "    <tr>\n",
       "      <th>0</th>\n",
       "      <td>grumpypantsoldman</td>\n",
       "      <td>None</td>\n",
       "      <td>t2_27ps6lxw</td>\n",
       "      <td>NTA. I think you dodged a bullet. Who needs a ...</td>\n",
       "      <td>1541030405</td>\n",
       "      <td>False</td>\n",
       "      <td>e8tkic1</td>\n",
       "      <td>t3_9t3n27</td>\n",
       "      <td>14</td>\n",
       "      <td>AmItheAsshole</td>\n",
       "    </tr>\n",
       "    <tr>\n",
       "      <th>1</th>\n",
       "      <td>unknown_salmon</td>\n",
       "      <td>None</td>\n",
       "      <td>t2_q57txtp</td>\n",
       "      <td>I do feel for you. Do you think you could be b...</td>\n",
       "      <td>1541030426</td>\n",
       "      <td>False</td>\n",
       "      <td>e8tkj26</td>\n",
       "      <td>t3_9t1u2e</td>\n",
       "      <td>2</td>\n",
       "      <td>Advice</td>\n",
       "    </tr>\n",
       "    <tr>\n",
       "      <th>2</th>\n",
       "      <td>vld-s</td>\n",
       "      <td>None</td>\n",
       "      <td>t2_14p3sr</td>\n",
       "      <td>YNTA. He made you uncomfortable and you distan...</td>\n",
       "      <td>1541030467</td>\n",
       "      <td>False</td>\n",
       "      <td>e8tkkjt</td>\n",
       "      <td>t3_9t3xz3</td>\n",
       "      <td>3</td>\n",
       "      <td>AmItheAsshole</td>\n",
       "    </tr>\n",
       "    <tr>\n",
       "      <th>3</th>\n",
       "      <td>Prepperpoints2Ponder</td>\n",
       "      <td>None</td>\n",
       "      <td>t2_11lpfa</td>\n",
       "      <td>Manufacturing here. Me and spouse will be payi...</td>\n",
       "      <td>1541030470</td>\n",
       "      <td>False</td>\n",
       "      <td>e8tkkns</td>\n",
       "      <td>t3_9t2e8e</td>\n",
       "      <td>2</td>\n",
       "      <td>personalfinance</td>\n",
       "    </tr>\n",
       "    <tr>\n",
       "      <th>4</th>\n",
       "      <td>juliej891</td>\n",
       "      <td>None</td>\n",
       "      <td>t2_1mwezovi</td>\n",
       "      <td>I think you’re going to go out of your way to ...</td>\n",
       "      <td>1541030493</td>\n",
       "      <td>False</td>\n",
       "      <td>e8tklij</td>\n",
       "      <td>t3_9t4afp</td>\n",
       "      <td>1</td>\n",
       "      <td>Advice</td>\n",
       "    </tr>\n",
       "  </tbody>\n",
       "</table>\n",
       "</div>"
      ],
      "text/plain": [
       "                 author author_flair_text author_fullname  \\\n",
       "0     grumpypantsoldman              None     t2_27ps6lxw   \n",
       "1        unknown_salmon              None      t2_q57txtp   \n",
       "2                 vld-s              None       t2_14p3sr   \n",
       "3  Prepperpoints2Ponder              None       t2_11lpfa   \n",
       "4             juliej891              None     t2_1mwezovi   \n",
       "\n",
       "                                                body  created_utc edited  \\\n",
       "0  NTA. I think you dodged a bullet. Who needs a ...   1541030405  False   \n",
       "1  I do feel for you. Do you think you could be b...   1541030426  False   \n",
       "2  YNTA. He made you uncomfortable and you distan...   1541030467  False   \n",
       "3  Manufacturing here. Me and spouse will be payi...   1541030470  False   \n",
       "4  I think you’re going to go out of your way to ...   1541030493  False   \n",
       "\n",
       "        id  parent_id  score        subreddit  \n",
       "0  e8tkic1  t3_9t3n27     14    AmItheAsshole  \n",
       "1  e8tkj26  t3_9t1u2e      2           Advice  \n",
       "2  e8tkkjt  t3_9t3xz3      3    AmItheAsshole  \n",
       "3  e8tkkns  t3_9t2e8e      2  personalfinance  \n",
       "4  e8tklij  t3_9t4afp      1           Advice  "
      ]
     },
     "metadata": {},
     "output_type": "display_data"
    },
    {
     "name": "stdout",
     "output_type": "stream",
     "text": [
      "4371692 comments\n"
     ]
    }
   ],
   "source": [
    "import pandas as pd\n",
    "import os\n",
    "from importlib import reload\n",
    "import data_helpers\n",
    "reload(data_helpers)\n",
    "from data_helpers import load_zipped_json_data\n",
    "data_dir = '../../data/reddit_data/'\n",
    "comment_data_files = list(filter(lambda x: x.startswith('subreddit_comments'), os.listdir(data_dir)))\n",
    "comment_data_files = list(map(lambda x: os.path.join(data_dir, x), comment_data_files))\n",
    "comment_data = pd.concat(list(map(lambda x: load_zipped_json_data(x), comment_data_files)), axis=0)\n",
    "display(comment_data.head())\n",
    "print(f'{comment_data.shape[0]} comments')"
   ]
  },
  {
   "cell_type": "code",
   "execution_count": 3,
   "id": "excellent-railway",
   "metadata": {
    "scrolled": true
   },
   "outputs": [
    {
     "data": {
      "text/html": [
       "<div>\n",
       "<style scoped>\n",
       "    .dataframe tbody tr th:only-of-type {\n",
       "        vertical-align: middle;\n",
       "    }\n",
       "\n",
       "    .dataframe tbody tr th {\n",
       "        vertical-align: top;\n",
       "    }\n",
       "\n",
       "    .dataframe thead th {\n",
       "        text-align: right;\n",
       "    }\n",
       "</style>\n",
       "<table border=\"1\" class=\"dataframe\">\n",
       "  <thead>\n",
       "    <tr style=\"text-align: right;\">\n",
       "      <th></th>\n",
       "      <th>author</th>\n",
       "      <th>author_flair_text</th>\n",
       "      <th>created_utc</th>\n",
       "      <th>edited</th>\n",
       "      <th>id</th>\n",
       "      <th>num_comments</th>\n",
       "      <th>score</th>\n",
       "      <th>selftext</th>\n",
       "      <th>subreddit</th>\n",
       "      <th>title</th>\n",
       "      <th>category</th>\n",
       "      <th>author_fullname</th>\n",
       "    </tr>\n",
       "  </thead>\n",
       "  <tbody>\n",
       "    <tr>\n",
       "      <th>0</th>\n",
       "      <td>deepsouthsloth</td>\n",
       "      <td>None</td>\n",
       "      <td>1514764840</td>\n",
       "      <td>False</td>\n",
       "      <td>7nby0l</td>\n",
       "      <td>7</td>\n",
       "      <td>1</td>\n",
       "      <td>26M/married/2 kids\\n\\nEmployer match is 50% up...</td>\n",
       "      <td>personalfinance</td>\n",
       "      <td>Should I continue with 401k despite terrible e...</td>\n",
       "      <td>NaN</td>\n",
       "      <td>NaN</td>\n",
       "    </tr>\n",
       "    <tr>\n",
       "      <th>1</th>\n",
       "      <td>CapableCounteroffer</td>\n",
       "      <td>None</td>\n",
       "      <td>1514764890</td>\n",
       "      <td>False</td>\n",
       "      <td>7nby5t</td>\n",
       "      <td>5</td>\n",
       "      <td>0</td>\n",
       "      <td>On November 24th, I called AT&amp;amp;T to inquire...</td>\n",
       "      <td>legaladvice</td>\n",
       "      <td>[FL] Issue getting AT&amp;amp;T to pay early termi...</td>\n",
       "      <td>NaN</td>\n",
       "      <td>NaN</td>\n",
       "    </tr>\n",
       "    <tr>\n",
       "      <th>2</th>\n",
       "      <td>pinkcrayon69</td>\n",
       "      <td>None</td>\n",
       "      <td>1514764948</td>\n",
       "      <td>False</td>\n",
       "      <td>7nbybf</td>\n",
       "      <td>9</td>\n",
       "      <td>3</td>\n",
       "      <td>I live in south OC but I need to move out of m...</td>\n",
       "      <td>personalfinance</td>\n",
       "      <td>I need to move out in a month. What should I p...</td>\n",
       "      <td>NaN</td>\n",
       "      <td>NaN</td>\n",
       "    </tr>\n",
       "    <tr>\n",
       "      <th>3</th>\n",
       "      <td>bobshellby</td>\n",
       "      <td>Needs 64bit Windows...</td>\n",
       "      <td>1514765040</td>\n",
       "      <td>False</td>\n",
       "      <td>7nbykz</td>\n",
       "      <td>6</td>\n",
       "      <td>0</td>\n",
       "      <td>Are there keycaps for the Microsoft wireless k...</td>\n",
       "      <td>pcmasterrace</td>\n",
       "      <td>Keyboard keycap help</td>\n",
       "      <td>NaN</td>\n",
       "      <td>NaN</td>\n",
       "    </tr>\n",
       "    <tr>\n",
       "      <th>4</th>\n",
       "      <td>j0sh135742</td>\n",
       "      <td>None</td>\n",
       "      <td>1514765064</td>\n",
       "      <td>1514765420.0</td>\n",
       "      <td>7nbyno</td>\n",
       "      <td>4</td>\n",
       "      <td>0</td>\n",
       "      <td>So in MGL Part 1, Title 15, Chapter 94G, Secti...</td>\n",
       "      <td>legaladvice</td>\n",
       "      <td>Quick question about Medical Marijuana.</td>\n",
       "      <td>NaN</td>\n",
       "      <td>NaN</td>\n",
       "    </tr>\n",
       "  </tbody>\n",
       "</table>\n",
       "</div>"
      ],
      "text/plain": [
       "                author       author_flair_text  created_utc        edited  \\\n",
       "0       deepsouthsloth                    None   1514764840         False   \n",
       "1  CapableCounteroffer                    None   1514764890         False   \n",
       "2         pinkcrayon69                    None   1514764948         False   \n",
       "3           bobshellby  Needs 64bit Windows...   1514765040         False   \n",
       "4           j0sh135742                    None   1514765064  1514765420.0   \n",
       "\n",
       "       id  num_comments  score  \\\n",
       "0  7nby0l             7      1   \n",
       "1  7nby5t             5      0   \n",
       "2  7nbybf             9      3   \n",
       "3  7nbykz             6      0   \n",
       "4  7nbyno             4      0   \n",
       "\n",
       "                                            selftext        subreddit  \\\n",
       "0  26M/married/2 kids\\n\\nEmployer match is 50% up...  personalfinance   \n",
       "1  On November 24th, I called AT&amp;T to inquire...      legaladvice   \n",
       "2  I live in south OC but I need to move out of m...  personalfinance   \n",
       "3  Are there keycaps for the Microsoft wireless k...     pcmasterrace   \n",
       "4  So in MGL Part 1, Title 15, Chapter 94G, Secti...      legaladvice   \n",
       "\n",
       "                                               title  category author_fullname  \n",
       "0  Should I continue with 401k despite terrible e...       NaN             NaN  \n",
       "1  [FL] Issue getting AT&amp;T to pay early termi...       NaN             NaN  \n",
       "2  I need to move out in a month. What should I p...       NaN             NaN  \n",
       "3                               Keyboard keycap help       NaN             NaN  \n",
       "4            Quick question about Medical Marijuana.       NaN             NaN  "
      ]
     },
     "metadata": {},
     "output_type": "display_data"
    }
   ],
   "source": [
    "## submission\n",
    "submission_data = load_zipped_json_data('../../data/reddit_data/subreddit_submissions_2018-01_2019-12.gz')\n",
    "display(submission_data.head())"
   ]
  },
  {
   "cell_type": "code",
   "execution_count": 41,
   "id": "fewer-beijing",
   "metadata": {},
   "outputs": [],
   "source": [
    "## combine data\n",
    "comment_data = comment_data.assign(**{'parent_id':comment_data.loc[:, 'parent_id'].apply(lambda x: x.split('_')[-1])})\n",
    "submission_data.rename(columns={'id' : 'parent_id', 'created_utc' : 'parent_created', 'selftext' : 'parent_text', 'title' : 'parent_title', 'edited' : 'parent_edited', 'author' : 'parent_author'}, inplace=True)\n",
    "comment_submission_data = pd.merge(\n",
    "    comment_data, \n",
    "    submission_data.loc[:, ['parent_id', 'parent_created', 'parent_text', 'parent_title', 'parent_edited', 'parent_author']],\n",
    "    on='parent_id'\n",
    ")\n",
    "# remove duplicate questions\n",
    "comment_submission_data.drop_duplicates(['parent_id', 'body'], inplace=True)"
   ]
  },
  {
   "cell_type": "code",
   "execution_count": 42,
   "id": "copyrighted-analysis",
   "metadata": {},
   "outputs": [
    {
     "name": "stdout",
     "output_type": "stream",
     "text": [
      "4193267 comments total\n"
     ]
    }
   ],
   "source": [
    "print(f'{comment_submission_data.shape[0]} comments total')"
   ]
  },
  {
   "cell_type": "code",
   "execution_count": 12,
   "id": "compliant-beatles",
   "metadata": {},
   "outputs": [
    {
     "name": "stderr",
     "output_type": "stream",
     "text": [
      "100%|██████████| 4371692/4371692 [29:58<00:00, 2431.14it/s] \n"
     ]
    }
   ],
   "source": [
    "## extract questions\n",
    "from data_helpers import extract_questions_all_data\n",
    "comment_data = comment_data.assign(**{\n",
    "    'questions' : extract_questions_all_data(comment_data.loc[:, 'body'].values)\n",
    "})"
   ]
  },
  {
   "cell_type": "code",
   "execution_count": 43,
   "id": "cardiac-nightmare",
   "metadata": {},
   "outputs": [],
   "source": [
    "comment_submission_data = pd.merge(\n",
    "    comment_submission_data, comment_data.loc[:, ['id', 'questions']],\n",
    "    on='id'\n",
    ")"
   ]
  },
  {
   "cell_type": "code",
   "execution_count": 48,
   "id": "naval-melbourne",
   "metadata": {},
   "outputs": [],
   "source": [
    "question_comment_data = comment_submission_data[comment_submission_data.loc[:, 'questions'].apply(lambda x: len(x) > 0)]"
   ]
  },
  {
   "cell_type": "code",
   "execution_count": 84,
   "id": "opposite-prediction",
   "metadata": {},
   "outputs": [],
   "source": [
    "## save for posterity/sampling comparison\n",
    "question_comment_data.to_csv('../../data/reddit_data/advice_subreddit_question_data_for_validity_check.gz', sep='\\t', compression='gzip')"
   ]
  },
  {
   "cell_type": "markdown",
   "id": "technical-miami",
   "metadata": {},
   "source": [
    "### Comment-initial questions"
   ]
  },
  {
   "cell_type": "code",
   "execution_count": 49,
   "id": "hungarian-attempt",
   "metadata": {
    "scrolled": true
   },
   "outputs": [
    {
     "name": "stderr",
     "output_type": "stream",
     "text": [
      "100%|██████████| 873193/873193 [04:46<00:00, 3051.14it/s]\n"
     ]
    }
   ],
   "source": [
    "from tqdm import tqdm\n",
    "tqdm.pandas()\n",
    "import re\n",
    "question_comment_data = question_comment_data.assign(**{\n",
    "    'question_occurs_post_initial' : question_comment_data.progress_apply(lambda x: re.match(f\"^{re.escape(x.loc['questions'][0])}\", x.loc['body']) is not None, axis=1)\n",
    "})"
   ]
  },
  {
   "cell_type": "code",
   "execution_count": 50,
   "id": "foster-association",
   "metadata": {},
   "outputs": [
    {
     "name": "stdout",
     "output_type": "stream",
     "text": [
      "360472/873193 post-initial questions\n"
     ]
    }
   ],
   "source": [
    "print(f'{question_comment_data.loc[:, \"question_occurs_post_initial\"].sum()}/{question_comment_data.shape[0]} post-initial questions')"
   ]
  },
  {
   "cell_type": "markdown",
   "id": "elder-hungary",
   "metadata": {},
   "source": [
    "Let's check out a sample of the questions to determine their validity."
   ]
  },
  {
   "cell_type": "code",
   "execution_count": 51,
   "id": "incorrect-overhead",
   "metadata": {
    "scrolled": true
   },
   "outputs": [],
   "source": [
    "import numpy as np\n",
    "np.random.seed(123)\n",
    "questions_per_subreddit = 50\n",
    "sample_post_initial_question_data = []\n",
    "for subreddit_i, data_i in question_comment_data.groupby('subreddit'):\n",
    "    data_i.reset_index(inplace=True)\n",
    "    # remove parent author comments\n",
    "    data_i = data_i[data_i.loc[:, 'parent_author']!=data_i.loc[:, 'author']]\n",
    "    valid_data_i = data_i[data_i.loc[:, 'question_occurs_post_initial']]\n",
    "    sample_data_i = valid_data_i.loc[np.random.choice(valid_data_i.index, questions_per_subreddit, replace=False), :]\n",
    "    sample_data_i.sort_values('parent_id', inplace=True, ascending=True)\n",
    "    sample_data_i = sample_data_i.assign(**{'question' : sample_data_i.loc[:, 'questions'].apply(lambda x: x[0])})\n",
    "    sample_post_initial_question_data.append(sample_data_i.loc[:, ['parent_id', 'id', 'parent_title', 'parent_text', 'body', 'question']])\n",
    "sample_post_initial_question_data = pd.concat(sample_post_initial_question_data, axis=0)"
   ]
  },
  {
   "cell_type": "code",
   "execution_count": 52,
   "id": "demographic-centre",
   "metadata": {},
   "outputs": [],
   "source": [
    "## out file\n",
    "sample_post_initial_question_data.to_csv('../../data/reddit_data/sample_advice_subreddit_post_initial_questions.tsv', sep='\\t', index=False)"
   ]
  },
  {
   "cell_type": "markdown",
   "id": "cosmetic-chest",
   "metadata": {},
   "source": [
    "After labeling, let's see what the rate of valid questions appears to be for this sample."
   ]
  },
  {
   "cell_type": "code",
   "execution_count": 78,
   "id": "future-locator",
   "metadata": {},
   "outputs": [],
   "source": [
    "sample_post_initial_question_label_data = pd.read_csv('../../data/reddit_data/sample_advice_subreddit_post_initial_question_labels.tsv', sep='\\t', index_col=False)"
   ]
  },
  {
   "cell_type": "code",
   "execution_count": 79,
   "id": "practical-graham",
   "metadata": {},
   "outputs": [],
   "source": [
    "## add subreddit info\n",
    "sample_post_initial_question_label_data = pd.merge(\n",
    "    sample_post_initial_question_label_data, question_comment_data.loc[:, ['subreddit', 'parent_id']],\n",
    "    on='parent_id', how='left',\n",
    ")\n",
    "## remove duplicates??\n",
    "sample_post_initial_question_label_data.drop_duplicates(['parent_id', 'id'], inplace=True)"
   ]
  },
  {
   "cell_type": "code",
   "execution_count": 80,
   "id": "motivated-scoop",
   "metadata": {},
   "outputs": [
    {
     "name": "stdout",
     "output_type": "stream",
     "text": [
      "(250, 10)\n"
     ]
    }
   ],
   "source": [
    "print(sample_post_initial_question_label_data.shape)"
   ]
  },
  {
   "cell_type": "code",
   "execution_count": 81,
   "id": "thick-australian",
   "metadata": {
    "scrolled": true
   },
   "outputs": [
    {
     "name": "stdout",
     "output_type": "stream",
     "text": [
      "**** testing var question_is_relevant ****\n",
      "1    0.952\n",
      "0    0.048\n",
      "Name: question_is_relevant, dtype: float64\n",
      "**** testing var question_is_clarification ****\n",
      "1    0.6\n",
      "0    0.4\n",
      "Name: question_is_clarification, dtype: float64\n",
      "**** testing var post_contains_answer ****\n",
      "0    0.988\n",
      "1    0.012\n",
      "Name: post_contains_answer, dtype: float64\n",
      "**** testing var question_is_relevant ****\n",
      "---- testing subreddit Advice ----\n",
      "1    0.96\n",
      "0    0.04\n",
      "Name: question_is_relevant, dtype: float64\n",
      "---- testing subreddit AmItheAsshole ----\n",
      "1    0.9\n",
      "0    0.1\n",
      "Name: question_is_relevant, dtype: float64\n",
      "---- testing subreddit legaladvice ----\n",
      "1    0.94\n",
      "0    0.06\n",
      "Name: question_is_relevant, dtype: float64\n",
      "---- testing subreddit pcmasterrace ----\n",
      "1    0.96\n",
      "0    0.04\n",
      "Name: question_is_relevant, dtype: float64\n",
      "---- testing subreddit personalfinance ----\n",
      "1    1.0\n",
      "Name: question_is_relevant, dtype: float64\n",
      "**** testing var question_is_clarification ****\n",
      "---- testing subreddit Advice ----\n",
      "1    0.6\n",
      "0    0.4\n",
      "Name: question_is_clarification, dtype: float64\n",
      "---- testing subreddit AmItheAsshole ----\n",
      "0    0.52\n",
      "1    0.48\n",
      "Name: question_is_clarification, dtype: float64\n",
      "---- testing subreddit legaladvice ----\n",
      "1    0.72\n",
      "0    0.28\n",
      "Name: question_is_clarification, dtype: float64\n",
      "---- testing subreddit pcmasterrace ----\n",
      "1    0.52\n",
      "0    0.48\n",
      "Name: question_is_clarification, dtype: float64\n",
      "---- testing subreddit personalfinance ----\n",
      "1    0.68\n",
      "0    0.32\n",
      "Name: question_is_clarification, dtype: float64\n",
      "**** testing var post_contains_answer ****\n",
      "---- testing subreddit Advice ----\n",
      "0    1.0\n",
      "Name: post_contains_answer, dtype: float64\n",
      "---- testing subreddit AmItheAsshole ----\n",
      "0    1.0\n",
      "Name: post_contains_answer, dtype: float64\n",
      "---- testing subreddit legaladvice ----\n",
      "0    0.96\n",
      "1    0.04\n",
      "Name: post_contains_answer, dtype: float64\n",
      "---- testing subreddit pcmasterrace ----\n",
      "0    0.98\n",
      "1    0.02\n",
      "Name: post_contains_answer, dtype: float64\n",
      "---- testing subreddit personalfinance ----\n",
      "0    1.0\n",
      "Name: post_contains_answer, dtype: float64\n"
     ]
    }
   ],
   "source": [
    "## get overall label counts\n",
    "label_vars = ['question_is_relevant', 'question_is_clarification', 'post_contains_answer']\n",
    "N = sample_post_initial_question_label_data.shape[0]\n",
    "for label_var_i in label_vars:\n",
    "    print(f'**** testing var {label_var_i} ****')\n",
    "    print(sample_post_initial_question_label_data.loc[:, label_var_i].value_counts()/N)\n",
    "## get label counts per subreddit\n",
    "\n",
    "for label_var_i in label_vars:\n",
    "    print(f'**** testing var {label_var_i} ****')\n",
    "    for subreddit_j, data_j in sample_post_initial_question_label_data.groupby('subreddit'):\n",
    "        print(f'---- testing subreddit {subreddit_j} ----')\n",
    "        print(data_j.loc[:, label_var_i].value_counts()/data_j.shape[0])"
   ]
  },
  {
   "cell_type": "markdown",
   "id": "stretch-dance",
   "metadata": {},
   "source": [
    "Most questions are relevant, about half the questions are actually clarifications, and most of the questions reference information not contained in the post.\n",
    "\n",
    "For the clarification discrepancy: most clarification questions come from `legaladvice` and `pcmasterrace`, other subreddits are closer to 50-50 split."
   ]
  },
  {
   "cell_type": "code",
   "execution_count": 83,
   "id": "arranged-briefing",
   "metadata": {
    "scrolled": true
   },
   "outputs": [
    {
     "name": "stdout",
     "output_type": "stream",
     "text": [
      "148/250 valid questions overall\n",
      "**** testing subreddit Advice ****\n",
      "30/50 valid questions overall\n",
      "**** testing subreddit AmItheAsshole ****\n",
      "24/50 valid questions overall\n",
      "**** testing subreddit legaladvice ****\n",
      "34/50 valid questions overall\n",
      "**** testing subreddit pcmasterrace ****\n",
      "26/50 valid questions overall\n",
      "**** testing subreddit personalfinance ****\n",
      "34/50 valid questions overall\n"
     ]
    }
   ],
   "source": [
    "valid_post_initial_question_label_data = sample_post_initial_question_label_data[\n",
    "    (sample_post_initial_question_label_data.loc[:, 'question_is_relevant']==1) &\n",
    "    (sample_post_initial_question_label_data.loc[:, 'question_is_clarification']==1) &\n",
    "    (sample_post_initial_question_label_data.loc[:, 'post_contains_answer']==0)\n",
    "]\n",
    "print(f'{valid_post_initial_question_label_data.shape[0]}/{sample_post_initial_question_label_data.shape[0]} valid questions overall')\n",
    "for subreddit_i, data_i in sample_post_initial_question_label_data.groupby('subreddit'):\n",
    "    print(f'**** testing subreddit {subreddit_i} ****')\n",
    "    valid_data_i = data_i[\n",
    "    (data_i.loc[:, 'question_is_relevant']==1) &\n",
    "    (data_i.loc[:, 'question_is_clarification']==1) &\n",
    "    (data_i.loc[:, 'post_contains_answer']==0)\n",
    "]\n",
    "    print(f'{valid_data_i.shape[0]}/{data_i.shape[0]} valid questions overall')"
   ]
  },
  {
   "cell_type": "markdown",
   "id": "spoken-cherry",
   "metadata": {},
   "source": [
    "All subreddits have at least 50% valid questions."
   ]
  },
  {
   "cell_type": "markdown",
   "id": "wound-allocation",
   "metadata": {},
   "source": [
    "### Question receives reply from OP"
   ]
  },
  {
   "cell_type": "code",
   "execution_count": 86,
   "id": "understood-protein",
   "metadata": {
    "scrolled": true
   },
   "outputs": [
    {
     "data": {
      "text/html": [
       "<div>\n",
       "<style scoped>\n",
       "    .dataframe tbody tr th:only-of-type {\n",
       "        vertical-align: middle;\n",
       "    }\n",
       "\n",
       "    .dataframe tbody tr th {\n",
       "        vertical-align: top;\n",
       "    }\n",
       "\n",
       "    .dataframe thead th {\n",
       "        text-align: right;\n",
       "    }\n",
       "</style>\n",
       "<table border=\"1\" class=\"dataframe\">\n",
       "  <thead>\n",
       "    <tr style=\"text-align: right;\">\n",
       "      <th></th>\n",
       "      <th>parent_title</th>\n",
       "      <th>body</th>\n",
       "      <th>author</th>\n",
       "      <th>parent_id</th>\n",
       "    </tr>\n",
       "  </thead>\n",
       "  <tbody>\n",
       "    <tr>\n",
       "      <th>114</th>\n",
       "      <td>Selling car to private party</td>\n",
       "      <td>Thanks all. I will keep this in mind.</td>\n",
       "      <td>iptvfanboy</td>\n",
       "      <td>9t4d1p</td>\n",
       "    </tr>\n",
       "    <tr>\n",
       "      <th>3093</th>\n",
       "      <td>Payroll Tax hike surprise, is this normal? Salary+bonus+commission</td>\n",
       "      <td>Thank you all for the quick replies. I didn’t realize that supplemental wages get taxed/withheld different than if I only made a base wage. \\n\\nI’m new to the whole commission game so I’m still ge...</td>\n",
       "      <td>David_Warren</td>\n",
       "      <td>9t2y1p</td>\n",
       "    </tr>\n",
       "    <tr>\n",
       "      <th>3349</th>\n",
       "      <td>As a security guard is there a way i can get support living on my own and get a car?</td>\n",
       "      <td>Aw man i spelled the title wrong - shoulda been “As a security guard is there a way i can support living on my own and get a car?”</td>\n",
       "      <td>dethmetalz69</td>\n",
       "      <td>9t4lg2</td>\n",
       "    </tr>\n",
       "    <tr>\n",
       "      <th>3489</th>\n",
       "      <td>Large amount of CC debt, P2P lending?</td>\n",
       "      <td>would prosper even approve me? i have the pre-approval offers but the apr is insane. 30-31% apr :(((((((((((</td>\n",
       "      <td>Public_Beautiful</td>\n",
       "      <td>9sslcp</td>\n",
       "    </tr>\n",
       "    <tr>\n",
       "      <th>3541</th>\n",
       "      <td>AITA for returning a bag full of valuables but keeping some of the money</td>\n",
       "      <td>Lots of great answers. I knew it was a shitty thing to do before I made the post, but brushed it aside as \"meh the guy seems rich enough maybe he won't even notice\". I now realize with the overwhe...</td>\n",
       "      <td>michel-michel-michel</td>\n",
       "      <td>9syt81</td>\n",
       "    </tr>\n",
       "    <tr>\n",
       "      <th>3605</th>\n",
       "      <td>How should I tell someone I was raped?</td>\n",
       "      <td>Thanks to everyone helping me out right now, I’m looking into talking to a therapist soon, but with the police part, I have no way to look into. I am unaware of who this person was, and seeing as ...</td>\n",
       "      <td>HDBeats</td>\n",
       "      <td>9sym49</td>\n",
       "    </tr>\n",
       "    <tr>\n",
       "      <th>3642</th>\n",
       "      <td>Can I trust my therapist? She persistently advises me to stop taking antidepressants and Instead see her more often, I made made it clear I don’t want to stop taking them a few times.</td>\n",
       "      <td>I get this, but it’s sort of about fire fighting right now. I got so low about a month ago that I wanted to hurt myself, i have always struggled with mental health but being that low has only happ...</td>\n",
       "      <td>palaisdemons</td>\n",
       "      <td>9t3qn2</td>\n",
       "    </tr>\n",
       "    <tr>\n",
       "      <th>4017</th>\n",
       "      <td>Pc won't display with gpu or onboard graphics</td>\n",
       "      <td>Thank you for your help guys. It was the PSU but not the PSU. Somehow the 6pin cable got friend but today I realized my PSU had two so I connected the other cable and it works now</td>\n",
       "      <td>xiaomismartphone</td>\n",
       "      <td>9skoyd</td>\n",
       "    </tr>\n",
       "    <tr>\n",
       "      <th>4018</th>\n",
       "      <td>Pc won't display with gpu or onboard graphics</td>\n",
       "      <td>I removed cmos battery and it booted once to a screen with error occurs cmos something post error but couldn't do anything cause my keyboard wasn't plugged and then it went black again. Can't repl...</td>\n",
       "      <td>xiaomismartphone</td>\n",
       "      <td>9skoyd</td>\n",
       "    </tr>\n",
       "    <tr>\n",
       "      <th>4019</th>\n",
       "      <td>Pc won't display with gpu or onboard graphics</td>\n",
       "      <td>I managed to get the onboard graphics working but even when I choose to use pci in init first display it doesn't output to GPU even when the fans are spinning, but if I plug the VGA to onboard it ...</td>\n",
       "      <td>xiaomismartphone</td>\n",
       "      <td>9skoyd</td>\n",
       "    </tr>\n",
       "    <tr>\n",
       "      <th>4106</th>\n",
       "      <td>AITA for asking my boyfriend’s parents to give us warning before coming over?</td>\n",
       "      <td>His dad also declined to take his shoes off when he entered the house because “when his son was a child he never took his shoes off in HIS house.” I know that’s unrelated but that’s some internal ...</td>\n",
       "      <td>samfletchxo</td>\n",
       "      <td>9o4i1z</td>\n",
       "    </tr>\n",
       "    <tr>\n",
       "      <th>4165</th>\n",
       "      <td>AITA for asking my boyfriend’s parents to give us warning before coming over?</td>\n",
       "      <td>Well, SO has just spoken to MIL sister on the phone asking what she thinks and her words are..\\n“An unexpected drop in is important to people and it’s totally fine, she’s your mother.”\\nShe was co...</td>\n",
       "      <td>samfletchxo</td>\n",
       "      <td>9o4i1z</td>\n",
       "    </tr>\n",
       "    <tr>\n",
       "      <th>4660</th>\n",
       "      <td>I need to make 8000 dollars in 8 months. I'm only 16 and I can't even drive yet in my state! PLEASE HELP ME!</td>\n",
       "      <td>I just wanted to do an update if anyone was wondering. IM GOING ON THE TRIP!! Turns out people are more generous than I thought, donations are flowing in from friends and family. I am also followi...</td>\n",
       "      <td>Kayla3422</td>\n",
       "      <td>9qleij</td>\n",
       "    </tr>\n",
       "    <tr>\n",
       "      <th>4842</th>\n",
       "      <td>What's better for credit score: Paying rent on credit card VS by check</td>\n",
       "      <td>I'm also wondering about the tip of using below 30% of your credit limit. Should I give this tip too much attention?</td>\n",
       "      <td>ExpensiveFalcon</td>\n",
       "      <td>9t5dwa</td>\n",
       "    </tr>\n",
       "    <tr>\n",
       "      <th>5576</th>\n",
       "      <td>AITA for being irritated by my inlaws who are choosing my unvaccinated niece over my vaccinated children?</td>\n",
       "      <td>I don’t want to be around them. My husband has a TBI (traumatic brain injury) that causes short term memory loss so we’re encouraged to maintain contact to help his memory.\\n\\nIf I had it my way w...</td>\n",
       "      <td>g628</td>\n",
       "      <td>9nu2ca</td>\n",
       "    </tr>\n",
       "    <tr>\n",
       "      <th>6014</th>\n",
       "      <td>External sound cards?</td>\n",
       "      <td>Also I game and occasionally do light web browsing (mostly movie or music streaming).</td>\n",
       "      <td>fourvalve</td>\n",
       "      <td>9t5pvq</td>\n",
       "    </tr>\n",
       "    <tr>\n",
       "      <th>7194</th>\n",
       "      <td>Cashed a 5k check from my brothers work and now my account is overdraft 5k</td>\n",
       "      <td>I cashed the check, 2 days later I checked my online banking app and I was negative $5k. So like most of you said the check was cancelled/returned. Except no one withdrew or spent $5k on my card, ...</td>\n",
       "      <td>CanIBallCanIChill</td>\n",
       "      <td>9snnf9</td>\n",
       "    </tr>\n",
       "    <tr>\n",
       "      <th>7417</th>\n",
       "      <td>Is avalanche really the fastest way to pay off debt?</td>\n",
       "      <td>Yes! My love just explained it to me this way: you’ve got $2000 to spend. If you pay off the entire $2000 loan at 5%, you don’t have to pay the $100 in interest. If you pay $2000 towards the $5000...</td>\n",
       "      <td>maybethereshumanity</td>\n",
       "      <td>9t66p8</td>\n",
       "    </tr>\n",
       "    <tr>\n",
       "      <th>7419</th>\n",
       "      <td>Is avalanche really the fastest way to pay off debt?</td>\n",
       "      <td>I just enjoy being obsessive about every cent of interest. The real difference is even smaller than that! It made me feel better to plan when I couldn’t make payments at all.</td>\n",
       "      <td>maybethereshumanity</td>\n",
       "      <td>9t66p8</td>\n",
       "    </tr>\n",
       "    <tr>\n",
       "      <th>7420</th>\n",
       "      <td>Is avalanche really the fastest way to pay off debt?</td>\n",
       "      <td>Thank you so much for your replies!!! Not to be dramatic, but this is some actual life changing information. I wish I’d asked sooner.</td>\n",
       "      <td>maybethereshumanity</td>\n",
       "      <td>9t66p8</td>\n",
       "    </tr>\n",
       "  </tbody>\n",
       "</table>\n",
       "</div>"
      ],
      "text/plain": [
       "                                                                                                                                                                                 parent_title  \\\n",
       "114                                                                                                                                                              Selling car to private party   \n",
       "3093                                                                                                                       Payroll Tax hike surprise, is this normal? Salary+bonus+commission   \n",
       "3349                                                                                                     As a security guard is there a way i can get support living on my own and get a car?   \n",
       "3489                                                                                                                                                    Large amount of CC debt, P2P lending?   \n",
       "3541                                                                                                                 AITA for returning a bag full of valuables but keeping some of the money   \n",
       "3605                                                                                                                                                   How should I tell someone I was raped?   \n",
       "3642  Can I trust my therapist? She persistently advises me to stop taking antidepressants and Instead see her more often, I made made it clear I don’t want to stop taking them a few times.   \n",
       "4017                                                                                                                                            Pc won't display with gpu or onboard graphics   \n",
       "4018                                                                                                                                            Pc won't display with gpu or onboard graphics   \n",
       "4019                                                                                                                                            Pc won't display with gpu or onboard graphics   \n",
       "4106                                                                                                            AITA for asking my boyfriend’s parents to give us warning before coming over?   \n",
       "4165                                                                                                            AITA for asking my boyfriend’s parents to give us warning before coming over?   \n",
       "4660                                                                             I need to make 8000 dollars in 8 months. I'm only 16 and I can't even drive yet in my state! PLEASE HELP ME!   \n",
       "4842                                                                                                                   What's better for credit score: Paying rent on credit card VS by check   \n",
       "5576                                                                                AITA for being irritated by my inlaws who are choosing my unvaccinated niece over my vaccinated children?   \n",
       "6014                                                                                                                                                                    External sound cards?   \n",
       "7194                                                                                                               Cashed a 5k check from my brothers work and now my account is overdraft 5k   \n",
       "7417                                                                                                                                     Is avalanche really the fastest way to pay off debt?   \n",
       "7419                                                                                                                                     Is avalanche really the fastest way to pay off debt?   \n",
       "7420                                                                                                                                     Is avalanche really the fastest way to pay off debt?   \n",
       "\n",
       "                                                                                                                                                                                                         body  \\\n",
       "114                                                                                                                                                                     Thanks all. I will keep this in mind.   \n",
       "3093  Thank you all for the quick replies. I didn’t realize that supplemental wages get taxed/withheld different than if I only made a base wage. \\n\\nI’m new to the whole commission game so I’m still ge...   \n",
       "3349                                                                       Aw man i spelled the title wrong - shoulda been “As a security guard is there a way i can support living on my own and get a car?”   \n",
       "3489                                                                                             would prosper even approve me? i have the pre-approval offers but the apr is insane. 30-31% apr :(((((((((((   \n",
       "3541  Lots of great answers. I knew it was a shitty thing to do before I made the post, but brushed it aside as \"meh the guy seems rich enough maybe he won't even notice\". I now realize with the overwhe...   \n",
       "3605  Thanks to everyone helping me out right now, I’m looking into talking to a therapist soon, but with the police part, I have no way to look into. I am unaware of who this person was, and seeing as ...   \n",
       "3642  I get this, but it’s sort of about fire fighting right now. I got so low about a month ago that I wanted to hurt myself, i have always struggled with mental health but being that low has only happ...   \n",
       "4017                      Thank you for your help guys. It was the PSU but not the PSU. Somehow the 6pin cable got friend but today I realized my PSU had two so I connected the other cable and it works now   \n",
       "4018  I removed cmos battery and it booted once to a screen with error occurs cmos something post error but couldn't do anything cause my keyboard wasn't plugged and then it went black again. Can't repl...   \n",
       "4019  I managed to get the onboard graphics working but even when I choose to use pci in init first display it doesn't output to GPU even when the fans are spinning, but if I plug the VGA to onboard it ...   \n",
       "4106  His dad also declined to take his shoes off when he entered the house because “when his son was a child he never took his shoes off in HIS house.” I know that’s unrelated but that’s some internal ...   \n",
       "4165  Well, SO has just spoken to MIL sister on the phone asking what she thinks and her words are..\\n“An unexpected drop in is important to people and it’s totally fine, she’s your mother.”\\nShe was co...   \n",
       "4660  I just wanted to do an update if anyone was wondering. IM GOING ON THE TRIP!! Turns out people are more generous than I thought, donations are flowing in from friends and family. I am also followi...   \n",
       "4842                                                                                     I'm also wondering about the tip of using below 30% of your credit limit. Should I give this tip too much attention?   \n",
       "5576  I don’t want to be around them. My husband has a TBI (traumatic brain injury) that causes short term memory loss so we’re encouraged to maintain contact to help his memory.\\n\\nIf I had it my way w...   \n",
       "6014                                                                                                                    Also I game and occasionally do light web browsing (mostly movie or music streaming).   \n",
       "7194  I cashed the check, 2 days later I checked my online banking app and I was negative $5k. So like most of you said the check was cancelled/returned. Except no one withdrew or spent $5k on my card, ...   \n",
       "7417  Yes! My love just explained it to me this way: you’ve got $2000 to spend. If you pay off the entire $2000 loan at 5%, you don’t have to pay the $100 in interest. If you pay $2000 towards the $5000...   \n",
       "7419                          I just enjoy being obsessive about every cent of interest. The real difference is even smaller than that! It made me feel better to plan when I couldn’t make payments at all.    \n",
       "7420                                                                   Thank you so much for your replies!!! Not to be dramatic, but this is some actual life changing information. I wish I’d asked sooner.    \n",
       "\n",
       "                    author parent_id  \n",
       "114             iptvfanboy    9t4d1p  \n",
       "3093          David_Warren    9t2y1p  \n",
       "3349          dethmetalz69    9t4lg2  \n",
       "3489      Public_Beautiful    9sslcp  \n",
       "3541  michel-michel-michel    9syt81  \n",
       "3605               HDBeats    9sym49  \n",
       "3642          palaisdemons    9t3qn2  \n",
       "4017      xiaomismartphone    9skoyd  \n",
       "4018      xiaomismartphone    9skoyd  \n",
       "4019      xiaomismartphone    9skoyd  \n",
       "4106           samfletchxo    9o4i1z  \n",
       "4165           samfletchxo    9o4i1z  \n",
       "4660             Kayla3422    9qleij  \n",
       "4842       ExpensiveFalcon    9t5dwa  \n",
       "5576                  g628    9nu2ca  \n",
       "6014             fourvalve    9t5pvq  \n",
       "7194     CanIBallCanIChill    9snnf9  \n",
       "7417   maybethereshumanity    9t66p8  \n",
       "7419   maybethereshumanity    9t66p8  \n",
       "7420   maybethereshumanity    9t66p8  "
      ]
     },
     "metadata": {},
     "output_type": "display_data"
    }
   ],
   "source": [
    "## which questions had at least one documented response from OP?\n",
    "pd.set_option('display.max_colwidth',200)\n",
    "post_author_response_comment_data = comment_submission_data[comment_submission_data.loc[:, 'parent_author']==comment_submission_data.loc[:, 'author']]\n",
    "display(post_author_response_comment_data.loc[:, ['parent_title', 'body', 'author', 'parent_id']].head(20))"
   ]
  },
  {
   "cell_type": "markdown",
   "id": "proof-wrist",
   "metadata": {},
   "source": [
    "Based on the way this data was collected...it looks like the parent author replies are sent to the original post, not to the replies to the post.\n",
    "\n",
    "We will have to collect this data separately!"
   ]
  },
  {
   "cell_type": "code",
   "execution_count": 88,
   "id": "romance-writer",
   "metadata": {
    "scrolled": true
   },
   "outputs": [],
   "source": [
    "from praw import Reddit\n",
    "from psaw import PushshiftAPI\n",
    "from datetime import datetime\n",
    "import pandas as pd\n",
    "\n",
    "reddit_auth_data = pd.read_csv('../../data/auth_data/reddit_auth.csv', sep=',', index_col=False).iloc[0, :]\n",
    "\n",
    "client_id = reddit_auth_data.loc['client_id']\n",
    "client_secret = reddit_auth_data.loc['client_secret']\n",
    "user_agent = 'user_agent_123'\n",
    "reddit_api = Reddit(\n",
    "    client_id=client_id,\n",
    "    client_secret=client_secret,\n",
    "    user_agent=user_agent,\n",
    "    check_for_async=False,\n",
    ")\n",
    "\n",
    "pushshift_reddit_api = PushshiftAPI(reddit_api)"
   ]
  },
  {
   "cell_type": "markdown",
   "id": "concerned-porter",
   "metadata": {},
   "source": [
    "1. Get sample of submissions from each subreddit w/ >1 question in comments\n",
    "2. Get replies to comments with questions\n",
    "3. Filter for replies from parent author"
   ]
  },
  {
   "cell_type": "code",
   "execution_count": 208,
   "id": "geological-alfred",
   "metadata": {},
   "outputs": [],
   "source": [
    "import numpy as np\n",
    "np.random.seed(123)\n",
    "sample_comments_per_subreddit = 500\n",
    "post_author_response_sample_comment_data = []\n",
    "for subreddit_i, data_i in question_comment_data.groupby('subreddit'):\n",
    "    sample_data_i = data_i.loc[np.random.choice(data_i.index, sample_comments_per_subreddit, replace=False), :]\n",
    "    post_author_response_sample_comment_data.append(sample_data_i)\n",
    "post_author_response_sample_comment_data = pd.concat(post_author_response_sample_comment_data, axis=0)"
   ]
  },
  {
   "cell_type": "code",
   "execution_count": 209,
   "id": "jewish-preservation",
   "metadata": {
    "scrolled": true
   },
   "outputs": [
    {
     "data": {
      "text/html": [
       "<div>\n",
       "<style scoped>\n",
       "    .dataframe tbody tr th:only-of-type {\n",
       "        vertical-align: middle;\n",
       "    }\n",
       "\n",
       "    .dataframe tbody tr th {\n",
       "        vertical-align: top;\n",
       "    }\n",
       "\n",
       "    .dataframe thead th {\n",
       "        text-align: right;\n",
       "    }\n",
       "</style>\n",
       "<table border=\"1\" class=\"dataframe\">\n",
       "  <thead>\n",
       "    <tr style=\"text-align: right;\">\n",
       "      <th></th>\n",
       "      <th>author</th>\n",
       "      <th>author_flair_text</th>\n",
       "      <th>author_fullname</th>\n",
       "      <th>body</th>\n",
       "      <th>created_utc</th>\n",
       "      <th>edited</th>\n",
       "      <th>id</th>\n",
       "      <th>parent_id</th>\n",
       "      <th>score</th>\n",
       "      <th>subreddit</th>\n",
       "      <th>parent_created</th>\n",
       "      <th>parent_text</th>\n",
       "      <th>parent_title</th>\n",
       "      <th>parent_edited</th>\n",
       "      <th>parent_author</th>\n",
       "      <th>questions</th>\n",
       "      <th>question_occurs_post_initial</th>\n",
       "    </tr>\n",
       "  </thead>\n",
       "  <tbody>\n",
       "    <tr>\n",
       "      <th>1729334</th>\n",
       "      <td>TimBurtonsCockRing</td>\n",
       "      <td>None</td>\n",
       "      <td>t2_33frvciw</td>\n",
       "      <td>How is your sex life with your girlfriend? What aspect is there that she does not fulfill that makes you need to reach out to other girls? Can you two work on incorporating this into your sex life...</td>\n",
       "      <td>1558552840</td>\n",
       "      <td>False</td>\n",
       "      <td>eog8f0d</td>\n",
       "      <td>brst3k</td>\n",
       "      <td>1</td>\n",
       "      <td>Advice</td>\n",
       "      <td>1558552232</td>\n",
       "      <td>Over the past 13 years, since I was 15 (now 28) I've been overly active in online pornography videos. Ive been in a 3 year relationship since 2016 w/ my current GF &amp;amp; everything is perfect. Exc...</td>\n",
       "      <td>I've struggled w/ Porn/masturbation addiction. But today it really bit me in the ass...</td>\n",
       "      <td>1558552520</td>\n",
       "      <td>toastypeanut</td>\n",
       "      <td>[How is your sex life with your girlfriend?, What aspect is there that she does not fulfill that makes you need to reach out to other girls?, Can you two work on incorporating this into your sex l...</td>\n",
       "      <td>True</td>\n",
       "    </tr>\n",
       "    <tr>\n",
       "      <th>2989872</th>\n",
       "      <td>zesty_lemon45</td>\n",
       "      <td>None</td>\n",
       "      <td>t2_28xd3zsc</td>\n",
       "      <td>You do realise you have to pay the money back with interest?</td>\n",
       "      <td>1554971783</td>\n",
       "      <td>False</td>\n",
       "      <td>ekm57rk</td>\n",
       "      <td>bbxg0l</td>\n",
       "      <td>1</td>\n",
       "      <td>Advice</td>\n",
       "      <td>1554971682</td>\n",
       "      <td>I just turned 18 and I wanted to get a credit card so I can receive funds for work I do online. I under stand what savings accounts, checking accounts, etc. are. How do I get a credit card, what a...</td>\n",
       "      <td>Just turned 18 and want to get a credit card</td>\n",
       "      <td>False</td>\n",
       "      <td>Behnzo</td>\n",
       "      <td>[You do realise you have to pay the money back with interest?]</td>\n",
       "      <td>True</td>\n",
       "    </tr>\n",
       "    <tr>\n",
       "      <th>221964</th>\n",
       "      <td>weeffex</td>\n",
       "      <td>None</td>\n",
       "      <td>t2_xaxm4</td>\n",
       "      <td>https://imgur.com/gallery/mkpKEck\\n\\nThanks, my landlord drilled this hole before i got here so he knows of my plans. Can i use this without knowing much about these kinda setups and attach the li...</td>\n",
       "      <td>1539202911</td>\n",
       "      <td>False</td>\n",
       "      <td>e7j8upg</td>\n",
       "      <td>9n32n4</td>\n",
       "      <td>1</td>\n",
       "      <td>Advice</td>\n",
       "      <td>1539202500</td>\n",
       "      <td>Hi guys, i just moved out from my parents in to an old apartment and it had this old hanging light in the living room wich is way to low for my liking. Can anybody explain to me how to raise it cl...</td>\n",
       "      <td>I dont know how to raise my light closer to the ceiling...</td>\n",
       "      <td>False</td>\n",
       "      <td>weeffex</td>\n",
       "      <td>[Can i use this without knowing much about these kinda setups and attach the light to it?]</td>\n",
       "      <td>False</td>\n",
       "    </tr>\n",
       "    <tr>\n",
       "      <th>63513</th>\n",
       "      <td>towhileawaythehours</td>\n",
       "      <td>None</td>\n",
       "      <td>t2_2h1ntm0m</td>\n",
       "      <td>Id say do it man. Even if it’s just for the most basic reason: what if something happens to either of you while you’re gone? You’d regret it forever. Honestly, it sounds like she’s been a pain in ...</td>\n",
       "      <td>1541800691</td>\n",
       "      <td>False</td>\n",
       "      <td>e9dw788</td>\n",
       "      <td>9voki9</td>\n",
       "      <td>2</td>\n",
       "      <td>Advice</td>\n",
       "      <td>1541799605</td>\n",
       "      <td>To be simple I'm moving out of the country for a year or two, most of my family and some of friends will be coming to the airport to say goodbye. I'm going to hug everyone goodbye, but a big part ...</td>\n",
       "      <td>Should I hug my mother goodbye</td>\n",
       "      <td>False</td>\n",
       "      <td>kobedziuba</td>\n",
       "      <td>[Even if it’s just for the most basic reason: what if something happens to either of you while you’re gone?]</td>\n",
       "      <td>False</td>\n",
       "    </tr>\n",
       "    <tr>\n",
       "      <th>781765</th>\n",
       "      <td>spicklemehappy</td>\n",
       "      <td>None</td>\n",
       "      <td>NaN</td>\n",
       "      <td>Firstly, thank you for sharing your story. It takes a pretty big damn amount of bravery to recount something like that, especially to a bunch of, essentially, strangers. \\nSecondly, I know this mi...</td>\n",
       "      <td>1516192896</td>\n",
       "      <td>False</td>\n",
       "      <td>dst9odc</td>\n",
       "      <td>7r0jhd</td>\n",
       "      <td>5</td>\n",
       "      <td>Advice</td>\n",
       "      <td>1516190879</td>\n",
       "      <td>Being on holiday (from Australia to Europe) at the age of 22 is supposed to be a really cool thing. My journey started out in Saarbrücken near the border of France, which was really cool, because ...</td>\n",
       "      <td>It's taken me 13 years to write this (male sexual assault victim)</td>\n",
       "      <td>False</td>\n",
       "      <td>pigry123</td>\n",
       "      <td>[Is there any family/friends that you haven’t told that you feel like you should/want to?, How is your life going for you at the moment?, Job/study wise?, Relationships (romantic, family, friendsh...</td>\n",
       "      <td>False</td>\n",
       "    </tr>\n",
       "  </tbody>\n",
       "</table>\n",
       "</div>"
      ],
      "text/plain": [
       "                      author author_flair_text author_fullname  \\\n",
       "1729334   TimBurtonsCockRing              None     t2_33frvciw   \n",
       "2989872        zesty_lemon45              None     t2_28xd3zsc   \n",
       "221964               weeffex              None        t2_xaxm4   \n",
       "63513    towhileawaythehours              None     t2_2h1ntm0m   \n",
       "781765        spicklemehappy              None             NaN   \n",
       "\n",
       "                                                                                                                                                                                                            body  \\\n",
       "1729334  How is your sex life with your girlfriend? What aspect is there that she does not fulfill that makes you need to reach out to other girls? Can you two work on incorporating this into your sex life...   \n",
       "2989872                                                                                                                                             You do realise you have to pay the money back with interest?   \n",
       "221964   https://imgur.com/gallery/mkpKEck\\n\\nThanks, my landlord drilled this hole before i got here so he knows of my plans. Can i use this without knowing much about these kinda setups and attach the li...   \n",
       "63513    Id say do it man. Even if it’s just for the most basic reason: what if something happens to either of you while you’re gone? You’d regret it forever. Honestly, it sounds like she’s been a pain in ...   \n",
       "781765   Firstly, thank you for sharing your story. It takes a pretty big damn amount of bravery to recount something like that, especially to a bunch of, essentially, strangers. \\nSecondly, I know this mi...   \n",
       "\n",
       "         created_utc edited       id parent_id  score subreddit  \\\n",
       "1729334   1558552840  False  eog8f0d    brst3k      1    Advice   \n",
       "2989872   1554971783  False  ekm57rk    bbxg0l      1    Advice   \n",
       "221964    1539202911  False  e7j8upg    9n32n4      1    Advice   \n",
       "63513     1541800691  False  e9dw788    9voki9      2    Advice   \n",
       "781765    1516192896  False  dst9odc    7r0jhd      5    Advice   \n",
       "\n",
       "         parent_created  \\\n",
       "1729334      1558552232   \n",
       "2989872      1554971682   \n",
       "221964       1539202500   \n",
       "63513        1541799605   \n",
       "781765       1516190879   \n",
       "\n",
       "                                                                                                                                                                                                     parent_text  \\\n",
       "1729334  Over the past 13 years, since I was 15 (now 28) I've been overly active in online pornography videos. Ive been in a 3 year relationship since 2016 w/ my current GF &amp; everything is perfect. Exc...   \n",
       "2989872  I just turned 18 and I wanted to get a credit card so I can receive funds for work I do online. I under stand what savings accounts, checking accounts, etc. are. How do I get a credit card, what a...   \n",
       "221964   Hi guys, i just moved out from my parents in to an old apartment and it had this old hanging light in the living room wich is way to low for my liking. Can anybody explain to me how to raise it cl...   \n",
       "63513    To be simple I'm moving out of the country for a year or two, most of my family and some of friends will be coming to the airport to say goodbye. I'm going to hug everyone goodbye, but a big part ...   \n",
       "781765   Being on holiday (from Australia to Europe) at the age of 22 is supposed to be a really cool thing. My journey started out in Saarbrücken near the border of France, which was really cool, because ...   \n",
       "\n",
       "                                                                                    parent_title  \\\n",
       "1729334  I've struggled w/ Porn/masturbation addiction. But today it really bit me in the ass...   \n",
       "2989872                                             Just turned 18 and want to get a credit card   \n",
       "221964                                I dont know how to raise my light closer to the ceiling...   \n",
       "63513                                                             Should I hug my mother goodbye   \n",
       "781765                         It's taken me 13 years to write this (male sexual assault victim)   \n",
       "\n",
       "        parent_edited parent_author  \\\n",
       "1729334    1558552520  toastypeanut   \n",
       "2989872         False        Behnzo   \n",
       "221964          False       weeffex   \n",
       "63513           False    kobedziuba   \n",
       "781765          False      pigry123   \n",
       "\n",
       "                                                                                                                                                                                                       questions  \\\n",
       "1729334  [How is your sex life with your girlfriend?, What aspect is there that she does not fulfill that makes you need to reach out to other girls?, Can you two work on incorporating this into your sex l...   \n",
       "2989872                                                                                                                                           [You do realise you have to pay the money back with interest?]   \n",
       "221964                                                                                                                [Can i use this without knowing much about these kinda setups and attach the light to it?]   \n",
       "63513                                                                                               [Even if it’s just for the most basic reason: what if something happens to either of you while you’re gone?]   \n",
       "781765   [Is there any family/friends that you haven’t told that you feel like you should/want to?, How is your life going for you at the moment?, Job/study wise?, Relationships (romantic, family, friendsh...   \n",
       "\n",
       "         question_occurs_post_initial  \n",
       "1729334                          True  \n",
       "2989872                          True  \n",
       "221964                          False  \n",
       "63513                           False  \n",
       "781765                          False  "
      ]
     },
     "execution_count": 209,
     "metadata": {},
     "output_type": "execute_result"
    }
   ],
   "source": [
    "post_author_response_sample_comment_data.head()"
   ]
  },
  {
   "cell_type": "code",
   "execution_count": 215,
   "id": "spanish-reply",
   "metadata": {},
   "outputs": [],
   "source": [
    "def extract_parent_author_replies(comment_id, parent_author, reddit_api, data_vars=['id', 'author', 'body', 'edited', 'created_utc']):\n",
    "    # get comment children, written by parent author\n",
    "    child_comments = reddit_api.search_comments(parent_id=comment_id)\n",
    "    parent_author_comments = list(filter(lambda x: x.author is not None and x.author.name==parent_author, child_comments))\n",
    "    # convert to usable format\n",
    "    parent_author_comment_data = pd.DataFrame(list(map(lambda x: x.__dict__, parent_author_comments)))\n",
    "    if(parent_author_comment_data.shape[0] > 0):\n",
    "        parent_author_comment_data = parent_author_comment_data.loc[:, data_vars]\n",
    "        ## add comment ID\n",
    "        parent_author_comment_data = parent_author_comment_data.assign(**{'comment_id' : comment_id})\n",
    "        # clean up\n",
    "        parent_author_comment_data = parent_author_comment_data.assign(**{'author' : parent_author_comment_data.loc[:, 'author'].apply(lambda x: x.name)})\n",
    "    return parent_author_comment_data"
   ]
  },
  {
   "cell_type": "code",
   "execution_count": 206,
   "id": "recovered-advance",
   "metadata": {
    "scrolled": true
   },
   "outputs": [
    {
     "name": "stderr",
     "output_type": "stream",
     "text": [
      "/home/ianbstew/miniconda3/envs/py3/lib/python3.8/site-packages/psaw/PushshiftAPI.py:252: UserWarning: Not all PushShift shards are active. Query results may be incomplete\n",
      "  warnings.warn(shards_down_message)\n"
     ]
    },
    {
     "data": {
      "text/html": [
       "<div>\n",
       "<style scoped>\n",
       "    .dataframe tbody tr th:only-of-type {\n",
       "        vertical-align: middle;\n",
       "    }\n",
       "\n",
       "    .dataframe tbody tr th {\n",
       "        vertical-align: top;\n",
       "    }\n",
       "\n",
       "    .dataframe thead th {\n",
       "        text-align: right;\n",
       "    }\n",
       "</style>\n",
       "<table border=\"1\" class=\"dataframe\">\n",
       "  <thead>\n",
       "    <tr style=\"text-align: right;\">\n",
       "      <th></th>\n",
       "      <th>id</th>\n",
       "      <th>author</th>\n",
       "      <th>body</th>\n",
       "      <th>edited</th>\n",
       "      <th>created_utc</th>\n",
       "      <th>comment_id</th>\n",
       "    </tr>\n",
       "  </thead>\n",
       "  <tbody>\n",
       "    <tr>\n",
       "      <th>0</th>\n",
       "      <td>eogakfi</td>\n",
       "      <td>toastypeanut</td>\n",
       "      <td>Thank you for the response. Our sex life is wonderful. We have sex quite often before we go to bed. \\n\\nI get this feeling that with my age I'm becoming not as attractive anymore. Which is not tru...</td>\n",
       "      <td>False</td>\n",
       "      <td>1.558554e+09</td>\n",
       "      <td>eog8f0d</td>\n",
       "    </tr>\n",
       "  </tbody>\n",
       "</table>\n",
       "</div>"
      ],
      "text/plain": [
       "        id        author  \\\n",
       "0  eogakfi  toastypeanut   \n",
       "\n",
       "                                                                                                                                                                                                      body  \\\n",
       "0  Thank you for the response. Our sex life is wonderful. We have sex quite often before we go to bed. \\n\\nI get this feeling that with my age I'm becoming not as attractive anymore. Which is not tru...   \n",
       "\n",
       "   edited   created_utc comment_id  \n",
       "0   False  1.558554e+09    eog8f0d  "
      ]
     },
     "metadata": {},
     "output_type": "display_data"
    }
   ],
   "source": [
    "test_comment_id = 'eog8f0d'\n",
    "test_author = 'toastypeanut'\n",
    "test_comment_reply_data = extract_parent_author_replies(test_comment_id, test_author, pushshift_reddit_api)\n",
    "display(test_comment_reply_data)"
   ]
  },
  {
   "cell_type": "code",
   "execution_count": 216,
   "id": "attached-workplace",
   "metadata": {
    "scrolled": true
   },
   "outputs": [
    {
     "name": "stderr",
     "output_type": "stream",
     "text": [
      "2500it [1:01:31,  1.48s/it]\n"
     ]
    }
   ],
   "source": [
    "## now do it for all the comments lol\n",
    "import tqdm\n",
    "parent_author_reply_data = []\n",
    "for idx_i, data_i in tqdm.tqdm(post_author_response_sample_comment_data.iterrows()):\n",
    "    comment_id_i = data_i.loc['id']\n",
    "    parent_author_i = data_i.loc['parent_author']\n",
    "    parent_author_reply_data_i = extract_parent_author_replies(comment_id_i, parent_author_i, pushshift_reddit_api)\n",
    "    if(parent_author_reply_data_i.shape[0] > 0):\n",
    "        parent_author_reply_data.append(parent_author_reply_data_i)\n",
    "parent_author_reply_data = pd.concat(parent_author_reply_data, axis=0)\n",
    "## fix column names\n",
    "parent_author_reply_data.rename(columns={'id' : 'reply_id'}, inplace=True)"
   ]
  },
  {
   "cell_type": "code",
   "execution_count": 229,
   "id": "complete-philippines",
   "metadata": {
    "scrolled": true
   },
   "outputs": [
    {
     "name": "stdout",
     "output_type": "stream",
     "text": [
      "pcmasterrace       230\n",
      "personalfinance    193\n",
      "Advice             186\n",
      "legaladvice        144\n",
      "AmItheAsshole       72\n",
      "Name: subreddit, dtype: int64\n"
     ]
    }
   ],
   "source": [
    "## add subreddit\n",
    "if('subreddit' not in parent_author_reply_data.columns):\n",
    "    parent_author_reply_data = pd.merge(\n",
    "        parent_author_reply_data,\n",
    "        post_author_response_sample_comment_data.loc[:, ['id', 'subreddit']].rename(columns={'id' : 'comment_id'}),\n",
    "        on='comment_id', how='left',\n",
    "    )\n",
    "## add original comment data\n",
    "if('comment_body' not in parent_author_reply_data.columns):\n",
    "    parent_author_reply_data = pd.merge(\n",
    "        parent_author_reply_data,\n",
    "        post_author_response_sample_comment_data.loc[:, ['id', 'body']].rename(columns={'body':'comment_body', 'id' : 'comment_id'}),\n",
    "        on='comment_id'\n",
    "    )\n",
    "print(parent_author_reply_data.loc[:, 'subreddit'].value_counts())"
   ]
  },
  {
   "cell_type": "code",
   "execution_count": 248,
   "id": "nominated-supplier",
   "metadata": {},
   "outputs": [
    {
     "name": "stdout",
     "output_type": "stream",
     "text": [
      "825\n"
     ]
    }
   ],
   "source": [
    "print(parent_author_reply_data.shape[0])"
   ]
  },
  {
   "cell_type": "code",
   "execution_count": 251,
   "id": "isolated-beatles",
   "metadata": {},
   "outputs": [
    {
     "name": "stdout",
     "output_type": "stream",
     "text": [
      "909577/4371692 comments with >1 question\n"
     ]
    }
   ],
   "source": [
    "## how many of original comments contained at least one Q?\n",
    "print(f'{comment_data[comment_data.loc[:, \"questions\"].apply(lambda x: len(x) > 0)].shape[0]}/{comment_data.shape[0]} comments with >1 question')"
   ]
  },
  {
   "cell_type": "markdown",
   "id": "typical-heating",
   "metadata": {},
   "source": [
    "Using the original sample size, we can estimate that about 825/2500=33% of questions get a response from the author of the OP."
   ]
  },
  {
   "cell_type": "code",
   "execution_count": 226,
   "id": "young-davis",
   "metadata": {},
   "outputs": [],
   "source": [
    "parent_author_reply_data = parent_author_reply_data.rename(columns={'id_x':'reply_id'}).drop('id_y', axis=1)"
   ]
  },
  {
   "cell_type": "code",
   "execution_count": 230,
   "id": "related-velvet",
   "metadata": {},
   "outputs": [
    {
     "data": {
      "text/html": [
       "<div>\n",
       "<style scoped>\n",
       "    .dataframe tbody tr th:only-of-type {\n",
       "        vertical-align: middle;\n",
       "    }\n",
       "\n",
       "    .dataframe tbody tr th {\n",
       "        vertical-align: top;\n",
       "    }\n",
       "\n",
       "    .dataframe thead th {\n",
       "        text-align: right;\n",
       "    }\n",
       "</style>\n",
       "<table border=\"1\" class=\"dataframe\">\n",
       "  <thead>\n",
       "    <tr style=\"text-align: right;\">\n",
       "      <th></th>\n",
       "      <th>reply_id</th>\n",
       "      <th>author</th>\n",
       "      <th>body</th>\n",
       "      <th>edited</th>\n",
       "      <th>created_utc</th>\n",
       "      <th>comment_id</th>\n",
       "      <th>subreddit</th>\n",
       "      <th>comment_body</th>\n",
       "    </tr>\n",
       "  </thead>\n",
       "  <tbody>\n",
       "    <tr>\n",
       "      <th>0</th>\n",
       "      <td>eogakfi</td>\n",
       "      <td>toastypeanut</td>\n",
       "      <td>Thank you for the response. Our sex life is wonderful. We have sex quite often before we go to bed. \\n\\nI get this feeling that with my age I'm becoming not as attractive anymore. Which is not tru...</td>\n",
       "      <td>False</td>\n",
       "      <td>1.558554e+09</td>\n",
       "      <td>eog8f0d</td>\n",
       "      <td>Advice</td>\n",
       "      <td>How is your sex life with your girlfriend? What aspect is there that she does not fulfill that makes you need to reach out to other girls? Can you two work on incorporating this into your sex life...</td>\n",
       "    </tr>\n",
       "    <tr>\n",
       "      <th>1</th>\n",
       "      <td>ekm5845</td>\n",
       "      <td>Behnzo</td>\n",
       "      <td>Yeah I’m not stupid</td>\n",
       "      <td>False</td>\n",
       "      <td>1.554972e+09</td>\n",
       "      <td>ekm57rk</td>\n",
       "      <td>Advice</td>\n",
       "      <td>You do realise you have to pay the money back with interest?</td>\n",
       "    </tr>\n",
       "    <tr>\n",
       "      <th>2</th>\n",
       "      <td>dtmban4</td>\n",
       "      <td>pigry123</td>\n",
       "      <td>Thank-you for your kind words... it's taken me a while just to respond to you.. in fact.. its taken me a while to do anything lately. But that's ok... i'm taking it all a day at a time.\\n\\nThe big...</td>\n",
       "      <td>False</td>\n",
       "      <td>1.517567e+09</td>\n",
       "      <td>dst9odc</td>\n",
       "      <td>Advice</td>\n",
       "      <td>Firstly, thank you for sharing your story. It takes a pretty big damn amount of bravery to recount something like that, especially to a bunch of, essentially, strangers. \\nSecondly, I know this mi...</td>\n",
       "    </tr>\n",
       "    <tr>\n",
       "      <th>3</th>\n",
       "      <td>ewpqet5</td>\n",
       "      <td>adumbcollegestudent3</td>\n",
       "      <td>lots of green vegetables and fruit and red meat and kind of mid level in carbs I guess and I eat around 1200 calories a day.</td>\n",
       "      <td>False</td>\n",
       "      <td>1.565647e+09</td>\n",
       "      <td>ewpq7s1</td>\n",
       "      <td>Advice</td>\n",
       "      <td>Maybe its related to something you are eating. What does your diet look like?</td>\n",
       "    </tr>\n",
       "    <tr>\n",
       "      <th>4</th>\n",
       "      <td>eml3zvo</td>\n",
       "      <td>yeeus11</td>\n",
       "      <td>We talk a ton and she responds really fast to me so i don't think there's other dudes</td>\n",
       "      <td>False</td>\n",
       "      <td>1.557090e+09</td>\n",
       "      <td>eml3u2k</td>\n",
       "      <td>Advice</td>\n",
       "      <td>Hard to tell. Is that all she does? She could be sending the same stuff to 100 other dudes. \\n\\nDo you spend time talking as well?</td>\n",
       "    </tr>\n",
       "  </tbody>\n",
       "</table>\n",
       "</div>"
      ],
      "text/plain": [
       "  reply_id                author  \\\n",
       "0  eogakfi          toastypeanut   \n",
       "1  ekm5845                Behnzo   \n",
       "2  dtmban4              pigry123   \n",
       "3  ewpqet5  adumbcollegestudent3   \n",
       "4  eml3zvo               yeeus11   \n",
       "\n",
       "                                                                                                                                                                                                      body  \\\n",
       "0  Thank you for the response. Our sex life is wonderful. We have sex quite often before we go to bed. \\n\\nI get this feeling that with my age I'm becoming not as attractive anymore. Which is not tru...   \n",
       "1                                                                                                                                                                                      Yeah I’m not stupid   \n",
       "2  Thank-you for your kind words... it's taken me a while just to respond to you.. in fact.. its taken me a while to do anything lately. But that's ok... i'm taking it all a day at a time.\\n\\nThe big...   \n",
       "3                                                                             lots of green vegetables and fruit and red meat and kind of mid level in carbs I guess and I eat around 1200 calories a day.   \n",
       "4                                                                                                                    We talk a ton and she responds really fast to me so i don't think there's other dudes   \n",
       "\n",
       "  edited   created_utc comment_id subreddit  \\\n",
       "0  False  1.558554e+09    eog8f0d    Advice   \n",
       "1  False  1.554972e+09    ekm57rk    Advice   \n",
       "2  False  1.517567e+09    dst9odc    Advice   \n",
       "3  False  1.565647e+09    ewpq7s1    Advice   \n",
       "4  False  1.557090e+09    eml3u2k    Advice   \n",
       "\n",
       "                                                                                                                                                                                              comment_body  \n",
       "0  How is your sex life with your girlfriend? What aspect is there that she does not fulfill that makes you need to reach out to other girls? Can you two work on incorporating this into your sex life...  \n",
       "1                                                                                                                                             You do realise you have to pay the money back with interest?  \n",
       "2  Firstly, thank you for sharing your story. It takes a pretty big damn amount of bravery to recount something like that, especially to a bunch of, essentially, strangers. \\nSecondly, I know this mi...  \n",
       "3                                                                                                                            Maybe its related to something you are eating. What does your diet look like?  \n",
       "4                                                                       Hard to tell. Is that all she does? She could be sending the same stuff to 100 other dudes. \\n\\nDo you spend time talking as well?  "
      ]
     },
     "execution_count": 230,
     "metadata": {},
     "output_type": "execute_result"
    }
   ],
   "source": [
    "parent_author_reply_data.head()"
   ]
  },
  {
   "cell_type": "markdown",
   "id": "molecular-pharmacology",
   "metadata": {},
   "source": [
    "It seems like most of the author responses are answers to the questions, so that's a good sign."
   ]
  },
  {
   "cell_type": "markdown",
   "id": "conventional-personality",
   "metadata": {},
   "source": [
    "Let's get a sample of the questions that received at least one reply from the OP author, then annotate."
   ]
  },
  {
   "cell_type": "code",
   "execution_count": 234,
   "id": "sonic-cycling",
   "metadata": {
    "scrolled": true
   },
   "outputs": [
    {
     "data": {
      "text/html": [
       "<div>\n",
       "<style scoped>\n",
       "    .dataframe tbody tr th:only-of-type {\n",
       "        vertical-align: middle;\n",
       "    }\n",
       "\n",
       "    .dataframe tbody tr th {\n",
       "        vertical-align: top;\n",
       "    }\n",
       "\n",
       "    .dataframe thead th {\n",
       "        text-align: right;\n",
       "    }\n",
       "</style>\n",
       "<table border=\"1\" class=\"dataframe\">\n",
       "  <thead>\n",
       "    <tr style=\"text-align: right;\">\n",
       "      <th></th>\n",
       "      <th>author</th>\n",
       "      <th>author_flair_text</th>\n",
       "      <th>author_fullname</th>\n",
       "      <th>body</th>\n",
       "      <th>created_utc</th>\n",
       "      <th>edited</th>\n",
       "      <th>id</th>\n",
       "      <th>parent_id</th>\n",
       "      <th>score</th>\n",
       "      <th>subreddit</th>\n",
       "      <th>parent_created</th>\n",
       "      <th>parent_text</th>\n",
       "      <th>parent_title</th>\n",
       "      <th>parent_edited</th>\n",
       "      <th>parent_author</th>\n",
       "      <th>questions</th>\n",
       "      <th>question_occurs_post_initial</th>\n",
       "    </tr>\n",
       "  </thead>\n",
       "  <tbody>\n",
       "    <tr>\n",
       "      <th>1729334</th>\n",
       "      <td>TimBurtonsCockRing</td>\n",
       "      <td>None</td>\n",
       "      <td>t2_33frvciw</td>\n",
       "      <td>How is your sex life with your girlfriend? What aspect is there that she does not fulfill that makes you need to reach out to other girls? Can you two work on incorporating this into your sex life...</td>\n",
       "      <td>1558552840</td>\n",
       "      <td>False</td>\n",
       "      <td>eog8f0d</td>\n",
       "      <td>brst3k</td>\n",
       "      <td>1</td>\n",
       "      <td>Advice</td>\n",
       "      <td>1558552232</td>\n",
       "      <td>Over the past 13 years, since I was 15 (now 28) I've been overly active in online pornography videos. Ive been in a 3 year relationship since 2016 w/ my current GF &amp;amp; everything is perfect. Exc...</td>\n",
       "      <td>I've struggled w/ Porn/masturbation addiction. But today it really bit me in the ass...</td>\n",
       "      <td>1558552520</td>\n",
       "      <td>toastypeanut</td>\n",
       "      <td>[How is your sex life with your girlfriend?, What aspect is there that she does not fulfill that makes you need to reach out to other girls?, Can you two work on incorporating this into your sex l...</td>\n",
       "      <td>True</td>\n",
       "    </tr>\n",
       "    <tr>\n",
       "      <th>2989872</th>\n",
       "      <td>zesty_lemon45</td>\n",
       "      <td>None</td>\n",
       "      <td>t2_28xd3zsc</td>\n",
       "      <td>You do realise you have to pay the money back with interest?</td>\n",
       "      <td>1554971783</td>\n",
       "      <td>False</td>\n",
       "      <td>ekm57rk</td>\n",
       "      <td>bbxg0l</td>\n",
       "      <td>1</td>\n",
       "      <td>Advice</td>\n",
       "      <td>1554971682</td>\n",
       "      <td>I just turned 18 and I wanted to get a credit card so I can receive funds for work I do online. I under stand what savings accounts, checking accounts, etc. are. How do I get a credit card, what a...</td>\n",
       "      <td>Just turned 18 and want to get a credit card</td>\n",
       "      <td>False</td>\n",
       "      <td>Behnzo</td>\n",
       "      <td>[You do realise you have to pay the money back with interest?]</td>\n",
       "      <td>True</td>\n",
       "    </tr>\n",
       "    <tr>\n",
       "      <th>221964</th>\n",
       "      <td>weeffex</td>\n",
       "      <td>None</td>\n",
       "      <td>t2_xaxm4</td>\n",
       "      <td>https://imgur.com/gallery/mkpKEck\\n\\nThanks, my landlord drilled this hole before i got here so he knows of my plans. Can i use this without knowing much about these kinda setups and attach the li...</td>\n",
       "      <td>1539202911</td>\n",
       "      <td>False</td>\n",
       "      <td>e7j8upg</td>\n",
       "      <td>9n32n4</td>\n",
       "      <td>1</td>\n",
       "      <td>Advice</td>\n",
       "      <td>1539202500</td>\n",
       "      <td>Hi guys, i just moved out from my parents in to an old apartment and it had this old hanging light in the living room wich is way to low for my liking. Can anybody explain to me how to raise it cl...</td>\n",
       "      <td>I dont know how to raise my light closer to the ceiling...</td>\n",
       "      <td>False</td>\n",
       "      <td>weeffex</td>\n",
       "      <td>[Can i use this without knowing much about these kinda setups and attach the light to it?]</td>\n",
       "      <td>False</td>\n",
       "    </tr>\n",
       "    <tr>\n",
       "      <th>63513</th>\n",
       "      <td>towhileawaythehours</td>\n",
       "      <td>None</td>\n",
       "      <td>t2_2h1ntm0m</td>\n",
       "      <td>Id say do it man. Even if it’s just for the most basic reason: what if something happens to either of you while you’re gone? You’d regret it forever. Honestly, it sounds like she’s been a pain in ...</td>\n",
       "      <td>1541800691</td>\n",
       "      <td>False</td>\n",
       "      <td>e9dw788</td>\n",
       "      <td>9voki9</td>\n",
       "      <td>2</td>\n",
       "      <td>Advice</td>\n",
       "      <td>1541799605</td>\n",
       "      <td>To be simple I'm moving out of the country for a year or two, most of my family and some of friends will be coming to the airport to say goodbye. I'm going to hug everyone goodbye, but a big part ...</td>\n",
       "      <td>Should I hug my mother goodbye</td>\n",
       "      <td>False</td>\n",
       "      <td>kobedziuba</td>\n",
       "      <td>[Even if it’s just for the most basic reason: what if something happens to either of you while you’re gone?]</td>\n",
       "      <td>False</td>\n",
       "    </tr>\n",
       "    <tr>\n",
       "      <th>781765</th>\n",
       "      <td>spicklemehappy</td>\n",
       "      <td>None</td>\n",
       "      <td>NaN</td>\n",
       "      <td>Firstly, thank you for sharing your story. It takes a pretty big damn amount of bravery to recount something like that, especially to a bunch of, essentially, strangers. \\nSecondly, I know this mi...</td>\n",
       "      <td>1516192896</td>\n",
       "      <td>False</td>\n",
       "      <td>dst9odc</td>\n",
       "      <td>7r0jhd</td>\n",
       "      <td>5</td>\n",
       "      <td>Advice</td>\n",
       "      <td>1516190879</td>\n",
       "      <td>Being on holiday (from Australia to Europe) at the age of 22 is supposed to be a really cool thing. My journey started out in Saarbrücken near the border of France, which was really cool, because ...</td>\n",
       "      <td>It's taken me 13 years to write this (male sexual assault victim)</td>\n",
       "      <td>False</td>\n",
       "      <td>pigry123</td>\n",
       "      <td>[Is there any family/friends that you haven’t told that you feel like you should/want to?, How is your life going for you at the moment?, Job/study wise?, Relationships (romantic, family, friendsh...</td>\n",
       "      <td>False</td>\n",
       "    </tr>\n",
       "  </tbody>\n",
       "</table>\n",
       "</div>"
      ],
      "text/plain": [
       "                      author author_flair_text author_fullname  \\\n",
       "1729334   TimBurtonsCockRing              None     t2_33frvciw   \n",
       "2989872        zesty_lemon45              None     t2_28xd3zsc   \n",
       "221964               weeffex              None        t2_xaxm4   \n",
       "63513    towhileawaythehours              None     t2_2h1ntm0m   \n",
       "781765        spicklemehappy              None             NaN   \n",
       "\n",
       "                                                                                                                                                                                                            body  \\\n",
       "1729334  How is your sex life with your girlfriend? What aspect is there that she does not fulfill that makes you need to reach out to other girls? Can you two work on incorporating this into your sex life...   \n",
       "2989872                                                                                                                                             You do realise you have to pay the money back with interest?   \n",
       "221964   https://imgur.com/gallery/mkpKEck\\n\\nThanks, my landlord drilled this hole before i got here so he knows of my plans. Can i use this without knowing much about these kinda setups and attach the li...   \n",
       "63513    Id say do it man. Even if it’s just for the most basic reason: what if something happens to either of you while you’re gone? You’d regret it forever. Honestly, it sounds like she’s been a pain in ...   \n",
       "781765   Firstly, thank you for sharing your story. It takes a pretty big damn amount of bravery to recount something like that, especially to a bunch of, essentially, strangers. \\nSecondly, I know this mi...   \n",
       "\n",
       "         created_utc edited       id parent_id  score subreddit  \\\n",
       "1729334   1558552840  False  eog8f0d    brst3k      1    Advice   \n",
       "2989872   1554971783  False  ekm57rk    bbxg0l      1    Advice   \n",
       "221964    1539202911  False  e7j8upg    9n32n4      1    Advice   \n",
       "63513     1541800691  False  e9dw788    9voki9      2    Advice   \n",
       "781765    1516192896  False  dst9odc    7r0jhd      5    Advice   \n",
       "\n",
       "         parent_created  \\\n",
       "1729334      1558552232   \n",
       "2989872      1554971682   \n",
       "221964       1539202500   \n",
       "63513        1541799605   \n",
       "781765       1516190879   \n",
       "\n",
       "                                                                                                                                                                                                     parent_text  \\\n",
       "1729334  Over the past 13 years, since I was 15 (now 28) I've been overly active in online pornography videos. Ive been in a 3 year relationship since 2016 w/ my current GF &amp; everything is perfect. Exc...   \n",
       "2989872  I just turned 18 and I wanted to get a credit card so I can receive funds for work I do online. I under stand what savings accounts, checking accounts, etc. are. How do I get a credit card, what a...   \n",
       "221964   Hi guys, i just moved out from my parents in to an old apartment and it had this old hanging light in the living room wich is way to low for my liking. Can anybody explain to me how to raise it cl...   \n",
       "63513    To be simple I'm moving out of the country for a year or two, most of my family and some of friends will be coming to the airport to say goodbye. I'm going to hug everyone goodbye, but a big part ...   \n",
       "781765   Being on holiday (from Australia to Europe) at the age of 22 is supposed to be a really cool thing. My journey started out in Saarbrücken near the border of France, which was really cool, because ...   \n",
       "\n",
       "                                                                                    parent_title  \\\n",
       "1729334  I've struggled w/ Porn/masturbation addiction. But today it really bit me in the ass...   \n",
       "2989872                                             Just turned 18 and want to get a credit card   \n",
       "221964                                I dont know how to raise my light closer to the ceiling...   \n",
       "63513                                                             Should I hug my mother goodbye   \n",
       "781765                         It's taken me 13 years to write this (male sexual assault victim)   \n",
       "\n",
       "        parent_edited parent_author  \\\n",
       "1729334    1558552520  toastypeanut   \n",
       "2989872         False        Behnzo   \n",
       "221964          False       weeffex   \n",
       "63513           False    kobedziuba   \n",
       "781765          False      pigry123   \n",
       "\n",
       "                                                                                                                                                                                                       questions  \\\n",
       "1729334  [How is your sex life with your girlfriend?, What aspect is there that she does not fulfill that makes you need to reach out to other girls?, Can you two work on incorporating this into your sex l...   \n",
       "2989872                                                                                                                                           [You do realise you have to pay the money back with interest?]   \n",
       "221964                                                                                                                [Can i use this without knowing much about these kinda setups and attach the light to it?]   \n",
       "63513                                                                                               [Even if it’s just for the most basic reason: what if something happens to either of you while you’re gone?]   \n",
       "781765   [Is there any family/friends that you haven’t told that you feel like you should/want to?, How is your life going for you at the moment?, Job/study wise?, Relationships (romantic, family, friendsh...   \n",
       "\n",
       "         question_occurs_post_initial  \n",
       "1729334                          True  \n",
       "2989872                          True  \n",
       "221964                          False  \n",
       "63513                           False  \n",
       "781765                          False  "
      ]
     },
     "metadata": {},
     "output_type": "display_data"
    }
   ],
   "source": [
    "display(post_author_response_sample_comment_data.head())"
   ]
  },
  {
   "cell_type": "code",
   "execution_count": 237,
   "id": "present-local",
   "metadata": {
    "scrolled": true
   },
   "outputs": [
    {
     "name": "stdout",
     "output_type": "stream",
     "text": [
      "250\n"
     ]
    }
   ],
   "source": [
    "import numpy as np\n",
    "np.random.seed(123)\n",
    "sample_comments_per_subreddit = 50\n",
    "parent_author_reply_data_ids = parent_author_reply_data.loc[:, 'comment_id'].unique()\n",
    "parent_author_reply_sample_label_data = []\n",
    "for subreddit_i, data_i in post_author_response_sample_comment_data.groupby('subreddit'):\n",
    "    data_i = data_i[data_i.loc[:, 'id'].isin(parent_author_reply_data_ids)]\n",
    "    data_i = data_i.loc[np.random.choice(data_i.index, sample_comments_per_subreddit, replace=False), :]\n",
    "    # get first question\n",
    "    data_i = data_i.assign(**{'question': data_i.loc[:, 'questions'].apply(lambda x: x[0])})\n",
    "    data_i = data_i.loc[:, ['parent_id', 'id', 'parent_title', 'parent_text', 'body', 'question', 'subreddit']]\n",
    "    parent_author_reply_sample_label_data.append(data_i)\n",
    "parent_author_reply_sample_label_data = pd.concat(parent_author_reply_sample_label_data, axis=0)\n",
    "## write to file\n",
    "print(parent_author_reply_sample_label_data.shape[0])\n",
    "out_file = '../../data/reddit_data/sample_advice_subreddit_parent_reply_questions.tsv'\n",
    "parent_author_reply_sample_label_data.to_csv(out_file, sep='\\t', index=False)"
   ]
  },
  {
   "cell_type": "markdown",
   "id": "global-bottom",
   "metadata": {},
   "source": [
    "After labeling, let's look for agreement."
   ]
  },
  {
   "cell_type": "code",
   "execution_count": 239,
   "id": "speaking-corpus",
   "metadata": {},
   "outputs": [],
   "source": [
    "parent_author_reply_sample_label_data = pd.read_csv('../../data/reddit_data/sample_advice_subreddit_parent_reply_question_labels.tsv', sep='\\t', index_col=False)"
   ]
  },
  {
   "cell_type": "code",
   "execution_count": 242,
   "id": "educated-jonathan",
   "metadata": {},
   "outputs": [],
   "source": [
    "## add subreddit data\n",
    "parent_author_reply_sample_label_data = pd.merge(\n",
    "    parent_author_reply_sample_label_data,\n",
    "    post_author_response_sample_comment_data.loc[:, ['id', 'subreddit']],\n",
    "    on='id',\n",
    ")"
   ]
  },
  {
   "cell_type": "code",
   "execution_count": 244,
   "id": "opposite-father",
   "metadata": {
    "scrolled": true
   },
   "outputs": [
    {
     "name": "stdout",
     "output_type": "stream",
     "text": [
      "**** testing var question_is_relevant ****\n",
      "1    0.956\n",
      "0    0.044\n",
      "Name: question_is_relevant, dtype: float64\n",
      "**** testing var question_is_clarification ****\n",
      "1    0.684\n",
      "0    0.316\n",
      "Name: question_is_clarification, dtype: float64\n",
      "**** testing var post_contains_answer ****\n",
      "0    0.996\n",
      "1    0.004\n",
      "Name: post_contains_answer, dtype: float64\n",
      "**** testing var question_is_relevant ****\n",
      "---- testing subreddit Advice ----\n",
      "1    0.96\n",
      "0    0.04\n",
      "Name: question_is_relevant, dtype: float64\n",
      "---- testing subreddit AmItheAsshole ----\n",
      "1    0.98\n",
      "0    0.02\n",
      "Name: question_is_relevant, dtype: float64\n",
      "---- testing subreddit legaladvice ----\n",
      "1    0.94\n",
      "0    0.06\n",
      "Name: question_is_relevant, dtype: float64\n",
      "---- testing subreddit pcmasterrace ----\n",
      "1    0.98\n",
      "0    0.02\n",
      "Name: question_is_relevant, dtype: float64\n",
      "---- testing subreddit personalfinance ----\n",
      "1    0.92\n",
      "0    0.08\n",
      "Name: question_is_relevant, dtype: float64\n",
      "**** testing var question_is_clarification ****\n",
      "---- testing subreddit Advice ----\n",
      "1    0.68\n",
      "0    0.32\n",
      "Name: question_is_clarification, dtype: float64\n",
      "---- testing subreddit AmItheAsshole ----\n",
      "1    0.56\n",
      "0    0.44\n",
      "Name: question_is_clarification, dtype: float64\n",
      "---- testing subreddit legaladvice ----\n",
      "1    0.82\n",
      "0    0.18\n",
      "Name: question_is_clarification, dtype: float64\n",
      "---- testing subreddit pcmasterrace ----\n",
      "1    0.64\n",
      "0    0.36\n",
      "Name: question_is_clarification, dtype: float64\n",
      "---- testing subreddit personalfinance ----\n",
      "1    0.72\n",
      "0    0.28\n",
      "Name: question_is_clarification, dtype: float64\n",
      "**** testing var post_contains_answer ****\n",
      "---- testing subreddit Advice ----\n",
      "0    1.0\n",
      "Name: post_contains_answer, dtype: float64\n",
      "---- testing subreddit AmItheAsshole ----\n",
      "0    1.0\n",
      "Name: post_contains_answer, dtype: float64\n",
      "---- testing subreddit legaladvice ----\n",
      "0    1.0\n",
      "Name: post_contains_answer, dtype: float64\n",
      "---- testing subreddit pcmasterrace ----\n",
      "0    1.0\n",
      "Name: post_contains_answer, dtype: float64\n",
      "---- testing subreddit personalfinance ----\n",
      "0    0.98\n",
      "1    0.02\n",
      "Name: post_contains_answer, dtype: float64\n"
     ]
    }
   ],
   "source": [
    "## get overall label counts\n",
    "label_vars = ['question_is_relevant', 'question_is_clarification', 'post_contains_answer']\n",
    "N = parent_author_reply_sample_label_data.shape[0]\n",
    "for label_var_i in label_vars:\n",
    "    print(f'**** testing var {label_var_i} ****')\n",
    "    print(parent_author_reply_sample_label_data.loc[:, label_var_i].value_counts()/N)\n",
    "## get label counts per subreddit\n",
    "for label_var_i in label_vars:\n",
    "    print(f'**** testing var {label_var_i} ****')\n",
    "    for subreddit_j, data_j in parent_author_reply_sample_label_data.groupby('subreddit'):\n",
    "        print(f'---- testing subreddit {subreddit_j} ----')\n",
    "        print(data_j.loc[:, label_var_i].value_counts()/data_j.shape[0])"
   ]
  },
  {
   "cell_type": "markdown",
   "id": "mental-favorite",
   "metadata": {},
   "source": [
    "Similar to what we saw before: most questions are relevant and not already answered by post. Only around 70% are actually clarification questions, which is due to domain differences (`AmItheAsshole` has rhetorical questions that the OP feels compelled to answer for some reason; `pcmasterrace` has questions related to AMAs that are not advice-seeking in the first place)."
   ]
  },
  {
   "cell_type": "code",
   "execution_count": 247,
   "id": "victorian-cisco",
   "metadata": {},
   "outputs": [
    {
     "name": "stdout",
     "output_type": "stream",
     "text": [
      "166/250 valid questions overall\n",
      "**** testing subreddit Advice ****\n",
      "34/50 valid questions overall\n",
      "**** testing subreddit AmItheAsshole ****\n",
      "28/50 valid questions overall\n",
      "**** testing subreddit legaladvice ****\n",
      "39/50 valid questions overall\n",
      "**** testing subreddit pcmasterrace ****\n",
      "32/50 valid questions overall\n",
      "**** testing subreddit personalfinance ****\n",
      "33/50 valid questions overall\n"
     ]
    }
   ],
   "source": [
    "valid_parent_author_reply_sample_label_data = parent_author_reply_sample_label_data[\n",
    "    (parent_author_reply_sample_label_data.loc[:, 'question_is_relevant']==1) &\n",
    "    (parent_author_reply_sample_label_data.loc[:, 'question_is_clarification']==1) &\n",
    "    (parent_author_reply_sample_label_data.loc[:, 'post_contains_answer']==0)\n",
    "]\n",
    "print(f'{valid_parent_author_reply_sample_label_data.shape[0]}/{parent_author_reply_sample_label_data.shape[0]} valid questions overall')\n",
    "for subreddit_i, data_i in parent_author_reply_sample_label_data.groupby('subreddit'):\n",
    "    print(f'**** testing subreddit {subreddit_i} ****')\n",
    "    valid_data_i = data_i[\n",
    "    (data_i.loc[:, 'question_is_relevant']==1) &\n",
    "    (data_i.loc[:, 'question_is_clarification']==1) &\n",
    "    (data_i.loc[:, 'post_contains_answer']==0)\n",
    "]\n",
    "    print(f'{valid_data_i.shape[0]}/{data_i.shape[0]} valid questions overall')"
   ]
  },
  {
   "cell_type": "markdown",
   "id": "distinct-church",
   "metadata": {},
   "source": [
    "Using all 3 criteria, we get around 66% validity. This would be slightly higher if we removed (1) quotations accidentally marked as questions; (2) posts that are not soliciting advice (e.g. AMAs)."
   ]
  },
  {
   "cell_type": "markdown",
   "id": "accepting-analyst",
   "metadata": {},
   "source": [
    "### Free text questions\n",
    "We just spent a while sampling questions under specific conditions, e.g. post-initial, post-only, with-response, etc. We need a baseline sample to compare them against, i.e. what is the overall proportion of valid questions across all comments?"
   ]
  },
  {
   "cell_type": "code",
   "execution_count": 10,
   "id": "guilty-royalty",
   "metadata": {
    "scrolled": true
   },
   "outputs": [
    {
     "data": {
      "text/html": [
       "<div>\n",
       "<style scoped>\n",
       "    .dataframe tbody tr th:only-of-type {\n",
       "        vertical-align: middle;\n",
       "    }\n",
       "\n",
       "    .dataframe tbody tr th {\n",
       "        vertical-align: top;\n",
       "    }\n",
       "\n",
       "    .dataframe thead th {\n",
       "        text-align: right;\n",
       "    }\n",
       "</style>\n",
       "<table border=\"1\" class=\"dataframe\">\n",
       "  <thead>\n",
       "    <tr style=\"text-align: right;\">\n",
       "      <th></th>\n",
       "      <th>author</th>\n",
       "      <th>author_flair_text</th>\n",
       "      <th>author_fullname</th>\n",
       "      <th>body</th>\n",
       "      <th>created_utc</th>\n",
       "      <th>edited</th>\n",
       "      <th>id</th>\n",
       "      <th>parent_id</th>\n",
       "      <th>score</th>\n",
       "      <th>subreddit</th>\n",
       "      <th>parent_created</th>\n",
       "      <th>parent_text</th>\n",
       "      <th>parent_title</th>\n",
       "      <th>parent_edited</th>\n",
       "      <th>parent_author</th>\n",
       "      <th>questions</th>\n",
       "      <th>question_occurs_post_initial</th>\n",
       "    </tr>\n",
       "  </thead>\n",
       "  <tbody>\n",
       "    <tr>\n",
       "      <th>0</th>\n",
       "      <td>grumpypantsoldman</td>\n",
       "      <td>NaN</td>\n",
       "      <td>t2_27ps6lxw</td>\n",
       "      <td>NTA. I think you dodged a bullet. Who needs a ...</td>\n",
       "      <td>1541030405</td>\n",
       "      <td>False</td>\n",
       "      <td>e8tkic1</td>\n",
       "      <td>9t3n27</td>\n",
       "      <td>14</td>\n",
       "      <td>AmItheAsshole</td>\n",
       "      <td>1541024836</td>\n",
       "      <td>TL;DR: Ran into ex. We organized to catch up. ...</td>\n",
       "      <td>AITA, for asking an ex girlfriend why she woul...</td>\n",
       "      <td>False</td>\n",
       "      <td>HashedGaming</td>\n",
       "      <td>[Who needs a crazy person in their lives?]</td>\n",
       "      <td>False</td>\n",
       "    </tr>\n",
       "    <tr>\n",
       "      <th>1</th>\n",
       "      <td>unknown_salmon</td>\n",
       "      <td>NaN</td>\n",
       "      <td>t2_q57txtp</td>\n",
       "      <td>I do feel for you. Do you think you could be b...</td>\n",
       "      <td>1541030426</td>\n",
       "      <td>False</td>\n",
       "      <td>e8tkj26</td>\n",
       "      <td>9t1u2e</td>\n",
       "      <td>2</td>\n",
       "      <td>Advice</td>\n",
       "      <td>1541012933</td>\n",
       "      <td>How do I deal with all these fake/fabricated p...</td>\n",
       "      <td>I've been struggling a lot lately and I need a...</td>\n",
       "      <td>False</td>\n",
       "      <td>mosorosso</td>\n",
       "      <td>[Do you think you could be bothered to have a ...</td>\n",
       "      <td>False</td>\n",
       "    </tr>\n",
       "    <tr>\n",
       "      <th>2</th>\n",
       "      <td>jon_lfl</td>\n",
       "      <td>NaN</td>\n",
       "      <td>t2_20q10ghp</td>\n",
       "      <td>I have not seen my insurance package for this ...</td>\n",
       "      <td>1541045930</td>\n",
       "      <td>False</td>\n",
       "      <td>e8tywqp</td>\n",
       "      <td>9t2e8e</td>\n",
       "      <td>1</td>\n",
       "      <td>personalfinance</td>\n",
       "      <td>1541016597</td>\n",
       "      <td>Just wanted to get a general feeling of what o...</td>\n",
       "      <td>General Benefits Discussion/2019 Open Enrollment</td>\n",
       "      <td>1541022607</td>\n",
       "      <td>Smearwashere</td>\n",
       "      <td>[Or are these insurance prices common practices?]</td>\n",
       "      <td>False</td>\n",
       "    </tr>\n",
       "    <tr>\n",
       "      <th>3</th>\n",
       "      <td>omicron7e</td>\n",
       "      <td>NaN</td>\n",
       "      <td>t2_3cx76</td>\n",
       "      <td>&amp;gt;matching industry trends\\n\\nEveryone else ...</td>\n",
       "      <td>1541073519</td>\n",
       "      <td>False</td>\n",
       "      <td>e8udnb2</td>\n",
       "      <td>9t2e8e</td>\n",
       "      <td>1</td>\n",
       "      <td>personalfinance</td>\n",
       "      <td>1541016597</td>\n",
       "      <td>Just wanted to get a general feeling of what o...</td>\n",
       "      <td>General Benefits Discussion/2019 Open Enrollment</td>\n",
       "      <td>1541022607</td>\n",
       "      <td>Smearwashere</td>\n",
       "      <td>[Why aren't we?]</td>\n",
       "      <td>False</td>\n",
       "    </tr>\n",
       "    <tr>\n",
       "      <th>4</th>\n",
       "      <td>JesyouJesmeJesus</td>\n",
       "      <td>NaN</td>\n",
       "      <td>t2_hhyv3</td>\n",
       "      <td>Could stick with my same high deductible plan,...</td>\n",
       "      <td>1541076018</td>\n",
       "      <td>False</td>\n",
       "      <td>e8ufm7h</td>\n",
       "      <td>9t2e8e</td>\n",
       "      <td>1</td>\n",
       "      <td>personalfinance</td>\n",
       "      <td>1541016597</td>\n",
       "      <td>Just wanted to get a general feeling of what o...</td>\n",
       "      <td>General Benefits Discussion/2019 Open Enrollment</td>\n",
       "      <td>1541022607</td>\n",
       "      <td>Smearwashere</td>\n",
       "      <td>[Is there a downside I’m not seeing with this ...</td>\n",
       "      <td>False</td>\n",
       "    </tr>\n",
       "  </tbody>\n",
       "</table>\n",
       "</div>"
      ],
      "text/plain": [
       "              author author_flair_text author_fullname  \\\n",
       "0  grumpypantsoldman               NaN     t2_27ps6lxw   \n",
       "1     unknown_salmon               NaN      t2_q57txtp   \n",
       "2            jon_lfl               NaN     t2_20q10ghp   \n",
       "3          omicron7e               NaN        t2_3cx76   \n",
       "4   JesyouJesmeJesus               NaN        t2_hhyv3   \n",
       "\n",
       "                                                body created_utc edited  \\\n",
       "0  NTA. I think you dodged a bullet. Who needs a ...  1541030405  False   \n",
       "1  I do feel for you. Do you think you could be b...  1541030426  False   \n",
       "2  I have not seen my insurance package for this ...  1541045930  False   \n",
       "3  &gt;matching industry trends\\n\\nEveryone else ...  1541073519  False   \n",
       "4  Could stick with my same high deductible plan,...  1541076018  False   \n",
       "\n",
       "        id parent_id score        subreddit parent_created  \\\n",
       "0  e8tkic1    9t3n27    14    AmItheAsshole     1541024836   \n",
       "1  e8tkj26    9t1u2e     2           Advice     1541012933   \n",
       "2  e8tywqp    9t2e8e     1  personalfinance     1541016597   \n",
       "3  e8udnb2    9t2e8e     1  personalfinance     1541016597   \n",
       "4  e8ufm7h    9t2e8e     1  personalfinance     1541016597   \n",
       "\n",
       "                                         parent_text  \\\n",
       "0  TL;DR: Ran into ex. We organized to catch up. ...   \n",
       "1  How do I deal with all these fake/fabricated p...   \n",
       "2  Just wanted to get a general feeling of what o...   \n",
       "3  Just wanted to get a general feeling of what o...   \n",
       "4  Just wanted to get a general feeling of what o...   \n",
       "\n",
       "                                        parent_title parent_edited  \\\n",
       "0  AITA, for asking an ex girlfriend why she woul...         False   \n",
       "1  I've been struggling a lot lately and I need a...         False   \n",
       "2   General Benefits Discussion/2019 Open Enrollment    1541022607   \n",
       "3   General Benefits Discussion/2019 Open Enrollment    1541022607   \n",
       "4   General Benefits Discussion/2019 Open Enrollment    1541022607   \n",
       "\n",
       "  parent_author                                          questions  \\\n",
       "0  HashedGaming         [Who needs a crazy person in their lives?]   \n",
       "1     mosorosso  [Do you think you could be bothered to have a ...   \n",
       "2  Smearwashere  [Or are these insurance prices common practices?]   \n",
       "3  Smearwashere                                   [Why aren't we?]   \n",
       "4  Smearwashere  [Is there a downside I’m not seeing with this ...   \n",
       "\n",
       "  question_occurs_post_initial  \n",
       "0                        False  \n",
       "1                        False  \n",
       "2                        False  \n",
       "3                        False  \n",
       "4                        False  "
      ]
     },
     "metadata": {},
     "output_type": "display_data"
    }
   ],
   "source": [
    "import pandas as pd\n",
    "from ast import literal_eval\n",
    "import numpy as np\n",
    "question_comment_data = pd.read_csv('../../data/reddit_data/advice_subreddit_question_data_for_validity_check.gz', sep='\\t', compression='gzip', index_col=False)\n",
    "question_comment_data.drop('Unnamed: 0', axis=1, inplace=True)\n",
    "question_comment_data = question_comment_data[~question_comment_data.loc[:, 'questions'].apply(lambda x: type(x) is float and np.isnan(x))]\n",
    "# convert question list\n",
    "question_comment_data = question_comment_data.assign(**{\n",
    "    'questions' : question_comment_data.loc[:, 'questions'].apply(literal_eval)\n",
    "})\n",
    "display(question_comment_data.head())"
   ]
  },
  {
   "cell_type": "code",
   "execution_count": 13,
   "id": "civil-detection",
   "metadata": {
    "scrolled": true
   },
   "outputs": [
    {
     "name": "stdout",
     "output_type": "stream",
     "text": [
      "851281/873188 valid questions\n"
     ]
    }
   ],
   "source": [
    "## remove quote questions\n",
    "import re\n",
    "quote_matcher = re.compile('&gt;[^\\n]+\\n')\n",
    "question_comment_data = question_comment_data.assign(**{\n",
    "    'questions' : question_comment_data.loc[:, 'questions'].apply(lambda x: list(filter(lambda y: quote_matcher.search(y) is None, x)))\n",
    "})\n",
    "question_comment_data = question_comment_data.assign(**{\n",
    "    'question' : question_comment_data.loc[:, 'questions'].apply(lambda x: x[0] if len(x) > 0 else '')\n",
    "})\n",
    "print(f'{question_comment_data[question_comment_data.loc[:, \"question\"]!=\"\"].shape[0]}/{question_comment_data.shape[0]} valid questions')"
   ]
  },
  {
   "cell_type": "code",
   "execution_count": 19,
   "id": "excessive-moisture",
   "metadata": {},
   "outputs": [],
   "source": [
    "clean_question_comment_data = question_comment_data[question_comment_data.loc[:, 'question']!='']\n",
    "clean_question_comment_data = clean_question_comment_data[clean_question_comment_data.loc[:, 'parent_author']!=clean_question_comment_data.loc[:, 'author']]"
   ]
  },
  {
   "cell_type": "code",
   "execution_count": 21,
   "id": "exclusive-transcription",
   "metadata": {},
   "outputs": [
    {
     "name": "stdout",
     "output_type": "stream",
     "text": [
      "847059/873188 valid questions\n"
     ]
    }
   ],
   "source": [
    "print(f'{clean_question_comment_data.shape[0]}/{question_comment_data.shape[0]} valid questions')"
   ]
  },
  {
   "cell_type": "code",
   "execution_count": 22,
   "id": "proud-mathematics",
   "metadata": {},
   "outputs": [],
   "source": [
    "## sample questions per subreddit\n",
    "np.random.seed(123)\n",
    "sample_size_per_subreddit = 50\n",
    "sample_question_data = []\n",
    "for subreddit_i, data_i in clean_question_comment_data.groupby('subreddit'):\n",
    "    sample_data_i = data_i.loc[np.random.choice(data_i.index, sample_size_per_subreddit, replace=False), :]\n",
    "    sample_question_data.append(sample_data_i)\n",
    "sample_question_data = pd.concat(sample_question_data, axis=0)\n",
    "# fix columns\n",
    "sample_question_data = sample_question_data.loc[:, ['parent_id', 'id', 'parent_title', 'parent_text', 'body', 'question']]"
   ]
  },
  {
   "cell_type": "code",
   "execution_count": 23,
   "id": "utility-liver",
   "metadata": {},
   "outputs": [],
   "source": [
    "sample_question_data_file = '../../data/reddit_data/sample_advice_subreddit_no_filter_questions.tsv'\n",
    "sample_question_data.to_csv(sample_question_data_file, sep='\\t', index=False)"
   ]
  },
  {
   "cell_type": "markdown",
   "id": "painted-telescope",
   "metadata": {},
   "source": [
    "After labeling, let's see the damages."
   ]
  },
  {
   "cell_type": "code",
   "execution_count": 30,
   "id": "thermal-spyware",
   "metadata": {},
   "outputs": [],
   "source": [
    "sample_label_question_data = pd.read_csv('../../data/reddit_data/sample_advice_subreddit_no_filter_question_labels.tsv', sep='\\t', index_col=False)"
   ]
  },
  {
   "cell_type": "code",
   "execution_count": 31,
   "id": "false-baptist",
   "metadata": {},
   "outputs": [],
   "source": [
    "## add subreddit, author info\n",
    "sample_label_question_data = pd.merge(\n",
    "    sample_label_question_data, clean_question_comment_data.loc[:, ['id', 'subreddit', 'author']],\n",
    "    on='id',\n",
    ")"
   ]
  },
  {
   "cell_type": "code",
   "execution_count": 33,
   "id": "biological-expression",
   "metadata": {},
   "outputs": [],
   "source": [
    "## remove bot questions\n",
    "bot_authors = ['LocationBot']\n",
    "sample_label_question_data = sample_label_question_data[~sample_label_question_data.loc[:, 'author'].isin(bot_authors)]"
   ]
  },
  {
   "cell_type": "code",
   "execution_count": 34,
   "id": "geological-jefferson",
   "metadata": {
    "scrolled": true
   },
   "outputs": [
    {
     "name": "stdout",
     "output_type": "stream",
     "text": [
      "**** testing var question_is_relevant ****\n",
      "1.0    0.838983\n",
      "0.0    0.156780\n",
      "Name: question_is_relevant, dtype: float64\n",
      "**** testing var question_is_clarification ****\n",
      "1.0    0.538136\n",
      "0.0    0.457627\n",
      "Name: question_is_clarification, dtype: float64\n",
      "**** testing var post_contains_answer ****\n",
      "0.0    0.953390\n",
      "1.0    0.042373\n",
      "Name: post_contains_answer, dtype: float64\n",
      "**** testing var question_is_relevant ****\n",
      "---- testing subreddit Advice ----\n",
      "1.0    0.82\n",
      "0.0    0.18\n",
      "Name: question_is_relevant, dtype: float64\n",
      "---- testing subreddit AmItheAsshole ----\n",
      "1.0    0.9\n",
      "0.0    0.1\n",
      "Name: question_is_relevant, dtype: float64\n",
      "---- testing subreddit legaladvice ----\n",
      "1.0    0.944444\n",
      "0.0    0.055556\n",
      "Name: question_is_relevant, dtype: float64\n",
      "---- testing subreddit pcmasterrace ----\n",
      "1.0    0.8\n",
      "0.0    0.2\n",
      "Name: question_is_relevant, dtype: float64\n",
      "---- testing subreddit personalfinance ----\n",
      "1.0    0.76\n",
      "0.0    0.22\n",
      "Name: question_is_relevant, dtype: float64\n",
      "**** testing var question_is_clarification ****\n",
      "---- testing subreddit Advice ----\n",
      "0.0    0.5\n",
      "1.0    0.5\n",
      "Name: question_is_clarification, dtype: float64\n",
      "---- testing subreddit AmItheAsshole ----\n",
      "0.0    0.66\n",
      "1.0    0.34\n",
      "Name: question_is_clarification, dtype: float64\n",
      "---- testing subreddit legaladvice ----\n",
      "1.0    0.75\n",
      "0.0    0.25\n",
      "Name: question_is_clarification, dtype: float64\n",
      "---- testing subreddit pcmasterrace ----\n",
      "1.0    0.54\n",
      "0.0    0.46\n",
      "Name: question_is_clarification, dtype: float64\n",
      "---- testing subreddit personalfinance ----\n",
      "1.0    0.62\n",
      "0.0    0.36\n",
      "Name: question_is_clarification, dtype: float64\n",
      "**** testing var post_contains_answer ****\n",
      "---- testing subreddit Advice ----\n",
      "0.0    1.0\n",
      "Name: post_contains_answer, dtype: float64\n",
      "---- testing subreddit AmItheAsshole ----\n",
      "0.0    0.94\n",
      "1.0    0.06\n",
      "Name: post_contains_answer, dtype: float64\n",
      "---- testing subreddit legaladvice ----\n",
      "0.0    0.944444\n",
      "1.0    0.055556\n",
      "Name: post_contains_answer, dtype: float64\n",
      "---- testing subreddit pcmasterrace ----\n",
      "0.0    0.94\n",
      "1.0    0.06\n",
      "Name: post_contains_answer, dtype: float64\n",
      "---- testing subreddit personalfinance ----\n",
      "0.0    0.94\n",
      "1.0    0.04\n",
      "Name: post_contains_answer, dtype: float64\n"
     ]
    }
   ],
   "source": [
    "## get overall label counts\n",
    "label_vars = ['question_is_relevant', 'question_is_clarification', 'post_contains_answer']\n",
    "N = sample_label_question_data.shape[0]\n",
    "for label_var_i in label_vars:\n",
    "    print(f'**** testing var {label_var_i} ****')\n",
    "    print(sample_label_question_data.loc[:, label_var_i].value_counts()/N)\n",
    "## get label counts per subreddit\n",
    "for label_var_i in label_vars:\n",
    "    print(f'**** testing var {label_var_i} ****')\n",
    "    for subreddit_j, data_j in sample_label_question_data.groupby('subreddit'):\n",
    "        print(f'---- testing subreddit {subreddit_j} ----')\n",
    "        print(data_j.loc[:, label_var_i].value_counts()/data_j.shape[0])"
   ]
  },
  {
   "cell_type": "markdown",
   "id": "seeing-blake",
   "metadata": {},
   "source": [
    "It looks like we're getting significantly lower rates of \"relevant\" and \"clarification\"."
   ]
  },
  {
   "cell_type": "code",
   "execution_count": 35,
   "id": "efficient-infrared",
   "metadata": {
    "scrolled": true
   },
   "outputs": [
    {
     "name": "stdout",
     "output_type": "stream",
     "text": [
      "123/236 valid questions overall\n",
      "**** testing subreddit Advice ****\n",
      "25/50 valid questions overall\n",
      "**** testing subreddit AmItheAsshole ****\n",
      "16/50 valid questions overall\n",
      "**** testing subreddit legaladvice ****\n",
      "26/36 valid questions overall\n",
      "**** testing subreddit pcmasterrace ****\n",
      "27/50 valid questions overall\n",
      "**** testing subreddit personalfinance ****\n",
      "29/50 valid questions overall\n"
     ]
    }
   ],
   "source": [
    "## valid questions\n",
    "valid_sample_label_question_data = sample_label_question_data[\n",
    "    (sample_label_question_data.loc[:, 'question_is_relevant']==1) &\n",
    "    (sample_label_question_data.loc[:, 'question_is_clarification']==1) &\n",
    "    (sample_label_question_data.loc[:, 'post_contains_answer']==0)\n",
    "]\n",
    "print(f'{valid_sample_label_question_data.shape[0]}/{sample_label_question_data.shape[0]} valid questions overall')\n",
    "for subreddit_i, data_i in sample_label_question_data.groupby('subreddit'):\n",
    "    print(f'**** testing subreddit {subreddit_i} ****')\n",
    "    valid_data_i = data_i[\n",
    "    (data_i.loc[:, 'question_is_relevant']==1) &\n",
    "    (data_i.loc[:, 'question_is_clarification']==1) &\n",
    "    (data_i.loc[:, 'post_contains_answer']==0)\n",
    "]\n",
    "    print(f'{valid_data_i.shape[0]}/{data_i.shape[0]} valid questions overall')"
   ]
  },
  {
   "cell_type": "markdown",
   "id": "quantitative-trauma",
   "metadata": {},
   "source": [
    "As expected, much lower rates of validity overall due to low rates of clarification questions."
   ]
  },
  {
   "cell_type": "markdown",
   "id": "martial-control",
   "metadata": {},
   "source": [
    "### Identify valid questions automatically\n",
    "Let's use the combined annotated data to identify valid questions based on post similarity (after removing edits) and structure (based on question words)."
   ]
  },
  {
   "cell_type": "code",
   "execution_count": 36,
   "id": "refined-vault",
   "metadata": {
    "scrolled": true
   },
   "outputs": [
    {
     "name": "stdout",
     "output_type": "stream",
     "text": [
      "<this is a test post\n",
      "Edit: this is an example edit\n",
      "this is the end of the post>\n",
      "<this is a test post\n",
      "this is the end of the post>\n"
     ]
    }
   ],
   "source": [
    "import re\n",
    "def remove_edit_data(text):\n",
    "    # remove edit data based on structure\n",
    "    # \"EDIT( #): ...\\n\"\n",
    "    edit_span = re.search('^edit( [0-9]+)?:[^\\n]+$|\\nedit( [0-9]+)?:[^\\n]+', text.lower())\n",
    "    if(edit_span is not None):\n",
    "        span_start, span_end = edit_span.span()\n",
    "        text = text[:span_start] + text[span_end:]\n",
    "    return text\n",
    "test_text = 'this is a test post\\nEdit: this is an example edit\\nthis is the end of the post'\n",
    "print(f'<{test_text}>')\n",
    "print(f'<{remove_edit_data(test_text)}>')"
   ]
  },
  {
   "cell_type": "markdown",
   "id": "insured-edition",
   "metadata": {},
   "source": [
    "Let's remove all edits and make sure we didn't completely destroy the post content."
   ]
  },
  {
   "cell_type": "code",
   "execution_count": null,
   "id": "hearing-small",
   "metadata": {
    "scrolled": true
   },
   "outputs": [
    {
     "name": "stderr",
     "output_type": "stream",
     "text": [
      " 57%|█████▋    | 497681/873188 [01:06<00:46, 8103.02it/s]"
     ]
    }
   ],
   "source": [
    "import tqdm\n",
    "tqdm.tqdm.pandas()\n",
    "question_comment_data = question_comment_data.assign(**{\n",
    "    'parent_text_no_edits' : question_comment_data.progress_apply(lambda x: remove_edit_data(x.loc['parent_text']) if x.loc['parent_edited'] else x.loc['parent_text'], axis=1)\n",
    "})"
   ]
  },
  {
   "cell_type": "code",
   "execution_count": 38,
   "id": "cloudy-effort",
   "metadata": {},
   "outputs": [
    {
     "data": {
      "text/html": [
       "<div>\n",
       "<style scoped>\n",
       "    .dataframe tbody tr th:only-of-type {\n",
       "        vertical-align: middle;\n",
       "    }\n",
       "\n",
       "    .dataframe tbody tr th {\n",
       "        vertical-align: top;\n",
       "    }\n",
       "\n",
       "    .dataframe thead th {\n",
       "        text-align: right;\n",
       "    }\n",
       "</style>\n",
       "<table border=\"1\" class=\"dataframe\">\n",
       "  <thead>\n",
       "    <tr style=\"text-align: right;\">\n",
       "      <th></th>\n",
       "      <th>parent_text</th>\n",
       "      <th>parent_text_no_edits</th>\n",
       "    </tr>\n",
       "  </thead>\n",
       "  <tbody>\n",
       "    <tr>\n",
       "      <th>14</th>\n",
       "      <td>I went to a 1930’s themed party with my fiancé. Her costume was “The Great Dust Bowl” - she wore a tattered dress and covered herself in dirt and carried around a bowl filled with dust. I was “The Great Depression” and wore my old pill bottles around my neck with my pajamas on and a comfy blanket over my shoulders. Everyone at the party thought it was great, especially since they were mostly friends of ours who know my history struggling with anxiety and depression and how amazing my beautiful fiancé has been through it all. We looked at my costume as a funny way to celebrate how much better i am doing (no longer on a ton of medication, am happy and healthier than ever). But when she posted a photo of us on her instagram she got some flak for “making a joke out of depression.” I believe that comedy = tragedy + time, but was wondering what you all think. Am i the asshole? \\n\\nedit: WIBTA if i send the instagram haters a  link to this post, haha</td>\n",
       "      <td>I went to a 1930’s themed party with my fiancé. Her costume was “The Great Dust Bowl” - she wore a tattered dress and covered herself in dirt and carried around a bowl filled with dust. I was “The Great Depression” and wore my old pill bottles around my neck with my pajamas on and a comfy blanket over my shoulders. Everyone at the party thought it was great, especially since they were mostly friends of ours who know my history struggling with anxiety and depression and how amazing my beautiful fiancé has been through it all. We looked at my costume as a funny way to celebrate how much better i am doing (no longer on a ton of medication, am happy and healthier than ever). But when she posted a photo of us on her instagram she got some flak for “making a joke out of depression.” I believe that comedy = tragedy + time, but was wondering what you all think. Am i the asshole? \\n</td>\n",
       "    </tr>\n",
       "    <tr>\n",
       "      <th>32</th>\n",
       "      <td>Hey guys, longtime lurker first time poster cos I’m not exactly sure where to go to fix this.\\n\\nbuy and sell a lot on Facebook marketplace. After buying and selling a lot ive become pretty trusting in the buyer/seller as I’ve never had any issues until now.\\n\\nI went about buying some Apple AirPods for $160 of this seller. I transferred the money to his bank account provided and sent through a screenshot of the receipt as usual. \\nUsually at this point the seller will post the item to me as that’s enough proof of transfer, but some don’t and want to see the money in their account before they post their item which is also fine. \\nAlthough, this guys claims he still hasn’t received my bank transfer 8 days later which is false.\\nI’ve tripled checked the bsb and account number I sent to and asked him to do the same that he provided me the right details. I’ve spoken to my bank and confirmed that the money has left my account and should be in his but he’s still denying he’s received anything.\\n\\nI’m wondering how I go about replying and attempting to recover my funds now. \\nDo I contact my police station? Do I call my banks fraud department?\\nI definitely won’t be as trusting on Facebook marketplace anymore.\\n\\nEDIT: I live in Australia</td>\n",
       "      <td>Hey guys, longtime lurker first time poster cos I’m not exactly sure where to go to fix this.\\n\\nbuy and sell a lot on Facebook marketplace. After buying and selling a lot ive become pretty trusting in the buyer/seller as I’ve never had any issues until now.\\n\\nI went about buying some Apple AirPods for $160 of this seller. I transferred the money to his bank account provided and sent through a screenshot of the receipt as usual. \\nUsually at this point the seller will post the item to me as that’s enough proof of transfer, but some don’t and want to see the money in their account before they post their item which is also fine. \\nAlthough, this guys claims he still hasn’t received my bank transfer 8 days later which is false.\\nI’ve tripled checked the bsb and account number I sent to and asked him to do the same that he provided me the right details. I’ve spoken to my bank and confirmed that the money has left my account and should be in his but he’s still denying he’s received anything.\\n\\nI’m wondering how I go about replying and attempting to recover my funds now. \\nDo I contact my police station? Do I call my banks fraud department?\\nI definitely won’t be as trusting on Facebook marketplace anymore.\\n</td>\n",
       "    </tr>\n",
       "    <tr>\n",
       "      <th>33</th>\n",
       "      <td>No.* \\n\\nBirthright citizenship comes from section 1 of the 14th amendment: \\n\\n&amp;gt; Section 1. **All persons born** or naturalized **in the United States, and subject to the jurisdiction thereof, are citizens of the United States and of the State wherein they reside**. No State shall make or enforce any law which shall abridge the privileges or immunities of citizens of the United States; nor shall any State deprive any person of life, liberty, or property, without due process of law; nor deny to any person within its jurisdiction the equal protection of the laws.\\n\\n*“But aren’t noncitizens not subject to the jurisdiction, and therefore this doesn’t apply to them?”*\\n\\nAlso no. The only people in America who aren’t subject to US jurisdiction are properly credentialed foreign diplomats. (edit: And in theory parents who were members of an occupying army who had their children in the US during the occupation).\\n\\n*“Can Trump amend the constitution to take this away?”*\\n\\nHe can try. But it requires 2/3 of both the House and Senate to vote in favor and then 3/4 of the states to ratify amendment. The moderators of legal advice, while not legislative experts, do not believe this is likely.\\n\\n*“So why did this come up now?”*\\n\\nProbably because there’s an election in a week. \\n\\nEDIT: *No serious academics or constitutional scholars take this position, however [there is debate](https://reason.com/volokh/2018/07/19/a-bad-argument-on-birthright-citizenship) on the far right wing of American politics that there is an alternative view to this argument. \\n\\nThe definitive case on this issue is [US v. Wong Kim Ark](https://en.wikipedia.org/wiki/United_States_v._Wong_Kim_Ark). Decided in 1898 it has been the law of the land for 120 years, barring a significant (and unexpected) narrowing of the ruling by the Supreme Court this is unlikely to change.</td>\n",
       "      <td>No.* \\n\\nBirthright citizenship comes from section 1 of the 14th amendment: \\n\\n&amp;gt; Section 1. **All persons born** or naturalized **in the United States, and subject to the jurisdiction thereof, are citizens of the United States and of the State wherein they reside**. No State shall make or enforce any law which shall abridge the privileges or immunities of citizens of the United States; nor shall any State deprive any person of life, liberty, or property, without due process of law; nor deny to any person within its jurisdiction the equal protection of the laws.\\n\\n*“But aren’t noncitizens not subject to the jurisdiction, and therefore this doesn’t apply to them?”*\\n\\nAlso no. The only people in America who aren’t subject to US jurisdiction are properly credentialed foreign diplomats. (edit: And in theory parents who were members of an occupying army who had their children in the US during the occupation).\\n\\n*“Can Trump amend the constitution to take this away?”*\\n\\nHe can try. But it requires 2/3 of both the House and Senate to vote in favor and then 3/4 of the states to ratify amendment. The moderators of legal advice, while not legislative experts, do not believe this is likely.\\n\\n*“So why did this come up now?”*\\n\\nProbably because there’s an election in a week. \\n\\n\\nThe definitive case on this issue is [US v. Wong Kim Ark](https://en.wikipedia.org/wiki/United_States_v._Wong_Kim_Ark). Decided in 1898 it has been the law of the land for 120 years, barring a significant (and unexpected) narrowing of the ruling by the Supreme Court this is unlikely to change.</td>\n",
       "    </tr>\n",
       "    <tr>\n",
       "      <th>64</th>\n",
       "      <td>Hello r/Legaladvice.\\n\\nPreface: I met a girl In a college class. We flirt for a few weeks, bring each other snacks, talk alot. The usual. Valentine's day rolls around I ask her if she want to skip class and go for a drive. We do, get lost, and have a fantastic evening. We begin dating but only really meet during or after class. Due to her family having a chokehold on her. Theres alot I can't say but they tried to marry her to a 40y/o guy in Mexico when she was 6. And she always seemed like she was justifying everything her family did. Anyway this goes on for several months. \\n\\nMy parents go out of town and we decided to spend the night together. At arround 4 am we wake up to her phone ringing. It is her mother and she is screaming so loudly that i can hear it on the other side of the room. She wants her back home now. We comply and i drive her back home. Arriving at her home there is a police car outside and i brace for the worst. I am left in my car for 2 hours while they talk to her and her family. At they end of it they say I'm under arrest for sexual assault against her daughter. At this point I'm pretty confused and the officer says he can't tell me any more as it is an active investigation. They drive me to the sheriffs department and impound my car. I'm handcuffed to a wall in an interrogation room and left there for nearly 6 hours. During this time i am told they are speaking to my girlfriend in private away from her family. At the end of the 6 hours a detective comes in and un handcuffed me from the wall. I tell him everything that happened. He leaves and I am left alone for another few hours. The detective comes back and escorts me to my car gives me my keys and tells me  my gf liked me very much and didn't want to get me in trouble. And she has gone back home. They tell me I'm free to go but they may be in contact. \\n\\nAt this point I'm more confused than anything. And am kinda upset about being chained to a wall for most of this time. And am feeling multiple conflicting emotions. Was there something wrong done here or am I just crazy?\\n\\nI've been in contact with her a few times since, but she is saying her family forbids her from seeing me. I just feel lost right now. \\n \\nThere is alot more to this story, but I'm on mobile rn so I can edit when I get back home.\\n\\nEdit: Detroit MI</td>\n",
       "      <td>Hello r/Legaladvice.\\n\\nPreface: I met a girl In a college class. We flirt for a few weeks, bring each other snacks, talk alot. The usual. Valentine's day rolls around I ask her if she want to skip class and go for a drive. We do, get lost, and have a fantastic evening. We begin dating but only really meet during or after class. Due to her family having a chokehold on her. Theres alot I can't say but they tried to marry her to a 40y/o guy in Mexico when she was 6. And she always seemed like she was justifying everything her family did. Anyway this goes on for several months. \\n\\nMy parents go out of town and we decided to spend the night together. At arround 4 am we wake up to her phone ringing. It is her mother and she is screaming so loudly that i can hear it on the other side of the room. She wants her back home now. We comply and i drive her back home. Arriving at her home there is a police car outside and i brace for the worst. I am left in my car for 2 hours while they talk to her and her family. At they end of it they say I'm under arrest for sexual assault against her daughter. At this point I'm pretty confused and the officer says he can't tell me any more as it is an active investigation. They drive me to the sheriffs department and impound my car. I'm handcuffed to a wall in an interrogation room and left there for nearly 6 hours. During this time i am told they are speaking to my girlfriend in private away from her family. At the end of the 6 hours a detective comes in and un handcuffed me from the wall. I tell him everything that happened. He leaves and I am left alone for another few hours. The detective comes back and escorts me to my car gives me my keys and tells me  my gf liked me very much and didn't want to get me in trouble. And she has gone back home. They tell me I'm free to go but they may be in contact. \\n\\nAt this point I'm more confused than anything. And am kinda upset about being chained to a wall for most of this time. And am feeling multiple conflicting emotions. Was there something wrong done here or am I just crazy?\\n\\nI've been in contact with her a few times since, but she is saying her family forbids her from seeing me. I just feel lost right now. \\n \\nThere is alot more to this story, but I'm on mobile rn so I can edit when I get back home.\\n</td>\n",
       "    </tr>\n",
       "    <tr>\n",
       "      <th>66</th>\n",
       "      <td>This all started a few months a ago when my 4th period got a student from a different school. This new student says he has a mental condition( idk didn't really pay attention to that kind of stuff), but it really doesn't matter to me. So, all was going well for a couple of weeks until I started seeing him doing other devilish stuff around other people like snitching on people(claims its on accident), taking people stuff saying he didn't know, and just at random screaming like a banshee  at people for smacking or even just tapping their feet. People have been telling me he has a condition so they take up it up the ass and I don't really agree with that so i ry to stay clear of that person when possible.\\n\\n   So all was going well until I'm in the library about to go too class About to pick up my bag until I realise the new guy place his stuff around mines he was about to go as well so I just grab my bag and just trying to get out there. Then this the new guy grabbed my bag saying that is hes bad( granted our bag look the same but there is clear difference my bag has a medium size tear and hes doesnt). So Im telling him \"Look dude this has a huge tear I know yours doesn't now let go of my stuff.\", he told me to open it up I refused  then he started screaming trying to take my bad with him. So at this point I had enough of this bs and decided to punch him making him land right on his back. He started screaming and crying like like a little demon until teacher broke us up,   settled the situation and made us both open the bags too see if who was right(I was right).  Then the teacher asked who punch first the lil demon said I punched first it was true, but I did it becuase he was trying to steal my stuff. Short story after the teachers said  he has a mental condition and I should be more patience and more empathic. In my head I said fuck that this demon need  deserve what's coming to him. Now some people saying Im a jerk for doing that am I  jerk for standing up.\\n\\n\\n\\nEdit: I have been listening to others opinions and thoughts. I have come with my educated opinion that Iwas wrong and will try to day sorry and ask for forgiveness</td>\n",
       "      <td>This all started a few months a ago when my 4th period got a student from a different school. This new student says he has a mental condition( idk didn't really pay attention to that kind of stuff), but it really doesn't matter to me. So, all was going well for a couple of weeks until I started seeing him doing other devilish stuff around other people like snitching on people(claims its on accident), taking people stuff saying he didn't know, and just at random screaming like a banshee  at people for smacking or even just tapping their feet. People have been telling me he has a condition so they take up it up the ass and I don't really agree with that so i ry to stay clear of that person when possible.\\n\\n   So all was going well until I'm in the library about to go too class About to pick up my bag until I realise the new guy place his stuff around mines he was about to go as well so I just grab my bag and just trying to get out there. Then this the new guy grabbed my bag saying that is hes bad( granted our bag look the same but there is clear difference my bag has a medium size tear and hes doesnt). So Im telling him \"Look dude this has a huge tear I know yours doesn't now let go of my stuff.\", he told me to open it up I refused  then he started screaming trying to take my bad with him. So at this point I had enough of this bs and decided to punch him making him land right on his back. He started screaming and crying like like a little demon until teacher broke us up,   settled the situation and made us both open the bags too see if who was right(I was right).  Then the teacher asked who punch first the lil demon said I punched first it was true, but I did it becuase he was trying to steal my stuff. Short story after the teachers said  he has a mental condition and I should be more patience and more empathic. In my head I said fuck that this demon need  deserve what's coming to him. Now some people saying Im a jerk for doing that am I  jerk for standing up.\\n\\n\\n</td>\n",
       "    </tr>\n",
       "    <tr>\n",
       "      <th>85</th>\n",
       "      <td>My company has a 401k match. I noticed a few weeks ago that the match had not been applied the entire year (shame on me for not checking sooner). I asked the benefits team and I got an odd response. they say that because I started in 2017, the 2018 401k policy does not apply to me and that I must follow the 2017 401k standards and wait one year before getting the company match . The 2018 401k policy states that all employees get a company match immediately and that if you were hired prior to 2018 it is fully vested, otherwise it will take two years to vest. The issue that I have is that I was not eligible to start my 401k until 1/1/2018 AND the 2018 policy does not have any stipulation on eligibility other than you must be 21 and a full time employee, which I am. What options do I have here?\\n\\n&amp;amp;#x200B;\\n\\nTo add some more info:\\n\\n&amp;amp;#x200B;\\n\\nThis is from the plan documentation overview-\"The  purpose  of  the  plan  is  to  enable  eligible  Employees  to  save  for  retirement.  As  well  as  retirement  benefits,  the  plan provides certain benefits in the event of death, disability, or other termination of employment.  The Plan is for the exclusive benefit of eligible Employees and their Beneficiaries.\"\\n\\nAnd this is from the plan documentation around eligibility-\\n\\n\"A.Eligibility RequirementsYou are eligible to participate in the Plan if you are an Employee.However, you are not eligible to participate if you are:•a resident of Puerto Rico\\n\\na leased Employee\\n\\n•Temporary Employees  However, if you are in the group(s) listed below, you shall become eligible to participate in\\n\\nthe  plan  on  the  first  entry  date  after  you  have  reached  age  21  and  have  completed  at  least  1,000  Hours of Service\\n\\nduring an Eligibility Computation Period:\\n\\n•Temporary Employees\\n\\nYou are also not eligible to participate if you are an individual who is a signatory to a contract, letter of agreement, or other document that acknowledges your status as an independent contractor not entitled to benefits under the Plan and you are not otherwise classified by the Employer as a common law employee or the Employer does not withhold income taxes, file Form W-2 (or any replacement form), or remit Social Security payments to the Federal government for you, even if you are later adjudicated to be a common law employee.\\n\\nYou will become eligible to participate in the Plan according to the table below:\\n\\n........\\n\\nEmployer Matching contributions-\\...</td>\n",
       "      <td>My company has a 401k match. I noticed a few weeks ago that the match had not been applied the entire year (shame on me for not checking sooner). I asked the benefits team and I got an odd response. they say that because I started in 2017, the 2018 401k policy does not apply to me and that I must follow the 2017 401k standards and wait one year before getting the company match . The 2018 401k policy states that all employees get a company match immediately and that if you were hired prior to 2018 it is fully vested, otherwise it will take two years to vest. The issue that I have is that I was not eligible to start my 401k until 1/1/2018 AND the 2018 policy does not have any stipulation on eligibility other than you must be 21 and a full time employee, which I am. What options do I have here?\\n\\n&amp;amp;#x200B;\\n\\nTo add some more info:\\n\\n&amp;amp;#x200B;\\n\\nThis is from the plan documentation overview-\"The  purpose  of  the  plan  is  to  enable  eligible  Employees  to  save  for  retirement.  As  well  as  retirement  benefits,  the  plan provides certain benefits in the event of death, disability, or other termination of employment.  The Plan is for the exclusive benefit of eligible Employees and their Beneficiaries.\"\\n\\nAnd this is from the plan documentation around eligibility-\\n\\n\"A.Eligibility RequirementsYou are eligible to participate in the Plan if you are an Employee.However, you are not eligible to participate if you are:•a resident of Puerto Rico\\n\\na leased Employee\\n\\n•Temporary Employees  However, if you are in the group(s) listed below, you shall become eligible to participate in\\n\\nthe  plan  on  the  first  entry  date  after  you  have  reached  age  21  and  have  completed  at  least  1,000  Hours of Service\\n\\nduring an Eligibility Computation Period:\\n\\n•Temporary Employees\\n\\nYou are also not eligible to participate if you are an individual who is a signatory to a contract, letter of agreement, or other document that acknowledges your status as an independent contractor not entitled to benefits under the Plan and you are not otherwise classified by the Employer as a common law employee or the Employer does not withhold income taxes, file Form W-2 (or any replacement form), or remit Social Security payments to the Federal government for you, even if you are later adjudicated to be a common law employee.\\n\\nYou will become eligible to participate in the Plan according to the table below:\\n\\n........\\n\\nEmployer Matching contributions-\\...</td>\n",
       "    </tr>\n",
       "    <tr>\n",
       "      <th>101</th>\n",
       "      <td>Location: TN\\nPS: I'm a 15 y/o so I'm not that smart.\\n\\nMy mom was randomly taken in for a drug search near a rehab because she was with a \"suspicious person\" for whatever reason. She passed it but was still detained and taken to jail. She has yet to go before the judge, but she's been locked up for around 120 days because they keep moving her court date everytime it comes close. I don't have that much information because this is all I can get from phone calls she's occasionally allowed to have. I can try to press for more info but I doubt I'll get anything. She's taken multiple drug tests and has passed every single one. How long can they keep her like this?\\n\\nNotes:\\nMom DOES smoke and has smoked, even before I was born.\\n\\nI don't know who \"suspicious person\" is and neither does she.\\n\\nMom had a previous history of drugs (hell, I was an accidental child because of them) but she's been clean for a year and has visited rehab often.\\n\\nEDIT: She was on probation at one point, but isn't anymore, if that helps. She was arrested once for violation of probation.</td>\n",
       "      <td>Location: TN\\nPS: I'm a 15 y/o so I'm not that smart.\\n\\nMy mom was randomly taken in for a drug search near a rehab because she was with a \"suspicious person\" for whatever reason. She passed it but was still detained and taken to jail. She has yet to go before the judge, but she's been locked up for around 120 days because they keep moving her court date everytime it comes close. I don't have that much information because this is all I can get from phone calls she's occasionally allowed to have. I can try to press for more info but I doubt I'll get anything. She's taken multiple drug tests and has passed every single one. How long can they keep her like this?\\n\\nNotes:\\nMom DOES smoke and has smoked, even before I was born.\\n\\nI don't know who \"suspicious person\" is and neither does she.\\n\\nMom had a previous history of drugs (hell, I was an accidental child because of them) but she's been clean for a year and has visited rehab often.\\n</td>\n",
       "    </tr>\n",
       "    <tr>\n",
       "      <th>111</th>\n",
       "      <td>I was in a debate class and we were talking about derogatory terms.(nigga,spik,kike,zipperhead). I was dropping spik and no one cared because I was discussing it in a debating context. They did not care of when I said spik. But when I said \"nigga\" they reacted heavily. They continued on saying that I can not use that language, I was confused because i dropped spik just seconds earlier(their were black people there) After class they said that I offended some people and I should not use that language. I wanted to go call them out on the double standard but in order to stay in good standing I just apologized and moved on. AITA  \\n\\n\\nEdit: if people want to know I’m Latino :/</td>\n",
       "      <td>I was in a debate class and we were talking about derogatory terms.(nigga,spik,kike,zipperhead). I was dropping spik and no one cared because I was discussing it in a debating context. They did not care of when I said spik. But when I said \"nigga\" they reacted heavily. They continued on saying that I can not use that language, I was confused because i dropped spik just seconds earlier(their were black people there) After class they said that I offended some people and I should not use that language. I wanted to go call them out on the double standard but in order to stay in good standing I just apologized and moved on. AITA  \\n\\n</td>\n",
       "    </tr>\n",
       "    <tr>\n",
       "      <th>374</th>\n",
       "      <td>I'm not unrealistic about my looks, I know I'm not a supermodel.  However I am in very good shape and I have a pretty face.  I used to be much more rigorous about working out, which has gone way down since I started my career. But I still stay in great shape and am slim.  BF is an extremely athletic guy, but I don't think he's more physically attractive than I am, just more fit.\\n\\nWe were drinking about a month ago, and I jokingly got him to rate me. I wasn't expecting him to say 8/10, but it kind of shocked me, as all my previous boyfriends have spoken to me as though I was the most beautiful woman and called me 10/10. It made me feel unique and wanted and it just felt good to hear that. In comparison, it hurt to learn that my current bf doesn't feel that way.\\n\\nI stewed on it for a month, then last night I decided not to bottle up my feelings anymore and told him how I felt when I first heard it. He again confirmed that he thinks I am 8/10 in the looks category, but that I \"make up for it by being 12/10 everywhere else.\"  I really didn't know what to make of that. I have just opened up to him explaining it hurts me and he just confirms what he said? I didn't know how to talk to him about it, so I kind of clammed up and was distant for the rest of the evening. He kept trying to talk to me, and I just kept telling him it made me feel bad, but he never took it back.\\n\\nI just want him to tell me I am 10/10 in his eyes, even if it's not true. AITA?\\n\\nTl:dr:  BF told me I am 8/10 after some prompting from me, it hurt my feelings, I stewed on it and brought it up again to tell him how I feel, he confirmed I am 8/10 to him and now I am hurt and distant but honest with him about why I'm being this way.\\n\\nEdit: I hope he doesn't see this. It will be awkward. Taking the chance anyway, Reddit, judge away.\\n\\nEdit 2: Starting to look like I am the asshole. Open to suggestions on how to fix this or not be an asshole. The relationship is important to me but have I damaged it permanently?\\n\\nEdit 3: Final update, I told him the truth and apologized as per your suggestions. I said I love him and I know I'm being stupid about a small thing but that was how I feel. He used the words \"You are 10/10 in my eyes\" so I guess I finally got what I wanted, but I don't feel good about it because of how I treated him. So I apologized again, for making a big deal out of it and bringing it up in the first place and being cold about it last night. Thank you all for giving your...</td>\n",
       "      <td>I'm not unrealistic about my looks, I know I'm not a supermodel.  However I am in very good shape and I have a pretty face.  I used to be much more rigorous about working out, which has gone way down since I started my career. But I still stay in great shape and am slim.  BF is an extremely athletic guy, but I don't think he's more physically attractive than I am, just more fit.\\n\\nWe were drinking about a month ago, and I jokingly got him to rate me. I wasn't expecting him to say 8/10, but it kind of shocked me, as all my previous boyfriends have spoken to me as though I was the most beautiful woman and called me 10/10. It made me feel unique and wanted and it just felt good to hear that. In comparison, it hurt to learn that my current bf doesn't feel that way.\\n\\nI stewed on it for a month, then last night I decided not to bottle up my feelings anymore and told him how I felt when I first heard it. He again confirmed that he thinks I am 8/10 in the looks category, but that I \"make up for it by being 12/10 everywhere else.\"  I really didn't know what to make of that. I have just opened up to him explaining it hurts me and he just confirms what he said? I didn't know how to talk to him about it, so I kind of clammed up and was distant for the rest of the evening. He kept trying to talk to me, and I just kept telling him it made me feel bad, but he never took it back.\\n\\nI just want him to tell me I am 10/10 in his eyes, even if it's not true. AITA?\\n\\nTl:dr:  BF told me I am 8/10 after some prompting from me, it hurt my feelings, I stewed on it and brought it up again to tell him how I feel, he confirmed I am 8/10 to him and now I am hurt and distant but honest with him about why I'm being this way.\\n\\n\\nEdit 2: Starting to look like I am the asshole. Open to suggestions on how to fix this or not be an asshole. The relationship is important to me but have I damaged it permanently?\\n\\nEdit 3: Final update, I told him the truth and apologized as per your suggestions. I said I love him and I know I'm being stupid about a small thing but that was how I feel. He used the words \"You are 10/10 in my eyes\" so I guess I finally got what I wanted, but I don't feel good about it because of how I treated him. So I apologized again, for making a big deal out of it and bringing it up in the first place and being cold about it last night. Thank you all for giving your perspective.</td>\n",
       "    </tr>\n",
       "    <tr>\n",
       "      <th>396</th>\n",
       "      <td>They are nice people, but this is not what I agreed to. I thought that it was a good thing to do and (of course), needed money at the time. I’m still glad that I did it, but they contacted me through Facebook, and forced pictures on me. It has been traumatic for my partner and I, and I want to do something about it. Any ideas? \\n\\nEdit: this was at a well-known “international sperm and egg bank” in NYC. Also, those of you saying to just block, that doesn’t rectify violating an agreement.</td>\n",
       "      <td>They are nice people, but this is not what I agreed to. I thought that it was a good thing to do and (of course), needed money at the time. I’m still glad that I did it, but they contacted me through Facebook, and forced pictures on me. It has been traumatic for my partner and I, and I want to do something about it. Any ideas? \\n</td>\n",
       "    </tr>\n",
       "  </tbody>\n",
       "</table>\n",
       "</div>"
      ],
      "text/plain": [
       "                                                                                                                                                                                                                                                                                                                                                                                                                                                                                                                                                                                                                                                                                                                                                                                                                                                                                                                                                                                                                                                                                                                                                                                                                                                                                                                                                                                                                                                                                                                                                                                                                                                                                                                                                                                                                                                                                                                                                                                                                                                                                                                                                                                                                                                                                                                                                                                                                                                                                                                                                                                             parent_text  \\\n",
       "14                                                                                                                                                                                                                                                                                                                                                                                                                                                                                                                                                                                                                                                                                                                                                                                                                                                                                                                                                                                                                                                                                                                                                                                                                                                                                                                                                                                                                                                                                                                                                                                                         I went to a 1930’s themed party with my fiancé. Her costume was “The Great Dust Bowl” - she wore a tattered dress and covered herself in dirt and carried around a bowl filled with dust. I was “The Great Depression” and wore my old pill bottles around my neck with my pajamas on and a comfy blanket over my shoulders. Everyone at the party thought it was great, especially since they were mostly friends of ours who know my history struggling with anxiety and depression and how amazing my beautiful fiancé has been through it all. We looked at my costume as a funny way to celebrate how much better i am doing (no longer on a ton of medication, am happy and healthier than ever). But when she posted a photo of us on her instagram she got some flak for “making a joke out of depression.” I believe that comedy = tragedy + time, but was wondering what you all think. Am i the asshole? \\n\\nedit: WIBTA if i send the instagram haters a  link to this post, haha   \n",
       "32                                                                                                                                                                                                                                                                                                                                                                                                                                                                                                                                                                                                                                                                                                                                                                                                                                                                                                                                                                                                                                                                                                                                                                                                                                                                                                   Hey guys, longtime lurker first time poster cos I’m not exactly sure where to go to fix this.\\n\\nbuy and sell a lot on Facebook marketplace. After buying and selling a lot ive become pretty trusting in the buyer/seller as I’ve never had any issues until now.\\n\\nI went about buying some Apple AirPods for $160 of this seller. I transferred the money to his bank account provided and sent through a screenshot of the receipt as usual. \\nUsually at this point the seller will post the item to me as that’s enough proof of transfer, but some don’t and want to see the money in their account before they post their item which is also fine. \\nAlthough, this guys claims he still hasn’t received my bank transfer 8 days later which is false.\\nI’ve tripled checked the bsb and account number I sent to and asked him to do the same that he provided me the right details. I’ve spoken to my bank and confirmed that the money has left my account and should be in his but he’s still denying he’s received anything.\\n\\nI’m wondering how I go about replying and attempting to recover my funds now. \\nDo I contact my police station? Do I call my banks fraud department?\\nI definitely won’t be as trusting on Facebook marketplace anymore.\\n\\nEDIT: I live in Australia   \n",
       "33                                                                                                                                                                                                                                                                                                                                                                                                                                                                                                                                                                                                                                                        No.* \\n\\nBirthright citizenship comes from section 1 of the 14th amendment: \\n\\n&gt; Section 1. **All persons born** or naturalized **in the United States, and subject to the jurisdiction thereof, are citizens of the United States and of the State wherein they reside**. No State shall make or enforce any law which shall abridge the privileges or immunities of citizens of the United States; nor shall any State deprive any person of life, liberty, or property, without due process of law; nor deny to any person within its jurisdiction the equal protection of the laws.\\n\\n*“But aren’t noncitizens not subject to the jurisdiction, and therefore this doesn’t apply to them?”*\\n\\nAlso no. The only people in America who aren’t subject to US jurisdiction are properly credentialed foreign diplomats. (edit: And in theory parents who were members of an occupying army who had their children in the US during the occupation).\\n\\n*“Can Trump amend the constitution to take this away?”*\\n\\nHe can try. But it requires 2/3 of both the House and Senate to vote in favor and then 3/4 of the states to ratify amendment. The moderators of legal advice, while not legislative experts, do not believe this is likely.\\n\\n*“So why did this come up now?”*\\n\\nProbably because there’s an election in a week. \\n\\nEDIT: *No serious academics or constitutional scholars take this position, however [there is debate](https://reason.com/volokh/2018/07/19/a-bad-argument-on-birthright-citizenship) on the far right wing of American politics that there is an alternative view to this argument. \\n\\nThe definitive case on this issue is [US v. Wong Kim Ark](https://en.wikipedia.org/wiki/United_States_v._Wong_Kim_Ark). Decided in 1898 it has been the law of the land for 120 years, barring a significant (and unexpected) narrowing of the ruling by the Supreme Court this is unlikely to change.    \n",
       "64                                                                                                                                                                     Hello r/Legaladvice.\\n\\nPreface: I met a girl In a college class. We flirt for a few weeks, bring each other snacks, talk alot. The usual. Valentine's day rolls around I ask her if she want to skip class and go for a drive. We do, get lost, and have a fantastic evening. We begin dating but only really meet during or after class. Due to her family having a chokehold on her. Theres alot I can't say but they tried to marry her to a 40y/o guy in Mexico when she was 6. And she always seemed like she was justifying everything her family did. Anyway this goes on for several months. \\n\\nMy parents go out of town and we decided to spend the night together. At arround 4 am we wake up to her phone ringing. It is her mother and she is screaming so loudly that i can hear it on the other side of the room. She wants her back home now. We comply and i drive her back home. Arriving at her home there is a police car outside and i brace for the worst. I am left in my car for 2 hours while they talk to her and her family. At they end of it they say I'm under arrest for sexual assault against her daughter. At this point I'm pretty confused and the officer says he can't tell me any more as it is an active investigation. They drive me to the sheriffs department and impound my car. I'm handcuffed to a wall in an interrogation room and left there for nearly 6 hours. During this time i am told they are speaking to my girlfriend in private away from her family. At the end of the 6 hours a detective comes in and un handcuffed me from the wall. I tell him everything that happened. He leaves and I am left alone for another few hours. The detective comes back and escorts me to my car gives me my keys and tells me  my gf liked me very much and didn't want to get me in trouble. And she has gone back home. They tell me I'm free to go but they may be in contact. \\n\\nAt this point I'm more confused than anything. And am kinda upset about being chained to a wall for most of this time. And am feeling multiple conflicting emotions. Was there something wrong done here or am I just crazy?\\n\\nI've been in contact with her a few times since, but she is saying her family forbids her from seeing me. I just feel lost right now. \\n \\nThere is alot more to this story, but I'm on mobile rn so I can edit when I get back home.\\n\\nEdit: Detroit MI   \n",
       "66                                                                                                                                                                                                                                                                                                                                                 This all started a few months a ago when my 4th period got a student from a different school. This new student says he has a mental condition( idk didn't really pay attention to that kind of stuff), but it really doesn't matter to me. So, all was going well for a couple of weeks until I started seeing him doing other devilish stuff around other people like snitching on people(claims its on accident), taking people stuff saying he didn't know, and just at random screaming like a banshee  at people for smacking or even just tapping their feet. People have been telling me he has a condition so they take up it up the ass and I don't really agree with that so i ry to stay clear of that person when possible.\\n\\n   So all was going well until I'm in the library about to go too class About to pick up my bag until I realise the new guy place his stuff around mines he was about to go as well so I just grab my bag and just trying to get out there. Then this the new guy grabbed my bag saying that is hes bad( granted our bag look the same but there is clear difference my bag has a medium size tear and hes doesnt). So Im telling him \"Look dude this has a huge tear I know yours doesn't now let go of my stuff.\", he told me to open it up I refused  then he started screaming trying to take my bad with him. So at this point I had enough of this bs and decided to punch him making him land right on his back. He started screaming and crying like like a little demon until teacher broke us up,   settled the situation and made us both open the bags too see if who was right(I was right).  Then the teacher asked who punch first the lil demon said I punched first it was true, but I did it becuase he was trying to steal my stuff. Short story after the teachers said  he has a mental condition and I should be more patience and more empathic. In my head I said fuck that this demon need  deserve what's coming to him. Now some people saying Im a jerk for doing that am I  jerk for standing up.\\n\\n\\n\\nEdit: I have been listening to others opinions and thoughts. I have come with my educated opinion that Iwas wrong and will try to day sorry and ask for forgiveness    \n",
       "85   My company has a 401k match. I noticed a few weeks ago that the match had not been applied the entire year (shame on me for not checking sooner). I asked the benefits team and I got an odd response. they say that because I started in 2017, the 2018 401k policy does not apply to me and that I must follow the 2017 401k standards and wait one year before getting the company match . The 2018 401k policy states that all employees get a company match immediately and that if you were hired prior to 2018 it is fully vested, otherwise it will take two years to vest. The issue that I have is that I was not eligible to start my 401k until 1/1/2018 AND the 2018 policy does not have any stipulation on eligibility other than you must be 21 and a full time employee, which I am. What options do I have here?\\n\\n&amp;#x200B;\\n\\nTo add some more info:\\n\\n&amp;#x200B;\\n\\nThis is from the plan documentation overview-\"The  purpose  of  the  plan  is  to  enable  eligible  Employees  to  save  for  retirement.  As  well  as  retirement  benefits,  the  plan provides certain benefits in the event of death, disability, or other termination of employment.  The Plan is for the exclusive benefit of eligible Employees and their Beneficiaries.\"\\n\\nAnd this is from the plan documentation around eligibility-\\n\\n\"A.Eligibility RequirementsYou are eligible to participate in the Plan if you are an Employee.However, you are not eligible to participate if you are:•a resident of Puerto Rico\\n\\na leased Employee\\n\\n•Temporary Employees  However, if you are in the group(s) listed below, you shall become eligible to participate in\\n\\nthe  plan  on  the  first  entry  date  after  you  have  reached  age  21  and  have  completed  at  least  1,000  Hours of Service\\n\\nduring an Eligibility Computation Period:\\n\\n•Temporary Employees\\n\\nYou are also not eligible to participate if you are an individual who is a signatory to a contract, letter of agreement, or other document that acknowledges your status as an independent contractor not entitled to benefits under the Plan and you are not otherwise classified by the Employer as a common law employee or the Employer does not withhold income taxes, file Form W-2 (or any replacement form), or remit Social Security payments to the Federal government for you, even if you are later adjudicated to be a common law employee.\\n\\nYou will become eligible to participate in the Plan according to the table below:\\n\\n........\\n\\nEmployer Matching contributions-\\...   \n",
       "101                                                                                                                                                                                                                                                                                                                                                                                                                                                                                                                                                                                                                                                                                                                                                                                                                                                                                                                                                                                                                                                                                                                                                                                                                                                                                                                                                                                                                                                                                Location: TN\\nPS: I'm a 15 y/o so I'm not that smart.\\n\\nMy mom was randomly taken in for a drug search near a rehab because she was with a \"suspicious person\" for whatever reason. She passed it but was still detained and taken to jail. She has yet to go before the judge, but she's been locked up for around 120 days because they keep moving her court date everytime it comes close. I don't have that much information because this is all I can get from phone calls she's occasionally allowed to have. I can try to press for more info but I doubt I'll get anything. She's taken multiple drug tests and has passed every single one. How long can they keep her like this?\\n\\nNotes:\\nMom DOES smoke and has smoked, even before I was born.\\n\\nI don't know who \"suspicious person\" is and neither does she.\\n\\nMom had a previous history of drugs (hell, I was an accidental child because of them) but she's been clean for a year and has visited rehab often.\\n\\nEDIT: She was on probation at one point, but isn't anymore, if that helps. She was arrested once for violation of probation.   \n",
       "111                                                                                                                                                                                                                                                                                                                                                                                                                                                                                                                                                                                                                                                                                                                                                                                                                                                                                                                                                                                                                                                                                                                                                                                                                                                                                                                                                                                                                                                                                                                                                                                                                                                                                                                                                                                                                                                                                           I was in a debate class and we were talking about derogatory terms.(nigga,spik,kike,zipperhead). I was dropping spik and no one cared because I was discussing it in a debating context. They did not care of when I said spik. But when I said \"nigga\" they reacted heavily. They continued on saying that I can not use that language, I was confused because i dropped spik just seconds earlier(their were black people there) After class they said that I offended some people and I should not use that language. I wanted to go call them out on the double standard but in order to stay in good standing I just apologized and moved on. AITA  \\n\\n\\nEdit: if people want to know I’m Latino :/    \n",
       "374  I'm not unrealistic about my looks, I know I'm not a supermodel.  However I am in very good shape and I have a pretty face.  I used to be much more rigorous about working out, which has gone way down since I started my career. But I still stay in great shape and am slim.  BF is an extremely athletic guy, but I don't think he's more physically attractive than I am, just more fit.\\n\\nWe were drinking about a month ago, and I jokingly got him to rate me. I wasn't expecting him to say 8/10, but it kind of shocked me, as all my previous boyfriends have spoken to me as though I was the most beautiful woman and called me 10/10. It made me feel unique and wanted and it just felt good to hear that. In comparison, it hurt to learn that my current bf doesn't feel that way.\\n\\nI stewed on it for a month, then last night I decided not to bottle up my feelings anymore and told him how I felt when I first heard it. He again confirmed that he thinks I am 8/10 in the looks category, but that I \"make up for it by being 12/10 everywhere else.\"  I really didn't know what to make of that. I have just opened up to him explaining it hurts me and he just confirms what he said? I didn't know how to talk to him about it, so I kind of clammed up and was distant for the rest of the evening. He kept trying to talk to me, and I just kept telling him it made me feel bad, but he never took it back.\\n\\nI just want him to tell me I am 10/10 in his eyes, even if it's not true. AITA?\\n\\nTl:dr:  BF told me I am 8/10 after some prompting from me, it hurt my feelings, I stewed on it and brought it up again to tell him how I feel, he confirmed I am 8/10 to him and now I am hurt and distant but honest with him about why I'm being this way.\\n\\nEdit: I hope he doesn't see this. It will be awkward. Taking the chance anyway, Reddit, judge away.\\n\\nEdit 2: Starting to look like I am the asshole. Open to suggestions on how to fix this or not be an asshole. The relationship is important to me but have I damaged it permanently?\\n\\nEdit 3: Final update, I told him the truth and apologized as per your suggestions. I said I love him and I know I'm being stupid about a small thing but that was how I feel. He used the words \"You are 10/10 in my eyes\" so I guess I finally got what I wanted, but I don't feel good about it because of how I treated him. So I apologized again, for making a big deal out of it and bringing it up in the first place and being cold about it last night. Thank you all for giving your...   \n",
       "396                                                                                                                                                                                                                                                                                                                                                                                                                                                                                                                                                                                                                                                                                                                                                                                                                                                                                                                                                                                                                                                                                                                                                                                                                                                                                                                                                                                                                                                                                                                                                                                                                                                                                                                                                                                                                                                                                                                                                                                                                                                                                        They are nice people, but this is not what I agreed to. I thought that it was a good thing to do and (of course), needed money at the time. I’m still glad that I did it, but they contacted me through Facebook, and forced pictures on me. It has been traumatic for my partner and I, and I want to do something about it. Any ideas? \\n\\nEdit: this was at a well-known “international sperm and egg bank” in NYC. Also, those of you saying to just block, that doesn’t rectify violating an agreement.    \n",
       "\n",
       "                                                                                                                                                                                                                                                                                                                                                                                                                                                                                                                                                                                                                                                                                                                                                                                                                                                                                                                                                                                                                                                                                                                                                                                                                                                                                                                                                                                                                                                                                                                                                                                                                                                                                                                                                                                                                                                                                                                                                                                                                                                                                                                                                                                                                                                                                                                                                                                                                                                                                                                                                                                    parent_text_no_edits  \n",
       "14                                                                                                                                                                                                                                                                                                                                                                                                                                                                                                                                                                                                                                                                                                                                                                                                                                                                                                                                                                                                                                                                                                                                                                                                                                                                                                                                                                                                                                                                                                                                                                                                                                                                                I went to a 1930’s themed party with my fiancé. Her costume was “The Great Dust Bowl” - she wore a tattered dress and covered herself in dirt and carried around a bowl filled with dust. I was “The Great Depression” and wore my old pill bottles around my neck with my pajamas on and a comfy blanket over my shoulders. Everyone at the party thought it was great, especially since they were mostly friends of ours who know my history struggling with anxiety and depression and how amazing my beautiful fiancé has been through it all. We looked at my costume as a funny way to celebrate how much better i am doing (no longer on a ton of medication, am happy and healthier than ever). But when she posted a photo of us on her instagram she got some flak for “making a joke out of depression.” I believe that comedy = tragedy + time, but was wondering what you all think. Am i the asshole? \\n  \n",
       "32                                                                                                                                                                                                                                                                                                                                                                                                                                                                                                                                                                                                                                                                                                                                                                                                                                                                                                                                                                                                                                                                                                                                                                                                                                                                                                                              Hey guys, longtime lurker first time poster cos I’m not exactly sure where to go to fix this.\\n\\nbuy and sell a lot on Facebook marketplace. After buying and selling a lot ive become pretty trusting in the buyer/seller as I’ve never had any issues until now.\\n\\nI went about buying some Apple AirPods for $160 of this seller. I transferred the money to his bank account provided and sent through a screenshot of the receipt as usual. \\nUsually at this point the seller will post the item to me as that’s enough proof of transfer, but some don’t and want to see the money in their account before they post their item which is also fine. \\nAlthough, this guys claims he still hasn’t received my bank transfer 8 days later which is false.\\nI’ve tripled checked the bsb and account number I sent to and asked him to do the same that he provided me the right details. I’ve spoken to my bank and confirmed that the money has left my account and should be in his but he’s still denying he’s received anything.\\n\\nI’m wondering how I go about replying and attempting to recover my funds now. \\nDo I contact my police station? Do I call my banks fraud department?\\nI definitely won’t be as trusting on Facebook marketplace anymore.\\n  \n",
       "33                                                                                                                                                                                                                                                                                                                                                                                                                                                                                                                                                                                                                                                                                                                                                                                                                                                                                                                                             No.* \\n\\nBirthright citizenship comes from section 1 of the 14th amendment: \\n\\n&gt; Section 1. **All persons born** or naturalized **in the United States, and subject to the jurisdiction thereof, are citizens of the United States and of the State wherein they reside**. No State shall make or enforce any law which shall abridge the privileges or immunities of citizens of the United States; nor shall any State deprive any person of life, liberty, or property, without due process of law; nor deny to any person within its jurisdiction the equal protection of the laws.\\n\\n*“But aren’t noncitizens not subject to the jurisdiction, and therefore this doesn’t apply to them?”*\\n\\nAlso no. The only people in America who aren’t subject to US jurisdiction are properly credentialed foreign diplomats. (edit: And in theory parents who were members of an occupying army who had their children in the US during the occupation).\\n\\n*“Can Trump amend the constitution to take this away?”*\\n\\nHe can try. But it requires 2/3 of both the House and Senate to vote in favor and then 3/4 of the states to ratify amendment. The moderators of legal advice, while not legislative experts, do not believe this is likely.\\n\\n*“So why did this come up now?”*\\n\\nProbably because there’s an election in a week. \\n\\n\\nThe definitive case on this issue is [US v. Wong Kim Ark](https://en.wikipedia.org/wiki/United_States_v._Wong_Kim_Ark). Decided in 1898 it has been the law of the land for 120 years, barring a significant (and unexpected) narrowing of the ruling by the Supreme Court this is unlikely to change.   \n",
       "64                                                                                                                                                                                       Hello r/Legaladvice.\\n\\nPreface: I met a girl In a college class. We flirt for a few weeks, bring each other snacks, talk alot. The usual. Valentine's day rolls around I ask her if she want to skip class and go for a drive. We do, get lost, and have a fantastic evening. We begin dating but only really meet during or after class. Due to her family having a chokehold on her. Theres alot I can't say but they tried to marry her to a 40y/o guy in Mexico when she was 6. And she always seemed like she was justifying everything her family did. Anyway this goes on for several months. \\n\\nMy parents go out of town and we decided to spend the night together. At arround 4 am we wake up to her phone ringing. It is her mother and she is screaming so loudly that i can hear it on the other side of the room. She wants her back home now. We comply and i drive her back home. Arriving at her home there is a police car outside and i brace for the worst. I am left in my car for 2 hours while they talk to her and her family. At they end of it they say I'm under arrest for sexual assault against her daughter. At this point I'm pretty confused and the officer says he can't tell me any more as it is an active investigation. They drive me to the sheriffs department and impound my car. I'm handcuffed to a wall in an interrogation room and left there for nearly 6 hours. During this time i am told they are speaking to my girlfriend in private away from her family. At the end of the 6 hours a detective comes in and un handcuffed me from the wall. I tell him everything that happened. He leaves and I am left alone for another few hours. The detective comes back and escorts me to my car gives me my keys and tells me  my gf liked me very much and didn't want to get me in trouble. And she has gone back home. They tell me I'm free to go but they may be in contact. \\n\\nAt this point I'm more confused than anything. And am kinda upset about being chained to a wall for most of this time. And am feeling multiple conflicting emotions. Was there something wrong done here or am I just crazy?\\n\\nI've been in contact with her a few times since, but she is saying her family forbids her from seeing me. I just feel lost right now. \\n \\nThere is alot more to this story, but I'm on mobile rn so I can edit when I get back home.\\n  \n",
       "66                                                                                                                                                                                                                                                                                                                                                                                                                                                                                                                       This all started a few months a ago when my 4th period got a student from a different school. This new student says he has a mental condition( idk didn't really pay attention to that kind of stuff), but it really doesn't matter to me. So, all was going well for a couple of weeks until I started seeing him doing other devilish stuff around other people like snitching on people(claims its on accident), taking people stuff saying he didn't know, and just at random screaming like a banshee  at people for smacking or even just tapping their feet. People have been telling me he has a condition so they take up it up the ass and I don't really agree with that so i ry to stay clear of that person when possible.\\n\\n   So all was going well until I'm in the library about to go too class About to pick up my bag until I realise the new guy place his stuff around mines he was about to go as well so I just grab my bag and just trying to get out there. Then this the new guy grabbed my bag saying that is hes bad( granted our bag look the same but there is clear difference my bag has a medium size tear and hes doesnt). So Im telling him \"Look dude this has a huge tear I know yours doesn't now let go of my stuff.\", he told me to open it up I refused  then he started screaming trying to take my bad with him. So at this point I had enough of this bs and decided to punch him making him land right on his back. He started screaming and crying like like a little demon until teacher broke us up,   settled the situation and made us both open the bags too see if who was right(I was right).  Then the teacher asked who punch first the lil demon said I punched first it was true, but I did it becuase he was trying to steal my stuff. Short story after the teachers said  he has a mental condition and I should be more patience and more empathic. In my head I said fuck that this demon need  deserve what's coming to him. Now some people saying Im a jerk for doing that am I  jerk for standing up.\\n\\n\\n  \n",
       "85   My company has a 401k match. I noticed a few weeks ago that the match had not been applied the entire year (shame on me for not checking sooner). I asked the benefits team and I got an odd response. they say that because I started in 2017, the 2018 401k policy does not apply to me and that I must follow the 2017 401k standards and wait one year before getting the company match . The 2018 401k policy states that all employees get a company match immediately and that if you were hired prior to 2018 it is fully vested, otherwise it will take two years to vest. The issue that I have is that I was not eligible to start my 401k until 1/1/2018 AND the 2018 policy does not have any stipulation on eligibility other than you must be 21 and a full time employee, which I am. What options do I have here?\\n\\n&amp;#x200B;\\n\\nTo add some more info:\\n\\n&amp;#x200B;\\n\\nThis is from the plan documentation overview-\"The  purpose  of  the  plan  is  to  enable  eligible  Employees  to  save  for  retirement.  As  well  as  retirement  benefits,  the  plan provides certain benefits in the event of death, disability, or other termination of employment.  The Plan is for the exclusive benefit of eligible Employees and their Beneficiaries.\"\\n\\nAnd this is from the plan documentation around eligibility-\\n\\n\"A.Eligibility RequirementsYou are eligible to participate in the Plan if you are an Employee.However, you are not eligible to participate if you are:•a resident of Puerto Rico\\n\\na leased Employee\\n\\n•Temporary Employees  However, if you are in the group(s) listed below, you shall become eligible to participate in\\n\\nthe  plan  on  the  first  entry  date  after  you  have  reached  age  21  and  have  completed  at  least  1,000  Hours of Service\\n\\nduring an Eligibility Computation Period:\\n\\n•Temporary Employees\\n\\nYou are also not eligible to participate if you are an individual who is a signatory to a contract, letter of agreement, or other document that acknowledges your status as an independent contractor not entitled to benefits under the Plan and you are not otherwise classified by the Employer as a common law employee or the Employer does not withhold income taxes, file Form W-2 (or any replacement form), or remit Social Security payments to the Federal government for you, even if you are later adjudicated to be a common law employee.\\n\\nYou will become eligible to participate in the Plan according to the table below:\\n\\n........\\n\\nEmployer Matching contributions-\\...  \n",
       "101                                                                                                                                                                                                                                                                                                                                                                                                                                                                                                                                                                                                                                                                                                                                                                                                                                                                                                                                                                                                                                                                                                                                                                                                                                                                                                                                                                                                                                                                                                                                                                                                              Location: TN\\nPS: I'm a 15 y/o so I'm not that smart.\\n\\nMy mom was randomly taken in for a drug search near a rehab because she was with a \"suspicious person\" for whatever reason. She passed it but was still detained and taken to jail. She has yet to go before the judge, but she's been locked up for around 120 days because they keep moving her court date everytime it comes close. I don't have that much information because this is all I can get from phone calls she's occasionally allowed to have. I can try to press for more info but I doubt I'll get anything. She's taken multiple drug tests and has passed every single one. How long can they keep her like this?\\n\\nNotes:\\nMom DOES smoke and has smoked, even before I was born.\\n\\nI don't know who \"suspicious person\" is and neither does she.\\n\\nMom had a previous history of drugs (hell, I was an accidental child because of them) but she's been clean for a year and has visited rehab often.\\n  \n",
       "111                                                                                                                                                                                                                                                                                                                                                                                                                                                                                                                                                                                                                                                                                                                                                                                                                                                                                                                                                                                                                                                                                                                                                                                                                                                                                                                                                                                                                                                                                                                                                                                                                                                                                                                                                                                                                                                                                                                                        I was in a debate class and we were talking about derogatory terms.(nigga,spik,kike,zipperhead). I was dropping spik and no one cared because I was discussing it in a debating context. They did not care of when I said spik. But when I said \"nigga\" they reacted heavily. They continued on saying that I can not use that language, I was confused because i dropped spik just seconds earlier(their were black people there) After class they said that I offended some people and I should not use that language. I wanted to go call them out on the double standard but in order to stay in good standing I just apologized and moved on. AITA  \\n\\n  \n",
       "374                                                                                             I'm not unrealistic about my looks, I know I'm not a supermodel.  However I am in very good shape and I have a pretty face.  I used to be much more rigorous about working out, which has gone way down since I started my career. But I still stay in great shape and am slim.  BF is an extremely athletic guy, but I don't think he's more physically attractive than I am, just more fit.\\n\\nWe were drinking about a month ago, and I jokingly got him to rate me. I wasn't expecting him to say 8/10, but it kind of shocked me, as all my previous boyfriends have spoken to me as though I was the most beautiful woman and called me 10/10. It made me feel unique and wanted and it just felt good to hear that. In comparison, it hurt to learn that my current bf doesn't feel that way.\\n\\nI stewed on it for a month, then last night I decided not to bottle up my feelings anymore and told him how I felt when I first heard it. He again confirmed that he thinks I am 8/10 in the looks category, but that I \"make up for it by being 12/10 everywhere else.\"  I really didn't know what to make of that. I have just opened up to him explaining it hurts me and he just confirms what he said? I didn't know how to talk to him about it, so I kind of clammed up and was distant for the rest of the evening. He kept trying to talk to me, and I just kept telling him it made me feel bad, but he never took it back.\\n\\nI just want him to tell me I am 10/10 in his eyes, even if it's not true. AITA?\\n\\nTl:dr:  BF told me I am 8/10 after some prompting from me, it hurt my feelings, I stewed on it and brought it up again to tell him how I feel, he confirmed I am 8/10 to him and now I am hurt and distant but honest with him about why I'm being this way.\\n\\n\\nEdit 2: Starting to look like I am the asshole. Open to suggestions on how to fix this or not be an asshole. The relationship is important to me but have I damaged it permanently?\\n\\nEdit 3: Final update, I told him the truth and apologized as per your suggestions. I said I love him and I know I'm being stupid about a small thing but that was how I feel. He used the words \"You are 10/10 in my eyes\" so I guess I finally got what I wanted, but I don't feel good about it because of how I treated him. So I apologized again, for making a big deal out of it and bringing it up in the first place and being cold about it last night. Thank you all for giving your perspective.  \n",
       "396                                                                                                                                                                                                                                                                                                                                                                                                                                                                                                                                                                                                                                                                                                                                                                                                                                                                                                                                                                                                                                                                                                                                                                                                                                                                                                                                                                                                                                                                                                                                                                                                                                                                                                                                                                                                                                                                                                                                                                                                                                                                                                                                                                                                                                                          They are nice people, but this is not what I agreed to. I thought that it was a good thing to do and (of course), needed money at the time. I’m still glad that I did it, but they contacted me through Facebook, and forced pictures on me. It has been traumatic for my partner and I, and I want to do something about it. Any ideas? \\n  "
      ]
     },
     "metadata": {},
     "output_type": "display_data"
    }
   ],
   "source": [
    "# examine sample of no-edit data\n",
    "pd.set_option('display.max_colwidth', 2500)\n",
    "display(question_comment_data[question_comment_data.loc[:, 'parent_text']!=question_comment_data.loc[:, 'parent_text_no_edits']].drop_duplicates('parent_id').loc[:, ['parent_text', 'parent_text_no_edits']].head(10))"
   ]
  },
  {
   "cell_type": "markdown",
   "id": "consecutive-booking",
   "metadata": {},
   "source": [
    "Great. If nothing else, this gets rid of the obvious edits that could make the similarity values invalid (e.g. unusually high similarity between post and question based on post-hoc edit)."
   ]
  },
  {
   "cell_type": "markdown",
   "id": "cross-sleeve",
   "metadata": {},
   "source": [
    "First step: how similar should the questions be to the original post to be considered valid?"
   ]
  },
  {
   "cell_type": "code",
   "execution_count": 40,
   "id": "editorial-debate",
   "metadata": {},
   "outputs": [
    {
     "name": "stdout",
     "output_type": "stream",
     "text": [
      "1.0    908\n",
      "0.0     76\n",
      "Name: question_is_relevant, dtype: int64\n",
      "1.0    604\n",
      "0.0    380\n",
      "Name: question_is_clarification, dtype: int64\n",
      "0.0    720\n",
      "1.0     14\n",
      "Name: submission_contains_answer, dtype: int64\n"
     ]
    }
   ],
   "source": [
    "## load all previously labeled data\n",
    "question_only_comment_label_data = pd.read_csv('../../data/reddit_data/sample_advice_subreddit_question_labels.tsv', sep='\\t', index_col=False)\n",
    "question_initial_comment_label_data = pd.read_csv('../../data/reddit_data/sample_advice_subreddit_post_initial_question_labels.tsv', sep='\\t', index_col=False)\n",
    "parent_reply_question_label_data = pd.read_csv('../../data/reddit_data/sample_advice_subreddit_parent_reply_question_labels.tsv', sep='\\t', index_col=False)\n",
    "no_filter_question_label_data = pd.read_csv('../../data/reddit_data/sample_advice_subreddit_no_filter_question_labels.tsv', sep='\\t', index_col=False)\n",
    "combined_question_label_data = pd.concat([\n",
    "    question_only_comment_label_data,\n",
    "    question_initial_comment_label_data,\n",
    "    parent_reply_question_label_data,\n",
    "    no_filter_question_label_data,\n",
    "], axis=0)\n",
    "label_cols = ['question_is_relevant', 'question_is_clarification', 'submission_contains_answer']\n",
    "combined_question_label_data.fillna({x : 0. for x in label_cols}, inplace=True)\n",
    "text_cols = ['selftext', 'parent_text', 'question']\n",
    "combined_question_label_data.fillna({x : '' for x in text_cols}, inplace=True)\n",
    "# fix inconsistent columns\n",
    "combined_question_label_data = combined_question_label_data.assign(**{\n",
    "    'submission_contains_answer' : combined_question_label_data.loc[:, 'submission_contains_answer']+combined_question_label_data.loc[:, 'post_contains_answer']\n",
    "})\n",
    "combined_question_label_data = combined_question_label_data.assign(**{\n",
    "    'selftext' : combined_question_label_data.loc[:, 'selftext'].astype(str) + combined_question_label_data.loc[:, 'parent_text'].astype(str)\n",
    "})\n",
    "combined_question_label_data = combined_question_label_data.assign(**{\n",
    "    'question' : combined_question_label_data.apply(lambda x: x.loc['question'] if x.loc['question']!='' else x.loc['body'], axis=1)\n",
    "})\n",
    "## remove bot authors\n",
    "bot_authors = ['LocationBot']\n",
    "combined_question_label_data = pd.merge(combined_question_label_data, question_comment_data.loc[:, ['id', 'author']], on='id')\n",
    "combined_question_label_data = combined_question_label_data[~combined_question_label_data.loc[:, 'author'].isin(bot_authors)]\n",
    "for label_col in label_cols:\n",
    "    print(combined_question_label_data.loc[:, label_col].value_counts())\n",
    "## compute validity\n",
    "combined_question_label_data = combined_question_label_data.assign(**{\n",
    "    'question_is_valid' : ((combined_question_label_data.loc[:, 'question_is_relevant']==1) & \n",
    "                           (combined_question_label_data.loc[:, 'question_is_clarification']==1) & \n",
    "                           (combined_question_label_data.loc[:, 'submission_contains_answer']==0)).astype(int)\n",
    "})"
   ]
  },
  {
   "cell_type": "code",
   "execution_count": 41,
   "id": "earned-candle",
   "metadata": {
    "scrolled": true
   },
   "outputs": [
    {
     "name": "stdout",
     "output_type": "stream",
     "text": [
      "\n"
     ]
    }
   ],
   "source": [
    "## remove edits from posts\n",
    "combined_question_label_data = combined_question_label_data.assign(**{\n",
    "    'clean_submission_text' : combined_question_label_data.loc[:, 'selftext'].apply(lambda x: remove_edit_data(x))\n",
    "})\n",
    "## remove quotations from all questions\n",
    "import re\n",
    "quote_matcher = re.compile('&gt;[^\\n]+$')\n",
    "test_question = '&gt;legally, what can I do to attempt to get the best sentence possible?'\n",
    "print(quote_matcher.sub('', test_question))\n",
    "combined_question_label_data = combined_question_label_data.assign(**{\n",
    "    'question' : combined_question_label_data.loc[:, 'question'].apply(lambda x: quote_matcher.sub('', x))\n",
    "})\n",
    "# drop null questions\n",
    "clean_question_label_data = combined_question_label_data[combined_question_label_data.loc[:, 'question']!='']"
   ]
  },
  {
   "cell_type": "code",
   "execution_count": 42,
   "id": "valid-fabric",
   "metadata": {
    "scrolled": true
   },
   "outputs": [],
   "source": [
    "## compute max-sentence similarity via token overlap\n",
    "from nltk.tokenize import WordPunctTokenizer, PunktSentenceTokenizer\n",
    "from nltk.stem.snowball import PorterStemmer\n",
    "from importlib import reload\n",
    "import data_helpers\n",
    "reload(data_helpers)\n",
    "from data_helpers import tokenize_stem_text\n",
    "word_tokenizer = WordPunctTokenizer()\n",
    "sent_tokenizer = PunktSentenceTokenizer()\n",
    "stemmer = PorterStemmer()\n",
    "clean_question_label_data = clean_question_label_data.assign(**{\n",
    "    'submission_sents' : clean_question_label_data.loc[:, 'clean_submission_text'].apply(lambda x: tokenize_stem_text(x, stemmer, word_tokenizer, sent_tokenizer)),\n",
    "    'question_sents' : clean_question_label_data.loc[:, 'question'].apply(lambda x: tokenize_stem_text(x, stemmer, word_tokenizer, sent_tokenizer))\n",
    "})"
   ]
  },
  {
   "cell_type": "code",
   "execution_count": 43,
   "id": "cardiac-pride",
   "metadata": {},
   "outputs": [],
   "source": [
    "## compute overlap\n",
    "from data_helpers import compute_sent_word_overlap\n",
    "clean_question_label_data = clean_question_label_data.assign(**{\n",
    "    'post_question_overlap' : clean_question_label_data.apply(lambda x: compute_sent_word_overlap(x.loc['submission_sents'], x.loc['question_sents']), axis=1)\n",
    "})\n",
    "clean_question_label_data = clean_question_label_data.assign(**{\n",
    "    'post_question_overlap_score' : clean_question_label_data.loc[:, 'post_question_overlap'].apply(lambda x: x[0]),\n",
    "    'post_question_overlap_sent' : clean_question_label_data.loc[:, 'post_question_overlap'].apply(lambda x: x[1][0]),\n",
    "})"
   ]
  },
  {
   "cell_type": "code",
   "execution_count": 44,
   "id": "hindu-result",
   "metadata": {},
   "outputs": [
    {
     "data": {
      "text/html": [
       "<div>\n",
       "<style scoped>\n",
       "    .dataframe tbody tr th:only-of-type {\n",
       "        vertical-align: middle;\n",
       "    }\n",
       "\n",
       "    .dataframe tbody tr th {\n",
       "        vertical-align: top;\n",
       "    }\n",
       "\n",
       "    .dataframe thead th {\n",
       "        text-align: right;\n",
       "    }\n",
       "</style>\n",
       "<table border=\"1\" class=\"dataframe\">\n",
       "  <thead>\n",
       "    <tr style=\"text-align: right;\">\n",
       "      <th></th>\n",
       "      <th>question</th>\n",
       "      <th>post_question_overlap_sent</th>\n",
       "      <th>post_question_overlap_score</th>\n",
       "    </tr>\n",
       "  </thead>\n",
       "  <tbody>\n",
       "    <tr>\n",
       "      <th>806</th>\n",
       "      <td>I tell her not at the moment why?</td>\n",
       "      <td>[I, tell, her, not, at, the, moment, whi, ?]</td>\n",
       "      <td>1.000000</td>\n",
       "    </tr>\n",
       "    <tr>\n",
       "      <th>741</th>\n",
       "      <td>Is it illegal for them to keep declining me with adaquate reasonings behind withdrawal?</td>\n",
       "      <td>[Is, it, illeg, for, them, to, keep, declin, me, with, adaqu, reason, behind, withdraw, ?]</td>\n",
       "      <td>1.000000</td>\n",
       "    </tr>\n",
       "    <tr>\n",
       "      <th>331</th>\n",
       "      <td>\"You've always been a man of ideas, but I've always been a man of action\"???</td>\n",
       "      <td>[I, told, him, straight, ,, '', you, ', ve, alway, been, a, man, of, idea, ,, but, I, ', m, a, man, of, action, ''.]</td>\n",
       "      <td>0.619048</td>\n",
       "    </tr>\n",
       "    <tr>\n",
       "      <th>775</th>\n",
       "      <td>\"Hey.. Uh, do you actually have friends in School?</td>\n",
       "      <td>[I, ask, him, ,, \", have, you, been, make, ani, friend, in, school, ?]</td>\n",
       "      <td>0.421053</td>\n",
       "    </tr>\n",
       "    <tr>\n",
       "      <th>865</th>\n",
       "      <td>He hasn't filed, or he hasn't paid?</td>\n",
       "      <td>[*, edit, :, He, hasn, ', t, file, .]</td>\n",
       "      <td>0.357143</td>\n",
       "    </tr>\n",
       "  </tbody>\n",
       "</table>\n",
       "</div>"
      ],
      "text/plain": [
       "                                                                                    question  \\\n",
       "806                                                        I tell her not at the moment why?   \n",
       "741  Is it illegal for them to keep declining me with adaquate reasonings behind withdrawal?   \n",
       "331             \"You've always been a man of ideas, but I've always been a man of action\"???   \n",
       "775                                       \"Hey.. Uh, do you actually have friends in School?   \n",
       "865                                                      He hasn't filed, or he hasn't paid?   \n",
       "\n",
       "                                                                                               post_question_overlap_sent  \\\n",
       "806                                                                          [I, tell, her, not, at, the, moment, whi, ?]   \n",
       "741                            [Is, it, illeg, for, them, to, keep, declin, me, with, adaqu, reason, behind, withdraw, ?]   \n",
       "331  [I, told, him, straight, ,, '', you, ', ve, alway, been, a, man, of, idea, ,, but, I, ', m, a, man, of, action, ''.]   \n",
       "775                                                [I, ask, him, ,, \", have, you, been, make, ani, friend, in, school, ?]   \n",
       "865                                                                                 [*, edit, :, He, hasn, ', t, file, .]   \n",
       "\n",
       "     post_question_overlap_score  \n",
       "806                     1.000000  \n",
       "741                     1.000000  \n",
       "331                     0.619048  \n",
       "775                     0.421053  \n",
       "865                     0.357143  "
      ]
     },
     "metadata": {},
     "output_type": "display_data"
    }
   ],
   "source": [
    "## show sentences with highest overlap\n",
    "clean_question_label_data.sort_values('post_question_overlap_score', inplace=True, ascending=False)\n",
    "display(clean_question_label_data.loc[:, ['question', 'post_question_overlap_sent', 'post_question_overlap_score']].head(5))"
   ]
  },
  {
   "cell_type": "markdown",
   "id": "anticipated-dominant",
   "metadata": {},
   "source": [
    "What is the distribution of overlap scores for valid/invalid questions?"
   ]
  },
  {
   "cell_type": "code",
   "execution_count": 45,
   "id": "actual-tennessee",
   "metadata": {
    "scrolled": true
   },
   "outputs": [
    {
     "data": {
      "image/png": "[encoded data removed]",
      "text/plain": [
       "<Figure size 432x288 with 1 Axes>"
      ]
     },
     "metadata": {
      "needs_background": "light"
     },
     "output_type": "display_data"
    }
   ],
   "source": [
    "import matplotlib\n",
    "%matplotlib inline\n",
    "import matplotlib.pyplot as plt\n",
    "import seaborn as sns\n",
    "import numpy as np\n",
    "# valid_var = 'question_is_valid'\n",
    "valid_var = 'question_is_relevant'\n",
    "post_question_overlap_score_data = pd.melt(clean_question_label_data.loc[:, ['post_question_overlap_score', valid_var]], id_vars=valid_var, value_name='post_question_overlap')\n",
    "sns.histplot(x='post_question_overlap', data=post_question_overlap_score_data, hue=valid_var, stat='probability', common_norm=False)\n",
    "plt.show()\n",
    "# normalize, bin plots\n",
    "# bin_count = 20\n",
    "# score_bins = np.histogram(clean_question_label_data.loc[:, 'post_question_overlap_score'], bin_count)[1]\n",
    "# valid_question_score_bin_counts = np.histogram(clean_question_label_data.loc[:, 'post_question_overlap_score'], bins=score_bins)[0]\n",
    "# valid_question_score_bin_counts = valid_question_score_bin_counts / valid_question_score_bin_counts.sum()\n",
    "# print(valid_question_score_bin_counts)\n",
    "# # plt.hist(, bins=score_bins, alpha=0.5)\n",
    "# # plt.show()\n",
    "# # # plt.show()"
   ]
  },
  {
   "cell_type": "markdown",
   "id": "plain-applicant",
   "metadata": {},
   "source": [
    "OK! It looks like relevant questions do indeed have higher overlap, so let's take a high percentile of the \"relevant\" distribution as the cutoff."
   ]
  },
  {
   "cell_type": "code",
   "execution_count": 46,
   "id": "improved-baseball",
   "metadata": {
    "scrolled": true
   },
   "outputs": [
    {
     "name": "stdout",
     "output_type": "stream",
     "text": [
      "score cutoff = 0.114\n",
      "recall = 0.5011160714285714\n",
      "precision = 0.9432773109243697\n"
     ]
    }
   ],
   "source": [
    "score_cutoff_pct = 50\n",
    "relevant_question_label_data = clean_question_label_data[clean_question_label_data.loc[:, valid_var]==1].loc[:, 'post_question_overlap_score']\n",
    "question_post_overlap_score_cutoff = np.percentile(relevant_question_label_data, score_cutoff_pct)\n",
    "print(f'score cutoff = {\"{:1.3f}\".format(question_post_overlap_score_cutoff)}')\n",
    "# compute precision/recall\n",
    "print(f'recall = {len(relevant_question_label_data[relevant_question_label_data >= question_post_overlap_score_cutoff])/len(relevant_question_label_data)}')\n",
    "print(f'precision = {len(relevant_question_label_data[relevant_question_label_data >= question_post_overlap_score_cutoff])/len(clean_question_label_data[clean_question_label_data.loc[:, \"post_question_overlap_score\"] >= question_post_overlap_score_cutoff])}')"
   ]
  },
  {
   "cell_type": "markdown",
   "id": "correct-parameter",
   "metadata": {},
   "source": [
    "Next: let's identify the top question words associated with clarification questions."
   ]
  },
  {
   "cell_type": "code",
   "execution_count": 47,
   "id": "willing-least",
   "metadata": {
    "scrolled": true
   },
   "outputs": [
    {
     "name": "stdout",
     "output_type": "stream",
     "text": [
      "info     12.086093\n",
      "does     10.273179\n",
      "did       3.798486\n",
      "what      3.122241\n",
      "also      3.021523\n",
      "how       3.021523\n",
      "were      3.021523\n",
      "are       2.643833\n",
      "do        2.618653\n",
      "was       2.417219\n",
      "where     2.417219\n",
      "is        1.544334\n",
      "when      1.510762\n",
      "first     1.208609\n",
      "wait      1.208609\n",
      "well      1.208609\n",
      "sorry     1.208609\n",
      "which     1.208609\n",
      "with      1.208609\n",
      "Name: question_first_word, dtype: float64\n",
      "so         0.949622\n",
      "why        0.922360\n",
      "have       0.776963\n",
      "could      0.755381\n",
      "can        0.690634\n",
      "i          0.667916\n",
      "who        0.604305\n",
      "your       0.604305\n",
      "this       0.604305\n",
      "there      0.604305\n",
      "*          0.604305\n",
      "just       0.604305\n",
      "ok         0.604305\n",
      "lol        0.604305\n",
      "ask        0.604305\n",
      "her        0.604305\n",
      "depends    0.604305\n",
      "would      0.503587\n",
      "it         0.483444\n",
      "the        0.362583\n",
      "don        0.302152\n",
      "and        0.302152\n",
      "esh        0.302152\n",
      "he         0.302152\n",
      "if         0.302152\n",
      "let        0.302152\n",
      "nta        0.274684\n",
      "you        0.251794\n",
      "didn       0.201435\n",
      "yta        0.164810\n",
      "but        0.120861\n",
      "maybe      0.086329\n",
      "Name: question_first_word, dtype: float64\n"
     ]
    }
   ],
   "source": [
    "# first words\n",
    "clarification_var = 'question_is_clarification'\n",
    "clean_question_label_data = clean_question_label_data.assign(**{\n",
    "    'question_first_word' : clean_question_label_data.loc[:, 'question'].apply(lambda x: word_tokenizer.tokenize(x)[0].lower())\n",
    "})\n",
    "first_word_in_question_counts = clean_question_label_data.loc[:, 'question_first_word'].value_counts()\n",
    "valid_question_first_word_counts = clean_question_label_data[clean_question_label_data.loc[:, clarification_var]==1].loc[:, 'question_first_word'].value_counts()\n",
    "invalid_question_first_word_counts = clean_question_label_data[clean_question_label_data.loc[:, clarification_var]==0].loc[:, 'question_first_word'].value_counts()\n",
    "# normalize counts\n",
    "valid_question_first_word_counts = valid_question_first_word_counts / valid_question_first_word_counts.sum()\n",
    "invalid_question_first_word_counts = invalid_question_first_word_counts / invalid_question_first_word_counts.sum()\n",
    "valid_question_first_word_ratio = (valid_question_first_word_counts / invalid_question_first_word_counts).dropna()\n",
    "valid_question_first_word_ratio.sort_values(inplace=True, ascending=False)\n",
    "print(valid_question_first_word_ratio[valid_question_first_word_ratio > 1.])\n",
    "print(valid_question_first_word_ratio[valid_question_first_word_ratio < 1.])"
   ]
  },
  {
   "cell_type": "markdown",
   "id": "looking-monster",
   "metadata": {},
   "source": [
    "Clarification questions tend to ask questions with concrete details ex. `how`, `what`, `where`, `which`, `info` (common in AITA). Non-clarification questions mention more subjective questions ex. `why`, `could`, `who`, `maybe`, `didn`.\n",
    "\n",
    "Let's re-run this after parsing the questions to get the root words."
   ]
  },
  {
   "cell_type": "code",
   "execution_count": 48,
   "id": "preliminary-sunrise",
   "metadata": {
    "scrolled": true
   },
   "outputs": [],
   "source": [
    "import spacy\n",
    "nlp_pipeline = spacy.load('en_core_web_sm')"
   ]
  },
  {
   "cell_type": "code",
   "execution_count": 49,
   "id": "tamil-convention",
   "metadata": {
    "scrolled": true
   },
   "outputs": [
    {
     "name": "stdout",
     "output_type": "stream",
     "text": [
      "when\n"
     ]
    }
   ],
   "source": [
    "def extract_question_word(parse, \n",
    "                          question_dep=['advmod','attr','dobj','aux','nsubj'],\n",
    "                          question_word_POS=['PRON','ADV','VERB', 'AUX']):\n",
    "    # get sentence containing question\n",
    "    sentence = list(filter(lambda x: x[-1].text=='?', parse.sents))[0]\n",
    "    root_word = sentence.root\n",
    "    root_children = list(root_word.children)\n",
    "    question_candidates = list(filter(lambda x: x.dep_ in question_dep and x.pos_ in question_word_POS, root_children))\n",
    "    # heuristic: get the first one in the sequence\n",
    "    if(len(question_candidates) > 0):\n",
    "        question_word = question_candidates[0].text.lower()\n",
    "    else:\n",
    "#         print(f'no candidate in sentence {sentence}')\n",
    "        question_word = root_word.text.lower()\n",
    "    return question_word\n",
    "test_sent = 'when did you tell her to do that?'\n",
    "test_parse = nlp_pipeline(test_sent)\n",
    "test_parse_sent = list(test_parse.sents)[0]\n",
    "print(extract_question_word(test_parse))"
   ]
  },
  {
   "cell_type": "code",
   "execution_count": 50,
   "id": "prepared-deficit",
   "metadata": {
    "scrolled": true
   },
   "outputs": [],
   "source": [
    "clean_question_label_data = clean_question_label_data.assign(**{\n",
    "    'question_parse' : clean_question_label_data.loc[:, 'question'].apply(lambda x: nlp_pipeline(x))\n",
    "})\n",
    "clean_question_label_data = clean_question_label_data.assign(**{\n",
    "    'question_parse_first_word' : clean_question_label_data.loc[:, 'question_parse'].apply(lambda x: extract_question_word(x))\n",
    "})"
   ]
  },
  {
   "cell_type": "code",
   "execution_count": 51,
   "id": "injured-douglas",
   "metadata": {
    "scrolled": true
   },
   "outputs": [
    {
     "data": {
      "text/plain": [
       "what    77\n",
       "you     74\n",
       "do      72\n",
       "is      67\n",
       "did     66\n",
       "why     64\n",
       "i       44\n",
       "are     43\n",
       "have    41\n",
       "does    32\n",
       "Name: question_parse_first_word, dtype: int64"
      ]
     },
     "metadata": {},
     "output_type": "display_data"
    }
   ],
   "source": [
    "display(clean_question_label_data.loc[:, 'question_parse_first_word'].value_counts().head(10))"
   ]
  },
  {
   "cell_type": "code",
   "execution_count": 52,
   "id": "improving-funeral",
   "metadata": {
    "scrolled": true
   },
   "outputs": [
    {
     "name": "stdout",
     "output_type": "stream",
     "text": [
      "does     5.841611\n",
      "long     5.438742\n",
      "also     3.625828\n",
      "are      3.107852\n",
      "where    3.021523\n",
      "were     3.021523\n",
      "what     2.975038\n",
      "did      2.463704\n",
      "do       1.955103\n",
      "first    1.812914\n",
      "is       1.645052\n",
      "there    1.208609\n",
      "then     1.208609\n",
      "so       1.057533\n",
      "you      1.051938\n",
      "was      1.007174\n",
      "will     1.007174\n",
      "Name: question_parse_first_word, dtype: float64\n",
      "it            0.906457\n",
      "how           0.846026\n",
      "why           0.828121\n",
      "can           0.776963\n",
      "she           0.755381\n",
      "have          0.699721\n",
      "when          0.604305\n",
      "could         0.604305\n",
      "definitely    0.604305\n",
      "everyone      0.604305\n",
      "let           0.604305\n",
      "that          0.604305\n",
      "right         0.604305\n",
      "nta           0.604305\n",
      "question      0.604305\n",
      "i             0.551756\n",
      "he            0.258988\n",
      "who           0.258988\n",
      "would         0.248831\n",
      "they          0.201435\n",
      "should        0.151076\n",
      "Name: question_parse_first_word, dtype: float64\n"
     ]
    }
   ],
   "source": [
    "## compute ratios\n",
    "valid_question_first_word_counts = clean_question_label_data[clean_question_label_data.loc[:, clarification_var]==1].loc[:, 'question_parse_first_word'].value_counts()\n",
    "invalid_question_first_word_counts = clean_question_label_data[clean_question_label_data.loc[:, clarification_var]==0].loc[:, 'question_parse_first_word'].value_counts()\n",
    "valid_question_first_word_counts = valid_question_first_word_counts / valid_question_first_word_counts.sum()\n",
    "invalid_question_first_word_counts = invalid_question_first_word_counts / invalid_question_first_word_counts.sum()\n",
    "valid_question_first_word_ratio = (valid_question_first_word_counts / invalid_question_first_word_counts).dropna()\n",
    "valid_question_first_word_ratio.sort_values(inplace=True, ascending=False)\n",
    "print(valid_question_first_word_ratio[valid_question_first_word_ratio > 1.])\n",
    "print(valid_question_first_word_ratio[valid_question_first_word_ratio < 1.])"
   ]
  },
  {
   "cell_type": "markdown",
   "id": "architectural-chest",
   "metadata": {},
   "source": [
    "Similar as before, the valid questions have concrete question words like `what`, `does`, `where`, `was`; invalid questions have more subjective words like `why`, `how`, `could`, `should`."
   ]
  },
  {
   "cell_type": "markdown",
   "id": "passing-carpet",
   "metadata": {},
   "source": [
    "### Bootstrap from \"INFO\" comments\n",
    "We noticed in the `AmItheAsshole` comments that some questions are marked with `INFO`. Can we use these questions to bootstrap a classifier that automatically identifies clarification questions?"
   ]
  },
  {
   "cell_type": "code",
   "execution_count": 1,
   "id": "secondary-relation",
   "metadata": {},
   "outputs": [
    {
     "name": "stderr",
     "output_type": "stream",
     "text": [
      "/home/ianbstew/miniconda3/envs/py3/lib/python3.8/site-packages/IPython/core/interactiveshell.py:3155: DtypeWarning: Columns (0,5,9,11,17) have mixed types.Specify dtype option on import or set low_memory=False.\n",
      "  has_raised = await self.run_ast_nodes(code_ast.body, cell_name,\n"
     ]
    },
    {
     "data": {
      "text/html": [
       "<div>\n",
       "<style scoped>\n",
       "    .dataframe tbody tr th:only-of-type {\n",
       "        vertical-align: middle;\n",
       "    }\n",
       "\n",
       "    .dataframe tbody tr th {\n",
       "        vertical-align: top;\n",
       "    }\n",
       "\n",
       "    .dataframe thead th {\n",
       "        text-align: right;\n",
       "    }\n",
       "</style>\n",
       "<table border=\"1\" class=\"dataframe\">\n",
       "  <thead>\n",
       "    <tr style=\"text-align: right;\">\n",
       "      <th></th>\n",
       "      <th>author</th>\n",
       "      <th>author_flair_text</th>\n",
       "      <th>author_fullname</th>\n",
       "      <th>body</th>\n",
       "      <th>created_utc</th>\n",
       "      <th>edited</th>\n",
       "      <th>id</th>\n",
       "      <th>parent_id</th>\n",
       "      <th>score</th>\n",
       "      <th>subreddit</th>\n",
       "      <th>parent_created</th>\n",
       "      <th>parent_text</th>\n",
       "      <th>parent_title</th>\n",
       "      <th>parent_edited</th>\n",
       "      <th>parent_author</th>\n",
       "      <th>questions</th>\n",
       "      <th>question_occurs_post_initial</th>\n",
       "    </tr>\n",
       "  </thead>\n",
       "  <tbody>\n",
       "    <tr>\n",
       "      <th>0</th>\n",
       "      <td>grumpypantsoldman</td>\n",
       "      <td>NaN</td>\n",
       "      <td>t2_27ps6lxw</td>\n",
       "      <td>NTA. I think you dodged a bullet. Who needs a ...</td>\n",
       "      <td>1541030405</td>\n",
       "      <td>False</td>\n",
       "      <td>e8tkic1</td>\n",
       "      <td>9t3n27</td>\n",
       "      <td>14</td>\n",
       "      <td>AmItheAsshole</td>\n",
       "      <td>1541024836</td>\n",
       "      <td>TL;DR: Ran into ex. We organized to catch up. ...</td>\n",
       "      <td>AITA, for asking an ex girlfriend why she woul...</td>\n",
       "      <td>False</td>\n",
       "      <td>HashedGaming</td>\n",
       "      <td>[Who needs a crazy person in their lives?]</td>\n",
       "      <td>False</td>\n",
       "    </tr>\n",
       "    <tr>\n",
       "      <th>1</th>\n",
       "      <td>unknown_salmon</td>\n",
       "      <td>NaN</td>\n",
       "      <td>t2_q57txtp</td>\n",
       "      <td>I do feel for you. Do you think you could be b...</td>\n",
       "      <td>1541030426</td>\n",
       "      <td>False</td>\n",
       "      <td>e8tkj26</td>\n",
       "      <td>9t1u2e</td>\n",
       "      <td>2</td>\n",
       "      <td>Advice</td>\n",
       "      <td>1541012933</td>\n",
       "      <td>How do I deal with all these fake/fabricated p...</td>\n",
       "      <td>I've been struggling a lot lately and I need a...</td>\n",
       "      <td>False</td>\n",
       "      <td>mosorosso</td>\n",
       "      <td>[Do you think you could be bothered to have a ...</td>\n",
       "      <td>False</td>\n",
       "    </tr>\n",
       "    <tr>\n",
       "      <th>2</th>\n",
       "      <td>jon_lfl</td>\n",
       "      <td>NaN</td>\n",
       "      <td>t2_20q10ghp</td>\n",
       "      <td>I have not seen my insurance package for this ...</td>\n",
       "      <td>1541045930</td>\n",
       "      <td>False</td>\n",
       "      <td>e8tywqp</td>\n",
       "      <td>9t2e8e</td>\n",
       "      <td>1</td>\n",
       "      <td>personalfinance</td>\n",
       "      <td>1541016597</td>\n",
       "      <td>Just wanted to get a general feeling of what o...</td>\n",
       "      <td>General Benefits Discussion/2019 Open Enrollment</td>\n",
       "      <td>1541022607</td>\n",
       "      <td>Smearwashere</td>\n",
       "      <td>[Or are these insurance prices common practices?]</td>\n",
       "      <td>False</td>\n",
       "    </tr>\n",
       "    <tr>\n",
       "      <th>3</th>\n",
       "      <td>omicron7e</td>\n",
       "      <td>NaN</td>\n",
       "      <td>t2_3cx76</td>\n",
       "      <td>&amp;gt;matching industry trends\\n\\nEveryone else ...</td>\n",
       "      <td>1541073519</td>\n",
       "      <td>False</td>\n",
       "      <td>e8udnb2</td>\n",
       "      <td>9t2e8e</td>\n",
       "      <td>1</td>\n",
       "      <td>personalfinance</td>\n",
       "      <td>1541016597</td>\n",
       "      <td>Just wanted to get a general feeling of what o...</td>\n",
       "      <td>General Benefits Discussion/2019 Open Enrollment</td>\n",
       "      <td>1541022607</td>\n",
       "      <td>Smearwashere</td>\n",
       "      <td>[Why aren't we?]</td>\n",
       "      <td>False</td>\n",
       "    </tr>\n",
       "    <tr>\n",
       "      <th>4</th>\n",
       "      <td>JesyouJesmeJesus</td>\n",
       "      <td>NaN</td>\n",
       "      <td>t2_hhyv3</td>\n",
       "      <td>Could stick with my same high deductible plan,...</td>\n",
       "      <td>1541076018</td>\n",
       "      <td>False</td>\n",
       "      <td>e8ufm7h</td>\n",
       "      <td>9t2e8e</td>\n",
       "      <td>1</td>\n",
       "      <td>personalfinance</td>\n",
       "      <td>1541016597</td>\n",
       "      <td>Just wanted to get a general feeling of what o...</td>\n",
       "      <td>General Benefits Discussion/2019 Open Enrollment</td>\n",
       "      <td>1541022607</td>\n",
       "      <td>Smearwashere</td>\n",
       "      <td>[Is there a downside I’m not seeing with this ...</td>\n",
       "      <td>False</td>\n",
       "    </tr>\n",
       "  </tbody>\n",
       "</table>\n",
       "</div>"
      ],
      "text/plain": [
       "              author author_flair_text author_fullname  \\\n",
       "0  grumpypantsoldman               NaN     t2_27ps6lxw   \n",
       "1     unknown_salmon               NaN      t2_q57txtp   \n",
       "2            jon_lfl               NaN     t2_20q10ghp   \n",
       "3          omicron7e               NaN        t2_3cx76   \n",
       "4   JesyouJesmeJesus               NaN        t2_hhyv3   \n",
       "\n",
       "                                                body created_utc edited  \\\n",
       "0  NTA. I think you dodged a bullet. Who needs a ...  1541030405  False   \n",
       "1  I do feel for you. Do you think you could be b...  1541030426  False   \n",
       "2  I have not seen my insurance package for this ...  1541045930  False   \n",
       "3  &gt;matching industry trends\\n\\nEveryone else ...  1541073519  False   \n",
       "4  Could stick with my same high deductible plan,...  1541076018  False   \n",
       "\n",
       "        id parent_id score        subreddit parent_created  \\\n",
       "0  e8tkic1    9t3n27    14    AmItheAsshole     1541024836   \n",
       "1  e8tkj26    9t1u2e     2           Advice     1541012933   \n",
       "2  e8tywqp    9t2e8e     1  personalfinance     1541016597   \n",
       "3  e8udnb2    9t2e8e     1  personalfinance     1541016597   \n",
       "4  e8ufm7h    9t2e8e     1  personalfinance     1541016597   \n",
       "\n",
       "                                         parent_text  \\\n",
       "0  TL;DR: Ran into ex. We organized to catch up. ...   \n",
       "1  How do I deal with all these fake/fabricated p...   \n",
       "2  Just wanted to get a general feeling of what o...   \n",
       "3  Just wanted to get a general feeling of what o...   \n",
       "4  Just wanted to get a general feeling of what o...   \n",
       "\n",
       "                                        parent_title parent_edited  \\\n",
       "0  AITA, for asking an ex girlfriend why she woul...         False   \n",
       "1  I've been struggling a lot lately and I need a...         False   \n",
       "2   General Benefits Discussion/2019 Open Enrollment    1541022607   \n",
       "3   General Benefits Discussion/2019 Open Enrollment    1541022607   \n",
       "4   General Benefits Discussion/2019 Open Enrollment    1541022607   \n",
       "\n",
       "  parent_author                                          questions  \\\n",
       "0  HashedGaming         [Who needs a crazy person in their lives?]   \n",
       "1     mosorosso  [Do you think you could be bothered to have a ...   \n",
       "2  Smearwashere  [Or are these insurance prices common practices?]   \n",
       "3  Smearwashere                                   [Why aren't we?]   \n",
       "4  Smearwashere  [Is there a downside I’m not seeing with this ...   \n",
       "\n",
       "  question_occurs_post_initial  \n",
       "0                        False  \n",
       "1                        False  \n",
       "2                        False  \n",
       "3                        False  \n",
       "4                        False  "
      ]
     },
     "metadata": {},
     "output_type": "display_data"
    },
    {
     "name": "stdout",
     "output_type": "stream",
     "text": [
      "873188/873188 valid questions\n"
     ]
    }
   ],
   "source": [
    "## reload question data\n",
    "import pandas as pd\n",
    "from ast import literal_eval\n",
    "import numpy as np\n",
    "question_comment_data = pd.read_csv('../../data/reddit_data/advice_subreddit_question_data_for_validity_check.gz', sep='\\t', compression='gzip', index_col=False)\n",
    "question_comment_data.drop('Unnamed: 0', axis=1, inplace=True)\n",
    "question_comment_data = question_comment_data[~question_comment_data.loc[:, 'questions'].apply(lambda x: type(x) is float and np.isnan(x))]\n",
    "# convert question list\n",
    "question_comment_data = question_comment_data.assign(**{\n",
    "    'questions' : question_comment_data.loc[:, 'questions'].apply(literal_eval)\n",
    "})\n",
    "display(question_comment_data.head())\n",
    "## remove quote questions\n",
    "import re\n",
    "quote_matcher = re.compile('&gt;[^\\n]+\\n')\n",
    "question_comment_data = question_comment_data.assign(**{\n",
    "    'questions' : question_comment_data.loc[:, 'questions'].apply(lambda x: list(filter(lambda y: quote_matcher.search(y) is None, x)))\n",
    "})\n",
    "question_comment_data = question_comment_data.assign(**{\n",
    "    'question' : question_comment_data.loc[:, 'questions'].apply(lambda x: x[0] if len(x) > 0 else '')\n",
    "})\n",
    "print(f'{question_comment_data[question_comment_data.loc[:, \"question\"]!=\"\"].shape[0]}/{question_comment_data.shape[0]} valid questions')"
   ]
  },
  {
   "cell_type": "code",
   "execution_count": 2,
   "id": "domestic-annual",
   "metadata": {},
   "outputs": [
    {
     "name": "stdout",
     "output_type": "stream",
     "text": [
      "22693/873188\n"
     ]
    },
    {
     "data": {
      "text/plain": [
       "array(['INFO What was her reaction to that ultimatum?',\n",
       "       'INFO Would you, in the same monetary position as her, be willing to buy her a computer if she needed it?',\n",
       "       'INFO - did you pay for the car?',\n",
       "       'INFO - (sorry, revised my judgement) - Was this something you had long planned out with your mother?',\n",
       "       'INFO - are you “that guy” that falls asleep whenever they sit still for 20 minutes or did you do this to avoid dinner?',\n",
       "       \"INFO - Is there some reason they both can't be there?\",\n",
       "       \"INFO what reactions did you get when you told them you're 14?\",\n",
       "       'INFO, how old are you guys?',\n",
       "       \"INFO Depends how it was brought up, but since there are two games- one the husband was already a part of and one the wife just joined, why don't they just play one game each and the other watches the baby on the others turn?\",\n",
       "       'INFO--did he tell you you were getting paid, or did you just assume?'],\n",
       "      dtype=object)"
      ]
     },
     "metadata": {},
     "output_type": "display_data"
    }
   ],
   "source": [
    "info_question_matcher = re.compile('^INFO')\n",
    "question_comment_data = question_comment_data.assign(**{\n",
    "    'info_question' : question_comment_data.loc[:, 'question'].apply(lambda x: info_question_matcher.search(x) is not None)\n",
    "})\n",
    "info_question_comment_data = question_comment_data[question_comment_data.loc[:, 'info_question']]\n",
    "print(f'{info_question_comment_data.shape[0]}/{question_comment_data.shape[0]}')\n",
    "display(info_question_comment_data.loc[:, 'question'].iloc[:10].values)"
   ]
  },
  {
   "cell_type": "markdown",
   "id": "appreciated-liability",
   "metadata": {},
   "source": [
    "Let's use this data as gold labels for \"true\" clarification questions and the non-info questions as silver labels for non-clarification questions, then try to classify using some standard models."
   ]
  },
  {
   "cell_type": "code",
   "execution_count": 3,
   "id": "oriental-prompt",
   "metadata": {},
   "outputs": [],
   "source": [
    "## sample non-info questions\n",
    "np.random.seed(123)\n",
    "non_info_question_comment_data = question_comment_data[~question_comment_data.loc[:, 'info_question']]\n",
    "info_question_sample_size = info_question_comment_data.shape[0]\n",
    "non_info_question_comment_data = non_info_question_comment_data.loc[np.random.choice(non_info_question_comment_data.index, info_question_sample_size, replace=False), :]"
   ]
  },
  {
   "cell_type": "code",
   "execution_count": 4,
   "id": "binding-development",
   "metadata": {
    "scrolled": true
   },
   "outputs": [
    {
     "name": "stdout",
     "output_type": "stream",
     "text": [
      "(45386,)\n"
     ]
    }
   ],
   "source": [
    "## combined text data\n",
    "info_question_comment_text = np.hstack(\n",
    "    [info_question_comment_data.loc[:, 'question'].values,\n",
    "     non_info_question_comment_data.loc[:, 'question'].values]\n",
    ")\n",
    "# remove \"INFO\" as word\n",
    "import re\n",
    "info_matcher = re.compile('^INFO:?')\n",
    "info_matcher_func = np.vectorize(lambda x: info_matcher.sub('', x))\n",
    "info_question_comment_text = info_matcher_func(info_question_comment_text)\n",
    "print(info_question_comment_text.shape)"
   ]
  },
  {
   "cell_type": "code",
   "execution_count": 5,
   "id": "actual-contemporary",
   "metadata": {
    "scrolled": true
   },
   "outputs": [
    {
     "name": "stderr",
     "output_type": "stream",
     "text": [
      "/home/ianbstew/miniconda3/envs/py3/lib/python3.8/site-packages/sklearn/feature_extraction/text.py:388: UserWarning: Your stop_words may be inconsistent with your preprocessing. Tokenizing the stop words generated tokens ['aren', 'can', 'couldn', 'd', 'didn', 'doesn', 'don', 'hadn', 'hasn', 'haven', 'how', 'isn', 'let', 'll', 'm', 'mustn', 're', 's', 'shan', 'shouldn', 't', 've', 'wasn', 'weren', 'what', 'when', 'where', 'who', 'why', 'won', 'wouldn'] not in stop_words.\n",
      "  warnings.warn('Your stop_words may be inconsistent with '\n"
     ]
    },
    {
     "name": "stdout",
     "output_type": "stream",
     "text": [
      "is       9902\n",
      "what     7601\n",
      "do       7285\n",
      "are      7084\n",
      "how      6035\n",
      "did      5920\n",
      "t        4927\n",
      "why      4864\n",
      "s        3965\n",
      "would    3122\n",
      "can      2963\n",
      "just     2344\n",
      "get      1971\n",
      "when     1965\n",
      "like     1909\n",
      "know     1767\n",
      "want     1615\n",
      "who      1481\n",
      "re       1448\n",
      "say      1309\n",
      "dtype: int64\n"
     ]
    }
   ],
   "source": [
    "from stop_words import get_stop_words\n",
    "from sklearn.feature_extraction.text import CountVectorizer\n",
    "from nltk.tokenize import WordPunctTokenizer\n",
    "en_stops = set(get_stop_words('en'))\n",
    "question_words = {'who', 'what', 'when', 'where', 'why', 'how', 'is', 'are', 'do', 'did', 'would', 'could', 'should'}\n",
    "punct_words = set('\"?$%\\'()*,-./’')\n",
    "en_stops = en_stops - question_words\n",
    "en_stops = en_stops | punct_words\n",
    "en_stops = en_stops\n",
    "tokenizer = WordPunctTokenizer()\n",
    "max_vocab_size = 1000\n",
    "cv = CountVectorizer(max_features=max_vocab_size, stop_words=en_stops, tokenizer=tokenizer.tokenize)\n",
    "info_question_dtm = cv.fit_transform(info_question_comment_text)\n",
    "## get vocab\n",
    "info_question_word_counts = pd.Series(np.array(info_question_dtm.sum(axis=0))[0], index=list(sorted(cv.vocabulary_, key=cv.vocabulary_.get))).sort_values(inplace=False, ascending=False)\n",
    "print(info_question_word_counts.head(20))"
   ]
  },
  {
   "cell_type": "markdown",
   "id": "discrete-publicity",
   "metadata": {},
   "source": [
    "Great! Now let's split into train/test and see how well we can identify clarification questions."
   ]
  },
  {
   "cell_type": "code",
   "execution_count": 6,
   "id": "ceramic-symbol",
   "metadata": {
    "scrolled": true
   },
   "outputs": [
    {
     "name": "stderr",
     "output_type": "stream",
     "text": [
      "\r",
      "0it [00:00, ?it/s]"
     ]
    },
    {
     "name": "stdout",
     "output_type": "stream",
     "text": [
      "testing model <class 'sklearn.linear_model._logistic.LogisticRegression'>\n"
     ]
    },
    {
     "name": "stderr",
     "output_type": "stream",
     "text": [
      "10it [00:10,  1.08s/it]\n",
      "0it [00:00, ?it/s]"
     ]
    },
    {
     "name": "stdout",
     "output_type": "stream",
     "text": [
      "mean F1 = 0.697964820110219 +/- 0.009397922369227825\n",
      "testing model <class 'sklearn.svm._classes.SVC'>\n"
     ]
    },
    {
     "name": "stderr",
     "output_type": "stream",
     "text": [
      "/home/ianbstew/miniconda3/envs/py3/lib/python3.8/site-packages/sklearn/svm/_base.py:255: ConvergenceWarning: Solver terminated early (max_iter=1000).  Consider pre-processing your data with StandardScaler or MinMaxScaler.\n",
      "  warnings.warn('Solver terminated early (max_iter=%i).'\n",
      "1it [00:18, 18.81s/it]/home/ianbstew/miniconda3/envs/py3/lib/python3.8/site-packages/sklearn/svm/_base.py:255: ConvergenceWarning: Solver terminated early (max_iter=1000).  Consider pre-processing your data with StandardScaler or MinMaxScaler.\n",
      "  warnings.warn('Solver terminated early (max_iter=%i).'\n",
      "2it [00:37, 18.88s/it]/home/ianbstew/miniconda3/envs/py3/lib/python3.8/site-packages/sklearn/svm/_base.py:255: ConvergenceWarning: Solver terminated early (max_iter=1000).  Consider pre-processing your data with StandardScaler or MinMaxScaler.\n",
      "  warnings.warn('Solver terminated early (max_iter=%i).'\n",
      "3it [00:56, 18.87s/it]/home/ianbstew/miniconda3/envs/py3/lib/python3.8/site-packages/sklearn/svm/_base.py:255: ConvergenceWarning: Solver terminated early (max_iter=1000).  Consider pre-processing your data with StandardScaler or MinMaxScaler.\n",
      "  warnings.warn('Solver terminated early (max_iter=%i).'\n",
      "4it [01:15, 18.87s/it]/home/ianbstew/miniconda3/envs/py3/lib/python3.8/site-packages/sklearn/svm/_base.py:255: ConvergenceWarning: Solver terminated early (max_iter=1000).  Consider pre-processing your data with StandardScaler or MinMaxScaler.\n",
      "  warnings.warn('Solver terminated early (max_iter=%i).'\n",
      "5it [01:34, 18.92s/it]/home/ianbstew/miniconda3/envs/py3/lib/python3.8/site-packages/sklearn/svm/_base.py:255: ConvergenceWarning: Solver terminated early (max_iter=1000).  Consider pre-processing your data with StandardScaler or MinMaxScaler.\n",
      "  warnings.warn('Solver terminated early (max_iter=%i).'\n",
      "6it [01:53, 18.84s/it]/home/ianbstew/miniconda3/envs/py3/lib/python3.8/site-packages/sklearn/svm/_base.py:255: ConvergenceWarning: Solver terminated early (max_iter=1000).  Consider pre-processing your data with StandardScaler or MinMaxScaler.\n",
      "  warnings.warn('Solver terminated early (max_iter=%i).'\n",
      "7it [02:12, 18.84s/it]/home/ianbstew/miniconda3/envs/py3/lib/python3.8/site-packages/sklearn/svm/_base.py:255: ConvergenceWarning: Solver terminated early (max_iter=1000).  Consider pre-processing your data with StandardScaler or MinMaxScaler.\n",
      "  warnings.warn('Solver terminated early (max_iter=%i).'\n",
      "8it [02:31, 18.94s/it]/home/ianbstew/miniconda3/envs/py3/lib/python3.8/site-packages/sklearn/svm/_base.py:255: ConvergenceWarning: Solver terminated early (max_iter=1000).  Consider pre-processing your data with StandardScaler or MinMaxScaler.\n",
      "  warnings.warn('Solver terminated early (max_iter=%i).'\n",
      "9it [02:50, 19.00s/it]/home/ianbstew/miniconda3/envs/py3/lib/python3.8/site-packages/sklearn/svm/_base.py:255: ConvergenceWarning: Solver terminated early (max_iter=1000).  Consider pre-processing your data with StandardScaler or MinMaxScaler.\n",
      "  warnings.warn('Solver terminated early (max_iter=%i).'\n",
      "10it [03:08, 18.89s/it]\n",
      "0it [00:00, ?it/s]"
     ]
    },
    {
     "name": "stdout",
     "output_type": "stream",
     "text": [
      "mean F1 = 0.46557234175788426 +/- 0.03912339250706374\n",
      "testing model <class 'sklearn.ensemble._forest.RandomForestClassifier'>\n"
     ]
    },
    {
     "name": "stderr",
     "output_type": "stream",
     "text": [
      "10it [13:24, 80.40s/it]"
     ]
    },
    {
     "name": "stdout",
     "output_type": "stream",
     "text": [
      "mean F1 = 0.6988896779106252 +/- 0.007685303205787419\n"
     ]
    },
    {
     "name": "stderr",
     "output_type": "stream",
     "text": [
      "\n"
     ]
    }
   ],
   "source": [
    "train_pct = 0.8\n",
    "info_question_labels = np.array([0,]*len(info_question_comment_data) + [1,]*len(non_info_question_comment_data))\n",
    "from sklearn.model_selection import StratifiedKFold\n",
    "from sklearn.linear_model import LogisticRegression\n",
    "from sklearn.neural_network import MLPClassifier\n",
    "from sklearn.ensemble import RandomForestClassifier\n",
    "from sklearn.svm import SVC\n",
    "from sklearn.metrics import f1_score\n",
    "from tqdm import tqdm\n",
    "def train_test_model(X, Y, train_idx, test_idx, model):\n",
    "    X_train, X_test = X[train_idx], X[test_idx]\n",
    "    Y_train, Y_test = Y[train_idx], Y[test_idx]\n",
    "    ## train model\n",
    "    model.fit(X_train, Y_train)\n",
    "    ## test model\n",
    "    Y_pred = model.predict(X_test)\n",
    "    model_score = f1_score(Y_test, Y_pred)\n",
    "    return model_score\n",
    "np.random.seed(123)\n",
    "n_folds = 10\n",
    "k_fold = StratifiedKFold(n_folds, shuffle=True)\n",
    "models = [\n",
    "    LogisticRegression(penalty='l2', max_iter=1000),\n",
    "    # removed MLP because of high training time lol\n",
    "#     MLPClassifier(hidden_layer_sizes=(50,), activation='relu', learning_rate_init=1e-3, max_iter=1000),\n",
    "    SVC(C=1., degree=3, max_iter=1000),\n",
    "    RandomForestClassifier(n_estimators=100),\n",
    "]\n",
    "for model in models:\n",
    "    print(f'testing model {type(model)}')\n",
    "    info_question_label_acc = []\n",
    "    for train_idx, test_idx in tqdm(k_fold.split(info_question_dtm, info_question_labels)):\n",
    "        score_k = train_test_model(info_question_dtm, info_question_labels, train_idx, test_idx, model)\n",
    "    #     X_train, X_test = info_question_dtm[train_idx], info_question_dtm[test_idx]\n",
    "    #     Y_train, Y_test = info_question_labels[train_idx], info_question_labels[test_idx]\n",
    "    #     ## train model\n",
    "    #     model.fit(X_train, Y_train)\n",
    "    #     ## test model\n",
    "    #     Y_pred = model.predict(X_test)\n",
    "    #     model_score = f1_score(Y_test, Y_pred)\n",
    "        info_question_label_acc.append(score_k)\n",
    "    print(f'mean F1 = {np.mean(info_question_label_acc)} +/- {np.std(info_question_label_acc)}')"
   ]
  },
  {
   "cell_type": "markdown",
   "id": "induced-april",
   "metadata": {},
   "source": [
    "These scores are fine but not great. Let's see how they do on the hand-labeled data."
   ]
  },
  {
   "cell_type": "code",
   "execution_count": null,
   "id": "reflected-monitoring",
   "metadata": {},
   "outputs": [],
   "source": [
    "## load labelled data\n",
    "## load all previously labeled data\n",
    "question_only_comment_label_data = pd.read_csv('../../data/reddit_data/sample_advice_subreddit_question_labels.tsv', sep='\\t', index_col=False)\n",
    "question_initial_comment_label_data = pd.read_csv('../../data/reddit_data/sample_advice_subreddit_post_initial_question_labels.tsv', sep='\\t', index_col=False)\n",
    "parent_reply_question_label_data = pd.read_csv('../../data/reddit_data/sample_advice_subreddit_parent_reply_question_labels.tsv', sep='\\t', index_col=False)\n",
    "no_filter_question_label_data = pd.read_csv('../../data/reddit_data/sample_advice_subreddit_no_filter_question_labels.tsv', sep='\\t', index_col=False)\n",
    "combined_question_label_data = pd.concat([\n",
    "    question_only_comment_label_data,\n",
    "    question_initial_comment_label_data,\n",
    "    parent_reply_question_label_data,\n",
    "    no_filter_question_label_data,\n",
    "], axis=0)\n",
    "label_cols = ['question_is_relevant', 'question_is_clarification', 'submission_contains_answer']\n",
    "combined_question_label_data.fillna({x : 0. for x in label_cols}, inplace=True)\n",
    "text_cols = ['selftext', 'parent_text', 'question']\n",
    "combined_question_label_data.fillna({x : '' for x in text_cols}, inplace=True)\n",
    "# fix inconsistent columns\n",
    "combined_question_label_data = combined_question_label_data.assign(**{\n",
    "    'submission_contains_answer' : combined_question_label_data.loc[:, 'submission_contains_answer']+combined_question_label_data.loc[:, 'post_contains_answer']\n",
    "})\n",
    "combined_question_label_data = combined_question_label_data.assign(**{\n",
    "    'selftext' : combined_question_label_data.loc[:, 'selftext'].astype(str) + combined_question_label_data.loc[:, 'parent_text'].astype(str)\n",
    "})\n",
    "combined_question_label_data = combined_question_label_data.assign(**{\n",
    "    'question' : combined_question_label_data.apply(lambda x: x.loc['question'] if x.loc['question']!='' else x.loc['body'], axis=1)\n",
    "})\n",
    "## remove bot authors\n",
    "bot_authors = ['LocationBot']\n",
    "combined_question_label_data = pd.merge(combined_question_label_data, question_comment_data.loc[:, ['id', 'author']], on='id')\n",
    "combined_question_label_data = combined_question_label_data[~combined_question_label_data.loc[:, 'author'].isin(bot_authors)]\n",
    "for label_col in label_cols:\n",
    "    print(combined_question_label_data.loc[:, label_col].value_counts())\n",
    "## compute validity\n",
    "combined_question_label_data = combined_question_label_data.assign(**{\n",
    "    'question_is_valid' : ((combined_question_label_data.loc[:, 'question_is_relevant']==1) & \n",
    "                           (combined_question_label_data.loc[:, 'question_is_clarification']==1) & \n",
    "                           (combined_question_label_data.loc[:, 'submission_contains_answer']==0)).astype(int)\n",
    "})"
   ]
  }
 ],
 "metadata": {
  "kernelspec": {
   "display_name": "Python [conda env:py3] *",
   "language": "python",
   "name": "conda-env-py3-py"
  },
  "language_info": {
   "codemirror_mode": {
    "name": "ipython",
    "version": 3
   },
   "file_extension": ".py",
   "mimetype": "text/x-python",
   "name": "python",
   "nbconvert_exporter": "python",
   "pygments_lexer": "ipython3",
   "version": "3.8.5"
  }
 },
 "nbformat": 4,
 "nbformat_minor": 5
}
