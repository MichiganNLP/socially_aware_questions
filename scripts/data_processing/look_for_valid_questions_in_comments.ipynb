{
 "cells": [
  {
   "cell_type": "markdown",
   "metadata": {},
   "source": [
    "# Look for valid questions in comments\n",
    "We've looked in prior work for valid questions in comment data based on \"standalone\" questions ([here](sample_label_comment_questions.ipynb)) but the data sparsity is pretty bad, i.e. about 15000/940000 $\\sim$ 2% of comments have a valid question.\n",
    "\n",
    "Let's expand our search and get all questions that:\n",
    "\n",
    "1. occur at the beginning of a comment\n",
    "2. receive at least one reply from the OP or from another commenter"
   ]
  },
  {
   "cell_type": "markdown",
   "metadata": {},
   "source": [
    "## Table of contents\n",
    "\n",
    "1. [Load data](#Load-data)\n",
    "2. [Test comment-initial questions](#Comment-initial-questions)\n",
    "3. [Test questions that receive OP reply](#Question-receives-reply-from-OP)\n",
    "4. [Questions all text](#Free-text-questions)\n",
    "5. [Identify valid question automatically](#Identify-valid-questions-automatically)\n",
    "\t1. [Test word overlap](#Test-question-overlap)\n",
    "\t2. [Test clarification question classiication](#Test-clarification-questions)\n",
    "6. [Test \"INFO\" questions](#Bootstrap-from-\"INFO\"-comments)\n",
    "7. [Test automatic question labelling](#Label-all-questions-in-comments-as-valid/correct)\n",
    "8. [Testing labels from multiple annotators](#Second-round-of-question-labels)\n",
    "9. [Debug data flow](#Debug-data-flow)"
   ]
  },
  {
   "cell_type": "markdown",
   "metadata": {},
   "source": [
    "## Load data"
   ]
  },
  {
   "cell_type": "code",
   "execution_count": 1,
   "metadata": {},
   "outputs": [
    {
     "name": "stdout",
     "output_type": "stream",
     "text": [
      "ending data collection early because error Compressed file ended before the end-of-stream marker was reached\n",
      "ending data collection early because error Compressed file ended before the end-of-stream marker was reached\n",
      "ending data collection early because error Compressed file ended before the end-of-stream marker was reached\n",
      "ending data collection early because error Compressed file ended before the end-of-stream marker was reached\n",
      "ending data collection early because error Compressed file ended before the end-of-stream marker was reached\n"
     ]
    },
    {
     "data": {
      "text/html": [
       "<div>\n",
       "<style scoped>\n",
       "    .dataframe tbody tr th:only-of-type {\n",
       "        vertical-align: middle;\n",
       "    }\n",
       "\n",
       "    .dataframe tbody tr th {\n",
       "        vertical-align: top;\n",
       "    }\n",
       "\n",
       "    .dataframe thead th {\n",
       "        text-align: right;\n",
       "    }\n",
       "</style>\n",
       "<table border=\"1\" class=\"dataframe\">\n",
       "  <thead>\n",
       "    <tr style=\"text-align: right;\">\n",
       "      <th></th>\n",
       "      <th>author</th>\n",
       "      <th>author_flair_text</th>\n",
       "      <th>author_fullname</th>\n",
       "      <th>body</th>\n",
       "      <th>created_utc</th>\n",
       "      <th>edited</th>\n",
       "      <th>id</th>\n",
       "      <th>parent_id</th>\n",
       "      <th>score</th>\n",
       "      <th>subreddit</th>\n",
       "    </tr>\n",
       "  </thead>\n",
       "  <tbody>\n",
       "    <tr>\n",
       "      <th>0</th>\n",
       "      <td>grumpypantsoldman</td>\n",
       "      <td>None</td>\n",
       "      <td>t2_27ps6lxw</td>\n",
       "      <td>NTA. I think you dodged a bullet. Who needs a ...</td>\n",
       "      <td>1541030405</td>\n",
       "      <td>False</td>\n",
       "      <td>e8tkic1</td>\n",
       "      <td>t3_9t3n27</td>\n",
       "      <td>14</td>\n",
       "      <td>AmItheAsshole</td>\n",
       "    </tr>\n",
       "    <tr>\n",
       "      <th>1</th>\n",
       "      <td>unknown_salmon</td>\n",
       "      <td>None</td>\n",
       "      <td>t2_q57txtp</td>\n",
       "      <td>I do feel for you. Do you think you could be b...</td>\n",
       "      <td>1541030426</td>\n",
       "      <td>False</td>\n",
       "      <td>e8tkj26</td>\n",
       "      <td>t3_9t1u2e</td>\n",
       "      <td>2</td>\n",
       "      <td>Advice</td>\n",
       "    </tr>\n",
       "    <tr>\n",
       "      <th>2</th>\n",
       "      <td>vld-s</td>\n",
       "      <td>None</td>\n",
       "      <td>t2_14p3sr</td>\n",
       "      <td>YNTA. He made you uncomfortable and you distan...</td>\n",
       "      <td>1541030467</td>\n",
       "      <td>False</td>\n",
       "      <td>e8tkkjt</td>\n",
       "      <td>t3_9t3xz3</td>\n",
       "      <td>3</td>\n",
       "      <td>AmItheAsshole</td>\n",
       "    </tr>\n",
       "    <tr>\n",
       "      <th>3</th>\n",
       "      <td>Prepperpoints2Ponder</td>\n",
       "      <td>None</td>\n",
       "      <td>t2_11lpfa</td>\n",
       "      <td>Manufacturing here. Me and spouse will be payi...</td>\n",
       "      <td>1541030470</td>\n",
       "      <td>False</td>\n",
       "      <td>e8tkkns</td>\n",
       "      <td>t3_9t2e8e</td>\n",
       "      <td>2</td>\n",
       "      <td>personalfinance</td>\n",
       "    </tr>\n",
       "    <tr>\n",
       "      <th>4</th>\n",
       "      <td>juliej891</td>\n",
       "      <td>None</td>\n",
       "      <td>t2_1mwezovi</td>\n",
       "      <td>I think you’re going to go out of your way to ...</td>\n",
       "      <td>1541030493</td>\n",
       "      <td>False</td>\n",
       "      <td>e8tklij</td>\n",
       "      <td>t3_9t4afp</td>\n",
       "      <td>1</td>\n",
       "      <td>Advice</td>\n",
       "    </tr>\n",
       "  </tbody>\n",
       "</table>\n",
       "</div>"
      ],
      "text/plain": [
       "                 author author_flair_text author_fullname  \\\n",
       "0     grumpypantsoldman              None     t2_27ps6lxw   \n",
       "1        unknown_salmon              None      t2_q57txtp   \n",
       "2                 vld-s              None       t2_14p3sr   \n",
       "3  Prepperpoints2Ponder              None       t2_11lpfa   \n",
       "4             juliej891              None     t2_1mwezovi   \n",
       "\n",
       "                                                body  created_utc edited  \\\n",
       "0  NTA. I think you dodged a bullet. Who needs a ...   1541030405  False   \n",
       "1  I do feel for you. Do you think you could be b...   1541030426  False   \n",
       "2  YNTA. He made you uncomfortable and you distan...   1541030467  False   \n",
       "3  Manufacturing here. Me and spouse will be payi...   1541030470  False   \n",
       "4  I think you’re going to go out of your way to ...   1541030493  False   \n",
       "\n",
       "        id  parent_id  score        subreddit  \n",
       "0  e8tkic1  t3_9t3n27     14    AmItheAsshole  \n",
       "1  e8tkj26  t3_9t1u2e      2           Advice  \n",
       "2  e8tkkjt  t3_9t3xz3      3    AmItheAsshole  \n",
       "3  e8tkkns  t3_9t2e8e      2  personalfinance  \n",
       "4  e8tklij  t3_9t4afp      1           Advice  "
      ]
     },
     "metadata": {},
     "output_type": "display_data"
    },
    {
     "name": "stdout",
     "output_type": "stream",
     "text": [
      "4371692 comments\n"
     ]
    }
   ],
   "source": [
    "import pandas as pd\n",
    "import os\n",
    "from importlib import reload\n",
    "import data_helpers\n",
    "reload(data_helpers)\n",
    "from data_helpers import load_zipped_json_data\n",
    "data_dir = '../../data/reddit_data/'\n",
    "comment_data_files = list(filter(lambda x: x.startswith('subreddit_comments'), os.listdir(data_dir)))\n",
    "comment_data_files = list(map(lambda x: os.path.join(data_dir, x), comment_data_files))\n",
    "comment_data = pd.concat(list(map(lambda x: load_zipped_json_data(x), comment_data_files)), axis=0)\n",
    "display(comment_data.head())\n",
    "print(f'{comment_data.shape[0]} comments')"
   ]
  },
  {
   "cell_type": "code",
   "execution_count": 3,
   "metadata": {
    "scrolled": true
   },
   "outputs": [
    {
     "data": {
      "text/html": [
       "<div>\n",
       "<style scoped>\n",
       "    .dataframe tbody tr th:only-of-type {\n",
       "        vertical-align: middle;\n",
       "    }\n",
       "\n",
       "    .dataframe tbody tr th {\n",
       "        vertical-align: top;\n",
       "    }\n",
       "\n",
       "    .dataframe thead th {\n",
       "        text-align: right;\n",
       "    }\n",
       "</style>\n",
       "<table border=\"1\" class=\"dataframe\">\n",
       "  <thead>\n",
       "    <tr style=\"text-align: right;\">\n",
       "      <th></th>\n",
       "      <th>author</th>\n",
       "      <th>author_flair_text</th>\n",
       "      <th>created_utc</th>\n",
       "      <th>edited</th>\n",
       "      <th>id</th>\n",
       "      <th>num_comments</th>\n",
       "      <th>score</th>\n",
       "      <th>selftext</th>\n",
       "      <th>subreddit</th>\n",
       "      <th>title</th>\n",
       "      <th>category</th>\n",
       "      <th>author_fullname</th>\n",
       "    </tr>\n",
       "  </thead>\n",
       "  <tbody>\n",
       "    <tr>\n",
       "      <th>0</th>\n",
       "      <td>deepsouthsloth</td>\n",
       "      <td>None</td>\n",
       "      <td>1514764840</td>\n",
       "      <td>False</td>\n",
       "      <td>7nby0l</td>\n",
       "      <td>7</td>\n",
       "      <td>1</td>\n",
       "      <td>26M/married/2 kids\\n\\nEmployer match is 50% up...</td>\n",
       "      <td>personalfinance</td>\n",
       "      <td>Should I continue with 401k despite terrible e...</td>\n",
       "      <td>NaN</td>\n",
       "      <td>NaN</td>\n",
       "    </tr>\n",
       "    <tr>\n",
       "      <th>1</th>\n",
       "      <td>CapableCounteroffer</td>\n",
       "      <td>None</td>\n",
       "      <td>1514764890</td>\n",
       "      <td>False</td>\n",
       "      <td>7nby5t</td>\n",
       "      <td>5</td>\n",
       "      <td>0</td>\n",
       "      <td>On November 24th, I called AT&amp;amp;T to inquire...</td>\n",
       "      <td>legaladvice</td>\n",
       "      <td>[FL] Issue getting AT&amp;amp;T to pay early termi...</td>\n",
       "      <td>NaN</td>\n",
       "      <td>NaN</td>\n",
       "    </tr>\n",
       "    <tr>\n",
       "      <th>2</th>\n",
       "      <td>pinkcrayon69</td>\n",
       "      <td>None</td>\n",
       "      <td>1514764948</td>\n",
       "      <td>False</td>\n",
       "      <td>7nbybf</td>\n",
       "      <td>9</td>\n",
       "      <td>3</td>\n",
       "      <td>I live in south OC but I need to move out of m...</td>\n",
       "      <td>personalfinance</td>\n",
       "      <td>I need to move out in a month. What should I p...</td>\n",
       "      <td>NaN</td>\n",
       "      <td>NaN</td>\n",
       "    </tr>\n",
       "    <tr>\n",
       "      <th>3</th>\n",
       "      <td>bobshellby</td>\n",
       "      <td>Needs 64bit Windows...</td>\n",
       "      <td>1514765040</td>\n",
       "      <td>False</td>\n",
       "      <td>7nbykz</td>\n",
       "      <td>6</td>\n",
       "      <td>0</td>\n",
       "      <td>Are there keycaps for the Microsoft wireless k...</td>\n",
       "      <td>pcmasterrace</td>\n",
       "      <td>Keyboard keycap help</td>\n",
       "      <td>NaN</td>\n",
       "      <td>NaN</td>\n",
       "    </tr>\n",
       "    <tr>\n",
       "      <th>4</th>\n",
       "      <td>j0sh135742</td>\n",
       "      <td>None</td>\n",
       "      <td>1514765064</td>\n",
       "      <td>1514765420.0</td>\n",
       "      <td>7nbyno</td>\n",
       "      <td>4</td>\n",
       "      <td>0</td>\n",
       "      <td>So in MGL Part 1, Title 15, Chapter 94G, Secti...</td>\n",
       "      <td>legaladvice</td>\n",
       "      <td>Quick question about Medical Marijuana.</td>\n",
       "      <td>NaN</td>\n",
       "      <td>NaN</td>\n",
       "    </tr>\n",
       "  </tbody>\n",
       "</table>\n",
       "</div>"
      ],
      "text/plain": [
       "                author       author_flair_text  created_utc        edited  \\\n",
       "0       deepsouthsloth                    None   1514764840         False   \n",
       "1  CapableCounteroffer                    None   1514764890         False   \n",
       "2         pinkcrayon69                    None   1514764948         False   \n",
       "3           bobshellby  Needs 64bit Windows...   1514765040         False   \n",
       "4           j0sh135742                    None   1514765064  1514765420.0   \n",
       "\n",
       "       id  num_comments  score  \\\n",
       "0  7nby0l             7      1   \n",
       "1  7nby5t             5      0   \n",
       "2  7nbybf             9      3   \n",
       "3  7nbykz             6      0   \n",
       "4  7nbyno             4      0   \n",
       "\n",
       "                                            selftext        subreddit  \\\n",
       "0  26M/married/2 kids\\n\\nEmployer match is 50% up...  personalfinance   \n",
       "1  On November 24th, I called AT&amp;T to inquire...      legaladvice   \n",
       "2  I live in south OC but I need to move out of m...  personalfinance   \n",
       "3  Are there keycaps for the Microsoft wireless k...     pcmasterrace   \n",
       "4  So in MGL Part 1, Title 15, Chapter 94G, Secti...      legaladvice   \n",
       "\n",
       "                                               title  category author_fullname  \n",
       "0  Should I continue with 401k despite terrible e...       NaN             NaN  \n",
       "1  [FL] Issue getting AT&amp;T to pay early termi...       NaN             NaN  \n",
       "2  I need to move out in a month. What should I p...       NaN             NaN  \n",
       "3                               Keyboard keycap help       NaN             NaN  \n",
       "4            Quick question about Medical Marijuana.       NaN             NaN  "
      ]
     },
     "metadata": {},
     "output_type": "display_data"
    }
   ],
   "source": [
    "## submission\n",
    "submission_data = load_zipped_json_data('../../data/reddit_data/subreddit_submissions_2018-01_2019-12.gz')\n",
    "display(submission_data.head())"
   ]
  },
  {
   "cell_type": "code",
   "execution_count": 41,
   "metadata": {},
   "outputs": [],
   "source": [
    "## combine data\n",
    "comment_data = comment_data.assign(**{'parent_id':comment_data.loc[:, 'parent_id'].apply(lambda x: x.split('_')[-1])})\n",
    "submission_data.rename(columns={'id' : 'parent_id', 'created_utc' : 'parent_created', 'selftext' : 'parent_text', 'title' : 'parent_title', 'edited' : 'parent_edited', 'author' : 'parent_author'}, inplace=True)\n",
    "comment_submission_data = pd.merge(\n",
    "    comment_data, \n",
    "    submission_data.loc[:, ['parent_id', 'parent_created', 'parent_text', 'parent_title', 'parent_edited', 'parent_author']],\n",
    "    on='parent_id'\n",
    ")\n",
    "# remove duplicate questions\n",
    "comment_submission_data.drop_duplicates(['parent_id', 'body'], inplace=True)"
   ]
  },
  {
   "cell_type": "code",
   "execution_count": 42,
   "metadata": {},
   "outputs": [
    {
     "name": "stdout",
     "output_type": "stream",
     "text": [
      "4193267 comments total\n"
     ]
    }
   ],
   "source": [
    "print(f'{comment_submission_data.shape[0]} comments total')"
   ]
  },
  {
   "cell_type": "code",
   "execution_count": 12,
   "metadata": {},
   "outputs": [
    {
     "name": "stderr",
     "output_type": "stream",
     "text": [
      "100%|██████████| 4371692/4371692 [29:58<00:00, 2431.14it/s] \n"
     ]
    }
   ],
   "source": [
    "## extract questions\n",
    "from data_helpers import extract_questions_all_data\n",
    "comment_data = comment_data.assign(**{\n",
    "    'questions' : extract_questions_all_data(comment_data.loc[:, 'body'].values)\n",
    "})"
   ]
  },
  {
   "cell_type": "code",
   "execution_count": 43,
   "metadata": {},
   "outputs": [],
   "source": [
    "comment_submission_data = pd.merge(\n",
    "    comment_submission_data, comment_data.loc[:, ['id', 'questions']],\n",
    "    on='id'\n",
    ")"
   ]
  },
  {
   "cell_type": "code",
   "execution_count": 48,
   "metadata": {},
   "outputs": [],
   "source": [
    "question_comment_data = comment_submission_data[comment_submission_data.loc[:, 'questions'].apply(lambda x: len(x) > 0)]"
   ]
  },
  {
   "cell_type": "code",
   "execution_count": 84,
   "metadata": {},
   "outputs": [],
   "source": [
    "## save for posterity/sampling comparison\n",
    "question_comment_data.to_csv('../../data/reddit_data/advice_subreddit_question_data_for_validity_check.gz', sep='\\t', compression='gzip')"
   ]
  },
  {
   "cell_type": "markdown",
   "metadata": {},
   "source": [
    "### Comment-initial questions"
   ]
  },
  {
   "cell_type": "code",
   "execution_count": 49,
   "metadata": {
    "scrolled": true
   },
   "outputs": [
    {
     "name": "stderr",
     "output_type": "stream",
     "text": [
      "100%|██████████| 873193/873193 [04:46<00:00, 3051.14it/s]\n"
     ]
    }
   ],
   "source": [
    "from tqdm import tqdm\n",
    "tqdm.pandas()\n",
    "import re\n",
    "question_comment_data = question_comment_data.assign(**{\n",
    "    'question_occurs_post_initial' : question_comment_data.progress_apply(lambda x: re.match(f\"^{re.escape(x.loc['questions'][0])}\", x.loc['body']) is not None, axis=1)\n",
    "})"
   ]
  },
  {
   "cell_type": "code",
   "execution_count": 50,
   "metadata": {},
   "outputs": [
    {
     "name": "stdout",
     "output_type": "stream",
     "text": [
      "360472/873193 post-initial questions\n"
     ]
    }
   ],
   "source": [
    "print(f'{question_comment_data.loc[:, \"question_occurs_post_initial\"].sum()}/{question_comment_data.shape[0]} post-initial questions')"
   ]
  },
  {
   "cell_type": "markdown",
   "metadata": {},
   "source": [
    "Let's check out a sample of the questions to determine their validity."
   ]
  },
  {
   "cell_type": "code",
   "execution_count": 51,
   "metadata": {
    "scrolled": true
   },
   "outputs": [],
   "source": [
    "import numpy as np\n",
    "np.random.seed(123)\n",
    "questions_per_subreddit = 50\n",
    "sample_post_initial_question_data = []\n",
    "for subreddit_i, data_i in question_comment_data.groupby('subreddit'):\n",
    "    data_i.reset_index(inplace=True)\n",
    "    # remove parent author comments\n",
    "    data_i = data_i[data_i.loc[:, 'parent_author']!=data_i.loc[:, 'author']]\n",
    "    valid_data_i = data_i[data_i.loc[:, 'question_occurs_post_initial']]\n",
    "    sample_data_i = valid_data_i.loc[np.random.choice(valid_data_i.index, questions_per_subreddit, replace=False), :]\n",
    "    sample_data_i.sort_values('parent_id', inplace=True, ascending=True)\n",
    "    sample_data_i = sample_data_i.assign(**{'question' : sample_data_i.loc[:, 'questions'].apply(lambda x: x[0])})\n",
    "    sample_post_initial_question_data.append(sample_data_i.loc[:, ['parent_id', 'id', 'parent_title', 'parent_text', 'body', 'question']])\n",
    "sample_post_initial_question_data = pd.concat(sample_post_initial_question_data, axis=0)"
   ]
  },
  {
   "cell_type": "code",
   "execution_count": 52,
   "metadata": {},
   "outputs": [],
   "source": [
    "## out file\n",
    "sample_post_initial_question_data.to_csv('../../data/reddit_data/sample_advice_subreddit_post_initial_questions.tsv', sep='\\t', index=False)"
   ]
  },
  {
   "cell_type": "markdown",
   "metadata": {},
   "source": [
    "After labeling, let's see what the rate of valid questions appears to be for this sample."
   ]
  },
  {
   "cell_type": "code",
   "execution_count": 78,
   "metadata": {},
   "outputs": [],
   "source": [
    "sample_post_initial_question_label_data = pd.read_csv('../../data/reddit_data/sample_advice_subreddit_post_initial_question_labels.tsv', sep='\\t', index_col=False)"
   ]
  },
  {
   "cell_type": "code",
   "execution_count": 79,
   "metadata": {},
   "outputs": [],
   "source": [
    "## add subreddit info\n",
    "sample_post_initial_question_label_data = pd.merge(\n",
    "    sample_post_initial_question_label_data, question_comment_data.loc[:, ['subreddit', 'parent_id']],\n",
    "    on='parent_id', how='left',\n",
    ")\n",
    "## remove duplicates??\n",
    "sample_post_initial_question_label_data.drop_duplicates(['parent_id', 'id'], inplace=True)"
   ]
  },
  {
   "cell_type": "code",
   "execution_count": 80,
   "metadata": {},
   "outputs": [
    {
     "name": "stdout",
     "output_type": "stream",
     "text": [
      "(250, 10)\n"
     ]
    }
   ],
   "source": [
    "print(sample_post_initial_question_label_data.shape)"
   ]
  },
  {
   "cell_type": "code",
   "execution_count": 81,
   "metadata": {
    "scrolled": true
   },
   "outputs": [
    {
     "name": "stdout",
     "output_type": "stream",
     "text": [
      "**** testing var question_is_relevant ****\n",
      "1    0.952\n",
      "0    0.048\n",
      "Name: question_is_relevant, dtype: float64\n",
      "**** testing var question_is_clarification ****\n",
      "1    0.6\n",
      "0    0.4\n",
      "Name: question_is_clarification, dtype: float64\n",
      "**** testing var post_contains_answer ****\n",
      "0    0.988\n",
      "1    0.012\n",
      "Name: post_contains_answer, dtype: float64\n",
      "**** testing var question_is_relevant ****\n",
      "---- testing subreddit Advice ----\n",
      "1    0.96\n",
      "0    0.04\n",
      "Name: question_is_relevant, dtype: float64\n",
      "---- testing subreddit AmItheAsshole ----\n",
      "1    0.9\n",
      "0    0.1\n",
      "Name: question_is_relevant, dtype: float64\n",
      "---- testing subreddit legaladvice ----\n",
      "1    0.94\n",
      "0    0.06\n",
      "Name: question_is_relevant, dtype: float64\n",
      "---- testing subreddit pcmasterrace ----\n",
      "1    0.96\n",
      "0    0.04\n",
      "Name: question_is_relevant, dtype: float64\n",
      "---- testing subreddit personalfinance ----\n",
      "1    1.0\n",
      "Name: question_is_relevant, dtype: float64\n",
      "**** testing var question_is_clarification ****\n",
      "---- testing subreddit Advice ----\n",
      "1    0.6\n",
      "0    0.4\n",
      "Name: question_is_clarification, dtype: float64\n",
      "---- testing subreddit AmItheAsshole ----\n",
      "0    0.52\n",
      "1    0.48\n",
      "Name: question_is_clarification, dtype: float64\n",
      "---- testing subreddit legaladvice ----\n",
      "1    0.72\n",
      "0    0.28\n",
      "Name: question_is_clarification, dtype: float64\n",
      "---- testing subreddit pcmasterrace ----\n",
      "1    0.52\n",
      "0    0.48\n",
      "Name: question_is_clarification, dtype: float64\n",
      "---- testing subreddit personalfinance ----\n",
      "1    0.68\n",
      "0    0.32\n",
      "Name: question_is_clarification, dtype: float64\n",
      "**** testing var post_contains_answer ****\n",
      "---- testing subreddit Advice ----\n",
      "0    1.0\n",
      "Name: post_contains_answer, dtype: float64\n",
      "---- testing subreddit AmItheAsshole ----\n",
      "0    1.0\n",
      "Name: post_contains_answer, dtype: float64\n",
      "---- testing subreddit legaladvice ----\n",
      "0    0.96\n",
      "1    0.04\n",
      "Name: post_contains_answer, dtype: float64\n",
      "---- testing subreddit pcmasterrace ----\n",
      "0    0.98\n",
      "1    0.02\n",
      "Name: post_contains_answer, dtype: float64\n",
      "---- testing subreddit personalfinance ----\n",
      "0    1.0\n",
      "Name: post_contains_answer, dtype: float64\n"
     ]
    }
   ],
   "source": [
    "## get overall label counts\n",
    "label_vars = ['question_is_relevant', 'question_is_clarification', 'post_contains_answer']\n",
    "N = sample_post_initial_question_label_data.shape[0]\n",
    "for label_var_i in label_vars:\n",
    "    print(f'**** testing var {label_var_i} ****')\n",
    "    print(sample_post_initial_question_label_data.loc[:, label_var_i].value_counts()/N)\n",
    "## get label counts per subreddit\n",
    "\n",
    "for label_var_i in label_vars:\n",
    "    print(f'**** testing var {label_var_i} ****')\n",
    "    for subreddit_j, data_j in sample_post_initial_question_label_data.groupby('subreddit'):\n",
    "        print(f'---- testing subreddit {subreddit_j} ----')\n",
    "        print(data_j.loc[:, label_var_i].value_counts()/data_j.shape[0])"
   ]
  },
  {
   "cell_type": "markdown",
   "metadata": {},
   "source": [
    "Most questions are relevant, about half the questions are actually clarifications, and most of the questions reference information not contained in the post.\n",
    "\n",
    "For the clarification discrepancy: most clarification questions come from `legaladvice` and `pcmasterrace`, other subreddits are closer to 50-50 split."
   ]
  },
  {
   "cell_type": "code",
   "execution_count": 83,
   "metadata": {
    "scrolled": true
   },
   "outputs": [
    {
     "name": "stdout",
     "output_type": "stream",
     "text": [
      "148/250 valid questions overall\n",
      "**** testing subreddit Advice ****\n",
      "30/50 valid questions overall\n",
      "**** testing subreddit AmItheAsshole ****\n",
      "24/50 valid questions overall\n",
      "**** testing subreddit legaladvice ****\n",
      "34/50 valid questions overall\n",
      "**** testing subreddit pcmasterrace ****\n",
      "26/50 valid questions overall\n",
      "**** testing subreddit personalfinance ****\n",
      "34/50 valid questions overall\n"
     ]
    }
   ],
   "source": [
    "valid_post_initial_question_label_data = sample_post_initial_question_label_data[\n",
    "    (sample_post_initial_question_label_data.loc[:, 'question_is_relevant']==1) &\n",
    "    (sample_post_initial_question_label_data.loc[:, 'question_is_clarification']==1) &\n",
    "    (sample_post_initial_question_label_data.loc[:, 'post_contains_answer']==0)\n",
    "]\n",
    "print(f'{valid_post_initial_question_label_data.shape[0]}/{sample_post_initial_question_label_data.shape[0]} valid questions overall')\n",
    "for subreddit_i, data_i in sample_post_initial_question_label_data.groupby('subreddit'):\n",
    "    print(f'**** testing subreddit {subreddit_i} ****')\n",
    "    valid_data_i = data_i[\n",
    "    (data_i.loc[:, 'question_is_relevant']==1) &\n",
    "    (data_i.loc[:, 'question_is_clarification']==1) &\n",
    "    (data_i.loc[:, 'post_contains_answer']==0)\n",
    "]\n",
    "    print(f'{valid_data_i.shape[0]}/{data_i.shape[0]} valid questions overall')"
   ]
  },
  {
   "cell_type": "markdown",
   "metadata": {},
   "source": [
    "All subreddits have at least 50% valid questions."
   ]
  },
  {
   "cell_type": "markdown",
   "metadata": {},
   "source": [
    "### Question receives reply from OP"
   ]
  },
  {
   "cell_type": "code",
   "execution_count": 86,
   "metadata": {
    "scrolled": true
   },
   "outputs": [
    {
     "data": {
      "text/html": [
       "<div>\n",
       "<style scoped>\n",
       "    .dataframe tbody tr th:only-of-type {\n",
       "        vertical-align: middle;\n",
       "    }\n",
       "\n",
       "    .dataframe tbody tr th {\n",
       "        vertical-align: top;\n",
       "    }\n",
       "\n",
       "    .dataframe thead th {\n",
       "        text-align: right;\n",
       "    }\n",
       "</style>\n",
       "<table border=\"1\" class=\"dataframe\">\n",
       "  <thead>\n",
       "    <tr style=\"text-align: right;\">\n",
       "      <th></th>\n",
       "      <th>parent_title</th>\n",
       "      <th>body</th>\n",
       "      <th>author</th>\n",
       "      <th>parent_id</th>\n",
       "    </tr>\n",
       "  </thead>\n",
       "  <tbody>\n",
       "    <tr>\n",
       "      <th>114</th>\n",
       "      <td>Selling car to private party</td>\n",
       "      <td>Thanks all. I will keep this in mind.</td>\n",
       "      <td>iptvfanboy</td>\n",
       "      <td>9t4d1p</td>\n",
       "    </tr>\n",
       "    <tr>\n",
       "      <th>3093</th>\n",
       "      <td>Payroll Tax hike surprise, is this normal? Salary+bonus+commission</td>\n",
       "      <td>Thank you all for the quick replies. I didn’t realize that supplemental wages get taxed/withheld different than if I only made a base wage. \\n\\nI’m new to the whole commission game so I’m still ge...</td>\n",
       "      <td>David_Warren</td>\n",
       "      <td>9t2y1p</td>\n",
       "    </tr>\n",
       "    <tr>\n",
       "      <th>3349</th>\n",
       "      <td>As a security guard is there a way i can get support living on my own and get a car?</td>\n",
       "      <td>Aw man i spelled the title wrong - shoulda been “As a security guard is there a way i can support living on my own and get a car?”</td>\n",
       "      <td>dethmetalz69</td>\n",
       "      <td>9t4lg2</td>\n",
       "    </tr>\n",
       "    <tr>\n",
       "      <th>3489</th>\n",
       "      <td>Large amount of CC debt, P2P lending?</td>\n",
       "      <td>would prosper even approve me? i have the pre-approval offers but the apr is insane. 30-31% apr :(((((((((((</td>\n",
       "      <td>Public_Beautiful</td>\n",
       "      <td>9sslcp</td>\n",
       "    </tr>\n",
       "    <tr>\n",
       "      <th>3541</th>\n",
       "      <td>AITA for returning a bag full of valuables but keeping some of the money</td>\n",
       "      <td>Lots of great answers. I knew it was a shitty thing to do before I made the post, but brushed it aside as \"meh the guy seems rich enough maybe he won't even notice\". I now realize with the overwhe...</td>\n",
       "      <td>michel-michel-michel</td>\n",
       "      <td>9syt81</td>\n",
       "    </tr>\n",
       "    <tr>\n",
       "      <th>3605</th>\n",
       "      <td>How should I tell someone I was raped?</td>\n",
       "      <td>Thanks to everyone helping me out right now, I’m looking into talking to a therapist soon, but with the police part, I have no way to look into. I am unaware of who this person was, and seeing as ...</td>\n",
       "      <td>HDBeats</td>\n",
       "      <td>9sym49</td>\n",
       "    </tr>\n",
       "    <tr>\n",
       "      <th>3642</th>\n",
       "      <td>Can I trust my therapist? She persistently advises me to stop taking antidepressants and Instead see her more often, I made made it clear I don’t want to stop taking them a few times.</td>\n",
       "      <td>I get this, but it’s sort of about fire fighting right now. I got so low about a month ago that I wanted to hurt myself, i have always struggled with mental health but being that low has only happ...</td>\n",
       "      <td>palaisdemons</td>\n",
       "      <td>9t3qn2</td>\n",
       "    </tr>\n",
       "    <tr>\n",
       "      <th>4017</th>\n",
       "      <td>Pc won't display with gpu or onboard graphics</td>\n",
       "      <td>Thank you for your help guys. It was the PSU but not the PSU. Somehow the 6pin cable got friend but today I realized my PSU had two so I connected the other cable and it works now</td>\n",
       "      <td>xiaomismartphone</td>\n",
       "      <td>9skoyd</td>\n",
       "    </tr>\n",
       "    <tr>\n",
       "      <th>4018</th>\n",
       "      <td>Pc won't display with gpu or onboard graphics</td>\n",
       "      <td>I removed cmos battery and it booted once to a screen with error occurs cmos something post error but couldn't do anything cause my keyboard wasn't plugged and then it went black again. Can't repl...</td>\n",
       "      <td>xiaomismartphone</td>\n",
       "      <td>9skoyd</td>\n",
       "    </tr>\n",
       "    <tr>\n",
       "      <th>4019</th>\n",
       "      <td>Pc won't display with gpu or onboard graphics</td>\n",
       "      <td>I managed to get the onboard graphics working but even when I choose to use pci in init first display it doesn't output to GPU even when the fans are spinning, but if I plug the VGA to onboard it ...</td>\n",
       "      <td>xiaomismartphone</td>\n",
       "      <td>9skoyd</td>\n",
       "    </tr>\n",
       "    <tr>\n",
       "      <th>4106</th>\n",
       "      <td>AITA for asking my boyfriend’s parents to give us warning before coming over?</td>\n",
       "      <td>His dad also declined to take his shoes off when he entered the house because “when his son was a child he never took his shoes off in HIS house.” I know that’s unrelated but that’s some internal ...</td>\n",
       "      <td>samfletchxo</td>\n",
       "      <td>9o4i1z</td>\n",
       "    </tr>\n",
       "    <tr>\n",
       "      <th>4165</th>\n",
       "      <td>AITA for asking my boyfriend’s parents to give us warning before coming over?</td>\n",
       "      <td>Well, SO has just spoken to MIL sister on the phone asking what she thinks and her words are..\\n“An unexpected drop in is important to people and it’s totally fine, she’s your mother.”\\nShe was co...</td>\n",
       "      <td>samfletchxo</td>\n",
       "      <td>9o4i1z</td>\n",
       "    </tr>\n",
       "    <tr>\n",
       "      <th>4660</th>\n",
       "      <td>I need to make 8000 dollars in 8 months. I'm only 16 and I can't even drive yet in my state! PLEASE HELP ME!</td>\n",
       "      <td>I just wanted to do an update if anyone was wondering. IM GOING ON THE TRIP!! Turns out people are more generous than I thought, donations are flowing in from friends and family. I am also followi...</td>\n",
       "      <td>Kayla3422</td>\n",
       "      <td>9qleij</td>\n",
       "    </tr>\n",
       "    <tr>\n",
       "      <th>4842</th>\n",
       "      <td>What's better for credit score: Paying rent on credit card VS by check</td>\n",
       "      <td>I'm also wondering about the tip of using below 30% of your credit limit. Should I give this tip too much attention?</td>\n",
       "      <td>ExpensiveFalcon</td>\n",
       "      <td>9t5dwa</td>\n",
       "    </tr>\n",
       "    <tr>\n",
       "      <th>5576</th>\n",
       "      <td>AITA for being irritated by my inlaws who are choosing my unvaccinated niece over my vaccinated children?</td>\n",
       "      <td>I don’t want to be around them. My husband has a TBI (traumatic brain injury) that causes short term memory loss so we’re encouraged to maintain contact to help his memory.\\n\\nIf I had it my way w...</td>\n",
       "      <td>g628</td>\n",
       "      <td>9nu2ca</td>\n",
       "    </tr>\n",
       "    <tr>\n",
       "      <th>6014</th>\n",
       "      <td>External sound cards?</td>\n",
       "      <td>Also I game and occasionally do light web browsing (mostly movie or music streaming).</td>\n",
       "      <td>fourvalve</td>\n",
       "      <td>9t5pvq</td>\n",
       "    </tr>\n",
       "    <tr>\n",
       "      <th>7194</th>\n",
       "      <td>Cashed a 5k check from my brothers work and now my account is overdraft 5k</td>\n",
       "      <td>I cashed the check, 2 days later I checked my online banking app and I was negative $5k. So like most of you said the check was cancelled/returned. Except no one withdrew or spent $5k on my card, ...</td>\n",
       "      <td>CanIBallCanIChill</td>\n",
       "      <td>9snnf9</td>\n",
       "    </tr>\n",
       "    <tr>\n",
       "      <th>7417</th>\n",
       "      <td>Is avalanche really the fastest way to pay off debt?</td>\n",
       "      <td>Yes! My love just explained it to me this way: you’ve got $2000 to spend. If you pay off the entire $2000 loan at 5%, you don’t have to pay the $100 in interest. If you pay $2000 towards the $5000...</td>\n",
       "      <td>maybethereshumanity</td>\n",
       "      <td>9t66p8</td>\n",
       "    </tr>\n",
       "    <tr>\n",
       "      <th>7419</th>\n",
       "      <td>Is avalanche really the fastest way to pay off debt?</td>\n",
       "      <td>I just enjoy being obsessive about every cent of interest. The real difference is even smaller than that! It made me feel better to plan when I couldn’t make payments at all.</td>\n",
       "      <td>maybethereshumanity</td>\n",
       "      <td>9t66p8</td>\n",
       "    </tr>\n",
       "    <tr>\n",
       "      <th>7420</th>\n",
       "      <td>Is avalanche really the fastest way to pay off debt?</td>\n",
       "      <td>Thank you so much for your replies!!! Not to be dramatic, but this is some actual life changing information. I wish I’d asked sooner.</td>\n",
       "      <td>maybethereshumanity</td>\n",
       "      <td>9t66p8</td>\n",
       "    </tr>\n",
       "  </tbody>\n",
       "</table>\n",
       "</div>"
      ],
      "text/plain": [
       "                                                                                                                                                                                 parent_title  \\\n",
       "114                                                                                                                                                              Selling car to private party   \n",
       "3093                                                                                                                       Payroll Tax hike surprise, is this normal? Salary+bonus+commission   \n",
       "3349                                                                                                     As a security guard is there a way i can get support living on my own and get a car?   \n",
       "3489                                                                                                                                                    Large amount of CC debt, P2P lending?   \n",
       "3541                                                                                                                 AITA for returning a bag full of valuables but keeping some of the money   \n",
       "3605                                                                                                                                                   How should I tell someone I was raped?   \n",
       "3642  Can I trust my therapist? She persistently advises me to stop taking antidepressants and Instead see her more often, I made made it clear I don’t want to stop taking them a few times.   \n",
       "4017                                                                                                                                            Pc won't display with gpu or onboard graphics   \n",
       "4018                                                                                                                                            Pc won't display with gpu or onboard graphics   \n",
       "4019                                                                                                                                            Pc won't display with gpu or onboard graphics   \n",
       "4106                                                                                                            AITA for asking my boyfriend’s parents to give us warning before coming over?   \n",
       "4165                                                                                                            AITA for asking my boyfriend’s parents to give us warning before coming over?   \n",
       "4660                                                                             I need to make 8000 dollars in 8 months. I'm only 16 and I can't even drive yet in my state! PLEASE HELP ME!   \n",
       "4842                                                                                                                   What's better for credit score: Paying rent on credit card VS by check   \n",
       "5576                                                                                AITA for being irritated by my inlaws who are choosing my unvaccinated niece over my vaccinated children?   \n",
       "6014                                                                                                                                                                    External sound cards?   \n",
       "7194                                                                                                               Cashed a 5k check from my brothers work and now my account is overdraft 5k   \n",
       "7417                                                                                                                                     Is avalanche really the fastest way to pay off debt?   \n",
       "7419                                                                                                                                     Is avalanche really the fastest way to pay off debt?   \n",
       "7420                                                                                                                                     Is avalanche really the fastest way to pay off debt?   \n",
       "\n",
       "                                                                                                                                                                                                         body  \\\n",
       "114                                                                                                                                                                     Thanks all. I will keep this in mind.   \n",
       "3093  Thank you all for the quick replies. I didn’t realize that supplemental wages get taxed/withheld different than if I only made a base wage. \\n\\nI’m new to the whole commission game so I’m still ge...   \n",
       "3349                                                                       Aw man i spelled the title wrong - shoulda been “As a security guard is there a way i can support living on my own and get a car?”   \n",
       "3489                                                                                             would prosper even approve me? i have the pre-approval offers but the apr is insane. 30-31% apr :(((((((((((   \n",
       "3541  Lots of great answers. I knew it was a shitty thing to do before I made the post, but brushed it aside as \"meh the guy seems rich enough maybe he won't even notice\". I now realize with the overwhe...   \n",
       "3605  Thanks to everyone helping me out right now, I’m looking into talking to a therapist soon, but with the police part, I have no way to look into. I am unaware of who this person was, and seeing as ...   \n",
       "3642  I get this, but it’s sort of about fire fighting right now. I got so low about a month ago that I wanted to hurt myself, i have always struggled with mental health but being that low has only happ...   \n",
       "4017                      Thank you for your help guys. It was the PSU but not the PSU. Somehow the 6pin cable got friend but today I realized my PSU had two so I connected the other cable and it works now   \n",
       "4018  I removed cmos battery and it booted once to a screen with error occurs cmos something post error but couldn't do anything cause my keyboard wasn't plugged and then it went black again. Can't repl...   \n",
       "4019  I managed to get the onboard graphics working but even when I choose to use pci in init first display it doesn't output to GPU even when the fans are spinning, but if I plug the VGA to onboard it ...   \n",
       "4106  His dad also declined to take his shoes off when he entered the house because “when his son was a child he never took his shoes off in HIS house.” I know that’s unrelated but that’s some internal ...   \n",
       "4165  Well, SO has just spoken to MIL sister on the phone asking what she thinks and her words are..\\n“An unexpected drop in is important to people and it’s totally fine, she’s your mother.”\\nShe was co...   \n",
       "4660  I just wanted to do an update if anyone was wondering. IM GOING ON THE TRIP!! Turns out people are more generous than I thought, donations are flowing in from friends and family. I am also followi...   \n",
       "4842                                                                                     I'm also wondering about the tip of using below 30% of your credit limit. Should I give this tip too much attention?   \n",
       "5576  I don’t want to be around them. My husband has a TBI (traumatic brain injury) that causes short term memory loss so we’re encouraged to maintain contact to help his memory.\\n\\nIf I had it my way w...   \n",
       "6014                                                                                                                    Also I game and occasionally do light web browsing (mostly movie or music streaming).   \n",
       "7194  I cashed the check, 2 days later I checked my online banking app and I was negative $5k. So like most of you said the check was cancelled/returned. Except no one withdrew or spent $5k on my card, ...   \n",
       "7417  Yes! My love just explained it to me this way: you’ve got $2000 to spend. If you pay off the entire $2000 loan at 5%, you don’t have to pay the $100 in interest. If you pay $2000 towards the $5000...   \n",
       "7419                          I just enjoy being obsessive about every cent of interest. The real difference is even smaller than that! It made me feel better to plan when I couldn’t make payments at all.    \n",
       "7420                                                                   Thank you so much for your replies!!! Not to be dramatic, but this is some actual life changing information. I wish I’d asked sooner.    \n",
       "\n",
       "                    author parent_id  \n",
       "114             iptvfanboy    9t4d1p  \n",
       "3093          David_Warren    9t2y1p  \n",
       "3349          dethmetalz69    9t4lg2  \n",
       "3489      Public_Beautiful    9sslcp  \n",
       "3541  michel-michel-michel    9syt81  \n",
       "3605               HDBeats    9sym49  \n",
       "3642          palaisdemons    9t3qn2  \n",
       "4017      xiaomismartphone    9skoyd  \n",
       "4018      xiaomismartphone    9skoyd  \n",
       "4019      xiaomismartphone    9skoyd  \n",
       "4106           samfletchxo    9o4i1z  \n",
       "4165           samfletchxo    9o4i1z  \n",
       "4660             Kayla3422    9qleij  \n",
       "4842       ExpensiveFalcon    9t5dwa  \n",
       "5576                  g628    9nu2ca  \n",
       "6014             fourvalve    9t5pvq  \n",
       "7194     CanIBallCanIChill    9snnf9  \n",
       "7417   maybethereshumanity    9t66p8  \n",
       "7419   maybethereshumanity    9t66p8  \n",
       "7420   maybethereshumanity    9t66p8  "
      ]
     },
     "metadata": {},
     "output_type": "display_data"
    }
   ],
   "source": [
    "## which questions had at least one documented response from OP?\n",
    "pd.set_option('display.max_colwidth',200)\n",
    "post_author_response_comment_data = comment_submission_data[comment_submission_data.loc[:, 'parent_author']==comment_submission_data.loc[:, 'author']]\n",
    "display(post_author_response_comment_data.loc[:, ['parent_title', 'body', 'author', 'parent_id']].head(20))"
   ]
  },
  {
   "cell_type": "markdown",
   "metadata": {},
   "source": [
    "Based on the way this data was collected...it looks like the parent author replies are sent to the original post, not to the replies to the post.\n",
    "\n",
    "We will have to collect this data separately!"
   ]
  },
  {
   "cell_type": "code",
   "execution_count": 88,
   "metadata": {
    "scrolled": true
   },
   "outputs": [],
   "source": [
    "from praw import Reddit\n",
    "from psaw import PushshiftAPI\n",
    "from datetime import datetime\n",
    "import pandas as pd\n",
    "\n",
    "reddit_auth_data = pd.read_csv('../../data/auth_data/reddit_auth.csv', sep=',', index_col=False).iloc[0, :]\n",
    "\n",
    "client_id = reddit_auth_data.loc['client_id']\n",
    "client_secret = reddit_auth_data.loc['client_secret']\n",
    "user_agent = 'user_agent_123'\n",
    "reddit_api = Reddit(\n",
    "    client_id=client_id,\n",
    "    client_secret=client_secret,\n",
    "    user_agent=user_agent,\n",
    "    check_for_async=False,\n",
    ")\n",
    "\n",
    "pushshift_reddit_api = PushshiftAPI(reddit_api)"
   ]
  },
  {
   "cell_type": "markdown",
   "metadata": {},
   "source": [
    "1. Get sample of submissions from each subreddit w/ >1 question in comments\n",
    "2. Get replies to comments with questions\n",
    "3. Filter for replies from parent author"
   ]
  },
  {
   "cell_type": "code",
   "execution_count": 208,
   "metadata": {},
   "outputs": [],
   "source": [
    "import numpy as np\n",
    "np.random.seed(123)\n",
    "sample_comments_per_subreddit = 500\n",
    "post_author_response_sample_comment_data = []\n",
    "for subreddit_i, data_i in question_comment_data.groupby('subreddit'):\n",
    "    sample_data_i = data_i.loc[np.random.choice(data_i.index, sample_comments_per_subreddit, replace=False), :]\n",
    "    post_author_response_sample_comment_data.append(sample_data_i)\n",
    "post_author_response_sample_comment_data = pd.concat(post_author_response_sample_comment_data, axis=0)"
   ]
  },
  {
   "cell_type": "code",
   "execution_count": 209,
   "metadata": {
    "scrolled": true
   },
   "outputs": [
    {
     "data": {
      "text/html": [
       "<div>\n",
       "<style scoped>\n",
       "    .dataframe tbody tr th:only-of-type {\n",
       "        vertical-align: middle;\n",
       "    }\n",
       "\n",
       "    .dataframe tbody tr th {\n",
       "        vertical-align: top;\n",
       "    }\n",
       "\n",
       "    .dataframe thead th {\n",
       "        text-align: right;\n",
       "    }\n",
       "</style>\n",
       "<table border=\"1\" class=\"dataframe\">\n",
       "  <thead>\n",
       "    <tr style=\"text-align: right;\">\n",
       "      <th></th>\n",
       "      <th>author</th>\n",
       "      <th>author_flair_text</th>\n",
       "      <th>author_fullname</th>\n",
       "      <th>body</th>\n",
       "      <th>created_utc</th>\n",
       "      <th>edited</th>\n",
       "      <th>id</th>\n",
       "      <th>parent_id</th>\n",
       "      <th>score</th>\n",
       "      <th>subreddit</th>\n",
       "      <th>parent_created</th>\n",
       "      <th>parent_text</th>\n",
       "      <th>parent_title</th>\n",
       "      <th>parent_edited</th>\n",
       "      <th>parent_author</th>\n",
       "      <th>questions</th>\n",
       "      <th>question_occurs_post_initial</th>\n",
       "    </tr>\n",
       "  </thead>\n",
       "  <tbody>\n",
       "    <tr>\n",
       "      <th>1729334</th>\n",
       "      <td>TimBurtonsCockRing</td>\n",
       "      <td>None</td>\n",
       "      <td>t2_33frvciw</td>\n",
       "      <td>How is your sex life with your girlfriend? What aspect is there that she does not fulfill that makes you need to reach out to other girls? Can you two work on incorporating this into your sex life...</td>\n",
       "      <td>1558552840</td>\n",
       "      <td>False</td>\n",
       "      <td>eog8f0d</td>\n",
       "      <td>brst3k</td>\n",
       "      <td>1</td>\n",
       "      <td>Advice</td>\n",
       "      <td>1558552232</td>\n",
       "      <td>Over the past 13 years, since I was 15 (now 28) I've been overly active in online pornography videos. Ive been in a 3 year relationship since 2016 w/ my current GF &amp;amp; everything is perfect. Exc...</td>\n",
       "      <td>I've struggled w/ Porn/masturbation addiction. But today it really bit me in the ass...</td>\n",
       "      <td>1558552520</td>\n",
       "      <td>toastypeanut</td>\n",
       "      <td>[How is your sex life with your girlfriend?, What aspect is there that she does not fulfill that makes you need to reach out to other girls?, Can you two work on incorporating this into your sex l...</td>\n",
       "      <td>True</td>\n",
       "    </tr>\n",
       "    <tr>\n",
       "      <th>2989872</th>\n",
       "      <td>zesty_lemon45</td>\n",
       "      <td>None</td>\n",
       "      <td>t2_28xd3zsc</td>\n",
       "      <td>You do realise you have to pay the money back with interest?</td>\n",
       "      <td>1554971783</td>\n",
       "      <td>False</td>\n",
       "      <td>ekm57rk</td>\n",
       "      <td>bbxg0l</td>\n",
       "      <td>1</td>\n",
       "      <td>Advice</td>\n",
       "      <td>1554971682</td>\n",
       "      <td>I just turned 18 and I wanted to get a credit card so I can receive funds for work I do online. I under stand what savings accounts, checking accounts, etc. are. How do I get a credit card, what a...</td>\n",
       "      <td>Just turned 18 and want to get a credit card</td>\n",
       "      <td>False</td>\n",
       "      <td>Behnzo</td>\n",
       "      <td>[You do realise you have to pay the money back with interest?]</td>\n",
       "      <td>True</td>\n",
       "    </tr>\n",
       "    <tr>\n",
       "      <th>221964</th>\n",
       "      <td>weeffex</td>\n",
       "      <td>None</td>\n",
       "      <td>t2_xaxm4</td>\n",
       "      <td>https://imgur.com/gallery/mkpKEck\\n\\nThanks, my landlord drilled this hole before i got here so he knows of my plans. Can i use this without knowing much about these kinda setups and attach the li...</td>\n",
       "      <td>1539202911</td>\n",
       "      <td>False</td>\n",
       "      <td>e7j8upg</td>\n",
       "      <td>9n32n4</td>\n",
       "      <td>1</td>\n",
       "      <td>Advice</td>\n",
       "      <td>1539202500</td>\n",
       "      <td>Hi guys, i just moved out from my parents in to an old apartment and it had this old hanging light in the living room wich is way to low for my liking. Can anybody explain to me how to raise it cl...</td>\n",
       "      <td>I dont know how to raise my light closer to the ceiling...</td>\n",
       "      <td>False</td>\n",
       "      <td>weeffex</td>\n",
       "      <td>[Can i use this without knowing much about these kinda setups and attach the light to it?]</td>\n",
       "      <td>False</td>\n",
       "    </tr>\n",
       "    <tr>\n",
       "      <th>63513</th>\n",
       "      <td>towhileawaythehours</td>\n",
       "      <td>None</td>\n",
       "      <td>t2_2h1ntm0m</td>\n",
       "      <td>Id say do it man. Even if it’s just for the most basic reason: what if something happens to either of you while you’re gone? You’d regret it forever. Honestly, it sounds like she’s been a pain in ...</td>\n",
       "      <td>1541800691</td>\n",
       "      <td>False</td>\n",
       "      <td>e9dw788</td>\n",
       "      <td>9voki9</td>\n",
       "      <td>2</td>\n",
       "      <td>Advice</td>\n",
       "      <td>1541799605</td>\n",
       "      <td>To be simple I'm moving out of the country for a year or two, most of my family and some of friends will be coming to the airport to say goodbye. I'm going to hug everyone goodbye, but a big part ...</td>\n",
       "      <td>Should I hug my mother goodbye</td>\n",
       "      <td>False</td>\n",
       "      <td>kobedziuba</td>\n",
       "      <td>[Even if it’s just for the most basic reason: what if something happens to either of you while you’re gone?]</td>\n",
       "      <td>False</td>\n",
       "    </tr>\n",
       "    <tr>\n",
       "      <th>781765</th>\n",
       "      <td>spicklemehappy</td>\n",
       "      <td>None</td>\n",
       "      <td>NaN</td>\n",
       "      <td>Firstly, thank you for sharing your story. It takes a pretty big damn amount of bravery to recount something like that, especially to a bunch of, essentially, strangers. \\nSecondly, I know this mi...</td>\n",
       "      <td>1516192896</td>\n",
       "      <td>False</td>\n",
       "      <td>dst9odc</td>\n",
       "      <td>7r0jhd</td>\n",
       "      <td>5</td>\n",
       "      <td>Advice</td>\n",
       "      <td>1516190879</td>\n",
       "      <td>Being on holiday (from Australia to Europe) at the age of 22 is supposed to be a really cool thing. My journey started out in Saarbrücken near the border of France, which was really cool, because ...</td>\n",
       "      <td>It's taken me 13 years to write this (male sexual assault victim)</td>\n",
       "      <td>False</td>\n",
       "      <td>pigry123</td>\n",
       "      <td>[Is there any family/friends that you haven’t told that you feel like you should/want to?, How is your life going for you at the moment?, Job/study wise?, Relationships (romantic, family, friendsh...</td>\n",
       "      <td>False</td>\n",
       "    </tr>\n",
       "  </tbody>\n",
       "</table>\n",
       "</div>"
      ],
      "text/plain": [
       "                      author author_flair_text author_fullname  \\\n",
       "1729334   TimBurtonsCockRing              None     t2_33frvciw   \n",
       "2989872        zesty_lemon45              None     t2_28xd3zsc   \n",
       "221964               weeffex              None        t2_xaxm4   \n",
       "63513    towhileawaythehours              None     t2_2h1ntm0m   \n",
       "781765        spicklemehappy              None             NaN   \n",
       "\n",
       "                                                                                                                                                                                                            body  \\\n",
       "1729334  How is your sex life with your girlfriend? What aspect is there that she does not fulfill that makes you need to reach out to other girls? Can you two work on incorporating this into your sex life...   \n",
       "2989872                                                                                                                                             You do realise you have to pay the money back with interest?   \n",
       "221964   https://imgur.com/gallery/mkpKEck\\n\\nThanks, my landlord drilled this hole before i got here so he knows of my plans. Can i use this without knowing much about these kinda setups and attach the li...   \n",
       "63513    Id say do it man. Even if it’s just for the most basic reason: what if something happens to either of you while you’re gone? You’d regret it forever. Honestly, it sounds like she’s been a pain in ...   \n",
       "781765   Firstly, thank you for sharing your story. It takes a pretty big damn amount of bravery to recount something like that, especially to a bunch of, essentially, strangers. \\nSecondly, I know this mi...   \n",
       "\n",
       "         created_utc edited       id parent_id  score subreddit  \\\n",
       "1729334   1558552840  False  eog8f0d    brst3k      1    Advice   \n",
       "2989872   1554971783  False  ekm57rk    bbxg0l      1    Advice   \n",
       "221964    1539202911  False  e7j8upg    9n32n4      1    Advice   \n",
       "63513     1541800691  False  e9dw788    9voki9      2    Advice   \n",
       "781765    1516192896  False  dst9odc    7r0jhd      5    Advice   \n",
       "\n",
       "         parent_created  \\\n",
       "1729334      1558552232   \n",
       "2989872      1554971682   \n",
       "221964       1539202500   \n",
       "63513        1541799605   \n",
       "781765       1516190879   \n",
       "\n",
       "                                                                                                                                                                                                     parent_text  \\\n",
       "1729334  Over the past 13 years, since I was 15 (now 28) I've been overly active in online pornography videos. Ive been in a 3 year relationship since 2016 w/ my current GF &amp; everything is perfect. Exc...   \n",
       "2989872  I just turned 18 and I wanted to get a credit card so I can receive funds for work I do online. I under stand what savings accounts, checking accounts, etc. are. How do I get a credit card, what a...   \n",
       "221964   Hi guys, i just moved out from my parents in to an old apartment and it had this old hanging light in the living room wich is way to low for my liking. Can anybody explain to me how to raise it cl...   \n",
       "63513    To be simple I'm moving out of the country for a year or two, most of my family and some of friends will be coming to the airport to say goodbye. I'm going to hug everyone goodbye, but a big part ...   \n",
       "781765   Being on holiday (from Australia to Europe) at the age of 22 is supposed to be a really cool thing. My journey started out in Saarbrücken near the border of France, which was really cool, because ...   \n",
       "\n",
       "                                                                                    parent_title  \\\n",
       "1729334  I've struggled w/ Porn/masturbation addiction. But today it really bit me in the ass...   \n",
       "2989872                                             Just turned 18 and want to get a credit card   \n",
       "221964                                I dont know how to raise my light closer to the ceiling...   \n",
       "63513                                                             Should I hug my mother goodbye   \n",
       "781765                         It's taken me 13 years to write this (male sexual assault victim)   \n",
       "\n",
       "        parent_edited parent_author  \\\n",
       "1729334    1558552520  toastypeanut   \n",
       "2989872         False        Behnzo   \n",
       "221964          False       weeffex   \n",
       "63513           False    kobedziuba   \n",
       "781765          False      pigry123   \n",
       "\n",
       "                                                                                                                                                                                                       questions  \\\n",
       "1729334  [How is your sex life with your girlfriend?, What aspect is there that she does not fulfill that makes you need to reach out to other girls?, Can you two work on incorporating this into your sex l...   \n",
       "2989872                                                                                                                                           [You do realise you have to pay the money back with interest?]   \n",
       "221964                                                                                                                [Can i use this without knowing much about these kinda setups and attach the light to it?]   \n",
       "63513                                                                                               [Even if it’s just for the most basic reason: what if something happens to either of you while you’re gone?]   \n",
       "781765   [Is there any family/friends that you haven’t told that you feel like you should/want to?, How is your life going for you at the moment?, Job/study wise?, Relationships (romantic, family, friendsh...   \n",
       "\n",
       "         question_occurs_post_initial  \n",
       "1729334                          True  \n",
       "2989872                          True  \n",
       "221964                          False  \n",
       "63513                           False  \n",
       "781765                          False  "
      ]
     },
     "execution_count": 209,
     "metadata": {},
     "output_type": "execute_result"
    }
   ],
   "source": [
    "post_author_response_sample_comment_data.head()"
   ]
  },
  {
   "cell_type": "code",
   "execution_count": 215,
   "metadata": {},
   "outputs": [],
   "source": [
    "def extract_parent_author_replies(comment_id, parent_author, reddit_api, data_vars=['id', 'author', 'body', 'edited', 'created_utc']):\n",
    "    # get comment children, written by parent author\n",
    "    child_comments = reddit_api.search_comments(parent_id=comment_id)\n",
    "    parent_author_comments = list(filter(lambda x: x.author is not None and x.author.name==parent_author, child_comments))\n",
    "    # convert to usable format\n",
    "    parent_author_comment_data = pd.DataFrame(list(map(lambda x: x.__dict__, parent_author_comments)))\n",
    "    if(parent_author_comment_data.shape[0] > 0):\n",
    "        parent_author_comment_data = parent_author_comment_data.loc[:, data_vars]\n",
    "        ## add comment ID\n",
    "        parent_author_comment_data = parent_author_comment_data.assign(**{'comment_id' : comment_id})\n",
    "        # clean up\n",
    "        parent_author_comment_data = parent_author_comment_data.assign(**{'author' : parent_author_comment_data.loc[:, 'author'].apply(lambda x: x.name)})\n",
    "    return parent_author_comment_data"
   ]
  },
  {
   "cell_type": "code",
   "execution_count": 206,
   "metadata": {
    "scrolled": true
   },
   "outputs": [
    {
     "name": "stderr",
     "output_type": "stream",
     "text": [
      "/home/ianbstew/miniconda3/envs/py3/lib/python3.8/site-packages/psaw/PushshiftAPI.py:252: UserWarning: Not all PushShift shards are active. Query results may be incomplete\n",
      "  warnings.warn(shards_down_message)\n"
     ]
    },
    {
     "data": {
      "text/html": [
       "<div>\n",
       "<style scoped>\n",
       "    .dataframe tbody tr th:only-of-type {\n",
       "        vertical-align: middle;\n",
       "    }\n",
       "\n",
       "    .dataframe tbody tr th {\n",
       "        vertical-align: top;\n",
       "    }\n",
       "\n",
       "    .dataframe thead th {\n",
       "        text-align: right;\n",
       "    }\n",
       "</style>\n",
       "<table border=\"1\" class=\"dataframe\">\n",
       "  <thead>\n",
       "    <tr style=\"text-align: right;\">\n",
       "      <th></th>\n",
       "      <th>id</th>\n",
       "      <th>author</th>\n",
       "      <th>body</th>\n",
       "      <th>edited</th>\n",
       "      <th>created_utc</th>\n",
       "      <th>comment_id</th>\n",
       "    </tr>\n",
       "  </thead>\n",
       "  <tbody>\n",
       "    <tr>\n",
       "      <th>0</th>\n",
       "      <td>eogakfi</td>\n",
       "      <td>toastypeanut</td>\n",
       "      <td>Thank you for the response. Our sex life is wonderful. We have sex quite often before we go to bed. \\n\\nI get this feeling that with my age I'm becoming not as attractive anymore. Which is not tru...</td>\n",
       "      <td>False</td>\n",
       "      <td>1.558554e+09</td>\n",
       "      <td>eog8f0d</td>\n",
       "    </tr>\n",
       "  </tbody>\n",
       "</table>\n",
       "</div>"
      ],
      "text/plain": [
       "        id        author  \\\n",
       "0  eogakfi  toastypeanut   \n",
       "\n",
       "                                                                                                                                                                                                      body  \\\n",
       "0  Thank you for the response. Our sex life is wonderful. We have sex quite often before we go to bed. \\n\\nI get this feeling that with my age I'm becoming not as attractive anymore. Which is not tru...   \n",
       "\n",
       "   edited   created_utc comment_id  \n",
       "0   False  1.558554e+09    eog8f0d  "
      ]
     },
     "metadata": {},
     "output_type": "display_data"
    }
   ],
   "source": [
    "test_comment_id = 'eog8f0d'\n",
    "test_author = 'toastypeanut'\n",
    "test_comment_reply_data = extract_parent_author_replies(test_comment_id, test_author, pushshift_reddit_api)\n",
    "display(test_comment_reply_data)"
   ]
  },
  {
   "cell_type": "code",
   "execution_count": 216,
   "metadata": {
    "scrolled": true
   },
   "outputs": [
    {
     "name": "stderr",
     "output_type": "stream",
     "text": [
      "2500it [1:01:31,  1.48s/it]\n"
     ]
    }
   ],
   "source": [
    "## now do it for all the comments lol\n",
    "import tqdm\n",
    "parent_author_reply_data = []\n",
    "for idx_i, data_i in tqdm.tqdm(post_author_response_sample_comment_data.iterrows()):\n",
    "    comment_id_i = data_i.loc['id']\n",
    "    parent_author_i = data_i.loc['parent_author']\n",
    "    parent_author_reply_data_i = extract_parent_author_replies(comment_id_i, parent_author_i, pushshift_reddit_api)\n",
    "    if(parent_author_reply_data_i.shape[0] > 0):\n",
    "        parent_author_reply_data.append(parent_author_reply_data_i)\n",
    "parent_author_reply_data = pd.concat(parent_author_reply_data, axis=0)\n",
    "## fix column names\n",
    "parent_author_reply_data.rename(columns={'id' : 'reply_id'}, inplace=True)"
   ]
  },
  {
   "cell_type": "code",
   "execution_count": 229,
   "metadata": {
    "scrolled": true
   },
   "outputs": [
    {
     "name": "stdout",
     "output_type": "stream",
     "text": [
      "pcmasterrace       230\n",
      "personalfinance    193\n",
      "Advice             186\n",
      "legaladvice        144\n",
      "AmItheAsshole       72\n",
      "Name: subreddit, dtype: int64\n"
     ]
    }
   ],
   "source": [
    "## add subreddit\n",
    "if('subreddit' not in parent_author_reply_data.columns):\n",
    "    parent_author_reply_data = pd.merge(\n",
    "        parent_author_reply_data,\n",
    "        post_author_response_sample_comment_data.loc[:, ['id', 'subreddit']].rename(columns={'id' : 'comment_id'}),\n",
    "        on='comment_id', how='left',\n",
    "    )\n",
    "## add original comment data\n",
    "if('comment_body' not in parent_author_reply_data.columns):\n",
    "    parent_author_reply_data = pd.merge(\n",
    "        parent_author_reply_data,\n",
    "        post_author_response_sample_comment_data.loc[:, ['id', 'body']].rename(columns={'body':'comment_body', 'id' : 'comment_id'}),\n",
    "        on='comment_id'\n",
    "    )\n",
    "print(parent_author_reply_data.loc[:, 'subreddit'].value_counts())"
   ]
  },
  {
   "cell_type": "code",
   "execution_count": 248,
   "metadata": {},
   "outputs": [
    {
     "name": "stdout",
     "output_type": "stream",
     "text": [
      "825\n"
     ]
    }
   ],
   "source": [
    "print(parent_author_reply_data.shape[0])"
   ]
  },
  {
   "cell_type": "code",
   "execution_count": 251,
   "metadata": {},
   "outputs": [
    {
     "name": "stdout",
     "output_type": "stream",
     "text": [
      "909577/4371692 comments with >1 question\n"
     ]
    }
   ],
   "source": [
    "## how many of original comments contained at least one Q?\n",
    "print(f'{comment_data[comment_data.loc[:, \"questions\"].apply(lambda x: len(x) > 0)].shape[0]}/{comment_data.shape[0]} comments with >1 question')"
   ]
  },
  {
   "cell_type": "markdown",
   "metadata": {},
   "source": [
    "Using the original sample size, we can estimate that about 825/2500=33% of questions get a response from the author of the OP."
   ]
  },
  {
   "cell_type": "code",
   "execution_count": 226,
   "metadata": {},
   "outputs": [],
   "source": [
    "parent_author_reply_data = parent_author_reply_data.rename(columns={'id_x':'reply_id'}).drop('id_y', axis=1)"
   ]
  },
  {
   "cell_type": "code",
   "execution_count": 230,
   "metadata": {},
   "outputs": [
    {
     "data": {
      "text/html": [
       "<div>\n",
       "<style scoped>\n",
       "    .dataframe tbody tr th:only-of-type {\n",
       "        vertical-align: middle;\n",
       "    }\n",
       "\n",
       "    .dataframe tbody tr th {\n",
       "        vertical-align: top;\n",
       "    }\n",
       "\n",
       "    .dataframe thead th {\n",
       "        text-align: right;\n",
       "    }\n",
       "</style>\n",
       "<table border=\"1\" class=\"dataframe\">\n",
       "  <thead>\n",
       "    <tr style=\"text-align: right;\">\n",
       "      <th></th>\n",
       "      <th>reply_id</th>\n",
       "      <th>author</th>\n",
       "      <th>body</th>\n",
       "      <th>edited</th>\n",
       "      <th>created_utc</th>\n",
       "      <th>comment_id</th>\n",
       "      <th>subreddit</th>\n",
       "      <th>comment_body</th>\n",
       "    </tr>\n",
       "  </thead>\n",
       "  <tbody>\n",
       "    <tr>\n",
       "      <th>0</th>\n",
       "      <td>eogakfi</td>\n",
       "      <td>toastypeanut</td>\n",
       "      <td>Thank you for the response. Our sex life is wonderful. We have sex quite often before we go to bed. \\n\\nI get this feeling that with my age I'm becoming not as attractive anymore. Which is not tru...</td>\n",
       "      <td>False</td>\n",
       "      <td>1.558554e+09</td>\n",
       "      <td>eog8f0d</td>\n",
       "      <td>Advice</td>\n",
       "      <td>How is your sex life with your girlfriend? What aspect is there that she does not fulfill that makes you need to reach out to other girls? Can you two work on incorporating this into your sex life...</td>\n",
       "    </tr>\n",
       "    <tr>\n",
       "      <th>1</th>\n",
       "      <td>ekm5845</td>\n",
       "      <td>Behnzo</td>\n",
       "      <td>Yeah I’m not stupid</td>\n",
       "      <td>False</td>\n",
       "      <td>1.554972e+09</td>\n",
       "      <td>ekm57rk</td>\n",
       "      <td>Advice</td>\n",
       "      <td>You do realise you have to pay the money back with interest?</td>\n",
       "    </tr>\n",
       "    <tr>\n",
       "      <th>2</th>\n",
       "      <td>dtmban4</td>\n",
       "      <td>pigry123</td>\n",
       "      <td>Thank-you for your kind words... it's taken me a while just to respond to you.. in fact.. its taken me a while to do anything lately. But that's ok... i'm taking it all a day at a time.\\n\\nThe big...</td>\n",
       "      <td>False</td>\n",
       "      <td>1.517567e+09</td>\n",
       "      <td>dst9odc</td>\n",
       "      <td>Advice</td>\n",
       "      <td>Firstly, thank you for sharing your story. It takes a pretty big damn amount of bravery to recount something like that, especially to a bunch of, essentially, strangers. \\nSecondly, I know this mi...</td>\n",
       "    </tr>\n",
       "    <tr>\n",
       "      <th>3</th>\n",
       "      <td>ewpqet5</td>\n",
       "      <td>adumbcollegestudent3</td>\n",
       "      <td>lots of green vegetables and fruit and red meat and kind of mid level in carbs I guess and I eat around 1200 calories a day.</td>\n",
       "      <td>False</td>\n",
       "      <td>1.565647e+09</td>\n",
       "      <td>ewpq7s1</td>\n",
       "      <td>Advice</td>\n",
       "      <td>Maybe its related to something you are eating. What does your diet look like?</td>\n",
       "    </tr>\n",
       "    <tr>\n",
       "      <th>4</th>\n",
       "      <td>eml3zvo</td>\n",
       "      <td>yeeus11</td>\n",
       "      <td>We talk a ton and she responds really fast to me so i don't think there's other dudes</td>\n",
       "      <td>False</td>\n",
       "      <td>1.557090e+09</td>\n",
       "      <td>eml3u2k</td>\n",
       "      <td>Advice</td>\n",
       "      <td>Hard to tell. Is that all she does? She could be sending the same stuff to 100 other dudes. \\n\\nDo you spend time talking as well?</td>\n",
       "    </tr>\n",
       "  </tbody>\n",
       "</table>\n",
       "</div>"
      ],
      "text/plain": [
       "  reply_id                author  \\\n",
       "0  eogakfi          toastypeanut   \n",
       "1  ekm5845                Behnzo   \n",
       "2  dtmban4              pigry123   \n",
       "3  ewpqet5  adumbcollegestudent3   \n",
       "4  eml3zvo               yeeus11   \n",
       "\n",
       "                                                                                                                                                                                                      body  \\\n",
       "0  Thank you for the response. Our sex life is wonderful. We have sex quite often before we go to bed. \\n\\nI get this feeling that with my age I'm becoming not as attractive anymore. Which is not tru...   \n",
       "1                                                                                                                                                                                      Yeah I’m not stupid   \n",
       "2  Thank-you for your kind words... it's taken me a while just to respond to you.. in fact.. its taken me a while to do anything lately. But that's ok... i'm taking it all a day at a time.\\n\\nThe big...   \n",
       "3                                                                             lots of green vegetables and fruit and red meat and kind of mid level in carbs I guess and I eat around 1200 calories a day.   \n",
       "4                                                                                                                    We talk a ton and she responds really fast to me so i don't think there's other dudes   \n",
       "\n",
       "  edited   created_utc comment_id subreddit  \\\n",
       "0  False  1.558554e+09    eog8f0d    Advice   \n",
       "1  False  1.554972e+09    ekm57rk    Advice   \n",
       "2  False  1.517567e+09    dst9odc    Advice   \n",
       "3  False  1.565647e+09    ewpq7s1    Advice   \n",
       "4  False  1.557090e+09    eml3u2k    Advice   \n",
       "\n",
       "                                                                                                                                                                                              comment_body  \n",
       "0  How is your sex life with your girlfriend? What aspect is there that she does not fulfill that makes you need to reach out to other girls? Can you two work on incorporating this into your sex life...  \n",
       "1                                                                                                                                             You do realise you have to pay the money back with interest?  \n",
       "2  Firstly, thank you for sharing your story. It takes a pretty big damn amount of bravery to recount something like that, especially to a bunch of, essentially, strangers. \\nSecondly, I know this mi...  \n",
       "3                                                                                                                            Maybe its related to something you are eating. What does your diet look like?  \n",
       "4                                                                       Hard to tell. Is that all she does? She could be sending the same stuff to 100 other dudes. \\n\\nDo you spend time talking as well?  "
      ]
     },
     "execution_count": 230,
     "metadata": {},
     "output_type": "execute_result"
    }
   ],
   "source": [
    "parent_author_reply_data.head()"
   ]
  },
  {
   "cell_type": "markdown",
   "metadata": {},
   "source": [
    "It seems like most of the author responses are answers to the questions, so that's a good sign."
   ]
  },
  {
   "cell_type": "markdown",
   "metadata": {},
   "source": [
    "Let's get a sample of the questions that received at least one reply from the OP author, then annotate."
   ]
  },
  {
   "cell_type": "code",
   "execution_count": 234,
   "metadata": {
    "scrolled": true
   },
   "outputs": [
    {
     "data": {
      "text/html": [
       "<div>\n",
       "<style scoped>\n",
       "    .dataframe tbody tr th:only-of-type {\n",
       "        vertical-align: middle;\n",
       "    }\n",
       "\n",
       "    .dataframe tbody tr th {\n",
       "        vertical-align: top;\n",
       "    }\n",
       "\n",
       "    .dataframe thead th {\n",
       "        text-align: right;\n",
       "    }\n",
       "</style>\n",
       "<table border=\"1\" class=\"dataframe\">\n",
       "  <thead>\n",
       "    <tr style=\"text-align: right;\">\n",
       "      <th></th>\n",
       "      <th>author</th>\n",
       "      <th>author_flair_text</th>\n",
       "      <th>author_fullname</th>\n",
       "      <th>body</th>\n",
       "      <th>created_utc</th>\n",
       "      <th>edited</th>\n",
       "      <th>id</th>\n",
       "      <th>parent_id</th>\n",
       "      <th>score</th>\n",
       "      <th>subreddit</th>\n",
       "      <th>parent_created</th>\n",
       "      <th>parent_text</th>\n",
       "      <th>parent_title</th>\n",
       "      <th>parent_edited</th>\n",
       "      <th>parent_author</th>\n",
       "      <th>questions</th>\n",
       "      <th>question_occurs_post_initial</th>\n",
       "    </tr>\n",
       "  </thead>\n",
       "  <tbody>\n",
       "    <tr>\n",
       "      <th>1729334</th>\n",
       "      <td>TimBurtonsCockRing</td>\n",
       "      <td>None</td>\n",
       "      <td>t2_33frvciw</td>\n",
       "      <td>How is your sex life with your girlfriend? What aspect is there that she does not fulfill that makes you need to reach out to other girls? Can you two work on incorporating this into your sex life...</td>\n",
       "      <td>1558552840</td>\n",
       "      <td>False</td>\n",
       "      <td>eog8f0d</td>\n",
       "      <td>brst3k</td>\n",
       "      <td>1</td>\n",
       "      <td>Advice</td>\n",
       "      <td>1558552232</td>\n",
       "      <td>Over the past 13 years, since I was 15 (now 28) I've been overly active in online pornography videos. Ive been in a 3 year relationship since 2016 w/ my current GF &amp;amp; everything is perfect. Exc...</td>\n",
       "      <td>I've struggled w/ Porn/masturbation addiction. But today it really bit me in the ass...</td>\n",
       "      <td>1558552520</td>\n",
       "      <td>toastypeanut</td>\n",
       "      <td>[How is your sex life with your girlfriend?, What aspect is there that she does not fulfill that makes you need to reach out to other girls?, Can you two work on incorporating this into your sex l...</td>\n",
       "      <td>True</td>\n",
       "    </tr>\n",
       "    <tr>\n",
       "      <th>2989872</th>\n",
       "      <td>zesty_lemon45</td>\n",
       "      <td>None</td>\n",
       "      <td>t2_28xd3zsc</td>\n",
       "      <td>You do realise you have to pay the money back with interest?</td>\n",
       "      <td>1554971783</td>\n",
       "      <td>False</td>\n",
       "      <td>ekm57rk</td>\n",
       "      <td>bbxg0l</td>\n",
       "      <td>1</td>\n",
       "      <td>Advice</td>\n",
       "      <td>1554971682</td>\n",
       "      <td>I just turned 18 and I wanted to get a credit card so I can receive funds for work I do online. I under stand what savings accounts, checking accounts, etc. are. How do I get a credit card, what a...</td>\n",
       "      <td>Just turned 18 and want to get a credit card</td>\n",
       "      <td>False</td>\n",
       "      <td>Behnzo</td>\n",
       "      <td>[You do realise you have to pay the money back with interest?]</td>\n",
       "      <td>True</td>\n",
       "    </tr>\n",
       "    <tr>\n",
       "      <th>221964</th>\n",
       "      <td>weeffex</td>\n",
       "      <td>None</td>\n",
       "      <td>t2_xaxm4</td>\n",
       "      <td>https://imgur.com/gallery/mkpKEck\\n\\nThanks, my landlord drilled this hole before i got here so he knows of my plans. Can i use this without knowing much about these kinda setups and attach the li...</td>\n",
       "      <td>1539202911</td>\n",
       "      <td>False</td>\n",
       "      <td>e7j8upg</td>\n",
       "      <td>9n32n4</td>\n",
       "      <td>1</td>\n",
       "      <td>Advice</td>\n",
       "      <td>1539202500</td>\n",
       "      <td>Hi guys, i just moved out from my parents in to an old apartment and it had this old hanging light in the living room wich is way to low for my liking. Can anybody explain to me how to raise it cl...</td>\n",
       "      <td>I dont know how to raise my light closer to the ceiling...</td>\n",
       "      <td>False</td>\n",
       "      <td>weeffex</td>\n",
       "      <td>[Can i use this without knowing much about these kinda setups and attach the light to it?]</td>\n",
       "      <td>False</td>\n",
       "    </tr>\n",
       "    <tr>\n",
       "      <th>63513</th>\n",
       "      <td>towhileawaythehours</td>\n",
       "      <td>None</td>\n",
       "      <td>t2_2h1ntm0m</td>\n",
       "      <td>Id say do it man. Even if it’s just for the most basic reason: what if something happens to either of you while you’re gone? You’d regret it forever. Honestly, it sounds like she’s been a pain in ...</td>\n",
       "      <td>1541800691</td>\n",
       "      <td>False</td>\n",
       "      <td>e9dw788</td>\n",
       "      <td>9voki9</td>\n",
       "      <td>2</td>\n",
       "      <td>Advice</td>\n",
       "      <td>1541799605</td>\n",
       "      <td>To be simple I'm moving out of the country for a year or two, most of my family and some of friends will be coming to the airport to say goodbye. I'm going to hug everyone goodbye, but a big part ...</td>\n",
       "      <td>Should I hug my mother goodbye</td>\n",
       "      <td>False</td>\n",
       "      <td>kobedziuba</td>\n",
       "      <td>[Even if it’s just for the most basic reason: what if something happens to either of you while you’re gone?]</td>\n",
       "      <td>False</td>\n",
       "    </tr>\n",
       "    <tr>\n",
       "      <th>781765</th>\n",
       "      <td>spicklemehappy</td>\n",
       "      <td>None</td>\n",
       "      <td>NaN</td>\n",
       "      <td>Firstly, thank you for sharing your story. It takes a pretty big damn amount of bravery to recount something like that, especially to a bunch of, essentially, strangers. \\nSecondly, I know this mi...</td>\n",
       "      <td>1516192896</td>\n",
       "      <td>False</td>\n",
       "      <td>dst9odc</td>\n",
       "      <td>7r0jhd</td>\n",
       "      <td>5</td>\n",
       "      <td>Advice</td>\n",
       "      <td>1516190879</td>\n",
       "      <td>Being on holiday (from Australia to Europe) at the age of 22 is supposed to be a really cool thing. My journey started out in Saarbrücken near the border of France, which was really cool, because ...</td>\n",
       "      <td>It's taken me 13 years to write this (male sexual assault victim)</td>\n",
       "      <td>False</td>\n",
       "      <td>pigry123</td>\n",
       "      <td>[Is there any family/friends that you haven’t told that you feel like you should/want to?, How is your life going for you at the moment?, Job/study wise?, Relationships (romantic, family, friendsh...</td>\n",
       "      <td>False</td>\n",
       "    </tr>\n",
       "  </tbody>\n",
       "</table>\n",
       "</div>"
      ],
      "text/plain": [
       "                      author author_flair_text author_fullname  \\\n",
       "1729334   TimBurtonsCockRing              None     t2_33frvciw   \n",
       "2989872        zesty_lemon45              None     t2_28xd3zsc   \n",
       "221964               weeffex              None        t2_xaxm4   \n",
       "63513    towhileawaythehours              None     t2_2h1ntm0m   \n",
       "781765        spicklemehappy              None             NaN   \n",
       "\n",
       "                                                                                                                                                                                                            body  \\\n",
       "1729334  How is your sex life with your girlfriend? What aspect is there that she does not fulfill that makes you need to reach out to other girls? Can you two work on incorporating this into your sex life...   \n",
       "2989872                                                                                                                                             You do realise you have to pay the money back with interest?   \n",
       "221964   https://imgur.com/gallery/mkpKEck\\n\\nThanks, my landlord drilled this hole before i got here so he knows of my plans. Can i use this without knowing much about these kinda setups and attach the li...   \n",
       "63513    Id say do it man. Even if it’s just for the most basic reason: what if something happens to either of you while you’re gone? You’d regret it forever. Honestly, it sounds like she’s been a pain in ...   \n",
       "781765   Firstly, thank you for sharing your story. It takes a pretty big damn amount of bravery to recount something like that, especially to a bunch of, essentially, strangers. \\nSecondly, I know this mi...   \n",
       "\n",
       "         created_utc edited       id parent_id  score subreddit  \\\n",
       "1729334   1558552840  False  eog8f0d    brst3k      1    Advice   \n",
       "2989872   1554971783  False  ekm57rk    bbxg0l      1    Advice   \n",
       "221964    1539202911  False  e7j8upg    9n32n4      1    Advice   \n",
       "63513     1541800691  False  e9dw788    9voki9      2    Advice   \n",
       "781765    1516192896  False  dst9odc    7r0jhd      5    Advice   \n",
       "\n",
       "         parent_created  \\\n",
       "1729334      1558552232   \n",
       "2989872      1554971682   \n",
       "221964       1539202500   \n",
       "63513        1541799605   \n",
       "781765       1516190879   \n",
       "\n",
       "                                                                                                                                                                                                     parent_text  \\\n",
       "1729334  Over the past 13 years, since I was 15 (now 28) I've been overly active in online pornography videos. Ive been in a 3 year relationship since 2016 w/ my current GF &amp; everything is perfect. Exc...   \n",
       "2989872  I just turned 18 and I wanted to get a credit card so I can receive funds for work I do online. I under stand what savings accounts, checking accounts, etc. are. How do I get a credit card, what a...   \n",
       "221964   Hi guys, i just moved out from my parents in to an old apartment and it had this old hanging light in the living room wich is way to low for my liking. Can anybody explain to me how to raise it cl...   \n",
       "63513    To be simple I'm moving out of the country for a year or two, most of my family and some of friends will be coming to the airport to say goodbye. I'm going to hug everyone goodbye, but a big part ...   \n",
       "781765   Being on holiday (from Australia to Europe) at the age of 22 is supposed to be a really cool thing. My journey started out in Saarbrücken near the border of France, which was really cool, because ...   \n",
       "\n",
       "                                                                                    parent_title  \\\n",
       "1729334  I've struggled w/ Porn/masturbation addiction. But today it really bit me in the ass...   \n",
       "2989872                                             Just turned 18 and want to get a credit card   \n",
       "221964                                I dont know how to raise my light closer to the ceiling...   \n",
       "63513                                                             Should I hug my mother goodbye   \n",
       "781765                         It's taken me 13 years to write this (male sexual assault victim)   \n",
       "\n",
       "        parent_edited parent_author  \\\n",
       "1729334    1558552520  toastypeanut   \n",
       "2989872         False        Behnzo   \n",
       "221964          False       weeffex   \n",
       "63513           False    kobedziuba   \n",
       "781765          False      pigry123   \n",
       "\n",
       "                                                                                                                                                                                                       questions  \\\n",
       "1729334  [How is your sex life with your girlfriend?, What aspect is there that she does not fulfill that makes you need to reach out to other girls?, Can you two work on incorporating this into your sex l...   \n",
       "2989872                                                                                                                                           [You do realise you have to pay the money back with interest?]   \n",
       "221964                                                                                                                [Can i use this without knowing much about these kinda setups and attach the light to it?]   \n",
       "63513                                                                                               [Even if it’s just for the most basic reason: what if something happens to either of you while you’re gone?]   \n",
       "781765   [Is there any family/friends that you haven’t told that you feel like you should/want to?, How is your life going for you at the moment?, Job/study wise?, Relationships (romantic, family, friendsh...   \n",
       "\n",
       "         question_occurs_post_initial  \n",
       "1729334                          True  \n",
       "2989872                          True  \n",
       "221964                          False  \n",
       "63513                           False  \n",
       "781765                          False  "
      ]
     },
     "metadata": {},
     "output_type": "display_data"
    }
   ],
   "source": [
    "display(post_author_response_sample_comment_data.head())"
   ]
  },
  {
   "cell_type": "code",
   "execution_count": 237,
   "metadata": {
    "scrolled": true
   },
   "outputs": [
    {
     "name": "stdout",
     "output_type": "stream",
     "text": [
      "250\n"
     ]
    }
   ],
   "source": [
    "import numpy as np\n",
    "np.random.seed(123)\n",
    "sample_comments_per_subreddit = 50\n",
    "parent_author_reply_data_ids = parent_author_reply_data.loc[:, 'comment_id'].unique()\n",
    "parent_author_reply_sample_label_data = []\n",
    "for subreddit_i, data_i in post_author_response_sample_comment_data.groupby('subreddit'):\n",
    "    data_i = data_i[data_i.loc[:, 'id'].isin(parent_author_reply_data_ids)]\n",
    "    data_i = data_i.loc[np.random.choice(data_i.index, sample_comments_per_subreddit, replace=False), :]\n",
    "    # get first question\n",
    "    data_i = data_i.assign(**{'question': data_i.loc[:, 'questions'].apply(lambda x: x[0])})\n",
    "    data_i = data_i.loc[:, ['parent_id', 'id', 'parent_title', 'parent_text', 'body', 'question', 'subreddit']]\n",
    "    parent_author_reply_sample_label_data.append(data_i)\n",
    "parent_author_reply_sample_label_data = pd.concat(parent_author_reply_sample_label_data, axis=0)\n",
    "## write to file\n",
    "print(parent_author_reply_sample_label_data.shape[0])\n",
    "out_file = '../../data/reddit_data/sample_advice_subreddit_parent_reply_questions.tsv'\n",
    "parent_author_reply_sample_label_data.to_csv(out_file, sep='\\t', index=False)"
   ]
  },
  {
   "cell_type": "markdown",
   "metadata": {},
   "source": [
    "After labeling, let's look for agreement."
   ]
  },
  {
   "cell_type": "code",
   "execution_count": 239,
   "metadata": {},
   "outputs": [],
   "source": [
    "parent_author_reply_sample_label_data = pd.read_csv('../../data/reddit_data/sample_advice_subreddit_parent_reply_question_labels.tsv', sep='\\t', index_col=False)"
   ]
  },
  {
   "cell_type": "code",
   "execution_count": 242,
   "metadata": {},
   "outputs": [],
   "source": [
    "## add subreddit data\n",
    "parent_author_reply_sample_label_data = pd.merge(\n",
    "    parent_author_reply_sample_label_data,\n",
    "    post_author_response_sample_comment_data.loc[:, ['id', 'subreddit']],\n",
    "    on='id',\n",
    ")"
   ]
  },
  {
   "cell_type": "code",
   "execution_count": 244,
   "metadata": {
    "scrolled": true
   },
   "outputs": [
    {
     "name": "stdout",
     "output_type": "stream",
     "text": [
      "**** testing var question_is_relevant ****\n",
      "1    0.956\n",
      "0    0.044\n",
      "Name: question_is_relevant, dtype: float64\n",
      "**** testing var question_is_clarification ****\n",
      "1    0.684\n",
      "0    0.316\n",
      "Name: question_is_clarification, dtype: float64\n",
      "**** testing var post_contains_answer ****\n",
      "0    0.996\n",
      "1    0.004\n",
      "Name: post_contains_answer, dtype: float64\n",
      "**** testing var question_is_relevant ****\n",
      "---- testing subreddit Advice ----\n",
      "1    0.96\n",
      "0    0.04\n",
      "Name: question_is_relevant, dtype: float64\n",
      "---- testing subreddit AmItheAsshole ----\n",
      "1    0.98\n",
      "0    0.02\n",
      "Name: question_is_relevant, dtype: float64\n",
      "---- testing subreddit legaladvice ----\n",
      "1    0.94\n",
      "0    0.06\n",
      "Name: question_is_relevant, dtype: float64\n",
      "---- testing subreddit pcmasterrace ----\n",
      "1    0.98\n",
      "0    0.02\n",
      "Name: question_is_relevant, dtype: float64\n",
      "---- testing subreddit personalfinance ----\n",
      "1    0.92\n",
      "0    0.08\n",
      "Name: question_is_relevant, dtype: float64\n",
      "**** testing var question_is_clarification ****\n",
      "---- testing subreddit Advice ----\n",
      "1    0.68\n",
      "0    0.32\n",
      "Name: question_is_clarification, dtype: float64\n",
      "---- testing subreddit AmItheAsshole ----\n",
      "1    0.56\n",
      "0    0.44\n",
      "Name: question_is_clarification, dtype: float64\n",
      "---- testing subreddit legaladvice ----\n",
      "1    0.82\n",
      "0    0.18\n",
      "Name: question_is_clarification, dtype: float64\n",
      "---- testing subreddit pcmasterrace ----\n",
      "1    0.64\n",
      "0    0.36\n",
      "Name: question_is_clarification, dtype: float64\n",
      "---- testing subreddit personalfinance ----\n",
      "1    0.72\n",
      "0    0.28\n",
      "Name: question_is_clarification, dtype: float64\n",
      "**** testing var post_contains_answer ****\n",
      "---- testing subreddit Advice ----\n",
      "0    1.0\n",
      "Name: post_contains_answer, dtype: float64\n",
      "---- testing subreddit AmItheAsshole ----\n",
      "0    1.0\n",
      "Name: post_contains_answer, dtype: float64\n",
      "---- testing subreddit legaladvice ----\n",
      "0    1.0\n",
      "Name: post_contains_answer, dtype: float64\n",
      "---- testing subreddit pcmasterrace ----\n",
      "0    1.0\n",
      "Name: post_contains_answer, dtype: float64\n",
      "---- testing subreddit personalfinance ----\n",
      "0    0.98\n",
      "1    0.02\n",
      "Name: post_contains_answer, dtype: float64\n"
     ]
    }
   ],
   "source": [
    "## get overall label counts\n",
    "label_vars = ['question_is_relevant', 'question_is_clarification', 'post_contains_answer']\n",
    "N = parent_author_reply_sample_label_data.shape[0]\n",
    "for label_var_i in label_vars:\n",
    "    print(f'**** testing var {label_var_i} ****')\n",
    "    print(parent_author_reply_sample_label_data.loc[:, label_var_i].value_counts()/N)\n",
    "## get label counts per subreddit\n",
    "for label_var_i in label_vars:\n",
    "    print(f'**** testing var {label_var_i} ****')\n",
    "    for subreddit_j, data_j in parent_author_reply_sample_label_data.groupby('subreddit'):\n",
    "        print(f'---- testing subreddit {subreddit_j} ----')\n",
    "        print(data_j.loc[:, label_var_i].value_counts()/data_j.shape[0])"
   ]
  },
  {
   "cell_type": "markdown",
   "metadata": {},
   "source": [
    "Similar to what we saw before: most questions are relevant and not already answered by post. Only around 70% are actually clarification questions, which is due to domain differences (`AmItheAsshole` has rhetorical questions that the OP feels compelled to answer for some reason; `pcmasterrace` has questions related to AMAs that are not advice-seeking in the first place)."
   ]
  },
  {
   "cell_type": "code",
   "execution_count": 247,
   "metadata": {},
   "outputs": [
    {
     "name": "stdout",
     "output_type": "stream",
     "text": [
      "166/250 valid questions overall\n",
      "**** testing subreddit Advice ****\n",
      "34/50 valid questions overall\n",
      "**** testing subreddit AmItheAsshole ****\n",
      "28/50 valid questions overall\n",
      "**** testing subreddit legaladvice ****\n",
      "39/50 valid questions overall\n",
      "**** testing subreddit pcmasterrace ****\n",
      "32/50 valid questions overall\n",
      "**** testing subreddit personalfinance ****\n",
      "33/50 valid questions overall\n"
     ]
    }
   ],
   "source": [
    "valid_parent_author_reply_sample_label_data = parent_author_reply_sample_label_data[\n",
    "    (parent_author_reply_sample_label_data.loc[:, 'question_is_relevant']==1) &\n",
    "    (parent_author_reply_sample_label_data.loc[:, 'question_is_clarification']==1) &\n",
    "    (parent_author_reply_sample_label_data.loc[:, 'post_contains_answer']==0)\n",
    "]\n",
    "print(f'{valid_parent_author_reply_sample_label_data.shape[0]}/{parent_author_reply_sample_label_data.shape[0]} valid questions overall')\n",
    "for subreddit_i, data_i in parent_author_reply_sample_label_data.groupby('subreddit'):\n",
    "    print(f'**** testing subreddit {subreddit_i} ****')\n",
    "    valid_data_i = data_i[\n",
    "    (data_i.loc[:, 'question_is_relevant']==1) &\n",
    "    (data_i.loc[:, 'question_is_clarification']==1) &\n",
    "    (data_i.loc[:, 'post_contains_answer']==0)\n",
    "]\n",
    "    print(f'{valid_data_i.shape[0]}/{data_i.shape[0]} valid questions overall')"
   ]
  },
  {
   "cell_type": "markdown",
   "metadata": {},
   "source": [
    "Using all 3 criteria, we get around 66% validity. This would be slightly higher if we removed (1) quotations accidentally marked as questions; (2) posts that are not soliciting advice (e.g. AMAs)."
   ]
  },
  {
   "cell_type": "markdown",
   "metadata": {},
   "source": [
    "### Free text questions\n",
    "We just spent a while sampling questions under specific conditions, e.g. post-initial, post-only, with-response, etc. We need a baseline sample to compare them against, i.e. what is the overall proportion of valid questions across all comments?"
   ]
  },
  {
   "cell_type": "code",
   "execution_count": 10,
   "metadata": {
    "scrolled": true
   },
   "outputs": [
    {
     "data": {
      "text/html": [
       "<div>\n",
       "<style scoped>\n",
       "    .dataframe tbody tr th:only-of-type {\n",
       "        vertical-align: middle;\n",
       "    }\n",
       "\n",
       "    .dataframe tbody tr th {\n",
       "        vertical-align: top;\n",
       "    }\n",
       "\n",
       "    .dataframe thead th {\n",
       "        text-align: right;\n",
       "    }\n",
       "</style>\n",
       "<table border=\"1\" class=\"dataframe\">\n",
       "  <thead>\n",
       "    <tr style=\"text-align: right;\">\n",
       "      <th></th>\n",
       "      <th>author</th>\n",
       "      <th>author_flair_text</th>\n",
       "      <th>author_fullname</th>\n",
       "      <th>body</th>\n",
       "      <th>created_utc</th>\n",
       "      <th>edited</th>\n",
       "      <th>id</th>\n",
       "      <th>parent_id</th>\n",
       "      <th>score</th>\n",
       "      <th>subreddit</th>\n",
       "      <th>parent_created</th>\n",
       "      <th>parent_text</th>\n",
       "      <th>parent_title</th>\n",
       "      <th>parent_edited</th>\n",
       "      <th>parent_author</th>\n",
       "      <th>questions</th>\n",
       "      <th>question_occurs_post_initial</th>\n",
       "    </tr>\n",
       "  </thead>\n",
       "  <tbody>\n",
       "    <tr>\n",
       "      <th>0</th>\n",
       "      <td>grumpypantsoldman</td>\n",
       "      <td>NaN</td>\n",
       "      <td>t2_27ps6lxw</td>\n",
       "      <td>NTA. I think you dodged a bullet. Who needs a ...</td>\n",
       "      <td>1541030405</td>\n",
       "      <td>False</td>\n",
       "      <td>e8tkic1</td>\n",
       "      <td>9t3n27</td>\n",
       "      <td>14</td>\n",
       "      <td>AmItheAsshole</td>\n",
       "      <td>1541024836</td>\n",
       "      <td>TL;DR: Ran into ex. We organized to catch up. ...</td>\n",
       "      <td>AITA, for asking an ex girlfriend why she woul...</td>\n",
       "      <td>False</td>\n",
       "      <td>HashedGaming</td>\n",
       "      <td>[Who needs a crazy person in their lives?]</td>\n",
       "      <td>False</td>\n",
       "    </tr>\n",
       "    <tr>\n",
       "      <th>1</th>\n",
       "      <td>unknown_salmon</td>\n",
       "      <td>NaN</td>\n",
       "      <td>t2_q57txtp</td>\n",
       "      <td>I do feel for you. Do you think you could be b...</td>\n",
       "      <td>1541030426</td>\n",
       "      <td>False</td>\n",
       "      <td>e8tkj26</td>\n",
       "      <td>9t1u2e</td>\n",
       "      <td>2</td>\n",
       "      <td>Advice</td>\n",
       "      <td>1541012933</td>\n",
       "      <td>How do I deal with all these fake/fabricated p...</td>\n",
       "      <td>I've been struggling a lot lately and I need a...</td>\n",
       "      <td>False</td>\n",
       "      <td>mosorosso</td>\n",
       "      <td>[Do you think you could be bothered to have a ...</td>\n",
       "      <td>False</td>\n",
       "    </tr>\n",
       "    <tr>\n",
       "      <th>2</th>\n",
       "      <td>jon_lfl</td>\n",
       "      <td>NaN</td>\n",
       "      <td>t2_20q10ghp</td>\n",
       "      <td>I have not seen my insurance package for this ...</td>\n",
       "      <td>1541045930</td>\n",
       "      <td>False</td>\n",
       "      <td>e8tywqp</td>\n",
       "      <td>9t2e8e</td>\n",
       "      <td>1</td>\n",
       "      <td>personalfinance</td>\n",
       "      <td>1541016597</td>\n",
       "      <td>Just wanted to get a general feeling of what o...</td>\n",
       "      <td>General Benefits Discussion/2019 Open Enrollment</td>\n",
       "      <td>1541022607</td>\n",
       "      <td>Smearwashere</td>\n",
       "      <td>[Or are these insurance prices common practices?]</td>\n",
       "      <td>False</td>\n",
       "    </tr>\n",
       "    <tr>\n",
       "      <th>3</th>\n",
       "      <td>omicron7e</td>\n",
       "      <td>NaN</td>\n",
       "      <td>t2_3cx76</td>\n",
       "      <td>&amp;gt;matching industry trends\\n\\nEveryone else ...</td>\n",
       "      <td>1541073519</td>\n",
       "      <td>False</td>\n",
       "      <td>e8udnb2</td>\n",
       "      <td>9t2e8e</td>\n",
       "      <td>1</td>\n",
       "      <td>personalfinance</td>\n",
       "      <td>1541016597</td>\n",
       "      <td>Just wanted to get a general feeling of what o...</td>\n",
       "      <td>General Benefits Discussion/2019 Open Enrollment</td>\n",
       "      <td>1541022607</td>\n",
       "      <td>Smearwashere</td>\n",
       "      <td>[Why aren't we?]</td>\n",
       "      <td>False</td>\n",
       "    </tr>\n",
       "    <tr>\n",
       "      <th>4</th>\n",
       "      <td>JesyouJesmeJesus</td>\n",
       "      <td>NaN</td>\n",
       "      <td>t2_hhyv3</td>\n",
       "      <td>Could stick with my same high deductible plan,...</td>\n",
       "      <td>1541076018</td>\n",
       "      <td>False</td>\n",
       "      <td>e8ufm7h</td>\n",
       "      <td>9t2e8e</td>\n",
       "      <td>1</td>\n",
       "      <td>personalfinance</td>\n",
       "      <td>1541016597</td>\n",
       "      <td>Just wanted to get a general feeling of what o...</td>\n",
       "      <td>General Benefits Discussion/2019 Open Enrollment</td>\n",
       "      <td>1541022607</td>\n",
       "      <td>Smearwashere</td>\n",
       "      <td>[Is there a downside I’m not seeing with this ...</td>\n",
       "      <td>False</td>\n",
       "    </tr>\n",
       "  </tbody>\n",
       "</table>\n",
       "</div>"
      ],
      "text/plain": [
       "              author author_flair_text author_fullname  \\\n",
       "0  grumpypantsoldman               NaN     t2_27ps6lxw   \n",
       "1     unknown_salmon               NaN      t2_q57txtp   \n",
       "2            jon_lfl               NaN     t2_20q10ghp   \n",
       "3          omicron7e               NaN        t2_3cx76   \n",
       "4   JesyouJesmeJesus               NaN        t2_hhyv3   \n",
       "\n",
       "                                                body created_utc edited  \\\n",
       "0  NTA. I think you dodged a bullet. Who needs a ...  1541030405  False   \n",
       "1  I do feel for you. Do you think you could be b...  1541030426  False   \n",
       "2  I have not seen my insurance package for this ...  1541045930  False   \n",
       "3  &gt;matching industry trends\\n\\nEveryone else ...  1541073519  False   \n",
       "4  Could stick with my same high deductible plan,...  1541076018  False   \n",
       "\n",
       "        id parent_id score        subreddit parent_created  \\\n",
       "0  e8tkic1    9t3n27    14    AmItheAsshole     1541024836   \n",
       "1  e8tkj26    9t1u2e     2           Advice     1541012933   \n",
       "2  e8tywqp    9t2e8e     1  personalfinance     1541016597   \n",
       "3  e8udnb2    9t2e8e     1  personalfinance     1541016597   \n",
       "4  e8ufm7h    9t2e8e     1  personalfinance     1541016597   \n",
       "\n",
       "                                         parent_text  \\\n",
       "0  TL;DR: Ran into ex. We organized to catch up. ...   \n",
       "1  How do I deal with all these fake/fabricated p...   \n",
       "2  Just wanted to get a general feeling of what o...   \n",
       "3  Just wanted to get a general feeling of what o...   \n",
       "4  Just wanted to get a general feeling of what o...   \n",
       "\n",
       "                                        parent_title parent_edited  \\\n",
       "0  AITA, for asking an ex girlfriend why she woul...         False   \n",
       "1  I've been struggling a lot lately and I need a...         False   \n",
       "2   General Benefits Discussion/2019 Open Enrollment    1541022607   \n",
       "3   General Benefits Discussion/2019 Open Enrollment    1541022607   \n",
       "4   General Benefits Discussion/2019 Open Enrollment    1541022607   \n",
       "\n",
       "  parent_author                                          questions  \\\n",
       "0  HashedGaming         [Who needs a crazy person in their lives?]   \n",
       "1     mosorosso  [Do you think you could be bothered to have a ...   \n",
       "2  Smearwashere  [Or are these insurance prices common practices?]   \n",
       "3  Smearwashere                                   [Why aren't we?]   \n",
       "4  Smearwashere  [Is there a downside I’m not seeing with this ...   \n",
       "\n",
       "  question_occurs_post_initial  \n",
       "0                        False  \n",
       "1                        False  \n",
       "2                        False  \n",
       "3                        False  \n",
       "4                        False  "
      ]
     },
     "metadata": {},
     "output_type": "display_data"
    }
   ],
   "source": [
    "import pandas as pd\n",
    "from ast import literal_eval\n",
    "import numpy as np\n",
    "question_comment_data = pd.read_csv('../../data/reddit_data/advice_subreddit_question_data_for_validity_check.gz', sep='\\t', compression='gzip', index_col=False)\n",
    "question_comment_data.drop('Unnamed: 0', axis=1, inplace=True)\n",
    "question_comment_data = question_comment_data[~question_comment_data.loc[:, 'questions'].apply(lambda x: type(x) is float and np.isnan(x))]\n",
    "# convert question list\n",
    "question_comment_data = question_comment_data.assign(**{\n",
    "    'questions' : question_comment_data.loc[:, 'questions'].apply(literal_eval)\n",
    "})\n",
    "display(question_comment_data.head())"
   ]
  },
  {
   "cell_type": "code",
   "execution_count": 13,
   "metadata": {
    "scrolled": true
   },
   "outputs": [
    {
     "name": "stdout",
     "output_type": "stream",
     "text": [
      "851281/873188 valid questions\n"
     ]
    }
   ],
   "source": [
    "## remove quote questions\n",
    "import re\n",
    "quote_matcher = re.compile('&gt;[^\\n]+\\n')\n",
    "question_comment_data = question_comment_data.assign(**{\n",
    "    'questions' : question_comment_data.loc[:, 'questions'].apply(lambda x: list(filter(lambda y: quote_matcher.search(y) is None, x)))\n",
    "})\n",
    "question_comment_data = question_comment_data.assign(**{\n",
    "    'question' : question_comment_data.loc[:, 'questions'].apply(lambda x: x[0] if len(x) > 0 else '')\n",
    "})\n",
    "print(f'{question_comment_data[question_comment_data.loc[:, \"question\"]!=\"\"].shape[0]}/{question_comment_data.shape[0]} valid questions')"
   ]
  },
  {
   "cell_type": "code",
   "execution_count": 19,
   "metadata": {},
   "outputs": [],
   "source": [
    "clean_question_comment_data = question_comment_data[question_comment_data.loc[:, 'question']!='']\n",
    "clean_question_comment_data = clean_question_comment_data[clean_question_comment_data.loc[:, 'parent_author']!=clean_question_comment_data.loc[:, 'author']]"
   ]
  },
  {
   "cell_type": "code",
   "execution_count": 21,
   "metadata": {},
   "outputs": [
    {
     "name": "stdout",
     "output_type": "stream",
     "text": [
      "847059/873188 valid questions\n"
     ]
    }
   ],
   "source": [
    "print(f'{clean_question_comment_data.shape[0]}/{question_comment_data.shape[0]} valid questions')"
   ]
  },
  {
   "cell_type": "code",
   "execution_count": 22,
   "metadata": {},
   "outputs": [],
   "source": [
    "## sample questions per subreddit\n",
    "np.random.seed(123)\n",
    "sample_size_per_subreddit = 50\n",
    "sample_question_data = []\n",
    "for subreddit_i, data_i in clean_question_comment_data.groupby('subreddit'):\n",
    "    sample_data_i = data_i.loc[np.random.choice(data_i.index, sample_size_per_subreddit, replace=False), :]\n",
    "    sample_question_data.append(sample_data_i)\n",
    "sample_question_data = pd.concat(sample_question_data, axis=0)\n",
    "# fix columns\n",
    "sample_question_data = sample_question_data.loc[:, ['parent_id', 'id', 'parent_title', 'parent_text', 'body', 'question']]"
   ]
  },
  {
   "cell_type": "code",
   "execution_count": 23,
   "metadata": {},
   "outputs": [],
   "source": [
    "sample_question_data_file = '../../data/reddit_data/sample_advice_subreddit_no_filter_questions.tsv'\n",
    "sample_question_data.to_csv(sample_question_data_file, sep='\\t', index=False)"
   ]
  },
  {
   "cell_type": "markdown",
   "metadata": {},
   "source": [
    "After labeling, let's see the damages."
   ]
  },
  {
   "cell_type": "code",
   "execution_count": 30,
   "metadata": {},
   "outputs": [],
   "source": [
    "sample_label_question_data = pd.read_csv('../../data/reddit_data/sample_advice_subreddit_no_filter_question_labels.tsv', sep='\\t', index_col=False)"
   ]
  },
  {
   "cell_type": "code",
   "execution_count": 31,
   "metadata": {},
   "outputs": [],
   "source": [
    "## add subreddit, author info\n",
    "sample_label_question_data = pd.merge(\n",
    "    sample_label_question_data, clean_question_comment_data.loc[:, ['id', 'subreddit', 'author']],\n",
    "    on='id',\n",
    ")"
   ]
  },
  {
   "cell_type": "code",
   "execution_count": 33,
   "metadata": {},
   "outputs": [],
   "source": [
    "## remove bot questions\n",
    "bot_authors = ['LocationBot']\n",
    "sample_label_question_data = sample_label_question_data[~sample_label_question_data.loc[:, 'author'].isin(bot_authors)]"
   ]
  },
  {
   "cell_type": "code",
   "execution_count": 34,
   "metadata": {
    "scrolled": true
   },
   "outputs": [
    {
     "name": "stdout",
     "output_type": "stream",
     "text": [
      "**** testing var question_is_relevant ****\n",
      "1.0    0.838983\n",
      "0.0    0.156780\n",
      "Name: question_is_relevant, dtype: float64\n",
      "**** testing var question_is_clarification ****\n",
      "1.0    0.538136\n",
      "0.0    0.457627\n",
      "Name: question_is_clarification, dtype: float64\n",
      "**** testing var post_contains_answer ****\n",
      "0.0    0.953390\n",
      "1.0    0.042373\n",
      "Name: post_contains_answer, dtype: float64\n",
      "**** testing var question_is_relevant ****\n",
      "---- testing subreddit Advice ----\n",
      "1.0    0.82\n",
      "0.0    0.18\n",
      "Name: question_is_relevant, dtype: float64\n",
      "---- testing subreddit AmItheAsshole ----\n",
      "1.0    0.9\n",
      "0.0    0.1\n",
      "Name: question_is_relevant, dtype: float64\n",
      "---- testing subreddit legaladvice ----\n",
      "1.0    0.944444\n",
      "0.0    0.055556\n",
      "Name: question_is_relevant, dtype: float64\n",
      "---- testing subreddit pcmasterrace ----\n",
      "1.0    0.8\n",
      "0.0    0.2\n",
      "Name: question_is_relevant, dtype: float64\n",
      "---- testing subreddit personalfinance ----\n",
      "1.0    0.76\n",
      "0.0    0.22\n",
      "Name: question_is_relevant, dtype: float64\n",
      "**** testing var question_is_clarification ****\n",
      "---- testing subreddit Advice ----\n",
      "0.0    0.5\n",
      "1.0    0.5\n",
      "Name: question_is_clarification, dtype: float64\n",
      "---- testing subreddit AmItheAsshole ----\n",
      "0.0    0.66\n",
      "1.0    0.34\n",
      "Name: question_is_clarification, dtype: float64\n",
      "---- testing subreddit legaladvice ----\n",
      "1.0    0.75\n",
      "0.0    0.25\n",
      "Name: question_is_clarification, dtype: float64\n",
      "---- testing subreddit pcmasterrace ----\n",
      "1.0    0.54\n",
      "0.0    0.46\n",
      "Name: question_is_clarification, dtype: float64\n",
      "---- testing subreddit personalfinance ----\n",
      "1.0    0.62\n",
      "0.0    0.36\n",
      "Name: question_is_clarification, dtype: float64\n",
      "**** testing var post_contains_answer ****\n",
      "---- testing subreddit Advice ----\n",
      "0.0    1.0\n",
      "Name: post_contains_answer, dtype: float64\n",
      "---- testing subreddit AmItheAsshole ----\n",
      "0.0    0.94\n",
      "1.0    0.06\n",
      "Name: post_contains_answer, dtype: float64\n",
      "---- testing subreddit legaladvice ----\n",
      "0.0    0.944444\n",
      "1.0    0.055556\n",
      "Name: post_contains_answer, dtype: float64\n",
      "---- testing subreddit pcmasterrace ----\n",
      "0.0    0.94\n",
      "1.0    0.06\n",
      "Name: post_contains_answer, dtype: float64\n",
      "---- testing subreddit personalfinance ----\n",
      "0.0    0.94\n",
      "1.0    0.04\n",
      "Name: post_contains_answer, dtype: float64\n"
     ]
    }
   ],
   "source": [
    "## get overall label counts\n",
    "label_vars = ['question_is_relevant', 'question_is_clarification', 'post_contains_answer']\n",
    "N = sample_label_question_data.shape[0]\n",
    "for label_var_i in label_vars:\n",
    "    print(f'**** testing var {label_var_i} ****')\n",
    "    print(sample_label_question_data.loc[:, label_var_i].value_counts()/N)\n",
    "## get label counts per subreddit\n",
    "for label_var_i in label_vars:\n",
    "    print(f'**** testing var {label_var_i} ****')\n",
    "    for subreddit_j, data_j in sample_label_question_data.groupby('subreddit'):\n",
    "        print(f'---- testing subreddit {subreddit_j} ----')\n",
    "        print(data_j.loc[:, label_var_i].value_counts()/data_j.shape[0])"
   ]
  },
  {
   "cell_type": "markdown",
   "metadata": {},
   "source": [
    "It looks like we're getting significantly lower rates of \"relevant\" and \"clarification\"."
   ]
  },
  {
   "cell_type": "code",
   "execution_count": 35,
   "metadata": {
    "scrolled": true
   },
   "outputs": [
    {
     "name": "stdout",
     "output_type": "stream",
     "text": [
      "123/236 valid questions overall\n",
      "**** testing subreddit Advice ****\n",
      "25/50 valid questions overall\n",
      "**** testing subreddit AmItheAsshole ****\n",
      "16/50 valid questions overall\n",
      "**** testing subreddit legaladvice ****\n",
      "26/36 valid questions overall\n",
      "**** testing subreddit pcmasterrace ****\n",
      "27/50 valid questions overall\n",
      "**** testing subreddit personalfinance ****\n",
      "29/50 valid questions overall\n"
     ]
    }
   ],
   "source": [
    "## valid questions\n",
    "valid_sample_label_question_data = sample_label_question_data[\n",
    "    (sample_label_question_data.loc[:, 'question_is_relevant']==1) &\n",
    "    (sample_label_question_data.loc[:, 'question_is_clarification']==1) &\n",
    "    (sample_label_question_data.loc[:, 'post_contains_answer']==0)\n",
    "]\n",
    "print(f'{valid_sample_label_question_data.shape[0]}/{sample_label_question_data.shape[0]} valid questions overall')\n",
    "for subreddit_i, data_i in sample_label_question_data.groupby('subreddit'):\n",
    "    print(f'**** testing subreddit {subreddit_i} ****')\n",
    "    valid_data_i = data_i[\n",
    "    (data_i.loc[:, 'question_is_relevant']==1) &\n",
    "    (data_i.loc[:, 'question_is_clarification']==1) &\n",
    "    (data_i.loc[:, 'post_contains_answer']==0)\n",
    "]\n",
    "    print(f'{valid_data_i.shape[0]}/{data_i.shape[0]} valid questions overall')"
   ]
  },
  {
   "cell_type": "markdown",
   "metadata": {},
   "source": [
    "As expected, much lower rates of validity overall due to low rates of clarification questions."
   ]
  },
  {
   "cell_type": "markdown",
   "metadata": {},
   "source": [
    "### Identify valid questions automatically\n",
    "Let's use the combined annotated data to identify valid questions based on post similarity (after removing edits) and structure (based on question words)."
   ]
  },
  {
   "cell_type": "code",
   "execution_count": 1,
   "metadata": {},
   "outputs": [
    {
     "name": "stderr",
     "output_type": "stream",
     "text": [
      "/home/ianbstew/miniconda3/envs/py3/lib/python3.8/site-packages/IPython/core/interactiveshell.py:3155: DtypeWarning: Columns (0,5,9,11,17) have mixed types.Specify dtype option on import or set low_memory=False.\n",
      "  has_raised = await self.run_ast_nodes(code_ast.body, cell_name,\n"
     ]
    },
    {
     "data": {
      "text/html": [
       "<div>\n",
       "<style scoped>\n",
       "    .dataframe tbody tr th:only-of-type {\n",
       "        vertical-align: middle;\n",
       "    }\n",
       "\n",
       "    .dataframe tbody tr th {\n",
       "        vertical-align: top;\n",
       "    }\n",
       "\n",
       "    .dataframe thead th {\n",
       "        text-align: right;\n",
       "    }\n",
       "</style>\n",
       "<table border=\"1\" class=\"dataframe\">\n",
       "  <thead>\n",
       "    <tr style=\"text-align: right;\">\n",
       "      <th></th>\n",
       "      <th>author</th>\n",
       "      <th>author_flair_text</th>\n",
       "      <th>author_fullname</th>\n",
       "      <th>body</th>\n",
       "      <th>created_utc</th>\n",
       "      <th>edited</th>\n",
       "      <th>id</th>\n",
       "      <th>parent_id</th>\n",
       "      <th>score</th>\n",
       "      <th>subreddit</th>\n",
       "      <th>parent_created</th>\n",
       "      <th>parent_text</th>\n",
       "      <th>parent_title</th>\n",
       "      <th>parent_edited</th>\n",
       "      <th>parent_author</th>\n",
       "      <th>questions</th>\n",
       "      <th>question_occurs_post_initial</th>\n",
       "    </tr>\n",
       "  </thead>\n",
       "  <tbody>\n",
       "    <tr>\n",
       "      <th>0</th>\n",
       "      <td>grumpypantsoldman</td>\n",
       "      <td>NaN</td>\n",
       "      <td>t2_27ps6lxw</td>\n",
       "      <td>NTA. I think you dodged a bullet. Who needs a ...</td>\n",
       "      <td>1541030405</td>\n",
       "      <td>False</td>\n",
       "      <td>e8tkic1</td>\n",
       "      <td>9t3n27</td>\n",
       "      <td>14</td>\n",
       "      <td>AmItheAsshole</td>\n",
       "      <td>1541024836</td>\n",
       "      <td>TL;DR: Ran into ex. We organized to catch up. ...</td>\n",
       "      <td>AITA, for asking an ex girlfriend why she woul...</td>\n",
       "      <td>False</td>\n",
       "      <td>HashedGaming</td>\n",
       "      <td>[Who needs a crazy person in their lives?]</td>\n",
       "      <td>False</td>\n",
       "    </tr>\n",
       "    <tr>\n",
       "      <th>1</th>\n",
       "      <td>unknown_salmon</td>\n",
       "      <td>NaN</td>\n",
       "      <td>t2_q57txtp</td>\n",
       "      <td>I do feel for you. Do you think you could be b...</td>\n",
       "      <td>1541030426</td>\n",
       "      <td>False</td>\n",
       "      <td>e8tkj26</td>\n",
       "      <td>9t1u2e</td>\n",
       "      <td>2</td>\n",
       "      <td>Advice</td>\n",
       "      <td>1541012933</td>\n",
       "      <td>How do I deal with all these fake/fabricated p...</td>\n",
       "      <td>I've been struggling a lot lately and I need a...</td>\n",
       "      <td>False</td>\n",
       "      <td>mosorosso</td>\n",
       "      <td>[Do you think you could be bothered to have a ...</td>\n",
       "      <td>False</td>\n",
       "    </tr>\n",
       "    <tr>\n",
       "      <th>2</th>\n",
       "      <td>jon_lfl</td>\n",
       "      <td>NaN</td>\n",
       "      <td>t2_20q10ghp</td>\n",
       "      <td>I have not seen my insurance package for this ...</td>\n",
       "      <td>1541045930</td>\n",
       "      <td>False</td>\n",
       "      <td>e8tywqp</td>\n",
       "      <td>9t2e8e</td>\n",
       "      <td>1</td>\n",
       "      <td>personalfinance</td>\n",
       "      <td>1541016597</td>\n",
       "      <td>Just wanted to get a general feeling of what o...</td>\n",
       "      <td>General Benefits Discussion/2019 Open Enrollment</td>\n",
       "      <td>1541022607</td>\n",
       "      <td>Smearwashere</td>\n",
       "      <td>[Or are these insurance prices common practices?]</td>\n",
       "      <td>False</td>\n",
       "    </tr>\n",
       "    <tr>\n",
       "      <th>3</th>\n",
       "      <td>omicron7e</td>\n",
       "      <td>NaN</td>\n",
       "      <td>t2_3cx76</td>\n",
       "      <td>&amp;gt;matching industry trends\\n\\nEveryone else ...</td>\n",
       "      <td>1541073519</td>\n",
       "      <td>False</td>\n",
       "      <td>e8udnb2</td>\n",
       "      <td>9t2e8e</td>\n",
       "      <td>1</td>\n",
       "      <td>personalfinance</td>\n",
       "      <td>1541016597</td>\n",
       "      <td>Just wanted to get a general feeling of what o...</td>\n",
       "      <td>General Benefits Discussion/2019 Open Enrollment</td>\n",
       "      <td>1541022607</td>\n",
       "      <td>Smearwashere</td>\n",
       "      <td>[Why aren't we?]</td>\n",
       "      <td>False</td>\n",
       "    </tr>\n",
       "    <tr>\n",
       "      <th>4</th>\n",
       "      <td>JesyouJesmeJesus</td>\n",
       "      <td>NaN</td>\n",
       "      <td>t2_hhyv3</td>\n",
       "      <td>Could stick with my same high deductible plan,...</td>\n",
       "      <td>1541076018</td>\n",
       "      <td>False</td>\n",
       "      <td>e8ufm7h</td>\n",
       "      <td>9t2e8e</td>\n",
       "      <td>1</td>\n",
       "      <td>personalfinance</td>\n",
       "      <td>1541016597</td>\n",
       "      <td>Just wanted to get a general feeling of what o...</td>\n",
       "      <td>General Benefits Discussion/2019 Open Enrollment</td>\n",
       "      <td>1541022607</td>\n",
       "      <td>Smearwashere</td>\n",
       "      <td>[Is there a downside I’m not seeing with this ...</td>\n",
       "      <td>False</td>\n",
       "    </tr>\n",
       "  </tbody>\n",
       "</table>\n",
       "</div>"
      ],
      "text/plain": [
       "              author author_flair_text author_fullname  \\\n",
       "0  grumpypantsoldman               NaN     t2_27ps6lxw   \n",
       "1     unknown_salmon               NaN      t2_q57txtp   \n",
       "2            jon_lfl               NaN     t2_20q10ghp   \n",
       "3          omicron7e               NaN        t2_3cx76   \n",
       "4   JesyouJesmeJesus               NaN        t2_hhyv3   \n",
       "\n",
       "                                                body created_utc edited  \\\n",
       "0  NTA. I think you dodged a bullet. Who needs a ...  1541030405  False   \n",
       "1  I do feel for you. Do you think you could be b...  1541030426  False   \n",
       "2  I have not seen my insurance package for this ...  1541045930  False   \n",
       "3  &gt;matching industry trends\\n\\nEveryone else ...  1541073519  False   \n",
       "4  Could stick with my same high deductible plan,...  1541076018  False   \n",
       "\n",
       "        id parent_id score        subreddit parent_created  \\\n",
       "0  e8tkic1    9t3n27    14    AmItheAsshole     1541024836   \n",
       "1  e8tkj26    9t1u2e     2           Advice     1541012933   \n",
       "2  e8tywqp    9t2e8e     1  personalfinance     1541016597   \n",
       "3  e8udnb2    9t2e8e     1  personalfinance     1541016597   \n",
       "4  e8ufm7h    9t2e8e     1  personalfinance     1541016597   \n",
       "\n",
       "                                         parent_text  \\\n",
       "0  TL;DR: Ran into ex. We organized to catch up. ...   \n",
       "1  How do I deal with all these fake/fabricated p...   \n",
       "2  Just wanted to get a general feeling of what o...   \n",
       "3  Just wanted to get a general feeling of what o...   \n",
       "4  Just wanted to get a general feeling of what o...   \n",
       "\n",
       "                                        parent_title parent_edited  \\\n",
       "0  AITA, for asking an ex girlfriend why she woul...         False   \n",
       "1  I've been struggling a lot lately and I need a...         False   \n",
       "2   General Benefits Discussion/2019 Open Enrollment    1541022607   \n",
       "3   General Benefits Discussion/2019 Open Enrollment    1541022607   \n",
       "4   General Benefits Discussion/2019 Open Enrollment    1541022607   \n",
       "\n",
       "  parent_author                                          questions  \\\n",
       "0  HashedGaming         [Who needs a crazy person in their lives?]   \n",
       "1     mosorosso  [Do you think you could be bothered to have a ...   \n",
       "2  Smearwashere  [Or are these insurance prices common practices?]   \n",
       "3  Smearwashere                                   [Why aren't we?]   \n",
       "4  Smearwashere  [Is there a downside I’m not seeing with this ...   \n",
       "\n",
       "  question_occurs_post_initial  \n",
       "0                        False  \n",
       "1                        False  \n",
       "2                        False  \n",
       "3                        False  \n",
       "4                        False  "
      ]
     },
     "metadata": {},
     "output_type": "display_data"
    }
   ],
   "source": [
    "import pandas as pd\n",
    "from ast import literal_eval\n",
    "import numpy as np\n",
    "question_comment_data = pd.read_csv('../../data/reddit_data/advice_subreddit_question_data_for_validity_check.gz', sep='\\t', compression='gzip', index_col=False)\n",
    "question_comment_data.drop('Unnamed: 0', axis=1, inplace=True)\n",
    "question_comment_data = question_comment_data[~question_comment_data.loc[:, 'questions'].apply(lambda x: type(x) is float and np.isnan(x))]\n",
    "# convert question list\n",
    "question_comment_data = question_comment_data.assign(**{\n",
    "    'questions' : question_comment_data.loc[:, 'questions'].apply(literal_eval)\n",
    "})\n",
    "display(question_comment_data.head())"
   ]
  },
  {
   "cell_type": "code",
   "execution_count": 2,
   "metadata": {
    "scrolled": true
   },
   "outputs": [
    {
     "name": "stdout",
     "output_type": "stream",
     "text": [
      "<this is a test post\n",
      "Edit: this is an example edit\n",
      "this is the end of the post>\n",
      "<this is a test post\n",
      "this is the end of the post>\n"
     ]
    }
   ],
   "source": [
    "import re\n",
    "def remove_edit_data(text):\n",
    "    # remove edit data based on structure\n",
    "    # \"EDIT( #): ...\\n\"\n",
    "    edit_span = re.search('^edit( [0-9]+)?:[^\\n]+$|\\nedit( [0-9]+)?:[^\\n]+', text.lower())\n",
    "    if(edit_span is not None):\n",
    "        span_start, span_end = edit_span.span()\n",
    "        text = text[:span_start] + text[span_end:]\n",
    "    return text\n",
    "test_text = 'this is a test post\\nEdit: this is an example edit\\nthis is the end of the post'\n",
    "print(f'<{test_text}>')\n",
    "print(f'<{remove_edit_data(test_text)}>')"
   ]
  },
  {
   "cell_type": "markdown",
   "metadata": {},
   "source": [
    "Let's remove all edits and make sure we didn't completely destroy the post content."
   ]
  },
  {
   "cell_type": "code",
   "execution_count": 3,
   "metadata": {
    "scrolled": true
   },
   "outputs": [
    {
     "name": "stderr",
     "output_type": "stream",
     "text": [
      "100%|██████████| 873188/873188 [01:46<00:00, 8223.91it/s]\n"
     ]
    }
   ],
   "source": [
    "import tqdm\n",
    "tqdm.tqdm.pandas()\n",
    "question_comment_data = question_comment_data.assign(**{\n",
    "    'parent_text_no_edits' : question_comment_data.progress_apply(lambda x: remove_edit_data(x.loc['parent_text']) if x.loc['parent_edited'] else x.loc['parent_text'], axis=1)\n",
    "})"
   ]
  },
  {
   "cell_type": "code",
   "execution_count": 4,
   "metadata": {},
   "outputs": [
    {
     "data": {
      "text/html": [
       "<div>\n",
       "<style scoped>\n",
       "    .dataframe tbody tr th:only-of-type {\n",
       "        vertical-align: middle;\n",
       "    }\n",
       "\n",
       "    .dataframe tbody tr th {\n",
       "        vertical-align: top;\n",
       "    }\n",
       "\n",
       "    .dataframe thead th {\n",
       "        text-align: right;\n",
       "    }\n",
       "</style>\n",
       "<table border=\"1\" class=\"dataframe\">\n",
       "  <thead>\n",
       "    <tr style=\"text-align: right;\">\n",
       "      <th></th>\n",
       "      <th>parent_text</th>\n",
       "      <th>parent_text_no_edits</th>\n",
       "    </tr>\n",
       "  </thead>\n",
       "  <tbody>\n",
       "    <tr>\n",
       "      <th>14</th>\n",
       "      <td>I went to a 1930’s themed party with my fiancé. Her costume was “The Great Dust Bowl” - she wore a tattered dress and covered herself in dirt and carried around a bowl filled with dust. I was “The Great Depression” and wore my old pill bottles around my neck with my pajamas on and a comfy blanket over my shoulders. Everyone at the party thought it was great, especially since they were mostly friends of ours who know my history struggling with anxiety and depression and how amazing my beautiful fiancé has been through it all. We looked at my costume as a funny way to celebrate how much better i am doing (no longer on a ton of medication, am happy and healthier than ever). But when she posted a photo of us on her instagram she got some flak for “making a joke out of depression.” I believe that comedy = tragedy + time, but was wondering what you all think. Am i the asshole? \\n\\nedit: WIBTA if i send the instagram haters a  link to this post, haha</td>\n",
       "      <td>I went to a 1930’s themed party with my fiancé. Her costume was “The Great Dust Bowl” - she wore a tattered dress and covered herself in dirt and carried around a bowl filled with dust. I was “The Great Depression” and wore my old pill bottles around my neck with my pajamas on and a comfy blanket over my shoulders. Everyone at the party thought it was great, especially since they were mostly friends of ours who know my history struggling with anxiety and depression and how amazing my beautiful fiancé has been through it all. We looked at my costume as a funny way to celebrate how much better i am doing (no longer on a ton of medication, am happy and healthier than ever). But when she posted a photo of us on her instagram she got some flak for “making a joke out of depression.” I believe that comedy = tragedy + time, but was wondering what you all think. Am i the asshole? \\n</td>\n",
       "    </tr>\n",
       "    <tr>\n",
       "      <th>32</th>\n",
       "      <td>Hey guys, longtime lurker first time poster cos I’m not exactly sure where to go to fix this.\\n\\nbuy and sell a lot on Facebook marketplace. After buying and selling a lot ive become pretty trusting in the buyer/seller as I’ve never had any issues until now.\\n\\nI went about buying some Apple AirPods for $160 of this seller. I transferred the money to his bank account provided and sent through a screenshot of the receipt as usual. \\nUsually at this point the seller will post the item to me as that’s enough proof of transfer, but some don’t and want to see the money in their account before they post their item which is also fine. \\nAlthough, this guys claims he still hasn’t received my bank transfer 8 days later which is false.\\nI’ve tripled checked the bsb and account number I sent to and asked him to do the same that he provided me the right details. I’ve spoken to my bank and confirmed that the money has left my account and should be in his but he’s still denying he’s received anything.\\n\\nI’m wondering how I go about replying and attempting to recover my funds now. \\nDo I contact my police station? Do I call my banks fraud department?\\nI definitely won’t be as trusting on Facebook marketplace anymore.\\n\\nEDIT: I live in Australia</td>\n",
       "      <td>Hey guys, longtime lurker first time poster cos I’m not exactly sure where to go to fix this.\\n\\nbuy and sell a lot on Facebook marketplace. After buying and selling a lot ive become pretty trusting in the buyer/seller as I’ve never had any issues until now.\\n\\nI went about buying some Apple AirPods for $160 of this seller. I transferred the money to his bank account provided and sent through a screenshot of the receipt as usual. \\nUsually at this point the seller will post the item to me as that’s enough proof of transfer, but some don’t and want to see the money in their account before they post their item which is also fine. \\nAlthough, this guys claims he still hasn’t received my bank transfer 8 days later which is false.\\nI’ve tripled checked the bsb and account number I sent to and asked him to do the same that he provided me the right details. I’ve spoken to my bank and confirmed that the money has left my account and should be in his but he’s still denying he’s received anything.\\n\\nI’m wondering how I go about replying and attempting to recover my funds now. \\nDo I contact my police station? Do I call my banks fraud department?\\nI definitely won’t be as trusting on Facebook marketplace anymore.\\n</td>\n",
       "    </tr>\n",
       "    <tr>\n",
       "      <th>33</th>\n",
       "      <td>No.* \\n\\nBirthright citizenship comes from section 1 of the 14th amendment: \\n\\n&amp;gt; Section 1. **All persons born** or naturalized **in the United States, and subject to the jurisdiction thereof, are citizens of the United States and of the State wherein they reside**. No State shall make or enforce any law which shall abridge the privileges or immunities of citizens of the United States; nor shall any State deprive any person of life, liberty, or property, without due process of law; nor deny to any person within its jurisdiction the equal protection of the laws.\\n\\n*“But aren’t noncitizens not subject to the jurisdiction, and therefore this doesn’t apply to them?”*\\n\\nAlso no. The only people in America who aren’t subject to US jurisdiction are properly credentialed foreign diplomats. (edit: And in theory parents who were members of an occupying army who had their children in the US during the occupation).\\n\\n*“Can Trump amend the constitution to take this away?”*\\n\\nHe can try. But it requires 2/3 of both the House and Senate to vote in favor and then 3/4 of the states to ratify amendment. The moderators of legal advice, while not legislative experts, do not believe this is likely.\\n\\n*“So why did this come up now?”*\\n\\nProbably because there’s an election in a week. \\n\\nEDIT: *No serious academics or constitutional scholars take this position, however [there is debate](https://reason.com/volokh/2018/07/19/a-bad-argument-on-birthright-citizenship) on the far right wing of American politics that there is an alternative view to this argument. \\n\\nThe definitive case on this issue is [US v. Wong Kim Ark](https://en.wikipedia.org/wiki/United_States_v._Wong_Kim_Ark). Decided in 1898 it has been the law of the land for 120 years, barring a significant (and unexpected) narrowing of the ruling by the Supreme Court this is unlikely to change.</td>\n",
       "      <td>No.* \\n\\nBirthright citizenship comes from section 1 of the 14th amendment: \\n\\n&amp;gt; Section 1. **All persons born** or naturalized **in the United States, and subject to the jurisdiction thereof, are citizens of the United States and of the State wherein they reside**. No State shall make or enforce any law which shall abridge the privileges or immunities of citizens of the United States; nor shall any State deprive any person of life, liberty, or property, without due process of law; nor deny to any person within its jurisdiction the equal protection of the laws.\\n\\n*“But aren’t noncitizens not subject to the jurisdiction, and therefore this doesn’t apply to them?”*\\n\\nAlso no. The only people in America who aren’t subject to US jurisdiction are properly credentialed foreign diplomats. (edit: And in theory parents who were members of an occupying army who had their children in the US during the occupation).\\n\\n*“Can Trump amend the constitution to take this away?”*\\n\\nHe can try. But it requires 2/3 of both the House and Senate to vote in favor and then 3/4 of the states to ratify amendment. The moderators of legal advice, while not legislative experts, do not believe this is likely.\\n\\n*“So why did this come up now?”*\\n\\nProbably because there’s an election in a week. \\n\\n\\nThe definitive case on this issue is [US v. Wong Kim Ark](https://en.wikipedia.org/wiki/United_States_v._Wong_Kim_Ark). Decided in 1898 it has been the law of the land for 120 years, barring a significant (and unexpected) narrowing of the ruling by the Supreme Court this is unlikely to change.</td>\n",
       "    </tr>\n",
       "    <tr>\n",
       "      <th>64</th>\n",
       "      <td>Hello r/Legaladvice.\\n\\nPreface: I met a girl In a college class. We flirt for a few weeks, bring each other snacks, talk alot. The usual. Valentine's day rolls around I ask her if she want to skip class and go for a drive. We do, get lost, and have a fantastic evening. We begin dating but only really meet during or after class. Due to her family having a chokehold on her. Theres alot I can't say but they tried to marry her to a 40y/o guy in Mexico when she was 6. And she always seemed like she was justifying everything her family did. Anyway this goes on for several months. \\n\\nMy parents go out of town and we decided to spend the night together. At arround 4 am we wake up to her phone ringing. It is her mother and she is screaming so loudly that i can hear it on the other side of the room. She wants her back home now. We comply and i drive her back home. Arriving at her home there is a police car outside and i brace for the worst. I am left in my car for 2 hours while they talk to her and her family. At they end of it they say I'm under arrest for sexual assault against her daughter. At this point I'm pretty confused and the officer says he can't tell me any more as it is an active investigation. They drive me to the sheriffs department and impound my car. I'm handcuffed to a wall in an interrogation room and left there for nearly 6 hours. During this time i am told they are speaking to my girlfriend in private away from her family. At the end of the 6 hours a detective comes in and un handcuffed me from the wall. I tell him everything that happened. He leaves and I am left alone for another few hours. The detective comes back and escorts me to my car gives me my keys and tells me  my gf liked me very much and didn't want to get me in trouble. And she has gone back home. They tell me I'm free to go but they may be in contact. \\n\\nAt this point I'm more confused than anything. And am kinda upset about being chained to a wall for most of this time. And am feeling multiple conflicting emotions. Was there something wrong done here or am I just crazy?\\n\\nI've been in contact with her a few times since, but she is saying her family forbids her from seeing me. I just feel lost right now. \\n \\nThere is alot more to this story, but I'm on mobile rn so I can edit when I get back home.\\n\\nEdit: Detroit MI</td>\n",
       "      <td>Hello r/Legaladvice.\\n\\nPreface: I met a girl In a college class. We flirt for a few weeks, bring each other snacks, talk alot. The usual. Valentine's day rolls around I ask her if she want to skip class and go for a drive. We do, get lost, and have a fantastic evening. We begin dating but only really meet during or after class. Due to her family having a chokehold on her. Theres alot I can't say but they tried to marry her to a 40y/o guy in Mexico when she was 6. And she always seemed like she was justifying everything her family did. Anyway this goes on for several months. \\n\\nMy parents go out of town and we decided to spend the night together. At arround 4 am we wake up to her phone ringing. It is her mother and she is screaming so loudly that i can hear it on the other side of the room. She wants her back home now. We comply and i drive her back home. Arriving at her home there is a police car outside and i brace for the worst. I am left in my car for 2 hours while they talk to her and her family. At they end of it they say I'm under arrest for sexual assault against her daughter. At this point I'm pretty confused and the officer says he can't tell me any more as it is an active investigation. They drive me to the sheriffs department and impound my car. I'm handcuffed to a wall in an interrogation room and left there for nearly 6 hours. During this time i am told they are speaking to my girlfriend in private away from her family. At the end of the 6 hours a detective comes in and un handcuffed me from the wall. I tell him everything that happened. He leaves and I am left alone for another few hours. The detective comes back and escorts me to my car gives me my keys and tells me  my gf liked me very much and didn't want to get me in trouble. And she has gone back home. They tell me I'm free to go but they may be in contact. \\n\\nAt this point I'm more confused than anything. And am kinda upset about being chained to a wall for most of this time. And am feeling multiple conflicting emotions. Was there something wrong done here or am I just crazy?\\n\\nI've been in contact with her a few times since, but she is saying her family forbids her from seeing me. I just feel lost right now. \\n \\nThere is alot more to this story, but I'm on mobile rn so I can edit when I get back home.\\n</td>\n",
       "    </tr>\n",
       "    <tr>\n",
       "      <th>66</th>\n",
       "      <td>This all started a few months a ago when my 4th period got a student from a different school. This new student says he has a mental condition( idk didn't really pay attention to that kind of stuff), but it really doesn't matter to me. So, all was going well for a couple of weeks until I started seeing him doing other devilish stuff around other people like snitching on people(claims its on accident), taking people stuff saying he didn't know, and just at random screaming like a banshee  at people for smacking or even just tapping their feet. People have been telling me he has a condition so they take up it up the ass and I don't really agree with that so i ry to stay clear of that person when possible.\\n\\n   So all was going well until I'm in the library about to go too class About to pick up my bag until I realise the new guy place his stuff around mines he was about to go as well so I just grab my bag and just trying to get out there. Then this the new guy grabbed my bag saying that is hes bad( granted our bag look the same but there is clear difference my bag has a medium size tear and hes doesnt). So Im telling him \"Look dude this has a huge tear I know yours doesn't now let go of my stuff.\", he told me to open it up I refused  then he started screaming trying to take my bad with him. So at this point I had enough of this bs and decided to punch him making him land right on his back. He started screaming and crying like like a little demon until teacher broke us up,   settled the situation and made us both open the bags too see if who was right(I was right).  Then the teacher asked who punch first the lil demon said I punched first it was true, but I did it becuase he was trying to steal my stuff. Short story after the teachers said  he has a mental condition and I should be more patience and more empathic. In my head I said fuck that this demon need  deserve what's coming to him. Now some people saying Im a jerk for doing that am I  jerk for standing up.\\n\\n\\n\\nEdit: I have been listening to others opinions and thoughts. I have come with my educated opinion that Iwas wrong and will try to day sorry and ask for forgiveness</td>\n",
       "      <td>This all started a few months a ago when my 4th period got a student from a different school. This new student says he has a mental condition( idk didn't really pay attention to that kind of stuff), but it really doesn't matter to me. So, all was going well for a couple of weeks until I started seeing him doing other devilish stuff around other people like snitching on people(claims its on accident), taking people stuff saying he didn't know, and just at random screaming like a banshee  at people for smacking or even just tapping their feet. People have been telling me he has a condition so they take up it up the ass and I don't really agree with that so i ry to stay clear of that person when possible.\\n\\n   So all was going well until I'm in the library about to go too class About to pick up my bag until I realise the new guy place his stuff around mines he was about to go as well so I just grab my bag and just trying to get out there. Then this the new guy grabbed my bag saying that is hes bad( granted our bag look the same but there is clear difference my bag has a medium size tear and hes doesnt). So Im telling him \"Look dude this has a huge tear I know yours doesn't now let go of my stuff.\", he told me to open it up I refused  then he started screaming trying to take my bad with him. So at this point I had enough of this bs and decided to punch him making him land right on his back. He started screaming and crying like like a little demon until teacher broke us up,   settled the situation and made us both open the bags too see if who was right(I was right).  Then the teacher asked who punch first the lil demon said I punched first it was true, but I did it becuase he was trying to steal my stuff. Short story after the teachers said  he has a mental condition and I should be more patience and more empathic. In my head I said fuck that this demon need  deserve what's coming to him. Now some people saying Im a jerk for doing that am I  jerk for standing up.\\n\\n\\n</td>\n",
       "    </tr>\n",
       "    <tr>\n",
       "      <th>85</th>\n",
       "      <td>My company has a 401k match. I noticed a few weeks ago that the match had not been applied the entire year (shame on me for not checking sooner). I asked the benefits team and I got an odd response. they say that because I started in 2017, the 2018 401k policy does not apply to me and that I must follow the 2017 401k standards and wait one year before getting the company match . The 2018 401k policy states that all employees get a company match immediately and that if you were hired prior to 2018 it is fully vested, otherwise it will take two years to vest. The issue that I have is that I was not eligible to start my 401k until 1/1/2018 AND the 2018 policy does not have any stipulation on eligibility other than you must be 21 and a full time employee, which I am. What options do I have here?\\n\\n&amp;amp;#x200B;\\n\\nTo add some more info:\\n\\n&amp;amp;#x200B;\\n\\nThis is from the plan documentation overview-\"The  purpose  of  the  plan  is  to  enable  eligible  Employees  to  save  for  retirement.  As  well  as  retirement  benefits,  the  plan provides certain benefits in the event of death, disability, or other termination of employment.  The Plan is for the exclusive benefit of eligible Employees and their Beneficiaries.\"\\n\\nAnd this is from the plan documentation around eligibility-\\n\\n\"A.Eligibility RequirementsYou are eligible to participate in the Plan if you are an Employee.However, you are not eligible to participate if you are:•a resident of Puerto Rico\\n\\na leased Employee\\n\\n•Temporary Employees  However, if you are in the group(s) listed below, you shall become eligible to participate in\\n\\nthe  plan  on  the  first  entry  date  after  you  have  reached  age  21  and  have  completed  at  least  1,000  Hours of Service\\n\\nduring an Eligibility Computation Period:\\n\\n•Temporary Employees\\n\\nYou are also not eligible to participate if you are an individual who is a signatory to a contract, letter of agreement, or other document that acknowledges your status as an independent contractor not entitled to benefits under the Plan and you are not otherwise classified by the Employer as a common law employee or the Employer does not withhold income taxes, file Form W-2 (or any replacement form), or remit Social Security payments to the Federal government for you, even if you are later adjudicated to be a common law employee.\\n\\nYou will become eligible to participate in the Plan according to the table below:\\n\\n........\\n\\nEmployer Matching contributions-\\...</td>\n",
       "      <td>My company has a 401k match. I noticed a few weeks ago that the match had not been applied the entire year (shame on me for not checking sooner). I asked the benefits team and I got an odd response. they say that because I started in 2017, the 2018 401k policy does not apply to me and that I must follow the 2017 401k standards and wait one year before getting the company match . The 2018 401k policy states that all employees get a company match immediately and that if you were hired prior to 2018 it is fully vested, otherwise it will take two years to vest. The issue that I have is that I was not eligible to start my 401k until 1/1/2018 AND the 2018 policy does not have any stipulation on eligibility other than you must be 21 and a full time employee, which I am. What options do I have here?\\n\\n&amp;amp;#x200B;\\n\\nTo add some more info:\\n\\n&amp;amp;#x200B;\\n\\nThis is from the plan documentation overview-\"The  purpose  of  the  plan  is  to  enable  eligible  Employees  to  save  for  retirement.  As  well  as  retirement  benefits,  the  plan provides certain benefits in the event of death, disability, or other termination of employment.  The Plan is for the exclusive benefit of eligible Employees and their Beneficiaries.\"\\n\\nAnd this is from the plan documentation around eligibility-\\n\\n\"A.Eligibility RequirementsYou are eligible to participate in the Plan if you are an Employee.However, you are not eligible to participate if you are:•a resident of Puerto Rico\\n\\na leased Employee\\n\\n•Temporary Employees  However, if you are in the group(s) listed below, you shall become eligible to participate in\\n\\nthe  plan  on  the  first  entry  date  after  you  have  reached  age  21  and  have  completed  at  least  1,000  Hours of Service\\n\\nduring an Eligibility Computation Period:\\n\\n•Temporary Employees\\n\\nYou are also not eligible to participate if you are an individual who is a signatory to a contract, letter of agreement, or other document that acknowledges your status as an independent contractor not entitled to benefits under the Plan and you are not otherwise classified by the Employer as a common law employee or the Employer does not withhold income taxes, file Form W-2 (or any replacement form), or remit Social Security payments to the Federal government for you, even if you are later adjudicated to be a common law employee.\\n\\nYou will become eligible to participate in the Plan according to the table below:\\n\\n........\\n\\nEmployer Matching contributions-\\...</td>\n",
       "    </tr>\n",
       "    <tr>\n",
       "      <th>101</th>\n",
       "      <td>Location: TN\\nPS: I'm a 15 y/o so I'm not that smart.\\n\\nMy mom was randomly taken in for a drug search near a rehab because she was with a \"suspicious person\" for whatever reason. She passed it but was still detained and taken to jail. She has yet to go before the judge, but she's been locked up for around 120 days because they keep moving her court date everytime it comes close. I don't have that much information because this is all I can get from phone calls she's occasionally allowed to have. I can try to press for more info but I doubt I'll get anything. She's taken multiple drug tests and has passed every single one. How long can they keep her like this?\\n\\nNotes:\\nMom DOES smoke and has smoked, even before I was born.\\n\\nI don't know who \"suspicious person\" is and neither does she.\\n\\nMom had a previous history of drugs (hell, I was an accidental child because of them) but she's been clean for a year and has visited rehab often.\\n\\nEDIT: She was on probation at one point, but isn't anymore, if that helps. She was arrested once for violation of probation.</td>\n",
       "      <td>Location: TN\\nPS: I'm a 15 y/o so I'm not that smart.\\n\\nMy mom was randomly taken in for a drug search near a rehab because she was with a \"suspicious person\" for whatever reason. She passed it but was still detained and taken to jail. She has yet to go before the judge, but she's been locked up for around 120 days because they keep moving her court date everytime it comes close. I don't have that much information because this is all I can get from phone calls she's occasionally allowed to have. I can try to press for more info but I doubt I'll get anything. She's taken multiple drug tests and has passed every single one. How long can they keep her like this?\\n\\nNotes:\\nMom DOES smoke and has smoked, even before I was born.\\n\\nI don't know who \"suspicious person\" is and neither does she.\\n\\nMom had a previous history of drugs (hell, I was an accidental child because of them) but she's been clean for a year and has visited rehab often.\\n</td>\n",
       "    </tr>\n",
       "    <tr>\n",
       "      <th>111</th>\n",
       "      <td>I was in a debate class and we were talking about derogatory terms.(nigga,spik,kike,zipperhead). I was dropping spik and no one cared because I was discussing it in a debating context. They did not care of when I said spik. But when I said \"nigga\" they reacted heavily. They continued on saying that I can not use that language, I was confused because i dropped spik just seconds earlier(their were black people there) After class they said that I offended some people and I should not use that language. I wanted to go call them out on the double standard but in order to stay in good standing I just apologized and moved on. AITA  \\n\\n\\nEdit: if people want to know I’m Latino :/</td>\n",
       "      <td>I was in a debate class and we were talking about derogatory terms.(nigga,spik,kike,zipperhead). I was dropping spik and no one cared because I was discussing it in a debating context. They did not care of when I said spik. But when I said \"nigga\" they reacted heavily. They continued on saying that I can not use that language, I was confused because i dropped spik just seconds earlier(their were black people there) After class they said that I offended some people and I should not use that language. I wanted to go call them out on the double standard but in order to stay in good standing I just apologized and moved on. AITA  \\n\\n</td>\n",
       "    </tr>\n",
       "    <tr>\n",
       "      <th>374</th>\n",
       "      <td>I'm not unrealistic about my looks, I know I'm not a supermodel.  However I am in very good shape and I have a pretty face.  I used to be much more rigorous about working out, which has gone way down since I started my career. But I still stay in great shape and am slim.  BF is an extremely athletic guy, but I don't think he's more physically attractive than I am, just more fit.\\n\\nWe were drinking about a month ago, and I jokingly got him to rate me. I wasn't expecting him to say 8/10, but it kind of shocked me, as all my previous boyfriends have spoken to me as though I was the most beautiful woman and called me 10/10. It made me feel unique and wanted and it just felt good to hear that. In comparison, it hurt to learn that my current bf doesn't feel that way.\\n\\nI stewed on it for a month, then last night I decided not to bottle up my feelings anymore and told him how I felt when I first heard it. He again confirmed that he thinks I am 8/10 in the looks category, but that I \"make up for it by being 12/10 everywhere else.\"  I really didn't know what to make of that. I have just opened up to him explaining it hurts me and he just confirms what he said? I didn't know how to talk to him about it, so I kind of clammed up and was distant for the rest of the evening. He kept trying to talk to me, and I just kept telling him it made me feel bad, but he never took it back.\\n\\nI just want him to tell me I am 10/10 in his eyes, even if it's not true. AITA?\\n\\nTl:dr:  BF told me I am 8/10 after some prompting from me, it hurt my feelings, I stewed on it and brought it up again to tell him how I feel, he confirmed I am 8/10 to him and now I am hurt and distant but honest with him about why I'm being this way.\\n\\nEdit: I hope he doesn't see this. It will be awkward. Taking the chance anyway, Reddit, judge away.\\n\\nEdit 2: Starting to look like I am the asshole. Open to suggestions on how to fix this or not be an asshole. The relationship is important to me but have I damaged it permanently?\\n\\nEdit 3: Final update, I told him the truth and apologized as per your suggestions. I said I love him and I know I'm being stupid about a small thing but that was how I feel. He used the words \"You are 10/10 in my eyes\" so I guess I finally got what I wanted, but I don't feel good about it because of how I treated him. So I apologized again, for making a big deal out of it and bringing it up in the first place and being cold about it last night. Thank you all for giving your...</td>\n",
       "      <td>I'm not unrealistic about my looks, I know I'm not a supermodel.  However I am in very good shape and I have a pretty face.  I used to be much more rigorous about working out, which has gone way down since I started my career. But I still stay in great shape and am slim.  BF is an extremely athletic guy, but I don't think he's more physically attractive than I am, just more fit.\\n\\nWe were drinking about a month ago, and I jokingly got him to rate me. I wasn't expecting him to say 8/10, but it kind of shocked me, as all my previous boyfriends have spoken to me as though I was the most beautiful woman and called me 10/10. It made me feel unique and wanted and it just felt good to hear that. In comparison, it hurt to learn that my current bf doesn't feel that way.\\n\\nI stewed on it for a month, then last night I decided not to bottle up my feelings anymore and told him how I felt when I first heard it. He again confirmed that he thinks I am 8/10 in the looks category, but that I \"make up for it by being 12/10 everywhere else.\"  I really didn't know what to make of that. I have just opened up to him explaining it hurts me and he just confirms what he said? I didn't know how to talk to him about it, so I kind of clammed up and was distant for the rest of the evening. He kept trying to talk to me, and I just kept telling him it made me feel bad, but he never took it back.\\n\\nI just want him to tell me I am 10/10 in his eyes, even if it's not true. AITA?\\n\\nTl:dr:  BF told me I am 8/10 after some prompting from me, it hurt my feelings, I stewed on it and brought it up again to tell him how I feel, he confirmed I am 8/10 to him and now I am hurt and distant but honest with him about why I'm being this way.\\n\\n\\nEdit 2: Starting to look like I am the asshole. Open to suggestions on how to fix this or not be an asshole. The relationship is important to me but have I damaged it permanently?\\n\\nEdit 3: Final update, I told him the truth and apologized as per your suggestions. I said I love him and I know I'm being stupid about a small thing but that was how I feel. He used the words \"You are 10/10 in my eyes\" so I guess I finally got what I wanted, but I don't feel good about it because of how I treated him. So I apologized again, for making a big deal out of it and bringing it up in the first place and being cold about it last night. Thank you all for giving your perspective.</td>\n",
       "    </tr>\n",
       "    <tr>\n",
       "      <th>396</th>\n",
       "      <td>They are nice people, but this is not what I agreed to. I thought that it was a good thing to do and (of course), needed money at the time. I’m still glad that I did it, but they contacted me through Facebook, and forced pictures on me. It has been traumatic for my partner and I, and I want to do something about it. Any ideas? \\n\\nEdit: this was at a well-known “international sperm and egg bank” in NYC. Also, those of you saying to just block, that doesn’t rectify violating an agreement.</td>\n",
       "      <td>They are nice people, but this is not what I agreed to. I thought that it was a good thing to do and (of course), needed money at the time. I’m still glad that I did it, but they contacted me through Facebook, and forced pictures on me. It has been traumatic for my partner and I, and I want to do something about it. Any ideas? \\n</td>\n",
       "    </tr>\n",
       "  </tbody>\n",
       "</table>\n",
       "</div>"
      ],
      "text/plain": [
       "                                                                                                                                                                                                                                                                                                                                                                                                                                                                                                                                                                                                                                                                                                                                                                                                                                                                                                                                                                                                                                                                                                                                                                                                                                                                                                                                                                                                                                                                                                                                                                                                                                                                                                                                                                                                                                                                                                                                                                                                                                                                                                                                                                                                                                                                                                                                                                                                                                                                                                                                                                                             parent_text  \\\n",
       "14                                                                                                                                                                                                                                                                                                                                                                                                                                                                                                                                                                                                                                                                                                                                                                                                                                                                                                                                                                                                                                                                                                                                                                                                                                                                                                                                                                                                                                                                                                                                                                                                         I went to a 1930’s themed party with my fiancé. Her costume was “The Great Dust Bowl” - she wore a tattered dress and covered herself in dirt and carried around a bowl filled with dust. I was “The Great Depression” and wore my old pill bottles around my neck with my pajamas on and a comfy blanket over my shoulders. Everyone at the party thought it was great, especially since they were mostly friends of ours who know my history struggling with anxiety and depression and how amazing my beautiful fiancé has been through it all. We looked at my costume as a funny way to celebrate how much better i am doing (no longer on a ton of medication, am happy and healthier than ever). But when she posted a photo of us on her instagram she got some flak for “making a joke out of depression.” I believe that comedy = tragedy + time, but was wondering what you all think. Am i the asshole? \\n\\nedit: WIBTA if i send the instagram haters a  link to this post, haha   \n",
       "32                                                                                                                                                                                                                                                                                                                                                                                                                                                                                                                                                                                                                                                                                                                                                                                                                                                                                                                                                                                                                                                                                                                                                                                                                                                                                                   Hey guys, longtime lurker first time poster cos I’m not exactly sure where to go to fix this.\\n\\nbuy and sell a lot on Facebook marketplace. After buying and selling a lot ive become pretty trusting in the buyer/seller as I’ve never had any issues until now.\\n\\nI went about buying some Apple AirPods for $160 of this seller. I transferred the money to his bank account provided and sent through a screenshot of the receipt as usual. \\nUsually at this point the seller will post the item to me as that’s enough proof of transfer, but some don’t and want to see the money in their account before they post their item which is also fine. \\nAlthough, this guys claims he still hasn’t received my bank transfer 8 days later which is false.\\nI’ve tripled checked the bsb and account number I sent to and asked him to do the same that he provided me the right details. I’ve spoken to my bank and confirmed that the money has left my account and should be in his but he’s still denying he’s received anything.\\n\\nI’m wondering how I go about replying and attempting to recover my funds now. \\nDo I contact my police station? Do I call my banks fraud department?\\nI definitely won’t be as trusting on Facebook marketplace anymore.\\n\\nEDIT: I live in Australia   \n",
       "33                                                                                                                                                                                                                                                                                                                                                                                                                                                                                                                                                                                                                                                        No.* \\n\\nBirthright citizenship comes from section 1 of the 14th amendment: \\n\\n&gt; Section 1. **All persons born** or naturalized **in the United States, and subject to the jurisdiction thereof, are citizens of the United States and of the State wherein they reside**. No State shall make or enforce any law which shall abridge the privileges or immunities of citizens of the United States; nor shall any State deprive any person of life, liberty, or property, without due process of law; nor deny to any person within its jurisdiction the equal protection of the laws.\\n\\n*“But aren’t noncitizens not subject to the jurisdiction, and therefore this doesn’t apply to them?”*\\n\\nAlso no. The only people in America who aren’t subject to US jurisdiction are properly credentialed foreign diplomats. (edit: And in theory parents who were members of an occupying army who had their children in the US during the occupation).\\n\\n*“Can Trump amend the constitution to take this away?”*\\n\\nHe can try. But it requires 2/3 of both the House and Senate to vote in favor and then 3/4 of the states to ratify amendment. The moderators of legal advice, while not legislative experts, do not believe this is likely.\\n\\n*“So why did this come up now?”*\\n\\nProbably because there’s an election in a week. \\n\\nEDIT: *No serious academics or constitutional scholars take this position, however [there is debate](https://reason.com/volokh/2018/07/19/a-bad-argument-on-birthright-citizenship) on the far right wing of American politics that there is an alternative view to this argument. \\n\\nThe definitive case on this issue is [US v. Wong Kim Ark](https://en.wikipedia.org/wiki/United_States_v._Wong_Kim_Ark). Decided in 1898 it has been the law of the land for 120 years, barring a significant (and unexpected) narrowing of the ruling by the Supreme Court this is unlikely to change.    \n",
       "64                                                                                                                                                                     Hello r/Legaladvice.\\n\\nPreface: I met a girl In a college class. We flirt for a few weeks, bring each other snacks, talk alot. The usual. Valentine's day rolls around I ask her if she want to skip class and go for a drive. We do, get lost, and have a fantastic evening. We begin dating but only really meet during or after class. Due to her family having a chokehold on her. Theres alot I can't say but they tried to marry her to a 40y/o guy in Mexico when she was 6. And she always seemed like she was justifying everything her family did. Anyway this goes on for several months. \\n\\nMy parents go out of town and we decided to spend the night together. At arround 4 am we wake up to her phone ringing. It is her mother and she is screaming so loudly that i can hear it on the other side of the room. She wants her back home now. We comply and i drive her back home. Arriving at her home there is a police car outside and i brace for the worst. I am left in my car for 2 hours while they talk to her and her family. At they end of it they say I'm under arrest for sexual assault against her daughter. At this point I'm pretty confused and the officer says he can't tell me any more as it is an active investigation. They drive me to the sheriffs department and impound my car. I'm handcuffed to a wall in an interrogation room and left there for nearly 6 hours. During this time i am told they are speaking to my girlfriend in private away from her family. At the end of the 6 hours a detective comes in and un handcuffed me from the wall. I tell him everything that happened. He leaves and I am left alone for another few hours. The detective comes back and escorts me to my car gives me my keys and tells me  my gf liked me very much and didn't want to get me in trouble. And she has gone back home. They tell me I'm free to go but they may be in contact. \\n\\nAt this point I'm more confused than anything. And am kinda upset about being chained to a wall for most of this time. And am feeling multiple conflicting emotions. Was there something wrong done here or am I just crazy?\\n\\nI've been in contact with her a few times since, but she is saying her family forbids her from seeing me. I just feel lost right now. \\n \\nThere is alot more to this story, but I'm on mobile rn so I can edit when I get back home.\\n\\nEdit: Detroit MI   \n",
       "66                                                                                                                                                                                                                                                                                                                                                 This all started a few months a ago when my 4th period got a student from a different school. This new student says he has a mental condition( idk didn't really pay attention to that kind of stuff), but it really doesn't matter to me. So, all was going well for a couple of weeks until I started seeing him doing other devilish stuff around other people like snitching on people(claims its on accident), taking people stuff saying he didn't know, and just at random screaming like a banshee  at people for smacking or even just tapping their feet. People have been telling me he has a condition so they take up it up the ass and I don't really agree with that so i ry to stay clear of that person when possible.\\n\\n   So all was going well until I'm in the library about to go too class About to pick up my bag until I realise the new guy place his stuff around mines he was about to go as well so I just grab my bag and just trying to get out there. Then this the new guy grabbed my bag saying that is hes bad( granted our bag look the same but there is clear difference my bag has a medium size tear and hes doesnt). So Im telling him \"Look dude this has a huge tear I know yours doesn't now let go of my stuff.\", he told me to open it up I refused  then he started screaming trying to take my bad with him. So at this point I had enough of this bs and decided to punch him making him land right on his back. He started screaming and crying like like a little demon until teacher broke us up,   settled the situation and made us both open the bags too see if who was right(I was right).  Then the teacher asked who punch first the lil demon said I punched first it was true, but I did it becuase he was trying to steal my stuff. Short story after the teachers said  he has a mental condition and I should be more patience and more empathic. In my head I said fuck that this demon need  deserve what's coming to him. Now some people saying Im a jerk for doing that am I  jerk for standing up.\\n\\n\\n\\nEdit: I have been listening to others opinions and thoughts. I have come with my educated opinion that Iwas wrong and will try to day sorry and ask for forgiveness    \n",
       "85   My company has a 401k match. I noticed a few weeks ago that the match had not been applied the entire year (shame on me for not checking sooner). I asked the benefits team and I got an odd response. they say that because I started in 2017, the 2018 401k policy does not apply to me and that I must follow the 2017 401k standards and wait one year before getting the company match . The 2018 401k policy states that all employees get a company match immediately and that if you were hired prior to 2018 it is fully vested, otherwise it will take two years to vest. The issue that I have is that I was not eligible to start my 401k until 1/1/2018 AND the 2018 policy does not have any stipulation on eligibility other than you must be 21 and a full time employee, which I am. What options do I have here?\\n\\n&amp;#x200B;\\n\\nTo add some more info:\\n\\n&amp;#x200B;\\n\\nThis is from the plan documentation overview-\"The  purpose  of  the  plan  is  to  enable  eligible  Employees  to  save  for  retirement.  As  well  as  retirement  benefits,  the  plan provides certain benefits in the event of death, disability, or other termination of employment.  The Plan is for the exclusive benefit of eligible Employees and their Beneficiaries.\"\\n\\nAnd this is from the plan documentation around eligibility-\\n\\n\"A.Eligibility RequirementsYou are eligible to participate in the Plan if you are an Employee.However, you are not eligible to participate if you are:•a resident of Puerto Rico\\n\\na leased Employee\\n\\n•Temporary Employees  However, if you are in the group(s) listed below, you shall become eligible to participate in\\n\\nthe  plan  on  the  first  entry  date  after  you  have  reached  age  21  and  have  completed  at  least  1,000  Hours of Service\\n\\nduring an Eligibility Computation Period:\\n\\n•Temporary Employees\\n\\nYou are also not eligible to participate if you are an individual who is a signatory to a contract, letter of agreement, or other document that acknowledges your status as an independent contractor not entitled to benefits under the Plan and you are not otherwise classified by the Employer as a common law employee or the Employer does not withhold income taxes, file Form W-2 (or any replacement form), or remit Social Security payments to the Federal government for you, even if you are later adjudicated to be a common law employee.\\n\\nYou will become eligible to participate in the Plan according to the table below:\\n\\n........\\n\\nEmployer Matching contributions-\\...   \n",
       "101                                                                                                                                                                                                                                                                                                                                                                                                                                                                                                                                                                                                                                                                                                                                                                                                                                                                                                                                                                                                                                                                                                                                                                                                                                                                                                                                                                                                                                                                                Location: TN\\nPS: I'm a 15 y/o so I'm not that smart.\\n\\nMy mom was randomly taken in for a drug search near a rehab because she was with a \"suspicious person\" for whatever reason. She passed it but was still detained and taken to jail. She has yet to go before the judge, but she's been locked up for around 120 days because they keep moving her court date everytime it comes close. I don't have that much information because this is all I can get from phone calls she's occasionally allowed to have. I can try to press for more info but I doubt I'll get anything. She's taken multiple drug tests and has passed every single one. How long can they keep her like this?\\n\\nNotes:\\nMom DOES smoke and has smoked, even before I was born.\\n\\nI don't know who \"suspicious person\" is and neither does she.\\n\\nMom had a previous history of drugs (hell, I was an accidental child because of them) but she's been clean for a year and has visited rehab often.\\n\\nEDIT: She was on probation at one point, but isn't anymore, if that helps. She was arrested once for violation of probation.   \n",
       "111                                                                                                                                                                                                                                                                                                                                                                                                                                                                                                                                                                                                                                                                                                                                                                                                                                                                                                                                                                                                                                                                                                                                                                                                                                                                                                                                                                                                                                                                                                                                                                                                                                                                                                                                                                                                                                                                                           I was in a debate class and we were talking about derogatory terms.(nigga,spik,kike,zipperhead). I was dropping spik and no one cared because I was discussing it in a debating context. They did not care of when I said spik. But when I said \"nigga\" they reacted heavily. They continued on saying that I can not use that language, I was confused because i dropped spik just seconds earlier(their were black people there) After class they said that I offended some people and I should not use that language. I wanted to go call them out on the double standard but in order to stay in good standing I just apologized and moved on. AITA  \\n\\n\\nEdit: if people want to know I’m Latino :/    \n",
       "374  I'm not unrealistic about my looks, I know I'm not a supermodel.  However I am in very good shape and I have a pretty face.  I used to be much more rigorous about working out, which has gone way down since I started my career. But I still stay in great shape and am slim.  BF is an extremely athletic guy, but I don't think he's more physically attractive than I am, just more fit.\\n\\nWe were drinking about a month ago, and I jokingly got him to rate me. I wasn't expecting him to say 8/10, but it kind of shocked me, as all my previous boyfriends have spoken to me as though I was the most beautiful woman and called me 10/10. It made me feel unique and wanted and it just felt good to hear that. In comparison, it hurt to learn that my current bf doesn't feel that way.\\n\\nI stewed on it for a month, then last night I decided not to bottle up my feelings anymore and told him how I felt when I first heard it. He again confirmed that he thinks I am 8/10 in the looks category, but that I \"make up for it by being 12/10 everywhere else.\"  I really didn't know what to make of that. I have just opened up to him explaining it hurts me and he just confirms what he said? I didn't know how to talk to him about it, so I kind of clammed up and was distant for the rest of the evening. He kept trying to talk to me, and I just kept telling him it made me feel bad, but he never took it back.\\n\\nI just want him to tell me I am 10/10 in his eyes, even if it's not true. AITA?\\n\\nTl:dr:  BF told me I am 8/10 after some prompting from me, it hurt my feelings, I stewed on it and brought it up again to tell him how I feel, he confirmed I am 8/10 to him and now I am hurt and distant but honest with him about why I'm being this way.\\n\\nEdit: I hope he doesn't see this. It will be awkward. Taking the chance anyway, Reddit, judge away.\\n\\nEdit 2: Starting to look like I am the asshole. Open to suggestions on how to fix this or not be an asshole. The relationship is important to me but have I damaged it permanently?\\n\\nEdit 3: Final update, I told him the truth and apologized as per your suggestions. I said I love him and I know I'm being stupid about a small thing but that was how I feel. He used the words \"You are 10/10 in my eyes\" so I guess I finally got what I wanted, but I don't feel good about it because of how I treated him. So I apologized again, for making a big deal out of it and bringing it up in the first place and being cold about it last night. Thank you all for giving your...   \n",
       "396                                                                                                                                                                                                                                                                                                                                                                                                                                                                                                                                                                                                                                                                                                                                                                                                                                                                                                                                                                                                                                                                                                                                                                                                                                                                                                                                                                                                                                                                                                                                                                                                                                                                                                                                                                                                                                                                                                                                                                                                                                                                                        They are nice people, but this is not what I agreed to. I thought that it was a good thing to do and (of course), needed money at the time. I’m still glad that I did it, but they contacted me through Facebook, and forced pictures on me. It has been traumatic for my partner and I, and I want to do something about it. Any ideas? \\n\\nEdit: this was at a well-known “international sperm and egg bank” in NYC. Also, those of you saying to just block, that doesn’t rectify violating an agreement.    \n",
       "\n",
       "                                                                                                                                                                                                                                                                                                                                                                                                                                                                                                                                                                                                                                                                                                                                                                                                                                                                                                                                                                                                                                                                                                                                                                                                                                                                                                                                                                                                                                                                                                                                                                                                                                                                                                                                                                                                                                                                                                                                                                                                                                                                                                                                                                                                                                                                                                                                                                                                                                                                                                                                                                                    parent_text_no_edits  \n",
       "14                                                                                                                                                                                                                                                                                                                                                                                                                                                                                                                                                                                                                                                                                                                                                                                                                                                                                                                                                                                                                                                                                                                                                                                                                                                                                                                                                                                                                                                                                                                                                                                                                                                                                I went to a 1930’s themed party with my fiancé. Her costume was “The Great Dust Bowl” - she wore a tattered dress and covered herself in dirt and carried around a bowl filled with dust. I was “The Great Depression” and wore my old pill bottles around my neck with my pajamas on and a comfy blanket over my shoulders. Everyone at the party thought it was great, especially since they were mostly friends of ours who know my history struggling with anxiety and depression and how amazing my beautiful fiancé has been through it all. We looked at my costume as a funny way to celebrate how much better i am doing (no longer on a ton of medication, am happy and healthier than ever). But when she posted a photo of us on her instagram she got some flak for “making a joke out of depression.” I believe that comedy = tragedy + time, but was wondering what you all think. Am i the asshole? \\n  \n",
       "32                                                                                                                                                                                                                                                                                                                                                                                                                                                                                                                                                                                                                                                                                                                                                                                                                                                                                                                                                                                                                                                                                                                                                                                                                                                                                                                              Hey guys, longtime lurker first time poster cos I’m not exactly sure where to go to fix this.\\n\\nbuy and sell a lot on Facebook marketplace. After buying and selling a lot ive become pretty trusting in the buyer/seller as I’ve never had any issues until now.\\n\\nI went about buying some Apple AirPods for $160 of this seller. I transferred the money to his bank account provided and sent through a screenshot of the receipt as usual. \\nUsually at this point the seller will post the item to me as that’s enough proof of transfer, but some don’t and want to see the money in their account before they post their item which is also fine. \\nAlthough, this guys claims he still hasn’t received my bank transfer 8 days later which is false.\\nI’ve tripled checked the bsb and account number I sent to and asked him to do the same that he provided me the right details. I’ve spoken to my bank and confirmed that the money has left my account and should be in his but he’s still denying he’s received anything.\\n\\nI’m wondering how I go about replying and attempting to recover my funds now. \\nDo I contact my police station? Do I call my banks fraud department?\\nI definitely won’t be as trusting on Facebook marketplace anymore.\\n  \n",
       "33                                                                                                                                                                                                                                                                                                                                                                                                                                                                                                                                                                                                                                                                                                                                                                                                                                                                                                                                             No.* \\n\\nBirthright citizenship comes from section 1 of the 14th amendment: \\n\\n&gt; Section 1. **All persons born** or naturalized **in the United States, and subject to the jurisdiction thereof, are citizens of the United States and of the State wherein they reside**. No State shall make or enforce any law which shall abridge the privileges or immunities of citizens of the United States; nor shall any State deprive any person of life, liberty, or property, without due process of law; nor deny to any person within its jurisdiction the equal protection of the laws.\\n\\n*“But aren’t noncitizens not subject to the jurisdiction, and therefore this doesn’t apply to them?”*\\n\\nAlso no. The only people in America who aren’t subject to US jurisdiction are properly credentialed foreign diplomats. (edit: And in theory parents who were members of an occupying army who had their children in the US during the occupation).\\n\\n*“Can Trump amend the constitution to take this away?”*\\n\\nHe can try. But it requires 2/3 of both the House and Senate to vote in favor and then 3/4 of the states to ratify amendment. The moderators of legal advice, while not legislative experts, do not believe this is likely.\\n\\n*“So why did this come up now?”*\\n\\nProbably because there’s an election in a week. \\n\\n\\nThe definitive case on this issue is [US v. Wong Kim Ark](https://en.wikipedia.org/wiki/United_States_v._Wong_Kim_Ark). Decided in 1898 it has been the law of the land for 120 years, barring a significant (and unexpected) narrowing of the ruling by the Supreme Court this is unlikely to change.   \n",
       "64                                                                                                                                                                                       Hello r/Legaladvice.\\n\\nPreface: I met a girl In a college class. We flirt for a few weeks, bring each other snacks, talk alot. The usual. Valentine's day rolls around I ask her if she want to skip class and go for a drive. We do, get lost, and have a fantastic evening. We begin dating but only really meet during or after class. Due to her family having a chokehold on her. Theres alot I can't say but they tried to marry her to a 40y/o guy in Mexico when she was 6. And she always seemed like she was justifying everything her family did. Anyway this goes on for several months. \\n\\nMy parents go out of town and we decided to spend the night together. At arround 4 am we wake up to her phone ringing. It is her mother and she is screaming so loudly that i can hear it on the other side of the room. She wants her back home now. We comply and i drive her back home. Arriving at her home there is a police car outside and i brace for the worst. I am left in my car for 2 hours while they talk to her and her family. At they end of it they say I'm under arrest for sexual assault against her daughter. At this point I'm pretty confused and the officer says he can't tell me any more as it is an active investigation. They drive me to the sheriffs department and impound my car. I'm handcuffed to a wall in an interrogation room and left there for nearly 6 hours. During this time i am told they are speaking to my girlfriend in private away from her family. At the end of the 6 hours a detective comes in and un handcuffed me from the wall. I tell him everything that happened. He leaves and I am left alone for another few hours. The detective comes back and escorts me to my car gives me my keys and tells me  my gf liked me very much and didn't want to get me in trouble. And she has gone back home. They tell me I'm free to go but they may be in contact. \\n\\nAt this point I'm more confused than anything. And am kinda upset about being chained to a wall for most of this time. And am feeling multiple conflicting emotions. Was there something wrong done here or am I just crazy?\\n\\nI've been in contact with her a few times since, but she is saying her family forbids her from seeing me. I just feel lost right now. \\n \\nThere is alot more to this story, but I'm on mobile rn so I can edit when I get back home.\\n  \n",
       "66                                                                                                                                                                                                                                                                                                                                                                                                                                                                                                                       This all started a few months a ago when my 4th period got a student from a different school. This new student says he has a mental condition( idk didn't really pay attention to that kind of stuff), but it really doesn't matter to me. So, all was going well for a couple of weeks until I started seeing him doing other devilish stuff around other people like snitching on people(claims its on accident), taking people stuff saying he didn't know, and just at random screaming like a banshee  at people for smacking or even just tapping their feet. People have been telling me he has a condition so they take up it up the ass and I don't really agree with that so i ry to stay clear of that person when possible.\\n\\n   So all was going well until I'm in the library about to go too class About to pick up my bag until I realise the new guy place his stuff around mines he was about to go as well so I just grab my bag and just trying to get out there. Then this the new guy grabbed my bag saying that is hes bad( granted our bag look the same but there is clear difference my bag has a medium size tear and hes doesnt). So Im telling him \"Look dude this has a huge tear I know yours doesn't now let go of my stuff.\", he told me to open it up I refused  then he started screaming trying to take my bad with him. So at this point I had enough of this bs and decided to punch him making him land right on his back. He started screaming and crying like like a little demon until teacher broke us up,   settled the situation and made us both open the bags too see if who was right(I was right).  Then the teacher asked who punch first the lil demon said I punched first it was true, but I did it becuase he was trying to steal my stuff. Short story after the teachers said  he has a mental condition and I should be more patience and more empathic. In my head I said fuck that this demon need  deserve what's coming to him. Now some people saying Im a jerk for doing that am I  jerk for standing up.\\n\\n\\n  \n",
       "85   My company has a 401k match. I noticed a few weeks ago that the match had not been applied the entire year (shame on me for not checking sooner). I asked the benefits team and I got an odd response. they say that because I started in 2017, the 2018 401k policy does not apply to me and that I must follow the 2017 401k standards and wait one year before getting the company match . The 2018 401k policy states that all employees get a company match immediately and that if you were hired prior to 2018 it is fully vested, otherwise it will take two years to vest. The issue that I have is that I was not eligible to start my 401k until 1/1/2018 AND the 2018 policy does not have any stipulation on eligibility other than you must be 21 and a full time employee, which I am. What options do I have here?\\n\\n&amp;#x200B;\\n\\nTo add some more info:\\n\\n&amp;#x200B;\\n\\nThis is from the plan documentation overview-\"The  purpose  of  the  plan  is  to  enable  eligible  Employees  to  save  for  retirement.  As  well  as  retirement  benefits,  the  plan provides certain benefits in the event of death, disability, or other termination of employment.  The Plan is for the exclusive benefit of eligible Employees and their Beneficiaries.\"\\n\\nAnd this is from the plan documentation around eligibility-\\n\\n\"A.Eligibility RequirementsYou are eligible to participate in the Plan if you are an Employee.However, you are not eligible to participate if you are:•a resident of Puerto Rico\\n\\na leased Employee\\n\\n•Temporary Employees  However, if you are in the group(s) listed below, you shall become eligible to participate in\\n\\nthe  plan  on  the  first  entry  date  after  you  have  reached  age  21  and  have  completed  at  least  1,000  Hours of Service\\n\\nduring an Eligibility Computation Period:\\n\\n•Temporary Employees\\n\\nYou are also not eligible to participate if you are an individual who is a signatory to a contract, letter of agreement, or other document that acknowledges your status as an independent contractor not entitled to benefits under the Plan and you are not otherwise classified by the Employer as a common law employee or the Employer does not withhold income taxes, file Form W-2 (or any replacement form), or remit Social Security payments to the Federal government for you, even if you are later adjudicated to be a common law employee.\\n\\nYou will become eligible to participate in the Plan according to the table below:\\n\\n........\\n\\nEmployer Matching contributions-\\...  \n",
       "101                                                                                                                                                                                                                                                                                                                                                                                                                                                                                                                                                                                                                                                                                                                                                                                                                                                                                                                                                                                                                                                                                                                                                                                                                                                                                                                                                                                                                                                                                                                                                                                                              Location: TN\\nPS: I'm a 15 y/o so I'm not that smart.\\n\\nMy mom was randomly taken in for a drug search near a rehab because she was with a \"suspicious person\" for whatever reason. She passed it but was still detained and taken to jail. She has yet to go before the judge, but she's been locked up for around 120 days because they keep moving her court date everytime it comes close. I don't have that much information because this is all I can get from phone calls she's occasionally allowed to have. I can try to press for more info but I doubt I'll get anything. She's taken multiple drug tests and has passed every single one. How long can they keep her like this?\\n\\nNotes:\\nMom DOES smoke and has smoked, even before I was born.\\n\\nI don't know who \"suspicious person\" is and neither does she.\\n\\nMom had a previous history of drugs (hell, I was an accidental child because of them) but she's been clean for a year and has visited rehab often.\\n  \n",
       "111                                                                                                                                                                                                                                                                                                                                                                                                                                                                                                                                                                                                                                                                                                                                                                                                                                                                                                                                                                                                                                                                                                                                                                                                                                                                                                                                                                                                                                                                                                                                                                                                                                                                                                                                                                                                                                                                                                                                        I was in a debate class and we were talking about derogatory terms.(nigga,spik,kike,zipperhead). I was dropping spik and no one cared because I was discussing it in a debating context. They did not care of when I said spik. But when I said \"nigga\" they reacted heavily. They continued on saying that I can not use that language, I was confused because i dropped spik just seconds earlier(their were black people there) After class they said that I offended some people and I should not use that language. I wanted to go call them out on the double standard but in order to stay in good standing I just apologized and moved on. AITA  \\n\\n  \n",
       "374                                                                                             I'm not unrealistic about my looks, I know I'm not a supermodel.  However I am in very good shape and I have a pretty face.  I used to be much more rigorous about working out, which has gone way down since I started my career. But I still stay in great shape and am slim.  BF is an extremely athletic guy, but I don't think he's more physically attractive than I am, just more fit.\\n\\nWe were drinking about a month ago, and I jokingly got him to rate me. I wasn't expecting him to say 8/10, but it kind of shocked me, as all my previous boyfriends have spoken to me as though I was the most beautiful woman and called me 10/10. It made me feel unique and wanted and it just felt good to hear that. In comparison, it hurt to learn that my current bf doesn't feel that way.\\n\\nI stewed on it for a month, then last night I decided not to bottle up my feelings anymore and told him how I felt when I first heard it. He again confirmed that he thinks I am 8/10 in the looks category, but that I \"make up for it by being 12/10 everywhere else.\"  I really didn't know what to make of that. I have just opened up to him explaining it hurts me and he just confirms what he said? I didn't know how to talk to him about it, so I kind of clammed up and was distant for the rest of the evening. He kept trying to talk to me, and I just kept telling him it made me feel bad, but he never took it back.\\n\\nI just want him to tell me I am 10/10 in his eyes, even if it's not true. AITA?\\n\\nTl:dr:  BF told me I am 8/10 after some prompting from me, it hurt my feelings, I stewed on it and brought it up again to tell him how I feel, he confirmed I am 8/10 to him and now I am hurt and distant but honest with him about why I'm being this way.\\n\\n\\nEdit 2: Starting to look like I am the asshole. Open to suggestions on how to fix this or not be an asshole. The relationship is important to me but have I damaged it permanently?\\n\\nEdit 3: Final update, I told him the truth and apologized as per your suggestions. I said I love him and I know I'm being stupid about a small thing but that was how I feel. He used the words \"You are 10/10 in my eyes\" so I guess I finally got what I wanted, but I don't feel good about it because of how I treated him. So I apologized again, for making a big deal out of it and bringing it up in the first place and being cold about it last night. Thank you all for giving your perspective.  \n",
       "396                                                                                                                                                                                                                                                                                                                                                                                                                                                                                                                                                                                                                                                                                                                                                                                                                                                                                                                                                                                                                                                                                                                                                                                                                                                                                                                                                                                                                                                                                                                                                                                                                                                                                                                                                                                                                                                                                                                                                                                                                                                                                                                                                                                                                                                          They are nice people, but this is not what I agreed to. I thought that it was a good thing to do and (of course), needed money at the time. I’m still glad that I did it, but they contacted me through Facebook, and forced pictures on me. It has been traumatic for my partner and I, and I want to do something about it. Any ideas? \\n  "
      ]
     },
     "metadata": {},
     "output_type": "display_data"
    }
   ],
   "source": [
    "# examine sample of no-edit data\n",
    "pd.set_option('display.max_colwidth', 2500)\n",
    "display(question_comment_data[question_comment_data.loc[:, 'parent_text']!=question_comment_data.loc[:, 'parent_text_no_edits']].drop_duplicates('parent_id').loc[:, ['parent_text', 'parent_text_no_edits']].head(10))"
   ]
  },
  {
   "cell_type": "markdown",
   "metadata": {},
   "source": [
    "Great. If nothing else, this gets rid of the obvious edits that could make the similarity values invalid (e.g. unusually high similarity between post and question based on post-hoc edit)."
   ]
  },
  {
   "cell_type": "markdown",
   "metadata": {},
   "source": [
    "First step: how similar should the questions be to the original post to be considered valid?"
   ]
  },
  {
   "cell_type": "code",
   "execution_count": 5,
   "metadata": {},
   "outputs": [
    {
     "name": "stdout",
     "output_type": "stream",
     "text": [
      "1.0    908\n",
      "0.0     76\n",
      "Name: question_is_relevant, dtype: int64\n",
      "1.0    604\n",
      "0.0    380\n",
      "Name: question_is_clarification, dtype: int64\n",
      "0.0    720\n",
      "1.0     14\n",
      "Name: submission_contains_answer, dtype: int64\n"
     ]
    }
   ],
   "source": [
    "## load all previously labeled data\n",
    "import pandas as pd\n",
    "question_only_comment_label_data = pd.read_csv('../../data/reddit_data/sample_advice_subreddit_question_labels.tsv', sep='\\t', index_col=False)\n",
    "question_initial_comment_label_data = pd.read_csv('../../data/reddit_data/sample_advice_subreddit_post_initial_question_labels.tsv', sep='\\t', index_col=False)\n",
    "parent_reply_question_label_data = pd.read_csv('../../data/reddit_data/sample_advice_subreddit_parent_reply_question_labels.tsv', sep='\\t', index_col=False)\n",
    "no_filter_question_label_data = pd.read_csv('../../data/reddit_data/sample_advice_subreddit_no_filter_question_labels.tsv', sep='\\t', index_col=False)\n",
    "combined_question_label_data = pd.concat([\n",
    "    question_only_comment_label_data,\n",
    "    question_initial_comment_label_data,\n",
    "    parent_reply_question_label_data,\n",
    "    no_filter_question_label_data,\n",
    "], axis=0)\n",
    "label_cols = ['question_is_relevant', 'question_is_clarification', 'submission_contains_answer']\n",
    "combined_question_label_data.fillna({x : 0. for x in label_cols}, inplace=True)\n",
    "text_cols = ['selftext', 'parent_text', 'question']\n",
    "combined_question_label_data.fillna({x : '' for x in text_cols}, inplace=True)\n",
    "# fix inconsistent columns\n",
    "combined_question_label_data = combined_question_label_data.assign(**{\n",
    "    'submission_contains_answer' : combined_question_label_data.loc[:, 'submission_contains_answer']+combined_question_label_data.loc[:, 'post_contains_answer']\n",
    "})\n",
    "combined_question_label_data = combined_question_label_data.assign(**{\n",
    "    'selftext' : combined_question_label_data.loc[:, 'selftext'].astype(str) + combined_question_label_data.loc[:, 'parent_text'].astype(str)\n",
    "})\n",
    "combined_question_label_data = combined_question_label_data.assign(**{\n",
    "    'question' : combined_question_label_data.apply(lambda x: x.loc['question'] if x.loc['question']!='' else x.loc['body'], axis=1)\n",
    "})\n",
    "## remove bot authors\n",
    "bot_authors = ['LocationBot']\n",
    "combined_question_label_data = pd.merge(combined_question_label_data, question_comment_data.loc[:, ['id', 'author']], on='id')\n",
    "combined_question_label_data = combined_question_label_data[~combined_question_label_data.loc[:, 'author'].isin(bot_authors)]\n",
    "for label_col in label_cols:\n",
    "    print(combined_question_label_data.loc[:, label_col].value_counts())\n",
    "## compute validity\n",
    "combined_question_label_data = combined_question_label_data.assign(**{\n",
    "    'question_is_valid' : ((combined_question_label_data.loc[:, 'question_is_relevant']==1) & \n",
    "                           (combined_question_label_data.loc[:, 'question_is_clarification']==1) & \n",
    "                           (combined_question_label_data.loc[:, 'submission_contains_answer']==0)).astype(int)\n",
    "})"
   ]
  },
  {
   "cell_type": "code",
   "execution_count": 6,
   "metadata": {
    "scrolled": true
   },
   "outputs": [
    {
     "name": "stdout",
     "output_type": "stream",
     "text": [
      "\n"
     ]
    }
   ],
   "source": [
    "## remove edits from posts\n",
    "combined_question_label_data = combined_question_label_data.assign(**{\n",
    "    'clean_submission_text' : combined_question_label_data.loc[:, 'selftext'].apply(lambda x: remove_edit_data(x))\n",
    "})\n",
    "## remove quotations from all questions\n",
    "import re\n",
    "quote_matcher = re.compile('&gt;[^\\n]+$')\n",
    "test_question = '&gt;legally, what can I do to attempt to get the best sentence possible?'\n",
    "print(quote_matcher.sub('', test_question))\n",
    "combined_question_label_data = combined_question_label_data.assign(**{\n",
    "    'question' : combined_question_label_data.loc[:, 'question'].apply(lambda x: quote_matcher.sub('', x))\n",
    "})\n",
    "# drop null questions\n",
    "clean_question_label_data = combined_question_label_data[combined_question_label_data.loc[:, 'question']!='']"
   ]
  },
  {
   "cell_type": "markdown",
   "metadata": {},
   "source": [
    "### Test question overlap"
   ]
  },
  {
   "cell_type": "code",
   "execution_count": 7,
   "metadata": {
    "scrolled": true
   },
   "outputs": [],
   "source": [
    "## compute max-sentence similarity via token overlap\n",
    "from nltk.tokenize import WordPunctTokenizer, PunktSentenceTokenizer\n",
    "from nltk.stem.snowball import PorterStemmer\n",
    "from importlib import reload\n",
    "import data_helpers\n",
    "reload(data_helpers)\n",
    "from data_helpers import tokenize_stem_text\n",
    "word_tokenizer = WordPunctTokenizer()\n",
    "sent_tokenizer = PunktSentenceTokenizer()\n",
    "stemmer = PorterStemmer()\n",
    "clean_question_label_data = clean_question_label_data.assign(**{\n",
    "    'submission_sents' : clean_question_label_data.loc[:, 'clean_submission_text'].apply(lambda x: tokenize_stem_text(x, stemmer, word_tokenizer, sent_tokenizer)),\n",
    "    'question_sents' : clean_question_label_data.loc[:, 'question'].apply(lambda x: tokenize_stem_text(x, stemmer, word_tokenizer, sent_tokenizer))\n",
    "})"
   ]
  },
  {
   "cell_type": "code",
   "execution_count": 8,
   "metadata": {},
   "outputs": [],
   "source": [
    "## compute overlap\n",
    "from data_helpers import compute_sent_word_overlap\n",
    "clean_question_label_data = clean_question_label_data.assign(**{\n",
    "    'post_question_overlap' : clean_question_label_data.apply(lambda x: compute_sent_word_overlap(x.loc['submission_sents'], x.loc['question_sents']), axis=1)\n",
    "})\n",
    "clean_question_label_data = clean_question_label_data.assign(**{\n",
    "    'post_question_overlap_score' : clean_question_label_data.loc[:, 'post_question_overlap'].apply(lambda x: x[0]),\n",
    "    'post_question_overlap_sent' : clean_question_label_data.loc[:, 'post_question_overlap'].apply(lambda x: x[1][0]),\n",
    "})"
   ]
  },
  {
   "cell_type": "code",
   "execution_count": 9,
   "metadata": {},
   "outputs": [
    {
     "data": {
      "text/html": [
       "<div>\n",
       "<style scoped>\n",
       "    .dataframe tbody tr th:only-of-type {\n",
       "        vertical-align: middle;\n",
       "    }\n",
       "\n",
       "    .dataframe tbody tr th {\n",
       "        vertical-align: top;\n",
       "    }\n",
       "\n",
       "    .dataframe thead th {\n",
       "        text-align: right;\n",
       "    }\n",
       "</style>\n",
       "<table border=\"1\" class=\"dataframe\">\n",
       "  <thead>\n",
       "    <tr style=\"text-align: right;\">\n",
       "      <th></th>\n",
       "      <th>question</th>\n",
       "      <th>post_question_overlap_sent</th>\n",
       "      <th>post_question_overlap_score</th>\n",
       "    </tr>\n",
       "  </thead>\n",
       "  <tbody>\n",
       "    <tr>\n",
       "      <th>806</th>\n",
       "      <td>I tell her not at the moment why?</td>\n",
       "      <td>[I, tell, her, not, at, the, moment, whi, ?]</td>\n",
       "      <td>1.000000</td>\n",
       "    </tr>\n",
       "    <tr>\n",
       "      <th>741</th>\n",
       "      <td>Is it illegal for them to keep declining me with adaquate reasonings behind withdrawal?</td>\n",
       "      <td>[Is, it, illeg, for, them, to, keep, declin, me, with, adaqu, reason, behind, withdraw, ?]</td>\n",
       "      <td>1.000000</td>\n",
       "    </tr>\n",
       "    <tr>\n",
       "      <th>331</th>\n",
       "      <td>\"You've always been a man of ideas, but I've always been a man of action\"???</td>\n",
       "      <td>[I, told, him, straight, ,, '', you, ', ve, alway, been, a, man, of, idea, ,, but, I, ', m, a, man, of, action, ''.]</td>\n",
       "      <td>0.619048</td>\n",
       "    </tr>\n",
       "    <tr>\n",
       "      <th>775</th>\n",
       "      <td>\"Hey.. Uh, do you actually have friends in School?</td>\n",
       "      <td>[I, ask, him, ,, \", have, you, been, make, ani, friend, in, school, ?]</td>\n",
       "      <td>0.421053</td>\n",
       "    </tr>\n",
       "    <tr>\n",
       "      <th>865</th>\n",
       "      <td>He hasn't filed, or he hasn't paid?</td>\n",
       "      <td>[*, edit, :, He, hasn, ', t, file, .]</td>\n",
       "      <td>0.357143</td>\n",
       "    </tr>\n",
       "  </tbody>\n",
       "</table>\n",
       "</div>"
      ],
      "text/plain": [
       "                                                                                    question  \\\n",
       "806                                                        I tell her not at the moment why?   \n",
       "741  Is it illegal for them to keep declining me with adaquate reasonings behind withdrawal?   \n",
       "331             \"You've always been a man of ideas, but I've always been a man of action\"???   \n",
       "775                                       \"Hey.. Uh, do you actually have friends in School?   \n",
       "865                                                      He hasn't filed, or he hasn't paid?   \n",
       "\n",
       "                                                                                               post_question_overlap_sent  \\\n",
       "806                                                                          [I, tell, her, not, at, the, moment, whi, ?]   \n",
       "741                            [Is, it, illeg, for, them, to, keep, declin, me, with, adaqu, reason, behind, withdraw, ?]   \n",
       "331  [I, told, him, straight, ,, '', you, ', ve, alway, been, a, man, of, idea, ,, but, I, ', m, a, man, of, action, ''.]   \n",
       "775                                                [I, ask, him, ,, \", have, you, been, make, ani, friend, in, school, ?]   \n",
       "865                                                                                 [*, edit, :, He, hasn, ', t, file, .]   \n",
       "\n",
       "     post_question_overlap_score  \n",
       "806                     1.000000  \n",
       "741                     1.000000  \n",
       "331                     0.619048  \n",
       "775                     0.421053  \n",
       "865                     0.357143  "
      ]
     },
     "metadata": {},
     "output_type": "display_data"
    }
   ],
   "source": [
    "## show sentences with highest overlap\n",
    "clean_question_label_data.sort_values('post_question_overlap_score', inplace=True, ascending=False)\n",
    "display(clean_question_label_data.loc[:, ['question', 'post_question_overlap_sent', 'post_question_overlap_score']].head(5))"
   ]
  },
  {
   "cell_type": "markdown",
   "metadata": {},
   "source": [
    "What is the distribution of overlap scores for valid/invalid questions?"
   ]
  },
  {
   "cell_type": "code",
   "execution_count": 10,
   "metadata": {
    "scrolled": true
   },
   "outputs": [
    {
     "data": {
      "image/png": "[encoded data removed]",
      "text/plain": [
       "<Figure size 432x288 with 1 Axes>"
      ]
     },
     "metadata": {
      "needs_background": "light"
     },
     "output_type": "display_data"
    }
   ],
   "source": [
    "import matplotlib\n",
    "%matplotlib inline\n",
    "import matplotlib.pyplot as plt\n",
    "import seaborn as sns\n",
    "import numpy as np\n",
    "# valid_var = 'question_is_valid'\n",
    "valid_var = 'question_is_relevant'\n",
    "post_question_overlap_score_data = pd.melt(clean_question_label_data.loc[:, ['post_question_overlap_score', valid_var]], id_vars=valid_var, value_name='post_question_overlap')\n",
    "sns.histplot(x='post_question_overlap', data=post_question_overlap_score_data, hue=valid_var, stat='probability', common_norm=False)\n",
    "plt.show()\n",
    "# normalize, bin plots\n",
    "# bin_count = 20\n",
    "# score_bins = np.histogram(clean_question_label_data.loc[:, 'post_question_overlap_score'], bin_count)[1]\n",
    "# valid_question_score_bin_counts = np.histogram(clean_question_label_data.loc[:, 'post_question_overlap_score'], bins=score_bins)[0]\n",
    "# valid_question_score_bin_counts = valid_question_score_bin_counts / valid_question_score_bin_counts.sum()\n",
    "# print(valid_question_score_bin_counts)\n",
    "# # plt.hist(, bins=score_bins, alpha=0.5)\n",
    "# # plt.show()\n",
    "# # # plt.show()"
   ]
  },
  {
   "cell_type": "markdown",
   "metadata": {},
   "source": [
    "OK! It looks like relevant questions do indeed have higher overlap, so let's take a high percentile of the \"relevant\" distribution as the cutoff."
   ]
  },
  {
   "cell_type": "code",
   "execution_count": 11,
   "metadata": {
    "scrolled": true
   },
   "outputs": [
    {
     "name": "stdout",
     "output_type": "stream",
     "text": [
      "score cutoff = 0.114\n",
      "recall = 0.5011160714285714\n",
      "precision = 0.9432773109243697\n"
     ]
    }
   ],
   "source": [
    "score_cutoff_pct = 50\n",
    "relevant_question_label_data = clean_question_label_data[clean_question_label_data.loc[:, valid_var]==1].loc[:, 'post_question_overlap_score']\n",
    "question_post_overlap_score_cutoff = np.percentile(relevant_question_label_data, score_cutoff_pct)\n",
    "print(f'score cutoff = {\"{:1.3f}\".format(question_post_overlap_score_cutoff)}')\n",
    "# compute precision/recall\n",
    "print(f'recall = {len(relevant_question_label_data[relevant_question_label_data >= question_post_overlap_score_cutoff])/len(relevant_question_label_data)}')\n",
    "print(f'precision = {len(relevant_question_label_data[relevant_question_label_data >= question_post_overlap_score_cutoff])/len(clean_question_label_data[clean_question_label_data.loc[:, \"post_question_overlap_score\"] >= question_post_overlap_score_cutoff])}')"
   ]
  },
  {
   "cell_type": "markdown",
   "metadata": {},
   "source": [
    "### Test clarification questions"
   ]
  },
  {
   "cell_type": "markdown",
   "metadata": {},
   "source": [
    "Next: let's identify the top question words associated with clarification questions."
   ]
  },
  {
   "cell_type": "code",
   "execution_count": 12,
   "metadata": {
    "scrolled": true
   },
   "outputs": [
    {
     "name": "stdout",
     "output_type": "stream",
     "text": [
      "info     12.086093\n",
      "does     10.273179\n",
      "did       3.798486\n",
      "what      3.122241\n",
      "also      3.021523\n",
      "how       3.021523\n",
      "were      3.021523\n",
      "are       2.643833\n",
      "do        2.618653\n",
      "was       2.417219\n",
      "where     2.417219\n",
      "is        1.544334\n",
      "when      1.510762\n",
      "first     1.208609\n",
      "wait      1.208609\n",
      "well      1.208609\n",
      "sorry     1.208609\n",
      "which     1.208609\n",
      "with      1.208609\n",
      "Name: question_first_word, dtype: float64\n",
      "so         0.949622\n",
      "why        0.922360\n",
      "have       0.776963\n",
      "could      0.755381\n",
      "can        0.690634\n",
      "i          0.667916\n",
      "who        0.604305\n",
      "your       0.604305\n",
      "this       0.604305\n",
      "there      0.604305\n",
      "*          0.604305\n",
      "just       0.604305\n",
      "ok         0.604305\n",
      "lol        0.604305\n",
      "ask        0.604305\n",
      "her        0.604305\n",
      "depends    0.604305\n",
      "would      0.503587\n",
      "it         0.483444\n",
      "the        0.362583\n",
      "don        0.302152\n",
      "and        0.302152\n",
      "esh        0.302152\n",
      "he         0.302152\n",
      "if         0.302152\n",
      "let        0.302152\n",
      "nta        0.274684\n",
      "you        0.251794\n",
      "didn       0.201435\n",
      "yta        0.164810\n",
      "but        0.120861\n",
      "maybe      0.086329\n",
      "Name: question_first_word, dtype: float64\n"
     ]
    }
   ],
   "source": [
    "# first words\n",
    "clarification_var = 'question_is_clarification'\n",
    "clean_question_label_data = clean_question_label_data.assign(**{\n",
    "    'question_first_word' : clean_question_label_data.loc[:, 'question'].apply(lambda x: word_tokenizer.tokenize(x)[0].lower())\n",
    "})\n",
    "first_word_in_question_counts = clean_question_label_data.loc[:, 'question_first_word'].value_counts()\n",
    "valid_question_first_word_counts = clean_question_label_data[clean_question_label_data.loc[:, clarification_var]==1].loc[:, 'question_first_word'].value_counts()\n",
    "invalid_question_first_word_counts = clean_question_label_data[clean_question_label_data.loc[:, clarification_var]==0].loc[:, 'question_first_word'].value_counts()\n",
    "# normalize counts\n",
    "valid_question_first_word_counts = valid_question_first_word_counts / valid_question_first_word_counts.sum()\n",
    "invalid_question_first_word_counts = invalid_question_first_word_counts / invalid_question_first_word_counts.sum()\n",
    "valid_question_first_word_ratio = (valid_question_first_word_counts / invalid_question_first_word_counts).dropna()\n",
    "valid_question_first_word_ratio.sort_values(inplace=True, ascending=False)\n",
    "print(valid_question_first_word_ratio[valid_question_first_word_ratio > 1.])\n",
    "print(valid_question_first_word_ratio[valid_question_first_word_ratio < 1.])"
   ]
  },
  {
   "cell_type": "markdown",
   "metadata": {},
   "source": [
    "Clarification questions tend to ask questions with concrete details ex. `how`, `what`, `where`, `which`, `info` (common in AITA). Non-clarification questions mention more subjective questions ex. `why`, `could`, `who`, `maybe`, `didn`.\n",
    "\n",
    "Let's re-run this after parsing the questions to get the root words."
   ]
  },
  {
   "cell_type": "code",
   "execution_count": 13,
   "metadata": {
    "scrolled": true
   },
   "outputs": [],
   "source": [
    "import spacy\n",
    "nlp_pipeline = spacy.load('en_core_web_sm')"
   ]
  },
  {
   "cell_type": "code",
   "execution_count": 14,
   "metadata": {
    "scrolled": true
   },
   "outputs": [
    {
     "name": "stdout",
     "output_type": "stream",
     "text": [
      "when\n"
     ]
    }
   ],
   "source": [
    "def extract_question_word(parse, \n",
    "                          question_dep=['advmod','attr','dobj','aux','nsubj'],\n",
    "                          question_word_POS=['PRON','ADV','VERB', 'AUX']):\n",
    "    # get sentence containing question\n",
    "    sentence = list(filter(lambda x: x[-1].text=='?', parse.sents))[0]\n",
    "    root_word = sentence.root\n",
    "    root_children = list(root_word.children)\n",
    "    question_candidates = list(filter(lambda x: x.dep_ in question_dep and x.pos_ in question_word_POS, root_children))\n",
    "    # heuristic: get the first one in the sequence\n",
    "    if(len(question_candidates) > 0):\n",
    "        question_word = question_candidates[0].text.lower()\n",
    "    else:\n",
    "#         print(f'no candidate in sentence {sentence}')\n",
    "        question_word = root_word.text.lower()\n",
    "    return question_word\n",
    "test_sent = 'when did you tell her to do that?'\n",
    "test_parse = nlp_pipeline(test_sent)\n",
    "test_parse_sent = list(test_parse.sents)[0]\n",
    "print(extract_question_word(test_parse))"
   ]
  },
  {
   "cell_type": "code",
   "execution_count": 15,
   "metadata": {
    "scrolled": true
   },
   "outputs": [],
   "source": [
    "clean_question_label_data = clean_question_label_data.assign(**{\n",
    "    'question_parse' : clean_question_label_data.loc[:, 'question'].apply(lambda x: nlp_pipeline(x))\n",
    "})\n",
    "clean_question_label_data = clean_question_label_data.assign(**{\n",
    "    'question_parse_first_word' : clean_question_label_data.loc[:, 'question_parse'].apply(lambda x: extract_question_word(x))\n",
    "})"
   ]
  },
  {
   "cell_type": "code",
   "execution_count": 16,
   "metadata": {
    "scrolled": true
   },
   "outputs": [
    {
     "data": {
      "text/plain": [
       "what    77\n",
       "you     74\n",
       "do      72\n",
       "is      67\n",
       "did     66\n",
       "why     64\n",
       "i       44\n",
       "are     43\n",
       "have    41\n",
       "does    32\n",
       "Name: question_parse_first_word, dtype: int64"
      ]
     },
     "metadata": {},
     "output_type": "display_data"
    }
   ],
   "source": [
    "display(clean_question_label_data.loc[:, 'question_parse_first_word'].value_counts().head(10))"
   ]
  },
  {
   "cell_type": "code",
   "execution_count": 17,
   "metadata": {
    "scrolled": true
   },
   "outputs": [
    {
     "name": "stdout",
     "output_type": "stream",
     "text": [
      "does     5.841611\n",
      "long     5.438742\n",
      "also     3.625828\n",
      "are      3.107852\n",
      "where    3.021523\n",
      "were     3.021523\n",
      "what     2.975038\n",
      "did      2.463704\n",
      "do       1.955103\n",
      "first    1.812914\n",
      "is       1.645052\n",
      "there    1.208609\n",
      "then     1.208609\n",
      "so       1.057533\n",
      "you      1.051938\n",
      "was      1.007174\n",
      "will     1.007174\n",
      "Name: question_parse_first_word, dtype: float64\n",
      "it            0.906457\n",
      "how           0.846026\n",
      "why           0.828121\n",
      "can           0.776963\n",
      "she           0.755381\n",
      "have          0.699721\n",
      "when          0.604305\n",
      "could         0.604305\n",
      "definitely    0.604305\n",
      "everyone      0.604305\n",
      "let           0.604305\n",
      "that          0.604305\n",
      "right         0.604305\n",
      "nta           0.604305\n",
      "question      0.604305\n",
      "i             0.551756\n",
      "he            0.258988\n",
      "who           0.258988\n",
      "would         0.248831\n",
      "they          0.201435\n",
      "should        0.151076\n",
      "Name: question_parse_first_word, dtype: float64\n"
     ]
    }
   ],
   "source": [
    "## compute ratios\n",
    "valid_question_first_word_counts = clean_question_label_data[clean_question_label_data.loc[:, clarification_var]==1].loc[:, 'question_parse_first_word'].value_counts()\n",
    "invalid_question_first_word_counts = clean_question_label_data[clean_question_label_data.loc[:, clarification_var]==0].loc[:, 'question_parse_first_word'].value_counts()\n",
    "valid_question_first_word_counts = valid_question_first_word_counts / valid_question_first_word_counts.sum()\n",
    "invalid_question_first_word_counts = invalid_question_first_word_counts / invalid_question_first_word_counts.sum()\n",
    "valid_question_first_word_ratio = (valid_question_first_word_counts / invalid_question_first_word_counts).dropna()\n",
    "valid_question_first_word_ratio.sort_values(inplace=True, ascending=False)\n",
    "print(valid_question_first_word_ratio[valid_question_first_word_ratio > 1.])\n",
    "print(valid_question_first_word_ratio[valid_question_first_word_ratio < 1.])"
   ]
  },
  {
   "cell_type": "markdown",
   "metadata": {},
   "source": [
    "Similar as before, the valid questions have concrete question words like `what`, `does`, `where`, `was`; invalid questions have more subjective words like `why`, `how`, `could`, `should`."
   ]
  },
  {
   "cell_type": "markdown",
   "metadata": {},
   "source": [
    "Can we train a classifier just on the first words to predict valid vs. non-valid?"
   ]
  },
  {
   "cell_type": "code",
   "execution_count": 18,
   "metadata": {},
   "outputs": [],
   "source": [
    "## convert data to useful format\n",
    "from nltk.tokenize import WordPunctTokenizer\n",
    "from sklearn.feature_extraction.text import CountVectorizer\n",
    "word_tokenizer = WordPunctTokenizer()\n",
    "question_vocab = {'does', 'did', 'what', 'how', 'were', 'are', 'was', 'is', 'where', 'when', 'why', 'could', 'can', 'who', 'would'}\n",
    "cv = CountVectorizer(vocabulary=question_vocab, min_df=0., tokenizer=word_tokenizer.tokenize)\n",
    "question_dtm = cv.fit_transform(clean_question_label_data.loc[:, 'question'].values)\n",
    "question_labels = np.array(clean_question_label_data.loc[:, 'question_is_clarification'].values)"
   ]
  },
  {
   "cell_type": "code",
   "execution_count": 19,
   "metadata": {
    "scrolled": true
   },
   "outputs": [
    {
     "name": "stdout",
     "output_type": "stream",
     "text": [
      "0.7674368192515575\n"
     ]
    }
   ],
   "source": [
    "from sklearn.linear_model import LogisticRegression\n",
    "from sklearn.metrics import f1_score\n",
    "from sklearn.model_selection import StratifiedKFold\n",
    "model = LogisticRegression(max_iter=1000)\n",
    "n_folds = 10\n",
    "k_fold = StratifiedKFold(n_folds, shuffle=True)\n",
    "acc_scores = []\n",
    "for train_idx, test_idx in k_fold.split(question_dtm, question_labels):\n",
    "    X_train, X_test = question_dtm[train_idx, :], question_dtm[test_idx, :]\n",
    "    Y_train, Y_test = question_labels[train_idx], question_labels[test_idx]\n",
    "    model.fit(X_train, Y_train)\n",
    "    Y_pred = model.predict(X_test)\n",
    "    acc = f1_score(Y_test, Y_pred)\n",
    "    acc_scores.append(acc)\n",
    "print(np.mean(acc_scores))"
   ]
  },
  {
   "cell_type": "markdown",
   "metadata": {},
   "source": [
    "This is surprisingly good?? Does it perform equally well across subreddits?"
   ]
  },
  {
   "cell_type": "code",
   "execution_count": 20,
   "metadata": {},
   "outputs": [
    {
     "name": "stdout",
     "output_type": "stream",
     "text": [
      "legaladvice        0.882338\n",
      "AmItheAsshole      0.675476\n",
      "Advice             0.683369\n",
      "personalfinance    0.801142\n",
      "pcmasterrace       0.786429\n",
      "dtype: float64\n"
     ]
    }
   ],
   "source": [
    "from collections import defaultdict\n",
    "subreddits = clean_question_label_data.loc[:, 'subreddit'].unique()\n",
    "subreddit_acc_scores = defaultdict(list)\n",
    "model = LogisticRegression(max_iter=1000)\n",
    "n_folds = 10\n",
    "k_fold = StratifiedKFold(n_folds, shuffle=True)\n",
    "for train_idx, test_idx in k_fold.split(question_dtm, question_labels):\n",
    "    X_train, X_test = question_dtm[train_idx, :], question_dtm[test_idx, :]\n",
    "    Y_train, Y_test = question_labels[train_idx], question_labels[test_idx]\n",
    "    model.fit(X_train, Y_train)\n",
    "    # compute separate scores by subreddit\n",
    "    for subreddit_i in subreddits:\n",
    "        subreddit_idx_i = np.where(clean_question_label_data.loc[:, 'subreddit']==subreddit_i)[0]\n",
    "        subreddit_idx_i = list(set(subreddit_idx_i) & set(test_idx))\n",
    "        if(len(subreddit_idx_i) > 0):\n",
    "            X_test_i = question_dtm[subreddit_idx_i, :]\n",
    "            Y_test_i = question_labels[subreddit_idx_i]\n",
    "            Y_pred_i = model.predict(X_test_i)\n",
    "            acc = f1_score(Y_test_i, Y_pred_i)\n",
    "            subreddit_acc_scores[subreddit_i].append(acc)\n",
    "subreddit_acc_scores = pd.Series({k : np.mean(v) for k,v in subreddit_acc_scores.items()})\n",
    "print(subreddit_acc_scores)"
   ]
  },
  {
   "cell_type": "markdown",
   "metadata": {},
   "source": [
    "Surprisingly this strategy does the worst for the `AITA` community, which actually isn't terrible since we can use the `INFO` tags there to identify clarification questions."
   ]
  },
  {
   "cell_type": "code",
   "execution_count": 21,
   "metadata": {},
   "outputs": [],
   "source": [
    "## train/save model for future use\n",
    "import pickle\n",
    "full_model = LogisticRegression(max_iter=1000)\n",
    "model.fit(question_dtm, question_labels)\n",
    "model_out_file = '../../data/reddit_data/valid_question_detection_model.pkl'\n",
    "pickle.dump(model, open(model_out_file, 'wb'))\n",
    "## also save vocab FML\n",
    "vocab_out_file_name = '../../data/reddit_data/valid_question_detection_model_vocab.txt'\n",
    "cv_vocab = list(sorted(cv.vocabulary_.keys(), key=cv.vocabulary_.get))\n",
    "with open(vocab_out_file_name, 'w') as vocab_out_file:\n",
    "    vocab_out_file.write('\\n'.join(cv_vocab))"
   ]
  },
  {
   "cell_type": "markdown",
   "metadata": {},
   "source": [
    "### Bootstrap from \"INFO\" comments\n",
    "We noticed in the `AmItheAsshole` comments that some questions are marked with `INFO`. Can we use these questions to bootstrap a classifier that automatically identifies clarification questions?"
   ]
  },
  {
   "cell_type": "code",
   "execution_count": null,
   "metadata": {},
   "outputs": [],
   "source": [
    "## reload question data\n",
    "import pandas as pd\n",
    "from ast import literal_eval\n",
    "import numpy as np\n",
    "question_comment_data = pd.read_csv('../../data/reddit_data/advice_subreddit_question_data_for_validity_check.gz', sep='\\t', compression='gzip', index_col=False)\n",
    "question_comment_data.drop('Unnamed: 0', axis=1, inplace=True)\n",
    "question_comment_data = question_comment_data[~question_comment_data.loc[:, 'questions'].apply(lambda x: type(x) is float and np.isnan(x))]\n",
    "# convert question list\n",
    "question_comment_data = question_comment_data.assign(**{\n",
    "    'questions' : question_comment_data.loc[:, 'questions'].apply(literal_eval)\n",
    "})\n",
    "display(question_comment_data.head())\n",
    "## remove quote questions\n",
    "import re\n",
    "quote_matcher = re.compile('&gt;[^\\n]+\\n')\n",
    "question_comment_data = question_comment_data.assign(**{\n",
    "    'questions' : question_comment_data.loc[:, 'questions'].apply(lambda x: list(filter(lambda y: quote_matcher.search(y) is None, x)))\n",
    "})\n",
    "question_comment_data = question_comment_data.assign(**{\n",
    "    'question' : question_comment_data.loc[:, 'questions'].apply(lambda x: x[0] if len(x) > 0 else '')\n",
    "})\n",
    "print(f'{question_comment_data[question_comment_data.loc[:, \"question\"]!=\"\"].shape[0]}/{question_comment_data.shape[0]} valid questions')"
   ]
  },
  {
   "cell_type": "code",
   "execution_count": 2,
   "metadata": {},
   "outputs": [
    {
     "name": "stdout",
     "output_type": "stream",
     "text": [
      "22693/873188\n"
     ]
    },
    {
     "data": {
      "text/plain": [
       "array(['INFO What was her reaction to that ultimatum?',\n",
       "       'INFO Would you, in the same monetary position as her, be willing to buy her a computer if she needed it?',\n",
       "       'INFO - did you pay for the car?',\n",
       "       'INFO - (sorry, revised my judgement) - Was this something you had long planned out with your mother?',\n",
       "       'INFO - are you “that guy” that falls asleep whenever they sit still for 20 minutes or did you do this to avoid dinner?',\n",
       "       \"INFO - Is there some reason they both can't be there?\",\n",
       "       \"INFO what reactions did you get when you told them you're 14?\",\n",
       "       'INFO, how old are you guys?',\n",
       "       \"INFO Depends how it was brought up, but since there are two games- one the husband was already a part of and one the wife just joined, why don't they just play one game each and the other watches the baby on the others turn?\",\n",
       "       'INFO--did he tell you you were getting paid, or did you just assume?'],\n",
       "      dtype=object)"
      ]
     },
     "metadata": {},
     "output_type": "display_data"
    }
   ],
   "source": [
    "info_question_matcher = re.compile('^INFO')\n",
    "question_comment_data = question_comment_data.assign(**{\n",
    "    'info_question' : question_comment_data.loc[:, 'question'].apply(lambda x: info_question_matcher.search(x) is not None)\n",
    "})\n",
    "info_question_comment_data = question_comment_data[question_comment_data.loc[:, 'info_question']]\n",
    "print(f'{info_question_comment_data.shape[0]}/{question_comment_data.shape[0]}')\n",
    "display(info_question_comment_data.loc[:, 'question'].iloc[:10].values)"
   ]
  },
  {
   "cell_type": "markdown",
   "metadata": {},
   "source": [
    "Let's use this data as gold labels for \"true\" clarification questions and the non-info questions as silver labels for non-clarification questions, then try to classify using some standard models."
   ]
  },
  {
   "cell_type": "code",
   "execution_count": 3,
   "metadata": {},
   "outputs": [],
   "source": [
    "## sample non-info questions\n",
    "np.random.seed(123)\n",
    "non_info_question_comment_data = question_comment_data[~question_comment_data.loc[:, 'info_question']]\n",
    "info_question_sample_size = info_question_comment_data.shape[0]\n",
    "non_info_question_comment_data = non_info_question_comment_data.loc[np.random.choice(non_info_question_comment_data.index, info_question_sample_size, replace=False), :]"
   ]
  },
  {
   "cell_type": "code",
   "execution_count": 4,
   "metadata": {
    "scrolled": true
   },
   "outputs": [
    {
     "name": "stdout",
     "output_type": "stream",
     "text": [
      "(45386,)\n"
     ]
    }
   ],
   "source": [
    "## combined text data\n",
    "info_question_comment_text = np.hstack(\n",
    "    [info_question_comment_data.loc[:, 'question'].values,\n",
    "     non_info_question_comment_data.loc[:, 'question'].values]\n",
    ")\n",
    "# remove \"INFO\" as word\n",
    "import re\n",
    "info_matcher = re.compile('^INFO:?')\n",
    "info_matcher_func = np.vectorize(lambda x: info_matcher.sub('', x))\n",
    "info_question_comment_text = info_matcher_func(info_question_comment_text)\n",
    "print(info_question_comment_text.shape)"
   ]
  },
  {
   "cell_type": "code",
   "execution_count": 5,
   "metadata": {
    "scrolled": true
   },
   "outputs": [
    {
     "name": "stderr",
     "output_type": "stream",
     "text": [
      "/home/ianbstew/miniconda3/envs/py3/lib/python3.8/site-packages/sklearn/feature_extraction/text.py:388: UserWarning: Your stop_words may be inconsistent with your preprocessing. Tokenizing the stop words generated tokens ['aren', 'can', 'couldn', 'd', 'didn', 'doesn', 'don', 'hadn', 'hasn', 'haven', 'how', 'isn', 'let', 'll', 'm', 'mustn', 're', 's', 'shan', 'shouldn', 't', 've', 'wasn', 'weren', 'what', 'when', 'where', 'who', 'why', 'won', 'wouldn'] not in stop_words.\n",
      "  warnings.warn('Your stop_words may be inconsistent with '\n"
     ]
    },
    {
     "name": "stdout",
     "output_type": "stream",
     "text": [
      "is       9902\n",
      "what     7601\n",
      "do       7285\n",
      "are      7084\n",
      "how      6035\n",
      "did      5920\n",
      "t        4927\n",
      "why      4864\n",
      "s        3965\n",
      "would    3122\n",
      "can      2963\n",
      "just     2344\n",
      "get      1971\n",
      "when     1965\n",
      "like     1909\n",
      "know     1767\n",
      "want     1615\n",
      "who      1481\n",
      "re       1448\n",
      "say      1309\n",
      "dtype: int64\n"
     ]
    }
   ],
   "source": [
    "from stop_words import get_stop_words\n",
    "from sklearn.feature_extraction.text import CountVectorizer\n",
    "from nltk.tokenize import WordPunctTokenizer\n",
    "en_stops = set(get_stop_words('en'))\n",
    "question_words = {'who', 'what', 'when', 'where', 'why', 'how', 'is', 'are', 'do', 'did', 'would', 'could', 'should'}\n",
    "punct_words = set('\"?$%\\'()*,-./’')\n",
    "en_stops = en_stops - question_words\n",
    "en_stops = en_stops | punct_words\n",
    "tokenizer = WordPunctTokenizer()\n",
    "max_vocab_size = 1000\n",
    "cv = CountVectorizer(max_features=max_vocab_size, stop_words=en_stops, tokenizer=tokenizer.tokenize)\n",
    "info_question_dtm = cv.fit_transform(info_question_comment_text)\n",
    "## get vocab\n",
    "info_question_word_counts = pd.Series(np.array(info_question_dtm.sum(axis=0))[0], index=list(sorted(cv.vocabulary_, key=cv.vocabulary_.get))).sort_values(inplace=False, ascending=False)\n",
    "print(info_question_word_counts.head(20))"
   ]
  },
  {
   "cell_type": "markdown",
   "metadata": {},
   "source": [
    "Great! Now let's split into train/test and see how well we can identify clarification questions."
   ]
  },
  {
   "cell_type": "code",
   "execution_count": 6,
   "metadata": {
    "scrolled": true
   },
   "outputs": [
    {
     "name": "stderr",
     "output_type": "stream",
     "text": [
      "\r",
      "0it [00:00, ?it/s]"
     ]
    },
    {
     "name": "stdout",
     "output_type": "stream",
     "text": [
      "testing model <class 'sklearn.linear_model._logistic.LogisticRegression'>\n"
     ]
    },
    {
     "name": "stderr",
     "output_type": "stream",
     "text": [
      "10it [00:10,  1.08s/it]\n",
      "0it [00:00, ?it/s]"
     ]
    },
    {
     "name": "stdout",
     "output_type": "stream",
     "text": [
      "mean F1 = 0.697964820110219 +/- 0.009397922369227825\n",
      "testing model <class 'sklearn.svm._classes.SVC'>\n"
     ]
    },
    {
     "name": "stderr",
     "output_type": "stream",
     "text": [
      "/home/ianbstew/miniconda3/envs/py3/lib/python3.8/site-packages/sklearn/svm/_base.py:255: ConvergenceWarning: Solver terminated early (max_iter=1000).  Consider pre-processing your data with StandardScaler or MinMaxScaler.\n",
      "  warnings.warn('Solver terminated early (max_iter=%i).'\n",
      "1it [00:18, 18.81s/it]/home/ianbstew/miniconda3/envs/py3/lib/python3.8/site-packages/sklearn/svm/_base.py:255: ConvergenceWarning: Solver terminated early (max_iter=1000).  Consider pre-processing your data with StandardScaler or MinMaxScaler.\n",
      "  warnings.warn('Solver terminated early (max_iter=%i).'\n",
      "2it [00:37, 18.88s/it]/home/ianbstew/miniconda3/envs/py3/lib/python3.8/site-packages/sklearn/svm/_base.py:255: ConvergenceWarning: Solver terminated early (max_iter=1000).  Consider pre-processing your data with StandardScaler or MinMaxScaler.\n",
      "  warnings.warn('Solver terminated early (max_iter=%i).'\n",
      "3it [00:56, 18.87s/it]/home/ianbstew/miniconda3/envs/py3/lib/python3.8/site-packages/sklearn/svm/_base.py:255: ConvergenceWarning: Solver terminated early (max_iter=1000).  Consider pre-processing your data with StandardScaler or MinMaxScaler.\n",
      "  warnings.warn('Solver terminated early (max_iter=%i).'\n",
      "4it [01:15, 18.87s/it]/home/ianbstew/miniconda3/envs/py3/lib/python3.8/site-packages/sklearn/svm/_base.py:255: ConvergenceWarning: Solver terminated early (max_iter=1000).  Consider pre-processing your data with StandardScaler or MinMaxScaler.\n",
      "  warnings.warn('Solver terminated early (max_iter=%i).'\n",
      "5it [01:34, 18.92s/it]/home/ianbstew/miniconda3/envs/py3/lib/python3.8/site-packages/sklearn/svm/_base.py:255: ConvergenceWarning: Solver terminated early (max_iter=1000).  Consider pre-processing your data with StandardScaler or MinMaxScaler.\n",
      "  warnings.warn('Solver terminated early (max_iter=%i).'\n",
      "6it [01:53, 18.84s/it]/home/ianbstew/miniconda3/envs/py3/lib/python3.8/site-packages/sklearn/svm/_base.py:255: ConvergenceWarning: Solver terminated early (max_iter=1000).  Consider pre-processing your data with StandardScaler or MinMaxScaler.\n",
      "  warnings.warn('Solver terminated early (max_iter=%i).'\n",
      "7it [02:12, 18.84s/it]/home/ianbstew/miniconda3/envs/py3/lib/python3.8/site-packages/sklearn/svm/_base.py:255: ConvergenceWarning: Solver terminated early (max_iter=1000).  Consider pre-processing your data with StandardScaler or MinMaxScaler.\n",
      "  warnings.warn('Solver terminated early (max_iter=%i).'\n",
      "8it [02:31, 18.94s/it]/home/ianbstew/miniconda3/envs/py3/lib/python3.8/site-packages/sklearn/svm/_base.py:255: ConvergenceWarning: Solver terminated early (max_iter=1000).  Consider pre-processing your data with StandardScaler or MinMaxScaler.\n",
      "  warnings.warn('Solver terminated early (max_iter=%i).'\n",
      "9it [02:50, 19.00s/it]/home/ianbstew/miniconda3/envs/py3/lib/python3.8/site-packages/sklearn/svm/_base.py:255: ConvergenceWarning: Solver terminated early (max_iter=1000).  Consider pre-processing your data with StandardScaler or MinMaxScaler.\n",
      "  warnings.warn('Solver terminated early (max_iter=%i).'\n",
      "10it [03:08, 18.89s/it]\n",
      "0it [00:00, ?it/s]"
     ]
    },
    {
     "name": "stdout",
     "output_type": "stream",
     "text": [
      "mean F1 = 0.46557234175788426 +/- 0.03912339250706374\n",
      "testing model <class 'sklearn.ensemble._forest.RandomForestClassifier'>\n"
     ]
    },
    {
     "name": "stderr",
     "output_type": "stream",
     "text": [
      "10it [13:24, 80.40s/it]"
     ]
    },
    {
     "name": "stdout",
     "output_type": "stream",
     "text": [
      "mean F1 = 0.6988896779106252 +/- 0.007685303205787419\n"
     ]
    },
    {
     "name": "stderr",
     "output_type": "stream",
     "text": [
      "\n"
     ]
    }
   ],
   "source": [
    "train_pct = 0.8\n",
    "info_question_labels = np.array([0,]*len(info_question_comment_data) + [1,]*len(non_info_question_comment_data))\n",
    "from sklearn.model_selection import StratifiedKFold\n",
    "from sklearn.linear_model import LogisticRegression\n",
    "from sklearn.neural_network import MLPClassifier\n",
    "from sklearn.ensemble import RandomForestClassifier\n",
    "from sklearn.svm import SVC\n",
    "from sklearn.metrics import f1_score\n",
    "from tqdm import tqdm\n",
    "def train_test_model(X, Y, train_idx, test_idx, model):\n",
    "    X_train, X_test = X[train_idx], X[test_idx]\n",
    "    Y_train, Y_test = Y[train_idx], Y[test_idx]\n",
    "    ## train model\n",
    "    model.fit(X_train, Y_train)\n",
    "    ## test model\n",
    "    Y_pred = model.predict(X_test)\n",
    "    model_score = f1_score(Y_test, Y_pred)\n",
    "    return model_score\n",
    "np.random.seed(123)\n",
    "n_folds = 10\n",
    "k_fold = StratifiedKFold(n_folds, shuffle=True)\n",
    "models = [\n",
    "    LogisticRegression(penalty='l2', max_iter=1000),\n",
    "    # removed MLP because of high training time lol\n",
    "#     MLPClassifier(hidden_layer_sizes=(50,), activation='relu', learning_rate_init=1e-3, max_iter=1000),\n",
    "    SVC(C=1., degree=3, max_iter=1000),\n",
    "    RandomForestClassifier(n_estimators=100),\n",
    "]\n",
    "for model in models:\n",
    "    print(f'testing model {type(model)}')\n",
    "    info_question_label_acc = []\n",
    "    for train_idx, test_idx in tqdm(k_fold.split(info_question_dtm, info_question_labels)):\n",
    "        score_k = train_test_model(info_question_dtm, info_question_labels, train_idx, test_idx, model)\n",
    "    #     X_train, X_test = info_question_dtm[train_idx], info_question_dtm[test_idx]\n",
    "    #     Y_train, Y_test = info_question_labels[train_idx], info_question_labels[test_idx]\n",
    "    #     ## train model\n",
    "    #     model.fit(X_train, Y_train)\n",
    "    #     ## test model\n",
    "    #     Y_pred = model.predict(X_test)\n",
    "    #     model_score = f1_score(Y_test, Y_pred)\n",
    "        info_question_label_acc.append(score_k)\n",
    "    print(f'mean F1 = {np.mean(info_question_label_acc)} +/- {np.std(info_question_label_acc)}')"
   ]
  },
  {
   "cell_type": "markdown",
   "metadata": {},
   "source": [
    "These scores are fine but not great. Let's see how they do on the hand-labeled data."
   ]
  },
  {
   "cell_type": "code",
   "execution_count": 7,
   "metadata": {},
   "outputs": [
    {
     "name": "stdout",
     "output_type": "stream",
     "text": [
      "1.0    908\n",
      "0.0     76\n",
      "Name: question_is_relevant, dtype: int64\n",
      "1.0    604\n",
      "0.0    380\n",
      "Name: question_is_clarification, dtype: int64\n",
      "0.0    720\n",
      "1.0     14\n",
      "Name: submission_contains_answer, dtype: int64\n"
     ]
    }
   ],
   "source": [
    "## load labelled data\n",
    "## load all previously labeled data\n",
    "question_only_comment_label_data = pd.read_csv('../../data/reddit_data/sample_advice_subreddit_question_labels.tsv', sep='\\t', index_col=False)\n",
    "question_initial_comment_label_data = pd.read_csv('../../data/reddit_data/sample_advice_subreddit_post_initial_question_labels.tsv', sep='\\t', index_col=False)\n",
    "parent_reply_question_label_data = pd.read_csv('../../data/reddit_data/sample_advice_subreddit_parent_reply_question_labels.tsv', sep='\\t', index_col=False)\n",
    "no_filter_question_label_data = pd.read_csv('../../data/reddit_data/sample_advice_subreddit_no_filter_question_labels.tsv', sep='\\t', index_col=False)\n",
    "combined_question_label_data = pd.concat([\n",
    "    question_only_comment_label_data,\n",
    "    question_initial_comment_label_data,\n",
    "    parent_reply_question_label_data,\n",
    "    no_filter_question_label_data,\n",
    "], axis=0)\n",
    "label_cols = ['question_is_relevant', 'question_is_clarification', 'submission_contains_answer']\n",
    "combined_question_label_data.fillna({x : 0. for x in label_cols}, inplace=True)\n",
    "text_cols = ['selftext', 'parent_text', 'question']\n",
    "combined_question_label_data.fillna({x : '' for x in text_cols}, inplace=True)\n",
    "# fix inconsistent columns\n",
    "combined_question_label_data = combined_question_label_data.assign(**{\n",
    "    'submission_contains_answer' : combined_question_label_data.loc[:, 'submission_contains_answer']+combined_question_label_data.loc[:, 'post_contains_answer']\n",
    "})\n",
    "combined_question_label_data = combined_question_label_data.assign(**{\n",
    "    'selftext' : combined_question_label_data.loc[:, 'selftext'].astype(str) + combined_question_label_data.loc[:, 'parent_text'].astype(str)\n",
    "})\n",
    "combined_question_label_data = combined_question_label_data.assign(**{\n",
    "    'question' : combined_question_label_data.apply(lambda x: x.loc['question'] if x.loc['question']!='' else x.loc['body'], axis=1)\n",
    "})\n",
    "## remove bot authors\n",
    "bot_authors = ['LocationBot']\n",
    "combined_question_label_data = pd.merge(combined_question_label_data, question_comment_data.loc[:, ['id', 'author']], on='id')\n",
    "combined_question_label_data = combined_question_label_data[~combined_question_label_data.loc[:, 'author'].isin(bot_authors)]\n",
    "for label_col in label_cols:\n",
    "    print(combined_question_label_data.loc[:, label_col].value_counts())\n",
    "## compute validity\n",
    "combined_question_label_data = combined_question_label_data.assign(**{\n",
    "    'question_is_valid' : ((combined_question_label_data.loc[:, 'question_is_relevant']==1) & \n",
    "                           (combined_question_label_data.loc[:, 'question_is_clarification']==1) & \n",
    "                           (combined_question_label_data.loc[:, 'submission_contains_answer']==0)).astype(int)\n",
    "})"
   ]
  },
  {
   "cell_type": "code",
   "execution_count": 9,
   "metadata": {},
   "outputs": [],
   "source": [
    "## remove \"INFO\" from questions\n",
    "import re\n",
    "info_matcher = re.compile('^INFO:?')\n",
    "combined_question_label_data = combined_question_label_data.assign(**{\n",
    "    'clean_question' : combined_question_label_data.loc[:, 'question'].apply(lambda x: info_matcher.sub('', x))\n",
    "})\n",
    "## convert to DTM, labels\n",
    "clean_question_dtm = cv.transform(combined_question_label_data.loc[:, 'clean_question'].values)\n",
    "clean_question_labels = combined_question_label_data.loc[:, 'question_is_clarification'].values"
   ]
  },
  {
   "cell_type": "code",
   "execution_count": 10,
   "metadata": {},
   "outputs": [
    {
     "name": "stdout",
     "output_type": "stream",
     "text": [
      "model score on clean labelled data = 0.573\n"
     ]
    }
   ],
   "source": [
    "## re-train, test\n",
    "model = RandomForestClassifier(n_estimators=100)\n",
    "model.fit(info_question_dtm, info_question_labels)\n",
    "## predict etc.\n",
    "clean_question_pred_labels = model.predict(clean_question_dtm)\n",
    "clean_question_pred_score = f1_score(clean_question_labels, clean_question_pred_labels)\n",
    "print(f'model score on clean labelled data = {\"{:1.3f}\".format(clean_question_pred_score)}')"
   ]
  },
  {
   "cell_type": "markdown",
   "metadata": {},
   "source": [
    "OK! This is really bad. I'm going to assume that most of the errors come from domain differences (writing style in `AmItheAsshole` is significantly different from writing in other communities)."
   ]
  },
  {
   "cell_type": "markdown",
   "metadata": {},
   "source": [
    "### Label all questions in comments as valid/correct\n",
    "Let's use that model that we trained on valid questions and run it on the whole data set to determine the likely distribution of questions overall."
   ]
  },
  {
   "cell_type": "code",
   "execution_count": 1,
   "metadata": {},
   "outputs": [
    {
     "name": "stderr",
     "output_type": "stream",
     "text": [
      "/home/ianbstew/miniconda3/envs/py3/lib/python3.8/site-packages/IPython/core/interactiveshell.py:3155: DtypeWarning: Columns (1,2,3,4,5,6,7,9,10) have mixed types.Specify dtype option on import or set low_memory=False.\n",
      "  has_raised = await self.run_ast_nodes(code_ast.body, cell_name,\n"
     ]
    }
   ],
   "source": [
    "## reload model etc.\n",
    "import pandas as pd\n",
    "import numpy as np\n",
    "question_comment_data = pd.read_csv('../../data/reddit_data/subreddit_combined_comment_question_data.gz', sep='\\t', index_col=False, compression='gzip')\n",
    "# remove comments with no parent\n",
    "question_comment_data = question_comment_data[question_comment_data.loc[:, 'parent_id'].apply(lambda x: type(x) is not float)]\n",
    "# remove null questions\n",
    "question_comment_data = question_comment_data[~question_comment_data.loc[:, 'questions'].apply(lambda x: type(x) is float and np.isnan(x))]\n",
    "# convert questions\n",
    "from ast import literal_eval\n",
    "question_comment_data = question_comment_data.assign(**{\n",
    "    'questions' : question_comment_data.loc[:, 'questions'].apply(literal_eval)\n",
    "})"
   ]
  },
  {
   "cell_type": "code",
   "execution_count": 2,
   "metadata": {},
   "outputs": [
    {
     "name": "stdout",
     "output_type": "stream",
     "text": [
      "5463573\n"
     ]
    }
   ],
   "source": [
    "print(question_comment_data.shape[0])"
   ]
  },
  {
   "cell_type": "code",
   "execution_count": 3,
   "metadata": {
    "scrolled": true
   },
   "outputs": [],
   "source": [
    "## add post data\n",
    "from data_helpers import load_zipped_json_data\n",
    "submission_data = load_zipped_json_data('../../data/reddit_data/subreddit_submissions_2018-01_2019-12.gz')\n",
    "question_comment_data = question_comment_data.assign(**{'parent_id':question_comment_data.loc[:, 'parent_id'].apply(lambda x: x.split('_')[-1])})\n",
    "submission_data.rename(columns={'id' : 'parent_id', 'created_utc' : 'parent_created', 'selftext' : 'parent_text', 'title' : 'parent_title', 'edited' : 'parent_edited', 'author' : 'parent_author'}, inplace=True)\n",
    "question_submission_data = pd.merge(\n",
    "    question_comment_data, \n",
    "    submission_data.loc[:, ['parent_id', 'parent_created', 'parent_text', 'parent_title', 'parent_edited', 'parent_author']],\n",
    "    on='parent_id'\n",
    ")\n",
    "# remove duplicate questions\n",
    "question_submission_data.drop_duplicates(['parent_id', 'body'], inplace=True)"
   ]
  },
  {
   "cell_type": "code",
   "execution_count": 4,
   "metadata": {
    "scrolled": true
   },
   "outputs": [
    {
     "name": "stderr",
     "output_type": "stream",
     "text": [
      "100%|██████████| 5287762/5287762 [04:51<00:00, 18152.87it/s]\n"
     ]
    }
   ],
   "source": [
    "## remove edits\n",
    "from importlib import reload\n",
    "import data_helpers\n",
    "reload(data_helpers)\n",
    "from data_helpers import remove_edit_data\n",
    "from tqdm import tqdm\n",
    "tqdm.pandas()\n",
    "question_submission_data = question_submission_data.assign(**{\n",
    "    'clean_submission_text' : question_submission_data.loc[:, 'parent_text'].progress_apply(lambda x: remove_edit_data(x))\n",
    "})"
   ]
  },
  {
   "cell_type": "code",
   "execution_count": 5,
   "metadata": {},
   "outputs": [],
   "source": [
    "from tqdm import tqdm\n",
    "import numpy as np\n",
    "def flatten_columns(df, cols):\n",
    "    \"\"\"Flattens multiple columns in a data frame, cannot specify all columns!\"\"\"\n",
    "    flattened_cols = {}\n",
    "    for col in cols:\n",
    "        flattened_cols[col] = pd.DataFrame([(index, value) for (index, values) in tqdm(df[col].iteritems()) for value in values],\n",
    "                                           columns=['index', col]).set_index('index')\n",
    "    flattened_df = df.drop(cols, axis=1)\n",
    "    for col in cols:\n",
    "        flattened_df = flattened_df.join(flattened_cols[col])\n",
    "    # remove null vals??\n",
    "    for col in cols:\n",
    "        flattened_df = flattened_df[~flattened_df.loc[:, col].apply(lambda x: type(x) is float and np.isnan(x))]\n",
    "    return flattened_df"
   ]
  },
  {
   "cell_type": "code",
   "execution_count": 6,
   "metadata": {
    "scrolled": true
   },
   "outputs": [
    {
     "name": "stderr",
     "output_type": "stream",
     "text": [
      "5287762it [00:04, 1259505.36it/s]\n"
     ]
    }
   ],
   "source": [
    "## flatten to one question per comment\n",
    "from tqdm import tqdm\n",
    "flat_question_data = flatten_columns(question_submission_data, cols=['questions'])\n",
    "# stupid serial approach\n",
    "# flat_question_data = []\n",
    "# for idx_i, data_i in tqdm(question_submission_data.iterrows()):\n",
    "#     for question_j in data_i.loc['questions']:\n",
    "#         data_j = data_i.copy()\n",
    "#         data_j.append(pd.Series([question_j]))\n",
    "#         data_j.drop('questions', inplace=True)\n",
    "# #         data_j = data_i.assign(**{'question' : question_j}).drop('questions', axis=1)\n",
    "#         flat_question_data.append(data_j)\n",
    "# flat_question_data = pd.concat(flat_question_data, axis=1).transpose()"
   ]
  },
  {
   "cell_type": "code",
   "execution_count": 7,
   "metadata": {},
   "outputs": [],
   "source": [
    "raw_flat_questions = [y for x in question_submission_data.loc[:, 'questions'].values for y in x]"
   ]
  },
  {
   "cell_type": "code",
   "execution_count": 8,
   "metadata": {},
   "outputs": [
    {
     "name": "stdout",
     "output_type": "stream",
     "text": [
      "1541603\n",
      "1541603\n"
     ]
    }
   ],
   "source": [
    "print(len(raw_flat_questions))\n",
    "print(flat_question_data.shape[0])"
   ]
  },
  {
   "cell_type": "code",
   "execution_count": 9,
   "metadata": {},
   "outputs": [],
   "source": [
    "flat_question_data.rename(columns={'questions':'question'}, inplace=True)"
   ]
  },
  {
   "cell_type": "markdown",
   "metadata": {},
   "source": [
    "First step: label messages as valid/invalid."
   ]
  },
  {
   "cell_type": "code",
   "execution_count": 10,
   "metadata": {
    "scrolled": true
   },
   "outputs": [
    {
     "name": "stdout",
     "output_type": "stream",
     "text": [
      "are      210897\n",
      "can      121587\n",
      "could     46019\n",
      "did      117037\n",
      "does      86301\n",
      "how      156648\n",
      "is       317414\n",
      "was       89331\n",
      "were      45052\n",
      "what     259536\n",
      "when      60271\n",
      "where     30923\n",
      "who       59533\n",
      "why      162348\n",
      "would    121136\n",
      "dtype: int64\n"
     ]
    }
   ],
   "source": [
    "## label all questions as clarification/non-clarification\n",
    "import pickle\n",
    "valid_question_model = pickle.load(open('../../data/reddit_data/valid_question_detection_model.pkl', 'rb'))\n",
    "model_vocab = list(map(lambda x: x.strip(), open('../../data/reddit_data/valid_question_detection_model_vocab.txt')))\n",
    "## transform etc.\n",
    "from sklearn.feature_extraction.text import CountVectorizer\n",
    "cv = CountVectorizer(vocabulary=model_vocab)\n",
    "flat_question_dtm = cv.fit_transform(flat_question_data.loc[:, 'question'].values)\n",
    "# sanity check for feature frequency\n",
    "flat_question_word_counts = pd.Series(np.array(flat_question_dtm.sum(axis=0))[0], index=list(sorted(cv.vocabulary_, key=cv.vocabulary_.get)))\n",
    "print(flat_question_word_counts)\n",
    "## predict valid/invalid\n",
    "question_valid_probs = valid_question_model.predict_proba(flat_question_dtm)\n",
    "flat_question_data = flat_question_data.assign(**{\n",
    "    'valid_question_prob' : question_valid_probs[:, 1]\n",
    "})"
   ]
  },
  {
   "cell_type": "code",
   "execution_count": 11,
   "metadata": {},
   "outputs": [
    {
     "data": {
      "image/png": "[encoded data removed]",
      "text/plain": [
       "<Figure size 432x288 with 1 Axes>"
      ]
     },
     "metadata": {
      "needs_background": "light"
     },
     "output_type": "display_data"
    }
   ],
   "source": [
    "import matplotlib\n",
    "%matplotlib inline\n",
    "import matplotlib.pyplot as plt\n",
    "plt.hist(flat_question_data.loc[:, 'valid_question_prob'].values, bins=10)\n",
    "plt.show()"
   ]
  },
  {
   "cell_type": "markdown",
   "metadata": {},
   "source": [
    "Most of the questions are labelled \"valid\"."
   ]
  },
  {
   "cell_type": "code",
   "execution_count": 12,
   "metadata": {
    "scrolled": true
   },
   "outputs": [
    {
     "name": "stdout",
     "output_type": "stream",
     "text": [
      "34390 info questions\n"
     ]
    }
   ],
   "source": [
    "## let's also get the \"INFO\" questions\n",
    "import re\n",
    "info_question_matcher = re.compile('^INFO:? .+')\n",
    "info_question_subreddits = {'AmItheAsshole'}\n",
    "flat_question_data = flat_question_data.assign(**{\n",
    "    'info_question' : flat_question_data.apply(lambda x: (x.loc['subreddit'] in info_question_subreddits) & (info_question_matcher.match(x.loc['question']) is not None), axis=1)\n",
    "})\n",
    "print(f'{flat_question_data.loc[:, \"info_question\"].astype(int).sum()} info questions')"
   ]
  },
  {
   "cell_type": "code",
   "execution_count": 13,
   "metadata": {},
   "outputs": [],
   "source": [
    "# remove quote questions\n",
    "import re\n",
    "quote_matcher = re.compile('^.+&gt;')\n",
    "flat_question_data = flat_question_data[flat_question_data.loc[:, 'question'].apply(lambda x: quote_matcher.search(x) is None)]"
   ]
  },
  {
   "cell_type": "code",
   "execution_count": 15,
   "metadata": {
    "scrolled": true
   },
   "outputs": [
    {
     "name": "stderr",
     "output_type": "stream",
     "text": [
      "100%|██████████| 1540665/1540665 [3:18:22<00:00, 129.44it/s]  \n",
      "100%|██████████| 1540665/1540665 [08:25<00:00, 3046.33it/s]\n",
      "100%|██████████| 1540239/1540239 [06:36<00:00, 3882.82it/s]\n"
     ]
    }
   ],
   "source": [
    "## compute overlap between post and questions\n",
    "from data_helpers import tokenize_stem_text\n",
    "from nltk.tokenize import WordPunctTokenizer, PunktSentenceTokenizer\n",
    "from nltk.stem import PorterStemmer\n",
    "from tqdm import tqdm\n",
    "tqdm.pandas()\n",
    "word_tokenizer = WordPunctTokenizer()\n",
    "sent_tokenizer = PunktSentenceTokenizer()\n",
    "stemmer = PorterStemmer()\n",
    "flat_question_data = flat_question_data.assign(**{\n",
    "    'submission_sents' : flat_question_data.loc[:, 'clean_submission_text'].progress_apply(lambda x: tokenize_stem_text(x, stemmer, word_tokenizer, sent_tokenizer)),\n",
    "    'question_sents' : flat_question_data.loc[:, 'question'].progress_apply(lambda x: tokenize_stem_text(x, stemmer, word_tokenizer, sent_tokenizer))\n",
    "})\n",
    "# remove posts without sentences??\n",
    "flat_question_data = flat_question_data[flat_question_data.loc[:, 'submission_sents'].apply(lambda x: len(x) > 0)]\n",
    "from data_helpers import compute_sent_word_overlap\n",
    "flat_question_data = flat_question_data.assign(**{\n",
    "    'post_question_overlap' : flat_question_data.progress_apply(lambda x: compute_sent_word_overlap(x.loc['submission_sents'], x.loc['question_sents']), axis=1)\n",
    "})\n",
    "flat_question_data = flat_question_data.assign(**{\n",
    "    'post_question_overlap_score' : flat_question_data.loc[:, 'post_question_overlap'].apply(lambda x: x[0]),\n",
    "    'post_question_overlap_sent' : flat_question_data.loc[:, 'post_question_overlap'].apply(lambda x: x[1][0]),\n",
    "})"
   ]
  },
  {
   "cell_type": "code",
   "execution_count": 18,
   "metadata": {},
   "outputs": [
    {
     "data": {
      "image/png": "[encoded data removed]",
      "text/plain": [
       "<Figure size 432x288 with 1 Axes>"
      ]
     },
     "metadata": {
      "needs_background": "light"
     },
     "output_type": "display_data"
    }
   ],
   "source": [
    "## plot overall distribution over overlap scores\n",
    "import matplotlib\n",
    "%matplotlib inline\n",
    "import matplotlib.pyplot as plt\n",
    "plt.hist(flat_question_data.loc[:, 'post_question_overlap_score'], bins=20)\n",
    "plt.show()"
   ]
  },
  {
   "cell_type": "markdown",
   "metadata": {},
   "source": [
    "Let's look at questions at different overlap quantiles to determine what a good cutoff point would be ."
   ]
  },
  {
   "cell_type": "code",
   "execution_count": 19,
   "metadata": {
    "scrolled": true
   },
   "outputs": [
    {
     "name": "stdout",
     "output_type": "stream",
     "text": [
      "[0.  0.1 0.2 0.3 0.4 0.5 0.6 0.7 0.8 0.9 1. ]\n",
      "testing bin = 0.000\n"
     ]
    },
    {
     "data": {
      "text/html": [
       "<div>\n",
       "<style scoped>\n",
       "    .dataframe tbody tr th:only-of-type {\n",
       "        vertical-align: middle;\n",
       "    }\n",
       "\n",
       "    .dataframe tbody tr th {\n",
       "        vertical-align: top;\n",
       "    }\n",
       "\n",
       "    .dataframe thead th {\n",
       "        text-align: right;\n",
       "    }\n",
       "</style>\n",
       "<table border=\"1\" class=\"dataframe\">\n",
       "  <thead>\n",
       "    <tr style=\"text-align: right;\">\n",
       "      <th></th>\n",
       "      <th>post_question_overlap_score</th>\n",
       "      <th>question</th>\n",
       "      <th>post_question_overlap_sent</th>\n",
       "      <th>parent_title</th>\n",
       "    </tr>\n",
       "  </thead>\n",
       "  <tbody>\n",
       "    <tr>\n",
       "      <th>413318</th>\n",
       "      <td>0.0</td>\n",
       "      <td>Do you have any monetary damages?</td>\n",
       "      <td>[I, wa, punch, by, a, store, employe, without, me, incit, violenc, or, encourag, a, physic, alterc, .]</td>\n",
       "      <td>I was attacked by a store employee leaving me permanently disfigured 2 years ago, is it too late to seek damages?</td>\n",
       "    </tr>\n",
       "    <tr>\n",
       "      <th>80393</th>\n",
       "      <td>0.0</td>\n",
       "      <td>Maybe you should take your business elsewhere?</td>\n",
       "      <td>[So, here, ', s, the, situat, :, I, ', ve, just, recent, start, work, out, (, 2, month, ).]</td>\n",
       "      <td>AITA for telling a lady she can't bring her kid to gym?</td>\n",
       "    </tr>\n",
       "    <tr>\n",
       "      <th>5050860</th>\n",
       "      <td>0.0</td>\n",
       "      <td>Have you noticed favoritism elsewhere in your life?</td>\n",
       "      <td>[So, basic, i, graduat, high, school, on, wednesday, and, tonit, i, had, some, famili, over, for, a, littl, grad, parti, .]</td>\n",
       "      <td>AITA for feeling like i didn’t get enough for my graduation gift</td>\n",
       "    </tr>\n",
       "    <tr>\n",
       "      <th>162718</th>\n",
       "      <td>0.0</td>\n",
       "      <td>Does your HOA have one?</td>\n",
       "      <td>[sorri, I, ', m, on, mobil, .]</td>\n",
       "      <td>CAN, HOA, The acounts are in the black and the budget is not adding up. We're increasing our rent to supplement an incorrect budget.</td>\n",
       "    </tr>\n",
       "    <tr>\n",
       "      <th>1368284</th>\n",
       "      <td>0.0</td>\n",
       "      <td>Do you guys share finances?</td>\n",
       "      <td>[I, had, to, work, on, mother, day, and, didnt, get, off, until, 7pm, .]</td>\n",
       "      <td>AITA for call my wife selfish on mothers day?</td>\n",
       "    </tr>\n",
       "    <tr>\n",
       "      <th>1368268</th>\n",
       "      <td>0.0</td>\n",
       "      <td>YTA-  WTH dude?</td>\n",
       "      <td>[I, had, to, work, on, mother, day, and, didnt, get, off, until, 7pm, .]</td>\n",
       "      <td>AITA for call my wife selfish on mothers day?</td>\n",
       "    </tr>\n",
       "    <tr>\n",
       "      <th>3411889</th>\n",
       "      <td>0.0</td>\n",
       "      <td>What did they think would happen?</td>\n",
       "      <td>[I, (, 19, F, ), wa, a, martial, art, assist, instructor, at, anoth, academi, when, I, wa, younger, (, I, ', m, been, at, a, new, one, sinc, I, st...</td>\n",
       "      <td>WIBTA if I get a restraining/no contact order against a 14 year old kid?</td>\n",
       "    </tr>\n",
       "    <tr>\n",
       "      <th>5051006</th>\n",
       "      <td>0.0</td>\n",
       "      <td>Who pays mortgage/rent?</td>\n",
       "      <td>[thi, person, will, alway, mix, dirti, dish, in, with, our, and, I, wouldn, ', t, mind, if, she, wash, up, more, than, onc, in, a, blue, moon, but...</td>\n",
       "      <td>AITA For separating and washing up mine and my partners dirty dishes from her mums to leave for her mum to her own? (Reasoning below)</td>\n",
       "    </tr>\n",
       "    <tr>\n",
       "      <th>2270432</th>\n",
       "      <td>0.0</td>\n",
       "      <td>Also, high school?</td>\n",
       "      <td>[[, TX, ], due, to, recent, event, where, I, wa, accus, if, make, threat, in, class, I, decid, to, record, myself, to, protect, against, more, fal...</td>\n",
       "      <td>Can i legally record myself in class</td>\n",
       "    </tr>\n",
       "    <tr>\n",
       "      <th>3196229</th>\n",
       "      <td>0.0</td>\n",
       "      <td>Are you CPA eligible?</td>\n",
       "      <td>[account, make, $, 48, ,, 000, at, a, mid, -, size, corpor, .]</td>\n",
       "      <td>[Staff accountant] Bonus received -- does this replace a raise?</td>\n",
       "    </tr>\n",
       "  </tbody>\n",
       "</table>\n",
       "</div>"
      ],
      "text/plain": [
       "         post_question_overlap_score  \\\n",
       "413318                           0.0   \n",
       "80393                            0.0   \n",
       "5050860                          0.0   \n",
       "162718                           0.0   \n",
       "1368284                          0.0   \n",
       "1368268                          0.0   \n",
       "3411889                          0.0   \n",
       "5051006                          0.0   \n",
       "2270432                          0.0   \n",
       "3196229                          0.0   \n",
       "\n",
       "                                                    question  \\\n",
       "413318                     Do you have any monetary damages?   \n",
       "80393         Maybe you should take your business elsewhere?   \n",
       "5050860  Have you noticed favoritism elsewhere in your life?   \n",
       "162718                               Does your HOA have one?   \n",
       "1368284                          Do you guys share finances?   \n",
       "1368268                                      YTA-  WTH dude?   \n",
       "3411889                    What did they think would happen?   \n",
       "5051006                              Who pays mortgage/rent?   \n",
       "2270432                                   Also, high school?   \n",
       "3196229                                Are you CPA eligible?   \n",
       "\n",
       "                                                                                                                                    post_question_overlap_sent  \\\n",
       "413318                                                  [I, wa, punch, by, a, store, employe, without, me, incit, violenc, or, encourag, a, physic, alterc, .]   \n",
       "80393                                                              [So, here, ', s, the, situat, :, I, ', ve, just, recent, start, work, out, (, 2, month, ).]   \n",
       "5050860                            [So, basic, i, graduat, high, school, on, wednesday, and, tonit, i, had, some, famili, over, for, a, littl, grad, parti, .]   \n",
       "162718                                                                                                                          [sorri, I, ', m, on, mobil, .]   \n",
       "1368284                                                                               [I, had, to, work, on, mother, day, and, didnt, get, off, until, 7pm, .]   \n",
       "1368268                                                                               [I, had, to, work, on, mother, day, and, didnt, get, off, until, 7pm, .]   \n",
       "3411889  [I, (, 19, F, ), wa, a, martial, art, assist, instructor, at, anoth, academi, when, I, wa, younger, (, I, ', m, been, at, a, new, one, sinc, I, st...   \n",
       "5051006  [thi, person, will, alway, mix, dirti, dish, in, with, our, and, I, wouldn, ', t, mind, if, she, wash, up, more, than, onc, in, a, blue, moon, but...   \n",
       "2270432  [[, TX, ], due, to, recent, event, where, I, wa, accus, if, make, threat, in, class, I, decid, to, record, myself, to, protect, against, more, fal...   \n",
       "3196229                                                                                         [account, make, $, 48, ,, 000, at, a, mid, -, size, corpor, .]   \n",
       "\n",
       "                                                                                                                                  parent_title  \n",
       "413318                       I was attacked by a store employee leaving me permanently disfigured 2 years ago, is it too late to seek damages?  \n",
       "80393                                                                                  AITA for telling a lady she can't bring her kid to gym?  \n",
       "5050860                                                                       AITA for feeling like i didn’t get enough for my graduation gift  \n",
       "162718    CAN, HOA, The acounts are in the black and the budget is not adding up. We're increasing our rent to supplement an incorrect budget.  \n",
       "1368284                                                                                          AITA for call my wife selfish on mothers day?  \n",
       "1368268                                                                                          AITA for call my wife selfish on mothers day?  \n",
       "3411889                                                               WIBTA if I get a restraining/no contact order against a 14 year old kid?  \n",
       "5051006  AITA For separating and washing up mine and my partners dirty dishes from her mums to leave for her mum to her own? (Reasoning below)  \n",
       "2270432                                                                                                   Can i legally record myself in class  \n",
       "3196229                                                                        [Staff accountant] Bonus received -- does this replace a raise?  "
      ]
     },
     "metadata": {},
     "output_type": "display_data"
    },
    {
     "name": "stdout",
     "output_type": "stream",
     "text": [
      "testing bin = 0.100\n"
     ]
    },
    {
     "data": {
      "text/html": [
       "<div>\n",
       "<style scoped>\n",
       "    .dataframe tbody tr th:only-of-type {\n",
       "        vertical-align: middle;\n",
       "    }\n",
       "\n",
       "    .dataframe tbody tr th {\n",
       "        vertical-align: top;\n",
       "    }\n",
       "\n",
       "    .dataframe thead th {\n",
       "        text-align: right;\n",
       "    }\n",
       "</style>\n",
       "<table border=\"1\" class=\"dataframe\">\n",
       "  <thead>\n",
       "    <tr style=\"text-align: right;\">\n",
       "      <th></th>\n",
       "      <th>post_question_overlap_score</th>\n",
       "      <th>question</th>\n",
       "      <th>post_question_overlap_sent</th>\n",
       "      <th>parent_title</th>\n",
       "    </tr>\n",
       "  </thead>\n",
       "  <tbody>\n",
       "    <tr>\n",
       "      <th>4286192</th>\n",
       "      <td>0.1</td>\n",
       "      <td>Is there a solid impression she does that makes you crack up every single time?</td>\n",
       "      <td>[I, know, for, a, fact, that, she, will, ask, me, thi, question, again, ,, and, the, next, time, it, happen, I, still, don, ’, t, know, what, to, ...</td>\n",
       "      <td>WIBTA if my friend (16F) asked me (16F) whether I think she’s ugly, and I were to be honest and tell her yes?</td>\n",
       "    </tr>\n",
       "    <tr>\n",
       "      <th>1362993</th>\n",
       "      <td>0.1</td>\n",
       "      <td>Likelihood of this being just a bluff?</td>\n",
       "      <td>[I, ’, m, contact, a, lawyer, about, what, I, can, do, sinc, I, don, ’, t, know, all, of, my, right, about, thi, ,, though, I, ’, m, sure, I, have...</td>\n",
       "      <td>Threatened to getting sued over Google review (CA)</td>\n",
       "    </tr>\n",
       "    <tr>\n",
       "      <th>845224</th>\n",
       "      <td>0.1</td>\n",
       "      <td>Water is 90 a month?</td>\n",
       "      <td>[credit, score, is, 534, I, think, and, I, have, absolut, no, save, for, a, raini, day, .]</td>\n",
       "      <td>31 year old with nothing to fall on, debt and irresponsible.</td>\n",
       "    </tr>\n",
       "    <tr>\n",
       "      <th>3207036</th>\n",
       "      <td>0.1</td>\n",
       "      <td>INFO: is your boss legally allowed to fire you over something like this?</td>\n",
       "      <td>[My, wife, is, realli, mad, and, say, thi, is, a, ridicul, request, for, my, boss, to, make, and, that, I, need, to, put, our, famili, first, and,...</td>\n",
       "      <td>WIBTA for canceling a family vacation at my boss's request?</td>\n",
       "    </tr>\n",
       "    <tr>\n",
       "      <th>845244</th>\n",
       "      <td>0.1</td>\n",
       "      <td>Instead of being miserable for 3 months why not start the job search now?</td>\n",
       "      <td>[If, someth, doesn, ', t, chang, in, the, next, 3, month, ,, I, ', m, go, to, quit, .]</td>\n",
       "      <td>Quitting your job with no new job.</td>\n",
       "    </tr>\n",
       "    <tr>\n",
       "      <th>1506844</th>\n",
       "      <td>0.1</td>\n",
       "      <td>NTA sounds like some of your friends are kind of homophobic tbh?</td>\n",
       "      <td>[both, of, us, and, anoth, friend, start, laugh, like, crazi, ,, but, the, other, 3, peopl, just, look, at, us, like, whaatttt, ??????]</td>\n",
       "      <td>AITA for telling my friends that I'd had sex in the place where we were camping?</td>\n",
       "    </tr>\n",
       "    <tr>\n",
       "      <th>3207084</th>\n",
       "      <td>0.1</td>\n",
       "      <td>How easily can you find a new job?</td>\n",
       "      <td>[witba, ?]</td>\n",
       "      <td>WIBTA for canceling a family vacation at my boss's request?</td>\n",
       "    </tr>\n",
       "    <tr>\n",
       "      <th>845183</th>\n",
       "      <td>0.1</td>\n",
       "      <td>But have you considered what maneuvering you can do to work around the broken AC issue?</td>\n",
       "      <td>[should, we, replac, the, AC, unit, in, the, crv, or, buy, a, new, (, use, ), car, ?]</td>\n",
       "      <td>Replace AC or get a new (used) car?</td>\n",
       "    </tr>\n",
       "    <tr>\n",
       "      <th>3207084</th>\n",
       "      <td>0.1</td>\n",
       "      <td>How much do you like your current job?</td>\n",
       "      <td>[witba, ?]</td>\n",
       "      <td>WIBTA for canceling a family vacation at my boss's request?</td>\n",
       "    </tr>\n",
       "    <tr>\n",
       "      <th>3207042</th>\n",
       "      <td>0.1</td>\n",
       "      <td>Can your wife go without you at least?</td>\n",
       "      <td>[witba, ?]</td>\n",
       "      <td>WIBTA for canceling a family vacation at my boss's request?</td>\n",
       "    </tr>\n",
       "  </tbody>\n",
       "</table>\n",
       "</div>"
      ],
      "text/plain": [
       "         post_question_overlap_score  \\\n",
       "4286192                          0.1   \n",
       "1362993                          0.1   \n",
       "845224                           0.1   \n",
       "3207036                          0.1   \n",
       "845244                           0.1   \n",
       "1506844                          0.1   \n",
       "3207084                          0.1   \n",
       "845183                           0.1   \n",
       "3207084                          0.1   \n",
       "3207042                          0.1   \n",
       "\n",
       "                                                                                        question  \\\n",
       "4286192          Is there a solid impression she does that makes you crack up every single time?   \n",
       "1362993                                                   Likelihood of this being just a bluff?   \n",
       "845224                                                                      Water is 90 a month?   \n",
       "3207036                 INFO: is your boss legally allowed to fire you over something like this?   \n",
       "845244                 Instead of being miserable for 3 months why not start the job search now?   \n",
       "1506844                         NTA sounds like some of your friends are kind of homophobic tbh?   \n",
       "3207084                                                       How easily can you find a new job?   \n",
       "845183   But have you considered what maneuvering you can do to work around the broken AC issue?   \n",
       "3207084                                                   How much do you like your current job?   \n",
       "3207042                                                   Can your wife go without you at least?   \n",
       "\n",
       "                                                                                                                                    post_question_overlap_sent  \\\n",
       "4286192  [I, know, for, a, fact, that, she, will, ask, me, thi, question, again, ,, and, the, next, time, it, happen, I, still, don, ’, t, know, what, to, ...   \n",
       "1362993  [I, ’, m, contact, a, lawyer, about, what, I, can, do, sinc, I, don, ’, t, know, all, of, my, right, about, thi, ,, though, I, ’, m, sure, I, have...   \n",
       "845224                                                              [credit, score, is, 534, I, think, and, I, have, absolut, no, save, for, a, raini, day, .]   \n",
       "3207036  [My, wife, is, realli, mad, and, say, thi, is, a, ridicul, request, for, my, boss, to, make, and, that, I, need, to, put, our, famili, first, and,...   \n",
       "845244                                                                  [If, someth, doesn, ', t, chang, in, the, next, 3, month, ,, I, ', m, go, to, quit, .]   \n",
       "1506844                [both, of, us, and, anoth, friend, start, laugh, like, crazi, ,, but, the, other, 3, peopl, just, look, at, us, like, whaatttt, ??????]   \n",
       "3207084                                                                                                                                             [witba, ?]   \n",
       "845183                                                                   [should, we, replac, the, AC, unit, in, the, crv, or, buy, a, new, (, use, ), car, ?]   \n",
       "3207084                                                                                                                                             [witba, ?]   \n",
       "3207042                                                                                                                                             [witba, ?]   \n",
       "\n",
       "                                                                                                          parent_title  \n",
       "4286192  WIBTA if my friend (16F) asked me (16F) whether I think she’s ugly, and I were to be honest and tell her yes?  \n",
       "1362993                                                             Threatened to getting sued over Google review (CA)  \n",
       "845224                                                    31 year old with nothing to fall on, debt and irresponsible.  \n",
       "3207036                                                    WIBTA for canceling a family vacation at my boss's request?  \n",
       "845244                                                                              Quitting your job with no new job.  \n",
       "1506844                               AITA for telling my friends that I'd had sex in the place where we were camping?  \n",
       "3207084                                                    WIBTA for canceling a family vacation at my boss's request?  \n",
       "845183                                                                             Replace AC or get a new (used) car?  \n",
       "3207084                                                    WIBTA for canceling a family vacation at my boss's request?  \n",
       "3207042                                                    WIBTA for canceling a family vacation at my boss's request?  "
      ]
     },
     "metadata": {},
     "output_type": "display_data"
    },
    {
     "name": "stdout",
     "output_type": "stream",
     "text": [
      "testing bin = 0.200\n"
     ]
    },
    {
     "data": {
      "text/html": [
       "<div>\n",
       "<style scoped>\n",
       "    .dataframe tbody tr th:only-of-type {\n",
       "        vertical-align: middle;\n",
       "    }\n",
       "\n",
       "    .dataframe tbody tr th {\n",
       "        vertical-align: top;\n",
       "    }\n",
       "\n",
       "    .dataframe thead th {\n",
       "        text-align: right;\n",
       "    }\n",
       "</style>\n",
       "<table border=\"1\" class=\"dataframe\">\n",
       "  <thead>\n",
       "    <tr style=\"text-align: right;\">\n",
       "      <th></th>\n",
       "      <th>post_question_overlap_score</th>\n",
       "      <th>question</th>\n",
       "      <th>post_question_overlap_sent</th>\n",
       "      <th>parent_title</th>\n",
       "    </tr>\n",
       "  </thead>\n",
       "  <tbody>\n",
       "    <tr>\n",
       "      <th>484642</th>\n",
       "      <td>0.2</td>\n",
       "      <td>Is it against OSHA standards?</td>\n",
       "      <td>[not, tri, to, die, ..., Is, thi, a, massiv, osha, violat, ?]</td>\n",
       "      <td>Boss just assumed I knew he meant to use hydrochloric acid on a bathroom sink. He also doesnt have any of the proper msds, or proper ppe for handl...</td>\n",
       "    </tr>\n",
       "    <tr>\n",
       "      <th>1961609</th>\n",
       "      <td>0.2</td>\n",
       "      <td>Why not just plug both monitors in the GPU?</td>\n",
       "      <td>[I, have, a, ryzen, 3, 2200g, cpu, ,, and, 2, monitor, (, one, plug, in, the, MB, ,, and, the, other, one, in, the, gpu, ).]</td>\n",
       "      <td>CPU virtualization does not work</td>\n",
       "    </tr>\n",
       "    <tr>\n",
       "      <th>2651109</th>\n",
       "      <td>0.2</td>\n",
       "      <td>But... now that I think of it, if your boyfriend paid are you sure he didn't tip 5%?</td>\n",
       "      <td>[but, that, didn, ', t, happen, .]</td>\n",
       "      <td>WIBTA for reporting a guy to his employer for an asshole comment to me personally, against my boyfriend's wishes?</td>\n",
       "    </tr>\n",
       "    <tr>\n",
       "      <th>329592</th>\n",
       "      <td>0.2</td>\n",
       "      <td>Do you know that for certainly, or is it that she just really doesn't have time?</td>\n",
       "      <td>[just, a, head, up, for, next, time, ,, we, realli, need, to, know, if, go, to, a, parti, is, go, to, cost, more, than, $, 100, .]</td>\n",
       "      <td>AITA for telling my friend I didn’t appreciate paying for a $200 meal at her husband’s birthday party?</td>\n",
       "    </tr>\n",
       "    <tr>\n",
       "      <th>4682932</th>\n",
       "      <td>0.2</td>\n",
       "      <td>Can you easily afford it?</td>\n",
       "      <td>[what, do, you, guy, think, ?]</td>\n",
       "      <td>Should we accept a \"free\" timeshare?</td>\n",
       "    </tr>\n",
       "    <tr>\n",
       "      <th>1592336</th>\n",
       "      <td>0.2</td>\n",
       "      <td>Your response to Alex's rude comment about turning your TV up was extremely childish and was rude to your husband as well why would you take the s...</td>\n",
       "      <td>[alex, respond, with, “, well, turn, up, your, TV, then, .”, I, had, a, moment, where, I, wa, too, shock, to, speak, .]</td>\n",
       "      <td>AITA for telling my husband his friend is no longer welcome at our house?</td>\n",
       "    </tr>\n",
       "    <tr>\n",
       "      <th>3685838</th>\n",
       "      <td>0.2</td>\n",
       "      <td>Are you worried about investing in this book and becoming attached to your unborn child?</td>\n",
       "      <td>[Am, I, the, asshol, for, not, want, or, care, about, thi, pregnanc, book, ,, and, not, want, to, fill, it, out, ?]</td>\n",
       "      <td>AITA for not wanting to fill out my wife’s pregnancy/baby book?</td>\n",
       "    </tr>\n",
       "    <tr>\n",
       "      <th>4021139</th>\n",
       "      <td>0.2</td>\n",
       "      <td>Why do you blame your brother for your dishwasher not working, etc.?</td>\n",
       "      <td>[Is, thi, elder, abus, ?]</td>\n",
       "      <td>My brother is hemorrhaging money, and it's hurting my family, and future.</td>\n",
       "    </tr>\n",
       "    <tr>\n",
       "      <th>2456238</th>\n",
       "      <td>0.2</td>\n",
       "      <td>Maybe Tinder and similar apps should expand their gender definitions and what they’re looking for?</td>\n",
       "      <td>[It, ’, s, not, like, anyon, with, the, tinder, paramet, “, male, look, for, femal, ”, is, suddenli, go, to, see, a, transgend, woman, and, decid,...</td>\n",
       "      <td>AITA for blocking and reporting transgenders on Tinder?</td>\n",
       "    </tr>\n",
       "    <tr>\n",
       "      <th>5227257</th>\n",
       "      <td>0.2</td>\n",
       "      <td>Is that a Roth IRA or Roth 401k?</td>\n",
       "      <td>[Is, there, a, reason, to, put, some, in, spi, ?]</td>\n",
       "      <td>ROTH Allocation Advice - 32/M</td>\n",
       "    </tr>\n",
       "  </tbody>\n",
       "</table>\n",
       "</div>"
      ],
      "text/plain": [
       "         post_question_overlap_score  \\\n",
       "484642                           0.2   \n",
       "1961609                          0.2   \n",
       "2651109                          0.2   \n",
       "329592                           0.2   \n",
       "4682932                          0.2   \n",
       "1592336                          0.2   \n",
       "3685838                          0.2   \n",
       "4021139                          0.2   \n",
       "2456238                          0.2   \n",
       "5227257                          0.2   \n",
       "\n",
       "                                                                                                                                                      question  \\\n",
       "484642                                                                                                                           Is it against OSHA standards?   \n",
       "1961609                                                                                                            Why not just plug both monitors in the GPU?   \n",
       "2651109                                                                   But... now that I think of it, if your boyfriend paid are you sure he didn't tip 5%?   \n",
       "329592                                                                        Do you know that for certainly, or is it that she just really doesn't have time?   \n",
       "4682932                                                                                                                              Can you easily afford it?   \n",
       "1592336  Your response to Alex's rude comment about turning your TV up was extremely childish and was rude to your husband as well why would you take the s...   \n",
       "3685838                                                               Are you worried about investing in this book and becoming attached to your unborn child?   \n",
       "4021139                                                                                   Why do you blame your brother for your dishwasher not working, etc.?   \n",
       "2456238                                                     Maybe Tinder and similar apps should expand their gender definitions and what they’re looking for?   \n",
       "5227257                                                                                                                       Is that a Roth IRA or Roth 401k?   \n",
       "\n",
       "                                                                                                                                    post_question_overlap_sent  \\\n",
       "484642                                                                                           [not, tri, to, die, ..., Is, thi, a, massiv, osha, violat, ?]   \n",
       "1961609                           [I, have, a, ryzen, 3, 2200g, cpu, ,, and, 2, monitor, (, one, plug, in, the, MB, ,, and, the, other, one, in, the, gpu, ).]   \n",
       "2651109                                                                                                                     [but, that, didn, ', t, happen, .]   \n",
       "329592                      [just, a, head, up, for, next, time, ,, we, realli, need, to, know, if, go, to, a, parti, is, go, to, cost, more, than, $, 100, .]   \n",
       "4682932                                                                                                                         [what, do, you, guy, think, ?]   \n",
       "1592336                                [alex, respond, with, “, well, turn, up, your, TV, then, .”, I, had, a, moment, where, I, wa, too, shock, to, speak, .]   \n",
       "3685838                                    [Am, I, the, asshol, for, not, want, or, care, about, thi, pregnanc, book, ,, and, not, want, to, fill, it, out, ?]   \n",
       "4021139                                                                                                                              [Is, thi, elder, abus, ?]   \n",
       "2456238  [It, ’, s, not, like, anyon, with, the, tinder, paramet, “, male, look, for, femal, ”, is, suddenli, go, to, see, a, transgend, woman, and, decid,...   \n",
       "5227257                                                                                                      [Is, there, a, reason, to, put, some, in, spi, ?]   \n",
       "\n",
       "                                                                                                                                                  parent_title  \n",
       "484642   Boss just assumed I knew he meant to use hydrochloric acid on a bathroom sink. He also doesnt have any of the proper msds, or proper ppe for handl...  \n",
       "1961609                                                                                                                       CPU virtualization does not work  \n",
       "2651109                                      WIBTA for reporting a guy to his employer for an asshole comment to me personally, against my boyfriend's wishes?  \n",
       "329592                                                  AITA for telling my friend I didn’t appreciate paying for a $200 meal at her husband’s birthday party?  \n",
       "4682932                                                                                                                   Should we accept a \"free\" timeshare?  \n",
       "1592336                                                                              AITA for telling my husband his friend is no longer welcome at our house?  \n",
       "3685838                                                                                        AITA for not wanting to fill out my wife’s pregnancy/baby book?  \n",
       "4021139                                                                              My brother is hemorrhaging money, and it's hurting my family, and future.  \n",
       "2456238                                                                                                AITA for blocking and reporting transgenders on Tinder?  \n",
       "5227257                                                                                                                          ROTH Allocation Advice - 32/M  "
      ]
     },
     "metadata": {},
     "output_type": "display_data"
    },
    {
     "name": "stdout",
     "output_type": "stream",
     "text": [
      "testing bin = 0.300\n"
     ]
    },
    {
     "data": {
      "text/html": [
       "<div>\n",
       "<style scoped>\n",
       "    .dataframe tbody tr th:only-of-type {\n",
       "        vertical-align: middle;\n",
       "    }\n",
       "\n",
       "    .dataframe tbody tr th {\n",
       "        vertical-align: top;\n",
       "    }\n",
       "\n",
       "    .dataframe thead th {\n",
       "        text-align: right;\n",
       "    }\n",
       "</style>\n",
       "<table border=\"1\" class=\"dataframe\">\n",
       "  <thead>\n",
       "    <tr style=\"text-align: right;\">\n",
       "      <th></th>\n",
       "      <th>post_question_overlap_score</th>\n",
       "      <th>question</th>\n",
       "      <th>post_question_overlap_sent</th>\n",
       "      <th>parent_title</th>\n",
       "    </tr>\n",
       "  </thead>\n",
       "  <tbody>\n",
       "    <tr>\n",
       "      <th>462991</th>\n",
       "      <td>0.301587</td>\n",
       "      <td>Remember how you told us that you joke about Person B not having a dad even though he has a healthy, functional family (BTW, you *are* the asshole...</td>\n",
       "      <td>[So, we, all, have, these, insid, joke, with, each, other, -, we, joke, about, person, B, for, not, have, a, dad, becaus, he, ', s, black, ,, but,...</td>\n",
       "      <td>AITA for not taking a joke?</td>\n",
       "    </tr>\n",
       "    <tr>\n",
       "      <th>5262629</th>\n",
       "      <td>0.301587</td>\n",
       "      <td>INFO - All Of the disagreement on here revolves around the hotel room situation, so I ask you: If she had said yes to going to the concert as a da...</td>\n",
       "      <td>[**, edit, **:, becaus, a, lot, of, the, hang, up, is, over, the, hotel, room, thing, :, ye, I, would, have, been, fine, if, the, first, girl, agr...</td>\n",
       "      <td>AITA for giving my concert ticket to another girl after my friend said she only wanted to go with me as \"friends\"?</td>\n",
       "    </tr>\n",
       "    <tr>\n",
       "      <th>349072</th>\n",
       "      <td>0.301887</td>\n",
       "      <td>Why were the two girls so upset and also, if you weren't their ride and took and uber home then, does it really matter if you \"left\" them at a res...</td>\n",
       "      <td>[I, left, them, in, a, safe, area, and, I, didn, ', t, ride, or, bring, either, of, them, with, me, so, they, were, go, to, be, call, their, own, ...</td>\n",
       "      <td>AITA for leaving two girls at a restaurant?</td>\n",
       "    </tr>\n",
       "    <tr>\n",
       "      <th>5126952</th>\n",
       "      <td>0.301887</td>\n",
       "      <td>You don’t want a “friends” mum to enjoy the meal and speeches because no one knows her?</td>\n",
       "      <td>[the, hotel, in, realiti, doesn, ’, t, need, the, number, up, till, 48, hour, befor, ,, but, the, tabl, plan, are, set, ,, there, ’, s, no, easi, ...</td>\n",
       "      <td>AITA for excluding my blind friend from my wedding?</td>\n",
       "    </tr>\n",
       "    <tr>\n",
       "      <th>3872527</th>\n",
       "      <td>0.301887</td>\n",
       "      <td>Your friend is definitely being an asshole here, he's choosing to break up with his girlfriend, he's choosing to still go on the trip, he choosing...</td>\n",
       "      <td>[So, am, I, an, asshol, for, still, want, to, push, for, my, plan, for, the, sleep, arrang, and, for, want, to, spend, my, first, vacat, sleep, wi...</td>\n",
       "      <td>AITA for wanting to share the hotel room I booked with my girlfriend rather than sleeping with my friend who will go through a break up before our...</td>\n",
       "    </tr>\n",
       "    <tr>\n",
       "      <th>2795082</th>\n",
       "      <td>0.301887</td>\n",
       "      <td>Given the 1 month resignation notice from me, could you match that from your side?</td>\n",
       "      <td>[(, note, :, there, wa, a, claus, in, the, contract, that, wa, talk, about, equip, so, I, ask, ...), &amp;, gt, ;, &amp;, gt, ;, can, I, bundl, sick, day,...</td>\n",
       "      <td>Job offer withdrawn after negotiating, pls help me understand what I did wrong?</td>\n",
       "    </tr>\n",
       "    <tr>\n",
       "      <th>1557351</th>\n",
       "      <td>0.301887</td>\n",
       "      <td>YTA - It's so easy to just bite the bullet and extend kindness to other people, I get that you don't like other people using your bathroom, but wo...</td>\n",
       "      <td>[It, ', s, not, that, clean, becaus, load, of, peopl, use, it, through, the, day, but, I, think, you, cant, be, that, picki, if, you, ', re, so, u...</td>\n",
       "      <td>AITA for not allowing my roommate's girlfriend to use my bathroom causing her to piss herself</td>\n",
       "    </tr>\n",
       "    <tr>\n",
       "      <th>3248026</th>\n",
       "      <td>0.301887</td>\n",
       "      <td>&amp;gt; she said she’d fix it verbally but nothing has been done or paid for?</td>\n",
       "      <td>[So, my, roommat, dog, ha, piss, and, poop, in, the, apart, ,, chew, on, furnitur, ,, broke, my, printer, ,, ps4, (, bought, a, new, one, becaus, ...</td>\n",
       "      <td>Roommates dog damaged apt and my items what can I do?</td>\n",
       "    </tr>\n",
       "    <tr>\n",
       "      <th>2506344</th>\n",
       "      <td>0.302326</td>\n",
       "      <td>You asked her for advice to buy a trench coat, then she got you a trench coat, and somehow you're disappointed because it's not expensive enough?</td>\n",
       "      <td>[On, a, side, note, ,, just, two, week, ago, I, want, to, buy, a, trench, coat, ,, and, I, ask, her, for, advic, ,, but, I, ultim, didn, ', t, go,...</td>\n",
       "      <td>AITA for being angry and disappointed about my girlfriend's gift for our anniversary?</td>\n",
       "    </tr>\n",
       "    <tr>\n",
       "      <th>2691064</th>\n",
       "      <td>0.302326</td>\n",
       "      <td>d) If you've had that secured card from your current credit union for 3 or 4 years now, why is it still a secured card?</td>\n",
       "      <td>[I, have, a, check, /, save, account, with, them, ,, and, I, ', ve, had, a, secur, credit, card, with, them, for, about, 3, -, 4, year, now, to, s...</td>\n",
       "      <td>Moving to a new state/Credit Union. My (22 y/o w/ 3-4 years credit history) secured credit card is with my old one. Is cancelling it and getting a...</td>\n",
       "    </tr>\n",
       "  </tbody>\n",
       "</table>\n",
       "</div>"
      ],
      "text/plain": [
       "         post_question_overlap_score  \\\n",
       "462991                      0.301587   \n",
       "5262629                     0.301587   \n",
       "349072                      0.301887   \n",
       "5126952                     0.301887   \n",
       "3872527                     0.301887   \n",
       "2795082                     0.301887   \n",
       "1557351                     0.301887   \n",
       "3248026                     0.301887   \n",
       "2506344                     0.302326   \n",
       "2691064                     0.302326   \n",
       "\n",
       "                                                                                                                                                      question  \\\n",
       "462991   Remember how you told us that you joke about Person B not having a dad even though he has a healthy, functional family (BTW, you *are* the asshole...   \n",
       "5262629  INFO - All Of the disagreement on here revolves around the hotel room situation, so I ask you: If she had said yes to going to the concert as a da...   \n",
       "349072   Why were the two girls so upset and also, if you weren't their ride and took and uber home then, does it really matter if you \"left\" them at a res...   \n",
       "5126952                                                                You don’t want a “friends” mum to enjoy the meal and speeches because no one knows her?   \n",
       "3872527  Your friend is definitely being an asshole here, he's choosing to break up with his girlfriend, he's choosing to still go on the trip, he choosing...   \n",
       "2795082                                                                     Given the 1 month resignation notice from me, could you match that from your side?   \n",
       "1557351  YTA - It's so easy to just bite the bullet and extend kindness to other people, I get that you don't like other people using your bathroom, but wo...   \n",
       "3248026                                                                             &gt; she said she’d fix it verbally but nothing has been done or paid for?   \n",
       "2506344      You asked her for advice to buy a trench coat, then she got you a trench coat, and somehow you're disappointed because it's not expensive enough?   \n",
       "2691064                                d) If you've had that secured card from your current credit union for 3 or 4 years now, why is it still a secured card?   \n",
       "\n",
       "                                                                                                                                    post_question_overlap_sent  \\\n",
       "462991   [So, we, all, have, these, insid, joke, with, each, other, -, we, joke, about, person, B, for, not, have, a, dad, becaus, he, ', s, black, ,, but,...   \n",
       "5262629  [**, edit, **:, becaus, a, lot, of, the, hang, up, is, over, the, hotel, room, thing, :, ye, I, would, have, been, fine, if, the, first, girl, agr...   \n",
       "349072   [I, left, them, in, a, safe, area, and, I, didn, ', t, ride, or, bring, either, of, them, with, me, so, they, were, go, to, be, call, their, own, ...   \n",
       "5126952  [the, hotel, in, realiti, doesn, ’, t, need, the, number, up, till, 48, hour, befor, ,, but, the, tabl, plan, are, set, ,, there, ’, s, no, easi, ...   \n",
       "3872527  [So, am, I, an, asshol, for, still, want, to, push, for, my, plan, for, the, sleep, arrang, and, for, want, to, spend, my, first, vacat, sleep, wi...   \n",
       "2795082  [(, note, :, there, wa, a, claus, in, the, contract, that, wa, talk, about, equip, so, I, ask, ...), &, gt, ;, &, gt, ;, can, I, bundl, sick, day,...   \n",
       "1557351  [It, ', s, not, that, clean, becaus, load, of, peopl, use, it, through, the, day, but, I, think, you, cant, be, that, picki, if, you, ', re, so, u...   \n",
       "3248026  [So, my, roommat, dog, ha, piss, and, poop, in, the, apart, ,, chew, on, furnitur, ,, broke, my, printer, ,, ps4, (, bought, a, new, one, becaus, ...   \n",
       "2506344  [On, a, side, note, ,, just, two, week, ago, I, want, to, buy, a, trench, coat, ,, and, I, ask, her, for, advic, ,, but, I, ultim, didn, ', t, go,...   \n",
       "2691064  [I, have, a, check, /, save, account, with, them, ,, and, I, ', ve, had, a, secur, credit, card, with, them, for, about, 3, -, 4, year, now, to, s...   \n",
       "\n",
       "                                                                                                                                                  parent_title  \n",
       "462991                                                                                                                             AITA for not taking a joke?  \n",
       "5262629                                     AITA for giving my concert ticket to another girl after my friend said she only wanted to go with me as \"friends\"?  \n",
       "349072                                                                                                             AITA for leaving two girls at a restaurant?  \n",
       "5126952                                                                                                    AITA for excluding my blind friend from my wedding?  \n",
       "3872527  AITA for wanting to share the hotel room I booked with my girlfriend rather than sleeping with my friend who will go through a break up before our...  \n",
       "2795082                                                                        Job offer withdrawn after negotiating, pls help me understand what I did wrong?  \n",
       "1557351                                                          AITA for not allowing my roommate's girlfriend to use my bathroom causing her to piss herself  \n",
       "3248026                                                                                                  Roommates dog damaged apt and my items what can I do?  \n",
       "2506344                                                                  AITA for being angry and disappointed about my girlfriend's gift for our anniversary?  \n",
       "2691064  Moving to a new state/Credit Union. My (22 y/o w/ 3-4 years credit history) secured credit card is with my old one. Is cancelling it and getting a...  "
      ]
     },
     "metadata": {},
     "output_type": "display_data"
    },
    {
     "name": "stdout",
     "output_type": "stream",
     "text": [
      "testing bin = 0.400\n"
     ]
    },
    {
     "data": {
      "text/html": [
       "<div>\n",
       "<style scoped>\n",
       "    .dataframe tbody tr th:only-of-type {\n",
       "        vertical-align: middle;\n",
       "    }\n",
       "\n",
       "    .dataframe tbody tr th {\n",
       "        vertical-align: top;\n",
       "    }\n",
       "\n",
       "    .dataframe thead th {\n",
       "        text-align: right;\n",
       "    }\n",
       "</style>\n",
       "<table border=\"1\" class=\"dataframe\">\n",
       "  <thead>\n",
       "    <tr style=\"text-align: right;\">\n",
       "      <th></th>\n",
       "      <th>post_question_overlap_score</th>\n",
       "      <th>question</th>\n",
       "      <th>post_question_overlap_sent</th>\n",
       "      <th>parent_title</th>\n",
       "    </tr>\n",
       "  </thead>\n",
       "  <tbody>\n",
       "    <tr>\n",
       "      <th>2622436</th>\n",
       "      <td>0.4</td>\n",
       "      <td>What kind of down payment?</td>\n",
       "      <td>[what, kind, of, hous, could, they, afford, ?]</td>\n",
       "      <td>How much house can a married couple afford?</td>\n",
       "    </tr>\n",
       "    <tr>\n",
       "      <th>2387382</th>\n",
       "      <td>0.4</td>\n",
       "      <td>Can you practice art when you don't like doing it?</td>\n",
       "      <td>[I, don, ', t, like, practic, art, anymor, .]</td>\n",
       "      <td>A light inside me suddenly turned off</td>\n",
       "    </tr>\n",
       "    <tr>\n",
       "      <th>2082159</th>\n",
       "      <td>0.4</td>\n",
       "      <td>&amp;gt;So, what can I do legally?</td>\n",
       "      <td>[I, think, he, should, report, her, immedi, ,, but, I, digress, ...., So, ,, what, can, I, do, legal, ?]</td>\n",
       "      <td>Been threatened with a false rape accusation. What can I do to protect myself?</td>\n",
       "    </tr>\n",
       "    <tr>\n",
       "      <th>3086530</th>\n",
       "      <td>0.4</td>\n",
       "      <td>Are you ok with staying with someone who doesn’t care about their health at all?</td>\n",
       "      <td>[He, doesn, ’, t, care, at, all, about, hi, health, .]</td>\n",
       "      <td>AITA for being mad at my husband for throwing up?</td>\n",
       "    </tr>\n",
       "    <tr>\n",
       "      <th>1941032</th>\n",
       "      <td>0.4</td>\n",
       "      <td>She doesn't work??</td>\n",
       "      <td>[and, she, doesn, ’, t, work, either, .]</td>\n",
       "      <td>AITA for telling my older brother I am going to cut ties with him after finding out his son isn’t his?</td>\n",
       "    </tr>\n",
       "    <tr>\n",
       "      <th>3078546</th>\n",
       "      <td>0.4</td>\n",
       "      <td>&amp;gt; Also is it a bad idea to have multiple bank accounts?</td>\n",
       "      <td>[I, like, what, I, have, go, for, the, ira, enough, to, where, I, want, to, use, it, for, mid, length, invest, as, well, (&amp;, gt, ;, 5, year, ), al...</td>\n",
       "      <td>Multiple questions 🧐</td>\n",
       "    </tr>\n",
       "    <tr>\n",
       "      <th>5136342</th>\n",
       "      <td>0.4</td>\n",
       "      <td>Lol wear a wig?</td>\n",
       "      <td>[aita, for, not, want, to, wear, a, wig, ?]</td>\n",
       "      <td>AITA for refusing to wear a wig to my friend’s wedding?</td>\n",
       "    </tr>\n",
       "    <tr>\n",
       "      <th>2121025</th>\n",
       "      <td>0.4</td>\n",
       "      <td>Should you ask for a raise?</td>\n",
       "      <td>[My, question, ,, should, I, use, thi, opportun, to, ask, for, a, rais, ?]</td>\n",
       "      <td>My employer is suffering from a lack of personnel, can I use this to my advantage and ask for a raise?</td>\n",
       "    </tr>\n",
       "    <tr>\n",
       "      <th>2392607</th>\n",
       "      <td>0.4</td>\n",
       "      <td>&amp;gt; Thoughts?</td>\n",
       "      <td>[thought, ?]</td>\n",
       "      <td>Do you think there's such thing as too big an emergency fund?</td>\n",
       "    </tr>\n",
       "    <tr>\n",
       "      <th>2546888</th>\n",
       "      <td>0.4</td>\n",
       "      <td>So, what to do ?</td>\n",
       "      <td>[If, not, ,, what, should, I, do, ?]</td>\n",
       "      <td>Am I really a \"volunteer\"?</td>\n",
       "    </tr>\n",
       "  </tbody>\n",
       "</table>\n",
       "</div>"
      ],
      "text/plain": [
       "         post_question_overlap_score  \\\n",
       "2622436                          0.4   \n",
       "2387382                          0.4   \n",
       "2082159                          0.4   \n",
       "3086530                          0.4   \n",
       "1941032                          0.4   \n",
       "3078546                          0.4   \n",
       "5136342                          0.4   \n",
       "2121025                          0.4   \n",
       "2392607                          0.4   \n",
       "2546888                          0.4   \n",
       "\n",
       "                                                                                 question  \\\n",
       "2622436                                                        What kind of down payment?   \n",
       "2387382                                Can you practice art when you don't like doing it?   \n",
       "2082159                                                    &gt;So, what can I do legally?   \n",
       "3086530  Are you ok with staying with someone who doesn’t care about their health at all?   \n",
       "1941032                                                                She doesn't work??   \n",
       "3078546                        &gt; Also is it a bad idea to have multiple bank accounts?   \n",
       "5136342                                                                   Lol wear a wig?   \n",
       "2121025                                                       Should you ask for a raise?   \n",
       "2392607                                                                    &gt; Thoughts?   \n",
       "2546888                                                                  So, what to do ?   \n",
       "\n",
       "                                                                                                                                    post_question_overlap_sent  \\\n",
       "2622436                                                                                                         [what, kind, of, hous, could, they, afford, ?]   \n",
       "2387382                                                                                                          [I, don, ', t, like, practic, art, anymor, .]   \n",
       "2082159                                               [I, think, he, should, report, her, immedi, ,, but, I, digress, ...., So, ,, what, can, I, do, legal, ?]   \n",
       "3086530                                                                                                 [He, doesn, ’, t, care, at, all, about, hi, health, .]   \n",
       "1941032                                                                                                               [and, she, doesn, ’, t, work, either, .]   \n",
       "3078546  [I, like, what, I, have, go, for, the, ira, enough, to, where, I, want, to, use, it, for, mid, length, invest, as, well, (&, gt, ;, 5, year, ), al...   \n",
       "5136342                                                                                                            [aita, for, not, want, to, wear, a, wig, ?]   \n",
       "2121025                                                                             [My, question, ,, should, I, use, thi, opportun, to, ask, for, a, rais, ?]   \n",
       "2392607                                                                                                                                           [thought, ?]   \n",
       "2546888                                                                                                                   [If, not, ,, what, should, I, do, ?]   \n",
       "\n",
       "                                                                                                   parent_title  \n",
       "2622436                                                             How much house can a married couple afford?  \n",
       "2387382                                                                   A light inside me suddenly turned off  \n",
       "2082159                          Been threatened with a false rape accusation. What can I do to protect myself?  \n",
       "3086530                                                       AITA for being mad at my husband for throwing up?  \n",
       "1941032  AITA for telling my older brother I am going to cut ties with him after finding out his son isn’t his?  \n",
       "3078546                                                                                    Multiple questions 🧐  \n",
       "5136342                                                 AITA for refusing to wear a wig to my friend’s wedding?  \n",
       "2121025  My employer is suffering from a lack of personnel, can I use this to my advantage and ask for a raise?  \n",
       "2392607                                           Do you think there's such thing as too big an emergency fund?  \n",
       "2546888                                                                              Am I really a \"volunteer\"?  "
      ]
     },
     "metadata": {},
     "output_type": "display_data"
    },
    {
     "name": "stdout",
     "output_type": "stream",
     "text": [
      "testing bin = 0.500\n"
     ]
    },
    {
     "data": {
      "text/html": [
       "<div>\n",
       "<style scoped>\n",
       "    .dataframe tbody tr th:only-of-type {\n",
       "        vertical-align: middle;\n",
       "    }\n",
       "\n",
       "    .dataframe tbody tr th {\n",
       "        vertical-align: top;\n",
       "    }\n",
       "\n",
       "    .dataframe thead th {\n",
       "        text-align: right;\n",
       "    }\n",
       "</style>\n",
       "<table border=\"1\" class=\"dataframe\">\n",
       "  <thead>\n",
       "    <tr style=\"text-align: right;\">\n",
       "      <th></th>\n",
       "      <th>post_question_overlap_score</th>\n",
       "      <th>question</th>\n",
       "      <th>post_question_overlap_sent</th>\n",
       "      <th>parent_title</th>\n",
       "    </tr>\n",
       "  </thead>\n",
       "  <tbody>\n",
       "    <tr>\n",
       "      <th>1172036</th>\n",
       "      <td>0.5</td>\n",
       "      <td>I've lived in more different situations than I can count on both hands, and never once has anyone been mad at me (or vice versa) for having people...</td>\n",
       "      <td>[aita, ?]</td>\n",
       "      <td>AITA for having friends over?</td>\n",
       "    </tr>\n",
       "    <tr>\n",
       "      <th>4823832</th>\n",
       "      <td>0.5</td>\n",
       "      <td>Does she expect that from you??</td>\n",
       "      <td>[aita, ?]</td>\n",
       "      <td>AITA for letting my girlfriend struggle financially?</td>\n",
       "    </tr>\n",
       "    <tr>\n",
       "      <th>4481223</th>\n",
       "      <td>0.5</td>\n",
       "      <td>Who the hell rips on their friend for being broke??</td>\n",
       "      <td>[thought, ?]</td>\n",
       "      <td>AITA for breaking off contact with my long time friends for mocking me?</td>\n",
       "    </tr>\n",
       "    <tr>\n",
       "      <th>3529259</th>\n",
       "      <td>0.5</td>\n",
       "      <td>Why would he think they have people samples at a PET STORE!?</td>\n",
       "      <td>[aita, ?]</td>\n",
       "      <td>AITA because my son accidentally ate a dog treat?</td>\n",
       "    </tr>\n",
       "    <tr>\n",
       "      <th>744331</th>\n",
       "      <td>0.5</td>\n",
       "      <td>YTA I mean Jesus you get a chance to teach your son and others to learn about inclusivity, neurodivergence, empathy and you blow it ??</td>\n",
       "      <td>[aita, ?]</td>\n",
       "      <td>AITA for inviting my sons entire class except for one child because of his autism?</td>\n",
       "    </tr>\n",
       "    <tr>\n",
       "      <th>2492643</th>\n",
       "      <td>0.5</td>\n",
       "      <td>Like jeez when did she start, week 2??</td>\n",
       "      <td>[aita, ?]</td>\n",
       "      <td>AITA for not wanting to meet my girlfriend's family and go out to dinner with them?</td>\n",
       "    </tr>\n",
       "    <tr>\n",
       "      <th>744447</th>\n",
       "      <td>0.5</td>\n",
       "      <td>He was “put in the class to socialize” what the fuck are you thinking??</td>\n",
       "      <td>[aita, ?]</td>\n",
       "      <td>AITA for inviting my sons entire class except for one child because of his autism?</td>\n",
       "    </tr>\n",
       "    <tr>\n",
       "      <th>5190894</th>\n",
       "      <td>0.5</td>\n",
       "      <td>NTA how could your wife be okay with this???</td>\n",
       "      <td>[aita, ?]</td>\n",
       "      <td>AITA for telling my wife that I would leave her if she took our son to her (IMO) racists Uncle's house for the Holidays?</td>\n",
       "    </tr>\n",
       "    <tr>\n",
       "      <th>46793</th>\n",
       "      <td>0.5</td>\n",
       "      <td>Your nephew was abandoned by his shitty mother and you beat him over fucking pokeman cards??</td>\n",
       "      <td>[aita, ?]</td>\n",
       "      <td>AITA for smacking the shit out of my 8-year-old nephew for stealing hundreds of dollars of my Pokemon cards and taking some of them to school and ...</td>\n",
       "    </tr>\n",
       "    <tr>\n",
       "      <th>2883270</th>\n",
       "      <td>0.5</td>\n",
       "      <td>What kind of relationship is that??</td>\n",
       "      <td>[aita, ?]</td>\n",
       "      <td>AITA for leaving my wife by herself when she talks in a cringy manner</td>\n",
       "    </tr>\n",
       "  </tbody>\n",
       "</table>\n",
       "</div>"
      ],
      "text/plain": [
       "         post_question_overlap_score  \\\n",
       "1172036                          0.5   \n",
       "4823832                          0.5   \n",
       "4481223                          0.5   \n",
       "3529259                          0.5   \n",
       "744331                           0.5   \n",
       "2492643                          0.5   \n",
       "744447                           0.5   \n",
       "5190894                          0.5   \n",
       "46793                            0.5   \n",
       "2883270                          0.5   \n",
       "\n",
       "                                                                                                                                                      question  \\\n",
       "1172036  I've lived in more different situations than I can count on both hands, and never once has anyone been mad at me (or vice versa) for having people...   \n",
       "4823832                                                                                                                        Does she expect that from you??   \n",
       "4481223                                                                                                    Who the hell rips on their friend for being broke??   \n",
       "3529259                                                                                           Why would he think they have people samples at a PET STORE!?   \n",
       "744331                  YTA I mean Jesus you get a chance to teach your son and others to learn about inclusivity, neurodivergence, empathy and you blow it ??   \n",
       "2492643                                                                                                                 Like jeez when did she start, week 2??   \n",
       "744447                                                                                 He was “put in the class to socialize” what the fuck are you thinking??   \n",
       "5190894                                                                                                           NTA how could your wife be okay with this???   \n",
       "46793                                                             Your nephew was abandoned by his shitty mother and you beat him over fucking pokeman cards??   \n",
       "2883270                                                                                                                    What kind of relationship is that??   \n",
       "\n",
       "        post_question_overlap_sent  \\\n",
       "1172036                  [aita, ?]   \n",
       "4823832                  [aita, ?]   \n",
       "4481223               [thought, ?]   \n",
       "3529259                  [aita, ?]   \n",
       "744331                   [aita, ?]   \n",
       "2492643                  [aita, ?]   \n",
       "744447                   [aita, ?]   \n",
       "5190894                  [aita, ?]   \n",
       "46793                    [aita, ?]   \n",
       "2883270                  [aita, ?]   \n",
       "\n",
       "                                                                                                                                                  parent_title  \n",
       "1172036                                                                                                                          AITA for having friends over?  \n",
       "4823832                                                                                                   AITA for letting my girlfriend struggle financially?  \n",
       "4481223                                                                                AITA for breaking off contact with my long time friends for mocking me?  \n",
       "3529259                                                                                                      AITA because my son accidentally ate a dog treat?  \n",
       "744331                                                                      AITA for inviting my sons entire class except for one child because of his autism?  \n",
       "2492643                                                                    AITA for not wanting to meet my girlfriend's family and go out to dinner with them?  \n",
       "744447                                                                      AITA for inviting my sons entire class except for one child because of his autism?  \n",
       "5190894                               AITA for telling my wife that I would leave her if she took our son to her (IMO) racists Uncle's house for the Holidays?  \n",
       "46793    AITA for smacking the shit out of my 8-year-old nephew for stealing hundreds of dollars of my Pokemon cards and taking some of them to school and ...  \n",
       "2883270                                                                                  AITA for leaving my wife by herself when she talks in a cringy manner  "
      ]
     },
     "metadata": {},
     "output_type": "display_data"
    },
    {
     "name": "stdout",
     "output_type": "stream",
     "text": [
      "testing bin = 0.600\n"
     ]
    },
    {
     "data": {
      "text/html": [
       "<div>\n",
       "<style scoped>\n",
       "    .dataframe tbody tr th:only-of-type {\n",
       "        vertical-align: middle;\n",
       "    }\n",
       "\n",
       "    .dataframe tbody tr th {\n",
       "        vertical-align: top;\n",
       "    }\n",
       "\n",
       "    .dataframe thead th {\n",
       "        text-align: right;\n",
       "    }\n",
       "</style>\n",
       "<table border=\"1\" class=\"dataframe\">\n",
       "  <thead>\n",
       "    <tr style=\"text-align: right;\">\n",
       "      <th></th>\n",
       "      <th>post_question_overlap_score</th>\n",
       "      <th>question</th>\n",
       "      <th>post_question_overlap_sent</th>\n",
       "      <th>parent_title</th>\n",
       "    </tr>\n",
       "  </thead>\n",
       "  <tbody>\n",
       "    <tr>\n",
       "      <th>2357603</th>\n",
       "      <td>0.603175</td>\n",
       "      <td>&amp;gt;  Its the last weekend of the month, you've spent 190 of your food budget but only 50 of your clothing budget and don't expect to buy anymore ...</td>\n",
       "      <td>[(, the, number, are, irrelev, ,, just, made, it, easi, for, discuss, ', s, sake, ), incom, :, 1000, save, :, 150, food, :, 200, cloth, :, 100, no...</td>\n",
       "      <td>Budgeting Pros: Do you allow yourself to \"Rob Peter to pay Paul\" in your budget categories?</td>\n",
       "    </tr>\n",
       "    <tr>\n",
       "      <th>2391465</th>\n",
       "      <td>0.604651</td>\n",
       "      <td>&amp;gt; is there any way for them to contact the email provider and get a log of activity on the account, and determine if the password was changed?</td>\n",
       "      <td>[So, I, ', m, just, wonder, ,, becaus, we, ', re, both, realli, frustrat, by, thi, ,, is, there, ani, way, for, them, to, contact, the, email, pro...</td>\n",
       "      <td>[PA] Is it possible for law enforcement to subpoena information from an email service provider?</td>\n",
       "    </tr>\n",
       "    <tr>\n",
       "      <th>2635187</th>\n",
       "      <td>0.604651</td>\n",
       "      <td>&amp;gt; Is there any way to update the XBox One S controller's firmware without access to either an XBox One console or a PC with Windows 10?</td>\n",
       "      <td>[I, don, ', t, have, access, to, either, ,, so, that, ', s, my, next, set, of, question, :, -, Is, there, ani, way, to, updat, the, xbox, one, S, ...</td>\n",
       "      <td>I really need some reliable, accurate information regarding the XBox One S/Bluetooth controller and Windows 7</td>\n",
       "    </tr>\n",
       "    <tr>\n",
       "      <th>4484444</th>\n",
       "      <td>0.604651</td>\n",
       "      <td>&amp;gt;how does it look when other companies I've only been in my first job for a little over half a year and already looking for another job?</td>\n",
       "      <td>[I, want, to, begin, look, for, other, job, ,, and, have, gone, through, the, process, of, updat, my, CV, and, such, ,, but, how, doe, it, look, w...</td>\n",
       "      <td>How important is staying at your first job after college?</td>\n",
       "    </tr>\n",
       "    <tr>\n",
       "      <th>2761294</th>\n",
       "      <td>0.604651</td>\n",
       "      <td>&amp;gt; is there anything I can do to claim his property before he runs out of funds and his mobile home gets repossessed with everything in it?</td>\n",
       "      <td>[My, question, is, thi, ,, can, I, find, out, if, he, ha, regist, me, as, have, power, of, attorney, or, is, there, anyth, I, can, do, to, claim, ...</td>\n",
       "      <td>Uncle is a wanted fugitive and I am his only next of kin - what can I legally do?</td>\n",
       "    </tr>\n",
       "    <tr>\n",
       "      <th>2380138</th>\n",
       "      <td>0.605263</td>\n",
       "      <td>What do you mean \"It was always the plan that, once it was paid off, she would give them back the deposit and transfer the deed to her name\" ?</td>\n",
       "      <td>[It, wa, alway, the, plan, that, ,, onc, it, wa, paid, off, ,, she, would, give, them, back, the, deposit, and, transfer, the, deed, to, her, name...</td>\n",
       "      <td>House being sold while we pay the mortgage. (NH)</td>\n",
       "    </tr>\n",
       "    <tr>\n",
       "      <th>2320398</th>\n",
       "      <td>0.605263</td>\n",
       "      <td>&amp;gt; I'm trying to work out why that doesn't mean I will have recouped the fees/taxes within 6 months?</td>\n",
       "      <td>[(, hous, i, ', m, interest, in, max, out, about, £, 175, ,, 000, ), I, ', m, tri, to, work, out, whi, that, doesn, ', t, mean, I, will, have, rec...</td>\n",
       "      <td>Recouping house buying costs (UK)</td>\n",
       "    </tr>\n",
       "    <tr>\n",
       "      <th>4585611</th>\n",
       "      <td>0.605263</td>\n",
       "      <td>&amp;gt;Note-I’m using my DVI cable to connect my monitor to my GPU, would that be a reason for low frames?</td>\n",
       "      <td>[spec, ryzen, 7, 2700x, gtx, 1070, 16, GB, ram, asu, crosshair, VI, note, -, I, ’, m, use, my, dvi, cabl, to, connect, my, monitor, to, my, gpu, ,...</td>\n",
       "      <td>Low frame rates</td>\n",
       "    </tr>\n",
       "    <tr>\n",
       "      <th>2525220</th>\n",
       "      <td>0.606061</td>\n",
       "      <td>&amp;gt;how do they calculate the long vs short term capital gains tax since I invested a new amount recently?</td>\n",
       "      <td>[If, I, want, to, sell, and, withdraw, cash, right, now, ,, how, do, they, calcul, the, long, vs, short, term, capit, gain, tax, sinc, I, invest, ...</td>\n",
       "      <td>Capital gains confusion</td>\n",
       "    </tr>\n",
       "    <tr>\n",
       "      <th>893431</th>\n",
       "      <td>0.606061</td>\n",
       "      <td>&amp;gt; I thought they could look up the specific transaction and see how much money was pulled from the cash register?</td>\n",
       "      <td>[wa, their, anyth, more, walmart, could, have, done, to, help, me, ,, I, thought, they, could, look, up, the, specif, transact, and, see, how, muc...</td>\n",
       "      <td>Cashed check at Walmart, missing $100?</td>\n",
       "    </tr>\n",
       "  </tbody>\n",
       "</table>\n",
       "</div>"
      ],
      "text/plain": [
       "         post_question_overlap_score  \\\n",
       "2357603                     0.603175   \n",
       "2391465                     0.604651   \n",
       "2635187                     0.604651   \n",
       "4484444                     0.604651   \n",
       "2761294                     0.604651   \n",
       "2380138                     0.605263   \n",
       "2320398                     0.605263   \n",
       "4585611                     0.605263   \n",
       "2525220                     0.606061   \n",
       "893431                      0.606061   \n",
       "\n",
       "                                                                                                                                                      question  \\\n",
       "2357603  &gt;  Its the last weekend of the month, you've spent 190 of your food budget but only 50 of your clothing budget and don't expect to buy anymore ...   \n",
       "2391465      &gt; is there any way for them to contact the email provider and get a log of activity on the account, and determine if the password was changed?   \n",
       "2635187             &gt; Is there any way to update the XBox One S controller's firmware without access to either an XBox One console or a PC with Windows 10?   \n",
       "4484444            &gt;how does it look when other companies I've only been in my first job for a little over half a year and already looking for another job?   \n",
       "2761294          &gt; is there anything I can do to claim his property before he runs out of funds and his mobile home gets repossessed with everything in it?   \n",
       "2380138         What do you mean \"It was always the plan that, once it was paid off, she would give them back the deposit and transfer the deed to her name\" ?   \n",
       "2320398                                                 &gt; I'm trying to work out why that doesn't mean I will have recouped the fees/taxes within 6 months?   \n",
       "4585611                                                &gt;Note-I’m using my DVI cable to connect my monitor to my GPU, would that be a reason for low frames?   \n",
       "2525220                                             &gt;how do they calculate the long vs short term capital gains tax since I invested a new amount recently?   \n",
       "893431                                    &gt; I thought they could look up the specific transaction and see how much money was pulled from the cash register?   \n",
       "\n",
       "                                                                                                                                    post_question_overlap_sent  \\\n",
       "2357603  [(, the, number, are, irrelev, ,, just, made, it, easi, for, discuss, ', s, sake, ), incom, :, 1000, save, :, 150, food, :, 200, cloth, :, 100, no...   \n",
       "2391465  [So, I, ', m, just, wonder, ,, becaus, we, ', re, both, realli, frustrat, by, thi, ,, is, there, ani, way, for, them, to, contact, the, email, pro...   \n",
       "2635187  [I, don, ', t, have, access, to, either, ,, so, that, ', s, my, next, set, of, question, :, -, Is, there, ani, way, to, updat, the, xbox, one, S, ...   \n",
       "4484444  [I, want, to, begin, look, for, other, job, ,, and, have, gone, through, the, process, of, updat, my, CV, and, such, ,, but, how, doe, it, look, w...   \n",
       "2761294  [My, question, is, thi, ,, can, I, find, out, if, he, ha, regist, me, as, have, power, of, attorney, or, is, there, anyth, I, can, do, to, claim, ...   \n",
       "2380138  [It, wa, alway, the, plan, that, ,, onc, it, wa, paid, off, ,, she, would, give, them, back, the, deposit, and, transfer, the, deed, to, her, name...   \n",
       "2320398  [(, hous, i, ', m, interest, in, max, out, about, £, 175, ,, 000, ), I, ', m, tri, to, work, out, whi, that, doesn, ', t, mean, I, will, have, rec...   \n",
       "4585611  [spec, ryzen, 7, 2700x, gtx, 1070, 16, GB, ram, asu, crosshair, VI, note, -, I, ’, m, use, my, dvi, cabl, to, connect, my, monitor, to, my, gpu, ,...   \n",
       "2525220  [If, I, want, to, sell, and, withdraw, cash, right, now, ,, how, do, they, calcul, the, long, vs, short, term, capit, gain, tax, sinc, I, invest, ...   \n",
       "893431   [wa, their, anyth, more, walmart, could, have, done, to, help, me, ,, I, thought, they, could, look, up, the, specif, transact, and, see, how, muc...   \n",
       "\n",
       "                                                                                                          parent_title  \n",
       "2357603                    Budgeting Pros: Do you allow yourself to \"Rob Peter to pay Paul\" in your budget categories?  \n",
       "2391465                [PA] Is it possible for law enforcement to subpoena information from an email service provider?  \n",
       "2635187  I really need some reliable, accurate information regarding the XBox One S/Bluetooth controller and Windows 7  \n",
       "4484444                                                      How important is staying at your first job after college?  \n",
       "2761294                              Uncle is a wanted fugitive and I am his only next of kin - what can I legally do?  \n",
       "2380138                                                               House being sold while we pay the mortgage. (NH)  \n",
       "2320398                                                                              Recouping house buying costs (UK)  \n",
       "4585611                                                                                                Low frame rates  \n",
       "2525220                                                                                        Capital gains confusion  \n",
       "893431                                                                          Cashed check at Walmart, missing $100?  "
      ]
     },
     "metadata": {},
     "output_type": "display_data"
    },
    {
     "name": "stdout",
     "output_type": "stream",
     "text": [
      "testing bin = 0.700\n"
     ]
    },
    {
     "data": {
      "text/html": [
       "<div>\n",
       "<style scoped>\n",
       "    .dataframe tbody tr th:only-of-type {\n",
       "        vertical-align: middle;\n",
       "    }\n",
       "\n",
       "    .dataframe tbody tr th {\n",
       "        vertical-align: top;\n",
       "    }\n",
       "\n",
       "    .dataframe thead th {\n",
       "        text-align: right;\n",
       "    }\n",
       "</style>\n",
       "<table border=\"1\" class=\"dataframe\">\n",
       "  <thead>\n",
       "    <tr style=\"text-align: right;\">\n",
       "      <th></th>\n",
       "      <th>post_question_overlap_score</th>\n",
       "      <th>question</th>\n",
       "      <th>post_question_overlap_sent</th>\n",
       "      <th>parent_title</th>\n",
       "    </tr>\n",
       "  </thead>\n",
       "  <tbody>\n",
       "    <tr>\n",
       "      <th>3962205</th>\n",
       "      <td>0.702128</td>\n",
       "      <td>&amp;gt; I use a Stocks and Shares ISA, I make about 4% profit per annum, does this account to my ISA allowance, meaning I can contribute less as I'll...</td>\n",
       "      <td>[*, what, is, the, tax, rate, on, save, beyond, £, 20, ,, 000, *, I, use, a, stock, and, share, isa, ,, I, make, about, 4, %, profit, per, annum, ...</td>\n",
       "      <td>How are savings taxed in the UK?</td>\n",
       "    </tr>\n",
       "    <tr>\n",
       "      <th>3619594</th>\n",
       "      <td>0.702703</td>\n",
       "      <td>&amp;gt;  but should I pay out of pocket for food and receive a larger payment at the end, or am I only hurting myself that way?</td>\n",
       "      <td>[I, ', d, certainli, put, the, hotel, on, the, corpor, card, ,, but, should, I, pay, out, of, pocket, for, food, and, receiv, a, larger, payment, ...</td>\n",
       "      <td>Help me maximize an unusual per diem structure</td>\n",
       "    </tr>\n",
       "    <tr>\n",
       "      <th>4366967</th>\n",
       "      <td>0.702703</td>\n",
       "      <td>&amp;gt; can I be listed as a Plantiff even if I live in another state (and will not be available for two months due to military training)?</td>\n",
       "      <td>[If, we, do, take, her, to, small, claim, ,, can, I, be, list, as, a, plantiff, even, if, I, live, in, anoth, state, (, and, will, not, be, avail,...</td>\n",
       "      <td>Landlords delays security deposit for 2 months, takes out a huge chunk (Alaska)</td>\n",
       "    </tr>\n",
       "    <tr>\n",
       "      <th>892103</th>\n",
       "      <td>0.702703</td>\n",
       "      <td>&amp;gt; is there a defined amount of time before I pay off my bill in full, and when I will be able to use my card again?</td>\n",
       "      <td>[To, make, thi, easier, for, me, ,, and, my, schedul, of, payment, ,, is, there, a, defin, amount, of, time, befor, I, pay, off, my, bill, in, ful...</td>\n",
       "      <td>CapitalOne Platinum time between paying bill and funds being available?</td>\n",
       "    </tr>\n",
       "    <tr>\n",
       "      <th>5071402</th>\n",
       "      <td>0.702703</td>\n",
       "      <td>&amp;gt;I can just contribute the difference to the traditional IRA up to $6000 and convert it all in one go without owing more taxes, right?</td>\n",
       "      <td>[when, it, ', s, time, for, next, year, ', s, backdoor, contribut, ,, I, can, just, contribut, the, differ, to, the, tradit, ira, up, to, $, 6000,...</td>\n",
       "      <td>How will trad IRA interest affect taxes?</td>\n",
       "    </tr>\n",
       "    <tr>\n",
       "      <th>3115635</th>\n",
       "      <td>0.703704</td>\n",
       "      <td>&amp;gt; do you think there’s any chance they’ll extradite him back to Texas over $5k?</td>\n",
       "      <td>[My, main, question, is, -, do, you, think, there, ’, s, ani, chanc, they, ’, ll, extradit, him, back, to, texa, over, $, 5k, ?]</td>\n",
       "      <td>Extradition over child support?</td>\n",
       "    </tr>\n",
       "    <tr>\n",
       "      <th>1206129</th>\n",
       "      <td>0.703704</td>\n",
       "      <td>&amp;gt; can I really get in trouble for sending someone $500 for weed and it wasn’t delivered?</td>\n",
       "      <td>[mayb, he, isn, ’, t, lie, but, can, I, realli, get, in, troubl, for, send, someon, $, 500, for, weed, and, it, wasn, ’, t, deliv, ?]</td>\n",
       "      <td>Scammed off leafedin.org and being blackmailed</td>\n",
       "    </tr>\n",
       "    <tr>\n",
       "      <th>1644657</th>\n",
       "      <td>0.703704</td>\n",
       "      <td>&amp;gt;What is a good way to decide on a good GPU when looking for something better than mid-tier?</td>\n",
       "      <td>[So, my, question, here, is, ,, what, is, a, good, way, to, decid, on, a, good, gpu, when, look, for, someth, better, than, mid, -, tier, ?]</td>\n",
       "      <td>What's better? AMD or Intel??</td>\n",
       "    </tr>\n",
       "    <tr>\n",
       "      <th>1634952</th>\n",
       "      <td>0.703704</td>\n",
       "      <td>&amp;gt;should I go to someone about it and if so how do I tell my mom without worrying her?</td>\n",
       "      <td>[To, sum, it, up, my, question, is, should, I, go, to, someon, about, it, and, if, so, how, do, I, tell, my, mom, without, worri, her, ?]</td>\n",
       "      <td>Should I get a mental health diagnosis?</td>\n",
       "    </tr>\n",
       "    <tr>\n",
       "      <th>2648313</th>\n",
       "      <td>0.703704</td>\n",
       "      <td>&amp;gt; if I make biweekly payments, but strictly only pay 24 biweekly payments, is that any better than paying 12 full payments?</td>\n",
       "      <td>[the, essenc, of, my, question, is, ,, if, I, make, biweekli, payment, ,, but, strictli, onli, pay, 24, biweekli, payment, ,, is, that, ani, bette...</td>\n",
       "      <td>Mortgage interest: How is it calculated and how does it accumulate? What's the best way to pay?</td>\n",
       "    </tr>\n",
       "  </tbody>\n",
       "</table>\n",
       "</div>"
      ],
      "text/plain": [
       "         post_question_overlap_score  \\\n",
       "3962205                     0.702128   \n",
       "3619594                     0.702703   \n",
       "4366967                     0.702703   \n",
       "892103                      0.702703   \n",
       "5071402                     0.702703   \n",
       "3115635                     0.703704   \n",
       "1206129                     0.703704   \n",
       "1644657                     0.703704   \n",
       "1634952                     0.703704   \n",
       "2648313                     0.703704   \n",
       "\n",
       "                                                                                                                                                      question  \\\n",
       "3962205  &gt; I use a Stocks and Shares ISA, I make about 4% profit per annum, does this account to my ISA allowance, meaning I can contribute less as I'll...   \n",
       "3619594                           &gt;  but should I pay out of pocket for food and receive a larger payment at the end, or am I only hurting myself that way?   \n",
       "4366967                &gt; can I be listed as a Plantiff even if I live in another state (and will not be available for two months due to military training)?   \n",
       "892103                                  &gt; is there a defined amount of time before I pay off my bill in full, and when I will be able to use my card again?   \n",
       "5071402              &gt;I can just contribute the difference to the traditional IRA up to $6000 and convert it all in one go without owing more taxes, right?   \n",
       "3115635                                                                     &gt; do you think there’s any chance they’ll extradite him back to Texas over $5k?   \n",
       "1206129                                                            &gt; can I really get in trouble for sending someone $500 for weed and it wasn’t delivered?   \n",
       "1644657                                                        &gt;What is a good way to decide on a good GPU when looking for something better than mid-tier?   \n",
       "1634952                                                               &gt;should I go to someone about it and if so how do I tell my mom without worrying her?   \n",
       "2648313                         &gt; if I make biweekly payments, but strictly only pay 24 biweekly payments, is that any better than paying 12 full payments?   \n",
       "\n",
       "                                                                                                                                    post_question_overlap_sent  \\\n",
       "3962205  [*, what, is, the, tax, rate, on, save, beyond, £, 20, ,, 000, *, I, use, a, stock, and, share, isa, ,, I, make, about, 4, %, profit, per, annum, ...   \n",
       "3619594  [I, ', d, certainli, put, the, hotel, on, the, corpor, card, ,, but, should, I, pay, out, of, pocket, for, food, and, receiv, a, larger, payment, ...   \n",
       "4366967  [If, we, do, take, her, to, small, claim, ,, can, I, be, list, as, a, plantiff, even, if, I, live, in, anoth, state, (, and, will, not, be, avail,...   \n",
       "892103   [To, make, thi, easier, for, me, ,, and, my, schedul, of, payment, ,, is, there, a, defin, amount, of, time, befor, I, pay, off, my, bill, in, ful...   \n",
       "5071402  [when, it, ', s, time, for, next, year, ', s, backdoor, contribut, ,, I, can, just, contribut, the, differ, to, the, tradit, ira, up, to, $, 6000,...   \n",
       "3115635                       [My, main, question, is, -, do, you, think, there, ’, s, ani, chanc, they, ’, ll, extradit, him, back, to, texa, over, $, 5k, ?]   \n",
       "1206129                  [mayb, he, isn, ’, t, lie, but, can, I, realli, get, in, troubl, for, send, someon, $, 500, for, weed, and, it, wasn, ’, t, deliv, ?]   \n",
       "1644657           [So, my, question, here, is, ,, what, is, a, good, way, to, decid, on, a, good, gpu, when, look, for, someth, better, than, mid, -, tier, ?]   \n",
       "1634952              [To, sum, it, up, my, question, is, should, I, go, to, someon, about, it, and, if, so, how, do, I, tell, my, mom, without, worri, her, ?]   \n",
       "2648313  [the, essenc, of, my, question, is, ,, if, I, make, biweekli, payment, ,, but, strictli, onli, pay, 24, biweekli, payment, ,, is, that, ani, bette...   \n",
       "\n",
       "                                                                                            parent_title  \n",
       "3962205                                                                 How are savings taxed in the UK?  \n",
       "3619594                                                   Help me maximize an unusual per diem structure  \n",
       "4366967                  Landlords delays security deposit for 2 months, takes out a huge chunk (Alaska)  \n",
       "892103                           CapitalOne Platinum time between paying bill and funds being available?  \n",
       "5071402                                                         How will trad IRA interest affect taxes?  \n",
       "3115635                                                                  Extradition over child support?  \n",
       "1206129                                                   Scammed off leafedin.org and being blackmailed  \n",
       "1644657                                                                    What's better? AMD or Intel??  \n",
       "1634952                                                          Should I get a mental health diagnosis?  \n",
       "2648313  Mortgage interest: How is it calculated and how does it accumulate? What's the best way to pay?  "
      ]
     },
     "metadata": {},
     "output_type": "display_data"
    },
    {
     "name": "stdout",
     "output_type": "stream",
     "text": [
      "testing bin = 0.800\n"
     ]
    },
    {
     "data": {
      "text/html": [
       "<div>\n",
       "<style scoped>\n",
       "    .dataframe tbody tr th:only-of-type {\n",
       "        vertical-align: middle;\n",
       "    }\n",
       "\n",
       "    .dataframe tbody tr th {\n",
       "        vertical-align: top;\n",
       "    }\n",
       "\n",
       "    .dataframe thead th {\n",
       "        text-align: right;\n",
       "    }\n",
       "</style>\n",
       "<table border=\"1\" class=\"dataframe\">\n",
       "  <thead>\n",
       "    <tr style=\"text-align: right;\">\n",
       "      <th></th>\n",
       "      <th>post_question_overlap_score</th>\n",
       "      <th>question</th>\n",
       "      <th>post_question_overlap_sent</th>\n",
       "      <th>parent_title</th>\n",
       "    </tr>\n",
       "  </thead>\n",
       "  <tbody>\n",
       "    <tr>\n",
       "      <th>2727761</th>\n",
       "      <td>0.8</td>\n",
       "      <td>&amp;gt; Can she actually get away with this or is she just overconfident?</td>\n",
       "      <td>[can, she, actual, get, away, with, thi, or, is, she, just, overconfid, ?]</td>\n",
       "      <td>Girlfriend feels entitled to all assets</td>\n",
       "    </tr>\n",
       "    <tr>\n",
       "      <th>792350</th>\n",
       "      <td>0.8</td>\n",
       "      <td>&amp;gt;Is there some justice that can be had for this negligence?</td>\n",
       "      <td>[Is, there, some, justic, that, can, be, had, for, thi, neglig, ?]</td>\n",
       "      <td>AED not used at the gym during sudden cardiac arrest?</td>\n",
       "    </tr>\n",
       "    <tr>\n",
       "      <th>565380</th>\n",
       "      <td>0.8</td>\n",
       "      <td>&amp;gt;Should i get rid of the xbox forever or keep it?</td>\n",
       "      <td>[should, i, get, rid, of, the, xbox, forev, or, keep, it, ?]</td>\n",
       "      <td>Getting rid of xbox one switching to full on pc!</td>\n",
       "    </tr>\n",
       "    <tr>\n",
       "      <th>2727810</th>\n",
       "      <td>0.8</td>\n",
       "      <td>&amp;gt;What are they going to do with my statement of facts?</td>\n",
       "      <td>[what, are, they, go, to, do, with, my, statement, of, fact, ?]</td>\n",
       "      <td>What happened to my statement from my trial by declaration?</td>\n",
       "    </tr>\n",
       "    <tr>\n",
       "      <th>4053756</th>\n",
       "      <td>0.8</td>\n",
       "      <td>&amp;gt; Any ideas on what this screenshot could be from?</td>\n",
       "      <td>[&amp;, amp, ;, nbsp, ;, ani, idea, on, what, thi, screenshot, could, be, from, ?]</td>\n",
       "      <td>(Michigan, Oakland County) Today, my previous landlord returned my security deposit check, withholding fees citing \"long grass\". It has been 34 da...</td>\n",
       "    </tr>\n",
       "    <tr>\n",
       "      <th>5025146</th>\n",
       "      <td>0.8</td>\n",
       "      <td>&amp;gt;Do we have any recourse to compel the landlord to take action?</td>\n",
       "      <td>[Do, we, have, ani, recours, to, compel, the, landlord, to, take, action, ?]</td>\n",
       "      <td>Someone is popping mailboxes open in my apartment building and stealing mail, landlord not doing much about it</td>\n",
       "    </tr>\n",
       "    <tr>\n",
       "      <th>4469796</th>\n",
       "      <td>0.8</td>\n",
       "      <td>&amp;gt;My question is because I punched first am I automatically at fault?</td>\n",
       "      <td>[My, question, is, becaus, I, punch, first, am, I, automat, at, fault, ?]</td>\n",
       "      <td>(MN) Fist fight with neighbor</td>\n",
       "    </tr>\n",
       "    <tr>\n",
       "      <th>3747265</th>\n",
       "      <td>0.8</td>\n",
       "      <td>&amp;gt; What consequences could there be if she accepts regarding her greencard?</td>\n",
       "      <td>[what, consequ, could, there, be, if, she, accept, regard, her, greencard, ?]</td>\n",
       "      <td>Divorce in Texas, legal ramifications</td>\n",
       "    </tr>\n",
       "    <tr>\n",
       "      <th>2213332</th>\n",
       "      <td>0.8</td>\n",
       "      <td>&amp;gt;  I’m not sure if the points are worth the fee?</td>\n",
       "      <td>[I, ’, m, not, sure, if, the, point, are, worth, the, fee, ?]</td>\n",
       "      <td>Paying rent with credit card?</td>\n",
       "    </tr>\n",
       "    <tr>\n",
       "      <th>1624000</th>\n",
       "      <td>0.8</td>\n",
       "      <td>&amp;gt; What other hidden costs of a condo should I be aware of?</td>\n",
       "      <td>[what, other, hidden, cost, of, a, condo, should, I, be, awar, of, ?]</td>\n",
       "      <td>Just bought a condo, a month later receiving a large \"special assessment\"</td>\n",
       "    </tr>\n",
       "  </tbody>\n",
       "</table>\n",
       "</div>"
      ],
      "text/plain": [
       "         post_question_overlap_score  \\\n",
       "2727761                          0.8   \n",
       "792350                           0.8   \n",
       "565380                           0.8   \n",
       "2727810                          0.8   \n",
       "4053756                          0.8   \n",
       "5025146                          0.8   \n",
       "4469796                          0.8   \n",
       "3747265                          0.8   \n",
       "2213332                          0.8   \n",
       "1624000                          0.8   \n",
       "\n",
       "                                                                              question  \\\n",
       "2727761         &gt; Can she actually get away with this or is she just overconfident?   \n",
       "792350                  &gt;Is there some justice that can be had for this negligence?   \n",
       "565380                            &gt;Should i get rid of the xbox forever or keep it?   \n",
       "2727810                      &gt;What are they going to do with my statement of facts?   \n",
       "4053756                          &gt; Any ideas on what this screenshot could be from?   \n",
       "5025146             &gt;Do we have any recourse to compel the landlord to take action?   \n",
       "4469796        &gt;My question is because I punched first am I automatically at fault?   \n",
       "3747265  &gt; What consequences could there be if she accepts regarding her greencard?   \n",
       "2213332                            &gt;  I’m not sure if the points are worth the fee?   \n",
       "1624000                  &gt; What other hidden costs of a condo should I be aware of?   \n",
       "\n",
       "                                                             post_question_overlap_sent  \\\n",
       "2727761      [can, she, actual, get, away, with, thi, or, is, she, just, overconfid, ?]   \n",
       "792350               [Is, there, some, justic, that, can, be, had, for, thi, neglig, ?]   \n",
       "565380                     [should, i, get, rid, of, the, xbox, forev, or, keep, it, ?]   \n",
       "2727810                 [what, are, they, go, to, do, with, my, statement, of, fact, ?]   \n",
       "4053756  [&, amp, ;, nbsp, ;, ani, idea, on, what, thi, screenshot, could, be, from, ?]   \n",
       "5025146    [Do, we, have, ani, recours, to, compel, the, landlord, to, take, action, ?]   \n",
       "4469796       [My, question, is, becaus, I, punch, first, am, I, automat, at, fault, ?]   \n",
       "3747265   [what, consequ, could, there, be, if, she, accept, regard, her, greencard, ?]   \n",
       "2213332                   [I, ’, m, not, sure, if, the, point, are, worth, the, fee, ?]   \n",
       "1624000           [what, other, hidden, cost, of, a, condo, should, I, be, awar, of, ?]   \n",
       "\n",
       "                                                                                                                                                  parent_title  \n",
       "2727761                                                                                                                Girlfriend feels entitled to all assets  \n",
       "792350                                                                                                   AED not used at the gym during sudden cardiac arrest?  \n",
       "565380                                                                                                        Getting rid of xbox one switching to full on pc!  \n",
       "2727810                                                                                            What happened to my statement from my trial by declaration?  \n",
       "4053756  (Michigan, Oakland County) Today, my previous landlord returned my security deposit check, withholding fees citing \"long grass\". It has been 34 da...  \n",
       "5025146                                         Someone is popping mailboxes open in my apartment building and stealing mail, landlord not doing much about it  \n",
       "4469796                                                                                                                          (MN) Fist fight with neighbor  \n",
       "3747265                                                                                                                  Divorce in Texas, legal ramifications  \n",
       "2213332                                                                                                                          Paying rent with credit card?  \n",
       "1624000                                                                              Just bought a condo, a month later receiving a large \"special assessment\"  "
      ]
     },
     "metadata": {},
     "output_type": "display_data"
    },
    {
     "name": "stdout",
     "output_type": "stream",
     "text": [
      "testing bin = 0.900\n"
     ]
    },
    {
     "data": {
      "text/html": [
       "<div>\n",
       "<style scoped>\n",
       "    .dataframe tbody tr th:only-of-type {\n",
       "        vertical-align: middle;\n",
       "    }\n",
       "\n",
       "    .dataframe tbody tr th {\n",
       "        vertical-align: top;\n",
       "    }\n",
       "\n",
       "    .dataframe thead th {\n",
       "        text-align: right;\n",
       "    }\n",
       "</style>\n",
       "<table border=\"1\" class=\"dataframe\">\n",
       "  <thead>\n",
       "    <tr style=\"text-align: right;\">\n",
       "      <th></th>\n",
       "      <th>post_question_overlap_score</th>\n",
       "      <th>question</th>\n",
       "      <th>post_question_overlap_sent</th>\n",
       "      <th>parent_title</th>\n",
       "    </tr>\n",
       "  </thead>\n",
       "  <tbody>\n",
       "    <tr>\n",
       "      <th>1962473</th>\n",
       "      <td>0.9</td>\n",
       "      <td>&amp;gt; Can anybody speak to how stupid / smart / etc it would be to use a \"borderless account\" with TransferWise to hold such a relatively large amo...</td>\n",
       "      <td>[can, anybodi, speak, to, how, stupid, /, smart, /, etc, it, would, be, to, use, a, \", borderless, account, \", with, transferwis, to, hold, such, ...</td>\n",
       "      <td>Wife is attending university for masters in the UK. Roughly GBP 18k for tuition. We're risk averse and want to protect against unknown exchange ra...</td>\n",
       "    </tr>\n",
       "    <tr>\n",
       "      <th>4469540</th>\n",
       "      <td>0.9</td>\n",
       "      <td>&amp;gt; I was wondering if I would have to make him the head of household when doing my taxes or would i make myself the head of household for the ro...</td>\n",
       "      <td>[I, wa, wonder, if, I, would, have, to, make, him, the, head, of, household, when, do, my, tax, or, would, i, make, myself, the, head, of, househo...</td>\n",
       "      <td>19 year old doing taxes for the first time seeking help</td>\n",
       "    </tr>\n",
       "    <tr>\n",
       "      <th>788281</th>\n",
       "      <td>0.9</td>\n",
       "      <td>&amp;gt;If the house is sold, am I required to evenly split the proceeds with her since she hasn't contributed to the mortgage payments since before t...</td>\n",
       "      <td>[If, the, hous, is, sold, ,, am, I, requir, to, evenli, split, the, proce, with, her, sinc, she, hasn, ', t, contribut, to, the, mortgag, payment,...</td>\n",
       "      <td>Can I lock my ex-wife out of the house if I'm worried she'll try to take my dog?</td>\n",
       "    </tr>\n",
       "    <tr>\n",
       "      <th>781919</th>\n",
       "      <td>0.9</td>\n",
       "      <td>&amp;gt;Would it be better for me to just aggressively pay down my loans for the next 6 months, then start saving for retirement when my 401k kicks in?</td>\n",
       "      <td>[would, it, be, better, for, me, to, just, aggress, pay, down, my, loan, for, the, next, 6, month, ,, then, start, save, for, retir, when, my, 401...</td>\n",
       "      <td>My job's 401(k) plan isn't available to me for another 6 months. Is there something I can do in the meantime?</td>\n",
       "    </tr>\n",
       "    <tr>\n",
       "      <th>4596390</th>\n",
       "      <td>0.9</td>\n",
       "      <td>&amp;gt;But what is the difference of having a 'gaming tournament' as an in-person event where there is an entry fee and players can win money?</td>\n",
       "      <td>[but, what, is, the, differ, of, have, a, ', game, tournament, ', as, an, in, -, person, event, where, there, is, an, entri, fee, and, player, can...</td>\n",
       "      <td>Mobile Game with Reward [US]</td>\n",
       "    </tr>\n",
       "    <tr>\n",
       "      <th>4413331</th>\n",
       "      <td>0.9</td>\n",
       "      <td>&amp;gt; What's to stop someone who I've written a check to from grabbing those details off of my check and paying their own bills from my bank account?</td>\n",
       "      <td>[what, ', s, to, stop, someon, who, I, ', ve, written, a, check, to, from, grab, those, detail, off, of, my, check, and, pay, their, own, bill, fr...</td>\n",
       "      <td>Just set up automatic payments for my gas bill - they only needed my bank account number and routing number. Both of these are easily available to...</td>\n",
       "    </tr>\n",
       "    <tr>\n",
       "      <th>2946782</th>\n",
       "      <td>0.9</td>\n",
       "      <td>&amp;gt; So my question is...do his papers still count if they don’t have the ‘filed’ stamp on them and they are missing documents?</td>\n",
       "      <td>[So, my, question, is, ..., do, hi, paper, still, count, if, they, don, ’, t, have, the, ‘, file, ’, stamp, on, them, and, they, are, miss, docume...</td>\n",
       "      <td>Served court papers with no stamp? Vancouver BC</td>\n",
       "    </tr>\n",
       "    <tr>\n",
       "      <th>1402477</th>\n",
       "      <td>0.9</td>\n",
       "      <td>&amp;gt; Anyway, it doesn't sit right with me to be \"friends\" with someone who devalues me and considers me a red flag in almost a threatening tone?</td>\n",
       "      <td>[anyway, ,, it, doesn, ', t, sit, right, with, me, to, be, \", friend, \", with, someon, who, devalu, me, and, consid, me, a, red, flag, in, almost,...</td>\n",
       "      <td>WIBTA (25F) For unfriending and blocking my ex-best friend (25F) on Instagram after she hasn't talked to me for a month?</td>\n",
       "    </tr>\n",
       "    <tr>\n",
       "      <th>4734894</th>\n",
       "      <td>0.9</td>\n",
       "      <td>&amp;gt;If I don’t show is there anyway he can win the case by convincing the judge that I should be there even though service hasn’t been verified?</td>\n",
       "      <td>[If, I, don, ’, t, show, is, there, anyway, he, can, win, the, case, by, convinc, the, judg, that, I, should, be, there, even, though, servic, has...</td>\n",
       "      <td>Ca small claims court, service not verified, do I need to show up?</td>\n",
       "    </tr>\n",
       "    <tr>\n",
       "      <th>4413697</th>\n",
       "      <td>0.9</td>\n",
       "      <td>&amp;gt; let's say I've gotten a pic from someone younger that I didn't ask for and since I'm an adult, could I be trouble?</td>\n",
       "      <td>[and, let, ', s, say, I, ', ve, gotten, a, pic, from, someon, younger, that, I, didn, ', t, ask, for, and, sinc, I, ', m, an, adult, ,, could, I, ...</td>\n",
       "      <td>Can schools check everyone's phones for nudes?</td>\n",
       "    </tr>\n",
       "  </tbody>\n",
       "</table>\n",
       "</div>"
      ],
      "text/plain": [
       "         post_question_overlap_score  \\\n",
       "1962473                          0.9   \n",
       "4469540                          0.9   \n",
       "788281                           0.9   \n",
       "781919                           0.9   \n",
       "4596390                          0.9   \n",
       "4413331                          0.9   \n",
       "2946782                          0.9   \n",
       "1402477                          0.9   \n",
       "4734894                          0.9   \n",
       "4413697                          0.9   \n",
       "\n",
       "                                                                                                                                                      question  \\\n",
       "1962473  &gt; Can anybody speak to how stupid / smart / etc it would be to use a \"borderless account\" with TransferWise to hold such a relatively large amo...   \n",
       "4469540  &gt; I was wondering if I would have to make him the head of household when doing my taxes or would i make myself the head of household for the ro...   \n",
       "788281   &gt;If the house is sold, am I required to evenly split the proceeds with her since she hasn't contributed to the mortgage payments since before t...   \n",
       "781919     &gt;Would it be better for me to just aggressively pay down my loans for the next 6 months, then start saving for retirement when my 401k kicks in?   \n",
       "4596390            &gt;But what is the difference of having a 'gaming tournament' as an in-person event where there is an entry fee and players can win money?   \n",
       "4413331   &gt; What's to stop someone who I've written a check to from grabbing those details off of my check and paying their own bills from my bank account?   \n",
       "2946782                        &gt; So my question is...do his papers still count if they don’t have the ‘filed’ stamp on them and they are missing documents?   \n",
       "1402477       &gt; Anyway, it doesn't sit right with me to be \"friends\" with someone who devalues me and considers me a red flag in almost a threatening tone?   \n",
       "4734894       &gt;If I don’t show is there anyway he can win the case by convincing the judge that I should be there even though service hasn’t been verified?   \n",
       "4413697                                &gt; let's say I've gotten a pic from someone younger that I didn't ask for and since I'm an adult, could I be trouble?   \n",
       "\n",
       "                                                                                                                                    post_question_overlap_sent  \\\n",
       "1962473  [can, anybodi, speak, to, how, stupid, /, smart, /, etc, it, would, be, to, use, a, \", borderless, account, \", with, transferwis, to, hold, such, ...   \n",
       "4469540  [I, wa, wonder, if, I, would, have, to, make, him, the, head, of, household, when, do, my, tax, or, would, i, make, myself, the, head, of, househo...   \n",
       "788281   [If, the, hous, is, sold, ,, am, I, requir, to, evenli, split, the, proce, with, her, sinc, she, hasn, ', t, contribut, to, the, mortgag, payment,...   \n",
       "781919   [would, it, be, better, for, me, to, just, aggress, pay, down, my, loan, for, the, next, 6, month, ,, then, start, save, for, retir, when, my, 401...   \n",
       "4596390  [but, what, is, the, differ, of, have, a, ', game, tournament, ', as, an, in, -, person, event, where, there, is, an, entri, fee, and, player, can...   \n",
       "4413331  [what, ', s, to, stop, someon, who, I, ', ve, written, a, check, to, from, grab, those, detail, off, of, my, check, and, pay, their, own, bill, fr...   \n",
       "2946782  [So, my, question, is, ..., do, hi, paper, still, count, if, they, don, ’, t, have, the, ‘, file, ’, stamp, on, them, and, they, are, miss, docume...   \n",
       "1402477  [anyway, ,, it, doesn, ', t, sit, right, with, me, to, be, \", friend, \", with, someon, who, devalu, me, and, consid, me, a, red, flag, in, almost,...   \n",
       "4734894  [If, I, don, ’, t, show, is, there, anyway, he, can, win, the, case, by, convinc, the, judg, that, I, should, be, there, even, though, servic, has...   \n",
       "4413697  [and, let, ', s, say, I, ', ve, gotten, a, pic, from, someon, younger, that, I, didn, ', t, ask, for, and, sinc, I, ', m, an, adult, ,, could, I, ...   \n",
       "\n",
       "                                                                                                                                                  parent_title  \n",
       "1962473  Wife is attending university for masters in the UK. Roughly GBP 18k for tuition. We're risk averse and want to protect against unknown exchange ra...  \n",
       "4469540                                                                                                19 year old doing taxes for the first time seeking help  \n",
       "788281                                                                        Can I lock my ex-wife out of the house if I'm worried she'll try to take my dog?  \n",
       "781919                                           My job's 401(k) plan isn't available to me for another 6 months. Is there something I can do in the meantime?  \n",
       "4596390                                                                                                                           Mobile Game with Reward [US]  \n",
       "4413331  Just set up automatic payments for my gas bill - they only needed my bank account number and routing number. Both of these are easily available to...  \n",
       "2946782                                                                                                        Served court papers with no stamp? Vancouver BC  \n",
       "1402477                               WIBTA (25F) For unfriending and blocking my ex-best friend (25F) on Instagram after she hasn't talked to me for a month?  \n",
       "4734894                                                                                     Ca small claims court, service not verified, do I need to show up?  \n",
       "4413697                                                                                                         Can schools check everyone's phones for nudes?  "
      ]
     },
     "metadata": {},
     "output_type": "display_data"
    },
    {
     "name": "stdout",
     "output_type": "stream",
     "text": [
      "testing bin = 1.000\n"
     ]
    },
    {
     "data": {
      "text/html": [
       "<div>\n",
       "<style scoped>\n",
       "    .dataframe tbody tr th:only-of-type {\n",
       "        vertical-align: middle;\n",
       "    }\n",
       "\n",
       "    .dataframe tbody tr th {\n",
       "        vertical-align: top;\n",
       "    }\n",
       "\n",
       "    .dataframe thead th {\n",
       "        text-align: right;\n",
       "    }\n",
       "</style>\n",
       "<table border=\"1\" class=\"dataframe\">\n",
       "  <thead>\n",
       "    <tr style=\"text-align: right;\">\n",
       "      <th></th>\n",
       "      <th>post_question_overlap_score</th>\n",
       "      <th>question</th>\n",
       "      <th>post_question_overlap_sent</th>\n",
       "      <th>parent_title</th>\n",
       "    </tr>\n",
       "  </thead>\n",
       "  <tbody>\n",
       "    <tr>\n",
       "      <th>2460741</th>\n",
       "      <td>1.0</td>\n",
       "      <td>Do I have any legal responsibility to my father in this case?</td>\n",
       "      <td>[Do, I, have, ani, legal, respons, to, my, father, in, thi, case, ?]</td>\n",
       "      <td>[TX] My father(56M) suffers from severe to end-stage alcohol abuse and is refusing treatment. Where do I go from here?</td>\n",
       "    </tr>\n",
       "    <tr>\n",
       "      <th>3509386</th>\n",
       "      <td>1.0</td>\n",
       "      <td>What could be causing this?</td>\n",
       "      <td>[what, could, be, caus, thi, ?]</td>\n",
       "      <td>Why is my credit score creeping down?</td>\n",
       "    </tr>\n",
       "    <tr>\n",
       "      <th>2460741</th>\n",
       "      <td>1.0</td>\n",
       "      <td>I'm considering whether I should stay in state to finish school or if I should move in with family in another state - are there issues with separa...</td>\n",
       "      <td>[I, ', m, consid, whether, I, should, stay, in, state, to, finish, school, or, if, I, should, move, in, with, famili, in, anoth, state, -, are, th...</td>\n",
       "      <td>[TX] My father(56M) suffers from severe to end-stage alcohol abuse and is refusing treatment. Where do I go from here?</td>\n",
       "    </tr>\n",
       "    <tr>\n",
       "      <th>2460778</th>\n",
       "      <td>1.0</td>\n",
       "      <td>How can I fix this now before they come after me?</td>\n",
       "      <td>[how, can, I, fix, thi, now, befor, they, come, after, me, ?]</td>\n",
       "      <td>I owe the IRS</td>\n",
       "    </tr>\n",
       "    <tr>\n",
       "      <th>3509215</th>\n",
       "      <td>1.0</td>\n",
       "      <td>Will I get paid for the two days I was there or even reimbursed for the plane ticket?</td>\n",
       "      <td>[will, I, get, paid, for, the, two, day, I, wa, there, or, even, reimburs, for, the, plane, ticket, ?]</td>\n",
       "      <td>I left a full paid business trip after my boss tried to buy me a prostitute, what can happen to me and will I still get paid?</td>\n",
       "    </tr>\n",
       "    <tr>\n",
       "      <th>4421337</th>\n",
       "      <td>1.0</td>\n",
       "      <td>However should I still open a traditional IRA and contribute the max $5,500?</td>\n",
       "      <td>[howev, should, I, still, open, a, tradit, ira, and, contribut, the, max, $, 5, ,, 500, ?]</td>\n",
       "      <td>Trying to decide if I should open a traditional IRA...</td>\n",
       "    </tr>\n",
       "    <tr>\n",
       "      <th>2375084</th>\n",
       "      <td>1.0</td>\n",
       "      <td>In what ways would supporting my mother financially benefit me?</td>\n",
       "      <td>[In, what, way, would, support, my, mother, financi, benefit, me, ?]</td>\n",
       "      <td>Sister wants me to help pay for our mother's house; What benefits am I able to obtain if I contribute?</td>\n",
       "    </tr>\n",
       "    <tr>\n",
       "      <th>4499763</th>\n",
       "      <td>1.0</td>\n",
       "      <td>Obviously if I were to take a mortgage it would be better to not involve her in the loan, but is that possible if we are married?</td>\n",
       "      <td>[obvious, if, I, were, to, take, a, mortgag, it, would, be, better, to, not, involv, her, in, the, loan, ,, but, is, that, possibl, if, we, are, m...</td>\n",
       "      <td>Questions about my GF's defaulted student loan debt</td>\n",
       "    </tr>\n",
       "    <tr>\n",
       "      <th>5143644</th>\n",
       "      <td>1.0</td>\n",
       "      <td>I am in for the long run here, any tips or advice?</td>\n",
       "      <td>[I, am, in, for, the, long, run, here, ,, ani, tip, or, advic, ?]</td>\n",
       "      <td>I need some external advice on managing a retirement fund.</td>\n",
       "    </tr>\n",
       "    <tr>\n",
       "      <th>3952567</th>\n",
       "      <td>1.0</td>\n",
       "      <td>Or do we need actual cash readily available (in notes)?</td>\n",
       "      <td>[Or, do, we, need, actual, cash, readili, avail, (, in, note, )?]</td>\n",
       "      <td>What is a recession and how do we prepare for it?</td>\n",
       "    </tr>\n",
       "  </tbody>\n",
       "</table>\n",
       "</div>"
      ],
      "text/plain": [
       "         post_question_overlap_score  \\\n",
       "2460741                          1.0   \n",
       "3509386                          1.0   \n",
       "2460741                          1.0   \n",
       "2460778                          1.0   \n",
       "3509215                          1.0   \n",
       "4421337                          1.0   \n",
       "2375084                          1.0   \n",
       "4499763                          1.0   \n",
       "5143644                          1.0   \n",
       "3952567                          1.0   \n",
       "\n",
       "                                                                                                                                                      question  \\\n",
       "2460741                                                                                          Do I have any legal responsibility to my father in this case?   \n",
       "3509386                                                                                                                            What could be causing this?   \n",
       "2460741  I'm considering whether I should stay in state to finish school or if I should move in with family in another state - are there issues with separa...   \n",
       "2460778                                                                                                      How can I fix this now before they come after me?   \n",
       "3509215                                                                  Will I get paid for the two days I was there or even reimbursed for the plane ticket?   \n",
       "4421337                                                                           However should I still open a traditional IRA and contribute the max $5,500?   \n",
       "2375084                                                                                        In what ways would supporting my mother financially benefit me?   \n",
       "4499763                      Obviously if I were to take a mortgage it would be better to not involve her in the loan, but is that possible if we are married?   \n",
       "5143644                                                                                                     I am in for the long run here, any tips or advice?   \n",
       "3952567                                                                                                Or do we need actual cash readily available (in notes)?   \n",
       "\n",
       "                                                                                                                                    post_question_overlap_sent  \\\n",
       "2460741                                                                                   [Do, I, have, ani, legal, respons, to, my, father, in, thi, case, ?]   \n",
       "3509386                                                                                                                        [what, could, be, caus, thi, ?]   \n",
       "2460741  [I, ', m, consid, whether, I, should, stay, in, state, to, finish, school, or, if, I, should, move, in, with, famili, in, anoth, state, -, are, th...   \n",
       "2460778                                                                                          [how, can, I, fix, thi, now, befor, they, come, after, me, ?]   \n",
       "3509215                                                 [will, I, get, paid, for, the, two, day, I, wa, there, or, even, reimburs, for, the, plane, ticket, ?]   \n",
       "4421337                                                             [howev, should, I, still, open, a, tradit, ira, and, contribut, the, max, $, 5, ,, 500, ?]   \n",
       "2375084                                                                                   [In, what, way, would, support, my, mother, financi, benefit, me, ?]   \n",
       "4499763  [obvious, if, I, were, to, take, a, mortgag, it, would, be, better, to, not, involv, her, in, the, loan, ,, but, is, that, possibl, if, we, are, m...   \n",
       "5143644                                                                                      [I, am, in, for, the, long, run, here, ,, ani, tip, or, advic, ?]   \n",
       "3952567                                                                                      [Or, do, we, need, actual, cash, readili, avail, (, in, note, )?]   \n",
       "\n",
       "                                                                                                                          parent_title  \n",
       "2460741         [TX] My father(56M) suffers from severe to end-stage alcohol abuse and is refusing treatment. Where do I go from here?  \n",
       "3509386                                                                                          Why is my credit score creeping down?  \n",
       "2460741         [TX] My father(56M) suffers from severe to end-stage alcohol abuse and is refusing treatment. Where do I go from here?  \n",
       "2460778                                                                                                                  I owe the IRS  \n",
       "3509215  I left a full paid business trip after my boss tried to buy me a prostitute, what can happen to me and will I still get paid?  \n",
       "4421337                                                                         Trying to decide if I should open a traditional IRA...  \n",
       "2375084                         Sister wants me to help pay for our mother's house; What benefits am I able to obtain if I contribute?  \n",
       "4499763                                                                            Questions about my GF's defaulted student loan debt  \n",
       "5143644                                                                     I need some external advice on managing a retirement fund.  \n",
       "3952567                                                                              What is a recession and how do we prepare for it?  "
      ]
     },
     "metadata": {},
     "output_type": "display_data"
    }
   ],
   "source": [
    "pd.set_option('display.max_colwidth', 150)\n",
    "import numpy as np\n",
    "bins = np.linspace(0., 1.0, 11)\n",
    "print(bins)\n",
    "flat_question_data.sort_values('post_question_overlap_score', inplace=True, ascending=True)\n",
    "for bin_i in bins:\n",
    "    print(f'testing bin = {\"{:1.3f}\".format(bin_i)}')\n",
    "    data_i = flat_question_data[flat_question_data.loc[:, 'post_question_overlap_score']>=bin_i]\n",
    "    display(data_i.loc[:, ['post_question_overlap_score', 'question', 'post_question_overlap_sent', 'parent_title']].head(10))"
   ]
  },
  {
   "cell_type": "markdown",
   "metadata": {},
   "source": [
    "It looks like most of the questions with at least 10% overlap are relevant, and questions with >50% overlap tend to repeat the original post and/or are rhetorical.\n",
    "\n",
    "Let's filter the data based on (1) clarification (using model prediction score) and (2) relevance (overlap)."
   ]
  },
  {
   "cell_type": "code",
   "execution_count": 20,
   "metadata": {},
   "outputs": [
    {
     "name": "stdout",
     "output_type": "stream",
     "text": [
      "818557/1540239 valid questions\n"
     ]
    },
    {
     "name": "stderr",
     "output_type": "stream",
     "text": [
      "/home/ianbstew/miniconda3/envs/py3/lib/python3.8/site-packages/pandas/core/frame.py:4305: SettingWithCopyWarning: \n",
      "A value is trying to be set on a copy of a slice from a DataFrame\n",
      "\n",
      "See the caveats in the documentation: https://pandas.pydata.org/pandas-docs/stable/user_guide/indexing.html#returning-a-view-versus-a-copy\n",
      "  return super().drop(\n"
     ]
    }
   ],
   "source": [
    "valid_question_overlap_score_range = [0.1, 0.5]\n",
    "relevance_cutoff = 0.5\n",
    "valid_question_data = flat_question_data[\n",
    "    ((flat_question_data.loc[:, 'valid_question_prob'] > relevance_cutoff) | flat_question_data.loc[:, 'info_question']) &\n",
    "    (flat_question_data.loc[:, 'post_question_overlap_score'].apply(lambda x: x >= valid_question_overlap_score_range[0] and x < valid_question_overlap_score_range[1]))\n",
    "]\n",
    "print(f'{valid_question_data.shape[0]}/{flat_question_data.shape[0]} valid questions')\n",
    "# remove extra columns to save space\n",
    "valid_question_data.drop(['clean_submission_text', 'parent_author', 'parent_created', 'parent_edited', 'parent_text', 'parent_title', 'question_sents', 'submission_sents'], axis=1, inplace=True)"
   ]
  },
  {
   "cell_type": "markdown",
   "metadata": {},
   "source": [
    "OK! Using the automatic threshold we get ~50% coverage of the questions.\n",
    "\n",
    "Let's save this data for later."
   ]
  },
  {
   "cell_type": "code",
   "execution_count": 21,
   "metadata": {},
   "outputs": [],
   "source": [
    "valid_question_out_file = '../../data/reddit_data/subreddit_combined_valid_question_data.gz'\n",
    "valid_question_data.to_csv(valid_question_out_file, sep='\\t', compression='gzip', index=False)"
   ]
  },
  {
   "cell_type": "markdown",
   "metadata": {},
   "source": [
    "### Second round of question labels\n",
    "We did a small pilot sample of annotations for some of the questions, so let's see how the annotators did."
   ]
  },
  {
   "cell_type": "code",
   "execution_count": 28,
   "metadata": {
    "scrolled": true
   },
   "outputs": [
    {
     "name": "stdout",
     "output_type": "stream",
     "text": [
      "Index(['post_title', 'post_text', 'question', 'parent_id',\n",
      "       'question_is_relevant_1', 'question_asks_for_more_info_1',\n",
      "       'question_is_relevant_2', 'question_asks_for_more_info_2',\n",
      "       'question_is_relevant_3', 'question_asks_for_more_info_3',\n",
      "       'question_is_relevant_4', 'question_asks_for_more_info_4'],\n",
      "      dtype='object')\n"
     ]
    }
   ],
   "source": [
    "import pandas as pd\n",
    "import re\n",
    "import os\n",
    "annotation_data_dir = '../../data/reddit_data/annotation_samples/mini_annotation_sample/'\n",
    "file_matcher = re.compile('annotation_sample_\\d')\n",
    "annotation_sample_files = list(filter(lambda x: file_matcher.match(x) is not None, os.listdir(annotation_data_dir)))\n",
    "annotation_sample_data = list(map(lambda x: pd.read_csv(os.path.join(annotation_data_dir, x), sep='\\t', index_col=False), annotation_sample_files))\n",
    "label_cols = ['question_is_relevant', 'question_asks_for_more_info']\n",
    "for i, data_i in enumerate(annotation_sample_data):\n",
    "    data_i.rename(columns={label_col : f'{label_col}_{i+1}' for label_col in label_cols}, inplace=True)\n",
    "# join data\n",
    "annotation_data =  annotation_sample_data[0].copy()\n",
    "for i, data_i in enumerate(annotation_sample_data[1:]):\n",
    "    label_cols_i = list(map(lambda x: f'{x}_{i+2}', label_cols))\n",
    "    annotation_data = pd.merge(\n",
    "        annotation_data, data_i.loc[:, ['parent_id', 'question'] + label_cols_i]\n",
    "    )\n",
    "# fill null vals\n",
    "annotation_data.fillna(value=-1, inplace=True)\n",
    "print(annotation_data.columns)"
   ]
  },
  {
   "cell_type": "code",
   "execution_count": 29,
   "metadata": {},
   "outputs": [
    {
     "name": "stdout",
     "output_type": "stream",
     "text": [
      "relevant labels\n",
      " 1.0    63\n",
      " 2.0    31\n",
      "-1.0     6\n",
      "dtype: int64\n",
      "info labels\n",
      " 1.0    82\n",
      " 2.0    16\n",
      "-1.0     2\n",
      "dtype: int64\n"
     ]
    }
   ],
   "source": [
    "## overall label distribution\n",
    "relevant_cols = list(filter(lambda x: 'question_is_relevant' in x, annotation_data.columns))\n",
    "info_cols = list(filter(lambda x: 'question_asks_for_more_info' in x, annotation_data.columns))\n",
    "relevant_val_counts = pd.Series([y for x in relevant_cols for y in annotation_data.loc[:, x].values]).value_counts()\n",
    "info_val_counts = pd.Series([y for x in info_cols for y in annotation_data.loc[:, x].values]).value_counts()\n",
    "print(f'relevant labels\\n{relevant_val_counts}')\n",
    "print(f'info labels\\n{info_val_counts}')"
   ]
  },
  {
   "cell_type": "markdown",
   "metadata": {},
   "source": [
    "Mostly yes, some uncertainty."
   ]
  },
  {
   "cell_type": "code",
   "execution_count": 40,
   "metadata": {
    "scrolled": true
   },
   "outputs": [
    {
     "name": "stdout",
     "output_type": "stream",
     "text": [
      "testing label = question_is_relevant\n",
      "alpha = 0.161\n",
      "kappa = -0.018\n",
      "agreement for question_is_relevant_1 vs. question_is_relevant_2 = 0.322\n",
      "agreement for question_is_relevant_1 vs. question_is_relevant_3 = 0.123\n",
      "agreement for question_is_relevant_1 vs. question_is_relevant_4 = 0.327\n",
      "agreement for question_is_relevant_2 vs. question_is_relevant_3 = 0.044\n",
      "agreement for question_is_relevant_2 vs. question_is_relevant_4 = 0.315\n",
      "agreement for question_is_relevant_3 vs. question_is_relevant_4 = -0.116\n",
      "mean pairwise agreement = 0.169\n",
      "testing label = question_asks_for_more_info\n",
      "alpha = 0.409\n",
      "kappa = -0.028\n",
      "agreement for question_asks_for_more_info_1 vs. question_asks_for_more_info_2 = 0.503\n",
      "agreement for question_asks_for_more_info_1 vs. question_asks_for_more_info_3 = 0.487\n",
      "agreement for question_asks_for_more_info_1 vs. question_asks_for_more_info_4 = 0.706\n",
      "agreement for question_asks_for_more_info_2 vs. question_asks_for_more_info_3 = 0.167\n",
      "agreement for question_asks_for_more_info_2 vs. question_asks_for_more_info_4 = 0.324\n",
      "agreement for question_asks_for_more_info_3 vs. question_asks_for_more_info_4 = 0.333\n",
      "mean pairwise agreement = 0.420\n"
     ]
    }
   ],
   "source": [
    "from sklearn.metrics import cohen_kappa_score\n",
    "from statsmodels.stats.inter_rater import fleiss_kappa\n",
    "import krippendorff\n",
    "import numpy as np\n",
    "label_names = ['question_is_relevant', 'question_asks_for_more_info']\n",
    "for label_name_i in label_names:\n",
    "    print(f'testing label = {label_name_i}')\n",
    "    label_cols_i = list(filter(lambda x: x.startswith(label_name_i), annotation_data.columns))\n",
    "    score_matrix = annotation_data.loc[:, label_cols_i].transpose()\n",
    "    score_counts = score_matrix.apply(lambda x: x.value_counts(), axis=1).fillna(0.)\n",
    "    alpha = krippendorff.alpha(reliability_data=score_matrix, level_of_measurement='nominal')\n",
    "    kappa = fleiss_kappa(table=score_counts)\n",
    "    print(f'alpha = {\"{:1.3f}\".format(alpha)}')\n",
    "    print(f'kappa = {\"{:1.3f}\".format(kappa)}')\n",
    "    ## for completeness: let's look at the kappa for each pair of annotators\n",
    "    pairwise_agreement_scores = []\n",
    "    for j, label_col_j in enumerate(label_cols_i):\n",
    "        for k, label_col_k in enumerate(label_cols_i[(j+1):]):\n",
    "            kappa_j_k = cohen_kappa_score(annotation_data.loc[:, label_col_j],\n",
    "                                               annotation_data.loc[:, label_col_k])\n",
    "            print(f'agreement for {label_col_j} vs. {label_col_k} = {\"{:1.3f}\".format(kappa_j_k)}')\n",
    "            pairwise_agreement_scores.append(kappa_j_k)\n",
    "    print(f'mean pairwise agreement = {\"{:1.3f}\".format(np.mean(pairwise_agreement_scores))}')"
   ]
  },
  {
   "cell_type": "code",
   "execution_count": 65,
   "metadata": {},
   "outputs": [
    {
     "name": "stdout",
     "output_type": "stream",
     "text": [
      "testing label = question_is_relevant\n",
      "19/25 data retained after filtering\n",
      "alpha = 0.231\n",
      "kappa = -0.026\n",
      "agreement for question_asks_for_more_info_1 vs. question_asks_for_more_info_2 = 0.457\n",
      "agreement for question_asks_for_more_info_1 vs. question_asks_for_more_info_3 = 0.642\n",
      "agreement for question_asks_for_more_info_1 vs. question_asks_for_more_info_4 = 0.457\n",
      "agreement for question_asks_for_more_info_2 vs. question_asks_for_more_info_3 = 0.313\n",
      "agreement for question_asks_for_more_info_2 vs. question_asks_for_more_info_4 = 0.208\n",
      "agreement for question_asks_for_more_info_3 vs. question_asks_for_more_info_4 = 0.313\n",
      "mean pairwise agreement = 0.398\n",
      "mean match % = 0.868\n",
      "testing label = question_asks_for_more_info\n",
      "23/25 data retained after filtering\n",
      "alpha = 0.380\n",
      "kappa = -0.034\n",
      "agreement for question_asks_for_more_info_1 vs. question_asks_for_more_info_2 = 0.330\n",
      "agreement for question_asks_for_more_info_1 vs. question_asks_for_more_info_3 = 0.623\n",
      "agreement for question_asks_for_more_info_1 vs. question_asks_for_more_info_4 = 0.623\n",
      "agreement for question_asks_for_more_info_2 vs. question_asks_for_more_info_3 = 0.161\n",
      "agreement for question_asks_for_more_info_2 vs. question_asks_for_more_info_4 = 0.161\n",
      "agreement for question_asks_for_more_info_3 vs. question_asks_for_more_info_4 = 0.395\n",
      "mean pairwise agreement = 0.382\n",
      "mean match % = 0.848\n"
     ]
    }
   ],
   "source": [
    "## same thing but without \"uncertain\" labels\n",
    "label_names = ['question_is_relevant', 'question_asks_for_more_info']\n",
    "for label_name_i in label_names:\n",
    "    print(f'testing label = {label_name_i}')\n",
    "    label_cols = list(filter(lambda x: x.startswith(label_name_i), annotation_data.columns))\n",
    "    data_i = annotation_data[annotation_data.loc[:, label_cols].min(axis=1)!=-1]\n",
    "    print(f'{data_i.shape[0]}/{annotation_data.shape[0]} data retained after filtering')\n",
    "    score_matrix = data_i.loc[:, label_cols].transpose()\n",
    "    score_counts = score_matrix.apply(lambda x: x.value_counts(), axis=1).fillna(0.)\n",
    "    alpha = krippendorff.alpha(reliability_data=score_matrix, level_of_measurement='nominal')\n",
    "    kappa = fleiss_kappa(table=score_counts)\n",
    "    print(f'alpha = {\"{:1.3f}\".format(alpha)}')\n",
    "    print(f'kappa = {\"{:1.3f}\".format(kappa)}')\n",
    "    pairwise_agreement_scores = []\n",
    "    pairwise_match_scores = []\n",
    "    for j, label_col_j in enumerate(label_cols_i):\n",
    "        for k, label_col_k in enumerate(label_cols_i[(j+1):]):\n",
    "            kappa_j_k = cohen_kappa_score(data_i.loc[:, label_col_j],\n",
    "                                          data_i.loc[:, label_col_k])\n",
    "            match_j_k = (data_i.loc[:, label_col_j]==data_i.loc[:, label_col_k]).sum() / data_i.shape[0]\n",
    "            print(f'agreement for {label_col_j} vs. {label_col_k} = {\"{:1.3f}\".format(kappa_j_k)}')\n",
    "            pairwise_agreement_scores.append(kappa_j_k)\n",
    "            pairwise_match_scores.append(match_j_k)\n",
    "    print(f'mean pairwise agreement = {\"{:1.3f}\".format(np.mean(pairwise_agreement_scores))}')\n",
    "    print(f'mean match % = {\"{:1.3f}\".format(np.mean(pairwise_match_scores))}')"
   ]
  },
  {
   "cell_type": "markdown",
   "metadata": {},
   "source": [
    "When we remove uncertain answers, we get pretty high agreement, especially between specific pairs of annotators."
   ]
  },
  {
   "cell_type": "markdown",
   "metadata": {},
   "source": [
    "Which questions tend to have higher/lower agreement?"
   ]
  },
  {
   "cell_type": "code",
   "execution_count": 66,
   "metadata": {
    "scrolled": true
   },
   "outputs": [
    {
     "name": "stdout",
     "output_type": "stream",
     "text": [
      "testing label = question_is_relevant\n",
      "7/25 questions with full agreement:\n"
     ]
    },
    {
     "data": {
      "text/html": [
       "<div>\n",
       "<style scoped>\n",
       "    .dataframe tbody tr th:only-of-type {\n",
       "        vertical-align: middle;\n",
       "    }\n",
       "\n",
       "    .dataframe tbody tr th {\n",
       "        vertical-align: top;\n",
       "    }\n",
       "\n",
       "    .dataframe thead th {\n",
       "        text-align: right;\n",
       "    }\n",
       "</style>\n",
       "<table border=\"1\" class=\"dataframe\">\n",
       "  <thead>\n",
       "    <tr style=\"text-align: right;\">\n",
       "      <th></th>\n",
       "      <th>post_title</th>\n",
       "      <th>post_text</th>\n",
       "      <th>question</th>\n",
       "    </tr>\n",
       "  </thead>\n",
       "  <tbody>\n",
       "    <tr>\n",
       "      <th>9</th>\n",
       "      <td>PC restarting when I hit my desk</td>\n",
       "      <td>[PCPartPicker part list](https://pcpartpicker.com/list/jhLcq4) / [Price breakdown by merchant](https://pcpartpicker.com/list/jhLcq4/by_merchant/)Type|Item|Price:----|:----|:----**CPU** | [Intel - Core i7-8700K 3.7GHz 6-Core Processor](https://pcpartpicker.com/product/sxDzK8/intel-core-i7-8700k-37ghz-6-core-processor-bx80684i78700k) | Purchased For $305.00 **CPU Cooler** | [EVGA - CLC 280 113.5 CFM Liquid CPU Cooler](https://pcpartpicker.com/product/d2fmP6/evga-clc-280-1135-cfm-liquid-cpu-coo...</td>\n",
       "      <td>Or have you replaced the sata cable?</td>\n",
       "    </tr>\n",
       "    <tr>\n",
       "      <th>10</th>\n",
       "      <td>Funky throttling after overclocking FX-8350 to 4.4Ghz, any advice?</td>\n",
       "      <td>I decided to overclock my 8350 to 4.4ghz today and when I go to run stress tests it runs my CPU at 4.4ghz for about 5 minutes, then it goes and starts dropping multipliers to 7, and caused my clock speed to drop down below 4. (https://i.imgur.com/Ck4TCJg.png - you can see on the CPU usage graph that it goes from being pinned at 100% to lowered) I have not experienced any crashing.Am I doing something wrong?I'm running a multiplier of 22 with 1.3v, I have also tried a bunch betwen 1.28-1.35vI...</td>\n",
       "      <td>Which motherboard do you have?</td>\n",
       "    </tr>\n",
       "    <tr>\n",
       "      <th>11</th>\n",
       "      <td>IP rights at a criminal enterprise</td>\n",
       "      <td>Are Intellectual Property protections enforceable if the individuals/company are actively breaking the law, both State and Federal, as long as no patents or pending patents are filed?   Are IP rights applicable if patents are filled and the company is a criminal enterprise?</td>\n",
       "      <td>What kind of criminal enterprise?</td>\n",
       "    </tr>\n",
       "    <tr>\n",
       "      <th>12</th>\n",
       "      <td>Moving for a new job that borders two states, should I consider living out of state</td>\n",
       "      <td>I got offered a job on the border of South Dakota and Minnesota. From various real estate sites, it seems that similar houses are considerably cheaper in Minnesota. Are there any reasons I should not look at Minnesota as an option? Also, the homes I am looking at are within 30 miles driving distance. Thanks for any help.</td>\n",
       "      <td>What are the cost differences in utilities?</td>\n",
       "    </tr>\n",
       "    <tr>\n",
       "      <th>13</th>\n",
       "      <td>Landlord cancelled lease renewal after signing. Do I have to keep paying rent?</td>\n",
       "      <td>Long time lurker. Mobile. New York. I’m 22 and living in an apartment in the “student ghetto” of upstate New York. Myself and 2 new roommates just signed a lease renewal for June 1st 2019- June 1st 2020. My landlord has had our signed lease renewal for a week and just texted me saying that they’re selling the house, cancelling the lease renewal and giving us 60 days to move out. I’m unsure whether or not they’ve signed the lease renewal, they’re making it seem as though they have not. What i...</td>\n",
       "      <td>(IANAL, so I'll just give thoughts) Hmm, did they give any indication that they accepted your renewal?</td>\n",
       "    </tr>\n",
       "  </tbody>\n",
       "</table>\n",
       "</div>"
      ],
      "text/plain": [
       "                                                                             post_title  \\\n",
       "9                                                      PC restarting when I hit my desk   \n",
       "10                   Funky throttling after overclocking FX-8350 to 4.4Ghz, any advice?   \n",
       "11                                                   IP rights at a criminal enterprise   \n",
       "12  Moving for a new job that borders two states, should I consider living out of state   \n",
       "13       Landlord cancelled lease renewal after signing. Do I have to keep paying rent?   \n",
       "\n",
       "                                                                                                                                                                                                                                                                                                                                                                                                                                                                                                              post_text  \\\n",
       "9   [PCPartPicker part list](https://pcpartpicker.com/list/jhLcq4) / [Price breakdown by merchant](https://pcpartpicker.com/list/jhLcq4/by_merchant/)Type|Item|Price:----|:----|:----**CPU** | [Intel - Core i7-8700K 3.7GHz 6-Core Processor](https://pcpartpicker.com/product/sxDzK8/intel-core-i7-8700k-37ghz-6-core-processor-bx80684i78700k) | Purchased For $305.00 **CPU Cooler** | [EVGA - CLC 280 113.5 CFM Liquid CPU Cooler](https://pcpartpicker.com/product/d2fmP6/evga-clc-280-1135-cfm-liquid-cpu-coo...   \n",
       "10  I decided to overclock my 8350 to 4.4ghz today and when I go to run stress tests it runs my CPU at 4.4ghz for about 5 minutes, then it goes and starts dropping multipliers to 7, and caused my clock speed to drop down below 4. (https://i.imgur.com/Ck4TCJg.png - you can see on the CPU usage graph that it goes from being pinned at 100% to lowered) I have not experienced any crashing.Am I doing something wrong?I'm running a multiplier of 22 with 1.3v, I have also tried a bunch betwen 1.28-1.35vI...   \n",
       "11                                                                                                                                                                                                                                   Are Intellectual Property protections enforceable if the individuals/company are actively breaking the law, both State and Federal, as long as no patents or pending patents are filed?   Are IP rights applicable if patents are filled and the company is a criminal enterprise?   \n",
       "12                                                                                                                                                                                   I got offered a job on the border of South Dakota and Minnesota. From various real estate sites, it seems that similar houses are considerably cheaper in Minnesota. Are there any reasons I should not look at Minnesota as an option? Also, the homes I am looking at are within 30 miles driving distance. Thanks for any help.   \n",
       "13  Long time lurker. Mobile. New York. I’m 22 and living in an apartment in the “student ghetto” of upstate New York. Myself and 2 new roommates just signed a lease renewal for June 1st 2019- June 1st 2020. My landlord has had our signed lease renewal for a week and just texted me saying that they’re selling the house, cancelling the lease renewal and giving us 60 days to move out. I’m unsure whether or not they’ve signed the lease renewal, they’re making it seem as though they have not. What i...   \n",
       "\n",
       "                                                                                                  question  \n",
       "9                                                                     Or have you replaced the sata cable?  \n",
       "10                                                                          Which motherboard do you have?  \n",
       "11                                                                       What kind of criminal enterprise?  \n",
       "12                                                             What are the cost differences in utilities?  \n",
       "13  (IANAL, so I'll just give thoughts) Hmm, did they give any indication that they accepted your renewal?  "
      ]
     },
     "metadata": {},
     "output_type": "display_data"
    },
    {
     "name": "stdout",
     "output_type": "stream",
     "text": [
      "questions with low agreement:\n"
     ]
    },
    {
     "data": {
      "text/html": [
       "<div>\n",
       "<style scoped>\n",
       "    .dataframe tbody tr th:only-of-type {\n",
       "        vertical-align: middle;\n",
       "    }\n",
       "\n",
       "    .dataframe tbody tr th {\n",
       "        vertical-align: top;\n",
       "    }\n",
       "\n",
       "    .dataframe thead th {\n",
       "        text-align: right;\n",
       "    }\n",
       "</style>\n",
       "<table border=\"1\" class=\"dataframe\">\n",
       "  <thead>\n",
       "    <tr style=\"text-align: right;\">\n",
       "      <th></th>\n",
       "      <th>post_title</th>\n",
       "      <th>post_text</th>\n",
       "      <th>question</th>\n",
       "      <th>mean_question_is_relevant_agreement</th>\n",
       "    </tr>\n",
       "  </thead>\n",
       "  <tbody>\n",
       "    <tr>\n",
       "      <th>0</th>\n",
       "      <td>Don't know if I should move to somewhere I think I would be happier.</td>\n",
       "      <td>Hey all. Short story: I am 25 and I live in Northern Indiana. I teach high school science and I have been doing that for 3 years. I am married and have 2 dogs. We moved into a house that we both really enjoy and is nice, but I have recently been struggling with whether or not I will be happy here. I love nature and there are so many beautiful places in the U.S. We are unsure whether or not to make it work here or do a crazy move somewhere else we think would be really cool. It would require ...</td>\n",
       "      <td>Why not make a list?</td>\n",
       "      <td>0.166667</td>\n",
       "    </tr>\n",
       "    <tr>\n",
       "      <th>1</th>\n",
       "      <td>Start thinking of \"saving money\" as \"making money\" instead.</td>\n",
       "      <td>I'm no expert, but this simple change in thought has saved me more money over the past year than ever before.I was constantly thinking of ways to make more money in life, and would do anything it took to create multiple incomes.I was saving, but not really actively focused on it.I would just save what I planned to, and spend my budget as freely as possible.I then had a thought that if I actively tried to save and make better decisions under my budget, it would be like making money.I guess wh...</td>\n",
       "      <td>Instead of thinking: \"I've got X to spend, how do I best spend it?</td>\n",
       "      <td>0.166667</td>\n",
       "    </tr>\n",
       "    <tr>\n",
       "      <th>2</th>\n",
       "      <td>Landlord question</td>\n",
       "      <td>[landlord -US - AZ]We have a normal fixed term lease here in Arizona but there is a clause that states \" rent increase stipulation. Tenant shall have the option to renew up to five one year term with an increase in the rent not to exceed 2.5 % year over year increase for each renewal. This option is at the tenants discretion and all other terms and conditions will apply. This provision shall survive all sales or transfers of right of property. We have an aweful tenant and when the initial te...</td>\n",
       "      <td>Where did you get that lease?</td>\n",
       "      <td>0.166667</td>\n",
       "    </tr>\n",
       "    <tr>\n",
       "      <th>3</th>\n",
       "      <td>Payoff $9k Student Loans?</td>\n",
       "      <td>Hi I have 2 signature student loans both at 8% with a combined balance of $9k, with a payoff in 3 years. I have $30k in savings, $380k Mortgage balance shared with wife, and make $130k. I’m thinking about taking the $9k from my savings to pay off the loans, saving $245 in monthly payments, which I would then setup a transfer from my checking to savings for that amount plus maybe some extra. Navient doesn’t make it easy to determine how much interest I would save if I do this, but my 1098-E s...</td>\n",
       "      <td>What if you have to cover both you and your wife?</td>\n",
       "      <td>0.333333</td>\n",
       "    </tr>\n",
       "    <tr>\n",
       "      <th>20</th>\n",
       "      <td>WIBTA for telling my husband to drop out of school?</td>\n",
       "      <td>This is a peculiar situation. My husband is in school and he's 32. He's been in college since he was 19 and currently has three degrees and working on a fourth. Linguistics, computer science, chemistry and working on accounting now.The details are misty but he says he gets paid to go to school. Every year he \"makes\" around $27,000 by going to school. This is a mix of grants and scholarships, as well as performance based. None of it are loans, none of it he needs to pay back. The big one he g...</td>\n",
       "      <td>Do they have the life they want?</td>\n",
       "      <td>0.333333</td>\n",
       "    </tr>\n",
       "  </tbody>\n",
       "</table>\n",
       "</div>"
      ],
      "text/plain": [
       "                                                              post_title  \\\n",
       "0   Don't know if I should move to somewhere I think I would be happier.   \n",
       "1            Start thinking of \"saving money\" as \"making money\" instead.   \n",
       "2                                                      Landlord question   \n",
       "3                                              Payoff $9k Student Loans?   \n",
       "20                   WIBTA for telling my husband to drop out of school?   \n",
       "\n",
       "                                                                                                                                                                                                                                                                                                                                                                                                                                                                                                              post_text  \\\n",
       "0   Hey all. Short story: I am 25 and I live in Northern Indiana. I teach high school science and I have been doing that for 3 years. I am married and have 2 dogs. We moved into a house that we both really enjoy and is nice, but I have recently been struggling with whether or not I will be happy here. I love nature and there are so many beautiful places in the U.S. We are unsure whether or not to make it work here or do a crazy move somewhere else we think would be really cool. It would require ...   \n",
       "1   I'm no expert, but this simple change in thought has saved me more money over the past year than ever before.I was constantly thinking of ways to make more money in life, and would do anything it took to create multiple incomes.I was saving, but not really actively focused on it.I would just save what I planned to, and spend my budget as freely as possible.I then had a thought that if I actively tried to save and make better decisions under my budget, it would be like making money.I guess wh...   \n",
       "2   [landlord -US - AZ]We have a normal fixed term lease here in Arizona but there is a clause that states \" rent increase stipulation. Tenant shall have the option to renew up to five one year term with an increase in the rent not to exceed 2.5 % year over year increase for each renewal. This option is at the tenants discretion and all other terms and conditions will apply. This provision shall survive all sales or transfers of right of property. We have an aweful tenant and when the initial te...   \n",
       "3   Hi I have 2 signature student loans both at 8% with a combined balance of $9k, with a payoff in 3 years. I have $30k in savings, $380k Mortgage balance shared with wife, and make $130k. I’m thinking about taking the $9k from my savings to pay off the loans, saving $245 in monthly payments, which I would then setup a transfer from my checking to savings for that amount plus maybe some extra. Navient doesn’t make it easy to determine how much interest I would save if I do this, but my 1098-E s...   \n",
       "20  This is a peculiar situation. My husband is in school and he's 32. He's been in college since he was 19 and currently has three degrees and working on a fourth. Linguistics, computer science, chemistry and working on accounting now.The details are misty but he says he gets paid to go to school. Every year he \"makes\" around $27,000 by going to school. This is a mix of grants and scholarships, as well as performance based. None of it are loans, none of it he needs to pay back. The big one he g...   \n",
       "\n",
       "                                                              question  \\\n",
       "0                                                 Why not make a list?   \n",
       "1   Instead of thinking: \"I've got X to spend, how do I best spend it?   \n",
       "2                                        Where did you get that lease?   \n",
       "3                    What if you have to cover both you and your wife?   \n",
       "20                                    Do they have the life they want?   \n",
       "\n",
       "    mean_question_is_relevant_agreement  \n",
       "0                              0.166667  \n",
       "1                              0.166667  \n",
       "2                              0.166667  \n",
       "3                              0.333333  \n",
       "20                             0.333333  "
      ]
     },
     "metadata": {},
     "output_type": "display_data"
    },
    {
     "name": "stdout",
     "output_type": "stream",
     "text": [
      "testing label = question_asks_for_more_info\n",
      "16/25 questions with full agreement:\n"
     ]
    },
    {
     "data": {
      "text/html": [
       "<div>\n",
       "<style scoped>\n",
       "    .dataframe tbody tr th:only-of-type {\n",
       "        vertical-align: middle;\n",
       "    }\n",
       "\n",
       "    .dataframe tbody tr th {\n",
       "        vertical-align: top;\n",
       "    }\n",
       "\n",
       "    .dataframe thead th {\n",
       "        text-align: right;\n",
       "    }\n",
       "</style>\n",
       "<table border=\"1\" class=\"dataframe\">\n",
       "  <thead>\n",
       "    <tr style=\"text-align: right;\">\n",
       "      <th></th>\n",
       "      <th>post_title</th>\n",
       "      <th>post_text</th>\n",
       "      <th>question</th>\n",
       "    </tr>\n",
       "  </thead>\n",
       "  <tbody>\n",
       "    <tr>\n",
       "      <th>20</th>\n",
       "      <td>WIBTA for telling my husband to drop out of school?</td>\n",
       "      <td>This is a peculiar situation. My husband is in school and he's 32. He's been in college since he was 19 and currently has three degrees and working on a fourth. Linguistics, computer science, chemistry and working on accounting now.The details are misty but he says he gets paid to go to school. Every year he \"makes\" around $27,000 by going to school. This is a mix of grants and scholarships, as well as performance based. None of it are loans, none of it he needs to pay back. The big one he g...</td>\n",
       "      <td>Do they have the life they want?</td>\n",
       "    </tr>\n",
       "    <tr>\n",
       "      <th>22</th>\n",
       "      <td>Closed on our old home, check in hand for new home. Put 100% check towards house or use to pay off debt?</td>\n",
       "      <td>So my wife and I sold our home and close in the next few days. Were supposed to receive a check from the buyers for about 210k after existing loans and fees are taken out. Our new home is about 360k. We initially planned to put all of the 210k towards the new home, build equity fast, and use a VA loan to finance the rest but we have debt that were considering putting the deposit money towards. As it sits, we have: 90k in student loans between the two of us (average interest rate is 6% give o...</td>\n",
       "      <td>Are you planning on selling the house?</td>\n",
       "    </tr>\n",
       "    <tr>\n",
       "      <th>21</th>\n",
       "      <td>AITA for leaving my brothers birthday dinner because I didnt want to pay for my own food?</td>\n",
       "      <td>Gonna try to keep it short without missing any detail. I have always been someone who doesnt like to borrow other peoples money. I make my own money and pay my own bills. Im 21 and I make just enough to cover my own expenses  with a little to save. My family isnt too big on birthdays so we normally go to dinner and thats pretty much it. Normally my parents pay for everyones (5 people) dinner since its usually for something special like a birthday. So like normal my mom lets everyone know whe...</td>\n",
       "      <td>You said you save a little...did you spare $20, $30 for a present?</td>\n",
       "    </tr>\n",
       "    <tr>\n",
       "      <th>15</th>\n",
       "      <td>AITA for calling my mom out for not being there for me as a kid</td>\n",
       "      <td>My parents both worked a shit ton when I was a kid. Like 60 hours a week, each. I spent all my time in after school programs because my mom didn’t have the time to pick me up, or be a room mom, or do any of that stuff. I told my mom recently that I tucking hate her for never being there for me. She said she was sorry but then she called me sexist because my dad also wasn’t there, but my dad was doing as he should to provide and my mother did not nurture me as she should. My dad was working s...</td>\n",
       "      <td>Did they take time off occasionally to take care of you (sick, school holidays, family decompression time)?</td>\n",
       "    </tr>\n",
       "    <tr>\n",
       "      <th>14</th>\n",
       "      <td>Have not been able to secure a college loan-which may cause me to drop out of school before it even starts.</td>\n",
       "      <td>Hi, this is my first post on Reddit ever so I apologize in advance if anything is formated wrong or I do something incorrectly. This has been an extremely emotionally taxing situation for me and I just feel I have no idea what to even do regarding this situation.I got accepted to my dream school with decent scholarships (about half of my tuition was paid for through scholarships and grants); I had known far in advance though that I would need to take out a decent-sized loan to make up for th...</td>\n",
       "      <td>Do you lose the scholarships and grants if you go down to part time?</td>\n",
       "    </tr>\n",
       "  </tbody>\n",
       "</table>\n",
       "</div>"
      ],
      "text/plain": [
       "                                                                                                     post_title  \\\n",
       "20                                                          WIBTA for telling my husband to drop out of school?   \n",
       "22     Closed on our old home, check in hand for new home. Put 100% check towards house or use to pay off debt?   \n",
       "21                    AITA for leaving my brothers birthday dinner because I didnt want to pay for my own food?   \n",
       "15                                              AITA for calling my mom out for not being there for me as a kid   \n",
       "14  Have not been able to secure a college loan-which may cause me to drop out of school before it even starts.   \n",
       "\n",
       "                                                                                                                                                                                                                                                                                                                                                                                                                                                                                                              post_text  \\\n",
       "20  This is a peculiar situation. My husband is in school and he's 32. He's been in college since he was 19 and currently has three degrees and working on a fourth. Linguistics, computer science, chemistry and working on accounting now.The details are misty but he says he gets paid to go to school. Every year he \"makes\" around $27,000 by going to school. This is a mix of grants and scholarships, as well as performance based. None of it are loans, none of it he needs to pay back. The big one he g...   \n",
       "22  So my wife and I sold our home and close in the next few days. Were supposed to receive a check from the buyers for about 210k after existing loans and fees are taken out. Our new home is about 360k. We initially planned to put all of the 210k towards the new home, build equity fast, and use a VA loan to finance the rest but we have debt that were considering putting the deposit money towards. As it sits, we have: 90k in student loans between the two of us (average interest rate is 6% give o...   \n",
       "21  Gonna try to keep it short without missing any detail. I have always been someone who doesnt like to borrow other peoples money. I make my own money and pay my own bills. Im 21 and I make just enough to cover my own expenses  with a little to save. My family isnt too big on birthdays so we normally go to dinner and thats pretty much it. Normally my parents pay for everyones (5 people) dinner since its usually for something special like a birthday. So like normal my mom lets everyone know whe...   \n",
       "15  My parents both worked a shit ton when I was a kid. Like 60 hours a week, each. I spent all my time in after school programs because my mom didn’t have the time to pick me up, or be a room mom, or do any of that stuff. I told my mom recently that I tucking hate her for never being there for me. She said she was sorry but then she called me sexist because my dad also wasn’t there, but my dad was doing as he should to provide and my mother did not nurture me as she should. My dad was working s...   \n",
       "14  Hi, this is my first post on Reddit ever so I apologize in advance if anything is formated wrong or I do something incorrectly. This has been an extremely emotionally taxing situation for me and I just feel I have no idea what to even do regarding this situation.I got accepted to my dream school with decent scholarships (about half of my tuition was paid for through scholarships and grants); I had known far in advance though that I would need to take out a decent-sized loan to make up for th...   \n",
       "\n",
       "                                                                                                       question  \n",
       "20                                                                             Do they have the life they want?  \n",
       "22                                                                       Are you planning on selling the house?  \n",
       "21                                           You said you save a little...did you spare $20, $30 for a present?  \n",
       "15  Did they take time off occasionally to take care of you (sick, school holidays, family decompression time)?  \n",
       "14                                         Do you lose the scholarships and grants if you go down to part time?  "
      ]
     },
     "metadata": {},
     "output_type": "display_data"
    },
    {
     "name": "stdout",
     "output_type": "stream",
     "text": [
      "questions with low agreement:\n"
     ]
    },
    {
     "data": {
      "text/html": [
       "<div>\n",
       "<style scoped>\n",
       "    .dataframe tbody tr th:only-of-type {\n",
       "        vertical-align: middle;\n",
       "    }\n",
       "\n",
       "    .dataframe tbody tr th {\n",
       "        vertical-align: top;\n",
       "    }\n",
       "\n",
       "    .dataframe thead th {\n",
       "        text-align: right;\n",
       "    }\n",
       "</style>\n",
       "<table border=\"1\" class=\"dataframe\">\n",
       "  <thead>\n",
       "    <tr style=\"text-align: right;\">\n",
       "      <th></th>\n",
       "      <th>post_title</th>\n",
       "      <th>post_text</th>\n",
       "      <th>question</th>\n",
       "      <th>mean_question_asks_for_more_info_agreement</th>\n",
       "    </tr>\n",
       "  </thead>\n",
       "  <tbody>\n",
       "    <tr>\n",
       "      <th>0</th>\n",
       "      <td>Don't know if I should move to somewhere I think I would be happier.</td>\n",
       "      <td>Hey all. Short story: I am 25 and I live in Northern Indiana. I teach high school science and I have been doing that for 3 years. I am married and have 2 dogs. We moved into a house that we both really enjoy and is nice, but I have recently been struggling with whether or not I will be happy here. I love nature and there are so many beautiful places in the U.S. We are unsure whether or not to make it work here or do a crazy move somewhere else we think would be really cool. It would require ...</td>\n",
       "      <td>Why not make a list?</td>\n",
       "      <td>0.5</td>\n",
       "    </tr>\n",
       "    <tr>\n",
       "      <th>4</th>\n",
       "      <td>Should I wait for Zen2 for building a cheap pc for programming needs?</td>\n",
       "      <td>Hello. I do not come from a coy try which has very good electronics pricing usually. I am planning to build a PC in June/July months and looking at 2200g and 8gb of ddr4 3000mhz. The question is. At that time, should I wait for ryzen 3000 series or just buy 2200g? Will the apus be out around that time? Maybe price of 2400g will fall? What are your estimates on thatPs. : GPU pricing is way out of question, only need APUs... E.g. A gtx 1050ti is $210. The prices for other components right now ...</td>\n",
       "      <td>If your needs aren't cutting edge, why buy cutting edge components?</td>\n",
       "      <td>0.5</td>\n",
       "    </tr>\n",
       "    <tr>\n",
       "      <th>5</th>\n",
       "      <td>Billed for a service required for a contract that my employer was supposed to pay. Service provider says I am responsible, can not get employer to respond.</td>\n",
       "      <td>This may be small potatoes but its haunting me and may effect my future in this industry if I don't get it sorted soon! I have never been shut out like this from a company I've done business for. I am being given the run around and can only think that the way to get heard is by making legal noise, but I have no idea how to go about doing that or if its really necessary.In 2017 I did hurricane Adjuster work in FL. I was contracted through an adjuster recruitment firm (*A1*), that contracted t...</td>\n",
       "      <td>NAL, Have you talked to A1?</td>\n",
       "      <td>0.5</td>\n",
       "    </tr>\n",
       "    <tr>\n",
       "      <th>6</th>\n",
       "      <td>AITA because my husband uses all his vacation time with his friends?</td>\n",
       "      <td>AITA? So my (40F) husband (43M) and I both get 3 weeks vacation each year. We always go away in the winter for 1 week with his best friends and their families. The 3 guys are best friends, and the other 2 women get along really well, I am sort of the 6th wheel on vacation. The 2nd week vacation we usually go away with the same families. The final week of vacation he goes away with the same guy from week 1 &amp;amp; 2, but this time it’s a boys golf trip, so pure pleasure vacation for him. This ...</td>\n",
       "      <td>So im assuming ur taking care of ur child while he is away on holidays?</td>\n",
       "      <td>0.5</td>\n",
       "    </tr>\n",
       "    <tr>\n",
       "      <th>8</th>\n",
       "      <td>How should I get the most out of being unemployed?</td>\n",
       "      <td>For the last 7 years I've been in school usually full-time and worked a lot. Right now I'm on a break from school and lost my job. This is the first time I've had so much free time and will be the last time until I retire. I'm not used to this and not sure what to do with myself. What should I do to make the most out of this?</td>\n",
       "      <td>What is it that makes me happy and fulfilled?</td>\n",
       "      <td>0.5</td>\n",
       "    </tr>\n",
       "  </tbody>\n",
       "</table>\n",
       "</div>"
      ],
      "text/plain": [
       "                                                                                                                                                    post_title  \\\n",
       "0                                                                                         Don't know if I should move to somewhere I think I would be happier.   \n",
       "4                                                                                        Should I wait for Zen2 for building a cheap pc for programming needs?   \n",
       "5  Billed for a service required for a contract that my employer was supposed to pay. Service provider says I am responsible, can not get employer to respond.   \n",
       "6                                                                                         AITA because my husband uses all his vacation time with his friends?   \n",
       "8                                                                                                           How should I get the most out of being unemployed?   \n",
       "\n",
       "                                                                                                                                                                                                                                                                                                                                                                                                                                                                                                             post_text  \\\n",
       "0  Hey all. Short story: I am 25 and I live in Northern Indiana. I teach high school science and I have been doing that for 3 years. I am married and have 2 dogs. We moved into a house that we both really enjoy and is nice, but I have recently been struggling with whether or not I will be happy here. I love nature and there are so many beautiful places in the U.S. We are unsure whether or not to make it work here or do a crazy move somewhere else we think would be really cool. It would require ...   \n",
       "4  Hello. I do not come from a coy try which has very good electronics pricing usually. I am planning to build a PC in June/July months and looking at 2200g and 8gb of ddr4 3000mhz. The question is. At that time, should I wait for ryzen 3000 series or just buy 2200g? Will the apus be out around that time? Maybe price of 2400g will fall? What are your estimates on thatPs. : GPU pricing is way out of question, only need APUs... E.g. A gtx 1050ti is $210. The prices for other components right now ...   \n",
       "5  This may be small potatoes but its haunting me and may effect my future in this industry if I don't get it sorted soon! I have never been shut out like this from a company I've done business for. I am being given the run around and can only think that the way to get heard is by making legal noise, but I have no idea how to go about doing that or if its really necessary.In 2017 I did hurricane Adjuster work in FL. I was contracted through an adjuster recruitment firm (*A1*), that contracted t...   \n",
       "6   AITA? So my (40F) husband (43M) and I both get 3 weeks vacation each year. We always go away in the winter for 1 week with his best friends and their families. The 3 guys are best friends, and the other 2 women get along really well, I am sort of the 6th wheel on vacation. The 2nd week vacation we usually go away with the same families. The final week of vacation he goes away with the same guy from week 1 &amp; 2, but this time it’s a boys golf trip, so pure pleasure vacation for him. This ...   \n",
       "8                                                                                                                                                                              For the last 7 years I've been in school usually full-time and worked a lot. Right now I'm on a break from school and lost my job. This is the first time I've had so much free time and will be the last time until I retire. I'm not used to this and not sure what to do with myself. What should I do to make the most out of this?   \n",
       "\n",
       "                                                                  question  \\\n",
       "0                                                     Why not make a list?   \n",
       "4      If your needs aren't cutting edge, why buy cutting edge components?   \n",
       "5                                              NAL, Have you talked to A1?   \n",
       "6  So im assuming ur taking care of ur child while he is away on holidays?   \n",
       "8                            What is it that makes me happy and fulfilled?   \n",
       "\n",
       "   mean_question_asks_for_more_info_agreement  \n",
       "0                                         0.5  \n",
       "4                                         0.5  \n",
       "5                                         0.5  \n",
       "6                                         0.5  \n",
       "8                                         0.5  "
      ]
     },
     "metadata": {},
     "output_type": "display_data"
    }
   ],
   "source": [
    "from itertools import product\n",
    "pd.set_option('display.max_colwidth', 500)\n",
    "label_names = ['question_is_relevant', 'question_asks_for_more_info']\n",
    "for label_name_i in label_names:\n",
    "    print(f'testing label = {label_name_i}')\n",
    "    label_cols = list(filter(lambda x: x.startswith(label_name_i), annotation_data.columns))\n",
    "    ## get agreement count\n",
    "    full_agreement_data_i = annotation_data[annotation_data.loc[:, label_cols].apply(lambda x: x.min()==x.max(), axis=1)]\n",
    "    mean_agreement_var_i = f'mean_{label_name_i}_agreement'\n",
    "    annotation_data = annotation_data.assign(**{\n",
    "        mean_agreement_var_i : annotation_data.loc[:, label_cols].apply(lambda x: np.mean([y==z for idx_y, y in enumerate(x.values) for z in x.values[(idx_y+1):]]), axis=1)\n",
    "    })\n",
    "    print(f'{full_agreement_data_i.shape[0]}/{annotation_data.shape[0]} questions with full agreement:')\n",
    "    display(full_agreement_data_i.loc[:, ['post_title', 'post_text', 'question']].head())\n",
    "    annotation_data.sort_values(mean_agreement_var_i, inplace=True, ascending=True)\n",
    "    print('questions with low agreement:')\n",
    "    display(annotation_data.loc[:, ['post_title', 'post_text', 'question', mean_agreement_var_i]].head())"
   ]
  },
  {
   "cell_type": "markdown",
   "metadata": {},
   "source": [
    "- `question_is_relevant`\n",
    "    - Questions with higher agreement are simple and ask for concrete details.\n",
    "    - Questions with lower agreement ask for more hypothetical details, possibly irrelevant to overall post.\n",
    "- `question_asks_for_more_info`\n",
    "    - Questions with higher agreement ask for details about the person's current situation and for information about the person's future decisions.\n",
    "    - Questions with lower agreement ask for hypothetical details."
   ]
  },
  {
   "cell_type": "markdown",
   "metadata": {},
   "source": [
    "What is the average agreement against the gold labels? (provided by me)"
   ]
  },
  {
   "cell_type": "code",
   "execution_count": 59,
   "metadata": {
    "scrolled": true
   },
   "outputs": [],
   "source": [
    "gold_annotation_data = pd.read_csv('../../data/reddit_data/annotation_samples/mini_annotation_sample/annotation_sample_gold.tsv', sep='\\t', index_col=False)\n",
    "label_names = ['question_is_relevant', 'question_asks_for_more_info']\n",
    "gold_annotation_data.rename(columns={\n",
    "    label_name : f'{label_name}_gold'\n",
    "    for label_name in label_names\n",
    "}, inplace=True)\n",
    "gold_label_cols = list(map(lambda x: f'{x}_gold', label_names))\n",
    "gold_annotation_data = pd.merge(annotation_data, gold_annotation_data.loc[:, ['parent_id',]+gold_label_cols], on='parent_id')"
   ]
  },
  {
   "cell_type": "code",
   "execution_count": 63,
   "metadata": {
    "scrolled": true
   },
   "outputs": [
    {
     "name": "stdout",
     "output_type": "stream",
     "text": [
      "question_is_relevant has mean agreement with gold labels: 0.127\n",
      "question_is_relevant has mean match score with gold labels: 0.531\n",
      "question_asks_for_more_info has mean agreement with gold labels: 0.184\n",
      "question_asks_for_more_info has mean match score with gold labels: 0.735\n"
     ]
    }
   ],
   "source": [
    "for label_name_i in label_names:\n",
    "    gold_label_col_i = f'{label_name_i}_gold'\n",
    "    label_col_matcher_i = re.compile(f'{label_name_i}_\\d')\n",
    "    annotator_label_cols_i = list(filter(lambda x: label_col_matcher_i.match(x) is not None, gold_annotation_data.columns))\n",
    "    # get pairwise agreement\n",
    "    pairwise_agreement_scores = []\n",
    "    pairwise_match_scores = []\n",
    "    for label_col_j in annotator_label_cols_i:\n",
    "        clean_gold_annotation_data_j = gold_annotation_data[gold_annotation_data.loc[:, label_col_j]!=-1]\n",
    "        agreement_score = cohen_kappa_score(clean_gold_annotation_data_j.loc[:, label_col_j].values,\n",
    "                                            clean_gold_annotation_data_j.loc[:, gold_label_col_i].values)\n",
    "        match_score = (clean_gold_annotation_data_j.loc[:, label_col_j] == clean_gold_annotation_data_j.loc[:, gold_label_col_i]).sum() / clean_gold_annotation_data_j.shape[0]\n",
    "        pairwise_agreement_scores.append(agreement_score)\n",
    "        pairwise_match_scores.append(match_score)\n",
    "    mean_agreement_score = np.mean(pairwise_agreement_scores)\n",
    "    mean_match_score = np.mean(pairwise_match_scores)\n",
    "#     print(f'{label_name_i} has overall agreement with gold labels: {pairwise_agreement_scores}')\n",
    "    print(f'{label_name_i} has mean agreement with gold labels: {\"{:1.3f}\".format(mean_agreement_score)}')\n",
    "    print(f'{label_name_i} has mean match score with gold labels: {\"{:1.3f}\".format(mean_match_score)}')"
   ]
  },
  {
   "cell_type": "markdown",
   "metadata": {},
   "source": [
    "OK! This agreement is pretty bad. I have to assume that this will get slightly better with a larger sample size but I can't be sure."
   ]
  },
  {
   "cell_type": "markdown",
   "metadata": {},
   "source": [
    "Let's get the majority labels and use these as a screening test for future annotators."
   ]
  },
  {
   "cell_type": "code",
   "execution_count": 79,
   "metadata": {
    "scrolled": true
   },
   "outputs": [],
   "source": [
    "def get_majority_label(labels):\n",
    "    N = len(labels)\n",
    "    label_counts = labels.value_counts()\n",
    "    label_pct = label_counts / N\n",
    "    majority_pct = 0.5\n",
    "    cutoff_label_pct = label_pct[label_pct > majority_pct]\n",
    "    if(len(cutoff_label_pct) > 0):\n",
    "        return cutoff_label_pct.index[0]\n",
    "    else:\n",
    "        return -1\n",
    "for label_name_i in label_names:\n",
    "    label_col_matcher_i = re.compile(f'{label_name_i}_\\d')\n",
    "    annotator_label_cols_i = list(filter(lambda x: label_col_matcher_i.match(x) is not None, annotation_data.columns))\n",
    "    # get majority labels\n",
    "    annotation_data = annotation_data.assign(**{\n",
    "        f'majority_label_{label_name_i}' : annotation_data.loc[:, annotator_label_cols_i].apply(lambda x: get_majority_label(x), axis=1)\n",
    "    })"
   ]
  },
  {
   "cell_type": "code",
   "execution_count": 82,
   "metadata": {
    "scrolled": true
   },
   "outputs": [
    {
     "name": "stdout",
     "output_type": "stream",
     "text": [
      " 1.0    15\n",
      "-1.0     7\n",
      " 2.0     3\n",
      "Name: majority_label_question_is_relevant, dtype: int64\n"
     ]
    }
   ],
   "source": [
    "print(annotation_data.loc[:, 'majority_label_question_is_relevant'].value_counts())"
   ]
  },
  {
   "cell_type": "code",
   "execution_count": 86,
   "metadata": {
    "scrolled": false
   },
   "outputs": [
    {
     "name": "stdout",
     "output_type": "stream",
     "text": [
      "18/25 data retained\n"
     ]
    }
   ],
   "source": [
    "majority_label_cols = list(map(lambda x: f'majority_label_{x}', label_names))\n",
    "post_data_cols = ['post_title', 'post_text', 'question', 'parent_id']\n",
    "majority_label_annotation_data = annotation_data.loc[:, post_data_cols + majority_label_cols]\n",
    "majority_label_annotation_data = majority_label_annotation_data[majority_label_annotation_data.loc[:, majority_label_cols].min(axis=1) != -1]\n",
    "print(f'{majority_label_annotation_data.shape[0]}/{annotation_data.shape[0]} data retained')\n",
    "## add blank cols\n",
    "for label_name_i in label_names:\n",
    "    majority_label_annotation_data = majority_label_annotation_data.assign(**{label_name_i : -1})\n",
    "## save to file\n",
    "majority_label_annotation_data.to_csv('../../data/reddit_data/annotation_samples/round_2_annotation_sample/annotation_data_sample_gold.tsv', sep='\\t', index=False)"
   ]
  },
  {
   "cell_type": "markdown",
   "metadata": {},
   "source": [
    "## Test data from annotators: round 2\n",
    "This time, we recruited 3 annotators, had them do training with the majority questions (identified above), and then had them annotate 333 questions each (2 labels per question, 500 questions total).\n",
    "\n",
    "Let's see how they did."
   ]
  },
  {
   "cell_type": "code",
   "execution_count": 1,
   "metadata": {},
   "outputs": [],
   "source": [
    "import re\n",
    "ENCODING_PAIRS = [\n",
    "    ('‚Äú', '“'),\n",
    "    ('‚Äù', '”'),\n",
    "    ('‚Äò', '‘'),\n",
    "    ('‚Äô', '’'),\n",
    "    ('‚Äî', '—'),\n",
    "]\n",
    "def replace_str(text, replacement_pairs):\n",
    "    for sub_i, replace_i in replacement_pairs:\n",
    "        text = re.sub(sub_i, replace_i, text)\n",
    "    return text\n",
    "def fix_encoding_errors(data, text_vars=[]):\n",
    "    data = data.assign(**{\n",
    "        text_var : data.loc[:, text_var].apply(lambda x: replace_str(x, ENCODING_PAIRS))\n",
    "        for text_var in text_vars\n",
    "    })\n",
    "    return data"
   ]
  },
  {
   "cell_type": "code",
   "execution_count": 15,
   "metadata": {},
   "outputs": [
    {
     "name": "stdout",
     "output_type": "stream",
     "text": [
      "(500, 2)\n"
     ]
    },
    {
     "data": {
      "text/html": [
       "<div>\n",
       "<style scoped>\n",
       "    .dataframe tbody tr th:only-of-type {\n",
       "        vertical-align: middle;\n",
       "    }\n",
       "\n",
       "    .dataframe tbody tr th {\n",
       "        vertical-align: top;\n",
       "    }\n",
       "\n",
       "    .dataframe thead th {\n",
       "        text-align: right;\n",
       "    }\n",
       "</style>\n",
       "<table border=\"1\" class=\"dataframe\">\n",
       "  <thead>\n",
       "    <tr style=\"text-align: right;\">\n",
       "      <th></th>\n",
       "      <th>parent_id</th>\n",
       "      <th>question</th>\n",
       "    </tr>\n",
       "  </thead>\n",
       "  <tbody>\n",
       "    <tr>\n",
       "      <th>0</th>\n",
       "      <td>dtx5b8</td>\n",
       "      <td>Where are you from?</td>\n",
       "    </tr>\n",
       "    <tr>\n",
       "      <th>1</th>\n",
       "      <td>c1q9qx</td>\n",
       "      <td>Have you sent resumes to local news stations?</td>\n",
       "    </tr>\n",
       "    <tr>\n",
       "      <th>2</th>\n",
       "      <td>czfqtd</td>\n",
       "      <td>Oh, a girl wants a 6’ ripped handsome smart guy?</td>\n",
       "    </tr>\n",
       "    <tr>\n",
       "      <th>3</th>\n",
       "      <td>bdsoqy</td>\n",
       "      <td>Is he being a creep about it?</td>\n",
       "    </tr>\n",
       "    <tr>\n",
       "      <th>4</th>\n",
       "      <td>bz17qx</td>\n",
       "      <td>I mean look at it this way - how does hiding t...</td>\n",
       "    </tr>\n",
       "  </tbody>\n",
       "</table>\n",
       "</div>"
      ],
      "text/plain": [
       "  parent_id                                           question\n",
       "0    dtx5b8                                Where are you from?\n",
       "1    c1q9qx      Have you sent resumes to local news stations?\n",
       "2    czfqtd   Oh, a girl wants a 6’ ripped handsome smart guy?\n",
       "3    bdsoqy                      Is he being a creep about it?\n",
       "4    bz17qx  I mean look at it this way - how does hiding t..."
      ]
     },
     "metadata": {},
     "output_type": "display_data"
    },
    {
     "data": {
      "text/plain": [
       "'What’s the rate on the loan?'"
      ]
     },
     "metadata": {},
     "output_type": "display_data"
    }
   ],
   "source": [
    "df1 = pd.read_csv('../../data/reddit_data/annotation_data/round_2_annotation_sample/test_data/advice_subreddit_no_filter_comment_question_data_annotation_sample_1.tsv',\n",
    "                 sep='\\t', index_col=0)\n",
    "df2 = pd.read_csv(unlabeled_data_file, sep='\\t', index_col=False)\n",
    "df1 = fix_encoding_errors(df1, text_vars=['question'])\n",
    "df3 = pd.merge(df2.loc[:, ['parent_id', 'question']], df1.loc[:, ['parent_id', 'question']], how='left')\n",
    "print(df3.shape)\n",
    "display(df3.head())\n",
    "display(df3[df3.loc[:, 'question'].apply(lambda x: 'rate on the loan' in x)].loc[:, 'question'].iloc[0])"
   ]
  },
  {
   "cell_type": "code",
   "execution_count": 19,
   "metadata": {
    "scrolled": true
   },
   "outputs": [
    {
     "data": {
      "text/html": [
       "<div>\n",
       "<style scoped>\n",
       "    .dataframe tbody tr th:only-of-type {\n",
       "        vertical-align: middle;\n",
       "    }\n",
       "\n",
       "    .dataframe tbody tr th {\n",
       "        vertical-align: top;\n",
       "    }\n",
       "\n",
       "    .dataframe thead th {\n",
       "        text-align: right;\n",
       "    }\n",
       "</style>\n",
       "<table border=\"1\" class=\"dataframe\">\n",
       "  <thead>\n",
       "    <tr style=\"text-align: right;\">\n",
       "      <th></th>\n",
       "      <th>post_title</th>\n",
       "      <th>post_text</th>\n",
       "      <th>question</th>\n",
       "      <th>parent_id</th>\n",
       "      <th>subreddit</th>\n",
       "      <th>question_is_relevant_2</th>\n",
       "      <th>question_asks_for_more_info_2</th>\n",
       "      <th>question_is_relevant_0</th>\n",
       "      <th>question_asks_for_more_info_0</th>\n",
       "      <th>question_is_relevant_1</th>\n",
       "      <th>question_asks_for_more_info_1</th>\n",
       "    </tr>\n",
       "  </thead>\n",
       "  <tbody>\n",
       "    <tr>\n",
       "      <th>0</th>\n",
       "      <td>Introvert (17M) wants to make foreign friends</td>\n",
       "      <td>Hi, I’m a 17 year old who’s quite introverted ...</td>\n",
       "      <td>Where are you from?</td>\n",
       "      <td>dtx5b8</td>\n",
       "      <td>Advice</td>\n",
       "      <td>NaN</td>\n",
       "      <td>NaN</td>\n",
       "      <td>1.0</td>\n",
       "      <td>1.0</td>\n",
       "      <td>0.0</td>\n",
       "      <td>1.0</td>\n",
       "    </tr>\n",
       "    <tr>\n",
       "      <th>1</th>\n",
       "      <td>My job</td>\n",
       "      <td>So I got a job at a superstore chain about a w...</td>\n",
       "      <td>Have you sent resumes to local news stations?</td>\n",
       "      <td>c1q9qx</td>\n",
       "      <td>Advice</td>\n",
       "      <td>NaN</td>\n",
       "      <td>NaN</td>\n",
       "      <td>1.0</td>\n",
       "      <td>1.0</td>\n",
       "      <td>0.0</td>\n",
       "      <td>1.0</td>\n",
       "    </tr>\n",
       "    <tr>\n",
       "      <th>2</th>\n",
       "      <td>Is being picky really that bad</td>\n",
       "      <td>People always get mad at me and call me picky ...</td>\n",
       "      <td>Oh, a girl wants a 6’ ripped handsome smart guy?</td>\n",
       "      <td>czfqtd</td>\n",
       "      <td>Advice</td>\n",
       "      <td>NaN</td>\n",
       "      <td>NaN</td>\n",
       "      <td>0.0</td>\n",
       "      <td>0.0</td>\n",
       "      <td>1.0</td>\n",
       "      <td>0.0</td>\n",
       "    </tr>\n",
       "    <tr>\n",
       "      <th>3</th>\n",
       "      <td>A lecturer attracted to his student</td>\n",
       "      <td>Recently, my friend told me that a lecturer co...</td>\n",
       "      <td>Is he being a creep about it?</td>\n",
       "      <td>bdsoqy</td>\n",
       "      <td>Advice</td>\n",
       "      <td>NaN</td>\n",
       "      <td>NaN</td>\n",
       "      <td>1.0</td>\n",
       "      <td>1.0</td>\n",
       "      <td>1.0</td>\n",
       "      <td>1.0</td>\n",
       "    </tr>\n",
       "    <tr>\n",
       "      <th>4</th>\n",
       "      <td>Affair within an Affair</td>\n",
       "      <td>I have been dating a married man for several y...</td>\n",
       "      <td>I mean look at it this way - how does hiding t...</td>\n",
       "      <td>bz17qx</td>\n",
       "      <td>Advice</td>\n",
       "      <td>NaN</td>\n",
       "      <td>NaN</td>\n",
       "      <td>1.0</td>\n",
       "      <td>0.0</td>\n",
       "      <td>1.0</td>\n",
       "      <td>0.0</td>\n",
       "    </tr>\n",
       "  </tbody>\n",
       "</table>\n",
       "</div>"
      ],
      "text/plain": [
       "                                      post_title  \\\n",
       "0  Introvert (17M) wants to make foreign friends   \n",
       "1                                         My job   \n",
       "2                 Is being picky really that bad   \n",
       "3            A lecturer attracted to his student   \n",
       "4                        Affair within an Affair   \n",
       "\n",
       "                                           post_text  \\\n",
       "0  Hi, I’m a 17 year old who’s quite introverted ...   \n",
       "1  So I got a job at a superstore chain about a w...   \n",
       "2  People always get mad at me and call me picky ...   \n",
       "3  Recently, my friend told me that a lecturer co...   \n",
       "4  I have been dating a married man for several y...   \n",
       "\n",
       "                                            question parent_id subreddit  \\\n",
       "0                                Where are you from?    dtx5b8    Advice   \n",
       "1      Have you sent resumes to local news stations?    c1q9qx    Advice   \n",
       "2   Oh, a girl wants a 6’ ripped handsome smart guy?    czfqtd    Advice   \n",
       "3                      Is he being a creep about it?    bdsoqy    Advice   \n",
       "4  I mean look at it this way - how does hiding t...    bz17qx    Advice   \n",
       "\n",
       "   question_is_relevant_2  question_asks_for_more_info_2  \\\n",
       "0                     NaN                            NaN   \n",
       "1                     NaN                            NaN   \n",
       "2                     NaN                            NaN   \n",
       "3                     NaN                            NaN   \n",
       "4                     NaN                            NaN   \n",
       "\n",
       "   question_is_relevant_0  question_asks_for_more_info_0  \\\n",
       "0                     1.0                            1.0   \n",
       "1                     1.0                            1.0   \n",
       "2                     0.0                            0.0   \n",
       "3                     1.0                            1.0   \n",
       "4                     1.0                            0.0   \n",
       "\n",
       "   question_is_relevant_1  question_asks_for_more_info_1  \n",
       "0                     0.0                            1.0  \n",
       "1                     0.0                            1.0  \n",
       "2                     1.0                            0.0  \n",
       "3                     1.0                            1.0  \n",
       "4                     1.0                            0.0  "
      ]
     },
     "metadata": {},
     "output_type": "display_data"
    },
    {
     "data": {
      "text/html": [
       "<div>\n",
       "<style scoped>\n",
       "    .dataframe tbody tr th:only-of-type {\n",
       "        vertical-align: middle;\n",
       "    }\n",
       "\n",
       "    .dataframe tbody tr th {\n",
       "        vertical-align: top;\n",
       "    }\n",
       "\n",
       "    .dataframe thead th {\n",
       "        text-align: right;\n",
       "    }\n",
       "</style>\n",
       "<table border=\"1\" class=\"dataframe\">\n",
       "  <thead>\n",
       "    <tr style=\"text-align: right;\">\n",
       "      <th></th>\n",
       "      <th>post_title</th>\n",
       "      <th>post_text</th>\n",
       "      <th>question</th>\n",
       "      <th>parent_id</th>\n",
       "      <th>subreddit</th>\n",
       "      <th>question_is_relevant_2</th>\n",
       "      <th>question_asks_for_more_info_2</th>\n",
       "      <th>question_is_relevant_0</th>\n",
       "      <th>question_asks_for_more_info_0</th>\n",
       "      <th>question_is_relevant_1</th>\n",
       "      <th>question_asks_for_more_info_1</th>\n",
       "      <th>question_is_relevant</th>\n",
       "    </tr>\n",
       "  </thead>\n",
       "  <tbody>\n",
       "  </tbody>\n",
       "</table>\n",
       "</div>"
      ],
      "text/plain": [
       "Empty DataFrame\n",
       "Columns: [post_title, post_text, question, parent_id, subreddit, question_is_relevant_2, question_asks_for_more_info_2, question_is_relevant_0, question_asks_for_more_info_0, question_is_relevant_1, question_asks_for_more_info_1, question_is_relevant]\n",
       "Index: []"
      ]
     },
     "metadata": {},
     "output_type": "display_data"
    },
    {
     "data": {
      "text/html": [
       "<div>\n",
       "<style scoped>\n",
       "    .dataframe tbody tr th:only-of-type {\n",
       "        vertical-align: middle;\n",
       "    }\n",
       "\n",
       "    .dataframe tbody tr th {\n",
       "        vertical-align: top;\n",
       "    }\n",
       "\n",
       "    .dataframe thead th {\n",
       "        text-align: right;\n",
       "    }\n",
       "</style>\n",
       "<table border=\"1\" class=\"dataframe\">\n",
       "  <thead>\n",
       "    <tr style=\"text-align: right;\">\n",
       "      <th></th>\n",
       "      <th>post_title</th>\n",
       "      <th>post_text</th>\n",
       "      <th>question</th>\n",
       "      <th>parent_id</th>\n",
       "      <th>subreddit</th>\n",
       "      <th>question_is_relevant_2</th>\n",
       "      <th>question_asks_for_more_info_2</th>\n",
       "      <th>question_is_relevant_0</th>\n",
       "      <th>question_asks_for_more_info_0</th>\n",
       "      <th>question_is_relevant_1</th>\n",
       "      <th>question_asks_for_more_info_1</th>\n",
       "      <th>question_is_relevant</th>\n",
       "      <th>question_is_relevant_num_0</th>\n",
       "      <th>question_is_relevant_num_1</th>\n",
       "      <th>question_asks_for_more_info</th>\n",
       "    </tr>\n",
       "  </thead>\n",
       "  <tbody>\n",
       "  </tbody>\n",
       "</table>\n",
       "</div>"
      ],
      "text/plain": [
       "Empty DataFrame\n",
       "Columns: [post_title, post_text, question, parent_id, subreddit, question_is_relevant_2, question_asks_for_more_info_2, question_is_relevant_0, question_asks_for_more_info_0, question_is_relevant_1, question_asks_for_more_info_1, question_is_relevant, question_is_relevant_num_0, question_is_relevant_num_1, question_asks_for_more_info]\n",
       "Index: []"
      ]
     },
     "metadata": {},
     "output_type": "display_data"
    },
    {
     "data": {
      "text/html": [
       "<div>\n",
       "<style scoped>\n",
       "    .dataframe tbody tr th:only-of-type {\n",
       "        vertical-align: middle;\n",
       "    }\n",
       "\n",
       "    .dataframe tbody tr th {\n",
       "        vertical-align: top;\n",
       "    }\n",
       "\n",
       "    .dataframe thead th {\n",
       "        text-align: right;\n",
       "    }\n",
       "</style>\n",
       "<table border=\"1\" class=\"dataframe\">\n",
       "  <thead>\n",
       "    <tr style=\"text-align: right;\">\n",
       "      <th></th>\n",
       "      <th>post_title</th>\n",
       "      <th>post_text</th>\n",
       "      <th>question</th>\n",
       "      <th>parent_id</th>\n",
       "      <th>subreddit</th>\n",
       "      <th>question_is_relevant_2</th>\n",
       "      <th>question_asks_for_more_info_2</th>\n",
       "      <th>question_is_relevant_0</th>\n",
       "      <th>question_asks_for_more_info_0</th>\n",
       "      <th>question_is_relevant_1</th>\n",
       "      <th>question_asks_for_more_info_1</th>\n",
       "      <th>question_is_relevant</th>\n",
       "      <th>question_is_relevant_num_0</th>\n",
       "      <th>question_is_relevant_num_1</th>\n",
       "      <th>question_asks_for_more_info</th>\n",
       "      <th>question_asks_for_more_info_num_0</th>\n",
       "      <th>question_asks_for_more_info_num_1</th>\n",
       "    </tr>\n",
       "  </thead>\n",
       "  <tbody>\n",
       "    <tr>\n",
       "      <th>0</th>\n",
       "      <td>Introvert (17M) wants to make foreign friends</td>\n",
       "      <td>Hi, I’m a 17 year old who’s quite introverted ...</td>\n",
       "      <td>Where are you from?</td>\n",
       "      <td>dtx5b8</td>\n",
       "      <td>Advice</td>\n",
       "      <td>NaN</td>\n",
       "      <td>NaN</td>\n",
       "      <td>1.0</td>\n",
       "      <td>1.0</td>\n",
       "      <td>0.0</td>\n",
       "      <td>1.0</td>\n",
       "      <td>[1.0, 0.0]</td>\n",
       "      <td>1.0</td>\n",
       "      <td>0.0</td>\n",
       "      <td>[1.0, 1.0]</td>\n",
       "      <td>1.0</td>\n",
       "      <td>1.0</td>\n",
       "    </tr>\n",
       "    <tr>\n",
       "      <th>1</th>\n",
       "      <td>My job</td>\n",
       "      <td>So I got a job at a superstore chain about a w...</td>\n",
       "      <td>Have you sent resumes to local news stations?</td>\n",
       "      <td>c1q9qx</td>\n",
       "      <td>Advice</td>\n",
       "      <td>NaN</td>\n",
       "      <td>NaN</td>\n",
       "      <td>1.0</td>\n",
       "      <td>1.0</td>\n",
       "      <td>0.0</td>\n",
       "      <td>1.0</td>\n",
       "      <td>[1.0, 0.0]</td>\n",
       "      <td>1.0</td>\n",
       "      <td>0.0</td>\n",
       "      <td>[1.0, 1.0]</td>\n",
       "      <td>1.0</td>\n",
       "      <td>1.0</td>\n",
       "    </tr>\n",
       "    <tr>\n",
       "      <th>2</th>\n",
       "      <td>Is being picky really that bad</td>\n",
       "      <td>People always get mad at me and call me picky ...</td>\n",
       "      <td>Oh, a girl wants a 6’ ripped handsome smart guy?</td>\n",
       "      <td>czfqtd</td>\n",
       "      <td>Advice</td>\n",
       "      <td>NaN</td>\n",
       "      <td>NaN</td>\n",
       "      <td>0.0</td>\n",
       "      <td>0.0</td>\n",
       "      <td>1.0</td>\n",
       "      <td>0.0</td>\n",
       "      <td>[0.0, 1.0]</td>\n",
       "      <td>0.0</td>\n",
       "      <td>1.0</td>\n",
       "      <td>[0.0, 0.0]</td>\n",
       "      <td>0.0</td>\n",
       "      <td>0.0</td>\n",
       "    </tr>\n",
       "    <tr>\n",
       "      <th>3</th>\n",
       "      <td>A lecturer attracted to his student</td>\n",
       "      <td>Recently, my friend told me that a lecturer co...</td>\n",
       "      <td>Is he being a creep about it?</td>\n",
       "      <td>bdsoqy</td>\n",
       "      <td>Advice</td>\n",
       "      <td>NaN</td>\n",
       "      <td>NaN</td>\n",
       "      <td>1.0</td>\n",
       "      <td>1.0</td>\n",
       "      <td>1.0</td>\n",
       "      <td>1.0</td>\n",
       "      <td>[1.0, 1.0]</td>\n",
       "      <td>1.0</td>\n",
       "      <td>1.0</td>\n",
       "      <td>[1.0, 1.0]</td>\n",
       "      <td>1.0</td>\n",
       "      <td>1.0</td>\n",
       "    </tr>\n",
       "    <tr>\n",
       "      <th>4</th>\n",
       "      <td>Affair within an Affair</td>\n",
       "      <td>I have been dating a married man for several y...</td>\n",
       "      <td>I mean look at it this way - how does hiding t...</td>\n",
       "      <td>bz17qx</td>\n",
       "      <td>Advice</td>\n",
       "      <td>NaN</td>\n",
       "      <td>NaN</td>\n",
       "      <td>1.0</td>\n",
       "      <td>0.0</td>\n",
       "      <td>1.0</td>\n",
       "      <td>0.0</td>\n",
       "      <td>[1.0, 1.0]</td>\n",
       "      <td>1.0</td>\n",
       "      <td>1.0</td>\n",
       "      <td>[0.0, 0.0]</td>\n",
       "      <td>0.0</td>\n",
       "      <td>0.0</td>\n",
       "    </tr>\n",
       "  </tbody>\n",
       "</table>\n",
       "</div>"
      ],
      "text/plain": [
       "                                      post_title  \\\n",
       "0  Introvert (17M) wants to make foreign friends   \n",
       "1                                         My job   \n",
       "2                 Is being picky really that bad   \n",
       "3            A lecturer attracted to his student   \n",
       "4                        Affair within an Affair   \n",
       "\n",
       "                                           post_text  \\\n",
       "0  Hi, I’m a 17 year old who’s quite introverted ...   \n",
       "1  So I got a job at a superstore chain about a w...   \n",
       "2  People always get mad at me and call me picky ...   \n",
       "3  Recently, my friend told me that a lecturer co...   \n",
       "4  I have been dating a married man for several y...   \n",
       "\n",
       "                                            question parent_id subreddit  \\\n",
       "0                                Where are you from?    dtx5b8    Advice   \n",
       "1      Have you sent resumes to local news stations?    c1q9qx    Advice   \n",
       "2   Oh, a girl wants a 6’ ripped handsome smart guy?    czfqtd    Advice   \n",
       "3                      Is he being a creep about it?    bdsoqy    Advice   \n",
       "4  I mean look at it this way - how does hiding t...    bz17qx    Advice   \n",
       "\n",
       "   question_is_relevant_2  question_asks_for_more_info_2  \\\n",
       "0                     NaN                            NaN   \n",
       "1                     NaN                            NaN   \n",
       "2                     NaN                            NaN   \n",
       "3                     NaN                            NaN   \n",
       "4                     NaN                            NaN   \n",
       "\n",
       "   question_is_relevant_0  question_asks_for_more_info_0  \\\n",
       "0                     1.0                            1.0   \n",
       "1                     1.0                            1.0   \n",
       "2                     0.0                            0.0   \n",
       "3                     1.0                            1.0   \n",
       "4                     1.0                            0.0   \n",
       "\n",
       "   question_is_relevant_1  question_asks_for_more_info_1 question_is_relevant  \\\n",
       "0                     0.0                            1.0           [1.0, 0.0]   \n",
       "1                     0.0                            1.0           [1.0, 0.0]   \n",
       "2                     1.0                            0.0           [0.0, 1.0]   \n",
       "3                     1.0                            1.0           [1.0, 1.0]   \n",
       "4                     1.0                            0.0           [1.0, 1.0]   \n",
       "\n",
       "   question_is_relevant_num_0  question_is_relevant_num_1  \\\n",
       "0                         1.0                         0.0   \n",
       "1                         1.0                         0.0   \n",
       "2                         0.0                         1.0   \n",
       "3                         1.0                         1.0   \n",
       "4                         1.0                         1.0   \n",
       "\n",
       "  question_asks_for_more_info  question_asks_for_more_info_num_0  \\\n",
       "0                  [1.0, 1.0]                                1.0   \n",
       "1                  [1.0, 1.0]                                1.0   \n",
       "2                  [0.0, 0.0]                                0.0   \n",
       "3                  [1.0, 1.0]                                1.0   \n",
       "4                  [0.0, 0.0]                                0.0   \n",
       "\n",
       "   question_asks_for_more_info_num_1  \n",
       "0                                1.0  \n",
       "1                                1.0  \n",
       "2                                0.0  \n",
       "3                                1.0  \n",
       "4                                0.0  "
      ]
     },
     "metadata": {},
     "output_type": "display_data"
    }
   ],
   "source": [
    "import pandas as pd\n",
    "import numpy as np\n",
    "import re\n",
    "import os\n",
    "data_dir = '../../data/reddit_data/annotation_data/round_2_annotation_sample/test_data/'\n",
    "unlabeled_data_file = os.path.join(data_dir, 'advice_subreddit_no_filter_comment_question_data_annotation_sample.tsv')\n",
    "annotation_data = pd.read_csv(unlabeled_data_file, sep='\\t', index_col=False)\n",
    "label_cols = ['question_is_relevant', 'question_asks_for_more_info']\n",
    "annotation_data.drop(label_cols, axis=1, inplace=True)\n",
    "annotator_file_matcher = re.compile('(?<=_sample_)(\\d+)(?=\\.tsv)')\n",
    "annotator_files = list(filter(lambda x: annotator_file_matcher.search(x) is not None, os.listdir(data_dir)))\n",
    "annotator_files = list(map(lambda x: os.path.join(data_dir, x), annotator_files))\n",
    "num_annotators = len(annotator_files)\n",
    "text_vars = ['question']\n",
    "for annotator_file_i in annotator_files:\n",
    "    annotator_data_i = pd.read_csv(annotator_file_i, sep='\\t', index_col=0)\n",
    "    annotator_data_i = fix_encoding_errors(annotator_data_i, text_vars=text_vars)\n",
    "    label_i = annotator_file_matcher.search(annotator_file_i).group(0)\n",
    "    ## join data\n",
    "    annotation_data = pd.merge(annotation_data, annotator_data_i.loc[:, ['parent_id']+label_cols], on=['parent_id'], how='left')\n",
    "    # tmp debugging: missing questions\n",
    "#     missing_question_data_i = set(annotator_data_i.loc[:, 'question'].unique()) - set(annotation_data.loc[:, 'question'].values)\n",
    "#     if(len(missing_question_data_i) > 0):\n",
    "#         print(f'missing {len(missing_question_data_i)} questions for annotator {label_i}:\\n{list(missing_question_data_i)}')\n",
    "    annotation_data.rename(columns={\n",
    "        label_col : f'{label_col}_{label_i}'\n",
    "        for label_col in label_cols\n",
    "    }, inplace=True)\n",
    "display(annotation_data.head())\n",
    "# debugging: which questions have 0 annotators??\n",
    "# for label_col in label_cols:\n",
    "#     all_null_data = annotation_data[annotation_data.loc[:, [f'{label_col}_{i}' for i in range(num_annotators)]].isna().apply(lambda x: all(x), axis=1)]\n",
    "#     display(all_null_data.loc[:, 'question'].values)\n",
    "# move labels to A, B columns\n",
    "def assign_next_annotation(annotation_list):\n",
    "    if(len(annotation_list) > 1):\n",
    "        return annotation_list[1]\n",
    "    else:\n",
    "        return np.nan\n",
    "annotator_nums = list(range(num_annotators))\n",
    "for label_col_i in label_cols:\n",
    "    annotator_label_cols_i = list(map(lambda x: f'{label_col_i}_{x}', annotator_nums))\n",
    "    annotation_data = annotation_data.assign(**{\n",
    "        label_col_i : annotation_data.loc[:, annotator_label_cols_i].apply(lambda x: list(filter(lambda y: not np.isnan(y), x.tolist())), axis=1)\n",
    "    })\n",
    "    # which questions have 0 annotators?\n",
    "    display(annotation_data[annotation_data.loc[:, label_col_i].apply(lambda x: len(x) == 0)])\n",
    "    annotation_data = annotation_data.assign(**{\n",
    "        f'{label_col_i}_num_0' : annotation_data.loc[:, label_col_i].apply(lambda x: x[0]),\n",
    "        f'{label_col_i}_num_1' : annotation_data.loc[:, label_col_i].apply(lambda x: assign_next_annotation(x)),\n",
    "    })\n",
    "display(annotation_data.head())"
   ]
  },
  {
   "cell_type": "markdown",
   "metadata": {},
   "source": [
    "One of the annotators didn't finish the task, so let's remove all rows that they didn't finish."
   ]
  },
  {
   "cell_type": "code",
   "execution_count": 20,
   "metadata": {},
   "outputs": [
    {
     "name": "stdout",
     "output_type": "stream",
     "text": [
      "406/500 after removing invalid annotations\n"
     ]
    }
   ],
   "source": [
    "num_annotators_per_question = 2\n",
    "annotation_cols = [f'{label_col}_num_{i}' for label_col in label_cols for i in range(num_annotators_per_question)]\n",
    "cutoff_annotation_data = annotation_data.dropna(subset=annotation_cols, axis=0, how='any')\n",
    "print(f'{cutoff_annotation_data.shape[0]}/{annotation_data.shape[0]} after removing invalid annotations')"
   ]
  },
  {
   "cell_type": "markdown",
   "metadata": {},
   "source": [
    "What is the overall agreement?"
   ]
  },
  {
   "cell_type": "code",
   "execution_count": 25,
   "metadata": {},
   "outputs": [
    {
     "name": "stdout",
     "output_type": "stream",
     "text": [
      "label question_is_relevant has kappa=0.186; alpha=0.205\n",
      "label question_asks_for_more_info has kappa=0.571; alpha=0.558\n"
     ]
    }
   ],
   "source": [
    "from statsmodels.stats.inter_rater import fleiss_kappa, aggregate_raters\n",
    "import krippendorff\n",
    "for label_col_i in label_cols:\n",
    "    label_col_matcher = re.compile(f'{label_col_i}_num_\\d')\n",
    "    annotator_cols_i = list(filter(lambda x: label_col_matcher.match(x) is not None, annotation_data.columns))\n",
    "    label_data_i = cutoff_annotation_data.loc[:, annotator_cols_i].values\n",
    "    category_table_i, n_cat_i = aggregate_raters(label_data_i)\n",
    "    kappa_i = fleiss_kappa(category_table_i)\n",
    "    alpha_i = krippendorff.alpha(label_data_i.transpose())\n",
    "    print(f'label {label_col_i} has kappa={\"{:.3f}\".format(kappa_i)}; alpha={\"{:.3f}\".format(alpha_i)}')"
   ]
  },
  {
   "cell_type": "markdown",
   "metadata": {},
   "source": [
    "Not great! What if we remove unsure answers?"
   ]
  },
  {
   "cell_type": "code",
   "execution_count": 27,
   "metadata": {},
   "outputs": [
    {
     "name": "stdout",
     "output_type": "stream",
     "text": [
      "392/406 clean values\n",
      "label question_is_relevant has kappa=0.189; alpha=0.190\n",
      "402/406 clean values\n",
      "label question_asks_for_more_info has kappa=0.584; alpha=0.584\n"
     ]
    }
   ],
   "source": [
    "for label_col_i in label_cols:\n",
    "    label_col_matcher = re.compile(f'{label_col_i}_num_\\d')\n",
    "    annotator_cols_i = list(filter(lambda x: label_col_matcher.match(x) is not None, annotation_data.columns))\n",
    "    label_data_i = cutoff_annotation_data.loc[:, annotator_cols_i]\n",
    "    clean_label_data_i = label_data_i[label_data_i.loc[:, annotator_cols_i].min(axis=1) != -1]\n",
    "    print(f'{clean_label_data_i.shape[0]}/{label_data_i.shape[0]} clean values')\n",
    "    category_table_i, n_cat_i = aggregate_raters(clean_label_data_i.values)\n",
    "    kappa_i = fleiss_kappa(category_table_i)\n",
    "    alpha_i = krippendorff.alpha(clean_label_data_i.transpose())\n",
    "    print(f'label {label_col_i} has kappa={\"{:.3f}\".format(kappa_i)}; alpha={\"{:.3f}\".format(alpha_i)}')"
   ]
  },
  {
   "cell_type": "markdown",
   "metadata": {},
   "source": [
    "This is OK but `question_is_relevant` is still struggling.\n",
    "\n",
    "What does agreement look like between individual annotators?"
   ]
  },
  {
   "cell_type": "code",
   "execution_count": 28,
   "metadata": {},
   "outputs": [],
   "source": [
    "from statsmodels.stats.inter_rater import cohens_kappa, to_table\n",
    "def compute_pairwise_annotator_agreement(label_data):\n",
    "    label_table, label_bins = to_table(label_data)\n",
    "    agreement_results = cohens_kappa(label_table)\n",
    "    return agreement_results['kappa']"
   ]
  },
  {
   "cell_type": "code",
   "execution_count": 29,
   "metadata": {},
   "outputs": [
    {
     "name": "stdout",
     "output_type": "stream",
     "text": [
      "**** label=question_is_relevant ****\n",
      "annotator 0 vs. annotator 1: agreement=0.328; kappa=0.134\n",
      "annotator 0 vs. annotator 2: agreement=0.241; kappa=0.289\n",
      "annotator 1 vs. annotator 2: agreement=0.182; kappa=0.217\n",
      "**** label=question_asks_for_more_info ****\n",
      "annotator 0 vs. annotator 1: agreement=0.350; kappa=0.644\n",
      "annotator 0 vs. annotator 2: agreement=0.264; kappa=0.585\n",
      "annotator 1 vs. annotator 2: agreement=0.190; kappa=0.449\n"
     ]
    }
   ],
   "source": [
    "num_annotators = len(annotator_files)\n",
    "for label_col_i in label_cols:\n",
    "    print(f'**** label={label_col_i} ****')\n",
    "    for j in range(num_annotators):\n",
    "        label_col_j = f'{label_col_i}_{j}'\n",
    "        for k in range(j+1, num_annotators):\n",
    "            label_col_k = f'{label_col_i}_{k}'\n",
    "            # remove nan labels\n",
    "            clean_label_data_j_k = cutoff_annotation_data.dropna(subset=[label_col_j, label_col_k], axis=0, how='any')\n",
    "            agreement_j_k = compute_pairwise_annotator_agreement(clean_label_data_j_k.loc[:, [label_col_j, label_col_k]])\n",
    "            raw_agreement_j_k = (cutoff_annotation_data.loc[:, label_col_j] == cutoff_annotation_data.loc[:, label_col_k]).sum() / cutoff_annotation_data.shape[0]\n",
    "            print(f'annotator {j} vs. annotator {k}: agreement={\"{:.3f}\".format(raw_agreement_j_k)}; kappa={\"{:.3f}\".format(agreement_j_k)}')"
   ]
  },
  {
   "cell_type": "code",
   "execution_count": 30,
   "metadata": {
    "scrolled": true
   },
   "outputs": [
    {
     "name": "stdout",
     "output_type": "stream",
     "text": [
      "**** label=question_is_relevant ****\n",
      "annotator 0 vs. annotator 1: agreement=0.821; kappa=0.157\n",
      "annotator 0 vs. annotator 2: agreement=0.782; kappa=0.293\n",
      "annotator 1 vs. annotator 2: agreement=0.698; kappa=0.217\n",
      "**** label=question_asks_for_more_info ****\n",
      "annotator 0 vs. annotator 1: agreement=0.866; kappa=0.672\n",
      "annotator 0 vs. annotator 2: agreement=0.811; kappa=0.592\n",
      "annotator 1 vs. annotator 2: agreement=0.726; kappa=0.449\n"
     ]
    }
   ],
   "source": [
    "## same thing, without unsure labels\n",
    "for label_col_i in label_cols:\n",
    "    print(f'**** label={label_col_i} ****')\n",
    "    for j in range(num_annotators):\n",
    "        label_col_j = f'{label_col_i}_{j}'\n",
    "        for k in range(j+1, num_annotators):\n",
    "            label_col_k = f'{label_col_i}_{k}'\n",
    "            # remove nan labels\n",
    "            clean_label_data_j_k = cutoff_annotation_data.dropna(subset=[label_col_j, label_col_k], axis=0, how='any')\n",
    "            # remove unsure labels\n",
    "            valid_data_j_k = clean_label_data_j_k[clean_label_data_j_k.loc[:, [label_col_j, label_col_k]].min(axis=1)!=-1]\n",
    "#             valid_data_j_k = valid_data_j_k.replace(-1, 1.)\n",
    "            agreement_j_k = compute_pairwise_annotator_agreement(valid_data_j_k.loc[:, [label_col_j, label_col_k]])\n",
    "            raw_agreement_j_k = (valid_data_j_k.loc[:, label_col_j] == valid_data_j_k.loc[:, label_col_k]).sum() / valid_data_j_k.shape[0]\n",
    "            print(f'annotator {j} vs. annotator {k}: agreement={\"{:.3f}\".format(raw_agreement_j_k)}; kappa={\"{:.3f}\".format(agreement_j_k)}')"
   ]
  },
  {
   "cell_type": "markdown",
   "metadata": {},
   "source": [
    "This is better! Annotator 0 and 1 tend to disagree more on labels, so if we remove \\#1 then we might boost agreement overall."
   ]
  },
  {
   "cell_type": "markdown",
   "metadata": {},
   "source": [
    "### Test classification with final annotated data\n",
    "If we assume that the agreement is good enough, then how accurately can we classify the questions into clarification + relevant categories?"
   ]
  },
  {
   "cell_type": "code",
   "execution_count": 33,
   "metadata": {},
   "outputs": [],
   "source": [
    "# get sentences + tokens for all data; will be useful later\n",
    "from data_helpers import compute_sent_word_overlap\n",
    "from nltk.tokenize import PunktSentenceTokenizer, WordPunctTokenizer\n",
    "sent_tokenizer = PunktSentenceTokenizer()\n",
    "word_tokenizer = WordPunctTokenizer()\n",
    "annotation_data = annotation_data.assign(**{\n",
    "    'post_sent_tokens' : annotation_data.loc[:, 'post_text'].apply(lambda x: list(map(lambda y: word_tokenizer.tokenize(y), sent_tokenizer.tokenize(x)))),\n",
    "    'question_tokens' : annotation_data.loc[:, 'question'].apply(lambda x: word_tokenizer.tokenize(x)),\n",
    "})"
   ]
  },
  {
   "cell_type": "code",
   "execution_count": 94,
   "metadata": {},
   "outputs": [
    {
     "name": "stdout",
     "output_type": "stream",
     "text": [
      "label=question_is_relevant; 304/406 data with agreement\n",
      "label=question_asks_for_more_info; 326/406 data with agreement\n"
     ]
    }
   ],
   "source": [
    "## debug: remove annotator columns without sufficient annotators\n",
    "label_cols = ['question_is_relevant', 'question_asks_for_more_info']\n",
    "num_annotators_per_question = 2\n",
    "annotation_cols = [f'{label_col}_num_{i}' for label_col in label_cols for i in range(num_annotators_per_question)]\n",
    "cutoff_annotation_data = annotation_data.dropna(subset=annotation_cols, axis=0, how='any')\n",
    "## restrict to questions with perfect agreement\n",
    "from scipy.stats import mode\n",
    "for label_col_i in label_cols:\n",
    "    annotation_cols_i = [f'{label_col_i}_num_{i}' for i in range(num_annotators_per_question)]\n",
    "    agree_col_i = f'{label_col_i}_agree'\n",
    "    cutoff_annotation_data = cutoff_annotation_data.assign(**{\n",
    "        agree_col_i : cutoff_annotation_data.loc[:, annotation_cols_i].apply(lambda x: x.min()==x.max() and x.min() != -1, axis=1)\n",
    "    })\n",
    "    print(f'label={label_col_i}; {cutoff_annotation_data.loc[:, agree_col_i].sum()}/{cutoff_annotation_data.shape[0]} data with agreement')\n",
    "    ## assign majority label\n",
    "    cutoff_annotation_data = cutoff_annotation_data.assign(**{\n",
    "        f'{label_col_i}_maj_label' : cutoff_annotation_data.loc[:, annotation_cols_i].apply(lambda x: mode(x.values).mode[0], axis=1)\n",
    "    })"
   ]
  },
  {
   "cell_type": "markdown",
   "metadata": {},
   "source": [
    "Let's test for `question_is_relevant` using overlap with post content."
   ]
  },
  {
   "cell_type": "code",
   "execution_count": 170,
   "metadata": {},
   "outputs": [
    {
     "name": "stdout",
     "output_type": "stream",
     "text": [
      "1.0    283\n",
      "0.0     21\n",
      "Name: question_is_relevant_maj_label, dtype: int64\n"
     ]
    }
   ],
   "source": [
    "question_relevant_annotation_data = cutoff_annotation_data[cutoff_annotation_data.loc[:, 'question_is_relevant_agree']]\n",
    "# total count of variable\n",
    "print(question_relevant_annotation_data.loc[:, 'question_is_relevant_maj_label'].value_counts())"
   ]
  },
  {
   "cell_type": "markdown",
   "metadata": {},
   "source": [
    "In general, most questions are considered relevant."
   ]
  },
  {
   "cell_type": "code",
   "execution_count": 171,
   "metadata": {
    "scrolled": true
   },
   "outputs": [],
   "source": [
    "## compute max post overlap\n",
    "from data_helpers import compute_sent_word_overlap\n",
    "bleu_weights = [1.0, 0., 0., 0.]\n",
    "question_relevant_annotation_data = question_relevant_annotation_data.assign(**{\n",
    "    'post_question_overlap' : question_relevant_annotation_data.apply(lambda x: compute_sent_word_overlap(x.loc['post_sent_tokens'], [x.loc['question_tokens']])[0], axis=1)\n",
    "})"
   ]
  },
  {
   "cell_type": "code",
   "execution_count": 84,
   "metadata": {
    "scrolled": true
   },
   "outputs": [
    {
     "data": {
      "image/png": "[encoded data removed]",
      "text/plain": [
       "<Figure size 432x288 with 1 Axes>"
      ]
     },
     "metadata": {
      "needs_background": "light"
     },
     "output_type": "display_data"
    }
   ],
   "source": [
    "# fix data format\n",
    "plot_data = question_relevant_annotation_data.loc[:, ['parent_id', 'post_question_overlap', 'question_is_relevant_maj_label']]\n",
    "plot_data = pd.melt(plot_data, id_vars=['parent_id', 'question_is_relevant_maj_label'], value_vars=['post_question_overlap'], value_name='post_question_overlap').drop('variable', axis=1)\n",
    "# plot data\n",
    "import matplotlib\n",
    "%matplotlib inline\n",
    "import matplotlib.pyplot as plt\n",
    "import seaborn as sns\n",
    "sns.histplot(data=plot_data, x='post_question_overlap', hue='question_is_relevant_maj_label', common_norm=False, stat='probability')\n",
    "plt.show()"
   ]
  },
  {
   "cell_type": "markdown",
   "metadata": {},
   "source": [
    "We have some mixing in the labels in the lower end of the overlap score, which shows that some questions may reference information from the post (small overlap) even without being relevant.\n",
    "\n",
    "If we want to maximize precision, it seems like we should bound the overlap score at [0.125, 0.3]."
   ]
  },
  {
   "cell_type": "code",
   "execution_count": 92,
   "metadata": {},
   "outputs": [
    {
     "name": "stdout",
     "output_type": "stream",
     "text": [
      "overlap bounds 0.125-0.300: prec=0.968; rec=0.322\n"
     ]
    }
   ],
   "source": [
    "overlap_bounds = [0.125, 0.3]\n",
    "question_relevant_annotation_data = question_relevant_annotation_data.assign(**{\n",
    "    'question_post_overlap' : (question_relevant_annotation_data.loc[:, 'post_question_overlap'] >= overlap_bounds[0]) & (question_relevant_annotation_data.loc[:, 'post_question_overlap'] <= overlap_bounds[1])\n",
    "})\n",
    "TP = ((question_relevant_annotation_data.loc[:, 'question_is_relevant_maj_label']==1) & (question_relevant_annotation_data.loc[:, 'question_post_overlap']==1)).sum()\n",
    "FP = ((question_relevant_annotation_data.loc[:, 'question_is_relevant_maj_label']==0) & (question_relevant_annotation_data.loc[:, 'question_post_overlap']==1)).sum()\n",
    "TN = ((question_relevant_annotation_data.loc[:, 'question_is_relevant_maj_label']==0) & (question_relevant_annotation_data.loc[:, 'question_post_overlap']==0)).sum()\n",
    "FN = ((question_relevant_annotation_data.loc[:, 'question_is_relevant_maj_label']==1) & (question_relevant_annotation_data.loc[:, 'question_post_overlap']==0)).sum()\n",
    "prec = TP / (TP + FP)\n",
    "rec = TP / (TP + FN)\n",
    "print(f'overlap bounds {\"{:.3f}\".format(overlap_bounds[0])}-{\"{:.3f}\".format(overlap_bounds[1])}: prec={\"{:.3f}\".format(prec)}; rec={\"{:.3f}\".format(rec)}')"
   ]
  },
  {
   "cell_type": "markdown",
   "metadata": {},
   "source": [
    "Now! Let's try to classify questions by `question_asks_for_more_info`."
   ]
  },
  {
   "cell_type": "code",
   "execution_count": 120,
   "metadata": {},
   "outputs": [
    {
     "name": "stdout",
     "output_type": "stream",
     "text": [
      "1.0    224\n",
      "0.0    102\n",
      "Name: question_asks_for_more_info_maj_label, dtype: int64\n"
     ]
    }
   ],
   "source": [
    "## data label distribution\n",
    "more_info_question_annotation_data = cutoff_annotation_data[cutoff_annotation_data.loc[:, 'question_asks_for_more_info_agree']]\n",
    "more_info_label_counts = more_info_question_annotation_data.loc[:, 'question_asks_for_more_info_maj_label'].value_counts()\n",
    "print(more_info_label_counts)"
   ]
  },
  {
   "cell_type": "markdown",
   "metadata": {},
   "source": [
    "The class balance is not great, so let's try to oversample the minority class to make up for it."
   ]
  },
  {
   "cell_type": "code",
   "execution_count": null,
   "metadata": {},
   "outputs": [],
   "source": [
    "## resample to get more data from minority class\n",
    "from functools import reduce\n",
    "from math import ceil\n",
    "import numpy as np\n",
    "np.random.seed(123)\n",
    "def resample_data(data, label_var):\n",
    "    label_counts = data.loc[:, label_var].value_counts()\n",
    "    minority_label = label_counts.idxmin()\n",
    "    N_majority = label_counts.max()\n",
    "    N_minority = label_counts.min()\n",
    "    N_resample = N_majority - N_minority\n",
    "    resample_multiplier = int(ceil(N_resample / N_minority))\n",
    "    minority_data = data[data.loc[:, label_var]==minority_label]\n",
    "    resample_data_candidate_idx = list(reduce(lambda x,y: x+y, [minority_data.index.tolist(),]*resample_multiplier))\n",
    "    resample_data_idx = np.random.choice(resample_data_candidate_idx, N_resample, replace=False)\n",
    "    new_data = pd.concat(\n",
    "        [data, data.loc[resample_data_idx, :]],\n",
    "        axis=0\n",
    "    )\n",
    "    return new_data"
   ]
  },
  {
   "cell_type": "code",
   "execution_count": 130,
   "metadata": {},
   "outputs": [
    {
     "name": "stdout",
     "output_type": "stream",
     "text": [
      "0.0    224\n",
      "1.0    224\n",
      "Name: question_asks_for_more_info_maj_label, dtype: int64\n"
     ]
    }
   ],
   "source": [
    "label_var = 'question_asks_for_more_info_maj_label'\n",
    "resample_more_info_data = resample_data(more_info_question_annotation_data, label_var)\n",
    "print(resample_more_info_data.loc[:, label_var].value_counts())"
   ]
  },
  {
   "cell_type": "code",
   "execution_count": 166,
   "metadata": {},
   "outputs": [
    {
     "name": "stdout",
     "output_type": "stream",
     "text": [
      "your    117\n",
      "and      88\n",
      "what     84\n",
      "do       80\n",
      "it       80\n",
      "is       75\n",
      "that     73\n",
      "for      61\n",
      "of       61\n",
      "in       59\n",
      "dtype: int64\n",
      "what    84\n",
      "why     51\n",
      "how     32\n",
      "who     21\n",
      "dtype: int64\n"
     ]
    }
   ],
   "source": [
    "from sklearn.feature_extraction.text import CountVectorizer\n",
    "max_features=50\n",
    "max_df = 0.25\n",
    "cv = CountVectorizer(max_df=max_df, max_features=max_features)\n",
    "dtm = cv.fit_transform(resample_more_info_data.loc[:, 'question'].values)\n",
    "# top features\n",
    "cv_vocab = list(sorted(cv.vocabulary_, key=cv.vocabulary_.get))\n",
    "dtm_vocab_counts = pd.Series(np.array(dtm.sum(axis=0))[0], index=cv_vocab).sort_values(ascending=False)\n",
    "print(dtm_vocab_counts.iloc[:10])\n",
    "question_words = {'what', 'when', 'where', 'why', 'how', 'who', 'which'}\n",
    "question_words = question_words & set(cv_vocab)\n",
    "print(dtm_vocab_counts.loc[question_words].sort_values(ascending=False))"
   ]
  },
  {
   "cell_type": "code",
   "execution_count": 172,
   "metadata": {},
   "outputs": [],
   "source": [
    "## k-fold validation\n",
    "from sklearn.model_selection import StratifiedKFold\n",
    "from sklearn.metrics import f1_score\n",
    "def train_test_model_multi_folds(X, Y, model, N_folds=5):\n",
    "    k_fold = StratifiedKFold(n_splits=N_folds, shuffle=True, random_state=123)\n",
    "    prediction_scores = []\n",
    "    for train_idx, test_idx in k_fold.split(X, Y):\n",
    "        X_train, X_test = X[train_idx], X[test_idx]\n",
    "        Y_train, Y_test = Y[train_idx], Y[test_idx]\n",
    "        model.fit(X_train, Y_train)\n",
    "        Y_pred = model.predict(X_test)\n",
    "        f1 = f1_score(Y_test, Y_pred)\n",
    "        TP = ((Y_test==1) & (Y_pred==1)).sum()\n",
    "        FP = ((Y_test==0) & (Y_pred==1)).sum()\n",
    "        FN = ((Y_test==1) & (Y_pred==0)).sum()\n",
    "        prec = TP / (TP + FP)\n",
    "        rec = TP / (TP + FN)\n",
    "        prediction_scores.append([prec, rec, f1])\n",
    "    prediction_scores = pd.DataFrame(prediction_scores, columns=['prec', 'rec', 'f1'])\n",
    "    return prediction_scores"
   ]
  },
  {
   "cell_type": "code",
   "execution_count": 173,
   "metadata": {},
   "outputs": [
    {
     "name": "stdout",
     "output_type": "stream",
     "text": [
      "model = <class 'sklearn.svm._classes.SVC'>\n",
      "mean prediction score =\n",
      "prec    0.818597\n",
      "rec     0.816798\n",
      "f1      0.815291\n",
      "dtype: float64\n",
      "model = <class 'sklearn.linear_model._logistic.LogisticRegression'>\n",
      "mean prediction score =\n",
      "prec    0.789534\n",
      "rec     0.781028\n",
      "f1      0.779875\n",
      "dtype: float64\n",
      "model = <class 'sklearn.ensemble._forest.RandomForestClassifier'>\n",
      "mean prediction score =\n",
      "prec    0.940179\n",
      "rec     0.808300\n",
      "f1      0.865739\n",
      "dtype: float64\n"
     ]
    }
   ],
   "source": [
    "from sklearn.svm import SVC\n",
    "from sklearn.linear_model import LogisticRegression\n",
    "from sklearn.ensemble import RandomForestClassifier\n",
    "label_var = 'question_asks_for_more_info_maj_label'\n",
    "models = [\n",
    "    SVC(C=1., kernel='rbf', max_iter=1000),\n",
    "    LogisticRegression(penalty='l2', C=1., max_iter=1000),\n",
    "    RandomForestClassifier(n_estimators=25)\n",
    "]\n",
    "info_labels = resample_more_info_data.loc[:, label_var].values\n",
    "for model in models:\n",
    "    print(f'model = {type(model)}')\n",
    "    prediction_scores = train_test_model_multi_folds(dtm, info_labels, model, N_folds=10)\n",
    "    print(f'mean prediction score =\\n{prediction_scores.mean(axis=0)}')"
   ]
  },
  {
   "cell_type": "markdown",
   "metadata": {},
   "source": [
    "This is pretty good! In general, it seems pretty easy to determine which questions are asking for more info and which are not.\n",
    "\n",
    "We'll use the random forest model for our labeling since it consistently achieves high precision with minimal recall loss."
   ]
  },
  {
   "cell_type": "markdown",
   "metadata": {},
   "source": [
    "What are the features more associated with the positive class?"
   ]
  },
  {
   "cell_type": "code",
   "execution_count": 167,
   "metadata": {},
   "outputs": [],
   "source": [
    "## recompute DTM with non-sampled data\n",
    "max_features=50\n",
    "max_df = 0.25\n",
    "cv = CountVectorizer(max_df=max_df, max_features=max_features)\n",
    "raw_data_dtm = cv.fit_transform(more_info_question_annotation_data.loc[:, 'question'].values)\n",
    "label_var = 'question_asks_for_more_info_maj_label'\n",
    "raw_data_info_labels = more_info_question_annotation_data.loc[:, label_var].values"
   ]
  },
  {
   "cell_type": "code",
   "execution_count": 168,
   "metadata": {
    "scrolled": true
   },
   "outputs": [
    {
     "data": {
      "text/plain": [
       "what    0.042347\n",
       "have    0.038559\n",
       "did     0.031590\n",
       "do      0.031540\n",
       "say     0.025574\n",
       "are     0.023655\n",
       "your    0.020597\n",
       "was     0.019608\n",
       "if      0.018295\n",
       "in      0.016340\n",
       "dtype: float64"
      ]
     },
     "metadata": {},
     "output_type": "display_data"
    },
    {
     "data": {
      "text/plain": [
       "on     -0.016390\n",
       "just   -0.016477\n",
       "want   -0.016477\n",
       "or     -0.017876\n",
       "that   -0.019968\n",
       "and    -0.021714\n",
       "her    -0.022580\n",
       "not    -0.023013\n",
       "how    -0.026937\n",
       "why    -0.031034\n",
       "dtype: float64"
      ]
     },
     "metadata": {},
     "output_type": "display_data"
    }
   ],
   "source": [
    "dtm_class_1 = raw_data_dtm[raw_data_info_labels == 1]\n",
    "dtm_class_0 = raw_data_dtm[raw_data_info_labels == 0]\n",
    "class_1_word_counts = pd.Series(np.array(dtm_class_1.sum(axis=0))[0], index=cv_vocab)\n",
    "class_0_word_counts = pd.Series(np.array(dtm_class_0.sum(axis=0))[0], index=cv_vocab)\n",
    "# normalize counts\n",
    "class_1_word_counts = class_1_word_counts / class_1_word_counts.sum()\n",
    "class_0_word_counts = class_0_word_counts / class_0_word_counts.sum()\n",
    "class_0_1_word_counts = pd.concat([class_0_word_counts, class_1_word_counts], axis=1).fillna(0.)\n",
    "class_0_1_word_diffs = class_0_1_word_counts.iloc[:, 1] - class_0_1_word_counts.iloc[:, 0]\n",
    "class_0_1_word_diffs.sort_values(inplace=True, ascending=False)\n",
    "display(class_0_1_word_diffs.head(10))\n",
    "display(class_0_1_word_diffs.tail(10))"
   ]
  },
  {
   "cell_type": "markdown",
   "metadata": {},
   "source": [
    "Great! As suspected, the \"valid\" clarification questions tend to have concrete directions (`what`, `did`), but the \"invalid\" clarification questions are more abstract (`want`, `how`, `why`) and situational (`her`, `just`)?"
   ]
  },
  {
   "cell_type": "markdown",
   "metadata": {},
   "source": [
    "## Debug data flow\n",
    "Let's figure out where we lose so many questions/posts."
   ]
  },
  {
   "cell_type": "code",
   "execution_count": 2,
   "metadata": {},
   "outputs": [],
   "source": [
    "import pandas as pd\n",
    "post_data = pd.read_csv('../../data/reddit_data/subreddit_submissions_2018-01_2019-12.gz', sep='\\t', compression='gzip', index_col=False)\n",
    "import numpy as np\n",
    "from ast import literal_eval\n",
    "import re\n",
    "post_data.rename(columns={'id': 'parent_id', 'created_utc': 'parent_created', 'selftext': 'parent_text', 'title': 'parent_title', 'edited': 'parent_edited', 'author': 'parent_author'}, inplace=True)\n",
    "# remove null posts\n",
    "post_data = post_data[~post_data.loc[:, 'parent_id'].apply(lambda x: type(x) is float and np.isnan(x))]\n",
    "post_data = post_data[~post_data.loc[:, 'parent_edited'].apply(lambda x: type(x) is float and np.isnan(x))]\n",
    "# remove edited posts\n",
    "bool_matcher = re.compile('True|False')\n",
    "post_data = post_data[post_data.loc[:, 'parent_edited'].apply(lambda x: bool_matcher.match(str(x)) is not None and not literal_eval(bool_matcher.match(x).group(0)))]"
   ]
  },
  {
   "cell_type": "code",
   "execution_count": 3,
   "metadata": {},
   "outputs": [
    {
     "name": "stdout",
     "output_type": "stream",
     "text": [
      "6186885\n"
     ]
    }
   ],
   "source": [
    "## load comment data\n",
    "import re\n",
    "import os\n",
    "from data_helpers import load_zipped_json_data\n",
    "data_dir = '../../data/reddit_data/'\n",
    "comment_file_matcher = re.compile('subreddit_comments_\\d{4}-\\d{2}.gz')\n",
    "comment_files = list(filter(lambda x: comment_file_matcher.match(x), os.listdir(data_dir)))\n",
    "comment_files = list(map(lambda x: os.path.join(data_dir, x), comment_files))\n",
    "## load all data\n",
    "comment_data = pd.concat(list(map(lambda x: load_zipped_json_data(x), comment_files)), axis=0)\n",
    "# fix parent IDs\n",
    "comment_data = comment_data.assign(**{\n",
    "    'parent_id' : comment_data.loc[:, 'parent_id'].apply(lambda x: x.split('_')[-1])\n",
    "})\n",
    "# remove comments without parents\n",
    "comment_data = comment_data[comment_data.loc[:, 'parent_id'].apply(lambda x: type(x) is not float)]\n",
    "print(comment_data.shape[0])"
   ]
  },
  {
   "cell_type": "code",
   "execution_count": null,
   "metadata": {},
   "outputs": [
    {
     "name": "stderr",
     "output_type": "stream",
     "text": [
      "100%|██████████| 6186885/6186885 [33:43<00:00, 3057.29it/s]  \n",
      "4151559it [52:21, 1342.18it/s]"
     ]
    }
   ],
   "source": [
    "## get questions, flatten data\n",
    "from data_helpers import extract_questions_all_data\n",
    "min_question_len = 5\n",
    "comment_data = comment_data.assign(**{\n",
    "    'questions' : extract_questions_all_data(comment_data.loc[:, 'body'], min_question_len=min_question_len)\n",
    "})\n",
    "# remove comment body to save space!!\n",
    "comment_data.drop('body', axis=1, inplace=True)\n",
    "# remove invalid questions: quotes, bots\n",
    "quote_matcher = re.compile('&gt;.+')\n",
    "comment_data = comment_data.assign(**{\n",
    "    'questions': comment_data.loc[:, 'questions'].apply(\n",
    "        lambda x: list(\n",
    "            filter(lambda y: quote_matcher.search(y) is None, x)))\n",
    "})\n",
    "invalid_authors = ['LocationBot', 'AutoModerator']\n",
    "comment_data = comment_data[~comment_data.loc[:, 'author'].isin(invalid_authors)]\n",
    "## remove bad comments\n",
    "# remove null questions\n",
    "comment_data = comment_data[~comment_data.loc[:, 'questions'].apply(lambda x: type(x) is float and np.isnan(x))]\n",
    "from data_helpers import flatten_columns\n",
    "flat_col = 'questions'\n",
    "comment_data = flatten_columns(comment_data, flat_col=flat_col)\n",
    "comment_data.rename(columns={'questions': 'question'}, inplace=True)\n",
    "comment_data = comment_data.assign(**{'question_id' : comment_data.loc[:, 'question'].apply(lambda x: hash(x))})\n",
    "# remove duplicates\n",
    "comment_data.drop_duplicates(['parent_id', 'question_id'], inplace=True)"
   ]
  },
  {
   "cell_type": "code",
   "execution_count": null,
   "metadata": {},
   "outputs": [],
   "source": [
    "print(comment_data.shape)\n",
    "print(post_data.shape)"
   ]
  },
  {
   "cell_type": "code",
   "execution_count": null,
   "metadata": {},
   "outputs": [],
   "source": [
    "## combine post/comment data\n",
    "post_cols = ['parent_id', 'parent_created', 'parent_text', 'parent_title', 'parent_edited', 'parent_author']\n",
    "valid_post_ids = set(comment_data.loc[:, 'parent_id'].unique()) & set(post_data.loc[:, 'parent_id'].unique())\n",
    "post_comment_data = pd.merge(comment_data, post_data.loc[:, post_cols],\n",
    "                             on='parent_id')\n",
    "print(f'{post_comment_data.shape[0]}/{comment_data.shape[0]} comments retained after merge with posts')"
   ]
  },
  {
   "cell_type": "code",
   "execution_count": null,
   "metadata": {},
   "outputs": [],
   "source": [
    "print(comment_data[~comment_data.loc[:, 'parent_id'].isin(valid_post_ids)].shape[0])\n",
    "display(comment_data[~comment_data.loc[:, 'parent_id'].isin(valid_post_ids)].drop_duplicates('parent_id').head(10))"
   ]
  },
  {
   "cell_type": "markdown",
   "metadata": {},
   "source": [
    "The \"invalid\" comments connect to posts that were edited, so it's valid to remove those comments."
   ]
  },
  {
   "cell_type": "code",
   "execution_count": null,
   "metadata": {},
   "outputs": [],
   "source": [
    "## compute overlap\n",
    "from nltk.tokenize import WordPunctTokenizer, PunktSentenceTokenizer\n",
    "from nltk.stem import PorterStemmer\n",
    "from data_helpers import tokenize_stem_text\n",
    "from tqdm import tqdm\n",
    "tqdm.pandas()\n",
    "word_tokenizer = WordPunctTokenizer()\n",
    "sent_tokenizer = PunktSentenceTokenizer()\n",
    "stemmer = PorterStemmer()\n",
    "post_comment_data = post_comment_data.assign(**{\n",
    "    'parent_sents': post_comment_data.loc[:, 'parent_text'].progress_apply(\n",
    "        lambda x: tokenize_stem_text(x, stemmer, word_tokenizer, sent_tokenizer)),\n",
    "})\n",
    "from data_helpers import compute_sent_word_overlap\n",
    "post_comment_data = post_comment_data.assign(**{\n",
    "    'post_question_overlap': post_comment_data.progress_apply(lambda x: compute_sent_word_overlap(x.loc['parent_sents'], [x.loc['question']]), axis=1)\n",
    "})\n",
    "post_comment_data = post_comment_data.assign(**{\n",
    "    'post_question_overlap_score': post_comment_data.loc[:,'post_question_overlap'].apply(lambda x: x[0]),\n",
    "    'post_question_overlap_sent': post_comment_data.loc[:, 'post_question_overlap'].apply(lambda x: x[1][0]),\n",
    "})"
   ]
  },
  {
   "cell_type": "markdown",
   "metadata": {},
   "source": [
    "Investigate questions with low overlap to determine if they are still valid."
   ]
  },
  {
   "cell_type": "code",
   "execution_count": null,
   "metadata": {},
   "outputs": [],
   "source": [
    "pd.set_option('display.max_colwidth', 500)\n",
    "display(post_comment_data[(post_comment_data.loc[:, 'post_question_overlap_score'] >= 0.05) & \n",
    "                          (post_comment_data.loc[:, 'post_question_overlap_score'] < 0.1)].loc[:, ['parent_text', 'question', 'post_question_overlap_score']].head(10))\n",
    "overlap_score_range = [0.05, 0.5]\n",
    "valid_overlap_post_comment_data = post_comment_data[(post_comment_data.loc[:,'post_question_overlap_score'] >= overlap_score_range[0]) &\n",
    "                                                    (post_comment_data.loc[:, 'post_question_overlap_score'] < overlap_score_range[1])]\n",
    "print(f'{valid_overlap_post_comment_data.shape[0]}/{post_comment_data.shape[0]} valid overlap questions')"
   ]
  }
 ],
 "metadata": {
  "kernelspec": {
   "display_name": "Python [conda env:py3] *",
   "language": "python",
   "name": "conda-env-py3-py"
  },
  "language_info": {
   "codemirror_mode": {
    "name": "ipython",
    "version": 3
   },
   "file_extension": ".py",
   "mimetype": "text/x-python",
   "name": "python",
   "nbconvert_exporter": "python",
   "pygments_lexer": "ipython3",
   "version": "3.8.5"
  }
 },
 "nbformat": 4,
 "nbformat_minor": 5
}
