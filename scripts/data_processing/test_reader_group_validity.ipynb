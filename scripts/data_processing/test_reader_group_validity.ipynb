{
 "cells": [
  {
   "cell_type": "markdown",
   "id": "fa5d328d",
   "metadata": {},
   "source": [
    "# Test reader group validity\n",
    "Are the labels based on expert and location status that we assigned to readers actually valid?\n",
    "\n",
    "We'll look at some example previous comments from readers to figure this out."
   ]
  },
  {
   "cell_type": "code",
   "execution_count": 2,
   "id": "7609a41e",
   "metadata": {},
   "outputs": [],
   "source": [
    "## load question data\n",
    "import pandas as pd\n",
    "question_data = pd.read_csv('../../data/reddit_data/advice_subreddit_filter_comment_question_data.gz', sep='\\t', index_col=False, usecols=['author', 'id', 'parent_id', 'created_utc', 'question'])"
   ]
  },
  {
   "cell_type": "code",
   "execution_count": 25,
   "id": "b07400fa",
   "metadata": {
    "scrolled": true
   },
   "outputs": [
    {
     "name": "stderr",
     "output_type": "stream",
     "text": [
      "/home/ianbstew/miniconda3/envs/py3/lib/python3.8/site-packages/IPython/core/interactiveshell.py:3165: DtypeWarning: Columns (2,9,10) have mixed types.Specify dtype option on import or set low_memory=False.\n",
      "  has_raised = await self.run_ast_nodes(code_ast.body, cell_name,\n"
     ]
    },
    {
     "data": {
      "text/html": [
       "<div>\n",
       "<style scoped>\n",
       "    .dataframe tbody tr th:only-of-type {\n",
       "        vertical-align: middle;\n",
       "    }\n",
       "\n",
       "    .dataframe tbody tr th {\n",
       "        vertical-align: top;\n",
       "    }\n",
       "\n",
       "    .dataframe thead th {\n",
       "        text-align: right;\n",
       "    }\n",
       "</style>\n",
       "<table border=\"1\" class=\"dataframe\">\n",
       "  <thead>\n",
       "    <tr style=\"text-align: right;\">\n",
       "      <th></th>\n",
       "      <th>author</th>\n",
       "      <th>date_day</th>\n",
       "      <th>subreddit</th>\n",
       "      <th>expert_pct</th>\n",
       "      <th>expert_pct_bin</th>\n",
       "      <th>subreddit_country</th>\n",
       "      <th>location_region</th>\n",
       "      <th>date_day_bin</th>\n",
       "    </tr>\n",
       "  </thead>\n",
       "  <tbody>\n",
       "    <tr>\n",
       "      <th>0</th>\n",
       "      <td>Beetleguise78</td>\n",
       "      <td>2018-10-05</td>\n",
       "      <td>personalfinance</td>\n",
       "      <td>0.000000</td>\n",
       "      <td>0.0</td>\n",
       "      <td>UNK</td>\n",
       "      <td>UNK</td>\n",
       "      <td>2018-07-01</td>\n",
       "    </tr>\n",
       "    <tr>\n",
       "      <th>1</th>\n",
       "      <td>IdaAreIda</td>\n",
       "      <td>2019-01-23</td>\n",
       "      <td>AmItheAsshole</td>\n",
       "      <td>0.200000</td>\n",
       "      <td>1.0</td>\n",
       "      <td>dk</td>\n",
       "      <td>NONUS</td>\n",
       "      <td>2019-01-01</td>\n",
       "    </tr>\n",
       "    <tr>\n",
       "      <th>2</th>\n",
       "      <td>talosguideu</td>\n",
       "      <td>2019-06-05</td>\n",
       "      <td>Advice</td>\n",
       "      <td>0.010000</td>\n",
       "      <td>0.0</td>\n",
       "      <td>UNK</td>\n",
       "      <td>UNK</td>\n",
       "      <td>2019-01-01</td>\n",
       "    </tr>\n",
       "    <tr>\n",
       "      <th>3</th>\n",
       "      <td>talosguideu</td>\n",
       "      <td>2019-03-02</td>\n",
       "      <td>Advice</td>\n",
       "      <td>0.010101</td>\n",
       "      <td>0.0</td>\n",
       "      <td>UNK</td>\n",
       "      <td>UNK</td>\n",
       "      <td>2019-01-01</td>\n",
       "    </tr>\n",
       "    <tr>\n",
       "      <th>4</th>\n",
       "      <td>talosguideu</td>\n",
       "      <td>2019-03-30</td>\n",
       "      <td>Advice</td>\n",
       "      <td>0.010000</td>\n",
       "      <td>0.0</td>\n",
       "      <td>UNK</td>\n",
       "      <td>UNK</td>\n",
       "      <td>2019-01-01</td>\n",
       "    </tr>\n",
       "  </tbody>\n",
       "</table>\n",
       "</div>"
      ],
      "text/plain": [
       "          author   date_day        subreddit  expert_pct  expert_pct_bin  \\\n",
       "0  Beetleguise78 2018-10-05  personalfinance    0.000000             0.0   \n",
       "1      IdaAreIda 2019-01-23    AmItheAsshole    0.200000             1.0   \n",
       "2    talosguideu 2019-06-05           Advice    0.010000             0.0   \n",
       "3    talosguideu 2019-03-02           Advice    0.010101             0.0   \n",
       "4    talosguideu 2019-03-30           Advice    0.010000             0.0   \n",
       "\n",
       "  subreddit_country location_region date_day_bin  \n",
       "0               UNK             UNK   2018-07-01  \n",
       "1                dk           NONUS   2019-01-01  \n",
       "2               UNK             UNK   2019-01-01  \n",
       "3               UNK             UNK   2019-01-01  \n",
       "4               UNK             UNK   2019-01-01  "
      ]
     },
     "metadata": {},
     "output_type": "display_data"
    }
   ],
   "source": [
    "from datetime import datetime\n",
    "author_data = pd.read_csv('../../data/reddit_data/author_data/combined_author_prior_comment_data.gz', sep='\\t', index_col=False, usecols=['author', 'date_day', 'subreddit', 'expert_pct', 'expert_pct_bin', 'subreddit_country', 'location_region', 'date_day_bin'], converters={'date_day' : lambda x: datetime.strptime(x, '%Y-%m-%d') if x!='' else None})\n",
    "display(author_data.head())"
   ]
  },
  {
   "cell_type": "markdown",
   "id": "e22ced31",
   "metadata": {},
   "source": [
    "Let's take a sample of authors for each reader group and look at their previous posts to determine if they deserve to be labelled the way that they are."
   ]
  },
  {
   "cell_type": "code",
   "execution_count": 44,
   "id": "07f8f9f4",
   "metadata": {},
   "outputs": [
    {
     "name": "stdout",
     "output_type": "stream",
     "text": [
      "(2000, 9)\n"
     ]
    }
   ],
   "source": [
    "import numpy as np\n",
    "np.random.seed(456)\n",
    "group_vars = ['expert_pct_bin', 'location_region']\n",
    "sample_author_data = []\n",
    "sample_size = 100\n",
    "for group_var_i in group_vars:\n",
    "    for (subreddit_j, group_val_j), data_j in author_data.drop_duplicates('author').groupby(['subreddit', group_var_i]):\n",
    "        if(group_val_j != 'UNK'):\n",
    "            sample_data_j = data_j.loc[np.random.choice(data_j.index, sample_size, replace=False)]\n",
    "            sample_data_j = sample_data_j.assign(**{'reader_group' : group_var_i})\n",
    "            sample_author_data.append(sample_data_j)\n",
    "sample_author_data = pd.concat(sample_author_data, axis=0)\n",
    "print(sample_author_data.shape)"
   ]
  },
  {
   "cell_type": "markdown",
   "id": "8420a75d",
   "metadata": {},
   "source": [
    "### Validity check: expert status"
   ]
  },
  {
   "cell_type": "markdown",
   "id": "e8c02336",
   "metadata": {},
   "source": [
    "Check expert status first: what are the top-K subreddits for each author prior to post?"
   ]
  },
  {
   "cell_type": "code",
   "execution_count": 49,
   "id": "a12ae56c",
   "metadata": {
    "scrolled": true
   },
   "outputs": [
    {
     "name": "stdout",
     "output_type": "stream",
     "text": [
      "163694\n"
     ]
    }
   ],
   "source": [
    "import os\n",
    "from datetime import datetime\n",
    "def collect_author_data(author_name, data_dir):\n",
    "    author_data_file = os.path.join(data_dir, f'{author_name}_comments.gz')\n",
    "    author_data = pd.read_csv(author_data_file, sep='\\t', compression='gzip', index_col=False, usecols=['author', 'subreddit', 'created_utc', 'id', 'body'], converters={'created_utc' : lambda x: datetime.fromtimestamp(int(float(x)))})\n",
    "    return author_data\n",
    "author_data_dir = '../../data/reddit_data/author_data/'\n",
    "author_prior_post_data = pd.concat(list(map(lambda x: collect_author_data(x, author_data_dir), sample_author_data.loc[:, 'author'].unique())), axis=0)\n",
    "print(author_prior_post_data.shape[0])"
   ]
  },
  {
   "cell_type": "code",
   "execution_count": 38,
   "id": "02f473be",
   "metadata": {
    "scrolled": true
   },
   "outputs": [
    {
     "data": {
      "text/plain": [
       "{'Advice': {'AskDocs',\n",
       "  'answers',\n",
       "  'ask',\n",
       "  'dating_advice',\n",
       "  'getdisciplined',\n",
       "  'mentalhealth',\n",
       "  'needadvice',\n",
       "  'socialskills',\n",
       "  'tipofmytongue'},\n",
       " 'AmItheAsshole': {'AskDocs', 'IsItBullshit', 'TooAfraidToAsk'},\n",
       " 'legaladvice': {'AskHR',\n",
       "  'Insurance',\n",
       "  'Landlord',\n",
       "  'LawSchool',\n",
       "  'LegalAdviceUK',\n",
       "  'Scams',\n",
       "  'bestoflegaladvice'},\n",
       " 'pcmasterrace': {'Monitors',\n",
       "  'SuggestALaptop',\n",
       "  'bapcsalescanada',\n",
       "  'buildmeapc',\n",
       "  'linuxmasterrace',\n",
       "  'overclocking',\n",
       "  'pcgaming',\n",
       "  'watercooling'},\n",
       " 'personalfinance': {'Accounting',\n",
       "  'CreditCards',\n",
       "  'FinancialPlanning',\n",
       "  'RealEstate',\n",
       "  'StudentLoans',\n",
       "  'askcarsales',\n",
       "  'churning',\n",
       "  'financialindependence',\n",
       "  'investing',\n",
       "  'smallbusiness',\n",
       "  'tax',\n",
       "  'whatcarshouldIbuy',\n",
       "  'ynab'}}"
      ]
     },
     "metadata": {},
     "output_type": "display_data"
    }
   ],
   "source": [
    "# get subreddit neighbors => compute expert status\n",
    "from ast import literal_eval\n",
    "subreddit_neighbor_data = pd.read_csv('../../data/reddit_data/author_data/advice_subreddit_neighbors.tsv', sep='\\t', index_col=False, converters={'neighbors' : literal_eval})\n",
    "# convert to dict for lookup\n",
    "subreddit_neighbor_lookup = dict(zip(subreddit_neighbor_data.loc[:, 'subreddit'].values, subreddit_neighbor_data.loc[:, 'neighbors'].values))\n",
    "display(subreddit_neighbor_lookup)"
   ]
  },
  {
   "cell_type": "code",
   "execution_count": 46,
   "id": "ec3c4705",
   "metadata": {
    "scrolled": true
   },
   "outputs": [],
   "source": [
    "expert_pct_bins = [0., 1.]\n",
    "expert_sample_author_data = sample_author_data[sample_author_data.loc[:, 'reader_group']=='expert_pct_bin']\n",
    "expert_sample_author_prior_subreddit_post_pct = []\n",
    "for subreddit_i, data_i in sample_author_data.groupby(['subreddit']):\n",
    "    expert_subreddits_i = [subreddit_i] + list(subreddit_neighbor_lookup[subreddit_i])\n",
    "    for idx_j, data_j in data_i.iterrows():\n",
    "        author_j = data_j.loc['author']\n",
    "        date_j = data_j.loc['date_day']\n",
    "        expert_bin_j = data_j.loc['expert_pct_bin']\n",
    "        author_prior_post_data_j = author_prior_post_data[(author_prior_post_data.loc[:, 'author']==author_j) &\n",
    "                                                          (author_prior_post_data.loc[:, 'created_utc']<date_j)]\n",
    "        # what % of prior posts were in expert subreddits?\n",
    "        subreddit_pct_j = author_prior_post_data_j.loc[:, 'subreddit'].value_counts() / author_prior_post_data_j.shape[0]\n",
    "        expert_subreddit_j = set(expert_subreddits_i) & set(subreddit_pct_j.index)\n",
    "        if(len(expert_subreddit_j) > 0):\n",
    "            expert_subreddit_pct_j = subreddit_pct_j.loc[expert_subreddit_j].sum()\n",
    "        else:\n",
    "            expert_subreddit_pct_j = 0.\n",
    "        expert_sample_author_prior_subreddit_post_pct.append([author_j, date_j, subreddit_i, expert_subreddit_pct_j, expert_bin_j])\n",
    "expert_sample_author_prior_subreddit_post_pct = pd.DataFrame(expert_sample_author_prior_subreddit_post_pct, columns=['author', 'date_day', 'subreddit', 'expert_subreddit_pct', 'expert_pct_bin'])"
   ]
  },
  {
   "cell_type": "code",
   "execution_count": 48,
   "id": "097be575",
   "metadata": {
    "scrolled": true
   },
   "outputs": [
    {
     "data": {
      "image/png": "[encoded data removed]",
      "text/plain": [
       "<Figure size 432x288 with 1 Axes>"
      ]
     },
     "metadata": {
      "needs_background": "light"
     },
     "output_type": "display_data"
    },
    {
     "data": {
      "image/png": "[encoded data removed]",
      "text/plain": [
       "<Figure size 432x288 with 1 Axes>"
      ]
     },
     "metadata": {
      "needs_background": "light"
     },
     "output_type": "display_data"
    },
    {
     "data": {
      "image/png": "[encoded data removed]",
      "text/plain": [
       "<Figure size 432x288 with 1 Axes>"
      ]
     },
     "metadata": {
      "needs_background": "light"
     },
     "output_type": "display_data"
    },
    {
     "data": {
      "image/png": "[encoded data removed]",
      "text/plain": [
       "<Figure size 432x288 with 1 Axes>"
      ]
     },
     "metadata": {
      "needs_background": "light"
     },
     "output_type": "display_data"
    },
    {
     "data": {
      "image/png": "[encoded data removed]",
      "text/plain": [
       "<Figure size 432x288 with 1 Axes>"
      ]
     },
     "metadata": {
      "needs_background": "light"
     },
     "output_type": "display_data"
    }
   ],
   "source": [
    "## plot distribution of prior subreddit posting by expert type\n",
    "import matplotlib\n",
    "%matplotlib inline\n",
    "import matplotlib.pyplot as plt\n",
    "import seaborn as sns\n",
    "for subreddit_i, data_i in expert_sample_author_prior_subreddit_post_pct.groupby('subreddit'):\n",
    "    sns.histplot(data=data_i, x='expert_subreddit_pct', hue='expert_pct_bin', bins=10)\n",
    "    plt.title(f'expert subreddit posting for subreddit={subreddit_i}')\n",
    "    plt.show()"
   ]
  },
  {
   "cell_type": "markdown",
   "id": "4b61760c",
   "metadata": {},
   "source": [
    "OK! Except for a few outliers, we generally see that authors classified as \"expert\" do post more frequently in designated \"expert\" subreddits than non-experts."
   ]
  },
  {
   "cell_type": "markdown",
   "id": "68652c2d",
   "metadata": {},
   "source": [
    "### Validity check: location"
   ]
  },
  {
   "cell_type": "markdown",
   "id": "549ea793",
   "metadata": {},
   "source": [
    "Now let's check for whether authors who were labelled as \"US\" or \"non-US\" should be labelled based on (1) self-identification (2) posting in location-specific subreddits."
   ]
  },
  {
   "cell_type": "code",
   "execution_count": 61,
   "id": "5a7e3b0a",
   "metadata": {},
   "outputs": [
    {
     "name": "stderr",
     "output_type": "stream",
     "text": [
      "2021-06-22 03:48:45 INFO: Loading these models for language: en (English):\n",
      "=========================\n",
      "| Processor | Package   |\n",
      "-------------------------\n",
      "| tokenize  | combined  |\n",
      "| ner       | ontonotes |\n",
      "=========================\n",
      "\n",
      "2021-06-22 03:48:45 INFO: Use device: cpu\n",
      "2021-06-22 03:48:45 INFO: Loading: tokenize\n",
      "2021-06-22 03:48:45 INFO: Loading: ner\n",
      "2021-06-22 03:48:46 INFO: Done loading processors!\n",
      "100%|██████████| 1000/1000 [02:28<00:00,  6.74it/s]\n"
     ]
    }
   ],
   "source": [
    "location_sample_author_data = sample_author_data[sample_author_data.loc[:, 'reader_group']=='location_region']\n",
    "## look for self-identification\n",
    "import data_helpers\n",
    "from importlib import reload\n",
    "reload(data_helpers)\n",
    "from data_helpers import full_location_pipeline\n",
    "from stanza import Pipeline\n",
    "from tqdm import tqdm\n",
    "from nltk.tokenize import PunktSentenceTokenizer\n",
    "import re\n",
    "sent_tokenizer = PunktSentenceTokenizer()\n",
    "nlp_pipeline = Pipeline(lang='en', processors='tokenize,ner', use_gpu=False)\n",
    "location_matcher = re.compile('(?<=i\\'m from )[a-z0-9\\, ]+|(?<=i am from )[a-z0-9\\, ]+|(?<=i live in )[a-z0-9\\, ]+')\n",
    "# get self-ID location first because it's harder lol\n",
    "author_self_id_location = []\n",
    "for author_i, data_i in tqdm(location_sample_author_data.groupby('author')):\n",
    "    prior_post_data_i = author_prior_post_data[author_prior_post_data.loc[:, 'author']==author_i]\n",
    "    post_text_i = prior_post_data_i.loc[:, 'body'].values\n",
    "    loc_i, loc_country_i = full_location_pipeline(post_text_i, location_matcher, sent_tokenizer, nlp_pipeline, return_raw_locations=True)\n",
    "    author_self_id_location.append([author_i, loc_i, loc_country_i])\n",
    "author_self_id_location = pd.DataFrame(author_self_id_location, columns=['author', 'self_ID_location_list', 'self_ID_location_country'])"
   ]
  },
  {
   "cell_type": "code",
   "execution_count": 65,
   "id": "2f74e032",
   "metadata": {
    "scrolled": true
   },
   "outputs": [
    {
     "data": {
      "text/html": [
       "<div>\n",
       "<style scoped>\n",
       "    .dataframe tbody tr th:only-of-type {\n",
       "        vertical-align: middle;\n",
       "    }\n",
       "\n",
       "    .dataframe tbody tr th {\n",
       "        vertical-align: top;\n",
       "    }\n",
       "\n",
       "    .dataframe thead th {\n",
       "        text-align: right;\n",
       "    }\n",
       "</style>\n",
       "<table border=\"1\" class=\"dataframe\">\n",
       "  <thead>\n",
       "    <tr style=\"text-align: right;\">\n",
       "      <th></th>\n",
       "      <th>author</th>\n",
       "      <th>self_ID_location_list</th>\n",
       "      <th>self_ID_location_country</th>\n",
       "    </tr>\n",
       "  </thead>\n",
       "  <tbody>\n",
       "    <tr>\n",
       "      <th>0</th>\n",
       "      <td>-Slavsky-</td>\n",
       "      <td>[cali]</td>\n",
       "      <td>co</td>\n",
       "    </tr>\n",
       "    <tr>\n",
       "      <th>8</th>\n",
       "      <td>365Blistering</td>\n",
       "      <td>[us]</td>\n",
       "      <td>us</td>\n",
       "    </tr>\n",
       "    <tr>\n",
       "      <th>17</th>\n",
       "      <td>ATallShip</td>\n",
       "      <td>[minnesota, wisconsin]</td>\n",
       "      <td>us</td>\n",
       "    </tr>\n",
       "    <tr>\n",
       "      <th>22</th>\n",
       "      <td>AdorableStrategy</td>\n",
       "      <td>[nyc]</td>\n",
       "      <td>us</td>\n",
       "    </tr>\n",
       "    <tr>\n",
       "      <th>30</th>\n",
       "      <td>ApoIIoCreed</td>\n",
       "      <td>[denver]</td>\n",
       "      <td>us</td>\n",
       "    </tr>\n",
       "    <tr>\n",
       "      <th>32</th>\n",
       "      <td>Aranore</td>\n",
       "      <td>[canada]</td>\n",
       "      <td>ca</td>\n",
       "    </tr>\n",
       "    <tr>\n",
       "      <th>35</th>\n",
       "      <td>ArizonaRenegade</td>\n",
       "      <td>[arizona, phoenix, phoenix]</td>\n",
       "      <td>us</td>\n",
       "    </tr>\n",
       "    <tr>\n",
       "      <th>38</th>\n",
       "      <td>Ask_Me_About_The_NAP</td>\n",
       "      <td>[ms]</td>\n",
       "      <td>us</td>\n",
       "    </tr>\n",
       "    <tr>\n",
       "      <th>40</th>\n",
       "      <td>AssertiveCollective</td>\n",
       "      <td>[seattle]</td>\n",
       "      <td>us</td>\n",
       "    </tr>\n",
       "    <tr>\n",
       "      <th>41</th>\n",
       "      <td>AtomicLummox</td>\n",
       "      <td>[huntingdon, alconbury]</td>\n",
       "      <td>gb</td>\n",
       "    </tr>\n",
       "    <tr>\n",
       "      <th>44</th>\n",
       "      <td>BBunch-YT2019</td>\n",
       "      <td>[florida]</td>\n",
       "      <td>us</td>\n",
       "    </tr>\n",
       "    <tr>\n",
       "      <th>61</th>\n",
       "      <td>Bmmick</td>\n",
       "      <td>[san antonio]</td>\n",
       "      <td>us</td>\n",
       "    </tr>\n",
       "    <tr>\n",
       "      <th>65</th>\n",
       "      <td>Boopable_Snootable</td>\n",
       "      <td>[philippines]</td>\n",
       "      <td>ph</td>\n",
       "    </tr>\n",
       "    <tr>\n",
       "      <th>73</th>\n",
       "      <td>Brinxter</td>\n",
       "      <td>[netherlands]</td>\n",
       "      <td>nl</td>\n",
       "    </tr>\n",
       "    <tr>\n",
       "      <th>78</th>\n",
       "      <td>CafeConLecheLover</td>\n",
       "      <td>[denver]</td>\n",
       "      <td>us</td>\n",
       "    </tr>\n",
       "    <tr>\n",
       "      <th>80</th>\n",
       "      <td>CakeForBreakfast08</td>\n",
       "      <td>[upstate ny]</td>\n",
       "      <td>us</td>\n",
       "    </tr>\n",
       "    <tr>\n",
       "      <th>82</th>\n",
       "      <td>CallMeMrRound</td>\n",
       "      <td>[florida]</td>\n",
       "      <td>us</td>\n",
       "    </tr>\n",
       "    <tr>\n",
       "      <th>95</th>\n",
       "      <td>Christinith</td>\n",
       "      <td>[korea]</td>\n",
       "      <td>kr</td>\n",
       "    </tr>\n",
       "    <tr>\n",
       "      <th>98</th>\n",
       "      <td>CitizenMillennial</td>\n",
       "      <td>[indiana]</td>\n",
       "      <td>us</td>\n",
       "    </tr>\n",
       "    <tr>\n",
       "      <th>105</th>\n",
       "      <td>Cony777</td>\n",
       "      <td>[britain]</td>\n",
       "      <td>gb</td>\n",
       "    </tr>\n",
       "  </tbody>\n",
       "</table>\n",
       "</div>"
      ],
      "text/plain": [
       "                   author        self_ID_location_list  \\\n",
       "0               -Slavsky-                       [cali]   \n",
       "8           365Blistering                         [us]   \n",
       "17              ATallShip       [minnesota, wisconsin]   \n",
       "22       AdorableStrategy                        [nyc]   \n",
       "30            ApoIIoCreed                     [denver]   \n",
       "32                Aranore                     [canada]   \n",
       "35        ArizonaRenegade  [arizona, phoenix, phoenix]   \n",
       "38   Ask_Me_About_The_NAP                         [ms]   \n",
       "40    AssertiveCollective                    [seattle]   \n",
       "41           AtomicLummox      [huntingdon, alconbury]   \n",
       "44          BBunch-YT2019                    [florida]   \n",
       "61                 Bmmick                [san antonio]   \n",
       "65     Boopable_Snootable                [philippines]   \n",
       "73               Brinxter                [netherlands]   \n",
       "78      CafeConLecheLover                     [denver]   \n",
       "80     CakeForBreakfast08                 [upstate ny]   \n",
       "82          CallMeMrRound                    [florida]   \n",
       "95            Christinith                      [korea]   \n",
       "98      CitizenMillennial                    [indiana]   \n",
       "105               Cony777                    [britain]   \n",
       "\n",
       "    self_ID_location_country  \n",
       "0                         co  \n",
       "8                         us  \n",
       "17                        us  \n",
       "22                        us  \n",
       "30                        us  \n",
       "32                        ca  \n",
       "35                        us  \n",
       "38                        us  \n",
       "40                        us  \n",
       "41                        gb  \n",
       "44                        us  \n",
       "61                        us  \n",
       "65                        ph  \n",
       "73                        nl  \n",
       "78                        us  \n",
       "80                        us  \n",
       "82                        us  \n",
       "95                        kr  \n",
       "98                        us  \n",
       "105                       gb  "
      ]
     },
     "metadata": {},
     "output_type": "display_data"
    },
    {
     "name": "stdout",
     "output_type": "stream",
     "text": [
      "UNK    809\n",
      "us     106\n",
      "ca      19\n",
      "gb      12\n",
      "nl       9\n",
      "de       7\n",
      "au       5\n",
      "fr       5\n",
      "se       3\n",
      "co       3\n",
      "kr       2\n",
      "be       2\n",
      "it       2\n",
      "az       2\n",
      "nz       2\n",
      "dk       1\n",
      "ie       1\n",
      "za       1\n",
      "in       1\n",
      "br       1\n",
      "cu       1\n",
      "sa       1\n",
      "fi       1\n",
      "ph       1\n",
      "es       1\n",
      "bg       1\n",
      "ga       1\n",
      "Name: self_ID_location_country, dtype: int64\n"
     ]
    }
   ],
   "source": [
    "display(author_self_id_location[author_self_id_location.loc[:, 'self_ID_location_country']!='UNK'].head(20))\n",
    "print(author_self_id_location.loc[:, 'self_ID_location_country'].value_counts())"
   ]
  },
  {
   "cell_type": "markdown",
   "id": "3ff537b6",
   "metadata": {},
   "source": [
    "OK! So the locations identified by the `NER` pipeline actually do match the self-declared locations, although the coverage isn't great (~20% total)."
   ]
  },
  {
   "cell_type": "markdown",
   "id": "3b75b230",
   "metadata": {},
   "source": [
    "What about the subreddit locations?"
   ]
  },
  {
   "cell_type": "code",
   "execution_count": 73,
   "id": "ecfd5bb9",
   "metadata": {},
   "outputs": [
    {
     "data": {
      "text/html": [
       "<div>\n",
       "<style scoped>\n",
       "    .dataframe tbody tr th:only-of-type {\n",
       "        vertical-align: middle;\n",
       "    }\n",
       "\n",
       "    .dataframe tbody tr th {\n",
       "        vertical-align: top;\n",
       "    }\n",
       "\n",
       "    .dataframe thead th {\n",
       "        text-align: right;\n",
       "    }\n",
       "</style>\n",
       "<table border=\"1\" class=\"dataframe\">\n",
       "  <thead>\n",
       "    <tr style=\"text-align: right;\">\n",
       "      <th></th>\n",
       "      <th>subreddit</th>\n",
       "      <th>clean_subreddit</th>\n",
       "      <th>location_data</th>\n",
       "      <th>country</th>\n",
       "      <th>country_region</th>\n",
       "      <th>confidence</th>\n",
       "    </tr>\n",
       "  </thead>\n",
       "  <tbody>\n",
       "    <tr>\n",
       "      <th>0</th>\n",
       "      <td>politics</td>\n",
       "      <td>politics</td>\n",
       "      <td>{'type': 'FeatureCollection', 'features': [{'t...</td>\n",
       "      <td>ph</td>\n",
       "      <td>non_US</td>\n",
       "      <td>0.101</td>\n",
       "    </tr>\n",
       "    <tr>\n",
       "      <th>1</th>\n",
       "      <td>Advice</td>\n",
       "      <td>Advice</td>\n",
       "      <td>{'type': 'FeatureCollection', 'features': [{'t...</td>\n",
       "      <td>ar</td>\n",
       "      <td>non_US</td>\n",
       "      <td>0.111</td>\n",
       "    </tr>\n",
       "    <tr>\n",
       "      <th>2</th>\n",
       "      <td>funny</td>\n",
       "      <td>funny</td>\n",
       "      <td>{'type': 'FeatureCollection', 'features': [{'t...</td>\n",
       "      <td>de</td>\n",
       "      <td>non_US</td>\n",
       "      <td>0.101</td>\n",
       "    </tr>\n",
       "    <tr>\n",
       "      <th>3</th>\n",
       "      <td>news</td>\n",
       "      <td>news</td>\n",
       "      <td>{'type': 'FeatureCollection', 'features': [{'t...</td>\n",
       "      <td>ca</td>\n",
       "      <td>non_US</td>\n",
       "      <td>0.300</td>\n",
       "    </tr>\n",
       "    <tr>\n",
       "      <th>4</th>\n",
       "      <td>pics</td>\n",
       "      <td>pics</td>\n",
       "      <td>{'type': 'FeatureCollection', 'features': [{'t...</td>\n",
       "      <td>it</td>\n",
       "      <td>non_US</td>\n",
       "      <td>0.225</td>\n",
       "    </tr>\n",
       "  </tbody>\n",
       "</table>\n",
       "</div>"
      ],
      "text/plain": [
       "  subreddit clean_subreddit  \\\n",
       "0  politics        politics   \n",
       "1    Advice          Advice   \n",
       "2     funny           funny   \n",
       "3      news            news   \n",
       "4      pics            pics   \n",
       "\n",
       "                                       location_data country country_region  \\\n",
       "0  {'type': 'FeatureCollection', 'features': [{'t...      ph         non_US   \n",
       "1  {'type': 'FeatureCollection', 'features': [{'t...      ar         non_US   \n",
       "2  {'type': 'FeatureCollection', 'features': [{'t...      de         non_US   \n",
       "3  {'type': 'FeatureCollection', 'features': [{'t...      ca         non_US   \n",
       "4  {'type': 'FeatureCollection', 'features': [{'t...      it         non_US   \n",
       "\n",
       "   confidence  \n",
       "0       0.101  \n",
       "1       0.111  \n",
       "2       0.101  \n",
       "3       0.300  \n",
       "4       0.225  "
      ]
     },
     "metadata": {},
     "output_type": "display_data"
    }
   ],
   "source": [
    "from ast import literal_eval\n",
    "subreddit_location_data = pd.read_csv('../../data/reddit_data/author_data/subreddit_location_data.gz', sep='\\t', compression='gzip', index_col=False, converters={'location_data' : literal_eval})\n",
    "# filter by confidence FML\n",
    "subreddit_location_data = subreddit_location_data.assign(**{\n",
    "    'confidence' : subreddit_location_data.loc[:, 'location_data'].apply(lambda x: x['features'][0]['properties']['accuracy'])\n",
    "})\n",
    "display(subreddit_location_data.head())"
   ]
  },
  {
   "cell_type": "code",
   "execution_count": 79,
   "id": "9c0c0903",
   "metadata": {},
   "outputs": [
    {
     "data": {
      "text/html": [
       "<div>\n",
       "<style scoped>\n",
       "    .dataframe tbody tr th:only-of-type {\n",
       "        vertical-align: middle;\n",
       "    }\n",
       "\n",
       "    .dataframe tbody tr th {\n",
       "        vertical-align: top;\n",
       "    }\n",
       "\n",
       "    .dataframe thead th {\n",
       "        text-align: right;\n",
       "    }\n",
       "</style>\n",
       "<table border=\"1\" class=\"dataframe\">\n",
       "  <thead>\n",
       "    <tr style=\"text-align: right;\">\n",
       "      <th></th>\n",
       "      <th>subreddit</th>\n",
       "      <th>clean_subreddit</th>\n",
       "      <th>location_data</th>\n",
       "      <th>country</th>\n",
       "      <th>country_region</th>\n",
       "      <th>confidence</th>\n",
       "    </tr>\n",
       "  </thead>\n",
       "  <tbody>\n",
       "    <tr>\n",
       "      <th>56</th>\n",
       "      <td>canada</td>\n",
       "      <td>canada</td>\n",
       "      <td>{'type': 'FeatureCollection', 'features': [{'t...</td>\n",
       "      <td>ca</td>\n",
       "      <td>non_US</td>\n",
       "      <td>0.966126</td>\n",
       "    </tr>\n",
       "    <tr>\n",
       "      <th>69</th>\n",
       "      <td>europe</td>\n",
       "      <td>europe</td>\n",
       "      <td>{'type': 'FeatureCollection', 'features': [{'t...</td>\n",
       "      <td>eur</td>\n",
       "      <td>non_US</td>\n",
       "      <td>0.820707</td>\n",
       "    </tr>\n",
       "    <tr>\n",
       "      <th>79</th>\n",
       "      <td>australia</td>\n",
       "      <td>australia</td>\n",
       "      <td>{'type': 'FeatureCollection', 'features': [{'t...</td>\n",
       "      <td>au</td>\n",
       "      <td>non_US</td>\n",
       "      <td>0.952135</td>\n",
       "    </tr>\n",
       "    <tr>\n",
       "      <th>81</th>\n",
       "      <td>de</td>\n",
       "      <td>de</td>\n",
       "      <td>{'type': 'FeatureCollection', 'features': [{'t...</td>\n",
       "      <td>de</td>\n",
       "      <td>non_US</td>\n",
       "      <td>0.989681</td>\n",
       "    </tr>\n",
       "    <tr>\n",
       "      <th>112</th>\n",
       "      <td>ireland</td>\n",
       "      <td>ireland</td>\n",
       "      <td>{'type': 'FeatureCollection', 'features': [{'t...</td>\n",
       "      <td>ie</td>\n",
       "      <td>non_US</td>\n",
       "      <td>0.873846</td>\n",
       "    </tr>\n",
       "    <tr>\n",
       "      <th>121</th>\n",
       "      <td>nyc</td>\n",
       "      <td>nyc</td>\n",
       "      <td>{'type': 'FeatureCollection', 'features': [{'t...</td>\n",
       "      <td>us</td>\n",
       "      <td>US</td>\n",
       "      <td>0.817577</td>\n",
       "    </tr>\n",
       "    <tr>\n",
       "      <th>124</th>\n",
       "      <td>chicago</td>\n",
       "      <td>chicago</td>\n",
       "      <td>{'type': 'FeatureCollection', 'features': [{'t...</td>\n",
       "      <td>us</td>\n",
       "      <td>US</td>\n",
       "      <td>0.851530</td>\n",
       "    </tr>\n",
       "    <tr>\n",
       "      <th>138</th>\n",
       "      <td>LosAngeles</td>\n",
       "      <td>Los Angeles</td>\n",
       "      <td>{'type': 'FeatureCollection', 'features': [{'t...</td>\n",
       "      <td>us</td>\n",
       "      <td>US</td>\n",
       "      <td>0.973805</td>\n",
       "    </tr>\n",
       "    <tr>\n",
       "      <th>140</th>\n",
       "      <td>SeattleWA</td>\n",
       "      <td>Seattle WA</td>\n",
       "      <td>{'type': 'FeatureCollection', 'features': [{'t...</td>\n",
       "      <td>us</td>\n",
       "      <td>US</td>\n",
       "      <td>0.882979</td>\n",
       "    </tr>\n",
       "    <tr>\n",
       "      <th>150</th>\n",
       "      <td>boston</td>\n",
       "      <td>boston</td>\n",
       "      <td>{'type': 'FeatureCollection', 'features': [{'t...</td>\n",
       "      <td>us</td>\n",
       "      <td>US</td>\n",
       "      <td>0.810251</td>\n",
       "    </tr>\n",
       "  </tbody>\n",
       "</table>\n",
       "</div>"
      ],
      "text/plain": [
       "      subreddit clean_subreddit  \\\n",
       "56       canada          canada   \n",
       "69       europe          europe   \n",
       "79    australia       australia   \n",
       "81           de              de   \n",
       "112     ireland         ireland   \n",
       "121         nyc             nyc   \n",
       "124     chicago         chicago   \n",
       "138  LosAngeles     Los Angeles   \n",
       "140   SeattleWA      Seattle WA   \n",
       "150      boston          boston   \n",
       "\n",
       "                                         location_data country country_region  \\\n",
       "56   {'type': 'FeatureCollection', 'features': [{'t...      ca         non_US   \n",
       "69   {'type': 'FeatureCollection', 'features': [{'t...     eur         non_US   \n",
       "79   {'type': 'FeatureCollection', 'features': [{'t...      au         non_US   \n",
       "81   {'type': 'FeatureCollection', 'features': [{'t...      de         non_US   \n",
       "112  {'type': 'FeatureCollection', 'features': [{'t...      ie         non_US   \n",
       "121  {'type': 'FeatureCollection', 'features': [{'t...      us             US   \n",
       "124  {'type': 'FeatureCollection', 'features': [{'t...      us             US   \n",
       "138  {'type': 'FeatureCollection', 'features': [{'t...      us             US   \n",
       "140  {'type': 'FeatureCollection', 'features': [{'t...      us             US   \n",
       "150  {'type': 'FeatureCollection', 'features': [{'t...      us             US   \n",
       "\n",
       "     confidence  \n",
       "56     0.966126  \n",
       "69     0.820707  \n",
       "79     0.952135  \n",
       "81     0.989681  \n",
       "112    0.873846  \n",
       "121    0.817577  \n",
       "124    0.851530  \n",
       "138    0.973805  \n",
       "140    0.882979  \n",
       "150    0.810251  "
      ]
     },
     "metadata": {},
     "output_type": "display_data"
    }
   ],
   "source": [
    "accuracy_cutoff = 0.80\n",
    "high_accuracy_subreddit_location_data = subreddit_location_data[subreddit_location_data.loc[:, 'confidence']>=accuracy_cutoff]\n",
    "display(high_accuracy_subreddit_location_data.head(10))\n",
    "location_subreddit_names = set(high_accuracy_subreddit_location_data.loc[:, 'subreddit'].unique())"
   ]
  },
  {
   "cell_type": "markdown",
   "id": "6511754a",
   "metadata": {},
   "source": [
    "How often do people post in one of these subreddits, and how often is one subreddit location dominant over others?"
   ]
  },
  {
   "cell_type": "code",
   "execution_count": 102,
   "id": "f1ba6fe4",
   "metadata": {},
   "outputs": [
    {
     "data": {
      "text/html": [
       "<div>\n",
       "<style scoped>\n",
       "    .dataframe tbody tr th:only-of-type {\n",
       "        vertical-align: middle;\n",
       "    }\n",
       "\n",
       "    .dataframe tbody tr th {\n",
       "        vertical-align: top;\n",
       "    }\n",
       "\n",
       "    .dataframe thead th {\n",
       "        text-align: right;\n",
       "    }\n",
       "</style>\n",
       "<table border=\"1\" class=\"dataframe\">\n",
       "  <thead>\n",
       "    <tr style=\"text-align: right;\">\n",
       "      <th></th>\n",
       "      <th>index</th>\n",
       "      <th>count</th>\n",
       "    </tr>\n",
       "  </thead>\n",
       "  <tbody>\n",
       "    <tr>\n",
       "      <th>0</th>\n",
       "      <td>SmaugTheGoldenDragon</td>\n",
       "      <td>100</td>\n",
       "    </tr>\n",
       "    <tr>\n",
       "      <th>1</th>\n",
       "      <td>Bihema</td>\n",
       "      <td>100</td>\n",
       "    </tr>\n",
       "    <tr>\n",
       "      <th>2</th>\n",
       "      <td>ApoIIoCreed</td>\n",
       "      <td>100</td>\n",
       "    </tr>\n",
       "    <tr>\n",
       "      <th>3</th>\n",
       "      <td>Cheesysocks</td>\n",
       "      <td>100</td>\n",
       "    </tr>\n",
       "    <tr>\n",
       "      <th>4</th>\n",
       "      <td>thebenson</td>\n",
       "      <td>100</td>\n",
       "    </tr>\n",
       "    <tr>\n",
       "      <th>...</th>\n",
       "      <td>...</td>\n",
       "      <td>...</td>\n",
       "    </tr>\n",
       "    <tr>\n",
       "      <th>1856</th>\n",
       "      <td>WorldlyCorner</td>\n",
       "      <td>1</td>\n",
       "    </tr>\n",
       "    <tr>\n",
       "      <th>1857</th>\n",
       "      <td>brdycl</td>\n",
       "      <td>1</td>\n",
       "    </tr>\n",
       "    <tr>\n",
       "      <th>1858</th>\n",
       "      <td>StevieBtheKitty</td>\n",
       "      <td>1</td>\n",
       "    </tr>\n",
       "    <tr>\n",
       "      <th>1859</th>\n",
       "      <td>HARLEYRIDER1996</td>\n",
       "      <td>1</td>\n",
       "    </tr>\n",
       "    <tr>\n",
       "      <th>1860</th>\n",
       "      <td>burnermcburnerface2</td>\n",
       "      <td>1</td>\n",
       "    </tr>\n",
       "  </tbody>\n",
       "</table>\n",
       "<p>1861 rows × 2 columns</p>\n",
       "</div>"
      ],
      "text/plain": [
       "                     index  count\n",
       "0     SmaugTheGoldenDragon    100\n",
       "1                   Bihema    100\n",
       "2              ApoIIoCreed    100\n",
       "3              Cheesysocks    100\n",
       "4                thebenson    100\n",
       "...                    ...    ...\n",
       "1856         WorldlyCorner      1\n",
       "1857                brdycl      1\n",
       "1858       StevieBtheKitty      1\n",
       "1859       HARLEYRIDER1996      1\n",
       "1860   burnermcburnerface2      1\n",
       "\n",
       "[1861 rows x 2 columns]"
      ]
     },
     "execution_count": 102,
     "metadata": {},
     "output_type": "execute_result"
    }
   ],
   "source": [
    "author_prior_post_data.loc[:, 'author'].value_counts().reset_index(name='count')"
   ]
  },
  {
   "cell_type": "code",
   "execution_count": 99,
   "id": "ae59b636",
   "metadata": {},
   "outputs": [
    {
     "data": {
      "text/html": [
       "<div>\n",
       "<style scoped>\n",
       "    .dataframe tbody tr th:only-of-type {\n",
       "        vertical-align: middle;\n",
       "    }\n",
       "\n",
       "    .dataframe tbody tr th {\n",
       "        vertical-align: top;\n",
       "    }\n",
       "\n",
       "    .dataframe thead th {\n",
       "        text-align: right;\n",
       "    }\n",
       "</style>\n",
       "<table border=\"1\" class=\"dataframe\">\n",
       "  <thead>\n",
       "    <tr style=\"text-align: right;\">\n",
       "      <th></th>\n",
       "      <th>author</th>\n",
       "      <th>subreddit</th>\n",
       "      <th>subreddit_count</th>\n",
       "    </tr>\n",
       "  </thead>\n",
       "  <tbody>\n",
       "    <tr>\n",
       "      <th>0</th>\n",
       "      <td>477536</td>\n",
       "      <td>Advice</td>\n",
       "      <td>30</td>\n",
       "    </tr>\n",
       "    <tr>\n",
       "      <th>1</th>\n",
       "      <td>477536</td>\n",
       "      <td>fountainpens</td>\n",
       "      <td>11</td>\n",
       "    </tr>\n",
       "    <tr>\n",
       "      <th>2</th>\n",
       "      <td>477536</td>\n",
       "      <td>aww</td>\n",
       "      <td>9</td>\n",
       "    </tr>\n",
       "    <tr>\n",
       "      <th>3</th>\n",
       "      <td>477536</td>\n",
       "      <td>pics</td>\n",
       "      <td>7</td>\n",
       "    </tr>\n",
       "    <tr>\n",
       "      <th>4</th>\n",
       "      <td>477536</td>\n",
       "      <td>Assistance</td>\n",
       "      <td>5</td>\n",
       "    </tr>\n",
       "  </tbody>\n",
       "</table>\n",
       "</div>"
      ],
      "text/plain": [
       "   author     subreddit  subreddit_count\n",
       "0  477536        Advice               30\n",
       "1  477536  fountainpens               11\n",
       "2  477536           aww                9\n",
       "3  477536          pics                7\n",
       "4  477536    Assistance                5"
      ]
     },
     "execution_count": 99,
     "metadata": {},
     "output_type": "execute_result"
    }
   ],
   "source": [
    "author_prior_post_data.groupby('author').apply(lambda x: x.loc[:, 'subreddit'].value_counts()).reset_index().rename(columns={'level_1':'subreddit', 'subreddit' : 'subreddit_count'}).head()"
   ]
  },
  {
   "cell_type": "code",
   "execution_count": 91,
   "id": "0efc0f49",
   "metadata": {
    "scrolled": true
   },
   "outputs": [
    {
     "data": {
      "text/html": [
       "<div>\n",
       "<style scoped>\n",
       "    .dataframe tbody tr th:only-of-type {\n",
       "        vertical-align: middle;\n",
       "    }\n",
       "\n",
       "    .dataframe tbody tr th {\n",
       "        vertical-align: top;\n",
       "    }\n",
       "\n",
       "    .dataframe thead th {\n",
       "        text-align: right;\n",
       "    }\n",
       "</style>\n",
       "<table border=\"1\" class=\"dataframe\">\n",
       "  <thead>\n",
       "    <tr style=\"text-align: right;\">\n",
       "      <th></th>\n",
       "      <th>author</th>\n",
       "      <th>location_subreddit_total</th>\n",
       "      <th>location_subreddit_max_pct</th>\n",
       "      <th>max_location_subreddit</th>\n",
       "    </tr>\n",
       "  </thead>\n",
       "  <tbody>\n",
       "    <tr>\n",
       "      <th>243</th>\n",
       "      <td>Odatas</td>\n",
       "      <td>80</td>\n",
       "      <td>0.962500</td>\n",
       "      <td>de</td>\n",
       "    </tr>\n",
       "    <tr>\n",
       "      <th>118</th>\n",
       "      <td>FruityLexperia</td>\n",
       "      <td>76</td>\n",
       "      <td>1.000000</td>\n",
       "      <td>australia</td>\n",
       "    </tr>\n",
       "    <tr>\n",
       "      <th>725</th>\n",
       "      <td>yosoyelgerman</td>\n",
       "      <td>75</td>\n",
       "      <td>1.000000</td>\n",
       "      <td>uruguay</td>\n",
       "    </tr>\n",
       "    <tr>\n",
       "      <th>179</th>\n",
       "      <td>LANCafeMan</td>\n",
       "      <td>75</td>\n",
       "      <td>0.986667</td>\n",
       "      <td>korea</td>\n",
       "    </tr>\n",
       "    <tr>\n",
       "      <th>592</th>\n",
       "      <td>nynikai</td>\n",
       "      <td>74</td>\n",
       "      <td>1.000000</td>\n",
       "      <td>ireland</td>\n",
       "    </tr>\n",
       "    <tr>\n",
       "      <th>240</th>\n",
       "      <td>NotFallacyBuffet</td>\n",
       "      <td>69</td>\n",
       "      <td>1.000000</td>\n",
       "      <td>NewOrleans</td>\n",
       "    </tr>\n",
       "    <tr>\n",
       "      <th>128</th>\n",
       "      <td>Guinness</td>\n",
       "      <td>66</td>\n",
       "      <td>1.000000</td>\n",
       "      <td>chicago</td>\n",
       "    </tr>\n",
       "    <tr>\n",
       "      <th>576</th>\n",
       "      <td>n1c0_ds</td>\n",
       "      <td>63</td>\n",
       "      <td>0.634921</td>\n",
       "      <td>berlin</td>\n",
       "    </tr>\n",
       "    <tr>\n",
       "      <th>47</th>\n",
       "      <td>Boredbarista</td>\n",
       "      <td>61</td>\n",
       "      <td>1.000000</td>\n",
       "      <td>SeattleWA</td>\n",
       "    </tr>\n",
       "    <tr>\n",
       "      <th>508</th>\n",
       "      <td>im-so-curious</td>\n",
       "      <td>58</td>\n",
       "      <td>1.000000</td>\n",
       "      <td>malaysia</td>\n",
       "    </tr>\n",
       "  </tbody>\n",
       "</table>\n",
       "</div>"
      ],
      "text/plain": [
       "               author  location_subreddit_total  location_subreddit_max_pct  \\\n",
       "243            Odatas                        80                    0.962500   \n",
       "118    FruityLexperia                        76                    1.000000   \n",
       "725     yosoyelgerman                        75                    1.000000   \n",
       "179        LANCafeMan                        75                    0.986667   \n",
       "592           nynikai                        74                    1.000000   \n",
       "240  NotFallacyBuffet                        69                    1.000000   \n",
       "128          Guinness                        66                    1.000000   \n",
       "576           n1c0_ds                        63                    0.634921   \n",
       "47       Boredbarista                        61                    1.000000   \n",
       "508     im-so-curious                        58                    1.000000   \n",
       "\n",
       "    max_location_subreddit  \n",
       "243                     de  \n",
       "118              australia  \n",
       "725                uruguay  \n",
       "179                  korea  \n",
       "592                ireland  \n",
       "240             NewOrleans  \n",
       "128                chicago  \n",
       "576                 berlin  \n",
       "47               SeattleWA  \n",
       "508               malaysia  "
      ]
     },
     "metadata": {},
     "output_type": "display_data"
    },
    {
     "data": {
      "text/html": [
       "<div>\n",
       "<style scoped>\n",
       "    .dataframe tbody tr th:only-of-type {\n",
       "        vertical-align: middle;\n",
       "    }\n",
       "\n",
       "    .dataframe tbody tr th {\n",
       "        vertical-align: top;\n",
       "    }\n",
       "\n",
       "    .dataframe thead th {\n",
       "        text-align: right;\n",
       "    }\n",
       "</style>\n",
       "<table border=\"1\" class=\"dataframe\">\n",
       "  <thead>\n",
       "    <tr style=\"text-align: right;\">\n",
       "      <th></th>\n",
       "      <th>author</th>\n",
       "      <th>location_subreddit_total</th>\n",
       "      <th>location_subreddit_max_pct</th>\n",
       "      <th>max_location_subreddit</th>\n",
       "    </tr>\n",
       "  </thead>\n",
       "  <tbody>\n",
       "    <tr>\n",
       "      <th>331</th>\n",
       "      <td>Throwawaygrowerauto</td>\n",
       "      <td>1</td>\n",
       "      <td>1.0</td>\n",
       "      <td>europe</td>\n",
       "    </tr>\n",
       "    <tr>\n",
       "      <th>347</th>\n",
       "      <td>Whiteguy1x</td>\n",
       "      <td>1</td>\n",
       "      <td>1.0</td>\n",
       "      <td>missouri</td>\n",
       "    </tr>\n",
       "    <tr>\n",
       "      <th>343</th>\n",
       "      <td>WastaSpace</td>\n",
       "      <td>1</td>\n",
       "      <td>1.0</td>\n",
       "      <td>SeattleWA</td>\n",
       "    </tr>\n",
       "    <tr>\n",
       "      <th>341</th>\n",
       "      <td>UrFrickinGirl</td>\n",
       "      <td>1</td>\n",
       "      <td>1.0</td>\n",
       "      <td>europe</td>\n",
       "    </tr>\n",
       "    <tr>\n",
       "      <th>339</th>\n",
       "      <td>UFO-no</td>\n",
       "      <td>1</td>\n",
       "      <td>1.0</td>\n",
       "      <td>chicago</td>\n",
       "    </tr>\n",
       "    <tr>\n",
       "      <th>337</th>\n",
       "      <td>Traveler1983</td>\n",
       "      <td>1</td>\n",
       "      <td>1.0</td>\n",
       "      <td>SeattleWA</td>\n",
       "    </tr>\n",
       "    <tr>\n",
       "      <th>335</th>\n",
       "      <td>TopGinger</td>\n",
       "      <td>1</td>\n",
       "      <td>1.0</td>\n",
       "      <td>europe</td>\n",
       "    </tr>\n",
       "    <tr>\n",
       "      <th>334</th>\n",
       "      <td>ToldHerWhatTimeItWas</td>\n",
       "      <td>1</td>\n",
       "      <td>1.0</td>\n",
       "      <td>Michigan</td>\n",
       "    </tr>\n",
       "    <tr>\n",
       "      <th>332</th>\n",
       "      <td>TigerMeltz</td>\n",
       "      <td>1</td>\n",
       "      <td>1.0</td>\n",
       "      <td>philadelphia</td>\n",
       "    </tr>\n",
       "    <tr>\n",
       "      <th>727</th>\n",
       "      <td>ze_calculator</td>\n",
       "      <td>1</td>\n",
       "      <td>1.0</td>\n",
       "      <td>boston</td>\n",
       "    </tr>\n",
       "  </tbody>\n",
       "</table>\n",
       "</div>"
      ],
      "text/plain": [
       "                   author  location_subreddit_total  \\\n",
       "331   Throwawaygrowerauto                         1   \n",
       "347            Whiteguy1x                         1   \n",
       "343            WastaSpace                         1   \n",
       "341         UrFrickinGirl                         1   \n",
       "339                UFO-no                         1   \n",
       "337          Traveler1983                         1   \n",
       "335             TopGinger                         1   \n",
       "334  ToldHerWhatTimeItWas                         1   \n",
       "332            TigerMeltz                         1   \n",
       "727         ze_calculator                         1   \n",
       "\n",
       "     location_subreddit_max_pct max_location_subreddit  \n",
       "331                         1.0                 europe  \n",
       "347                         1.0               missouri  \n",
       "343                         1.0              SeattleWA  \n",
       "341                         1.0                 europe  \n",
       "339                         1.0                chicago  \n",
       "337                         1.0              SeattleWA  \n",
       "335                         1.0                 europe  \n",
       "334                         1.0               Michigan  \n",
       "332                         1.0           philadelphia  \n",
       "727                         1.0                 boston  "
      ]
     },
     "metadata": {},
     "output_type": "display_data"
    }
   ],
   "source": [
    "author_location_subreddit_data = []\n",
    "for author_i, data_i in location_sample_author_data.groupby('author'):\n",
    "    prior_post_data_i = author_prior_post_data[author_prior_post_data.loc[:, 'author']==author_i]\n",
    "    subreddit_counts_i = prior_post_data_i.loc[:, 'subreddit'].value_counts()\n",
    "    location_subreddits_i = set(subreddit_counts_i.index) & location_subreddit_names\n",
    "    if(len(location_subreddits_i) > 0):\n",
    "        location_subreddit_total_i = subreddit_counts_i.loc[location_subreddits_i].sum()\n",
    "        location_subreddit_max_pct_i = subreddit_counts_i.loc[location_subreddits_i].max() / location_subreddit_total_i\n",
    "        location_subreddit_max_i = subreddit_counts_i.loc[location_subreddits_i].sort_values(inplace=False, ascending=False).index[0]\n",
    "        author_location_subreddit_data.append([author_i, location_subreddit_total_i, location_subreddit_max_pct_i, location_subreddit_max_i])\n",
    "author_location_subreddit_data = pd.DataFrame(author_location_subreddit_data, columns=['author', 'location_subreddit_total', 'location_subreddit_max_pct', 'max_location_subreddit'])\n",
    "author_location_subreddit_data.sort_values('location_subreddit_total', inplace=True, ascending=False)\n",
    "display(author_location_subreddit_data.head(10))\n",
    "display(author_location_subreddit_data.tail(10))"
   ]
  },
  {
   "cell_type": "code",
   "execution_count": 95,
   "id": "555b8a64",
   "metadata": {},
   "outputs": [
    {
     "data": {
      "image/png": "[encoded data removed]",
      "text/plain": [
       "<Figure size 432x288 with 1 Axes>"
      ]
     },
     "metadata": {
      "needs_background": "light"
     },
     "output_type": "display_data"
    },
    {
     "data": {
      "image/png": "[encoded data removed]",
      "text/plain": [
       "<Figure size 432x288 with 1 Axes>"
      ]
     },
     "metadata": {
      "needs_background": "light"
     },
     "output_type": "display_data"
    }
   ],
   "source": [
    "import matplotlib\n",
    "%matplotlib inline\n",
    "import matplotlib.pyplot as plt\n",
    "plt.hist(author_location_subreddit_data.loc[:, 'location_subreddit_total'], bins=20)\n",
    "plt.title('total # posts in location subreddit')\n",
    "plt.show()\n",
    "plt.hist(author_location_subreddit_data.loc[:, 'location_subreddit_max_pct'], bins=20)\n",
    "plt.title('total % posts in max location subreddit')\n",
    "plt.show()"
   ]
  },
  {
   "cell_type": "markdown",
   "id": "f82359f7",
   "metadata": {},
   "source": [
    "Most people post very few times in a location subreddit, but they also tend to post consistently in a single \"dominant\" location subreddit."
   ]
  },
  {
   "cell_type": "markdown",
   "id": "a1fde032",
   "metadata": {},
   "source": [
    "### Test validity in post response time\n",
    "Do readers tend to respond to questions in the same amount of time, i.e. quickly or slowly?"
   ]
  },
  {
   "cell_type": "code",
   "execution_count": 29,
   "id": "b92257f2",
   "metadata": {
    "scrolled": true
   },
   "outputs": [
    {
     "name": "stderr",
     "output_type": "stream",
     "text": [
      "  3%|▎         | 3694/106036 [00:15<07:04, 240.91it/s]"
     ]
    },
    {
     "name": "stdout",
     "output_type": "stream",
     "text": [
      "skipping file ../../data/reddit_data/author_data/OJnToothpaste_comments.gz because error Error tokenizing data. C error: Buffer overflow caught - possible malformed input file.\n",
      "\n"
     ]
    },
    {
     "name": "stderr",
     "output_type": "stream",
     "text": [
      "  8%|▊         | 8390/106036 [00:35<06:27, 251.82it/s]"
     ]
    },
    {
     "name": "stdout",
     "output_type": "stream",
     "text": [
      "skipping file ../../data/reddit_data/author_data/Unicorn211969_comments.gz because error No columns to parse from file\n"
     ]
    },
    {
     "name": "stderr",
     "output_type": "stream",
     "text": [
      " 19%|█▉        | 20460/106036 [01:22<05:16, 270.53it/s]"
     ]
    },
    {
     "name": "stdout",
     "output_type": "stream",
     "text": [
      "skipping file ../../data/reddit_data/author_data/UnihornWhale_comments.gz because error No columns to parse from file\n"
     ]
    },
    {
     "name": "stderr",
     "output_type": "stream",
     "text": [
      " 22%|██▏       | 23077/106036 [01:31<04:54, 282.10it/s]"
     ]
    },
    {
     "name": "stdout",
     "output_type": "stream",
     "text": [
      "skipping file ../../data/reddit_data/author_data/Uninartle_comments.gz because error No columns to parse from file\n"
     ]
    },
    {
     "name": "stderr",
     "output_type": "stream",
     "text": [
      " 25%|██▌       | 26734/106036 [01:44<04:44, 278.98it/s]"
     ]
    },
    {
     "name": "stdout",
     "output_type": "stream",
     "text": [
      "skipping file ../../data/reddit_data/author_data/Unidanks_comments.gz because error No columns to parse from file\n"
     ]
    },
    {
     "name": "stderr",
     "output_type": "stream",
     "text": [
      " 33%|███▎      | 35149/106036 [02:15<04:14, 278.47it/s]"
     ]
    },
    {
     "name": "stdout",
     "output_type": "stream",
     "text": [
      "skipping file ../../data/reddit_data/author_data/Underworld_Denizen_comments.gz because error No columns to parse from file\n"
     ]
    },
    {
     "name": "stderr",
     "output_type": "stream",
     "text": [
      " 49%|████▉     | 52487/106036 [03:18<03:11, 279.35it/s]"
     ]
    },
    {
     "name": "stdout",
     "output_type": "stream",
     "text": [
      "skipping file ../../data/reddit_data/author_data/Underzenith17_comments.gz because error No columns to parse from file\n"
     ]
    },
    {
     "name": "stderr",
     "output_type": "stream",
     "text": [
      " 56%|█████▌    | 58920/106036 [03:41<02:49, 278.06it/s]"
     ]
    },
    {
     "name": "stdout",
     "output_type": "stream",
     "text": [
      "skipping file ../../data/reddit_data/author_data/UnintendedGoldDigger_comments.gz because error No columns to parse from file\n"
     ]
    },
    {
     "name": "stderr",
     "output_type": "stream",
     "text": [
      " 65%|██████▌   | 69073/106036 [04:19<02:13, 277.82it/s]"
     ]
    },
    {
     "name": "stdout",
     "output_type": "stream",
     "text": [
      "skipping file ../../data/reddit_data/author_data/Unicorn-Princess_comments.gz because error No columns to parse from file\n"
     ]
    },
    {
     "name": "stderr",
     "output_type": "stream",
     "text": [
      " 86%|████████▌ | 91374/106036 [05:40<00:52, 280.75it/s]"
     ]
    },
    {
     "name": "stdout",
     "output_type": "stream",
     "text": [
      "skipping file ../../data/reddit_data/author_data/UnibrowStylist_comments.gz because error No columns to parse from file\n"
     ]
    },
    {
     "name": "stderr",
     "output_type": "stream",
     "text": [
      "100%|██████████| 106036/106036 [06:33<00:00, 269.62it/s]\n"
     ]
    }
   ],
   "source": [
    "from data_helpers import load_all_author_data\n",
    "author_data_dir = '../../data/reddit_data/author_data/'\n",
    "complete_author_data = load_all_author_data(author_data_dir)\n",
    "# remove all data without reply delay\n",
    "author_data = complete_author_data.dropna(subset=['reply_delay'], inplace=False)"
   ]
  },
  {
   "cell_type": "code",
   "execution_count": 30,
   "id": "75de6d06",
   "metadata": {},
   "outputs": [],
   "source": [
    "## log-transform\n",
    "import numpy as np\n",
    "author_data = author_data.assign(**{\n",
    "    'log_reply_delay' : np.log(author_data.loc[:, 'reply_delay'])\n",
    "})"
   ]
  },
  {
   "cell_type": "code",
   "execution_count": 31,
   "id": "88739677",
   "metadata": {},
   "outputs": [
    {
     "name": "stdout",
     "output_type": "stream",
     "text": [
      "200948\n"
     ]
    },
    {
     "data": {
      "image/png": "[encoded data removed]",
      "text/plain": [
       "<Figure size 432x288 with 1 Axes>"
      ]
     },
     "metadata": {
      "needs_background": "light"
     },
     "output_type": "display_data"
    }
   ],
   "source": [
    "## plot distribution of reply delay for all authors...yikes\n",
    "import matplotlib\n",
    "%matplotlib inline\n",
    "import matplotlib.pyplot as plt\n",
    "import seaborn as sns\n",
    "print(author_data.shape[0])\n",
    "plt.hist(author_data.loc[:, 'log_reply_delay'], bins=20)\n",
    "plt.xlabel('Log(reply_delay)')\n",
    "plt.show()"
   ]
  },
  {
   "cell_type": "markdown",
   "id": "a8b93a06",
   "metadata": {},
   "source": [
    "Is this skew replicated at the author level?"
   ]
  },
  {
   "cell_type": "code",
   "execution_count": 32,
   "id": "2898f1e4",
   "metadata": {
    "scrolled": true
   },
   "outputs": [
    {
     "data": {
      "image/png": "[encoded data removed]",
      "text/plain": [
       "<Figure size 432x288 with 1 Axes>"
      ]
     },
     "metadata": {
      "needs_background": "light"
     },
     "output_type": "display_data"
    },
    {
     "name": "stdout",
     "output_type": "stream",
     "text": [
      "11.546065638592328% authors are frequent-posters\n"
     ]
    },
    {
     "data": {
      "image/png": "[encoded data removed]",
      "text/plain": [
       "<Figure size 432x288 with 1 Axes>"
      ]
     },
     "metadata": {
      "needs_background": "light"
     },
     "output_type": "display_data"
    },
    {
     "name": "stdout",
     "output_type": "stream",
     "text": [
      "mean per-author reply_delay = 7778.187092541968 sec\n"
     ]
    },
    {
     "data": {
      "image/png": "[encoded data removed]",
      "text/plain": [
       "<Figure size 432x288 with 1 Axes>"
      ]
     },
     "metadata": {
      "needs_background": "light"
     },
     "output_type": "display_data"
    },
    {
     "data": {
      "image/png": "[encoded data removed]",
      "text/plain": [
       "<Figure size 432x288 with 1 Axes>"
      ]
     },
     "metadata": {
      "needs_background": "light"
     },
     "output_type": "display_data"
    }
   ],
   "source": [
    "# normalize var\n",
    "author_data = author_data.assign(**{\n",
    "    'norm_reply_delay' : (author_data.loc[:, 'log_reply_delay'] - author_data.loc[:, 'log_reply_delay'].mean()) / author_data.loc[:, 'log_reply_delay'].std()\n",
    "})\n",
    "# look for post frequency\n",
    "per_author_posts = author_data.loc[:, 'author'].value_counts()\n",
    "plt.hist(np.log(per_author_posts))\n",
    "plt.xlabel('Per-author post replies')\n",
    "plt.show()\n",
    "# limit to frequent authors\n",
    "min_author_post_count = 5\n",
    "freq_authors = per_author_posts[per_author_posts >= min_author_post_count].index.tolist()\n",
    "freq_author_data = author_data[author_data.loc[:, 'author'].isin(freq_authors)]\n",
    "print(f'{freq_author_data.loc[:, \"author\"].nunique() / complete_author_data.loc[:, \"author\"].nunique()*100}% authors are frequent-posters')\n",
    "# mean\n",
    "per_author_delay = freq_author_data.groupby('author').apply(lambda x: x.loc[:, 'log_reply_delay'].mean())\n",
    "plt.hist(per_author_delay)\n",
    "plt.xlabel('Mean per-author reply_delay')\n",
    "plt.show()\n",
    "print(f'mean per-author reply_delay = {np.exp(per_author_delay.mean())} sec')\n",
    "# median\n",
    "per_author_delay = freq_author_data.groupby('author').apply(lambda x: x.loc[:, 'log_reply_delay'].median())\n",
    "plt.hist(per_author_delay)\n",
    "plt.xlabel('Median per-author reply_delay')\n",
    "plt.show()\n",
    "# variance\n",
    "per_author_variance = freq_author_data.groupby('author').apply(lambda x: x.loc[:, 'norm_reply_delay'].std())\n",
    "plt.hist(per_author_variance)\n",
    "plt.xlabel('Variance per-author reply_delay')\n",
    "plt.show()"
   ]
  },
  {
   "cell_type": "markdown",
   "id": "26f08efc",
   "metadata": {},
   "source": [
    "Most authors have either a short delay ($t<e^{9}=8100$ sec $\\sim 2$ hours) or long delay (>2 hours), and most authors have a low variance in delay time."
   ]
  },
  {
   "cell_type": "code",
   "execution_count": 33,
   "id": "ab7f2483",
   "metadata": {},
   "outputs": [
    {
     "data": {
      "image/png": "[encoded data removed]",
      "text/plain": [
       "<Figure size 432x288 with 1 Axes>"
      ]
     },
     "metadata": {
      "needs_background": "light"
     },
     "output_type": "display_data"
    },
    {
     "data": {
      "image/png": "[encoded data removed]",
      "text/plain": [
       "<Figure size 432x288 with 1 Axes>"
      ]
     },
     "metadata": {
      "needs_background": "light"
     },
     "output_type": "display_data"
    },
    {
     "data": {
      "image/png": "[encoded data removed]",
      "text/plain": [
       "<Figure size 432x288 with 1 Axes>"
      ]
     },
     "metadata": {
      "needs_background": "light"
     },
     "output_type": "display_data"
    },
    {
     "data": {
      "image/png": "[encoded data removed]",
      "text/plain": [
       "<Figure size 432x288 with 1 Axes>"
      ]
     },
     "metadata": {
      "needs_background": "light"
     },
     "output_type": "display_data"
    },
    {
     "data": {
      "image/png": "[encoded data removed]",
      "text/plain": [
       "<Figure size 432x288 with 1 Axes>"
      ]
     },
     "metadata": {
      "needs_background": "light"
     },
     "output_type": "display_data"
    },
    {
     "data": {
      "image/png": "[encoded data removed]",
      "text/plain": [
       "<Figure size 432x288 with 1 Axes>"
      ]
     },
     "metadata": {
      "needs_background": "light"
     },
     "output_type": "display_data"
    },
    {
     "data": {
      "image/png": "[encoded data removed]",
      "text/plain": [
       "<Figure size 432x288 with 1 Axes>"
      ]
     },
     "metadata": {
      "needs_background": "light"
     },
     "output_type": "display_data"
    },
    {
     "data": {
      "image/png": "[encoded data removed]",
      "text/plain": [
       "<Figure size 432x288 with 1 Axes>"
      ]
     },
     "metadata": {
      "needs_background": "light"
     },
     "output_type": "display_data"
    },
    {
     "data": {
      "image/png": "[encoded data removed]",
      "text/plain": [
       "<Figure size 432x288 with 1 Axes>"
      ]
     },
     "metadata": {
      "needs_background": "light"
     },
     "output_type": "display_data"
    },
    {
     "data": {
      "image/png": "[encoded data removed]",
      "text/plain": [
       "<Figure size 432x288 with 1 Axes>"
      ]
     },
     "metadata": {
      "needs_background": "light"
     },
     "output_type": "display_data"
    },
    {
     "data": {
      "image/png": "[encoded data removed]",
      "text/plain": [
       "<Figure size 432x288 with 1 Axes>"
      ]
     },
     "metadata": {
      "needs_background": "light"
     },
     "output_type": "display_data"
    },
    {
     "data": {
      "image/png": "[encoded data removed]",
      "text/plain": [
       "<Figure size 432x288 with 1 Axes>"
      ]
     },
     "metadata": {
      "needs_background": "light"
     },
     "output_type": "display_data"
    },
    {
     "data": {
      "image/png": "[encoded data removed]",
      "text/plain": [
       "<Figure size 432x288 with 1 Axes>"
      ]
     },
     "metadata": {
      "needs_background": "light"
     },
     "output_type": "display_data"
    },
    {
     "data": {
      "image/png": "[encoded data removed]",
      "text/plain": [
       "<Figure size 432x288 with 1 Axes>"
      ]
     },
     "metadata": {
      "needs_background": "light"
     },
     "output_type": "display_data"
    },
    {
     "data": {
      "image/png": "[encoded data removed]",
      "text/plain": [
       "<Figure size 432x288 with 1 Axes>"
      ]
     },
     "metadata": {
      "needs_background": "light"
     },
     "output_type": "display_data"
    },
    {
     "data": {
      "image/png": "[encoded data removed]",
      "text/plain": [
       "<Figure size 432x288 with 1 Axes>"
      ]
     },
     "metadata": {
      "needs_background": "light"
     },
     "output_type": "display_data"
    },
    {
     "data": {
      "image/png": "[encoded data removed]",
      "text/plain": [
       "<Figure size 432x288 with 1 Axes>"
      ]
     },
     "metadata": {
      "needs_background": "light"
     },
     "output_type": "display_data"
    },
    {
     "data": {
      "image/png": "[encoded data removed]",
      "text/plain": [
       "<Figure size 432x288 with 1 Axes>"
      ]
     },
     "metadata": {
      "needs_background": "light"
     },
     "output_type": "display_data"
    },
    {
     "data": {
      "image/png": "[encoded data removed]",
      "text/plain": [
       "<Figure size 432x288 with 1 Axes>"
      ]
     },
     "metadata": {
      "needs_background": "light"
     },
     "output_type": "display_data"
    },
    {
     "data": {
      "image/png": "[encoded data removed]",
      "text/plain": [
       "<Figure size 432x288 with 1 Axes>"
      ]
     },
     "metadata": {
      "needs_background": "light"
     },
     "output_type": "display_data"
    }
   ],
   "source": [
    "## let's look at a sample of the reply delay distributions\n",
    "np.random.seed(123)\n",
    "sample_authors = np.random.choice(freq_authors, 20, replace=False)\n",
    "for author_i in sample_authors:\n",
    "    plt.hist(freq_author_data[freq_author_data.loc[:, 'author']==author_i].loc[:, 'log_reply_delay'])\n",
    "    plt.show()"
   ]
  },
  {
   "cell_type": "markdown",
   "id": "2b30c41b",
   "metadata": {},
   "source": [
    "Can we predict whether a post author tends to write comments after a long delay or a short delay, based only on the question that they ask?"
   ]
  },
  {
   "cell_type": "code",
   "execution_count": 37,
   "id": "687f35f9",
   "metadata": {},
   "outputs": [
    {
     "name": "stdout",
     "output_type": "stream",
     "text": [
      "0    5548\n",
      "1    5548\n",
      "Name: time_bin, dtype: int64\n"
     ]
    }
   ],
   "source": [
    "per_author_mean_delay = freq_author_data.groupby('author').apply(lambda x: x.loc[:, 'log_reply_delay'].mean())\n",
    "per_author_mean_delay_cutoff = np.median(per_author_mean_delay)\n",
    "per_author_mean_delay = per_author_mean_delay.reset_index().rename(columns={0 : 'mean_delay'})\n",
    "per_author_mean_delay = per_author_mean_delay.assign(**{'time_bin' : (per_author_mean_delay.loc[:, 'mean_delay'] <= per_author_mean_delay_cutoff).astype(int)})\n",
    "print(per_author_mean_delay.loc[:, 'time_bin'].value_counts())"
   ]
  },
  {
   "cell_type": "code",
   "execution_count": 39,
   "id": "1f47f2ff",
   "metadata": {},
   "outputs": [
    {
     "name": "stdout",
     "output_type": "stream",
     "text": [
      "Advice             4000\n",
      "AmItheAsshole      4000\n",
      "personalfinance    4000\n",
      "legaladvice        4000\n",
      "pcmasterrace       4000\n",
      "Name: subreddit, dtype: int64\n"
     ]
    }
   ],
   "source": [
    "import pandas as pd\n",
    "np.random.seed(123)\n",
    "# post_data = pd.read_csv('../../data/reddit_data/subreddit_submissions_2018-01_2019-12.gz', sep='\\t', compression='gzip', index_col=False, usecols=['id', 'subreddit'])\n",
    "question_data = pd.read_csv('../../data/reddit_data/advice_subreddit_filter_comment_question_data.gz', sep='\\t', index_col=False, compression='gzip', usecols=['id', 'question', 'author', 'subreddit'])\n",
    "question_author_data = pd.merge(question_data, per_author_mean_delay, on=['author'], how='inner')\n",
    "# sample same number of Qs per subreddit, per author group\n",
    "sample_size = 2000\n",
    "sample_question_author_data = []\n",
    "for (subreddit_i, group_i), data_i in question_author_data.groupby(['subreddit', 'time_bin']):\n",
    "    sample_data_i = data_i.loc[np.random.choice(data_i.index, sample_size, replace=(data_i.shape[0] < sample_size)), :]\n",
    "    sample_question_author_data.append(sample_data_i)\n",
    "sample_question_author_data = pd.concat(sample_question_author_data, axis=0)\n",
    "print(sample_question_author_data.loc[:, 'subreddit'].value_counts())"
   ]
  },
  {
   "cell_type": "code",
   "execution_count": 47,
   "id": "18a223b4",
   "metadata": {
    "scrolled": false
   },
   "outputs": [
    {
     "name": "stderr",
     "output_type": "stream",
     "text": [
      "10it [09:11, 55.11s/it]\n"
     ]
    }
   ],
   "source": [
    "## convert to DTM, predict\n",
    "from sklearn.feature_extraction.text import CountVectorizer\n",
    "from sklearn.model_selection import StratifiedKFold\n",
    "from sklearn.ensemble import RandomForestClassifier\n",
    "from nltk.tokenize import WordPunctTokenizer\n",
    "from tqdm import tqdm\n",
    "np.random.seed(123)\n",
    "word_tokenizer = WordPunctTokenizer()\n",
    "cv = CountVectorizer(min_df=0.00001, max_df=0.5, tokenizer=word_tokenizer.tokenize, lowercase=True)\n",
    "dtm = cv.fit_transform(sample_question_author_data.loc[:, 'question'].values)\n",
    "class_labels = sample_question_author_data.loc[:, 'time_bin'].values\n",
    "k_fold = StratifiedKFold(n_splits=10)\n",
    "acc_scores = []\n",
    "for train_i, test_i in tqdm(k_fold.split(dtm, class_labels)):\n",
    "    X_train_i, X_test_i = dtm[train_i, :], dtm[test_i, :]\n",
    "    Y_train_i, Y_test_i = class_labels[train_i], class_labels[test_i]\n",
    "    model = RandomForestClassifier(n_estimators=100, random_state=123)\n",
    "    model.fit(X_train_i, Y_train_i)\n",
    "    Y_pred_i = model.predict(X_test_i)\n",
    "    acc_i = (Y_test_i==Y_pred_i).sum() / len(Y_test_i)\n",
    "    acc_scores.append(acc_i)"
   ]
  },
  {
   "cell_type": "code",
   "execution_count": 49,
   "id": "375a4834",
   "metadata": {},
   "outputs": [
    {
     "name": "stdout",
     "output_type": "stream",
     "text": [
      "[0.5125, 0.508, 0.5235, 0.506, 0.528, 0.535, 0.6795, 0.677, 0.519, 0.5305]\n",
      "0.5519000000000001 0.06381371325976887\n"
     ]
    }
   ],
   "source": [
    "print(acc_scores)\n",
    "print(np.mean(acc_scores), np.std(acc_scores))"
   ]
  },
  {
   "cell_type": "markdown",
   "id": "cda2c979",
   "metadata": {},
   "source": [
    "Add post text, convert to sentence encoding, train/test with MLP."
   ]
  },
  {
   "cell_type": "code",
   "execution_count": null,
   "id": "6b3846fc",
   "metadata": {},
   "outputs": [],
   "source": []
  }
 ],
 "metadata": {
  "kernelspec": {
   "display_name": "Python [conda env:py3] *",
   "language": "python",
   "name": "conda-env-py3-py"
  },
  "language_info": {
   "codemirror_mode": {
    "name": "ipython",
    "version": 3
   },
   "file_extension": ".py",
   "mimetype": "text/x-python",
   "name": "python",
   "nbconvert_exporter": "python",
   "pygments_lexer": "ipython3",
   "version": "3.8.5"
  }
 },
 "nbformat": 4,
 "nbformat_minor": 5
}
