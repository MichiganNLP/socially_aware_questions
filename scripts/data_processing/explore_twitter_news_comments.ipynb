{
 "cells": [
  {
   "cell_type": "markdown",
   "metadata": {},
   "source": [
    "# Explore Twitter news comments\n",
    "Let's look at the comments on news articles posted on Twitter to determine how representative they are of different audiences."
   ]
  },
  {
   "cell_type": "code",
   "execution_count": 4,
   "metadata": {},
   "outputs": [],
   "source": [
    "import pandas as pd\n",
    "auth_data = pd.read_csv('../../data/auth_data/twitter_auth.csv', sep=',', index_col=False).iloc[0, :]"
   ]
  },
  {
   "cell_type": "code",
   "execution_count": 6,
   "metadata": {},
   "outputs": [],
   "source": [
    "import twitter\n",
    "twitter_api = twitter.Api(consumer_key=auth_data.loc['consumer_api_key'],\n",
    "                          consumer_secret=auth_data.loc['consumer_api_key_secret'],\n",
    "                          access_token_key=auth_data.loc['auth_access_token'],\n",
    "                          access_token_secret=auth_data.loc['auth_access_token_secret'])"
   ]
  },
  {
   "cell_type": "code",
   "execution_count": 12,
   "metadata": {
    "scrolled": true
   },
   "outputs": [
    {
     "name": "stdout",
     "output_type": "stream",
     "text": [
      "[Status(ID=1358850596200136706, ScreenName=nytimes, Created=Mon Feb 08 18:50:03 +0000 2021, Text='The discovery of a mysterious metal slab in Turkey was a throwback to November, when a shiny monolith appeared in t… https://t.co/nJRrRJjFNZ'), Status(ID=1358849355030142977, ScreenName=nytimes, Created=Mon Feb 08 18:45:07 +0000 2021, Text='Dogecoin, a digital currency created as a joke, is now the world’s 10th largest cryptocurrency. Its price is up by… https://t.co/eKc609Dqpd'), Status(ID=1358848086748053505, ScreenName=nytimes, Created=Mon Feb 08 18:40:04 +0000 2021, Text='Three climbers who set out to scale the summit of K2, the world’s second-tallest mountain, have been missing since… https://t.co/liVhNrIzt1'), Status(ID=1358847932854919168, ScreenName=nytimes, Created=Mon Feb 08 18:39:28 +0000 2021, Text='Rescue efforts were underway on Monday in Uttarakhand, where a Himalayan glacier broke and caused massive flooding.… https://t.co/eWFl2c9SB1'), Status(ID=1358846839076839426, ScreenName=nytimes, Created=Mon Feb 08 18:35:07 +0000 2021, Text='RT @llerer: NEWS: Ilyse Hogue, the head of NARAL and a prominent abortion rights advocate, is stepping down from her position in March. htt…'), Status(ID=1358845579267309574, ScreenName=nytimes, Created=Mon Feb 08 18:30:06 +0000 2021, Text='RT @TimHerrera: “What do you want to be when you grow up?”\\n\\nFrom the moment we’re asked, our identity becomes tied to the thing we do to ma…'), Status(ID=1358844512781676546, ScreenName=nytimes, Created=Mon Feb 08 18:25:52 +0000 2021, Text='Facebook said that it plans to remove posts with false vaccine claims. Instead of targeting only misinformation aro… https://t.co/gCgoMkgcce'), Status(ID=1358843064698216448, ScreenName=nytimes, Created=Mon Feb 08 18:20:07 +0000 2021, Text='A Georgia clinic that started vaccinating teachers before they officially became eligible has had its supply cut of… https://t.co/OGkYWGiNBt'), Status(ID=1358840529862221830, ScreenName=nytimes, Created=Mon Feb 08 18:10:03 +0000 2021, Text='Representative Ron Wright, Republican of Texas, who had been battling Covid-19 and was also being treated for cance… https://t.co/mdRxLY9fdL'), Status(ID=1358839790649700352, ScreenName=nytimes, Created=Mon Feb 08 18:07:06 +0000 2021, Text='RT @DLeonhardt: One reason the U.S. economy has struggled since 2000 is that policymakers have often been influenced by overly optimistic f…'), Status(ID=1358838050999132170, ScreenName=nytimes, Created=Mon Feb 08 18:00:12 +0000 2021, Text='Bigger, richer European Union countries like Germany and France have seen their coronavirus vaccine rollout delayed… https://t.co/ltWGzcSbCI'), Status(ID=1358835501034274817, ScreenName=nytimes, Created=Mon Feb 08 17:50:04 +0000 2021, Text='Senator Richard Shelby, 86, a Republican of Alabama who had switched from the Democratic Party in 1994, said he wou… https://t.co/nmbqrJCWBN'), Status(ID=1358832985890578434, ScreenName=nytimes, Created=Mon Feb 08 17:40:04 +0000 2021, Text='The share of energy generated from coal has dropped more sharply during the pandemic than that of any other power s… https://t.co/8XLaJcFi4i'), Status(ID=1358830516322131969, ScreenName=nytimes, Created=Mon Feb 08 17:30:15 +0000 2021, Text='In Opinion\\n\\n“Disinformation about the coronavirus and vaccines has pervaded social media, feeding on long-held and… https://t.co/Bc2On7hlzO'), Status(ID=1358829216926728192, ScreenName=nytimes, Created=Mon Feb 08 17:25:05 +0000 2021, Text='Restaurants in New York City can again begin serving customers indoors on Friday, two days earlier than previously… https://t.co/kZOKcWDhJJ'), Status(ID=1358827974989148163, ScreenName=nytimes, Created=Mon Feb 08 17:20:09 +0000 2021, Text='John Fetterman — Pennsylvania’s immediately recognizable lieutenant governor — announced on Monday that he is runni… https://t.co/dM34DTSTHh'), Status(ID=1358825451108581376, ScreenName=nytimes, Created=Mon Feb 08 17:10:07 +0000 2021, Text='Clubhouse, a social media app, briefly gave people in China a space to discuss contentious topics, free from the us… https://t.co/D3SU8B2dd1'), Status(ID=1358822950452023297, ScreenName=nytimes, Created=Mon Feb 08 17:00:11 +0000 2021, Text='Our congressional correspondent @npfandos will begin covering his second presidential impeachment trial on Tuesday.… https://t.co/keUsxJDgtt'), Status(ID=1358822928964612096, ScreenName=nytimes, Created=Mon Feb 08 17:00:06 +0000 2021, Text=\"Today's Great Read:\\n\\nIt was early summer when the environment reporter Zoë Schlanger began growing blue oyster mush… https://t.co/Rnt8NbMz7x\"), Status(ID=1358821506374066179, ScreenName=nytimes, Created=Mon Feb 08 16:54:27 +0000 2021, Text='Read the 78-page brief filed by Donald Trump’s lawyers. It argues that the former president deserved no blame for t… https://t.co/Qrqd3i9BBj')]\n"
     ]
    }
   ],
   "source": [
    "test_twitter_account = 'nytimes'\n",
    "test_twitter_timeline = twitter_api.GetUserTimeline(screen_name=test_twitter_account)\n",
    "print(test_twitter_timeline)"
   ]
  },
  {
   "cell_type": "markdown",
   "metadata": {},
   "source": [
    "How do we restrict to posts within a specific time frame?"
   ]
  },
  {
   "cell_type": "code",
   "execution_count": 13,
   "metadata": {},
   "outputs": [
    {
     "name": "stdout",
     "output_type": "stream",
     "text": [
      "Help on method GetSearch in module twitter.api:\n",
      "\n",
      "GetSearch(term=None, raw_query=None, geocode=None, since_id=None, max_id=None, until=None, since=None, count=15, lang=None, locale=None, result_type='mixed', include_entities=None, return_json=False) method of twitter.api.Api instance\n",
      "    Return twitter search results for a given term. You must specify one\n",
      "    of term, geocode, or raw_query.\n",
      "    \n",
      "    Args:\n",
      "      term (str, optional):\n",
      "        Term to search by. Optional if you include geocode.\n",
      "      raw_query (str, optional):\n",
      "        A raw query as a string. This should be everything after the \"?\" in\n",
      "        the URL (i.e., the query parameters). You are responsible for all\n",
      "        type checking and ensuring that the query string is properly\n",
      "        formatted, as it will only be URL-encoded before be passed directly\n",
      "        to Twitter with no other checks performed. For advanced usage only.\n",
      "        *This will override any other parameters passed*\n",
      "      since_id (int, optional):\n",
      "        Returns results with an ID greater than (that is, more recent\n",
      "        than) the specified ID. There are limits to the number of\n",
      "        Tweets which can be accessed through the API. If the limit of\n",
      "        Tweets has occurred since the since_id, the since_id will be\n",
      "        forced to the oldest ID available.\n",
      "      max_id (int, optional):\n",
      "        Returns only statuses with an ID less than (that is, older\n",
      "        than) or equal to the specified ID.\n",
      "      until (str, optional):\n",
      "        Returns tweets generated before the given date. Date should be\n",
      "        formatted as YYYY-MM-DD.\n",
      "      since (str, optional):\n",
      "        Returns tweets generated since the given date. Date should be\n",
      "        formatted as YYYY-MM-DD.\n",
      "      geocode (str or list or tuple, optional):\n",
      "        Geolocation within which to search for tweets. Can be either a\n",
      "        string in the form of \"latitude,longitude,radius\" where latitude\n",
      "        and longitude are floats and radius is a string such as \"1mi\" or\n",
      "        \"1km\" (\"mi\" or \"km\" are the only units allowed). For example:\n",
      "          >>> api.GetSearch(geocode=\"37.781157,-122.398720,1mi\").\n",
      "        Otherwise, you can pass a list of either floats or strings for\n",
      "        lat/long and a string for radius:\n",
      "          >>> api.GetSearch(geocode=[37.781157, -122.398720, \"1mi\"])\n",
      "          >>> # or:\n",
      "          >>> api.GetSearch(geocode=(37.781157, -122.398720, \"1mi\"))\n",
      "          >>> # or:\n",
      "          >>> api.GetSearch(geocode=(\"37.781157\", \"-122.398720\", \"1mi\"))\n",
      "      count (int, optional):\n",
      "        Number of results to return.  Default is 15 and maxmimum that\n",
      "        Twitter returns is 100 irrespective of what you type in.\n",
      "      lang (str, optional):\n",
      "        Language for results as ISO 639-1 code.  Default is None\n",
      "        (all languages).\n",
      "      locale (str, optional):\n",
      "        Language of the search query. Currently only 'ja' is effective.\n",
      "        This is intended for language-specific consumers and the default\n",
      "        should work in the majority of cases.\n",
      "      result_type (str, optional):\n",
      "        Type of result which should be returned. Default is \"mixed\".\n",
      "        Valid options are \"mixed, \"recent\", and \"popular\".\n",
      "      include_entities (bool, optional):\n",
      "        If True, each tweet will include a node called \"entities\".\n",
      "        This node offers a variety of metadata about the tweet in a\n",
      "        discrete structure, including: user_mentions, urls, and\n",
      "        hashtags.\n",
      "      return_json (bool, optional):\n",
      "        If True JSON data will be returned, instead of twitter.Userret\n",
      "    Returns:\n",
      "      list: A sequence of twitter.Status instances, one for each message\n",
      "      containing the term, within the bounds of the geocoded area, or\n",
      "      given by the raw_query.\n",
      "\n"
     ]
    }
   ],
   "source": [
    "help(twitter_api.GetSearch)\n",
    "from datetime import datetime\n",
    "test_raw_query = f'?q=(from@{test_twitter_account})'\n",
    "start_date = (2018, 4, 1)\n",
    "end_date = (2018, 5, 1)\n",
    "start_time = "
   ]
  },
  {
   "cell_type": "code",
   "execution_count": null,
   "metadata": {},
   "outputs": [],
   "source": []
  }
 ],
 "metadata": {
  "kernelspec": {
   "display_name": "Python [conda env:py3] *",
   "language": "python",
   "name": "conda-env-py3-py"
  },
  "language_info": {
   "codemirror_mode": {
    "name": "ipython",
    "version": 3
   },
   "file_extension": ".py",
   "mimetype": "text/x-python",
   "name": "python",
   "nbconvert_exporter": "python",
   "pygments_lexer": "ipython3",
   "version": "3.8.5"
  }
 },
 "nbformat": 4,
 "nbformat_minor": 4
}
