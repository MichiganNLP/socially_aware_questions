{
 "cells": [
  {
   "cell_type": "markdown",
   "metadata": {},
   "source": [
    "# Explore Reddit news comments\n",
    "We have seen that the NYT data has a reasonable number of useful questions, but a limited number of articles.\n",
    "\n",
    "Let's look at the comments posted on articles in `r/news`, a relatively active and (somewhat) moderated community. We might not be able to get all the articles but by restricting to open-access articles where people are (more) likely to actually read it, then we might be able to get a better distribution of training data."
   ]
  },
  {
   "cell_type": "code",
   "execution_count": 1,
   "metadata": {},
   "outputs": [
    {
     "name": "stderr",
     "output_type": "stream",
     "text": [
      "Version 7.1.2 of praw is outdated. Version 7.1.3 was released 10 hours ago.\n"
     ]
    }
   ],
   "source": [
    "from praw import Reddit\n",
    "# client info from https://www.reddit.com/prefs/apps\n",
    "client_id = '9SCiZpAKCyfaTQ'\n",
    "client_secret = 'hQ2tGoUqpCizqJf2hNv0uP8cADw'\n",
    "user_agent = 'user_agent_123'\n",
    "reddit_api = Reddit(\n",
    "    client_id=client_id,\n",
    "    client_secret=client_secret,\n",
    "    user_agent=user_agent,\n",
    "    check_for_async=False,\n",
    ")"
   ]
  },
  {
   "cell_type": "code",
   "execution_count": 2,
   "metadata": {
    "scrolled": true
   },
   "outputs": [
    {
     "name": "stdout",
     "output_type": "stream",
     "text": [
      "Modi’s Response to Farmer Protests in India Stirs Fears of a Pattern\n",
      "0 comments\n",
      "Kansas City Chiefs coach Britt Reid under investigation following car crash that left child with life-threatening injuries\n",
      "0 comments\n",
      "Woman, 95, Indicted on 10,000 Counts of Accessory to Murder in Nazi Camp\n",
      "3 comments\n",
      "Arrest in Thailand of second drug kingpin tightens dragnet on huge syndicate\n",
      "0 comments\n",
      "Sweeping new rules bring national security law into Hong Kong classrooms\n",
      "0 comments\n",
      "India restores 4G mobile internet in Kashmir after 550 days\n",
      "1 comments\n",
      "Woman, 95, Indicted on 10,000 Counts of Accessory to Murder in Nazi Camp\n",
      "8 comments\n",
      "2 children killed, 1 child injured in Ohio shooting\n",
      "0 comments\n",
      "California can't totally ban indoor worship, Supreme Court says\n",
      "2 comments\n",
      "Canada to Officially Open Door to Young Hong Kongers Next Week\n",
      "2 comments\n",
      "US to revoke terrorist designation of Houthis citing famine\n",
      "0 comments\n",
      "21 Savage rewarded biggest songwriter for 2020\n",
      "2 comments\n",
      "A new chameleon species may be the world’s tiniest reptile\n",
      "1 comments\n",
      "Myanmar coup: Military leaders block Twitter and Instagram\n",
      "2 comments\n",
      "Fox cancels Lou Dobbs' weekday show on Fox Business Network\n",
      "3 comments\n",
      "Two Journalists Exit New York Times After Criticism of Past Behavior\n",
      "3 comments\n",
      "The Secret History of the Shadow Campaign That Saved the 2020 Election\n",
      "6 comments\n",
      "Moscow Government Uses Face Recognition to Arrest Protesters From the Recent Rallies\n",
      "4 comments\n",
      "Man spends seven days stranded after his GPS directed him to an unplowed mountain pass\n",
      "10 comments\n",
      "Fox News Media cancels highly rated 'Lou Dobbs Tonight'\n",
      "30 comments\n"
     ]
    }
   ],
   "source": [
    "sub_name = 'news'\n",
    "for submission in reddit_api.subreddit(sub_name).new(limit=20):\n",
    "    print(submission.title)\n",
    "    print(f'{len(list(submission.comments))} comments')"
   ]
  },
  {
   "cell_type": "markdown",
   "metadata": {},
   "source": [
    "Let's collect 1 month of submissions and their comments, to start.\n",
    "\n",
    "We need help from PushShift ([here](https://github.com/dmarx/psaw)) to make the time range query work."
   ]
  },
  {
   "cell_type": "code",
   "execution_count": 3,
   "metadata": {
    "scrolled": true
   },
   "outputs": [
    {
     "name": "stdout",
     "output_type": "stream",
     "text": [
      "0 submissions processed\n",
      "100 submissions processed\n",
      "200 submissions processed\n",
      "300 submissions processed\n",
      "400 submissions processed\n",
      "500 submissions processed\n",
      "600 submissions processed\n",
      "700 submissions processed\n",
      "800 submissions processed\n"
     ]
    }
   ],
   "source": [
    "from praw import Reddit\n",
    "from psaw import PushshiftAPI\n",
    "from datetime import datetime\n",
    "\n",
    "client_id = '9SCiZpAKCyfaTQ'\n",
    "client_secret = 'hQ2tGoUqpCizqJf2hNv0uP8cADw'\n",
    "user_agent = 'user_agent_123'\n",
    "reddit_api = Reddit(\n",
    "    client_id=client_id,\n",
    "    client_secret=client_secret,\n",
    "    user_agent=user_agent,\n",
    "    check_for_async=False,\n",
    ")\n",
    "\n",
    "pushshift_reddit_api = PushshiftAPI(reddit_api)\n",
    "start_date = (2018, 4, 1)\n",
    "end_date = (2018, 4, 2)\n",
    "start_time = int(datetime(*start_date).timestamp())\n",
    "end_time = int(datetime(*end_date).timestamp())\n",
    "subreddit_name = 'news'\n",
    "submissions = pushshift_reddit_api.search_submissions(\n",
    "    after=start_time,\n",
    "    before=end_time, \n",
    "    subreddit=subreddit_name,\n",
    "#     filter=['url', 'author', 'title', 'subreddit', 'comments'],\n",
    ")\n",
    "from tqdm import tqdm\n",
    "retrieved_submissions = []\n",
    "for i, submission_i in enumerate(submissions):\n",
    "    retrieved_submissions.append(submission_i)\n",
    "    if(i % 100 == 0):\n",
    "        print(f'{i} submissions processed')"
   ]
  },
  {
   "cell_type": "code",
   "execution_count": 4,
   "metadata": {
    "scrolled": true
   },
   "outputs": [
    {
     "name": "stdout",
     "output_type": "stream",
     "text": [
      "[Comment(id='dwo5e9a')]\n"
     ]
    }
   ],
   "source": [
    "for submission_i in retrieved_submissions:\n",
    "    comments_i = list(submission_i.comments)\n",
    "    if(len(comments_i) > 0):\n",
    "        print(comments_i)\n",
    "        break"
   ]
  },
  {
   "cell_type": "code",
   "execution_count": 5,
   "metadata": {},
   "outputs": [
    {
     "name": "stdout",
     "output_type": "stream",
     "text": [
      "processed 0 submissions\n",
      "processed 100 submissions\n",
      "processed 200 submissions\n",
      "processed 300 submissions\n",
      "processed 400 submissions\n",
      "processed 500 submissions\n",
      "processed 600 submissions\n",
      "processed 700 submissions\n",
      "processed 800 submissions\n"
     ]
    }
   ],
   "source": [
    "import pandas as pd\n",
    "from praw.models.reddit.more import MoreComments\n",
    "comment_data = []\n",
    "for i, submission_i in enumerate(retrieved_submissions):\n",
    "    id_i = submission_i.id\n",
    "    title_i = submission_i.title\n",
    "    url_i = submission_i.url\n",
    "    upvote_i = submission_i.ups\n",
    "    ratio_i = submission_i.upvote_ratio\n",
    "    comments_i = list(submission_i.comments)\n",
    "    for comment_j in comments_i:\n",
    "        # add extra comments if needed\n",
    "        if(type(comment_j) is MoreComments):\n",
    "            extra_comments_i = comment_j.comments()\n",
    "            comments_i.extend(extra_comments_i)\n",
    "        else:\n",
    "            comment_id_j = comment_j.id\n",
    "            comment_text_j = comment_j.body\n",
    "            comment_upvote_j = comment_j.ups\n",
    "            comment_author_j = comment_j.author\n",
    "            comment_author_name_j = ''\n",
    "            if(comment_author_j is not None):\n",
    "                comment_author_name_j = comment_author_j.name\n",
    "            comment_data_j = pd.Series(\n",
    "                [id_i, title_i, url_i, upvote_i, ratio_i, comment_id_j, comment_text_j, comment_upvote_j, comment_author_name_j],\n",
    "                index=['submission_ID', 'submission_title', 'submission_URL', 'submission_upvotes',\n",
    "                       'submission_upvote_ratio', 'comment_ID', 'comment_text', 'comment_upvotes', 'comment_author']\n",
    "            )\n",
    "            comment_data.append(comment_data_j)\n",
    "    if(i % 100 == 0):\n",
    "        print(f'processed {i} submissions')\n",
    "comment_data = pd.concat(comment_data, axis=1).transpose()"
   ]
  },
  {
   "cell_type": "code",
   "execution_count": 6,
   "metadata": {},
   "outputs": [],
   "source": [
    "## collect questions\n",
    "from data_helpers import extract_questions\n",
    "from nltk.tokenize import WordPunctTokenizer, PunktSentenceTokenizer\n",
    "import re\n",
    "word_tokenizer = WordPunctTokenizer()\n",
    "sent_tokenizer = PunktSentenceTokenizer()\n",
    "question_matcher = re.compile('.+[a-zA-Z0-9]\\?$')\n",
    "assert question_matcher.match('is this a question?')\n",
    "min_question_len = 5\n",
    "comment_data = comment_data.assign(**{\n",
    "    'comment_questions' : comment_data.loc[:, 'comment_text'].apply(lambda x: extract_questions(x, word_tokenizer, sent_tokenizer, question_matcher, min_question_len=min_question_len))\n",
    "})"
   ]
  },
  {
   "cell_type": "code",
   "execution_count": 7,
   "metadata": {
    "scrolled": true
   },
   "outputs": [
    {
     "name": "stdout",
     "output_type": "stream",
     "text": [
      "['As opposed to regular Egyptian?', 'are you allowed to take diatomaceous earth on planes?', 'Whose plane did that passenger then go sit in?', 'Who were their seatmates?', \"right beside this passenger's?\", 'Anyone have any experience with it?', 'Out of curiosity has anyone tried putting their infested cloths/luggage in a airtight big ziplock or trash bag with dry ice (co2) and suffocate the bastards?', 'So, seat bugs?', \"Didn't we almost have them extinct?\", 'What the hell happened?']\n"
     ]
    }
   ],
   "source": [
    "flat_questions = [y for x in comment_data.loc[:, 'comment_questions'].values for y in x]\n",
    "print(flat_questions[:10])"
   ]
  },
  {
   "cell_type": "markdown",
   "metadata": {},
   "source": [
    "What is the distribution of questions per article?"
   ]
  },
  {
   "cell_type": "code",
   "execution_count": 8,
   "metadata": {},
   "outputs": [
    {
     "data": {
      "image/png": "[encoded data removed]",
      "text/plain": [
       "<Figure size 432x288 with 1 Axes>"
      ]
     },
     "metadata": {
      "needs_background": "light"
     },
     "output_type": "display_data"
    }
   ],
   "source": [
    "import matplotlib\n",
    "%matplotlib inline\n",
    "import matplotlib.pyplot as plt\n",
    "import numpy as np\n",
    "submission_total_question_counts = comment_data.groupby('submission_ID').apply(lambda x: len([z for y in x.loc[:, 'comment_questions'] for z in y]))\n",
    "# log-scale\n",
    "submission_total_question_counts = np.log(submission_total_question_counts + 0.001)\n",
    "plt.hist(submission_total_question_counts, bins=20)\n",
    "# plt.yscale('log')\n",
    "plt.show()"
   ]
  },
  {
   "cell_type": "markdown",
   "metadata": {},
   "source": [
    "Most articles have 0 questions, but a considerable chunk have 1-10 questions."
   ]
  },
  {
   "cell_type": "markdown",
   "metadata": {},
   "source": [
    "Out of a sample of articles, how many questions are (1) clarification and (2) likely answerable in the article?"
   ]
  },
  {
   "cell_type": "code",
   "execution_count": 9,
   "metadata": {
    "scrolled": true
   },
   "outputs": [
    {
     "name": "stdout",
     "output_type": "stream",
     "text": [
      "submission title Video Shows Sacramento Sheriff’s Vehicle Striking Protester\n",
      "\tquestion 0: Sir, do you know why I had to stop you?\n",
      "\tquestion 1: Don't walk in front of a moving vehicle, or is this protester exempt from common sense?\n",
      "\tquestion 2: Was anyone here actually able to view the video, and if so - did it look like an accident or intentional?\n",
      "\tquestion 3: Why are they protesting?\n",
      "\tquestion 4: I wonder if it would be an adequate response to say you fled from striking a police officer with your car to avoid a confrontation with police?\n",
      "submission title Inspector General reveals DoD can't verify where $3.1 billion was spent in Afghanistan\n",
      "\tquestion 0: Can we appreciate a moment that some of that money, per the article, was earmarked to train Afghan personnel to better account for spending?\n",
      "\tquestion 1: Is it just me or is there a similar headline popping up every few years?\n",
      "\tquestion 2: This isn't a direct assault on anyone in particular, but I'm getting sick of articles about corruption coming out and the top comment is something to the effect of, \"You know what the sad part is?\n",
      "\tquestion 3: Only $3.1B?\n",
      "\tquestion 4: Or hammers or something?\n",
      "submission title Teenager left severely disabled after being dared to eat a garden slug opens up his world to viewers\n",
      "\tquestion 0: So is this how the snail kills that guy with the million dollars?\n",
      "\tquestion 1: What kind of shit were they smoking?\n",
      "\tquestion 2: So don't eat slugs you find crawling around?\n",
      "\tquestion 3: Is-is this April fool's?\n",
      "\tquestion 4: But on a side note, does no one proof read these articles?\n",
      "submission title Pope Francis says 'defenseless' being killed in Holy Land after Gaza bloodshed\n",
      "\tquestion 0: This wall has cameras all over it and is monitored at all times by the idf;  is there video of this event showing the protesters storming the position or is this just a talking point to justify the idf  action?\n",
      "\tquestion 1: The same pope that signed a corrupt bargain with China and abandoned Chinese Catholics?\n",
      "\tquestion 2: Last time a pope said the Catholics should do something it went really well... Crusades anyone?\n",
      "\tquestion 3: Does the pope actually have any relevance to anything at all?\n",
      "\tquestion 4: When did the Isrealites turn into the nazis?\n",
      "submission title London Murder Rate Overtakes New York for First Time Ever after Spate of Fatal Stabbings and Shootings\n",
      "\tquestion 0: NYC safer than London?\n",
      "\tquestion 1: Anyone know what this is about?\n",
      "\tquestion 2: Is there any connection between this and the police budget cuts in the UK?\n",
      "\tquestion 3: How many people need to die for England's weird knife fetish before sensible knife control legislation is passed?\n",
      "\tquestion 4: Why don’t the criminals obey the gun laws?\n",
      "submission title Pregnant woman kicked off Disney cruise by armed guards\n",
      "\tquestion 0: 25 weeks pregnant, really lady?\n",
      "\tquestion 1: Maybe the dude with the rifle was all the enhanced security they had?\n",
      "\tquestion 2: An American, bitching about *seeing* guns?\n",
      "\tquestion 3: When asking about the delay in getting their luggage back things got a little heated and Disney felt the need to bring out security guards armed with automatic rifles or Port Security (which I imagine would be a different organization) brought out guards armed with automatic rifles because they felt this family was a threat?\n",
      "\tquestion 4: This family aside, why a cutoff at 24 weeks pregnant?\n",
      "submission title Pitbull owner charged after dog bites woman's ear off at NYCHA complex\n",
      "\tquestion 0: Did I forget anyone?\n",
      "\tquestion 1: If other dogs or people show up I leash him and leave, why tempt fate?\n",
      "\tquestion 2: Vicious dogs in apartment complex, what could possibly go wrong?\n",
      "\tquestion 3: Why do other dog breeds not attack others if they're improperly trained?\n",
      "\tquestion 4: Any NY lawyers in the house?\n",
      "submission title Kansas lawmakers pass ‘swatting’ bill sparked by deadly hoax in Wichita\n",
      "\tquestion 0: Where is the bill to prosecute cops that shoot recklessly and without a verbal warning?\n",
      "\tquestion 1: Now where are the penalties for the cops that do the actual murdering of innocent people like Andrew Finch?\n",
      "\tquestion 2: does it makes sense that we live in a society where people know they can kill each other by calling the police?\n",
      "\tquestion 3: Wasn't it already illegal to do this?\n",
      "\tquestion 4: Here's what I don't get: Why do they need to pass a bill?\n",
      "submission title China hits back with tariffs on US imports worth $3bn\n",
      "\tquestion 0: For the sake of face, is this just gonna keep escalating?\n",
      "\tquestion 1: Anyone wanna provide insight on this or is this section just gonna be shitposts?\n",
      "\tquestion 2: Honestly who didn't see that coming?\n",
      "\tquestion 3: Anybody found the full list in English?\n",
      "\tquestion 4: Is China targeting red states products?\n",
      "submission title Federal court rules government can't block detained immigrant teens from abortion\n",
      "\tquestion 0: How many people are we even talking about here?\n",
      "\tquestion 1: Q: aren't we supposed to *prevent* anchor babies?\n",
      "\tquestion 2: Will it be tough for some to have abortions now if they are so far along?\n",
      "\tquestion 3: Also wouldn't it help to prevent anchor baby's if they have the CHOICE to abort the baby?\n",
      "\tquestion 4: Ugh can you even imagine living through this horror show?\n"
     ]
    }
   ],
   "source": [
    "import numpy as np\n",
    "np.random.seed(123)\n",
    "submission_question_counts = comment_data.groupby('submission_ID').apply(lambda x: x[x.loc[:, 'comment_questions'].apply(lambda y: len(y) > 0)].shape[0])\n",
    "min_questions_per_submission = 5\n",
    "submission_ids = submission_question_counts[submission_question_counts >= min_questions_per_submission].index.tolist()\n",
    "submission_sample_size = 10\n",
    "question_sample_size = 5\n",
    "sample_submission_ids = np.random.choice(submission_ids, submission_sample_size, replace=False)\n",
    "sample_comment_data = comment_data[comment_data.loc[:, 'submission_ID'].isin(sample_submission_ids)]\n",
    "for submission_id_i, data_i in sample_comment_data.groupby('submission_ID'):\n",
    "    title_i = data_i.loc[:, 'submission_title'].iloc[0]\n",
    "    print(f'submission title {title_i}')\n",
    "    data_i = data_i[data_i.loc[:, 'comment_questions'].apply(lambda x: len(x) > 0)]\n",
    "    for j in range(question_sample_size):\n",
    "#         print(data_i.iloc[j, :])\n",
    "        question_j = data_i.iloc[j, :].loc['comment_questions'][0]\n",
    "        print(f'\\tquestion {j}: {question_j}')"
   ]
  },
  {
   "cell_type": "markdown",
   "metadata": {},
   "source": [
    "- 0 0 1 1 0 = 40%\n",
    "- 0 0 0 1 0 = 20%\n",
    "- 0 0 0 0 0 = 0%\n",
    "- 1 0 0 0 0 = 0%\n",
    "- 0 0 1 0 0 = 20%\n",
    "- 0 0 0 0 0 = 0%\n",
    "- 0 0 0 1 0 = 20%\n",
    "- 1 1 0 1 1 = 80%\n",
    "- 1 0 0 1 1 = 60%\n",
    "- 1 1 1 0 0 = 60%\n",
    "\n",
    "Overall = 15/50 = 30% clarification questions that could be addressed in the article.\n",
    "\n",
    "Not great but we can do some filtering (better URLs, upvoting, question overlap) to make the questions more suitable."
   ]
  },
  {
   "cell_type": "markdown",
   "metadata": {},
   "source": [
    "### Test news providers"
   ]
  },
  {
   "cell_type": "markdown",
   "metadata": {},
   "source": [
    "How many of the news artices could be scraped (based on open-access providers)?"
   ]
  },
  {
   "cell_type": "code",
   "execution_count": 10,
   "metadata": {},
   "outputs": [],
   "source": [
    "import re\n",
    "domain_matcher = re.compile('(?<=https://)[^/]+(?=/)|(?<=http://)[^/]+(?=/)')\n",
    "assert domain_matcher.search('https://www.google.com/test').group(0) == 'www.google.com'\n"
   ]
  },
  {
   "cell_type": "code",
   "execution_count": 11,
   "metadata": {},
   "outputs": [],
   "source": [
    "comment_data = comment_data.assign(**{\n",
    "    'URL_domain' : comment_data.loc[:, 'submission_URL'].apply(lambda x: domain_matcher.search(x).group(0) if domain_matcher.search(x) is not None else '')\n",
    "})\n",
    "# strip prefix\n",
    "prefix_matcher = re.compile('^www\\.')\n",
    "comment_data = comment_data.assign(**{\n",
    "    'URL_domain' : comment_data.loc[:, 'URL_domain'].apply(lambda x: prefix_matcher.sub('', x))\n",
    "})"
   ]
  },
  {
   "cell_type": "code",
   "execution_count": 12,
   "metadata": {
    "scrolled": true
   },
   "outputs": [
    {
     "data": {
      "text/plain": [
       "standard.co.uk             2462\n",
       "nbcnews.com                 667\n",
       "longwarjournal.org          256\n",
       "foxnews.com                 118\n",
       "news.com.au                  90\n",
       "usatoday.com                 79\n",
       "ajc.com                      56\n",
       "bbc.com                      54\n",
       "dailysabah.com               51\n",
       "abc7news.com                 49\n",
       "washington.cbslocal.com      46\n",
       "sc.mp                        45\n",
       "theguardian.com              42\n",
       "sacramento.cbslocal.com      38\n",
       "reuters.com                  34\n",
       "freep.com                    32\n",
       "ny1.com                      31\n",
       "fox4kc.com                   30\n",
       "cnn.com                      29\n",
       "amp.nymag.com                26\n",
       "fox26houston.com             23\n",
       "telegraph.co.uk              22\n",
       "kxxv.com                     19\n",
       "citizen-times.com            19\n",
       "aljazeera.com                18\n",
       "latimes.com                  17\n",
       "9news.com.au                 16\n",
       "walk1000miles.co.uk          15\n",
       "theverge.com                 15\n",
       "news.sky.com                 14\n",
       "khn.org                      13\n",
       "law.utah.edu                 12\n",
       "cbsnews.com                   9\n",
       "edition.cnn.com               9\n",
       "fresnobee.com                 8\n",
       "sacbee.com                    8\n",
       "cis.org                       8\n",
       "news-leader.com               7\n",
       "nytimes.com                   7\n",
       "floridatoday.com              6\n",
       "klfy.com                      6\n",
       "mtonews.com                   5\n",
       "vaticannews.va                5\n",
       "nzherald.co.nz                5\n",
       "hosted2.ap.org                4\n",
       "bbc.co.uk                     4\n",
       "deseretnews.com               4\n",
       "abc13.com                     4\n",
       "armytimes.com                 4\n",
       "news.cgtn.com                 3\n",
       "Name: URL_domain, dtype: int64"
      ]
     },
     "metadata": {},
     "output_type": "display_data"
    }
   ],
   "source": [
    "domain_counts = comment_data.loc[:, 'URL_domain'].value_counts()\n",
    "display(domain_counts.head(50))"
   ]
  },
  {
   "cell_type": "markdown",
   "metadata": {},
   "source": [
    "Which of the top-K domains are open access?\n",
    "\n",
    "- standard.co.uk: 1\n",
    "- nbcnews.com: 1\n",
    "- longwarjournal.org: 1\n",
    "- foxnews.com: 1\n",
    "- news.com.au: 1\n",
    "- usatoday.com: 1\n",
    "- ajc.com: 1\n",
    "- bbc.com: 1\n",
    "- dailysabah.com: 1\n",
    "- abc7news.com: 1\n",
    "- washington.cbslocal.com: 1\n",
    "- sc.mp: 1\n",
    "- theguardian.com: 0\n",
    "- sacramento.cbslocal.com: 1\n",
    "- reuters.com: 1\n",
    "- freep.com: 1\n",
    "- ny1.com: 1\n",
    "- fox4kc.com: 1\n",
    "- cnn.com: 1\n",
    "- amp.nymag.com: 0\n",
    "- fox26houston.com: 1\n",
    "- telegraph.co.uk: 0\n",
    "- citizen-times.com: 1\n",
    "- kxxv.com: 1\n",
    "- aljazeera.com: 1\n",
    "- latimes.com: 0\n",
    "- 9news.com.au: 1\n",
    "- walk1000miles.co.uk: 0\n",
    "- theverge.com: 1\n",
    "- news.sky.com: 1\n",
    "- khn.org: 1\n",
    "- law.utah.edu: 1\n",
    "- edition.cnn.com: 1\n",
    "- cbsnews.com: 1 \n",
    "- cis.org: 1\n",
    "- sacbee.com: 1 \n",
    "- fresnobee.com: 1\n",
    "- news-leader.com: 0\n",
    "- nytimes.com: 0\n",
    "- floridatoday.com: 0\n",
    "- klfy.com: 1\n",
    "- nzherald.co.nz: 0\n",
    "- vaticannews.va: 1\n",
    "- mtonews.com: 1\n",
    "- bbc.co.uk: 1\n",
    "- abc13.com: 1\n",
    "- hosted2.ap.org: 1\n",
    "- deseretnews.com: 1\n",
    "- armytimes.com: 1\n",
    "- mylot.com: 0\n",
    "\n",
    "Total = 40/50 organizations are open access."
   ]
  },
  {
   "cell_type": "code",
   "execution_count": 13,
   "metadata": {},
   "outputs": [
    {
     "name": "stdout",
     "output_type": "stream",
     "text": [
      "96.69894366197182% of articles shared are open-access\n"
     ]
    }
   ],
   "source": [
    "import numpy as np\n",
    "is_open_access = np.array([1, 1, 1, 1, 1, 1, 1, 1, 1, 1, 1, 1, 0, 1, 1, 1, 1, 1, 1, 0, 1, 0, 1, 1, 1, 0, 1, 0, 1, 1, 1, 1, 1, 1 , 1, 1 , 1, 0, 0, 0, 1, 0, 1, 1, 1, 1, 1, 1, 1, 0])\n",
    "sample_domain_counts = domain_counts.head(50)\n",
    "open_access_article_estimate = (sample_domain_counts * is_open_access).sum() / sample_domain_counts.sum()\n",
    "print(f'{open_access_article_estimate*100}% of articles shared are open-access')"
   ]
  },
  {
   "cell_type": "markdown",
   "metadata": {},
   "source": [
    "OK! The sample may be non-representative but we seem to have a lot of open-access articles available, which means that we can learn mappings from articles to questions."
   ]
  },
  {
   "cell_type": "code",
   "execution_count": 14,
   "metadata": {},
   "outputs": [],
   "source": [
    "## save for later fml\n",
    "comment_data.to_csv('../../data/reddit_news_comment_sample.gz', sep='\\t', compression='gzip', index=False)"
   ]
  },
  {
   "cell_type": "markdown",
   "metadata": {},
   "source": [
    "### Check Reddit member identity\n",
    "Let's try to identify consistent reader groups based on prior behavior:\n",
    "\n",
    "- age\n",
    "- location\n",
    "- topical experience (prior subreddit posting?)"
   ]
  },
  {
   "cell_type": "code",
   "execution_count": 18,
   "metadata": {},
   "outputs": [],
   "source": [
    "import pandas as pd\n",
    "comment_data = pd.read_csv('../../data/reddit_news_comment_sample.gz', sep='\\t', compression='gzip', index_col=False)"
   ]
  },
  {
   "cell_type": "code",
   "execution_count": 1,
   "metadata": {},
   "outputs": [
    {
     "name": "stderr",
     "output_type": "stream",
     "text": [
      "Version 7.1.2 of praw is outdated. Version 7.1.3 was released 1 day ago.\n"
     ]
    }
   ],
   "source": [
    "from praw import Reddit\n",
    "from psaw import PushshiftAPI\n",
    "\n",
    "client_id = '9SCiZpAKCyfaTQ'\n",
    "client_secret = 'hQ2tGoUqpCizqJf2hNv0uP8cADw'\n",
    "user_agent = 'user_agent_123'\n",
    "reddit_api = Reddit(\n",
    "    client_id=client_id,\n",
    "    client_secret=client_secret,\n",
    "    user_agent=user_agent,\n",
    "    check_for_async=False,\n",
    ")\n",
    "\n",
    "pushshift_reddit_api = PushshiftAPI(reddit_api)"
   ]
  },
  {
   "cell_type": "code",
   "execution_count": 171,
   "metadata": {
    "scrolled": true
   },
   "outputs": [
    {
     "name": "stderr",
     "output_type": "stream",
     "text": [
      "  0%|          | 3/1000 [00:22<2:00:28,  7.25s/it]"
     ]
    },
    {
     "name": "stdout",
     "output_type": "stream",
     "text": [
      "ending collection for author Heythatispoop because error received 403 HTTP response\n"
     ]
    },
    {
     "name": "stderr",
     "output_type": "stream",
     "text": [
      "  4%|▍         | 40/1000 [03:57<1:39:10,  6.20s/it]"
     ]
    },
    {
     "name": "stdout",
     "output_type": "stream",
     "text": [
      "ending collection for author nan because error __str__ returned non-string (type float)\n"
     ]
    },
    {
     "name": "stderr",
     "output_type": "stream",
     "text": [
      "  6%|▋         | 65/1000 [06:24<1:56:29,  7.48s/it]"
     ]
    },
    {
     "name": "stdout",
     "output_type": "stream",
     "text": [
      "ending collection for author whatsthatbutt because error received 403 HTTP response\n"
     ]
    },
    {
     "name": "stderr",
     "output_type": "stream",
     "text": [
      " 10%|█         | 104/1000 [10:19<1:36:04,  6.43s/it]"
     ]
    },
    {
     "name": "stdout",
     "output_type": "stream",
     "text": [
      "ending collection for author BoondockSaint45 because error received 403 HTTP response\n"
     ]
    },
    {
     "name": "stderr",
     "output_type": "stream",
     "text": [
      "\r",
      " 11%|█         | 106/1000 [10:22<1:14:00,  4.97s/it]"
     ]
    },
    {
     "name": "stdout",
     "output_type": "stream",
     "text": [
      "ending collection for author OneFallsAnotherYalls because error received 403 HTTP response\n"
     ]
    },
    {
     "name": "stderr",
     "output_type": "stream",
     "text": [
      " 16%|█▌        | 162/1000 [16:04<1:30:34,  6.49s/it]"
     ]
    },
    {
     "name": "stdout",
     "output_type": "stream",
     "text": [
      "ending collection for author greenSixx because error received 403 HTTP response\n"
     ]
    },
    {
     "name": "stderr",
     "output_type": "stream",
     "text": [
      " 18%|█▊        | 181/1000 [17:53<1:16:27,  5.60s/it]"
     ]
    },
    {
     "name": "stdout",
     "output_type": "stream",
     "text": [
      "ending collection for author psxpetey because error received 403 HTTP response\n"
     ]
    },
    {
     "name": "stderr",
     "output_type": "stream",
     "text": [
      " 20%|█▉        | 196/1000 [18:56<53:02,  3.96s/it]  "
     ]
    },
    {
     "name": "stdout",
     "output_type": "stream",
     "text": [
      "ending collection for author boozeshoes because error received 403 HTTP response\n"
     ]
    },
    {
     "name": "stderr",
     "output_type": "stream",
     "text": [
      " 20%|██        | 204/1000 [19:46<1:31:19,  6.88s/it]"
     ]
    },
    {
     "name": "stdout",
     "output_type": "stream",
     "text": [
      "ending collection for author matt23x because error received 403 HTTP response\n"
     ]
    },
    {
     "name": "stderr",
     "output_type": "stream",
     "text": [
      " 21%|██        | 207/1000 [20:03<1:26:18,  6.53s/it]"
     ]
    },
    {
     "name": "stdout",
     "output_type": "stream",
     "text": [
      "ending collection for author iamkitkatbar because error received 403 HTTP response\n"
     ]
    },
    {
     "name": "stderr",
     "output_type": "stream",
     "text": [
      " 24%|██▍       | 244/1000 [24:10<1:33:41,  7.44s/it]"
     ]
    },
    {
     "name": "stdout",
     "output_type": "stream",
     "text": [
      "ending collection for author Whitehobasher1 because error received 403 HTTP response\n"
     ]
    },
    {
     "name": "stderr",
     "output_type": "stream",
     "text": [
      " 29%|██▉       | 294/1000 [29:49<1:19:30,  6.76s/it]"
     ]
    },
    {
     "name": "stdout",
     "output_type": "stream",
     "text": [
      "ending collection for author PineapplePoppadom because error received 403 HTTP response\n"
     ]
    },
    {
     "name": "stderr",
     "output_type": "stream",
     "text": [
      " 30%|███       | 304/1000 [30:35<54:39,  4.71s/it]  "
     ]
    },
    {
     "name": "stdout",
     "output_type": "stream",
     "text": [
      "ending collection for author mghoffmann because error received 403 HTTP response\n"
     ]
    },
    {
     "name": "stderr",
     "output_type": "stream",
     "text": [
      " 32%|███▏      | 321/1000 [31:56<34:29,  3.05s/it]  "
     ]
    },
    {
     "name": "stdout",
     "output_type": "stream",
     "text": [
      "ending collection for author collateralvincent because error received 403 HTTP response\n"
     ]
    },
    {
     "name": "stderr",
     "output_type": "stream",
     "text": [
      " 33%|███▎      | 334/1000 [33:18<1:09:00,  6.22s/it]"
     ]
    },
    {
     "name": "stdout",
     "output_type": "stream",
     "text": [
      "ending collection for author dadankness because error received 403 HTTP response\n"
     ]
    },
    {
     "name": "stderr",
     "output_type": "stream",
     "text": [
      " 34%|███▍      | 340/1000 [33:46<55:57,  5.09s/it]  "
     ]
    },
    {
     "name": "stdout",
     "output_type": "stream",
     "text": [
      "ending collection for author Industrialbonecraft because error received 403 HTTP response\n"
     ]
    },
    {
     "name": "stderr",
     "output_type": "stream",
     "text": [
      " 36%|███▌      | 355/1000 [35:17<1:13:07,  6.80s/it]"
     ]
    },
    {
     "name": "stdout",
     "output_type": "stream",
     "text": [
      "ending collection for author altaltaltpornaccount because error received 403 HTTP response\n"
     ]
    },
    {
     "name": "stderr",
     "output_type": "stream",
     "text": [
      " 37%|███▋      | 367/1000 [36:25<1:10:32,  6.69s/it]"
     ]
    },
    {
     "name": "stdout",
     "output_type": "stream",
     "text": [
      "ending collection for author CrackerBucket because error received 403 HTTP response\n"
     ]
    },
    {
     "name": "stderr",
     "output_type": "stream",
     "text": [
      " 41%|████      | 409/1000 [40:05<1:04:36,  6.56s/it]"
     ]
    },
    {
     "name": "stdout",
     "output_type": "stream",
     "text": [
      "ending collection for author Poz_My_Neg_Fuck_Hole because error received 403 HTTP response\n"
     ]
    },
    {
     "name": "stderr",
     "output_type": "stream",
     "text": [
      " 42%|████▏     | 422/1000 [40:57<51:23,  5.33s/it]  "
     ]
    },
    {
     "name": "stdout",
     "output_type": "stream",
     "text": [
      "ending collection for author ibuprofen87 because error received 403 HTTP response\n"
     ]
    },
    {
     "name": "stderr",
     "output_type": "stream",
     "text": [
      " 49%|████▉     | 490/1000 [47:12<25:13,  2.97s/it]  "
     ]
    },
    {
     "name": "stdout",
     "output_type": "stream",
     "text": [
      "ending collection for author stephen_bannon because error received 403 HTTP response\n",
      "ending collection for author Goodguy75 because error received 403 HTTP response\n"
     ]
    },
    {
     "name": "stderr",
     "output_type": "stream",
     "text": [
      " 53%|█████▎    | 530/1000 [51:28<35:20,  4.51s/it]  "
     ]
    },
    {
     "name": "stdout",
     "output_type": "stream",
     "text": [
      "ending collection for author newcarcaviar4star because error received 403 HTTP response\n"
     ]
    },
    {
     "name": "stderr",
     "output_type": "stream",
     "text": [
      " 56%|█████▌    | 562/1000 [54:14<40:20,  5.53s/it]  "
     ]
    },
    {
     "name": "stdout",
     "output_type": "stream",
     "text": [
      "ending collection for author donkierweed because error received 403 HTTP response\n"
     ]
    },
    {
     "name": "stderr",
     "output_type": "stream",
     "text": [
      " 57%|█████▋    | 568/1000 [54:36<28:27,  3.95s/it]"
     ]
    },
    {
     "name": "stdout",
     "output_type": "stream",
     "text": [
      "ending collection for author CaughtInTheFire666 because error received 403 HTTP response\n"
     ]
    },
    {
     "name": "stderr",
     "output_type": "stream",
     "text": [
      "\r",
      " 57%|█████▋    | 570/1000 [54:39<23:06,  3.22s/it]"
     ]
    },
    {
     "name": "stdout",
     "output_type": "stream",
     "text": [
      "ending collection for author uncreative21 because error received 403 HTTP response\n"
     ]
    },
    {
     "name": "stderr",
     "output_type": "stream",
     "text": [
      " 62%|██████▏   | 615/1000 [59:17<44:49,  6.99s/it]"
     ]
    },
    {
     "name": "stdout",
     "output_type": "stream",
     "text": [
      "ending collection for author cmdertx because error received 403 HTTP response\n"
     ]
    },
    {
     "name": "stderr",
     "output_type": "stream",
     "text": [
      " 62%|██████▏   | 622/1000 [59:53<38:57,  6.18s/it]"
     ]
    },
    {
     "name": "stdout",
     "output_type": "stream",
     "text": [
      "ending collection for author HerNameWasMystery22 because error received 403 HTTP response\n"
     ]
    },
    {
     "name": "stderr",
     "output_type": "stream",
     "text": [
      " 64%|██████▎   | 636/1000 [1:01:19<46:31,  7.67s/it]"
     ]
    },
    {
     "name": "stdout",
     "output_type": "stream",
     "text": [
      "ending collection for author LeddHead because error received 403 HTTP response\n"
     ]
    },
    {
     "name": "stderr",
     "output_type": "stream",
     "text": [
      "\r",
      " 64%|██████▍   | 638/1000 [1:01:26<38:31,  6.39s/it]"
     ]
    },
    {
     "name": "stdout",
     "output_type": "stream",
     "text": [
      "ending collection for author MagicalUnibeefs because error received 403 HTTP response\n"
     ]
    },
    {
     "name": "stderr",
     "output_type": "stream",
     "text": [
      " 66%|██████▋   | 663/1000 [1:03:59<34:08,  6.08s/it]"
     ]
    },
    {
     "name": "stdout",
     "output_type": "stream",
     "text": [
      "ending collection for author Mizarrk because error received 403 HTTP response\n"
     ]
    },
    {
     "name": "stderr",
     "output_type": "stream",
     "text": [
      " 68%|██████▊   | 683/1000 [1:05:51<27:21,  5.18s/it]"
     ]
    },
    {
     "name": "stdout",
     "output_type": "stream",
     "text": [
      "ending collection for author Zeknichov because error received 403 HTTP response\n"
     ]
    },
    {
     "name": "stderr",
     "output_type": "stream",
     "text": [
      " 71%|███████   | 710/1000 [1:08:34<28:03,  5.81s/it]"
     ]
    },
    {
     "name": "stdout",
     "output_type": "stream",
     "text": [
      "ending collection for author twol3g1t because error received 403 HTTP response\n"
     ]
    },
    {
     "name": "stderr",
     "output_type": "stream",
     "text": [
      "\r",
      " 71%|███████   | 712/1000 [1:08:41<24:17,  5.06s/it]"
     ]
    },
    {
     "name": "stdout",
     "output_type": "stream",
     "text": [
      "ending collection for author agobr because error received 403 HTTP response\n"
     ]
    },
    {
     "name": "stderr",
     "output_type": "stream",
     "text": [
      " 75%|███████▍  | 746/1000 [1:11:47<22:13,  5.25s/it]"
     ]
    },
    {
     "name": "stdout",
     "output_type": "stream",
     "text": [
      "ending collection for author hnicgibbs because error received 403 HTTP response\n"
     ]
    },
    {
     "name": "stderr",
     "output_type": "stream",
     "text": [
      " 77%|███████▋  | 768/1000 [1:13:59<18:51,  4.88s/it]"
     ]
    },
    {
     "name": "stdout",
     "output_type": "stream",
     "text": [
      "ending collection for author TheRealLegitCuck because error received 403 HTTP response\n",
      "ending collection for author DesignGhost because error received 403 HTTP response\n"
     ]
    },
    {
     "name": "stderr",
     "output_type": "stream",
     "text": [
      " 78%|███████▊  | 776/1000 [1:14:49<26:23,  7.07s/it]"
     ]
    },
    {
     "name": "stdout",
     "output_type": "stream",
     "text": [
      "ending collection for author Stayathomepyrat because error received 403 HTTP response\n"
     ]
    },
    {
     "name": "stderr",
     "output_type": "stream",
     "text": [
      " 78%|███████▊  | 779/1000 [1:14:54<16:08,  4.38s/it]"
     ]
    },
    {
     "name": "stdout",
     "output_type": "stream",
     "text": [
      "ending collection for author insidezone64 because error received 403 HTTP response\n"
     ]
    },
    {
     "name": "stderr",
     "output_type": "stream",
     "text": [
      " 78%|███████▊  | 784/1000 [1:15:22<26:18,  7.31s/it]"
     ]
    },
    {
     "name": "stdout",
     "output_type": "stream",
     "text": [
      "ending collection for author Spitfire_Akagi because error received 403 HTTP response\n"
     ]
    },
    {
     "name": "stderr",
     "output_type": "stream",
     "text": [
      " 80%|███████▉  | 796/1000 [1:16:17<13:19,  3.92s/it]"
     ]
    },
    {
     "name": "stdout",
     "output_type": "stream",
     "text": [
      "ending collection for author Hey_There_Fancypants because error received 403 HTTP response\n"
     ]
    },
    {
     "name": "stderr",
     "output_type": "stream",
     "text": [
      " 80%|████████  | 804/1000 [1:17:02<16:04,  4.92s/it]"
     ]
    },
    {
     "name": "stdout",
     "output_type": "stream",
     "text": [
      "ending collection for author Hurrrturrrn because error received 403 HTTP response\n"
     ]
    },
    {
     "name": "stderr",
     "output_type": "stream",
     "text": [
      " 82%|████████▏ | 815/1000 [1:18:00<16:41,  5.41s/it]"
     ]
    },
    {
     "name": "stdout",
     "output_type": "stream",
     "text": [
      "ending collection for author HungrySquirtle because error received 403 HTTP response\n"
     ]
    },
    {
     "name": "stderr",
     "output_type": "stream",
     "text": [
      " 84%|████████▎ | 835/1000 [1:19:55<12:29,  4.54s/it]"
     ]
    },
    {
     "name": "stdout",
     "output_type": "stream",
     "text": [
      "ending collection for author MaybeaskQuestions because error received 403 HTTP response\n"
     ]
    },
    {
     "name": "stderr",
     "output_type": "stream",
     "text": [
      " 85%|████████▍ | 849/1000 [1:21:27<19:05,  7.59s/it]"
     ]
    },
    {
     "name": "stdout",
     "output_type": "stream",
     "text": [
      "ending collection for author throwaway2600god because error received 403 HTTP response\n"
     ]
    },
    {
     "name": "stderr",
     "output_type": "stream",
     "text": [
      " 85%|████████▌ | 852/1000 [1:21:34<11:01,  4.47s/it]"
     ]
    },
    {
     "name": "stdout",
     "output_type": "stream",
     "text": [
      "ending collection for author SunshinyRainbows2017 because error received 403 HTTP response\n"
     ]
    },
    {
     "name": "stderr",
     "output_type": "stream",
     "text": [
      " 87%|████████▋ | 867/1000 [1:23:16<14:04,  6.35s/it]"
     ]
    },
    {
     "name": "stdout",
     "output_type": "stream",
     "text": [
      "ending collection for author Vernon_Roche1 because error received 403 HTTP response\n"
     ]
    },
    {
     "name": "stderr",
     "output_type": "stream",
     "text": [
      " 88%|████████▊ | 881/1000 [1:24:35<11:19,  5.71s/it]"
     ]
    },
    {
     "name": "stdout",
     "output_type": "stream",
     "text": [
      "ending collection for author Akai_Hana because error received 403 HTTP response\n"
     ]
    },
    {
     "name": "stderr",
     "output_type": "stream",
     "text": [
      " 89%|████████▉ | 889/1000 [1:25:21<11:01,  5.96s/it]"
     ]
    },
    {
     "name": "stdout",
     "output_type": "stream",
     "text": [
      "ending collection for author vtesterlwg because error received 403 HTTP response\n"
     ]
    },
    {
     "name": "stderr",
     "output_type": "stream",
     "text": [
      " 90%|█████████ | 902/1000 [1:26:46<09:05,  5.57s/it]"
     ]
    },
    {
     "name": "stdout",
     "output_type": "stream",
     "text": [
      "ending collection for author spread_thin because error received 403 HTTP response\n"
     ]
    },
    {
     "name": "stderr",
     "output_type": "stream",
     "text": [
      " 90%|█████████ | 905/1000 [1:26:50<05:02,  3.19s/it]"
     ]
    },
    {
     "name": "stdout",
     "output_type": "stream",
     "text": [
      "ending collection for author NardDogAndy because error received 403 HTTP response\n"
     ]
    },
    {
     "name": "stderr",
     "output_type": "stream",
     "text": [
      " 91%|█████████ | 910/1000 [1:27:25<09:46,  6.52s/it]"
     ]
    },
    {
     "name": "stdout",
     "output_type": "stream",
     "text": [
      "ending collection for author Wajirock because error received 403 HTTP response\n"
     ]
    },
    {
     "name": "stderr",
     "output_type": "stream",
     "text": [
      " 94%|█████████▍| 939/1000 [1:30:32<06:32,  6.44s/it]"
     ]
    },
    {
     "name": "stdout",
     "output_type": "stream",
     "text": [
      "ending collection for author abortion_control because error received 403 HTTP response\n"
     ]
    },
    {
     "name": "stderr",
     "output_type": "stream",
     "text": [
      " 96%|█████████▌| 960/1000 [1:32:28<02:54,  4.37s/it]"
     ]
    },
    {
     "name": "stdout",
     "output_type": "stream",
     "text": [
      "ending collection for author planetcollide because error received 403 HTTP response\n",
      "ending collection for author MusteredCourage because error received 403 HTTP response\n"
     ]
    },
    {
     "name": "stderr",
     "output_type": "stream",
     "text": [
      " 96%|█████████▋| 963/1000 [1:32:50<03:56,  6.39s/it]"
     ]
    },
    {
     "name": "stdout",
     "output_type": "stream",
     "text": [
      "ending collection for author smegthis1 because error received 403 HTTP response\n"
     ]
    },
    {
     "name": "stderr",
     "output_type": "stream",
     "text": [
      " 98%|█████████▊| 977/1000 [1:34:18<02:21,  6.15s/it]"
     ]
    },
    {
     "name": "stdout",
     "output_type": "stream",
     "text": [
      "ending collection for author BayernMunich22 because error received 403 HTTP response\n"
     ]
    },
    {
     "name": "stderr",
     "output_type": "stream",
     "text": [
      "100%|██████████| 1000/1000 [1:36:28<00:00,  5.79s/it]\n"
     ]
    }
   ],
   "source": [
    "## get sample comments from sample authors\n",
    "import numpy as np\n",
    "np.random.seed(123)\n",
    "from tqdm import tqdm\n",
    "from praw.models.reddit.comment import Comment\n",
    "def get_sample_author_comments(author, reddit_api, end_time, comment_cols, comment_count=1000):\n",
    "    author_comments = []\n",
    "    author_redditor = reddit_api.redditor(author)\n",
    "    complete_comment_cols = comment_cols+['author', 'subreddit']\n",
    "    try:\n",
    "        for i, comment_i in enumerate(author_redditor.new(limit=None)):\n",
    "            # make sure it's a comment lol\n",
    "            if(type(comment_i) is Comment):\n",
    "                comment_time_i = comment_i.created_utc\n",
    "                if(comment_time_i <= end_time and comment_i.body is not None):\n",
    "                    subreddit_i = comment_i.subreddit.display_name\n",
    "                    comment_data_i = [comment_i.__dict__.get(x) for x in comment_cols] + [author, subreddit_i]\n",
    "                    comment_data_i = pd.Series(comment_data_i, index=complete_comment_cols)\n",
    "                    author_comments.append(comment_data_i)\n",
    "                if(len(author_comments) >= comment_count):\n",
    "                    break\n",
    "    # deleted author account?\n",
    "    except Exception as e:\n",
    "        print(f'ending collection for author {author} because error {e}')\n",
    "    if(len(author_comments) > 0):\n",
    "        author_comments = pd.concat(author_comments, axis=1).transpose()\n",
    "    return author_comments\n",
    "sample_author_count = 1000\n",
    "sample_comment_count = 1000\n",
    "sample_authors = np.random.choice(comment_data.loc[:, 'comment_author'].unique(), sample_author_count, replace=False)\n",
    "sample_author_comments = []\n",
    "comment_cols = ['author_flair_text', 'id', 'body', 'subreddit', 'parent_id']\n",
    "end_date = (2018, 4, 2)\n",
    "end_time = int(datetime(*end_date).timestamp())\n",
    "for sample_author_i in tqdm(sample_authors):\n",
    "    sample_comments_i = get_sample_author_comments(sample_author_i, reddit_api, end_time, comment_cols, comment_count=sample_comment_count)\n",
    "    sample_author_comments.append(sample_comments_i)\n",
    "# remove null comments\n",
    "sample_author_comments = list(filter(lambda x: type(x) is not list, sample_author_comments))\n",
    "sample_author_comments = pd.concat(sample_author_comments, axis=0)\n",
    "# remove null comments\n",
    "sample_author_comments = sample_author_comments[sample_author_comments.loc[:, 'body'].apply(lambda x: x is not None)]"
   ]
  },
  {
   "cell_type": "code",
   "execution_count": 174,
   "metadata": {},
   "outputs": [
    {
     "name": "stdout",
     "output_type": "stream",
     "text": [
      "89910\n",
      "339 unique sample authors\n"
     ]
    }
   ],
   "source": [
    "print(sample_author_comments.shape[0])\n",
    "print(f'{sample_author_comments.loc[:, \"author\"].nunique()} unique sample authors')"
   ]
  },
  {
   "cell_type": "code",
   "execution_count": 175,
   "metadata": {},
   "outputs": [],
   "source": [
    "## save for posterity fml\n",
    "sample_author_comments.to_csv('../../data/reddit_news_author_comment_sample.gz', sep='\\t', compression='gzip', index=False)"
   ]
  },
  {
   "cell_type": "markdown",
   "metadata": {},
   "source": [
    "Now let's check for identity cues from prior comments.\n",
    "\n",
    "- Age (regexes \"I am X years old\")\n",
    "- Location (using NER + geopy? this requires identifying article location)\n",
    "- Prior topical experience (subreddit distribution, topic counts...this requires aligning with news article topic)"
   ]
  },
  {
   "cell_type": "markdown",
   "metadata": {},
   "source": [
    "### Test ages"
   ]
  },
  {
   "cell_type": "code",
   "execution_count": 176,
   "metadata": {},
   "outputs": [
    {
     "name": "stderr",
     "output_type": "stream",
     "text": [
      "/home/ianbstew/miniconda3/envs/py3/lib/python3.8/site-packages/tqdm/std.py:670: FutureWarning: The Panel class is removed from pandas. Accessing it from the top-level namespace will also be removed in the next version\n",
      "  from pandas import Panel\n",
      " 17%|█▋        | 56/339 [00:00<00:01, 270.83it/s]"
     ]
    },
    {
     "name": "stdout",
     "output_type": "stream",
     "text": [
      "test age = 10\n"
     ]
    },
    {
     "name": "stderr",
     "output_type": "stream",
     "text": [
      "100%|██████████| 339/339 [00:01<00:00, 284.03it/s]\n"
     ]
    }
   ],
   "source": [
    "## ages\n",
    "import numpy as np\n",
    "def extract_age(text, age_matcher, age_err_cutoff=5):\n",
    "    combined_text = ' '.join(text).lower()\n",
    "    age_match = age_matcher.findall(combined_text)\n",
    "    approx_age = -1\n",
    "    if(len(age_match) > 0):\n",
    "        ages = list(map(lambda x: int(x), age_match))\n",
    "        # if ages have larger STD than expected, ignore\n",
    "        age_std = np.std(ages)\n",
    "        if(age_std < age_err_cutoff):\n",
    "            approx_age = int(np.mean(ages))\n",
    "    return approx_age\n",
    "import re\n",
    "age_matcher_expr = [\n",
    "    '(?<=i am )[0-9]+(?= years old)',\n",
    "    '(?<=i\\'m )[0-9]+(?= years old)',\n",
    "    '(?<=i am a )[0-9]+(?= year old)'\n",
    "    '(?<=i\\'m a )[0-9]+(?= year old)',\n",
    "]\n",
    "age_matcher = re.compile('|'.join(age_matcher_expr))\n",
    "age_err_cutoff = 5\n",
    "test_text = ['I am 10 years old', 'this is another sample sentence', 'i am 11 years old']\n",
    "test_text_age = extract_age(test_text, age_matcher, age_err_cutoff=age_err_cutoff)\n",
    "print(f'test age = {test_text_age}')\n",
    "from tqdm import tqdm\n",
    "tqdm.pandas()\n",
    "sample_author_ages = sample_author_comments.groupby('author').progress_apply(\n",
    "    lambda x: extract_age(x.loc[:, 'body'].values, age_matcher, age_err_cutoff=age_err_cutoff)\n",
    ")\n",
    "# remove null ages\n",
    "sample_author_ages = sample_author_ages[sample_author_ages != -1]"
   ]
  },
  {
   "cell_type": "code",
   "execution_count": 177,
   "metadata": {},
   "outputs": [
    {
     "data": {
      "image/png": "[encoded data removed]",
      "text/plain": [
       "<Figure size 432x288 with 1 Axes>"
      ]
     },
     "metadata": {
      "needs_background": "light"
     },
     "output_type": "display_data"
    }
   ],
   "source": [
    "import matplotlib\n",
    "%matplotlib inline\n",
    "import matplotlib.pyplot as plt\n",
    "plt.hist(sample_author_ages)\n",
    "plt.show()"
   ]
  },
  {
   "cell_type": "markdown",
   "metadata": {},
   "source": [
    "OK! We only see a few self-disclosures of age, about 1% (3/339)."
   ]
  },
  {
   "cell_type": "markdown",
   "metadata": {},
   "source": [
    "### Test location"
   ]
  },
  {
   "cell_type": "code",
   "execution_count": 86,
   "metadata": {},
   "outputs": [
    {
     "name": "stdout",
     "output_type": "stream",
     "text": [
      "us\n"
     ]
    }
   ],
   "source": [
    "# import geocoder\n",
    "# x = geocoder.osm('California', method='geocode')\n",
    "print(x.geojson['features'][0]['properties']['country_code'])"
   ]
  },
  {
   "cell_type": "code",
   "execution_count": null,
   "metadata": {},
   "outputs": [],
   "source": [
    "## location\n",
    "from data_helpers import extract_all_named_entities\n",
    "def extract_NE_locations(text, location_matcher, word_tokenizer, sent_tokenizer, ner_pipeline, valid_NE_types={'GPE'}):\n",
    "    locations = []\n",
    "    for text_i in text:\n",
    "        sents = sent_tokenizer.tokenize(text_i)\n",
    "        for sent_j in sents:\n",
    "            location_match_j = location_matcher.findall(sent_j)\n",
    "            if(len(location_match_j) > 0):\n",
    "                NE_j = extract_all_named_entities(sent_j, ner_pipeline, valid_NE_types=valid_NE_types)\n",
    "                NE_j = list(map(lambda x: x.replace('_', ' '), NE_j))\n",
    "                # look for overlaps\n",
    "                valid_location_match_j = []\n",
    "                for location_match_k in location_match_j:\n",
    "                    NE_matches_k = list(filter(lambda x: x in location_match_k, NE_j))\n",
    "                    valid_location_match_j.extend(NE_matches_k)\n",
    "                if(len(valid_location_match_j) > 0):\n",
    "                    locations.extend(valid_location_match_j)\n",
    "    return locations\n",
    "import geocoder\n",
    "def estimate_locations(text_locations):\n",
    "    ## TODO: keep full location for e.g. state comparison?\n",
    "    location_estimates = list(map(lambda x: geocoder.osm(x, method='geocode'), text_locations))\n",
    "    # get countries for valid estimates\n",
    "    location_countries = []\n",
    "    for location_estimate_i in location_estimates:\n",
    "        if(location_estimate_i.geojson is not None and len(location_estimate_i.geojson['features']) > 0):\n",
    "            location_country = location_estimate_i.geojson['features'][0]['properties']['country_code']\n",
    "            location_countries.append(location_country)\n",
    "    return location_countries\n",
    "def estimate_country(locations, location_pct_cutoff=0.5):\n",
    "    location_country_est = 'UNK'\n",
    "    country_counts = pd.Series(locations).value_counts() / len(locations)\n",
    "    country_counts.sort_values(inplace=True, ascending=False)\n",
    "    # get max country\n",
    "    max_country_count = country_counts.iloc[0]\n",
    "    if(max_country_count >= location_pct_cutoff):\n",
    "        location_country_est = country_counts.index[0]\n",
    "    return location_country_est\n",
    "def full_location_pipeline(text, location_matcher, \n",
    "                           word_tokenizer, sent_tokenizer, \n",
    "                           ner_pipeline, \n",
    "                           valid_NE_types={'GPE'},\n",
    "                           location_pct_cutoff=0.5):\n",
    "    locations = extract_NE_locations(text, location_matcher, word_tokenizer, sent_tokenizer, ner_pipeline, valid_NE_types=valid_NE_types)\n",
    "    location_country_est = 'UNK'\n",
    "    if(len(locations) > 0):\n",
    "        location_countries = estimate_locations(locations)\n",
    "        location_country_est = estimate_country(location_countries, location_pct_cutoff=location_pct_cutoff)\n",
    "    return location_country_est"
   ]
  },
  {
   "cell_type": "code",
   "execution_count": 95,
   "metadata": {},
   "outputs": [
    {
     "name": "stderr",
     "output_type": "stream",
     "text": [
      "2021-02-07 17:31:03 INFO: Loading these models for language: en (English):\n",
      "=========================\n",
      "| Processor | Package   |\n",
      "-------------------------\n",
      "| tokenize  | ewt       |\n",
      "| ner       | ontonotes |\n",
      "=========================\n",
      "\n",
      "2021-02-07 17:31:03 INFO: Use device: cpu\n",
      "2021-02-07 17:31:03 INFO: Loading: tokenize\n",
      "2021-02-07 17:31:03 INFO: Loading: ner\n",
      "2021-02-07 17:31:04 INFO: Done loading processors!\n"
     ]
    },
    {
     "name": "stdout",
     "output_type": "stream",
     "text": [
      "['Florida']\n",
      "all countries = ['us']\n",
      "approx country = us\n",
      "location country est. us\n"
     ]
    }
   ],
   "source": [
    "location_matcher = re.compile('(?<=I am from )[a-zA-Z0-9\\, ]+|(?<=I live in )[a-zA-Z0-9 ]+')\n",
    "test_text = [\"I am from Florida, nice to meet you\"]\n",
    "# step 1: get locations\n",
    "from stanza import Pipeline\n",
    "nlp_pipeline = Pipeline(lang='en', processors='tokenize,ner', use_gpu=False)\n",
    "from nltk.tokenize import WordPunctTokenizer, PunktSentenceTokenizer\n",
    "word_tokenizer = WordPunctTokenizer()\n",
    "sent_tokenizer = PunktSentenceTokenizer()\n",
    "valid_NE_types = {'GPE'}\n",
    "test_NE_locations = extract_NE_locations(test_text, location_matcher, \n",
    "                                         word_tokenizer, sent_tokenizer, \n",
    "                                         nlp_pipeline, valid_NE_types=valid_NE_types)\n",
    "print(test_NE_locations)\n",
    "# step 2: resolve locations\n",
    "# import geopy\n",
    "test_approx_locations = estimate_locations(test_NE_locations)\n",
    "print(f'all countries = {test_approx_locations}')\n",
    "# # step 3: identify most consistent country among locations\n",
    "location_pct_cutoff = 0.5\n",
    "test_approx_country = estimate_country(test_approx_locations, location_pct_cutoff=location_pct_cutoff)\n",
    "print(f'approx country = {test_approx_country}')\n",
    "location_country_est = full_location_pipeline(test_text, location_matcher, \n",
    "                                              word_tokenizer, sent_tokenizer, \n",
    "                                              nlp_pipeline, \n",
    "                                              valid_NE_types=valid_NE_types,\n",
    "                                              location_pct_cutoff=location_pct_cutoff)\n",
    "print(f'location country est. {location_country_est}')"
   ]
  },
  {
   "cell_type": "code",
   "execution_count": 97,
   "metadata": {
    "scrolled": true
   },
   "outputs": [
    {
     "name": "stderr",
     "output_type": "stream",
     "text": [
      "100%|██████████| 339/339 [01:02<00:00,  5.39it/s]\n"
     ]
    }
   ],
   "source": [
    "from tqdm import tqdm\n",
    "author_countries = []\n",
    "for author_i, data_i in tqdm(sample_author_comments.groupby('author')):\n",
    "    text_i = data_i.loc[:, 'body'].values\n",
    "    location_country_est_i = full_location_pipeline(text_i, location_matcher,\n",
    "                                                    word_tokenizer, sent_tokenizer,\n",
    "                                                    nlp_pipeline, \n",
    "                                                    valid_NE_types=valid_NE_types,\n",
    "                                                    location_pct_cutoff=location_pct_cutoff)\n",
    "    author_countries.append(location_country_est_i)"
   ]
  },
  {
   "cell_type": "code",
   "execution_count": 99,
   "metadata": {
    "scrolled": true
   },
   "outputs": [
    {
     "name": "stdout",
     "output_type": "stream",
     "text": [
      "UNK    285\n",
      "us      33\n",
      "it       3\n",
      "ca       3\n",
      "gb       3\n",
      "au       2\n",
      "jp       2\n",
      "ie       1\n",
      "ae       1\n",
      "fr       1\n",
      "br       1\n",
      "se       1\n",
      "hu       1\n",
      "tw       1\n",
      "th       1\n",
      "dtype: int64\n"
     ]
    }
   ],
   "source": [
    "author_country_counts = pd.Series(author_countries).value_counts()\n",
    "print(author_country_counts)"
   ]
  },
  {
   "cell_type": "markdown",
   "metadata": {},
   "source": [
    "As expected, heavy representation from US people and less from others. Overall we get about 54/339 ~ 16% availability of locations based on self-disclosure."
   ]
  },
  {
   "cell_type": "markdown",
   "metadata": {},
   "source": [
    "### Test topical alignment"
   ]
  },
  {
   "cell_type": "markdown",
   "metadata": {},
   "source": [
    "How many authors have previously commented about topics that are similar to the submissions mentioned?\n",
    "\n",
    "Let's train a topic model on both the submission titles and the prior comments, and then look for comments with reasonably high alignment."
   ]
  },
  {
   "cell_type": "code",
   "execution_count": null,
   "metadata": {},
   "outputs": [],
   "source": [
    "from gensim.models import LdaModel, CoherenceModel\n",
    "from gensim.corpora.dictionary import Dictionary\n",
    "submission_comment_texts = list(comment_data.loc[:, 'submission_title'].values) + list(sample_author_comments.loc[:, 'body'].values)\n",
    "# tokenize\n",
    "from nltk.tokenize import WordPunctTokenizer\n",
    "word_tokenizer = WordPunctTokenizer()\n",
    "submission_comment_text_tokens = list(map(lambda x: word_tokenizer.tokenize(x.lower()), submission_comment_texts))\n",
    "# remove stop words lol\n",
    "from stop_words import get_stop_words\n",
    "en_stops = get_stop_words('en')\n",
    "submission_comment_text_tokens = list(map(lambda x: list(filter(lambda y: y not in en_stops, x)), submission_comment_text_tokens))\n",
    "submission_comment_dict = Dictionary(submission_comment_text_tokens)\n",
    "submission_comment_corpus = list(map(lambda x: submission_comment_dict.doc2bow(x), submission_comment_text_tokens))"
   ]
  },
  {
   "cell_type": "code",
   "execution_count": 137,
   "metadata": {
    "scrolled": true
   },
   "outputs": [
    {
     "name": "stdout",
     "output_type": "stream",
     "text": [
      "testing topics=20\n",
      "testing topics=30\n",
      "testing topics=50\n",
      "testing topics=100\n"
     ]
    }
   ],
   "source": [
    "## test different topics for coherence\n",
    "num_topics = [20, 30, 50, 100]\n",
    "coherence_vals = []\n",
    "for num_topics_i in num_topics:\n",
    "    print(f'testing topics={num_topics_i}')\n",
    "    lda_model = LdaModel(submission_comment_corpus, num_topics=num_topics_i, id2word=submission_comment_dict)\n",
    "    coherence_model = CoherenceModel(model=lda_model, corpus=submission_comment_corpus, coherence='u_mass')\n",
    "    coherence = coherence_model.get_coherence()\n",
    "    coherence_vals.append(coherence)"
   ]
  },
  {
   "cell_type": "code",
   "execution_count": 138,
   "metadata": {},
   "outputs": [
    {
     "name": "stdout",
     "output_type": "stream",
     "text": [
      "[-7.192421609994378, -6.834884034833574, -6.096277888055888, -6.373581459396098]\n"
     ]
    }
   ],
   "source": [
    "print(coherence_vals)"
   ]
  },
  {
   "cell_type": "markdown",
   "metadata": {},
   "source": [
    "Let's use $K=50$."
   ]
  },
  {
   "cell_type": "code",
   "execution_count": 139,
   "metadata": {
    "scrolled": true
   },
   "outputs": [
    {
     "name": "stdout",
     "output_type": "stream",
     "text": [
      "topic = 0, words = [('worth', 0.21575102), ('ex', 0.13222744), ('student', 0.0653791), ('--', 0.0366315), ('breaks', 0.03551335), ('slap', 0.0142751895), ('fruit', 0.012818649), ('hockey', 0.0020508156), (',', 3.411261e-05), ('.', 8.224714e-06)]\n",
      "topic = 1, words = [('say', 0.4543252), ('death', 0.08502652), ('americans', 0.06504055), ('store', 0.043635387), ('across', 0.042917866), ('beer', 0.03608055), ('stealing', 0.014830403), ('charged', 0.012518345), ('statues', 0.008471615), ('offensive', 0.0076992773)]\n",
      "topic = 2, words = [('one', 0.57217103), ('man', 0.12053903), ('parents', 0.05313702), (',', 0.041535184), ('killing', 0.027288936), ('.', 0.0186217), ('pass', 0.016659392), ('lead', 0.016585557), ('orange', 0.008744537), ('steel', 0.0074284417)]\n",
      "topic = 3, words = [('google', 0.13761283), ('north', 0.084816284), ('texas', 0.07477755), ('florida', 0.063822664), ('foot', 0.054939717), ('pool', 0.048612863), ('swimming', 0.035046965), ('soul', 0.01941438), ('stars', 0.017702736), ('finds', 0.01732225)]\n",
      "topic = 4, words = [('time', 0.60869324), ('shootings', 0.04354551), ('election', 0.03986575), ('murder', 0.03691425), ('foreign', 0.028095888), ('london', 0.02164938), ('africa', 0.019195685), ('coverage', 0.008875553), ('fatal', 0.005283968), ('journalists', 0.0029175144)]\n",
      "topic = 5, words = [('year', 0.22984526), ('old', 0.15680744), ('state', 0.13414705), ('black', 0.13048302), ('national', 0.0334575), ('11', 0.031781327), ('return', 0.030869473), ('feels', 0.029778937), ('jail', 0.024802636), ('driver', 0.013748139)]\n",
      "topic = 6, words = [('-', 0.6942276), ('.', 0.10741732), ('u', 0.02873014), ('comes', 0.023919886), ('team', 0.021506947), ('anti', 0.015192096), ('facebook', 0.012816526), (',', 0.008596603), ('response', 0.006618644), ('sites', 0.004095838)]\n",
      "topic = 7, words = [('police', 0.23075648), ('woman', 0.15326585), ('apply', 0.06918948), ('armed', 0.04636422), ('kicked', 0.025409665), ('pregnant', 0.024663083), ('cruise', 0.012103296), ('ted', 0.009691464), (',', 1.3058092e-05), ('say', 6.642446e-06)]\n",
      "topic = 8, words = [('shooting', 0.12130594), ('drug', 0.117185995), ('judge', 0.083055235), ('crimes', 0.07544468), ('.”', 0.047917373), ('kansas', 0.027620623), ('parkland', 0.014505384), ('steven', 0.011676164), ('bully', 0.009656342), ('homicide', 0.009261408)]\n",
      "topic = 9, words = [('high', 0.17294118), ('school', 0.16854334), ('second', 0.11920169), ('support', 0.10706631), ('class', 0.0739982), ('amendment', 0.05550553), ('walk', 0.044817135), ('students', 0.031911638), ('hospital', 0.020749453), ('staff', 0.013011955)]\n",
      "topic = 10, words = [('russian', 0.18561102), ('shut', 0.09665795), ('bed', 0.07474077), ('filter', 0.022303618), ('throws', 0.019877745), ('indian', 0.014357991), ('bugs', 0.01365001), ('shade', 0.009742201), ('stabbing', 0.009388103), ('airport', 0.005160404)]\n",
      "topic = 11, words = [('.', 0.21280415), ('now', 0.11615566), (',', 0.1128039), ('game', 0.059038427), ('love', 0.05462588), ('thanks', 0.048605647), ('know', 0.045310095), ('like', 0.036942996), ('free', 0.03531077), ('home', 0.027765619)]\n",
      "topic = 12, words = [('taylor', 0.0020954248), (',', 1.4390095e-05), ('murder', 1.4338501e-05), ('card', 1.4301736e-05), ('shootings', 1.428073e-05), ('time', 1.4280722e-05), ('york', 1.4280555e-05), ('rate', 1.4280412e-05), ('ever', 1.4280221e-05), ('first', 1.4280183e-05)]\n",
      "topic = 13, words = [('another', 0.382013), ('info', 0.06608272), ('planet', 0.044771962), ('fbi', 0.03986136), ('winning', 0.03668752), ('dies', 0.017958572), ('agent', 0.012430454), ('classified', 0.009952031), ('bites', 0.0053155017), ('hires', 0.0029754727)]\n",
      "topic = 14, words = [('first', 0.3110365), ('new', 0.25601226), ('ever', 0.20215505), ('rate', 0.04519995), ('york', 0.016450204), ('time', 0.003318049), ('london', 5.030276e-05), ('murder', 3.6043115e-05), ('shootings', 1.7685645e-05), ('fatal', 1.3127227e-05)]\n",
      "topic = 15, words = [('art', 0.09498833), ('economy', 0.0637547), ('massive', 0.057598673), ('immigrants', 0.05503918), ('ice', 0.049539857), ('complex', 0.043851145), ('central', 0.03298232), ('southern', 0.03162149), ('funds', 0.0313915), ('protests', 0.019957159)]\n",
      "topic = 16, words = [('trump', 0.37150925), ('family', 0.17170607), ('research', 0.047038548), ('putin', 0.030694742), ('contact', 0.028724758), ('arrested', 0.018289085), ('linked', 0.015346454), ('christians', 0.012861694), ('.', 0.010972814), ('officials', 0.010003693)]\n",
      "topic = 17, words = [('female', 0.10750327), ('calls', 0.066421814), ('colorado', 0.042565454), (';', 1.3719051e-05), ('ever', 1.3399701e-05), ('first', 1.23443015e-05), ('murder', 1.2273261e-05), ('time', 1.22186075e-05), ('mustang', 1.20450695e-05), ('new', 1.170622e-05)]\n",
      "topic = 18, words = [(\"'\", 1.4574053e-05), ('detained', 1.4522313e-05), ('teens', 1.4521231e-05), ('rules', 1.4519979e-05), ('federal', 1.451697e-05), ('can', 1.4516757e-05), ('abortion', 1.4516371e-05), ('t', 1.4514695e-05), ('government', 1.4512943e-05), ('court', 1.4512401e-05)]\n",
      "topic = 19, words = [('white', 0.4405198), ('deadly', 0.054711424), ('photo', 0.03735906), ('egg', 0.017029602), ('galaxy', 0.010201221), ('exhibit', 0.0003140098), ('penguin', 0.00019095231), ('african', 1.09233315e-05), (':', 7.952011e-06), ('first', 7.3403608e-06)]\n",
      "topic = 20, words = [('earth', 0.16753818), ('1', 2.5247637e-05), ('$', 1.4281769e-05), (\"'\", 1.3044289e-05), ('us', 1.2753931e-05), ('can', 1.2319706e-05), ('t', 1.2283981e-05), ('-', 1.1975431e-05), ('11', 1.1897673e-05), ('government', 1.18774815e-05)]\n",
      "topic = 21, words = [('’', 0.41112447), ('.', 0.15916449), ('s', 0.14659779), ('t', 0.1408846), ('m', 0.03890109), ('like', 0.015743688), ('d', 0.013121649), ('didn', 0.011819599), ('baby', 0.007559173), ('fit', 0.0065087625)]\n",
      "topic = 22, words = [('can', 0.7339895), ('$', 0.113643095), ('.', 0.025004266), ('t', 0.013141017), (\"'\", 0.009596632), ('even', 6.623417e-05), ('general', 5.379968e-05), (',', 2.419168e-05), ('block', 8.555032e-06), ('teens', 4.0691734e-06)]\n",
      "topic = 23, words = [('terrifying', 0.017038368), ('condoms', 0.014814208), ('fad', 0.008969873), ('?', 1.620826e-05), ('new', 1.5311189e-05), ('time', 1.47772125e-05), (\"'\", 1.4637717e-05), ('ever', 1.4572791e-05), ('first', 1.4557748e-05), ('shootings', 1.4540325e-05)]\n",
      "topic = 24, words = [('\"', 0.35678276), ('(', 0.20218158), (')', 0.15659696), (',', 0.071559764), ('day', 0.043539878), ('.', 0.03556761), ('.\"', 0.01811259), ('30', 0.011672961), (\"'\", 0.009000528), ('david', 0.0062525016)]\n",
      "topic = 25, words = [('matter', 0.22973628), ('lives', 0.17878674), ('racism', 0.10623452), ('cell', 0.039829686), ('t', 1.2283566e-05), (\"'\", 9.329699e-06), ('can', 7.854795e-06), ('federal', 7.522299e-06), ('abortion', 7.0716173e-06), ('block', 6.8960003e-06)]\n",
      "topic = 26, words = [('live', 0.19786927), ('give', 0.121343404), ('hours', 0.10616232), ('science', 0.08115032), ('music', 0.06535336), ('within', 0.044438794), ('training', 0.042441033), ('nation', 0.03743537), ('fall', 0.03676444), ('chinese', 0.019948736)]\n",
      "topic = 27, words = [('“', 0.24682379), ('real', 0.12698567), ('stop', 0.12177802), ('found', 0.07782535), ('city', 0.06042022), ('hit', 0.05067695), ('area', 0.03775267), ('card', 0.030594714), ('.', 0.023522556), ('caused', 0.019270502)]\n",
      "topic = 28, words = [('.', 0.8928535), ('case', 0.015772903), (';', 0.010012721), (',', 0.009372152), ('dog', 0.008326952), ('late', 0.005993558), ('cops', 0.0042312704), ('p', 0.003763629), ('abuse', 0.0036192467), ('give', 0.003085016)]\n",
      "topic = 29, words = [('like', 0.5684572), ('way', 0.2461627), ('looks', 0.07365682), ('total', 0.016879037), (',', 0.00045911284), ('bees', 0.00040204104), ('dreamed', 0.00028251033), (\"'\", 0.00027156074), ('time', 0.00021464114), ('.', 0.00018260407)]\n",
      "topic = 30, words = [(\"'\", 0.40175626), ('s', 0.31749687), ('.', 0.22099297), ('d', 0.02591577), ('women', 0.010650782), ('even', 0.0029306086), ('t', 0.00047482428), ('dog', 0.00013223097), ('health', 6.5806395e-05), ('woman', 2.9079989e-05)]\n",
      "topic = 31, words = [('end', 0.3432116), ('7', 0.118382424), ('general', 0.10312721), ('church', 0.03433741), ('locations', 0.0065284423), ('conference', 0.0062176557), ('mormon', 0.0037555825), ('temple', 0.0029981886), ('.', 0.0005650102), ('lds', 0.00017274274)]\n",
      "topic = 32, words = [('african', 0.04813754), ('immigrant', 0.031782474), ('opioid', 0.0067428495), ('certificates', 0.0028083774), ('block', 1.7862965e-05), (\"'\", 1.5972639e-05), ('t', 1.5540832e-05), ('can', 1.5115691e-05), ('abortion', 1.4970623e-05), ('government', 1.4676546e-05)]\n",
      "topic = 33, words = [('story', 0.37176672), ('vicious', 0.00633675), ('court', 1.0061173e-05), (\"'\", 9.802202e-06), ('detained', 9.458634e-06), ('can', 9.41202e-06), ('t', 9.392587e-06), ('immigrant', 9.184152e-06), ('rules', 9.049895e-06), ('federal', 9.029331e-06)]\n",
      "topic = 34, words = [('government', 0.3065823), ('court', 0.06705054), ('rules', 0.051272634), ('muslim', 0.05122539), ('federal', 0.034642898), ('agenda', 0.033738878), ('block', 0.03373879), ('abortion', 0.024843378), ('speech', 0.022768522), ('attacked', 0.01097143)]\n",
      "topic = 35, words = [('made', 0.3892398), ('show', 0.25735247), ('eating', 0.049122766), ('performance', 0.020151077), ('jailed', 0.0065746647), ('doodle', 0.0031135816), ('.', 0.0023564862), ('protesters', 0.0022157312), ('probation', 0.0015365963), ('demonstration', 0.0012100777)]\n",
      "topic = 36, words = [('1', 0.41688538), ('came', 0.15263273), ('meat', 0.039426602), ('crash', 0.021183744), ('ocean', 0.011315772), ('disney', 0.008745657), ('lab', 0.008523791), ('.', 0.0046631475), (\"'\", 0.00034318483), ('$', 0.00026991003)]\n"
     ]
    },
    {
     "name": "stdout",
     "output_type": "stream",
     "text": [
      "topic = 37, words = [(':', 0.46252766), ('news', 0.12249927), ('bill', 0.08745987), ('red', 0.05301275), ('son', 0.03817465), ('propaganda', 0.03036778), ('india', 0.014309588), ('mars', 0.006676914), ('nasa', 0.0038980406), ('guards', 0.0027859465)]\n",
      "topic = 38, words = [('university', 0.11542098), ('row', 0.03300526), ('indiana', 0.008662793), ('first', 1.2925738e-05), (\"'\", 1.2804208e-05), ('time', 1.2770847e-05), ('new', 1.2640888e-05), ('ever', 1.26002615e-05), ('t', 1.2588787e-05), ('york', 1.2553794e-05)]\n",
      "topic = 39, words = [('never', 0.5424242), ('water', 0.12725824), ('town', 0.039564162), ('pop', 0.020365398), ('applied', 0.015733054), ('savings', 0.007987896), ('unfairly', 0.0033997288), ('.', 0.0017262301), ('cape', 0.00097258855), ('time', 4.0043382e-05)]\n",
      "topic = 40, words = [(\"'\", 0.30499983), ('.', 0.22245687), ('t', 0.19679876), (',', 0.09234089), ('m', 0.056481354), ('know', 0.027263222), ('didn', 0.020727579), ('like', 0.020022186), ('can', 0.009824202), ('things', 0.007950289)]\n",
      "topic = 41, words = [('last', 0.14386615), ('rights', 0.11845676), ('car', 0.07183139), ('head', 0.06716199), ('front', 0.05789884), ('space', 0.054050036), ('.', 0.053137098), ('phone', 0.048306882), ('three', 0.043225486), ('ran', 0.021538718)]\n",
      "topic = 42, words = [('even', 0.39993265), ('years', 0.16806327), ('without', 0.13885146), ('jobs', 0.061112627), ('thousands', 0.027993744), ('90', 0.019733425), ('voting', 0.018229386), ('amazon', 0.015122267), ('explanation', 0.00837551), ('closing', 0.0060051745)]\n",
      "topic = 43, words = [('ve', 0.310692), (\"'\", 0.20292397), ('everyone', 0.14724621), ('.', 0.057628646), ('says', 0.054404955), ('fire', 0.04762284), ('eu', 0.028859619), ('years', 0.010711515), ('creates', 0.0058202655), ('t', 0.0057630553)]\n",
      "topic = 44, words = [('us', 0.17724393), ('back', 0.13149802), ('.', 0.10174373), ('every', 0.0950497), ('5', 0.069756456), ('&', 0.06399468), ('used', 0.06156784), ('must', 0.051263854), ('media', 0.036761872), ('million', 0.022902653)]\n",
      "topic = 45, words = [('museum', 0.020582557), ('mustang', 0.00060266204), ('rate', 1.7231343e-05), ('new', 1.623271e-05), ('time', 1.6043263e-05), ('curator', 1.5728292e-05), ('murder', 1.5537196e-05), ('york', 1.5532423e-05), ('first', 1.5523012e-05), ('ever', 1.55051e-05)]\n",
      "topic = 46, words = [(',', 0.6317546), ('.', 0.30119577), (\"'\", 0.01039187), ('s', 0.0064496314), ('used', 0.0057224534), ('every', 0.0051523387), ('health', 0.004140857), ('everyone', 0.0033815848), ('years', 0.002449087), ('provide', 0.00241917)]\n",
      "topic = 47, words = [('/', 0.59951353), ('.', 0.21187328), ('political', 0.023584517), ('killed', 0.01938854), ('2018', 0.013906912), ('-', 0.013048859), ('news', 0.009743198), ('2016', 0.008834983), ('16', 0.006812312), ('confirmed', 0.0053760726)]\n",
      "topic = 48, words = [('?', 0.8520948), ('things', 0.0518971), ('know', 0.019576112), ('israel', 0.007424595), (',', 0.0074183326), ('latest', 0.0012988363), ('late', 0.00059473375), ('suspected', 0.0004479836), ('even', 0.000350661), ('filed', 0.00030399946)]\n",
      "topic = 49, words = [('south', 0.17218995), ('un', 0.07765637), ('k', 0.045454178), ('korean', 0.032310296), ('kim', 0.01815905), ('jong', 0.007776329), ('pyongyang', 0.0004136112), ('time', 1.36115705e-05), ('london', 1.1679899e-05), ('first', 1.1469871e-05)]\n"
     ]
    }
   ],
   "source": [
    "## retrain model etc.\n",
    "best_num_topics = 50\n",
    "lda_model = LdaModel(submission_comment_corpus, num_topics=best_num_topics, id2word=submission_comment_dict)\n",
    "## show top words for all topics\n",
    "for topic_i in range(best_num_topics):\n",
    "    print(f'topic = {topic_i}, words = {lda_model.show_topic(topic_i)}')"
   ]
  },
  {
   "cell_type": "markdown",
   "metadata": {},
   "source": [
    "We see some reasonable connections, like state names (topic 3) and international news (topic 10).\n",
    "\n",
    "Let's label all submissions and all authors, then look for submissions/authors with high overlap."
   ]
  },
  {
   "cell_type": "code",
   "execution_count": 161,
   "metadata": {
    "scrolled": true
   },
   "outputs": [],
   "source": [
    "def convert_docs_to_topics(docs, stops, tokenizer, corpus_dict, model):\n",
    "    # get tokens\n",
    "    doc_tokens = list(map(lambda x: word_tokenizer.tokenize(x.lower()), docs))\n",
    "    doc_tokens = list(map(lambda x: list(filter(lambda y: y not in stops, x)), doc_tokens))\n",
    "    # get corpus\n",
    "    doc_corpus = list(map(lambda x: corpus_dict.doc2bow(x), doc_tokens))\n",
    "    # get topics\n",
    "    doc_topics = list(map(lambda x: pd.Series(list(zip(*x))[1], index=list(zip(*x))[0]), \n",
    "                          model.get_document_topics(doc_corpus, minimum_probability=0.)))\n",
    "    doc_topics = pd.concat(doc_topics, axis=1).transpose()\n",
    "    return doc_topics\n",
    "submission_corpus = comment_data.loc[:, 'submission_title'].drop_duplicates().values\n",
    "comment_corpus = sample_author_comments.loc[:, 'body'].values\n",
    "submission_doc_topics = convert_docs_to_topics(submission_corpus, en_stops, word_tokenizer, submission_comment_dict, lda_model)\n",
    "comment_doc_topics = convert_docs_to_topics(comment_corpus, en_stops, word_tokenizer, submission_comment_dict, lda_model)"
   ]
  },
  {
   "cell_type": "code",
   "execution_count": 162,
   "metadata": {
    "scrolled": true
   },
   "outputs": [
    {
     "name": "stdout",
     "output_type": "stream",
     "text": [
      "(108, 89903)\n",
      "submission doc = Africa Egyptian government threatens foreign journalists over coverage of election\n",
      "\tcomment sim=0.9828344405457891\n",
      "\tcomment doc=Time to recharge the kindle \n",
      "\tcomment sim=0.9828344405457891\n",
      "\tcomment doc=I hear you on Todd and Tyler all the time!\n",
      "\tcomment sim=0.9828344405457891\n",
      "\tcomment doc=Just in time for Lent too! Fish Friday!\n",
      "\tcomment sim=0.9828344380520084\n",
      "\tcomment doc=dont use it as toilet paper next time\n",
      "\tcomment sim=0.9828344380520084\n",
      "\tcomment doc=Think it adds 4% of market value on top of what it is at the time of buying not quite sure but thats my 2 cent\n",
      "submission doc = Bed bugs found in Kansas City airport seating area\n",
      "\tcomment sim=0.9738770788186343\n",
      "\tcomment doc=Found the Indian programmer\n",
      "\tcomment sim=0.7989469295715768\n",
      "\tcomment doc=I think we found one of dem secret Russian trolls\n",
      "\tcomment sim=0.7040547339183398\n",
      "\tcomment doc=Stop looking at screens from phones and computers at least 2 hours before bed. It wrecks your sleep schedule \n",
      "\tcomment sim=0.7030775848707801\n",
      "\tcomment doc=Such an obvious hoax lol\n",
      "\tcomment sim=0.7030759001799058\n",
      "\tcomment doc=Nicked a 150 dollar fossil\n",
      "submission doc = Convenience store clerk charged with murder after shooting teen for stealing a beer, police say\n",
      "\tcomment sim=0.9655075194614268\n",
      "\tcomment doc=Abita makes better root beer than actual beer \n",
      "\tcomment sim=0.9653090905286463\n",
      "\tcomment doc=I would say invest in bitcoin\n",
      "\tcomment sim=0.9653090905286463\n",
      "\tcomment doc=I could say the same thing\n",
      "\tcomment sim=0.9653090905286463\n",
      "\tcomment doc=Haha whatever you say dinglecunt\n",
      "\tcomment sim=0.9653090905286463\n",
      "\tcomment doc=Say that to the IVF twins contingent\n",
      "submission doc = Mustang hits 150 m.p.h. on Colorado interstate; cops give up chase\n",
      "\tcomment sim=0.9816510041563082\n",
      "\tcomment doc=My dog would just let it all hit his face then eat it off the floor. Vvv impressed with this doggo.\n",
      "\tcomment sim=0.9812689649969427\n",
      "\tcomment doc=That life is some kind of illusionary test or joke. Too many coincidences happen in life for it to be real. I think life might actually a nightmare of some other type of conscious.\n",
      "\tcomment sim=0.9812687674571916\n",
      "\tcomment doc=I would break this in a week. I did with my chip card. I am a god damn wrecking ball. \n",
      "\tcomment sim=0.9812685672557989\n",
      "\tcomment doc=>It boggles the brain.\n",
      "\n",
      "Skin color. Full stop.\n",
      "\tcomment sim=0.9812671815089564\n",
      "\tcomment doc=Under the pineapple Willys dock in Panama City Fl. \n",
      "\n",
      "And in the staircase on the 72 floor of the Westin hotel in Atlanta. 2 floors above the Sundial. \n",
      "submission doc = Tiangong-1 crash: China says space station came down in Pacific Ocean\n",
      "\tcomment sim=0.8542845580361048\n",
      "\tcomment doc=Ugg boots in a lab?! \n",
      "\tcomment sim=0.8542845580361048\n",
      "\tcomment doc=Mine is a lab\n",
      "\tcomment sim=0.8542845463159451\n",
      "\tcomment doc=Trashy Disney Princess \n",
      "\tcomment sim=0.854284410587009\n",
      "\tcomment doc=Ocean Mc Seaface\n",
      "\tcomment sim=0.8542842026428904\n",
      "\tcomment doc=really enjoy watching them...crash and burn hehehe\n",
      "submission doc = Three women ID'd in cell phone robbery. Getaway car ran over victim's head.\n",
      "\tcomment sim=0.9872316294019041\n",
      "\tcomment doc=Elon Musk really should shoot his embalmed body and wheel chair into space.....just sayin'\n",
      "\tcomment sim=0.9872303656866184\n",
      "\tcomment doc=My car is a '97.. :(\n",
      "\tcomment sim=0.9872277454160209\n",
      "\tcomment doc=I'll just go cry and get five guys\n",
      "\tcomment sim=0.9872232388307898\n",
      "\tcomment doc=All these references have been going over my head so I had to do the 'ol youtube search\n",
      "\tcomment sim=0.9872222922110621\n",
      "\tcomment doc=*YOU'RE ALL A BUNCH OF IDIOTS!!!*\n",
      "\n",
      "Then sit there and shake my head in disappointment\n",
      "submission doc = China imposes additional tariffs in response to U.S. duties on steel, aluminum\n",
      "\tcomment sim=0.939897096700747\n",
      "\tcomment doc=It depends on the type of visa. Is is not enough to follow the timelines. Your intent must also align with the visa's purpose. See [here](https://www.quora.com/Visas-entry-exit-permits-After-how-many-days-can-a-person-re-enter-the-US-on-a-B2-visitor-visa-after-staying-there-for-5-months). That said I do feel sorry that they couldn't expedite the processing so that at least the obvious violation didn't come to pass.\n",
      "\tcomment sim=0.918762586500724\n",
      "\tcomment doc=you: forget about those facts, how do you explain my feelings?\n",
      "\n",
      "Meanwhile, in reality: Violent crime rates in the UK is higher than the US. The UK literally is more dangerous than the US. The CDC and FBI statistics show that these are the causes of death in 2016\n",
      "\n",
      "Rifles: 374\n",
      "\n",
      "Blunt objects: 472\n",
      "\n",
      "Hitting and kicking: 656\n",
      "\n",
      "Knives and sharp objects: 1,604\n",
      "\n",
      "Opiate overdose: 52,898 (this also counts illegal opiate usage, which makes one wonder how making something illegal doesn't necessarily change the outcome of something)\n",
      "\n",
      "Even better, all guns aren't even illegal in the UK. Only handguns. You can still buy a gun extremely close to an ar-15. You can legally own many semi-automatic firearms, firearms that could easily used in mass shootings. \n",
      "\n",
      "http://www.businessinsider.com/guns-you-can-legally-buy-in-the-uk-2016-4#the-beretta-arx-160-is-a-military-assault-rifle-used-by-the-italian-army-the-version-below-is-a-semiautomatic-chambered-in-22-lr-that-you-can-use-in-the-uk-4\n",
      "\n",
      "So ironically, you can't own the very type of gun that would make self-protection easy legally in the UK. How did that affect violent crime in the UK? You tell me. \n",
      "\n",
      "https://crimeresearch.org/2013/12/murder-and-homicide-rates-before-and-after-gun-bans/\n",
      "\n",
      "All it did was prevent British people from being able to protect themselves from muggings, robberies, assaults, and rapes.\n",
      "\n",
      "You keep saying \"that's not what I was saying! I never said gun control was the answer!\", and whatnot, so please clarify your position. What are you saying, exactly? It seems to me that you don't want to take a position because you'd be proven wrong, so you just pretend you don't have a position. You just say \"but, but, I'm scared! That's all you need to know!\" which isn't an argument, sorry. \n",
      "\tcomment sim=0.9104749052934414\n",
      "\tcomment doc=World War III. Seriously:\n",
      "\n",
      "- western media used the occasional middle-eastern terrorist attacks to manipulate people into being afraid of outsiders\n",
      "- when there were no such attacks, they blamed domestic violence on them as well\n",
      "- politicians took advantage of it to push their authoritarian agenda\n",
      "- Trump in the White House\n",
      "- USA, the most influential country on the planet refuses to cooperate with managing climate change and averting the end of civilization as we know it before the end of this century\n",
      "- immigrant crisis in Europe\n",
      "- North Korea taking the world hostage\n",
      "- the governments of Russia, China and North Korea ordering cyber attacks on other countries and international organizations\n",
      "- corruption's running amok in every capitalist country (it's a given in other countries)\n",
      "- allied countries turning against each other\n",
      "- the UN doesn't work\n",
      "- people are restless everywhere, they're willing to give power to anybody who promises a quick solution, hence\n",
      "- nationalist, far-right, fascist, racist and xenophobe ideologies are growing everywhere\n",
      "\n",
      "\tcomment sim=0.9098324663119324\n",
      "\tcomment doc=Hell yes. You know it's a damn good movie when it's your trusty pop-a-movie-in-and-go-to-sleep movie, every night.\n",
      "\n",
      "Edit: Well, not *every* night. I rotate between Aliens and Blade Runner.\n",
      "\tcomment sim=0.9066897424164514\n",
      "\tcomment doc=I was I thought I was really weird for having reactions like this to bad situations, but then there was a Modern Family episode about Claire laughing at a funeral and she wasn't sure why she does it.  I felt normal after that.\n",
      "\n",
      "Well, you know...normal in the what-the-hell-he-laughs-at-death-yeah-but-so-do-some-other-people kind of way.\n",
      "submission doc = New York museum slammed after hiring white curator for African art exhibit\n",
      "\tcomment sim=0.613364835934537\n",
      "\tcomment doc=Cash out your stocks boys we just hit a new peak in the meme economy \n",
      "\tcomment sim=0.6133622845646701\n",
      "\tcomment doc=New Zealand, really?......a country with an economy entirely built on milk and cheese?!?\n",
      "\tcomment sim=0.613072540199522\n",
      "\tcomment doc=Not really. Its mostly what these protests focus on and its what started it in the first place\n",
      "\tcomment sim=0.6124854693310401\n",
      "\tcomment doc=at first i thought it said wunderbar and i was looking for the photo finish decal. \n",
      "\tcomment sim=0.5981200223925526\n",
      "\tcomment doc=Who knows, London and New York are massive \n",
      "submission doc = TIANGONG-1 REENTRY - The reentry has been confirmed as 2018/04/02 00:16 UTC. Reentry occurred in the Pacific Ocean.\n",
      "\tcomment sim=0.990272082392608\n",
      "\tcomment doc=do tell:\n",
      "\n",
      "http://www.politifact.com/personalities/ben-carson/statements/?page=1\n",
      "\n",
      "\tcomment sim=0.979837838126816\n",
      "\tcomment doc=[Just gonna leave this here](http://steamcommunity.com/app/272230/discussions/1/451852571442776473/)\n",
      "\tcomment sim=0.9788086411173823\n",
      "\tcomment doc=Article on the Nixon aid quote referenced in the doc:\n",
      "http://harpers.org/archive/2016/04/legalize-it-all/\n",
      "\n",
      "Great article\n",
      "\tcomment sim=0.9784899098458862\n",
      "\tcomment doc=[GOATx2](https://upload.wikimedia.org/wikipedia/commons/1/10/Kawhi_Leonard_presents_ball_to_President_Obama_2_2015-01-12_cropped.jpg)\n",
      "\tcomment sim=0.9783292010689403\n",
      "\tcomment doc=haha lets copy and paste this guys post an hour before you nice 1 https://www.reddit.com/r/GlobalOffensive/comments/827or8/navi_s1mple_reaction_time_and_crosshair_placement/\n",
      "submission doc = Emmy-winning producer Steven Bochco dies at 74\n",
      "\tcomment sim=0.8765912540460904\n",
      "\tcomment doc=Agent Smith was always a proper cunt\n",
      "\tcomment sim=0.8765912540460904\n",
      "\tcomment doc=Agent Michael Scarn to the rescue from the evil nefarious Goldenface\n",
      "\tcomment sim=0.8765912091183442\n",
      "\tcomment doc=then he falls\n",
      "\n",
      "and dies\n",
      "\tcomment sim=0.8765912078852335\n",
      "\tcomment doc=Luke dies\n",
      "\tcomment sim=0.8765911562443591\n",
      "\tcomment doc=dank memes and dank dreams\n",
      "\n",
      "those dreams involve winning this giveaway\n",
      "\n"
     ]
    }
   ],
   "source": [
    "from sklearn.metrics.pairwise import cosine_similarity\n",
    "import numpy as np\n",
    "submission_comment_topic_sim = cosine_similarity(submission_doc_topics, comment_doc_topics)\n",
    "print(submission_comment_topic_sim.shape)\n",
    "sample_submission_idx = list(range(10))\n",
    "top_comments_per_submission = 5\n",
    "for sample_submission_idx_i in sample_submission_idx:\n",
    "    print(f'submission doc = {submission_corpus[sample_submission_idx_i]}')\n",
    "    top_comment_idx = list(reversed(np.argsort(submission_comment_topic_sim[sample_submission_idx_i, :])[-top_comments_per_submission:]))\n",
    "    for comment_idx_j in top_comment_idx:\n",
    "        print(f'\\tcomment sim={submission_comment_topic_sim[sample_submission_idx_i, comment_idx_j]}')\n",
    "        print(f'\\tcomment doc={comment_corpus[comment_idx_j]}')"
   ]
  },
  {
   "cell_type": "markdown",
   "metadata": {},
   "source": [
    "OK! So a lot of the \"similar\" comments tend to share some words/concepts in common but not as closely as I would have thought. We may have to restrict the \"prior comments\" to `r/news`, i.e. how often did the commenter make a comment on an article with a similar topic."
   ]
  },
  {
   "cell_type": "markdown",
   "metadata": {},
   "source": [
    "### Test prior subreddit comments\n",
    "Let's look at the same authors' prior comments in `r/news` specifically to address their similarity in topical experience.\n",
    "\n",
    "This will require getting the parent submission information too...awesome."
   ]
  },
  {
   "cell_type": "code",
   "execution_count": 1,
   "metadata": {},
   "outputs": [
    {
     "data": {
      "text/html": [
       "<div>\n",
       "<style scoped>\n",
       "    .dataframe tbody tr th:only-of-type {\n",
       "        vertical-align: middle;\n",
       "    }\n",
       "\n",
       "    .dataframe tbody tr th {\n",
       "        vertical-align: top;\n",
       "    }\n",
       "\n",
       "    .dataframe thead th {\n",
       "        text-align: right;\n",
       "    }\n",
       "</style>\n",
       "<table border=\"1\" class=\"dataframe\">\n",
       "  <thead>\n",
       "    <tr style=\"text-align: right;\">\n",
       "      <th></th>\n",
       "      <th>author_flair_text</th>\n",
       "      <th>id</th>\n",
       "      <th>body</th>\n",
       "      <th>subreddit</th>\n",
       "      <th>parent_id</th>\n",
       "      <th>author</th>\n",
       "    </tr>\n",
       "  </thead>\n",
       "  <tbody>\n",
       "    <tr>\n",
       "      <th>0</th>\n",
       "      <td>NaN</td>\n",
       "      <td>dwmkw5e</td>\n",
       "      <td>Explain that Mossad agents work at Black Cube ...</td>\n",
       "      <td>worldnews</td>\n",
       "      <td>t1_dwmk3k4</td>\n",
       "      <td>FrivolousBanter</td>\n",
       "    </tr>\n",
       "    <tr>\n",
       "      <th>1</th>\n",
       "      <td>NaN</td>\n",
       "      <td>dwmjfml</td>\n",
       "      <td>+20db if listening on Soundcloud.\\n\\n-40db if ...</td>\n",
       "      <td>dataisbeautiful</td>\n",
       "      <td>t3_88q0d1</td>\n",
       "      <td>FrivolousBanter</td>\n",
       "    </tr>\n",
       "    <tr>\n",
       "      <th>2</th>\n",
       "      <td>NaN</td>\n",
       "      <td>dwmjbdo</td>\n",
       "      <td>Alternate title: I payed 1 mana to win the gam...</td>\n",
       "      <td>hearthstone</td>\n",
       "      <td>t3_88ntm2</td>\n",
       "      <td>FrivolousBanter</td>\n",
       "    </tr>\n",
       "    <tr>\n",
       "      <th>3</th>\n",
       "      <td>NaN</td>\n",
       "      <td>dwmj1ip</td>\n",
       "      <td>Why is this even on the front page? Oh because...</td>\n",
       "      <td>pics</td>\n",
       "      <td>t3_88pnfc</td>\n",
       "      <td>FrivolousBanter</td>\n",
       "    </tr>\n",
       "    <tr>\n",
       "      <th>4</th>\n",
       "      <td>NaN</td>\n",
       "      <td>dwmito0</td>\n",
       "      <td>Don't even bother. It's the same 5 racists in ...</td>\n",
       "      <td>news</td>\n",
       "      <td>t1_dwlon2e</td>\n",
       "      <td>FrivolousBanter</td>\n",
       "    </tr>\n",
       "  </tbody>\n",
       "</table>\n",
       "</div>"
      ],
      "text/plain": [
       "  author_flair_text       id  \\\n",
       "0               NaN  dwmkw5e   \n",
       "1               NaN  dwmjfml   \n",
       "2               NaN  dwmjbdo   \n",
       "3               NaN  dwmj1ip   \n",
       "4               NaN  dwmito0   \n",
       "\n",
       "                                                body        subreddit  \\\n",
       "0  Explain that Mossad agents work at Black Cube ...        worldnews   \n",
       "1  +20db if listening on Soundcloud.\\n\\n-40db if ...  dataisbeautiful   \n",
       "2  Alternate title: I payed 1 mana to win the gam...      hearthstone   \n",
       "3  Why is this even on the front page? Oh because...             pics   \n",
       "4  Don't even bother. It's the same 5 racists in ...             news   \n",
       "\n",
       "    parent_id           author  \n",
       "0  t1_dwmk3k4  FrivolousBanter  \n",
       "1   t3_88q0d1  FrivolousBanter  \n",
       "2   t3_88ntm2  FrivolousBanter  \n",
       "3   t3_88pnfc  FrivolousBanter  \n",
       "4  t1_dwlon2e  FrivolousBanter  "
      ]
     },
     "metadata": {},
     "output_type": "display_data"
    }
   ],
   "source": [
    "## reload etc.\n",
    "import pandas as pd\n",
    "sample_author_comments = pd.read_csv('../../data/reddit_news_author_comment_sample.gz', sep='\\t', compression='gzip', index_col=False).drop('subreddit.1', axis=1)\n",
    "display(sample_author_comments.head())"
   ]
  },
  {
   "cell_type": "code",
   "execution_count": 2,
   "metadata": {},
   "outputs": [
    {
     "name": "stdout",
     "output_type": "stream",
     "text": [
      "8877/89913 <news> comments\n"
     ]
    }
   ],
   "source": [
    "print(f'{(sample_author_comments.loc[:, \"subreddit\"]==\"news\").sum()}/{sample_author_comments.shape[0]} <news> comments')"
   ]
  },
  {
   "cell_type": "code",
   "execution_count": 3,
   "metadata": {},
   "outputs": [
    {
     "name": "stdout",
     "output_type": "stream",
     "text": [
      "8281 unique parent comments\n"
     ]
    }
   ],
   "source": [
    "## how many unique parent comments do we need to collect??\n",
    "news_sample_author_comments = sample_author_comments[sample_author_comments.loc[:, 'subreddit']=='news']\n",
    "print(f'{news_sample_author_comments.loc[:, \"parent_id\"].nunique()} unique parent comments')"
   ]
  },
  {
   "cell_type": "code",
   "execution_count": 4,
   "metadata": {},
   "outputs": [
    {
     "name": "stderr",
     "output_type": "stream",
     "text": [
      "Version 7.1.2 of praw is outdated. Version 7.1.4 was released 19 hours ago.\n"
     ]
    }
   ],
   "source": [
    "from praw import Reddit\n",
    "from psaw import PushshiftAPI\n",
    "\n",
    "client_id = '9SCiZpAKCyfaTQ'\n",
    "client_secret = 'hQ2tGoUqpCizqJf2hNv0uP8cADw'\n",
    "user_agent = 'user_agent_123'\n",
    "reddit_api = Reddit(\n",
    "    client_id=client_id,\n",
    "    client_secret=client_secret,\n",
    "    user_agent=user_agent,\n",
    "    check_for_async=False,\n",
    ")\n",
    "\n",
    "pushshift_reddit_api = PushshiftAPI(reddit_api)"
   ]
  },
  {
   "cell_type": "code",
   "execution_count": 42,
   "metadata": {},
   "outputs": [
    {
     "name": "stderr",
     "output_type": "stream",
     "text": [
      "100%|██████████| 8281/8281 [1:09:23<00:00,  1.99it/s]\n"
     ]
    }
   ],
   "source": [
    "from tqdm import tqdm\n",
    "news_comment_parent_ids = news_sample_author_comments.loc[:, 'parent_id'].apply(lambda x: x.split('_')[1]).unique()\n",
    "news_comment_parent_submission_data = []\n",
    "for parent_id_i in tqdm(news_comment_parent_ids):\n",
    "    parent_submission_i = reddit_api.submission(parent_id_i)\n",
    "    # try to retrieve submission\n",
    "    try:\n",
    "        parent_title_i = parent_submission_i.title\n",
    "#         print(f'title = {parent_title_i}')\n",
    "        parent_upvotes_i = parent_submission_i.ups\n",
    "        parent_upvote_ratio_i = parent_submission_i.upvote_ratio\n",
    "        parent_submission_data_i = [parent_id_i, parent_title_i, parent_upvotes_i, parent_upvote_ratio_i]\n",
    "        parent_submission_data_i = pd.Series(parent_submission_data_i, index=['parent_id', 'parent_title', 'parent_upvotes', 'parent_upvote_ratio'])\n",
    "        news_comment_parent_submission_data.append(parent_submission_data_i)\n",
    "    except Exception as e:\n",
    "#         print(f'error = {e}')\n",
    "        pass\n",
    "news_comment_parent_submission_data = pd.concat(news_comment_parent_submission_data, axis=1).transpose()"
   ]
  },
  {
   "cell_type": "code",
   "execution_count": 43,
   "metadata": {},
   "outputs": [
    {
     "name": "stdout",
     "output_type": "stream",
     "text": [
      "2087/8281 submissions retrieved\n"
     ]
    }
   ],
   "source": [
    "print(f'{news_comment_parent_submission_data.shape[0]}/{len(news_comment_parent_ids)} submissions retrieved')"
   ]
  },
  {
   "cell_type": "code",
   "execution_count": 44,
   "metadata": {},
   "outputs": [],
   "source": [
    "## get original comment data\n",
    "comment_data = pd.read_csv('../../data/reddit_news_comment_sample.gz', sep='\\t', compression='gzip', index_col=False)"
   ]
  },
  {
   "cell_type": "code",
   "execution_count": 45,
   "metadata": {},
   "outputs": [
    {
     "data": {
      "text/html": [
       "<div>\n",
       "<style scoped>\n",
       "    .dataframe tbody tr th:only-of-type {\n",
       "        vertical-align: middle;\n",
       "    }\n",
       "\n",
       "    .dataframe tbody tr th {\n",
       "        vertical-align: top;\n",
       "    }\n",
       "\n",
       "    .dataframe thead th {\n",
       "        text-align: right;\n",
       "    }\n",
       "</style>\n",
       "<table border=\"1\" class=\"dataframe\">\n",
       "  <thead>\n",
       "    <tr style=\"text-align: right;\">\n",
       "      <th></th>\n",
       "      <th>submission_ID</th>\n",
       "      <th>submission_title</th>\n",
       "      <th>submission_URL</th>\n",
       "      <th>submission_upvotes</th>\n",
       "      <th>submission_upvote_ratio</th>\n",
       "      <th>comment_ID</th>\n",
       "      <th>comment_text</th>\n",
       "      <th>comment_upvotes</th>\n",
       "      <th>comment_author</th>\n",
       "      <th>comment_questions</th>\n",
       "      <th>URL_domain</th>\n",
       "    </tr>\n",
       "  </thead>\n",
       "  <tbody>\n",
       "    <tr>\n",
       "      <th>0</th>\n",
       "      <td>88wlu3</td>\n",
       "      <td>Africa Egyptian government threatens foreign j...</td>\n",
       "      <td>https://www.independent.co.uk/news/world/afric...</td>\n",
       "      <td>94</td>\n",
       "      <td>0.91</td>\n",
       "      <td>dwo5e9a</td>\n",
       "      <td>Africa Egyptian? As opposed to regular Egyptian?</td>\n",
       "      <td>13</td>\n",
       "      <td>johnsoone</td>\n",
       "      <td>['As opposed to regular Egyptian?']</td>\n",
       "      <td>independent.co.uk</td>\n",
       "    </tr>\n",
       "    <tr>\n",
       "      <th>1</th>\n",
       "      <td>88wkce</td>\n",
       "      <td>Bed bugs found in Kansas City airport seating ...</td>\n",
       "      <td>https://www.usatoday.com/story/travel/flights/...</td>\n",
       "      <td>2347</td>\n",
       "      <td>0.95</td>\n",
       "      <td>dwo1cjb</td>\n",
       "      <td>Just got our first home infestation within the...</td>\n",
       "      <td>96</td>\n",
       "      <td>jfoobar</td>\n",
       "      <td>[]</td>\n",
       "      <td>usatoday.com</td>\n",
       "    </tr>\n",
       "    <tr>\n",
       "      <th>2</th>\n",
       "      <td>88wkce</td>\n",
       "      <td>Bed bugs found in Kansas City airport seating ...</td>\n",
       "      <td>https://www.usatoday.com/story/travel/flights/...</td>\n",
       "      <td>2347</td>\n",
       "      <td>0.95</td>\n",
       "      <td>dwnsk0j</td>\n",
       "      <td>ah, fuck. are you allowed to take diatomaceous...</td>\n",
       "      <td>459</td>\n",
       "      <td>SomethingWitty4this</td>\n",
       "      <td>['are you allowed to take diatomaceous earth o...</td>\n",
       "      <td>usatoday.com</td>\n",
       "    </tr>\n",
       "    <tr>\n",
       "      <th>3</th>\n",
       "      <td>88wkce</td>\n",
       "      <td>Bed bugs found in Kansas City airport seating ...</td>\n",
       "      <td>https://www.usatoday.com/story/travel/flights/...</td>\n",
       "      <td>2347</td>\n",
       "      <td>0.95</td>\n",
       "      <td>dwntgsb</td>\n",
       "      <td>Burn down the airport</td>\n",
       "      <td>306</td>\n",
       "      <td>VTFC</td>\n",
       "      <td>[]</td>\n",
       "      <td>usatoday.com</td>\n",
       "    </tr>\n",
       "    <tr>\n",
       "      <th>4</th>\n",
       "      <td>88wkce</td>\n",
       "      <td>Bed bugs found in Kansas City airport seating ...</td>\n",
       "      <td>https://www.usatoday.com/story/travel/flights/...</td>\n",
       "      <td>2347</td>\n",
       "      <td>0.95</td>\n",
       "      <td>dwnxjqv</td>\n",
       "      <td>The passenger who carried the bugs into the te...</td>\n",
       "      <td>96</td>\n",
       "      <td>Gasonfires</td>\n",
       "      <td>[]</td>\n",
       "      <td>usatoday.com</td>\n",
       "    </tr>\n",
       "  </tbody>\n",
       "</table>\n",
       "</div>"
      ],
      "text/plain": [
       "  submission_ID                                   submission_title  \\\n",
       "0        88wlu3  Africa Egyptian government threatens foreign j...   \n",
       "1        88wkce  Bed bugs found in Kansas City airport seating ...   \n",
       "2        88wkce  Bed bugs found in Kansas City airport seating ...   \n",
       "3        88wkce  Bed bugs found in Kansas City airport seating ...   \n",
       "4        88wkce  Bed bugs found in Kansas City airport seating ...   \n",
       "\n",
       "                                      submission_URL  submission_upvotes  \\\n",
       "0  https://www.independent.co.uk/news/world/afric...                  94   \n",
       "1  https://www.usatoday.com/story/travel/flights/...                2347   \n",
       "2  https://www.usatoday.com/story/travel/flights/...                2347   \n",
       "3  https://www.usatoday.com/story/travel/flights/...                2347   \n",
       "4  https://www.usatoday.com/story/travel/flights/...                2347   \n",
       "\n",
       "   submission_upvote_ratio comment_ID  \\\n",
       "0                     0.91    dwo5e9a   \n",
       "1                     0.95    dwo1cjb   \n",
       "2                     0.95    dwnsk0j   \n",
       "3                     0.95    dwntgsb   \n",
       "4                     0.95    dwnxjqv   \n",
       "\n",
       "                                        comment_text  comment_upvotes  \\\n",
       "0   Africa Egyptian? As opposed to regular Egyptian?               13   \n",
       "1  Just got our first home infestation within the...               96   \n",
       "2  ah, fuck. are you allowed to take diatomaceous...              459   \n",
       "3                              Burn down the airport              306   \n",
       "4  The passenger who carried the bugs into the te...               96   \n",
       "\n",
       "        comment_author                                  comment_questions  \\\n",
       "0            johnsoone                ['As opposed to regular Egyptian?']   \n",
       "1              jfoobar                                                 []   \n",
       "2  SomethingWitty4this  ['are you allowed to take diatomaceous earth o...   \n",
       "3                 VTFC                                                 []   \n",
       "4           Gasonfires                                                 []   \n",
       "\n",
       "          URL_domain  \n",
       "0  independent.co.uk  \n",
       "1       usatoday.com  \n",
       "2       usatoday.com  \n",
       "3       usatoday.com  \n",
       "4       usatoday.com  "
      ]
     },
     "execution_count": 45,
     "metadata": {},
     "output_type": "execute_result"
    }
   ],
   "source": [
    "comment_data.head()"
   ]
  },
  {
   "cell_type": "code",
   "execution_count": 93,
   "metadata": {},
   "outputs": [],
   "source": [
    "## run topic modeling on parent submission titles and original submission titles\n",
    "from gensim.models import LdaModel\n",
    "num_topics = 50\n",
    "## train on submissions, test on comments? unlikely to generalize but sure\n",
    "from gensim.models import LdaModel\n",
    "from gensim.corpora.dictionary import Dictionary\n",
    "from nltk.tokenize import WordPunctTokenizer\n",
    "from stop_words import get_stop_words\n",
    "PUNCT = list(',.?!;:\"\\'-’')\n",
    "def convert_docs_to_corpus(docs, doc_dict=None):\n",
    "    word_tokenizer = WordPunctTokenizer()\n",
    "    doc_tokens = list(map(lambda x: word_tokenizer.tokenize(x.lower()), docs))\n",
    "    # remove stop words\n",
    "    en_stops = set(get_stop_words('en') + PUNCT)\n",
    "    doc_tokens = list(map(lambda x: list(filter(lambda y: y not in en_stops, x)), doc_tokens))\n",
    "    if(doc_dict is None):\n",
    "        doc_dict = Dictionary(doc_tokens)\n",
    "    doc_corpus = list(map(lambda x: doc_dict.doc2bow(x), doc_tokens))\n",
    "    return doc_dict, doc_corpus\n",
    "# tokenize\n",
    "# submission_dict, submission_corpus = convert_docs_to_corpus(comment_data.loc[:, 'submission_title'].values)"
   ]
  },
  {
   "cell_type": "code",
   "execution_count": 54,
   "metadata": {},
   "outputs": [],
   "source": [
    "def convert_docs_to_topics(docs, doc_dict, model):\n",
    "    doc_dict, doc_corpus = convert_docs_to_corpus(docs, doc_dict=doc_dict)\n",
    "    # get topics\n",
    "    doc_topics = list(map(lambda x: pd.Series(list(zip(*x))[1], index=list(zip(*x))[0]), \n",
    "                          model.get_document_topics(doc_corpus, minimum_probability=0.)))\n",
    "    doc_topics = pd.concat(doc_topics, axis=1).transpose()\n",
    "    return doc_topics"
   ]
  },
  {
   "cell_type": "code",
   "execution_count": 94,
   "metadata": {
    "scrolled": true
   },
   "outputs": [
    {
     "name": "stdout",
     "output_type": "stream",
     "text": [
      "[-15.532585885740536, -16.664627082062275, -17.84028066707488, -15.954842995802938]\n"
     ]
    }
   ],
   "source": [
    "from gensim.models import CoherenceModel\n",
    "# fit model\n",
    "num_topics = [10, 20, 50, 100]\n",
    "submission_docs = list(comment_data.loc[:, 'submission_title'].unique())\n",
    "parent_submission_docs = list(news_comment_parent_submission_data.loc[:, 'parent_title'].unique())\n",
    "combined_submission_docs = submission_docs + parent_submission_docs\n",
    "combined_submission_dict, combined_submission_corpus = convert_docs_to_corpus(combined_submission_docs)\n",
    "coherence_vals = []\n",
    "for num_topic_i in num_topics:\n",
    "    lda_model = LdaModel(combined_submission_corpus, num_topics=num_topic_i, id2word=combined_submission_dict)\n",
    "    # compute coherence\n",
    "    coherence_model = CoherenceModel(model=lda_model, corpus=combined_submission_corpus, coherence='u_mass')\n",
    "    coherence = coherence_model.get_coherence()\n",
    "    coherence_vals.append(coherence)\n",
    "print(coherence_vals)"
   ]
  },
  {
   "cell_type": "code",
   "execution_count": 95,
   "metadata": {},
   "outputs": [],
   "source": [
    "# compute all topics\n",
    "best_num_topics = 10\n",
    "best_lda_model = LdaModel(combined_submission_corpus, num_topics=best_num_topics, id2word=combined_submission_dict)\n",
    "submission_doc_topics = convert_docs_to_topics(submission_docs, combined_submission_dict, best_lda_model)\n",
    "parent_submission_doc_topics = convert_docs_to_topics(parent_submission_docs, combined_submission_dict, best_lda_model)"
   ]
  },
  {
   "cell_type": "code",
   "execution_count": 100,
   "metadata": {},
   "outputs": [
    {
     "name": "stdout",
     "output_type": "stream",
     "text": [
      "- topic 0: 0.009*\"says\" + 0.009*\"attack\" + 0.009*\"spy\" + 0.008*\"columbus\" + 0.008*\"sexual\" + 0.008*\"now\" + 0.008*\"000\" + 0.008*\"men\" + 0.007*\"s\" + 0.007*\"woman\" + 0.006*\"women\" + 0.006*\"time\" + 0.006*\"chemical\" + 0.006*\"will\" + 0.006*\"scientists\" + 0.006*\"school\" + 0.006*\"ex\" + 0.006*\"va\" + 0.006*\"days\" + 0.006*\"offenders\"\n",
      "- topic 1: 0.009*\"s\" + 0.009*\"muslims\" + 0.009*\"investigators\" + 0.009*\"test\" + 0.009*\"discovered\" + 0.009*\",\"\" + 0.008*\"u\" + 0.008*\"people\" + 0.006*\"hollywood\" + 0.006*\"ford\" + 0.006*\"attacks\" + 0.005*\"new\" + 0.005*\"teens\" + 0.005*\"suspected\" + 0.005*\"back\" + 0.005*\"hold\" + 0.005*\"crash\" + 0.005*\"police\" + 0.005*\"sign\" + 0.005*\"put\"\n",
      "- topic 2: 0.014*\"school\" + 0.012*\"student\" + 0.011*\"tsa\" + 0.010*\"s\" + 0.010*\"man\" + 0.010*\"shooting\" + 0.008*\"boy\" + 0.008*\"county\" + 0.007*\"nasa\" + 0.007*\"longer\" + 0.007*\"us\" + 0.007*\"police\" + 0.006*\"teacher\" + 0.006*\"high\" + 0.006*\"allegedly\" + 0.006*\"go\" + 0.006*\"42\" + 0.006*\"prostitution\" + 0.006*\"less\" + 0.005*\"year\"\n",
      "- topic 3: 0.012*\"officials\" + 0.010*\"police\" + 0.010*\"say\" + 0.010*\"michigan\" + 0.009*\"french\" + 0.009*\"pizza\" + 0.009*\"requiring\" + 0.009*\"ignored\" + 0.008*\"officer\" + 0.008*\"‘\" + 0.008*\"island\" + 0.007*\"undocumented\" + 0.006*\"s\" + 0.005*\"government\" + 0.005*\"saudi\" + 0.005*\"4\" + 0.005*\"sell\" + 0.005*\"part\" + 0.005*\"known\" + 0.005*\"report\"\n",
      "- topic 4: 0.015*\"$\" + 0.012*\"s\" + 0.009*\"bill\" + 0.008*\"pay\" + 0.007*\"footage\" + 0.007*\"shooting\" + 0.007*\"cell\" + 0.007*\"la\" + 0.006*\"nearly\" + 0.006*\"arrested\" + 0.006*\"school\" + 0.006*\"fbi\" + 0.005*\"new\" + 0.005*\"head\" + 0.005*\"woman\" + 0.005*\"hour\" + 0.005*\"florida\" + 0.004*\"5\" + 0.004*\"million\" + 0.004*\"black\"\n",
      "- topic 5: 0.019*\"year\" + 0.018*\"old\" + 0.017*\"police\" + 0.011*\"man\" + 0.010*\"says\" + 0.009*\"s\" + 0.009*\"16\" + 0.008*\"70\" + 0.007*\"sex\" + 0.007*\"former\" + 0.007*\"years\" + 0.006*\"video\" + 0.006*\"raid\" + 0.006*\"ending\" + 0.006*\"allows\" + 0.006*\"“\" + 0.006*\"report\" + 0.005*\"gets\" + 0.005*\"minnesota\" + 0.005*\"mental\"\n",
      "- topic 6: 0.031*\"s\" + 0.010*\"u\" + 0.009*\"$\" + 0.009*\"ground\" + 0.009*\"venezuela\" + 0.008*\"will\" + 0.006*\"russia\" + 0.006*\"dies\" + 0.006*\"weinstein\" + 0.006*\"high\" + 0.006*\"texas\" + 0.006*\"votes\" + 0.006*\"soon\" + 0.006*\"open\" + 0.005*\".”\" + 0.005*\"man\" + 0.005*\"former\" + 0.005*\"school\" + 0.005*\"ban\" + 0.005*\"tesla\"\n",
      "- topic 7: 0.015*\"s\" + 0.014*\"school\" + 0.010*\"man\" + 0.009*\"fired\" + 0.009*\"students\" + 0.009*\"florida\" + 0.008*\"police\" + 0.008*\"shooter\" + 0.007*\"–\" + 0.007*\"arrested\" + 0.006*\"facebook\" + 0.006*\"end\" + 0.006*\"woman\" + 0.005*\"fbi\" + 0.005*\"teacher\" + 0.005*\"shoot\" + 0.005*\"beaten\" + 0.005*\"youtube\" + 0.005*\"germany\" + 0.005*\"trafficking\"\n",
      "- topic 8: 0.012*\"arrested\" + 0.011*\"$\" + 0.009*\"man\" + 0.008*\"say\" + 0.008*\"china\" + 0.008*\"female\" + 0.007*\"fda\" + 0.007*\"fire\" + 0.007*\"german\" + 0.007*\"failed\" + 0.007*\"investigate\" + 0.007*\"us\" + 0.006*\"s\" + 0.006*\"police\" + 0.006*\"lawsuit\" + 0.005*\"t\" + 0.005*\"abuse\" + 0.004*\"white\" + 0.004*\"park\" + 0.004*\"least\"\n",
      "- topic 9: 0.026*\"s\" + 0.009*\"us\" + 0.008*\"france\" + 0.008*\"software\" + 0.008*\"exclusive\" + 0.008*\"fence\" + 0.007*\"affairs\" + 0.007*\"wants\" + 0.007*\"u\" + 0.007*\"calling\" + 0.007*\"report\" + 0.007*\"year\" + 0.006*\"boy\" + 0.006*\"court\" + 0.006*\"child\" + 0.006*\"man\" + 0.005*\"old\" + 0.005*\"trying\" + 0.005*\"abuse\" + 0.005*\"attack\"\n"
     ]
    }
   ],
   "source": [
    "## sanity check: top words per topic\n",
    "for x in best_lda_model.print_topics(num_words=20):\n",
    "    print(f'- topic {x[0]}: {x[1]}')"
   ]
  },
  {
   "cell_type": "markdown",
   "metadata": {},
   "source": [
    "We have the folllowing topics:\n",
    "\n",
    "- `crime`\n",
    "- `investigation`\n",
    "- `education`\n",
    "- `police`\n",
    "- `criminal_evidence`\n",
    "- `criminal_cases`\n",
    "- `international_violence`\n",
    "- `national`\n",
    "- `international_politics`\n",
    "- `international_business?`"
   ]
  },
  {
   "cell_type": "markdown",
   "metadata": {},
   "source": [
    "What are the most similar articles, between the original submissions and the parent submissions?"
   ]
  },
  {
   "cell_type": "code",
   "execution_count": 101,
   "metadata": {},
   "outputs": [
    {
     "name": "stdout",
     "output_type": "stream",
     "text": [
      "(108, 2086)\n"
     ]
    }
   ],
   "source": [
    "from sklearn.metrics.pairwise import cosine_similarity\n",
    "submission_vs_parent_comment_submission_sim = cosine_similarity(\n",
    "    submission_doc_topics, parent_submission_doc_topics\n",
    ")\n",
    "print(submission_vs_parent_comment_submission_sim.shape)"
   ]
  },
  {
   "cell_type": "code",
   "execution_count": 102,
   "metadata": {
    "scrolled": true
   },
   "outputs": [
    {
     "name": "stdout",
     "output_type": "stream",
     "text": [
      "0. submission = Africa Egyptian government threatens foreign journalists over coverage of election\n",
      "\tsubmission with sim = 0.9999999999913007: Women's March Returns a Year Later, as Movement Evolves\n",
      "\tsubmission with sim = 0.9999999999202936: Gregg Allman, Soulful Trailblazer of Southern Rock, Dies at 69\n",
      "\tsubmission with sim = 0.9999999998689756: Man pours boiling water on gay Atlanta couple in bed\n",
      "\tsubmission with sim = 0.9999999998532194: Wendy's replacing workers with machines because of rising wage cost\n",
      "\tsubmission with sim = 0.9999999998010338: Dylann Roof Convicted of Murdering 9 Black Charleston Churchgoers\n",
      "1. submission = Bed bugs found in Kansas City airport seating area\n",
      "\tsubmission with sim = 0.9999999916869322: Craigslist Shuts Down Personals Section, Citing HR1685 \"FOSTA\" Act\n",
      "\tsubmission with sim = 0.9999999912062653: Woman Prepares Salad, Sticks Fork Into 3-Inch Lizard\n",
      "\tsubmission with sim = 0.9999999907051534: DR Congo Kasai violence displaces 850,000 children\n",
      "\tsubmission with sim = 0.9999999894403824: 5000 rape kits result in 1300 DNA \"hits\" in Florida\n",
      "\tsubmission with sim = 0.9999999892086335: Family grieves Philippine maid found dead in Kuwait freezer\n",
      "2. submission = Convenience store clerk charged with murder after shooting teen for stealing a beer, police say\n",
      "\tsubmission with sim = 0.9989334328404266: Naomi Wadler - the girl inspiring America\n",
      "\tsubmission with sim = 0.9976397404172641: Man imprisoned for decades sues police, FBI after release\n",
      "\tsubmission with sim = 0.9934696136200795: Millionaire businessman not guilty of raping teenager after he accidentally penetrated her\n",
      "\tsubmission with sim = 0.9934515173107575: Shoplifter escapes after throwing feces at employee\n",
      "\tsubmission with sim = 0.9931044584193842: Mexico police, troops 'routinely' rape arrested women: Amnesty\n",
      "3. submission = Mustang hits 150 m.p.h. on Colorado interstate; cops give up chase\n",
      "\tsubmission with sim = 0.9999999999936884: Google’s Secret Revealed: Barge To Offer High-End Showrooms, Party Deck\n",
      "\tsubmission with sim = 0.9999999999823699: University of Chicago cancels all classes and activities on Monday due to credible threat of mass shooting\n",
      "\tsubmission with sim = 0.9999999999745739: Fresno Man with daily sushi habit pulls 5.5 foot tapeworm from body\n",
      "\tsubmission with sim = 0.9999999999714099: American Airlines refuses to compensate wheelchair-bound woman forced to crawl onto plane\n",
      "\tsubmission with sim = 0.9999999999176197: Military veterans defy Jeff Sessions, fight for medical marijuana to kick opioid addiction\n",
      "4. submission = Tiangong-1 crash: China says space station came down in Pacific Ocean\n",
      "\tsubmission with sim = 0.999937739142513: Why are teens snorting condoms? Here are five things to know about latest online fad\n",
      "\tsubmission with sim = 0.99993760181257: Private jet flying from United Arab Emirates to Turkey crashes in Iran, killing 11\n",
      "\tsubmission with sim = 0.9998955659174389: Kabul bomb: 40 dead and 140 wounded in huge explosion in Afghanistan capital.\n",
      "\tsubmission with sim = 0.9998646073615497: 'The Drug Whisperer': some drivers are getting arrested for driving stoned, even when their drug tests came back clean\n",
      "\tsubmission with sim = 0.9983435306899019: Man facing 15th drunk driving charge, including a conviction for motor vehicle homicide while drunk, rejects plea deal in favor of a trial\n",
      "5. submission = Three women ID'd in cell phone robbery. Getaway car ran over victim's head.\n",
      "\tsubmission with sim = 0.9999999999722939: Former Baltimore officer who cut dog's throat to get $45,000 in back pay\n",
      "\tsubmission with sim = 0.9999999998650584: Beware hobbyists: Connecticut Bill Would Impose 20-Year Prison Sentence On People Who Commit Crimes With Drones\n",
      "\tsubmission with sim = 0.9999986580708435: Moore Police release body cam footage from night state senator found in hotel room with teen boy\n",
      "\tsubmission with sim = 0.999998202134862: A Florida man with schizophrenia legally bought an AR-15 from a cop and killed his mother's friend and himself.\n",
      "\tsubmission with sim = 0.9999981844714112: Twitter Bans Activist Mommy for Tweeting Her Dislike of Teen Vogue's Anal Sex Guide\n",
      "6. submission = China imposes additional tariffs in response to U.S. duties on steel, aluminum\n",
      "\tsubmission with sim = 0.9999999999891844: Jill Messick's family calls her suicide 'collateral damage' of Weinstein story\n",
      "\tsubmission with sim = 0.9999999998978962: Mother walks through Texas high school without being stopped, calls for better security\n",
      "\tsubmission with sim = 0.9999999998069297: Leaked Documents Shows China's Intent to Force bitcoin Mining Halt\n",
      "\tsubmission with sim = 0.9999999997064848: Man Who Speaks Out About Police Seizing His Property Without Charges is Arrested Hours Later\n",
      "\tsubmission with sim = 0.9999999990841018: #DeleteFacebook Movement Gains Steam After 50 Million Users Have Data Leaked\n",
      "7. submission = New York museum slammed after hiring white curator for African art exhibit\n",
      "\tsubmission with sim = 0.9799827548001712: FDA pushes to lower nicotine to 'minimally or non-addictive levels': the agency said 33 million young people could be prevented from becoming smokers if the plan is implemented\n",
      "\tsubmission with sim = 0.972166132681506: Pakistan High Court judge calls for 'termination' of Ahmaddiyas\n",
      "\tsubmission with sim = 0.9580251412267521: No condoms at NKY needle exchanges, says Catholic health system St. Elizabeth\n",
      "\tsubmission with sim = 0.9577518948336085: Inmate who lived upstanding life after he was mistakenly freed wins release\n",
      "\tsubmission with sim = 0.9043152934042215: Debt Company Makes Sheriffs Rich by Jailing the Poor, Lawsuit Claims\n",
      "8. submission = TIANGONG-1 REENTRY - The reentry has been confirmed as 2018/04/02 00:16 UTC. Reentry occurred in the Pacific Ocean.\n",
      "\tsubmission with sim = 0.9999972864448735: Protesters calling for repeal of Idaho’s faith-healing exemption deliver 183 child-sized coffins to Capitol steps\n",
      "\tsubmission with sim = 0.9999972584189001: Huge Intel CPU Bug Allegedly Causes Kernel Memory Vulnerability With Up To 30% Performance Hit In Windows And Linux\n",
      "\tsubmission with sim = 0.9999929849692581: As U.S. gun debate rages on, Australians hand in 57,000 firearms, and Norway is set for a broad ban\n",
      "\tsubmission with sim = 0.9999929676550013: Climate change sceptics suffer blow as satellite data correction shows 140% faster global warming\n",
      "\tsubmission with sim = 0.999989669908729: Rob Lowe compares Sony pulling 'The Interview' to WWII appeasement of Hitler: Hollywood personalities slam Sony for pulling the Seth Rogen-James Franco comedy after receiving anonymous threats from hackers.\n",
      "9. submission = Emmy-winning producer Steven Bochco dies at 74\n",
      "\tsubmission with sim = 0.9999999999356562: Cops Accused of Intentionally Mowing Down Groundhog in Golf Cart\n",
      "\tsubmission with sim = 0.9999999997656964: US to seek social media details from all visa applicants\n",
      "\tsubmission with sim = 0.9999999997370849: Microsoft to ban 'offensive language' from Skype, Xbox, Office\n",
      "\tsubmission with sim = 0.9999999997054249: Michael Jackson molested me, choreographer Wade Robson claims\n",
      "\tsubmission with sim = 0.9999999996581942: Pentagon Document Confirms Existence of Russian Doomsday Torpedo\n"
     ]
    }
   ],
   "source": [
    "## sample docs and similarity\n",
    "import numpy as np\n",
    "sample_submission_count = 10\n",
    "top_sim_submissions = 5\n",
    "for i in range(sample_submission_count):\n",
    "    print(f'{i}. submission = {comment_submission_docs[i]}')\n",
    "    top_sim_idx_i = list(reversed(np.argsort(submission_vs_parent_comment_submission_sim[i, :])[-top_sim_submissions:]))\n",
    "    for idx_j in top_sim_idx_i:\n",
    "        print(f'\\tsubmission with sim = {submission_vs_parent_comment_submission_sim[i, idx_j]}: {parent_comment_submission_docs[idx_j]}')"
   ]
  },
  {
   "cell_type": "markdown",
   "metadata": {},
   "source": [
    "In general, these matches don't seem great except for \"crime\" stories. This is due to some data gaps: e.g. there aren't many \"China\" stories in the parent-submissions that are available to be treated as near-neighbors to the original submissions.\n",
    "\n",
    "We should test: do people tend to post about the same kinds of stories? I.e. do people tend to have consistent topic distributions?"
   ]
  },
  {
   "cell_type": "code",
   "execution_count": 144,
   "metadata": {},
   "outputs": [],
   "source": [
    "## join parent submission, commenter data\n",
    "sample_author_comments = sample_author_comments[sample_author_comments.loc[:, 'parent_id'].apply(lambda x: type(x) is str)]\n",
    "sample_author_comments = sample_author_comments.assign(**{\n",
    "    'parent_id' : sample_author_comments.loc[:, 'parent_id'].apply(lambda x: x.split('_')[-1] if '_' in x else x)\n",
    "})\n",
    "sample_author_submission_comment_data = pd.merge(news_comment_parent_submission_data.loc[:, ['parent_id', 'parent_title']],\n",
    "                                                 sample_author_comments.loc[:, ['parent_id', 'author']], \n",
    "                                                 on='parent_id', how='left')"
   ]
  },
  {
   "cell_type": "code",
   "execution_count": 145,
   "metadata": {},
   "outputs": [
    {
     "data": {
      "text/html": [
       "<div>\n",
       "<style scoped>\n",
       "    .dataframe tbody tr th:only-of-type {\n",
       "        vertical-align: middle;\n",
       "    }\n",
       "\n",
       "    .dataframe tbody tr th {\n",
       "        vertical-align: top;\n",
       "    }\n",
       "\n",
       "    .dataframe thead th {\n",
       "        text-align: right;\n",
       "    }\n",
       "</style>\n",
       "<table border=\"1\" class=\"dataframe\">\n",
       "  <thead>\n",
       "    <tr style=\"text-align: right;\">\n",
       "      <th></th>\n",
       "      <th>parent_id</th>\n",
       "      <th>parent_title</th>\n",
       "      <th>author</th>\n",
       "    </tr>\n",
       "  </thead>\n",
       "  <tbody>\n",
       "    <tr>\n",
       "      <th>0</th>\n",
       "      <td>88lbmq</td>\n",
       "      <td>Italy On High Alert: Officials Warn of Flood o...</td>\n",
       "      <td>FrivolousBanter</td>\n",
       "    </tr>\n",
       "    <tr>\n",
       "      <th>1</th>\n",
       "      <td>88pb8y</td>\n",
       "      <td>Inspector General reveals DoD can't verify whe...</td>\n",
       "      <td>FrivolousBanter</td>\n",
       "    </tr>\n",
       "    <tr>\n",
       "      <th>2</th>\n",
       "      <td>88pb8y</td>\n",
       "      <td>Inspector General reveals DoD can't verify whe...</td>\n",
       "      <td>gfmclain</td>\n",
       "    </tr>\n",
       "    <tr>\n",
       "      <th>3</th>\n",
       "      <td>88pb8y</td>\n",
       "      <td>Inspector General reveals DoD can't verify whe...</td>\n",
       "      <td>Ilikeyourmom91</td>\n",
       "    </tr>\n",
       "    <tr>\n",
       "      <th>4</th>\n",
       "      <td>88pb8y</td>\n",
       "      <td>Inspector General reveals DoD can't verify whe...</td>\n",
       "      <td>thput</td>\n",
       "    </tr>\n",
       "  </tbody>\n",
       "</table>\n",
       "</div>"
      ],
      "text/plain": [
       "  parent_id                                       parent_title  \\\n",
       "0    88lbmq  Italy On High Alert: Officials Warn of Flood o...   \n",
       "1    88pb8y  Inspector General reveals DoD can't verify whe...   \n",
       "2    88pb8y  Inspector General reveals DoD can't verify whe...   \n",
       "3    88pb8y  Inspector General reveals DoD can't verify whe...   \n",
       "4    88pb8y  Inspector General reveals DoD can't verify whe...   \n",
       "\n",
       "            author  \n",
       "0  FrivolousBanter  \n",
       "1  FrivolousBanter  \n",
       "2         gfmclain  \n",
       "3   Ilikeyourmom91  \n",
       "4            thput  "
      ]
     },
     "execution_count": 145,
     "metadata": {},
     "output_type": "execute_result"
    }
   ],
   "source": [
    "sample_author_submission_comment_data.head()"
   ]
  },
  {
   "cell_type": "code",
   "execution_count": 166,
   "metadata": {
    "scrolled": true
   },
   "outputs": [
    {
     "data": {
      "text/html": [
       "<div>\n",
       "<style scoped>\n",
       "    .dataframe tbody tr th:only-of-type {\n",
       "        vertical-align: middle;\n",
       "    }\n",
       "\n",
       "    .dataframe tbody tr th {\n",
       "        vertical-align: top;\n",
       "    }\n",
       "\n",
       "    .dataframe thead th {\n",
       "        text-align: right;\n",
       "    }\n",
       "</style>\n",
       "<table border=\"1\" class=\"dataframe\">\n",
       "  <thead>\n",
       "    <tr style=\"text-align: right;\">\n",
       "      <th></th>\n",
       "      <th>sim</th>\n",
       "      <th>sim_type</th>\n",
       "    </tr>\n",
       "  </thead>\n",
       "  <tbody>\n",
       "    <tr>\n",
       "      <th>0</th>\n",
       "      <td>0.505542</td>\n",
       "      <td>within_author</td>\n",
       "    </tr>\n",
       "    <tr>\n",
       "      <th>1</th>\n",
       "      <td>1.000000</td>\n",
       "      <td>within_author</td>\n",
       "    </tr>\n",
       "    <tr>\n",
       "      <th>2</th>\n",
       "      <td>0.689715</td>\n",
       "      <td>within_author</td>\n",
       "    </tr>\n",
       "    <tr>\n",
       "      <th>3</th>\n",
       "      <td>0.531100</td>\n",
       "      <td>within_author</td>\n",
       "    </tr>\n",
       "    <tr>\n",
       "      <th>4</th>\n",
       "      <td>0.635143</td>\n",
       "      <td>within_author</td>\n",
       "    </tr>\n",
       "  </tbody>\n",
       "</table>\n",
       "</div>"
      ],
      "text/plain": [
       "        sim       sim_type\n",
       "0  0.505542  within_author\n",
       "1  1.000000  within_author\n",
       "2  0.689715  within_author\n",
       "3  0.531100  within_author\n",
       "4  0.635143  within_author"
      ]
     },
     "metadata": {},
     "output_type": "display_data"
    },
    {
     "data": {
      "image/png": "[encoded data removed]",
      "text/plain": [
       "<Figure size 432x288 with 1 Axes>"
      ]
     },
     "metadata": {
      "needs_background": "light"
     },
     "output_type": "display_data"
    }
   ],
   "source": [
    "import numpy as np\n",
    "np.random.seed(123)\n",
    "from sklearn.metrics.pairwise import cosine_similarity\n",
    "min_prior_comment_count = 5\n",
    "author_submission_sim = []\n",
    "author_other_submission_sim = []\n",
    "submission_doc_array = np.array(submission_docs)\n",
    "parent_submission_doc_array = np.array(parent_submission_docs)\n",
    "valid_authors = sample_author_submission_comment_data.loc[:, 'author'].unique()\n",
    "for author_i in valid_authors:\n",
    "    # get all original submission indices that correspond to submissions to which author responded\n",
    "    submission_idx_i = comment_data[comment_data.loc[:, 'comment_author']==author_i].loc[:, 'submission_title'].apply(lambda x: np.where(submission_doc_array == x)[0][0]).values\n",
    "    # get all parent submission indices that correspond to submissions to which author (previously) responded\n",
    "    parent_submission_idx_i = sample_author_submission_comment_data[sample_author_submission_comment_data.loc[:, 'author']==author_i].loc[:, 'parent_title'].apply(lambda x: np.where(parent_submission_doc_array == x)[0][0]).values\n",
    "    submission_doc_topics_i = submission_doc_topics.iloc[submission_idx_i, :].mean(axis=0)\n",
    "    parent_submission_doc_topics_i = parent_submission_doc_topics.iloc[parent_submission_idx_i, :].mean(axis=0)\n",
    "    topic_sim_i = cosine_similarity(submission_doc_topics_i.values.reshape(1,-1), parent_submission_doc_topics_i.values.reshape(1,-1))[0][0]\n",
    "    # add control sim??\n",
    "    other_submission_idx_i = sample_author_submission_comment_data[sample_author_submission_comment_data.loc[:, 'author']!=author_i].loc[:, 'parent_title'].apply(lambda x: np.where(parent_submission_doc_array == x)[0][0]).values\n",
    "    other_submission_idx_i = np.random.choice(other_submission_idx_i, len(parent_submission_idx_i), replace=False)\n",
    "    other_submission_doc_topics_i = parent_submission_doc_topics.iloc[other_submission_idx_i, :].mean(axis=0)\n",
    "    other_topic_sim_i = cosine_similarity(submission_doc_topics_i.values.reshape(1,-1), other_submission_doc_topics_i.values.reshape(1,-1))[0][0]\n",
    "    author_submission_sim.append(topic_sim_i)\n",
    "    author_other_submission_sim.append(other_topic_sim_i)\n",
    "## combine data\n",
    "author_submission_sim_data = pd.DataFrame([author_submission_sim+author_other_submission_sim, ['within_author',]*len(author_submission_sim)+['other_author',]*len(author_other_submission_sim)], index=['sim', 'sim_type']).transpose()\n",
    "author_submission_sim_data = author_submission_sim_data.assign(**{\n",
    "    'sim' : author_submission_sim_data.loc[:, 'sim'].astype(float)\n",
    "})\n",
    "display(author_submission_sim_data.head())\n",
    "## plot both similarities\n",
    "import matplotlib\n",
    "%matplotlib inline\n",
    "import matplotlib.pyplot as plt\n",
    "import seaborn as sns\n",
    "sns.kdeplot(data=author_submission_sim_data, x='sim', hue='sim_type', common_norm=True)\n",
    "plt.show()"
   ]
  },
  {
   "cell_type": "markdown",
   "metadata": {},
   "source": [
    "Great! People on `r/news` tend to comment about the same topic as they previously did and tend to post about different topics as compared to other (random) people."
   ]
  },
  {
   "cell_type": "markdown",
   "metadata": {},
   "source": [
    "Do we see a division between \"experts\" and non-experts with respect to the topics? E.g. people who consistently comment on one topic over others.\n",
    "\n",
    "We can assess this by looking at the unique number of users who post at least X% of their prior comments about a particular topic."
   ]
  },
  {
   "cell_type": "code",
   "execution_count": 199,
   "metadata": {
    "scrolled": true
   },
   "outputs": [
    {
     "data": {
      "image/png": "[encoded data removed]",
      "text/plain": [
       "<Figure size 432x288 with 1 Axes>"
      ]
     },
     "metadata": {
      "needs_background": "light"
     },
     "output_type": "display_data"
    },
    {
     "data": {
      "image/png": "[encoded data removed]",
      "text/plain": [
       "<Figure size 432x288 with 1 Axes>"
      ]
     },
     "metadata": {
      "needs_background": "light"
     },
     "output_type": "display_data"
    },
    {
     "data": {
      "image/png": "[encoded data removed]",
      "text/plain": [
       "<Figure size 432x288 with 1 Axes>"
      ]
     },
     "metadata": {
      "needs_background": "light"
     },
     "output_type": "display_data"
    },
    {
     "data": {
      "image/png": "[encoded data removed]",
      "text/plain": [
       "<Figure size 432x288 with 1 Axes>"
      ]
     },
     "metadata": {
      "needs_background": "light"
     },
     "output_type": "display_data"
    },
    {
     "data": {
      "image/png": "[encoded data removed]",
      "text/plain": [
       "<Figure size 432x288 with 1 Axes>"
      ]
     },
     "metadata": {
      "needs_background": "light"
     },
     "output_type": "display_data"
    },
    {
     "data": {
      "image/png": "[encoded data removed]",
      "text/plain": [
       "<Figure size 432x288 with 1 Axes>"
      ]
     },
     "metadata": {
      "needs_background": "light"
     },
     "output_type": "display_data"
    },
    {
     "data": {
      "image/png": "[encoded data removed]",
      "text/plain": [
       "<Figure size 432x288 with 1 Axes>"
      ]
     },
     "metadata": {
      "needs_background": "light"
     },
     "output_type": "display_data"
    },
    {
     "data": {
      "image/png": "[encoded data removed]",
      "text/plain": [
       "<Figure size 432x288 with 1 Axes>"
      ]
     },
     "metadata": {
      "needs_background": "light"
     },
     "output_type": "display_data"
    },
    {
     "data": {
      "image/png": "[encoded data removed]",
      "text/plain": [
       "<Figure size 432x288 with 1 Axes>"
      ]
     },
     "metadata": {
      "needs_background": "light"
     },
     "output_type": "display_data"
    },
    {
     "data": {
      "image/png": "[encoded data removed]",
      "text/plain": [
       "<Figure size 432x288 with 1 Axes>"
      ]
     },
     "metadata": {
      "needs_background": "light"
     },
     "output_type": "display_data"
    }
   ],
   "source": [
    "## separate by topic\n",
    "num_topics = parent_submission_doc_topics.shape[1]\n",
    "sample_authors = sample_author_submission_comment_data.loc[:, 'author'].unique()\n",
    "## get distribution of topics per author\n",
    "author_topic_dist = []\n",
    "for author_i in sample_authors:\n",
    "    parent_submission_idx_i = sample_author_submission_comment_data[sample_author_submission_comment_data.loc[:, 'author']==author_i].loc[:, 'parent_title'].apply(lambda x: np.where(parent_submission_doc_array == x)[0][0]).values\n",
    "    topic_dist_i = parent_submission_doc_topics.iloc[parent_submission_idx_i, :].apply(lambda x: (x == x.max()).astype(int), axis=1)\n",
    "    topic_dist_i = topic_dist_i.mean(axis=0)\n",
    "    author_topic_dist.append(topic_dist_i)\n",
    "author_topic_dist = np.vstack(author_topic_dist)\n",
    "for topic_i in range(num_topics):\n",
    "    sns.kdeplot(author_topic_dist[:, topic_i])\n",
    "    plt.title(f'Author comment frequency: topic {topic_i}')\n",
    "    plt.show()"
   ]
  },
  {
   "cell_type": "markdown",
   "metadata": {},
   "source": [
    "Most people only comment a few times per topic, but we do see a small class of \"outliers\" who comment only on a particular topic (distribution bumps around 1.0)."
   ]
  },
  {
   "cell_type": "markdown",
   "metadata": {},
   "source": [
    "### Test commenters in r/worldnews\n",
    "Let's look into the comments on articles from `r/worldnews` to assess diversity of the user base.\n",
    "\n",
    "Commenters here are likely to be more diverse and have more relevant experience on certain issues."
   ]
  },
  {
   "cell_type": "code",
   "execution_count": 1,
   "metadata": {},
   "outputs": [],
   "source": [
    "from praw import Reddit\n",
    "def load_reddit_api():\n",
    "    client_id = '9SCiZpAKCyfaTQ'\n",
    "    client_secret = 'hQ2tGoUqpCizqJf2hNv0uP8cADw'\n",
    "    user_agent = 'user_agent_123'\n",
    "    reddit_api = Reddit(\n",
    "        client_id=client_id,\n",
    "        client_secret=client_secret,\n",
    "        user_agent=user_agent,\n",
    "        check_for_async=False,\n",
    "    )\n",
    "    return reddit_api"
   ]
  },
  {
   "cell_type": "code",
   "execution_count": 2,
   "metadata": {},
   "outputs": [],
   "source": [
    "reddit_api = load_reddit_api()"
   ]
  },
  {
   "cell_type": "code",
   "execution_count": 3,
   "metadata": {
    "scrolled": true
   },
   "outputs": [
    {
     "name": "stderr",
     "output_type": "stream",
     "text": [
      "0it [00:00, ?it/s]/home/ianbstew/miniconda3/envs/py3/lib/python3.8/site-packages/psaw/PushshiftAPI.py:252: UserWarning: Not all PushShift shards are active. Query results may be incomplete\n",
      "  warnings.warn(shards_down_message)\n",
      "1it [00:03,  3.43s/it]"
     ]
    },
    {
     "name": "stdout",
     "output_type": "stream",
     "text": [
      "0 submissions processed\n"
     ]
    },
    {
     "name": "stderr",
     "output_type": "stream",
     "text": [
      "\r",
      "101it [00:11,  2.42s/it]"
     ]
    },
    {
     "name": "stdout",
     "output_type": "stream",
     "text": [
      "100 submissions processed\n"
     ]
    },
    {
     "name": "stderr",
     "output_type": "stream",
     "text": [
      "\r",
      "201it [00:15,  1.71s/it]"
     ]
    },
    {
     "name": "stdout",
     "output_type": "stream",
     "text": [
      "200 submissions processed\n"
     ]
    },
    {
     "name": "stderr",
     "output_type": "stream",
     "text": [
      "\r",
      "301it [00:18,  1.20s/it]"
     ]
    },
    {
     "name": "stdout",
     "output_type": "stream",
     "text": [
      "300 submissions processed\n"
     ]
    },
    {
     "name": "stderr",
     "output_type": "stream",
     "text": [
      "\r",
      "401it [00:21,  1.17it/s]"
     ]
    },
    {
     "name": "stdout",
     "output_type": "stream",
     "text": [
      "400 submissions processed\n"
     ]
    },
    {
     "name": "stderr",
     "output_type": "stream",
     "text": [
      "\r",
      "501it [00:28,  1.62it/s]"
     ]
    },
    {
     "name": "stdout",
     "output_type": "stream",
     "text": [
      "500 submissions processed\n"
     ]
    },
    {
     "name": "stderr",
     "output_type": "stream",
     "text": [
      "\r",
      "601it [00:30,  2.29it/s]"
     ]
    },
    {
     "name": "stdout",
     "output_type": "stream",
     "text": [
      "600 submissions processed\n"
     ]
    },
    {
     "name": "stderr",
     "output_type": "stream",
     "text": [
      "\r",
      "701it [00:31,  3.23it/s]"
     ]
    },
    {
     "name": "stdout",
     "output_type": "stream",
     "text": [
      "700 submissions processed\n"
     ]
    },
    {
     "name": "stderr",
     "output_type": "stream",
     "text": [
      "\r",
      "801it [00:34,  4.41it/s]"
     ]
    },
    {
     "name": "stdout",
     "output_type": "stream",
     "text": [
      "800 submissions processed\n"
     ]
    },
    {
     "name": "stderr",
     "output_type": "stream",
     "text": [
      "\r",
      "901it [00:37,  6.00it/s]"
     ]
    },
    {
     "name": "stdout",
     "output_type": "stream",
     "text": [
      "900 submissions processed\n"
     ]
    },
    {
     "name": "stderr",
     "output_type": "stream",
     "text": [
      "\r",
      "1001it [00:38,  8.33it/s]"
     ]
    },
    {
     "name": "stdout",
     "output_type": "stream",
     "text": [
      "1000 submissions processed\n"
     ]
    },
    {
     "name": "stderr",
     "output_type": "stream",
     "text": [
      "\r",
      "1101it [00:47,  9.04it/s]"
     ]
    },
    {
     "name": "stdout",
     "output_type": "stream",
     "text": [
      "1100 submissions processed\n"
     ]
    },
    {
     "name": "stderr",
     "output_type": "stream",
     "text": [
      "\r",
      "1201it [00:49, 11.88it/s]"
     ]
    },
    {
     "name": "stdout",
     "output_type": "stream",
     "text": [
      "1200 submissions processed\n"
     ]
    },
    {
     "name": "stderr",
     "output_type": "stream",
     "text": [
      "\r",
      "1301it [00:53, 14.02it/s]"
     ]
    },
    {
     "name": "stdout",
     "output_type": "stream",
     "text": [
      "1300 submissions processed\n"
     ]
    },
    {
     "name": "stderr",
     "output_type": "stream",
     "text": [
      "\r",
      "1401it [00:58, 15.63it/s]"
     ]
    },
    {
     "name": "stdout",
     "output_type": "stream",
     "text": [
      "1400 submissions processed\n"
     ]
    },
    {
     "name": "stderr",
     "output_type": "stream",
     "text": [
      "\r",
      "1501it [01:06, 14.35it/s]"
     ]
    },
    {
     "name": "stdout",
     "output_type": "stream",
     "text": [
      "1500 submissions processed\n"
     ]
    },
    {
     "name": "stderr",
     "output_type": "stream",
     "text": [
      "\r",
      "1601it [01:08, 18.52it/s]"
     ]
    },
    {
     "name": "stdout",
     "output_type": "stream",
     "text": [
      "1600 submissions processed\n"
     ]
    },
    {
     "name": "stderr",
     "output_type": "stream",
     "text": [
      "\r",
      "1701it [01:10, 22.19it/s]"
     ]
    },
    {
     "name": "stdout",
     "output_type": "stream",
     "text": [
      "1700 submissions processed\n"
     ]
    },
    {
     "name": "stderr",
     "output_type": "stream",
     "text": [
      "\r",
      "1801it [01:12, 27.47it/s]"
     ]
    },
    {
     "name": "stdout",
     "output_type": "stream",
     "text": [
      "1800 submissions processed\n"
     ]
    },
    {
     "name": "stderr",
     "output_type": "stream",
     "text": [
      "\r",
      "1901it [01:19, 21.33it/s]"
     ]
    },
    {
     "name": "stdout",
     "output_type": "stream",
     "text": [
      "1900 submissions processed\n"
     ]
    },
    {
     "name": "stderr",
     "output_type": "stream",
     "text": [
      "\r",
      "2001it [01:21, 25.64it/s]"
     ]
    },
    {
     "name": "stdout",
     "output_type": "stream",
     "text": [
      "2000 submissions processed\n"
     ]
    },
    {
     "name": "stderr",
     "output_type": "stream",
     "text": [
      "\r",
      "2101it [01:23, 31.03it/s]"
     ]
    },
    {
     "name": "stdout",
     "output_type": "stream",
     "text": [
      "2100 submissions processed\n"
     ]
    },
    {
     "name": "stderr",
     "output_type": "stream",
     "text": [
      "\r",
      "2201it [01:25, 32.25it/s]"
     ]
    },
    {
     "name": "stdout",
     "output_type": "stream",
     "text": [
      "2200 submissions processed\n"
     ]
    },
    {
     "name": "stderr",
     "output_type": "stream",
     "text": [
      "\r",
      "2301it [01:27, 35.96it/s]"
     ]
    },
    {
     "name": "stdout",
     "output_type": "stream",
     "text": [
      "2300 submissions processed\n"
     ]
    },
    {
     "name": "stderr",
     "output_type": "stream",
     "text": [
      "\r",
      "2401it [01:37, 20.96it/s]"
     ]
    },
    {
     "name": "stdout",
     "output_type": "stream",
     "text": [
      "2400 submissions processed\n"
     ]
    },
    {
     "name": "stderr",
     "output_type": "stream",
     "text": [
      "\r",
      "2501it [01:40, 23.88it/s]"
     ]
    },
    {
     "name": "stdout",
     "output_type": "stream",
     "text": [
      "2500 submissions processed\n"
     ]
    },
    {
     "name": "stderr",
     "output_type": "stream",
     "text": [
      "\r",
      "2601it [01:43, 25.32it/s]"
     ]
    },
    {
     "name": "stdout",
     "output_type": "stream",
     "text": [
      "2600 submissions processed\n"
     ]
    },
    {
     "name": "stderr",
     "output_type": "stream",
     "text": [
      "\r",
      "2701it [01:45, 28.87it/s]"
     ]
    },
    {
     "name": "stdout",
     "output_type": "stream",
     "text": [
      "2700 submissions processed\n"
     ]
    },
    {
     "name": "stderr",
     "output_type": "stream",
     "text": [
      "\r",
      "2801it [01:47, 36.05it/s]"
     ]
    },
    {
     "name": "stdout",
     "output_type": "stream",
     "text": [
      "2800 submissions processed\n"
     ]
    },
    {
     "name": "stderr",
     "output_type": "stream",
     "text": [
      "\r",
      "2901it [01:56, 21.13it/s]"
     ]
    },
    {
     "name": "stdout",
     "output_type": "stream",
     "text": [
      "2900 submissions processed\n"
     ]
    },
    {
     "name": "stderr",
     "output_type": "stream",
     "text": [
      "\r",
      "3001it [02:01, 20.95it/s]"
     ]
    },
    {
     "name": "stdout",
     "output_type": "stream",
     "text": [
      "3000 submissions processed\n"
     ]
    },
    {
     "name": "stderr",
     "output_type": "stream",
     "text": [
      "\r",
      "3101it [02:03, 24.15it/s]"
     ]
    },
    {
     "name": "stdout",
     "output_type": "stream",
     "text": [
      "3100 submissions processed\n"
     ]
    },
    {
     "name": "stderr",
     "output_type": "stream",
     "text": [
      "\r",
      "3201it [02:05, 29.78it/s]"
     ]
    },
    {
     "name": "stdout",
     "output_type": "stream",
     "text": [
      "3200 submissions processed\n"
     ]
    },
    {
     "name": "stderr",
     "output_type": "stream",
     "text": [
      "\r",
      "3301it [02:14, 20.06it/s]"
     ]
    },
    {
     "name": "stdout",
     "output_type": "stream",
     "text": [
      "3300 submissions processed\n"
     ]
    },
    {
     "name": "stderr",
     "output_type": "stream",
     "text": [
      "\r",
      "3401it [02:15, 26.09it/s]"
     ]
    },
    {
     "name": "stdout",
     "output_type": "stream",
     "text": [
      "3400 submissions processed\n"
     ]
    },
    {
     "name": "stderr",
     "output_type": "stream",
     "text": [
      "\r",
      "3501it [02:20, 23.39it/s]"
     ]
    },
    {
     "name": "stdout",
     "output_type": "stream",
     "text": [
      "3500 submissions processed\n"
     ]
    },
    {
     "name": "stderr",
     "output_type": "stream",
     "text": [
      "\r",
      "3601it [02:23, 25.58it/s]"
     ]
    },
    {
     "name": "stdout",
     "output_type": "stream",
     "text": [
      "3600 submissions processed\n"
     ]
    },
    {
     "name": "stderr",
     "output_type": "stream",
     "text": [
      "\r",
      "3701it [02:32, 18.70it/s]"
     ]
    },
    {
     "name": "stdout",
     "output_type": "stream",
     "text": [
      "3700 submissions processed\n"
     ]
    },
    {
     "name": "stderr",
     "output_type": "stream",
     "text": [
      "\r",
      "3801it [02:34, 23.71it/s]"
     ]
    },
    {
     "name": "stdout",
     "output_type": "stream",
     "text": [
      "3800 submissions processed\n"
     ]
    },
    {
     "name": "stderr",
     "output_type": "stream",
     "text": [
      "\r",
      "3901it [02:37, 25.07it/s]"
     ]
    },
    {
     "name": "stdout",
     "output_type": "stream",
     "text": [
      "3900 submissions processed\n"
     ]
    },
    {
     "name": "stderr",
     "output_type": "stream",
     "text": [
      "\r",
      "4001it [02:39, 29.22it/s]"
     ]
    },
    {
     "name": "stdout",
     "output_type": "stream",
     "text": [
      "4000 submissions processed\n"
     ]
    },
    {
     "name": "stderr",
     "output_type": "stream",
     "text": [
      "\r",
      "4101it [02:48, 19.68it/s]"
     ]
    },
    {
     "name": "stdout",
     "output_type": "stream",
     "text": [
      "4100 submissions processed\n"
     ]
    },
    {
     "name": "stderr",
     "output_type": "stream",
     "text": [
      "\r",
      "4201it [02:49, 25.11it/s]"
     ]
    },
    {
     "name": "stdout",
     "output_type": "stream",
     "text": [
      "4200 submissions processed\n"
     ]
    },
    {
     "name": "stderr",
     "output_type": "stream",
     "text": [
      "\r",
      "4301it [02:51, 32.26it/s]"
     ]
    },
    {
     "name": "stdout",
     "output_type": "stream",
     "text": [
      "4300 submissions processed\n"
     ]
    },
    {
     "name": "stderr",
     "output_type": "stream",
     "text": [
      "\r",
      "4401it [02:52, 37.69it/s]"
     ]
    },
    {
     "name": "stdout",
     "output_type": "stream",
     "text": [
      "4400 submissions processed\n"
     ]
    },
    {
     "name": "stderr",
     "output_type": "stream",
     "text": [
      "\r",
      "4501it [02:54, 43.91it/s]"
     ]
    },
    {
     "name": "stdout",
     "output_type": "stream",
     "text": [
      "4500 submissions processed\n"
     ]
    },
    {
     "name": "stderr",
     "output_type": "stream",
     "text": [
      "\r",
      "4601it [02:57, 40.00it/s]"
     ]
    },
    {
     "name": "stdout",
     "output_type": "stream",
     "text": [
      "4600 submissions processed\n"
     ]
    },
    {
     "name": "stderr",
     "output_type": "stream",
     "text": [
      "\r",
      "4701it [03:05, 22.99it/s]"
     ]
    },
    {
     "name": "stdout",
     "output_type": "stream",
     "text": [
      "4700 submissions processed\n"
     ]
    },
    {
     "name": "stderr",
     "output_type": "stream",
     "text": [
      "\r",
      "4801it [03:07, 28.08it/s]"
     ]
    },
    {
     "name": "stdout",
     "output_type": "stream",
     "text": [
      "4800 submissions processed\n"
     ]
    },
    {
     "name": "stderr",
     "output_type": "stream",
     "text": [
      "\r",
      "4901it [03:10, 30.33it/s]"
     ]
    },
    {
     "name": "stdout",
     "output_type": "stream",
     "text": [
      "4900 submissions processed\n"
     ]
    },
    {
     "name": "stderr",
     "output_type": "stream",
     "text": [
      "\r",
      "5001it [03:11, 35.40it/s]"
     ]
    },
    {
     "name": "stdout",
     "output_type": "stream",
     "text": [
      "5000 submissions processed\n"
     ]
    },
    {
     "name": "stderr",
     "output_type": "stream",
     "text": [
      "\r",
      "5101it [03:14, 36.23it/s]"
     ]
    },
    {
     "name": "stdout",
     "output_type": "stream",
     "text": [
      "5100 submissions processed\n"
     ]
    },
    {
     "name": "stderr",
     "output_type": "stream",
     "text": [
      "\r",
      "5201it [03:23, 21.69it/s]"
     ]
    },
    {
     "name": "stdout",
     "output_type": "stream",
     "text": [
      "5200 submissions processed\n"
     ]
    },
    {
     "name": "stderr",
     "output_type": "stream",
     "text": [
      "\r",
      "5301it [03:29, 20.18it/s]"
     ]
    },
    {
     "name": "stdout",
     "output_type": "stream",
     "text": [
      "5300 submissions processed\n"
     ]
    },
    {
     "name": "stderr",
     "output_type": "stream",
     "text": [
      "\r",
      "5401it [03:31, 24.78it/s]"
     ]
    },
    {
     "name": "stdout",
     "output_type": "stream",
     "text": [
      "5400 submissions processed\n"
     ]
    },
    {
     "name": "stderr",
     "output_type": "stream",
     "text": [
      "\r",
      "5501it [03:40, 17.98it/s]"
     ]
    },
    {
     "name": "stdout",
     "output_type": "stream",
     "text": [
      "5500 submissions processed\n"
     ]
    },
    {
     "name": "stderr",
     "output_type": "stream",
     "text": [
      "\r",
      "5601it [03:44, 19.11it/s]"
     ]
    },
    {
     "name": "stdout",
     "output_type": "stream",
     "text": [
      "5600 submissions processed\n"
     ]
    },
    {
     "name": "stderr",
     "output_type": "stream",
     "text": [
      "\r",
      "5701it [03:48, 20.93it/s]"
     ]
    },
    {
     "name": "stdout",
     "output_type": "stream",
     "text": [
      "5700 submissions processed\n"
     ]
    },
    {
     "name": "stderr",
     "output_type": "stream",
     "text": [
      "\r",
      "5801it [03:49, 27.50it/s]"
     ]
    },
    {
     "name": "stdout",
     "output_type": "stream",
     "text": [
      "5800 submissions processed\n"
     ]
    },
    {
     "name": "stderr",
     "output_type": "stream",
     "text": [
      "5857it [03:57, 24.67it/s]\n"
     ]
    }
   ],
   "source": [
    "from psaw import PushshiftAPI\n",
    "from datetime import datetime\n",
    "pushshift_reddit_api = PushshiftAPI(reddit_api)\n",
    "start_date = (2018, 4, 1)\n",
    "end_date = (2018, 4, 8)\n",
    "start_time = int(datetime(*start_date).timestamp())\n",
    "end_time = int(datetime(*end_date).timestamp())\n",
    "subreddit_name = 'worldnews'\n",
    "submissions = pushshift_reddit_api.search_submissions(\n",
    "    after=start_time,\n",
    "    before=end_time, \n",
    "    subreddit=subreddit_name,\n",
    ")\n",
    "from tqdm import tqdm\n",
    "retrieved_submissions = []\n",
    "for i, submission_i in tqdm(enumerate(submissions)):\n",
    "    retrieved_submissions.append(submission_i)\n",
    "    if(i % 100 == 0):\n",
    "        print(f'{i} submissions processed')"
   ]
  },
  {
   "cell_type": "code",
   "execution_count": 4,
   "metadata": {},
   "outputs": [],
   "source": [
    "import pandas as pd\n",
    "from praw.models.reddit.more import MoreComments\n",
    "def get_submission_comments(submissions):\n",
    "    comment_data = []\n",
    "    for i, submission_i in enumerate(submissions):\n",
    "        id_i = submission_i.id\n",
    "        title_i = submission_i.title\n",
    "        url_i = submission_i.url\n",
    "        upvote_i = submission_i.ups\n",
    "        ratio_i = submission_i.upvote_ratio\n",
    "        comments_i = list(submission_i.comments)\n",
    "        for comment_j in comments_i:\n",
    "            # add extra comments if needed\n",
    "            if(type(comment_j) is MoreComments):\n",
    "                extra_comments_i = comment_j.comments()\n",
    "                comments_i.extend(extra_comments_i)\n",
    "            else:\n",
    "                comment_id_j = comment_j.id\n",
    "                comment_text_j = comment_j.body\n",
    "                comment_upvote_j = comment_j.ups\n",
    "                comment_author_j = comment_j.author\n",
    "                comment_author_name_j = ''\n",
    "                if(comment_author_j is not None):\n",
    "                    comment_author_name_j = comment_author_j.name\n",
    "                comment_data_j = pd.Series(\n",
    "                    [id_i, title_i, url_i, upvote_i, ratio_i, comment_id_j, comment_text_j, comment_upvote_j, comment_author_name_j],\n",
    "                    index=['submission_ID', 'submission_title', 'submission_URL', 'submission_upvotes',\n",
    "                           'submission_upvote_ratio', 'comment_ID', 'comment_text', 'comment_upvotes', 'comment_author']\n",
    "                )\n",
    "                comment_data.append(comment_data_j)\n",
    "        if(i % 100 == 0):\n",
    "            print(f'processed {i} submissions')\n",
    "    comment_data = pd.concat(comment_data, axis=1).transpose()\n",
    "    return comment_data"
   ]
  },
  {
   "cell_type": "code",
   "execution_count": 5,
   "metadata": {
    "scrolled": true
   },
   "outputs": [
    {
     "name": "stdout",
     "output_type": "stream",
     "text": [
      "processed 0 submissions\n",
      "processed 100 submissions\n",
      "processed 200 submissions\n",
      "processed 300 submissions\n",
      "processed 400 submissions\n",
      "processed 500 submissions\n",
      "processed 600 submissions\n",
      "processed 700 submissions\n",
      "processed 800 submissions\n",
      "processed 900 submissions\n",
      "processed 1000 submissions\n",
      "processed 1100 submissions\n",
      "processed 1200 submissions\n",
      "processed 1300 submissions\n",
      "processed 1400 submissions\n",
      "processed 1500 submissions\n",
      "processed 1600 submissions\n",
      "processed 1700 submissions\n",
      "processed 1800 submissions\n",
      "processed 1900 submissions\n",
      "processed 2000 submissions\n",
      "processed 2100 submissions\n",
      "processed 2200 submissions\n",
      "processed 2300 submissions\n",
      "processed 2400 submissions\n",
      "processed 2500 submissions\n",
      "processed 2600 submissions\n",
      "processed 2700 submissions\n",
      "processed 2800 submissions\n",
      "processed 2900 submissions\n",
      "processed 3000 submissions\n",
      "processed 3100 submissions\n",
      "processed 3200 submissions\n",
      "processed 3300 submissions\n",
      "processed 3400 submissions\n",
      "processed 3500 submissions\n",
      "processed 3600 submissions\n",
      "processed 3700 submissions\n",
      "processed 3800 submissions\n",
      "processed 3900 submissions\n",
      "processed 4000 submissions\n",
      "processed 4100 submissions\n",
      "processed 4200 submissions\n",
      "processed 4300 submissions\n",
      "processed 4400 submissions\n",
      "processed 4500 submissions\n",
      "processed 4600 submissions\n",
      "processed 4700 submissions\n",
      "processed 4800 submissions\n",
      "processed 4900 submissions\n",
      "processed 5000 submissions\n",
      "processed 5100 submissions\n",
      "processed 5200 submissions\n",
      "processed 5300 submissions\n",
      "processed 5400 submissions\n",
      "processed 5500 submissions\n",
      "processed 5600 submissions\n",
      "processed 5700 submissions\n",
      "processed 5800 submissions\n"
     ]
    }
   ],
   "source": [
    "comment_data = get_submission_comments(retrieved_submissions)"
   ]
  },
  {
   "cell_type": "code",
   "execution_count": 6,
   "metadata": {},
   "outputs": [
    {
     "name": "stdout",
     "output_type": "stream",
     "text": [
      "18654 comment authors\n"
     ]
    }
   ],
   "source": [
    "print(f'{comment_data.loc[:, \"comment_author\"].nunique()} comment authors')"
   ]
  },
  {
   "cell_type": "code",
   "execution_count": 54,
   "metadata": {
    "scrolled": true
   },
   "outputs": [
    {
     "name": "stderr",
     "output_type": "stream",
     "text": [
      "<ipython-input-54-5acf97b9aa26>:49: FutureWarning: Sorting because non-concatenation axis is not aligned. A future version\n",
      "of pandas will change to not sort by default.\n",
      "\n",
      "To accept the future behavior, pass 'sort=False'.\n",
      "\n",
      "To retain the current behavior and silence the warning, pass 'sort=True'.\n",
      "\n",
      "  sample_author_posts = pd.concat(sample_author_posts, axis=0)\n"
     ]
    }
   ],
   "source": [
    "## get sample comments from sample authors\n",
    "import numpy as np\n",
    "np.random.seed(123)\n",
    "from tqdm import tqdm\n",
    "from praw.models.reddit.comment import Comment\n",
    "from praw.models.reddit.submission import Submission\n",
    "def get_sample_author_posts(author, reddit_api, end_time, comment_cols, submission_cols, post_count=1000):\n",
    "    author_posts = []\n",
    "    author_redditor = reddit_api.redditor(author)\n",
    "    complete_comment_cols = comment_cols+['author', 'subreddit', 'post_type']\n",
    "    complete_submission_cols = submission_cols+['author', 'subreddit', 'post_type']\n",
    "    try:\n",
    "        for i, post_i in enumerate(author_redditor.new(limit=None)):\n",
    "            # make sure it's a comment lol\n",
    "            post_time_i = post_i.created_utc\n",
    "            if(post_time_i <= end_time):\n",
    "                subreddit_i = post_i.subreddit.display_name\n",
    "                if(type(post_i) is Comment and post_i.body is not None):\n",
    "                    post_data_i = [post_i.__dict__.get(x) for x in comment_cols] + [author, subreddit_i, 'comment']\n",
    "                    post_data_i = pd.Series(post_data_i, index=complete_comment_cols)\n",
    "                elif(type(post_i) is Submission and post_i.selftext is not None):\n",
    "                    post_data_i = [post_i.__dict__.get(x) for x in submission_cols] + [author, subreddit_i, 'submission']\n",
    "                    post_data_i = pd.Series(post_data_i, index=complete_submission_cols)\n",
    "                if(type(post_i) is Comment or type(post_i) is Submission):\n",
    "                    author_posts.append(post_data_i)\n",
    "            if(len(author_posts) >= post_count):\n",
    "                break\n",
    "    # error: deleted author account?\n",
    "    except Exception as e:\n",
    "        print(f'ending collection for author {author} because error {e}')\n",
    "    if(len(author_posts) > 0):\n",
    "        # tmp debugging\n",
    "#         print(f'author posts = {author_posts}')\n",
    "        author_posts = pd.concat(author_posts, axis=1).transpose()\n",
    "    return author_posts\n",
    "sample_author_count = 1000\n",
    "sample_post_count = 1000\n",
    "sample_authors = np.random.choice(comment_data.loc[:, 'comment_author'].unique(), sample_author_count, replace=False)\n",
    "sample_author_posts = []\n",
    "comment_cols = ['author_flair_text', 'id', 'body', 'parent_id']\n",
    "submission_cols = ['author_flair_text', 'id', 'selftext', 'title']\n",
    "end_date = (2018, 4, 2)\n",
    "end_time = int(datetime(*end_date).timestamp())\n",
    "for sample_author_i in tqdm(sample_authors):\n",
    "    sample_author_posts_i = get_sample_author_posts(sample_author_i, reddit_api, end_time, comment_cols, submission_cols, post_count=sample_post_count)\n",
    "    sample_author_posts.append(sample_author_posts_i)\n",
    "# remove null comments\n",
    "sample_author_posts = list(filter(lambda x: type(x) is not list, sample_author_posts))\n",
    "sample_author_posts = pd.concat(sample_author_posts, axis=0)\n",
    "# remove null comments\n",
    "sample_author_posts = sample_author_posts[sample_author_posts.loc[:, 'body'].apply(lambda x: x is not None)]"
   ]
  },
  {
   "cell_type": "code",
   "execution_count": 59,
   "metadata": {},
   "outputs": [],
   "source": [
    "## combine text fields\n",
    "sample_author_posts = sample_author_posts.assign(**{\n",
    "    'text' : sample_author_posts.apply(lambda x: x.loc['body'] if x.loc['post_type']=='comment' else x.loc['selftext'], axis=1)\n",
    "})\n",
    "## remove null posts\n",
    "sample_author_posts = sample_author_posts[sample_author_posts.loc[:, 'text']!='[removed]']"
   ]
  },
  {
   "cell_type": "code",
   "execution_count": 60,
   "metadata": {},
   "outputs": [],
   "source": [
    "## save to file\n",
    "sample_author_posts.to_csv('../../data/reddit_data/reddit_worldnews_author_post_sample.gz', sep='\\t', compression='gzip', index=False)"
   ]
  },
  {
   "cell_type": "code",
   "execution_count": 63,
   "metadata": {},
   "outputs": [
    {
     "name": "stdout",
     "output_type": "stream",
     "text": [
      "73.0\n"
     ]
    }
   ],
   "source": [
    "## posts per author?\n",
    "import numpy as np\n",
    "print(np.median(sample_author_posts.loc[:, 'author'].value_counts()))"
   ]
  },
  {
   "cell_type": "markdown",
   "metadata": {},
   "source": [
    "We have about 70 posts per author, which isn't too much."
   ]
  },
  {
   "cell_type": "code",
   "execution_count": 65,
   "metadata": {},
   "outputs": [
    {
     "name": "stderr",
     "output_type": "stream",
     "text": [
      "2021-02-11 00:09:28 INFO: Loading these models for language: en (English):\n",
      "=========================\n",
      "| Processor | Package   |\n",
      "-------------------------\n",
      "| tokenize  | ewt       |\n",
      "| ner       | ontonotes |\n",
      "=========================\n",
      "\n",
      "2021-02-11 00:09:28 INFO: Use device: cpu\n",
      "2021-02-11 00:09:28 INFO: Loading: tokenize\n",
      "2021-02-11 00:09:28 INFO: Loading: ner\n",
      "2021-02-11 00:09:29 INFO: Done loading processors!\n",
      "100%|██████████| 873/873 [09:22<00:00,  1.55it/s]  \n"
     ]
    }
   ],
   "source": [
    "## age, location\n",
    "from importlib import reload\n",
    "import data_helpers\n",
    "reload(data_helpers)\n",
    "from data_helpers import extract_age, full_location_pipeline\n",
    "from stanza import Pipeline\n",
    "from nltk.tokenize import PunktSentenceTokenizer\n",
    "import re\n",
    "from tqdm import tqdm\n",
    "nlp_pipeline = Pipeline(lang='en', processors='tokenize,ner', use_gpu=False)\n",
    "sent_tokenizer = PunktSentenceTokenizer()\n",
    "location_matcher = re.compile('(?<=i\\'m from )[a-zA-Z0-9\\, ]+|(?<=i am from )[a-zA-Z0-9\\, ]+|(?<=i live in )[a-zA-Z0-9 ]+')\n",
    "sample_author_meta_data = []\n",
    "valid_NE_types = {'GPE'}\n",
    "for author_i, data_i in tqdm(sample_author_posts.groupby('author')):\n",
    "    text_i = data_i.loc[:, 'text'].values\n",
    "    age_i = extract_age(text_i)\n",
    "    loc_i = full_location_pipeline(text_i, location_matcher, sent_tokenizer, nlp_pipeline, valid_NE_types=valid_NE_types)\n",
    "    sample_author_meta_data.append([author_i, age_i, loc_i])\n",
    "sample_author_meta_data = pd.DataFrame(sample_author_meta_data, columns=['author', 'age', 'location'])"
   ]
  },
  {
   "cell_type": "code",
   "execution_count": 66,
   "metadata": {
    "scrolled": true
   },
   "outputs": [
    {
     "name": "stdout",
     "output_type": "stream",
     "text": [
      "-1     861\n",
      " 32      2\n",
      " 22      2\n",
      " 35      1\n",
      " 30      1\n",
      " 27      1\n",
      " 25      1\n",
      " 21      1\n",
      " 20      1\n",
      " 19      1\n",
      " 15      1\n",
      "Name: age, dtype: int64\n",
      "UNK    751\n",
      "us      65\n",
      "ca      17\n",
      "gb       6\n",
      "au       5\n",
      "se       3\n",
      "nl       3\n",
      "de       2\n",
      "fr       2\n",
      "bg       2\n",
      "eg       1\n",
      "ie       1\n",
      "vn       1\n",
      "tw       1\n",
      "cl       1\n",
      "ke       1\n",
      "il       1\n",
      "dk       1\n",
      "fi       1\n",
      "ga       1\n",
      "be       1\n",
      "nz       1\n",
      "br       1\n",
      "co       1\n",
      "sa       1\n",
      "es       1\n",
      "no       1\n",
      "Name: location, dtype: int64\n"
     ]
    }
   ],
   "source": [
    "print(sample_author_meta_data.loc[:, 'age'].value_counts())\n",
    "print(sample_author_meta_data.loc[:, 'location'].value_counts())"
   ]
  },
  {
   "cell_type": "markdown",
   "metadata": {},
   "source": [
    "Similar to before, we find that most authors are from US/CA/UK, and other authors have a long tail of other countries."
   ]
  },
  {
   "cell_type": "markdown",
   "metadata": {},
   "source": [
    "What about topics? Let's get the topics of all submissions to `r/worldnews` based on headlines, and compare the distribution of topical interest in the same way as last time."
   ]
  },
  {
   "cell_type": "code",
   "execution_count": 68,
   "metadata": {},
   "outputs": [
    {
     "name": "stdout",
     "output_type": "stream",
     "text": [
      "5819 comments in worldnews\n"
     ]
    }
   ],
   "source": [
    "news_sample_author_comments = sample_author_posts[(sample_author_posts.loc[:, 'subreddit']=='worldnews') & \n",
    "                                                  (sample_author_posts.loc[:, 'post_type']=='comment')]\n",
    "print(f'{news_sample_author_comments.shape[0]} comments in worldnews')"
   ]
  },
  {
   "cell_type": "code",
   "execution_count": 69,
   "metadata": {},
   "outputs": [
    {
     "name": "stderr",
     "output_type": "stream",
     "text": [
      "100%|██████████| 5611/5611 [57:26<00:00,  1.63it/s]  \n"
     ]
    }
   ],
   "source": [
    "from tqdm import tqdm\n",
    "news_comment_parent_ids = news_sample_author_comments.loc[:, 'parent_id'].apply(lambda x: x.split('_')[1]).unique()\n",
    "news_comment_parent_submission_data = []\n",
    "for parent_id_i in tqdm(news_comment_parent_ids):\n",
    "    parent_submission_i = reddit_api.submission(parent_id_i)\n",
    "    # try to retrieve submission\n",
    "    try:\n",
    "        parent_title_i = parent_submission_i.title\n",
    "#         print(f'title = {parent_title_i}')\n",
    "        parent_upvotes_i = parent_submission_i.ups\n",
    "        parent_upvote_ratio_i = parent_submission_i.upvote_ratio\n",
    "        parent_submission_data_i = [parent_id_i, parent_title_i, parent_upvotes_i, parent_upvote_ratio_i]\n",
    "        parent_submission_data_i = pd.Series(parent_submission_data_i, index=['parent_id', 'parent_title', 'parent_upvotes', 'parent_upvote_ratio'])\n",
    "        news_comment_parent_submission_data.append(parent_submission_data_i)\n",
    "    except Exception as e:\n",
    "#         print(f'error = {e}')\n",
    "        pass\n",
    "news_comment_parent_submission_data = pd.concat(news_comment_parent_submission_data, axis=1).transpose()"
   ]
  },
  {
   "cell_type": "code",
   "execution_count": 75,
   "metadata": {},
   "outputs": [],
   "source": [
    "## topic modeling\n",
    "from gensim.models import LdaModel\n",
    "from importlib import reload\n",
    "import data_helpers\n",
    "reload(data_helpers)\n",
    "from data_helpers import convert_docs_to_corpus\n",
    "## combine original submission titles, parent submissions\n",
    "comment_submission_titles = list(comment_data.loc[:, 'submission_title'].unique())\n",
    "prior_comment_submission_titles = list(news_comment_parent_submission_data.loc[:, 'parent_title'].unique())\n",
    "combined_submission_title_text = comment_submission_titles + prior_comment_submission_titles\n",
    "combined_submission_dict, combined_submission_corpus = convert_docs_to_corpus(combined_submission_title_text)"
   ]
  },
  {
   "cell_type": "code",
   "execution_count": 77,
   "metadata": {
    "scrolled": true
   },
   "outputs": [
    {
     "name": "stdout",
     "output_type": "stream",
     "text": [
      "[-8.820670706007935, -11.02058477237412, -13.99435710157899, -14.040291273031059]\n"
     ]
    }
   ],
   "source": [
    "from gensim.models import CoherenceModel\n",
    "# fit model\n",
    "num_topics = [10, 20, 50, 100]\n",
    "coherence_vals = []\n",
    "for num_topic_i in num_topics:\n",
    "    lda_model = LdaModel(combined_submission_corpus, num_topics=num_topic_i, id2word=combined_submission_dict)\n",
    "    # compute coherence\n",
    "    coherence_model = CoherenceModel(model=lda_model, corpus=combined_submission_corpus, coherence='u_mass')\n",
    "    coherence = coherence_model.get_coherence()\n",
    "    coherence_vals.append(coherence)\n",
    "print(coherence_vals)\n",
    "# compute all topics\n",
    "from data_helpers import convert_docs_to_topics\n",
    "best_num_topics = 10\n",
    "best_lda_model = LdaModel(combined_submission_corpus, num_topics=best_num_topics, id2word=combined_submission_dict)\n",
    "comment_submission_doc_topics = convert_docs_to_topics(comment_submission_titles, combined_submission_dict, best_lda_model)\n",
    "prior_comment_submission_doc_topics = convert_docs_to_topics(prior_comment_submission_titles, combined_submission_dict, best_lda_model)"
   ]
  },
  {
   "cell_type": "code",
   "execution_count": 80,
   "metadata": {
    "scrolled": true
   },
   "outputs": [
    {
     "data": {
      "text/plain": [
       "[(0,\n",
       "  '0.028*\"s\" + 0.020*\"news\" + 0.016*\"korea\" + 0.015*\"us\" + 0.014*\"china\" + 0.012*\"north\" + 0.011*\"says\" + 0.010*\"u\" + 0.009*\"trump\" + 0.009*\"today\" + 0.008*\"un\" + 0.007*\"bangla\" + 0.006*\"will\" + 0.006*\"2018\" + 0.006*\"russia\" + 0.005*\"live\" + 0.005*\"april\" + 0.005*\"south\" + 0.005*\"jong\" + 0.005*\"tv\"'),\n",
       " (1,\n",
       "  '0.019*\"s\" + 0.009*\"bbc\" + 0.008*\"leader\" + 0.007*\"will\" + 0.007*\"police\" + 0.006*\"jerusalem\" + 0.006*\"sex\" + 0.006*\"president\" + 0.005*\"uk\" + 0.005*\"state\" + 0.004*\"people\" + 0.004*\"tells\" + 0.004*\"russian\" + 0.004*\"thousands\" + 0.004*\"citizens\" + 0.003*\"trump\" + 0.003*\"term\" + 0.003*\"court\" + 0.003*\"merkel\" + 0.003*\"ex\"'),\n",
       " (2,\n",
       "  '0.031*\"s\" + 0.013*\"russia\" + 0.010*\"‘\" + 0.008*\"u\" + 0.008*\"russian\" + 0.007*\"new\" + 0.007*\"trump\" + 0.006*\"first\" + 0.006*\"un\" + 0.006*\"kim\" + 0.005*\"world\" + 0.005*\"jong\" + 0.005*\"youtube\" + 0.005*\"will\" + 0.005*\"us\" + 0.005*\"minister\" + 0.004*\"china\" + 0.004*\"india\" + 0.004*\"uk\" + 0.004*\"canada\"'),\n",
       " (3,\n",
       "  '0.009*\"brexit\" + 0.008*\"s\" + 0.007*\"earth\" + 0.007*\"nation\" + 0.006*\"space\" + 0.005*\"arabia\" + 0.005*\"parliament\" + 0.005*\"state\" + 0.005*\"saudi\" + 0.004*\"station\" + 0.004*\"without\" + 0.004*\"united\" + 0.004*\"“\" + 0.004*\"suicide\" + 0.004*\"russia\" + 0.004*\"”\" + 0.004*\"gaza\" + 0.004*\"‘\" + 0.004*\"red\" + 0.004*\"accuses\"'),\n",
       " (4,\n",
       "  '0.036*\"trump\" + 0.028*\"s\" + 0.018*\"says\" + 0.015*\"russia\" + 0.013*\"president\" + 0.012*\"donald\" + 0.010*\"us\" + 0.008*\"‘\" + 0.007*\"$\" + 0.006*\"u\" + 0.006*\"putin\" + 0.006*\"military\" + 0.006*\"will\" + 0.006*\"uk\" + 0.005*\"russian\" + 0.005*\"million\" + 0.005*\"border\" + 0.005*\"warns\" + 0.004*\"new\" + 0.004*\"calls\"'),\n",
       " (5,\n",
       "  '0.016*\"us\" + 0.014*\"s\" + 0.010*\"white\" + 0.009*\"trump\" + 0.009*\"house\" + 0.009*\"korea\" + 0.009*\"china\" + 0.008*\"war\" + 0.006*\"isis\" + 0.006*\"killed\" + 0.006*\"north\" + 0.005*\"new\" + 0.005*\"nuclear\" + 0.005*\"russian\" + 0.005*\"u\" + 0.004*\"tariffs\" + 0.004*\"saudi\" + 0.004*\"warns\" + 0.004*\"south\" + 0.004*\"$\"'),\n",
       " (6,\n",
       "  '0.016*\"s\" + 0.009*\"trump\" + 0.007*\"news\" + 0.007*\"new\" + 0.006*\"say\" + 0.006*\"ban\" + 0.006*\"uk\" + 0.005*\"says\" + 0.005*\"solar\" + 0.005*\"market\" + 0.004*\"11\" + 0.004*\"syria\" + 0.004*\"iran\" + 0.004*\"deal\" + 0.004*\"t\" + 0.004*\"muslim\" + 0.004*\"global\" + 0.004*\"oil\" + 0.004*\"days\" + 0.004*\"two\"'),\n",
       " (7,\n",
       "  '0.016*\"s\" + 0.007*\"news\" + 0.007*\"world\" + 0.006*\"people\" + 0.006*\"police\" + 0.005*\"year\" + 0.005*\"will\" + 0.005*\"“\" + 0.004*\"european\" + 0.004*\"t\" + 0.004*\"eu\" + 0.004*\"court\" + 0.004*\"government\" + 0.004*\"may\" + 0.004*\"—\" + 0.004*\"country\" + 0.003*\".\"\" + 0.003*\"can\" + 0.003*\"save\" + 0.003*\"1\"'),\n",
       " (8,\n",
       "  '0.019*\"s\" + 0.018*\"north\" + 0.012*\"korea\" + 0.007*\"says\" + 0.007*\"nuclear\" + 0.007*\"korean\" + 0.006*\"people\" + 0.006*\"murder\" + 0.006*\"missile\" + 0.006*\"china\" + 0.006*\"us\" + 0.005*\"t\" + 0.005*\"calls\" + 0.005*\"trump\" + 0.005*\"new\" + 0.005*\"two\" + 0.004*\"rise\" + 0.004*\"afghanistan\" + 0.004*\"presidential\" + 0.004*\"party\"'),\n",
       " (9,\n",
       "  '0.010*\"s\" + 0.009*\"facebook\" + 0.007*\"£\" + 0.007*\"british\" + 0.007*\"world\" + 0.007*\"10\" + 0.006*\"ice\" + 0.006*\"data\" + 0.005*\"first\" + 0.004*\"co\" + 0.004*\"2018\" + 0.004*\"years\" + 0.004*\"dies\" + 0.004*\"scientists\" + 0.004*\"used\" + 0.004*\"science\" + 0.004*\"firm\" + 0.004*\"next\" + 0.004*\"scandal\" + 0.004*\"refused\"')]"
      ]
     },
     "metadata": {},
     "output_type": "display_data"
    }
   ],
   "source": [
    "display(best_lda_model.print_topics(num_words=20))"
   ]
  },
  {
   "cell_type": "markdown",
   "metadata": {},
   "source": [
    "- 0: `asian politics`\n",
    "- 1: `europe politics`\n",
    "- 2: `international politics`\n",
    "- 3: `middle east politics` (?)\n",
    "- 4: `trump`\n",
    "- 5: `terrorism` (?)\n",
    "- 6: `energy`\n",
    "- 7: `security` (?)\n",
    "- 8: `military`\n",
    "- 9: `science`"
   ]
  },
  {
   "cell_type": "markdown",
   "metadata": {},
   "source": [
    "How much do people tend to stick to the same topic?"
   ]
  },
  {
   "cell_type": "code",
   "execution_count": 90,
   "metadata": {},
   "outputs": [],
   "source": [
    "sample_author_post_comments = sample_author_posts[sample_author_posts.loc[:, 'post_type']=='comment']\n",
    "sample_author_post_comments = sample_author_post_comments.assign(**{'parent_id' : sample_author_post_comments.loc[:, 'parent_id'].apply(lambda x: x.split('_')[-1])})\n",
    "# get parent post titles\n",
    "sample_author_post_comments = pd.merge(\n",
    "    sample_author_post_comments.loc[:, ['parent_id', 'author']], \n",
    "    news_comment_parent_submission_data.loc[:, ['parent_id', 'parent_title']],\n",
    "    on='parent_id',\n",
    ")"
   ]
  },
  {
   "cell_type": "code",
   "execution_count": 91,
   "metadata": {},
   "outputs": [
    {
     "data": {
      "text/html": [
       "<div>\n",
       "<style scoped>\n",
       "    .dataframe tbody tr th:only-of-type {\n",
       "        vertical-align: middle;\n",
       "    }\n",
       "\n",
       "    .dataframe tbody tr th {\n",
       "        vertical-align: top;\n",
       "    }\n",
       "\n",
       "    .dataframe thead th {\n",
       "        text-align: right;\n",
       "    }\n",
       "</style>\n",
       "<table border=\"1\" class=\"dataframe\">\n",
       "  <thead>\n",
       "    <tr style=\"text-align: right;\">\n",
       "      <th></th>\n",
       "      <th>parent_id</th>\n",
       "      <th>author</th>\n",
       "      <th>parent_title</th>\n",
       "    </tr>\n",
       "  </thead>\n",
       "  <tbody>\n",
       "    <tr>\n",
       "      <th>0</th>\n",
       "      <td>7lvtuc</td>\n",
       "      <td>malchirx</td>\n",
       "      <td>Saudi Arabia bars Israelis from chess tournament</td>\n",
       "    </tr>\n",
       "    <tr>\n",
       "      <th>1</th>\n",
       "      <td>7lvtuc</td>\n",
       "      <td>soulassssns</td>\n",
       "      <td>Saudi Arabia bars Israelis from chess tournament</td>\n",
       "    </tr>\n",
       "    <tr>\n",
       "      <th>2</th>\n",
       "      <td>7g3f51</td>\n",
       "      <td>malchirx</td>\n",
       "      <td>Former Israeli Minister 'Proud' of Killing The...</td>\n",
       "    </tr>\n",
       "    <tr>\n",
       "      <th>3</th>\n",
       "      <td>6us4pw</td>\n",
       "      <td>malchirx</td>\n",
       "      <td>An Israeli cabinet minister has said relations...</td>\n",
       "    </tr>\n",
       "    <tr>\n",
       "      <th>4</th>\n",
       "      <td>55htj0</td>\n",
       "      <td>malchirx</td>\n",
       "      <td>Two-thirds of Israelis think peace deal won’t ...</td>\n",
       "    </tr>\n",
       "  </tbody>\n",
       "</table>\n",
       "</div>"
      ],
      "text/plain": [
       "  parent_id       author                                       parent_title\n",
       "0    7lvtuc     malchirx   Saudi Arabia bars Israelis from chess tournament\n",
       "1    7lvtuc  soulassssns   Saudi Arabia bars Israelis from chess tournament\n",
       "2    7g3f51     malchirx  Former Israeli Minister 'Proud' of Killing The...\n",
       "3    6us4pw     malchirx  An Israeli cabinet minister has said relations...\n",
       "4    55htj0     malchirx  Two-thirds of Israelis think peace deal won’t ..."
      ]
     },
     "execution_count": 91,
     "metadata": {},
     "output_type": "execute_result"
    }
   ],
   "source": [
    "sample_author_post_comments.head()"
   ]
  },
  {
   "cell_type": "code",
   "execution_count": 95,
   "metadata": {
    "scrolled": true
   },
   "outputs": [
    {
     "data": {
      "image/png": "[encoded data removed]",
      "text/plain": [
       "<Figure size 432x288 with 1 Axes>"
      ]
     },
     "metadata": {
      "needs_background": "light"
     },
     "output_type": "display_data"
    },
    {
     "data": {
      "image/png": "[encoded data removed]",
      "text/plain": [
       "<Figure size 432x288 with 1 Axes>"
      ]
     },
     "metadata": {
      "needs_background": "light"
     },
     "output_type": "display_data"
    },
    {
     "data": {
      "image/png": "[encoded data removed]",
      "text/plain": [
       "<Figure size 432x288 with 1 Axes>"
      ]
     },
     "metadata": {
      "needs_background": "light"
     },
     "output_type": "display_data"
    },
    {
     "data": {
      "image/png": "[encoded data removed]",
      "text/plain": [
       "<Figure size 432x288 with 1 Axes>"
      ]
     },
     "metadata": {
      "needs_background": "light"
     },
     "output_type": "display_data"
    },
    {
     "data": {
      "image/png": "[encoded data removed]",
      "text/plain": [
       "<Figure size 432x288 with 1 Axes>"
      ]
     },
     "metadata": {
      "needs_background": "light"
     },
     "output_type": "display_data"
    },
    {
     "data": {
      "image/png": "[encoded data removed]",
      "text/plain": [
       "<Figure size 432x288 with 1 Axes>"
      ]
     },
     "metadata": {
      "needs_background": "light"
     },
     "output_type": "display_data"
    },
    {
     "data": {
      "image/png": "[encoded data removed]",
      "text/plain": [
       "<Figure size 432x288 with 1 Axes>"
      ]
     },
     "metadata": {
      "needs_background": "light"
     },
     "output_type": "display_data"
    },
    {
     "data": {
      "image/png": "[encoded data removed]",
      "text/plain": [
       "<Figure size 432x288 with 1 Axes>"
      ]
     },
     "metadata": {
      "needs_background": "light"
     },
     "output_type": "display_data"
    },
    {
     "data": {
      "image/png": "[encoded data removed]",
      "text/plain": [
       "<Figure size 432x288 with 1 Axes>"
      ]
     },
     "metadata": {
      "needs_background": "light"
     },
     "output_type": "display_data"
    },
    {
     "data": {
      "image/png": "[encoded data removed]",
      "text/plain": [
       "<Figure size 432x288 with 1 Axes>"
      ]
     },
     "metadata": {
      "needs_background": "light"
     },
     "output_type": "display_data"
    }
   ],
   "source": [
    "## separate by topic\n",
    "num_topics = prior_comment_submission_doc_topics.shape[1]\n",
    "sample_authors = sample_author_post_comments.loc[:, 'author'].unique()\n",
    "prior_comment_submission_doc_array = np.array(prior_comment_submission_titles)\n",
    "## get distribution of topics per author\n",
    "author_topic_dist = []\n",
    "for author_i in sample_authors:\n",
    "    prior_submission_idx_i = sample_author_post_comments[sample_author_post_comments.loc[:, 'author']==author_i].loc[:, 'parent_title'].apply(lambda x: np.where(prior_comment_submission_doc_array == x)[0][0]).values\n",
    "    topic_dist_i = prior_comment_submission_doc_topics.iloc[prior_submission_idx_i, :].apply(lambda x: (x == x.max()).astype(int), axis=1)\n",
    "    topic_dist_i = topic_dist_i.mean(axis=0)\n",
    "    author_topic_dist.append(topic_dist_i)\n",
    "author_topic_dist = np.vstack(author_topic_dist)\n",
    "## plot distribution\n",
    "import seaborn as sns\n",
    "import matplotlib\n",
    "%matplotlib inline\n",
    "import matplotlib.pyplot as plt\n",
    "for topic_i in range(num_topics):\n",
    "    sns.kdeplot(author_topic_dist[:, topic_i])\n",
    "    plt.title(f'Author comment frequency: topic {topic_i}')\n",
    "    plt.show()"
   ]
  },
  {
   "cell_type": "markdown",
   "metadata": {},
   "source": [
    "Not surprisingly, the topic with the most \"experts\" is the one related to Trump (4). We also see notable \"bumps\" for international politics (2) and energy (6)."
   ]
  },
  {
   "cell_type": "markdown",
   "metadata": {},
   "source": [
    "### Explore article overlap\n",
    "How many of the submissions shown here are represented in our NYT article data?"
   ]
  },
  {
   "cell_type": "code",
   "execution_count": 9,
   "metadata": {},
   "outputs": [
    {
     "name": "stdout",
     "output_type": "stream",
     "text": [
      "4585\n"
     ]
    },
    {
     "data": {
      "text/html": [
       "<div>\n",
       "<style scoped>\n",
       "    .dataframe tbody tr th:only-of-type {\n",
       "        vertical-align: middle;\n",
       "    }\n",
       "\n",
       "    .dataframe tbody tr th {\n",
       "        vertical-align: top;\n",
       "    }\n",
       "\n",
       "    .dataframe thead th {\n",
       "        text-align: right;\n",
       "    }\n",
       "</style>\n",
       "<table border=\"1\" class=\"dataframe\">\n",
       "  <thead>\n",
       "    <tr style=\"text-align: right;\">\n",
       "      <th></th>\n",
       "      <th>submission_ID</th>\n",
       "      <th>submission_title</th>\n",
       "      <th>submission_URL</th>\n",
       "      <th>submission_upvotes</th>\n",
       "      <th>submission_upvote_ratio</th>\n",
       "      <th>comment_ID</th>\n",
       "      <th>comment_text</th>\n",
       "      <th>comment_upvotes</th>\n",
       "      <th>comment_author</th>\n",
       "      <th>comment_questions</th>\n",
       "      <th>URL_domain</th>\n",
       "      <th>questions</th>\n",
       "    </tr>\n",
       "  </thead>\n",
       "  <tbody>\n",
       "    <tr>\n",
       "      <th>0</th>\n",
       "      <td>88wlu3</td>\n",
       "      <td>Africa Egyptian government threatens foreign j...</td>\n",
       "      <td>https://www.independent.co.uk/news/world/afric...</td>\n",
       "      <td>94</td>\n",
       "      <td>0.91</td>\n",
       "      <td>dwo5e9a</td>\n",
       "      <td>Africa Egyptian? As opposed to regular Egyptian?</td>\n",
       "      <td>13</td>\n",
       "      <td>johnsoone</td>\n",
       "      <td>['As opposed to regular Egyptian?']</td>\n",
       "      <td>independent.co.uk</td>\n",
       "      <td>[As opposed to regular Egyptian?]</td>\n",
       "    </tr>\n",
       "    <tr>\n",
       "      <th>1</th>\n",
       "      <td>88wkce</td>\n",
       "      <td>Bed bugs found in Kansas City airport seating ...</td>\n",
       "      <td>https://www.usatoday.com/story/travel/flights/...</td>\n",
       "      <td>2347</td>\n",
       "      <td>0.95</td>\n",
       "      <td>dwo1cjb</td>\n",
       "      <td>Just got our first home infestation within the...</td>\n",
       "      <td>96</td>\n",
       "      <td>jfoobar</td>\n",
       "      <td>[]</td>\n",
       "      <td>usatoday.com</td>\n",
       "      <td>[]</td>\n",
       "    </tr>\n",
       "    <tr>\n",
       "      <th>2</th>\n",
       "      <td>88wkce</td>\n",
       "      <td>Bed bugs found in Kansas City airport seating ...</td>\n",
       "      <td>https://www.usatoday.com/story/travel/flights/...</td>\n",
       "      <td>2347</td>\n",
       "      <td>0.95</td>\n",
       "      <td>dwnsk0j</td>\n",
       "      <td>ah, fuck. are you allowed to take diatomaceous...</td>\n",
       "      <td>459</td>\n",
       "      <td>SomethingWitty4this</td>\n",
       "      <td>['are you allowed to take diatomaceous earth o...</td>\n",
       "      <td>usatoday.com</td>\n",
       "      <td>[are you allowed to take diatomaceous earth on...</td>\n",
       "    </tr>\n",
       "    <tr>\n",
       "      <th>3</th>\n",
       "      <td>88wkce</td>\n",
       "      <td>Bed bugs found in Kansas City airport seating ...</td>\n",
       "      <td>https://www.usatoday.com/story/travel/flights/...</td>\n",
       "      <td>2347</td>\n",
       "      <td>0.95</td>\n",
       "      <td>dwntgsb</td>\n",
       "      <td>Burn down the airport</td>\n",
       "      <td>306</td>\n",
       "      <td>VTFC</td>\n",
       "      <td>[]</td>\n",
       "      <td>usatoday.com</td>\n",
       "      <td>[]</td>\n",
       "    </tr>\n",
       "    <tr>\n",
       "      <th>4</th>\n",
       "      <td>88wkce</td>\n",
       "      <td>Bed bugs found in Kansas City airport seating ...</td>\n",
       "      <td>https://www.usatoday.com/story/travel/flights/...</td>\n",
       "      <td>2347</td>\n",
       "      <td>0.95</td>\n",
       "      <td>dwnxjqv</td>\n",
       "      <td>The passenger who carried the bugs into the te...</td>\n",
       "      <td>96</td>\n",
       "      <td>Gasonfires</td>\n",
       "      <td>[]</td>\n",
       "      <td>usatoday.com</td>\n",
       "      <td>[]</td>\n",
       "    </tr>\n",
       "  </tbody>\n",
       "</table>\n",
       "</div>"
      ],
      "text/plain": [
       "  submission_ID                                   submission_title  \\\n",
       "0        88wlu3  Africa Egyptian government threatens foreign j...   \n",
       "1        88wkce  Bed bugs found in Kansas City airport seating ...   \n",
       "2        88wkce  Bed bugs found in Kansas City airport seating ...   \n",
       "3        88wkce  Bed bugs found in Kansas City airport seating ...   \n",
       "4        88wkce  Bed bugs found in Kansas City airport seating ...   \n",
       "\n",
       "                                      submission_URL  submission_upvotes  \\\n",
       "0  https://www.independent.co.uk/news/world/afric...                  94   \n",
       "1  https://www.usatoday.com/story/travel/flights/...                2347   \n",
       "2  https://www.usatoday.com/story/travel/flights/...                2347   \n",
       "3  https://www.usatoday.com/story/travel/flights/...                2347   \n",
       "4  https://www.usatoday.com/story/travel/flights/...                2347   \n",
       "\n",
       "   submission_upvote_ratio comment_ID  \\\n",
       "0                     0.91    dwo5e9a   \n",
       "1                     0.95    dwo1cjb   \n",
       "2                     0.95    dwnsk0j   \n",
       "3                     0.95    dwntgsb   \n",
       "4                     0.95    dwnxjqv   \n",
       "\n",
       "                                        comment_text  comment_upvotes  \\\n",
       "0   Africa Egyptian? As opposed to regular Egyptian?               13   \n",
       "1  Just got our first home infestation within the...               96   \n",
       "2  ah, fuck. are you allowed to take diatomaceous...              459   \n",
       "3                              Burn down the airport              306   \n",
       "4  The passenger who carried the bugs into the te...               96   \n",
       "\n",
       "        comment_author                                  comment_questions  \\\n",
       "0            johnsoone                ['As opposed to regular Egyptian?']   \n",
       "1              jfoobar                                                 []   \n",
       "2  SomethingWitty4this  ['are you allowed to take diatomaceous earth o...   \n",
       "3                 VTFC                                                 []   \n",
       "4           Gasonfires                                                 []   \n",
       "\n",
       "          URL_domain                                          questions  \n",
       "0  independent.co.uk                  [As opposed to regular Egyptian?]  \n",
       "1       usatoday.com                                                 []  \n",
       "2       usatoday.com  [are you allowed to take diatomaceous earth on...  \n",
       "3       usatoday.com                                                 []  \n",
       "4       usatoday.com                                                 []  "
      ]
     },
     "metadata": {},
     "output_type": "display_data"
    }
   ],
   "source": [
    "## load news data\n",
    "import pandas as pd\n",
    "# news_comment_data = pd.read_csv('../../data/reddit_data/reddit_news_comment_sample.gz', sep='\\t', compression='gzip', index_col=False)\n",
    "print(news_comment_data.shape[0])\n",
    "## label questions\n",
    "from data_helpers import extract_questions\n",
    "from nltk.tokenize import WordPunctTokenizer, PunktSentenceTokenizer\n",
    "import re\n",
    "word_tokenizer = WordPunctTokenizer()\n",
    "sent_tokenizer = PunktSentenceTokenizer()\n",
    "question_matcher = re.compile('.+[a-z0-9]\\?$')\n",
    "# test_text = 'this is a question? OK.'\n",
    "# extract_questions(test_text, word_tokenizer, sent_tokenizer, question_matcher)\n",
    "news_comment_data = news_comment_data.assign(**{\n",
    "    'questions' : news_comment_data.loc[:, 'comment_text'].apply(lambda x: extract_questions(x, word_tokenizer, sent_tokenizer, question_matcher))\n",
    "})\n",
    "display(news_comment_data.head(5))"
   ]
  },
  {
   "cell_type": "code",
   "execution_count": 13,
   "metadata": {},
   "outputs": [
    {
     "data": {
      "text/html": [
       "<div>\n",
       "<style scoped>\n",
       "    .dataframe tbody tr th:only-of-type {\n",
       "        vertical-align: middle;\n",
       "    }\n",
       "\n",
       "    .dataframe tbody tr th {\n",
       "        vertical-align: top;\n",
       "    }\n",
       "\n",
       "    .dataframe thead th {\n",
       "        text-align: right;\n",
       "    }\n",
       "</style>\n",
       "<table border=\"1\" class=\"dataframe\">\n",
       "  <thead>\n",
       "    <tr style=\"text-align: right;\">\n",
       "      <th></th>\n",
       "      <th>articleID</th>\n",
       "      <th>articleWordCount</th>\n",
       "      <th>byline</th>\n",
       "      <th>documentType</th>\n",
       "      <th>headline</th>\n",
       "      <th>keywords</th>\n",
       "      <th>multimedia</th>\n",
       "      <th>newDesk</th>\n",
       "      <th>printPage</th>\n",
       "      <th>pubDate</th>\n",
       "      <th>sectionName</th>\n",
       "      <th>snippet</th>\n",
       "      <th>source</th>\n",
       "      <th>typeOfMaterial</th>\n",
       "      <th>webURL</th>\n",
       "    </tr>\n",
       "  </thead>\n",
       "  <tbody>\n",
       "    <tr>\n",
       "      <th>0</th>\n",
       "      <td>5adf6684068401528a2aa69b</td>\n",
       "      <td>781</td>\n",
       "      <td>By JOHN BRANCH</td>\n",
       "      <td>article</td>\n",
       "      <td>Former N.F.L. Cheerleaders’ Settlement Offer: ...</td>\n",
       "      <td>['Workplace Hazards and Violations', 'Football...</td>\n",
       "      <td>68</td>\n",
       "      <td>Sports</td>\n",
       "      <td>0</td>\n",
       "      <td>2018-04-24 17:16:49</td>\n",
       "      <td>Pro Football</td>\n",
       "      <td>“I understand that they could meet with us, pa...</td>\n",
       "      <td>The New York Times</td>\n",
       "      <td>News</td>\n",
       "      <td>https://www.nytimes.com/2018/04/24/sports/foot...</td>\n",
       "    </tr>\n",
       "    <tr>\n",
       "      <th>1</th>\n",
       "      <td>5adf653f068401528a2aa697</td>\n",
       "      <td>656</td>\n",
       "      <td>By LISA FRIEDMAN</td>\n",
       "      <td>article</td>\n",
       "      <td>E.P.A. to Unveil a New Rule. Its Effect: Less ...</td>\n",
       "      <td>['Environmental Protection Agency', 'Pruitt, S...</td>\n",
       "      <td>68</td>\n",
       "      <td>Climate</td>\n",
       "      <td>0</td>\n",
       "      <td>2018-04-24 17:11:21</td>\n",
       "      <td>Unknown</td>\n",
       "      <td>The agency plans to publish a new regulation T...</td>\n",
       "      <td>The New York Times</td>\n",
       "      <td>News</td>\n",
       "      <td>https://www.nytimes.com/2018/04/24/climate/epa...</td>\n",
       "    </tr>\n",
       "    <tr>\n",
       "      <th>2</th>\n",
       "      <td>5adf4626068401528a2aa628</td>\n",
       "      <td>2427</td>\n",
       "      <td>By PETE WELLS</td>\n",
       "      <td>article</td>\n",
       "      <td>The New Noma, Explained</td>\n",
       "      <td>['Restaurants', 'Noma (Copenhagen, Restaurant)...</td>\n",
       "      <td>66</td>\n",
       "      <td>Dining</td>\n",
       "      <td>0</td>\n",
       "      <td>2018-04-24 14:58:44</td>\n",
       "      <td>Unknown</td>\n",
       "      <td>What’s it like to eat at the second incarnatio...</td>\n",
       "      <td>The New York Times</td>\n",
       "      <td>News</td>\n",
       "      <td>https://www.nytimes.com/2018/04/24/dining/noma...</td>\n",
       "    </tr>\n",
       "    <tr>\n",
       "      <th>3</th>\n",
       "      <td>5adf40d2068401528a2aa619</td>\n",
       "      <td>626</td>\n",
       "      <td>By JULIE HIRSCHFELD DAVIS and PETER BAKER</td>\n",
       "      <td>article</td>\n",
       "      <td>Unknown</td>\n",
       "      <td>['Macron, Emmanuel (1977- )', 'Trump, Donald J...</td>\n",
       "      <td>68</td>\n",
       "      <td>Washington</td>\n",
       "      <td>0</td>\n",
       "      <td>2018-04-24 14:35:57</td>\n",
       "      <td>Europe</td>\n",
       "      <td>President Trump welcomed President Emmanuel Ma...</td>\n",
       "      <td>The New York Times</td>\n",
       "      <td>News</td>\n",
       "      <td>https://www.nytimes.com/2018/04/24/world/europ...</td>\n",
       "    </tr>\n",
       "    <tr>\n",
       "      <th>4</th>\n",
       "      <td>5adf3d64068401528a2aa60f</td>\n",
       "      <td>815</td>\n",
       "      <td>By IAN AUSTEN and DAN BILEFSKY</td>\n",
       "      <td>article</td>\n",
       "      <td>Unknown</td>\n",
       "      <td>['Toronto, Ontario, Attack (April, 2018)', 'Mu...</td>\n",
       "      <td>68</td>\n",
       "      <td>Foreign</td>\n",
       "      <td>0</td>\n",
       "      <td>2018-04-24 14:21:21</td>\n",
       "      <td>Canada</td>\n",
       "      <td>Alek Minassian, 25, a resident of Toronto’s Ri...</td>\n",
       "      <td>The New York Times</td>\n",
       "      <td>News</td>\n",
       "      <td>https://www.nytimes.com/2018/04/24/world/canad...</td>\n",
       "    </tr>\n",
       "  </tbody>\n",
       "</table>\n",
       "</div>"
      ],
      "text/plain": [
       "                  articleID  articleWordCount  \\\n",
       "0  5adf6684068401528a2aa69b               781   \n",
       "1  5adf653f068401528a2aa697               656   \n",
       "2  5adf4626068401528a2aa628              2427   \n",
       "3  5adf40d2068401528a2aa619               626   \n",
       "4  5adf3d64068401528a2aa60f               815   \n",
       "\n",
       "                                      byline documentType  \\\n",
       "0                             By JOHN BRANCH      article   \n",
       "1                           By LISA FRIEDMAN      article   \n",
       "2                              By PETE WELLS      article   \n",
       "3  By JULIE HIRSCHFELD DAVIS and PETER BAKER      article   \n",
       "4             By IAN AUSTEN and DAN BILEFSKY      article   \n",
       "\n",
       "                                            headline  \\\n",
       "0  Former N.F.L. Cheerleaders’ Settlement Offer: ...   \n",
       "1  E.P.A. to Unveil a New Rule. Its Effect: Less ...   \n",
       "2                            The New Noma, Explained   \n",
       "3                                            Unknown   \n",
       "4                                            Unknown   \n",
       "\n",
       "                                            keywords  multimedia     newDesk  \\\n",
       "0  ['Workplace Hazards and Violations', 'Football...          68      Sports   \n",
       "1  ['Environmental Protection Agency', 'Pruitt, S...          68     Climate   \n",
       "2  ['Restaurants', 'Noma (Copenhagen, Restaurant)...          66      Dining   \n",
       "3  ['Macron, Emmanuel (1977- )', 'Trump, Donald J...          68  Washington   \n",
       "4  ['Toronto, Ontario, Attack (April, 2018)', 'Mu...          68     Foreign   \n",
       "\n",
       "   printPage              pubDate   sectionName  \\\n",
       "0          0  2018-04-24 17:16:49  Pro Football   \n",
       "1          0  2018-04-24 17:11:21       Unknown   \n",
       "2          0  2018-04-24 14:58:44       Unknown   \n",
       "3          0  2018-04-24 14:35:57        Europe   \n",
       "4          0  2018-04-24 14:21:21        Canada   \n",
       "\n",
       "                                             snippet              source  \\\n",
       "0  “I understand that they could meet with us, pa...  The New York Times   \n",
       "1  The agency plans to publish a new regulation T...  The New York Times   \n",
       "2  What’s it like to eat at the second incarnatio...  The New York Times   \n",
       "3  President Trump welcomed President Emmanuel Ma...  The New York Times   \n",
       "4  Alek Minassian, 25, a resident of Toronto’s Ri...  The New York Times   \n",
       "\n",
       "  typeOfMaterial                                             webURL  \n",
       "0           News  https://www.nytimes.com/2018/04/24/sports/foot...  \n",
       "1           News  https://www.nytimes.com/2018/04/24/climate/epa...  \n",
       "2           News  https://www.nytimes.com/2018/04/24/dining/noma...  \n",
       "3           News  https://www.nytimes.com/2018/04/24/world/europ...  \n",
       "4           News  https://www.nytimes.com/2018/04/24/world/canad...  "
      ]
     },
     "metadata": {},
     "output_type": "display_data"
    }
   ],
   "source": [
    "article_data = pd.read_csv('../../data/nyt_comments/ArticlesApril2018.csv', sep=',', index_col=False)\n",
    "display(article_data.head())"
   ]
  },
  {
   "cell_type": "code",
   "execution_count": 17,
   "metadata": {
    "scrolled": true
   },
   "outputs": [
    {
     "name": "stdout",
     "output_type": "stream",
     "text": [
      "[]\n",
      "['https://www.independent.co.uk/news/world/africa/election-egypt-threat-journalist-president-sisi-summon-a8283406.html'\n",
      " 'https://www.usatoday.com/story/travel/flights/todayinthesky/2018/04/01/bed-bugs-found-kansas-city-airport-seating-area/476933002/'\n",
      " 'https://www.ajc.com/news/national/convenience-store-clerk-charged-with-murder-after-shooting-teen-for-stealing-beer-police-say/slralaZieHMX2VvSMdqebM/'\n",
      " 'https://www.freep.com/story/money/cars/2018/04/01/mustang-chase-colorado/476671002/?from=new-cookie'\n",
      " 'https://www.theguardian.com/world/2018/apr/02/tiangong-1-crash-china-space-station?utm_source=inshorts&utm_medium=referral&utm_campaign=fullarticle'\n",
      " 'http://www.fresnobee.com/news/local/crime/article207277464.html'\n",
      " 'https://www.reuters.com/article/us-usa-trade-china/china-imposes-additional-tariffs-in-response-to-u-s-duties-on-steel-aluminum-idUSKCN1H81J3?il=0'\n",
      " 'http://www.foxnews.com/us/2018/04/01/new-york-museum-slammed-after-hiring-white-curator-for-african-art-exhibit.html'\n",
      " 'http://www.aerospace.org/cords/reentry-predictions/tiangong-1-reentry/'\n",
      " 'https://www.cnn.com/2018/04/01/tv-shows/steven-bochco-obit/index.html']\n",
      "['https://www.nytimes.com/2018/04/24/sports/football/nfl-cheerleaders.html'\n",
      " 'https://www.nytimes.com/2018/04/24/climate/epa-science-transparency-pruitt.html'\n",
      " 'https://www.nytimes.com/2018/04/24/dining/noma-restaurant-copenhagen.html'\n",
      " 'https://www.nytimes.com/2018/04/24/world/europe/trump-macron-iran-climate.html'\n",
      " 'https://www.nytimes.com/2018/04/24/world/canada/toronto-van-rampage.html'\n",
      " 'https://www.nytimes.com/2018/04/24/us/politics/ronny-jackson-veterans-affairs.html'\n",
      " 'https://www.nytimes.com/2018/04/24/us/california-today-john-cox-governor-race.html'\n",
      " 'https://www.nytimes.com/2018/04/24/us/politics/trump-economic-anxiety.html'\n",
      " 'https://www.nytimes.com/2018/04/24/insider/how-a-bag-of-texas-dirt-became-a-times-tradition.html'\n",
      " 'https://www.nytimes.com/2018/04/24/learning/is-school-a-place-for-self-expression.html']\n"
     ]
    }
   ],
   "source": [
    "import re\n",
    "submission_URLs = news_comment_data.loc[:, 'submission_URL'].unique()\n",
    "article_URLs = article_data.loc[:, 'webURL'].unique()\n",
    "article_URL_matcher = re.compile('|'.join(article_URLs))\n",
    "overlap_URLs = list(filter(lambda x: article_URL_matcher.search(x) is not None, submission_URLs))\n",
    "print(overlap_URLs)\n",
    "print(submission_URLs[:10])\n",
    "print(article_URLs[:10])"
   ]
  },
  {
   "cell_type": "markdown",
   "metadata": {},
   "source": [
    "OK! No overlap. This could be the result of different URL formats that are inconsistent."
   ]
  },
  {
   "cell_type": "markdown",
   "metadata": {},
   "source": [
    "### Old code"
   ]
  },
  {
   "cell_type": "code",
   "execution_count": 4,
   "metadata": {
    "scrolled": true
   },
   "outputs": [
    {
     "ename": "Exception",
     "evalue": "Unable to connect to pushshift.io. Max retries exceeded.",
     "output_type": "error",
     "traceback": [
      "\u001b[0;31m---------------------------------------------------------------------------\u001b[0m",
      "\u001b[0;31mException\u001b[0m                                 Traceback (most recent call last)",
      "\u001b[0;32m<ipython-input-4-b65f2981ff87>\u001b[0m in \u001b[0;36m<module>\u001b[0;34m\u001b[0m\n\u001b[1;32m      3\u001b[0m \u001b[0mend_date\u001b[0m \u001b[0;34m=\u001b[0m \u001b[0;34m(\u001b[0m\u001b[0;36m2018\u001b[0m\u001b[0;34m,\u001b[0m \u001b[0;36m4\u001b[0m\u001b[0;34m,\u001b[0m \u001b[0;36m2\u001b[0m\u001b[0;34m)\u001b[0m\u001b[0;34m\u001b[0m\u001b[0;34m\u001b[0m\u001b[0m\n\u001b[1;32m      4\u001b[0m \u001b[0mend_time\u001b[0m \u001b[0;34m=\u001b[0m \u001b[0mint\u001b[0m\u001b[0;34m(\u001b[0m\u001b[0mdatetime\u001b[0m\u001b[0;34m(\u001b[0m\u001b[0;34m*\u001b[0m\u001b[0mend_date\u001b[0m\u001b[0;34m)\u001b[0m\u001b[0;34m.\u001b[0m\u001b[0mtimestamp\u001b[0m\u001b[0;34m(\u001b[0m\u001b[0;34m)\u001b[0m\u001b[0;34m)\u001b[0m\u001b[0;34m\u001b[0m\u001b[0;34m\u001b[0m\u001b[0m\n\u001b[0;32m----> 5\u001b[0;31m \u001b[0;32mfor\u001b[0m \u001b[0mx\u001b[0m \u001b[0;32min\u001b[0m \u001b[0mpushshift_reddit_api\u001b[0m\u001b[0;34m.\u001b[0m\u001b[0msearch_comments\u001b[0m\u001b[0;34m(\u001b[0m\u001b[0mbefore\u001b[0m\u001b[0;34m=\u001b[0m\u001b[0mend_date\u001b[0m\u001b[0;34m,\u001b[0m\u001b[0mauthor\u001b[0m\u001b[0;34m=\u001b[0m\u001b[0mtest_author\u001b[0m\u001b[0;34m)\u001b[0m\u001b[0;34m:\u001b[0m\u001b[0;34m\u001b[0m\u001b[0;34m\u001b[0m\u001b[0m\n\u001b[0m\u001b[1;32m      6\u001b[0m     \u001b[0mprint\u001b[0m\u001b[0;34m(\u001b[0m\u001b[0mx\u001b[0m\u001b[0;34m)\u001b[0m\u001b[0;34m\u001b[0m\u001b[0;34m\u001b[0m\u001b[0m\n\u001b[1;32m      7\u001b[0m     \u001b[0;32mbreak\u001b[0m\u001b[0;34m\u001b[0m\u001b[0;34m\u001b[0m\u001b[0m\n",
      "\u001b[0;32m~/miniconda3/envs/py3/lib/python3.8/site-packages/psaw/PushshiftAPI.py\u001b[0m in \u001b[0;36m_praw_search\u001b[0;34m(self, **kwargs)\u001b[0m\n\u001b[1;32m    372\u001b[0m             \u001b[0mgen\u001b[0m \u001b[0;34m=\u001b[0m \u001b[0;34m[\u001b[0m\u001b[0mself\u001b[0m\u001b[0;34m.\u001b[0m\u001b[0m_get_submission_comment_ids\u001b[0m\u001b[0;34m(\u001b[0m\u001b[0;34m**\u001b[0m\u001b[0mkwargs\u001b[0m\u001b[0;34m)\u001b[0m\u001b[0;34m]\u001b[0m\u001b[0;34m\u001b[0m\u001b[0;34m\u001b[0m\u001b[0m\n\u001b[1;32m    373\u001b[0m \u001b[0;34m\u001b[0m\u001b[0m\n\u001b[0;32m--> 374\u001b[0;31m         \u001b[0;32mfor\u001b[0m \u001b[0mbatch\u001b[0m \u001b[0;32min\u001b[0m \u001b[0mgen\u001b[0m\u001b[0;34m:\u001b[0m\u001b[0;34m\u001b[0m\u001b[0;34m\u001b[0m\u001b[0m\n\u001b[0m\u001b[1;32m    375\u001b[0m             \u001b[0;32mif\u001b[0m \u001b[0;32mnot\u001b[0m \u001b[0mbatch\u001b[0m\u001b[0;34m:\u001b[0m\u001b[0;34m\u001b[0m\u001b[0;34m\u001b[0m\u001b[0m\n\u001b[1;32m    376\u001b[0m                 \u001b[0;32mreturn\u001b[0m\u001b[0;34m\u001b[0m\u001b[0;34m\u001b[0m\u001b[0m\n",
      "\u001b[0;32m~/miniconda3/envs/py3/lib/python3.8/site-packages/psaw/PushshiftAPI.py\u001b[0m in \u001b[0;36m_search\u001b[0;34m(self, kind, stop_condition, return_batch, dataset, **kwargs)\u001b[0m\n\u001b[1;32m    236\u001b[0m         \u001b[0mendpoint\u001b[0m \u001b[0;34m=\u001b[0m \u001b[0;34m'{dataset}/{kind}/search'\u001b[0m\u001b[0;34m.\u001b[0m\u001b[0mformat\u001b[0m\u001b[0;34m(\u001b[0m\u001b[0mdataset\u001b[0m\u001b[0;34m=\u001b[0m\u001b[0mdataset\u001b[0m\u001b[0;34m,\u001b[0m \u001b[0mkind\u001b[0m\u001b[0;34m=\u001b[0m\u001b[0mkind\u001b[0m\u001b[0;34m)\u001b[0m\u001b[0;34m\u001b[0m\u001b[0;34m\u001b[0m\u001b[0m\n\u001b[1;32m    237\u001b[0m         \u001b[0murl\u001b[0m \u001b[0;34m=\u001b[0m \u001b[0mself\u001b[0m\u001b[0;34m.\u001b[0m\u001b[0mbase_url\u001b[0m\u001b[0;34m.\u001b[0m\u001b[0mformat\u001b[0m\u001b[0;34m(\u001b[0m\u001b[0mendpoint\u001b[0m\u001b[0;34m=\u001b[0m\u001b[0mendpoint\u001b[0m\u001b[0;34m)\u001b[0m\u001b[0;34m\u001b[0m\u001b[0;34m\u001b[0m\u001b[0m\n\u001b[0;32m--> 238\u001b[0;31m         \u001b[0;32mfor\u001b[0m \u001b[0mresponse\u001b[0m \u001b[0;32min\u001b[0m \u001b[0mself\u001b[0m\u001b[0;34m.\u001b[0m\u001b[0m_handle_paging\u001b[0m\u001b[0;34m(\u001b[0m\u001b[0murl\u001b[0m\u001b[0;34m)\u001b[0m\u001b[0;34m:\u001b[0m\u001b[0;34m\u001b[0m\u001b[0;34m\u001b[0m\u001b[0m\n\u001b[0m\u001b[1;32m    239\u001b[0m             \u001b[0;32mif\u001b[0m \u001b[0;34m'aggs'\u001b[0m \u001b[0;32min\u001b[0m \u001b[0mresponse\u001b[0m\u001b[0;34m:\u001b[0m\u001b[0;34m\u001b[0m\u001b[0;34m\u001b[0m\u001b[0m\n\u001b[1;32m    240\u001b[0m                 \u001b[0;32myield\u001b[0m \u001b[0mresponse\u001b[0m\u001b[0;34m[\u001b[0m\u001b[0;34m'aggs'\u001b[0m\u001b[0;34m]\u001b[0m\u001b[0;34m\u001b[0m\u001b[0;34m\u001b[0m\u001b[0m\n",
      "\u001b[0;32m~/miniconda3/envs/py3/lib/python3.8/site-packages/psaw/PushshiftAPI.py\u001b[0m in \u001b[0;36m_handle_paging\u001b[0;34m(self, url)\u001b[0m\n\u001b[1;32m    213\u001b[0m             \u001b[0mself\u001b[0m\u001b[0;34m.\u001b[0m\u001b[0m_add_nec_args\u001b[0m\u001b[0;34m(\u001b[0m\u001b[0mself\u001b[0m\u001b[0;34m.\u001b[0m\u001b[0mpayload\u001b[0m\u001b[0;34m)\u001b[0m\u001b[0;34m\u001b[0m\u001b[0;34m\u001b[0m\u001b[0m\n\u001b[1;32m    214\u001b[0m \u001b[0;34m\u001b[0m\u001b[0m\n\u001b[0;32m--> 215\u001b[0;31m             \u001b[0mdata\u001b[0m \u001b[0;34m=\u001b[0m \u001b[0mself\u001b[0m\u001b[0;34m.\u001b[0m\u001b[0m_get\u001b[0m\u001b[0;34m(\u001b[0m\u001b[0murl\u001b[0m\u001b[0;34m,\u001b[0m \u001b[0mself\u001b[0m\u001b[0;34m.\u001b[0m\u001b[0mpayload\u001b[0m\u001b[0;34m)\u001b[0m\u001b[0;34m\u001b[0m\u001b[0;34m\u001b[0m\u001b[0m\n\u001b[0m\u001b[1;32m    216\u001b[0m             \u001b[0;32myield\u001b[0m \u001b[0mdata\u001b[0m\u001b[0;34m\u001b[0m\u001b[0;34m\u001b[0m\u001b[0m\n\u001b[1;32m    217\u001b[0m             \u001b[0;32mif\u001b[0m \u001b[0mlimit\u001b[0m \u001b[0;32mis\u001b[0m \u001b[0;32mnot\u001b[0m \u001b[0;32mNone\u001b[0m\u001b[0;34m:\u001b[0m\u001b[0;34m\u001b[0m\u001b[0;34m\u001b[0m\u001b[0m\n",
      "\u001b[0;32m~/miniconda3/envs/py3/lib/python3.8/site-packages/psaw/PushshiftAPI.py\u001b[0m in \u001b[0;36m_get\u001b[0;34m(self, url, payload)\u001b[0m\n\u001b[1;32m    192\u001b[0m                 \u001b[0mwarnings\u001b[0m\u001b[0;34m.\u001b[0m\u001b[0mwarn\u001b[0m\u001b[0;34m(\u001b[0m\u001b[0;34m\"Got non 200 code %s\"\u001b[0m \u001b[0;34m%\u001b[0m \u001b[0mresponse\u001b[0m\u001b[0;34m.\u001b[0m\u001b[0mstatus_code\u001b[0m\u001b[0;34m)\u001b[0m\u001b[0;34m\u001b[0m\u001b[0;34m\u001b[0m\u001b[0m\n\u001b[1;32m    193\u001b[0m         \u001b[0;32mif\u001b[0m \u001b[0;32mnot\u001b[0m \u001b[0msuccess\u001b[0m\u001b[0;34m:\u001b[0m\u001b[0;34m\u001b[0m\u001b[0;34m\u001b[0m\u001b[0m\n\u001b[0;32m--> 194\u001b[0;31m             \u001b[0;32mraise\u001b[0m \u001b[0mException\u001b[0m\u001b[0;34m(\u001b[0m\u001b[0;34m\"Unable to connect to pushshift.io. Max retries exceeded.\"\u001b[0m\u001b[0;34m)\u001b[0m\u001b[0;34m\u001b[0m\u001b[0;34m\u001b[0m\u001b[0m\n\u001b[0m\u001b[1;32m    195\u001b[0m         \u001b[0;32mreturn\u001b[0m \u001b[0mjson\u001b[0m\u001b[0;34m.\u001b[0m\u001b[0mloads\u001b[0m\u001b[0;34m(\u001b[0m\u001b[0mresponse\u001b[0m\u001b[0;34m.\u001b[0m\u001b[0mtext\u001b[0m\u001b[0;34m)\u001b[0m\u001b[0;34m\u001b[0m\u001b[0;34m\u001b[0m\u001b[0m\n\u001b[1;32m    196\u001b[0m \u001b[0;34m\u001b[0m\u001b[0m\n",
      "\u001b[0;31mException\u001b[0m: Unable to connect to pushshift.io. Max retries exceeded."
     ]
    }
   ],
   "source": [
    "## code breaks when Pushshift is down LOL\n",
    "from datetime import datetime\n",
    "test_author = 'johnsoone'\n",
    "end_date = (2018, 4, 2)\n",
    "end_time = int(datetime(*end_date).timestamp())\n",
    "author_sample_size = 1000\n",
    "for x in pushshift_reddit_api.search_comments(before=end_date,author=test_author):\n",
    "    print(x)\n",
    "    break"
   ]
  },
  {
   "cell_type": "code",
   "execution_count": 16,
   "metadata": {},
   "outputs": [
    {
     "data": {
      "text/html": [
       "<div>\n",
       "<style scoped>\n",
       "    .dataframe tbody tr th:only-of-type {\n",
       "        vertical-align: middle;\n",
       "    }\n",
       "\n",
       "    .dataframe tbody tr th {\n",
       "        vertical-align: top;\n",
       "    }\n",
       "\n",
       "    .dataframe thead th {\n",
       "        text-align: right;\n",
       "    }\n",
       "</style>\n",
       "<table border=\"1\" class=\"dataframe\">\n",
       "  <thead>\n",
       "    <tr style=\"text-align: right;\">\n",
       "      <th></th>\n",
       "      <th>submission_ID</th>\n",
       "      <th>submission_title</th>\n",
       "      <th>submission_URL</th>\n",
       "      <th>submission_upvotes</th>\n",
       "      <th>submission_upvote_ratio</th>\n",
       "      <th>comment_ID</th>\n",
       "      <th>comment_text</th>\n",
       "      <th>comment_upvotes</th>\n",
       "      <th>comment_author</th>\n",
       "      <th>comment_questions</th>\n",
       "      <th>URL_domain</th>\n",
       "    </tr>\n",
       "  </thead>\n",
       "  <tbody>\n",
       "    <tr>\n",
       "      <th>0</th>\n",
       "      <td>88wlu3</td>\n",
       "      <td>Africa Egyptian government threatens foreign j...</td>\n",
       "      <td>https://www.independent.co.uk/news/world/afric...</td>\n",
       "      <td>98</td>\n",
       "      <td>0.91</td>\n",
       "      <td>dwo5e9a</td>\n",
       "      <td>Africa Egyptian? As opposed to regular Egyptian?</td>\n",
       "      <td>13</td>\n",
       "      <td>johnsoone</td>\n",
       "      <td>[As opposed to regular Egyptian?]</td>\n",
       "      <td>independent.co.uk</td>\n",
       "    </tr>\n",
       "    <tr>\n",
       "      <th>1</th>\n",
       "      <td>88wkce</td>\n",
       "      <td>Bed bugs found in Kansas City airport seating ...</td>\n",
       "      <td>https://www.usatoday.com/story/travel/flights/...</td>\n",
       "      <td>2354</td>\n",
       "      <td>0.95</td>\n",
       "      <td>dwo1cjb</td>\n",
       "      <td>Just got our first home infestation within the...</td>\n",
       "      <td>94</td>\n",
       "      <td>jfoobar</td>\n",
       "      <td>[]</td>\n",
       "      <td>usatoday.com</td>\n",
       "    </tr>\n",
       "    <tr>\n",
       "      <th>2</th>\n",
       "      <td>88wkce</td>\n",
       "      <td>Bed bugs found in Kansas City airport seating ...</td>\n",
       "      <td>https://www.usatoday.com/story/travel/flights/...</td>\n",
       "      <td>2354</td>\n",
       "      <td>0.95</td>\n",
       "      <td>dwnsk0j</td>\n",
       "      <td>ah, fuck. are you allowed to take diatomaceous...</td>\n",
       "      <td>464</td>\n",
       "      <td>SomethingWitty4this</td>\n",
       "      <td>[are you allowed to take diatomaceous earth on...</td>\n",
       "      <td>usatoday.com</td>\n",
       "    </tr>\n",
       "    <tr>\n",
       "      <th>3</th>\n",
       "      <td>88wkce</td>\n",
       "      <td>Bed bugs found in Kansas City airport seating ...</td>\n",
       "      <td>https://www.usatoday.com/story/travel/flights/...</td>\n",
       "      <td>2354</td>\n",
       "      <td>0.95</td>\n",
       "      <td>dwntgsb</td>\n",
       "      <td>Burn down the airport</td>\n",
       "      <td>309</td>\n",
       "      <td>VTFC</td>\n",
       "      <td>[]</td>\n",
       "      <td>usatoday.com</td>\n",
       "    </tr>\n",
       "    <tr>\n",
       "      <th>4</th>\n",
       "      <td>88wkce</td>\n",
       "      <td>Bed bugs found in Kansas City airport seating ...</td>\n",
       "      <td>https://www.usatoday.com/story/travel/flights/...</td>\n",
       "      <td>2354</td>\n",
       "      <td>0.95</td>\n",
       "      <td>dwnxjqv</td>\n",
       "      <td>The passenger who carried the bugs into the te...</td>\n",
       "      <td>92</td>\n",
       "      <td>Gasonfires</td>\n",
       "      <td>[]</td>\n",
       "      <td>usatoday.com</td>\n",
       "    </tr>\n",
       "  </tbody>\n",
       "</table>\n",
       "</div>"
      ],
      "text/plain": [
       "  submission_ID                                   submission_title  \\\n",
       "0        88wlu3  Africa Egyptian government threatens foreign j...   \n",
       "1        88wkce  Bed bugs found in Kansas City airport seating ...   \n",
       "2        88wkce  Bed bugs found in Kansas City airport seating ...   \n",
       "3        88wkce  Bed bugs found in Kansas City airport seating ...   \n",
       "4        88wkce  Bed bugs found in Kansas City airport seating ...   \n",
       "\n",
       "                                      submission_URL submission_upvotes  \\\n",
       "0  https://www.independent.co.uk/news/world/afric...                 98   \n",
       "1  https://www.usatoday.com/story/travel/flights/...               2354   \n",
       "2  https://www.usatoday.com/story/travel/flights/...               2354   \n",
       "3  https://www.usatoday.com/story/travel/flights/...               2354   \n",
       "4  https://www.usatoday.com/story/travel/flights/...               2354   \n",
       "\n",
       "  submission_upvote_ratio comment_ID  \\\n",
       "0                    0.91    dwo5e9a   \n",
       "1                    0.95    dwo1cjb   \n",
       "2                    0.95    dwnsk0j   \n",
       "3                    0.95    dwntgsb   \n",
       "4                    0.95    dwnxjqv   \n",
       "\n",
       "                                        comment_text comment_upvotes  \\\n",
       "0   Africa Egyptian? As opposed to regular Egyptian?              13   \n",
       "1  Just got our first home infestation within the...              94   \n",
       "2  ah, fuck. are you allowed to take diatomaceous...             464   \n",
       "3                              Burn down the airport             309   \n",
       "4  The passenger who carried the bugs into the te...              92   \n",
       "\n",
       "        comment_author                                  comment_questions  \\\n",
       "0            johnsoone                  [As opposed to regular Egyptian?]   \n",
       "1              jfoobar                                                 []   \n",
       "2  SomethingWitty4this  [are you allowed to take diatomaceous earth on...   \n",
       "3                 VTFC                                                 []   \n",
       "4           Gasonfires                                                 []   \n",
       "\n",
       "          URL_domain  \n",
       "0  independent.co.uk  \n",
       "1       usatoday.com  \n",
       "2       usatoday.com  \n",
       "3       usatoday.com  \n",
       "4       usatoday.com  "
      ]
     },
     "execution_count": 16,
     "metadata": {},
     "output_type": "execute_result"
    }
   ],
   "source": [
    "## first: collect random sample of question askers\n",
    "question_comment_data = comment_data[comment_data.loc[:, 'comment_questions'].apply(lambda x: len(x) > 0)]\n",
    "np.random.seed(123)\n",
    "author_sample_size = 1000\n",
    "sample_question_authors = np.random.choice(question_comment_data.loc[:, 'comment_author'].unique(), author_sample_size, replace=False)\n",
    "sample_question_author_comment_data = []\n",
    "end_date = (2018, 4, 2)\n",
    "end_time = int(datetime(*end_date).timestamp())\n",
    "comments_per_author = 1000\n",
    "for sample_question_author in sample_question_authors:\n",
    "    ## mine previous 1000 comments by author\n",
    "    reddit_api.user\n",
    "    pass"
   ]
  },
  {
   "cell_type": "code",
   "execution_count": null,
   "metadata": {},
   "outputs": [],
   "source": []
  }
 ],
 "metadata": {
  "kernelspec": {
   "display_name": "Python [conda env:py3] *",
   "language": "python",
   "name": "conda-env-py3-py"
  },
  "language_info": {
   "codemirror_mode": {
    "name": "ipython",
    "version": 3
   },
   "file_extension": ".py",
   "mimetype": "text/x-python",
   "name": "python",
   "nbconvert_exporter": "python",
   "pygments_lexer": "ipython3",
   "version": "3.8.5"
  }
 },
 "nbformat": 4,
 "nbformat_minor": 4
}
