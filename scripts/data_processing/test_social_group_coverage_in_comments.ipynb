{
 "cells": [
  {
   "cell_type": "markdown",
   "id": "geographic-indonesian",
   "metadata": {},
   "source": [
    "# Test social group coverage in comments\n",
    "To build an audience-specific question generator, we need data from specific social groups.\n",
    "\n",
    "We will assess the coverage of social groups in the comments for the following splits:\n",
    "\n",
    "- demographics (age, location)\n",
    "- response time\n",
    "- subreddit post history (within-topic or other-topics)"
   ]
  },
  {
   "cell_type": "markdown",
   "id": "referenced-values",
   "metadata": {},
   "source": [
    "## Load comments\n",
    "Let's get the submissions and the comment data, then restrict to all authors who asked at least one question."
   ]
  },
  {
   "cell_type": "code",
   "execution_count": 13,
   "id": "ahead-compensation",
   "metadata": {},
   "outputs": [
    {
     "data": {
      "text/html": [
       "<div>\n",
       "<style scoped>\n",
       "    .dataframe tbody tr th:only-of-type {\n",
       "        vertical-align: middle;\n",
       "    }\n",
       "\n",
       "    .dataframe tbody tr th {\n",
       "        vertical-align: top;\n",
       "    }\n",
       "\n",
       "    .dataframe thead th {\n",
       "        text-align: right;\n",
       "    }\n",
       "</style>\n",
       "<table border=\"1\" class=\"dataframe\">\n",
       "  <thead>\n",
       "    <tr style=\"text-align: right;\">\n",
       "      <th></th>\n",
       "      <th>parent_author</th>\n",
       "      <th>author_flair_text</th>\n",
       "      <th>submission_time</th>\n",
       "      <th>edited</th>\n",
       "      <th>parent_id</th>\n",
       "      <th>num_comments</th>\n",
       "      <th>score</th>\n",
       "      <th>submission_text</th>\n",
       "      <th>subreddit</th>\n",
       "      <th>submission_title</th>\n",
       "      <th>category</th>\n",
       "      <th>author_fullname</th>\n",
       "    </tr>\n",
       "  </thead>\n",
       "  <tbody>\n",
       "    <tr>\n",
       "      <th>0</th>\n",
       "      <td>deepsouthsloth</td>\n",
       "      <td>None</td>\n",
       "      <td>1514764840</td>\n",
       "      <td>False</td>\n",
       "      <td>7nby0l</td>\n",
       "      <td>7</td>\n",
       "      <td>1</td>\n",
       "      <td>26M/married/2 kids\\n\\nEmployer match is 50% up...</td>\n",
       "      <td>personalfinance</td>\n",
       "      <td>Should I continue with 401k despite terrible e...</td>\n",
       "      <td>NaN</td>\n",
       "      <td>NaN</td>\n",
       "    </tr>\n",
       "    <tr>\n",
       "      <th>1</th>\n",
       "      <td>CapableCounteroffer</td>\n",
       "      <td>None</td>\n",
       "      <td>1514764890</td>\n",
       "      <td>False</td>\n",
       "      <td>7nby5t</td>\n",
       "      <td>5</td>\n",
       "      <td>0</td>\n",
       "      <td>On November 24th, I called AT&amp;amp;T to inquire...</td>\n",
       "      <td>legaladvice</td>\n",
       "      <td>[FL] Issue getting AT&amp;amp;T to pay early termi...</td>\n",
       "      <td>NaN</td>\n",
       "      <td>NaN</td>\n",
       "    </tr>\n",
       "    <tr>\n",
       "      <th>2</th>\n",
       "      <td>pinkcrayon69</td>\n",
       "      <td>None</td>\n",
       "      <td>1514764948</td>\n",
       "      <td>False</td>\n",
       "      <td>7nbybf</td>\n",
       "      <td>9</td>\n",
       "      <td>3</td>\n",
       "      <td>I live in south OC but I need to move out of m...</td>\n",
       "      <td>personalfinance</td>\n",
       "      <td>I need to move out in a month. What should I p...</td>\n",
       "      <td>NaN</td>\n",
       "      <td>NaN</td>\n",
       "    </tr>\n",
       "    <tr>\n",
       "      <th>3</th>\n",
       "      <td>bobshellby</td>\n",
       "      <td>Needs 64bit Windows...</td>\n",
       "      <td>1514765040</td>\n",
       "      <td>False</td>\n",
       "      <td>7nbykz</td>\n",
       "      <td>6</td>\n",
       "      <td>0</td>\n",
       "      <td>Are there keycaps for the Microsoft wireless k...</td>\n",
       "      <td>pcmasterrace</td>\n",
       "      <td>Keyboard keycap help</td>\n",
       "      <td>NaN</td>\n",
       "      <td>NaN</td>\n",
       "    </tr>\n",
       "    <tr>\n",
       "      <th>4</th>\n",
       "      <td>j0sh135742</td>\n",
       "      <td>None</td>\n",
       "      <td>1514765064</td>\n",
       "      <td>1514765420.0</td>\n",
       "      <td>7nbyno</td>\n",
       "      <td>4</td>\n",
       "      <td>0</td>\n",
       "      <td>So in MGL Part 1, Title 15, Chapter 94G, Secti...</td>\n",
       "      <td>legaladvice</td>\n",
       "      <td>Quick question about Medical Marijuana.</td>\n",
       "      <td>NaN</td>\n",
       "      <td>NaN</td>\n",
       "    </tr>\n",
       "  </tbody>\n",
       "</table>\n",
       "</div>"
      ],
      "text/plain": [
       "         parent_author       author_flair_text  submission_time        edited  \\\n",
       "0       deepsouthsloth                    None       1514764840         False   \n",
       "1  CapableCounteroffer                    None       1514764890         False   \n",
       "2         pinkcrayon69                    None       1514764948         False   \n",
       "3           bobshellby  Needs 64bit Windows...       1514765040         False   \n",
       "4           j0sh135742                    None       1514765064  1514765420.0   \n",
       "\n",
       "  parent_id  num_comments  score  \\\n",
       "0    7nby0l             7      1   \n",
       "1    7nby5t             5      0   \n",
       "2    7nbybf             9      3   \n",
       "3    7nbykz             6      0   \n",
       "4    7nbyno             4      0   \n",
       "\n",
       "                                     submission_text        subreddit  \\\n",
       "0  26M/married/2 kids\\n\\nEmployer match is 50% up...  personalfinance   \n",
       "1  On November 24th, I called AT&amp;T to inquire...      legaladvice   \n",
       "2  I live in south OC but I need to move out of m...  personalfinance   \n",
       "3  Are there keycaps for the Microsoft wireless k...     pcmasterrace   \n",
       "4  So in MGL Part 1, Title 15, Chapter 94G, Secti...      legaladvice   \n",
       "\n",
       "                                    submission_title  category author_fullname  \n",
       "0  Should I continue with 401k despite terrible e...       NaN             NaN  \n",
       "1  [FL] Issue getting AT&amp;T to pay early termi...       NaN             NaN  \n",
       "2  I need to move out in a month. What should I p...       NaN             NaN  \n",
       "3                               Keyboard keycap help       NaN             NaN  \n",
       "4            Quick question about Medical Marijuana.       NaN             NaN  "
      ]
     },
     "metadata": {},
     "output_type": "display_data"
    }
   ],
   "source": [
    "import pandas as pd\n",
    "import json\n",
    "import gzip\n",
    "def convert_json_to_data(data_file):\n",
    "    # handling incomplete files\n",
    "    raw_data = []\n",
    "    try:\n",
    "        for l in gzip.open(data_file, 'rt'):\n",
    "            raw_data.append(json.loads(l.strip()))\n",
    "    except Exception as e:\n",
    "        print(f'ending data collection early because error {e}')\n",
    "    data = pd.DataFrame(raw_data)\n",
    "    return data\n",
    "submission_data = convert_json_to_data('../../data/reddit_data/subreddit_submissions_2018-01_2019-12.gz')\n",
    "submission_data.rename(columns={'id':'parent_id', 'author':'parent_author', 'selftext':'submission_text', 'title':'submission_title', 'created_utc':'submission_time'}, inplace=True)\n",
    "display(submission_data.head())"
   ]
  },
  {
   "cell_type": "code",
   "execution_count": 11,
   "id": "aggressive-ensemble",
   "metadata": {},
   "outputs": [],
   "source": [
    "## get all available comment data\n",
    "import os\n",
    "def load_comment_data(data_dir):\n",
    "    comment_files = list(filter(lambda x: x.startswith('subreddit_comments'), os.listdir(data_dir)))\n",
    "    comment_files = list(map(lambda x: os.path.join(data_dir, x), comment_files))\n",
    "    comment_data = list(map(lambda x: convert_json_to_data(x), comment_files))\n",
    "    # combine\n",
    "    combined_comment_data = pd.concat(comment_data, axis=0)\n",
    "    return combined_comment_data\n",
    "comment_data = load_comment_data('../../data/reddit_data/')\n",
    "# fix parent ID ref\n",
    "comment_data = comment_data.assign(**{\n",
    "    'parent_id' : comment_data.loc[:, 'parent_id'].apply(lambda x: x.split('_')[-1])\n",
    "})"
   ]
  },
  {
   "cell_type": "code",
   "execution_count": 12,
   "id": "decent-belfast",
   "metadata": {},
   "outputs": [
    {
     "name": "stdout",
     "output_type": "stream",
     "text": [
      "4339242\n"
     ]
    },
    {
     "data": {
      "text/html": [
       "<div>\n",
       "<style scoped>\n",
       "    .dataframe tbody tr th:only-of-type {\n",
       "        vertical-align: middle;\n",
       "    }\n",
       "\n",
       "    .dataframe tbody tr th {\n",
       "        vertical-align: top;\n",
       "    }\n",
       "\n",
       "    .dataframe thead th {\n",
       "        text-align: right;\n",
       "    }\n",
       "</style>\n",
       "<table border=\"1\" class=\"dataframe\">\n",
       "  <thead>\n",
       "    <tr style=\"text-align: right;\">\n",
       "      <th></th>\n",
       "      <th>author</th>\n",
       "      <th>author_flair_text</th>\n",
       "      <th>author_fullname</th>\n",
       "      <th>body</th>\n",
       "      <th>created_utc</th>\n",
       "      <th>edited</th>\n",
       "      <th>id</th>\n",
       "      <th>parent_id</th>\n",
       "      <th>score</th>\n",
       "      <th>subreddit</th>\n",
       "    </tr>\n",
       "  </thead>\n",
       "  <tbody>\n",
       "    <tr>\n",
       "      <th>0</th>\n",
       "      <td>grumpypantsoldman</td>\n",
       "      <td>None</td>\n",
       "      <td>t2_27ps6lxw</td>\n",
       "      <td>NTA. I think you dodged a bullet. Who needs a ...</td>\n",
       "      <td>1541030405</td>\n",
       "      <td>False</td>\n",
       "      <td>e8tkic1</td>\n",
       "      <td>9t3n27</td>\n",
       "      <td>14</td>\n",
       "      <td>AmItheAsshole</td>\n",
       "    </tr>\n",
       "    <tr>\n",
       "      <th>1</th>\n",
       "      <td>unknown_salmon</td>\n",
       "      <td>None</td>\n",
       "      <td>t2_q57txtp</td>\n",
       "      <td>I do feel for you. Do you think you could be b...</td>\n",
       "      <td>1541030426</td>\n",
       "      <td>False</td>\n",
       "      <td>e8tkj26</td>\n",
       "      <td>9t1u2e</td>\n",
       "      <td>2</td>\n",
       "      <td>Advice</td>\n",
       "    </tr>\n",
       "    <tr>\n",
       "      <th>2</th>\n",
       "      <td>vld-s</td>\n",
       "      <td>None</td>\n",
       "      <td>t2_14p3sr</td>\n",
       "      <td>YNTA. He made you uncomfortable and you distan...</td>\n",
       "      <td>1541030467</td>\n",
       "      <td>False</td>\n",
       "      <td>e8tkkjt</td>\n",
       "      <td>9t3xz3</td>\n",
       "      <td>3</td>\n",
       "      <td>AmItheAsshole</td>\n",
       "    </tr>\n",
       "    <tr>\n",
       "      <th>3</th>\n",
       "      <td>Prepperpoints2Ponder</td>\n",
       "      <td>None</td>\n",
       "      <td>t2_11lpfa</td>\n",
       "      <td>Manufacturing here. Me and spouse will be payi...</td>\n",
       "      <td>1541030470</td>\n",
       "      <td>False</td>\n",
       "      <td>e8tkkns</td>\n",
       "      <td>9t2e8e</td>\n",
       "      <td>2</td>\n",
       "      <td>personalfinance</td>\n",
       "    </tr>\n",
       "    <tr>\n",
       "      <th>4</th>\n",
       "      <td>juliej891</td>\n",
       "      <td>None</td>\n",
       "      <td>t2_1mwezovi</td>\n",
       "      <td>I think you’re going to go out of your way to ...</td>\n",
       "      <td>1541030493</td>\n",
       "      <td>False</td>\n",
       "      <td>e8tklij</td>\n",
       "      <td>9t4afp</td>\n",
       "      <td>1</td>\n",
       "      <td>Advice</td>\n",
       "    </tr>\n",
       "  </tbody>\n",
       "</table>\n",
       "</div>"
      ],
      "text/plain": [
       "                 author author_flair_text author_fullname  \\\n",
       "0     grumpypantsoldman              None     t2_27ps6lxw   \n",
       "1        unknown_salmon              None      t2_q57txtp   \n",
       "2                 vld-s              None       t2_14p3sr   \n",
       "3  Prepperpoints2Ponder              None       t2_11lpfa   \n",
       "4             juliej891              None     t2_1mwezovi   \n",
       "\n",
       "                                                body  created_utc edited  \\\n",
       "0  NTA. I think you dodged a bullet. Who needs a ...   1541030405  False   \n",
       "1  I do feel for you. Do you think you could be b...   1541030426  False   \n",
       "2  YNTA. He made you uncomfortable and you distan...   1541030467  False   \n",
       "3  Manufacturing here. Me and spouse will be payi...   1541030470  False   \n",
       "4  I think you’re going to go out of your way to ...   1541030493  False   \n",
       "\n",
       "        id parent_id  score        subreddit  \n",
       "0  e8tkic1    9t3n27     14    AmItheAsshole  \n",
       "1  e8tkj26    9t1u2e      2           Advice  \n",
       "2  e8tkkjt    9t3xz3      3    AmItheAsshole  \n",
       "3  e8tkkns    9t2e8e      2  personalfinance  \n",
       "4  e8tklij    9t4afp      1           Advice  "
      ]
     },
     "metadata": {},
     "output_type": "display_data"
    }
   ],
   "source": [
    "print(comment_data.shape[0])\n",
    "display(comment_data.head())"
   ]
  },
  {
   "cell_type": "code",
   "execution_count": 14,
   "id": "phantom-nelson",
   "metadata": {},
   "outputs": [],
   "source": [
    "## combine with submissions!\n",
    "non_edit_submission_data = submission_data[submission_data.loc[:, 'edited'].apply(lambda x: type(x) is bool and not x)]\n",
    "submission_comment_data = pd.merge(\n",
    "    comment_data, non_edit_submission_data.loc[:, ['parent_id', 'parent_author', 'submission_text', 'submission_title', 'submission_time']],\n",
    "    on='parent_id'\n",
    ")"
   ]
  },
  {
   "cell_type": "code",
   "execution_count": 15,
   "id": "contemporary-progress",
   "metadata": {},
   "outputs": [
    {
     "name": "stdout",
     "output_type": "stream",
     "text": [
      "2820097\n"
     ]
    }
   ],
   "source": [
    "print(submission_comment_data.shape[0])"
   ]
  },
  {
   "cell_type": "code",
   "execution_count": 19,
   "id": "mounted-unemployment",
   "metadata": {
    "scrolled": true
   },
   "outputs": [
    {
     "name": "stderr",
     "output_type": "stream",
     "text": [
      "100%|██████████| 2820097/2820097 [17:33<00:00, 2677.35it/s] \n"
     ]
    }
   ],
   "source": [
    "## extract questions\n",
    "from importlib import reload\n",
    "import data_helpers\n",
    "reload(data_helpers)\n",
    "from data_helpers import extract_questions_all_data\n",
    "submission_comment_data = submission_comment_data.assign(**{\n",
    "    'comment_questions' : extract_questions_all_data(submission_comment_data.loc[:, 'body'].values)\n",
    "})"
   ]
  },
  {
   "cell_type": "code",
   "execution_count": 20,
   "id": "sixth-cardiff",
   "metadata": {},
   "outputs": [],
   "source": [
    "question_comment_data = submission_comment_data[submission_comment_data.loc[:, 'comment_questions'].apply(lambda x: len(x) > 0)]"
   ]
  },
  {
   "cell_type": "code",
   "execution_count": 24,
   "id": "electric-sister",
   "metadata": {},
   "outputs": [
    {
     "name": "stdout",
     "output_type": "stream",
     "text": [
      "AmItheAsshole      246744\n",
      "personalfinance    131389\n",
      "legaladvice         90519\n",
      "Advice              62733\n",
      "pcmasterrace        38391\n",
      "Name: subreddit, dtype: int64\n"
     ]
    }
   ],
   "source": [
    "## get distribution of subreddits\n",
    "print(question_comment_data.loc[:, 'subreddit'].value_counts())"
   ]
  },
  {
   "cell_type": "code",
   "execution_count": 22,
   "id": "aerial-nitrogen",
   "metadata": {},
   "outputs": [],
   "source": [
    "# check for question-only comments\n",
    "question_comment_data = question_comment_data.assign(**{\n",
    "    'comment_is_question' : question_comment_data.apply(lambda x: x.loc['body'] == x.loc['comment_questions'][0], axis=1)\n",
    "})"
   ]
  },
  {
   "cell_type": "code",
   "execution_count": 23,
   "id": "virtual-commodity",
   "metadata": {},
   "outputs": [
    {
     "name": "stdout",
     "output_type": "stream",
     "text": [
      "569776/2820097 comments with question\n",
      "37547/2820097 comments with question\n"
     ]
    }
   ],
   "source": [
    "print(f'{question_comment_data.shape[0]}/{submission_comment_data.shape[0]} comments with question')\n",
    "print(f'{question_comment_data[question_comment_data.loc[:, \"comment_is_question\"]].shape[0]}/{submission_comment_data.shape[0]} comments with question')"
   ]
  },
  {
   "cell_type": "markdown",
   "id": "pacific-belle",
   "metadata": {},
   "source": [
    "Overall we have about 25% questions and 1% self-contained questions, which isn't terrible. "
   ]
  },
  {
   "cell_type": "markdown",
   "id": "honest-terminal",
   "metadata": {},
   "source": [
    "### Compare demographic overlap"
   ]
  },
  {
   "cell_type": "code",
   "execution_count": 26,
   "id": "pediatric-carbon",
   "metadata": {},
   "outputs": [
    {
     "data": {
      "text/html": [
       "<div>\n",
       "<style scoped>\n",
       "    .dataframe tbody tr th:only-of-type {\n",
       "        vertical-align: middle;\n",
       "    }\n",
       "\n",
       "    .dataframe tbody tr th {\n",
       "        vertical-align: top;\n",
       "    }\n",
       "\n",
       "    .dataframe thead th {\n",
       "        text-align: right;\n",
       "    }\n",
       "</style>\n",
       "<table border=\"1\" class=\"dataframe\">\n",
       "  <thead>\n",
       "    <tr style=\"text-align: right;\">\n",
       "      <th></th>\n",
       "      <th>author</th>\n",
       "      <th>age</th>\n",
       "      <th>gender</th>\n",
       "      <th>religion</th>\n",
       "      <th>location</th>\n",
       "      <th>postcount</th>\n",
       "    </tr>\n",
       "  </thead>\n",
       "  <tbody>\n",
       "    <tr>\n",
       "      <th>0</th>\n",
       "      <td>xxxsagaxxx</td>\n",
       "      <td>UNK</td>\n",
       "      <td>UNK</td>\n",
       "      <td>UNK</td>\n",
       "      <td>usa</td>\n",
       "      <td>3191</td>\n",
       "    </tr>\n",
       "    <tr>\n",
       "      <th>1</th>\n",
       "      <td>subspacer</td>\n",
       "      <td>UNK</td>\n",
       "      <td>UNK</td>\n",
       "      <td>UNK</td>\n",
       "      <td>usa</td>\n",
       "      <td>744</td>\n",
       "    </tr>\n",
       "    <tr>\n",
       "      <th>2</th>\n",
       "      <td>silence_hr</td>\n",
       "      <td>UNK</td>\n",
       "      <td>female</td>\n",
       "      <td>UNK</td>\n",
       "      <td>europe</td>\n",
       "      <td>18007</td>\n",
       "    </tr>\n",
       "    <tr>\n",
       "      <th>3</th>\n",
       "      <td>Spacksack</td>\n",
       "      <td>UNK</td>\n",
       "      <td>male</td>\n",
       "      <td>UNK</td>\n",
       "      <td>europe</td>\n",
       "      <td>8934</td>\n",
       "    </tr>\n",
       "    <tr>\n",
       "      <th>4</th>\n",
       "      <td>uncleosbert</td>\n",
       "      <td>UNK</td>\n",
       "      <td>female</td>\n",
       "      <td>secular</td>\n",
       "      <td>usa</td>\n",
       "      <td>1005</td>\n",
       "    </tr>\n",
       "  </tbody>\n",
       "</table>\n",
       "</div>"
      ],
      "text/plain": [
       "        author  age  gender religion location  postcount\n",
       "0   xxxsagaxxx  UNK     UNK      UNK      usa       3191\n",
       "1    subspacer  UNK     UNK      UNK      usa        744\n",
       "2   silence_hr  UNK  female      UNK   europe      18007\n",
       "3    Spacksack  UNK    male      UNK   europe       8934\n",
       "4  uncleosbert  UNK  female  secular      usa       1005"
      ]
     },
     "metadata": {},
     "output_type": "display_data"
    }
   ],
   "source": [
    "## load demographic data\n",
    "author_demo_data = pd.read_csv('../../data/reddit_data/1dem_vars', sep='\\t', index_col=False, header=None)\n",
    "author_demo_data.columns = ['author', 'age', 'gender', 'religion', 'location', 'postcount']\n",
    "display(author_demo_data.head())"
   ]
  },
  {
   "cell_type": "code",
   "execution_count": 30,
   "id": "civic-confidentiality",
   "metadata": {},
   "outputs": [
    {
     "name": "stdout",
     "output_type": "stream",
     "text": [
      "8514/162817 authors with demo data\n"
     ]
    }
   ],
   "source": [
    "demo_question_data = pd.merge(author_demo_data, question_comment_data.loc[:, ['author', 'subreddit', 'id']], on='author')\n",
    "demo_question_author_data = demo_question_data.loc[:, ['author', 'gender', 'age', 'religion', 'location']].drop_duplicates('author')\n",
    "print(f'{demo_question_author_data.loc[:, \"author\"].nunique()}/{question_comment_data.loc[:, \"author\"].nunique()} authors with demo data')"
   ]
  },
  {
   "cell_type": "markdown",
   "id": "welsh-nudist",
   "metadata": {},
   "source": [
    "OK! We have about 5% coverage of authors with at least one demographic variable, which again could be worse."
   ]
  },
  {
   "cell_type": "markdown",
   "id": "handy-routine",
   "metadata": {},
   "source": [
    "What is the distribution of demographics for each category?"
   ]
  },
  {
   "cell_type": "code",
   "execution_count": 42,
   "id": "worst-kidney",
   "metadata": {
    "scrolled": true
   },
   "outputs": [],
   "source": [
    "## convert age to categories\n",
    "import numpy as np\n",
    "age_ranges = [20, 30, 40, 50, 60]\n",
    "age_range_labels = []\n",
    "for i in range(len(age_ranges)):\n",
    "    if(i < len(age_ranges)-1):\n",
    "        age_range_labels.append(f'{age_ranges[i]}-{age_ranges[i+1]}')\n",
    "    else:\n",
    "        age_range_labels.append(f'{age_ranges[i]}+')\n",
    "demo_question_author_data = demo_question_author_data.assign(**{\n",
    "    'age_bin' : demo_question_author_data.loc[:, 'age'].apply(lambda x: age_range_labels[np.digitize(x, age_ranges)-1] if x!='UNK' else x)\n",
    "})"
   ]
  },
  {
   "cell_type": "code",
   "execution_count": 123,
   "id": "apart-saying",
   "metadata": {
    "scrolled": true
   },
   "outputs": [
    {
     "name": "stdout",
     "output_type": "stream",
     "text": [
      "**** distribution for age_bin ****\n"
     ]
    },
    {
     "data": {
      "image/png": "[encoded data removed]",
      "text/plain": [
       "<Figure size 432x288 with 1 Axes>"
      ]
     },
     "metadata": {
      "needs_background": "light"
     },
     "output_type": "display_data"
    },
    {
     "name": "stdout",
     "output_type": "stream",
     "text": [
      "19.298% coverage for age_bin\n",
      "**** distribution for gender ****\n"
     ]
    },
    {
     "data": {
      "image/png": "[encoded data removed]",
      "text/plain": [
       "<Figure size 432x288 with 1 Axes>"
      ]
     },
     "metadata": {
      "needs_background": "light"
     },
     "output_type": "display_data"
    },
    {
     "name": "stdout",
     "output_type": "stream",
     "text": [
      "80.409% coverage for gender\n",
      "**** distribution for location ****\n"
     ]
    },
    {
     "data": {
      "image/png": "[encoded data removed]",
      "text/plain": [
       "<Figure size 432x288 with 1 Axes>"
      ]
     },
     "metadata": {
      "needs_background": "light"
     },
     "output_type": "display_data"
    },
    {
     "name": "stdout",
     "output_type": "stream",
     "text": [
      "7.000% coverage for location\n"
     ]
    }
   ],
   "source": [
    "import matplotlib\n",
    "%matplotlib inline\n",
    "import matplotlib.pyplot as plt\n",
    "demo_vars = ['age_bin', 'gender', 'location']\n",
    "max_val_count = 10\n",
    "for demo_var in demo_vars:\n",
    "    print(f'**** distribution for {demo_var} ****')\n",
    "#     print(demo_question_author_data.loc[:, demo_var].value_counts().head(10))\n",
    "    author_demo_val_counts = demo_question_author_data.loc[:, demo_var].value_counts().head(max_val_count)\n",
    "    Y = np.arange(len(author_demo_val_counts))\n",
    "    plt.barh(Y, width=author_demo_val_counts)\n",
    "    plt.yticks(Y, author_demo_val_counts.index)\n",
    "    plt.xscale('log')\n",
    "    plt.show()\n",
    "    coverage_pct = demo_question_author_data[demo_question_author_data.loc[:, demo_var]!=\"UNK\"].shape[0]/demo_question_author_data.shape[0]*100\n",
    "    print(f'{\"{:1.3f}\".format(coverage_pct)}% coverage for {demo_var}')"
   ]
  },
  {
   "cell_type": "markdown",
   "id": "varied-prince",
   "metadata": {},
   "source": [
    "We have good coverage for gender, decent coverage for age and poor coverage for location."
   ]
  },
  {
   "cell_type": "markdown",
   "id": "suffering-dimension",
   "metadata": {},
   "source": [
    "### Check response time\n",
    "Another way to divide readers is based on response time: readers who respond to the post immediately and readers who take more time to respond.\n",
    "\n",
    "Let's look at the distribution of time responses to see if there's a reasonable split point."
   ]
  },
  {
   "cell_type": "code",
   "execution_count": 65,
   "id": "aging-kinase",
   "metadata": {},
   "outputs": [
    {
     "data": {
      "image/png": "[encoded data removed]",
      "text/plain": [
       "<Figure size 432x288 with 1 Axes>"
      ]
     },
     "metadata": {
      "needs_background": "light"
     },
     "output_type": "display_data"
    }
   ],
   "source": [
    "question_comment_data = question_comment_data.assign(**{\n",
    "    'comment_submission_delay' : question_comment_data.loc[:, 'created_utc'] - question_comment_data.loc[:, 'submission_time']\n",
    "})\n",
    "import matplotlib\n",
    "%matplotlib inline\n",
    "import matplotlib.pyplot as plt\n",
    "import seaborn as sns\n",
    "# sns.kdeplot(question_comment_data.loc[:, 'comment_submission_delay'])\n",
    "plt.hist(np.log(question_comment_data.loc[:, 'comment_submission_delay'].values), bins=20)\n",
    "plt.xlabel('Comment-submission delay (log-seconds)')\n",
    "# plt.yscale('log')\n",
    "plt.show()"
   ]
  },
  {
   "cell_type": "markdown",
   "id": "female-dance",
   "metadata": {},
   "source": [
    "Most people respond to the original post within $e^{2}$ and $e^{8}$ seconds (7 sec - 1 hour), but there is a long tail of authors who only respond to the original post up to $e^{12}$ seconds afterward (45 hours)."
   ]
  },
  {
   "cell_type": "markdown",
   "id": "third-disorder",
   "metadata": {},
   "source": [
    "We can split this data roughly down the middle to get the \"quick responders\" and the \"slow responders\", which we assume will be more thoughtful and well-researched due to their longer wait time."
   ]
  },
  {
   "cell_type": "markdown",
   "id": "romantic-capability",
   "metadata": {},
   "source": [
    "### Check subreddit use\n",
    "Among the comment authors, do we see differentiation based on prior subreddit use? I.e. people who show consistent interest in the comment subreddit vs. people with a passing interest."
   ]
  },
  {
   "cell_type": "markdown",
   "id": "comparable-character",
   "metadata": {},
   "source": [
    "Strategy: sample N commenters from each subreddit S, collect the previous M comments from each commenter (before the date of comment), compute % of comments in S, plot distribution.\n",
    "\n",
    "We expect a bimodal distribution, i.e. authors tend to comment exclusively in the subreddit or rarely."
   ]
  },
  {
   "cell_type": "code",
   "execution_count": 69,
   "id": "otherwise-belle",
   "metadata": {},
   "outputs": [
    {
     "data": {
      "text/plain": [
       "Index(['client_id', 'client_secret'], dtype='object')"
      ]
     },
     "execution_count": 69,
     "metadata": {},
     "output_type": "execute_result"
    }
   ],
   "source": [
    "reddit_auth.index"
   ]
  },
  {
   "cell_type": "code",
   "execution_count": 71,
   "id": "unsigned-worship",
   "metadata": {},
   "outputs": [],
   "source": [
    "from praw import Reddit\n",
    "reddit_auth_file = '../../data/auth_data/reddit_auth.csv'\n",
    "reddit_auth = pd.read_csv(reddit_auth_file, sep=',', index_col=False).iloc[0, :]\n",
    "client_id = reddit_auth.loc['client_id']\n",
    "client_secret = reddit_auth.loc['client_secret']\n",
    "user_agent = 'user_agent_123'\n",
    "reddit_api = Reddit(\n",
    "    client_id=client_id,\n",
    "    client_secret=client_secret,\n",
    "    user_agent=user_agent,\n",
    "    check_for_async=False,\n",
    ")\n",
    "from psaw import PushshiftAPI\n",
    "from datetime import datetime\n",
    "pushshift_reddit_api = PushshiftAPI(reddit_api)"
   ]
  },
  {
   "cell_type": "code",
   "execution_count": 83,
   "id": "english-commander",
   "metadata": {},
   "outputs": [],
   "source": [
    "test_author = 'AutoModerator'\n",
    "before_time = int(datetime(day=8, month=1, year=2019).timestamp())\n",
    "after_time = int(datetime(day=1, month=1, year=2019).timestamp())\n",
    "test_comments = pushshift_reddit_api.search_comments(\n",
    "    before=before_time,\n",
    "    after=after_time,\n",
    "    author=test_author,\n",
    "    limit=1000,\n",
    ")\n",
    "test_comments = list(test_comments)"
   ]
  },
  {
   "cell_type": "code",
   "execution_count": 85,
   "id": "legendary-devon",
   "metadata": {},
   "outputs": [
    {
     "name": "stdout",
     "output_type": "stream",
     "text": [
      "Random_Acts_Of_Pizza\n",
      "971\n"
     ]
    }
   ],
   "source": [
    "print(test_comments[0].subreddit)\n",
    "print(len(test_comments))"
   ]
  },
  {
   "cell_type": "code",
   "execution_count": 84,
   "id": "secure-ottawa",
   "metadata": {},
   "outputs": [],
   "source": [
    "## sample authors\n",
    "np.random.seed(123)\n",
    "author_sample_size = 100\n",
    "sample_author_data = []\n",
    "for subreddit_i, data_i in question_comment_data.groupby('subreddit'):\n",
    "    author_min_comment_dates_i = data_i.groupby('author').apply(lambda x: x.loc[:, 'created_utc'].min()).reset_index(name='min_comment_date').rename(columns={'index' : 'author'})\n",
    "    sample_authors_i = np.random.choice(data_i.loc[:, 'author'].unique(), author_sample_size, replace=False)\n",
    "    sample_author_data_i = author_min_comment_dates_i[author_min_comment_dates_i.loc[:, 'author'].isin(sample_authors_i)]\n",
    "    sample_author_data_i = sample_author_data_i.assign(**{'subreddit' : subreddit_i})\n",
    "    sample_author_data.append(sample_author_data_i)\n",
    "sample_author_data = pd.concat(sample_author_data, axis=0)"
   ]
  },
  {
   "cell_type": "code",
   "execution_count": 87,
   "id": "contemporary-melissa",
   "metadata": {},
   "outputs": [
    {
     "name": "stderr",
     "output_type": "stream",
     "text": [
      "15it [01:01,  2.59s/it]/home/ianbstew/miniconda3/envs/py3/lib/python3.8/site-packages/psaw/PushshiftAPI.py:192: UserWarning: Got non 200 code 429\n",
      "  warnings.warn(\"Got non 200 code %s\" % response.status_code)\n",
      "/home/ianbstew/miniconda3/envs/py3/lib/python3.8/site-packages/psaw/PushshiftAPI.py:180: UserWarning: Unable to connect to pushshift.io. Retrying after backoff.\n",
      "  warnings.warn(\"Unable to connect to pushshift.io. Retrying after backoff.\")\n",
      "479it [50:36,  7.53s/it]/home/ianbstew/miniconda3/envs/py3/lib/python3.8/site-packages/psaw/PushshiftAPI.py:192: UserWarning: Got non 200 code 502\n",
      "  warnings.warn(\"Got non 200 code %s\" % response.status_code)\n",
      "500it [52:55,  6.35s/it]\n"
     ]
    }
   ],
   "source": [
    "from tqdm import tqdm\n",
    "sample_author_comment_data = []\n",
    "sample_author_comment_limit = 1000\n",
    "for idx_i, data_i in tqdm(sample_author_data.iterrows()):\n",
    "    before_time_i = data_i.loc['min_comment_date']\n",
    "    author_i = data_i.loc['author']\n",
    "    prior_comments_i = pushshift_reddit_api.search_comments(\n",
    "        before=before_time_i,\n",
    "        author=author_i,\n",
    "        limit=sample_author_comment_limit,\n",
    "    )\n",
    "    sample_author_comment_data.extend(list(prior_comments_i))"
   ]
  },
  {
   "cell_type": "code",
   "execution_count": 100,
   "id": "negative-program",
   "metadata": {},
   "outputs": [
    {
     "name": "stdout",
     "output_type": "stream",
     "text": [
      "['_fetched', '_reddit', '_replies', '_submission', 'all_awardings', 'approved_at_utc', 'approved_by', 'archived', 'associated_award', 'author', 'author_flair_background_color', 'author_flair_css_class', 'author_flair_richtext', 'author_flair_template_id', 'author_flair_text', 'author_flair_text_color', 'author_flair_type', 'author_fullname', 'author_patreon_flair', 'author_premium', 'awarders', 'banned_at_utc', 'banned_by', 'body', 'body_html', 'can_gild', 'can_mod_post', 'collapsed', 'collapsed_because_crowd_control', 'collapsed_reason', 'comment_type', 'controversiality', 'created', 'created_utc', 'distinguished', 'downs', 'edited', 'gilded', 'gildings', 'id', 'is_submitter', 'likes', 'link_id', 'locked', 'mod_note', 'mod_reason_by', 'mod_reason_title', 'mod_reports', 'name', 'no_follow', 'num_reports', 'parent_id', 'permalink', 'removal_reason', 'report_reasons', 'saved', 'score', 'score_hidden', 'send_replies', 'stickied', 'subreddit', 'subreddit_id', 'subreddit_name', 'subreddit_name_prefixed', 'subreddit_type', 'top_awarded_type', 'total_awards_received', 'treatment_tags', 'ups', 'user_reports']\n"
     ]
    }
   ],
   "source": [
    "print(list(sorted(sample_author_comment_data.columns)))"
   ]
  },
  {
   "cell_type": "code",
   "execution_count": 105,
   "id": "aggregate-major",
   "metadata": {
    "scrolled": true
   },
   "outputs": [
    {
     "data": {
      "text/html": [
       "<div>\n",
       "<style scoped>\n",
       "    .dataframe tbody tr th:only-of-type {\n",
       "        vertical-align: middle;\n",
       "    }\n",
       "\n",
       "    .dataframe tbody tr th {\n",
       "        vertical-align: top;\n",
       "    }\n",
       "\n",
       "    .dataframe thead th {\n",
       "        text-align: right;\n",
       "    }\n",
       "</style>\n",
       "<table border=\"1\" class=\"dataframe\">\n",
       "  <thead>\n",
       "    <tr style=\"text-align: right;\">\n",
       "      <th></th>\n",
       "      <th>_replies</th>\n",
       "      <th>_submission</th>\n",
       "      <th>_reddit</th>\n",
       "      <th>total_awards_received</th>\n",
       "      <th>approved_at_utc</th>\n",
       "      <th>comment_type</th>\n",
       "      <th>edited</th>\n",
       "      <th>mod_reason_by</th>\n",
       "      <th>banned_by</th>\n",
       "      <th>author_flair_type</th>\n",
       "      <th>...</th>\n",
       "      <th>subreddit_name_prefixed</th>\n",
       "      <th>controversiality</th>\n",
       "      <th>author_flair_background_color</th>\n",
       "      <th>collapsed_because_crowd_control</th>\n",
       "      <th>mod_reports</th>\n",
       "      <th>subreddit_type</th>\n",
       "      <th>ups</th>\n",
       "      <th>_fetched</th>\n",
       "      <th>subreddit_name</th>\n",
       "      <th>author_name</th>\n",
       "    </tr>\n",
       "  </thead>\n",
       "  <tbody>\n",
       "    <tr>\n",
       "      <th>0</th>\n",
       "      <td>[]</td>\n",
       "      <td>None</td>\n",
       "      <td>&lt;praw.reddit.Reddit object at 0x7f5a4858dfa0&gt;</td>\n",
       "      <td>0</td>\n",
       "      <td>None</td>\n",
       "      <td>None</td>\n",
       "      <td>False</td>\n",
       "      <td>None</td>\n",
       "      <td>None</td>\n",
       "      <td>text</td>\n",
       "      <td>...</td>\n",
       "      <td>r/food</td>\n",
       "      <td>0</td>\n",
       "      <td>None</td>\n",
       "      <td>None</td>\n",
       "      <td>[]</td>\n",
       "      <td>public</td>\n",
       "      <td>2</td>\n",
       "      <td>True</td>\n",
       "      <td>food</td>\n",
       "      <td>1983alex</td>\n",
       "    </tr>\n",
       "    <tr>\n",
       "      <th>1</th>\n",
       "      <td>[]</td>\n",
       "      <td>None</td>\n",
       "      <td>&lt;praw.reddit.Reddit object at 0x7f5a4858dfa0&gt;</td>\n",
       "      <td>0</td>\n",
       "      <td>None</td>\n",
       "      <td>None</td>\n",
       "      <td>False</td>\n",
       "      <td>None</td>\n",
       "      <td>None</td>\n",
       "      <td>text</td>\n",
       "      <td>...</td>\n",
       "      <td>r/food</td>\n",
       "      <td>0</td>\n",
       "      <td>None</td>\n",
       "      <td>None</td>\n",
       "      <td>[]</td>\n",
       "      <td>public</td>\n",
       "      <td>6</td>\n",
       "      <td>True</td>\n",
       "      <td>food</td>\n",
       "      <td>1983alex</td>\n",
       "    </tr>\n",
       "    <tr>\n",
       "      <th>2</th>\n",
       "      <td>[]</td>\n",
       "      <td>None</td>\n",
       "      <td>&lt;praw.reddit.Reddit object at 0x7f5a4858dfa0&gt;</td>\n",
       "      <td>0</td>\n",
       "      <td>None</td>\n",
       "      <td>None</td>\n",
       "      <td>False</td>\n",
       "      <td>None</td>\n",
       "      <td>None</td>\n",
       "      <td>text</td>\n",
       "      <td>...</td>\n",
       "      <td>r/OldPhotosInRealLife</td>\n",
       "      <td>0</td>\n",
       "      <td>None</td>\n",
       "      <td>None</td>\n",
       "      <td>[]</td>\n",
       "      <td>public</td>\n",
       "      <td>3</td>\n",
       "      <td>True</td>\n",
       "      <td>OldPhotosInRealLife</td>\n",
       "      <td>1983alex</td>\n",
       "    </tr>\n",
       "    <tr>\n",
       "      <th>3</th>\n",
       "      <td>[]</td>\n",
       "      <td>None</td>\n",
       "      <td>&lt;praw.reddit.Reddit object at 0x7f5a4858dfa0&gt;</td>\n",
       "      <td>0</td>\n",
       "      <td>None</td>\n",
       "      <td>None</td>\n",
       "      <td>False</td>\n",
       "      <td>None</td>\n",
       "      <td>None</td>\n",
       "      <td>text</td>\n",
       "      <td>...</td>\n",
       "      <td>r/Cleveland</td>\n",
       "      <td>0</td>\n",
       "      <td>None</td>\n",
       "      <td>None</td>\n",
       "      <td>[]</td>\n",
       "      <td>public</td>\n",
       "      <td>1</td>\n",
       "      <td>True</td>\n",
       "      <td>Cleveland</td>\n",
       "      <td>1983alex</td>\n",
       "    </tr>\n",
       "    <tr>\n",
       "      <th>4</th>\n",
       "      <td>[]</td>\n",
       "      <td>None</td>\n",
       "      <td>&lt;praw.reddit.Reddit object at 0x7f5a4858dfa0&gt;</td>\n",
       "      <td>0</td>\n",
       "      <td>None</td>\n",
       "      <td>None</td>\n",
       "      <td>False</td>\n",
       "      <td>None</td>\n",
       "      <td>None</td>\n",
       "      <td>text</td>\n",
       "      <td>...</td>\n",
       "      <td>r/OldSchoolCool</td>\n",
       "      <td>0</td>\n",
       "      <td>None</td>\n",
       "      <td>None</td>\n",
       "      <td>[]</td>\n",
       "      <td>public</td>\n",
       "      <td>1</td>\n",
       "      <td>True</td>\n",
       "      <td>OldSchoolCool</td>\n",
       "      <td>1983alex</td>\n",
       "    </tr>\n",
       "  </tbody>\n",
       "</table>\n",
       "<p>5 rows × 71 columns</p>\n",
       "</div>"
      ],
      "text/plain": [
       "  _replies _submission                                        _reddit  \\\n",
       "0       []        None  <praw.reddit.Reddit object at 0x7f5a4858dfa0>   \n",
       "1       []        None  <praw.reddit.Reddit object at 0x7f5a4858dfa0>   \n",
       "2       []        None  <praw.reddit.Reddit object at 0x7f5a4858dfa0>   \n",
       "3       []        None  <praw.reddit.Reddit object at 0x7f5a4858dfa0>   \n",
       "4       []        None  <praw.reddit.Reddit object at 0x7f5a4858dfa0>   \n",
       "\n",
       "   total_awards_received approved_at_utc comment_type edited mod_reason_by  \\\n",
       "0                      0            None         None  False          None   \n",
       "1                      0            None         None  False          None   \n",
       "2                      0            None         None  False          None   \n",
       "3                      0            None         None  False          None   \n",
       "4                      0            None         None  False          None   \n",
       "\n",
       "  banned_by author_flair_type  ... subreddit_name_prefixed controversiality  \\\n",
       "0      None              text  ...                  r/food                0   \n",
       "1      None              text  ...                  r/food                0   \n",
       "2      None              text  ...   r/OldPhotosInRealLife                0   \n",
       "3      None              text  ...             r/Cleveland                0   \n",
       "4      None              text  ...         r/OldSchoolCool                0   \n",
       "\n",
       "  author_flair_background_color collapsed_because_crowd_control mod_reports  \\\n",
       "0                          None                            None          []   \n",
       "1                          None                            None          []   \n",
       "2                          None                            None          []   \n",
       "3                          None                            None          []   \n",
       "4                          None                            None          []   \n",
       "\n",
       "   subreddit_type ups _fetched       subreddit_name  author_name  \n",
       "0          public   2     True                 food     1983alex  \n",
       "1          public   6     True                 food     1983alex  \n",
       "2          public   3     True  OldPhotosInRealLife     1983alex  \n",
       "3          public   1     True            Cleveland     1983alex  \n",
       "4          public   1     True        OldSchoolCool     1983alex  \n",
       "\n",
       "[5 rows x 71 columns]"
      ]
     },
     "metadata": {},
     "output_type": "display_data"
    }
   ],
   "source": [
    "# sample_author_comment_data = pd.DataFrame(list(map(lambda x: x.__dict__, sample_author_comment_data)))\n",
    "sample_author_comment_data = sample_author_comment_data.assign(**{\n",
    "    'subreddit_name' : sample_author_comment_data.loc[:, 'subreddit'].apply(lambda x: x.display_name),\n",
    "    'author_name' : sample_author_comment_data.loc[:, 'author'].apply(lambda x: x.name if x is not None else '')\n",
    "})\n",
    "display(sample_author_comment_data.head())"
   ]
  },
  {
   "cell_type": "code",
   "execution_count": 124,
   "id": "durable-snowboard",
   "metadata": {},
   "outputs": [],
   "source": [
    "## save to file!!\n",
    "sample_author_comment_data.to_csv('../../data/reddit_data/advice_subreddit_sample_author_prior_comment_data.gz', compression='gzip', sep='\\t', index=False)"
   ]
  },
  {
   "cell_type": "code",
   "execution_count": 108,
   "id": "mathematical-duncan",
   "metadata": {},
   "outputs": [
    {
     "data": {
      "text/html": [
       "<div>\n",
       "<style scoped>\n",
       "    .dataframe tbody tr th:only-of-type {\n",
       "        vertical-align: middle;\n",
       "    }\n",
       "\n",
       "    .dataframe tbody tr th {\n",
       "        vertical-align: top;\n",
       "    }\n",
       "\n",
       "    .dataframe thead th {\n",
       "        text-align: right;\n",
       "    }\n",
       "</style>\n",
       "<table border=\"1\" class=\"dataframe\">\n",
       "  <thead>\n",
       "    <tr style=\"text-align: right;\">\n",
       "      <th></th>\n",
       "      <th>author</th>\n",
       "      <th>subreddit</th>\n",
       "      <th>count</th>\n",
       "    </tr>\n",
       "  </thead>\n",
       "  <tbody>\n",
       "    <tr>\n",
       "      <th>0</th>\n",
       "      <td>-mmae</td>\n",
       "      <td>AusFinance</td>\n",
       "      <td>0.229167</td>\n",
       "    </tr>\n",
       "    <tr>\n",
       "      <th>1</th>\n",
       "      <td>-mmae</td>\n",
       "      <td>ethereumnoobies</td>\n",
       "      <td>0.187500</td>\n",
       "    </tr>\n",
       "    <tr>\n",
       "      <th>2</th>\n",
       "      <td>-mmae</td>\n",
       "      <td>LetsNotMeet</td>\n",
       "      <td>0.125000</td>\n",
       "    </tr>\n",
       "    <tr>\n",
       "      <th>3</th>\n",
       "      <td>-mmae</td>\n",
       "      <td>relationships</td>\n",
       "      <td>0.083333</td>\n",
       "    </tr>\n",
       "    <tr>\n",
       "      <th>4</th>\n",
       "      <td>-mmae</td>\n",
       "      <td>food</td>\n",
       "      <td>0.083333</td>\n",
       "    </tr>\n",
       "  </tbody>\n",
       "</table>\n",
       "</div>"
      ],
      "text/plain": [
       "  author        subreddit     count\n",
       "0  -mmae       AusFinance  0.229167\n",
       "1  -mmae  ethereumnoobies  0.187500\n",
       "2  -mmae      LetsNotMeet  0.125000\n",
       "3  -mmae    relationships  0.083333\n",
       "4  -mmae             food  0.083333"
      ]
     },
     "metadata": {},
     "output_type": "display_data"
    }
   ],
   "source": [
    "## get subreddit posting percents per author\n",
    "sample_author_subreddit_comment_counts = sample_author_comment_data[sample_author_comment_data.loc[:, 'author_name']!=''].groupby('author_name').apply(lambda x: x.loc[:, 'subreddit_name'].value_counts() / x.shape[0]).reset_index(name='count').rename(columns={'level_1' : 'subreddit', 'author_name' : 'author'})\n",
    "display(sample_author_subreddit_comment_counts.head())"
   ]
  },
  {
   "cell_type": "code",
   "execution_count": 109,
   "id": "greenhouse-space",
   "metadata": {},
   "outputs": [
    {
     "data": {
      "text/html": [
       "<div>\n",
       "<style scoped>\n",
       "    .dataframe tbody tr th:only-of-type {\n",
       "        vertical-align: middle;\n",
       "    }\n",
       "\n",
       "    .dataframe tbody tr th {\n",
       "        vertical-align: top;\n",
       "    }\n",
       "\n",
       "    .dataframe thead th {\n",
       "        text-align: right;\n",
       "    }\n",
       "</style>\n",
       "<table border=\"1\" class=\"dataframe\">\n",
       "  <thead>\n",
       "    <tr style=\"text-align: right;\">\n",
       "      <th></th>\n",
       "      <th>author</th>\n",
       "      <th>subreddit</th>\n",
       "      <th>count</th>\n",
       "      <th>original_subreddit</th>\n",
       "    </tr>\n",
       "  </thead>\n",
       "  <tbody>\n",
       "    <tr>\n",
       "      <th>0</th>\n",
       "      <td>-mmae</td>\n",
       "      <td>AusFinance</td>\n",
       "      <td>0.229167</td>\n",
       "      <td>legaladvice</td>\n",
       "    </tr>\n",
       "    <tr>\n",
       "      <th>1</th>\n",
       "      <td>-mmae</td>\n",
       "      <td>ethereumnoobies</td>\n",
       "      <td>0.187500</td>\n",
       "      <td>legaladvice</td>\n",
       "    </tr>\n",
       "    <tr>\n",
       "      <th>2</th>\n",
       "      <td>-mmae</td>\n",
       "      <td>LetsNotMeet</td>\n",
       "      <td>0.125000</td>\n",
       "      <td>legaladvice</td>\n",
       "    </tr>\n",
       "    <tr>\n",
       "      <th>3</th>\n",
       "      <td>-mmae</td>\n",
       "      <td>relationships</td>\n",
       "      <td>0.083333</td>\n",
       "      <td>legaladvice</td>\n",
       "    </tr>\n",
       "    <tr>\n",
       "      <th>4</th>\n",
       "      <td>-mmae</td>\n",
       "      <td>food</td>\n",
       "      <td>0.083333</td>\n",
       "      <td>legaladvice</td>\n",
       "    </tr>\n",
       "  </tbody>\n",
       "</table>\n",
       "</div>"
      ],
      "text/plain": [
       "  author        subreddit     count original_subreddit\n",
       "0  -mmae       AusFinance  0.229167        legaladvice\n",
       "1  -mmae  ethereumnoobies  0.187500        legaladvice\n",
       "2  -mmae      LetsNotMeet  0.125000        legaladvice\n",
       "3  -mmae    relationships  0.083333        legaladvice\n",
       "4  -mmae             food  0.083333        legaladvice"
      ]
     },
     "metadata": {},
     "output_type": "display_data"
    }
   ],
   "source": [
    "## add original posting subreddit\n",
    "sample_author_subreddit_comment_counts = pd.merge(\n",
    "    sample_author_subreddit_comment_counts, sample_author_data.loc[:, ['author', 'subreddit']].rename(columns={'subreddit':'original_subreddit'}),\n",
    "    on='author'   \n",
    ")\n",
    "display(sample_author_subreddit_comment_counts.head())"
   ]
  },
  {
   "cell_type": "code",
   "execution_count": 110,
   "id": "painful-match",
   "metadata": {},
   "outputs": [],
   "source": [
    "def compute_original_subreddit_post_pct(data):\n",
    "    original_subreddit = data.iloc[0].loc['original_subreddit']\n",
    "    original_subreddit_data = data[data.loc[:, 'subreddit']==original_subreddit]\n",
    "    if(original_subreddit_data.shape[0] == 0):\n",
    "        post_pct = 0.\n",
    "    else:\n",
    "        post_pct = original_subreddit_data.iloc[0].loc['count']\n",
    "    return post_pct\n",
    "sample_author_original_subreddit_post_pct = sample_author_subreddit_comment_counts.groupby('author').apply(compute_original_subreddit_post_pct)"
   ]
  },
  {
   "cell_type": "code",
   "execution_count": 114,
   "id": "demographic-absorption",
   "metadata": {
    "scrolled": true
   },
   "outputs": [
    {
     "data": {
      "image/png": "[encoded data removed]",
      "text/plain": [
       "<Figure size 432x288 with 1 Axes>"
      ]
     },
     "metadata": {
      "needs_background": "light"
     },
     "output_type": "display_data"
    }
   ],
   "source": [
    "import matplotlib\n",
    "%matplotlib inline\n",
    "import matplotlib.pyplot as plt\n",
    "plt.hist(sample_author_original_subreddit_post_pct)\n",
    "plt.xlabel('% comments in original subreddit')\n",
    "plt.yscale('log')\n",
    "plt.title('Comment history for sample authors')\n",
    "plt.show()"
   ]
  },
  {
   "cell_type": "markdown",
   "id": "negative-center",
   "metadata": {},
   "source": [
    "OK! Just as I suspected, we see that most authors have previously only posted a few times in the original subreddit, but a large number also posted consistently in the original subreddit.\n",
    "\n",
    "This gives us our split between \"experts\" (100%) and \"novices\" (0-100%). We will be able to expand the \"expert\" group by using the subreddit cross-posting network and identifying similar subreddits to the original one."
   ]
  },
  {
   "cell_type": "code",
   "execution_count": null,
   "id": "vietnamese-caribbean",
   "metadata": {},
   "outputs": [],
   "source": []
  }
 ],
 "metadata": {
  "kernelspec": {
   "display_name": "Python [conda env:py3] *",
   "language": "python",
   "name": "conda-env-py3-py"
  },
  "language_info": {
   "codemirror_mode": {
    "name": "ipython",
    "version": 3
   },
   "file_extension": ".py",
   "mimetype": "text/x-python",
   "name": "python",
   "nbconvert_exporter": "python",
   "pygments_lexer": "ipython3",
   "version": "3.8.5"
  }
 },
 "nbformat": 4,
 "nbformat_minor": 5
}
