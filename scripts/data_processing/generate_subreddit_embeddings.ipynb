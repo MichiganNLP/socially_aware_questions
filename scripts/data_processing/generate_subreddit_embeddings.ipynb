{
 "cells": [
  {
   "cell_type": "markdown",
   "id": "attractive-collar",
   "metadata": {},
   "source": [
    "# Generate subreddit embeddings\n",
    "We want some sort of flexible representation for the authors in our data.\n",
    "\n",
    "Let's try to get an aggregate representation for each author based on the list of subreddits that they previously visited.\n",
    "Similar to word embeddings, we'll convert these to subreddit embeddings based on coocurrence patterns: \n",
    "- matrix factorization\n",
    "- word2vec"
   ]
  },
  {
   "cell_type": "code",
   "execution_count": 5,
   "id": "military-painting",
   "metadata": {
    "scrolled": true
   },
   "outputs": [
    {
     "name": "stdout",
     "output_type": "stream",
     "text": [
      "bad file ../../data/reddit_data/author_data/OJnToothpaste_comments.gz\n",
      "bad file ../../data/reddit_data/author_data/Quovef_comments.gz\n",
      "2636934\n"
     ]
    }
   ],
   "source": [
    "## load data\n",
    "import os\n",
    "import pandas as pd\n",
    "author_dir = '../../data/reddit_data/author_data/'\n",
    "author_data_files = list(map(lambda x: os.path.join(author_dir, x), os.listdir(author_dir)))\n",
    "author_data = []\n",
    "for author_data_file_i in author_data_files:\n",
    "    try:\n",
    "        data_i = pd.read_csv(author_data_file_i, sep='\\t', compression='gzip', index_col=False)\n",
    "        author_data.append(data_i)\n",
    "    except Exception as e:\n",
    "        print(f'bad file {author_data_file_i}')\n",
    "#         break\n",
    "author_data = pd.concat(author_data, axis=0)\n",
    "print(author_data.shape[0])"
   ]
  },
  {
   "cell_type": "code",
   "execution_count": 76,
   "id": "silver-pound",
   "metadata": {},
   "outputs": [
    {
     "data": {
      "text/html": [
       "<div>\n",
       "<style scoped>\n",
       "    .dataframe tbody tr th:only-of-type {\n",
       "        vertical-align: middle;\n",
       "    }\n",
       "\n",
       "    .dataframe tbody tr th {\n",
       "        vertical-align: top;\n",
       "    }\n",
       "\n",
       "    .dataframe thead th {\n",
       "        text-align: right;\n",
       "    }\n",
       "</style>\n",
       "<table border=\"1\" class=\"dataframe\">\n",
       "  <thead>\n",
       "    <tr style=\"text-align: right;\">\n",
       "      <th></th>\n",
       "      <th>author</th>\n",
       "      <th>subreddit</th>\n",
       "      <th>body</th>\n",
       "      <th>created_utc</th>\n",
       "      <th>edited</th>\n",
       "      <th>id</th>\n",
       "      <th>author_flair_text</th>\n",
       "    </tr>\n",
       "  </thead>\n",
       "  <tbody>\n",
       "    <tr>\n",
       "      <th>0</th>\n",
       "      <td>m4xk0</td>\n",
       "      <td>VALORANT</td>\n",
       "      <td>I think you totally nailed Cypher and Phoenix</td>\n",
       "      <td>1599987688.0</td>\n",
       "      <td>False</td>\n",
       "      <td>g52pbt7</td>\n",
       "      <td>NaN</td>\n",
       "    </tr>\n",
       "    <tr>\n",
       "      <th>1</th>\n",
       "      <td>m4xk0</td>\n",
       "      <td>VALORANT</td>\n",
       "      <td>For me this actually doesn't work anymore sinc...</td>\n",
       "      <td>1598598880.0</td>\n",
       "      <td>False</td>\n",
       "      <td>g3422w0</td>\n",
       "      <td>NaN</td>\n",
       "    </tr>\n",
       "    <tr>\n",
       "      <th>2</th>\n",
       "      <td>m4xk0</td>\n",
       "      <td>espresso</td>\n",
       "      <td>I dont think stainless vs aluminium would real...</td>\n",
       "      <td>1593333987.0</td>\n",
       "      <td>False</td>\n",
       "      <td>fw90dkn</td>\n",
       "      <td>NaN</td>\n",
       "    </tr>\n",
       "    <tr>\n",
       "      <th>3</th>\n",
       "      <td>m4xk0</td>\n",
       "      <td>espresso</td>\n",
       "      <td>Got my shipping confirmation today!</td>\n",
       "      <td>1591876767.0</td>\n",
       "      <td>False</td>\n",
       "      <td>ftor04u</td>\n",
       "      <td>NaN</td>\n",
       "    </tr>\n",
       "    <tr>\n",
       "      <th>4</th>\n",
       "      <td>m4xk0</td>\n",
       "      <td>espresso</td>\n",
       "      <td>Thank you</td>\n",
       "      <td>1591194952.0</td>\n",
       "      <td>False</td>\n",
       "      <td>fsr16fe</td>\n",
       "      <td>NaN</td>\n",
       "    </tr>\n",
       "  </tbody>\n",
       "</table>\n",
       "</div>"
      ],
      "text/plain": [
       "  author subreddit                                               body  \\\n",
       "0  m4xk0  VALORANT      I think you totally nailed Cypher and Phoenix   \n",
       "1  m4xk0  VALORANT  For me this actually doesn't work anymore sinc...   \n",
       "2  m4xk0  espresso  I dont think stainless vs aluminium would real...   \n",
       "3  m4xk0  espresso                Got my shipping confirmation today!   \n",
       "4  m4xk0  espresso                                          Thank you   \n",
       "\n",
       "    created_utc edited       id author_flair_text  \n",
       "0  1599987688.0  False  g52pbt7               NaN  \n",
       "1  1598598880.0  False  g3422w0               NaN  \n",
       "2  1593333987.0  False  fw90dkn               NaN  \n",
       "3  1591876767.0  False  ftor04u               NaN  \n",
       "4  1591194952.0  False  fsr16fe               NaN  "
      ]
     },
     "metadata": {},
     "output_type": "display_data"
    }
   ],
   "source": [
    "display(author_data.head())"
   ]
  },
  {
   "cell_type": "code",
   "execution_count": 15,
   "id": "meaningful-curve",
   "metadata": {},
   "outputs": [],
   "source": [
    "## remove bad data\n",
    "import numpy as np\n",
    "author_data = author_data[(author_data.loc[:, 'author'].apply(lambda x: type(x) is str)) & \n",
    "                          (author_data.loc[:, 'subreddit'].apply(lambda x: type(x) is str))]"
   ]
  },
  {
   "cell_type": "markdown",
   "id": "backed-canberra",
   "metadata": {},
   "source": [
    "How many unique authors per subreddit?"
   ]
  },
  {
   "cell_type": "code",
   "execution_count": 16,
   "id": "acknowledged-retro",
   "metadata": {
    "scrolled": true
   },
   "outputs": [
    {
     "data": {
      "image/png": "[encoded data removed]",
      "text/plain": [
       "<Figure size 432x288 with 1 Axes>"
      ]
     },
     "metadata": {
      "needs_background": "light"
     },
     "output_type": "display_data"
    }
   ],
   "source": [
    "import matplotlib\n",
    "%matplotlib inline\n",
    "import matplotlib.pyplot as plt\n",
    "author_unique_subreddit_counts = author_data.groupby('subreddit').apply(lambda x: np.log(x.loc[:, 'author'].nunique()))\n",
    "plt.hist(author_unique_subreddit_counts, bins=20)\n",
    "plt.show()"
   ]
  },
  {
   "cell_type": "markdown",
   "id": "robust-birth",
   "metadata": {},
   "source": [
    "Most subreddits have only 1 unique user, but we still have a decent sample size (>5K) for subreddits with >= 5 authors."
   ]
  },
  {
   "cell_type": "markdown",
   "id": "mediterranean-kentucky",
   "metadata": {},
   "source": [
    "### Matrix factorization\n",
    "First approach: compute matrix of author-subreddit posting, convert to probabilities, then compress using SVD."
   ]
  },
  {
   "cell_type": "code",
   "execution_count": 43,
   "id": "progressive-mitchell",
   "metadata": {},
   "outputs": [
    {
     "name": "stdout",
     "output_type": "stream",
     "text": [
      "3177/37930 subreddits with sufficient counts for authors\n"
     ]
    }
   ],
   "source": [
    "subreddit_author_lists = author_data.groupby('subreddit').apply(lambda x: x.loc[:, 'author'].values)\n",
    "min_author_count = 100\n",
    "valid_subreddit_author_lists = subreddit_author_lists[subreddit_author_lists.apply(lambda x: len(x) >= min_author_count)]\n",
    "valid_subreddits = set(valid_subreddit_author_lists.index)\n",
    "print(f'{len(valid_subreddit_author_lists)}/{len(subreddit_author_lists)} subreddits with sufficient counts for authors')"
   ]
  },
  {
   "cell_type": "markdown",
   "id": "advance-dress",
   "metadata": {},
   "source": [
    "Does this still give us decent coverage over authors?"
   ]
  },
  {
   "cell_type": "code",
   "execution_count": 44,
   "id": "organic-setting",
   "metadata": {},
   "outputs": [
    {
     "name": "stdout",
     "output_type": "stream",
     "text": [
      "28615/28663 authors with at least one valid subreddit\n"
     ]
    }
   ],
   "source": [
    "author_subreddit_lists = author_data.groupby('author').apply(lambda x: x.loc[:, 'subreddit'].values)\n",
    "valid_author_subreddit_lists = author_subreddit_lists[author_subreddit_lists.apply(lambda x: len(set(x) & valid_subreddits) > 0)]\n",
    "print(f'{len(valid_author_subreddit_lists)}/{len(author_subreddit_lists)} authors with at least one valid subreddit')"
   ]
  },
  {
   "cell_type": "code",
   "execution_count": 45,
   "id": "bottom-daughter",
   "metadata": {
    "scrolled": true
   },
   "outputs": [
    {
     "name": "stdout",
     "output_type": "stream",
     "text": [
      "(3177, 28615)\n"
     ]
    }
   ],
   "source": [
    "## generate subreddit-author matrix\n",
    "valid_subreddit_author_str = valid_subreddit_author_lists.apply(lambda x: ' '.join(x))\n",
    "from sklearn.feature_extraction.text import CountVectorizer\n",
    "cv = CountVectorizer(min_df=0., max_df=1., tokenizer=lambda x: x.split(' '))\n",
    "subreddit_author_dtm = cv.fit_transform(valid_subreddit_author_str)\n",
    "print(subreddit_author_dtm.shape)"
   ]
  },
  {
   "cell_type": "code",
   "execution_count": 46,
   "id": "foster-weekend",
   "metadata": {},
   "outputs": [
    {
     "name": "stdout",
     "output_type": "stream",
     "text": [
      "(3177, 28615)\n"
     ]
    }
   ],
   "source": [
    "## convert to probabilities\n",
    "subreddit_author_probs = subreddit_author_dtm / subreddit_author_dtm.sum(axis=1)\n",
    "print(subreddit_author_probs.shape)"
   ]
  },
  {
   "cell_type": "code",
   "execution_count": 47,
   "id": "composite-remainder",
   "metadata": {},
   "outputs": [
    {
     "name": "stdout",
     "output_type": "stream",
     "text": [
      "(3177, 100)\n"
     ]
    },
    {
     "data": {
      "text/html": [
       "<div>\n",
       "<style scoped>\n",
       "    .dataframe tbody tr th:only-of-type {\n",
       "        vertical-align: middle;\n",
       "    }\n",
       "\n",
       "    .dataframe tbody tr th {\n",
       "        vertical-align: top;\n",
       "    }\n",
       "\n",
       "    .dataframe thead th {\n",
       "        text-align: right;\n",
       "    }\n",
       "</style>\n",
       "<table border=\"1\" class=\"dataframe\">\n",
       "  <thead>\n",
       "    <tr style=\"text-align: right;\">\n",
       "      <th></th>\n",
       "      <th>0</th>\n",
       "      <th>1</th>\n",
       "      <th>2</th>\n",
       "      <th>3</th>\n",
       "      <th>4</th>\n",
       "      <th>5</th>\n",
       "      <th>6</th>\n",
       "      <th>7</th>\n",
       "      <th>8</th>\n",
       "      <th>9</th>\n",
       "      <th>...</th>\n",
       "      <th>90</th>\n",
       "      <th>91</th>\n",
       "      <th>92</th>\n",
       "      <th>93</th>\n",
       "      <th>94</th>\n",
       "      <th>95</th>\n",
       "      <th>96</th>\n",
       "      <th>97</th>\n",
       "      <th>98</th>\n",
       "      <th>99</th>\n",
       "    </tr>\n",
       "    <tr>\n",
       "      <th>subreddit</th>\n",
       "      <th></th>\n",
       "      <th></th>\n",
       "      <th></th>\n",
       "      <th></th>\n",
       "      <th></th>\n",
       "      <th></th>\n",
       "      <th></th>\n",
       "      <th></th>\n",
       "      <th></th>\n",
       "      <th></th>\n",
       "      <th></th>\n",
       "      <th></th>\n",
       "      <th></th>\n",
       "      <th></th>\n",
       "      <th></th>\n",
       "      <th></th>\n",
       "      <th></th>\n",
       "      <th></th>\n",
       "      <th></th>\n",
       "      <th></th>\n",
       "      <th></th>\n",
       "    </tr>\n",
       "  </thead>\n",
       "  <tbody>\n",
       "    <tr>\n",
       "      <th>1200isfineIGUESSugh</th>\n",
       "      <td>-5.452577e-07</td>\n",
       "      <td>2.088829e-07</td>\n",
       "      <td>2.085616e-07</td>\n",
       "      <td>3.118038e-07</td>\n",
       "      <td>3.252644e-07</td>\n",
       "      <td>-2.974917e-07</td>\n",
       "      <td>5.974818e-08</td>\n",
       "      <td>-7.892986e-07</td>\n",
       "      <td>4.927101e-06</td>\n",
       "      <td>3.277223e-06</td>\n",
       "      <td>...</td>\n",
       "      <td>-0.000024</td>\n",
       "      <td>-0.000025</td>\n",
       "      <td>-0.000102</td>\n",
       "      <td>-0.000039</td>\n",
       "      <td>0.000046</td>\n",
       "      <td>0.000007</td>\n",
       "      <td>0.000011</td>\n",
       "      <td>0.000056</td>\n",
       "      <td>0.000020</td>\n",
       "      <td>-0.000007</td>\n",
       "    </tr>\n",
       "    <tr>\n",
       "      <th>1200isplenty</th>\n",
       "      <td>-1.426935e-07</td>\n",
       "      <td>2.027698e-07</td>\n",
       "      <td>2.190879e-06</td>\n",
       "      <td>1.560345e-06</td>\n",
       "      <td>1.640374e-06</td>\n",
       "      <td>1.109187e-06</td>\n",
       "      <td>-1.466889e-06</td>\n",
       "      <td>1.676484e-06</td>\n",
       "      <td>4.200482e-06</td>\n",
       "      <td>6.757589e-07</td>\n",
       "      <td>...</td>\n",
       "      <td>0.000010</td>\n",
       "      <td>0.000095</td>\n",
       "      <td>-0.000187</td>\n",
       "      <td>-0.000069</td>\n",
       "      <td>0.000082</td>\n",
       "      <td>-0.000185</td>\n",
       "      <td>-0.000119</td>\n",
       "      <td>0.000001</td>\n",
       "      <td>0.000167</td>\n",
       "      <td>-0.000299</td>\n",
       "    </tr>\n",
       "    <tr>\n",
       "      <th>13or30</th>\n",
       "      <td>-1.509998e-06</td>\n",
       "      <td>3.055125e-06</td>\n",
       "      <td>-1.942199e-06</td>\n",
       "      <td>1.302023e-06</td>\n",
       "      <td>-6.367977e-06</td>\n",
       "      <td>2.381944e-07</td>\n",
       "      <td>3.594964e-07</td>\n",
       "      <td>-1.509946e-05</td>\n",
       "      <td>-5.182715e-06</td>\n",
       "      <td>9.801109e-06</td>\n",
       "      <td>...</td>\n",
       "      <td>-0.000846</td>\n",
       "      <td>-0.000396</td>\n",
       "      <td>-0.001457</td>\n",
       "      <td>0.001118</td>\n",
       "      <td>0.000620</td>\n",
       "      <td>0.000993</td>\n",
       "      <td>0.001908</td>\n",
       "      <td>0.000546</td>\n",
       "      <td>0.000034</td>\n",
       "      <td>-0.001016</td>\n",
       "    </tr>\n",
       "    <tr>\n",
       "      <th>1500isplenty</th>\n",
       "      <td>-9.640273e-07</td>\n",
       "      <td>8.400015e-07</td>\n",
       "      <td>9.141666e-07</td>\n",
       "      <td>-1.547069e-06</td>\n",
       "      <td>-2.714876e-06</td>\n",
       "      <td>6.084667e-07</td>\n",
       "      <td>-2.880248e-06</td>\n",
       "      <td>-3.998785e-07</td>\n",
       "      <td>1.256640e-06</td>\n",
       "      <td>3.542584e-06</td>\n",
       "      <td>...</td>\n",
       "      <td>0.000195</td>\n",
       "      <td>0.000060</td>\n",
       "      <td>-0.000042</td>\n",
       "      <td>-0.000174</td>\n",
       "      <td>-0.000095</td>\n",
       "      <td>-0.000115</td>\n",
       "      <td>0.000129</td>\n",
       "      <td>-0.000171</td>\n",
       "      <td>-0.000122</td>\n",
       "      <td>-0.000206</td>\n",
       "    </tr>\n",
       "    <tr>\n",
       "      <th>196</th>\n",
       "      <td>1.311113e-07</td>\n",
       "      <td>5.068337e-07</td>\n",
       "      <td>-7.630059e-07</td>\n",
       "      <td>2.653959e-07</td>\n",
       "      <td>1.212445e-06</td>\n",
       "      <td>-7.157427e-07</td>\n",
       "      <td>-1.933861e-06</td>\n",
       "      <td>3.577642e-07</td>\n",
       "      <td>-3.720890e-08</td>\n",
       "      <td>-3.499230e-06</td>\n",
       "      <td>...</td>\n",
       "      <td>0.000087</td>\n",
       "      <td>-0.000021</td>\n",
       "      <td>-0.000024</td>\n",
       "      <td>-0.000084</td>\n",
       "      <td>-0.000070</td>\n",
       "      <td>0.000021</td>\n",
       "      <td>0.000023</td>\n",
       "      <td>-0.000057</td>\n",
       "      <td>0.000140</td>\n",
       "      <td>-0.000103</td>\n",
       "    </tr>\n",
       "  </tbody>\n",
       "</table>\n",
       "<p>5 rows × 100 columns</p>\n",
       "</div>"
      ],
      "text/plain": [
       "                               0             1             2             3   \\\n",
       "subreddit                                                                     \n",
       "1200isfineIGUESSugh -5.452577e-07  2.088829e-07  2.085616e-07  3.118038e-07   \n",
       "1200isplenty        -1.426935e-07  2.027698e-07  2.190879e-06  1.560345e-06   \n",
       "13or30              -1.509998e-06  3.055125e-06 -1.942199e-06  1.302023e-06   \n",
       "1500isplenty        -9.640273e-07  8.400015e-07  9.141666e-07 -1.547069e-06   \n",
       "196                  1.311113e-07  5.068337e-07 -7.630059e-07  2.653959e-07   \n",
       "\n",
       "                               4             5             6             7   \\\n",
       "subreddit                                                                     \n",
       "1200isfineIGUESSugh  3.252644e-07 -2.974917e-07  5.974818e-08 -7.892986e-07   \n",
       "1200isplenty         1.640374e-06  1.109187e-06 -1.466889e-06  1.676484e-06   \n",
       "13or30              -6.367977e-06  2.381944e-07  3.594964e-07 -1.509946e-05   \n",
       "1500isplenty        -2.714876e-06  6.084667e-07 -2.880248e-06 -3.998785e-07   \n",
       "196                  1.212445e-06 -7.157427e-07 -1.933861e-06  3.577642e-07   \n",
       "\n",
       "                               8             9   ...        90        91  \\\n",
       "subreddit                                        ...                       \n",
       "1200isfineIGUESSugh  4.927101e-06  3.277223e-06  ... -0.000024 -0.000025   \n",
       "1200isplenty         4.200482e-06  6.757589e-07  ...  0.000010  0.000095   \n",
       "13or30              -5.182715e-06  9.801109e-06  ... -0.000846 -0.000396   \n",
       "1500isplenty         1.256640e-06  3.542584e-06  ...  0.000195  0.000060   \n",
       "196                 -3.720890e-08 -3.499230e-06  ...  0.000087 -0.000021   \n",
       "\n",
       "                           92        93        94        95        96  \\\n",
       "subreddit                                                               \n",
       "1200isfineIGUESSugh -0.000102 -0.000039  0.000046  0.000007  0.000011   \n",
       "1200isplenty        -0.000187 -0.000069  0.000082 -0.000185 -0.000119   \n",
       "13or30              -0.001457  0.001118  0.000620  0.000993  0.001908   \n",
       "1500isplenty        -0.000042 -0.000174 -0.000095 -0.000115  0.000129   \n",
       "196                 -0.000024 -0.000084 -0.000070  0.000021  0.000023   \n",
       "\n",
       "                           97        98        99  \n",
       "subreddit                                          \n",
       "1200isfineIGUESSugh  0.000056  0.000020 -0.000007  \n",
       "1200isplenty         0.000001  0.000167 -0.000299  \n",
       "13or30               0.000546  0.000034 -0.001016  \n",
       "1500isplenty        -0.000171 -0.000122 -0.000206  \n",
       "196                 -0.000057  0.000140 -0.000103  \n",
       "\n",
       "[5 rows x 100 columns]"
      ]
     },
     "metadata": {},
     "output_type": "display_data"
    }
   ],
   "source": [
    "## factorize me Cap'n\n",
    "from sklearn.decomposition import TruncatedSVD\n",
    "n_components = 100\n",
    "svd = TruncatedSVD(n_components=n_components)\n",
    "subreddit_svd_embeds = svd.fit_transform(subreddit_author_probs)\n",
    "## add subreddit info\n",
    "subreddit_svd_embeds = pd.DataFrame(subreddit_svd_embeds, index=valid_subreddit_author_lists.index)\n",
    "print(subreddit_svd_embeds.shape)\n",
    "display(subreddit_svd_embeds.head())"
   ]
  },
  {
   "cell_type": "markdown",
   "id": "static-expense",
   "metadata": {},
   "source": [
    "Do we see reasonable \"nearest neighbors\" for the subreddits?"
   ]
  },
  {
   "cell_type": "code",
   "execution_count": 48,
   "id": "needed-thailand",
   "metadata": {
    "scrolled": true
   },
   "outputs": [
    {
     "name": "stdout",
     "output_type": "stream",
     "text": [
      "**** subreddit=Advice ****\n",
      "subreddit\n",
      "Volkswagen         0.715325\n",
      "Porsche            0.709080\n",
      "Golf_R             0.695495\n",
      "tipofmyjoystick    0.690460\n",
      "CatsAreAssholes    0.672796\n",
      "marvelstudios      0.668938\n",
      "GolfGTI            0.646163\n",
      "McMansionHell      0.594785\n",
      "networking         0.570435\n",
      "homelab            0.559444\n",
      "dtype: float64\n",
      "**** subreddit=AmItheAsshole ****\n",
      "subreddit\n",
      "RobinHoodPennyStocks    0.632529\n",
      "Columbus                0.621111\n",
      "Ohio                    0.614692\n",
      "justdependathings       0.608713\n",
      "TeenMomOGandTeenMom2    0.604714\n",
      "Browns                  0.601842\n",
      "BBQ                     0.598387\n",
      "BlueJackets             0.597563\n",
      "MurderedByWords         0.592304\n",
      "needadvice              0.571013\n",
      "dtype: float64\n",
      "**** subreddit=personalfinance ****\n",
      "subreddit\n",
      "WorldOfWarships     0.735031\n",
      "maryland            0.721411\n",
      "BreedingMaterial    0.720796\n",
      "WarshipPorn         0.718353\n",
      "howardstern         0.714661\n",
      "minnesotavikings    0.701985\n",
      "poker               0.692318\n",
      "DippingTobacco      0.688628\n",
      "WoWsBlitz           0.686686\n",
      "washingtonNFL       0.680583\n",
      "dtype: float64\n",
      "**** subreddit=legaladvice ****\n",
      "subreddit\n",
      "tippytaps        0.494277\n",
      "Fitness          0.477693\n",
      "gifs             0.476304\n",
      "MadeMeSmile      0.458240\n",
      "cringe           0.456158\n",
      "OldSchoolCool    0.449982\n",
      "MomForAMinute    0.436293\n",
      "gameofthrones    0.436095\n",
      "watercooling     0.431954\n",
      "SweatyPalms      0.416596\n",
      "dtype: float64\n",
      "**** subreddit=pcmasterrace ****\n",
      "subreddit\n",
      "Louisville            0.655011\n",
      "mildlyinfuriating     0.607482\n",
      "RedditForGrownups     0.584177\n",
      "grandrapids           0.574910\n",
      "nevertellmetheodds    0.570545\n",
      "britishproblems       0.561926\n",
      "SatisfactoryGame      0.555445\n",
      "GameDeals             0.543601\n",
      "Predictor             0.540845\n",
      "RoastMe               0.536723\n",
      "dtype: float64\n"
     ]
    }
   ],
   "source": [
    "# print(subreddit_svd_embeds.loc['Advice', :])\n",
    "from sklearn.metrics.pairwise import cosine_similarity\n",
    "test_subreddits = ['Advice', 'AmItheAsshole', 'personalfinance', 'legaladvice', 'pcmasterrace']\n",
    "top_k = 10\n",
    "for subreddit_i in test_subreddits:\n",
    "    print(f'**** subreddit={subreddit_i} ****')\n",
    "    subreddit_sim_i = cosine_similarity(subreddit_svd_embeds.loc[[subreddit_i], :], subreddit_svd_embeds)[0, :]\n",
    "    subreddit_sim_i = pd.Series(subreddit_sim_i, index=subreddit_svd_embeds.index).sort_values(inplace=False, ascending=False)\n",
    "    print(subreddit_sim_i.iloc[1:(top_k+1)])"
   ]
  },
  {
   "cell_type": "markdown",
   "id": "freelance-citation",
   "metadata": {},
   "source": [
    "Some of these neighbors look decent:\n",
    "- `pcmasterrace` ~ `GameDeals`\n",
    "Most of them look overly specific:\n",
    "- `Advice` ~ `Volkswagen`"
   ]
  },
  {
   "cell_type": "markdown",
   "id": "respective-panic",
   "metadata": {},
   "source": [
    "Instead of using probabilities, let's try using PMI as the metric for each subreddit-author pair."
   ]
  },
  {
   "cell_type": "code",
   "execution_count": 69,
   "id": "loved-tribute",
   "metadata": {},
   "outputs": [],
   "source": [
    "subreddit_probs = subreddit_author_dtm.sum(axis=1) / subreddit_author_dtm.sum().sum()\n",
    "author_probs = subreddit_author_dtm.sum(axis=0) / subreddit_author_dtm.sum().sum()\n",
    "subreddit_author_probs = subreddit_author_dtm / subreddit_author_dtm.sum().sum()\n",
    "subreddit_author_joint_probs = subreddit_probs * author_probs\n",
    "subreddit_author_npmi = -np.log(subreddit_author_probs / subreddit_author_joint_probs)\n",
    "# fix inf errors\n",
    "subreddit_author_npmi[np.isinf(subreddit_author_npmi)] = 0"
   ]
  },
  {
   "cell_type": "code",
   "execution_count": 73,
   "id": "virtual-fitness",
   "metadata": {},
   "outputs": [
    {
     "name": "stdout",
     "output_type": "stream",
     "text": [
      "(3177, 100)\n"
     ]
    },
    {
     "data": {
      "text/html": [
       "<div>\n",
       "<style scoped>\n",
       "    .dataframe tbody tr th:only-of-type {\n",
       "        vertical-align: middle;\n",
       "    }\n",
       "\n",
       "    .dataframe tbody tr th {\n",
       "        vertical-align: top;\n",
       "    }\n",
       "\n",
       "    .dataframe thead th {\n",
       "        text-align: right;\n",
       "    }\n",
       "</style>\n",
       "<table border=\"1\" class=\"dataframe\">\n",
       "  <thead>\n",
       "    <tr style=\"text-align: right;\">\n",
       "      <th></th>\n",
       "      <th>0</th>\n",
       "      <th>1</th>\n",
       "      <th>2</th>\n",
       "      <th>3</th>\n",
       "      <th>4</th>\n",
       "      <th>5</th>\n",
       "      <th>6</th>\n",
       "      <th>7</th>\n",
       "      <th>8</th>\n",
       "      <th>9</th>\n",
       "      <th>...</th>\n",
       "      <th>90</th>\n",
       "      <th>91</th>\n",
       "      <th>92</th>\n",
       "      <th>93</th>\n",
       "      <th>94</th>\n",
       "      <th>95</th>\n",
       "      <th>96</th>\n",
       "      <th>97</th>\n",
       "      <th>98</th>\n",
       "      <th>99</th>\n",
       "    </tr>\n",
       "    <tr>\n",
       "      <th>subreddit</th>\n",
       "      <th></th>\n",
       "      <th></th>\n",
       "      <th></th>\n",
       "      <th></th>\n",
       "      <th></th>\n",
       "      <th></th>\n",
       "      <th></th>\n",
       "      <th></th>\n",
       "      <th></th>\n",
       "      <th></th>\n",
       "      <th></th>\n",
       "      <th></th>\n",
       "      <th></th>\n",
       "      <th></th>\n",
       "      <th></th>\n",
       "      <th></th>\n",
       "      <th></th>\n",
       "      <th></th>\n",
       "      <th></th>\n",
       "      <th></th>\n",
       "      <th></th>\n",
       "    </tr>\n",
       "  </thead>\n",
       "  <tbody>\n",
       "    <tr>\n",
       "      <th>1200isfineIGUESSugh</th>\n",
       "      <td>1.205121</td>\n",
       "      <td>-1.147229</td>\n",
       "      <td>0.955265</td>\n",
       "      <td>0.424174</td>\n",
       "      <td>-1.528973</td>\n",
       "      <td>-0.946653</td>\n",
       "      <td>-1.403166</td>\n",
       "      <td>0.756910</td>\n",
       "      <td>-0.221747</td>\n",
       "      <td>-0.572317</td>\n",
       "      <td>...</td>\n",
       "      <td>-0.822816</td>\n",
       "      <td>-0.453225</td>\n",
       "      <td>0.158153</td>\n",
       "      <td>-0.592284</td>\n",
       "      <td>-0.264219</td>\n",
       "      <td>-0.089661</td>\n",
       "      <td>-0.023626</td>\n",
       "      <td>-0.250020</td>\n",
       "      <td>0.674514</td>\n",
       "      <td>-0.039629</td>\n",
       "    </tr>\n",
       "    <tr>\n",
       "      <th>1200isplenty</th>\n",
       "      <td>4.832192</td>\n",
       "      <td>-5.951249</td>\n",
       "      <td>3.253389</td>\n",
       "      <td>2.242349</td>\n",
       "      <td>-4.668701</td>\n",
       "      <td>-3.208919</td>\n",
       "      <td>-4.208803</td>\n",
       "      <td>1.248052</td>\n",
       "      <td>0.103779</td>\n",
       "      <td>-2.067515</td>\n",
       "      <td>...</td>\n",
       "      <td>-2.449297</td>\n",
       "      <td>0.534217</td>\n",
       "      <td>-0.486003</td>\n",
       "      <td>-2.316235</td>\n",
       "      <td>-1.171077</td>\n",
       "      <td>-0.168496</td>\n",
       "      <td>-2.177577</td>\n",
       "      <td>-0.523255</td>\n",
       "      <td>0.303372</td>\n",
       "      <td>0.372297</td>\n",
       "    </tr>\n",
       "    <tr>\n",
       "      <th>13or30</th>\n",
       "      <td>5.933591</td>\n",
       "      <td>1.333307</td>\n",
       "      <td>3.905073</td>\n",
       "      <td>-2.849368</td>\n",
       "      <td>0.990872</td>\n",
       "      <td>-0.709703</td>\n",
       "      <td>-0.428899</td>\n",
       "      <td>0.147984</td>\n",
       "      <td>-0.348089</td>\n",
       "      <td>0.298141</td>\n",
       "      <td>...</td>\n",
       "      <td>-0.389256</td>\n",
       "      <td>-0.921148</td>\n",
       "      <td>0.447976</td>\n",
       "      <td>0.766172</td>\n",
       "      <td>-0.336744</td>\n",
       "      <td>-1.980821</td>\n",
       "      <td>0.285599</td>\n",
       "      <td>-0.083067</td>\n",
       "      <td>-0.503754</td>\n",
       "      <td>-0.667090</td>\n",
       "    </tr>\n",
       "    <tr>\n",
       "      <th>1500isplenty</th>\n",
       "      <td>1.682105</td>\n",
       "      <td>-1.485067</td>\n",
       "      <td>0.899838</td>\n",
       "      <td>0.480509</td>\n",
       "      <td>-1.178018</td>\n",
       "      <td>-0.859904</td>\n",
       "      <td>-1.086687</td>\n",
       "      <td>0.531295</td>\n",
       "      <td>0.074114</td>\n",
       "      <td>-0.096030</td>\n",
       "      <td>...</td>\n",
       "      <td>-0.735353</td>\n",
       "      <td>-0.075142</td>\n",
       "      <td>-0.953684</td>\n",
       "      <td>-0.403412</td>\n",
       "      <td>-0.531001</td>\n",
       "      <td>0.137837</td>\n",
       "      <td>0.085817</td>\n",
       "      <td>0.160297</td>\n",
       "      <td>0.002467</td>\n",
       "      <td>0.600610</td>\n",
       "    </tr>\n",
       "    <tr>\n",
       "      <th>196</th>\n",
       "      <td>3.186235</td>\n",
       "      <td>3.877340</td>\n",
       "      <td>1.641876</td>\n",
       "      <td>-0.766720</td>\n",
       "      <td>-0.675611</td>\n",
       "      <td>3.024258</td>\n",
       "      <td>-1.217627</td>\n",
       "      <td>2.635424</td>\n",
       "      <td>1.847366</td>\n",
       "      <td>-0.061296</td>\n",
       "      <td>...</td>\n",
       "      <td>-0.366855</td>\n",
       "      <td>0.699104</td>\n",
       "      <td>-0.700001</td>\n",
       "      <td>1.263916</td>\n",
       "      <td>-0.761661</td>\n",
       "      <td>0.137847</td>\n",
       "      <td>-0.306674</td>\n",
       "      <td>-0.849755</td>\n",
       "      <td>-0.661184</td>\n",
       "      <td>-0.658028</td>\n",
       "    </tr>\n",
       "  </tbody>\n",
       "</table>\n",
       "<p>5 rows × 100 columns</p>\n",
       "</div>"
      ],
      "text/plain": [
       "                           0         1         2         3         4   \\\n",
       "subreddit                                                               \n",
       "1200isfineIGUESSugh  1.205121 -1.147229  0.955265  0.424174 -1.528973   \n",
       "1200isplenty         4.832192 -5.951249  3.253389  2.242349 -4.668701   \n",
       "13or30               5.933591  1.333307  3.905073 -2.849368  0.990872   \n",
       "1500isplenty         1.682105 -1.485067  0.899838  0.480509 -1.178018   \n",
       "196                  3.186235  3.877340  1.641876 -0.766720 -0.675611   \n",
       "\n",
       "                           5         6         7         8         9   ...  \\\n",
       "subreddit                                                              ...   \n",
       "1200isfineIGUESSugh -0.946653 -1.403166  0.756910 -0.221747 -0.572317  ...   \n",
       "1200isplenty        -3.208919 -4.208803  1.248052  0.103779 -2.067515  ...   \n",
       "13or30              -0.709703 -0.428899  0.147984 -0.348089  0.298141  ...   \n",
       "1500isplenty        -0.859904 -1.086687  0.531295  0.074114 -0.096030  ...   \n",
       "196                  3.024258 -1.217627  2.635424  1.847366 -0.061296  ...   \n",
       "\n",
       "                           90        91        92        93        94  \\\n",
       "subreddit                                                               \n",
       "1200isfineIGUESSugh -0.822816 -0.453225  0.158153 -0.592284 -0.264219   \n",
       "1200isplenty        -2.449297  0.534217 -0.486003 -2.316235 -1.171077   \n",
       "13or30              -0.389256 -0.921148  0.447976  0.766172 -0.336744   \n",
       "1500isplenty        -0.735353 -0.075142 -0.953684 -0.403412 -0.531001   \n",
       "196                 -0.366855  0.699104 -0.700001  1.263916 -0.761661   \n",
       "\n",
       "                           95        96        97        98        99  \n",
       "subreddit                                                              \n",
       "1200isfineIGUESSugh -0.089661 -0.023626 -0.250020  0.674514 -0.039629  \n",
       "1200isplenty        -0.168496 -2.177577 -0.523255  0.303372  0.372297  \n",
       "13or30              -1.980821  0.285599 -0.083067 -0.503754 -0.667090  \n",
       "1500isplenty         0.137837  0.085817  0.160297  0.002467  0.600610  \n",
       "196                  0.137847 -0.306674 -0.849755 -0.661184 -0.658028  \n",
       "\n",
       "[5 rows x 100 columns]"
      ]
     },
     "metadata": {},
     "output_type": "display_data"
    }
   ],
   "source": [
    "n_components = 100\n",
    "svd = TruncatedSVD(n_components=n_components)\n",
    "subreddit_npmi_embeds = svd.fit_transform(subreddit_author_npmi)\n",
    "## add subreddit info\n",
    "subreddit_npmi_embeds = pd.DataFrame(subreddit_npmi_embeds, index=valid_subreddit_author_lists.index)\n",
    "print(subreddit_npmi_embeds.shape)\n",
    "display(subreddit_npmi_embeds.head())"
   ]
  },
  {
   "cell_type": "code",
   "execution_count": 75,
   "id": "effective-renaissance",
   "metadata": {
    "scrolled": true
   },
   "outputs": [
    {
     "name": "stdout",
     "output_type": "stream",
     "text": [
      "**** subreddit=Advice ****\n",
      "subreddit\n",
      "Crushes            0.508069\n",
      "questions          0.456777\n",
      "ask                0.440178\n",
      "depression_help    0.437396\n",
      "help               0.407496\n",
      "LongDistance       0.403750\n",
      "FreeKarma4You      0.397770\n",
      "mentalhealth       0.386592\n",
      "Vent               0.385725\n",
      "Needafriend        0.383394\n",
      "dtype: float64\n",
      "**** subreddit=AmItheAsshole ****\n",
      "subreddit\n",
      "AmItheButtface       0.630355\n",
      "AmITheDevil          0.584822\n",
      "UCDavis              0.536262\n",
      "SarahBowmar          0.504433\n",
      "riverdale            0.490253\n",
      "greysanatomy         0.459068\n",
      "glee                 0.450126\n",
      "childfree            0.433288\n",
      "HPHogwartsMystery    0.427751\n",
      "massage              0.423105\n",
      "dtype: float64\n",
      "**** subreddit=personalfinance ****\n",
      "subreddit\n",
      "churning                 0.786400\n",
      "CreditCards              0.781209\n",
      "ynab                     0.744740\n",
      "awardtravel              0.728706\n",
      "tax                      0.705419\n",
      "StudentLoans             0.673530\n",
      "retirement               0.663772\n",
      "financialindependence    0.656748\n",
      "googlefiber              0.579742\n",
      "DaveRamsey               0.574821\n",
      "dtype: float64\n",
      "**** subreddit=legaladvice ****\n",
      "subreddit\n",
      "Insurance              0.682513\n",
      "HOA                    0.653835\n",
      "LawSchool              0.653028\n",
      "LawFirm                0.625752\n",
      "legaladviceofftopic    0.612832\n",
      "bestoflegaladvice      0.515500\n",
      "Bankruptcy             0.492362\n",
      "orangetheory           0.480712\n",
      "Ask_Lawyers            0.471439\n",
      "lawschooladmissions    0.460953\n",
      "dtype: float64\n",
      "**** subreddit=pcmasterrace ****\n",
      "subreddit\n",
      "Corsair               0.657799\n",
      "cemu                  0.648771\n",
      "LinusTechTips         0.621055\n",
      "PUBATTLEGROUNDS       0.592634\n",
      "Sub4Sub               0.590788\n",
      "needforspeed          0.589819\n",
      "PcMasterRaceBuilds    0.575039\n",
      "LogitechG             0.571145\n",
      "bapcsalesaustralia    0.568958\n",
      "NZXT                  0.554516\n",
      "dtype: float64\n"
     ]
    }
   ],
   "source": [
    "## test nearest neighbors\n",
    "test_subreddits = ['Advice', 'AmItheAsshole', 'personalfinance', 'legaladvice', 'pcmasterrace']\n",
    "top_k = 10\n",
    "for subreddit_i in test_subreddits:\n",
    "    print(f'**** subreddit={subreddit_i} ****')\n",
    "    subreddit_sim_i = cosine_similarity(subreddit_npmi_embeds.loc[[subreddit_i], :], subreddit_npmi_embeds)[0, :]\n",
    "    subreddit_sim_i = pd.Series(subreddit_sim_i, index=subreddit_npmi_embeds.index).sort_values(inplace=False, ascending=False)\n",
    "    print(subreddit_sim_i.iloc[1:(top_k+1)])"
   ]
  },
  {
   "cell_type": "markdown",
   "id": "fourth-difference",
   "metadata": {},
   "source": [
    "Much better! We see actually relevant subreddits in all of the to-K neighbors."
   ]
  },
  {
   "cell_type": "markdown",
   "id": "hired-guest",
   "metadata": {},
   "source": [
    "Let's use these representations to compute \"reader\" representations: we'll take the mean subreddit embedding for each author, over all prior posts."
   ]
  },
  {
   "cell_type": "markdown",
   "id": "geological-nigeria",
   "metadata": {},
   "source": [
    "### Generate embeddings for different time periods\n",
    "It would be \"cheating\" to generate one set of embeddings over the whole dataset: if we learn subreddit embeddings from 2018-2019 and then provide those embeddings to an author in 2018, then we're allowing future information to bias the embeddings away from the past.\n",
    "\n",
    "Let's try to generate embeddings in \"chunks\" that we can provide to future authors."
   ]
  },
  {
   "cell_type": "code",
   "execution_count": 87,
   "id": "thirty-traveler",
   "metadata": {
    "scrolled": true
   },
   "outputs": [],
   "source": [
    "## split data by time\n",
    "from datetime import datetime\n",
    "import numpy as np\n",
    "import re\n",
    "num_matcher = re.compile('\\d+\\.\\d+')\n",
    "clean_date_author_data = author_data[author_data.loc[:, 'created_utc'].apply(lambda x: num_matcher.match(str(x)) is not None)]\n",
    "clean_date_author_data = clean_date_author_data.assign(**{\n",
    "    'date' : clean_date_author_data.loc[:, 'created_utc'].apply(lambda x: datetime.fromtimestamp(int(float(x))))\n",
    "})\n",
    "clean_date_author_data = clean_date_author_data.assign(**{\n",
    "    'date_day' : clean_date_author_data.loc[:, 'date'].apply(lambda x: datetime(year=x.year, month=x.month, day=x.day))\n",
    "})"
   ]
  },
  {
   "cell_type": "code",
   "execution_count": 90,
   "id": "rotary-analyst",
   "metadata": {},
   "outputs": [
    {
     "data": {
      "image/png": "[encoded data removed]",
      "text/plain": [
       "<Figure size 432x288 with 1 Axes>"
      ]
     },
     "metadata": {
      "needs_background": "light"
     },
     "output_type": "display_data"
    }
   ],
   "source": [
    "plt.hist(clean_date_author_data.loc[:, 'date_day'])\n",
    "plt.yscale('log')\n",
    "plt.xlabel('Comment date')\n",
    "plt.show()"
   ]
  },
  {
   "cell_type": "markdown",
   "id": "extreme-keyboard",
   "metadata": {},
   "source": [
    "We originally collected comments from 2018-2019, so this skew in the data is to be expected!\n",
    "\n",
    "Let's specify the following time periods to use for learning embeddings:\n",
    "- 2008-2018\n",
    "- 2018/01-2018/06\n",
    "- 2018/07-2018/12\n",
    "- 2019/01-2019/06\n",
    "\n",
    "It's not ideal but it should capture enough diversity in the data to provide robust subreddit embeddings."
   ]
  },
  {
   "cell_type": "code",
   "execution_count": 104,
   "id": "handled-visitor",
   "metadata": {
    "scrolled": true
   },
   "outputs": [
    {
     "name": "stdout",
     "output_type": "stream",
     "text": [
      "-1            1886504\n",
      "2019-07-01     204784\n",
      "2019-01-01     121107\n",
      "2018-07-01      61007\n",
      "2018-01-01      56983\n",
      "Name: date_day_bin, dtype: int64\n"
     ]
    }
   ],
   "source": [
    "author_time_periods = [\n",
    "    (2018, 1, 1),\n",
    "    (2018, 7, 1),\n",
    "    (2019, 1, 1),\n",
    "    (2019, 7, 1),\n",
    "]\n",
    "author_time_periods = list(map(lambda x: datetime(year=x[0], month=x[1], day=x[2]).timestamp(), author_time_periods))\n",
    "clean_date_author_data = clean_date_author_data.assign(**{\n",
    "    'date_day_bin' : np.digitize(clean_date_author_data.loc[:, 'date_day'].apply(lambda x: x.timestamp()), bins=author_time_periods)\n",
    "})\n",
    "date_fmt = '%Y-%m-%d'\n",
    "clean_date_author_data = clean_date_author_data.assign(**{\n",
    "    'date_day_bin' : clean_date_author_data.loc[:, 'date_day_bin'].apply(lambda x: datetime.strftime(datetime.fromtimestamp(author_time_periods[x]), date_fmt) if x < len(author_time_periods) else -1)\n",
    "})\n",
    "print(clean_date_author_data.loc[:, 'date_day_bin'].value_counts())"
   ]
  },
  {
   "cell_type": "code",
   "execution_count": 105,
   "id": "recreational-immigration",
   "metadata": {},
   "outputs": [],
   "source": [
    "valid_date_bin_author_data = clean_date_author_data[clean_date_author_data.loc[:, 'date_day_bin']!=-1]"
   ]
  },
  {
   "cell_type": "code",
   "execution_count": 107,
   "id": "verified-smooth",
   "metadata": {},
   "outputs": [],
   "source": [
    "## quick and dirty embedding code lol\n",
    "from sklearn.feature_extraction.text import CountVectorizer\n",
    "from sklearn.decomposition import TruncatedSVD\n",
    "def generate_embeddings(data, min_author_count=20):\n",
    "    ## remove low-count subreddits\n",
    "    subreddit_counts = data.groupby('subreddit').apply(lambda x: x.loc[:, 'author'].nunique())\n",
    "    high_freq_subreddits = set(subreddit_counts[subreddit_counts >= min_author_count].index.tolist())\n",
    "    data = data[data.loc[:, 'subreddit'].isin(high_freq_subreddits)]\n",
    "    ## generate subreddit-author matrix\n",
    "    subreddit_author_lists = data.groupby('subreddit').apply(lambda x: x.loc[:, 'author'].values)\n",
    "    min_author_count = 100\n",
    "    valid_subreddit_author_lists = subreddit_author_lists[subreddit_author_lists.apply(lambda x: len(x) >= min_author_count)]\n",
    "    valid_subreddit_author_str = valid_subreddit_author_lists.apply(lambda x: ' '.join(x))\n",
    "    cv = CountVectorizer(min_df=0., max_df=1., tokenizer=lambda x: x.split(' '))\n",
    "    subreddit_author_dtm = cv.fit_transform(valid_subreddit_author_str)\n",
    "    ## compute NPMI\n",
    "    subreddit_probs = subreddit_author_dtm.sum(axis=1) / subreddit_author_dtm.sum().sum()\n",
    "    author_probs = subreddit_author_dtm.sum(axis=0) / subreddit_author_dtm.sum().sum()\n",
    "    subreddit_author_probs = subreddit_author_dtm / subreddit_author_dtm.sum().sum()\n",
    "    subreddit_author_joint_probs = subreddit_probs * author_probs\n",
    "    subreddit_author_npmi = -np.log(subreddit_author_probs / subreddit_author_joint_probs)\n",
    "    # fix inf errors\n",
    "    subreddit_author_npmi[np.isinf(subreddit_author_npmi)] = 0\n",
    "    # SVD\n",
    "    n_components = 100\n",
    "    svd = TruncatedSVD(n_components=n_components)\n",
    "    subreddit_npmi_embeds = svd.fit_transform(subreddit_author_npmi)\n",
    "    ## add subreddit info\n",
    "    subreddit_npmi_embeds = pd.DataFrame(subreddit_npmi_embeds, index=valid_subreddit_author_lists.index)\n",
    "    return subreddit_npmi_embeds"
   ]
  },
  {
   "cell_type": "code",
   "execution_count": 108,
   "id": "corresponding-paint",
   "metadata": {},
   "outputs": [
    {
     "name": "stderr",
     "output_type": "stream",
     "text": [
      "<ipython-input-107-bbf6b2bbb6fa>:21: RuntimeWarning: divide by zero encountered in log\n",
      "  subreddit_author_npmi = -np.log(subreddit_author_probs / subreddit_author_joint_probs)\n",
      "<ipython-input-107-bbf6b2bbb6fa>:21: RuntimeWarning: divide by zero encountered in log\n",
      "  subreddit_author_npmi = -np.log(subreddit_author_probs / subreddit_author_joint_probs)\n",
      "<ipython-input-107-bbf6b2bbb6fa>:21: RuntimeWarning: divide by zero encountered in log\n",
      "  subreddit_author_npmi = -np.log(subreddit_author_probs / subreddit_author_joint_probs)\n",
      "<ipython-input-107-bbf6b2bbb6fa>:21: RuntimeWarning: divide by zero encountered in log\n",
      "  subreddit_author_npmi = -np.log(subreddit_author_probs / subreddit_author_joint_probs)\n",
      "<ipython-input-107-bbf6b2bbb6fa>:21: RuntimeWarning: divide by zero encountered in log\n",
      "  subreddit_author_npmi = -np.log(subreddit_author_probs / subreddit_author_joint_probs)\n"
     ]
    }
   ],
   "source": [
    "## get embeddings for each date bin\n",
    "date_bin_embeddings = []\n",
    "for date_i, data_i in clean_date_author_data.groupby('date_day_bin'):\n",
    "    embeds_i = generate_embeddings(data_i)\n",
    "    date_bin_embeddings.append([date_i, embeds_i])"
   ]
  },
  {
   "cell_type": "code",
   "execution_count": null,
   "id": "alive-walker",
   "metadata": {},
   "outputs": [],
   "source": []
  }
 ],
 "metadata": {
  "kernelspec": {
   "display_name": "Python [conda env:py3] *",
   "language": "python",
   "name": "conda-env-py3-py"
  },
  "language_info": {
   "codemirror_mode": {
    "name": "ipython",
    "version": 3
   },
   "file_extension": ".py",
   "mimetype": "text/x-python",
   "name": "python",
   "nbconvert_exporter": "python",
   "pygments_lexer": "ipython3",
   "version": "3.8.5"
  }
 },
 "nbformat": 4,
 "nbformat_minor": 5
}
